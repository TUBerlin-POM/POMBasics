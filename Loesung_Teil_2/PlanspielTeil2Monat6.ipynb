{
 "cells": [
  {
   "cell_type": "markdown",
   "metadata": {
    "slideshow": {
     "slide_type": "slide"
    }
   },
   "source": [
    "## Einrichtung von Julia JuMP\n",
    "---\n",
    "Überprüfen Sie die bereits installierten Pakete. In der JuliaBox sind möglicherweise alle notwendigen Pakete bereits vorhanden."
   ]
  },
  {
   "cell_type": "code",
   "execution_count": 1,
   "metadata": {
    "slideshow": {
     "slide_type": "fragment"
    }
   },
   "outputs": [
    {
     "name": "stdout",
     "output_type": "stream",
     "text": [
      "\u001b[32m\u001b[1mStatus\u001b[22m\u001b[39m `C:\\Users\\krueg\\.julia\\environments\\v1.4\\Project.toml`\n",
      " \u001b[90m [9961bab8]\u001b[39m\u001b[37m Cbc v0.7.0\u001b[39m\n",
      " \u001b[90m [e2554f3b]\u001b[39m\u001b[37m Clp v0.8.0\u001b[39m\n",
      " \u001b[90m [60bf3e95]\u001b[39m\u001b[37m GLPK v0.13.0\u001b[39m\n",
      " \u001b[90m [2e9cd046]\u001b[39m\u001b[37m Gurobi v0.8.0\u001b[39m\n",
      " \u001b[90m [7073ff75]\u001b[39m\u001b[37m IJulia v1.21.2\u001b[39m\n",
      " \u001b[90m [4076af6c]\u001b[39m\u001b[37m JuMP v0.21.2\u001b[39m\n",
      " \u001b[90m [f3b207a7]\u001b[39m\u001b[37m StatsPlots v0.14.6\u001b[39m\n"
     ]
    }
   ],
   "source": [
    "using Pkg;\n",
    "Pkg.status()"
   ]
  },
  {
   "cell_type": "markdown",
   "metadata": {
    "slideshow": {
     "slide_type": "slide"
    }
   },
   "source": [
    "Installieren Sie ``JuMP`` , mit dem Sie einfach Optimierungsprogramme formulieren können, sowie ``Cbc`` einen open-source Solver zum Lösen des Problems, und ``StatsPlots`` zur Visualisierung der Lösung."
   ]
  },
  {
   "cell_type": "code",
   "execution_count": 2,
   "metadata": {
    "slideshow": {
     "slide_type": "fragment"
    }
   },
   "outputs": [],
   "source": [
    "#Pkg.add(\"JuMP\")\n",
    "#Pkg.add(\"Cbc\");\n",
    "#Pkg.add(\"StatsPlots\");"
   ]
  },
  {
   "cell_type": "markdown",
   "metadata": {
    "slideshow": {
     "slide_type": "fragment"
    }
   },
   "source": [
    "Richten Sie die installierten Pakete so ein, dass sie im folgenden Code verwendet werden können."
   ]
  },
  {
   "cell_type": "code",
   "execution_count": 3,
   "metadata": {
    "slideshow": {
     "slide_type": "fragment"
    }
   },
   "outputs": [],
   "source": [
    "using JuMP, Cbc, StatsPlots;"
   ]
  },
  {
   "cell_type": "markdown",
   "metadata": {
    "slideshow": {
     "slide_type": "slide"
    }
   },
   "source": [
    "# Planspiel Schritt 2: Capacitated Lot Sizing Problem\n",
    "\n"
   ]
  },
  {
   "cell_type": "markdown",
   "metadata": {},
   "source": [
    "### Ergebnisse aus Teil 1"
   ]
  },
  {
   "cell_type": "code",
   "execution_count": 4,
   "metadata": {},
   "outputs": [],
   "source": [
    "F_Aggr = [0.0  0.0  0.0  0.0  0.0  0.0\n",
    "         0.0  0.0  0.0  0.0  0.0  0.0\n",
    "         0.0  0.0  0.0  0.0  0.0  0.0];"
   ]
  },
  {
   "cell_type": "code",
   "execution_count": 5,
   "metadata": {},
   "outputs": [],
   "source": [
    "ZAggr = [21.0  6.0  0.0  0.0  38.0  40.0];"
   ]
  },
  {
   "cell_type": "code",
   "execution_count": 6,
   "metadata": {},
   "outputs": [],
   "source": [
    "LAggr = [0.0  0.0  0.0  823.0  902.0  647.0  0.0\n",
    "         0.0  0.0  0.0    0.0    1.0    0.0  0.0\n",
    "         0.0  0.0  0.0    9.0    3.0    1.0  0.0 ];"
   ]
  },
  {
   "cell_type": "markdown",
   "metadata": {
    "slideshow": {
     "slide_type": "slide"
    }
   },
   "source": [
    "## Erstellen Sie das Modell namens ``m`` und geben Sie als zu verwendenden Solver Cbc an.\n",
    "---"
   ]
  },
  {
   "cell_type": "code",
   "execution_count": 7,
   "metadata": {
    "slideshow": {
     "slide_type": "fragment"
    }
   },
   "outputs": [],
   "source": [
    "m = Model(Cbc.Optimizer);"
   ]
  },
  {
   "cell_type": "markdown",
   "metadata": {
    "slideshow": {
     "slide_type": "fragment"
    }
   },
   "source": [
    "### Mengen und Parameter"
   ]
  },
  {
   "cell_type": "markdown",
   "metadata": {
    "slideshow": {
     "slide_type": "fragment"
    }
   },
   "source": [
    "Fügen Sie die Mengen ein.\n"
   ]
  },
  {
   "cell_type": "code",
   "execution_count": 8,
   "metadata": {
    "slideshow": {
     "slide_type": "fragment"
    }
   },
   "outputs": [],
   "source": [
    "#Mengen\n",
    "Produkte =   [\"Lady\", \"Dude\", \"Rocker\"];\n",
    "Perioden =   [1,2,3,4];\n",
    "Ressourcen = [\"Herstellen\"];\n",
    "\n",
    "\n",
    "#Längen\n",
    "I = length(Produkte);\n",
    "T = length(Perioden);\n",
    "J = length(Ressourcen);"
   ]
  },
  {
   "cell_type": "markdown",
   "metadata": {
    "slideshow": {
     "slide_type": "slide"
    }
   },
   "source": [
    "Fügen Sie die Parameter ein."
   ]
  },
  {
   "cell_type": "code",
   "execution_count": 9,
   "metadata": {
    "slideshow": {
     "slide_type": "fragment"
    }
   },
   "outputs": [],
   "source": [
    "#Hinweis: Überlegen Sie welche Parameter von Monats- auf Wochenwerte heruntergerechnet werden müssen\n",
    "\n",
    "kl = [3.2/4, 4.32/4, 2.4/4];    #Lagerkostensatz der Produkte\n",
    "\n",
    "ks = [50, 40, 25];              #Rüstkostensatz der Produkte\n",
    "\n",
    "ts = [3, 1.5, 2];               #Rüstzeiten der Produkte\n",
    "\n",
    "tp = [0.105, 0.095, 0.065];     #Stückbearbeitungszeiten der Produkte\n",
    "\n",
    "M = 100000;                     #Große Zahl\n",
    "\n",
    "                   \n",
    "       #1,  2,  3,  4\n",
    "d = [  350 350 350 350         #Lady\n",
    "       500 500 500 500         #Dude\n",
    "       350 350 350 350  ];     #Rocker \n",
    "#Bedarf von Produkt i in Periode t\n",
    "\n",
    "kf = [320, 432, 240];        #Fremdbezugskostensatz 1 der Produkte (Tucher)\n",
    "\n",
    "kv = [160, 216, 120];          #variable Herstellkosten der Produkte"
   ]
  },
  {
   "cell_type": "code",
   "execution_count": 10,
   "metadata": {},
   "outputs": [],
   "source": [
    "#Diese Werte sind abhängig von der aggregierten Planung\n",
    "\n",
    "l_start = [647,0,1];              #Anfangslagerbestand des Monats (Endbestand Vorperiode, s. oben)\n",
    "\n",
    "l_end = [0,0,0];                #Der Endbestand des Monats ist immer der entsprechend berechnete Lagerbestand aus Schritt 1\n",
    "\n",
    "c =  [80+40/4, 80+40/4, 80+40/4, 80+40/4];                        #Periodenkapazität\n",
    "#Hinweis: Berücksichtigen Sie zusätzlich zur regulären Kapazität auch die in der aggr. Planung \n",
    "#         ermittelte Zusatzkapazität aufgeteilt auf 4 Wochen\n",
    "\n",
    "faggr = [  0 0 0 0         #Lady\n",
    "           0 0 0 0         #Dude\n",
    "           0 0 0 0  ];     #Rocker ]             #Die wöchentliche Lieferung der bei Cheapress bestellten Produkte"
   ]
  },
  {
   "cell_type": "markdown",
   "metadata": {
    "slideshow": {
     "slide_type": "slide"
    }
   },
   "source": [
    "### Entscheidungsvariablen\n",
    "---\n",
    "Definieren Sie die Entscheidungsvariablen. Achten Sie auf die Definitionsbereiche."
   ]
  },
  {
   "cell_type": "markdown",
   "metadata": {
    "slideshow": {
     "slide_type": "fragment"
    }
   },
   "source": [
    "**Nichtnegativitätsbedingung**: Die Entscheidungsvariablen, also die Produktionsmengen, Lagerbestände, Fremdbezugsmengen und die in Anspruch genommenen Zusatzkapazitäten dürfen nur positive Werte annehmen, wir setzen deren Nichtnegativität voraus.\n",
    "\n",
    "$ \\qquad X_{it}, L_{it}, F_{it} \\geq 0 \\qquad \\qquad \\forall i \\in I, t \\in T$\n"
   ]
  },
  {
   "cell_type": "code",
   "execution_count": 11,
   "metadata": {},
   "outputs": [],
   "source": [
    "@variables  m begin\n",
    "            X[1:I,1:T]>=0,Int  #Produktionsmenge von Produkt i in Periode t\n",
    "            F[1:I,1:T]>=0,Int  #Fremdbezugsmenge von Produkt i in Periode t\n",
    "            L[1:I,0:T]>=0, Int; #Lagerbestand von Produkt i am Periodenende von t\n",
    "            end"
   ]
  },
  {
   "cell_type": "markdown",
   "metadata": {
    "slideshow": {
     "slide_type": "fragment"
    }
   },
   "source": [
    "**Binaerbedingung**: Rüstvorgänge werden immer ganz ($\\gamma_{it} = 1$) oder gar nicht ($\\gamma_{it} = 0$) ausgeführt. Die binäre Rüstvariable nimmt also entweder den Wert 1 oder 0 an.\n",
    "\n",
    " $ \\qquad  \\gamma_{it} \\in \\{0,1\\}  \\qquad\\qquad\\qquad\\qquad\\qquad\\qquad \\forall t \\in T, \\quad i \\in I $"
   ]
  },
  {
   "cell_type": "code",
   "execution_count": 12,
   "metadata": {
    "slideshow": {
     "slide_type": "fragment"
    }
   },
   "outputs": [],
   "source": [
    "@variable(m,gamma[1:I,1:T],Bin); #Die binäre Rüstvariable von Produkt i in Periode t"
   ]
  },
  {
   "cell_type": "markdown",
   "metadata": {
    "slideshow": {
     "slide_type": "slide"
    }
   },
   "source": [
    "## Zielfunktion\n",
    "\n",
    "**Kostenminimierung:** Der Produktionskosten K sollen minimiert werden. Diese berechnen sich hier aus der Summe der variablen Kosten, der Lagerkosten, der Fremdbezugskosten und Rüstkosten.\n",
    "\n",
    "$$  \\qquad \\min K = \\displaystyle\\sum_{i=1}^I \\sum_{t=1}^T (k_i^vX_{it}+k_i^l L_{it}+k_i^fF_{it}+ k^s_i\\gamma_{i,t}) $$"
   ]
  },
  {
   "cell_type": "code",
   "execution_count": 13,
   "metadata": {
    "slideshow": {
     "slide_type": "fragment"
    }
   },
   "outputs": [],
   "source": [
    "@objective(m, Min,  sum(kv[i] * X[i,t] + kl[i] * L[i,t] + kf[i] * F[i,t] + ks[i]*gamma[i,t]\n",
    "                    for i=1:I for t=1:T));"
   ]
  },
  {
   "cell_type": "markdown",
   "metadata": {
    "slideshow": {
     "slide_type": "slide"
    }
   },
   "source": [
    "## Nebenbedingungen"
   ]
  },
  {
   "cell_type": "markdown",
   "metadata": {
    "slideshow": {
     "slide_type": "fragment"
    }
   },
   "source": [
    "**Kapazitaetsrestriktion:** Die Summe aus Produktions- und Rüstzeit aller Produkte darf in jeder Periode die vorhandene Kapazität der Ressource j nicht überschreiten.\n",
    "\n",
    " $$ \\qquad \\displaystyle\\sum_{i=1}^I(t_i^p\\cdot X_{it}+t_i^s\\cdot\\gamma_{it} ) \\leq c_t \\hspace{40mm} \\forall t \\in T, j \\in J\\qquad  $$ \n",
    " \n"
   ]
  },
  {
   "cell_type": "code",
   "execution_count": 14,
   "metadata": {
    "slideshow": {
     "slide_type": "fragment"
    }
   },
   "outputs": [],
   "source": [
    "@constraint(m, KapRes[t=1:T, j=1:J], sum(ts[i] * gamma[i,t] + tp[i] * X[i,t] for i=1:I) <= c[t] );"
   ]
  },
  {
   "cell_type": "markdown",
   "metadata": {
    "slideshow": {
     "slide_type": "fragment"
    }
   },
   "source": [
    "**Lagerbilanzgleichung**: Der Lagerbestand eines Produktes am Ende einer Periode berechnet sich aus der Summe der eingelagerten Menge in der Vorperiode, der Produktionsmenge und der kurzfristigen und langfristigen Fremdbezugsmenge, abzüglich der abgesetzen Menge des Produktes.\n",
    "\n",
    "$$ \\qquad L_{it}=L_{i,t-1}+X_{it}-d_{it}+F_{it}+f_{it}^{aggr} \\qquad \\forall i \\in I , t \\in T$$"
   ]
  },
  {
   "cell_type": "code",
   "execution_count": 15,
   "metadata": {
    "slideshow": {
     "slide_type": "fragment"
    }
   },
   "outputs": [],
   "source": [
    "#Fügen sie den Parameter der langfristigen Fremdbezugsmenge in die Nebenbedingung ein!\n",
    "\n",
    "@constraint(m, Lager[i=1:I,t=1:T], L[i,t] == L[i,t-1] + X[i,t] + F[i,t] - d[i,t]+faggr[i,t]);"
   ]
  },
  {
   "cell_type": "markdown",
   "metadata": {
    "slideshow": {
     "slide_type": "slide"
    }
   },
   "source": [
    "**Anfangslagerbestand**: Der Anfangslagerbestand aller Produkte entspricht dem initial gesetzen $l_{start}$.\n",
    "\n",
    "**Endlagerbestand**: Der Endlagerbestand aller Produkte entspricht dem initial gesetzen $l_{end}$.\n",
    " \n",
    "  $$ \\qquad L_{i,0} = l_{start} \\hspace{40mm} \\forall  i \\in I$$\n",
    "  \n",
    "  $$ \\qquad L_{i,T} = l_{end} \\hspace{40mm} \\forall  i \\in I$$\n"
   ]
  },
  {
   "cell_type": "code",
   "execution_count": 16,
   "metadata": {
    "slideshow": {
     "slide_type": "fragment"
    }
   },
   "outputs": [],
   "source": [
    "@constraint(m, AnfLager[i=1:I], L[i,0] == l_start[i]);\n",
    "\n",
    "#Fügen Sie eine Nebenbedingung für den Endlagerbestand hinzu\n",
    "\n",
    "@constraint(m, EndLager[i=1:I], L[i,4] == l_end[i]);"
   ]
  },
  {
   "cell_type": "markdown",
   "metadata": {
    "slideshow": {
     "slide_type": "fragment"
    }
   },
   "source": [
    "**Rüstbedingung**: Wenn für ein Produkt in einer Periode nicht gerüstet wird, ist die produzierte Menge dieses Produkts in dieser Periode 0. Wenn für ein Produkt in einer Periode gerüstet wird, wird die produzierte Menge durch die Rüstbedingung nicht eingeschränkt.\n",
    "\n",
    " $$ \\qquad X_{it} \\leq M \\cdot \\gamma_{it} \\hspace{40mm} \\forall t \\in T, \\quad i \\in I $$"
   ]
  },
  {
   "cell_type": "code",
   "execution_count": 17,
   "metadata": {
    "slideshow": {
     "slide_type": "fragment"
    }
   },
   "outputs": [],
   "source": [
    "@constraint(m, Ruestbed[i=1:I,t=1:T], X[i,t] <= M * gamma[i,t]);"
   ]
  },
  {
   "cell_type": "code",
   "execution_count": 18,
   "metadata": {},
   "outputs": [],
   "source": [
    "# Kann der Plan ohne Fremdbezug umgesetzt werden? \n",
    "# -> neue Nebenbedingung, die die Variable F = 0 setzt\n",
    "# @constraint(m, KeinFremdbezug[i=1:I,t=1:T], F[i,t]==0);"
   ]
  },
  {
   "cell_type": "markdown",
   "metadata": {
    "slideshow": {
     "slide_type": "slide"
    }
   },
   "source": [
    "## Lösen Sie das Modell.\n",
    "---"
   ]
  },
  {
   "cell_type": "code",
   "execution_count": 19,
   "metadata": {
    "slideshow": {
     "slide_type": "fragment"
    }
   },
   "outputs": [
    {
     "name": "stdout",
     "output_type": "stream",
     "text": [
      "Welcome to the CBC MILP Solver \n",
      "Version: 2.10.3 \n",
      "Build Date: Jan  1 1970 \n",
      "\n",
      "command line - Cbc_C_Interface -solve -quit (default strategy 1)\n",
      "Continuous objective value is 721260 - 0.00 seconds\n",
      "Cgl0003I 0 fixed, 4 tightened bounds, 5 strengthened rows, 0 substitutions\n",
      "Cgl0003I 0 fixed, 0 tightened bounds, 1 strengthened rows, 0 substitutions\n",
      "Cgl0003I 0 fixed, 0 tightened bounds, 1 strengthened rows, 0 substitutions\n",
      "Cgl0004I processed model has 27 rows, 43 columns (43 integer (12 of which binary)) and 87 elements\n",
      "Cbc0012I Integer solution of 785900.44 found by DiveCoefficient after 0 iterations and 0 nodes (0.34 seconds)\n",
      "Cbc0038I Full problem 27 rows 43 columns, reduced to 7 rows 10 columns\n",
      "Cbc0012I Integer solution of 785632.6 found by DiveCoefficient after 930 iterations and 0 nodes (0.97 seconds)\n",
      "Cbc0031I 12 added rows had average density of 21.333333\n",
      "Cbc0013I At root node, 12 cuts changed objective from 739714.26 to 747363.45 in 100 passes\n",
      "Cbc0014I Cut generator 0 (Probing) - 25 row cuts average 2.4 elements, 0 column cuts (0 active)  in 0.010 seconds - new frequency is -100\n",
      "Cbc0014I Cut generator 1 (Gomory) - 646 row cuts average 37.9 elements, 0 column cuts (0 active)  in 0.021 seconds - new frequency is 1\n",
      "Cbc0014I Cut generator 2 (Knapsack) - 0 row cuts average 0.0 elements, 0 column cuts (0 active)  in 0.017 seconds - new frequency is -100\n",
      "Cbc0014I Cut generator 3 (Clique) - 0 row cuts average 0.0 elements, 0 column cuts (0 active)  in 0.000 seconds - new frequency is -100\n",
      "Cbc0014I Cut generator 4 (MixedIntegerRounding2) - 4 row cuts average 6.2 elements, 0 column cuts (0 active)  in 0.015 seconds - new frequency is -100\n",
      "Cbc0014I Cut generator 5 (FlowCover) - 37 row cuts average 3.5 elements, 0 column cuts (0 active)  in 0.017 seconds - new frequency is -100\n",
      "Cbc0014I Cut generator 6 (TwoMirCuts) - 74 row cuts average 18.6 elements, 0 column cuts (0 active)  in 0.007 seconds - new frequency is 1\n",
      "Cbc0010I After 0 nodes, 1 on tree, 785632.6 best solution, best possible 747363.45 (0.97 seconds)\n",
      "Cbc0012I Integer solution of 750684.8 found by DiveCoefficient after 942 iterations and 1 nodes (1.25 seconds)\n",
      "Cbc0012I Integer solution of 750520.4 found by DiveCoefficient after 1008 iterations and 3 nodes (1.98 seconds)\n",
      "Cbc0012I Integer solution of 749086.96 found by DiveCoefficient after 1025 iterations and 3 nodes (2.60 seconds)\n",
      "Cbc0016I Integer solution of 749005.08 found by strong branching after 1081 iterations and 11 nodes (3.51 seconds)\n",
      "Cbc0038I Full problem 27 rows 43 columns, reduced to 5 rows 8 columns\n",
      "Cbc0016I Integer solution of 748969.2 found by strong branching after 1246 iterations and 66 nodes (3.67 seconds)\n",
      "Cbc0038I Full problem 27 rows 43 columns, reduced to 6 rows 9 columns\n",
      "Cbc0038I Full problem 27 rows 43 columns, reduced to 7 rows 11 columns\n",
      "Cbc0038I Full problem 27 rows 43 columns, reduced to 6 rows 9 columns\n",
      "Cbc0038I Full problem 27 rows 43 columns, reduced to 6 rows 9 columns\n",
      "Cbc0016I Integer solution of 748968.4 found by strong branching after 2637 iterations and 571 nodes (4.40 seconds)\n",
      "Cbc0016I Integer solution of 748967.48 found by strong branching after 2640 iterations and 623 nodes (5.22 seconds)\n",
      "Cbc0038I Full problem 27 rows 43 columns, reduced to 5 rows 7 columns\n",
      "Cbc0038I Full problem 27 rows 43 columns, reduced to 7 rows 11 columns\n",
      "Cbc0038I Full problem 27 rows 43 columns, reduced to 6 rows 10 columns\n",
      "Cbc0038I Full problem 27 rows 43 columns, reduced to 6 rows 9 columns\n",
      "Cbc0010I After 1000 nodes, 58 on tree, 748967.48 best solution, best possible 747363.45 (8.26 seconds)\n",
      "Cbc0038I Full problem 27 rows 43 columns, reduced to 7 rows 11 columns\n",
      "Cbc0010I After 2000 nodes, 35 on tree, 748967.48 best solution, best possible 747363.45 (8.92 seconds)\n",
      "Cbc0038I Full problem 27 rows 43 columns, reduced to 6 rows 10 columns\n",
      "Cbc0010I After 3000 nodes, 40 on tree, 748967.48 best solution, best possible 747363.45 (9.48 seconds)\n",
      "Cbc0038I Full problem 27 rows 43 columns, reduced to 7 rows 11 columns\n",
      "Cbc0010I After 4000 nodes, 24 on tree, 748967.48 best solution, best possible 747363.45 (9.88 seconds)\n",
      "Cbc0038I Full problem 27 rows 43 columns, reduced to 6 rows 10 columns\n",
      "Cbc0010I After 5000 nodes, 37 on tree, 748967.48 best solution, best possible 747363.45 (10.40 seconds)\n",
      "Cbc0010I After 6000 nodes, 33 on tree, 748967.48 best solution, best possible 747363.45 (10.76 seconds)\n",
      "Cbc0038I Full problem 27 rows 43 columns, reduced to 7 rows 12 columns\n",
      "Cbc0010I After 7000 nodes, 31 on tree, 748967.48 best solution, best possible 747363.45 (11.11 seconds)\n",
      "Cbc0038I Full problem 27 rows 43 columns, reduced to 7 rows 12 columns\n",
      "Cbc0010I After 8000 nodes, 27 on tree, 748967.48 best solution, best possible 747363.45 (11.43 seconds)\n",
      "Cbc0038I Full problem 27 rows 43 columns, reduced to 6 rows 10 columns\n",
      "Cbc0010I After 9000 nodes, 27 on tree, 748967.48 best solution, best possible 747363.45 (11.77 seconds)\n",
      "Cbc0038I Full problem 27 rows 43 columns, reduced to 4 rows 6 columns\n",
      "Cbc0010I After 10000 nodes, 21 on tree, 748967.48 best solution, best possible 747363.45 (12.19 seconds)\n",
      "Cbc0038I Full problem 27 rows 43 columns, reduced to 5 rows 7 columns\n",
      "Cbc0038I Full problem 27 rows 43 columns, reduced to 6 rows 10 columns\n",
      "Cbc0010I After 11000 nodes, 22 on tree, 748967.48 best solution, best possible 747363.45 (12.54 seconds)\n",
      "Cbc0004I Integer solution of 748965.08 found after 35984 iterations and 11517 nodes (12.74 seconds)\n",
      "Cbc0010I After 12000 nodes, 214 on tree, 748965.08 best solution, best possible 748928.85 (12.87 seconds)\n",
      "Cbc0010I After 13000 nodes, 400 on tree, 748965.08 best solution, best possible 748933.63 (13.18 seconds)\n",
      "Cbc0010I After 14000 nodes, 397 on tree, 748965.08 best solution, best possible 748933.63 (13.40 seconds)\n",
      "Cbc0038I Full problem 27 rows 43 columns, reduced to 7 rows 12 columns\n",
      "Cbc0016I Integer solution of 748965 found by strong branching after 44892 iterations and 14603 nodes (13.59 seconds)\n",
      "Cbc0010I After 15000 nodes, 386 on tree, 748965 best solution, best possible 748936.13 (13.70 seconds)\n",
      "Cbc0010I After 16000 nodes, 475 on tree, 748965 best solution, best possible 748940.65 (13.99 seconds)\n",
      "Cbc0010I After 17000 nodes, 535 on tree, 748965 best solution, best possible 748943.89 (14.25 seconds)\n",
      "Cbc0010I After 18000 nodes, 496 on tree, 748965 best solution, best possible 748943.89 (14.45 seconds)\n",
      "Cbc0010I After 19000 nodes, 519 on tree, 748965 best solution, best possible 748946.29 (14.68 seconds)\n",
      "Cbc0010I After 20000 nodes, 501 on tree, 748965 best solution, best possible 748949.3 (14.93 seconds)\n",
      "Cbc0010I After 21000 nodes, 478 on tree, 748965 best solution, best possible 748951.99 (15.17 seconds)\n",
      "Cbc0038I Full problem 27 rows 43 columns, reduced to 9 rows 15 columns\n",
      "Cbc0010I After 22000 nodes, 286 on tree, 748965 best solution, best possible 748952 (15.38 seconds)\n",
      "Cbc0010I After 23000 nodes, 146 on tree, 748965 best solution, best possible 748960.48 (15.60 seconds)\n",
      "Cbc0016I Integer solution of 748964.84 found by strong branching after 68611 iterations and 23663 nodes (15.74 seconds)\n",
      "Cbc0004I Integer solution of 748964.28 found after 68647 iterations and 23686 nodes (15.74 seconds)\n",
      "Cbc0001I Search completed - best objective 748964.2799999999, took 279917 iterations and 237023 nodes (15.74 seconds)\n",
      "Cbc0032I Strong branching done 102510 times (121534 iterations), fathomed 4918 nodes and fixed 9545 variables\n",
      "Cbc0041I Maximum depth 55, 5713 variables fixed on reduced cost (complete fathoming 903 times, 213297 nodes taking 211229 iterations)\n",
      "Cuts at root node changed objective from 739714 to 747363\n",
      "Probing was tried 100 times and created 25 cuts of which 0 were active after adding rounds of cuts (0.010 seconds)\n",
      "Gomory was tried 8687 times and created 17383 cuts of which 0 were active after adding rounds of cuts (0.622 seconds)\n",
      "Knapsack was tried 100 times and created 0 cuts of which 0 were active after adding rounds of cuts (0.017 seconds)\n",
      "Clique was tried 100 times and created 0 cuts of which 0 were active after adding rounds of cuts (0.000 seconds)\n",
      "MixedIntegerRounding2 was tried 100 times and created 4 cuts of which 0 were active after adding rounds of cuts (0.015 seconds)\n",
      "FlowCover was tried 100 times and created 37 cuts of which 0 were active after adding rounds of cuts (0.017 seconds)\n",
      "TwoMirCuts was tried 8687 times and created 8083 cuts of which 0 were active after adding rounds of cuts (0.366 seconds)\n",
      "ZeroHalf was tried 1 times and created 0 cuts of which 0 were active after adding rounds of cuts (0.001 seconds)\n",
      "\n",
      "Result - Optimal solution found\n",
      "\n",
      "Objective value:                748964.28000000\n",
      "Enumerated nodes:               237023\n",
      "Total iterations:               279917\n",
      "Time (CPU seconds):             15.75\n",
      "Time (Wallclock seconds):       15.74\n",
      "\n",
      "Total time (CPU seconds):       15.75   (Wallclock seconds):       15.74\n",
      "\n"
     ]
    }
   ],
   "source": [
    "optimize!(m)"
   ]
  },
  {
   "cell_type": "markdown",
   "metadata": {
    "slideshow": {
     "slide_type": "fragment"
    }
   },
   "source": [
    "Lassen Sie sich den Zielfunktionswert Z anzeigen."
   ]
  },
  {
   "cell_type": "code",
   "execution_count": 20,
   "metadata": {
    "slideshow": {
     "slide_type": "fragment"
    }
   },
   "outputs": [
    {
     "name": "stdout",
     "output_type": "stream",
     "text": [
      "Objective value db: 748964\n"
     ]
    }
   ],
   "source": [
    "db = JuMP.objective_value(m)\n",
    "\n",
    "println(\"Objective value db: \", round(Int64,db))"
   ]
  },
  {
   "cell_type": "markdown",
   "metadata": {},
   "source": [
    "Platz für weitere Berechnungen:"
   ]
  },
  {
   "cell_type": "code",
   "execution_count": 21,
   "metadata": {},
   "outputs": [
    {
     "data": {
      "text/plain": [
       "3×4 Array{Float64,2}:\n",
       "   0.0    0.0  361.0  221.0\n",
       " 500.0  500.0  501.0  499.0\n",
       " 600.0  600.0    0.0  198.0"
      ]
     },
     "execution_count": 21,
     "metadata": {},
     "output_type": "execute_result"
    }
   ],
   "source": [
    "JuMP.value.(X)"
   ]
  },
  {
   "cell_type": "code",
   "execution_count": 22,
   "metadata": {},
   "outputs": [
    {
     "data": {
      "text/plain": [
       "3×4 Array{Float64,2}:\n",
       " 0.0  53.0  0.0  118.0\n",
       " 0.0   0.0  0.0    0.0\n",
       " 0.0   0.0  0.0    1.0"
      ]
     },
     "execution_count": 22,
     "metadata": {},
     "output_type": "execute_result"
    }
   ],
   "source": [
    "JuMP.value.(F)"
   ]
  },
  {
   "cell_type": "code",
   "execution_count": 23,
   "metadata": {},
   "outputs": [
    {
     "data": {
      "text/plain": [
       "3×4 Array{Float64,2}:\n",
       " 0.0  0.0  1.0  1.0\n",
       " 1.0  1.0  1.0  1.0\n",
       " 1.0  1.0  0.0  1.0"
      ]
     },
     "execution_count": 23,
     "metadata": {},
     "output_type": "execute_result"
    }
   ],
   "source": [
    "JuMP.value.(gamma)"
   ]
  },
  {
   "cell_type": "code",
   "execution_count": 24,
   "metadata": {},
   "outputs": [
    {
     "data": {
      "text/plain": [
       "2-dimensional DenseAxisArray{Float64,2,...} with index sets:\n",
       "    Dimension 1, Base.OneTo(3)\n",
       "    Dimension 2, 0:4\n",
       "And data, a 3×5 Array{Float64,2}:\n",
       " 647.0  297.0    0.0   11.0  0.0\n",
       "   0.0    0.0    0.0    1.0  0.0\n",
       "   1.0  251.0  501.0  151.0  0.0"
      ]
     },
     "execution_count": 24,
     "metadata": {},
     "output_type": "execute_result"
    }
   ],
   "source": [
    "JuMP.value.(L)"
   ]
  },
  {
   "cell_type": "code",
   "execution_count": 25,
   "metadata": {},
   "outputs": [
    {
     "data": {
      "text/plain": [
       "3×4 Array{Float64,2}:\n",
       " 0.0  0.0  3.0  3.0\n",
       " 1.5  1.5  1.5  1.5\n",
       " 2.0  2.0  0.0  2.0"
      ]
     },
     "execution_count": 25,
     "metadata": {},
     "output_type": "execute_result"
    }
   ],
   "source": [
    "JuMP.value.(ts[i]*gamma[i,t] for i in 1:I, t in 1:T)"
   ]
  },
  {
   "cell_type": "code",
   "execution_count": 26,
   "metadata": {},
   "outputs": [
    {
     "data": {
      "text/plain": [
       "3×4 Array{Float64,2}:\n",
       "  0.0   0.0  37.905  23.205\n",
       " 47.5  47.5  47.595  47.405\n",
       " 39.0  39.0   0.0    12.87"
      ]
     },
     "execution_count": 26,
     "metadata": {},
     "output_type": "execute_result"
    }
   ],
   "source": [
    "JuMP.value.(X[i,t]*tp[i] for i in 1:I, t in 1:T)"
   ]
  },
  {
   "cell_type": "code",
   "execution_count": 27,
   "metadata": {},
   "outputs": [
    {
     "data": {
      "text/plain": [
       "692880.0"
      ]
     },
     "execution_count": 27,
     "metadata": {},
     "output_type": "execute_result"
    }
   ],
   "source": [
    "JuMP.value.(sum(X[i,t]*kv[i] for i in 1:I, t in 1:T))"
   ]
  },
  {
   "cell_type": "code",
   "execution_count": 28,
   "metadata": {},
   "outputs": [
    {
     "data": {
      "text/plain": [
       "789.28"
      ]
     },
     "execution_count": 28,
     "metadata": {},
     "output_type": "execute_result"
    }
   ],
   "source": [
    "JuMP.value.(sum(L[i,t]*kl[i] for i in 1:I, t in 1:T))"
   ]
  },
  {
   "cell_type": "code",
   "execution_count": 29,
   "metadata": {},
   "outputs": [
    {
     "data": {
      "text/plain": [
       "335.0"
      ]
     },
     "execution_count": 29,
     "metadata": {},
     "output_type": "execute_result"
    }
   ],
   "source": [
    "JuMP.value.(sum(ks[i]*gamma[i,t] for i in 1:I, t in 1:T))"
   ]
  },
  {
   "cell_type": "code",
   "execution_count": 30,
   "metadata": {},
   "outputs": [
    {
     "data": {
      "text/plain": [
       "54960.0"
      ]
     },
     "execution_count": 30,
     "metadata": {},
     "output_type": "execute_result"
    }
   ],
   "source": [
    "JuMP.value.(sum(F[i,t]*kf[i] for i in 1:I, t in 1:T))"
   ]
  },
  {
   "cell_type": "code",
   "execution_count": 31,
   "metadata": {},
   "outputs": [
    {
     "data": {
      "text/plain": [
       "3980.0"
      ]
     },
     "execution_count": 31,
     "metadata": {},
     "output_type": "execute_result"
    }
   ],
   "source": [
    "JuMP.value.(sum(X[i,t] for i in 1:I, t in 1:T))"
   ]
  },
  {
   "cell_type": "code",
   "execution_count": 32,
   "metadata": {},
   "outputs": [
    {
     "data": {
      "text/plain": [
       "172.0"
      ]
     },
     "execution_count": 32,
     "metadata": {},
     "output_type": "execute_result"
    }
   ],
   "source": [
    "JuMP.value.(sum(F[i,t] for i in 1:I, t in 1:T))"
   ]
  },
  {
   "cell_type": "code",
   "execution_count": 33,
   "metadata": {},
   "outputs": [
    {
     "data": {
      "text/plain": [
       "6.0"
      ]
     },
     "execution_count": 33,
     "metadata": {},
     "output_type": "execute_result"
    }
   ],
   "source": [
    "JuMP.value.(sum(gamma[1,t]*ts[1] for t in 1:T))"
   ]
  },
  {
   "cell_type": "code",
   "execution_count": 34,
   "metadata": {},
   "outputs": [
    {
     "data": {
      "text/plain": [
       "6.0"
      ]
     },
     "execution_count": 34,
     "metadata": {},
     "output_type": "execute_result"
    }
   ],
   "source": [
    "JuMP.value.(sum(gamma[2,t]*ts[2] for t in 1:T))"
   ]
  },
  {
   "cell_type": "code",
   "execution_count": 35,
   "metadata": {},
   "outputs": [
    {
     "data": {
      "text/plain": [
       "5.999999999999999"
      ]
     },
     "execution_count": 35,
     "metadata": {},
     "output_type": "execute_result"
    }
   ],
   "source": [
    "JuMP.value.(sum(gamma[3,t]*ts[3] for t in 1:T))"
   ]
  },
  {
   "cell_type": "code",
   "execution_count": null,
   "metadata": {},
   "outputs": [],
   "source": []
  }
 ],
 "metadata": {
  "kernelspec": {
   "display_name": "Julia 1.4.1",
   "language": "julia",
   "name": "julia-1.4"
  },
  "language_info": {
   "file_extension": ".jl",
   "mimetype": "application/julia",
   "name": "julia",
   "version": "1.4.1"
  }
 },
 "nbformat": 4,
 "nbformat_minor": 2
}
