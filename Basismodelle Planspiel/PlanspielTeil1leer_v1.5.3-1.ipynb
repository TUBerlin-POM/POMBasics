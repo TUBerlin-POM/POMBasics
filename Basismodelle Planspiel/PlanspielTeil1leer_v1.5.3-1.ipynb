{
 "cells": [
  {
   "cell_type": "markdown",
   "metadata": {
    "slideshow": {
     "slide_type": "slide"
    }
   },
   "source": [
    "## Einrichtung von Julia JuMP\n",
    "---"
   ]
  },
  {
   "cell_type": "markdown",
   "metadata": {
    "slideshow": {
     "slide_type": "fragment"
    }
   },
   "source": [
    "Überprüfen Sie die bereits installierten Pakete. Es sind möglicherweise alle notwendigen Pakete bereits vorhanden."
   ]
  },
  {
   "cell_type": "code",
   "execution_count": null,
   "metadata": {
    "slideshow": {
     "slide_type": "fragment"
    }
   },
   "outputs": [],
   "source": [
    "using Pkg;\n",
    "Pkg.status()"
   ]
  },
  {
   "cell_type": "markdown",
   "metadata": {
    "slideshow": {
     "slide_type": "slide"
    }
   },
   "source": [
    "Installieren Sie ``JuMP`` , mit dem Sie einfach Optimierungsprogramme formulieren können, sowie ``Cbc``, einen open-source Solver zum Lösen des Problems, und ``StatsPlots`` zur Visualisierung der Lösung.\n",
    "\n",
    "\n"
   ]
  },
  {
   "cell_type": "code",
   "execution_count": null,
   "metadata": {
    "slideshow": {
     "slide_type": "fragment"
    }
   },
   "outputs": [],
   "source": [
    "Pkg.add(\"JuMP\")\n",
    "Pkg.add(\"Cbc\");\n";
   ]
  },
  {
   "cell_type": "markdown",
   "metadata": {
    "slideshow": {
     "slide_type": "fragment"
    }
   },
   "source": [
    "Initialisieren Sie die installierten Pakete, damit sie im folgenden Notebook verwendet werden können.\n"
   ]
  },
  {
   "cell_type": "code",
   "execution_count": null,
   "metadata": {
    "slideshow": {
     "slide_type": "fragment"
    }
   },
   "outputs": [],
   "source": [
    "using JuMP, Cbc;"
   ]
  },
  {
   "cell_type": "markdown",
   "metadata": {
    "slideshow": {
     "slide_type": "slide"
    }
   },
   "source": [
    "# Aggregierte Planung\n",
    "\n",
    "### Entscheidungsvariablen:\n",
    "\n",
    "Bestimmung der optimalen **Produktionsmengen, Absatzmengen, Fremdbezugsmengen** und **Lagerbestände** der Produkte, sowie der optimal zu nutzenden **Zusatzkapazität** der Ressourcen je Periode, \n",
    "\n",
    "### Zielfunktion:\n",
    "\n",
    "0) **Deckungsbeitragsmaximierung**: $$  \\qquad \\max db = \\displaystyle\\sum_{i=1}^I \\sum_{t=1}^T (e_iA_{it}-k_i^vX_{it}-k_i^l L_{it}-k_i^fF_{it}) - \\sum_{j=1}^J \\sum_{t=1}^T (k_j^zZ_{jt}) $$\n"
   ]
  },
  {
   "cell_type": "markdown",
   "metadata": {
    "slideshow": {
     "slide_type": "slide"
    }
   },
   "source": [
    "### Nebenbedingungen:\n",
    "\n",
    "1) **Kapazitaetsrestriktion:** $ \\hspace{41mm} \\sum_{i=1}^I(r_{ij}\\cdot X_{it}) \\leq c_j + z_{jt} \\hspace{40mm} \\forall j \\in J, t \\in T $\n",
    "\n",
    "2) **Absatzobergrenze:** $\\hspace{38mm} \\qquad A_{it} \\leq d_{it} \\hspace{69mm} \\forall i \\in I , t \\in T $\n",
    "\n",
    "\n",
    "3) **Absatzuntergrenze:** $ \\hspace{37mm}\\qquad A_{it} \\geq d_{it}^{min} \\hspace{66mm} \\forall i \\in I , t \\in T $\n",
    " \n",
    "4) **Lagerbilanz:** $ \\hspace{61mm} L_{it}=L_{i,t-1}+X_{it}-A_{it}+F_{it} \\hspace{31mm} \\forall i \\in I , t \\in T$\n",
    "\n",
    "5) **Anfangslagerbestand:**   $ \\hspace{43mm} L_{i,0} = l_{start} \\hspace{64mm} \\forall  i \\in I$\n",
    "\n",
    "\n",
    "6) **Max. Zusatzkapazität:** $ \\hspace{44mm} Z_{jt} \\leq z_j^{max}  \\hspace{65mm} \\forall j \\in J, t \\in T $\n",
    "\n",
    "7) **Max. Fremdbezug:** $ \\hspace{49mm} F_{it} \\leq f_i^{max} \\hspace{65mm} \\forall i \\in I, t \\in T $\n",
    "\n",
    "8) **Nichtnegativitätsbedingung:** $ \\hspace{31mm} X_{it}, A_{it}, L_{it}, F_{it} \\geq 0 \\hspace{49mm} \\forall i \\in I, t \\in T$\n",
    "\n",
    "und $\\hspace{81mm} Z_{jt} \\geq 0 \\hspace{71mm}  \\forall j \\in J, t \\in T $ \n",
    "\n",
    "* * *"
   ]
  },
  {
   "cell_type": "markdown",
   "metadata": {
    "slideshow": {
     "slide_type": "slide"
    }
   },
   "source": [
    "## Verwendete Symbole"
   ]
  },
  {
   "cell_type": "markdown",
   "metadata": {
    "slideshow": {
     "slide_type": "fragment"
    }
   },
   "source": [
    "### Mengen\n",
    "\n",
    "$i \\in (1,..,I)\\hspace{20mm} $ Produkte  \n",
    "\n",
    "$j \\in (1,..,J)\\hspace{20mm}$  Ressourcen \n",
    "\n",
    "$t \\in (1,..,T)\\hspace{20mm}$  Zeiten "
   ]
  },
  {
   "cell_type": "markdown",
   "metadata": {
    "slideshow": {
     "slide_type": "fragment"
    }
   },
   "source": [
    "### Variablen\n",
    "\n",
    "$X_{it}$  $\\geq0$      $\\hspace{28mm}$ Produktionsmenge      \n",
    "\n",
    "$A_{it}$  $ \\geq 0 $  $\\hspace{28mm} $ Absatzmenge \n",
    "\n",
    "$L_{it}$  $\\geq0$  $\\hspace{28mm} $ Lagerbestand  \n",
    "\n",
    "$F_{it}$       $ \\geq0$    $\\hspace{28mm} $ Fremdbezug   \n",
    "\n",
    "$Z_{jt}$      $\\geq0$      $\\hspace{27mm} $ Zusatzkapazität  \n"
   ]
  },
  {
   "cell_type": "markdown",
   "metadata": {
    "slideshow": {
     "slide_type": "slide"
    }
   },
   "source": [
    "### Parameter\n",
    "\n",
    "$e_i \\hspace{39mm}$   Erlös    \n",
    "\n",
    "$k_i^v \\hspace{38mm}$ variable Kosten\n",
    "\n",
    "$k_i^l \\hspace{38mm}$ Lagerkostensatz \n",
    "\n",
    "$k_j^z \\hspace{38mm}$ Überstundenkostensatz \n",
    "\n",
    "$k_i^f \\hspace{38mm}$ Fremdbezugskosten \n",
    "\n",
    "$d_{it} \\hspace{38mm}$  Nachfrage  \n",
    "\n",
    "$d_{it}^{min} \\hspace{36mm}$ Absatzuntergrenze  \n",
    "\n",
    "$r_{ij} \\hspace{38mm}$  Produktionskoeffizient \n",
    "\n",
    "$c_j \\hspace{39mm}$  Kapazität  \n",
    "\n",
    "$l_{start} \\hspace{34mm}$  Anfangslagerbestand  \n",
    "\n",
    "$z_j^{max} \\hspace{34mm}$ max. Zusatzkapazität \n",
    "\n",
    "$f_i^{max} \\hspace{33mm}$  max. Fremdbezug\n",
    "\n",
    " * * *\n",
    " "
   ]
  },
  {
   "cell_type": "markdown",
   "metadata": {
    "slideshow": {
     "slide_type": "slide"
    }
   },
   "source": [
    "## Erstellen Sie das Modell namens ``m`` und geben Sie als zu verwendenden Solver Cbc an.\n",
    "---"
   ]
  },
  {
   "cell_type": "code",
   "execution_count": null,
   "metadata": {
    "slideshow": {
     "slide_type": "fragment"
    }
   },
   "outputs": [],
   "source": [
    "m = Model(Cbc.Optimizer);"
   ]
  },
  {
   "cell_type": "markdown",
   "metadata": {
    "slideshow": {
     "slide_type": "slide"
    }
   },
   "source": [
    "### Mengen und Parameter\n",
    "---"
   ]
  },
  {
   "cell_type": "markdown",
   "metadata": {
    "slideshow": {
     "slide_type": "fragment"
    }
   },
   "source": [
    "Fügen Sie die Mengen ein."
   ]
  },
  {
   "cell_type": "code",
   "execution_count": null,
   "metadata": {
    "slideshow": {
     "slide_type": "fragment"
    }
   },
   "outputs": [],
   "source": [
    "#Mengen\n",
    "Produkte = [\"HIER CODE EINFUEGEN\"]\n",
    "#welche Produkte werden betrachtet?\n",
    "#Bsp im Falle von vier verschiedenfarbigen Stiftarten: Produkte = [\"Rot\",\"Grün\",\"Blau\",\"Gelb\"]\n",
    "\n",
    "Ressourcen = [\"HIER CODE EINFUEGEN\"]\n",
    "#In unserem Fall gibt es nur eine Ressource, welche ist dies?\n",
    "#Bsp im Falle von Ressourcen Arbeitskraft und Arbeitszeit: Ressourcen = [\"Arbeitszeit\",\"Arbeitskraft\"]\n",
    "\n",
    "\n",
    "Perioden = [\"HIER CODE EINFUEGEN\"]\n",
    "#wieviele Perioden werden betrachtet? \n",
    "#Bsp im Falle von drei Perioden: Perioden = [\"1\",\"2\",\"3\"]\n",
    "\n",
    "\n",
    "#Längen\n",
    "I = length(Produkte);\n",
    "J = length(Ressourcen);\n",
    "T = length(Perioden);"
   ]
  },
  {
   "cell_type": "markdown",
   "metadata": {
    "slideshow": {
     "slide_type": "slide"
    }
   },
   "source": [
    "Fügen Sie die Parameter ein."
   ]
  },
  {
   "cell_type": "code",
   "execution_count": null,
   "metadata": {
    "slideshow": {
     "slide_type": "fragment"
    }
   },
   "outputs": [],
   "source": [
    "r = [\"HIER CODE EINFUEGEN\"];\n",
    "#Ressourcenverbrauch von Ressource j durch Produkt i\n",
    "#Hinweis: Einheiten beachten (Stunden/Minuten)\n",
    "#Bsp für eine Ressource und zwei Produkte: r = [2.3, 5.3];\n",
    "\n",
    "       \n",
    "d = [\"HIER CODE EINFUEGEN\"];\n",
    "#Nachfrage von Produkt i in Periode t\n",
    "#=Bsp. für drei Perioden und vier Produkte: d = [900 200 100   \n",
    "                                                 300 0   69  \n",
    "                                                 500 30  210\n",
    "                                                 10  25  60 ]; =#\n",
    "        \n",
    "dmin = d\n",
    "#Absatzuntergrenze von Produkt i in Periode t\n",
    "#Hinweis: Die Nachfrage muss komplett erfüllt werden"
   ]
  },
  {
   "cell_type": "code",
   "execution_count": null,
   "metadata": {
    "slideshow": {
     "slide_type": "slide"
    }
   },
   "outputs": [],
   "source": [
    "c = [\"HIER CODE EINFUEGEN\"];        #Kapazität der Ressource j\n",
    "                                    #Hinweis: Gehen Sie vereinfachend davon aus, dass ein Monat 4 Wochen hat.\n",
    "                                    #Bsp. für zwei Ressourcen (vgl. oben Bsp Ressourcen): c = [320, 400];                               \n",
    "\n",
    "e = [\"HIER CODE EINFUEGEN\"];        #Erlös des Produktes i\n",
    "                                    #Bsp. im Falle von vier Produkten (vgl. oben Bsp Produkte): e = [2, 6 , 3, 1];\n",
    "\n",
    "kf = [\"HIER CODE EINFUEGEN\"];       #Fremdbezugskostensatz der Produkte \n",
    "                                    #Hinweis: hier nur langfr. Fremdbezug: günstigeren Kostensatz verwenden\n",
    "                                    #Bsp. im Falle von vier Produkten: kf = [4, 8, 5, 4];\n",
    "\n",
    "kl = [\"HIER CODE EINFUEGEN\"];       #Lagerkostensatz der Produkte\n",
    "                                    #Bsp. im Falle von vier Produkten: kl = [2.1, 4.2, 3.5, 6];\n",
    "\n",
    "kz = [\"HIER CODE EINFUEGEN\"];       #Überstundenkostensatz von Ressource j\n",
    "                                    #Bsp. für zwei Ressourcen: kz = [320, 480];   \n",
    "\n",
    "kv = [\"HIER CODE EINFUEGEN\"];       #variable Herstellkosten der Produkte\n",
    "                                    #Bsp. für vier Produkte: kv = [1, 3, 2, 0.5];\n",
    "\n",
    "zmax = [\"HIER CODE EINFUEGEN\"];     #Max. Zusatzkapazität von Ressource j\n",
    "                                    #Bsp. für zwei Ressourcen: zmax = [20, 2];\n",
    "\n",
    "l_start = [\"HIER CODE EINFUEGEN\"];  #Anfangslagerbestand der Produkte\n",
    "                                    #Bsp. für vier Produkte: l_start = [100, 150, 220, 300];\n",
    "           \n",
    "fmax = [\"HIER CODE EINFUEGEN\"];     \n",
    "                                    #Maximaler Fremdbezug von Produkt i in Periode t\n",
    "                                    #=Bsp. für vier Produkte und drei Perioden: fmax = [400 400 400\n",
    "                                                                                        400 400 400\n",
    "                                                                                        400 400 400\n",
    "                                                                                        400 400 400]; =#"
   ]
  },
  {
   "cell_type": "markdown",
   "metadata": {
    "slideshow": {
     "slide_type": "slide"
    }
   },
   "source": [
    "### Entscheidungsvariablen\n",
    "---\n",
    "Definieren Sie die Entscheidungsvariablen. Achten Sie auf die Definitionsbereiche:"
   ]
  },
  {
   "cell_type": "markdown",
   "metadata": {
    "slideshow": {
     "slide_type": "fragment"
    }
   },
   "source": [
    " **Nichtnegativitätsbedingung**: Die Entscheidungsvariablen, also die Produktions- und Absatzmengen, Lagerbestände, Fremdbezugsmengen und die in Anspruch genommenen Zusatzkapazitäten dürfen nur positive Werte annehmen, wir setzen deren Nichtnegativität voraus.\n",
    "\n",
    "$ \\qquad X_{it}, A_{it}, L_{it}, F_{it} \\geq 0 \\qquad \\qquad \\forall i \\in I, t \\in T$\n",
    "\n",
    "und $\\qquad \\qquad Z_{jt} \\geq 0 \\qquad \\qquad \\qquad  \\forall j \\in J, t \\in T $ "
   ]
  },
  {
   "cell_type": "code",
   "execution_count": null,
   "metadata": {
    "slideshow": {
     "slide_type": "fragment"
    }
   },
   "outputs": [],
   "source": [
    "@variables  m begin\n",
    "            X[1:I,1:T]>=0,Int  #Produktionsmenge von Produkt i in Periode t\n",
    "            A[1:I,1:T]>=0,Int  #Absatzmenge von Produkt i in Periode t\n",
    "            F[1:I,1:T]>=0,Int  #Fremdbezugsmenge von Produkt i in Periode t\n",
    "            Z[1:J,1:T]>=0,Int  #Zusatzkapazität von Ressource j in Periode t\n",
    "            L[1:I,0:T]>=0,Int; #Lagerbestand von Produkt i am Periodenende von t\n",
    "            end"
   ]
  },
  {
   "cell_type": "markdown",
   "metadata": {
    "slideshow": {
     "slide_type": "slide"
    }
   },
   "source": [
    "## Zielfunktion\n",
    "\n",
    " **Deckungsbeitragsmaximierung:** Der Gesamtdeckungsbeitrag db soll maximiert werden. Dieser berechnet sich hier aus der Summe der einzelnen Produkterlöse abzüglich der variablen Kosten, abzüglich der Lagerkosten, abzüglich der Fremdbezugskosten und wird Zusätzlich noch verringert um die Zusatzkapazitätskosten der Ressourcen.\n",
    "\n",
    "$  \\qquad \\max db = \\displaystyle\\sum_{i=1}^I \\sum_{t=1}^T (e_iA_{it}-k_i^vX_{it}-k_i^l L_{it}-k_i^fF_{it}) - \\sum_{j=1}^J \\sum_{t=1}^T (k_j^zZ_{jt}) $"
   ]
  },
  {
   "cell_type": "code",
   "execution_count": null,
   "metadata": {
    "scrolled": true,
    "slideshow": {
     "slide_type": "fragment"
    }
   },
   "outputs": [],
   "source": [
    "@objective(m, Max,  sum(e[i] * A[i,t] - kv[i] * X[i,t] - kl[i] * L[i,t] - kf[i] * F[i,t] \n",
    "           for i=1:I for t=1:T) - sum(kz[j] *Z[j,t] for j=1:J for t=1:T));"
   ]
  },
  {
   "cell_type": "markdown",
   "metadata": {
    "slideshow": {
     "slide_type": "slide"
    }
   },
   "source": [
    "## Nebenbedingungen"
   ]
  },
  {
   "cell_type": "markdown",
   "metadata": {
    "slideshow": {
     "slide_type": "fragment"
    }
   },
   "source": [
    "**Kapazitätsrestriktion**: Die zur Verfügung stehende Kapazität für die auf den einzelnen Ressourcen mögliche Produktionszeit darf nicht überschritten werden. Die Summe der Gesamtproduktionszeit aller Produkte $ i = 1,...,I $ auf den einzelnen Ressourcen j darf in jeder Periode die jeweils verfügbare Kapazität  $𝑐_j$ ergänzt um die Zusatzkapazität $o_{jt}$  nicht überschreiten.\n",
    "\n",
    "$ \\qquad \\sum_{i=1}^I(r_{ij}\\cdot X_{it}) \\leq c_j + z_{jt} \\qquad \\forall j \\in J, t \\in T $"
   ]
  },
  {
   "cell_type": "code",
   "execution_count": null,
   "metadata": {
    "slideshow": {
     "slide_type": "fragment"
    }
   },
   "outputs": [],
   "source": [
    "@constraint(m, KapRes[t=1:T,j=1:J], sum(r[i,j] * X[i,t] for i=1:I) <= c[j] + Z[j,t]);"
   ]
  },
  {
   "cell_type": "markdown",
   "metadata": {},
   "source": [
    " **Absatzuntergrenze**: Für die Produkte existieren Absatzuntergrenzen basierend auf der Nachfrage. Die abgesetzte Menge der einzelnen Produkte kann diese Absatzuntergrenze in keiner Periode unterschreiten.\n",
    "\n",
    "$ \\qquad A_{it} \\geq d_{it}^{min} \\qquad \\qquad \\qquad \\qquad \\forall i \\in I , t \\in T $"
   ]
  },
  {
   "cell_type": "code",
   "execution_count": null,
   "metadata": {},
   "outputs": [],
   "source": [
    "@constraint(m, AbsUn[i=1:I,t=1:T], A[i,t] >= dmin[i,t]);"
   ]
  },
  {
   "cell_type": "markdown",
   "metadata": {},
   "source": [
    " **Absatzobergrenze**: Für die Produkte existieren Absatzober- und untergrenzen basierend auf der Nachfrage. Die abgesetzte Menge der einzelnen Produkte kann diese Absatzobergrenze in keiner Periode überschreiten.\n",
    "\n",
    "$ \\qquad A_{it} \\leq d_{it}^{max} \\qquad \\qquad \\qquad \\qquad \\forall i \\in I , t \\in T $"
   ]
  },
  {
   "cell_type": "code",
   "execution_count": null,
   "metadata": {},
   "outputs": [],
   "source": [
    "@constraint(m, AbsOb[i=1:I,t=1:T], A[i,t] <= d[i,t]);"
   ]
  },
  {
   "cell_type": "markdown",
   "metadata": {
    "slideshow": {
     "slide_type": "fragment"
    }
   },
   "source": [
    " **Lagerbilanz**: Der Lagerbestand eines Produktes am Ende einer Periode berechnet sich aus der Summe der eingelagerten Menge in der Vorperiode, der Produktionsmenge und der Fremdbezugsmenge, abzüglich der abgesetzen Menge des Produktes.\n",
    "\n",
    "$ \\qquad L_{it}=L_{i,t-1}+X_{it}-A_{it}+F_{it} \\qquad \\forall i \\in I , t \\in T$"
   ]
  },
  {
   "cell_type": "code",
   "execution_count": null,
   "metadata": {
    "slideshow": {
     "slide_type": "fragment"
    }
   },
   "outputs": [],
   "source": [
    "@constraint(m, \"HIER CODE EINFUEGEN\");\n",
    "\n",
    "#Füge den fehlenden Code für die Lagerbilanzgleichung ein\n",
    "#Tipp: Schau dir die anderen Nebenbedingungen an um den Aufbau und die Syntax zu verstehen"
   ]
  },
  {
   "cell_type": "markdown",
   "metadata": {},
   "source": [
    "**Anfangslagerbestand**: Der Anfangslagerbestand aller Produkte entspricht dem initial gesetzen $l_i$.\n",
    " \n",
    "  $$ \\qquad L_{i,0} = l_{start} \\hspace{40mm} \\forall  i \\in I$$\n"
   ]
  },
  {
   "cell_type": "code",
   "execution_count": null,
   "metadata": {},
   "outputs": [],
   "source": [
    "@constraint(m, AnfLager[i=1:I], L[i,0] == l_start[i]);"
   ]
  },
  {
   "cell_type": "markdown",
   "metadata": {
    "slideshow": {
     "slide_type": "slide"
    }
   },
   "source": [
    " **Max. Zusatzkapazität**: Die eingesetzten Zusatzkapazitäten (Überstunden) für jede Ressource müssen in jeder Periode unter der Obergrenze, der maximalen Zusatzkapazität, bleiben. Die maximale Zusatzkapazität ist für jede Ressource j einzeln gegeben.\n",
    "\n",
    "$ \\qquad Z_{jt} \\leq z_j^{max}  \\qquad \\qquad \\qquad \\qquad \\forall j \\in J, t \\in T $"
   ]
  },
  {
   "cell_type": "code",
   "execution_count": null,
   "metadata": {
    "slideshow": {
     "slide_type": "fragment"
    }
   },
   "outputs": [],
   "source": [
    "@constraint(m, ZusatzKapa[j=1:J,t=1:T], Z[j,t] <= zmax[j] );"
   ]
  },
  {
   "cell_type": "markdown",
   "metadata": {
    "slideshow": {
     "slide_type": "fragment"
    }
   },
   "source": [
    " **Max. Fremdbezug**: Der dazugekaufte Fremdbezug jedes Produktes muss in allen Perioden unter der Obergrenze, dem maximalen Fremdbezug, bleiben. Der maximale Fremdbezug ist für jedes Produkt i einzeln gegeben. \n",
    "\n",
    "$ \\qquad F_{it} \\leq f_i^{max} \\qquad \\qquad \\qquad \\qquad \\forall i \\in I, t \\in T $"
   ]
  },
  {
   "cell_type": "code",
   "execution_count": null,
   "metadata": {
    "slideshow": {
     "slide_type": "fragment"
    }
   },
   "outputs": [],
   "source": [
    "@constraint(m, MaxFB[i=1:I,t=1:T], F[i,t] <= fmax[i,t] );"
   ]
  },
  {
   "cell_type": "markdown",
   "metadata": {
    "slideshow": {
     "slide_type": "slide"
    }
   },
   "source": [
    "## Lösen Sie das Modell.\n",
    "---"
   ]
  },
  {
   "cell_type": "code",
   "execution_count": null,
   "metadata": {
    "slideshow": {
     "slide_type": "fragment"
    }
   },
   "outputs": [],
   "source": [
    "\"HIER CODE EINFUEGEN\"\n",
    "#Befehl zum Lösen des Modells einfügen\n",
    "#Tipp: Im Modell der Vorlesung wurde dieser Befehl bereits verwendet"
   ]
  },
  {
   "cell_type": "markdown",
   "metadata": {},
   "source": [
    "Lassen Sie sich das Modell anzeigen."
   ]
  },
  {
   "cell_type": "code",
   "execution_count": null,
   "metadata": {
    "scrolled": true
   },
   "outputs": [],
   "source": [
    "\"HIER CODE EINFUEGEN\"\n",
    "#Befehl zum Anzeigen des Modells einfügen\n",
    "#Tipp: Im Modell der Vorlesung wurde dieser Befehl bereits verwendet"
   ]
  },
  {
   "cell_type": "markdown",
   "metadata": {
    "slideshow": {
     "slide_type": "fragment"
    }
   },
   "source": [
    "Lassen Sie sich den Zielfunktionswert anzeigen."
   ]
  },
  {
   "cell_type": "code",
   "execution_count": null,
   "metadata": {
    "slideshow": {
     "slide_type": "fragment"
    }
   },
   "outputs": [],
   "source": [
    "db = \"HIER CODE EINFUEGEN\"\n",
    "#Befehl zum Anzeigen des Zielfunktionswertes einfügen\n",
    "#Tipp: Im Modell der Vorlesung wurde dieser Befehl bereits verwendet\n",
    "\n",
    "println(\"Objective value db: \", round(Int64,db)) #gibt den gerundeten Wert der Variable db aus"
   ]
  },
  {
   "cell_type": "markdown",
   "metadata": {},
   "source": [
    "Beispiel zur Berechnung der Erlöse der abgesetzten Herren-Sonnenbrillen:"
   ]
  },
  {
   "cell_type": "code",
   "execution_count": null,
   "metadata": {},
   "outputs": [],
   "source": [
    "round(Int64,sum(JuMP.value.(A[2,t])*e[2] for t in 1:T))"
   ]
  },
  {
   "cell_type": "markdown",
   "metadata": {},
   "source": [
    "Platz für weitere Berechnungen:"
   ]
  },
  {
   "cell_type": "code",
   "execution_count": null,
   "metadata": {},
   "outputs": [],
   "source": []
  },
  {
   "cell_type": "code",
   "execution_count": null,
   "metadata": {},
   "outputs": [],
   "source": []
  },
  {
   "cell_type": "code",
   "execution_count": null,
   "metadata": {},
   "outputs": [],
   "source": []
  },
  {
   "cell_type": "code",
   "execution_count": null,
   "metadata": {},
   "outputs": [],
   "source": []
  },
  {
   "cell_type": "code",
   "execution_count": null,
   "metadata": {},
   "outputs": [],
   "source": []
  },
  {
   "cell_type": "code",
   "execution_count": null,
   "metadata": {},
   "outputs": [],
   "source": []
  },
  {
   "cell_type": "code",
   "execution_count": null,
   "metadata": {},
   "outputs": [],
   "source": []
  },
  {
   "cell_type": "code",
   "execution_count": null,
   "metadata": {},
   "outputs": [],
   "source": []
  },
  {
   "cell_type": "code",
   "execution_count": null,
   "metadata": {},
   "outputs": [],
   "source": []
  }
 ],
 "metadata": {
  "kernelspec": {
   "display_name": "JuliaPro_v1.5.3-1 1.5.3",
   "language": "julia",
   "name": "juliapro_v1.5.3-1-1.5"
  },
  "language_info": {
   "file_extension": ".jl",
   "mimetype": "application/julia",
   "name": "julia",
   "version": "1.5.3"
  }
 },
 "nbformat": 4,
 "nbformat_minor": 2
}
