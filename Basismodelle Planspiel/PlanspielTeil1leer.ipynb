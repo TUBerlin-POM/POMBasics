{
 "cells": [
  {
   "cell_type": "markdown",
   "metadata": {
    "slideshow": {
     "slide_type": "slide"
    }
   },
   "source": [
    "## Einrichtung von Julia JuMP\n",
    "---"
   ]
  },
  {
   "cell_type": "markdown",
   "metadata": {
    "slideshow": {
     "slide_type": "fragment"
    }
   },
   "source": [
    "Überprüfen Sie die bereits installierten Pakete. Es sind möglicherweise alle notwendigen Pakete bereits vorhanden."
   ]
  },
  {
   "cell_type": "code",
   "execution_count": 1,
   "metadata": {
    "slideshow": {
     "slide_type": "fragment"
    }
   },
   "outputs": [
    {
     "name": "stdout",
     "output_type": "stream",
     "text": [
      "\u001b[32m\u001b[1mStatus\u001b[22m\u001b[39m `~/.julia/environments/v1.4/Project.toml`\n",
      " \u001b[90m [336ed68f]\u001b[39m\u001b[37m CSV v0.6.2\u001b[39m\n",
      " \u001b[90m [9961bab8]\u001b[39m\u001b[37m Cbc v0.7.0\u001b[39m\n",
      " \u001b[90m [a93c6f00]\u001b[39m\u001b[37m DataFrames v0.21.2\u001b[39m\n",
      " \u001b[90m [7073ff75]\u001b[39m\u001b[37m IJulia v1.21.2\u001b[39m\n",
      " \u001b[90m [4076af6c]\u001b[39m\u001b[37m JuMP v0.21.2\u001b[39m\n",
      " \u001b[90m [f3b207a7]\u001b[39m\u001b[37m StatsPlots v0.14.6\u001b[39m\n"
     ]
    }
   ],
   "source": [
    "using Pkg;\n",
    "Pkg.status()"
   ]
  },
  {
   "cell_type": "markdown",
   "metadata": {
    "slideshow": {
     "slide_type": "slide"
    }
   },
   "source": [
    "Installieren Sie ``JuMP`` , mit dem Sie einfach Optimierungsprogramme formulieren können, sowie ``Cbc``, einen open-source Solver zum Lösen des Problems, und ``StatsPlots`` zur Visualisierung der Lösung.\n",
    "\n",
    "\n"
   ]
  },
  {
   "cell_type": "code",
   "execution_count": 2,
   "metadata": {
    "slideshow": {
     "slide_type": "fragment"
    }
   },
   "outputs": [],
   "source": [
    "#Pkg.add(\"JuMP\")\n",
    "#Pkg.add(\"Cbc\");\n",
    "#Pkg.add(\"StatsPlots\");"
   ]
  },
  {
   "cell_type": "markdown",
   "metadata": {
    "slideshow": {
     "slide_type": "fragment"
    }
   },
   "source": [
    "Initialisieren Sie die installierten Pakete, damit sie im folgenden Notebook verwendet werden können.\n"
   ]
  },
  {
   "cell_type": "code",
   "execution_count": 3,
   "metadata": {
    "slideshow": {
     "slide_type": "fragment"
    }
   },
   "outputs": [
    {
     "name": "stderr",
     "output_type": "stream",
     "text": [
      "┌ Info: Precompiling StatsPlots [f3b207a7-027a-5e70-b257-86293d7955fd]\n",
      "└ @ Base loading.jl:1260\n"
     ]
    }
   ],
   "source": [
    "using JuMP, Cbc, StatsPlots;"
   ]
  },
  {
   "cell_type": "markdown",
   "metadata": {
    "slideshow": {
     "slide_type": "slide"
    }
   },
   "source": [
    "# Aggregierte Planung\n",
    "\n",
    "### Entscheidungsvariablen:\n",
    "\n",
    "Bestimmung der optimalen **Produktionsmengen, Absatzmengen, Fremdbezugsmengen** und **Lagerbestände** der Produkte, sowie der optimal zu nutzenden **Zusatzkapazität** der Ressourcen je Periode, \n",
    "\n",
    "### Zielfunktion:\n",
    "\n",
    "0) **Deckungsbeitragsmaximierung**: $$  \\qquad \\max db = \\displaystyle\\sum_{i=1}^I \\sum_{t=1}^T (e_iA_{it}-k_i^vX_{it}-k_i^l L_{it}-k_i^fF_{it}) - \\sum_{j=1}^J \\sum_{t=1}^T (k_j^zZ_{jt}) $$\n"
   ]
  },
  {
   "cell_type": "markdown",
   "metadata": {
    "slideshow": {
     "slide_type": "slide"
    }
   },
   "source": [
    "### Nebenbedingungen:\n",
    "\n",
    "1) **Kapazitaetsrestriktion:** $ \\hspace{41mm} \\sum_{i=1}^I(r_{ij}\\cdot X_{it}) \\leq c_j + z_{jt} \\hspace{40mm} \\forall j \\in J, t \\in T $\n",
    "\n",
    "2) **Absatzobergrenze:** $\\hspace{38mm} \\qquad A_{it} \\leq d_{it} \\hspace{69mm} \\forall i \\in I , t \\in T $\n",
    "\n",
    "\n",
    "3) **Absatzuntergrenze:** $ \\hspace{37mm}\\qquad A_{it} \\geq d_{it}^{min} \\hspace{66mm} \\forall i \\in I , t \\in T $\n",
    " \n",
    "4) **Lagerbilanz:** $ \\hspace{61mm} L_{it}=L_{i,t-1}+X_{it}-A_{it}+F_{it} \\hspace{31mm} \\forall i \\in I , t \\in T$\n",
    "\n",
    "5) **Anfangslagerbestand:**   $ \\hspace{43mm} L_{i,0} = l_{start} \\hspace{64mm} \\forall  i \\in I$\n",
    "\n",
    "\n",
    "6) **Max. Zusatzkapazität:** $ \\hspace{44mm} Z_{jt} \\leq z_j^{max}  \\hspace{65mm} \\forall j \\in J, t \\in T $\n",
    "\n",
    "7) **Max. Fremdbezug:** $ \\hspace{49mm} F_{it} \\leq f_i^{max} \\hspace{65mm} \\forall i \\in I, t \\in T $\n",
    "\n",
    "8) **Nichtnegativitätsbedingung:** $ \\hspace{31mm} X_{it}, A_{it}, L_{it}, F_{it} \\geq 0 \\hspace{49mm} \\forall i \\in I, t \\in T$\n",
    "\n",
    "und $\\hspace{81mm} Z_{jt} \\geq 0 \\hspace{71mm}  \\forall j \\in J, t \\in T $ \n",
    "\n",
    "* * *"
   ]
  },
  {
   "cell_type": "markdown",
   "metadata": {
    "slideshow": {
     "slide_type": "slide"
    }
   },
   "source": [
    "## Verwendete Symbole"
   ]
  },
  {
   "cell_type": "markdown",
   "metadata": {
    "slideshow": {
     "slide_type": "fragment"
    }
   },
   "source": [
    "### Mengen\n",
    "\n",
    "$i \\in (1,..,I)\\hspace{20mm} $ Produkte  \n",
    "\n",
    "$j \\in (1,..,J)\\hspace{20mm}$  Ressourcen \n",
    "\n",
    "$t \\in (1,..,T)\\hspace{20mm}$  Zeiten "
   ]
  },
  {
   "cell_type": "markdown",
   "metadata": {
    "slideshow": {
     "slide_type": "fragment"
    }
   },
   "source": [
    "### Variablen\n",
    "\n",
    "$X_{it}$  $\\geq0$      $\\hspace{28mm}$ Produktionsmenge      \n",
    "\n",
    "$A_{it}$  $ \\geq 0 $  $\\hspace{28mm} $ Absatzmenge \n",
    "\n",
    "$L_{it}$  $\\geq0$  $\\hspace{28mm} $ Lagerbestand  \n",
    "\n",
    "$F_{it}$       $ \\geq0$    $\\hspace{28mm} $ Fremdbezug   \n",
    "\n",
    "$Z_{jt}$      $\\geq0$      $\\hspace{27mm} $ Zusatzkapazität  \n"
   ]
  },
  {
   "cell_type": "markdown",
   "metadata": {
    "slideshow": {
     "slide_type": "slide"
    }
   },
   "source": [
    "### Parameter\n",
    "\n",
    "$e_i \\hspace{39mm}$   Erlös    \n",
    "\n",
    "$k_i^v \\hspace{38mm}$ variable Kosten\n",
    "\n",
    "$k_i^l \\hspace{38mm}$ Lagerkostensatz \n",
    "\n",
    "$k_j^z \\hspace{38mm}$ Überstundenkostensatz \n",
    "\n",
    "$k_i^f \\hspace{38mm}$ Fremdbezugskosten \n",
    "\n",
    "$d_{it} \\hspace{38mm}$  Nachfrage  \n",
    "\n",
    "$d_{it}^{min} \\hspace{36mm}$ Absatzuntergrenze  \n",
    "\n",
    "$r_{ij} \\hspace{38mm}$  Produktionskoeffizient \n",
    "\n",
    "$c_j \\hspace{39mm}$  Kapazität  \n",
    "\n",
    "$l_{start} \\hspace{34mm}$  Anfangslagerbestand  \n",
    "\n",
    "$z_j^{max} \\hspace{34mm}$ max. Zusatzkapazität \n",
    "\n",
    "$f_i^{max} \\hspace{33mm}$  max. Fremdbezug\n",
    "\n",
    " * * *\n",
    " "
   ]
  },
  {
   "cell_type": "markdown",
   "metadata": {
    "slideshow": {
     "slide_type": "slide"
    }
   },
   "source": [
    "## Erstellen Sie das Modell namens ``m`` und geben Sie als zu verwendenden Solver Cbc an.\n",
    "---"
   ]
  },
  {
   "cell_type": "code",
   "execution_count": 4,
   "metadata": {
    "slideshow": {
     "slide_type": "fragment"
    }
   },
   "outputs": [],
   "source": [
    "m = Model(Cbc.Optimizer);"
   ]
  },
  {
   "cell_type": "markdown",
   "metadata": {
    "slideshow": {
     "slide_type": "slide"
    }
   },
   "source": [
    "### Mengen und Parameter\n",
    "---"
   ]
  },
  {
   "cell_type": "markdown",
   "metadata": {
    "slideshow": {
     "slide_type": "fragment"
    }
   },
   "source": [
    "Fügen Sie die Mengen ein."
   ]
  },
  {
   "cell_type": "code",
   "execution_count": 5,
   "metadata": {
    "slideshow": {
     "slide_type": "fragment"
    }
   },
   "outputs": [],
   "source": [
    "#Mengen\n",
    "Produkte = []  \n",
    "Ressourcen = []\n",
    "#In unserem Fall gibt es nur eine Ressource\n",
    "Perioden = []\n",
    "\n",
    "#Längen\n",
    "I = length(Produkte);\n",
    "J = length(Ressourcen);\n",
    "T = length(Perioden);"
   ]
  },
  {
   "cell_type": "markdown",
   "metadata": {
    "slideshow": {
     "slide_type": "slide"
    }
   },
   "source": [
    "Fügen Sie die Parameter ein."
   ]
  },
  {
   "cell_type": "code",
   "execution_count": 6,
   "metadata": {
    "slideshow": {
     "slide_type": "fragment"
    }
   },
   "outputs": [
    {
     "data": {
      "text/plain": [
       "0-element Array{Any,1}"
      ]
     },
     "execution_count": 6,
     "metadata": {},
     "output_type": "execute_result"
    }
   ],
   "source": [
    "r = [];\n",
    "#Ressourcenverbrauch von Ressource j durch Produkt i\n",
    "#Hinweis: Einheiten beachten (Stunden/Minuten)\n",
    "\n",
    "       \n",
    "d = [];\n",
    "#Nachfrage von Produkt i in Periode t\n",
    " \n",
    "        \n",
    "dmin = d\n",
    "#Absatzuntergrenze von Produkt i in Periode t\n",
    "#Hinweis: Die Nachfrage muss komplett erfüllt werden"
   ]
  },
  {
   "cell_type": "code",
   "execution_count": 7,
   "metadata": {
    "slideshow": {
     "slide_type": "slide"
    }
   },
   "outputs": [],
   "source": [
    "c = [];                   #Kapazität der Ressource j\n",
    "#Hinweis: Gehen Sie vereinfachend davon aus, dass ein Monat 4 Wochen hat.\n",
    "\n",
    "e = [];                   #Erlös des Produktes\n",
    "\n",
    "kf =   [];                #Fremdbezugskostensatz der Produkte \n",
    "#Hinweis: hier nur langfr. Fremdbezug: günstigeren Kostensatz verwenden\n",
    "\n",
    "kl =  [];                 #Lagerkostensatz der Produkte\n",
    "\n",
    "kz =   [];                #Überstundenkostensatz von Ressource j\n",
    "\n",
    "kv =  [];                 #variable Herstellkosten der Produkte\n",
    "\n",
    "zmax =  [];               #Max. Zusatzkapazität von Ressource j\n",
    "\n",
    "l_start =   [];           #Anfangslagerbestand der Produkte\n",
    "\n",
    "\n",
    "           \n",
    "fmax = [];  \n",
    "                          #Maximaler Fremdbezug von Produkt i in Periode t"
   ]
  },
  {
   "cell_type": "markdown",
   "metadata": {
    "slideshow": {
     "slide_type": "slide"
    }
   },
   "source": [
    "### Entscheidungsvariablen\n",
    "---\n",
    "Definieren Sie die Entscheidungsvariablen. Achten Sie auf die Definitionsbereiche:"
   ]
  },
  {
   "cell_type": "markdown",
   "metadata": {
    "slideshow": {
     "slide_type": "fragment"
    }
   },
   "source": [
    " **Nichtnegativitätsbedingung**: Die Entscheidungsvariablen, also die Produktions- und Absatzmengen, Lagerbestände, Fremdbezugsmengen und die in Anspruch genommenen Zusatzkapazitäten dürfen nur positive Werte annehmen, wir setzen deren Nichtnegativität voraus.\n",
    "\n",
    "$ \\qquad X_{it}, A_{it}, L_{it}, F_{it} \\geq 0 \\qquad \\qquad \\forall i \\in I, t \\in T$\n",
    "\n",
    "und $\\qquad \\qquad Z_{jt} \\geq 0 \\qquad \\qquad \\qquad  \\forall j \\in J, t \\in T $ "
   ]
  },
  {
   "cell_type": "code",
   "execution_count": 8,
   "metadata": {
    "slideshow": {
     "slide_type": "fragment"
    }
   },
   "outputs": [],
   "source": [
    "@variables  m begin\n",
    "            X[1:I,1:T]>=0,Int  #Produktionsmenge von Produkt i in Periode t\n",
    "            A[1:I,1:T]>=0,Int  #Absatzmenge von Produkt i in Periode t\n",
    "            F[1:I,1:T]>=0,Int  #Fremdbezugsmenge von Produkt i in Periode t\n",
    "            Z[1:J,1:T]>=0,Int  #Zusatzkapazität von Ressource j in Periode t\n",
    "            L[1:I,0:T]>=0,Int; #Lagerbestand von Produkt i am Periodenende von t\n",
    "            end"
   ]
  },
  {
   "cell_type": "markdown",
   "metadata": {
    "slideshow": {
     "slide_type": "slide"
    }
   },
   "source": [
    "## Zielfunktion\n",
    "\n",
    " **Deckungsbeitragsmaximierung:** Der Gesamtdeckungsbeitrag db soll maximiert werden. Dieser berechnet sich hier aus der Summe der einzelnen Produkterlöse abzüglich der variablen Kosten, abzüglich der Lagerkosten, abzüglich der Fremdbezugskosten und wird Zusätzlich noch verringert um die Zusatzkapazitätskosten der Ressourcen.\n",
    "\n",
    "$  \\qquad \\max db = \\displaystyle\\sum_{i=1}^I \\sum_{t=1}^T (e_iA_{it}-k_i^vX_{it}-k_i^l L_{it}-k_i^fF_{it}) - \\sum_{j=1}^J \\sum_{t=1}^T (k_j^zZ_{jt}) $"
   ]
  },
  {
   "cell_type": "code",
   "execution_count": 9,
   "metadata": {
    "scrolled": true,
    "slideshow": {
     "slide_type": "fragment"
    }
   },
   "outputs": [
    {
     "ename": "ErrorException",
     "evalue": "The objective function `MutableArithmetics.Zero()` is not supported by JuMP.",
     "output_type": "error",
     "traceback": [
      "The objective function `MutableArithmetics.Zero()` is not supported by JuMP.",
      "",
      "Stacktrace:",
      " [1] error(::String) at ./error.jl:33",
      " [2] set_objective(::Model, ::MathOptInterface.OptimizationSense, ::MutableArithmetics.Zero) at /Users/paulaxmann/.julia/packages/JuMP/MnJQc/src/objective.jl:128",
      " [3] macro expansion at /Users/paulaxmann/.julia/packages/JuMP/MnJQc/src/macros.jl:763 [inlined]",
      " [4] top-level scope at ./In[9]:1"
     ]
    }
   ],
   "source": [
    "@objective(m, Max,  sum(e[i] * A[i,t] - kv[i] * X[i,t] - kl[i] * L[i,t] - kf[i] * F[i,t] \n",
    "           for i=1:I for t=1:T) - sum(kz[j] *Z[j,t] for j=1:J for t=1:T));"
   ]
  },
  {
   "cell_type": "markdown",
   "metadata": {
    "slideshow": {
     "slide_type": "slide"
    }
   },
   "source": [
    "## Nebenbedingungen"
   ]
  },
  {
   "cell_type": "markdown",
   "metadata": {
    "slideshow": {
     "slide_type": "fragment"
    }
   },
   "source": [
    "**Kapazitätsrestriktion**: Die zur Verfügung stehende Kapazität für die auf den einzelnen Ressourcen mögliche Produktionszeit darf nicht überschritten werden. Die Summe der Gesamtproduktionszeit aller Produkte $ i = 1,...,I $ auf den einzelnen Ressourcen j darf in jeder Periode die jeweils verfügbare Kapazität  $𝑐_j$ ergänzt um die Zusatzkapazität $o_{jt}$  nicht überschreiten.\n",
    "\n",
    "$ \\qquad \\sum_{i=1}^I(r_{ij}\\cdot X_{it}) \\leq c_j + z_{jt} \\qquad \\forall j \\in J, t \\in T $"
   ]
  },
  {
   "cell_type": "code",
   "execution_count": 10,
   "metadata": {
    "slideshow": {
     "slide_type": "fragment"
    }
   },
   "outputs": [],
   "source": [
    "@constraint(m, KapRes[t=1:T,j=1:J], sum(r[i,j] * X[i,t] for i=1:I) <= c[j] + Z[j,t]);"
   ]
  },
  {
   "cell_type": "markdown",
   "metadata": {},
   "source": [
    " **Absatzuntergrenze**: Für die Produkte existieren Absatzuntergrenzen basierend auf der Nachfrage. Die abgesetzte Menge der einzelnen Produkte kann diese Absatzuntergrenze in keiner Periode unterschreiten.\n",
    "\n",
    "$ \\qquad A_{it} \\geq d_{it}^{min} \\qquad \\qquad \\qquad \\qquad \\forall i \\in I , t \\in T $"
   ]
  },
  {
   "cell_type": "code",
   "execution_count": 11,
   "metadata": {},
   "outputs": [],
   "source": [
    "@constraint(m, AbsUn[i=1:I,t=1:T], A[i,t] >= dmin[i,t]);"
   ]
  },
  {
   "cell_type": "markdown",
   "metadata": {},
   "source": [
    " **Absatzobergrenze**: Für die Produkte existieren Absatzober- und untergrenzen basierend auf der Nachfrage. Die abgesetzte Menge der einzelnen Produkte kann diese Absatzobergrenze in keiner Periode überschreiten.\n",
    "\n",
    "$ \\qquad A_{it} \\leq d_{it}^{max} \\qquad \\qquad \\qquad \\qquad \\forall i \\in I , t \\in T $"
   ]
  },
  {
   "cell_type": "code",
   "execution_count": 12,
   "metadata": {},
   "outputs": [],
   "source": [
    "@constraint(m, AbsOb[i=1:I,t=1:T], A[i,t] <= d[i,t]);"
   ]
  },
  {
   "cell_type": "markdown",
   "metadata": {
    "slideshow": {
     "slide_type": "fragment"
    }
   },
   "source": [
    " **Lagerbilanz**: Der Lagerbestand eines Produktes am Ende einer Periode berechnet sich aus der Summe der eingelagerten Menge in der Vorperiode, der Produktionsmenge und der Fremdbezugsmenge, abzüglich der abgesetzen Menge des Produktes.\n",
    "\n",
    "$ \\qquad L_{it}=L_{i,t-1}+X_{it}-A_{it}+F_{it} \\qquad \\forall i \\in I , t \\in T$"
   ]
  },
  {
   "cell_type": "code",
   "execution_count": 13,
   "metadata": {
    "slideshow": {
     "slide_type": "fragment"
    }
   },
   "outputs": [],
   "source": [
    "#Füge den fehlenden Code ein"
   ]
  },
  {
   "cell_type": "markdown",
   "metadata": {},
   "source": [
    "**Anfangslagerbestand**: Der Anfangslagerbestand aller Produkte entspricht dem initial gesetzen $l_i$.\n",
    " \n",
    "  $$ \\qquad L_{i,0} = l_{start} \\hspace{40mm} \\forall  i \\in I$$\n"
   ]
  },
  {
   "cell_type": "code",
   "execution_count": 14,
   "metadata": {},
   "outputs": [],
   "source": [
    "@constraint(m, AnfLager[i=1:I], L[i,0] == l_start[i]);"
   ]
  },
  {
   "cell_type": "markdown",
   "metadata": {
    "slideshow": {
     "slide_type": "slide"
    }
   },
   "source": [
    " **Max. Zusatzkapazität**: Die eingesetzten Zusatzkapazitäten (Überstunden) für jede Ressource müssen in jeder Periode unter der Obergrenze, der maximalen Zusatzkapazität, bleiben. Die maximale Zusatzkapazität ist für jede Ressource j einzeln gegeben.\n",
    "\n",
    "$ \\qquad Z_{jt} \\leq z_j^{max}  \\qquad \\qquad \\qquad \\qquad \\forall j \\in J, t \\in T $"
   ]
  },
  {
   "cell_type": "code",
   "execution_count": 15,
   "metadata": {
    "slideshow": {
     "slide_type": "fragment"
    }
   },
   "outputs": [],
   "source": [
    "@constraint(m, ZusatzKapa[j=1:J,t=1:T], Z[j,t] <= zmax[j] );"
   ]
  },
  {
   "cell_type": "markdown",
   "metadata": {
    "slideshow": {
     "slide_type": "fragment"
    }
   },
   "source": [
    " **Max. Fremdbezug**: Der dazugekaufte Fremdbezug jedes Produktes muss in allen Perioden unter der Obergrenze, dem maximalen Fremdbezug, bleiben. Der maximale Fremdbezug ist für jedes Produkt i einzeln gegeben. \n",
    "\n",
    "$ \\qquad F_{it} \\leq f_i^{max} \\qquad \\qquad \\qquad \\qquad \\forall i \\in I, t \\in T $"
   ]
  },
  {
   "cell_type": "code",
   "execution_count": 16,
   "metadata": {
    "slideshow": {
     "slide_type": "fragment"
    }
   },
   "outputs": [],
   "source": [
    "@constraint(m, MaxFB[i=1:I,t=1:T], F[i,t] <= fmax[i,t] );"
   ]
  },
  {
   "cell_type": "markdown",
   "metadata": {
    "slideshow": {
     "slide_type": "slide"
    }
   },
   "source": [
    "## Lösen Sie das Modell.\n",
    "---"
   ]
  },
  {
   "cell_type": "code",
   "execution_count": 17,
   "metadata": {
    "slideshow": {
     "slide_type": "fragment"
    }
   },
   "outputs": [],
   "source": [
    "#Befehl zum Lösen des Modells einfügen"
   ]
  },
  {
   "cell_type": "markdown",
   "metadata": {},
   "source": [
    "Lassen Sie sich das Modell anzeigen."
   ]
  },
  {
   "cell_type": "code",
   "execution_count": 18,
   "metadata": {
    "scrolled": true
   },
   "outputs": [],
   "source": [
    "#Befehl zum Anzeigen des Modells einfügen"
   ]
  },
  {
   "cell_type": "markdown",
   "metadata": {
    "slideshow": {
     "slide_type": "fragment"
    }
   },
   "source": [
    "Lassen Sie sich den Zielfunktionswert anzeigen."
   ]
  },
  {
   "cell_type": "code",
   "execution_count": 19,
   "metadata": {
    "slideshow": {
     "slide_type": "fragment"
    }
   },
   "outputs": [
    {
     "ename": "UndefVarError",
     "evalue": "UndefVarError: db not defined",
     "output_type": "error",
     "traceback": [
      "UndefVarError: db not defined",
      "",
      "Stacktrace:",
      " [1] top-level scope at In[19]:1"
     ]
    }
   ],
   "source": [
    "db = #Befehl zum Anzeigen des Zielfunktionswertes einfügen\n",
    "\n",
    "println(\"Objective value db: \", round(Int64,db))"
   ]
  },
  {
   "cell_type": "markdown",
   "metadata": {},
   "source": [
    "Beispiel zur Berechnung der Erlöse der abgesetzten Herren-Sonnenbrillen:"
   ]
  },
  {
   "cell_type": "code",
   "execution_count": 20,
   "metadata": {},
   "outputs": [
    {
     "ename": "ArgumentError",
     "evalue": "ArgumentError: reducing over an empty collection is not allowed",
     "output_type": "error",
     "traceback": [
      "ArgumentError: reducing over an empty collection is not allowed",
      "",
      "Stacktrace:",
      " [1] _empty_reduce_error() at ./reduce.jl:295",
      " [2] mapreduce_empty(::Function, ::Base.BottomRF{typeof(Base.add_sum)}, ::Type{T} where T) at ./reduce.jl:334",
      " [3] reduce_empty(::Base.MappingRF{var\"#25#26\",Base.BottomRF{typeof(Base.add_sum)}}, ::Type{T} where T) at ./reduce.jl:321",
      " [4] reduce_empty_iter at ./reduce.jl:347 [inlined]",
      " [5] reduce_empty_iter at ./reduce.jl:346 [inlined]",
      " [6] foldl_impl at ./reduce.jl:46 [inlined]",
      " [7] mapfoldl_impl at ./reduce.jl:41 [inlined]",
      " [8] #mapfoldl#189 at ./reduce.jl:157 [inlined]",
      " [9] mapfoldl at ./reduce.jl:157 [inlined]",
      " [10] #mapreduce#193 at ./reduce.jl:283 [inlined]",
      " [11] mapreduce at ./reduce.jl:283 [inlined]",
      " [12] sum at ./reduce.jl:486 [inlined]",
      " [13] sum(::Base.Generator{UnitRange{Int64},var\"#25#26\"}) at ./reduce.jl:503",
      " [14] top-level scope at In[20]:1"
     ]
    }
   ],
   "source": [
    "round(Int64,sum(JuMP.value.(A[2,t])*e[2] for t in 1:T))"
   ]
  },
  {
   "cell_type": "markdown",
   "metadata": {},
   "source": [
    "Platz für weitere Berechnungen:"
   ]
  },
  {
   "cell_type": "code",
   "execution_count": null,
   "metadata": {},
   "outputs": [],
   "source": []
  },
  {
   "cell_type": "code",
   "execution_count": null,
   "metadata": {},
   "outputs": [],
   "source": []
  },
  {
   "cell_type": "code",
   "execution_count": null,
   "metadata": {},
   "outputs": [],
   "source": []
  },
  {
   "cell_type": "code",
   "execution_count": null,
   "metadata": {},
   "outputs": [],
   "source": []
  },
  {
   "cell_type": "code",
   "execution_count": null,
   "metadata": {},
   "outputs": [],
   "source": []
  },
  {
   "cell_type": "code",
   "execution_count": null,
   "metadata": {},
   "outputs": [],
   "source": []
  },
  {
   "cell_type": "code",
   "execution_count": null,
   "metadata": {},
   "outputs": [],
   "source": []
  },
  {
   "cell_type": "code",
   "execution_count": null,
   "metadata": {},
   "outputs": [],
   "source": []
  },
  {
   "cell_type": "code",
   "execution_count": null,
   "metadata": {},
   "outputs": [],
   "source": []
  }
 ],
 "metadata": {
  "kernelspec": {
   "display_name": "Julia 1.4.1",
   "language": "julia",
   "name": "julia-1.4"
  },
  "language_info": {
   "file_extension": ".jl",
   "mimetype": "application/julia",
   "name": "julia",
   "version": "1.4.1"
  }
 },
 "nbformat": 4,
 "nbformat_minor": 2
}
