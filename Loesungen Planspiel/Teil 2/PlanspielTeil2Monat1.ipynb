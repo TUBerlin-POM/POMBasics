{
 "cells": [
  {
   "cell_type": "markdown",
   "metadata": {
    "slideshow": {
     "slide_type": "slide"
    }
   },
   "source": [
    "## Einrichtung von Julia JuMP\n",
    "---\n",
    "Überprüfen Sie die bereits installierten Pakete. In der JuliaBox sind möglicherweise alle notwendigen Pakete bereits vorhanden."
   ]
  },
  {
   "cell_type": "code",
   "execution_count": 1,
   "metadata": {
    "slideshow": {
     "slide_type": "fragment"
    }
   },
   "outputs": [
    {
     "name": "stdout",
     "output_type": "stream",
     "text": [
      "\u001b[32m\u001b[1mStatus\u001b[22m\u001b[39m `C:\\Users\\ICH\\.juliapro\\JuliaPro_v1.4.1-1\\environments\\v1.4\\Project.toml`\n",
      " \u001b[90m [c52e3926]\u001b[39m\u001b[37m Atom v0.12.10 ⚲\u001b[39m\n",
      " \u001b[90m [9961bab8]\u001b[39m\u001b[37m Cbc v0.7.0\u001b[39m\n",
      " \u001b[90m [e2554f3b]\u001b[39m\u001b[37m Clp v0.8.0\u001b[39m\n",
      " \u001b[90m [7a1cc6ca]\u001b[39m\u001b[37m FFTW v1.2.2\u001b[39m\n",
      " \u001b[90m [7073ff75]\u001b[39m\u001b[37m IJulia v1.21.2\u001b[39m\n",
      " \u001b[90m [4076af6c]\u001b[39m\u001b[37m JuMP v0.21.2\u001b[39m\n",
      " \u001b[90m [e5e0dc1b]\u001b[39m\u001b[37m Juno v0.8.1 ⚲\u001b[39m\n",
      " \u001b[90m [4722fa14]\u001b[39m\u001b[37m PkgAuthentication v0.1.2\u001b[39m\n",
      " \u001b[90m [f3b207a7]\u001b[39m\u001b[37m StatsPlots v0.14.6\u001b[39m\n",
      " \u001b[90m [44d3d7a6]\u001b[39m\u001b[37m Weave v0.10.2\u001b[39m\n",
      " \u001b[90m [44cfe95a]\u001b[39m\u001b[37m Pkg \u001b[39m\n"
     ]
    }
   ],
   "source": [
    "using Pkg;\n",
    "Pkg.status()"
   ]
  },
  {
   "cell_type": "markdown",
   "metadata": {
    "slideshow": {
     "slide_type": "slide"
    }
   },
   "source": [
    "Installieren Sie ``JuMP`` , mit dem Sie einfach Optimierungsprogramme formulieren können, sowie ``Cbc`` einen open-source Solver zum Lösen des Problems, und ``StatsPlots`` zur Visualisierung der Lösung."
   ]
  },
  {
   "cell_type": "code",
   "execution_count": 2,
   "metadata": {
    "slideshow": {
     "slide_type": "fragment"
    }
   },
   "outputs": [],
   "source": [
    "#Pkg.add(\"JuMP\")\n",
    "#Pkg.add(\"Cbc\");\n",
    "#Pkg.add(\"StatsPlots\");"
   ]
  },
  {
   "cell_type": "markdown",
   "metadata": {
    "slideshow": {
     "slide_type": "fragment"
    }
   },
   "source": [
    "Richten Sie die installierten Pakete so ein, dass sie im folgenden Code verwendet werden können."
   ]
  },
  {
   "cell_type": "code",
   "execution_count": 3,
   "metadata": {
    "slideshow": {
     "slide_type": "fragment"
    }
   },
   "outputs": [],
   "source": [
    "using JuMP, Cbc, StatsPlots;"
   ]
  },
  {
   "cell_type": "markdown",
   "metadata": {
    "slideshow": {
     "slide_type": "slide"
    }
   },
   "source": [
    "# Planspiel Schritt 2: Capacitated Lot Sizing Problem\n",
    "\n"
   ]
  },
  {
   "cell_type": "markdown",
   "metadata": {},
   "source": [
    "### Ergebnisse aus Teil 1"
   ]
  },
  {
   "cell_type": "code",
   "execution_count": 4,
   "metadata": {},
   "outputs": [],
   "source": [
    "F_Aggr = [0.0  0.0  0.0  0.0  0.0  0.0\n",
    "         0.0  0.0  0.0  0.0  0.0  0.0\n",
    "         0.0  0.0  0.0  0.0  0.0  0.0];"
   ]
  },
  {
   "cell_type": "code",
   "execution_count": 5,
   "metadata": {},
   "outputs": [],
   "source": [
    "ZAggr = [21.0  6.0  0.0  0.0  38.0  40.0];"
   ]
  },
  {
   "cell_type": "code",
   "execution_count": 6,
   "metadata": {},
   "outputs": [],
   "source": [
    "LAggr = [0.0  0.0  0.0  823.0  902.0  647.0  0.0\n",
    "         0.0  0.0  0.0    0.0    1.0    0.0  0.0\n",
    "         0.0  0.0  0.0    9.0    3.0    1.0  0.0 ];"
   ]
  },
  {
   "cell_type": "markdown",
   "metadata": {
    "slideshow": {
     "slide_type": "slide"
    }
   },
   "source": [
    "## Erstellen Sie das Modell namens ``m`` und geben Sie als zu verwendenden Solver Cbc an.\n",
    "---"
   ]
  },
  {
   "cell_type": "code",
   "execution_count": 7,
   "metadata": {
    "slideshow": {
     "slide_type": "fragment"
    }
   },
   "outputs": [],
   "source": [
    "m = Model(Cbc.Optimizer);\n",
    "\n",
    "set_optimizer_attribute(m, \"seconds\", 60);"
   ]
  },
  {
   "cell_type": "markdown",
   "metadata": {
    "slideshow": {
     "slide_type": "fragment"
    }
   },
   "source": [
    "### Mengen und Parameter"
   ]
  },
  {
   "cell_type": "markdown",
   "metadata": {
    "slideshow": {
     "slide_type": "fragment"
    }
   },
   "source": [
    "Fügen Sie die Mengen ein.\n"
   ]
  },
  {
   "cell_type": "code",
   "execution_count": 8,
   "metadata": {
    "slideshow": {
     "slide_type": "fragment"
    }
   },
   "outputs": [],
   "source": [
    "#Mengen\n",
    "Produkte =   [\"Lady\", \"Dude\", \"Rocker\"];\n",
    "Perioden =   [1,2,3,4];\n",
    "Ressourcen = [\"Herstellen\"];\n",
    "\n",
    "\n",
    "#Längen\n",
    "I = length(Produkte);\n",
    "T = length(Perioden);\n",
    "J = length(Ressourcen);"
   ]
  },
  {
   "cell_type": "markdown",
   "metadata": {
    "slideshow": {
     "slide_type": "slide"
    }
   },
   "source": [
    "Fügen Sie die Parameter ein."
   ]
  },
  {
   "cell_type": "code",
   "execution_count": 9,
   "metadata": {
    "slideshow": {
     "slide_type": "fragment"
    }
   },
   "outputs": [],
   "source": [
    "#Hinweis: Überlegen Sie welche Parameter von Monats- auf Wochenwerte heruntergerechnet werden müssen\n",
    "\n",
    "kl = [3.2/4, 4.32/4, 2.4/4];    #Lagerkostensatz der Produkte\n",
    "\n",
    "ks = [50, 40, 25];              #Rüstkostensatz der Produkte\n",
    "\n",
    "ts = [3, 1.5, 2];               #Rüstzeiten der Produkte\n",
    "\n",
    "tp = [0.105, 0.095, 0.065];     #Stückbearbeitungszeiten der Produkte\n",
    "\n",
    "M = 100000;                     #Große Zahl\n",
    "\n",
    "                   \n",
    "       #1,  2,  3,  4\n",
    "d = [  400 400 400 400         #Lady\n",
    "       250 250 250 250         #Dude\n",
    "       300 300 300 300  ];     #Rocker \n",
    "#Bedarf von Produkt i in Periode t\n",
    "\n",
    "kf = [320, 432, 240];        #Fremdbezugskostensatz 1 der Produkte (Tucher)\n",
    "\n",
    "kv = [160, 216, 120];          #variable Herstellkosten der Produkte"
   ]
  },
  {
   "cell_type": "code",
   "execution_count": 10,
   "metadata": {},
   "outputs": [],
   "source": [
    "#Diese Werte sind abhängig von der aggregierten Planung\n",
    "\n",
    "l_start = [0,0,0];              #Anfangslagerbestand des Monats (Endbestand Vorperiode, s. oben)\n",
    "\n",
    "l_end = [0,0,0];                #Der Endbestand des Monats ist immer der entsprechend berechnete Lagerbestand aus Schritt 1\n",
    "\n",
    "c =  [80+21/4, 80+21/4, 80+21/4, 80+21/4];                        #Periodenkapazität\n",
    "#Hinweis: Berücksichtigen Sie zusätzlich zur regulären Kapazität auch die in der aggr. Planung \n",
    "#         ermittelte Zusatzkapazität aufgeteilt auf 4 Wochen\n",
    "\n",
    "faggr = [  0 0 0 0         #Lady\n",
    "           0 0 0 0         #Dude\n",
    "           0 0 0 0  ];     #Rocker ]             #Die wöchentliche Lieferung der bei Cheapress bestellten Produkte"
   ]
  },
  {
   "cell_type": "markdown",
   "metadata": {
    "slideshow": {
     "slide_type": "slide"
    }
   },
   "source": [
    "### Entscheidungsvariablen\n",
    "---\n",
    "Definieren Sie die Entscheidungsvariablen. Achten Sie auf die Definitionsbereiche."
   ]
  },
  {
   "cell_type": "markdown",
   "metadata": {
    "slideshow": {
     "slide_type": "fragment"
    }
   },
   "source": [
    "**Nichtnegativitätsbedingung**: Die Entscheidungsvariablen, also die Produktionsmengen, Lagerbestände, Fremdbezugsmengen und die in Anspruch genommenen Zusatzkapazitäten dürfen nur positive Werte annehmen, wir setzen deren Nichtnegativität voraus.\n",
    "\n",
    "$ \\qquad X_{it}, L_{it}, F_{it} \\geq 0 \\qquad \\qquad \\forall i \\in I, t \\in T$\n"
   ]
  },
  {
   "cell_type": "code",
   "execution_count": 11,
   "metadata": {},
   "outputs": [],
   "source": [
    "@variables  m begin\n",
    "            X[1:I,1:T]>=0,Int  #Produktionsmenge von Produkt i in Periode t\n",
    "            F[1:I,1:T]>=0,Int  #Fremdbezugsmenge von Produkt i in Periode t\n",
    "            L[1:I,0:T]>=0, Int; #Lagerbestand von Produkt i am Periodenende von t\n",
    "            end"
   ]
  },
  {
   "cell_type": "markdown",
   "metadata": {
    "slideshow": {
     "slide_type": "fragment"
    }
   },
   "source": [
    "**Binaerbedingung**: Rüstvorgänge werden immer ganz ($\\gamma_{it} = 1$) oder gar nicht ($\\gamma_{it} = 0$) ausgeführt. Die binäre Rüstvariable nimmt also entweder den Wert 1 oder 0 an.\n",
    "\n",
    " $ \\qquad  \\gamma_{it} \\in \\{0,1\\}  \\qquad\\qquad\\qquad\\qquad\\qquad\\qquad \\forall t \\in T, \\quad i \\in I $"
   ]
  },
  {
   "cell_type": "code",
   "execution_count": 12,
   "metadata": {
    "slideshow": {
     "slide_type": "fragment"
    }
   },
   "outputs": [],
   "source": [
    "@variable(m,gamma[1:I,1:T],Bin); #Die binäre Rüstvariable von Produkt i in Periode t"
   ]
  },
  {
   "cell_type": "markdown",
   "metadata": {
    "slideshow": {
     "slide_type": "slide"
    }
   },
   "source": [
    "## Zielfunktion\n",
    "\n",
    "**Kostenminimierung:** Der Produktionskosten K sollen minimiert werden. Diese berechnen sich hier aus der Summe der variablen Kosten, der Lagerkosten, der Fremdbezugskosten und Rüstkosten.\n",
    "\n",
    "$$  \\qquad \\min K = \\displaystyle\\sum_{i=1}^I \\sum_{t=1}^T (k_i^vX_{it}+k_i^l L_{it}+k_i^fF_{it}+ k^s_i\\gamma_{i,t}) $$"
   ]
  },
  {
   "cell_type": "code",
   "execution_count": 13,
   "metadata": {
    "slideshow": {
     "slide_type": "fragment"
    }
   },
   "outputs": [],
   "source": [
    "@objective(m, Min,  sum(kv[i] * X[i,t] + kl[i] * L[i,t] + kf[i] * F[i,t] + ks[i]*gamma[i,t]\n",
    "                    for i=1:I for t=1:T));"
   ]
  },
  {
   "cell_type": "markdown",
   "metadata": {
    "slideshow": {
     "slide_type": "slide"
    }
   },
   "source": [
    "## Nebenbedingungen"
   ]
  },
  {
   "cell_type": "markdown",
   "metadata": {
    "slideshow": {
     "slide_type": "fragment"
    }
   },
   "source": [
    "**Kapazitaetsrestriktion:** Die Summe aus Produktions- und Rüstzeit aller Produkte darf in jeder Periode die vorhandene Kapazität der Ressource j nicht überschreiten.\n",
    "\n",
    " $$ \\qquad \\displaystyle\\sum_{i=1}^I(t_i^p\\cdot X_{it}+t_i^s\\cdot\\gamma_{it} ) \\leq c_t \\hspace{40mm} \\forall t \\in T, j \\in J\\qquad  $$ \n",
    " \n"
   ]
  },
  {
   "cell_type": "code",
   "execution_count": 14,
   "metadata": {
    "slideshow": {
     "slide_type": "fragment"
    }
   },
   "outputs": [],
   "source": [
    "@constraint(m, KapRes[t=1:T, j=1:J], sum(ts[i] * gamma[i,t] + tp[i] * X[i,t] for i=1:I) <= c[t] );"
   ]
  },
  {
   "cell_type": "markdown",
   "metadata": {
    "slideshow": {
     "slide_type": "fragment"
    }
   },
   "source": [
    "**Lagerbilanzgleichung**: Der Lagerbestand eines Produktes am Ende einer Periode berechnet sich aus der Summe der eingelagerten Menge in der Vorperiode, der Produktionsmenge und der kurzfristigen und langfristigen Fremdbezugsmenge, abzüglich der abgesetzen Menge des Produktes.\n",
    "\n",
    "$$ \\qquad L_{it}=L_{i,t-1}+X_{it}-d_{it}+F_{it}+f_{it}^{aggr} \\qquad \\forall i \\in I , t \\in T$$"
   ]
  },
  {
   "cell_type": "code",
   "execution_count": 15,
   "metadata": {
    "slideshow": {
     "slide_type": "fragment"
    }
   },
   "outputs": [],
   "source": [
    "#Fügen sie den Parameter der langfristigen Fremdbezugsmenge in die Nebenbedingung ein!\n",
    "\n",
    "@constraint(m, Lager[i=1:I,t=1:T], L[i,t] == L[i,t-1] + X[i,t] + F[i,t] - d[i,t] + faggr[i,t]);"
   ]
  },
  {
   "cell_type": "markdown",
   "metadata": {
    "slideshow": {
     "slide_type": "slide"
    }
   },
   "source": [
    "**Anfangslagerbestand**: Der Anfangslagerbestand aller Produkte entspricht dem initial gesetzen $l_{start}$.\n",
    "\n",
    "**Endlagerbestand**: Der Endlagerbestand aller Produkte entspricht dem initial gesetzen $l_{end}$.\n",
    " \n",
    "  $$ \\qquad L_{i,0} = l_{start} \\hspace{40mm} \\forall  i \\in I$$\n",
    "  \n",
    "  $$ \\qquad L_{i,T} = l_{end} \\hspace{40mm} \\forall  i \\in I$$\n"
   ]
  },
  {
   "cell_type": "code",
   "execution_count": 16,
   "metadata": {
    "slideshow": {
     "slide_type": "fragment"
    }
   },
   "outputs": [],
   "source": [
    "@constraint(m, AnfLager[i=1:I], L[i,0] == l_start[i]);\n",
    "\n",
    "#Fügen Sie eine Nebenbedingung für den Endlagerbestand hinzu\n",
    "\n",
    "@constraint(m, EndLager[i=1:I], L[i,4] == l_end[i]);"
   ]
  },
  {
   "cell_type": "markdown",
   "metadata": {
    "slideshow": {
     "slide_type": "fragment"
    }
   },
   "source": [
    "**Rüstbedingung**: Wenn für ein Produkt in einer Periode nicht gerüstet wird, ist die produzierte Menge dieses Produkts in dieser Periode 0. Wenn für ein Produkt in einer Periode gerüstet wird, wird die produzierte Menge durch die Rüstbedingung nicht eingeschränkt.\n",
    "\n",
    " $$ \\qquad X_{it} \\leq M \\cdot \\gamma_{it} \\hspace{40mm} \\forall t \\in T, \\quad i \\in I $$"
   ]
  },
  {
   "cell_type": "code",
   "execution_count": 17,
   "metadata": {
    "slideshow": {
     "slide_type": "fragment"
    }
   },
   "outputs": [],
   "source": [
    "@constraint(m, Ruestbed[i=1:I,t=1:T], X[i,t] <= M * gamma[i,t]);"
   ]
  },
  {
   "cell_type": "code",
   "execution_count": 18,
   "metadata": {},
   "outputs": [],
   "source": [
    "# Kann der Plan ohne Fremdbezug umgesetzt werden? \n",
    "# -> neue Nebenbedingung, die die Variable F = 0 setzt\n",
    "# @constraint(m, KeinFremdbezug[i=1:I,t=1:T], F[i,t]==0);"
   ]
  },
  {
   "cell_type": "markdown",
   "metadata": {
    "slideshow": {
     "slide_type": "slide"
    }
   },
   "source": [
    "## Lösen Sie das Modell.\n",
    "---"
   ]
  },
  {
   "cell_type": "code",
   "execution_count": 19,
   "metadata": {
    "slideshow": {
     "slide_type": "fragment"
    }
   },
   "outputs": [
    {
     "name": "stdout",
     "output_type": "stream",
     "text": [
      "Welcome to the CBC MILP Solver \n",
      "Version: 2.10.3 \n",
      "Build Date: Jan  1 1970 \n",
      "\n",
      "command line - Cbc_C_Interface -seconds 60 -solve -quit (default strategy 1)\n",
      "seconds was changed from 1e+100 to 60\n",
      "Continuous objective value is 616134 - 0.01 seconds\n",
      "Cgl0003I 0 fixed, 4 tightened bounds, 5 strengthened rows, 0 substitutions\n",
      "Cgl0003I 0 fixed, 0 tightened bounds, 1 strengthened rows, 0 substitutions\n",
      "Cgl0004I processed model has 28 rows, 45 columns (45 integer (12 of which binary)) and 90 elements\n",
      "Cbc0012I Integer solution of 683435.52 found by DiveCoefficient after 685 iterations and 0 nodes (0.21 seconds)\n",
      "Cbc0031I 14 added rows had average density of 26.928571\n",
      "Cbc0013I At root node, 14 cuts changed objective from 637812.32 to 654642.43 in 100 passes\n",
      "Cbc0014I Cut generator 0 (Probing) - 11 row cuts average 2.0 elements, 0 column cuts (0 active)  in 0.004 seconds - new frequency is -100\n",
      "Cbc0014I Cut generator 1 (Gomory) - 471 row cuts average 38.1 elements, 0 column cuts (0 active)  in 0.011 seconds - new frequency is 1\n",
      "Cbc0014I Cut generator 2 (Knapsack) - 0 row cuts average 0.0 elements, 0 column cuts (0 active)  in 0.014 seconds - new frequency is -100\n",
      "Cbc0014I Cut generator 3 (Clique) - 0 row cuts average 0.0 elements, 0 column cuts (0 active)  in 0.000 seconds - new frequency is -100\n",
      "Cbc0014I Cut generator 4 (MixedIntegerRounding2) - 0 row cuts average 0.0 elements, 0 column cuts (0 active)  in 0.017 seconds - new frequency is -100\n",
      "Cbc0014I Cut generator 5 (FlowCover) - 14 row cuts average 3.6 elements, 0 column cuts (0 active)  in 0.009 seconds - new frequency is -100\n",
      "Cbc0014I Cut generator 6 (TwoMirCuts) - 95 row cuts average 19.1 elements, 0 column cuts (0 active)  in 0.014 seconds - new frequency is 1\n",
      "Cbc0010I After 0 nodes, 1 on tree, 683435.52 best solution, best possible 654642.43 (0.21 seconds)\n",
      "Cbc0038I Full problem 28 rows 45 columns, reduced to 10 rows 14 columns\n",
      "Cbc0012I Integer solution of 666253.8 found by DiveCoefficient after 714 iterations and 2 nodes (0.24 seconds)\n",
      "Cbc0012I Integer solution of 662416.76 found by DiveCoefficient after 737 iterations and 2 nodes (0.27 seconds)\n",
      "Cbc0012I Integer solution of 656140 found by DiveCoefficient after 795 iterations and 3 nodes (0.30 seconds)\n",
      "Cbc0038I Full problem 28 rows 45 columns, reduced to 5 rows 9 columns\n",
      "Cbc0038I Full problem 28 rows 45 columns, reduced to 7 rows 12 columns\n",
      "Cbc0038I Full problem 28 rows 45 columns, reduced to 6 rows 10 columns\n",
      "Cbc0038I Full problem 28 rows 45 columns, reduced to 5 rows 9 columns\n",
      "Cbc0038I Full problem 28 rows 45 columns, reduced to 7 rows 12 columns\n",
      "Cbc0038I Full problem 28 rows 45 columns, reduced to 5 rows 8 columns\n",
      "Cbc0038I Full problem 28 rows 45 columns, reduced to 6 rows 11 columns\n",
      "Cbc0038I Full problem 28 rows 45 columns, reduced to 6 rows 12 columns\n",
      "Cbc0010I After 1000 nodes, 15 on tree, 656140 best solution, best possible 654642.43 (2.15 seconds)\n",
      "Cbc0038I Full problem 28 rows 45 columns, reduced to 7 rows 12 columns\n",
      "Cbc0038I Full problem 28 rows 45 columns, reduced to 5 rows 10 columns\n",
      "Cbc0010I After 2000 nodes, 16 on tree, 656140 best solution, best possible 654642.44 (4.17 seconds)\n",
      "Cbc0038I Full problem 28 rows 45 columns, reduced to 6 rows 11 columns\n",
      "Cbc0010I After 3000 nodes, 7 on tree, 656140 best solution, best possible 654642.44 (4.94 seconds)\n",
      "Cbc0016I Integer solution of 656129.24 found by strong branching after 15617 iterations and 3081 nodes (5.33 seconds)\n",
      "Cbc0016I Integer solution of 656121.24 found by strong branching after 15873 iterations and 3146 nodes (5.37 seconds)\n",
      "Cbc0004I Integer solution of 656120.88 found after 15911 iterations and 3161 nodes (5.38 seconds)\n",
      "Cbc0038I Full problem 28 rows 45 columns, reduced to 5 rows 9 columns\n",
      "Cbc0016I Integer solution of 656110.56 found by strong branching after 18469 iterations and 3770 nodes (6.46 seconds)\n",
      "Cbc0010I After 4000 nodes, 5 on tree, 656110.56 best solution, best possible 654642.44 (6.57 seconds)\n",
      "Cbc0038I Full problem 28 rows 45 columns, reduced to 8 rows 14 columns\n",
      "Cbc0010I After 5000 nodes, 107 on tree, 656110.56 best solution, best possible 654642.44 (7.50 seconds)\n",
      "Cbc0038I Full problem 28 rows 45 columns, reduced to 7 rows 12 columns\n",
      "Cbc0010I After 6000 nodes, 43 on tree, 656110.56 best solution, best possible 654642.44 (8.40 seconds)\n",
      "Cbc0038I Full problem 28 rows 45 columns, reduced to 9 rows 15 columns\n",
      "Cbc0010I After 7000 nodes, 9 on tree, 656110.56 best solution, best possible 654642.44 (8.90 seconds)\n",
      "Cbc0038I Full problem 28 rows 45 columns, reduced to 5 rows 9 columns\n",
      "Cbc0016I Integer solution of 656110.08 found by strong branching after 32998 iterations and 7589 nodes (9.38 seconds)\n",
      "Cbc0038I Full problem 28 rows 45 columns, reduced to 5 rows 10 columns\n",
      "Cbc0010I After 8000 nodes, 61 on tree, 656110.08 best solution, best possible 654642.44 (9.64 seconds)\n",
      "Cbc0004I Integer solution of 656109.72 found after 34905 iterations and 8008 nodes (9.65 seconds)\n",
      "Cbc0038I Full problem 28 rows 45 columns, reduced to 8 rows 15 columns\n",
      "Cbc0010I After 9000 nodes, 42 on tree, 656109.72 best solution, best possible 654642.44 (10.13 seconds)\n",
      "Cbc0010I After 10000 nodes, 14 on tree, 656109.72 best solution, best possible 654642.44 (10.57 seconds)\n",
      "Cbc0038I Full problem 28 rows 45 columns, reduced to 8 rows 15 columns\n",
      "Cbc0038I Full problem 28 rows 45 columns, reduced to 8 rows 14 columns\n",
      "Cbc0010I After 11000 nodes, 20 on tree, 656109.72 best solution, best possible 654642.44 (11.04 seconds)\n",
      "Cbc0004I Integer solution of 656106.84 found after 47031 iterations and 11292 nodes (11.34 seconds)\n",
      "Cbc0004I Integer solution of 656106.48 found after 47610 iterations and 11417 nodes (11.41 seconds)\n",
      "Cbc0016I Integer solution of 656106.24 found by strong branching after 47611 iterations and 11418 nodes (11.42 seconds)\n",
      "Cbc0010I After 12000 nodes, 145 on tree, 656106.24 best solution, best possible 656093.79 (11.76 seconds)\n",
      "Cbc0010I After 13000 nodes, 265 on tree, 656106.24 best solution, best possible 656100.83 (12.51 seconds)\n",
      "Cbc0010I After 14000 nodes, 44 on tree, 656106.24 best solution, best possible 656100.86 (12.82 seconds)\n",
      "Cbc0001I Search completed - best objective 656106.24, took 314430 iterations and 258083 nodes (12.92 seconds)\n",
      "Cbc0032I Strong branching done 76048 times (103318 iterations), fathomed 2046 nodes and fixed 9014 variables\n",
      "Cbc0041I Maximum depth 26, 1886 variables fixed on reduced cost (complete fathoming 2398 times, 243787 nodes taking 257359 iterations)\n",
      "Cuts at root node changed objective from 637812 to 654642\n",
      "Probing was tried 100 times and created 11 cuts of which 0 were active after adding rounds of cuts (0.004 seconds)\n",
      "Gomory was tried 5753 times and created 14635 cuts of which 0 were active after adding rounds of cuts (0.355 seconds)\n",
      "Knapsack was tried 100 times and created 0 cuts of which 0 were active after adding rounds of cuts (0.014 seconds)\n",
      "Clique was tried 100 times and created 0 cuts of which 0 were active after adding rounds of cuts (0.000 seconds)\n",
      "MixedIntegerRounding2 was tried 100 times and created 0 cuts of which 0 were active after adding rounds of cuts (0.017 seconds)\n",
      "FlowCover was tried 100 times and created 14 cuts of which 0 were active after adding rounds of cuts (0.009 seconds)\n",
      "TwoMirCuts was tried 5753 times and created 7497 cuts of which 0 were active after adding rounds of cuts (0.275 seconds)\n",
      "ZeroHalf was tried 1 times and created 0 cuts of which 0 were active after adding rounds of cuts (0.003 seconds)\n",
      "\n",
      "Result - Optimal solution found\n",
      "\n",
      "Objective value:                656106.24000000\n",
      "Enumerated nodes:               258083\n",
      "Total iterations:               314430\n",
      "Time (CPU seconds):             12.93\n",
      "Time (Wallclock seconds):       12.93\n",
      "\n",
      "Total time (CPU seconds):       12.94   (Wallclock seconds):       12.94\n",
      "\n"
     ]
    }
   ],
   "source": [
    "optimize!(m)"
   ]
  },
  {
   "cell_type": "markdown",
   "metadata": {
    "slideshow": {
     "slide_type": "fragment"
    }
   },
   "source": [
    "Lassen Sie sich den Zielfunktionswert Z anzeigen."
   ]
  },
  {
   "cell_type": "code",
   "execution_count": 20,
   "metadata": {
    "slideshow": {
     "slide_type": "fragment"
    }
   },
   "outputs": [
    {
     "name": "stdout",
     "output_type": "stream",
     "text": [
      "Objective value db: 656106\n"
     ]
    }
   ],
   "source": [
    "db = JuMP.objective_value(m)\n",
    "\n",
    "println(\"Objective value db: \", round(Int64,db))"
   ]
  },
  {
   "cell_type": "markdown",
   "metadata": {},
   "source": [
    "Platz für weitere Berechnungen:"
   ]
  },
  {
   "cell_type": "code",
   "execution_count": 21,
   "metadata": {},
   "outputs": [
    {
     "data": {
      "text/plain": [
       "3×4 Array{Float64,2}:\n",
       " 65.0  60.0  61.0  61.0\n",
       "  0.0   0.0   0.0   0.0\n",
       "  0.0   1.0   0.0   0.0"
      ]
     },
     "execution_count": 21,
     "metadata": {},
     "output_type": "execute_result"
    }
   ],
   "source": [
    "JuMP.value.(F)"
   ]
  },
  {
   "cell_type": "code",
   "execution_count": 22,
   "metadata": {},
   "outputs": [
    {
     "data": {
      "text/plain": [
       "79280.0"
      ]
     },
     "execution_count": 22,
     "metadata": {},
     "output_type": "execute_result"
    }
   ],
   "source": [
    "JuMP.value.(sum(F[i,t]*kf[i] for i in 1:I, t in 1:T))"
   ]
  },
  {
   "cell_type": "code",
   "execution_count": 23,
   "metadata": {},
   "outputs": [
    {
     "data": {
      "text/plain": [
       "3×4 Array{Float64,2}:\n",
       " 335.0  340.0  339.0  339.0\n",
       " 250.0  252.0  249.0  249.0\n",
       " 305.0  294.0  300.0  300.0"
      ]
     },
     "execution_count": 23,
     "metadata": {},
     "output_type": "execute_result"
    }
   ],
   "source": [
    "JuMP.value.(X)"
   ]
  },
  {
   "cell_type": "code",
   "execution_count": 24,
   "metadata": {},
   "outputs": [
    {
     "data": {
      "text/plain": [
       "6.24"
      ]
     },
     "execution_count": 24,
     "metadata": {},
     "output_type": "execute_result"
    }
   ],
   "source": [
    "JuMP.value.(sum(L[i,t]*kl[i] for i in 1:I, t in 1:T))"
   ]
  },
  {
   "cell_type": "code",
   "execution_count": 25,
   "metadata": {},
   "outputs": [
    {
     "data": {
      "text/plain": [
       "460.0"
      ]
     },
     "execution_count": 25,
     "metadata": {},
     "output_type": "execute_result"
    }
   ],
   "source": [
    "JuMP.value.(sum(ks[i]*gamma[i,t] for i in 1:I, t in 1:T))"
   ]
  },
  {
   "cell_type": "code",
   "execution_count": 26,
   "metadata": {},
   "outputs": [
    {
     "data": {
      "text/plain": [
       "576360.0"
      ]
     },
     "execution_count": 26,
     "metadata": {},
     "output_type": "execute_result"
    }
   ],
   "source": [
    "JuMP.value.(sum(X[i,t]*kv[i] for i in 1:I, t in 1:T))"
   ]
  },
  {
   "cell_type": "code",
   "execution_count": 27,
   "metadata": {},
   "outputs": [
    {
     "data": {
      "text/plain": [
       "3552.0"
      ]
     },
     "execution_count": 27,
     "metadata": {},
     "output_type": "execute_result"
    }
   ],
   "source": [
    "JuMP.value.(sum(X[i,t] for i in 1:I, t in 1:T))"
   ]
  },
  {
   "cell_type": "code",
   "execution_count": 28,
   "metadata": {},
   "outputs": [
    {
     "data": {
      "text/plain": [
       "248.0"
      ]
     },
     "execution_count": 28,
     "metadata": {},
     "output_type": "execute_result"
    }
   ],
   "source": [
    "JuMP.value.(sum(F[i,t] for i in 1:I, t in 1:T))"
   ]
  },
  {
   "cell_type": "code",
   "execution_count": 29,
   "metadata": {},
   "outputs": [
    {
     "data": {
      "text/plain": [
       "12.0"
      ]
     },
     "execution_count": 29,
     "metadata": {},
     "output_type": "execute_result"
    }
   ],
   "source": [
    "JuMP.value.(sum(gamma[1,t]*ts[1] for t in 1:T))"
   ]
  },
  {
   "cell_type": "code",
   "execution_count": 30,
   "metadata": {},
   "outputs": [
    {
     "data": {
      "text/plain": [
       "6.0"
      ]
     },
     "execution_count": 30,
     "metadata": {},
     "output_type": "execute_result"
    }
   ],
   "source": [
    "JuMP.value.(sum(gamma[2,t]*ts[2] for t in 1:T))"
   ]
  },
  {
   "cell_type": "code",
   "execution_count": 31,
   "metadata": {},
   "outputs": [
    {
     "data": {
      "text/plain": [
       "7.999999999999999"
      ]
     },
     "execution_count": 31,
     "metadata": {},
     "output_type": "execute_result"
    }
   ],
   "source": [
    "JuMP.value.(sum(gamma[3,t]*ts[3] for t in 1:T))"
   ]
  },
  {
   "cell_type": "code",
   "execution_count": null,
   "metadata": {},
   "outputs": [],
   "source": []
  },
  {
   "cell_type": "code",
   "execution_count": null,
   "metadata": {},
   "outputs": [],
   "source": []
  }
 ],
 "metadata": {
  "kernelspec": {
   "display_name": "Julia 1.4.1",
   "language": "julia",
   "name": "julia-1.4"
  },
  "language_info": {
   "file_extension": ".jl",
   "mimetype": "application/julia",
   "name": "julia",
   "version": "1.4.1"
  }
 },
 "nbformat": 4,
 "nbformat_minor": 2
}
