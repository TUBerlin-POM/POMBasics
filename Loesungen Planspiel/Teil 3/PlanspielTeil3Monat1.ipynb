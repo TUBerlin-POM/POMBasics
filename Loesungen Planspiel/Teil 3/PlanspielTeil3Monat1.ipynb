{
 "cells": [
  {
   "cell_type": "markdown",
   "metadata": {
    "slideshow": {
     "slide_type": "slide"
    }
   },
   "source": [
    "## Einrichtung von Julia JuMP\n",
    "---\n",
    "Überprüfen Sie die bereits installierten Pakete. In der JuliaBox sind möglicherweise alle notwendigen Pakete bereits vorhanden."
   ]
  },
  {
   "cell_type": "code",
   "execution_count": 1,
   "metadata": {
    "slideshow": {
     "slide_type": "fragment"
    }
   },
   "outputs": [
    {
     "name": "stdout",
     "output_type": "stream",
     "text": [
      "\u001b[32m\u001b[1mStatus\u001b[22m\u001b[39m `C:\\Users\\krueg\\.juliapro\\JuliaPro_v1.4.2-1\\environments\\v1.4\\Project.toml`\n",
      " \u001b[90m [c52e3926]\u001b[39m\u001b[37m Atom v0.12.11 ⚲\u001b[39m\n",
      " \u001b[90m [9961bab8]\u001b[39m\u001b[37m Cbc v0.7.0\u001b[39m\n",
      " \u001b[90m [e2554f3b]\u001b[39m\u001b[37m Clp v0.8.0\u001b[39m\n",
      " \u001b[90m [7073ff75]\u001b[39m\u001b[37m IJulia v1.21.2\u001b[39m\n",
      " \u001b[90m [4076af6c]\u001b[39m\u001b[37m JuMP v0.21.2\u001b[39m\n",
      " \u001b[90m [e5e0dc1b]\u001b[39m\u001b[37m Juno v0.8.2 ⚲\u001b[39m\n",
      " \u001b[90m [4722fa14]\u001b[39m\u001b[37m PkgAuthentication v0.1.2\u001b[39m\n",
      " \u001b[90m [f3b207a7]\u001b[39m\u001b[37m StatsPlots v0.14.6\u001b[39m\n",
      " \u001b[90m [44d3d7a6]\u001b[39m\u001b[37m Weave v0.10.2\u001b[39m\n",
      " \u001b[90m [44cfe95a]\u001b[39m\u001b[37m Pkg \u001b[39m\n"
     ]
    }
   ],
   "source": [
    "using Pkg;\n",
    "Pkg.status()"
   ]
  },
  {
   "cell_type": "markdown",
   "metadata": {
    "slideshow": {
     "slide_type": "slide"
    }
   },
   "source": [
    "Installieren Sie ``JuMP`` , mit dem Sie einfach Optimierungsprogramme formulieren können, sowie ``Cbc`` einen open-source Solver zum Lösen des Problems, und ``StatsPlots`` zur Visualisierung der Lösung."
   ]
  },
  {
   "cell_type": "code",
   "execution_count": 2,
   "metadata": {
    "slideshow": {
     "slide_type": "fragment"
    }
   },
   "outputs": [],
   "source": [
    "#Pkg.add(\"JuMP\")\n",
    "#Pkg.add(\"Cbc\");\n",
    "#Pkg.add(\"StatsPlots\");"
   ]
  },
  {
   "cell_type": "markdown",
   "metadata": {
    "slideshow": {
     "slide_type": "fragment"
    }
   },
   "source": [
    "Richten Sie die installierten Pakete so ein, dass sie im folgenden Code verwendet werden können."
   ]
  },
  {
   "cell_type": "code",
   "execution_count": 3,
   "metadata": {
    "slideshow": {
     "slide_type": "fragment"
    }
   },
   "outputs": [],
   "source": [
    "using JuMP, Cbc, StatsPlots;"
   ]
  },
  {
   "cell_type": "markdown",
   "metadata": {
    "slideshow": {
     "slide_type": "slide"
    }
   },
   "source": [
    "# Planspiel Schritt 2: Capacitated Lot Sizing Problem\n",
    "\n"
   ]
  },
  {
   "cell_type": "markdown",
   "metadata": {},
   "source": [
    "### Ergebnisse aus Teil 1"
   ]
  },
  {
   "cell_type": "code",
   "execution_count": 4,
   "metadata": {},
   "outputs": [],
   "source": [
    "F_Aggr = [14.0  0.0  0.0  0.0  0.0  0.0\n",
    "         0.0  0.0  0.0  0.0  0.0  0.0\n",
    "         0.0  0.0  0.0  0.0  0.0  0.0];"
   ]
  },
  {
   "cell_type": "code",
   "execution_count": 5,
   "metadata": {},
   "outputs": [],
   "source": [
    "ZAggr = [40.0  26.0  39.0  40.0  40.0  40.0];"
   ]
  },
  {
   "cell_type": "code",
   "execution_count": 6,
   "metadata": {},
   "outputs": [],
   "source": [
    "LAggr = [ 0.0  0.0  2.0  1009.0  1273.0  838.0  0.0\n",
    "          0.0  0.0  0.0     0.0     1.0    0.0  0.0\n",
    "          0.0  1.0  4.0     3.0     0.0    6.0  0.0\n",
    " ]; "
   ]
  },
  {
   "cell_type": "markdown",
   "metadata": {
    "slideshow": {
     "slide_type": "slide"
    }
   },
   "source": [
    "## Erstellen Sie das Modell namens ``m`` und geben Sie als zu verwendenden Solver Cbc an.\n",
    "---"
   ]
  },
  {
   "cell_type": "code",
   "execution_count": 7,
   "metadata": {
    "slideshow": {
     "slide_type": "fragment"
    }
   },
   "outputs": [],
   "source": [
    "m = Model(Cbc.Optimizer);\n",
    "\n",
    "set_optimizer_attribute(m, \"seconds\", 60);"
   ]
  },
  {
   "cell_type": "markdown",
   "metadata": {
    "slideshow": {
     "slide_type": "fragment"
    }
   },
   "source": [
    "### Mengen und Parameter"
   ]
  },
  {
   "cell_type": "markdown",
   "metadata": {
    "slideshow": {
     "slide_type": "fragment"
    }
   },
   "source": [
    "Fügen Sie die Mengen ein.\n"
   ]
  },
  {
   "cell_type": "code",
   "execution_count": 8,
   "metadata": {
    "slideshow": {
     "slide_type": "fragment"
    }
   },
   "outputs": [],
   "source": [
    "#Mengen\n",
    "Produkte =   [\"Lady\", \"Dude\", \"Rocker\"];\n",
    "Perioden =   [1,2,3,4];\n",
    "Ressourcen = [\"Herstellen\"];\n",
    "\n",
    "\n",
    "#Längen\n",
    "I = length(Produkte);\n",
    "T = length(Perioden);\n",
    "J = length(Ressourcen);"
   ]
  },
  {
   "cell_type": "markdown",
   "metadata": {
    "slideshow": {
     "slide_type": "slide"
    }
   },
   "source": [
    "Fügen Sie die Parameter ein."
   ]
  },
  {
   "cell_type": "code",
   "execution_count": 9,
   "metadata": {
    "slideshow": {
     "slide_type": "fragment"
    }
   },
   "outputs": [],
   "source": [
    "#Hinweis: Überlegen Sie welche Parameter von Monats- auf Wochenwerte heruntergerechnet werden müssen\n",
    "\n",
    "kl = [3.2/4, 4.32/4, 2.4/4];    #Lagerkostensatz der Produkte\n",
    "\n",
    "ks = [50, 40, 25];              #Rüstkostensatz der Produkte\n",
    "\n",
    "ts = [3, 1.5, 2];               #Rüstzeiten der Produkte\n",
    "\n",
    "tp = [0.105, 0.095, 0.065];     #Stückbearbeitungszeiten der Produkte\n",
    "\n",
    "M = 100000;                     #Große Zahl\n",
    "\n",
    "                   \n",
    "       #1,  2,  3,  4\n",
    "d = [  400 400 400 400         #Lady\n",
    "       250 250 250 250         #Dude\n",
    "       300 300 300 300  ];     #Rocker \n",
    "#Bedarf von Produkt i in Periode t\n",
    "\n",
    "kf = [320, 432, 240];        #Fremdbezugskostensatz 1 der Produkte (Tucher)\n",
    "\n",
    "kv = [160, 216, 120];          #variable Herstellkosten der Produkte"
   ]
  },
  {
   "cell_type": "code",
   "execution_count": 10,
   "metadata": {},
   "outputs": [],
   "source": [
    "#Diese Werte sind abhängig von der aggregierten Planung\n",
    "\n",
    "l_start = [0,0,0];              #Anfangslagerbestand des Monats (Endbestand Vorperiode, s. oben)\n",
    "\n",
    "l_end = [0,0,1];                #Der Endbestand des Monats ist immer der entsprechend berechnete Lagerbestand aus Schritt 1\n",
    "\n",
    "c =  [80+40/4, 80+40/4, 80+40/4, 80+40/4];                        #Periodenkapazität\n",
    "#Hinweis: Berücksichtigen Sie zusätzlich zur regulären Kapazität auch die in der aggr. Planung \n",
    "#         ermittelte Zusatzkapazität aufgeteilt auf 4 Wochen\n",
    "\n",
    "faggr = [  14  0   0   0         #Lady\n",
    "           0   0   0   0         #Dude\n",
    "           0   0   0   0  ];     #Rocker ]             #Die wöchentliche Lieferung der bei Cheapress bestellten Produkte"
   ]
  },
  {
   "cell_type": "markdown",
   "metadata": {
    "slideshow": {
     "slide_type": "slide"
    }
   },
   "source": [
    "### Entscheidungsvariablen\n",
    "---\n",
    "Definieren Sie die Entscheidungsvariablen. Achten Sie auf die Definitionsbereiche."
   ]
  },
  {
   "cell_type": "markdown",
   "metadata": {
    "slideshow": {
     "slide_type": "fragment"
    }
   },
   "source": [
    "**Nichtnegativitätsbedingung**: Die Entscheidungsvariablen, also die Produktionsmengen, Lagerbestände, Fremdbezugsmengen und die in Anspruch genommenen Zusatzkapazitäten dürfen nur positive Werte annehmen, wir setzen deren Nichtnegativität voraus.\n",
    "\n",
    "$ \\qquad X_{it}, L_{it}, F_{it} \\geq 0 \\qquad \\qquad \\forall i \\in I, t \\in T$\n"
   ]
  },
  {
   "cell_type": "code",
   "execution_count": 11,
   "metadata": {},
   "outputs": [],
   "source": [
    "@variables  m begin\n",
    "            X[1:I,1:T]>=0,Int  #Produktionsmenge von Produkt i in Periode t\n",
    "            F[1:I,1:T]>=0,Int  #Fremdbezugsmenge von Produkt i in Periode t\n",
    "            L[1:I,0:T]>=0, Int; #Lagerbestand von Produkt i am Periodenende von t\n",
    "            end"
   ]
  },
  {
   "cell_type": "markdown",
   "metadata": {
    "slideshow": {
     "slide_type": "fragment"
    }
   },
   "source": [
    "**Binaerbedingung**: Rüstvorgänge werden immer ganz ($\\delta_{it} = 1$) oder gar nicht ($\\delta_{it} = 0$) ausgeführt. Die binäre Rüstvariable nimmt also entweder den Wert 1 oder 0 an.\n",
    "\n",
    " $ \\qquad  \\gamma_{it} \\in \\{0,1\\}  \\qquad\\qquad\\qquad\\qquad\\qquad\\qquad \\forall t \\in T, \\quad i \\in I $"
   ]
  },
  {
   "cell_type": "code",
   "execution_count": 12,
   "metadata": {
    "slideshow": {
     "slide_type": "fragment"
    }
   },
   "outputs": [],
   "source": [
    "@variable(m,gamma[1:I,1:T],Bin); #Die binäre Rüstvariable von Produkt i in Periode t"
   ]
  },
  {
   "cell_type": "markdown",
   "metadata": {
    "slideshow": {
     "slide_type": "slide"
    }
   },
   "source": [
    "## Zielfunktion\n",
    "\n",
    "**Kostenminimierung:** Der Produktionskosten K sollen minimiert werden. Diese berechnen sich hier aus der Summe der variablen Kosten, der Lagerkosten, der Fremdbezugskosten und Rüstkosten.\n",
    "\n",
    "$$  \\qquad \\min K = \\displaystyle\\sum_{i=1}^I \\sum_{t=1}^T (k_i^vX_{it}+k_i^l L_{it}+k_i^fF_{it}+ k^s_i\\gamma_{i,t}) $$"
   ]
  },
  {
   "cell_type": "code",
   "execution_count": 13,
   "metadata": {
    "slideshow": {
     "slide_type": "fragment"
    }
   },
   "outputs": [],
   "source": [
    "@objective(m, Min,  sum(kv[i] * X[i,t] + kl[i] * L[i,t] + kf[i] * F[i,t] + ks[i]*gamma[i,t]\n",
    "                    for i=1:I for t=1:T));"
   ]
  },
  {
   "cell_type": "markdown",
   "metadata": {
    "slideshow": {
     "slide_type": "slide"
    }
   },
   "source": [
    "## Nebenbedingungen"
   ]
  },
  {
   "cell_type": "markdown",
   "metadata": {
    "slideshow": {
     "slide_type": "fragment"
    }
   },
   "source": [
    "**Kapazitaetsrestriktion:** Die Summe aus Produktions- und Rüstzeit aller Produkte darf in jeder Periode die vorhandene Kapazität der Ressource j nicht überschreiten.\n",
    "\n",
    " $$ \\qquad \\displaystyle\\sum_{i=1}^I(t_i^p\\cdot X_{it}+t_i^s\\cdot\\gamma_{it} ) \\leq c_t \\hspace{40mm} \\forall t \\in T, j \\in J\\qquad  $$ \n",
    " \n"
   ]
  },
  {
   "cell_type": "code",
   "execution_count": 14,
   "metadata": {
    "slideshow": {
     "slide_type": "fragment"
    }
   },
   "outputs": [],
   "source": [
    "@constraint(m, KapRes[t=1:T, j=1:J], sum(ts[i] * gamma[i,t] + tp[i] * X[i,t] for i=1:I) <= c[t] );"
   ]
  },
  {
   "cell_type": "markdown",
   "metadata": {
    "slideshow": {
     "slide_type": "fragment"
    }
   },
   "source": [
    "**Lagerbilanzgleichung**: Der Lagerbestand eines Produktes am Ende einer Periode berechnet sich aus der Summe der eingelagerten Menge in der Vorperiode, der Produktionsmenge und der kurzfristigen und langfristigen Fremdbezugsmenge, abzüglich der abgesetzen Menge des Produktes.\n",
    "\n",
    "$$ \\qquad L_{it}=L_{i,t-1}+X_{it}-d_{it}+F_{it}+f_{it}^{aggr} \\qquad \\forall i \\in I , t \\in T$$"
   ]
  },
  {
   "cell_type": "code",
   "execution_count": 15,
   "metadata": {
    "slideshow": {
     "slide_type": "fragment"
    }
   },
   "outputs": [],
   "source": [
    "#Fügen sie den Parameter der langfristigen Fremdbezugsmenge in die Nebenbedingung ein!\n",
    "\n",
    "@constraint(m, Lager[i=1:I,t=1:T], L[i,t] == L[i,t-1] + X[i,t] + F[i,t] - d[i,t]+faggr[i,t]);"
   ]
  },
  {
   "cell_type": "markdown",
   "metadata": {
    "slideshow": {
     "slide_type": "slide"
    }
   },
   "source": [
    "**Anfangslagerbestand**: Der Anfangslagerbestand aller Produkte entspricht dem initial gesetzen $l_{start}$.\n",
    "\n",
    "**Endlagerbestand**: Der Endlagerbestand aller Produkte entspricht dem initial gesetzen $l_{end}$.\n",
    " \n",
    "  $$ \\qquad L_{i,0} = l_{start} \\hspace{40mm} \\forall  i \\in I$$\n",
    "  \n",
    "  $$ \\qquad L_{i,T} = l_{end} \\hspace{40mm} \\forall  i \\in I$$\n"
   ]
  },
  {
   "cell_type": "code",
   "execution_count": 16,
   "metadata": {
    "slideshow": {
     "slide_type": "fragment"
    }
   },
   "outputs": [],
   "source": [
    "@constraint(m, AnfLager[i=1:I], L[i,0] == l_start[i]);\n",
    "\n",
    "#Fügen Sie eine Nebenbedingung für den Endlagerbestand hinzu\n",
    "\n",
    "@constraint(m, EndLager[i=1:I], L[i,4] == l_end[i]);"
   ]
  },
  {
   "cell_type": "markdown",
   "metadata": {
    "slideshow": {
     "slide_type": "fragment"
    }
   },
   "source": [
    "**Rüstbedingung**: Wenn für ein Produkt in einer Periode nicht gerüstet wird, ist die produzierte Menge dieses Produkts in dieser Periode 0. Wenn für ein Produkt in einer Periode gerüstet wird, wird die produzierte Menge durch die Rüstbedingung nicht eingeschränkt.\n",
    "\n",
    " $$ \\qquad X_{it} \\leq M \\cdot \\gamma_{it} \\hspace{40mm} \\forall t \\in T, \\quad i \\in I $$"
   ]
  },
  {
   "cell_type": "code",
   "execution_count": 17,
   "metadata": {
    "slideshow": {
     "slide_type": "fragment"
    }
   },
   "outputs": [],
   "source": [
    "@constraint(m, Ruestbed[i=1:I,t=1:T], X[i,t] <= M * gamma[i,t]);"
   ]
  },
  {
   "cell_type": "markdown",
   "metadata": {
    "slideshow": {
     "slide_type": "slide"
    }
   },
   "source": [
    "## Lösen Sie das Modell.\n",
    "---"
   ]
  },
  {
   "cell_type": "code",
   "execution_count": 18,
   "metadata": {
    "slideshow": {
     "slide_type": "fragment"
    }
   },
   "outputs": [
    {
     "name": "stdout",
     "output_type": "stream",
     "text": [
      "Welcome to the CBC MILP Solver \n",
      "Version: 2.10.3 \n",
      "Build Date: Jan  1 1970 \n",
      "\n",
      "command line - Cbc_C_Interface -seconds 60 -solve -quit (default strategy 1)\n",
      "seconds was changed from 1e+100 to 60\n",
      "Continuous objective value is 613882 - 0.02 seconds\n",
      "Cgl0003I 0 fixed, 3 tightened bounds, 4 strengthened rows, 0 substitutions\n",
      "Cgl0004I processed model has 28 rows, 45 columns (45 integer (12 of which binary)) and 90 elements\n",
      "Cbc0012I Integer solution of 623140.6 found by DiveCoefficient after 162 iterations and 0 nodes (0.12 seconds)\n",
      "Cbc0031I 11 added rows had average density of 28.181818\n",
      "Cbc0013I At root node, 11 cuts changed objective from 614155.02 to 622858.37 in 22 passes\n",
      "Cbc0014I Cut generator 0 (Probing) - 5 row cuts average 3.6 elements, 0 column cuts (0 active)  in 0.008 seconds - new frequency is -100\n",
      "Cbc0014I Cut generator 1 (Gomory) - 197 row cuts average 29.9 elements, 0 column cuts (0 active)  in 0.000 seconds - new frequency is 1\n",
      "Cbc0014I Cut generator 2 (Knapsack) - 0 row cuts average 0.0 elements, 0 column cuts (0 active)  in 0.000 seconds - new frequency is -100\n",
      "Cbc0014I Cut generator 3 (Clique) - 0 row cuts average 0.0 elements, 0 column cuts (0 active)  in 0.000 seconds - new frequency is -100\n",
      "Cbc0014I Cut generator 4 (MixedIntegerRounding2) - 0 row cuts average 0.0 elements, 0 column cuts (0 active)  in 0.000 seconds - new frequency is -100\n",
      "Cbc0014I Cut generator 5 (FlowCover) - 7 row cuts average 4.3 elements, 0 column cuts (0 active)  in 0.004 seconds - new frequency is -100\n",
      "Cbc0014I Cut generator 6 (TwoMirCuts) - 84 row cuts average 21.3 elements, 0 column cuts (0 active)  in 0.008 seconds - new frequency is 1\n",
      "Cbc0010I After 0 nodes, 1 on tree, 623140.6 best solution, best possible 622858.59 (0.13 seconds)\n",
      "Cbc0038I Full problem 28 rows 45 columns, reduced to 7 rows 11 columns\n",
      "Cbc0016I Integer solution of 623104.56 found by strong branching after 252 iterations and 6 nodes (0.17 seconds)\n",
      "Cbc0016I Integer solution of 622987.8 found by strong branching after 282 iterations and 18 nodes (0.18 seconds)\n",
      "Cbc0038I Full problem 28 rows 45 columns, reduced to 2 rows 4 columns\n",
      "Cbc0038I Full problem 39 rows 45 columns, reduced to 23 rows 40 columns\n",
      "Cbc0044I Reduced cost fixing - 23 rows, 40 columns - restarting search\n",
      "Cbc0012I Integer solution of 622987.8 found by Previous solution after 0 iterations and 0 nodes (0.22 seconds)\n",
      "Cbc0038I Full problem 23 rows 40 columns, reduced to 11 rows 17 columns\n",
      "Cbc0031I 8 added rows had average density of 25.375\n",
      "Cbc0013I At root node, 8 cuts changed objective from 615681.42 to 622872.5 in 96 passes\n",
      "Cbc0014I Cut generator 0 (Probing) - 1 row cuts average 2.0 elements, 5 column cuts (5 active)  in 0.004 seconds - new frequency is 1\n",
      "Cbc0014I Cut generator 1 (Gomory) - 376 row cuts average 30.0 elements, 0 column cuts (0 active)  in 0.028 seconds - new frequency is 1\n",
      "Cbc0014I Cut generator 2 (Knapsack) - 0 row cuts average 0.0 elements, 0 column cuts (0 active)  in 0.008 seconds - new frequency is -100\n",
      "Cbc0014I Cut generator 3 (Clique) - 0 row cuts average 0.0 elements, 0 column cuts (0 active)  in 0.000 seconds - new frequency is -100\n",
      "Cbc0014I Cut generator 4 (MixedIntegerRounding2) - 0 row cuts average 0.0 elements, 0 column cuts (0 active)  in 0.004 seconds - new frequency is -100\n",
      "Cbc0014I Cut generator 5 (FlowCover) - 1 row cuts average 3.0 elements, 0 column cuts (0 active)  in 0.012 seconds - new frequency is -100\n",
      "Cbc0014I Cut generator 6 (TwoMirCuts) - 80 row cuts average 14.6 elements, 0 column cuts (0 active)  in 0.008 seconds - new frequency is 1\n",
      "Cbc0014I Cut generator 7 (ZeroHalf) - 0 row cuts average 0.0 elements, 0 column cuts (0 active)  in 0.101 seconds - new frequency is -100\n",
      "Cbc0014I Cut generator 8 (Stored from first) - 6 row cuts average 32.0 elements, 0 column cuts (0 active)\n",
      "Cbc0010I After 0 nodes, 1 on tree, 622987.8 best solution, best possible 622872.5 (0.44 seconds)\n",
      "Cbc0038I Full problem 23 rows 40 columns, reduced to 8 rows 14 columns\n",
      "Cbc0038I Full problem 23 rows 40 columns, reduced to 12 rows 21 columns\n",
      "Cbc0038I Full problem 23 rows 40 columns, reduced to 8 rows 15 columns\n",
      "Cbc0038I Full problem 23 rows 40 columns, reduced to 6 rows 13 columns\n",
      "Cbc0038I Full problem 23 rows 40 columns, reduced to 8 rows 14 columns\n",
      "Cbc0038I Full problem 23 rows 40 columns, reduced to 9 rows 15 columns\n",
      "Cbc0038I Full problem 23 rows 40 columns, reduced to 9 rows 15 columns\n",
      "Cbc0010I After 1000 nodes, 446 on tree, 622987.8 best solution, best possible 622872.5 (5.26 seconds)\n",
      "Cbc0038I Full problem 23 rows 40 columns, reduced to 10 rows 17 columns\n",
      "Cbc0010I After 2000 nodes, 453 on tree, 622987.8 best solution, best possible 622872.5 (8.05 seconds)\n",
      "Cbc0038I Full problem 23 rows 40 columns, reduced to 10 rows 18 columns\n",
      "Cbc0010I After 3000 nodes, 449 on tree, 622987.8 best solution, best possible 622872.5 (10.09 seconds)\n",
      "Cbc0038I Full problem 23 rows 40 columns, reduced to 9 rows 16 columns\n",
      "Cbc0010I After 4000 nodes, 449 on tree, 622987.8 best solution, best possible 622872.5 (12.26 seconds)\n",
      "Cbc0038I Full problem 23 rows 40 columns, reduced to 11 rows 19 columns\n",
      "Cbc0010I After 5000 nodes, 456 on tree, 622987.8 best solution, best possible 622872.5 (13.52 seconds)\n",
      "Cbc0038I Full problem 23 rows 40 columns, reduced to 9 rows 16 columns\n",
      "Cbc0010I After 6000 nodes, 451 on tree, 622987.8 best solution, best possible 622872.5 (14.59 seconds)\n",
      "Cbc0038I Full problem 23 rows 40 columns, reduced to 11 rows 19 columns\n",
      "Cbc0010I After 7000 nodes, 447 on tree, 622987.8 best solution, best possible 622872.5 (15.97 seconds)\n",
      "Cbc0038I Full problem 23 rows 40 columns, reduced to 11 rows 19 columns\n",
      "Cbc0010I After 8000 nodes, 447 on tree, 622987.8 best solution, best possible 622872.5 (17.20 seconds)\n",
      "Cbc0038I Full problem 23 rows 40 columns, reduced to 9 rows 15 columns\n",
      "Cbc0010I After 9000 nodes, 448 on tree, 622987.8 best solution, best possible 622872.5 (18.05 seconds)\n",
      "Cbc0038I Full problem 23 rows 40 columns, reduced to 11 rows 19 columns\n",
      "Cbc0010I After 10000 nodes, 452 on tree, 622987.8 best solution, best possible 622872.5 (19.20 seconds)\n",
      "Cbc0038I Full problem 23 rows 40 columns, reduced to 9 rows 15 columns\n",
      "Cbc0010I After 11000 nodes, 447 on tree, 622987.8 best solution, best possible 622872.5 (20.64 seconds)\n",
      "Cbc0012I Integer solution of 622986.84 found by DiveCoefficient after 70183 iterations and 11002 nodes (20.64 seconds)\n",
      "Cbc0010I After 12000 nodes, 817 on tree, 622986.84 best solution, best possible 622872.5 (21.63 seconds)\n",
      "Cbc0012I Integer solution of 622986.6 found by DiveCoefficient after 74790 iterations and 12006 nodes (21.65 seconds)\n",
      "Cbc0010I After 13000 nodes, 1101 on tree, 622986.6 best solution, best possible 622872.5 (22.40 seconds)\n",
      "Cbc0010I After 14000 nodes, 1119 on tree, 622986.6 best solution, best possible 622872.5 (23.12 seconds)\n",
      "Cbc0012I Integer solution of 622986.36 found by DiveCoefficient after 84317 iterations and 14006 nodes (23.14 seconds)\n",
      "Cbc0010I After 15000 nodes, 1402 on tree, 622986.36 best solution, best possible 622872.54 (23.85 seconds)\n",
      "Cbc0010I After 16000 nodes, 1900 on tree, 622986.36 best solution, best possible 622882.1 (24.95 seconds)\n",
      "Cbc0010I After 17000 nodes, 2396 on tree, 622986.36 best solution, best possible 622884.25 (26.03 seconds)\n",
      "Cbc0004I Integer solution of 622984.08 found after 99467 iterations and 17016 nodes (26.04 seconds)\n",
      "Cbc0016I Integer solution of 622966.32 found by strong branching after 99610 iterations and 17052 nodes (26.06 seconds)\n",
      "Cbc0016I Integer solution of 622955.64 found by strong branching after 100472 iterations and 17308 nodes (26.23 seconds)\n",
      "Cbc0016I Integer solution of 622954.84 found by strong branching after 101008 iterations and 17445 nodes (26.31 seconds)\n",
      "Cbc0016I Integer solution of 622949.36 found by strong branching after 101141 iterations and 17475 nodes (26.33 seconds)\n",
      "Cbc0038I Full problem 23 rows 40 columns, reduced to 12 rows 21 columns\n",
      "Cbc0010I After 18000 nodes, 2316 on tree, 622949.36 best solution, best possible 622884.25 (26.65 seconds)\n",
      "Cbc0012I Integer solution of 622947.44 found by DiveCoefficient after 104890 iterations and 18381 nodes (26.97 seconds)\n",
      "Cbc0010I After 19000 nodes, 2682 on tree, 622947.44 best solution, best possible 622884.79 (27.34 seconds)\n",
      "Cbc0010I After 20000 nodes, 3155 on tree, 622947.44 best solution, best possible 622886.04 (28.11 seconds)\n",
      "Cbc0010I After 21000 nodes, 3638 on tree, 622947.44 best solution, best possible 622887.13 (28.85 seconds)\n",
      "Cbc0038I Full problem 23 rows 40 columns, reduced to 8 rows 14 columns\n",
      "Cbc0010I After 22000 nodes, 3648 on tree, 622947.44 best solution, best possible 622887.13 (29.62 seconds)\n",
      "Cbc0010I After 23000 nodes, 4130 on tree, 622947.44 best solution, best possible 622888.01 (30.44 seconds)\n",
      "Cbc0010I After 24000 nodes, 4610 on tree, 622947.44 best solution, best possible 622888.75 (31.23 seconds)\n",
      "Cbc0010I After 25000 nodes, 5088 on tree, 622947.44 best solution, best possible 622889.45 (32.03 seconds)\n",
      "Cbc0010I After 26000 nodes, 5006 on tree, 622947.44 best solution, best possible 622889.45 (32.58 seconds)\n",
      "Cbc0010I After 27000 nodes, 5491 on tree, 622947.44 best solution, best possible 622890.13 (33.33 seconds)\n",
      "Cbc0010I After 28000 nodes, 5957 on tree, 622947.44 best solution, best possible 622890.73 (34.04 seconds)\n",
      "Cbc0038I Full problem 23 rows 40 columns, reduced to 9 rows 16 columns\n",
      "Cbc0010I After 29000 nodes, 6427 on tree, 622947.44 best solution, best possible 622891.24 (34.79 seconds)\n",
      "Cbc0010I After 30000 nodes, 6344 on tree, 622947.44 best solution, best possible 622891.24 (35.37 seconds)\n",
      "Cbc0010I After 31000 nodes, 6812 on tree, 622947.44 best solution, best possible 622891.77 (36.07 seconds)\n",
      "Cbc0010I After 32000 nodes, 7282 on tree, 622947.44 best solution, best possible 622892.26 (36.73 seconds)\n",
      "Cbc0038I Full problem 23 rows 40 columns, reduced to 8 rows 15 columns\n",
      "Cbc0010I After 33000 nodes, 7744 on tree, 622947.44 best solution, best possible 622892.71 (37.38 seconds)\n",
      "Cbc0010I After 34000 nodes, 7692 on tree, 622947.44 best solution, best possible 622892.71 (37.82 seconds)\n",
      "Cbc0010I After 35000 nodes, 8160 on tree, 622947.44 best solution, best possible 622893.17 (38.46 seconds)\n",
      "Cbc0010I After 36000 nodes, 8624 on tree, 622947.44 best solution, best possible 622893.61 (39.12 seconds)\n",
      "Cbc0010I After 37000 nodes, 9072 on tree, 622947.44 best solution, best possible 622894.03 (39.76 seconds)\n",
      "Cbc0010I After 38000 nodes, 9027 on tree, 622947.44 best solution, best possible 622894.03 (40.19 seconds)\n",
      "Cbc0010I After 39000 nodes, 9477 on tree, 622947.44 best solution, best possible 622894.42 (40.84 seconds)\n",
      "Cbc0038I Full problem 23 rows 40 columns, reduced to 8 rows 14 columns\n",
      "Cbc0010I After 40000 nodes, 9933 on tree, 622947.44 best solution, best possible 622894.77 (41.47 seconds)\n",
      "Cbc0010I After 41000 nodes, 10377 on tree, 622947.44 best solution, best possible 622895.14 (42.05 seconds)\n",
      "Cbc0010I After 42000 nodes, 10387 on tree, 622947.44 best solution, best possible 622895.14 (42.50 seconds)\n",
      "Cbc0010I After 43000 nodes, 10793 on tree, 622947.44 best solution, best possible 622895.14 (42.88 seconds)\n",
      "Cbc0038I Full problem 23 rows 40 columns, reduced to 10 rows 18 columns\n",
      "Cbc0010I After 44000 nodes, 11172 on tree, 622947.44 best solution, best possible 622895.14 (43.25 seconds)\n",
      "Cbc0010I After 45000 nodes, 11582 on tree, 622947.44 best solution, best possible 622895.14 (43.66 seconds)\n",
      "Cbc0010I After 46000 nodes, 11462 on tree, 622947.44 best solution, best possible 622895.14 (44.30 seconds)\n",
      "Cbc0038I Full problem 23 rows 40 columns, reduced to 9 rows 16 columns\n",
      "Cbc0010I After 47000 nodes, 11883 on tree, 622947.44 best solution, best possible 622895.14 (44.83 seconds)\n",
      "Cbc0010I After 48000 nodes, 12293 on tree, 622947.44 best solution, best possible 622895.14 (45.39 seconds)\n",
      "Cbc0010I After 49000 nodes, 12335 on tree, 622947.44 best solution, best possible 622895.14 (45.81 seconds)\n",
      "Cbc0010I After 50000 nodes, 12350 on tree, 622947.44 best solution, best possible 622895.14 (46.38 seconds)\n",
      "Cbc0038I Full problem 23 rows 40 columns, reduced to 8 rows 14 columns\n",
      "Cbc0010I After 51000 nodes, 12742 on tree, 622947.44 best solution, best possible 622895.14 (46.90 seconds)\n",
      "Cbc0010I After 52000 nodes, 13145 on tree, 622947.44 best solution, best possible 622895.14 (47.52 seconds)\n",
      "Cbc0012I Integer solution of 622945.64 found by DiveCoefficient after 266722 iterations and 52235 nodes (47.65 seconds)\n",
      "Cbc0010I After 53000 nodes, 13339 on tree, 622945.64 best solution, best possible 622895.14 (48.05 seconds)\n",
      "Cbc0010I After 54000 nodes, 13284 on tree, 622945.64 best solution, best possible 622895.14 (48.41 seconds)\n",
      "Cbc0010I After 55000 nodes, 13710 on tree, 622945.64 best solution, best possible 622895.14 (48.96 seconds)\n",
      "Cbc0010I After 56000 nodes, 14121 on tree, 622945.64 best solution, best possible 622895.14 (49.48 seconds)\n",
      "Cbc0010I After 57000 nodes, 14109 on tree, 622945.64 best solution, best possible 622895.14 (49.81 seconds)\n",
      "Cbc0038I Full problem 23 rows 40 columns, reduced to 11 rows 20 columns\n",
      "Cbc0010I After 58000 nodes, 14058 on tree, 622945.64 best solution, best possible 622895.14 (50.26 seconds)\n",
      "Cbc0010I After 59000 nodes, 14463 on tree, 622945.64 best solution, best possible 622895.14 (50.73 seconds)\n",
      "Cbc0010I After 60000 nodes, 14847 on tree, 622945.64 best solution, best possible 622895.14 (51.59 seconds)\n",
      "Cbc0010I After 61000 nodes, 14899 on tree, 622945.64 best solution, best possible 622895.14 (52.00 seconds)\n",
      "Cbc0038I Full problem 23 rows 40 columns, reduced to 11 rows 20 columns\n",
      "Cbc0010I After 62000 nodes, 14854 on tree, 622945.64 best solution, best possible 622895.14 (52.43 seconds)\n",
      "Cbc0010I After 63000 nodes, 15236 on tree, 622945.64 best solution, best possible 622895.14 (52.95 seconds)\n",
      "Cbc0010I After 64000 nodes, 15602 on tree, 622945.64 best solution, best possible 622895.14 (53.43 seconds)\n",
      "Cbc0038I Full problem 23 rows 40 columns, reduced to 11 rows 20 columns\n",
      "Cbc0010I After 65000 nodes, 15561 on tree, 622945.64 best solution, best possible 622895.14 (53.78 seconds)\n",
      "Cbc0010I After 66000 nodes, 15505 on tree, 622945.64 best solution, best possible 622895.14 (54.13 seconds)\n",
      "Cbc0010I After 67000 nodes, 15868 on tree, 622945.64 best solution, best possible 622895.14 (54.58 seconds)\n",
      "Cbc0010I After 68000 nodes, 16262 on tree, 622945.64 best solution, best possible 622895.14 (55.06 seconds)\n",
      "Cbc0010I After 69000 nodes, 16365 on tree, 622945.64 best solution, best possible 622895.14 (55.43 seconds)\n",
      "Cbc0010I After 70000 nodes, 16345 on tree, 622945.64 best solution, best possible 622895.14 (55.98 seconds)\n",
      "Cbc0010I After 71000 nodes, 16702 on tree, 622945.64 best solution, best possible 622895.14 (56.50 seconds)\n",
      "Cbc0010I After 72000 nodes, 17064 on tree, 622945.64 best solution, best possible 622895.14 (57.04 seconds)\n",
      "Cbc0010I After 73000 nodes, 17212 on tree, 622945.64 best solution, best possible 622895.14 (57.50 seconds)\n",
      "Cbc0010I After 74000 nodes, 17193 on tree, 622945.64 best solution, best possible 622895.14 (58.03 seconds)\n",
      "Cbc0010I After 75000 nodes, 17576 on tree, 622945.64 best solution, best possible 622895.14 (58.65 seconds)\n",
      "Cbc0010I After 76000 nodes, 17931 on tree, 622945.64 best solution, best possible 622895.14 (59.14 seconds)\n",
      "Cbc0010I After 77000 nodes, 17871 on tree, 622945.64 best solution, best possible 622895.14 (59.55 seconds)\n",
      "Cbc0020I Exiting on maximum time\n",
      "Cbc0005I Partial search - best objective 622945.64 (best possible 622895.14), took 909580 iterations and 528075 nodes (60.10 seconds)\n",
      "Cbc0032I Strong branching done 176718 times (287169 iterations), fathomed 972 nodes and fixed 7241 variables\n",
      "Cbc0041I Maximum depth 72, 18991 variables fixed on reduced cost (complete fathoming 870 times, 450226 nodes taking 537630 iterations)\n",
      "Cbc0038I Probing was tried 14467 times and created 18444 cuts of which 0 were active after adding rounds of cuts (0.664 seconds)\n",
      "Cbc0038I Gomory was tried 70407 times and created 156091 cuts of which 0 were active after adding rounds of cuts (4.291 seconds)\n",
      "Cbc0038I Knapsack was tried 96 times and created 0 cuts of which 0 were active after adding rounds of cuts (0.008 seconds)\n",
      "Cbc0038I Clique was tried 96 times and created 0 cuts of which 0 were active after adding rounds of cuts (0.000 seconds)\n",
      "Cbc0038I MixedIntegerRounding2 was tried 96 times and created 0 cuts of which 0 were active after adding rounds of cuts (0.004 seconds)\n",
      "Cbc0038I FlowCover was tried 96 times and created 1 cuts of which 0 were active after adding rounds of cuts (0.012 seconds)\n",
      "Cbc0038I TwoMirCuts was tried 70407 times and created 51816 cuts of which 0 were active after adding rounds of cuts (2.805 seconds)\n",
      "Cbc0038I ZeroHalf was tried 96 times and created 0 cuts of which 0 were active after adding rounds of cuts (0.101 seconds)\n",
      "Cbc0038I Stored from first was tried 70407 times and created 6 cuts of which 0 were active after adding rounds of cuts (0.000 seconds)\n",
      "Cbc0012I Integer solution of 622945.64 found by Reduced search after 910021 iterations and 528125 nodes (60.11 seconds)\n",
      "Cbc0020I Exiting on maximum time\n",
      "Cbc0005I Partial search - best objective 622945.64 (best possible 622858.59), took 910021 iterations and 528125 nodes (60.11 seconds)\n",
      "Cbc0032I Strong branching done 482 times (808 iterations), fathomed 16 nodes and fixed 24 variables\n",
      "Cbc0035I Maximum depth 14, 22 variables fixed on reduced cost\n",
      "Cuts at root node changed objective from 614155 to 622859\n",
      "Probing was tried 22 times and created 5 cuts of which 0 were active after adding rounds of cuts (0.008 seconds)\n",
      "Gomory was tried 52 times and created 269 cuts of which 0 were active after adding rounds of cuts (0.000 seconds)\n",
      "Knapsack was tried 22 times and created 0 cuts of which 0 were active after adding rounds of cuts (0.000 seconds)\n",
      "Clique was tried 22 times and created 0 cuts of which 0 were active after adding rounds of cuts (0.000 seconds)\n",
      "MixedIntegerRounding2 was tried 22 times and created 0 cuts of which 0 were active after adding rounds of cuts (0.000 seconds)\n",
      "FlowCover was tried 22 times and created 7 cuts of which 0 were active after adding rounds of cuts (0.004 seconds)\n",
      "TwoMirCuts was tried 52 times and created 136 cuts of which 0 were active after adding rounds of cuts (0.008 seconds)\n",
      "ZeroHalf was tried 1 times and created 0 cuts of which 0 were active after adding rounds of cuts (0.004 seconds)\n",
      "\n",
      "Result - Stopped on time limit\n",
      "\n",
      "Objective value:                622945.64000000\n",
      "Lower bound:                    622858.587\n",
      "Gap:                            0.00\n",
      "Enumerated nodes:               528125\n",
      "Total iterations:               910021\n",
      "Time (CPU seconds):             60.12\n",
      "Time (Wallclock seconds):       60.12\n",
      "\n",
      "Total time (CPU seconds):       60.13   (Wallclock seconds):       60.13\n",
      "\n"
     ]
    }
   ],
   "source": [
    "optimize!(m)"
   ]
  },
  {
   "cell_type": "markdown",
   "metadata": {
    "slideshow": {
     "slide_type": "fragment"
    }
   },
   "source": [
    "Lassen Sie sich den Zielfunktionswert Z anzeigen."
   ]
  },
  {
   "cell_type": "code",
   "execution_count": 19,
   "metadata": {
    "slideshow": {
     "slide_type": "fragment"
    }
   },
   "outputs": [
    {
     "name": "stdout",
     "output_type": "stream",
     "text": [
      "Objective value db: 622946\n"
     ]
    }
   ],
   "source": [
    "db = JuMP.objective_value(m)\n",
    "\n",
    "println(\"Objective value db: \", round(Int64,db))"
   ]
  },
  {
   "cell_type": "markdown",
   "metadata": {},
   "source": [
    "Platz für weitere Berechnungen:"
   ]
  },
  {
   "cell_type": "code",
   "execution_count": 20,
   "metadata": {},
   "outputs": [
    {
     "data": {
      "text/plain": [
       "3×4 Array{Float64,2}:\n",
       " 4.0  15.0  20.0  14.0\n",
       " 0.0   0.0   0.0   0.0\n",
       " 0.0   1.0   0.0   0.0"
      ]
     },
     "execution_count": 20,
     "metadata": {},
     "output_type": "execute_result"
    }
   ],
   "source": [
    "JuMP.value.(F)"
   ]
  },
  {
   "cell_type": "code",
   "execution_count": 21,
   "metadata": {},
   "outputs": [
    {
     "data": {
      "text/plain": [
       "17200.0"
      ]
     },
     "execution_count": 21,
     "metadata": {},
     "output_type": "execute_result"
    }
   ],
   "source": [
    "JuMP.value.(sum(F[i,t]*kf[i] for i in 1:I, t in 1:T))"
   ]
  },
  {
   "cell_type": "code",
   "execution_count": 22,
   "metadata": {},
   "outputs": [
    {
     "data": {
      "text/plain": [
       "3×4 Array{Float64,2}:\n",
       " 382.0  385.0  380.0  386.0\n",
       " 250.0  250.0  253.0  247.0\n",
       " 302.0  297.0  301.0  300.0"
      ]
     },
     "execution_count": 22,
     "metadata": {},
     "output_type": "execute_result"
    }
   ],
   "source": [
    "JuMP.value.(X)"
   ]
  },
  {
   "cell_type": "code",
   "execution_count": 23,
   "metadata": {},
   "outputs": [
    {
     "data": {
      "text/plain": [
       "5.64"
      ]
     },
     "execution_count": 23,
     "metadata": {},
     "output_type": "execute_result"
    }
   ],
   "source": [
    "JuMP.value.(sum(L[i,t]*kl[i] for i in 1:I, t in 1:T))"
   ]
  },
  {
   "cell_type": "code",
   "execution_count": 24,
   "metadata": {},
   "outputs": [
    {
     "data": {
      "text/plain": [
       "460.0"
      ]
     },
     "execution_count": 24,
     "metadata": {},
     "output_type": "execute_result"
    }
   ],
   "source": [
    "JuMP.value.(sum(ks[i]*gamma[i,t] for i in 1:I, t in 1:T))"
   ]
  },
  {
   "cell_type": "code",
   "execution_count": 25,
   "metadata": {},
   "outputs": [
    {
     "data": {
      "text/plain": [
       "605280.0"
      ]
     },
     "execution_count": 25,
     "metadata": {},
     "output_type": "execute_result"
    }
   ],
   "source": [
    "JuMP.value.(sum(X[i,t]*kv[i] for i in 1:I, t in 1:T))"
   ]
  },
  {
   "cell_type": "code",
   "execution_count": 26,
   "metadata": {},
   "outputs": [
    {
     "data": {
      "text/plain": [
       "3733.0"
      ]
     },
     "execution_count": 26,
     "metadata": {},
     "output_type": "execute_result"
    }
   ],
   "source": [
    "JuMP.value.(sum(X[i,t] for i in 1:I, t in 1:T))"
   ]
  },
  {
   "cell_type": "code",
   "execution_count": 27,
   "metadata": {},
   "outputs": [
    {
     "data": {
      "text/plain": [
       "54.0"
      ]
     },
     "execution_count": 27,
     "metadata": {},
     "output_type": "execute_result"
    }
   ],
   "source": [
    "JuMP.value.(sum(F[i,t] for i in 1:I, t in 1:T))"
   ]
  },
  {
   "cell_type": "code",
   "execution_count": 28,
   "metadata": {},
   "outputs": [
    {
     "data": {
      "text/plain": [
       "12.0"
      ]
     },
     "execution_count": 28,
     "metadata": {},
     "output_type": "execute_result"
    }
   ],
   "source": [
    "JuMP.value.(sum(gamma[1,t]*ts[1] for t in 1:T))"
   ]
  },
  {
   "cell_type": "code",
   "execution_count": 29,
   "metadata": {},
   "outputs": [
    {
     "data": {
      "text/plain": [
       "6.0"
      ]
     },
     "execution_count": 29,
     "metadata": {},
     "output_type": "execute_result"
    }
   ],
   "source": [
    "JuMP.value.(sum(gamma[2,t]*ts[2] for t in 1:T))"
   ]
  },
  {
   "cell_type": "code",
   "execution_count": 30,
   "metadata": {},
   "outputs": [
    {
     "data": {
      "text/plain": [
       "7.999999999999999"
      ]
     },
     "execution_count": 30,
     "metadata": {},
     "output_type": "execute_result"
    }
   ],
   "source": [
    "JuMP.value.(sum(gamma[3,t]*ts[3] for t in 1:T))"
   ]
  },
  {
   "cell_type": "code",
   "execution_count": 31,
   "metadata": {},
   "outputs": [
    {
     "data": {
      "text/plain": [
       "333.965"
      ]
     },
     "execution_count": 31,
     "metadata": {},
     "output_type": "execute_result"
    }
   ],
   "source": [
    "JuMP.value.(sum(X[i,t]*tp[i] for i in 1:I, t in 1:T))"
   ]
  },
  {
   "cell_type": "code",
   "execution_count": 32,
   "metadata": {},
   "outputs": [
    {
     "data": {
      "text/plain": [
       "26.0"
      ]
     },
     "execution_count": 32,
     "metadata": {},
     "output_type": "execute_result"
    }
   ],
   "source": [
    "JuMP.value.(sum(gamma[i,t]*ts[i] for i in 1:I, t in 1:T))"
   ]
  },
  {
   "cell_type": "code",
   "execution_count": null,
   "metadata": {},
   "outputs": [],
   "source": []
  }
 ],
 "metadata": {
  "kernelspec": {
   "display_name": "JuliaPro_v1.4.2-1 1.4.2",
   "language": "julia",
   "name": "juliapro_v1.4.2-1-1.4"
  },
  "language_info": {
   "file_extension": ".jl",
   "mimetype": "application/julia",
   "name": "julia",
   "version": "1.4.2"
  }
 },
 "nbformat": 4,
 "nbformat_minor": 2
}
