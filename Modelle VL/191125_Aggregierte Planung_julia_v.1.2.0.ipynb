{
 "cells": [
  {
   "cell_type": "markdown",
   "metadata": {
    "slideshow": {
     "slide_type": "slide"
    }
   },
   "source": [
    "## Einrichtung von Julia JuMP\n",
    "---"
   ]
  },
  {
   "cell_type": "markdown",
   "metadata": {
    "slideshow": {
     "slide_type": "fragment"
    }
   },
   "source": [
    "Überprüfen Sie die bereits installierten Pakete. In der JuliaBox sind möglicherweise alle notwendigen Pakete bereits vorhanden."
   ]
  },
  {
   "cell_type": "code",
   "execution_count": 1,
   "metadata": {
    "slideshow": {
     "slide_type": "fragment"
    }
   },
   "outputs": [
    {
     "name": "stdout",
     "output_type": "stream",
     "text": [
      "\u001b[32m\u001b[1m    Status\u001b[22m\u001b[39m `~/.julia/environments/v1.2/Project.toml`\n",
      " \u001b[90m [336ed68f]\u001b[39m\u001b[37m CSV v0.5.16\u001b[39m\n",
      " \u001b[90m [a93c6f00]\u001b[39m\u001b[37m DataFrames v0.19.4\u001b[39m\n",
      " \u001b[90m [60bf3e95]\u001b[39m\u001b[37m GLPK v0.11.4\u001b[39m\n",
      " \u001b[90m [3c7084bd]\u001b[39m\u001b[37m GLPKMathProgInterface v0.4.4\u001b[39m\n",
      " \u001b[90m [7073ff75]\u001b[39m\u001b[37m IJulia v1.20.0\u001b[39m\n",
      " \u001b[90m [4076af6c]\u001b[39m\u001b[37m JuMP v0.20.0\u001b[39m\n",
      " \u001b[90m [f3b207a7]\u001b[39m\u001b[37m StatsPlots v0.12.0\u001b[39m\n"
     ]
    }
   ],
   "source": [
    "using Pkg;\n",
    "Pkg.status()"
   ]
  },
  {
   "cell_type": "markdown",
   "metadata": {
    "slideshow": {
     "slide_type": "slide"
    }
   },
   "source": [
    "Installieren Sie ``JuMP`` , mit dem Sie einfach Optimierungsprogramme formulieren können. Sowie ``GLPK`` einen open-source Solver zum Lösen der Problem und ``StatsPlots`` zur Visualisierung der Lösung.\n",
    "\n"
   ]
  },
  {
   "cell_type": "code",
   "execution_count": 2,
   "metadata": {
    "slideshow": {
     "slide_type": "fragment"
    }
   },
   "outputs": [],
   "source": [
    "#Pkg.add(\"JuMP\")\n",
    "#Pkg.add(\"GLPK\");\n",
    "#Pkg.add(\"StatsPlots\");"
   ]
  },
  {
   "cell_type": "markdown",
   "metadata": {
    "slideshow": {
     "slide_type": "fragment"
    }
   },
   "source": [
    "Initialisieren Sie die installierten Pakete, damit sie im folgenden Notebook verwendet werden können.\n"
   ]
  },
  {
   "cell_type": "code",
   "execution_count": 3,
   "metadata": {
    "slideshow": {
     "slide_type": "fragment"
    }
   },
   "outputs": [],
   "source": [
    "using JuMP, GLPK, StatsPlots;"
   ]
  },
  {
   "cell_type": "markdown",
   "metadata": {
    "slideshow": {
     "slide_type": "slide"
    }
   },
   "source": [
    "# Aggregierte Planung\n",
    "\n",
    "### Entscheidungsvariablen:\n",
    "\n",
    "Bestimmung der optimalen **Produktionsmengen, Absatzmengen, Fremdbezugsmengen** und **Lagerbestände** der Produkte, sowie der optimal zu nutzenden **Zusatzkapazität** der Ressourcen je Periode, \n",
    "\n",
    "### Zielfunktion:\n",
    "\n",
    "0) **Deckungsbeitragsmaximierung**: $$  \\qquad \\max db = \\displaystyle\\sum_{i=1}^I \\sum_{t=1}^T (e_iA_{it}-k_i^vX_{it}-k_i^l L_{it}-k_i^fF_{it}) - \\sum_{j=1}^J \\sum_{t=1}^T (k_j^zZ_{jt}) $$\n"
   ]
  },
  {
   "cell_type": "markdown",
   "metadata": {
    "slideshow": {
     "slide_type": "slide"
    }
   },
   "source": [
    "### Nebenbedingungen:\n",
    "\n",
    "1) **Kapazitaetsrestriktion:** $ \\hspace{41mm} \\sum_{i=1}^I(r_{ij}\\cdot X_{it}) \\leq c_j + z_{jt} \\hspace{40mm} \\forall j \\in J, t \\in T $\n",
    "\n",
    "2) **Absatzobergrenze:** $\\hspace{38mm} \\qquad A_{it} \\leq d_{it} \\hspace{69mm} \\forall i \\in I , t \\in T $\n",
    "\n",
    "\n",
    "3) **Absatzuntergrenze:** $ \\hspace{37mm}\\qquad A_{it} \\geq d_{it}^{min} \\hspace{66mm} \\forall i \\in I , t \\in T $\n",
    " \n",
    "4) **Lagerbilanz:** $ \\hspace{61mm} L_{it}=L_{i,t-1}+X_{it}-A_{it}+F_{it} \\hspace{31mm} \\forall i \\in I , t \\in T$\n",
    "\n",
    "5) **Anfangslagerbestand:**   $ \\hspace{43mm} L_{i,0} = l_{start} \\hspace{64mm} \\forall  i \\in I$\n",
    "\n",
    "\n",
    "6) **Max. Zusatzkapazität:** $ \\hspace{44mm} Z_{jt} \\leq z_j^{max}  \\hspace{65mm} \\forall j \\in J, t \\in T $\n",
    "\n",
    "7) **Max. Fremdbezug:** $ \\hspace{49mm} F_{it} \\leq f_i^{max} \\hspace{65mm} \\forall i \\in I, t \\in T $\n",
    "\n",
    "8) **Nichtnegativitätsbedingung:** $ \\hspace{31mm} X_{it}, A_{it}, L_{it}, F_{it} \\geq 0 \\hspace{49mm} \\forall i \\in I, t \\in T$\n",
    "\n",
    "und $\\hspace{81mm} Z_{jt} \\geq 0 \\hspace{71mm}  \\forall j \\in J, t \\in T $ \n",
    "\n",
    "* * *"
   ]
  },
  {
   "cell_type": "markdown",
   "metadata": {
    "slideshow": {
     "slide_type": "slide"
    }
   },
   "source": [
    "## Verwendete Symbole"
   ]
  },
  {
   "cell_type": "markdown",
   "metadata": {
    "slideshow": {
     "slide_type": "fragment"
    }
   },
   "source": [
    "### Mengen\n",
    "\n",
    "$i \\in (1,..,I)\\hspace{20mm} $ Produkte  \n",
    "\n",
    "$j \\in (1,..,J)\\hspace{20mm}$  Ressourcen \n",
    "\n",
    "$t \\in (1,..,T)\\hspace{20mm}$  Zeiten "
   ]
  },
  {
   "cell_type": "markdown",
   "metadata": {
    "slideshow": {
     "slide_type": "fragment"
    }
   },
   "source": [
    "### Variablen\n",
    "\n",
    "$X_{it}$  $\\geq0$      $\\hspace{28mm}$ Produktionsmenge      \n",
    "\n",
    "$A_{it}$  $ \\geq 0 $  $\\hspace{28mm} $ Absatzmenge \n",
    "\n",
    "$L_{it}$  $\\geq0$  $\\hspace{28mm} $ Lagerbestand  \n",
    "\n",
    "$F_{it}$       $ \\geq0$    $\\hspace{28mm} $ Fremdbezug   \n",
    "\n",
    "$Z_{jt}$      $\\geq0$      $\\hspace{27mm} $ Zusatzkapazität  \n"
   ]
  },
  {
   "cell_type": "markdown",
   "metadata": {
    "slideshow": {
     "slide_type": "slide"
    }
   },
   "source": [
    "### Parameter\n",
    "\n",
    "$e_i \\hspace{39mm}$   Erlös    \n",
    "\n",
    "$k_i^v \\hspace{38mm}$ variable Kosten\n",
    "\n",
    "$k_i^l \\hspace{38mm}$ Lagerkostensatz \n",
    "\n",
    "$k_j^z \\hspace{38mm}$ Überstundenkostensatz \n",
    "\n",
    "$k_i^f \\hspace{38mm}$ Fremdbezugskosten \n",
    "\n",
    "$d_{it} \\hspace{38mm}$  Nachfrage  \n",
    "\n",
    "$d_{it}^{min} \\hspace{36mm}$ Absatzuntergrenze  \n",
    "\n",
    "$r_{ij} \\hspace{38mm}$  Produktionskoeffizient \n",
    "\n",
    "$c_j \\hspace{39mm}$  Kapazität  \n",
    "\n",
    "$l_{start} \\hspace{34mm}$  Anfangslagerbestand  \n",
    "\n",
    "$z_j^{max} \\hspace{34mm}$ max. Zusatzkapazität \n",
    "\n",
    "$f_i^{max} \\hspace{33mm}$  max. Fremdbezug\n",
    "\n",
    " * * *\n",
    " "
   ]
  },
  {
   "cell_type": "markdown",
   "metadata": {
    "slideshow": {
     "slide_type": "slide"
    }
   },
   "source": [
    "## Erstellen Sie das Modell namens ``m`` und geben Sie als zu verwendenden Solver GLPK an.\n",
    "---"
   ]
  },
  {
   "cell_type": "code",
   "execution_count": 4,
   "metadata": {
    "slideshow": {
     "slide_type": "fragment"
    }
   },
   "outputs": [],
   "source": [
    "m = Model(with_optimizer(GLPK.Optimizer));"
   ]
  },
  {
   "cell_type": "markdown",
   "metadata": {
    "slideshow": {
     "slide_type": "slide"
    }
   },
   "source": [
    "### Mengen und Parameter\n",
    "---"
   ]
  },
  {
   "cell_type": "markdown",
   "metadata": {
    "slideshow": {
     "slide_type": "fragment"
    }
   },
   "source": [
    "Fügen Sie die Mengen ein."
   ]
  },
  {
   "cell_type": "code",
   "execution_count": 5,
   "metadata": {
    "slideshow": {
     "slide_type": "fragment"
    }
   },
   "outputs": [],
   "source": [
    "#Mengen\n",
    "Produkte =   [\"Hell\", \"Dunkel\"];\n",
    "Ressourcen = [\"Herstellen\", \"Abfuellen\"];\n",
    "Perioden =   [\"Mo\", \"Di\", \"Mi\", \"Do\", \"Fr\"];\n",
    "\n",
    "#Längen\n",
    "I = length(Produkte);\n",
    "J = length(Ressourcen);\n",
    "T = length(Perioden);"
   ]
  },
  {
   "cell_type": "markdown",
   "metadata": {
    "slideshow": {
     "slide_type": "slide"
    }
   },
   "source": [
    "Fügen Sie die Parameter ein."
   ]
  },
  {
   "cell_type": "code",
   "execution_count": 6,
   "metadata": {
    "slideshow": {
     "slide_type": "fragment"
    }
   },
   "outputs": [],
   "source": [
    "     #Herstellen, Abfüllen\n",
    "r = [  12           4         #Hell\n",
    "       15           4   ]     #Dunkel\n",
    "\n",
    "#Ressourcenverbrauch von Ressource j durch Produkt i\n",
    "\n",
    "      #Mo, Di, Mi, Do, Fr\n",
    "d = [  70  65  75  80  110    #Hell\n",
    "       55  35  40  65  80 ]   #Dunkel\n",
    "\n",
    "#Nachfrage von Produkt i in Periode t\n",
    " \n",
    "        #Mo, Di, Mi, Do, Fr\n",
    "dmin = [ 30  30  30  30  30    #Hell\n",
    "         20  20  20  20  40 ]; #Dunkel\n",
    "\n",
    "#Absatzuntergrenze von Produkt i in Periode t"
   ]
  },
  {
   "cell_type": "code",
   "execution_count": 7,
   "metadata": {
    "slideshow": {
     "slide_type": "slide"
    }
   },
   "outputs": [],
   "source": [
    "c =  [750, 250];   #Kapazität der Ressource j\n",
    "\n",
    "e =  [3, 3.5];     #Erlös des Produktes\n",
    "\n",
    "kf = [0, 0];       #Fremdbezugskostensatz der Produkte\n",
    "\n",
    "kl = [0.5, 0.5];   #Lagerkostensatz der Produkte\n",
    "\n",
    "kz = [0.25, 0.2];  #Überstundenkostensatz von Ressource j\n",
    "\n",
    "kv = [1, 1.25];    #variable Herstellkosten der Produkte\n",
    "\n",
    "zmax = [300, 300]; #Max. Zusatzkapazität von Ressource j\n",
    "\n",
    "l_start =  [0, 0]; #Anfangslagerbestand der Produkte\n",
    "\n",
    "\n",
    "         #Mo, Di, Mi, Do, Fr\n",
    "fmax =  [  0   0   0   0   0   #Hell         \n",
    "           0   0   0   0   0]; #Dunkel\n",
    "\n",
    "                  #Maximaler Fremdbezug von Produkt i in Periode t"
   ]
  },
  {
   "cell_type": "markdown",
   "metadata": {
    "slideshow": {
     "slide_type": "slide"
    }
   },
   "source": [
    "### Entscheidungsvariablen\n",
    "---\n",
    "Definieren Sie die Entscheidungsvariablen. Achten Sie auf die Definitionsbereiche (Nebenbedingung 6):"
   ]
  },
  {
   "cell_type": "markdown",
   "metadata": {
    "slideshow": {
     "slide_type": "fragment"
    }
   },
   "source": [
    "8) **Nichtnegativitätsbedingung**: Die Entscheidungsvariablen, also die Produktions- und Absatzmengen, Lagerbestände, Fremdbezugsmengen und die in Anspruch genommenen Zusatzkapazitäten dürfen nur positive Werte annehmen, wir setzen deren Nichtnegativität voraus.\n",
    "\n",
    "$ \\qquad X_{it}, A_{it}, L_{it}, F_{it} \\geq 0 \\qquad \\qquad \\forall i \\in I, t \\in T$\n",
    "\n",
    "und $\\qquad \\qquad Z_{jt} \\geq 0 \\qquad \\qquad \\qquad  \\forall j \\in J, t \\in T $ "
   ]
  },
  {
   "cell_type": "code",
   "execution_count": 8,
   "metadata": {
    "slideshow": {
     "slide_type": "fragment"
    }
   },
   "outputs": [],
   "source": [
    "@variables  m begin\n",
    "            X[1:I,1:T]>=0,Int  #Produktionsmenge von Produkt i in Periode t\n",
    "            A[1:I,1:T]>=0,Int  #Absatzmenge von Produkt i in Periode t\n",
    "            F[1:I,1:T]>=0,Int  #Fremdbezugsmenge von Produkt i in Periode t\n",
    "            Z[1:J,1:T]>=0,Int  #Zusatzkapazität von Ressource j in Periode t\n",
    "            L[1:I,0:T]>=0,Int; #Lagerbestand von Produkt i am Periodenende von t\n",
    "            end"
   ]
  },
  {
   "cell_type": "markdown",
   "metadata": {
    "slideshow": {
     "slide_type": "slide"
    }
   },
   "source": [
    "## Zielfunktion\n",
    "\n",
    "0) **Deckungsbeitragsmaximierung:** Der Gesamtdeckungsbeitrag db soll maximiert werden. Dieser berechnet sich hier aus der Summe der einzelnen Produkterlöse abzüglich der variablen Kosten, abzüglich der Lagerkosten, abzüglich der Fremdbezugskosten und wird Zusätzlich noch verringert um die Zusatzkapazitätskosten der Ressourcen.\n",
    "\n",
    "$  \\qquad \\max db = \\displaystyle\\sum_{i=1}^I \\sum_{t=1}^T (e_iA_{it}-k_i^vX_{it}-k_i^l L_{it}-k_i^fF_{it}) - \\sum_{j=1}^J \\sum_{t=1}^T (k_j^zZ_{jt}) $"
   ]
  },
  {
   "cell_type": "code",
   "execution_count": 9,
   "metadata": {
    "scrolled": true,
    "slideshow": {
     "slide_type": "fragment"
    }
   },
   "outputs": [],
   "source": [
    "@objective(m, Max,  sum(e[i] * A[i,t] - kv[i] * X[i,t] - kl[i] * L[i,t] - kf[i] * F[i,t] \n",
    "           for i=1:I for t=1:T) - sum(kz[j] *Z[j,t] for j=1:J for t=1:T));"
   ]
  },
  {
   "cell_type": "markdown",
   "metadata": {
    "slideshow": {
     "slide_type": "slide"
    }
   },
   "source": [
    "## Nebenbedingungen"
   ]
  },
  {
   "cell_type": "markdown",
   "metadata": {
    "slideshow": {
     "slide_type": "fragment"
    }
   },
   "source": [
    "1) **Kapazitätsrestriktion**: Die zur Verfügung stehende Kapazität für die auf den einzelnen Ressourcen mögliche Produktionszeit darf nicht überschritten werden. Die Summe der Gesamtproduktionszeit aller Produkte $ i = 1,...,I $ auf den einzelnen Ressourcen j darf in jeder Periode die jeweils verfügbare Kapazität  $𝑐_j$ ergänzt um die Zusatzkapazität $o_{jt}$  nicht überschreiten.\n",
    "\n",
    "$ \\qquad \\sum_{i=1}^I(r_{ij}\\cdot X_{it}) \\leq c_j + z_{jt} \\qquad \\forall j \\in J, t \\in T $"
   ]
  },
  {
   "cell_type": "code",
   "execution_count": 10,
   "metadata": {
    "slideshow": {
     "slide_type": "fragment"
    }
   },
   "outputs": [],
   "source": [
    "@constraint(m, KapRes[t=1:T,j=1:J], sum(r[i,j] * X[i,t] for i=1:I) <= c[j] + Z[j,t]);"
   ]
  },
  {
   "cell_type": "markdown",
   "metadata": {
    "slideshow": {
     "slide_type": "slide"
    }
   },
   "source": [
    "2) **Absatzobergrenze**: Für die Produkte existieren Absatzober- und untergrenzen basierend auf der Nachfrage. Die abgesetzte Menge der einzelnen Produkte kann diese Absatzobergrenze in keiner Periode überschreiten.\n",
    "\n",
    "$ \\qquad A_{it} \\leq d_{it}^{max} \\qquad \\qquad \\qquad \\qquad \\forall i \\in I , t \\in T $"
   ]
  },
  {
   "cell_type": "code",
   "execution_count": 11,
   "metadata": {
    "slideshow": {
     "slide_type": "fragment"
    }
   },
   "outputs": [
    {
     "ename": "UndefVarError",
     "evalue": "UndefVarError: dmax not defined",
     "output_type": "error",
     "traceback": [
      "UndefVarError: dmax not defined",
      "",
      "Stacktrace:",
      " [1] top-level scope at /Users/lotte/.julia/packages/JuMP/iGamg/src/macros.jl:390"
     ]
    }
   ],
   "source": [
    "@constraint(m, AbsOb[i=1:I,t=1:T], A[i,t] <= dmax[i,t]);"
   ]
  },
  {
   "cell_type": "markdown",
   "metadata": {},
   "source": [
    "3) **Absatzuntergrenze**: Für die Produkte existieren Absatzuntergrenzen basierend auf der Nachfrage. Die abgesetzte Menge der einzelnen Produkte kann diese Absatzuntergrenze in keiner Periode unterschreiten.\n",
    "\n",
    "$ \\qquad A_{it} \\geq d_{it}^{min} \\qquad \\qquad \\qquad \\qquad \\forall i \\in I , t \\in T $"
   ]
  },
  {
   "cell_type": "code",
   "execution_count": 12,
   "metadata": {},
   "outputs": [],
   "source": [
    "@constraint(m, AbsUn[i=1:I,t=1:T], A[i,t] >= dmin[i,t]);"
   ]
  },
  {
   "cell_type": "markdown",
   "metadata": {
    "slideshow": {
     "slide_type": "fragment"
    }
   },
   "source": [
    "4) **Lagerbilanz**: Der Lagerbestand eines Produktes am Ende einer Periode berechnet sich aus der Summe der eingelagerten Menge in der Vorperiode, der Produktionsmenge und der Fremdbezugsmenge, abzüglich der abgesetzen Menge des Produktes.\n",
    "\n",
    "$ \\qquad L_{it}=L_{i,t-1}+X_{it}-A_{it}+F_{it} \\qquad \\forall i \\in I , t \\in T$"
   ]
  },
  {
   "cell_type": "code",
   "execution_count": 13,
   "metadata": {
    "slideshow": {
     "slide_type": "fragment"
    }
   },
   "outputs": [],
   "source": [
    "@constraint(m, Lager[i=1:I,t=1:T], L[i,t] == L[i,t-1] + X[i,t] + F[i,t] - A[i,t]);"
   ]
  },
  {
   "cell_type": "markdown",
   "metadata": {},
   "source": [
    "5) **Anfangslagerbestand**: Der Anfangslagerbestand aller Produkte entspricht dem initial gesetzen $l_i$.\n",
    " \n",
    "  $$ \\qquad L_{i,0} = l_{start} \\hspace{40mm} \\forall  i \\in I$$\n"
   ]
  },
  {
   "cell_type": "code",
   "execution_count": 14,
   "metadata": {},
   "outputs": [],
   "source": [
    "@constraint(m, AnfLager[i=1:I], L[i,0] == l_start[i]);"
   ]
  },
  {
   "cell_type": "markdown",
   "metadata": {
    "slideshow": {
     "slide_type": "slide"
    }
   },
   "source": [
    "6) **Max. Zusatzkapazität**: Die eingesetzten Zusatzkapazitäten (Überstunden) für jede Ressource müssen in jeder Periode unter der Obergrenze, der maximalen Zusatzkapazität, bleiben. Die maximale Zusatzkapazität ist für jede Ressource j einzeln gegeben.\n",
    "\n",
    "$ \\qquad Z_{jt} \\leq z_j^{max}  \\qquad \\qquad \\qquad \\qquad \\forall j \\in J, t \\in T $"
   ]
  },
  {
   "cell_type": "code",
   "execution_count": 15,
   "metadata": {
    "slideshow": {
     "slide_type": "fragment"
    }
   },
   "outputs": [],
   "source": [
    "@constraint(m, ZusatzKapa[j=1:J,t=1:T], Z[j,t] <= zmax[j] );"
   ]
  },
  {
   "cell_type": "markdown",
   "metadata": {
    "slideshow": {
     "slide_type": "fragment"
    }
   },
   "source": [
    "7) **Max. Fremdbezug**: Der dazugekaufte Fremdbezug jedes Produktes muss in allen Perioden unter der Obergrenze, dem maximalen Fremdbezug, bleiben. Der maximale Fremdbezug ist für jedes Produkt i einzeln gegeben. \n",
    "\n",
    "$ \\qquad F_{it} \\leq f_i^{max} \\qquad \\qquad \\qquad \\qquad \\forall i \\in I, t \\in T $"
   ]
  },
  {
   "cell_type": "code",
   "execution_count": 16,
   "metadata": {
    "slideshow": {
     "slide_type": "fragment"
    }
   },
   "outputs": [],
   "source": [
    "@constraint(m, FremdB[i=1:I,t=1:T], F[i,t] <= fmax[i,t] );"
   ]
  },
  {
   "cell_type": "markdown",
   "metadata": {
    "slideshow": {
     "slide_type": "slide"
    }
   },
   "source": [
    "## Lösen Sie das Modell.\n",
    "---"
   ]
  },
  {
   "cell_type": "code",
   "execution_count": 17,
   "metadata": {
    "slideshow": {
     "slide_type": "fragment"
    }
   },
   "outputs": [],
   "source": [
    "optimize!(m)"
   ]
  },
  {
   "cell_type": "markdown",
   "metadata": {},
   "source": [
    "Lassen Sie sich das Modell anzeigen."
   ]
  },
  {
   "cell_type": "code",
   "execution_count": 18,
   "metadata": {
    "scrolled": true
   },
   "outputs": [
    {
     "data": {
      "text/latex": [
       "$$ \\begin{alignat*}{1}\\max\\quad & 3 A_{1,1} - X_{1,1} - 0.5 L_{1,1} + 3 A_{1,2} - X_{1,2} - 0.5 L_{1,2} + 3 A_{1,3} - X_{1,3} - 0.5 L_{1,3} + 3 A_{1,4} - X_{1,4} - 0.5 L_{1,4} + 3 A_{1,5} - X_{1,5} - 0.5 L_{1,5} + 3.5 A_{2,1} - 1.25 X_{2,1} - 0.5 L_{2,1} + 3.5 A_{2,2} - 1.25 X_{2,2} - 0.5 L_{2,2} + 3.5 A_{2,3} - 1.25 X_{2,3} - 0.5 L_{2,3} + 3.5 A_{2,4} - 1.25 X_{2,4} - 0.5 L_{2,4} + 3.5 A_{2,5} - 1.25 X_{2,5} - 0.5 L_{2,5} - 0.25 Z_{1,1} - 0.25 Z_{1,2} - 0.25 Z_{1,3} - 0.25 Z_{1,4} - 0.25 Z_{1,5} - 0.2 Z_{2,1} - 0.2 Z_{2,2} - 0.2 Z_{2,3} - 0.2 Z_{2,4} - 0.2 Z_{2,5}\\\\\n",
       "\\text{Subject to} \\quad & L_{1,1} - L_{1,0} - X_{1,1} - F_{1,1} + A_{1,1} = 0.0\\\\\n",
       " & L_{1,2} - L_{1,1} - X_{1,2} - F_{1,2} + A_{1,2} = 0.0\\\\\n",
       " & L_{1,3} - L_{1,2} - X_{1,3} - F_{1,3} + A_{1,3} = 0.0\\\\\n",
       " & L_{1,4} - L_{1,3} - X_{1,4} - F_{1,4} + A_{1,4} = 0.0\\\\\n",
       " & L_{1,5} - L_{1,4} - X_{1,5} - F_{1,5} + A_{1,5} = 0.0\\\\\n",
       " & L_{2,1} - L_{2,0} - X_{2,1} - F_{2,1} + A_{2,1} = 0.0\\\\\n",
       " & L_{2,2} - L_{2,1} - X_{2,2} - F_{2,2} + A_{2,2} = 0.0\\\\\n",
       " & L_{2,3} - L_{2,2} - X_{2,3} - F_{2,3} + A_{2,3} = 0.0\\\\\n",
       " & L_{2,4} - L_{2,3} - X_{2,4} - F_{2,4} + A_{2,4} = 0.0\\\\\n",
       " & L_{2,5} - L_{2,4} - X_{2,5} - F_{2,5} + A_{2,5} = 0.0\\\\\n",
       " & L_{1,0} = 0.0\\\\\n",
       " & L_{2,0} = 0.0\\\\\n",
       " & A_{1,1} \\geq 30.0\\\\\n",
       " & A_{1,2} \\geq 30.0\\\\\n",
       " & A_{1,3} \\geq 30.0\\\\\n",
       " & A_{1,4} \\geq 30.0\\\\\n",
       " & A_{1,5} \\geq 30.0\\\\\n",
       " & A_{2,1} \\geq 20.0\\\\\n",
       " & A_{2,2} \\geq 20.0\\\\\n",
       " & A_{2,3} \\geq 20.0\\\\\n",
       " & A_{2,4} \\geq 20.0\\\\\n",
       " & A_{2,5} \\geq 40.0\\\\\n",
       " & 12 X_{1,1} + 15 X_{2,1} - Z_{1,1} \\leq 750.0\\\\\n",
       " & 4 X_{1,1} + 4 X_{2,1} - Z_{2,1} \\leq 250.0\\\\\n",
       " & 12 X_{1,2} + 15 X_{2,2} - Z_{1,2} \\leq 750.0\\\\\n",
       " & 4 X_{1,2} + 4 X_{2,2} - Z_{2,2} \\leq 250.0\\\\\n",
       " & 12 X_{1,3} + 15 X_{2,3} - Z_{1,3} \\leq 750.0\\\\\n",
       " & 4 X_{1,3} + 4 X_{2,3} - Z_{2,3} \\leq 250.0\\\\\n",
       " & 12 X_{1,4} + 15 X_{2,4} - Z_{1,4} \\leq 750.0\\\\\n",
       " & 4 X_{1,4} + 4 X_{2,4} - Z_{2,4} \\leq 250.0\\\\\n",
       " & 12 X_{1,5} + 15 X_{2,5} - Z_{1,5} \\leq 750.0\\\\\n",
       " & 4 X_{1,5} + 4 X_{2,5} - Z_{2,5} \\leq 250.0\\\\\n",
       " & Z_{1,1} \\leq 300.0\\\\\n",
       " & Z_{1,2} \\leq 300.0\\\\\n",
       " & Z_{1,3} \\leq 300.0\\\\\n",
       " & Z_{1,4} \\leq 300.0\\\\\n",
       " & Z_{1,5} \\leq 300.0\\\\\n",
       " & Z_{2,1} \\leq 300.0\\\\\n",
       " & Z_{2,2} \\leq 300.0\\\\\n",
       " & Z_{2,3} \\leq 300.0\\\\\n",
       " & Z_{2,4} \\leq 300.0\\\\\n",
       " & Z_{2,5} \\leq 300.0\\\\\n",
       " & F_{1,1} \\leq 0.0\\\\\n",
       " & F_{1,2} \\leq 0.0\\\\\n",
       " & F_{1,3} \\leq 0.0\\\\\n",
       " & F_{1,4} \\leq 0.0\\\\\n",
       " & F_{1,5} \\leq 0.0\\\\\n",
       " & F_{2,1} \\leq 0.0\\\\\n",
       " & F_{2,2} \\leq 0.0\\\\\n",
       " & F_{2,3} \\leq 0.0\\\\\n",
       " & F_{2,4} \\leq 0.0\\\\\n",
       " & F_{2,5} \\leq 0.0\\\\\n",
       " & X_{1,1} \\geq 0.0\\\\\n",
       " & X_{1,2} \\geq 0.0\\\\\n",
       " & X_{1,3} \\geq 0.0\\\\\n",
       " & X_{1,4} \\geq 0.0\\\\\n",
       " & X_{1,5} \\geq 0.0\\\\\n",
       " & X_{2,1} \\geq 0.0\\\\\n",
       " & X_{2,2} \\geq 0.0\\\\\n",
       " & X_{2,3} \\geq 0.0\\\\\n",
       " & X_{2,4} \\geq 0.0\\\\\n",
       " & X_{2,5} \\geq 0.0\\\\\n",
       " & A_{1,1} \\geq 0.0\\\\\n",
       " & A_{1,2} \\geq 0.0\\\\\n",
       " & A_{1,3} \\geq 0.0\\\\\n",
       " & A_{1,4} \\geq 0.0\\\\\n",
       " & A_{1,5} \\geq 0.0\\\\\n",
       " & A_{2,1} \\geq 0.0\\\\\n",
       " & A_{2,2} \\geq 0.0\\\\\n",
       " & A_{2,3} \\geq 0.0\\\\\n",
       " & A_{2,4} \\geq 0.0\\\\\n",
       " & A_{2,5} \\geq 0.0\\\\\n",
       " & F_{1,1} \\geq 0.0\\\\\n",
       " & F_{1,2} \\geq 0.0\\\\\n",
       " & F_{1,3} \\geq 0.0\\\\\n",
       " & F_{1,4} \\geq 0.0\\\\\n",
       " & F_{1,5} \\geq 0.0\\\\\n",
       " & F_{2,1} \\geq 0.0\\\\\n",
       " & F_{2,2} \\geq 0.0\\\\\n",
       " & F_{2,3} \\geq 0.0\\\\\n",
       " & F_{2,4} \\geq 0.0\\\\\n",
       " & F_{2,5} \\geq 0.0\\\\\n",
       " & Z_{1,1} \\geq 0.0\\\\\n",
       " & Z_{1,2} \\geq 0.0\\\\\n",
       " & Z_{1,3} \\geq 0.0\\\\\n",
       " & Z_{1,4} \\geq 0.0\\\\\n",
       " & Z_{1,5} \\geq 0.0\\\\\n",
       " & Z_{2,1} \\geq 0.0\\\\\n",
       " & Z_{2,2} \\geq 0.0\\\\\n",
       " & Z_{2,3} \\geq 0.0\\\\\n",
       " & Z_{2,4} \\geq 0.0\\\\\n",
       " & Z_{2,5} \\geq 0.0\\\\\n",
       " & L_{1,0} \\geq 0.0\\\\\n",
       " & L_{1,1} \\geq 0.0\\\\\n",
       " & L_{1,2} \\geq 0.0\\\\\n",
       " & L_{1,3} \\geq 0.0\\\\\n",
       " & L_{1,4} \\geq 0.0\\\\\n",
       " & L_{1,5} \\geq 0.0\\\\\n",
       " & L_{2,0} \\geq 0.0\\\\\n",
       " & L_{2,1} \\geq 0.0\\\\\n",
       " & L_{2,2} \\geq 0.0\\\\\n",
       " & L_{2,3} \\geq 0.0\\\\\n",
       " & L_{2,4} \\geq 0.0\\\\\n",
       " & L_{2,5} \\geq 0.0\\\\\n",
       " & X_{1,1} integer\\\\\n",
       " & X_{1,2} integer\\\\\n",
       " & X_{1,3} integer\\\\\n",
       " & X_{1,4} integer\\\\\n",
       " & X_{1,5} integer\\\\\n",
       " & X_{2,1} integer\\\\\n",
       " & X_{2,2} integer\\\\\n",
       " & X_{2,3} integer\\\\\n",
       " & X_{2,4} integer\\\\\n",
       " & X_{2,5} integer\\\\\n",
       " & A_{1,1} integer\\\\\n",
       " & A_{1,2} integer\\\\\n",
       " & A_{1,3} integer\\\\\n",
       " & A_{1,4} integer\\\\\n",
       " & A_{1,5} integer\\\\\n",
       " & A_{2,1} integer\\\\\n",
       " & A_{2,2} integer\\\\\n",
       " & A_{2,3} integer\\\\\n",
       " & A_{2,4} integer\\\\\n",
       " & A_{2,5} integer\\\\\n",
       " & F_{1,1} integer\\\\\n",
       " & F_{1,2} integer\\\\\n",
       " & F_{1,3} integer\\\\\n",
       " & F_{1,4} integer\\\\\n",
       " & F_{1,5} integer\\\\\n",
       " & F_{2,1} integer\\\\\n",
       " & F_{2,2} integer\\\\\n",
       " & F_{2,3} integer\\\\\n",
       " & F_{2,4} integer\\\\\n",
       " & F_{2,5} integer\\\\\n",
       " & Z_{1,1} integer\\\\\n",
       " & Z_{1,2} integer\\\\\n",
       " & Z_{1,3} integer\\\\\n",
       " & Z_{1,4} integer\\\\\n",
       " & Z_{1,5} integer\\\\\n",
       " & Z_{2,1} integer\\\\\n",
       " & Z_{2,2} integer\\\\\n",
       " & Z_{2,3} integer\\\\\n",
       " & Z_{2,4} integer\\\\\n",
       " & Z_{2,5} integer\\\\\n",
       " & L_{1,0} integer\\\\\n",
       " & L_{1,1} integer\\\\\n",
       " & L_{1,2} integer\\\\\n",
       " & L_{1,3} integer\\\\\n",
       " & L_{1,4} integer\\\\\n",
       " & L_{1,5} integer\\\\\n",
       " & L_{2,0} integer\\\\\n",
       " & L_{2,1} integer\\\\\n",
       " & L_{2,2} integer\\\\\n",
       " & L_{2,3} integer\\\\\n",
       " & L_{2,4} integer\\\\\n",
       " & L_{2,5} integer\\\\\n",
       "\\end{alignat*}\n",
       " $$"
      ],
      "text/plain": [
       "A JuMP Model\n",
       "Maximization problem with:\n",
       "Variables: 52\n",
       "Objective function type: GenericAffExpr{Float64,VariableRef}\n",
       "`GenericAffExpr{Float64,VariableRef}`-in-`MathOptInterface.EqualTo{Float64}`: 12 constraints\n",
       "`GenericAffExpr{Float64,VariableRef}`-in-`MathOptInterface.GreaterThan{Float64}`: 10 constraints\n",
       "`GenericAffExpr{Float64,VariableRef}`-in-`MathOptInterface.LessThan{Float64}`: 30 constraints\n",
       "`VariableRef`-in-`MathOptInterface.GreaterThan{Float64}`: 52 constraints\n",
       "`VariableRef`-in-`MathOptInterface.Integer`: 52 constraints\n",
       "Model mode: AUTOMATIC\n",
       "CachingOptimizer state: ATTACHED_OPTIMIZER\n",
       "Solver name: GLPK\n",
       "Names registered in the model: A, AbsUn, AnfLager, F, FremdB, KapRes, L, Lager, X, Z, ZusatzKapa"
      ]
     },
     "execution_count": 18,
     "metadata": {},
     "output_type": "execute_result"
    }
   ],
   "source": [
    "m"
   ]
  },
  {
   "cell_type": "markdown",
   "metadata": {
    "slideshow": {
     "slide_type": "fragment"
    }
   },
   "source": [
    "Lassen Sie sich den Zielfunktionswert anzeigen."
   ]
  },
  {
   "cell_type": "code",
   "execution_count": 19,
   "metadata": {
    "slideshow": {
     "slide_type": "fragment"
    }
   },
   "outputs": [
    {
     "name": "stdout",
     "output_type": "stream",
     "text": [
      "Objective value db: 582.5\n"
     ]
    }
   ],
   "source": [
    "println(\"Objective value db: \", JuMP.objective_value(m))"
   ]
  },
  {
   "cell_type": "markdown",
   "metadata": {
    "slideshow": {
     "slide_type": "slide"
    }
   },
   "source": [
    "Lassen Sie sich die Produktionsmengen, die Absatzmengen und die Lagermengen für Produkt \"Hell\" anzeigen."
   ]
  },
  {
   "cell_type": "code",
   "execution_count": 20,
   "metadata": {
    "slideshow": {
     "slide_type": "fragment"
    }
   },
   "outputs": [
    {
     "ename": "ArgumentError",
     "evalue": "ArgumentError: block row 2 has mismatched number of columns (expected 2, got 1)",
     "output_type": "error",
     "traceback": [
      "ArgumentError: block row 2 has mismatched number of columns (expected 2, got 1)",
      "",
      "Stacktrace:",
      " [1] typed_hvcat(::Type{Float64}, ::Tuple{Int64,Int64}, ::Array{Float64,1}, ::Vararg{Array{Float64,1},N} where N) at ./abstractarray.jl:1671",
      " [2] hvcat(::Tuple{Int64,Int64}, ::Array{Float64,1}, ::Vararg{Array{Float64,1},N} where N) at /Users/sabae/buildbot/worker/package_macos64/build/usr/share/julia/stdlib/v1.2/SparseArrays/src/sparsevector.jl:1081",
      " [3] top-level scope at In[20]:1"
     ]
    }
   ],
   "source": [
    "bardataHell = [[JuMP.value(X[1,t]) for t in 1:T ] [JuMP.value(A[1,t]) for t in 1:T]\n",
    "              [JuMP.value(L[1,t]) for t in 1:T ]];"
   ]
  },
  {
   "cell_type": "markdown",
   "metadata": {
    "slideshow": {
     "slide_type": "slide"
    }
   },
   "source": [
    "Stellen Sie diese grafisch dar."
   ]
  },
  {
   "cell_type": "code",
   "execution_count": 21,
   "metadata": {
    "slideshow": {
     "slide_type": "fragment"
    }
   },
   "outputs": [
    {
     "ename": "UndefVarError",
     "evalue": "UndefVarError: bardataHell not defined",
     "output_type": "error",
     "traceback": [
      "UndefVarError: bardataHell not defined",
      "",
      "Stacktrace:",
      " [1] top-level scope at In[21]:1"
     ]
    }
   ],
   "source": [
    "groupedbar(bardataHell, label=[\"Produktionsmenge\" \"Absatzmenge\" \"Lagermenge\"], title = \"Produkt Hell\",\n",
    "           colour = [:DeepSkyBlue4 :Red3 :orange], xlabel = \"Periode\", ylabel = \"Menge\", ylim = (0,45))"
   ]
  },
  {
   "cell_type": "markdown",
   "metadata": {
    "slideshow": {
     "slide_type": "slide"
    }
   },
   "source": [
    "Lassen Sie sich die Produktionsmengen, die Absatzmengen und die Lagermengen für Produkt \"Dunkel\" anzeigen."
   ]
  },
  {
   "cell_type": "code",
   "execution_count": 22,
   "metadata": {
    "slideshow": {
     "slide_type": "fragment"
    }
   },
   "outputs": [
    {
     "data": {
      "text/plain": [
       "5×3 Array{Float64,2}:\n",
       " 22.0  22.0   0.0\n",
       " 22.0  22.0   0.0\n",
       " 26.0  20.0   6.0\n",
       " 26.0  20.0  12.0\n",
       " 28.0  40.0   0.0"
      ]
     },
     "execution_count": 22,
     "metadata": {},
     "output_type": "execute_result"
    }
   ],
   "source": [
    "bardataDunkel = [[JuMP.value(X[2,t]) for t in 1:T ] [JuMP.value(A[2,t]) for t in 1:T] [JuMP.value(L[2,t])\n",
    "                 for t in 1:T ]] "
   ]
  },
  {
   "cell_type": "markdown",
   "metadata": {
    "slideshow": {
     "slide_type": "slide"
    }
   },
   "source": [
    "Stellen Sie diese grafisch dar."
   ]
  },
  {
   "cell_type": "code",
   "execution_count": null,
   "metadata": {
    "slideshow": {
     "slide_type": "fragment"
    }
   },
   "outputs": [],
   "source": [
    "groupedbar(bardataDunkel,label=[\"Produktionsmenge\" \"Absatzmenge\" \"Lagermenge\"], title = \"Produkt Dunkel\",\n",
    "           colour = [:DeepSkyBlue4 :Red3 :orange], xlabel = \"Periode\", ylabel = \"Menge\",legend = :topleft)"
   ]
  },
  {
   "cell_type": "markdown",
   "metadata": {},
   "source": [
    "Beide in einem:"
   ]
  },
  {
   "cell_type": "code",
   "execution_count": null,
   "metadata": {},
   "outputs": [],
   "source": [
    "l = @layout [a{0.9w, 0.1h} b]\n",
    "p1 = groupedbar(bardataHell,colour = [:DeepSkyBlue4 :Red3 :orange], title = \"Produkt Hell\", \n",
    "                xlabel = \"Periode\", ylabel=\"Menge\", legend=:none, ylim=(0,40));\n",
    "\n",
    "p2 = groupedbar(bardataDunkel, label=[\"Produktionsmenge\" \"Absatzmenge\" \"Lagerbestand\"], \n",
    "                colour = [:DeepSkyBlue4 :Red3 :orange], title = \"Produkt Dunkel\", \n",
    "                xlabel = \"Periode\", ylabel=\"Menge\", legend=:topleft, ylim=(0,40));\n",
    "\n",
    "plot(p1, p2, layout = 2)"
   ]
  }
 ],
 "metadata": {
  "kernelspec": {
   "display_name": "Julia 1.2.0",
   "language": "julia",
   "name": "julia-1.2"
  },
  "language_info": {
   "file_extension": ".jl",
   "mimetype": "application/julia",
   "name": "julia",
   "version": "1.2.0"
  }
 },
 "nbformat": 4,
 "nbformat_minor": 2
}
