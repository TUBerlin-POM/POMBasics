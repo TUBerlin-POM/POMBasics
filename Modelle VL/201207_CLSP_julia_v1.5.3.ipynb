{
 "cells": [
  {
   "cell_type": "markdown",
   "metadata": {
    "slideshow": {
     "slide_type": "slide"
    }
   },
   "source": [
    "## Einrichtung von Julia JuMP\n",
    "---\n",
    "Überprüfen Sie die bereits installierten Pakete. In der JuliaBox sind möglicherweise alle notwendigen Pakete bereits vorhanden."
   ]
  },
  {
   "cell_type": "code",
   "execution_count": 24,
   "metadata": {
    "slideshow": {
     "slide_type": "fragment"
    }
   },
   "outputs": [
    {
     "name": "stdout",
     "output_type": "stream",
     "text": [
      "\u001b[32m\u001b[1mStatus\u001b[22m\u001b[39m `C:\\Users\\krueg\\.julia\\environments\\JuliaPro_v1.5.3-1\\Project.toml`\n",
      " \u001b[90m [c52e3926] \u001b[39m\u001b[37mAtom v0.12.25 ⚲\u001b[39m\n",
      " \u001b[90m [9961bab8] \u001b[39m\u001b[37mCbc v0.7.1\u001b[39m\n",
      " \u001b[90m [e2554f3b] \u001b[39m\u001b[37mClp v0.8.3\u001b[39m\n",
      " \u001b[90m [a93c6f00] \u001b[39m\u001b[37mDataFrames v0.22.1\u001b[39m\n",
      " \u001b[90m [7073ff75] \u001b[39m\u001b[37mIJulia v1.22.0\u001b[39m\n",
      " \u001b[90m [4076af6c] \u001b[39m\u001b[37mJuMP v0.21.5\u001b[39m\n",
      " \u001b[90m [e5e0dc1b] \u001b[39m\u001b[37mJuno v0.8.4 ⚲\u001b[39m\n",
      " \u001b[90m [4722fa14] \u001b[39m\u001b[37mPkgAuthentication v0.3.0\u001b[39m\n",
      " \u001b[90m [f3b207a7] \u001b[39m\u001b[37mStatsPlots v0.14.17\u001b[39m\n",
      " \u001b[90m [44d3d7a6] \u001b[39m\u001b[37mWeave v0.10.6\u001b[39m\n"
     ]
    }
   ],
   "source": [
    "using Pkg;\n",
    "Pkg.status()"
   ]
  },
  {
   "cell_type": "markdown",
   "metadata": {
    "slideshow": {
     "slide_type": "slide"
    }
   },
   "source": [
    "Installieren Sie ``JuMP`` , mit dem Sie einfach Optimierungsprogramme formulieren können, sowie ``Cbc``, einen open-source Solver zum Lösen des Problems, und ``StatsPlots`` zur Visualisierung der Lösung."
   ]
  },
  {
   "cell_type": "code",
   "execution_count": 25,
   "metadata": {
    "slideshow": {
     "slide_type": "fragment"
    }
   },
   "outputs": [],
   "source": [
    "#Pkg.add(\"JuMP\");\n",
    "#Pkg.add(\"Cbc\");\n",
    "#Pkg.add(\"StatsPlots\");"
   ]
  },
  {
   "cell_type": "markdown",
   "metadata": {
    "slideshow": {
     "slide_type": "fragment"
    }
   },
   "source": [
    "Richten Sie die installierten Pakete so ein, dass sie im folgenden Code verwendet werden können."
   ]
  },
  {
   "cell_type": "code",
   "execution_count": 26,
   "metadata": {
    "slideshow": {
     "slide_type": "fragment"
    }
   },
   "outputs": [],
   "source": [
    "using JuMP, Cbc, StatsPlots;"
   ]
  },
  {
   "cell_type": "markdown",
   "metadata": {
    "slideshow": {
     "slide_type": "slide"
    }
   },
   "source": [
    "# Capacitated Lot Sizing Problem\n",
    "\n",
    "### Entscheidungsvariablen:\n",
    "Bestimmung der **Produktionsmengen** und **Lagerbestände** je Periode sowie der daraus folgenden **Rüstvorgänge**,\n",
    "\n",
    "### Zielfunktion:\n",
    "0) **Gesamtkostenminimierung:** $$ \\qquad \\min z = \\displaystyle\\sum_{i=1}^I \\displaystyle\\sum_{t=1}^T(k_i^s\\cdot \\gamma_{it}+k_i^l\\cdot L_{it})$$ "
   ]
  },
  {
   "cell_type": "markdown",
   "metadata": {
    "slideshow": {
     "slide_type": "slide"
    }
   },
   "source": [
    "### Nebenbedingungen:\n",
    "1) **Kapazitaetsrestriktion:**  $ \\hspace{40mm} \\displaystyle\\sum_{i=1}^I(t_i^p\\cdot X_{it}+t_i^s\\cdot\\gamma_{it} ) \\leq c_t \\hspace{40mm} \\forall t \\in T\\qquad $ \n",
    "\n",
    "2) **Lagerbilanzgleichung:**  $ \\hspace{41mm} L_{it} = L_{i,t-1}+X_{it}-d_{it} \\hspace{44mm} \\forall t \\in T, \\quad i \\in I$\n",
    "\n",
    "3) **Anfangslagerbestand:** $ \\hspace{41mm} L_{i,0} = l_{start} \\hspace{66mm} \\forall  i \\in I$\n",
    "\n",
    "4) **Rüstbedingung:**:  $ \\hspace{50mm} X_{it} \\leq M \\cdot \\gamma_{it} \\hspace{63mm} \\forall t \\in T, \\quad i \\in I $\n",
    "\n",
    "5) **Nichtnegativitaetsbedingungen:**  $ \\hspace{23mm} X_{it}, L_{it} \\geq 0  \\hspace{66mm} \\forall t \\in T, \\quad i \\in I $\n",
    "\n",
    "6) **Binaerbedingung:** \n",
    " $ \\hspace{48mm}  \\gamma_{it} \\in \\{0,1\\}  \\hspace{67mm} \\forall t \\in T, \\quad i \\in I $\n",
    "* * *"
   ]
  },
  {
   "cell_type": "markdown",
   "metadata": {
    "slideshow": {
     "slide_type": "slide"
    }
   },
   "source": [
    "## Verwendete Symbole"
   ]
  },
  {
   "cell_type": "markdown",
   "metadata": {
    "slideshow": {
     "slide_type": "fragment"
    }
   },
   "source": [
    "### Mengen\n",
    "\n",
    "$i \\in (1,..,I) \\hspace{20mm}$ Produkte\n",
    " \n",
    "$t \\in (1,..,T) \\hspace{20mm}$ Perioden \n"
   ]
  },
  {
   "cell_type": "markdown",
   "metadata": {
    "slideshow": {
     "slide_type": "fragment"
    }
   },
   "source": [
    "### Parameter\n",
    "\n",
    "$k_i^l \\hspace{38mm}$ Lagerkostensatz\n",
    "\n",
    "$k_i^s \\hspace{38mm}$  Ruestkostensatz  \n",
    "\n",
    "$t_i^p \\hspace{39mm}$  Produktionszeit \n",
    "\n",
    "$t_i^s \\hspace{39mm}$  Rüstzeit \n",
    "\n",
    "$M \\hspace{37mm}$  Große Zahl   \n",
    "\n",
    "$c_t \\hspace{38mm}$  Periodenkapazität \n",
    "\n",
    "$b_{it}\\hspace{37mm}$ Bedarf \n",
    "\n",
    "$l_{start} \\hspace{34mm}$  Anfangslagerbestand \n"
   ]
  },
  {
   "cell_type": "markdown",
   "metadata": {
    "slideshow": {
     "slide_type": "fragment"
    }
   },
   "source": [
    "### Variablen\n",
    "\n",
    "$X_{it}$  $\\geq0 \\hspace{28mm}$       Produktionsmenge   \n",
    "\n",
    "$L_{it}$  $\\geq0 \\hspace{28mm}$      Lagermenge         \n",
    "\n",
    "$\\gamma_{it}$  $\\in\\{0,1\\} \\hspace{21mm}$ binäre Rüstvariable        \n",
    "\n",
    "* * *"
   ]
  },
  {
   "cell_type": "markdown",
   "metadata": {
    "slideshow": {
     "slide_type": "slide"
    }
   },
   "source": [
    "## Erstellen Sie das Modell namens ``m`` und geben Sie als zu verwendenden Solver Cbc an.\n",
    "---"
   ]
  },
  {
   "cell_type": "code",
   "execution_count": 27,
   "metadata": {
    "slideshow": {
     "slide_type": "fragment"
    }
   },
   "outputs": [],
   "source": [
    "m = Model(Cbc.Optimizer);"
   ]
  },
  {
   "cell_type": "markdown",
   "metadata": {
    "slideshow": {
     "slide_type": "fragment"
    }
   },
   "source": [
    "### Mengen und Parameter"
   ]
  },
  {
   "cell_type": "markdown",
   "metadata": {
    "slideshow": {
     "slide_type": "fragment"
    }
   },
   "source": [
    "Fügen Sie die Mengen ein.\n"
   ]
  },
  {
   "cell_type": "code",
   "execution_count": 28,
   "metadata": {
    "slideshow": {
     "slide_type": "fragment"
    }
   },
   "outputs": [],
   "source": [
    "#Mengen\n",
    "Produkte = [\"i1\", \"i2\", \"i3\"];\n",
    "Perioden = [\"t1\", \"t2\", \"t3\", \"t4\"];\n",
    "#Längen\n",
    "I = length(Produkte);\n",
    "T = length(Perioden);\n"
   ]
  },
  {
   "cell_type": "markdown",
   "metadata": {
    "slideshow": {
     "slide_type": "slide"
    }
   },
   "source": [
    "Fügen Sie die Parameter ein."
   ]
  },
  {
   "cell_type": "code",
   "execution_count": 29,
   "metadata": {
    "slideshow": {
     "slide_type": "fragment"
    }
   },
   "outputs": [],
   "source": [
    "kl = [4, 6, 5];                 #Lagerkostensatz der Produkte\n",
    "\n",
    "ks = [80, 100, 90];             #Rüstkostensatz der Produkte\n",
    "\n",
    "ts = [8, 12, 16];               #Rüstzeiten der Produkte\n",
    "\n",
    "tp = [2, 2, 1];                 #Stückbearbeitungszeiten der Produkte\n",
    "\n",
    "c =  [320, 320, 320, 320]; #Periodenkapazität\n",
    "\n",
    "M = 1000;                       #Große Zahl\n",
    "\n",
    "l_start = [0, 0, 0];            #Anfangslagerbestand\n",
    "\n",
    "      #t1, t2, t3, t4\n",
    "b = [  50  10  10  140          #Produkt 1\n",
    "        0  40  80   30          #Produkt 2\n",
    "       90  80  10   50];        #Produkt 3\n",
    "\n",
    "                                #Bedarf"
   ]
  },
  {
   "cell_type": "markdown",
   "metadata": {
    "slideshow": {
     "slide_type": "slide"
    }
   },
   "source": [
    "### Entscheidungsvariablen\n",
    "---\n",
    "Definieren Sie die Entscheidungsvariablen. Achten Sie auf die Definitionsbereiche (Nebenbedingungen 5 und 6)"
   ]
  },
  {
   "cell_type": "markdown",
   "metadata": {
    "slideshow": {
     "slide_type": "fragment"
    }
   },
   "source": [
    "5) **Nichtnegativitätsbedingungen**: Produktionsmengen und Lagerbestände dürfen nicht negativ werden.\n",
    "\n",
    " $ \\qquad X_{it}, L_{it} \\geq 0  \\qquad\\qquad\\qquad\\qquad\\qquad\\qquad \\forall t \\in T, \\quad i \\in I $"
   ]
  },
  {
   "cell_type": "code",
   "execution_count": 30,
   "metadata": {
    "slideshow": {
     "slide_type": "fragment"
    }
   },
   "outputs": [],
   "source": [
    "@variable(m,X[1:I,1:T] >= 0,Int);  #Produktionsmenge von Produkt i in Periode t"
   ]
  },
  {
   "cell_type": "code",
   "execution_count": 31,
   "metadata": {
    "slideshow": {
     "slide_type": "fragment"
    }
   },
   "outputs": [],
   "source": [
    "@variable(m,L[1:I,0:T] >= 0,Int);  #Lagerbestand von Produkt i am Periodenende von t"
   ]
  },
  {
   "cell_type": "markdown",
   "metadata": {
    "slideshow": {
     "slide_type": "fragment"
    }
   },
   "source": [
    "6) **Binaerbedingung**: Rüstvorgänge werden immer ganz ($\\gamma_{it} = 1$) oder gar nicht ($\\gamma_{it} = 0$) ausgeführt. Die binäre Rüstvariable nimmt also entweder den Wert 1 oder 0 an.\n",
    "\n",
    " $ \\qquad  \\gamma_{it} \\in \\{0,1\\}  \\qquad\\qquad\\qquad\\qquad\\qquad\\qquad \\forall t \\in T, \\quad i \\in I $"
   ]
  },
  {
   "cell_type": "code",
   "execution_count": 32,
   "metadata": {
    "slideshow": {
     "slide_type": "fragment"
    }
   },
   "outputs": [],
   "source": [
    "@variable(m,gamma[1:I,1:T],Bin); #Die binäre Rüstvariable von Produkt i in Periode t"
   ]
  },
  {
   "cell_type": "markdown",
   "metadata": {
    "slideshow": {
     "slide_type": "slide"
    }
   },
   "source": [
    "## Zielfunktion\n",
    "\n",
    "0) **Gesamtkostenminimierung:** Die Gesamtkosten sollen minimiert werden. Sie bestehen aus der Summe von Rüstkosten und Lagerkosten aller Produkte über alle Perioden. Die Rüstkosten berechnen sich hierbei durch Multipizieren der Anzahl der Rüstvorgänge (Summe aler binären Rüstvariablen) mit dem Rüstkostensatz, die Lagerkosten durch Multiplizieren der eingelagerten Menge mit dem Lagerkostensatz.\n",
    "\n",
    "$ \\qquad \\min z = \\displaystyle\\sum_{i=1}^I \\displaystyle\\sum_{t=1}^T(k_i^s\\cdot \\gamma_{it}+k_i^l\\cdot L_{it})$ \n"
   ]
  },
  {
   "cell_type": "code",
   "execution_count": 33,
   "metadata": {
    "slideshow": {
     "slide_type": "fragment"
    }
   },
   "outputs": [],
   "source": [
    "@objective(m, Min,  sum( ks[i] * gamma[i,t] +  kl[i] * L[i,t]  for i=1:I for t=1:T) );"
   ]
  },
  {
   "cell_type": "markdown",
   "metadata": {
    "slideshow": {
     "slide_type": "slide"
    }
   },
   "source": [
    "## Nebenbedingungen"
   ]
  },
  {
   "cell_type": "markdown",
   "metadata": {
    "slideshow": {
     "slide_type": "fragment"
    }
   },
   "source": [
    "1) **Kapazitaetsrestriktion:** Die Summe aus Produktions- und Rüstzeit aller Produkte darf in jeder Periode die vorhandene Kapazität der Ressource j nicht überschreiten.\n",
    "\n",
    " $$ \\qquad \\displaystyle\\sum_{i=1}^I(t_i^p\\cdot X_{it}+t_i^s\\cdot\\gamma_{it} ) \\leq c_t \\hspace{40mm} \\forall t \\in T\\qquad $$ \n",
    " \n"
   ]
  },
  {
   "cell_type": "code",
   "execution_count": 34,
   "metadata": {
    "slideshow": {
     "slide_type": "fragment"
    }
   },
   "outputs": [],
   "source": [
    "@constraint(m, KapRes[t=1:T], sum((ts[i] * gamma[i,t] + tp[i] * X[i,t]) for i=1:I) <= c[t] );"
   ]
  },
  {
   "cell_type": "markdown",
   "metadata": {
    "slideshow": {
     "slide_type": "fragment"
    }
   },
   "source": [
    "2) **Lagerbilanzgleichung**: Der Lagerbestand am Ende einer Periode berechnet sich aus der Summe der Produktionsmenge und des Lagerbestandes der Vorperiode abzüglich der Absatzmenge (Nachfrage).\n",
    "\n",
    " $$ \\qquad L_{it} = L_{i,t-1}+X_{it}-b_{it} \\hspace{40mm} \\forall t \\in T, \\quad i \\in I$$"
   ]
  },
  {
   "cell_type": "code",
   "execution_count": 35,
   "metadata": {
    "slideshow": {
     "slide_type": "fragment"
    }
   },
   "outputs": [],
   "source": [
    "@constraint(m, Lager[i=1:I,t=1:T], L[i,t] == L[i,t-1] + X[i,t]  - b[i,t]);"
   ]
  },
  {
   "cell_type": "markdown",
   "metadata": {
    "slideshow": {
     "slide_type": "slide"
    }
   },
   "source": [
    " 3) **Anfangslagerbestand**: Der Anfangslagerbestand aller Produkte entspricht dem initial gesetzen $l_i$.\n",
    " \n",
    "  $$ \\qquad L_{i,0} = l_{start} \\hspace{40mm} \\forall  i \\in I$$\n"
   ]
  },
  {
   "cell_type": "code",
   "execution_count": 36,
   "metadata": {
    "slideshow": {
     "slide_type": "fragment"
    }
   },
   "outputs": [],
   "source": [
    "@constraint(m, AnfLager[i=1:I], L[i,0] == l_start[i]);"
   ]
  },
  {
   "cell_type": "markdown",
   "metadata": {
    "slideshow": {
     "slide_type": "fragment"
    }
   },
   "source": [
    "4) **Rüstbedingung**: Wenn für ein Produkt in einer Periode nicht gerüstet wird, ist die produzierte Menge dieses Produkts in dieser Periode 0. Wenn für ein Produkt in einer Periode gerüstet wird, wird die produzierte Menge durch die Rüstbedingung nicht eingeschränkt.\n",
    "\n",
    " $$ \\qquad X_{it} \\leq M \\cdot \\gamma_{it} \\hspace{40mm} \\forall t \\in T, \\quad i \\in I $$"
   ]
  },
  {
   "cell_type": "code",
   "execution_count": 37,
   "metadata": {
    "slideshow": {
     "slide_type": "fragment"
    }
   },
   "outputs": [],
   "source": [
    "@constraint(m, Ruestbed[i=1:I,t=1:T], X[i,t] <= M * gamma[i,t]);"
   ]
  },
  {
   "cell_type": "markdown",
   "metadata": {
    "slideshow": {
     "slide_type": "slide"
    }
   },
   "source": [
    "## Lösen Sie das Modell.\n",
    "---"
   ]
  },
  {
   "cell_type": "code",
   "execution_count": 38,
   "metadata": {
    "slideshow": {
     "slide_type": "fragment"
    }
   },
   "outputs": [
    {
     "name": "stdout",
     "output_type": "stream",
     "text": [
      "Welcome to the CBC MILP Solver \n",
      "Version: 2.10.3 \n",
      "Build Date: Jan  1 1970 \n",
      "\n",
      "command line - Cbc_C_Interface -solve -quit (default strategy 1)\n",
      "Continuous objective value is 196.484 - 0.00 seconds\n",
      "Cgl0003I 0 fixed, 36 tightened bounds, 10 strengthened rows, 0 substitutions\n",
      "Cgl0003I 0 fixed, 17 tightened bounds, 0 strengthened rows, 0 substitutions\n",
      "Cgl0003I 0 fixed, 2 tightened bounds, 0 strengthened rows, 0 substitutions\n",
      "Cgl0004I processed model has 23 rows, 31 columns (31 integer (10 of which binary)) and 70 elements\n",
      "Cbc0012I Integer solution of 1390 found by DiveCoefficient after 0 iterations and 0 nodes (0.02 seconds)\n",
      "Cbc0038I Full problem 23 rows 31 columns, reduced to 12 rows 15 columns\n",
      "Cbc0012I Integer solution of 1048 found by DiveCoefficient after 16 iterations and 0 nodes (0.03 seconds)\n",
      "Cbc0031I 10 added rows had average density of 4.5\n",
      "Cbc0013I At root node, 10 cuts changed objective from 553.01535 to 1048 in 4 passes\n",
      "Cbc0014I Cut generator 0 (Probing) - 18 row cuts average 2.3 elements, 5 column cuts (5 active)  in 0.002 seconds - new frequency is 1\n",
      "Cbc0014I Cut generator 1 (Gomory) - 18 row cuts average 7.2 elements, 0 column cuts (0 active)  in 0.000 seconds - new frequency is 1\n",
      "Cbc0014I Cut generator 2 (Knapsack) - 0 row cuts average 0.0 elements, 0 column cuts (0 active)  in 0.000 seconds - new frequency is -100\n",
      "Cbc0014I Cut generator 3 (Clique) - 0 row cuts average 0.0 elements, 0 column cuts (0 active)  in 0.000 seconds - new frequency is -100\n",
      "Cbc0014I Cut generator 4 (MixedIntegerRounding2) - 2 row cuts average 3.0 elements, 0 column cuts (0 active)  in 0.000 seconds - new frequency is -100\n",
      "Cbc0014I Cut generator 5 (FlowCover) - 1 row cuts average 4.0 elements, 0 column cuts (0 active)  in 0.000 seconds - new frequency is -100\n",
      "Cbc0014I Cut generator 6 (TwoMirCuts) - 26 row cuts average 6.5 elements, 0 column cuts (0 active)  in 0.003 seconds - new frequency is 1\n",
      "Cbc0001I Search completed - best objective 1048, took 16 iterations and 0 nodes (0.03 seconds)\n",
      "Cbc0035I Maximum depth 0, 0 variables fixed on reduced cost\n",
      "Cuts at root node changed objective from 553.015 to 1048\n",
      "Probing was tried 4 times and created 23 cuts of which 0 were active after adding rounds of cuts (0.002 seconds)\n",
      "Gomory was tried 4 times and created 18 cuts of which 0 were active after adding rounds of cuts (0.000 seconds)\n",
      "Knapsack was tried 4 times and created 0 cuts of which 0 were active after adding rounds of cuts (0.000 seconds)\n",
      "Clique was tried 4 times and created 0 cuts of which 0 were active after adding rounds of cuts (0.000 seconds)\n",
      "MixedIntegerRounding2 was tried 4 times and created 2 cuts of which 0 were active after adding rounds of cuts (0.000 seconds)\n",
      "FlowCover was tried 4 times and created 1 cuts of which 0 were active after adding rounds of cuts (0.000 seconds)\n",
      "TwoMirCuts was tried 4 times and created 26 cuts of which 0 were active after adding rounds of cuts (0.003 seconds)\n",
      "ZeroHalf was tried 1 times and created 0 cuts of which 0 were active after adding rounds of cuts (0.000 seconds)\n",
      "\n",
      "Result - Optimal solution found\n",
      "\n",
      "Objective value:                1048.00000000\n",
      "Enumerated nodes:               0\n",
      "Total iterations:               16\n",
      "Time (CPU seconds):             0.04\n",
      "Time (Wallclock seconds):       0.04\n",
      "\n",
      "Total time (CPU seconds):       0.04   (Wallclock seconds):       0.04\n",
      "\n"
     ]
    }
   ],
   "source": [
    "optimize!(m)"
   ]
  },
  {
   "cell_type": "markdown",
   "metadata": {
    "slideshow": {
     "slide_type": "fragment"
    }
   },
   "source": [
    "Lassen Sie sich den Zielfunktionswert Z anzeigen."
   ]
  },
  {
   "cell_type": "code",
   "execution_count": 39,
   "metadata": {
    "slideshow": {
     "slide_type": "fragment"
    }
   },
   "outputs": [
    {
     "name": "stdout",
     "output_type": "stream",
     "text": [
      "Objective value Z: 1048.0\n"
     ]
    }
   ],
   "source": [
    "println(\"Objective value Z: \", JuMP.objective_value(m))"
   ]
  },
  {
   "cell_type": "markdown",
   "metadata": {
    "slideshow": {
     "slide_type": "slide"
    }
   },
   "source": [
    "Lassen Sie sich die Produktionsmengen, die Lagermengen und die Rüstvariable anzeigen."
   ]
  },
  {
   "cell_type": "code",
   "execution_count": 40,
   "metadata": {
    "slideshow": {
     "slide_type": "fragment"
    }
   },
   "outputs": [
    {
     "data": {
      "text/plain": [
       "3×4 Array{Float64,2}:\n",
       " 60.0   0.0   27.0  123.0\n",
       "  0.0  40.0  110.0    0.0\n",
       " 90.0  90.0    0.0   50.0"
      ]
     },
     "execution_count": 40,
     "metadata": {},
     "output_type": "execute_result"
    }
   ],
   "source": [
    "JuMP.value.(X)"
   ]
  },
  {
   "cell_type": "code",
   "execution_count": 41,
   "metadata": {
    "slideshow": {
     "slide_type": "slide"
    }
   },
   "outputs": [
    {
     "data": {
      "text/plain": [
       "2-dimensional DenseAxisArray{Float64,2,...} with index sets:\n",
       "    Dimension 1, Base.OneTo(3)\n",
       "    Dimension 2, 0:4\n",
       "And data, a 3×5 Array{Float64,2}:\n",
       " 0.0  10.0   0.0  17.0  0.0\n",
       " 0.0   0.0   0.0  30.0  0.0\n",
       " 0.0   0.0  10.0   0.0  0.0"
      ]
     },
     "execution_count": 41,
     "metadata": {},
     "output_type": "execute_result"
    }
   ],
   "source": [
    "JuMP.value.(L)"
   ]
  },
  {
   "cell_type": "code",
   "execution_count": 42,
   "metadata": {
    "slideshow": {
     "slide_type": "fragment"
    }
   },
   "outputs": [
    {
     "data": {
      "text/plain": [
       "3×4 Array{Float64,2}:\n",
       " 1.0  0.0  1.0  1.0\n",
       " 0.0  1.0  1.0  0.0\n",
       " 1.0  1.0  0.0  1.0"
      ]
     },
     "execution_count": 42,
     "metadata": {},
     "output_type": "execute_result"
    }
   ],
   "source": [
    "JuMP.value.(gamma)"
   ]
  },
  {
   "cell_type": "markdown",
   "metadata": {
    "slideshow": {
     "slide_type": "slide"
    }
   },
   "source": [
    "Stellen Sie Produktionsmenge, Nachfrage und Lagerbestand grafisch dar."
   ]
  },
  {
   "cell_type": "code",
   "execution_count": 43,
   "metadata": {
    "slideshow": {
     "slide_type": "fragment"
    }
   },
   "outputs": [],
   "source": [
    "bardata = zeros((4,3,I))\n",
    "for i in 1:I\n",
    "    bardata[:,:,i] = \n",
    "    [JuMP.value(X[i,1]) b[i,1] JuMP.value(L[i,1])\n",
    "     JuMP.value(X[i,2]) b[i,2] JuMP.value(L[i,2])\n",
    "     JuMP.value(X[i,3]) b[i,3] JuMP.value(L[i,3])\n",
    "     JuMP.value(X[i,4]) b[i,4] JuMP.value(L[i,4])]\n",
    "end"
   ]
  },
  {
   "cell_type": "code",
   "execution_count": 44,
   "metadata": {
    "slideshow": {
     "slide_type": "fragment"
    }
   },
   "outputs": [
    {
     "data": {
      "image/svg+xml": [
       "<?xml version=\"1.0\" encoding=\"utf-8\"?>\n",
       "<svg xmlns=\"http://www.w3.org/2000/svg\" xmlns:xlink=\"http://www.w3.org/1999/xlink\" width=\"600\" height=\"400\" viewBox=\"0 0 2400 1600\">\n",
       "<defs>\n",
       "  <clipPath id=\"clip390\">\n",
       "    <rect x=\"0\" y=\"0\" width=\"2400\" height=\"1600\"/>\n",
       "  </clipPath>\n",
       "</defs>\n",
       "<path clip-path=\"url(#clip390)\" d=\"\n",
       "M0 1600 L2400 1600 L2400 0 L0 0  Z\n",
       "  \" fill=\"#ffffff\" fill-rule=\"evenodd\" fill-opacity=\"1\"/>\n",
       "<defs>\n",
       "  <clipPath id=\"clip391\">\n",
       "    <rect x=\"480\" y=\"0\" width=\"1681\" height=\"1600\"/>\n",
       "  </clipPath>\n",
       "</defs>\n",
       "<path clip-path=\"url(#clip390)\" d=\"\n",
       "M224.866 623.18 L1152.76 623.18 L1152.76 123.472 L224.866 123.472  Z\n",
       "  \" fill=\"#ffffff\" fill-rule=\"evenodd\" fill-opacity=\"1\"/>\n",
       "<defs>\n",
       "  <clipPath id=\"clip392\">\n",
       "    <rect x=\"224\" y=\"123\" width=\"929\" height=\"501\"/>\n",
       "  </clipPath>\n",
       "</defs>\n",
       "<polyline clip-path=\"url(#clip392)\" style=\"stroke:#000000; stroke-width:2; stroke-opacity:0.1; fill:none\" points=\"\n",
       "  360.22,623.18 360.22,123.472 \n",
       "  \"/>\n",
       "<polyline clip-path=\"url(#clip392)\" style=\"stroke:#000000; stroke-width:2; stroke-opacity:0.1; fill:none\" points=\"\n",
       "  579.281,623.18 579.281,123.472 \n",
       "  \"/>\n",
       "<polyline clip-path=\"url(#clip392)\" style=\"stroke:#000000; stroke-width:2; stroke-opacity:0.1; fill:none\" points=\"\n",
       "  798.342,623.18 798.342,123.472 \n",
       "  \"/>\n",
       "<polyline clip-path=\"url(#clip392)\" style=\"stroke:#000000; stroke-width:2; stroke-opacity:0.1; fill:none\" points=\"\n",
       "  1017.4,623.18 1017.4,123.472 \n",
       "  \"/>\n",
       "<polyline clip-path=\"url(#clip390)\" style=\"stroke:#000000; stroke-width:4; stroke-opacity:1; fill:none\" points=\"\n",
       "  224.866,623.18 1152.76,623.18 \n",
       "  \"/>\n",
       "<polyline clip-path=\"url(#clip390)\" style=\"stroke:#000000; stroke-width:4; stroke-opacity:1; fill:none\" points=\"\n",
       "  360.22,623.18 360.22,617.183 \n",
       "  \"/>\n",
       "<polyline clip-path=\"url(#clip390)\" style=\"stroke:#000000; stroke-width:4; stroke-opacity:1; fill:none\" points=\"\n",
       "  579.281,623.18 579.281,617.183 \n",
       "  \"/>\n",
       "<polyline clip-path=\"url(#clip390)\" style=\"stroke:#000000; stroke-width:4; stroke-opacity:1; fill:none\" points=\"\n",
       "  798.342,623.18 798.342,617.183 \n",
       "  \"/>\n",
       "<polyline clip-path=\"url(#clip390)\" style=\"stroke:#000000; stroke-width:4; stroke-opacity:1; fill:none\" points=\"\n",
       "  1017.4,623.18 1017.4,617.183 \n",
       "  \"/>\n",
       "<path clip-path=\"url(#clip390)\" d=\"M 0 0 M350.602 679.917 L358.24 679.917 L358.24 653.551 L349.93 655.218 L349.93 650.959 L358.194 649.292 L362.87 649.292 L362.87 679.917 L370.509 679.917 L370.509 683.852 L350.602 683.852 L350.602 679.917 Z\" fill=\"#000000\" fill-rule=\"evenodd\" fill-opacity=\"1\" /><path clip-path=\"url(#clip390)\" d=\"M 0 0 M573.933 679.917 L590.253 679.917 L590.253 683.852 L568.308 683.852 L568.308 679.917 Q570.97 677.162 575.554 672.532 Q580.16 667.88 581.341 666.537 Q583.586 664.014 584.466 662.278 Q585.369 660.519 585.369 658.829 Q585.369 656.074 583.424 654.338 Q581.503 652.602 578.401 652.602 Q576.202 652.602 573.748 653.366 Q571.318 654.13 568.54 655.681 L568.54 650.959 Q571.364 649.824 573.818 649.246 Q576.271 648.667 578.308 648.667 Q583.679 648.667 586.873 651.352 Q590.068 654.037 590.068 658.528 Q590.068 660.658 589.257 662.579 Q588.47 664.477 586.364 667.07 Q585.785 667.741 582.683 670.958 Q579.582 674.153 573.933 679.917 Z\" fill=\"#000000\" fill-rule=\"evenodd\" fill-opacity=\"1\" /><path clip-path=\"url(#clip390)\" d=\"M 0 0 M802.589 665.218 Q805.946 665.935 807.821 668.204 Q809.719 670.472 809.719 673.806 Q809.719 678.921 806.2 681.722 Q802.682 684.523 796.2 684.523 Q794.024 684.523 791.71 684.083 Q789.418 683.667 786.964 682.81 L786.964 678.296 Q788.909 679.431 791.224 680.009 Q793.538 680.588 796.061 680.588 Q800.46 680.588 802.751 678.852 Q805.066 677.116 805.066 673.806 Q805.066 670.75 802.913 669.037 Q800.784 667.301 796.964 667.301 L792.936 667.301 L792.936 663.458 L797.149 663.458 Q800.598 663.458 802.427 662.093 Q804.256 660.704 804.256 658.111 Q804.256 655.449 802.358 654.037 Q800.483 652.602 796.964 652.602 Q795.043 652.602 792.844 653.019 Q790.645 653.435 788.006 654.315 L788.006 650.148 Q790.668 649.408 792.983 649.037 Q795.321 648.667 797.381 648.667 Q802.705 648.667 805.807 651.097 Q808.909 653.505 808.909 657.625 Q808.909 660.495 807.265 662.486 Q805.622 664.454 802.589 665.218 Z\" fill=\"#000000\" fill-rule=\"evenodd\" fill-opacity=\"1\" /><path clip-path=\"url(#clip390)\" d=\"M 0 0 M1020.41 653.366 L1008.61 671.815 L1020.41 671.815 L1020.41 653.366 M1019.18 649.292 L1025.06 649.292 L1025.06 671.815 L1030 671.815 L1030 675.704 L1025.06 675.704 L1025.06 683.852 L1020.41 683.852 L1020.41 675.704 L1004.81 675.704 L1004.81 671.19 L1019.18 649.292 Z\" fill=\"#000000\" fill-rule=\"evenodd\" fill-opacity=\"1\" /><path clip-path=\"url(#clip390)\" d=\"M 0 0 M589.14 713.807 L589.14 731.663 L597.224 731.663 Q601.712 731.663 604.163 729.34 Q606.614 727.016 606.614 722.719 Q606.614 718.454 604.163 716.131 Q601.712 713.807 597.224 713.807 L589.14 713.807 M582.711 708.524 L597.224 708.524 Q605.213 708.524 609.287 712.152 Q613.393 715.749 613.393 722.719 Q613.393 729.753 609.287 733.35 Q605.213 736.947 597.224 736.947 L589.14 736.947 L589.14 756.044 L582.711 756.044 L582.711 708.524 Z\" fill=\"#000000\" fill-rule=\"evenodd\" fill-opacity=\"1\" /><path clip-path=\"url(#clip390)\" d=\"M 0 0 M647.705 736.756 L647.705 739.62 L620.778 739.62 Q621.16 745.668 624.406 748.851 Q627.684 752.002 633.509 752.002 Q636.883 752.002 640.034 751.174 Q643.217 750.347 646.336 748.691 L646.336 754.23 Q643.185 755.566 639.875 756.267 Q636.565 756.967 633.159 756.967 Q624.629 756.967 619.632 752.002 Q614.667 747.036 614.667 738.57 Q614.667 729.817 619.377 724.693 Q624.12 719.537 632.14 719.537 Q639.334 719.537 643.503 724.183 Q647.705 728.799 647.705 736.756 M641.848 735.037 Q641.784 730.231 639.143 727.366 Q636.533 724.502 632.204 724.502 Q627.302 724.502 624.342 727.271 Q621.414 730.04 620.969 735.069 L641.848 735.037 Z\" fill=\"#000000\" fill-rule=\"evenodd\" fill-opacity=\"1\" /><path clip-path=\"url(#clip390)\" d=\"M 0 0 M674.504 725.87 Q673.517 725.297 672.34 725.043 Q671.194 724.756 669.794 724.756 Q664.828 724.756 662.155 728.003 Q659.513 731.218 659.513 737.265 L659.513 756.044 L653.625 756.044 L653.625 720.396 L659.513 720.396 L659.513 725.934 Q661.359 722.688 664.319 721.128 Q667.279 719.537 671.512 719.537 Q672.117 719.537 672.849 719.632 Q673.581 719.696 674.472 719.855 L674.504 725.87 Z\" fill=\"#000000\" fill-rule=\"evenodd\" fill-opacity=\"1\" /><path clip-path=\"url(#clip390)\" d=\"M 0 0 M680.647 720.396 L686.504 720.396 L686.504 756.044 L680.647 756.044 L680.647 720.396 M680.647 706.519 L686.504 706.519 L686.504 713.935 L680.647 713.935 L680.647 706.519 Z\" fill=\"#000000\" fill-rule=\"evenodd\" fill-opacity=\"1\" /><path clip-path=\"url(#clip390)\" d=\"M 0 0 M706.46 724.502 Q701.749 724.502 699.012 728.194 Q696.275 731.854 696.275 738.252 Q696.275 744.649 698.98 748.341 Q701.718 752.002 706.46 752.002 Q711.139 752.002 713.876 748.31 Q716.613 744.617 716.613 738.252 Q716.613 731.918 713.876 728.226 Q711.139 724.502 706.46 724.502 M706.46 719.537 Q714.099 719.537 718.459 724.502 Q722.82 729.467 722.82 738.252 Q722.82 747.005 718.459 752.002 Q714.099 756.967 706.46 756.967 Q698.789 756.967 694.429 752.002 Q690.1 747.005 690.1 738.252 Q690.1 729.467 694.429 724.502 Q698.789 719.537 706.46 719.537 Z\" fill=\"#000000\" fill-rule=\"evenodd\" fill-opacity=\"1\" /><path clip-path=\"url(#clip390)\" d=\"M 0 0 M752.42 725.807 L752.42 706.519 L758.277 706.519 L758.277 756.044 L752.42 756.044 L752.42 750.697 Q750.574 753.88 747.742 755.439 Q744.941 756.967 740.994 756.967 Q734.533 756.967 730.459 751.811 Q726.416 746.654 726.416 738.252 Q726.416 729.849 730.459 724.693 Q734.533 719.537 740.994 719.537 Q744.941 719.537 747.742 721.096 Q750.574 722.624 752.42 725.807 M732.464 738.252 Q732.464 744.713 735.106 748.405 Q737.779 752.065 742.426 752.065 Q747.073 752.065 749.747 748.405 Q752.42 744.713 752.42 738.252 Q752.42 731.791 749.747 728.13 Q747.073 724.438 742.426 724.438 Q737.779 724.438 735.106 728.13 Q732.464 731.791 732.464 738.252 Z\" fill=\"#000000\" fill-rule=\"evenodd\" fill-opacity=\"1\" /><path clip-path=\"url(#clip390)\" d=\"M 0 0 M794.911 736.756 L794.911 739.62 L767.985 739.62 Q768.366 745.668 771.613 748.851 Q774.891 752.002 780.716 752.002 Q784.09 752.002 787.241 751.174 Q790.424 750.347 793.543 748.691 L793.543 754.23 Q790.392 755.566 787.082 756.267 Q783.772 756.967 780.366 756.967 Q771.836 756.967 766.839 752.002 Q761.873 747.036 761.873 738.57 Q761.873 729.817 766.584 724.693 Q771.327 719.537 779.347 719.537 Q786.541 719.537 790.71 724.183 Q794.911 728.799 794.911 736.756 M789.055 735.037 Q788.991 730.231 786.35 727.366 Q783.74 724.502 779.411 724.502 Q774.509 724.502 771.549 727.271 Q768.621 730.04 768.176 735.069 L789.055 735.037 Z\" fill=\"#000000\" fill-rule=\"evenodd\" fill-opacity=\"1\" /><polyline clip-path=\"url(#clip392)\" style=\"stroke:#000000; stroke-width:2; stroke-opacity:0.1; fill:none\" points=\"\n",
       "  224.866,623.18 1152.76,623.18 \n",
       "  \"/>\n",
       "<polyline clip-path=\"url(#clip392)\" style=\"stroke:#000000; stroke-width:2; stroke-opacity:0.1; fill:none\" points=\"\n",
       "  224.866,523.238 1152.76,523.238 \n",
       "  \"/>\n",
       "<polyline clip-path=\"url(#clip392)\" style=\"stroke:#000000; stroke-width:2; stroke-opacity:0.1; fill:none\" points=\"\n",
       "  224.866,423.297 1152.76,423.297 \n",
       "  \"/>\n",
       "<polyline clip-path=\"url(#clip392)\" style=\"stroke:#000000; stroke-width:2; stroke-opacity:0.1; fill:none\" points=\"\n",
       "  224.866,323.355 1152.76,323.355 \n",
       "  \"/>\n",
       "<polyline clip-path=\"url(#clip392)\" style=\"stroke:#000000; stroke-width:2; stroke-opacity:0.1; fill:none\" points=\"\n",
       "  224.866,223.414 1152.76,223.414 \n",
       "  \"/>\n",
       "<polyline clip-path=\"url(#clip392)\" style=\"stroke:#000000; stroke-width:2; stroke-opacity:0.1; fill:none\" points=\"\n",
       "  224.866,123.472 1152.76,123.472 \n",
       "  \"/>\n",
       "<polyline clip-path=\"url(#clip390)\" style=\"stroke:#000000; stroke-width:4; stroke-opacity:1; fill:none\" points=\"\n",
       "  224.866,623.18 224.866,123.472 \n",
       "  \"/>\n",
       "<polyline clip-path=\"url(#clip390)\" style=\"stroke:#000000; stroke-width:4; stroke-opacity:1; fill:none\" points=\"\n",
       "  224.866,623.18 236.001,623.18 \n",
       "  \"/>\n",
       "<polyline clip-path=\"url(#clip390)\" style=\"stroke:#000000; stroke-width:4; stroke-opacity:1; fill:none\" points=\"\n",
       "  224.866,523.238 236.001,523.238 \n",
       "  \"/>\n",
       "<polyline clip-path=\"url(#clip390)\" style=\"stroke:#000000; stroke-width:4; stroke-opacity:1; fill:none\" points=\"\n",
       "  224.866,423.297 236.001,423.297 \n",
       "  \"/>\n",
       "<polyline clip-path=\"url(#clip390)\" style=\"stroke:#000000; stroke-width:4; stroke-opacity:1; fill:none\" points=\"\n",
       "  224.866,323.355 236.001,323.355 \n",
       "  \"/>\n",
       "<polyline clip-path=\"url(#clip390)\" style=\"stroke:#000000; stroke-width:4; stroke-opacity:1; fill:none\" points=\"\n",
       "  224.866,223.414 236.001,223.414 \n",
       "  \"/>\n",
       "<polyline clip-path=\"url(#clip390)\" style=\"stroke:#000000; stroke-width:4; stroke-opacity:1; fill:none\" points=\"\n",
       "  224.866,123.472 236.001,123.472 \n",
       "  \"/>\n",
       "<path clip-path=\"url(#clip390)\" d=\"M 0 0 M176.922 608.979 Q173.311 608.979 171.482 612.543 Q169.677 616.085 169.677 623.215 Q169.677 630.321 171.482 633.886 Q173.311 637.427 176.922 637.427 Q180.556 637.427 182.362 633.886 Q184.19 630.321 184.19 623.215 Q184.19 616.085 182.362 612.543 Q180.556 608.979 176.922 608.979 M176.922 605.275 Q182.732 605.275 185.788 609.881 Q188.866 614.465 188.866 623.215 Q188.866 631.941 185.788 636.548 Q182.732 641.131 176.922 641.131 Q171.112 641.131 168.033 636.548 Q164.977 631.941 164.977 623.215 Q164.977 614.465 168.033 609.881 Q171.112 605.275 176.922 605.275 Z\" fill=\"#000000\" fill-rule=\"evenodd\" fill-opacity=\"1\" /><path clip-path=\"url(#clip390)\" d=\"M 0 0 M146.529 536.583 L162.848 536.583 L162.848 540.518 L140.904 540.518 L140.904 536.583 Q143.566 533.829 148.149 529.199 Q152.755 524.546 153.936 523.204 Q156.181 520.68 157.061 518.944 Q157.964 517.185 157.964 515.495 Q157.964 512.741 156.019 511.005 Q154.098 509.268 150.996 509.268 Q148.797 509.268 146.343 510.032 Q143.913 510.796 141.135 512.347 L141.135 507.625 Q143.959 506.491 146.413 505.912 Q148.866 505.333 150.903 505.333 Q156.274 505.333 159.468 508.018 Q162.663 510.704 162.663 515.194 Q162.663 517.324 161.852 519.245 Q161.065 521.143 158.959 523.736 Q158.38 524.407 155.278 527.625 Q152.177 530.819 146.529 536.583 Z\" fill=\"#000000\" fill-rule=\"evenodd\" fill-opacity=\"1\" /><path clip-path=\"url(#clip390)\" d=\"M 0 0 M167.964 505.958 L186.32 505.958 L186.32 509.893 L172.246 509.893 L172.246 518.366 Q173.264 518.018 174.283 517.856 Q175.301 517.671 176.32 517.671 Q182.107 517.671 185.487 520.842 Q188.866 524.014 188.866 529.43 Q188.866 535.009 185.394 538.111 Q181.922 541.19 175.602 541.19 Q173.427 541.19 171.158 540.819 Q168.913 540.449 166.505 539.708 L166.505 535.009 Q168.589 536.143 170.811 536.699 Q173.033 537.254 175.51 537.254 Q179.514 537.254 181.852 535.148 Q184.19 533.041 184.19 529.43 Q184.19 525.819 181.852 523.713 Q179.514 521.606 175.51 521.606 Q173.635 521.606 171.76 522.023 Q169.908 522.44 167.964 523.319 L167.964 505.958 Z\" fill=\"#000000\" fill-rule=\"evenodd\" fill-opacity=\"1\" /><path clip-path=\"url(#clip390)\" d=\"M 0 0 M140.95 406.017 L159.306 406.017 L159.306 409.952 L145.232 409.952 L145.232 418.424 Q146.251 418.077 147.269 417.915 Q148.288 417.73 149.306 417.73 Q155.093 417.73 158.473 420.901 Q161.852 424.072 161.852 429.489 Q161.852 435.068 158.38 438.169 Q154.908 441.248 148.589 441.248 Q146.413 441.248 144.144 440.878 Q141.899 440.507 139.492 439.767 L139.492 435.068 Q141.575 436.202 143.797 436.757 Q146.019 437.313 148.496 437.313 Q152.501 437.313 154.839 435.206 Q157.177 433.1 157.177 429.489 Q157.177 425.878 154.839 423.771 Q152.501 421.665 148.496 421.665 Q146.621 421.665 144.746 422.081 Q142.894 422.498 140.95 423.378 L140.95 406.017 Z\" fill=\"#000000\" fill-rule=\"evenodd\" fill-opacity=\"1\" /><path clip-path=\"url(#clip390)\" d=\"M 0 0 M176.922 409.095 Q173.311 409.095 171.482 412.66 Q169.677 416.202 169.677 423.331 Q169.677 430.438 171.482 434.003 Q173.311 437.544 176.922 437.544 Q180.556 437.544 182.362 434.003 Q184.19 430.438 184.19 423.331 Q184.19 416.202 182.362 412.66 Q180.556 409.095 176.922 409.095 M176.922 405.392 Q182.732 405.392 185.788 409.998 Q188.866 414.582 188.866 423.331 Q188.866 432.058 185.788 436.665 Q182.732 441.248 176.922 441.248 Q171.112 441.248 168.033 436.665 Q164.977 432.058 164.977 423.331 Q164.977 414.582 168.033 409.998 Q171.112 405.392 176.922 405.392 Z\" fill=\"#000000\" fill-rule=\"evenodd\" fill-opacity=\"1\" /><path clip-path=\"url(#clip390)\" d=\"M 0 0 M140.626 306.075 L162.848 306.075 L162.848 308.066 L150.302 340.635 L145.417 340.635 L157.223 310.01 L140.626 310.01 L140.626 306.075 Z\" fill=\"#000000\" fill-rule=\"evenodd\" fill-opacity=\"1\" /><path clip-path=\"url(#clip390)\" d=\"M 0 0 M167.964 306.075 L186.32 306.075 L186.32 310.01 L172.246 310.01 L172.246 318.483 Q173.264 318.135 174.283 317.973 Q175.301 317.788 176.32 317.788 Q182.107 317.788 185.487 320.959 Q188.866 324.131 188.866 329.547 Q188.866 335.126 185.394 338.228 Q181.922 341.307 175.602 341.307 Q173.427 341.307 171.158 340.936 Q168.913 340.566 166.505 339.825 L166.505 335.126 Q168.589 336.26 170.811 336.816 Q173.033 337.371 175.51 337.371 Q179.514 337.371 181.852 335.265 Q184.19 333.158 184.19 329.547 Q184.19 325.936 181.852 323.83 Q179.514 321.723 175.51 321.723 Q173.635 321.723 171.76 322.14 Q169.908 322.557 167.964 323.436 L167.964 306.075 Z\" fill=\"#000000\" fill-rule=\"evenodd\" fill-opacity=\"1\" /><path clip-path=\"url(#clip390)\" d=\"M 0 0 M114.931 236.759 L122.57 236.759 L122.57 210.393 L114.26 212.06 L114.26 207.8 L122.524 206.134 L127.2 206.134 L127.2 236.759 L134.839 236.759 L134.839 240.694 L114.931 240.694 L114.931 236.759 Z\" fill=\"#000000\" fill-rule=\"evenodd\" fill-opacity=\"1\" /><path clip-path=\"url(#clip390)\" d=\"M 0 0 M149.908 209.212 Q146.297 209.212 144.468 212.777 Q142.663 216.319 142.663 223.448 Q142.663 230.555 144.468 234.12 Q146.297 237.661 149.908 237.661 Q153.542 237.661 155.348 234.12 Q157.177 230.555 157.177 223.448 Q157.177 216.319 155.348 212.777 Q153.542 209.212 149.908 209.212 M149.908 205.509 Q155.718 205.509 158.774 210.115 Q161.852 214.698 161.852 223.448 Q161.852 232.175 158.774 236.782 Q155.718 241.365 149.908 241.365 Q144.098 241.365 141.019 236.782 Q137.964 232.175 137.964 223.448 Q137.964 214.698 141.019 210.115 Q144.098 205.509 149.908 205.509 Z\" fill=\"#000000\" fill-rule=\"evenodd\" fill-opacity=\"1\" /><path clip-path=\"url(#clip390)\" d=\"M 0 0 M176.922 209.212 Q173.311 209.212 171.482 212.777 Q169.677 216.319 169.677 223.448 Q169.677 230.555 171.482 234.12 Q173.311 237.661 176.922 237.661 Q180.556 237.661 182.362 234.12 Q184.19 230.555 184.19 223.448 Q184.19 216.319 182.362 212.777 Q180.556 209.212 176.922 209.212 M176.922 205.509 Q182.732 205.509 185.788 210.115 Q188.866 214.698 188.866 223.448 Q188.866 232.175 185.788 236.782 Q182.732 241.365 176.922 241.365 Q171.112 241.365 168.033 236.782 Q164.977 232.175 164.977 223.448 Q164.977 214.698 168.033 210.115 Q171.112 205.509 176.922 205.509 Z\" fill=\"#000000\" fill-rule=\"evenodd\" fill-opacity=\"1\" /><path clip-path=\"url(#clip390)\" d=\"M 0 0 M117.524 136.817 L125.163 136.817 L125.163 110.451 L116.853 112.118 L116.853 107.859 L125.117 106.192 L129.792 106.192 L129.792 136.817 L137.431 136.817 L137.431 140.752 L117.524 140.752 L117.524 136.817 Z\" fill=\"#000000\" fill-rule=\"evenodd\" fill-opacity=\"1\" /><path clip-path=\"url(#clip390)\" d=\"M 0 0 M146.529 136.817 L162.848 136.817 L162.848 140.752 L140.904 140.752 L140.904 136.817 Q143.566 134.062 148.149 129.433 Q152.755 124.78 153.936 123.437 Q156.181 120.914 157.061 119.178 Q157.964 117.419 157.964 115.729 Q157.964 112.974 156.019 111.238 Q154.098 109.502 150.996 109.502 Q148.797 109.502 146.343 110.266 Q143.913 111.03 141.135 112.581 L141.135 107.859 Q143.959 106.725 146.413 106.146 Q148.866 105.567 150.903 105.567 Q156.274 105.567 159.468 108.252 Q162.663 110.937 162.663 115.428 Q162.663 117.558 161.852 119.479 Q161.065 121.377 158.959 123.97 Q158.38 124.641 155.278 127.859 Q152.177 131.053 146.529 136.817 Z\" fill=\"#000000\" fill-rule=\"evenodd\" fill-opacity=\"1\" /><path clip-path=\"url(#clip390)\" d=\"M 0 0 M167.964 106.192 L186.32 106.192 L186.32 110.127 L172.246 110.127 L172.246 118.599 Q173.264 118.252 174.283 118.09 Q175.301 117.905 176.32 117.905 Q182.107 117.905 185.487 121.076 Q188.866 124.248 188.866 129.664 Q188.866 135.243 185.394 138.345 Q181.922 141.423 175.602 141.423 Q173.427 141.423 171.158 141.053 Q168.913 140.683 166.505 139.942 L166.505 135.243 Q168.589 136.377 170.811 136.933 Q173.033 137.488 175.51 137.488 Q179.514 137.488 181.852 135.382 Q184.19 133.275 184.19 129.664 Q184.19 126.053 181.852 123.947 Q179.514 121.84 175.51 121.84 Q173.635 121.84 171.76 122.257 Q169.908 122.674 167.964 123.553 L167.964 106.192 Z\" fill=\"#000000\" fill-rule=\"evenodd\" fill-opacity=\"1\" /><path clip-path=\"url(#clip390)\" d=\"M 0 0 M40.4842 467.316 L40.4842 457.735 L72.8219 445.609 L40.4842 433.418 L40.4842 423.838 L88.0042 423.838 L88.0042 430.108 L46.277 430.108 L78.8694 442.362 L78.8694 448.823 L46.277 461.077 L88.0042 461.077 L88.0042 467.316 L40.4842 467.316 Z\" fill=\"#000000\" fill-rule=\"evenodd\" fill-opacity=\"1\" /><path clip-path=\"url(#clip390)\" d=\"M 0 0 M68.7161 387.203 L71.5806 387.203 L71.5806 414.13 Q77.6281 413.748 80.8109 410.502 Q83.9619 407.223 83.9619 401.399 Q83.9619 398.025 83.1344 394.874 Q82.3069 391.691 80.6518 388.572 L86.1899 388.572 Q87.5267 391.723 88.227 395.033 Q88.9272 398.343 88.9272 401.749 Q88.9272 410.279 83.9619 415.276 Q78.9967 420.241 70.5303 420.241 Q61.7774 420.241 56.6531 415.531 Q51.4968 410.788 51.4968 402.767 Q51.4968 395.574 56.1438 391.405 Q60.7589 387.203 68.7161 387.203 M66.9973 393.06 Q62.1912 393.123 59.3266 395.765 Q56.4621 398.375 56.4621 402.704 Q56.4621 407.605 59.2312 410.565 Q62.0002 413.494 67.0292 413.939 L66.9973 393.06 Z\" fill=\"#000000\" fill-rule=\"evenodd\" fill-opacity=\"1\" /><path clip-path=\"url(#clip390)\" d=\"M 0 0 M66.4881 351.428 L88.0042 351.428 L88.0042 357.284 L66.679 357.284 Q61.6183 357.284 59.1038 359.258 Q56.5894 361.231 56.5894 365.178 Q56.5894 369.92 59.6131 372.658 Q62.6368 375.395 67.8567 375.395 L88.0042 375.395 L88.0042 381.283 L52.3562 381.283 L52.3562 375.395 L57.8944 375.395 Q54.6797 373.294 53.0883 370.461 Q51.4968 367.597 51.4968 363.873 Q51.4968 357.73 55.3163 354.579 Q59.1038 351.428 66.4881 351.428 Z\" fill=\"#000000\" fill-rule=\"evenodd\" fill-opacity=\"1\" /><path clip-path=\"url(#clip390)\" d=\"M 0 0 M69.7664 321.827 Q63.4007 321.827 59.8996 324.469 Q56.3984 327.079 56.3984 331.822 Q56.3984 336.532 59.8996 339.174 Q63.4007 341.784 69.7664 341.784 Q76.1003 341.784 79.6014 339.174 Q83.1026 336.532 83.1026 331.822 Q83.1026 327.079 79.6014 324.469 Q76.1003 321.827 69.7664 321.827 M83.58 315.971 Q92.683 315.971 97.1071 320.013 Q101.563 324.055 101.563 332.394 Q101.563 335.482 101.086 338.219 Q100.64 340.956 99.6852 343.534 L93.9879 343.534 Q95.3884 340.956 96.0568 338.442 Q96.7252 335.927 96.7252 333.318 Q96.7252 327.557 93.7015 324.692 Q90.7096 321.827 84.6303 321.827 L81.7339 321.827 Q84.885 323.642 86.4446 326.474 Q88.0042 329.307 88.0042 333.254 Q88.0042 339.811 83.0071 343.821 Q78.01 347.831 69.7664 347.831 Q61.491 347.831 56.4939 343.821 Q51.4968 339.811 51.4968 333.254 Q51.4968 329.307 53.0564 326.474 Q54.616 323.642 57.7671 321.827 L52.3562 321.827 L52.3562 315.971 L83.58 315.971 Z\" fill=\"#000000\" fill-rule=\"evenodd\" fill-opacity=\"1\" /><path clip-path=\"url(#clip390)\" d=\"M 0 0 M68.7161 279.336 L71.5806 279.336 L71.5806 306.263 Q77.6281 305.881 80.8109 302.635 Q83.9619 299.356 83.9619 293.532 Q83.9619 290.158 83.1344 287.007 Q82.3069 283.824 80.6518 280.705 L86.1899 280.705 Q87.5267 283.856 88.227 287.166 Q88.9272 290.476 88.9272 293.882 Q88.9272 302.412 83.9619 307.409 Q78.9967 312.374 70.5303 312.374 Q61.7774 312.374 56.6531 307.664 Q51.4968 302.921 51.4968 294.9 Q51.4968 287.707 56.1438 283.538 Q60.7589 279.336 68.7161 279.336 M66.9973 285.193 Q62.1912 285.256 59.3266 287.898 Q56.4621 290.508 56.4621 294.837 Q56.4621 299.738 59.2312 302.698 Q62.0002 305.627 67.0292 306.072 L66.9973 285.193 Z\" fill=\"#000000\" fill-rule=\"evenodd\" fill-opacity=\"1\" /><path clip-path=\"url(#clip390)\" d=\"M 0 0 M518.936 18.8205 L518.936 41.5461 L529.226 41.5461 Q534.937 41.5461 538.057 38.5889 Q541.176 35.6318 541.176 30.163 Q541.176 24.7348 538.057 21.7777 Q534.937 18.8205 529.226 18.8205 L518.936 18.8205 M510.754 12.096 L529.226 12.096 Q539.393 12.096 544.579 16.714 Q549.804 21.2916 549.804 30.163 Q549.804 39.1155 544.579 43.6931 Q539.393 48.2706 529.226 48.2706 L518.936 48.2706 L518.936 72.576 L510.754 72.576 L510.754 12.096 Z\" fill=\"#000000\" fill-rule=\"evenodd\" fill-opacity=\"1\" /><path clip-path=\"url(#clip390)\" d=\"M 0 0 M582.455 34.1734 Q581.199 33.4443 579.7 33.1202 Q578.242 32.7556 576.459 32.7556 Q570.14 32.7556 566.737 36.8875 Q563.375 40.9789 563.375 48.6757 L563.375 72.576 L555.881 72.576 L555.881 27.2059 L563.375 27.2059 L563.375 34.2544 Q565.724 30.1225 569.492 28.1376 Q573.259 26.1121 578.647 26.1121 Q579.416 26.1121 580.348 26.2337 Q581.28 26.3147 582.414 26.5172 L582.455 34.1734 Z\" fill=\"#000000\" fill-rule=\"evenodd\" fill-opacity=\"1\" /><path clip-path=\"url(#clip390)\" d=\"M 0 0 M606.031 32.4315 Q600.036 32.4315 596.552 37.1306 Q593.068 41.7891 593.068 49.9314 Q593.068 58.0738 596.511 62.7728 Q599.995 67.4314 606.031 67.4314 Q611.986 67.4314 615.469 62.7323 Q618.953 58.0333 618.953 49.9314 Q618.953 41.8701 615.469 37.1711 Q611.986 32.4315 606.031 32.4315 M606.031 26.1121 Q615.753 26.1121 621.303 32.4315 Q626.852 38.7509 626.852 49.9314 Q626.852 61.0714 621.303 67.4314 Q615.753 73.7508 606.031 73.7508 Q596.268 73.7508 590.718 67.4314 Q585.209 61.0714 585.209 49.9314 Q585.209 38.7509 590.718 32.4315 Q596.268 26.1121 606.031 26.1121 Z\" fill=\"#000000\" fill-rule=\"evenodd\" fill-opacity=\"1\" /><path clip-path=\"url(#clip390)\" d=\"M 0 0 M664.526 34.0924 L664.526 9.54393 L671.98 9.54393 L671.98 72.576 L664.526 72.576 L664.526 65.7705 Q662.176 69.8214 658.571 71.8063 Q655.006 73.7508 649.983 73.7508 Q641.76 73.7508 636.575 67.1883 Q631.43 60.6258 631.43 49.9314 Q631.43 39.2371 636.575 32.6746 Q641.76 26.1121 649.983 26.1121 Q655.006 26.1121 658.571 28.0971 Q662.176 30.0415 664.526 34.0924 M639.127 49.9314 Q639.127 58.1548 642.489 62.8538 Q645.892 67.5124 651.806 67.5124 Q657.72 67.5124 661.123 62.8538 Q664.526 58.1548 664.526 49.9314 Q664.526 41.7081 661.123 37.0496 Q657.72 32.3505 651.806 32.3505 Q645.892 32.3505 642.489 37.0496 Q639.127 41.7081 639.127 49.9314 Z\" fill=\"#000000\" fill-rule=\"evenodd\" fill-opacity=\"1\" /><path clip-path=\"url(#clip390)\" d=\"M 0 0 M679.028 54.671 L679.028 27.2059 L686.482 27.2059 L686.482 54.3874 Q686.482 60.8284 688.993 64.0691 Q691.505 67.2693 696.528 67.2693 Q702.564 67.2693 706.048 63.421 Q709.572 59.5726 709.572 52.9291 L709.572 27.2059 L717.026 27.2059 L717.026 72.576 L709.572 72.576 L709.572 65.6084 Q706.858 69.7404 703.253 71.7658 Q699.688 73.7508 694.948 73.7508 Q687.13 73.7508 683.079 68.8897 Q679.028 64.0286 679.028 54.671 M697.784 26.1121 L697.784 26.1121 Z\" fill=\"#000000\" fill-rule=\"evenodd\" fill-opacity=\"1\" /><path clip-path=\"url(#clip390)\" d=\"M 0 0 M724.56 9.54393 L732.054 9.54393 L732.054 46.7717 L754.294 27.2059 L763.814 27.2059 L739.751 48.4326 L764.826 72.576 L755.104 72.576 L732.054 50.4176 L732.054 72.576 L724.56 72.576 L724.56 9.54393 Z\" fill=\"#000000\" fill-rule=\"evenodd\" fill-opacity=\"1\" /><path clip-path=\"url(#clip390)\" d=\"M 0 0 M780.017 14.324 L780.017 27.2059 L795.37 27.2059 L795.37 32.9987 L780.017 32.9987 L780.017 57.6282 Q780.017 63.1779 781.516 64.7578 Q783.055 66.3376 787.714 66.3376 L795.37 66.3376 L795.37 72.576 L787.714 72.576 Q779.085 72.576 775.804 69.3758 Q772.523 66.1351 772.523 57.6282 L772.523 32.9987 L767.054 32.9987 L767.054 27.2059 L772.523 27.2059 L772.523 14.324 L780.017 14.324 Z\" fill=\"#000000\" fill-rule=\"evenodd\" fill-opacity=\"1\" /><path clip-path=\"url(#clip390)\" d=\"M 0 0 M832.031 65.6895 L845.399 65.6895 L845.399 19.5497 L830.856 22.4663 L830.856 15.0127 L845.318 12.096 L853.501 12.096 L853.501 65.6895 L866.869 65.6895 L866.869 72.576 L832.031 72.576 L832.031 65.6895 Z\" fill=\"#000000\" fill-rule=\"evenodd\" fill-opacity=\"1\" /><path clip-path=\"url(#clip392)\" d=\"\n",
       "M272.595 383.32 L272.595 623.18 L331.011 623.18 L331.011 383.32 L272.595 383.32 L272.595 383.32  Z\n",
       "  \" fill=\"#00688b\" fill-rule=\"evenodd\" fill-opacity=\"1\"/>\n",
       "<polyline clip-path=\"url(#clip392)\" style=\"stroke:#000000; stroke-width:4; stroke-opacity:1; fill:none\" points=\"\n",
       "  272.595,383.32 272.595,623.18 331.011,623.18 331.011,383.32 272.595,383.32 \n",
       "  \"/>\n",
       "<path clip-path=\"url(#clip392)\" d=\"\n",
       "M491.656 623.18 L491.656 623.18 L550.072 623.18 L550.072 623.18 L491.656 623.18 L491.656 623.18  Z\n",
       "  \" fill=\"#00688b\" fill-rule=\"evenodd\" fill-opacity=\"1\"/>\n",
       "<polyline clip-path=\"url(#clip392)\" style=\"stroke:#000000; stroke-width:4; stroke-opacity:1; fill:none\" points=\"\n",
       "  491.656,623.18 491.656,623.18 550.072,623.18 491.656,623.18 \n",
       "  \"/>\n",
       "<path clip-path=\"url(#clip392)\" d=\"\n",
       "M710.717 515.243 L710.717 623.18 L769.133 623.18 L769.133 515.243 L710.717 515.243 L710.717 515.243  Z\n",
       "  \" fill=\"#00688b\" fill-rule=\"evenodd\" fill-opacity=\"1\"/>\n",
       "<polyline clip-path=\"url(#clip392)\" style=\"stroke:#000000; stroke-width:4; stroke-opacity:1; fill:none\" points=\"\n",
       "  710.717,515.243 710.717,623.18 769.133,623.18 769.133,515.243 710.717,515.243 \n",
       "  \"/>\n",
       "<path clip-path=\"url(#clip392)\" d=\"\n",
       "M929.778 131.467 L929.778 623.18 L988.194 623.18 L988.194 131.467 L929.778 131.467 L929.778 131.467  Z\n",
       "  \" fill=\"#00688b\" fill-rule=\"evenodd\" fill-opacity=\"1\"/>\n",
       "<polyline clip-path=\"url(#clip392)\" style=\"stroke:#000000; stroke-width:4; stroke-opacity:1; fill:none\" points=\"\n",
       "  929.778,131.467 929.778,623.18 988.194,623.18 988.194,131.467 929.778,131.467 \n",
       "  \"/>\n",
       "<path clip-path=\"url(#clip392)\" d=\"\n",
       "M331.011 423.297 L331.011 623.18 L389.428 623.18 L389.428 423.297 L331.011 423.297 L331.011 423.297  Z\n",
       "  \" fill=\"#cd0000\" fill-rule=\"evenodd\" fill-opacity=\"1\"/>\n",
       "<polyline clip-path=\"url(#clip392)\" style=\"stroke:#000000; stroke-width:4; stroke-opacity:1; fill:none\" points=\"\n",
       "  331.011,423.297 331.011,623.18 389.428,623.18 389.428,423.297 331.011,423.297 \n",
       "  \"/>\n",
       "<path clip-path=\"url(#clip392)\" d=\"\n",
       "M550.072 583.203 L550.072 623.18 L608.489 623.18 L608.489 583.203 L550.072 583.203 L550.072 583.203  Z\n",
       "  \" fill=\"#cd0000\" fill-rule=\"evenodd\" fill-opacity=\"1\"/>\n",
       "<polyline clip-path=\"url(#clip392)\" style=\"stroke:#000000; stroke-width:4; stroke-opacity:1; fill:none\" points=\"\n",
       "  550.072,583.203 550.072,623.18 608.489,623.18 608.489,583.203 550.072,583.203 \n",
       "  \"/>\n",
       "<path clip-path=\"url(#clip392)\" d=\"\n",
       "M769.133 583.203 L769.133 623.18 L827.55 623.18 L827.55 583.203 L769.133 583.203 L769.133 583.203  Z\n",
       "  \" fill=\"#cd0000\" fill-rule=\"evenodd\" fill-opacity=\"1\"/>\n",
       "<polyline clip-path=\"url(#clip392)\" style=\"stroke:#000000; stroke-width:4; stroke-opacity:1; fill:none\" points=\"\n",
       "  769.133,583.203 769.133,623.18 827.55,623.18 827.55,583.203 769.133,583.203 \n",
       "  \"/>\n",
       "<path clip-path=\"url(#clip392)\" d=\"\n",
       "M988.194 63.5072 L988.194 623.18 L1046.61 623.18 L1046.61 63.5072 L988.194 63.5072 L988.194 63.5072  Z\n",
       "  \" fill=\"#cd0000\" fill-rule=\"evenodd\" fill-opacity=\"1\"/>\n",
       "<polyline clip-path=\"url(#clip392)\" style=\"stroke:#000000; stroke-width:4; stroke-opacity:1; fill:none\" points=\"\n",
       "  988.194,63.5072 988.194,623.18 1046.61,623.18 1046.61,63.5072 988.194,63.5072 \n",
       "  \"/>\n",
       "<path clip-path=\"url(#clip392)\" d=\"\n",
       "M389.428 583.203 L389.428 623.18 L447.844 623.18 L447.844 583.203 L389.428 583.203 L389.428 583.203  Z\n",
       "  \" fill=\"#ffa500\" fill-rule=\"evenodd\" fill-opacity=\"1\"/>\n",
       "<polyline clip-path=\"url(#clip392)\" style=\"stroke:#000000; stroke-width:4; stroke-opacity:1; fill:none\" points=\"\n",
       "  389.428,583.203 389.428,623.18 447.844,623.18 447.844,583.203 389.428,583.203 \n",
       "  \"/>\n",
       "<path clip-path=\"url(#clip392)\" d=\"\n",
       "M608.489 623.18 L608.489 623.18 L666.905 623.18 L666.905 623.18 L608.489 623.18 L608.489 623.18  Z\n",
       "  \" fill=\"#ffa500\" fill-rule=\"evenodd\" fill-opacity=\"1\"/>\n",
       "<polyline clip-path=\"url(#clip392)\" style=\"stroke:#000000; stroke-width:4; stroke-opacity:1; fill:none\" points=\"\n",
       "  608.489,623.18 608.489,623.18 666.905,623.18 608.489,623.18 \n",
       "  \"/>\n",
       "<path clip-path=\"url(#clip392)\" d=\"\n",
       "M827.55 555.22 L827.55 623.18 L885.966 623.18 L885.966 555.22 L827.55 555.22 L827.55 555.22  Z\n",
       "  \" fill=\"#ffa500\" fill-rule=\"evenodd\" fill-opacity=\"1\"/>\n",
       "<polyline clip-path=\"url(#clip392)\" style=\"stroke:#000000; stroke-width:4; stroke-opacity:1; fill:none\" points=\"\n",
       "  827.55,555.22 827.55,623.18 885.966,623.18 885.966,555.22 827.55,555.22 \n",
       "  \"/>\n",
       "<path clip-path=\"url(#clip392)\" d=\"\n",
       "M1046.61 623.18 L1046.61 623.18 L1105.03 623.18 L1105.03 623.18 L1046.61 623.18 L1046.61 623.18  Z\n",
       "  \" fill=\"#ffa500\" fill-rule=\"evenodd\" fill-opacity=\"1\"/>\n",
       "<polyline clip-path=\"url(#clip392)\" style=\"stroke:#000000; stroke-width:4; stroke-opacity:1; fill:none\" points=\"\n",
       "  1046.61,623.18 1046.61,623.18 1105.03,623.18 1046.61,623.18 \n",
       "  \"/>\n",
       "<path clip-path=\"url(#clip390)\" d=\"\n",
       "M1424.87 623.18 L2352.76 623.18 L2352.76 123.472 L1424.87 123.472  Z\n",
       "  \" fill=\"#ffffff\" fill-rule=\"evenodd\" fill-opacity=\"1\"/>\n",
       "<defs>\n",
       "  <clipPath id=\"clip393\">\n",
       "    <rect x=\"1424\" y=\"123\" width=\"929\" height=\"501\"/>\n",
       "  </clipPath>\n",
       "</defs>\n",
       "<polyline clip-path=\"url(#clip393)\" style=\"stroke:#000000; stroke-width:2; stroke-opacity:0.1; fill:none\" points=\"\n",
       "  1560.22,623.18 1560.22,123.472 \n",
       "  \"/>\n",
       "<polyline clip-path=\"url(#clip393)\" style=\"stroke:#000000; stroke-width:2; stroke-opacity:0.1; fill:none\" points=\"\n",
       "  1779.28,623.18 1779.28,123.472 \n",
       "  \"/>\n",
       "<polyline clip-path=\"url(#clip393)\" style=\"stroke:#000000; stroke-width:2; stroke-opacity:0.1; fill:none\" points=\"\n",
       "  1998.34,623.18 1998.34,123.472 \n",
       "  \"/>\n",
       "<polyline clip-path=\"url(#clip393)\" style=\"stroke:#000000; stroke-width:2; stroke-opacity:0.1; fill:none\" points=\"\n",
       "  2217.4,623.18 2217.4,123.472 \n",
       "  \"/>\n",
       "<polyline clip-path=\"url(#clip390)\" style=\"stroke:#000000; stroke-width:4; stroke-opacity:1; fill:none\" points=\"\n",
       "  1424.87,623.18 2352.76,623.18 \n",
       "  \"/>\n",
       "<polyline clip-path=\"url(#clip390)\" style=\"stroke:#000000; stroke-width:4; stroke-opacity:1; fill:none\" points=\"\n",
       "  1560.22,623.18 1560.22,617.183 \n",
       "  \"/>\n",
       "<polyline clip-path=\"url(#clip390)\" style=\"stroke:#000000; stroke-width:4; stroke-opacity:1; fill:none\" points=\"\n",
       "  1779.28,623.18 1779.28,617.183 \n",
       "  \"/>\n",
       "<polyline clip-path=\"url(#clip390)\" style=\"stroke:#000000; stroke-width:4; stroke-opacity:1; fill:none\" points=\"\n",
       "  1998.34,623.18 1998.34,617.183 \n",
       "  \"/>\n",
       "<polyline clip-path=\"url(#clip390)\" style=\"stroke:#000000; stroke-width:4; stroke-opacity:1; fill:none\" points=\"\n",
       "  2217.4,623.18 2217.4,617.183 \n",
       "  \"/>\n",
       "<path clip-path=\"url(#clip390)\" d=\"M 0 0 M1550.6 679.917 L1558.24 679.917 L1558.24 653.551 L1549.93 655.218 L1549.93 650.959 L1558.19 649.292 L1562.87 649.292 L1562.87 679.917 L1570.51 679.917 L1570.51 683.852 L1550.6 683.852 L1550.6 679.917 Z\" fill=\"#000000\" fill-rule=\"evenodd\" fill-opacity=\"1\" /><path clip-path=\"url(#clip390)\" d=\"M 0 0 M1773.93 679.917 L1790.25 679.917 L1790.25 683.852 L1768.31 683.852 L1768.31 679.917 Q1770.97 677.162 1775.55 672.532 Q1780.16 667.88 1781.34 666.537 Q1783.59 664.014 1784.47 662.278 Q1785.37 660.519 1785.37 658.829 Q1785.37 656.074 1783.42 654.338 Q1781.5 652.602 1778.4 652.602 Q1776.2 652.602 1773.75 653.366 Q1771.32 654.13 1768.54 655.681 L1768.54 650.959 Q1771.36 649.824 1773.82 649.246 Q1776.27 648.667 1778.31 648.667 Q1783.68 648.667 1786.87 651.352 Q1790.07 654.037 1790.07 658.528 Q1790.07 660.658 1789.26 662.579 Q1788.47 664.477 1786.36 667.07 Q1785.79 667.741 1782.68 670.958 Q1779.58 674.153 1773.93 679.917 Z\" fill=\"#000000\" fill-rule=\"evenodd\" fill-opacity=\"1\" /><path clip-path=\"url(#clip390)\" d=\"M 0 0 M2002.59 665.218 Q2005.95 665.935 2007.82 668.204 Q2009.72 670.472 2009.72 673.806 Q2009.72 678.921 2006.2 681.722 Q2002.68 684.523 1996.2 684.523 Q1994.02 684.523 1991.71 684.083 Q1989.42 683.667 1986.96 682.81 L1986.96 678.296 Q1988.91 679.431 1991.22 680.009 Q1993.54 680.588 1996.06 680.588 Q2000.46 680.588 2002.75 678.852 Q2005.07 677.116 2005.07 673.806 Q2005.07 670.75 2002.91 669.037 Q2000.78 667.301 1996.96 667.301 L1992.94 667.301 L1992.94 663.458 L1997.15 663.458 Q2000.6 663.458 2002.43 662.093 Q2004.26 660.704 2004.26 658.111 Q2004.26 655.449 2002.36 654.037 Q2000.48 652.602 1996.96 652.602 Q1995.04 652.602 1992.84 653.019 Q1990.64 653.435 1988.01 654.315 L1988.01 650.148 Q1990.67 649.408 1992.98 649.037 Q1995.32 648.667 1997.38 648.667 Q2002.7 648.667 2005.81 651.097 Q2008.91 653.505 2008.91 657.625 Q2008.91 660.495 2007.27 662.486 Q2005.62 664.454 2002.59 665.218 Z\" fill=\"#000000\" fill-rule=\"evenodd\" fill-opacity=\"1\" /><path clip-path=\"url(#clip390)\" d=\"M 0 0 M2220.41 653.366 L2208.61 671.815 L2220.41 671.815 L2220.41 653.366 M2219.18 649.292 L2225.06 649.292 L2225.06 671.815 L2230 671.815 L2230 675.704 L2225.06 675.704 L2225.06 683.852 L2220.41 683.852 L2220.41 675.704 L2204.81 675.704 L2204.81 671.19 L2219.18 649.292 Z\" fill=\"#000000\" fill-rule=\"evenodd\" fill-opacity=\"1\" /><path clip-path=\"url(#clip390)\" d=\"M 0 0 M1789.14 713.807 L1789.14 731.663 L1797.22 731.663 Q1801.71 731.663 1804.16 729.34 Q1806.61 727.016 1806.61 722.719 Q1806.61 718.454 1804.16 716.131 Q1801.71 713.807 1797.22 713.807 L1789.14 713.807 M1782.71 708.524 L1797.22 708.524 Q1805.21 708.524 1809.29 712.152 Q1813.39 715.749 1813.39 722.719 Q1813.39 729.753 1809.29 733.35 Q1805.21 736.947 1797.22 736.947 L1789.14 736.947 L1789.14 756.044 L1782.71 756.044 L1782.71 708.524 Z\" fill=\"#000000\" fill-rule=\"evenodd\" fill-opacity=\"1\" /><path clip-path=\"url(#clip390)\" d=\"M 0 0 M1847.7 736.756 L1847.7 739.62 L1820.78 739.62 Q1821.16 745.668 1824.41 748.851 Q1827.68 752.002 1833.51 752.002 Q1836.88 752.002 1840.03 751.174 Q1843.22 750.347 1846.34 748.691 L1846.34 754.23 Q1843.18 755.566 1839.87 756.267 Q1836.56 756.967 1833.16 756.967 Q1824.63 756.967 1819.63 752.002 Q1814.67 747.036 1814.67 738.57 Q1814.67 729.817 1819.38 724.693 Q1824.12 719.537 1832.14 719.537 Q1839.33 719.537 1843.5 724.183 Q1847.7 728.799 1847.7 736.756 M1841.85 735.037 Q1841.78 730.231 1839.14 727.366 Q1836.53 724.502 1832.2 724.502 Q1827.3 724.502 1824.34 727.271 Q1821.41 730.04 1820.97 735.069 L1841.85 735.037 Z\" fill=\"#000000\" fill-rule=\"evenodd\" fill-opacity=\"1\" /><path clip-path=\"url(#clip390)\" d=\"M 0 0 M1874.5 725.87 Q1873.52 725.297 1872.34 725.043 Q1871.19 724.756 1869.79 724.756 Q1864.83 724.756 1862.15 728.003 Q1859.51 731.218 1859.51 737.265 L1859.51 756.044 L1853.62 756.044 L1853.62 720.396 L1859.51 720.396 L1859.51 725.934 Q1861.36 722.688 1864.32 721.128 Q1867.28 719.537 1871.51 719.537 Q1872.12 719.537 1872.85 719.632 Q1873.58 719.696 1874.47 719.855 L1874.5 725.87 Z\" fill=\"#000000\" fill-rule=\"evenodd\" fill-opacity=\"1\" /><path clip-path=\"url(#clip390)\" d=\"M 0 0 M1880.65 720.396 L1886.5 720.396 L1886.5 756.044 L1880.65 756.044 L1880.65 720.396 M1880.65 706.519 L1886.5 706.519 L1886.5 713.935 L1880.65 713.935 L1880.65 706.519 Z\" fill=\"#000000\" fill-rule=\"evenodd\" fill-opacity=\"1\" /><path clip-path=\"url(#clip390)\" d=\"M 0 0 M1906.46 724.502 Q1901.75 724.502 1899.01 728.194 Q1896.27 731.854 1896.27 738.252 Q1896.27 744.649 1898.98 748.341 Q1901.72 752.002 1906.46 752.002 Q1911.14 752.002 1913.88 748.31 Q1916.61 744.617 1916.61 738.252 Q1916.61 731.918 1913.88 728.226 Q1911.14 724.502 1906.46 724.502 M1906.46 719.537 Q1914.1 719.537 1918.46 724.502 Q1922.82 729.467 1922.82 738.252 Q1922.82 747.005 1918.46 752.002 Q1914.1 756.967 1906.46 756.967 Q1898.79 756.967 1894.43 752.002 Q1890.1 747.005 1890.1 738.252 Q1890.1 729.467 1894.43 724.502 Q1898.79 719.537 1906.46 719.537 Z\" fill=\"#000000\" fill-rule=\"evenodd\" fill-opacity=\"1\" /><path clip-path=\"url(#clip390)\" d=\"M 0 0 M1952.42 725.807 L1952.42 706.519 L1958.28 706.519 L1958.28 756.044 L1952.42 756.044 L1952.42 750.697 Q1950.57 753.88 1947.74 755.439 Q1944.94 756.967 1940.99 756.967 Q1934.53 756.967 1930.46 751.811 Q1926.42 746.654 1926.42 738.252 Q1926.42 729.849 1930.46 724.693 Q1934.53 719.537 1940.99 719.537 Q1944.94 719.537 1947.74 721.096 Q1950.57 722.624 1952.42 725.807 M1932.46 738.252 Q1932.46 744.713 1935.11 748.405 Q1937.78 752.065 1942.43 752.065 Q1947.07 752.065 1949.75 748.405 Q1952.42 744.713 1952.42 738.252 Q1952.42 731.791 1949.75 728.13 Q1947.07 724.438 1942.43 724.438 Q1937.78 724.438 1935.11 728.13 Q1932.46 731.791 1932.46 738.252 Z\" fill=\"#000000\" fill-rule=\"evenodd\" fill-opacity=\"1\" /><path clip-path=\"url(#clip390)\" d=\"M 0 0 M1994.91 736.756 L1994.91 739.62 L1967.98 739.62 Q1968.37 745.668 1971.61 748.851 Q1974.89 752.002 1980.72 752.002 Q1984.09 752.002 1987.24 751.174 Q1990.42 750.347 1993.54 748.691 L1993.54 754.23 Q1990.39 755.566 1987.08 756.267 Q1983.77 756.967 1980.37 756.967 Q1971.84 756.967 1966.84 752.002 Q1961.87 747.036 1961.87 738.57 Q1961.87 729.817 1966.58 724.693 Q1971.33 719.537 1979.35 719.537 Q1986.54 719.537 1990.71 724.183 Q1994.91 728.799 1994.91 736.756 M1989.06 735.037 Q1988.99 730.231 1986.35 727.366 Q1983.74 724.502 1979.41 724.502 Q1974.51 724.502 1971.55 727.271 Q1968.62 730.04 1968.18 735.069 L1989.06 735.037 Z\" fill=\"#000000\" fill-rule=\"evenodd\" fill-opacity=\"1\" /><polyline clip-path=\"url(#clip393)\" style=\"stroke:#000000; stroke-width:2; stroke-opacity:0.1; fill:none\" points=\"\n",
       "  1424.87,623.18 2352.76,623.18 \n",
       "  \"/>\n",
       "<polyline clip-path=\"url(#clip393)\" style=\"stroke:#000000; stroke-width:2; stroke-opacity:0.1; fill:none\" points=\"\n",
       "  1424.87,523.238 2352.76,523.238 \n",
       "  \"/>\n",
       "<polyline clip-path=\"url(#clip393)\" style=\"stroke:#000000; stroke-width:2; stroke-opacity:0.1; fill:none\" points=\"\n",
       "  1424.87,423.297 2352.76,423.297 \n",
       "  \"/>\n",
       "<polyline clip-path=\"url(#clip393)\" style=\"stroke:#000000; stroke-width:2; stroke-opacity:0.1; fill:none\" points=\"\n",
       "  1424.87,323.355 2352.76,323.355 \n",
       "  \"/>\n",
       "<polyline clip-path=\"url(#clip393)\" style=\"stroke:#000000; stroke-width:2; stroke-opacity:0.1; fill:none\" points=\"\n",
       "  1424.87,223.414 2352.76,223.414 \n",
       "  \"/>\n",
       "<polyline clip-path=\"url(#clip393)\" style=\"stroke:#000000; stroke-width:2; stroke-opacity:0.1; fill:none\" points=\"\n",
       "  1424.87,123.472 2352.76,123.472 \n",
       "  \"/>\n",
       "<polyline clip-path=\"url(#clip390)\" style=\"stroke:#000000; stroke-width:4; stroke-opacity:1; fill:none\" points=\"\n",
       "  1424.87,623.18 1424.87,123.472 \n",
       "  \"/>\n",
       "<polyline clip-path=\"url(#clip390)\" style=\"stroke:#000000; stroke-width:4; stroke-opacity:1; fill:none\" points=\"\n",
       "  1424.87,623.18 1436,623.18 \n",
       "  \"/>\n",
       "<polyline clip-path=\"url(#clip390)\" style=\"stroke:#000000; stroke-width:4; stroke-opacity:1; fill:none\" points=\"\n",
       "  1424.87,523.238 1436,523.238 \n",
       "  \"/>\n",
       "<polyline clip-path=\"url(#clip390)\" style=\"stroke:#000000; stroke-width:4; stroke-opacity:1; fill:none\" points=\"\n",
       "  1424.87,423.297 1436,423.297 \n",
       "  \"/>\n",
       "<polyline clip-path=\"url(#clip390)\" style=\"stroke:#000000; stroke-width:4; stroke-opacity:1; fill:none\" points=\"\n",
       "  1424.87,323.355 1436,323.355 \n",
       "  \"/>\n",
       "<polyline clip-path=\"url(#clip390)\" style=\"stroke:#000000; stroke-width:4; stroke-opacity:1; fill:none\" points=\"\n",
       "  1424.87,223.414 1436,223.414 \n",
       "  \"/>\n",
       "<polyline clip-path=\"url(#clip390)\" style=\"stroke:#000000; stroke-width:4; stroke-opacity:1; fill:none\" points=\"\n",
       "  1424.87,123.472 1436,123.472 \n",
       "  \"/>\n",
       "<path clip-path=\"url(#clip390)\" d=\"M 0 0 M1376.92 608.979 Q1373.31 608.979 1371.48 612.543 Q1369.68 616.085 1369.68 623.215 Q1369.68 630.321 1371.48 633.886 Q1373.31 637.427 1376.92 637.427 Q1380.56 637.427 1382.36 633.886 Q1384.19 630.321 1384.19 623.215 Q1384.19 616.085 1382.36 612.543 Q1380.56 608.979 1376.92 608.979 M1376.92 605.275 Q1382.73 605.275 1385.79 609.881 Q1388.87 614.465 1388.87 623.215 Q1388.87 631.941 1385.79 636.548 Q1382.73 641.131 1376.92 641.131 Q1371.11 641.131 1368.03 636.548 Q1364.98 631.941 1364.98 623.215 Q1364.98 614.465 1368.03 609.881 Q1371.11 605.275 1376.92 605.275 Z\" fill=\"#000000\" fill-rule=\"evenodd\" fill-opacity=\"1\" /><path clip-path=\"url(#clip390)\" d=\"M 0 0 M1346.53 536.583 L1362.85 536.583 L1362.85 540.518 L1340.9 540.518 L1340.9 536.583 Q1343.57 533.829 1348.15 529.199 Q1352.76 524.546 1353.94 523.204 Q1356.18 520.68 1357.06 518.944 Q1357.96 517.185 1357.96 515.495 Q1357.96 512.741 1356.02 511.005 Q1354.1 509.268 1351 509.268 Q1348.8 509.268 1346.34 510.032 Q1343.91 510.796 1341.14 512.347 L1341.14 507.625 Q1343.96 506.491 1346.41 505.912 Q1348.87 505.333 1350.9 505.333 Q1356.27 505.333 1359.47 508.018 Q1362.66 510.704 1362.66 515.194 Q1362.66 517.324 1361.85 519.245 Q1361.07 521.143 1358.96 523.736 Q1358.38 524.407 1355.28 527.625 Q1352.18 530.819 1346.53 536.583 Z\" fill=\"#000000\" fill-rule=\"evenodd\" fill-opacity=\"1\" /><path clip-path=\"url(#clip390)\" d=\"M 0 0 M1367.96 505.958 L1386.32 505.958 L1386.32 509.893 L1372.25 509.893 L1372.25 518.366 Q1373.26 518.018 1374.28 517.856 Q1375.3 517.671 1376.32 517.671 Q1382.11 517.671 1385.49 520.842 Q1388.87 524.014 1388.87 529.43 Q1388.87 535.009 1385.39 538.111 Q1381.92 541.19 1375.6 541.19 Q1373.43 541.19 1371.16 540.819 Q1368.91 540.449 1366.51 539.708 L1366.51 535.009 Q1368.59 536.143 1370.81 536.699 Q1373.03 537.254 1375.51 537.254 Q1379.51 537.254 1381.85 535.148 Q1384.19 533.041 1384.19 529.43 Q1384.19 525.819 1381.85 523.713 Q1379.51 521.606 1375.51 521.606 Q1373.63 521.606 1371.76 522.023 Q1369.91 522.44 1367.96 523.319 L1367.96 505.958 Z\" fill=\"#000000\" fill-rule=\"evenodd\" fill-opacity=\"1\" /><path clip-path=\"url(#clip390)\" d=\"M 0 0 M1340.95 406.017 L1359.31 406.017 L1359.31 409.952 L1345.23 409.952 L1345.23 418.424 Q1346.25 418.077 1347.27 417.915 Q1348.29 417.73 1349.31 417.73 Q1355.09 417.73 1358.47 420.901 Q1361.85 424.072 1361.85 429.489 Q1361.85 435.068 1358.38 438.169 Q1354.91 441.248 1348.59 441.248 Q1346.41 441.248 1344.14 440.878 Q1341.9 440.507 1339.49 439.767 L1339.49 435.068 Q1341.57 436.202 1343.8 436.757 Q1346.02 437.313 1348.5 437.313 Q1352.5 437.313 1354.84 435.206 Q1357.18 433.1 1357.18 429.489 Q1357.18 425.878 1354.84 423.771 Q1352.5 421.665 1348.5 421.665 Q1346.62 421.665 1344.75 422.081 Q1342.89 422.498 1340.95 423.378 L1340.95 406.017 Z\" fill=\"#000000\" fill-rule=\"evenodd\" fill-opacity=\"1\" /><path clip-path=\"url(#clip390)\" d=\"M 0 0 M1376.92 409.095 Q1373.31 409.095 1371.48 412.66 Q1369.68 416.202 1369.68 423.331 Q1369.68 430.438 1371.48 434.003 Q1373.31 437.544 1376.92 437.544 Q1380.56 437.544 1382.36 434.003 Q1384.19 430.438 1384.19 423.331 Q1384.19 416.202 1382.36 412.66 Q1380.56 409.095 1376.92 409.095 M1376.92 405.392 Q1382.73 405.392 1385.79 409.998 Q1388.87 414.582 1388.87 423.331 Q1388.87 432.058 1385.79 436.665 Q1382.73 441.248 1376.92 441.248 Q1371.11 441.248 1368.03 436.665 Q1364.98 432.058 1364.98 423.331 Q1364.98 414.582 1368.03 409.998 Q1371.11 405.392 1376.92 405.392 Z\" fill=\"#000000\" fill-rule=\"evenodd\" fill-opacity=\"1\" /><path clip-path=\"url(#clip390)\" d=\"M 0 0 M1340.63 306.075 L1362.85 306.075 L1362.85 308.066 L1350.3 340.635 L1345.42 340.635 L1357.22 310.01 L1340.63 310.01 L1340.63 306.075 Z\" fill=\"#000000\" fill-rule=\"evenodd\" fill-opacity=\"1\" /><path clip-path=\"url(#clip390)\" d=\"M 0 0 M1367.96 306.075 L1386.32 306.075 L1386.32 310.01 L1372.25 310.01 L1372.25 318.483 Q1373.26 318.135 1374.28 317.973 Q1375.3 317.788 1376.32 317.788 Q1382.11 317.788 1385.49 320.959 Q1388.87 324.131 1388.87 329.547 Q1388.87 335.126 1385.39 338.228 Q1381.92 341.307 1375.6 341.307 Q1373.43 341.307 1371.16 340.936 Q1368.91 340.566 1366.51 339.825 L1366.51 335.126 Q1368.59 336.26 1370.81 336.816 Q1373.03 337.371 1375.51 337.371 Q1379.51 337.371 1381.85 335.265 Q1384.19 333.158 1384.19 329.547 Q1384.19 325.936 1381.85 323.83 Q1379.51 321.723 1375.51 321.723 Q1373.63 321.723 1371.76 322.14 Q1369.91 322.557 1367.96 323.436 L1367.96 306.075 Z\" fill=\"#000000\" fill-rule=\"evenodd\" fill-opacity=\"1\" /><path clip-path=\"url(#clip390)\" d=\"M 0 0 M1314.93 236.759 L1322.57 236.759 L1322.57 210.393 L1314.26 212.06 L1314.26 207.8 L1322.52 206.134 L1327.2 206.134 L1327.2 236.759 L1334.84 236.759 L1334.84 240.694 L1314.93 240.694 L1314.93 236.759 Z\" fill=\"#000000\" fill-rule=\"evenodd\" fill-opacity=\"1\" /><path clip-path=\"url(#clip390)\" d=\"M 0 0 M1349.91 209.212 Q1346.3 209.212 1344.47 212.777 Q1342.66 216.319 1342.66 223.448 Q1342.66 230.555 1344.47 234.12 Q1346.3 237.661 1349.91 237.661 Q1353.54 237.661 1355.35 234.12 Q1357.18 230.555 1357.18 223.448 Q1357.18 216.319 1355.35 212.777 Q1353.54 209.212 1349.91 209.212 M1349.91 205.509 Q1355.72 205.509 1358.77 210.115 Q1361.85 214.698 1361.85 223.448 Q1361.85 232.175 1358.77 236.782 Q1355.72 241.365 1349.91 241.365 Q1344.1 241.365 1341.02 236.782 Q1337.96 232.175 1337.96 223.448 Q1337.96 214.698 1341.02 210.115 Q1344.1 205.509 1349.91 205.509 Z\" fill=\"#000000\" fill-rule=\"evenodd\" fill-opacity=\"1\" /><path clip-path=\"url(#clip390)\" d=\"M 0 0 M1376.92 209.212 Q1373.31 209.212 1371.48 212.777 Q1369.68 216.319 1369.68 223.448 Q1369.68 230.555 1371.48 234.12 Q1373.31 237.661 1376.92 237.661 Q1380.56 237.661 1382.36 234.12 Q1384.19 230.555 1384.19 223.448 Q1384.19 216.319 1382.36 212.777 Q1380.56 209.212 1376.92 209.212 M1376.92 205.509 Q1382.73 205.509 1385.79 210.115 Q1388.87 214.698 1388.87 223.448 Q1388.87 232.175 1385.79 236.782 Q1382.73 241.365 1376.92 241.365 Q1371.11 241.365 1368.03 236.782 Q1364.98 232.175 1364.98 223.448 Q1364.98 214.698 1368.03 210.115 Q1371.11 205.509 1376.92 205.509 Z\" fill=\"#000000\" fill-rule=\"evenodd\" fill-opacity=\"1\" /><path clip-path=\"url(#clip390)\" d=\"M 0 0 M1317.52 136.817 L1325.16 136.817 L1325.16 110.451 L1316.85 112.118 L1316.85 107.859 L1325.12 106.192 L1329.79 106.192 L1329.79 136.817 L1337.43 136.817 L1337.43 140.752 L1317.52 140.752 L1317.52 136.817 Z\" fill=\"#000000\" fill-rule=\"evenodd\" fill-opacity=\"1\" /><path clip-path=\"url(#clip390)\" d=\"M 0 0 M1346.53 136.817 L1362.85 136.817 L1362.85 140.752 L1340.9 140.752 L1340.9 136.817 Q1343.57 134.062 1348.15 129.433 Q1352.76 124.78 1353.94 123.437 Q1356.18 120.914 1357.06 119.178 Q1357.96 117.419 1357.96 115.729 Q1357.96 112.974 1356.02 111.238 Q1354.1 109.502 1351 109.502 Q1348.8 109.502 1346.34 110.266 Q1343.91 111.03 1341.14 112.581 L1341.14 107.859 Q1343.96 106.725 1346.41 106.146 Q1348.87 105.567 1350.9 105.567 Q1356.27 105.567 1359.47 108.252 Q1362.66 110.937 1362.66 115.428 Q1362.66 117.558 1361.85 119.479 Q1361.07 121.377 1358.96 123.97 Q1358.38 124.641 1355.28 127.859 Q1352.18 131.053 1346.53 136.817 Z\" fill=\"#000000\" fill-rule=\"evenodd\" fill-opacity=\"1\" /><path clip-path=\"url(#clip390)\" d=\"M 0 0 M1367.96 106.192 L1386.32 106.192 L1386.32 110.127 L1372.25 110.127 L1372.25 118.599 Q1373.26 118.252 1374.28 118.09 Q1375.3 117.905 1376.32 117.905 Q1382.11 117.905 1385.49 121.076 Q1388.87 124.248 1388.87 129.664 Q1388.87 135.243 1385.39 138.345 Q1381.92 141.423 1375.6 141.423 Q1373.43 141.423 1371.16 141.053 Q1368.91 140.683 1366.51 139.942 L1366.51 135.243 Q1368.59 136.377 1370.81 136.933 Q1373.03 137.488 1375.51 137.488 Q1379.51 137.488 1381.85 135.382 Q1384.19 133.275 1384.19 129.664 Q1384.19 126.053 1381.85 123.947 Q1379.51 121.84 1375.51 121.84 Q1373.63 121.84 1371.76 122.257 Q1369.91 122.674 1367.96 123.553 L1367.96 106.192 Z\" fill=\"#000000\" fill-rule=\"evenodd\" fill-opacity=\"1\" /><path clip-path=\"url(#clip390)\" d=\"M 0 0 M1240.48 467.316 L1240.48 457.735 L1272.82 445.609 L1240.48 433.418 L1240.48 423.838 L1288 423.838 L1288 430.108 L1246.28 430.108 L1278.87 442.362 L1278.87 448.823 L1246.28 461.077 L1288 461.077 L1288 467.316 L1240.48 467.316 Z\" fill=\"#000000\" fill-rule=\"evenodd\" fill-opacity=\"1\" /><path clip-path=\"url(#clip390)\" d=\"M 0 0 M1268.72 387.203 L1271.58 387.203 L1271.58 414.13 Q1277.63 413.748 1280.81 410.502 Q1283.96 407.223 1283.96 401.399 Q1283.96 398.025 1283.13 394.874 Q1282.31 391.691 1280.65 388.572 L1286.19 388.572 Q1287.53 391.723 1288.23 395.033 Q1288.93 398.343 1288.93 401.749 Q1288.93 410.279 1283.96 415.276 Q1279 420.241 1270.53 420.241 Q1261.78 420.241 1256.65 415.531 Q1251.5 410.788 1251.5 402.767 Q1251.5 395.574 1256.14 391.405 Q1260.76 387.203 1268.72 387.203 M1267 393.06 Q1262.19 393.123 1259.33 395.765 Q1256.46 398.375 1256.46 402.704 Q1256.46 407.605 1259.23 410.565 Q1262 413.494 1267.03 413.939 L1267 393.06 Z\" fill=\"#000000\" fill-rule=\"evenodd\" fill-opacity=\"1\" /><path clip-path=\"url(#clip390)\" d=\"M 0 0 M1266.49 351.428 L1288 351.428 L1288 357.284 L1266.68 357.284 Q1261.62 357.284 1259.1 359.258 Q1256.59 361.231 1256.59 365.178 Q1256.59 369.92 1259.61 372.658 Q1262.64 375.395 1267.86 375.395 L1288 375.395 L1288 381.283 L1252.36 381.283 L1252.36 375.395 L1257.89 375.395 Q1254.68 373.294 1253.09 370.461 Q1251.5 367.597 1251.5 363.873 Q1251.5 357.73 1255.32 354.579 Q1259.1 351.428 1266.49 351.428 Z\" fill=\"#000000\" fill-rule=\"evenodd\" fill-opacity=\"1\" /><path clip-path=\"url(#clip390)\" d=\"M 0 0 M1269.77 321.827 Q1263.4 321.827 1259.9 324.469 Q1256.4 327.079 1256.4 331.822 Q1256.4 336.532 1259.9 339.174 Q1263.4 341.784 1269.77 341.784 Q1276.1 341.784 1279.6 339.174 Q1283.1 336.532 1283.1 331.822 Q1283.1 327.079 1279.6 324.469 Q1276.1 321.827 1269.77 321.827 M1283.58 315.971 Q1292.68 315.971 1297.11 320.013 Q1301.56 324.055 1301.56 332.394 Q1301.56 335.482 1301.09 338.219 Q1300.64 340.956 1299.69 343.534 L1293.99 343.534 Q1295.39 340.956 1296.06 338.442 Q1296.73 335.927 1296.73 333.318 Q1296.73 327.557 1293.7 324.692 Q1290.71 321.827 1284.63 321.827 L1281.73 321.827 Q1284.88 323.642 1286.44 326.474 Q1288 329.307 1288 333.254 Q1288 339.811 1283.01 343.821 Q1278.01 347.831 1269.77 347.831 Q1261.49 347.831 1256.49 343.821 Q1251.5 339.811 1251.5 333.254 Q1251.5 329.307 1253.06 326.474 Q1254.62 323.642 1257.77 321.827 L1252.36 321.827 L1252.36 315.971 L1283.58 315.971 Z\" fill=\"#000000\" fill-rule=\"evenodd\" fill-opacity=\"1\" /><path clip-path=\"url(#clip390)\" d=\"M 0 0 M1268.72 279.336 L1271.58 279.336 L1271.58 306.263 Q1277.63 305.881 1280.81 302.635 Q1283.96 299.356 1283.96 293.532 Q1283.96 290.158 1283.13 287.007 Q1282.31 283.824 1280.65 280.705 L1286.19 280.705 Q1287.53 283.856 1288.23 287.166 Q1288.93 290.476 1288.93 293.882 Q1288.93 302.412 1283.96 307.409 Q1279 312.374 1270.53 312.374 Q1261.78 312.374 1256.65 307.664 Q1251.5 302.921 1251.5 294.9 Q1251.5 287.707 1256.14 283.538 Q1260.76 279.336 1268.72 279.336 M1267 285.193 Q1262.19 285.256 1259.33 287.898 Q1256.46 290.508 1256.46 294.837 Q1256.46 299.738 1259.23 302.698 Q1262 305.627 1267.03 306.072 L1267 285.193 Z\" fill=\"#000000\" fill-rule=\"evenodd\" fill-opacity=\"1\" /><path clip-path=\"url(#clip390)\" d=\"M 0 0 M1719.26 18.8205 L1719.26 41.5461 L1729.55 41.5461 Q1735.26 41.5461 1738.38 38.5889 Q1741.5 35.6318 1741.5 30.163 Q1741.5 24.7348 1738.38 21.7777 Q1735.26 18.8205 1729.55 18.8205 L1719.26 18.8205 M1711.08 12.096 L1729.55 12.096 Q1739.72 12.096 1744.9 16.714 Q1750.13 21.2916 1750.13 30.163 Q1750.13 39.1155 1744.9 43.6931 Q1739.72 48.2706 1729.55 48.2706 L1719.26 48.2706 L1719.26 72.576 L1711.08 72.576 L1711.08 12.096 Z\" fill=\"#000000\" fill-rule=\"evenodd\" fill-opacity=\"1\" /><path clip-path=\"url(#clip390)\" d=\"M 0 0 M1782.78 34.1734 Q1781.52 33.4443 1780.02 33.1202 Q1778.57 32.7556 1776.78 32.7556 Q1770.46 32.7556 1767.06 36.8875 Q1763.7 40.9789 1763.7 48.6757 L1763.7 72.576 L1756.2 72.576 L1756.2 27.2059 L1763.7 27.2059 L1763.7 34.2544 Q1766.05 30.1225 1769.82 28.1376 Q1773.58 26.1121 1778.97 26.1121 Q1779.74 26.1121 1780.67 26.2337 Q1781.6 26.3147 1782.74 26.5172 L1782.78 34.1734 Z\" fill=\"#000000\" fill-rule=\"evenodd\" fill-opacity=\"1\" /><path clip-path=\"url(#clip390)\" d=\"M 0 0 M1806.35 32.4315 Q1800.36 32.4315 1796.88 37.1306 Q1793.39 41.7891 1793.39 49.9314 Q1793.39 58.0738 1796.84 62.7728 Q1800.32 67.4314 1806.35 67.4314 Q1812.31 67.4314 1815.79 62.7323 Q1819.28 58.0333 1819.28 49.9314 Q1819.28 41.8701 1815.79 37.1711 Q1812.31 32.4315 1806.35 32.4315 M1806.35 26.1121 Q1816.08 26.1121 1821.63 32.4315 Q1827.18 38.7509 1827.18 49.9314 Q1827.18 61.0714 1821.63 67.4314 Q1816.08 73.7508 1806.35 73.7508 Q1796.59 73.7508 1791.04 67.4314 Q1785.53 61.0714 1785.53 49.9314 Q1785.53 38.7509 1791.04 32.4315 Q1796.59 26.1121 1806.35 26.1121 Z\" fill=\"#000000\" fill-rule=\"evenodd\" fill-opacity=\"1\" /><path clip-path=\"url(#clip390)\" d=\"M 0 0 M1864.85 34.0924 L1864.85 9.54393 L1872.3 9.54393 L1872.3 72.576 L1864.85 72.576 L1864.85 65.7705 Q1862.5 69.8214 1858.9 71.8063 Q1855.33 73.7508 1850.31 73.7508 Q1842.08 73.7508 1836.9 67.1883 Q1831.75 60.6258 1831.75 49.9314 Q1831.75 39.2371 1836.9 32.6746 Q1842.08 26.1121 1850.31 26.1121 Q1855.33 26.1121 1858.9 28.0971 Q1862.5 30.0415 1864.85 34.0924 M1839.45 49.9314 Q1839.45 58.1548 1842.81 62.8538 Q1846.22 67.5124 1852.13 67.5124 Q1858.04 67.5124 1861.45 62.8538 Q1864.85 58.1548 1864.85 49.9314 Q1864.85 41.7081 1861.45 37.0496 Q1858.04 32.3505 1852.13 32.3505 Q1846.22 32.3505 1842.81 37.0496 Q1839.45 41.7081 1839.45 49.9314 Z\" fill=\"#000000\" fill-rule=\"evenodd\" fill-opacity=\"1\" /><path clip-path=\"url(#clip390)\" d=\"M 0 0 M1879.35 54.671 L1879.35 27.2059 L1886.81 27.2059 L1886.81 54.3874 Q1886.81 60.8284 1889.32 64.0691 Q1891.83 67.2693 1896.85 67.2693 Q1902.89 67.2693 1906.37 63.421 Q1909.9 59.5726 1909.9 52.9291 L1909.9 27.2059 L1917.35 27.2059 L1917.35 72.576 L1909.9 72.576 L1909.9 65.6084 Q1907.18 69.7404 1903.58 71.7658 Q1900.01 73.7508 1895.27 73.7508 Q1887.45 73.7508 1883.4 68.8897 Q1879.35 64.0286 1879.35 54.671 M1898.11 26.1121 L1898.11 26.1121 Z\" fill=\"#000000\" fill-rule=\"evenodd\" fill-opacity=\"1\" /><path clip-path=\"url(#clip390)\" d=\"M 0 0 M1924.88 9.54393 L1932.38 9.54393 L1932.38 46.7717 L1954.62 27.2059 L1964.14 27.2059 L1940.08 48.4326 L1965.15 72.576 L1955.43 72.576 L1932.38 50.4176 L1932.38 72.576 L1924.88 72.576 L1924.88 9.54393 Z\" fill=\"#000000\" fill-rule=\"evenodd\" fill-opacity=\"1\" /><path clip-path=\"url(#clip390)\" d=\"M 0 0 M1980.34 14.324 L1980.34 27.2059 L1995.69 27.2059 L1995.69 32.9987 L1980.34 32.9987 L1980.34 57.6282 Q1980.34 63.1779 1981.84 64.7578 Q1983.38 66.3376 1988.04 66.3376 L1995.69 66.3376 L1995.69 72.576 L1988.04 72.576 Q1979.41 72.576 1976.13 69.3758 Q1972.85 66.1351 1972.85 57.6282 L1972.85 32.9987 L1967.38 32.9987 L1967.38 27.2059 L1972.85 27.2059 L1972.85 14.324 L1980.34 14.324 Z\" fill=\"#000000\" fill-rule=\"evenodd\" fill-opacity=\"1\" /><path clip-path=\"url(#clip390)\" d=\"M 0 0 M2037.99 65.6895 L2066.54 65.6895 L2066.54 72.576 L2028.14 72.576 L2028.14 65.6895 Q2032.8 60.8689 2040.82 52.7671 Q2048.88 44.6248 2050.95 42.2752 Q2054.88 37.8598 2056.42 34.8216 Q2058 31.7429 2058 28.7857 Q2058 23.9651 2054.59 20.927 Q2051.23 17.8888 2045.8 17.8888 Q2041.96 17.8888 2037.66 19.2256 Q2033.41 20.5624 2028.55 23.2765 L2028.55 15.0127 Q2033.49 13.0277 2037.78 12.015 Q2042.08 11.0023 2045.64 11.0023 Q2055.04 11.0023 2060.63 15.7013 Q2066.22 20.4004 2066.22 28.2591 Q2066.22 31.9859 2064.8 35.3482 Q2063.43 38.6699 2059.74 43.2069 Q2058.73 44.3817 2053.3 50.0125 Q2047.87 55.6027 2037.99 65.6895 Z\" fill=\"#000000\" fill-rule=\"evenodd\" fill-opacity=\"1\" /><path clip-path=\"url(#clip393)\" d=\"\n",
       "M1472.6 623.18 L1472.6 623.18 L1531.01 623.18 L1531.01 623.18 L1472.6 623.18 L1472.6 623.18  Z\n",
       "  \" fill=\"#00688b\" fill-rule=\"evenodd\" fill-opacity=\"1\"/>\n",
       "<polyline clip-path=\"url(#clip393)\" style=\"stroke:#000000; stroke-width:4; stroke-opacity:1; fill:none\" points=\"\n",
       "  1472.6,623.18 1472.6,623.18 1531.01,623.18 1472.6,623.18 \n",
       "  \"/>\n",
       "<path clip-path=\"url(#clip393)\" d=\"\n",
       "M1691.66 463.273 L1691.66 623.18 L1750.07 623.18 L1750.07 463.273 L1691.66 463.273 L1691.66 463.273  Z\n",
       "  \" fill=\"#00688b\" fill-rule=\"evenodd\" fill-opacity=\"1\"/>\n",
       "<polyline clip-path=\"url(#clip393)\" style=\"stroke:#000000; stroke-width:4; stroke-opacity:1; fill:none\" points=\"\n",
       "  1691.66,463.273 1691.66,623.18 1750.07,623.18 1750.07,463.273 1691.66,463.273 \n",
       "  \"/>\n",
       "<path clip-path=\"url(#clip393)\" d=\"\n",
       "M1910.72 183.437 L1910.72 623.18 L1969.13 623.18 L1969.13 183.437 L1910.72 183.437 L1910.72 183.437  Z\n",
       "  \" fill=\"#00688b\" fill-rule=\"evenodd\" fill-opacity=\"1\"/>\n",
       "<polyline clip-path=\"url(#clip393)\" style=\"stroke:#000000; stroke-width:4; stroke-opacity:1; fill:none\" points=\"\n",
       "  1910.72,183.437 1910.72,623.18 1969.13,623.18 1969.13,183.437 1910.72,183.437 \n",
       "  \"/>\n",
       "<path clip-path=\"url(#clip393)\" d=\"\n",
       "M2129.78 623.18 L2129.78 623.18 L2188.19 623.18 L2188.19 623.18 L2129.78 623.18 L2129.78 623.18  Z\n",
       "  \" fill=\"#00688b\" fill-rule=\"evenodd\" fill-opacity=\"1\"/>\n",
       "<polyline clip-path=\"url(#clip393)\" style=\"stroke:#000000; stroke-width:4; stroke-opacity:1; fill:none\" points=\"\n",
       "  2129.78,623.18 2129.78,623.18 2188.19,623.18 2129.78,623.18 \n",
       "  \"/>\n",
       "<path clip-path=\"url(#clip393)\" d=\"\n",
       "M1531.01 623.18 L1531.01 623.18 L1589.43 623.18 L1589.43 623.18 L1531.01 623.18 L1531.01 623.18  Z\n",
       "  \" fill=\"#cd0000\" fill-rule=\"evenodd\" fill-opacity=\"1\"/>\n",
       "<polyline clip-path=\"url(#clip393)\" style=\"stroke:#000000; stroke-width:4; stroke-opacity:1; fill:none\" points=\"\n",
       "  1531.01,623.18 1531.01,623.18 1589.43,623.18 1531.01,623.18 \n",
       "  \"/>\n",
       "<path clip-path=\"url(#clip393)\" d=\"\n",
       "M1750.07 463.273 L1750.07 623.18 L1808.49 623.18 L1808.49 463.273 L1750.07 463.273 L1750.07 463.273  Z\n",
       "  \" fill=\"#cd0000\" fill-rule=\"evenodd\" fill-opacity=\"1\"/>\n",
       "<polyline clip-path=\"url(#clip393)\" style=\"stroke:#000000; stroke-width:4; stroke-opacity:1; fill:none\" points=\"\n",
       "  1750.07,463.273 1750.07,623.18 1808.49,623.18 1808.49,463.273 1750.07,463.273 \n",
       "  \"/>\n",
       "<path clip-path=\"url(#clip393)\" d=\"\n",
       "M1969.13 303.367 L1969.13 623.18 L2027.55 623.18 L2027.55 303.367 L1969.13 303.367 L1969.13 303.367  Z\n",
       "  \" fill=\"#cd0000\" fill-rule=\"evenodd\" fill-opacity=\"1\"/>\n",
       "<polyline clip-path=\"url(#clip393)\" style=\"stroke:#000000; stroke-width:4; stroke-opacity:1; fill:none\" points=\"\n",
       "  1969.13,303.367 1969.13,623.18 2027.55,623.18 2027.55,303.367 1969.13,303.367 \n",
       "  \"/>\n",
       "<path clip-path=\"url(#clip393)\" d=\"\n",
       "M2188.19 503.25 L2188.19 623.18 L2246.61 623.18 L2246.61 503.25 L2188.19 503.25 L2188.19 503.25  Z\n",
       "  \" fill=\"#cd0000\" fill-rule=\"evenodd\" fill-opacity=\"1\"/>\n",
       "<polyline clip-path=\"url(#clip393)\" style=\"stroke:#000000; stroke-width:4; stroke-opacity:1; fill:none\" points=\"\n",
       "  2188.19,503.25 2188.19,623.18 2246.61,623.18 2246.61,503.25 2188.19,503.25 \n",
       "  \"/>\n",
       "<path clip-path=\"url(#clip393)\" d=\"\n",
       "M1589.43 623.18 L1589.43 623.18 L1647.84 623.18 L1647.84 623.18 L1589.43 623.18 L1589.43 623.18  Z\n",
       "  \" fill=\"#ffa500\" fill-rule=\"evenodd\" fill-opacity=\"1\"/>\n",
       "<polyline clip-path=\"url(#clip393)\" style=\"stroke:#000000; stroke-width:4; stroke-opacity:1; fill:none\" points=\"\n",
       "  1589.43,623.18 1589.43,623.18 1647.84,623.18 1589.43,623.18 \n",
       "  \"/>\n",
       "<path clip-path=\"url(#clip393)\" d=\"\n",
       "M1808.49 623.18 L1808.49 623.18 L1866.9 623.18 L1866.9 623.18 L1808.49 623.18 L1808.49 623.18  Z\n",
       "  \" fill=\"#ffa500\" fill-rule=\"evenodd\" fill-opacity=\"1\"/>\n",
       "<polyline clip-path=\"url(#clip393)\" style=\"stroke:#000000; stroke-width:4; stroke-opacity:1; fill:none\" points=\"\n",
       "  1808.49,623.18 1808.49,623.18 1866.9,623.18 1808.49,623.18 \n",
       "  \"/>\n",
       "<path clip-path=\"url(#clip393)\" d=\"\n",
       "M2027.55 503.25 L2027.55 623.18 L2085.97 623.18 L2085.97 503.25 L2027.55 503.25 L2027.55 503.25  Z\n",
       "  \" fill=\"#ffa500\" fill-rule=\"evenodd\" fill-opacity=\"1\"/>\n",
       "<polyline clip-path=\"url(#clip393)\" style=\"stroke:#000000; stroke-width:4; stroke-opacity:1; fill:none\" points=\"\n",
       "  2027.55,503.25 2027.55,623.18 2085.97,623.18 2085.97,503.25 2027.55,503.25 \n",
       "  \"/>\n",
       "<path clip-path=\"url(#clip393)\" d=\"\n",
       "M2246.61 623.18 L2246.61 623.18 L2305.03 623.18 L2305.03 623.18 L2246.61 623.18 L2246.61 623.18  Z\n",
       "  \" fill=\"#ffa500\" fill-rule=\"evenodd\" fill-opacity=\"1\"/>\n",
       "<polyline clip-path=\"url(#clip393)\" style=\"stroke:#000000; stroke-width:4; stroke-opacity:1; fill:none\" points=\"\n",
       "  2246.61,623.18 2246.61,623.18 2305.03,623.18 2246.61,623.18 \n",
       "  \"/>\n",
       "<path clip-path=\"url(#clip390)\" d=\"\n",
       "M224.866 1423.18 L1152.76 1423.18 L1152.76 923.472 L224.866 923.472  Z\n",
       "  \" fill=\"#ffffff\" fill-rule=\"evenodd\" fill-opacity=\"1\"/>\n",
       "<defs>\n",
       "  <clipPath id=\"clip394\">\n",
       "    <rect x=\"224\" y=\"923\" width=\"929\" height=\"501\"/>\n",
       "  </clipPath>\n",
       "</defs>\n",
       "<polyline clip-path=\"url(#clip394)\" style=\"stroke:#000000; stroke-width:2; stroke-opacity:0.1; fill:none\" points=\"\n",
       "  360.22,1423.18 360.22,923.472 \n",
       "  \"/>\n",
       "<polyline clip-path=\"url(#clip394)\" style=\"stroke:#000000; stroke-width:2; stroke-opacity:0.1; fill:none\" points=\"\n",
       "  579.281,1423.18 579.281,923.472 \n",
       "  \"/>\n",
       "<polyline clip-path=\"url(#clip394)\" style=\"stroke:#000000; stroke-width:2; stroke-opacity:0.1; fill:none\" points=\"\n",
       "  798.342,1423.18 798.342,923.472 \n",
       "  \"/>\n",
       "<polyline clip-path=\"url(#clip394)\" style=\"stroke:#000000; stroke-width:2; stroke-opacity:0.1; fill:none\" points=\"\n",
       "  1017.4,1423.18 1017.4,923.472 \n",
       "  \"/>\n",
       "<polyline clip-path=\"url(#clip390)\" style=\"stroke:#000000; stroke-width:4; stroke-opacity:1; fill:none\" points=\"\n",
       "  224.866,1423.18 1152.76,1423.18 \n",
       "  \"/>\n",
       "<polyline clip-path=\"url(#clip390)\" style=\"stroke:#000000; stroke-width:4; stroke-opacity:1; fill:none\" points=\"\n",
       "  360.22,1423.18 360.22,1417.18 \n",
       "  \"/>\n",
       "<polyline clip-path=\"url(#clip390)\" style=\"stroke:#000000; stroke-width:4; stroke-opacity:1; fill:none\" points=\"\n",
       "  579.281,1423.18 579.281,1417.18 \n",
       "  \"/>\n",
       "<polyline clip-path=\"url(#clip390)\" style=\"stroke:#000000; stroke-width:4; stroke-opacity:1; fill:none\" points=\"\n",
       "  798.342,1423.18 798.342,1417.18 \n",
       "  \"/>\n",
       "<polyline clip-path=\"url(#clip390)\" style=\"stroke:#000000; stroke-width:4; stroke-opacity:1; fill:none\" points=\"\n",
       "  1017.4,1423.18 1017.4,1417.18 \n",
       "  \"/>\n",
       "<path clip-path=\"url(#clip390)\" d=\"M 0 0 M350.602 1479.92 L358.24 1479.92 L358.24 1453.55 L349.93 1455.22 L349.93 1450.96 L358.194 1449.29 L362.87 1449.29 L362.87 1479.92 L370.509 1479.92 L370.509 1483.85 L350.602 1483.85 L350.602 1479.92 Z\" fill=\"#000000\" fill-rule=\"evenodd\" fill-opacity=\"1\" /><path clip-path=\"url(#clip390)\" d=\"M 0 0 M573.933 1479.92 L590.253 1479.92 L590.253 1483.85 L568.308 1483.85 L568.308 1479.92 Q570.97 1477.16 575.554 1472.53 Q580.16 1467.88 581.341 1466.54 Q583.586 1464.01 584.466 1462.28 Q585.369 1460.52 585.369 1458.83 Q585.369 1456.07 583.424 1454.34 Q581.503 1452.6 578.401 1452.6 Q576.202 1452.6 573.748 1453.37 Q571.318 1454.13 568.54 1455.68 L568.54 1450.96 Q571.364 1449.82 573.818 1449.25 Q576.271 1448.67 578.308 1448.67 Q583.679 1448.67 586.873 1451.35 Q590.068 1454.04 590.068 1458.53 Q590.068 1460.66 589.257 1462.58 Q588.47 1464.48 586.364 1467.07 Q585.785 1467.74 582.683 1470.96 Q579.582 1474.15 573.933 1479.92 Z\" fill=\"#000000\" fill-rule=\"evenodd\" fill-opacity=\"1\" /><path clip-path=\"url(#clip390)\" d=\"M 0 0 M802.589 1465.22 Q805.946 1465.94 807.821 1468.2 Q809.719 1470.47 809.719 1473.81 Q809.719 1478.92 806.2 1481.72 Q802.682 1484.52 796.2 1484.52 Q794.024 1484.52 791.71 1484.08 Q789.418 1483.67 786.964 1482.81 L786.964 1478.3 Q788.909 1479.43 791.224 1480.01 Q793.538 1480.59 796.061 1480.59 Q800.46 1480.59 802.751 1478.85 Q805.066 1477.12 805.066 1473.81 Q805.066 1470.75 802.913 1469.04 Q800.784 1467.3 796.964 1467.3 L792.936 1467.3 L792.936 1463.46 L797.149 1463.46 Q800.598 1463.46 802.427 1462.09 Q804.256 1460.7 804.256 1458.11 Q804.256 1455.45 802.358 1454.04 Q800.483 1452.6 796.964 1452.6 Q795.043 1452.6 792.844 1453.02 Q790.645 1453.44 788.006 1454.31 L788.006 1450.15 Q790.668 1449.41 792.983 1449.04 Q795.321 1448.67 797.381 1448.67 Q802.705 1448.67 805.807 1451.1 Q808.909 1453.5 808.909 1457.63 Q808.909 1460.5 807.265 1462.49 Q805.622 1464.45 802.589 1465.22 Z\" fill=\"#000000\" fill-rule=\"evenodd\" fill-opacity=\"1\" /><path clip-path=\"url(#clip390)\" d=\"M 0 0 M1020.41 1453.37 L1008.61 1471.81 L1020.41 1471.81 L1020.41 1453.37 M1019.18 1449.29 L1025.06 1449.29 L1025.06 1471.81 L1030 1471.81 L1030 1475.7 L1025.06 1475.7 L1025.06 1483.85 L1020.41 1483.85 L1020.41 1475.7 L1004.81 1475.7 L1004.81 1471.19 L1019.18 1449.29 Z\" fill=\"#000000\" fill-rule=\"evenodd\" fill-opacity=\"1\" /><path clip-path=\"url(#clip390)\" d=\"M 0 0 M589.14 1513.81 L589.14 1531.66 L597.224 1531.66 Q601.712 1531.66 604.163 1529.34 Q606.614 1527.02 606.614 1522.72 Q606.614 1518.45 604.163 1516.13 Q601.712 1513.81 597.224 1513.81 L589.14 1513.81 M582.711 1508.52 L597.224 1508.52 Q605.213 1508.52 609.287 1512.15 Q613.393 1515.75 613.393 1522.72 Q613.393 1529.75 609.287 1533.35 Q605.213 1536.95 597.224 1536.95 L589.14 1536.95 L589.14 1556.04 L582.711 1556.04 L582.711 1508.52 Z\" fill=\"#000000\" fill-rule=\"evenodd\" fill-opacity=\"1\" /><path clip-path=\"url(#clip390)\" d=\"M 0 0 M647.705 1536.76 L647.705 1539.62 L620.778 1539.62 Q621.16 1545.67 624.406 1548.85 Q627.684 1552 633.509 1552 Q636.883 1552 640.034 1551.17 Q643.217 1550.35 646.336 1548.69 L646.336 1554.23 Q643.185 1555.57 639.875 1556.27 Q636.565 1556.97 633.159 1556.97 Q624.629 1556.97 619.632 1552 Q614.667 1547.04 614.667 1538.57 Q614.667 1529.82 619.377 1524.69 Q624.12 1519.54 632.14 1519.54 Q639.334 1519.54 643.503 1524.18 Q647.705 1528.8 647.705 1536.76 M641.848 1535.04 Q641.784 1530.23 639.143 1527.37 Q636.533 1524.5 632.204 1524.5 Q627.302 1524.5 624.342 1527.27 Q621.414 1530.04 620.969 1535.07 L641.848 1535.04 Z\" fill=\"#000000\" fill-rule=\"evenodd\" fill-opacity=\"1\" /><path clip-path=\"url(#clip390)\" d=\"M 0 0 M674.504 1525.87 Q673.517 1525.3 672.34 1525.04 Q671.194 1524.76 669.794 1524.76 Q664.828 1524.76 662.155 1528 Q659.513 1531.22 659.513 1537.27 L659.513 1556.04 L653.625 1556.04 L653.625 1520.4 L659.513 1520.4 L659.513 1525.93 Q661.359 1522.69 664.319 1521.13 Q667.279 1519.54 671.512 1519.54 Q672.117 1519.54 672.849 1519.63 Q673.581 1519.7 674.472 1519.85 L674.504 1525.87 Z\" fill=\"#000000\" fill-rule=\"evenodd\" fill-opacity=\"1\" /><path clip-path=\"url(#clip390)\" d=\"M 0 0 M680.647 1520.4 L686.504 1520.4 L686.504 1556.04 L680.647 1556.04 L680.647 1520.4 M680.647 1506.52 L686.504 1506.52 L686.504 1513.93 L680.647 1513.93 L680.647 1506.52 Z\" fill=\"#000000\" fill-rule=\"evenodd\" fill-opacity=\"1\" /><path clip-path=\"url(#clip390)\" d=\"M 0 0 M706.46 1524.5 Q701.749 1524.5 699.012 1528.19 Q696.275 1531.85 696.275 1538.25 Q696.275 1544.65 698.98 1548.34 Q701.718 1552 706.46 1552 Q711.139 1552 713.876 1548.31 Q716.613 1544.62 716.613 1538.25 Q716.613 1531.92 713.876 1528.23 Q711.139 1524.5 706.46 1524.5 M706.46 1519.54 Q714.099 1519.54 718.459 1524.5 Q722.82 1529.47 722.82 1538.25 Q722.82 1547 718.459 1552 Q714.099 1556.97 706.46 1556.97 Q698.789 1556.97 694.429 1552 Q690.1 1547 690.1 1538.25 Q690.1 1529.47 694.429 1524.5 Q698.789 1519.54 706.46 1519.54 Z\" fill=\"#000000\" fill-rule=\"evenodd\" fill-opacity=\"1\" /><path clip-path=\"url(#clip390)\" d=\"M 0 0 M752.42 1525.81 L752.42 1506.52 L758.277 1506.52 L758.277 1556.04 L752.42 1556.04 L752.42 1550.7 Q750.574 1553.88 747.742 1555.44 Q744.941 1556.97 740.994 1556.97 Q734.533 1556.97 730.459 1551.81 Q726.416 1546.65 726.416 1538.25 Q726.416 1529.85 730.459 1524.69 Q734.533 1519.54 740.994 1519.54 Q744.941 1519.54 747.742 1521.1 Q750.574 1522.62 752.42 1525.81 M732.464 1538.25 Q732.464 1544.71 735.106 1548.4 Q737.779 1552.07 742.426 1552.07 Q747.073 1552.07 749.747 1548.4 Q752.42 1544.71 752.42 1538.25 Q752.42 1531.79 749.747 1528.13 Q747.073 1524.44 742.426 1524.44 Q737.779 1524.44 735.106 1528.13 Q732.464 1531.79 732.464 1538.25 Z\" fill=\"#000000\" fill-rule=\"evenodd\" fill-opacity=\"1\" /><path clip-path=\"url(#clip390)\" d=\"M 0 0 M794.911 1536.76 L794.911 1539.62 L767.985 1539.62 Q768.366 1545.67 771.613 1548.85 Q774.891 1552 780.716 1552 Q784.09 1552 787.241 1551.17 Q790.424 1550.35 793.543 1548.69 L793.543 1554.23 Q790.392 1555.57 787.082 1556.27 Q783.772 1556.97 780.366 1556.97 Q771.836 1556.97 766.839 1552 Q761.873 1547.04 761.873 1538.57 Q761.873 1529.82 766.584 1524.69 Q771.327 1519.54 779.347 1519.54 Q786.541 1519.54 790.71 1524.18 Q794.911 1528.8 794.911 1536.76 M789.055 1535.04 Q788.991 1530.23 786.35 1527.37 Q783.74 1524.5 779.411 1524.5 Q774.509 1524.5 771.549 1527.27 Q768.621 1530.04 768.176 1535.07 L789.055 1535.04 Z\" fill=\"#000000\" fill-rule=\"evenodd\" fill-opacity=\"1\" /><polyline clip-path=\"url(#clip394)\" style=\"stroke:#000000; stroke-width:2; stroke-opacity:0.1; fill:none\" points=\"\n",
       "  224.866,1423.18 1152.76,1423.18 \n",
       "  \"/>\n",
       "<polyline clip-path=\"url(#clip394)\" style=\"stroke:#000000; stroke-width:2; stroke-opacity:0.1; fill:none\" points=\"\n",
       "  224.866,1323.24 1152.76,1323.24 \n",
       "  \"/>\n",
       "<polyline clip-path=\"url(#clip394)\" style=\"stroke:#000000; stroke-width:2; stroke-opacity:0.1; fill:none\" points=\"\n",
       "  224.866,1223.3 1152.76,1223.3 \n",
       "  \"/>\n",
       "<polyline clip-path=\"url(#clip394)\" style=\"stroke:#000000; stroke-width:2; stroke-opacity:0.1; fill:none\" points=\"\n",
       "  224.866,1123.36 1152.76,1123.36 \n",
       "  \"/>\n",
       "<polyline clip-path=\"url(#clip394)\" style=\"stroke:#000000; stroke-width:2; stroke-opacity:0.1; fill:none\" points=\"\n",
       "  224.866,1023.41 1152.76,1023.41 \n",
       "  \"/>\n",
       "<polyline clip-path=\"url(#clip394)\" style=\"stroke:#000000; stroke-width:2; stroke-opacity:0.1; fill:none\" points=\"\n",
       "  224.866,923.472 1152.76,923.472 \n",
       "  \"/>\n",
       "<polyline clip-path=\"url(#clip390)\" style=\"stroke:#000000; stroke-width:4; stroke-opacity:1; fill:none\" points=\"\n",
       "  224.866,1423.18 224.866,923.472 \n",
       "  \"/>\n",
       "<polyline clip-path=\"url(#clip390)\" style=\"stroke:#000000; stroke-width:4; stroke-opacity:1; fill:none\" points=\"\n",
       "  224.866,1423.18 236.001,1423.18 \n",
       "  \"/>\n",
       "<polyline clip-path=\"url(#clip390)\" style=\"stroke:#000000; stroke-width:4; stroke-opacity:1; fill:none\" points=\"\n",
       "  224.866,1323.24 236.001,1323.24 \n",
       "  \"/>\n",
       "<polyline clip-path=\"url(#clip390)\" style=\"stroke:#000000; stroke-width:4; stroke-opacity:1; fill:none\" points=\"\n",
       "  224.866,1223.3 236.001,1223.3 \n",
       "  \"/>\n",
       "<polyline clip-path=\"url(#clip390)\" style=\"stroke:#000000; stroke-width:4; stroke-opacity:1; fill:none\" points=\"\n",
       "  224.866,1123.36 236.001,1123.36 \n",
       "  \"/>\n",
       "<polyline clip-path=\"url(#clip390)\" style=\"stroke:#000000; stroke-width:4; stroke-opacity:1; fill:none\" points=\"\n",
       "  224.866,1023.41 236.001,1023.41 \n",
       "  \"/>\n",
       "<polyline clip-path=\"url(#clip390)\" style=\"stroke:#000000; stroke-width:4; stroke-opacity:1; fill:none\" points=\"\n",
       "  224.866,923.472 236.001,923.472 \n",
       "  \"/>\n",
       "<path clip-path=\"url(#clip390)\" d=\"M 0 0 M176.922 1408.98 Q173.311 1408.98 171.482 1412.54 Q169.677 1416.08 169.677 1423.21 Q169.677 1430.32 171.482 1433.89 Q173.311 1437.43 176.922 1437.43 Q180.556 1437.43 182.362 1433.89 Q184.19 1430.32 184.19 1423.21 Q184.19 1416.08 182.362 1412.54 Q180.556 1408.98 176.922 1408.98 M176.922 1405.27 Q182.732 1405.27 185.788 1409.88 Q188.866 1414.46 188.866 1423.21 Q188.866 1431.94 185.788 1436.55 Q182.732 1441.13 176.922 1441.13 Q171.112 1441.13 168.033 1436.55 Q164.977 1431.94 164.977 1423.21 Q164.977 1414.46 168.033 1409.88 Q171.112 1405.27 176.922 1405.27 Z\" fill=\"#000000\" fill-rule=\"evenodd\" fill-opacity=\"1\" /><path clip-path=\"url(#clip390)\" d=\"M 0 0 M146.529 1336.58 L162.848 1336.58 L162.848 1340.52 L140.904 1340.52 L140.904 1336.58 Q143.566 1333.83 148.149 1329.2 Q152.755 1324.55 153.936 1323.2 Q156.181 1320.68 157.061 1318.94 Q157.964 1317.19 157.964 1315.5 Q157.964 1312.74 156.019 1311 Q154.098 1309.27 150.996 1309.27 Q148.797 1309.27 146.343 1310.03 Q143.913 1310.8 141.135 1312.35 L141.135 1307.62 Q143.959 1306.49 146.413 1305.91 Q148.866 1305.33 150.903 1305.33 Q156.274 1305.33 159.468 1308.02 Q162.663 1310.7 162.663 1315.19 Q162.663 1317.32 161.852 1319.25 Q161.065 1321.14 158.959 1323.74 Q158.38 1324.41 155.278 1327.62 Q152.177 1330.82 146.529 1336.58 Z\" fill=\"#000000\" fill-rule=\"evenodd\" fill-opacity=\"1\" /><path clip-path=\"url(#clip390)\" d=\"M 0 0 M167.964 1305.96 L186.32 1305.96 L186.32 1309.89 L172.246 1309.89 L172.246 1318.37 Q173.264 1318.02 174.283 1317.86 Q175.301 1317.67 176.32 1317.67 Q182.107 1317.67 185.487 1320.84 Q188.866 1324.01 188.866 1329.43 Q188.866 1335.01 185.394 1338.11 Q181.922 1341.19 175.602 1341.19 Q173.427 1341.19 171.158 1340.82 Q168.913 1340.45 166.505 1339.71 L166.505 1335.01 Q168.589 1336.14 170.811 1336.7 Q173.033 1337.25 175.51 1337.25 Q179.514 1337.25 181.852 1335.15 Q184.19 1333.04 184.19 1329.43 Q184.19 1325.82 181.852 1323.71 Q179.514 1321.61 175.51 1321.61 Q173.635 1321.61 171.76 1322.02 Q169.908 1322.44 167.964 1323.32 L167.964 1305.96 Z\" fill=\"#000000\" fill-rule=\"evenodd\" fill-opacity=\"1\" /><path clip-path=\"url(#clip390)\" d=\"M 0 0 M140.95 1206.02 L159.306 1206.02 L159.306 1209.95 L145.232 1209.95 L145.232 1218.42 Q146.251 1218.08 147.269 1217.91 Q148.288 1217.73 149.306 1217.73 Q155.093 1217.73 158.473 1220.9 Q161.852 1224.07 161.852 1229.49 Q161.852 1235.07 158.38 1238.17 Q154.908 1241.25 148.589 1241.25 Q146.413 1241.25 144.144 1240.88 Q141.899 1240.51 139.492 1239.77 L139.492 1235.07 Q141.575 1236.2 143.797 1236.76 Q146.019 1237.31 148.496 1237.31 Q152.501 1237.31 154.839 1235.21 Q157.177 1233.1 157.177 1229.49 Q157.177 1225.88 154.839 1223.77 Q152.501 1221.66 148.496 1221.66 Q146.621 1221.66 144.746 1222.08 Q142.894 1222.5 140.95 1223.38 L140.95 1206.02 Z\" fill=\"#000000\" fill-rule=\"evenodd\" fill-opacity=\"1\" /><path clip-path=\"url(#clip390)\" d=\"M 0 0 M176.922 1209.1 Q173.311 1209.1 171.482 1212.66 Q169.677 1216.2 169.677 1223.33 Q169.677 1230.44 171.482 1234 Q173.311 1237.54 176.922 1237.54 Q180.556 1237.54 182.362 1234 Q184.19 1230.44 184.19 1223.33 Q184.19 1216.2 182.362 1212.66 Q180.556 1209.1 176.922 1209.1 M176.922 1205.39 Q182.732 1205.39 185.788 1210 Q188.866 1214.58 188.866 1223.33 Q188.866 1232.06 185.788 1236.66 Q182.732 1241.25 176.922 1241.25 Q171.112 1241.25 168.033 1236.66 Q164.977 1232.06 164.977 1223.33 Q164.977 1214.58 168.033 1210 Q171.112 1205.39 176.922 1205.39 Z\" fill=\"#000000\" fill-rule=\"evenodd\" fill-opacity=\"1\" /><path clip-path=\"url(#clip390)\" d=\"M 0 0 M140.626 1106.08 L162.848 1106.08 L162.848 1108.07 L150.302 1140.64 L145.417 1140.64 L157.223 1110.01 L140.626 1110.01 L140.626 1106.08 Z\" fill=\"#000000\" fill-rule=\"evenodd\" fill-opacity=\"1\" /><path clip-path=\"url(#clip390)\" d=\"M 0 0 M167.964 1106.08 L186.32 1106.08 L186.32 1110.01 L172.246 1110.01 L172.246 1118.48 Q173.264 1118.14 174.283 1117.97 Q175.301 1117.79 176.32 1117.79 Q182.107 1117.79 185.487 1120.96 Q188.866 1124.13 188.866 1129.55 Q188.866 1135.13 185.394 1138.23 Q181.922 1141.31 175.602 1141.31 Q173.427 1141.31 171.158 1140.94 Q168.913 1140.57 166.505 1139.83 L166.505 1135.13 Q168.589 1136.26 170.811 1136.82 Q173.033 1137.37 175.51 1137.37 Q179.514 1137.37 181.852 1135.26 Q184.19 1133.16 184.19 1129.55 Q184.19 1125.94 181.852 1123.83 Q179.514 1121.72 175.51 1121.72 Q173.635 1121.72 171.76 1122.14 Q169.908 1122.56 167.964 1123.44 L167.964 1106.08 Z\" fill=\"#000000\" fill-rule=\"evenodd\" fill-opacity=\"1\" /><path clip-path=\"url(#clip390)\" d=\"M 0 0 M114.931 1036.76 L122.57 1036.76 L122.57 1010.39 L114.26 1012.06 L114.26 1007.8 L122.524 1006.13 L127.2 1006.13 L127.2 1036.76 L134.839 1036.76 L134.839 1040.69 L114.931 1040.69 L114.931 1036.76 Z\" fill=\"#000000\" fill-rule=\"evenodd\" fill-opacity=\"1\" /><path clip-path=\"url(#clip390)\" d=\"M 0 0 M149.908 1009.21 Q146.297 1009.21 144.468 1012.78 Q142.663 1016.32 142.663 1023.45 Q142.663 1030.55 144.468 1034.12 Q146.297 1037.66 149.908 1037.66 Q153.542 1037.66 155.348 1034.12 Q157.177 1030.55 157.177 1023.45 Q157.177 1016.32 155.348 1012.78 Q153.542 1009.21 149.908 1009.21 M149.908 1005.51 Q155.718 1005.51 158.774 1010.12 Q161.852 1014.7 161.852 1023.45 Q161.852 1032.18 158.774 1036.78 Q155.718 1041.36 149.908 1041.36 Q144.098 1041.36 141.019 1036.78 Q137.964 1032.18 137.964 1023.45 Q137.964 1014.7 141.019 1010.12 Q144.098 1005.51 149.908 1005.51 Z\" fill=\"#000000\" fill-rule=\"evenodd\" fill-opacity=\"1\" /><path clip-path=\"url(#clip390)\" d=\"M 0 0 M176.922 1009.21 Q173.311 1009.21 171.482 1012.78 Q169.677 1016.32 169.677 1023.45 Q169.677 1030.55 171.482 1034.12 Q173.311 1037.66 176.922 1037.66 Q180.556 1037.66 182.362 1034.12 Q184.19 1030.55 184.19 1023.45 Q184.19 1016.32 182.362 1012.78 Q180.556 1009.21 176.922 1009.21 M176.922 1005.51 Q182.732 1005.51 185.788 1010.12 Q188.866 1014.7 188.866 1023.45 Q188.866 1032.18 185.788 1036.78 Q182.732 1041.36 176.922 1041.36 Q171.112 1041.36 168.033 1036.78 Q164.977 1032.18 164.977 1023.45 Q164.977 1014.7 168.033 1010.12 Q171.112 1005.51 176.922 1005.51 Z\" fill=\"#000000\" fill-rule=\"evenodd\" fill-opacity=\"1\" /><path clip-path=\"url(#clip390)\" d=\"M 0 0 M117.524 936.817 L125.163 936.817 L125.163 910.451 L116.853 912.118 L116.853 907.859 L125.117 906.192 L129.792 906.192 L129.792 936.817 L137.431 936.817 L137.431 940.752 L117.524 940.752 L117.524 936.817 Z\" fill=\"#000000\" fill-rule=\"evenodd\" fill-opacity=\"1\" /><path clip-path=\"url(#clip390)\" d=\"M 0 0 M146.529 936.817 L162.848 936.817 L162.848 940.752 L140.904 940.752 L140.904 936.817 Q143.566 934.062 148.149 929.433 Q152.755 924.78 153.936 923.437 Q156.181 920.914 157.061 919.178 Q157.964 917.419 157.964 915.729 Q157.964 912.974 156.019 911.238 Q154.098 909.502 150.996 909.502 Q148.797 909.502 146.343 910.266 Q143.913 911.03 141.135 912.581 L141.135 907.859 Q143.959 906.725 146.413 906.146 Q148.866 905.567 150.903 905.567 Q156.274 905.567 159.468 908.252 Q162.663 910.937 162.663 915.428 Q162.663 917.558 161.852 919.479 Q161.065 921.377 158.959 923.97 Q158.38 924.641 155.278 927.859 Q152.177 931.053 146.529 936.817 Z\" fill=\"#000000\" fill-rule=\"evenodd\" fill-opacity=\"1\" /><path clip-path=\"url(#clip390)\" d=\"M 0 0 M167.964 906.192 L186.32 906.192 L186.32 910.127 L172.246 910.127 L172.246 918.599 Q173.264 918.252 174.283 918.09 Q175.301 917.905 176.32 917.905 Q182.107 917.905 185.487 921.076 Q188.866 924.248 188.866 929.664 Q188.866 935.243 185.394 938.345 Q181.922 941.423 175.602 941.423 Q173.427 941.423 171.158 941.053 Q168.913 940.683 166.505 939.942 L166.505 935.243 Q168.589 936.377 170.811 936.933 Q173.033 937.488 175.51 937.488 Q179.514 937.488 181.852 935.382 Q184.19 933.275 184.19 929.664 Q184.19 926.053 181.852 923.947 Q179.514 921.84 175.51 921.84 Q173.635 921.84 171.76 922.257 Q169.908 922.674 167.964 923.553 L167.964 906.192 Z\" fill=\"#000000\" fill-rule=\"evenodd\" fill-opacity=\"1\" /><path clip-path=\"url(#clip390)\" d=\"M 0 0 M40.4842 1267.32 L40.4842 1257.74 L72.8219 1245.61 L40.4842 1233.42 L40.4842 1223.84 L88.0042 1223.84 L88.0042 1230.11 L46.277 1230.11 L78.8694 1242.36 L78.8694 1248.82 L46.277 1261.08 L88.0042 1261.08 L88.0042 1267.32 L40.4842 1267.32 Z\" fill=\"#000000\" fill-rule=\"evenodd\" fill-opacity=\"1\" /><path clip-path=\"url(#clip390)\" d=\"M 0 0 M68.7161 1187.2 L71.5806 1187.2 L71.5806 1214.13 Q77.6281 1213.75 80.8109 1210.5 Q83.9619 1207.22 83.9619 1201.4 Q83.9619 1198.02 83.1344 1194.87 Q82.3069 1191.69 80.6518 1188.57 L86.1899 1188.57 Q87.5267 1191.72 88.227 1195.03 Q88.9272 1198.34 88.9272 1201.75 Q88.9272 1210.28 83.9619 1215.28 Q78.9967 1220.24 70.5303 1220.24 Q61.7774 1220.24 56.6531 1215.53 Q51.4968 1210.79 51.4968 1202.77 Q51.4968 1195.57 56.1438 1191.4 Q60.7589 1187.2 68.7161 1187.2 M66.9973 1193.06 Q62.1912 1193.12 59.3266 1195.77 Q56.4621 1198.38 56.4621 1202.7 Q56.4621 1207.61 59.2312 1210.57 Q62.0002 1213.49 67.0292 1213.94 L66.9973 1193.06 Z\" fill=\"#000000\" fill-rule=\"evenodd\" fill-opacity=\"1\" /><path clip-path=\"url(#clip390)\" d=\"M 0 0 M66.4881 1151.43 L88.0042 1151.43 L88.0042 1157.28 L66.679 1157.28 Q61.6183 1157.28 59.1038 1159.26 Q56.5894 1161.23 56.5894 1165.18 Q56.5894 1169.92 59.6131 1172.66 Q62.6368 1175.39 67.8567 1175.39 L88.0042 1175.39 L88.0042 1181.28 L52.3562 1181.28 L52.3562 1175.39 L57.8944 1175.39 Q54.6797 1173.29 53.0883 1170.46 Q51.4968 1167.6 51.4968 1163.87 Q51.4968 1157.73 55.3163 1154.58 Q59.1038 1151.43 66.4881 1151.43 Z\" fill=\"#000000\" fill-rule=\"evenodd\" fill-opacity=\"1\" /><path clip-path=\"url(#clip390)\" d=\"M 0 0 M69.7664 1121.83 Q63.4007 1121.83 59.8996 1124.47 Q56.3984 1127.08 56.3984 1131.82 Q56.3984 1136.53 59.8996 1139.17 Q63.4007 1141.78 69.7664 1141.78 Q76.1003 1141.78 79.6014 1139.17 Q83.1026 1136.53 83.1026 1131.82 Q83.1026 1127.08 79.6014 1124.47 Q76.1003 1121.83 69.7664 1121.83 M83.58 1115.97 Q92.683 1115.97 97.1071 1120.01 Q101.563 1124.06 101.563 1132.39 Q101.563 1135.48 101.086 1138.22 Q100.64 1140.96 99.6852 1143.53 L93.9879 1143.53 Q95.3884 1140.96 96.0568 1138.44 Q96.7252 1135.93 96.7252 1133.32 Q96.7252 1127.56 93.7015 1124.69 Q90.7096 1121.83 84.6303 1121.83 L81.7339 1121.83 Q84.885 1123.64 86.4446 1126.47 Q88.0042 1129.31 88.0042 1133.25 Q88.0042 1139.81 83.0071 1143.82 Q78.01 1147.83 69.7664 1147.83 Q61.491 1147.83 56.4939 1143.82 Q51.4968 1139.81 51.4968 1133.25 Q51.4968 1129.31 53.0564 1126.47 Q54.616 1123.64 57.7671 1121.83 L52.3562 1121.83 L52.3562 1115.97 L83.58 1115.97 Z\" fill=\"#000000\" fill-rule=\"evenodd\" fill-opacity=\"1\" /><path clip-path=\"url(#clip390)\" d=\"M 0 0 M68.7161 1079.34 L71.5806 1079.34 L71.5806 1106.26 Q77.6281 1105.88 80.8109 1102.63 Q83.9619 1099.36 83.9619 1093.53 Q83.9619 1090.16 83.1344 1087.01 Q82.3069 1083.82 80.6518 1080.7 L86.1899 1080.7 Q87.5267 1083.86 88.227 1087.17 Q88.9272 1090.48 88.9272 1093.88 Q88.9272 1102.41 83.9619 1107.41 Q78.9967 1112.37 70.5303 1112.37 Q61.7774 1112.37 56.6531 1107.66 Q51.4968 1102.92 51.4968 1094.9 Q51.4968 1087.71 56.1438 1083.54 Q60.7589 1079.34 68.7161 1079.34 M66.9973 1085.19 Q62.1912 1085.26 59.3266 1087.9 Q56.4621 1090.51 56.4621 1094.84 Q56.4621 1099.74 59.2312 1102.7 Q62.0002 1105.63 67.0292 1106.07 L66.9973 1085.19 Z\" fill=\"#000000\" fill-rule=\"evenodd\" fill-opacity=\"1\" /><path clip-path=\"url(#clip390)\" d=\"M 0 0 M518.43 818.821 L518.43 841.546 L528.719 841.546 Q534.431 841.546 537.55 838.589 Q540.67 835.632 540.67 830.163 Q540.67 824.735 537.55 821.778 Q534.431 818.821 528.719 818.821 L518.43 818.821 M510.247 812.096 L528.719 812.096 Q538.887 812.096 544.072 816.714 Q549.298 821.292 549.298 830.163 Q549.298 839.116 544.072 843.693 Q538.887 848.271 528.719 848.271 L518.43 848.271 L518.43 872.576 L510.247 872.576 L510.247 812.096 Z\" fill=\"#000000\" fill-rule=\"evenodd\" fill-opacity=\"1\" /><path clip-path=\"url(#clip390)\" d=\"M 0 0 M581.948 834.173 Q580.692 833.444 579.194 833.12 Q577.735 832.756 575.953 832.756 Q569.633 832.756 566.231 836.888 Q562.868 840.979 562.868 848.676 L562.868 872.576 L555.374 872.576 L555.374 827.206 L562.868 827.206 L562.868 834.254 Q565.218 830.123 568.985 828.138 Q572.753 826.112 578.14 826.112 Q578.91 826.112 579.842 826.234 Q580.773 826.315 581.908 826.517 L581.948 834.173 Z\" fill=\"#000000\" fill-rule=\"evenodd\" fill-opacity=\"1\" /><path clip-path=\"url(#clip390)\" d=\"M 0 0 M605.524 832.432 Q599.529 832.432 596.045 837.131 Q592.562 841.789 592.562 849.931 Q592.562 858.074 596.005 862.773 Q599.489 867.431 605.524 867.431 Q611.479 867.431 614.963 862.732 Q618.447 858.033 618.447 849.931 Q618.447 841.87 614.963 837.171 Q611.479 832.432 605.524 832.432 M605.524 826.112 Q615.247 826.112 620.796 832.432 Q626.346 838.751 626.346 849.931 Q626.346 861.071 620.796 867.431 Q615.247 873.751 605.524 873.751 Q595.762 873.751 590.212 867.431 Q584.703 861.071 584.703 849.931 Q584.703 838.751 590.212 832.432 Q595.762 826.112 605.524 826.112 Z\" fill=\"#000000\" fill-rule=\"evenodd\" fill-opacity=\"1\" /><path clip-path=\"url(#clip390)\" d=\"M 0 0 M664.02 834.092 L664.02 809.544 L671.473 809.544 L671.473 872.576 L664.02 872.576 L664.02 865.77 Q661.67 869.821 658.065 871.806 Q654.5 873.751 649.477 873.751 Q641.253 873.751 636.068 867.188 Q630.924 860.626 630.924 849.931 Q630.924 839.237 636.068 832.675 Q641.253 826.112 649.477 826.112 Q654.5 826.112 658.065 828.097 Q661.67 830.042 664.02 834.092 M638.62 849.931 Q638.62 858.155 641.983 862.854 Q645.385 867.512 651.3 867.512 Q657.214 867.512 660.617 862.854 Q664.02 858.155 664.02 849.931 Q664.02 841.708 660.617 837.05 Q657.214 832.351 651.3 832.351 Q645.385 832.351 641.983 837.05 Q638.62 841.708 638.62 849.931 Z\" fill=\"#000000\" fill-rule=\"evenodd\" fill-opacity=\"1\" /><path clip-path=\"url(#clip390)\" d=\"M 0 0 M678.522 854.671 L678.522 827.206 L685.975 827.206 L685.975 854.387 Q685.975 860.828 688.487 864.069 Q690.999 867.269 696.022 867.269 Q702.058 867.269 705.541 863.421 Q709.066 859.573 709.066 852.929 L709.066 827.206 L716.519 827.206 L716.519 872.576 L709.066 872.576 L709.066 865.608 Q706.351 869.74 702.746 871.766 Q699.181 873.751 694.442 873.751 Q686.624 873.751 682.573 868.89 Q678.522 864.029 678.522 854.671 M697.277 826.112 L697.277 826.112 Z\" fill=\"#000000\" fill-rule=\"evenodd\" fill-opacity=\"1\" /><path clip-path=\"url(#clip390)\" d=\"M 0 0 M724.054 809.544 L731.548 809.544 L731.548 846.772 L753.788 827.206 L763.307 827.206 L739.245 848.433 L764.32 872.576 L754.598 872.576 L731.548 850.418 L731.548 872.576 L724.054 872.576 L724.054 809.544 Z\" fill=\"#000000\" fill-rule=\"evenodd\" fill-opacity=\"1\" /><path clip-path=\"url(#clip390)\" d=\"M 0 0 M779.511 814.324 L779.511 827.206 L794.864 827.206 L794.864 832.999 L779.511 832.999 L779.511 857.628 Q779.511 863.178 781.01 864.758 Q782.549 866.338 787.208 866.338 L794.864 866.338 L794.864 872.576 L787.208 872.576 Q778.579 872.576 775.298 869.376 Q772.017 866.135 772.017 857.628 L772.017 832.999 L766.548 832.999 L766.548 827.206 L772.017 827.206 L772.017 814.324 L779.511 814.324 Z\" fill=\"#000000\" fill-rule=\"evenodd\" fill-opacity=\"1\" /><path clip-path=\"url(#clip390)\" d=\"M 0 0 M854.898 839.966 Q860.772 841.222 864.053 845.192 Q867.375 849.162 867.375 854.995 Q867.375 863.948 861.218 868.849 Q855.06 873.751 843.718 873.751 Q839.91 873.751 835.859 872.981 Q831.849 872.252 827.555 870.753 L827.555 862.854 Q830.957 864.839 835.008 865.851 Q839.059 866.864 843.475 866.864 Q851.171 866.864 855.182 863.826 Q859.233 860.788 859.233 854.995 Q859.233 849.648 855.465 846.65 Q851.738 843.612 845.054 843.612 L838.006 843.612 L838.006 836.888 L845.379 836.888 Q851.414 836.888 854.615 834.498 Q857.815 832.067 857.815 827.53 Q857.815 822.871 854.493 820.4 Q851.212 817.889 845.054 817.889 Q841.692 817.889 837.844 818.618 Q833.995 819.347 829.377 820.886 L829.377 813.595 Q834.036 812.299 838.087 811.65 Q842.178 811.002 845.784 811.002 Q855.101 811.002 860.529 815.256 Q865.957 819.469 865.957 826.679 Q865.957 831.702 863.081 835.186 Q860.205 838.629 854.898 839.966 Z\" fill=\"#000000\" fill-rule=\"evenodd\" fill-opacity=\"1\" /><path clip-path=\"url(#clip394)\" d=\"\n",
       "M272.595 1063.39 L272.595 1423.18 L331.011 1423.18 L331.011 1063.39 L272.595 1063.39 L272.595 1063.39  Z\n",
       "  \" fill=\"#00688b\" fill-rule=\"evenodd\" fill-opacity=\"1\"/>\n",
       "<polyline clip-path=\"url(#clip394)\" style=\"stroke:#000000; stroke-width:4; stroke-opacity:1; fill:none\" points=\"\n",
       "  272.595,1063.39 272.595,1423.18 331.011,1423.18 331.011,1063.39 272.595,1063.39 \n",
       "  \"/>\n",
       "<path clip-path=\"url(#clip394)\" d=\"\n",
       "M491.656 1063.39 L491.656 1423.18 L550.072 1423.18 L550.072 1063.39 L491.656 1063.39 L491.656 1063.39  Z\n",
       "  \" fill=\"#00688b\" fill-rule=\"evenodd\" fill-opacity=\"1\"/>\n",
       "<polyline clip-path=\"url(#clip394)\" style=\"stroke:#000000; stroke-width:4; stroke-opacity:1; fill:none\" points=\"\n",
       "  491.656,1063.39 491.656,1423.18 550.072,1423.18 550.072,1063.39 491.656,1063.39 \n",
       "  \"/>\n",
       "<path clip-path=\"url(#clip394)\" d=\"\n",
       "M710.717 1423.18 L710.717 1423.18 L769.133 1423.18 L769.133 1423.18 L710.717 1423.18 L710.717 1423.18  Z\n",
       "  \" fill=\"#00688b\" fill-rule=\"evenodd\" fill-opacity=\"1\"/>\n",
       "<polyline clip-path=\"url(#clip394)\" style=\"stroke:#000000; stroke-width:4; stroke-opacity:1; fill:none\" points=\"\n",
       "  710.717,1423.18 710.717,1423.18 769.133,1423.18 710.717,1423.18 \n",
       "  \"/>\n",
       "<path clip-path=\"url(#clip394)\" d=\"\n",
       "M929.778 1223.3 L929.778 1423.18 L988.194 1423.18 L988.194 1223.3 L929.778 1223.3 L929.778 1223.3  Z\n",
       "  \" fill=\"#00688b\" fill-rule=\"evenodd\" fill-opacity=\"1\"/>\n",
       "<polyline clip-path=\"url(#clip394)\" style=\"stroke:#000000; stroke-width:4; stroke-opacity:1; fill:none\" points=\"\n",
       "  929.778,1223.3 929.778,1423.18 988.194,1423.18 988.194,1223.3 929.778,1223.3 \n",
       "  \"/>\n",
       "<path clip-path=\"url(#clip394)\" d=\"\n",
       "M331.011 1063.39 L331.011 1423.18 L389.428 1423.18 L389.428 1063.39 L331.011 1063.39 L331.011 1063.39  Z\n",
       "  \" fill=\"#cd0000\" fill-rule=\"evenodd\" fill-opacity=\"1\"/>\n",
       "<polyline clip-path=\"url(#clip394)\" style=\"stroke:#000000; stroke-width:4; stroke-opacity:1; fill:none\" points=\"\n",
       "  331.011,1063.39 331.011,1423.18 389.428,1423.18 389.428,1063.39 331.011,1063.39 \n",
       "  \"/>\n",
       "<path clip-path=\"url(#clip394)\" d=\"\n",
       "M550.072 1103.37 L550.072 1423.18 L608.489 1423.18 L608.489 1103.37 L550.072 1103.37 L550.072 1103.37  Z\n",
       "  \" fill=\"#cd0000\" fill-rule=\"evenodd\" fill-opacity=\"1\"/>\n",
       "<polyline clip-path=\"url(#clip394)\" style=\"stroke:#000000; stroke-width:4; stroke-opacity:1; fill:none\" points=\"\n",
       "  550.072,1103.37 550.072,1423.18 608.489,1423.18 608.489,1103.37 550.072,1103.37 \n",
       "  \"/>\n",
       "<path clip-path=\"url(#clip394)\" d=\"\n",
       "M769.133 1383.2 L769.133 1423.18 L827.55 1423.18 L827.55 1383.2 L769.133 1383.2 L769.133 1383.2  Z\n",
       "  \" fill=\"#cd0000\" fill-rule=\"evenodd\" fill-opacity=\"1\"/>\n",
       "<polyline clip-path=\"url(#clip394)\" style=\"stroke:#000000; stroke-width:4; stroke-opacity:1; fill:none\" points=\"\n",
       "  769.133,1383.2 769.133,1423.18 827.55,1423.18 827.55,1383.2 769.133,1383.2 \n",
       "  \"/>\n",
       "<path clip-path=\"url(#clip394)\" d=\"\n",
       "M988.194 1223.3 L988.194 1423.18 L1046.61 1423.18 L1046.61 1223.3 L988.194 1223.3 L988.194 1223.3  Z\n",
       "  \" fill=\"#cd0000\" fill-rule=\"evenodd\" fill-opacity=\"1\"/>\n",
       "<polyline clip-path=\"url(#clip394)\" style=\"stroke:#000000; stroke-width:4; stroke-opacity:1; fill:none\" points=\"\n",
       "  988.194,1223.3 988.194,1423.18 1046.61,1423.18 1046.61,1223.3 988.194,1223.3 \n",
       "  \"/>\n",
       "<path clip-path=\"url(#clip394)\" d=\"\n",
       "M389.428 1423.18 L389.428 1423.18 L447.844 1423.18 L447.844 1423.18 L389.428 1423.18 L389.428 1423.18  Z\n",
       "  \" fill=\"#ffa500\" fill-rule=\"evenodd\" fill-opacity=\"1\"/>\n",
       "<polyline clip-path=\"url(#clip394)\" style=\"stroke:#000000; stroke-width:4; stroke-opacity:1; fill:none\" points=\"\n",
       "  389.428,1423.18 389.428,1423.18 447.844,1423.18 389.428,1423.18 \n",
       "  \"/>\n",
       "<path clip-path=\"url(#clip394)\" d=\"\n",
       "M608.489 1383.2 L608.489 1423.18 L666.905 1423.18 L666.905 1383.2 L608.489 1383.2 L608.489 1383.2  Z\n",
       "  \" fill=\"#ffa500\" fill-rule=\"evenodd\" fill-opacity=\"1\"/>\n",
       "<polyline clip-path=\"url(#clip394)\" style=\"stroke:#000000; stroke-width:4; stroke-opacity:1; fill:none\" points=\"\n",
       "  608.489,1383.2 608.489,1423.18 666.905,1423.18 666.905,1383.2 608.489,1383.2 \n",
       "  \"/>\n",
       "<path clip-path=\"url(#clip394)\" d=\"\n",
       "M827.55 1423.18 L827.55 1423.18 L885.966 1423.18 L885.966 1423.18 L827.55 1423.18 L827.55 1423.18  Z\n",
       "  \" fill=\"#ffa500\" fill-rule=\"evenodd\" fill-opacity=\"1\"/>\n",
       "<polyline clip-path=\"url(#clip394)\" style=\"stroke:#000000; stroke-width:4; stroke-opacity:1; fill:none\" points=\"\n",
       "  827.55,1423.18 827.55,1423.18 885.966,1423.18 827.55,1423.18 \n",
       "  \"/>\n",
       "<path clip-path=\"url(#clip394)\" d=\"\n",
       "M1046.61 1423.18 L1046.61 1423.18 L1105.03 1423.18 L1105.03 1423.18 L1046.61 1423.18 L1046.61 1423.18  Z\n",
       "  \" fill=\"#ffa500\" fill-rule=\"evenodd\" fill-opacity=\"1\"/>\n",
       "<polyline clip-path=\"url(#clip394)\" style=\"stroke:#000000; stroke-width:4; stroke-opacity:1; fill:none\" points=\"\n",
       "  1046.61,1423.18 1046.61,1423.18 1105.03,1423.18 1046.61,1423.18 \n",
       "  \"/>\n",
       "<path clip-path=\"url(#clip390)\" d=\"\n",
       "M1424.87 1423.18 L2352.76 1423.18 L2352.76 923.472 L1424.87 923.472  Z\n",
       "  \" fill=\"#ffffff\" fill-rule=\"evenodd\" fill-opacity=\"1\"/>\n",
       "<defs>\n",
       "  <clipPath id=\"clip395\">\n",
       "    <rect x=\"1424\" y=\"923\" width=\"929\" height=\"501\"/>\n",
       "  </clipPath>\n",
       "</defs>\n",
       "<path clip-path=\"url(#clip390)\" d=\"M 0 0 M1374.02 1479.92 L1390.34 1479.92 L1390.34 1483.85 L1368.4 1483.85 L1368.4 1479.92 Q1371.06 1477.16 1375.64 1472.53 Q1380.25 1467.88 1381.43 1466.54 Q1383.67 1464.01 1384.55 1462.28 Q1385.46 1460.52 1385.46 1458.83 Q1385.46 1456.07 1383.51 1454.34 Q1381.59 1452.6 1378.49 1452.6 Q1376.29 1452.6 1373.84 1453.37 Q1371.41 1454.13 1368.63 1455.68 L1368.63 1450.96 Q1371.45 1449.82 1373.91 1449.25 Q1376.36 1448.67 1378.4 1448.67 Q1383.77 1448.67 1386.96 1451.35 Q1390.16 1454.04 1390.16 1458.53 Q1390.16 1460.66 1389.35 1462.58 Q1388.56 1464.48 1386.45 1467.07 Q1385.87 1467.74 1382.77 1470.96 Q1379.67 1474.15 1374.02 1479.92 Z\" fill=\"#000000\" fill-rule=\"evenodd\" fill-opacity=\"1\" /><path clip-path=\"url(#clip390)\" d=\"M 0 0 M1405.41 1452.37 Q1401.8 1452.37 1399.97 1455.94 Q1398.16 1459.48 1398.16 1466.61 Q1398.16 1473.71 1399.97 1477.28 Q1401.8 1480.82 1405.41 1480.82 Q1409.04 1480.82 1410.85 1477.28 Q1412.68 1473.71 1412.68 1466.61 Q1412.68 1459.48 1410.85 1455.94 Q1409.04 1452.37 1405.41 1452.37 M1405.41 1448.67 Q1411.22 1448.67 1414.28 1453.27 Q1417.35 1457.86 1417.35 1466.61 Q1417.35 1475.33 1414.28 1479.94 Q1411.22 1484.52 1405.41 1484.52 Q1399.6 1484.52 1396.52 1479.94 Q1393.47 1475.33 1393.47 1466.61 Q1393.47 1457.86 1396.52 1453.27 Q1399.6 1448.67 1405.41 1448.67 Z\" fill=\"#000000\" fill-rule=\"evenodd\" fill-opacity=\"1\" /><path clip-path=\"url(#clip390)\" d=\"M 0 0 M1422.42 1477.97 L1427.31 1477.97 L1427.31 1483.85 L1422.42 1483.85 L1422.42 1477.97 Z\" fill=\"#000000\" fill-rule=\"evenodd\" fill-opacity=\"1\" /><path clip-path=\"url(#clip390)\" d=\"M 0 0 M1442.38 1452.37 Q1438.77 1452.37 1436.94 1455.94 Q1435.13 1459.48 1435.13 1466.61 Q1435.13 1473.71 1436.94 1477.28 Q1438.77 1480.82 1442.38 1480.82 Q1446.01 1480.82 1447.82 1477.28 Q1449.65 1473.71 1449.65 1466.61 Q1449.65 1459.48 1447.82 1455.94 Q1446.01 1452.37 1442.38 1452.37 M1442.38 1448.67 Q1448.19 1448.67 1451.24 1453.27 Q1454.32 1457.86 1454.32 1466.61 Q1454.32 1475.33 1451.24 1479.94 Q1448.19 1484.52 1442.38 1484.52 Q1436.57 1484.52 1433.49 1479.94 Q1430.43 1475.33 1430.43 1466.61 Q1430.43 1457.86 1433.49 1453.27 Q1436.57 1448.67 1442.38 1448.67 Z\" fill=\"#000000\" fill-rule=\"evenodd\" fill-opacity=\"1\" /><path clip-path=\"url(#clip390)\" d=\"M 0 0 M1469.39 1452.37 Q1465.78 1452.37 1463.95 1455.94 Q1462.15 1459.48 1462.15 1466.61 Q1462.15 1473.71 1463.95 1477.28 Q1465.78 1480.82 1469.39 1480.82 Q1473.03 1480.82 1474.83 1477.28 Q1476.66 1473.71 1476.66 1466.61 Q1476.66 1459.48 1474.83 1455.94 Q1473.03 1452.37 1469.39 1452.37 M1469.39 1448.67 Q1475.2 1448.67 1478.26 1453.27 Q1481.34 1457.86 1481.34 1466.61 Q1481.34 1475.33 1478.26 1479.94 Q1475.2 1484.52 1469.39 1484.52 Q1463.58 1484.52 1460.5 1479.94 Q1457.45 1475.33 1457.45 1466.61 Q1457.45 1457.86 1460.5 1453.27 Q1463.58 1448.67 1469.39 1448.67 Z\" fill=\"#000000\" fill-rule=\"evenodd\" fill-opacity=\"1\" /><path clip-path=\"url(#clip390)\" d=\"M 0 0 M1607.29 1479.92 L1623.61 1479.92 L1623.61 1483.85 L1601.67 1483.85 L1601.67 1479.92 Q1604.33 1477.16 1608.91 1472.53 Q1613.52 1467.88 1614.7 1466.54 Q1616.94 1464.01 1617.82 1462.28 Q1618.73 1460.52 1618.73 1458.83 Q1618.73 1456.07 1616.78 1454.34 Q1614.86 1452.6 1611.76 1452.6 Q1609.56 1452.6 1607.11 1453.37 Q1604.67 1454.13 1601.9 1455.68 L1601.9 1450.96 Q1604.72 1449.82 1607.17 1449.25 Q1609.63 1448.67 1611.67 1448.67 Q1617.04 1448.67 1620.23 1451.35 Q1623.42 1454.04 1623.42 1458.53 Q1623.42 1460.66 1622.61 1462.58 Q1621.83 1464.48 1619.72 1467.07 Q1619.14 1467.74 1616.04 1470.96 Q1612.94 1474.15 1607.29 1479.92 Z\" fill=\"#000000\" fill-rule=\"evenodd\" fill-opacity=\"1\" /><path clip-path=\"url(#clip390)\" d=\"M 0 0 M1638.68 1452.37 Q1635.07 1452.37 1633.24 1455.94 Q1631.43 1459.48 1631.43 1466.61 Q1631.43 1473.71 1633.24 1477.28 Q1635.07 1480.82 1638.68 1480.82 Q1642.31 1480.82 1644.12 1477.28 Q1645.95 1473.71 1645.95 1466.61 Q1645.95 1459.48 1644.12 1455.94 Q1642.31 1452.37 1638.68 1452.37 M1638.68 1448.67 Q1644.49 1448.67 1647.54 1453.27 Q1650.62 1457.86 1650.62 1466.61 Q1650.62 1475.33 1647.54 1479.94 Q1644.49 1484.52 1638.68 1484.52 Q1632.87 1484.52 1629.79 1479.94 Q1626.73 1475.33 1626.73 1466.61 Q1626.73 1457.86 1629.79 1453.27 Q1632.87 1448.67 1638.68 1448.67 Z\" fill=\"#000000\" fill-rule=\"evenodd\" fill-opacity=\"1\" /><path clip-path=\"url(#clip390)\" d=\"M 0 0 M1655.69 1477.97 L1660.58 1477.97 L1660.58 1483.85 L1655.69 1483.85 L1655.69 1477.97 Z\" fill=\"#000000\" fill-rule=\"evenodd\" fill-opacity=\"1\" /><path clip-path=\"url(#clip390)\" d=\"M 0 0 M1669.67 1479.92 L1685.99 1479.92 L1685.99 1483.85 L1664.05 1483.85 L1664.05 1479.92 Q1666.71 1477.16 1671.29 1472.53 Q1675.9 1467.88 1677.08 1466.54 Q1679.33 1464.01 1680.21 1462.28 Q1681.11 1460.52 1681.11 1458.83 Q1681.11 1456.07 1679.16 1454.34 Q1677.24 1452.6 1674.14 1452.6 Q1671.94 1452.6 1669.49 1453.37 Q1667.06 1454.13 1664.28 1455.68 L1664.28 1450.96 Q1667.1 1449.82 1669.56 1449.25 Q1672.01 1448.67 1674.05 1448.67 Q1679.42 1448.67 1682.61 1451.35 Q1685.81 1454.04 1685.81 1458.53 Q1685.81 1460.66 1685 1462.58 Q1684.21 1464.48 1682.1 1467.07 Q1681.53 1467.74 1678.42 1470.96 Q1675.32 1474.15 1669.67 1479.92 Z\" fill=\"#000000\" fill-rule=\"evenodd\" fill-opacity=\"1\" /><path clip-path=\"url(#clip390)\" d=\"M 0 0 M1691.11 1449.29 L1709.47 1449.29 L1709.47 1453.23 L1695.39 1453.23 L1695.39 1461.7 Q1696.41 1461.35 1697.43 1461.19 Q1698.45 1461 1699.47 1461 Q1705.25 1461 1708.63 1464.18 Q1712.01 1467.35 1712.01 1472.76 Q1712.01 1478.34 1708.54 1481.44 Q1705.07 1484.52 1698.75 1484.52 Q1696.57 1484.52 1694.3 1484.15 Q1692.06 1483.78 1689.65 1483.04 L1689.65 1478.34 Q1691.73 1479.48 1693.96 1480.03 Q1696.18 1480.59 1698.66 1480.59 Q1702.66 1480.59 1705 1478.48 Q1707.34 1476.38 1707.34 1472.76 Q1707.34 1469.15 1705 1467.05 Q1702.66 1464.94 1698.66 1464.94 Q1696.78 1464.94 1694.91 1465.36 Q1693.05 1465.77 1691.11 1466.65 L1691.11 1449.29 Z\" fill=\"#000000\" fill-rule=\"evenodd\" fill-opacity=\"1\" /><path clip-path=\"url(#clip390)\" d=\"M 0 0 M1838.46 1479.92 L1854.78 1479.92 L1854.78 1483.85 L1832.84 1483.85 L1832.84 1479.92 Q1835.5 1477.16 1840.08 1472.53 Q1844.69 1467.88 1845.87 1466.54 Q1848.12 1464.01 1849 1462.28 Q1849.9 1460.52 1849.9 1458.83 Q1849.9 1456.07 1847.95 1454.34 Q1846.03 1452.6 1842.93 1452.6 Q1840.73 1452.6 1838.28 1453.37 Q1835.85 1454.13 1833.07 1455.68 L1833.07 1450.96 Q1835.89 1449.82 1838.35 1449.25 Q1840.8 1448.67 1842.84 1448.67 Q1848.21 1448.67 1851.4 1451.35 Q1854.6 1454.04 1854.6 1458.53 Q1854.6 1460.66 1853.79 1462.58 Q1853 1464.48 1850.89 1467.07 Q1850.32 1467.74 1847.21 1470.96 Q1844.11 1474.15 1838.46 1479.92 Z\" fill=\"#000000\" fill-rule=\"evenodd\" fill-opacity=\"1\" /><path clip-path=\"url(#clip390)\" d=\"M 0 0 M1869.85 1452.37 Q1866.24 1452.37 1864.41 1455.94 Q1862.61 1459.48 1862.61 1466.61 Q1862.61 1473.71 1864.41 1477.28 Q1866.24 1480.82 1869.85 1480.82 Q1873.49 1480.82 1875.29 1477.28 Q1877.12 1473.71 1877.12 1466.61 Q1877.12 1459.48 1875.29 1455.94 Q1873.49 1452.37 1869.85 1452.37 M1869.85 1448.67 Q1875.66 1448.67 1878.72 1453.27 Q1881.8 1457.86 1881.8 1466.61 Q1881.8 1475.33 1878.72 1479.94 Q1875.66 1484.52 1869.85 1484.52 Q1864.04 1484.52 1860.96 1479.94 Q1857.91 1475.33 1857.91 1466.61 Q1857.91 1457.86 1860.96 1453.27 Q1864.04 1448.67 1869.85 1448.67 Z\" fill=\"#000000\" fill-rule=\"evenodd\" fill-opacity=\"1\" /><path clip-path=\"url(#clip390)\" d=\"M 0 0 M1886.87 1477.97 L1891.75 1477.97 L1891.75 1483.85 L1886.87 1483.85 L1886.87 1477.97 Z\" fill=\"#000000\" fill-rule=\"evenodd\" fill-opacity=\"1\" /><path clip-path=\"url(#clip390)\" d=\"M 0 0 M1896.87 1449.29 L1915.22 1449.29 L1915.22 1453.23 L1901.15 1453.23 L1901.15 1461.7 Q1902.17 1461.35 1903.19 1461.19 Q1904.2 1461 1905.22 1461 Q1911.01 1461 1914.39 1464.18 Q1917.77 1467.35 1917.77 1472.76 Q1917.77 1478.34 1914.3 1481.44 Q1910.82 1484.52 1904.51 1484.52 Q1902.33 1484.52 1900.06 1484.15 Q1897.82 1483.78 1895.41 1483.04 L1895.41 1478.34 Q1897.49 1479.48 1899.71 1480.03 Q1901.94 1480.59 1904.41 1480.59 Q1908.42 1480.59 1910.76 1478.48 Q1913.09 1476.38 1913.09 1472.76 Q1913.09 1469.15 1910.76 1467.05 Q1908.42 1464.94 1904.41 1464.94 Q1902.54 1464.94 1900.66 1465.36 Q1898.81 1465.77 1896.87 1466.65 L1896.87 1449.29 Z\" fill=\"#000000\" fill-rule=\"evenodd\" fill-opacity=\"1\" /><path clip-path=\"url(#clip390)\" d=\"M 0 0 M1932.84 1452.37 Q1929.23 1452.37 1927.4 1455.94 Q1925.59 1459.48 1925.59 1466.61 Q1925.59 1473.71 1927.4 1477.28 Q1929.23 1480.82 1932.84 1480.82 Q1936.47 1480.82 1938.28 1477.28 Q1940.11 1473.71 1940.11 1466.61 Q1940.11 1459.48 1938.28 1455.94 Q1936.47 1452.37 1932.84 1452.37 M1932.84 1448.67 Q1938.65 1448.67 1941.7 1453.27 Q1944.78 1457.86 1944.78 1466.61 Q1944.78 1475.33 1941.7 1479.94 Q1938.65 1484.52 1932.84 1484.52 Q1927.03 1484.52 1923.95 1479.94 Q1920.89 1475.33 1920.89 1466.61 Q1920.89 1457.86 1923.95 1453.27 Q1927.03 1448.67 1932.84 1448.67 Z\" fill=\"#000000\" fill-rule=\"evenodd\" fill-opacity=\"1\" /><path clip-path=\"url(#clip390)\" d=\"M 0 0 M2070.89 1479.92 L2087.21 1479.92 L2087.21 1483.85 L2065.26 1483.85 L2065.26 1479.92 Q2067.92 1477.16 2072.51 1472.53 Q2077.11 1467.88 2078.3 1466.54 Q2080.54 1464.01 2081.42 1462.28 Q2082.32 1460.52 2082.32 1458.83 Q2082.32 1456.07 2080.38 1454.34 Q2078.46 1452.6 2075.36 1452.6 Q2073.16 1452.6 2070.7 1453.37 Q2068.27 1454.13 2065.49 1455.68 L2065.49 1450.96 Q2068.32 1449.82 2070.77 1449.25 Q2073.23 1448.67 2075.26 1448.67 Q2080.63 1448.67 2083.83 1451.35 Q2087.02 1454.04 2087.02 1458.53 Q2087.02 1460.66 2086.21 1462.58 Q2085.42 1464.48 2083.32 1467.07 Q2082.74 1467.74 2079.64 1470.96 Q2076.54 1474.15 2070.89 1479.92 Z\" fill=\"#000000\" fill-rule=\"evenodd\" fill-opacity=\"1\" /><path clip-path=\"url(#clip390)\" d=\"M 0 0 M2102.28 1452.37 Q2098.67 1452.37 2096.84 1455.94 Q2095.03 1459.48 2095.03 1466.61 Q2095.03 1473.71 2096.84 1477.28 Q2098.67 1480.82 2102.28 1480.82 Q2105.91 1480.82 2107.72 1477.28 Q2109.55 1473.71 2109.55 1466.61 Q2109.55 1459.48 2107.72 1455.94 Q2105.91 1452.37 2102.28 1452.37 M2102.28 1448.67 Q2108.09 1448.67 2111.14 1453.27 Q2114.22 1457.86 2114.22 1466.61 Q2114.22 1475.33 2111.14 1479.94 Q2108.09 1484.52 2102.28 1484.52 Q2096.47 1484.52 2093.39 1479.94 Q2090.33 1475.33 2090.33 1466.61 Q2090.33 1457.86 2093.39 1453.27 Q2096.47 1448.67 2102.28 1448.67 Z\" fill=\"#000000\" fill-rule=\"evenodd\" fill-opacity=\"1\" /><path clip-path=\"url(#clip390)\" d=\"M 0 0 M2119.29 1477.97 L2124.17 1477.97 L2124.17 1483.85 L2119.29 1483.85 L2119.29 1477.97 Z\" fill=\"#000000\" fill-rule=\"evenodd\" fill-opacity=\"1\" /><path clip-path=\"url(#clip390)\" d=\"M 0 0 M2128.06 1449.29 L2150.29 1449.29 L2150.29 1451.28 L2137.74 1483.85 L2132.86 1483.85 L2144.66 1453.23 L2128.06 1453.23 L2128.06 1449.29 Z\" fill=\"#000000\" fill-rule=\"evenodd\" fill-opacity=\"1\" /><path clip-path=\"url(#clip390)\" d=\"M 0 0 M2155.4 1449.29 L2173.76 1449.29 L2173.76 1453.23 L2159.68 1453.23 L2159.68 1461.7 Q2160.7 1461.35 2161.72 1461.19 Q2162.74 1461 2163.76 1461 Q2169.54 1461 2172.92 1464.18 Q2176.3 1467.35 2176.3 1472.76 Q2176.3 1478.34 2172.83 1481.44 Q2169.36 1484.52 2163.04 1484.52 Q2160.86 1484.52 2158.6 1484.15 Q2156.35 1483.78 2153.94 1483.04 L2153.94 1478.34 Q2156.03 1479.48 2158.25 1480.03 Q2160.47 1480.59 2162.95 1480.59 Q2166.95 1480.59 2169.29 1478.48 Q2171.63 1476.38 2171.63 1472.76 Q2171.63 1469.15 2169.29 1467.05 Q2166.95 1464.94 2162.95 1464.94 Q2161.07 1464.94 2159.2 1465.36 Q2157.35 1465.77 2155.4 1466.65 L2155.4 1449.29 Z\" fill=\"#000000\" fill-rule=\"evenodd\" fill-opacity=\"1\" /><path clip-path=\"url(#clip390)\" d=\"M 0 0 M2302.52 1479.92 L2318.84 1479.92 L2318.84 1483.85 L2296.9 1483.85 L2296.9 1479.92 Q2299.56 1477.16 2304.15 1472.53 Q2308.75 1467.88 2309.93 1466.54 Q2312.18 1464.01 2313.06 1462.28 Q2313.96 1460.52 2313.96 1458.83 Q2313.96 1456.07 2312.02 1454.34 Q2310.09 1452.6 2306.99 1452.6 Q2304.79 1452.6 2302.34 1453.37 Q2299.91 1454.13 2297.13 1455.68 L2297.13 1450.96 Q2299.96 1449.82 2302.41 1449.25 Q2304.86 1448.67 2306.9 1448.67 Q2312.27 1448.67 2315.46 1451.35 Q2318.66 1454.04 2318.66 1458.53 Q2318.66 1460.66 2317.85 1462.58 Q2317.06 1464.48 2314.96 1467.07 Q2314.38 1467.74 2311.27 1470.96 Q2308.17 1474.15 2302.52 1479.92 Z\" fill=\"#000000\" fill-rule=\"evenodd\" fill-opacity=\"1\" /><path clip-path=\"url(#clip390)\" d=\"M 0 0 M2324.72 1479.92 L2332.36 1479.92 L2332.36 1453.55 L2324.05 1455.22 L2324.05 1450.96 L2332.32 1449.29 L2336.99 1449.29 L2336.99 1479.92 L2344.63 1479.92 L2344.63 1483.85 L2324.72 1483.85 L2324.72 1479.92 Z\" fill=\"#000000\" fill-rule=\"evenodd\" fill-opacity=\"1\" /><path clip-path=\"url(#clip390)\" d=\"M 0 0 M2349.7 1477.97 L2354.58 1477.97 L2354.58 1483.85 L2349.7 1483.85 L2349.7 1477.97 Z\" fill=\"#000000\" fill-rule=\"evenodd\" fill-opacity=\"1\" /><path clip-path=\"url(#clip390)\" d=\"M 0 0 M2369.65 1452.37 Q2366.04 1452.37 2364.21 1455.94 Q2362.41 1459.48 2362.41 1466.61 Q2362.41 1473.71 2364.21 1477.28 Q2366.04 1480.82 2369.65 1480.82 Q2373.29 1480.82 2375.09 1477.28 Q2376.92 1473.71 2376.92 1466.61 Q2376.92 1459.48 2375.09 1455.94 Q2373.29 1452.37 2369.65 1452.37 M2369.65 1448.67 Q2375.46 1448.67 2378.52 1453.27 Q2381.6 1457.86 2381.6 1466.61 Q2381.6 1475.33 2378.52 1479.94 Q2375.46 1484.52 2369.65 1484.52 Q2363.84 1484.52 2360.77 1479.94 Q2357.71 1475.33 2357.71 1466.61 Q2357.71 1457.86 2360.77 1453.27 Q2363.84 1448.67 2369.65 1448.67 Z\" fill=\"#000000\" fill-rule=\"evenodd\" fill-opacity=\"1\" /><path clip-path=\"url(#clip390)\" d=\"M 0 0 M2396.67 1452.37 Q2393.06 1452.37 2391.23 1455.94 Q2389.42 1459.48 2389.42 1466.61 Q2389.42 1473.71 2391.23 1477.28 Q2393.06 1480.82 2396.67 1480.82 Q2400.3 1480.82 2402.11 1477.28 Q2403.94 1473.71 2403.94 1466.61 Q2403.94 1459.48 2402.11 1455.94 Q2400.3 1452.37 2396.67 1452.37 M2396.67 1448.67 Q2402.48 1448.67 2405.53 1453.27 Q2408.61 1457.86 2408.61 1466.61 Q2408.61 1475.33 2405.53 1479.94 Q2402.48 1484.52 2396.67 1484.52 Q2390.86 1484.52 2387.78 1479.94 Q2384.72 1475.33 2384.72 1466.61 Q2384.72 1457.86 2387.78 1453.27 Q2390.86 1448.67 2396.67 1448.67 Z\" fill=\"#000000\" fill-rule=\"evenodd\" fill-opacity=\"1\" /><path clip-path=\"url(#clip390)\" d=\"M 0 0 M1376.92 1394.84 Q1373.31 1394.84 1371.48 1398.4 Q1369.68 1401.94 1369.68 1409.07 Q1369.68 1416.18 1371.48 1419.74 Q1373.31 1423.28 1376.92 1423.28 Q1380.56 1423.28 1382.36 1419.74 Q1384.19 1416.18 1384.19 1409.07 Q1384.19 1401.94 1382.36 1398.4 Q1380.56 1394.84 1376.92 1394.84 M1376.92 1391.13 Q1382.73 1391.13 1385.79 1395.74 Q1388.87 1400.32 1388.87 1409.07 Q1388.87 1417.8 1385.79 1422.41 Q1382.73 1426.99 1376.92 1426.99 Q1371.11 1426.99 1368.03 1422.41 Q1364.98 1417.8 1364.98 1409.07 Q1364.98 1400.32 1368.03 1395.74 Q1371.11 1391.13 1376.92 1391.13 Z\" fill=\"#000000\" fill-rule=\"evenodd\" fill-opacity=\"1\" /><path clip-path=\"url(#clip390)\" d=\"M 0 0 M1346.53 1338.2 L1362.85 1338.2 L1362.85 1342.13 L1340.9 1342.13 L1340.9 1338.2 Q1343.57 1335.44 1348.15 1330.82 Q1352.76 1326.16 1353.94 1324.82 Q1356.18 1322.3 1357.06 1320.56 Q1357.96 1318.8 1357.96 1317.11 Q1357.96 1314.36 1356.02 1312.62 Q1354.1 1310.88 1351 1310.88 Q1348.8 1310.88 1346.34 1311.65 Q1343.91 1312.41 1341.14 1313.96 L1341.14 1309.24 Q1343.96 1308.11 1346.41 1307.53 Q1348.87 1306.95 1350.9 1306.95 Q1356.27 1306.95 1359.47 1309.63 Q1362.66 1312.32 1362.66 1316.81 Q1362.66 1318.94 1361.85 1320.86 Q1361.07 1322.76 1358.96 1325.35 Q1358.38 1326.02 1355.28 1329.24 Q1352.18 1332.44 1346.53 1338.2 Z\" fill=\"#000000\" fill-rule=\"evenodd\" fill-opacity=\"1\" /><path clip-path=\"url(#clip390)\" d=\"M 0 0 M1367.96 1307.57 L1386.32 1307.57 L1386.32 1311.51 L1372.25 1311.51 L1372.25 1319.98 Q1373.26 1319.63 1374.28 1319.47 Q1375.3 1319.29 1376.32 1319.29 Q1382.11 1319.29 1385.49 1322.46 Q1388.87 1325.63 1388.87 1331.05 Q1388.87 1336.63 1385.39 1339.73 Q1381.92 1342.81 1375.6 1342.81 Q1373.43 1342.81 1371.16 1342.44 Q1368.91 1342.07 1366.51 1341.32 L1366.51 1336.63 Q1368.59 1337.76 1370.81 1338.32 Q1373.03 1338.87 1375.51 1338.87 Q1379.51 1338.87 1381.85 1336.76 Q1384.19 1334.66 1384.19 1331.05 Q1384.19 1327.44 1381.85 1325.33 Q1379.51 1323.22 1375.51 1323.22 Q1373.63 1323.22 1371.76 1323.64 Q1369.91 1324.06 1367.96 1324.94 L1367.96 1307.57 Z\" fill=\"#000000\" fill-rule=\"evenodd\" fill-opacity=\"1\" /><path clip-path=\"url(#clip390)\" d=\"M 0 0 M1340.95 1223.39 L1359.31 1223.39 L1359.31 1227.33 L1345.23 1227.33 L1345.23 1235.8 Q1346.25 1235.45 1347.27 1235.29 Q1348.29 1235.1 1349.31 1235.1 Q1355.09 1235.1 1358.47 1238.28 Q1361.85 1241.45 1361.85 1246.86 Q1361.85 1252.44 1358.38 1255.54 Q1354.91 1258.62 1348.59 1258.62 Q1346.41 1258.62 1344.14 1258.25 Q1341.9 1257.88 1339.49 1257.14 L1339.49 1252.44 Q1341.57 1253.58 1343.8 1254.13 Q1346.02 1254.69 1348.5 1254.69 Q1352.5 1254.69 1354.84 1252.58 Q1357.18 1250.48 1357.18 1246.86 Q1357.18 1243.25 1354.84 1241.15 Q1352.5 1239.04 1348.5 1239.04 Q1346.62 1239.04 1344.75 1239.46 Q1342.89 1239.87 1340.95 1240.75 L1340.95 1223.39 Z\" fill=\"#000000\" fill-rule=\"evenodd\" fill-opacity=\"1\" /><path clip-path=\"url(#clip390)\" d=\"M 0 0 M1376.92 1226.47 Q1373.31 1226.47 1371.48 1230.04 Q1369.68 1233.58 1369.68 1240.71 Q1369.68 1247.81 1371.48 1251.38 Q1373.31 1254.92 1376.92 1254.92 Q1380.56 1254.92 1382.36 1251.38 Q1384.19 1247.81 1384.19 1240.71 Q1384.19 1233.58 1382.36 1230.04 Q1380.56 1226.47 1376.92 1226.47 M1376.92 1222.77 Q1382.73 1222.77 1385.79 1227.37 Q1388.87 1231.96 1388.87 1240.71 Q1388.87 1249.43 1385.79 1254.04 Q1382.73 1258.62 1376.92 1258.62 Q1371.11 1258.62 1368.03 1254.04 Q1364.98 1249.43 1364.98 1240.71 Q1364.98 1231.96 1368.03 1227.37 Q1371.11 1222.77 1376.92 1222.77 Z\" fill=\"#000000\" fill-rule=\"evenodd\" fill-opacity=\"1\" /><path clip-path=\"url(#clip390)\" d=\"M 0 0 M1340.63 1139.21 L1362.85 1139.21 L1362.85 1141.2 L1350.3 1173.77 L1345.42 1173.77 L1357.22 1143.14 L1340.63 1143.14 L1340.63 1139.21 Z\" fill=\"#000000\" fill-rule=\"evenodd\" fill-opacity=\"1\" /><path clip-path=\"url(#clip390)\" d=\"M 0 0 M1367.96 1139.21 L1386.32 1139.21 L1386.32 1143.14 L1372.25 1143.14 L1372.25 1151.62 Q1373.26 1151.27 1374.28 1151.11 Q1375.3 1150.92 1376.32 1150.92 Q1382.11 1150.92 1385.49 1154.09 Q1388.87 1157.26 1388.87 1162.68 Q1388.87 1168.26 1385.39 1171.36 Q1381.92 1174.44 1375.6 1174.44 Q1373.43 1174.44 1371.16 1174.07 Q1368.91 1173.7 1366.51 1172.96 L1366.51 1168.26 Q1368.59 1169.39 1370.81 1169.95 Q1373.03 1170.51 1375.51 1170.51 Q1379.51 1170.51 1381.85 1168.4 Q1384.19 1166.29 1384.19 1162.68 Q1384.19 1159.07 1381.85 1156.96 Q1379.51 1154.86 1375.51 1154.86 Q1373.63 1154.86 1371.76 1155.27 Q1369.91 1155.69 1367.96 1156.57 L1367.96 1139.21 Z\" fill=\"#000000\" fill-rule=\"evenodd\" fill-opacity=\"1\" /><path clip-path=\"url(#clip390)\" d=\"M 0 0 M1314.93 1085.65 L1322.57 1085.65 L1322.57 1059.29 L1314.26 1060.95 L1314.26 1056.69 L1322.52 1055.03 L1327.2 1055.03 L1327.2 1085.65 L1334.84 1085.65 L1334.84 1089.59 L1314.93 1089.59 L1314.93 1085.65 Z\" fill=\"#000000\" fill-rule=\"evenodd\" fill-opacity=\"1\" /><path clip-path=\"url(#clip390)\" d=\"M 0 0 M1349.91 1058.11 Q1346.3 1058.11 1344.47 1061.67 Q1342.66 1065.21 1342.66 1072.34 Q1342.66 1079.45 1344.47 1083.01 Q1346.3 1086.55 1349.91 1086.55 Q1353.54 1086.55 1355.35 1083.01 Q1357.18 1079.45 1357.18 1072.34 Q1357.18 1065.21 1355.35 1061.67 Q1353.54 1058.11 1349.91 1058.11 M1349.91 1054.4 Q1355.72 1054.4 1358.77 1059.01 Q1361.85 1063.59 1361.85 1072.34 Q1361.85 1081.07 1358.77 1085.67 Q1355.72 1090.26 1349.91 1090.26 Q1344.1 1090.26 1341.02 1085.67 Q1337.96 1081.07 1337.96 1072.34 Q1337.96 1063.59 1341.02 1059.01 Q1344.1 1054.4 1349.91 1054.4 Z\" fill=\"#000000\" fill-rule=\"evenodd\" fill-opacity=\"1\" /><path clip-path=\"url(#clip390)\" d=\"M 0 0 M1376.92 1058.11 Q1373.31 1058.11 1371.48 1061.67 Q1369.68 1065.21 1369.68 1072.34 Q1369.68 1079.45 1371.48 1083.01 Q1373.31 1086.55 1376.92 1086.55 Q1380.56 1086.55 1382.36 1083.01 Q1384.19 1079.45 1384.19 1072.34 Q1384.19 1065.21 1382.36 1061.67 Q1380.56 1058.11 1376.92 1058.11 M1376.92 1054.4 Q1382.73 1054.4 1385.79 1059.01 Q1388.87 1063.59 1388.87 1072.34 Q1388.87 1081.07 1385.79 1085.67 Q1382.73 1090.26 1376.92 1090.26 Q1371.11 1090.26 1368.03 1085.67 Q1364.98 1081.07 1364.98 1072.34 Q1364.98 1063.59 1368.03 1059.01 Q1371.11 1054.4 1376.92 1054.4 Z\" fill=\"#000000\" fill-rule=\"evenodd\" fill-opacity=\"1\" /><path clip-path=\"url(#clip390)\" d=\"M 0 0 M1317.52 1001.47 L1325.16 1001.47 L1325.16 975.104 L1316.85 976.77 L1316.85 972.511 L1325.12 970.844 L1329.79 970.844 L1329.79 1001.47 L1337.43 1001.47 L1337.43 1005.4 L1317.52 1005.4 L1317.52 1001.47 Z\" fill=\"#000000\" fill-rule=\"evenodd\" fill-opacity=\"1\" /><path clip-path=\"url(#clip390)\" d=\"M 0 0 M1346.53 1001.47 L1362.85 1001.47 L1362.85 1005.4 L1340.9 1005.4 L1340.9 1001.47 Q1343.57 998.715 1348.15 994.085 Q1352.76 989.432 1353.94 988.09 Q1356.18 985.566 1357.06 983.83 Q1357.96 982.071 1357.96 980.381 Q1357.96 977.627 1356.02 975.891 Q1354.1 974.155 1351 974.155 Q1348.8 974.155 1346.34 974.918 Q1343.91 975.682 1341.14 977.233 L1341.14 972.511 Q1343.96 971.377 1346.41 970.798 Q1348.87 970.219 1350.9 970.219 Q1356.27 970.219 1359.47 972.905 Q1362.66 975.59 1362.66 980.08 Q1362.66 982.21 1361.85 984.131 Q1361.07 986.029 1358.96 988.622 Q1358.38 989.293 1355.28 992.511 Q1352.18 995.705 1346.53 1001.47 Z\" fill=\"#000000\" fill-rule=\"evenodd\" fill-opacity=\"1\" /><path clip-path=\"url(#clip390)\" d=\"M 0 0 M1367.96 970.844 L1386.32 970.844 L1386.32 974.78 L1372.25 974.78 L1372.25 983.252 Q1373.26 982.904 1374.28 982.742 Q1375.3 982.557 1376.32 982.557 Q1382.11 982.557 1385.49 985.729 Q1388.87 988.9 1388.87 994.316 Q1388.87 999.895 1385.39 1003 Q1381.92 1006.08 1375.6 1006.08 Q1373.43 1006.08 1371.16 1005.71 Q1368.91 1005.33 1366.51 1004.59 L1366.51 999.895 Q1368.59 1001.03 1370.81 1001.58 Q1373.03 1002.14 1375.51 1002.14 Q1379.51 1002.14 1381.85 1000.03 Q1384.19 997.928 1384.19 994.316 Q1384.19 990.705 1381.85 988.599 Q1379.51 986.492 1375.51 986.492 Q1373.63 986.492 1371.76 986.909 Q1369.91 987.326 1367.96 988.205 L1367.96 970.844 Z\" fill=\"#000000\" fill-rule=\"evenodd\" fill-opacity=\"1\" /><path clip-path=\"url(#clip395)\" d=\"\n",
       "M-16576.2 1207 L-16576.2 1409.04 L-16328.8 1409.04 L-16328.8 1207 L-16576.2 1207 L-16576.2 1207  Z\n",
       "  \" fill=\"#00688b\" fill-rule=\"evenodd\" fill-opacity=\"1\"/>\n",
       "<polyline clip-path=\"url(#clip395)\" style=\"stroke:#000000; stroke-width:4; stroke-opacity:1; fill:none\" points=\"\n",
       "  -16576.2,1207 -16576.2,1409.04 -16328.8,1409.04 -16328.8,1207 -16576.2,1207 \n",
       "  \"/>\n",
       "<path clip-path=\"url(#clip395)\" d=\"\n",
       "M-15648.3 1409.04 L-15648.3 1409.04 L-15400.9 1409.04 L-15400.9 1409.04 L-15648.3 1409.04 L-15648.3 1409.04  Z\n",
       "  \" fill=\"#00688b\" fill-rule=\"evenodd\" fill-opacity=\"1\"/>\n",
       "<polyline clip-path=\"url(#clip395)\" style=\"stroke:#000000; stroke-width:4; stroke-opacity:1; fill:none\" points=\"\n",
       "  -15648.3,1409.04 -15648.3,1409.04 -15400.9,1409.04 -15648.3,1409.04 \n",
       "  \"/>\n",
       "<path clip-path=\"url(#clip395)\" d=\"\n",
       "M-14720.4 1318.12 L-14720.4 1409.04 L-14473 1409.04 L-14473 1318.12 L-14720.4 1318.12 L-14720.4 1318.12  Z\n",
       "  \" fill=\"#00688b\" fill-rule=\"evenodd\" fill-opacity=\"1\"/>\n",
       "<polyline clip-path=\"url(#clip395)\" style=\"stroke:#000000; stroke-width:4; stroke-opacity:1; fill:none\" points=\"\n",
       "  -14720.4,1318.12 -14720.4,1409.04 -14473,1409.04 -14473,1318.12 -14720.4,1318.12 \n",
       "  \"/>\n",
       "<path clip-path=\"url(#clip395)\" d=\"\n",
       "M-13792.5 994.859 L-13792.5 1409.04 L-13545.1 1409.04 L-13545.1 994.859 L-13792.5 994.859 L-13792.5 994.859  Z\n",
       "  \" fill=\"#00688b\" fill-rule=\"evenodd\" fill-opacity=\"1\"/>\n",
       "<polyline clip-path=\"url(#clip395)\" style=\"stroke:#000000; stroke-width:4; stroke-opacity:1; fill:none\" points=\"\n",
       "  -13792.5,994.859 -13792.5,1409.04 -13545.1,1409.04 -13545.1,994.859 -13792.5,994.859 \n",
       "  \"/>\n",
       "<path clip-path=\"url(#clip395)\" d=\"\n",
       "M-16328.8 1240.67 L-16328.8 1409.04 L-16081.3 1409.04 L-16081.3 1240.67 L-16328.8 1240.67 L-16328.8 1240.67  Z\n",
       "  \" fill=\"#cd0000\" fill-rule=\"evenodd\" fill-opacity=\"1\"/>\n",
       "<polyline clip-path=\"url(#clip395)\" style=\"stroke:#000000; stroke-width:4; stroke-opacity:1; fill:none\" points=\"\n",
       "  -16328.8,1240.67 -16328.8,1409.04 -16081.3,1409.04 -16081.3,1240.67 -16328.8,1240.67 \n",
       "  \"/>\n",
       "<path clip-path=\"url(#clip395)\" d=\"\n",
       "M-15400.9 1375.36 L-15400.9 1409.04 L-15153.4 1409.04 L-15153.4 1375.36 L-15400.9 1375.36 L-15400.9 1375.36  Z\n",
       "  \" fill=\"#cd0000\" fill-rule=\"evenodd\" fill-opacity=\"1\"/>\n",
       "<polyline clip-path=\"url(#clip395)\" style=\"stroke:#000000; stroke-width:4; stroke-opacity:1; fill:none\" points=\"\n",
       "  -15400.9,1375.36 -15400.9,1409.04 -15153.4,1409.04 -15153.4,1375.36 -15400.9,1375.36 \n",
       "  \"/>\n",
       "<path clip-path=\"url(#clip395)\" d=\"\n",
       "M-14473 1375.36 L-14473 1409.04 L-14225.5 1409.04 L-14225.5 1375.36 L-14473 1375.36 L-14473 1375.36  Z\n",
       "  \" fill=\"#cd0000\" fill-rule=\"evenodd\" fill-opacity=\"1\"/>\n",
       "<polyline clip-path=\"url(#clip395)\" style=\"stroke:#000000; stroke-width:4; stroke-opacity:1; fill:none\" points=\"\n",
       "  -14473,1375.36 -14473,1409.04 -14225.5,1409.04 -14225.5,1375.36 -14473,1375.36 \n",
       "  \"/>\n",
       "<path clip-path=\"url(#clip395)\" d=\"\n",
       "M-13545.1 937.615 L-13545.1 1409.04 L-13297.6 1409.04 L-13297.6 937.615 L-13545.1 937.615 L-13545.1 937.615  Z\n",
       "  \" fill=\"#cd0000\" fill-rule=\"evenodd\" fill-opacity=\"1\"/>\n",
       "<polyline clip-path=\"url(#clip395)\" style=\"stroke:#000000; stroke-width:4; stroke-opacity:1; fill:none\" points=\"\n",
       "  -13545.1,937.615 -13545.1,1409.04 -13297.6,1409.04 -13297.6,937.615 -13545.1,937.615 \n",
       "  \"/>\n",
       "<path clip-path=\"url(#clip395)\" d=\"\n",
       "M-16081.3 1375.36 L-16081.3 1409.04 L-15833.9 1409.04 L-15833.9 1375.36 L-16081.3 1375.36 L-16081.3 1375.36  Z\n",
       "  \" fill=\"#ffa500\" fill-rule=\"evenodd\" fill-opacity=\"1\"/>\n",
       "<polyline clip-path=\"url(#clip395)\" style=\"stroke:#000000; stroke-width:4; stroke-opacity:1; fill:none\" points=\"\n",
       "  -16081.3,1375.36 -16081.3,1409.04 -15833.9,1409.04 -15833.9,1375.36 -16081.3,1375.36 \n",
       "  \"/>\n",
       "<path clip-path=\"url(#clip395)\" d=\"\n",
       "M-15153.4 1409.04 L-15153.4 1409.04 L-14906 1409.04 L-14906 1409.04 L-15153.4 1409.04 L-15153.4 1409.04  Z\n",
       "  \" fill=\"#ffa500\" fill-rule=\"evenodd\" fill-opacity=\"1\"/>\n",
       "<polyline clip-path=\"url(#clip395)\" style=\"stroke:#000000; stroke-width:4; stroke-opacity:1; fill:none\" points=\"\n",
       "  -15153.4,1409.04 -15153.4,1409.04 -14906,1409.04 -15153.4,1409.04 \n",
       "  \"/>\n",
       "<path clip-path=\"url(#clip395)\" d=\"\n",
       "M-14225.5 1351.79 L-14225.5 1409.04 L-13978.1 1409.04 L-13978.1 1351.79 L-14225.5 1351.79 L-14225.5 1351.79  Z\n",
       "  \" fill=\"#ffa500\" fill-rule=\"evenodd\" fill-opacity=\"1\"/>\n",
       "<polyline clip-path=\"url(#clip395)\" style=\"stroke:#000000; stroke-width:4; stroke-opacity:1; fill:none\" points=\"\n",
       "  -14225.5,1351.79 -14225.5,1409.04 -13978.1,1409.04 -13978.1,1351.79 -14225.5,1351.79 \n",
       "  \"/>\n",
       "<path clip-path=\"url(#clip395)\" d=\"\n",
       "M-13297.6 1409.04 L-13297.6 1409.04 L-13050.2 1409.04 L-13050.2 1409.04 L-13297.6 1409.04 L-13297.6 1409.04  Z\n",
       "  \" fill=\"#ffa500\" fill-rule=\"evenodd\" fill-opacity=\"1\"/>\n",
       "<polyline clip-path=\"url(#clip395)\" style=\"stroke:#000000; stroke-width:4; stroke-opacity:1; fill:none\" points=\"\n",
       "  -13297.6,1409.04 -13297.6,1409.04 -13050.2,1409.04 -13297.6,1409.04 \n",
       "  \"/>\n",
       "<path clip-path=\"url(#clip390)\" d=\"\n",
       "M1455.8 1182.05 L1952.32 1182.05 L1952.32 940.129 L1455.8 940.129  Z\n",
       "  \" fill=\"#ffffff\" fill-rule=\"evenodd\" fill-opacity=\"1\"/>\n",
       "<polyline clip-path=\"url(#clip390)\" style=\"stroke:#000000; stroke-width:4; stroke-opacity:1; fill:none\" points=\"\n",
       "  1455.8,1182.05 1952.32,1182.05 1952.32,940.129 1455.8,940.129 1455.8,1182.05 \n",
       "  \"/>\n",
       "<path clip-path=\"url(#clip390)\" d=\"\n",
       "M1466.11 1024.8 L1527.97 1024.8 L1527.97 976.417 L1466.11 976.417 L1466.11 1024.8  Z\n",
       "  \" fill=\"#00688b\" fill-rule=\"evenodd\" fill-opacity=\"1\"/>\n",
       "<polyline clip-path=\"url(#clip390)\" style=\"stroke:#000000; stroke-width:4; stroke-opacity:1; fill:none\" points=\"\n",
       "  1466.11,1024.8 1527.97,1024.8 1527.97,976.417 1466.11,976.417 1466.11,1024.8 \n",
       "  \"/>\n",
       "<path clip-path=\"url(#clip390)\" d=\"M 0 0 M1542.95 987.172 L1542.95 1000.16 L1548.83 1000.16 Q1552.09 1000.16 1553.88 998.468 Q1555.66 996.778 1555.66 993.653 Q1555.66 990.551 1553.88 988.861 Q1552.09 987.172 1548.83 987.172 L1542.95 987.172 M1538.27 983.329 L1548.83 983.329 Q1554.64 983.329 1557.6 985.968 Q1560.59 988.584 1560.59 993.653 Q1560.59 998.769 1557.6 1001.38 Q1554.64 1004 1548.83 1004 L1542.95 1004 L1542.95 1017.89 L1538.27 1017.89 L1538.27 983.329 Z\" fill=\"#000000\" fill-rule=\"evenodd\" fill-opacity=\"1\" /><path clip-path=\"url(#clip390)\" d=\"M 0 0 M1579.25 995.945 Q1578.53 995.528 1577.67 995.343 Q1576.84 995.135 1575.82 995.135 Q1572.21 995.135 1570.27 997.496 Q1568.34 999.834 1568.34 1004.23 L1568.34 1017.89 L1564.06 1017.89 L1564.06 991.963 L1568.34 991.963 L1568.34 995.991 Q1569.69 993.63 1571.84 992.496 Q1573.99 991.338 1577.07 991.338 Q1577.51 991.338 1578.04 991.408 Q1578.58 991.454 1579.22 991.57 L1579.25 995.945 Z\" fill=\"#000000\" fill-rule=\"evenodd\" fill-opacity=\"1\" /><path clip-path=\"url(#clip390)\" d=\"M 0 0 M1592.72 994.949 Q1589.29 994.949 1587.3 997.635 Q1585.31 1000.3 1585.31 1004.95 Q1585.31 1009.6 1587.28 1012.29 Q1589.27 1014.95 1592.72 1014.95 Q1596.12 1014.95 1598.11 1012.26 Q1600.1 1009.58 1600.1 1004.95 Q1600.1 1000.34 1598.11 997.658 Q1596.12 994.949 1592.72 994.949 M1592.72 991.338 Q1598.27 991.338 1601.45 994.949 Q1604.62 998.56 1604.62 1004.95 Q1604.62 1011.32 1601.45 1014.95 Q1598.27 1018.56 1592.72 1018.56 Q1587.14 1018.56 1583.97 1014.95 Q1580.82 1011.32 1580.82 1004.95 Q1580.82 998.56 1583.97 994.949 Q1587.14 991.338 1592.72 991.338 Z\" fill=\"#000000\" fill-rule=\"evenodd\" fill-opacity=\"1\" /><path clip-path=\"url(#clip390)\" d=\"M 0 0 M1626.14 995.898 L1626.14 981.871 L1630.4 981.871 L1630.4 1017.89 L1626.14 1017.89 L1626.14 1014 Q1624.8 1016.31 1622.74 1017.45 Q1620.71 1018.56 1617.83 1018.56 Q1613.14 1018.56 1610.17 1014.81 Q1607.23 1011.06 1607.23 1004.95 Q1607.23 998.838 1610.17 995.088 Q1613.14 991.338 1617.83 991.338 Q1620.71 991.338 1622.74 992.473 Q1624.8 993.584 1626.14 995.898 M1611.63 1004.95 Q1611.63 1009.65 1613.55 1012.33 Q1615.5 1015 1618.88 1015 Q1622.26 1015 1624.2 1012.33 Q1626.14 1009.65 1626.14 1004.95 Q1626.14 1000.25 1624.2 997.588 Q1622.26 994.903 1618.88 994.903 Q1615.5 994.903 1613.55 997.588 Q1611.63 1000.25 1611.63 1004.95 Z\" fill=\"#000000\" fill-rule=\"evenodd\" fill-opacity=\"1\" /><path clip-path=\"url(#clip390)\" d=\"M 0 0 M1634.43 1007.66 L1634.43 991.963 L1638.69 991.963 L1638.69 1007.5 Q1638.69 1011.18 1640.13 1013.03 Q1641.56 1014.86 1644.43 1014.86 Q1647.88 1014.86 1649.87 1012.66 Q1651.89 1010.46 1651.89 1006.66 L1651.89 991.963 L1656.14 991.963 L1656.14 1017.89 L1651.89 1017.89 L1651.89 1013.91 Q1650.33 1016.27 1648.27 1017.43 Q1646.24 1018.56 1643.53 1018.56 Q1639.06 1018.56 1636.75 1015.78 Q1634.43 1013 1634.43 1007.66 M1645.15 991.338 L1645.15 991.338 Z\" fill=\"#000000\" fill-rule=\"evenodd\" fill-opacity=\"1\" /><path clip-path=\"url(#clip390)\" d=\"M 0 0 M1660.45 981.871 L1664.73 981.871 L1664.73 1003.14 L1677.44 991.963 L1682.88 991.963 L1669.13 1004.09 L1683.46 1017.89 L1677.9 1017.89 L1664.73 1005.23 L1664.73 1017.89 L1660.45 1017.89 L1660.45 981.871 Z\" fill=\"#000000\" fill-rule=\"evenodd\" fill-opacity=\"1\" /><path clip-path=\"url(#clip390)\" d=\"M 0 0 M1692.14 984.602 L1692.14 991.963 L1700.91 991.963 L1700.91 995.273 L1692.14 995.273 L1692.14 1009.35 Q1692.14 1012.52 1693 1013.42 Q1693.88 1014.32 1696.54 1014.32 L1700.91 1014.32 L1700.91 1017.89 L1696.54 1017.89 Q1691.61 1017.89 1689.73 1016.06 Q1687.86 1014.21 1687.86 1009.35 L1687.86 995.273 L1684.73 995.273 L1684.73 991.963 L1687.86 991.963 L1687.86 984.602 L1692.14 984.602 Z\" fill=\"#000000\" fill-rule=\"evenodd\" fill-opacity=\"1\" /><path clip-path=\"url(#clip390)\" d=\"M 0 0 M1705.38 991.963 L1709.64 991.963 L1709.64 1017.89 L1705.38 1017.89 L1705.38 991.963 M1705.38 981.871 L1709.64 981.871 L1709.64 987.264 L1705.38 987.264 L1705.38 981.871 Z\" fill=\"#000000\" fill-rule=\"evenodd\" fill-opacity=\"1\" /><path clip-path=\"url(#clip390)\" d=\"M 0 0 M1724.15 994.949 Q1720.73 994.949 1718.74 997.635 Q1716.75 1000.3 1716.75 1004.95 Q1716.75 1009.6 1718.71 1012.29 Q1720.7 1014.95 1724.15 1014.95 Q1727.56 1014.95 1729.55 1012.26 Q1731.54 1009.58 1731.54 1004.95 Q1731.54 1000.34 1729.55 997.658 Q1727.56 994.949 1724.15 994.949 M1724.15 991.338 Q1729.71 991.338 1732.88 994.949 Q1736.05 998.56 1736.05 1004.95 Q1736.05 1011.32 1732.88 1014.95 Q1729.71 1018.56 1724.15 1018.56 Q1718.57 1018.56 1715.4 1014.95 Q1712.26 1011.32 1712.26 1004.95 Q1712.26 998.56 1715.4 994.949 Q1718.57 991.338 1724.15 991.338 Z\" fill=\"#000000\" fill-rule=\"evenodd\" fill-opacity=\"1\" /><path clip-path=\"url(#clip390)\" d=\"M 0 0 M1762.07 1002.24 L1762.07 1017.89 L1757.81 1017.89 L1757.81 1002.38 Q1757.81 998.699 1756.38 996.871 Q1754.94 995.042 1752.07 995.042 Q1748.62 995.042 1746.63 997.241 Q1744.64 999.44 1744.64 1003.24 L1744.64 1017.89 L1740.36 1017.89 L1740.36 991.963 L1744.64 991.963 L1744.64 995.991 Q1746.17 993.653 1748.23 992.496 Q1750.31 991.338 1753.02 991.338 Q1757.49 991.338 1759.78 994.116 Q1762.07 996.871 1762.07 1002.24 Z\" fill=\"#000000\" fill-rule=\"evenodd\" fill-opacity=\"1\" /><path clip-path=\"url(#clip390)\" d=\"M 0 0 M1783.07 992.727 L1783.07 996.755 Q1781.26 995.829 1779.32 995.366 Q1777.37 994.903 1775.29 994.903 Q1772.12 994.903 1770.52 995.875 Q1768.95 996.847 1768.95 998.792 Q1768.95 1000.27 1770.08 1001.13 Q1771.21 1001.96 1774.64 1002.73 L1776.1 1003.05 Q1780.63 1004.02 1782.53 1005.81 Q1784.45 1007.57 1784.45 1010.74 Q1784.45 1014.35 1781.58 1016.45 Q1778.74 1018.56 1773.74 1018.56 Q1771.65 1018.56 1769.38 1018.14 Q1767.14 1017.75 1764.64 1016.94 L1764.64 1012.54 Q1767 1013.77 1769.29 1014.39 Q1771.58 1015 1773.83 1015 Q1776.84 1015 1778.46 1013.98 Q1780.08 1012.94 1780.08 1011.06 Q1780.08 1009.32 1778.9 1008.4 Q1777.74 1007.47 1773.78 1006.62 L1772.3 1006.27 Q1768.34 1005.44 1766.58 1003.72 Q1764.82 1001.99 1764.82 998.977 Q1764.82 995.32 1767.42 993.329 Q1770.01 991.338 1774.78 991.338 Q1777.14 991.338 1779.22 991.685 Q1781.31 992.033 1783.07 992.727 Z\" fill=\"#000000\" fill-rule=\"evenodd\" fill-opacity=\"1\" /><path clip-path=\"url(#clip390)\" d=\"M 0 0 M1809.11 996.94 Q1810.7 994.07 1812.93 992.704 Q1815.15 991.338 1818.16 991.338 Q1822.21 991.338 1824.41 994.185 Q1826.61 997.01 1826.61 1002.24 L1826.61 1017.89 L1822.32 1017.89 L1822.32 1002.38 Q1822.32 998.653 1821 996.847 Q1819.69 995.042 1816.98 995.042 Q1813.67 995.042 1811.75 997.241 Q1809.82 999.44 1809.82 1003.24 L1809.82 1017.89 L1805.54 1017.89 L1805.54 1002.38 Q1805.54 998.63 1804.22 996.847 Q1802.9 995.042 1800.15 995.042 Q1796.88 995.042 1794.96 997.264 Q1793.04 999.463 1793.04 1003.24 L1793.04 1017.89 L1788.76 1017.89 L1788.76 991.963 L1793.04 991.963 L1793.04 995.991 Q1794.5 993.607 1796.54 992.473 Q1798.57 991.338 1801.38 991.338 Q1804.2 991.338 1806.17 992.773 Q1808.16 994.209 1809.11 996.94 Z\" fill=\"#000000\" fill-rule=\"evenodd\" fill-opacity=\"1\" /><path clip-path=\"url(#clip390)\" d=\"M 0 0 M1853.25 1003.86 L1853.25 1005.94 L1833.67 1005.94 Q1833.94 1010.34 1836.31 1012.66 Q1838.69 1014.95 1842.93 1014.95 Q1845.38 1014.95 1847.67 1014.35 Q1849.99 1013.75 1852.25 1012.54 L1852.25 1016.57 Q1849.96 1017.54 1847.56 1018.05 Q1845.15 1018.56 1842.67 1018.56 Q1836.47 1018.56 1832.83 1014.95 Q1829.22 1011.34 1829.22 1005.18 Q1829.22 998.815 1832.65 995.088 Q1836.1 991.338 1841.93 991.338 Q1847.16 991.338 1850.19 994.718 Q1853.25 998.074 1853.25 1003.86 M1848.99 1002.61 Q1848.94 999.116 1847.02 997.033 Q1845.13 994.949 1841.98 994.949 Q1838.41 994.949 1836.26 996.963 Q1834.13 998.977 1833.81 1002.63 L1848.99 1002.61 Z\" fill=\"#000000\" fill-rule=\"evenodd\" fill-opacity=\"1\" /><path clip-path=\"url(#clip390)\" d=\"M 0 0 M1879.27 1002.24 L1879.27 1017.89 L1875.01 1017.89 L1875.01 1002.38 Q1875.01 998.699 1873.57 996.871 Q1872.14 995.042 1869.27 995.042 Q1865.82 995.042 1863.83 997.241 Q1861.84 999.44 1861.84 1003.24 L1861.84 1017.89 L1857.56 1017.89 L1857.56 991.963 L1861.84 991.963 L1861.84 995.991 Q1863.37 993.653 1865.43 992.496 Q1867.51 991.338 1870.22 991.338 Q1874.69 991.338 1876.98 994.116 Q1879.27 996.871 1879.27 1002.24 Z\" fill=\"#000000\" fill-rule=\"evenodd\" fill-opacity=\"1\" /><path clip-path=\"url(#clip390)\" d=\"M 0 0 M1900.8 1004.63 Q1900.8 999.996 1898.87 997.449 Q1896.98 994.903 1893.53 994.903 Q1890.1 994.903 1888.18 997.449 Q1886.28 999.996 1886.28 1004.63 Q1886.28 1009.23 1888.18 1011.78 Q1890.1 1014.32 1893.53 1014.32 Q1896.98 1014.32 1898.87 1011.78 Q1900.8 1009.23 1900.8 1004.63 M1905.06 1014.67 Q1905.06 1021.29 1902.12 1024.51 Q1899.18 1027.75 1893.11 1027.75 Q1890.87 1027.75 1888.87 1027.4 Q1886.88 1027.08 1885.01 1026.38 L1885.01 1022.24 Q1886.88 1023.26 1888.71 1023.75 Q1890.54 1024.23 1892.44 1024.23 Q1896.63 1024.23 1898.71 1022.03 Q1900.8 1019.86 1900.8 1015.44 L1900.8 1013.33 Q1899.48 1015.62 1897.42 1016.75 Q1895.36 1017.89 1892.49 1017.89 Q1887.72 1017.89 1884.8 1014.25 Q1881.88 1010.62 1881.88 1004.63 Q1881.88 998.607 1884.8 994.973 Q1887.72 991.338 1892.49 991.338 Q1895.36 991.338 1897.42 992.473 Q1899.48 993.607 1900.8 995.898 L1900.8 991.963 L1905.06 991.963 L1905.06 1014.67 Z\" fill=\"#000000\" fill-rule=\"evenodd\" fill-opacity=\"1\" /><path clip-path=\"url(#clip390)\" d=\"M 0 0 M1931.7 1003.86 L1931.7 1005.94 L1912.12 1005.94 Q1912.39 1010.34 1914.75 1012.66 Q1917.14 1014.95 1921.37 1014.95 Q1923.83 1014.95 1926.12 1014.35 Q1928.43 1013.75 1930.7 1012.54 L1930.7 1016.57 Q1928.41 1017.54 1926 1018.05 Q1923.6 1018.56 1921.12 1018.56 Q1914.92 1018.56 1911.28 1014.95 Q1907.67 1011.34 1907.67 1005.18 Q1907.67 998.815 1911.1 995.088 Q1914.55 991.338 1920.38 991.338 Q1925.61 991.338 1928.64 994.718 Q1931.7 998.074 1931.7 1003.86 M1927.44 1002.61 Q1927.39 999.116 1925.47 997.033 Q1923.57 994.949 1920.43 994.949 Q1916.86 994.949 1914.71 996.963 Q1912.58 998.977 1912.25 1002.63 L1927.44 1002.61 Z\" fill=\"#000000\" fill-rule=\"evenodd\" fill-opacity=\"1\" /><path clip-path=\"url(#clip390)\" d=\"\n",
       "M1466.11 1085.28 L1527.97 1085.28 L1527.97 1036.9 L1466.11 1036.9 L1466.11 1085.28  Z\n",
       "  \" fill=\"#cd0000\" fill-rule=\"evenodd\" fill-opacity=\"1\"/>\n",
       "<polyline clip-path=\"url(#clip390)\" style=\"stroke:#000000; stroke-width:4; stroke-opacity:1; fill:none\" points=\"\n",
       "  1466.11,1085.28 1527.97,1085.28 1527.97,1036.9 1466.11,1036.9 1466.11,1085.28 \n",
       "  \"/>\n",
       "<path clip-path=\"url(#clip390)\" d=\"M 0 0 M1538.27 1043.81 L1544.57 1043.81 L1559.9 1072.72 L1559.9 1043.81 L1564.43 1043.81 L1564.43 1078.37 L1558.14 1078.37 L1542.81 1049.46 L1542.81 1078.37 L1538.27 1078.37 L1538.27 1043.81 Z\" fill=\"#000000\" fill-rule=\"evenodd\" fill-opacity=\"1\" /><path clip-path=\"url(#clip390)\" d=\"M 0 0 M1580.68 1065.34 Q1575.52 1065.34 1573.53 1066.52 Q1571.54 1067.7 1571.54 1070.55 Q1571.54 1072.81 1573.02 1074.16 Q1574.52 1075.48 1577.09 1075.48 Q1580.64 1075.48 1582.77 1072.98 Q1584.92 1070.45 1584.92 1066.29 L1584.92 1065.34 L1580.68 1065.34 M1589.18 1063.58 L1589.18 1078.37 L1584.92 1078.37 L1584.92 1074.43 Q1583.46 1076.79 1581.28 1077.93 Q1579.11 1079.04 1575.96 1079.04 Q1571.98 1079.04 1569.62 1076.82 Q1567.28 1074.57 1567.28 1070.82 Q1567.28 1066.45 1570.2 1064.23 Q1573.14 1062 1578.95 1062 L1584.92 1062 L1584.92 1061.59 Q1584.92 1058.65 1582.97 1057.05 Q1581.05 1055.43 1577.56 1055.43 Q1575.33 1055.43 1573.23 1055.96 Q1571.12 1056.49 1569.18 1057.56 L1569.18 1053.62 Q1571.52 1052.72 1573.71 1052.28 Q1575.91 1051.82 1578 1051.82 Q1583.62 1051.82 1586.4 1054.73 Q1589.18 1057.65 1589.18 1063.58 Z\" fill=\"#000000\" fill-rule=\"evenodd\" fill-opacity=\"1\" /><path clip-path=\"url(#clip390)\" d=\"M 0 0 M1612.3 1053.44 L1612.3 1057.42 Q1610.5 1056.42 1608.67 1055.94 Q1606.86 1055.43 1605.01 1055.43 Q1600.87 1055.43 1598.58 1058.07 Q1596.28 1060.68 1596.28 1065.43 Q1596.28 1070.17 1598.58 1072.81 Q1600.87 1075.43 1605.01 1075.43 Q1606.86 1075.43 1608.67 1074.94 Q1610.5 1074.43 1612.3 1073.44 L1612.3 1077.37 Q1610.52 1078.21 1608.6 1078.62 Q1606.7 1079.04 1604.55 1079.04 Q1598.69 1079.04 1595.24 1075.36 Q1591.79 1071.68 1591.79 1065.43 Q1591.79 1059.09 1595.27 1055.45 Q1598.76 1051.82 1604.83 1051.82 Q1606.79 1051.82 1608.67 1052.23 Q1610.54 1052.63 1612.3 1053.44 Z\" fill=\"#000000\" fill-rule=\"evenodd\" fill-opacity=\"1\" /><path clip-path=\"url(#clip390)\" d=\"M 0 0 M1638.32 1062.72 L1638.32 1078.37 L1634.06 1078.37 L1634.06 1062.86 Q1634.06 1059.18 1632.63 1057.35 Q1631.19 1055.52 1628.32 1055.52 Q1624.87 1055.52 1622.88 1057.72 Q1620.89 1059.92 1620.89 1063.72 L1620.89 1078.37 L1616.61 1078.37 L1616.61 1042.35 L1620.89 1042.35 L1620.89 1056.47 Q1622.42 1054.13 1624.48 1052.98 Q1626.56 1051.82 1629.27 1051.82 Q1633.74 1051.82 1636.03 1054.6 Q1638.32 1057.35 1638.32 1062.72 Z\" fill=\"#000000\" fill-rule=\"evenodd\" fill-opacity=\"1\" /><path clip-path=\"url(#clip390)\" d=\"M 0 0 M1655.91 1042.35 L1655.91 1045.89 L1651.84 1045.89 Q1649.55 1045.89 1648.64 1046.82 Q1647.77 1047.74 1647.77 1050.15 L1647.77 1052.44 L1654.78 1052.44 L1654.78 1055.75 L1647.77 1055.75 L1647.77 1078.37 L1643.48 1078.37 L1643.48 1055.75 L1639.41 1055.75 L1639.41 1052.44 L1643.48 1052.44 L1643.48 1050.64 Q1643.48 1046.31 1645.5 1044.34 Q1647.51 1042.35 1651.89 1042.35 L1655.91 1042.35 Z\" fill=\"#000000\" fill-rule=\"evenodd\" fill-opacity=\"1\" /><path clip-path=\"url(#clip390)\" d=\"M 0 0 M1675.4 1056.42 Q1674.69 1056.01 1673.83 1055.82 Q1673 1055.61 1671.98 1055.61 Q1668.37 1055.61 1666.42 1057.98 Q1664.5 1060.31 1664.5 1064.71 L1664.5 1078.37 L1660.22 1078.37 L1660.22 1052.44 L1664.5 1052.44 L1664.5 1056.47 Q1665.84 1054.11 1668 1052.98 Q1670.15 1051.82 1673.23 1051.82 Q1673.67 1051.82 1674.2 1051.89 Q1674.73 1051.93 1675.38 1052.05 L1675.4 1056.42 Z\" fill=\"#000000\" fill-rule=\"evenodd\" fill-opacity=\"1\" /><path clip-path=\"url(#clip390)\" d=\"M 0 0 M1691.65 1065.34 Q1686.49 1065.34 1684.5 1066.52 Q1682.51 1067.7 1682.51 1070.55 Q1682.51 1072.81 1683.99 1074.16 Q1685.5 1075.48 1688.07 1075.48 Q1691.61 1075.48 1693.74 1072.98 Q1695.89 1070.45 1695.89 1066.29 L1695.89 1065.34 L1691.65 1065.34 M1700.15 1063.58 L1700.15 1078.37 L1695.89 1078.37 L1695.89 1074.43 Q1694.43 1076.79 1692.26 1077.93 Q1690.08 1079.04 1686.93 1079.04 Q1682.95 1079.04 1680.59 1076.82 Q1678.25 1074.57 1678.25 1070.82 Q1678.25 1066.45 1681.17 1064.23 Q1684.11 1062 1689.92 1062 L1695.89 1062 L1695.89 1061.59 Q1695.89 1058.65 1693.95 1057.05 Q1692.02 1055.43 1688.53 1055.43 Q1686.31 1055.43 1684.2 1055.96 Q1682.09 1056.49 1680.15 1057.56 L1680.15 1053.62 Q1682.49 1052.72 1684.69 1052.28 Q1686.89 1051.82 1688.97 1051.82 Q1694.59 1051.82 1697.37 1054.73 Q1700.15 1057.65 1700.15 1063.58 Z\" fill=\"#000000\" fill-rule=\"evenodd\" fill-opacity=\"1\" /><path clip-path=\"url(#clip390)\" d=\"M 0 0 M1721.68 1065.11 Q1721.68 1060.48 1719.76 1057.93 Q1717.86 1055.38 1714.41 1055.38 Q1710.98 1055.38 1709.06 1057.93 Q1707.16 1060.48 1707.16 1065.11 Q1707.16 1069.71 1709.06 1072.26 Q1710.98 1074.8 1714.41 1074.8 Q1717.86 1074.8 1719.76 1072.26 Q1721.68 1069.71 1721.68 1065.11 M1725.94 1075.15 Q1725.94 1081.77 1723 1084.99 Q1720.06 1088.23 1713.99 1088.23 Q1711.75 1088.23 1709.76 1087.88 Q1707.76 1087.56 1705.89 1086.86 L1705.89 1082.72 Q1707.76 1083.74 1709.59 1084.23 Q1711.42 1084.71 1713.32 1084.71 Q1717.51 1084.71 1719.59 1082.51 Q1721.68 1080.34 1721.68 1075.92 L1721.68 1073.81 Q1720.36 1076.1 1718.3 1077.23 Q1716.24 1078.37 1713.37 1078.37 Q1708.6 1078.37 1705.68 1074.73 Q1702.76 1071.1 1702.76 1065.11 Q1702.76 1059.09 1705.68 1055.45 Q1708.6 1051.82 1713.37 1051.82 Q1716.24 1051.82 1718.3 1052.95 Q1720.36 1054.09 1721.68 1056.38 L1721.68 1052.44 L1725.94 1052.44 L1725.94 1075.15 Z\" fill=\"#000000\" fill-rule=\"evenodd\" fill-opacity=\"1\" /><path clip-path=\"url(#clip390)\" d=\"M 0 0 M1752.58 1064.34 L1752.58 1066.42 L1733 1066.42 Q1733.27 1070.82 1735.64 1073.14 Q1738.02 1075.43 1742.26 1075.43 Q1744.71 1075.43 1747 1074.83 Q1749.32 1074.23 1751.58 1073.02 L1751.58 1077.05 Q1749.29 1078.02 1746.88 1078.53 Q1744.48 1079.04 1742 1079.04 Q1735.8 1079.04 1732.16 1075.43 Q1728.55 1071.82 1728.55 1065.66 Q1728.55 1059.3 1731.98 1055.57 Q1735.43 1051.82 1741.26 1051.82 Q1746.49 1051.82 1749.52 1055.2 Q1752.58 1058.55 1752.58 1064.34 M1748.32 1063.09 Q1748.27 1059.6 1746.35 1057.51 Q1744.45 1055.43 1741.31 1055.43 Q1737.74 1055.43 1735.59 1057.44 Q1733.46 1059.46 1733.14 1063.11 L1748.32 1063.09 Z\" fill=\"#000000\" fill-rule=\"evenodd\" fill-opacity=\"1\" /><path clip-path=\"url(#clip390)\" d=\"\n",
       "M1466.11 1145.76 L1527.97 1145.76 L1527.97 1097.38 L1466.11 1097.38 L1466.11 1145.76  Z\n",
       "  \" fill=\"#ffa500\" fill-rule=\"evenodd\" fill-opacity=\"1\"/>\n",
       "<polyline clip-path=\"url(#clip390)\" style=\"stroke:#000000; stroke-width:4; stroke-opacity:1; fill:none\" points=\"\n",
       "  1466.11,1145.76 1527.97,1145.76 1527.97,1097.38 1466.11,1097.38 1466.11,1145.76 \n",
       "  \"/>\n",
       "<path clip-path=\"url(#clip390)\" d=\"M 0 0 M1538.27 1104.29 L1542.95 1104.29 L1542.95 1134.91 L1559.78 1134.91 L1559.78 1138.85 L1538.27 1138.85 L1538.27 1104.29 Z\" fill=\"#000000\" fill-rule=\"evenodd\" fill-opacity=\"1\" /><path clip-path=\"url(#clip390)\" d=\"M 0 0 M1576.03 1125.82 Q1570.87 1125.82 1568.88 1127 Q1566.89 1128.18 1566.89 1131.03 Q1566.89 1133.29 1568.37 1134.64 Q1569.87 1135.96 1572.44 1135.96 Q1575.98 1135.96 1578.11 1133.46 Q1580.27 1130.93 1580.27 1126.77 L1580.27 1125.82 L1576.03 1125.82 M1584.52 1124.06 L1584.52 1138.85 L1580.27 1138.85 L1580.27 1134.91 Q1578.81 1137.27 1576.63 1138.41 Q1574.46 1139.52 1571.31 1139.52 Q1567.33 1139.52 1564.96 1137.3 Q1562.63 1135.05 1562.63 1131.3 Q1562.63 1126.93 1565.54 1124.71 Q1568.48 1122.48 1574.29 1122.48 L1580.27 1122.48 L1580.27 1122.07 Q1580.27 1119.13 1578.32 1117.53 Q1576.4 1115.91 1572.9 1115.91 Q1570.68 1115.91 1568.58 1116.44 Q1566.47 1116.97 1564.52 1118.04 L1564.52 1114.1 Q1566.86 1113.2 1569.06 1112.76 Q1571.26 1112.3 1573.34 1112.3 Q1578.97 1112.3 1581.75 1115.21 Q1584.52 1118.13 1584.52 1124.06 Z\" fill=\"#000000\" fill-rule=\"evenodd\" fill-opacity=\"1\" /><path clip-path=\"url(#clip390)\" d=\"M 0 0 M1606.05 1125.59 Q1606.05 1120.96 1604.13 1118.41 Q1602.23 1115.86 1598.78 1115.86 Q1595.36 1115.86 1593.44 1118.41 Q1591.54 1120.96 1591.54 1125.59 Q1591.54 1130.19 1593.44 1132.74 Q1595.36 1135.28 1598.78 1135.28 Q1602.23 1135.28 1604.13 1132.74 Q1606.05 1130.19 1606.05 1125.59 M1610.31 1135.63 Q1610.31 1142.25 1607.37 1145.47 Q1604.43 1148.71 1598.37 1148.71 Q1596.12 1148.71 1594.13 1148.36 Q1592.14 1148.04 1590.27 1147.34 L1590.27 1143.2 Q1592.14 1144.22 1593.97 1144.71 Q1595.8 1145.19 1597.7 1145.19 Q1601.89 1145.19 1603.97 1142.99 Q1606.05 1140.82 1606.05 1136.4 L1606.05 1134.29 Q1604.73 1136.58 1602.67 1137.71 Q1600.61 1138.85 1597.74 1138.85 Q1592.97 1138.85 1590.06 1135.21 Q1587.14 1131.58 1587.14 1125.59 Q1587.14 1119.57 1590.06 1115.93 Q1592.97 1112.3 1597.74 1112.3 Q1600.61 1112.3 1602.67 1113.43 Q1604.73 1114.57 1606.05 1116.86 L1606.05 1112.92 L1610.31 1112.92 L1610.31 1135.63 Z\" fill=\"#000000\" fill-rule=\"evenodd\" fill-opacity=\"1\" /><path clip-path=\"url(#clip390)\" d=\"M 0 0 M1636.96 1124.82 L1636.96 1126.9 L1617.37 1126.9 Q1617.65 1131.3 1620.01 1133.62 Q1622.39 1135.91 1626.63 1135.91 Q1629.08 1135.91 1631.38 1135.31 Q1633.69 1134.71 1635.96 1133.5 L1635.96 1137.53 Q1633.67 1138.5 1631.26 1139.01 Q1628.85 1139.52 1626.38 1139.52 Q1620.17 1139.52 1616.54 1135.91 Q1612.93 1132.3 1612.93 1126.14 Q1612.93 1119.78 1616.35 1116.05 Q1619.8 1112.3 1625.64 1112.3 Q1630.87 1112.3 1633.9 1115.68 Q1636.96 1119.03 1636.96 1124.82 M1632.7 1123.57 Q1632.65 1120.08 1630.73 1117.99 Q1628.83 1115.91 1625.68 1115.91 Q1622.12 1115.91 1619.96 1117.92 Q1617.83 1119.94 1617.51 1123.59 L1632.7 1123.57 Z\" fill=\"#000000\" fill-rule=\"evenodd\" fill-opacity=\"1\" /><path clip-path=\"url(#clip390)\" d=\"M 0 0 M1656.45 1116.9 Q1655.73 1116.49 1654.87 1116.3 Q1654.04 1116.09 1653.02 1116.09 Q1649.41 1116.09 1647.46 1118.46 Q1645.54 1120.79 1645.54 1125.19 L1645.54 1138.85 L1641.26 1138.85 L1641.26 1112.92 L1645.54 1112.92 L1645.54 1116.95 Q1646.89 1114.59 1649.04 1113.46 Q1651.19 1112.3 1654.27 1112.3 Q1654.71 1112.3 1655.24 1112.37 Q1655.77 1112.41 1656.42 1112.53 L1656.45 1116.9 Z\" fill=\"#000000\" fill-rule=\"evenodd\" fill-opacity=\"1\" /><path clip-path=\"url(#clip390)\" d=\"M 0 0 M1679.52 1125.91 Q1679.52 1121.21 1677.58 1118.55 Q1675.66 1115.86 1672.28 1115.86 Q1668.9 1115.86 1666.95 1118.55 Q1665.03 1121.21 1665.03 1125.91 Q1665.03 1130.61 1666.95 1133.29 Q1668.9 1135.96 1672.28 1135.96 Q1675.66 1135.96 1677.58 1133.29 Q1679.52 1130.61 1679.52 1125.91 M1665.03 1116.86 Q1666.38 1114.54 1668.41 1113.43 Q1670.47 1112.3 1673.32 1112.3 Q1678.04 1112.3 1680.98 1116.05 Q1683.95 1119.8 1683.95 1125.91 Q1683.95 1132.02 1680.98 1135.77 Q1678.04 1139.52 1673.32 1139.52 Q1670.47 1139.52 1668.41 1138.41 Q1666.38 1137.27 1665.03 1134.96 L1665.03 1138.85 L1660.75 1138.85 L1660.75 1102.83 L1665.03 1102.83 L1665.03 1116.86 Z\" fill=\"#000000\" fill-rule=\"evenodd\" fill-opacity=\"1\" /><path clip-path=\"url(#clip390)\" d=\"M 0 0 M1710.59 1124.82 L1710.59 1126.9 L1691.01 1126.9 Q1691.28 1131.3 1693.64 1133.62 Q1696.03 1135.91 1700.26 1135.91 Q1702.72 1135.91 1705.01 1135.31 Q1707.32 1134.71 1709.59 1133.5 L1709.59 1137.53 Q1707.3 1138.5 1704.89 1139.01 Q1702.49 1139.52 1700.01 1139.52 Q1693.81 1139.52 1690.17 1135.91 Q1686.56 1132.3 1686.56 1126.14 Q1686.56 1119.78 1689.99 1116.05 Q1693.44 1112.3 1699.27 1112.3 Q1704.5 1112.3 1707.53 1115.68 Q1710.59 1119.03 1710.59 1124.82 M1706.33 1123.57 Q1706.28 1120.08 1704.36 1117.99 Q1702.46 1115.91 1699.32 1115.91 Q1695.75 1115.91 1693.6 1117.92 Q1691.47 1119.94 1691.14 1123.59 L1706.33 1123.57 Z\" fill=\"#000000\" fill-rule=\"evenodd\" fill-opacity=\"1\" /><path clip-path=\"url(#clip390)\" d=\"M 0 0 M1731.58 1113.69 L1731.58 1117.71 Q1729.78 1116.79 1727.83 1116.33 Q1725.89 1115.86 1723.81 1115.86 Q1720.64 1115.86 1719.04 1116.84 Q1717.46 1117.81 1717.46 1119.75 Q1717.46 1121.23 1718.6 1122.09 Q1719.73 1122.92 1723.16 1123.69 L1724.62 1124.01 Q1729.15 1124.98 1731.05 1126.77 Q1732.97 1128.53 1732.97 1131.7 Q1732.97 1135.31 1730.1 1137.41 Q1727.26 1139.52 1722.26 1139.52 Q1720.17 1139.52 1717.9 1139.1 Q1715.66 1138.71 1713.16 1137.9 L1713.16 1133.5 Q1715.52 1134.73 1717.81 1135.35 Q1720.1 1135.96 1722.35 1135.96 Q1725.36 1135.96 1726.98 1134.94 Q1728.6 1133.9 1728.6 1132.02 Q1728.6 1130.28 1727.42 1129.36 Q1726.26 1128.43 1722.3 1127.58 L1720.82 1127.23 Q1716.86 1126.4 1715.1 1124.68 Q1713.34 1122.95 1713.34 1119.94 Q1713.34 1116.28 1715.94 1114.29 Q1718.53 1112.3 1723.3 1112.3 Q1725.66 1112.3 1727.74 1112.65 Q1729.82 1112.99 1731.58 1113.69 Z\" fill=\"#000000\" fill-rule=\"evenodd\" fill-opacity=\"1\" /><path clip-path=\"url(#clip390)\" d=\"M 0 0 M1741.65 1105.56 L1741.65 1112.92 L1750.43 1112.92 L1750.43 1116.23 L1741.65 1116.23 L1741.65 1130.31 Q1741.65 1133.48 1742.51 1134.38 Q1743.39 1135.28 1746.05 1135.28 L1750.43 1135.28 L1750.43 1138.85 L1746.05 1138.85 Q1741.12 1138.85 1739.25 1137.02 Q1737.37 1135.17 1737.37 1130.31 L1737.37 1116.23 L1734.25 1116.23 L1734.25 1112.92 L1737.37 1112.92 L1737.37 1105.56 L1741.65 1105.56 Z\" fill=\"#000000\" fill-rule=\"evenodd\" fill-opacity=\"1\" /><path clip-path=\"url(#clip390)\" d=\"M 0 0 M1766.68 1125.82 Q1761.51 1125.82 1759.52 1127 Q1757.53 1128.18 1757.53 1131.03 Q1757.53 1133.29 1759.01 1134.64 Q1760.52 1135.96 1763.09 1135.96 Q1766.63 1135.96 1768.76 1133.46 Q1770.91 1130.93 1770.91 1126.77 L1770.91 1125.82 L1766.68 1125.82 M1775.17 1124.06 L1775.17 1138.85 L1770.91 1138.85 L1770.91 1134.91 Q1769.45 1137.27 1767.28 1138.41 Q1765.1 1139.52 1761.95 1139.52 Q1757.97 1139.52 1755.61 1137.3 Q1753.27 1135.05 1753.27 1131.3 Q1753.27 1126.93 1756.19 1124.71 Q1759.13 1122.48 1764.94 1122.48 L1770.91 1122.48 L1770.91 1122.07 Q1770.91 1119.13 1768.97 1117.53 Q1767.05 1115.91 1763.55 1115.91 Q1761.33 1115.91 1759.22 1116.44 Q1757.12 1116.97 1755.17 1118.04 L1755.17 1114.1 Q1757.51 1113.2 1759.71 1112.76 Q1761.91 1112.3 1763.99 1112.3 Q1769.62 1112.3 1772.39 1115.21 Q1775.17 1118.13 1775.17 1124.06 Z\" fill=\"#000000\" fill-rule=\"evenodd\" fill-opacity=\"1\" /><path clip-path=\"url(#clip390)\" d=\"M 0 0 M1801.19 1123.2 L1801.19 1138.85 L1796.93 1138.85 L1796.93 1123.34 Q1796.93 1119.66 1795.5 1117.83 Q1794.06 1116 1791.19 1116 Q1787.74 1116 1785.75 1118.2 Q1783.76 1120.4 1783.76 1124.2 L1783.76 1138.85 L1779.48 1138.85 L1779.48 1112.92 L1783.76 1112.92 L1783.76 1116.95 Q1785.29 1114.61 1787.35 1113.46 Q1789.43 1112.3 1792.14 1112.3 Q1796.61 1112.3 1798.9 1115.08 Q1801.19 1117.83 1801.19 1123.2 Z\" fill=\"#000000\" fill-rule=\"evenodd\" fill-opacity=\"1\" /><path clip-path=\"url(#clip390)\" d=\"M 0 0 M1822.72 1116.86 L1822.72 1102.83 L1826.98 1102.83 L1826.98 1138.85 L1822.72 1138.85 L1822.72 1134.96 Q1821.38 1137.27 1819.32 1138.41 Q1817.28 1139.52 1814.41 1139.52 Q1809.71 1139.52 1806.75 1135.77 Q1803.81 1132.02 1803.81 1125.91 Q1803.81 1119.8 1806.75 1116.05 Q1809.71 1112.3 1814.41 1112.3 Q1817.28 1112.3 1819.32 1113.43 Q1821.38 1114.54 1822.72 1116.86 M1808.2 1125.91 Q1808.2 1130.61 1810.13 1133.29 Q1812.07 1135.96 1815.45 1135.96 Q1818.83 1135.96 1820.77 1133.29 Q1822.72 1130.61 1822.72 1125.91 Q1822.72 1121.21 1820.77 1118.55 Q1818.83 1115.86 1815.45 1115.86 Q1812.07 1115.86 1810.13 1118.55 Q1808.2 1121.21 1808.2 1125.91 Z\" fill=\"#000000\" fill-rule=\"evenodd\" fill-opacity=\"1\" /></svg>\n"
      ]
     },
     "execution_count": 44,
     "metadata": {},
     "output_type": "execute_result"
    }
   ],
   "source": [
    "p1 = groupedbar(bardata[:,:,1], label=[\"Produktionsmenge\" \"Nachfrage\" \"Lagerbestand\"],legend=:none, \n",
    "                colour = [:DeepSkyBlue4 :Red3 :orange], title = \"Produkt 1\", xlabel = \"Periode\", \n",
    "                ylabel=\"Menge\", ylim=(0, 125))\n",
    "p2 = groupedbar(bardata[:,:,2], label=[\"Produktionsmenge\" \"Nachfrage\" \"Lagerbestand\"], legend=:none,\n",
    "                colour = [:DeepSkyBlue4 :Red3 :orange], title = \"Produkt 2\", xlabel = \"Periode\", \n",
    "                ylabel=\"Menge\", ylim=(0, 125))\n",
    "p3 = groupedbar(bardata[:,:,3], label=[\"Produktionsmenge\" \"Nachfrage\" \"Lagerbestand\"], legend=:none,\n",
    "                colour = [:DeepSkyBlue4 :Red3 :orange], title = \"Produkt 3\", xlabel = \"Periode\", \n",
    "                ylabel=\"Menge\", ylim=(0, 125))\n",
    "p4 = groupedbar(bardata[:,:,1,1], label=[\"Produktionsmenge\" \"Nachfrage\" \"Lagerbestand\"],legend=:topleft,\n",
    "                colour = [:DeepSkyBlue4 :Red3 :orange], grid=false, xlims=(20,3), showaxis=false)\n",
    "plot(p1, p2, p3, p4, layout = 4)\n"
   ]
  },
  {
   "cell_type": "markdown",
   "metadata": {
    "slideshow": {
     "slide_type": "slide"
    }
   },
   "source": [
    "Stellen Sie die Rüstvariable für die drei Produkte grafisch dar."
   ]
  },
  {
   "cell_type": "code",
   "execution_count": 45,
   "metadata": {},
   "outputs": [
    {
     "data": {
      "text/plain": [
       "4×3 LinearAlgebra.Adjoint{Float64,Array{Float64,2}}:\n",
       " 1.0  0.0  1.0\n",
       " 0.0  1.0  1.0\n",
       " 1.0  1.0  0.0\n",
       " 1.0  0.0  1.0"
      ]
     },
     "execution_count": 45,
     "metadata": {},
     "output_type": "execute_result"
    }
   ],
   "source": [
    "bardataGamma = [JuMP.value(gamma[i,t]) for i in 1:I, t in 1:T]'"
   ]
  },
  {
   "cell_type": "code",
   "execution_count": 46,
   "metadata": {
    "scrolled": false,
    "slideshow": {
     "slide_type": "fragment"
    }
   },
   "outputs": [
    {
     "data": {
      "image/svg+xml": [
       "<?xml version=\"1.0\" encoding=\"utf-8\"?>\n",
       "<svg xmlns=\"http://www.w3.org/2000/svg\" xmlns:xlink=\"http://www.w3.org/1999/xlink\" width=\"600\" height=\"400\" viewBox=\"0 0 2400 1600\">\n",
       "<defs>\n",
       "  <clipPath id=\"clip430\">\n",
       "    <rect x=\"0\" y=\"0\" width=\"2400\" height=\"1600\"/>\n",
       "  </clipPath>\n",
       "</defs>\n",
       "<path clip-path=\"url(#clip430)\" d=\"\n",
       "M0 1600 L2400 1600 L2400 0 L0 0  Z\n",
       "  \" fill=\"#ffffff\" fill-rule=\"evenodd\" fill-opacity=\"1\"/>\n",
       "<defs>\n",
       "  <clipPath id=\"clip431\">\n",
       "    <rect x=\"480\" y=\"0\" width=\"1681\" height=\"1600\"/>\n",
       "  </clipPath>\n",
       "</defs>\n",
       "<path clip-path=\"url(#clip430)\" d=\"\n",
       "M211.116 1423.18 L2352.76 1423.18 L2352.76 123.472 L211.116 123.472  Z\n",
       "  \" fill=\"#ffffff\" fill-rule=\"evenodd\" fill-opacity=\"1\"/>\n",
       "<defs>\n",
       "  <clipPath id=\"clip432\">\n",
       "    <rect x=\"211\" y=\"123\" width=\"2143\" height=\"1301\"/>\n",
       "  </clipPath>\n",
       "</defs>\n",
       "<polyline clip-path=\"url(#clip432)\" style=\"stroke:#000000; stroke-width:2; stroke-opacity:0.1; fill:none\" points=\"\n",
       "  523.522,1423.18 523.522,123.472 \n",
       "  \"/>\n",
       "<polyline clip-path=\"url(#clip432)\" style=\"stroke:#000000; stroke-width:2; stroke-opacity:0.1; fill:none\" points=\"\n",
       "  1029.13,1423.18 1029.13,123.472 \n",
       "  \"/>\n",
       "<polyline clip-path=\"url(#clip432)\" style=\"stroke:#000000; stroke-width:2; stroke-opacity:0.1; fill:none\" points=\"\n",
       "  1534.74,1423.18 1534.74,123.472 \n",
       "  \"/>\n",
       "<polyline clip-path=\"url(#clip432)\" style=\"stroke:#000000; stroke-width:2; stroke-opacity:0.1; fill:none\" points=\"\n",
       "  2040.35,1423.18 2040.35,123.472 \n",
       "  \"/>\n",
       "<polyline clip-path=\"url(#clip430)\" style=\"stroke:#000000; stroke-width:4; stroke-opacity:1; fill:none\" points=\"\n",
       "  211.116,1423.18 2352.76,1423.18 \n",
       "  \"/>\n",
       "<polyline clip-path=\"url(#clip430)\" style=\"stroke:#000000; stroke-width:4; stroke-opacity:1; fill:none\" points=\"\n",
       "  523.522,1423.18 523.522,1407.58 \n",
       "  \"/>\n",
       "<polyline clip-path=\"url(#clip430)\" style=\"stroke:#000000; stroke-width:4; stroke-opacity:1; fill:none\" points=\"\n",
       "  1029.13,1423.18 1029.13,1407.58 \n",
       "  \"/>\n",
       "<polyline clip-path=\"url(#clip430)\" style=\"stroke:#000000; stroke-width:4; stroke-opacity:1; fill:none\" points=\"\n",
       "  1534.74,1423.18 1534.74,1407.58 \n",
       "  \"/>\n",
       "<polyline clip-path=\"url(#clip430)\" style=\"stroke:#000000; stroke-width:4; stroke-opacity:1; fill:none\" points=\"\n",
       "  2040.35,1423.18 2040.35,1407.58 \n",
       "  \"/>\n",
       "<path clip-path=\"url(#clip430)\" d=\"M 0 0 M513.904 1479.92 L521.543 1479.92 L521.543 1453.55 L513.233 1455.22 L513.233 1450.96 L521.497 1449.29 L526.173 1449.29 L526.173 1479.92 L533.811 1479.92 L533.811 1483.85 L513.904 1483.85 L513.904 1479.92 Z\" fill=\"#000000\" fill-rule=\"evenodd\" fill-opacity=\"1\" /><path clip-path=\"url(#clip430)\" d=\"M 0 0 M1023.78 1479.92 L1040.1 1479.92 L1040.1 1483.85 L1018.16 1483.85 L1018.16 1479.92 Q1020.82 1477.16 1025.4 1472.53 Q1030.01 1467.88 1031.19 1466.54 Q1033.44 1464.01 1034.32 1462.28 Q1035.22 1460.52 1035.22 1458.83 Q1035.22 1456.07 1033.27 1454.34 Q1031.35 1452.6 1028.25 1452.6 Q1026.05 1452.6 1023.6 1453.37 Q1021.17 1454.13 1018.39 1455.68 L1018.39 1450.96 Q1021.21 1449.82 1023.67 1449.25 Q1026.12 1448.67 1028.16 1448.67 Q1033.53 1448.67 1036.72 1451.35 Q1039.92 1454.04 1039.92 1458.53 Q1039.92 1460.66 1039.11 1462.58 Q1038.32 1464.48 1036.21 1467.07 Q1035.64 1467.74 1032.53 1470.96 Q1029.43 1474.15 1023.78 1479.92 Z\" fill=\"#000000\" fill-rule=\"evenodd\" fill-opacity=\"1\" /><path clip-path=\"url(#clip430)\" d=\"M 0 0 M1538.99 1465.22 Q1542.34 1465.94 1544.22 1468.2 Q1546.12 1470.47 1546.12 1473.81 Q1546.12 1478.92 1542.6 1481.72 Q1539.08 1484.52 1532.6 1484.52 Q1530.42 1484.52 1528.11 1484.08 Q1525.82 1483.67 1523.36 1482.81 L1523.36 1478.3 Q1525.31 1479.43 1527.62 1480.01 Q1529.94 1480.59 1532.46 1480.59 Q1536.86 1480.59 1539.15 1478.85 Q1541.47 1477.12 1541.47 1473.81 Q1541.47 1470.75 1539.31 1469.04 Q1537.18 1467.3 1533.36 1467.3 L1529.34 1467.3 L1529.34 1463.46 L1533.55 1463.46 Q1537 1463.46 1538.83 1462.09 Q1540.66 1460.7 1540.66 1458.11 Q1540.66 1455.45 1538.76 1454.04 Q1536.88 1452.6 1533.36 1452.6 Q1531.44 1452.6 1529.24 1453.02 Q1527.04 1453.44 1524.41 1454.31 L1524.41 1450.15 Q1527.07 1449.41 1529.38 1449.04 Q1531.72 1448.67 1533.78 1448.67 Q1539.1 1448.67 1542.21 1451.1 Q1545.31 1453.5 1545.31 1457.63 Q1545.31 1460.5 1543.66 1462.49 Q1542.02 1464.45 1538.99 1465.22 Z\" fill=\"#000000\" fill-rule=\"evenodd\" fill-opacity=\"1\" /><path clip-path=\"url(#clip430)\" d=\"M 0 0 M2043.36 1453.37 L2031.55 1471.81 L2043.36 1471.81 L2043.36 1453.37 M2042.13 1449.29 L2048.01 1449.29 L2048.01 1471.81 L2052.94 1471.81 L2052.94 1475.7 L2048.01 1475.7 L2048.01 1483.85 L2043.36 1483.85 L2043.36 1475.7 L2027.76 1475.7 L2027.76 1471.19 L2042.13 1449.29 Z\" fill=\"#000000\" fill-rule=\"evenodd\" fill-opacity=\"1\" /><path clip-path=\"url(#clip430)\" d=\"M 0 0 M1182.27 1513.81 L1182.27 1531.66 L1190.35 1531.66 Q1194.84 1531.66 1197.29 1529.34 Q1199.74 1527.02 1199.74 1522.72 Q1199.74 1518.45 1197.29 1516.13 Q1194.84 1513.81 1190.35 1513.81 L1182.27 1513.81 M1175.84 1508.52 L1190.35 1508.52 Q1198.34 1508.52 1202.41 1512.15 Q1206.52 1515.75 1206.52 1522.72 Q1206.52 1529.75 1202.41 1533.35 Q1198.34 1536.95 1190.35 1536.95 L1182.27 1536.95 L1182.27 1556.04 L1175.84 1556.04 L1175.84 1508.52 Z\" fill=\"#000000\" fill-rule=\"evenodd\" fill-opacity=\"1\" /><path clip-path=\"url(#clip430)\" d=\"M 0 0 M1240.83 1536.76 L1240.83 1539.62 L1213.9 1539.62 Q1214.28 1545.67 1217.53 1548.85 Q1220.81 1552 1226.63 1552 Q1230.01 1552 1233.16 1551.17 Q1236.34 1550.35 1239.46 1548.69 L1239.46 1554.23 Q1236.31 1555.57 1233 1556.27 Q1229.69 1556.97 1226.28 1556.97 Q1217.75 1556.97 1212.76 1552 Q1207.79 1547.04 1207.79 1538.57 Q1207.79 1529.82 1212.5 1524.69 Q1217.24 1519.54 1225.27 1519.54 Q1232.46 1519.54 1236.63 1524.18 Q1240.83 1528.8 1240.83 1536.76 M1234.97 1535.04 Q1234.91 1530.23 1232.27 1527.37 Q1229.66 1524.5 1225.33 1524.5 Q1220.43 1524.5 1217.47 1527.27 Q1214.54 1530.04 1214.09 1535.07 L1234.97 1535.04 Z\" fill=\"#000000\" fill-rule=\"evenodd\" fill-opacity=\"1\" /><path clip-path=\"url(#clip430)\" d=\"M 0 0 M1267.63 1525.87 Q1266.64 1525.3 1265.46 1525.04 Q1264.32 1524.76 1262.92 1524.76 Q1257.95 1524.76 1255.28 1528 Q1252.64 1531.22 1252.64 1537.27 L1252.64 1556.04 L1246.75 1556.04 L1246.75 1520.4 L1252.64 1520.4 L1252.64 1525.93 Q1254.48 1522.69 1257.44 1521.13 Q1260.4 1519.54 1264.64 1519.54 Q1265.24 1519.54 1265.97 1519.63 Q1266.71 1519.7 1267.6 1519.85 L1267.63 1525.87 Z\" fill=\"#000000\" fill-rule=\"evenodd\" fill-opacity=\"1\" /><path clip-path=\"url(#clip430)\" d=\"M 0 0 M1273.77 1520.4 L1279.63 1520.4 L1279.63 1556.04 L1273.77 1556.04 L1273.77 1520.4 M1273.77 1506.52 L1279.63 1506.52 L1279.63 1513.93 L1273.77 1513.93 L1273.77 1506.52 Z\" fill=\"#000000\" fill-rule=\"evenodd\" fill-opacity=\"1\" /><path clip-path=\"url(#clip430)\" d=\"M 0 0 M1299.59 1524.5 Q1294.87 1524.5 1292.14 1528.19 Q1289.4 1531.85 1289.4 1538.25 Q1289.4 1544.65 1292.11 1548.34 Q1294.84 1552 1299.59 1552 Q1304.26 1552 1307 1548.31 Q1309.74 1544.62 1309.74 1538.25 Q1309.74 1531.92 1307 1528.23 Q1304.26 1524.5 1299.59 1524.5 M1299.59 1519.54 Q1307.22 1519.54 1311.58 1524.5 Q1315.94 1529.47 1315.94 1538.25 Q1315.94 1547 1311.58 1552 Q1307.22 1556.97 1299.59 1556.97 Q1291.91 1556.97 1287.55 1552 Q1283.23 1547 1283.23 1538.25 Q1283.23 1529.47 1287.55 1524.5 Q1291.91 1519.54 1299.59 1519.54 Z\" fill=\"#000000\" fill-rule=\"evenodd\" fill-opacity=\"1\" /><path clip-path=\"url(#clip430)\" d=\"M 0 0 M1345.55 1525.81 L1345.55 1506.52 L1351.4 1506.52 L1351.4 1556.04 L1345.55 1556.04 L1345.55 1550.7 Q1343.7 1553.88 1340.87 1555.44 Q1338.07 1556.97 1334.12 1556.97 Q1327.66 1556.97 1323.58 1551.81 Q1319.54 1546.65 1319.54 1538.25 Q1319.54 1529.85 1323.58 1524.69 Q1327.66 1519.54 1334.12 1519.54 Q1338.07 1519.54 1340.87 1521.1 Q1343.7 1522.62 1345.55 1525.81 M1325.59 1538.25 Q1325.59 1544.71 1328.23 1548.4 Q1330.9 1552.07 1335.55 1552.07 Q1340.2 1552.07 1342.87 1548.4 Q1345.55 1544.71 1345.55 1538.25 Q1345.55 1531.79 1342.87 1528.13 Q1340.2 1524.44 1335.55 1524.44 Q1330.9 1524.44 1328.23 1528.13 Q1325.59 1531.79 1325.59 1538.25 Z\" fill=\"#000000\" fill-rule=\"evenodd\" fill-opacity=\"1\" /><path clip-path=\"url(#clip430)\" d=\"M 0 0 M1388.04 1536.76 L1388.04 1539.62 L1361.11 1539.62 Q1361.49 1545.67 1364.74 1548.85 Q1368.02 1552 1373.84 1552 Q1377.21 1552 1380.37 1551.17 Q1383.55 1550.35 1386.67 1548.69 L1386.67 1554.23 Q1383.52 1555.57 1380.21 1556.27 Q1376.9 1556.97 1373.49 1556.97 Q1364.96 1556.97 1359.96 1552 Q1355 1547.04 1355 1538.57 Q1355 1529.82 1359.71 1524.69 Q1364.45 1519.54 1372.47 1519.54 Q1379.67 1519.54 1383.84 1524.18 Q1388.04 1528.8 1388.04 1536.76 M1382.18 1535.04 Q1382.12 1530.23 1379.47 1527.37 Q1376.86 1524.5 1372.54 1524.5 Q1367.63 1524.5 1364.67 1527.27 Q1361.75 1530.04 1361.3 1535.07 L1382.18 1535.04 Z\" fill=\"#000000\" fill-rule=\"evenodd\" fill-opacity=\"1\" /><polyline clip-path=\"url(#clip432)\" style=\"stroke:#000000; stroke-width:2; stroke-opacity:0.1; fill:none\" points=\"\n",
       "  211.116,1423.18 2352.76,1423.18 \n",
       "  \"/>\n",
       "<polyline clip-path=\"url(#clip432)\" style=\"stroke:#000000; stroke-width:2; stroke-opacity:0.1; fill:none\" points=\"\n",
       "  211.116,989.944 2352.76,989.944 \n",
       "  \"/>\n",
       "<polyline clip-path=\"url(#clip432)\" style=\"stroke:#000000; stroke-width:2; stroke-opacity:0.1; fill:none\" points=\"\n",
       "  211.116,556.708 2352.76,556.708 \n",
       "  \"/>\n",
       "<polyline clip-path=\"url(#clip432)\" style=\"stroke:#000000; stroke-width:2; stroke-opacity:0.1; fill:none\" points=\"\n",
       "  211.116,123.472 2352.76,123.472 \n",
       "  \"/>\n",
       "<polyline clip-path=\"url(#clip430)\" style=\"stroke:#000000; stroke-width:4; stroke-opacity:1; fill:none\" points=\"\n",
       "  211.116,1423.18 211.116,123.472 \n",
       "  \"/>\n",
       "<polyline clip-path=\"url(#clip430)\" style=\"stroke:#000000; stroke-width:4; stroke-opacity:1; fill:none\" points=\"\n",
       "  211.116,1423.18 236.816,1423.18 \n",
       "  \"/>\n",
       "<polyline clip-path=\"url(#clip430)\" style=\"stroke:#000000; stroke-width:4; stroke-opacity:1; fill:none\" points=\"\n",
       "  211.116,989.944 236.816,989.944 \n",
       "  \"/>\n",
       "<polyline clip-path=\"url(#clip430)\" style=\"stroke:#000000; stroke-width:4; stroke-opacity:1; fill:none\" points=\"\n",
       "  211.116,556.708 236.816,556.708 \n",
       "  \"/>\n",
       "<polyline clip-path=\"url(#clip430)\" style=\"stroke:#000000; stroke-width:4; stroke-opacity:1; fill:none\" points=\"\n",
       "  211.116,123.472 236.816,123.472 \n",
       "  \"/>\n",
       "<path clip-path=\"url(#clip430)\" d=\"M 0 0 M126.205 1408.98 Q122.593 1408.98 120.765 1412.54 Q118.959 1416.08 118.959 1423.21 Q118.959 1430.32 120.765 1433.89 Q122.593 1437.43 126.205 1437.43 Q129.839 1437.43 131.644 1433.89 Q133.473 1430.32 133.473 1423.21 Q133.473 1416.08 131.644 1412.54 Q129.839 1408.98 126.205 1408.98 M126.205 1405.27 Q132.015 1405.27 135.07 1409.88 Q138.149 1414.46 138.149 1423.21 Q138.149 1431.94 135.07 1436.55 Q132.015 1441.13 126.205 1441.13 Q120.394 1441.13 117.316 1436.55 Q114.26 1431.94 114.26 1423.21 Q114.26 1414.46 117.316 1409.88 Q120.394 1405.27 126.205 1405.27 Z\" fill=\"#000000\" fill-rule=\"evenodd\" fill-opacity=\"1\" /><path clip-path=\"url(#clip430)\" d=\"M 0 0 M143.218 1434.58 L148.103 1434.58 L148.103 1440.46 L143.218 1440.46 L143.218 1434.58 Z\" fill=\"#000000\" fill-rule=\"evenodd\" fill-opacity=\"1\" /><path clip-path=\"url(#clip430)\" d=\"M 0 0 M163.172 1408.98 Q159.561 1408.98 157.732 1412.54 Q155.927 1416.08 155.927 1423.21 Q155.927 1430.32 157.732 1433.89 Q159.561 1437.43 163.172 1437.43 Q166.806 1437.43 168.612 1433.89 Q170.44 1430.32 170.44 1423.21 Q170.44 1416.08 168.612 1412.54 Q166.806 1408.98 163.172 1408.98 M163.172 1405.27 Q168.982 1405.27 172.038 1409.88 Q175.116 1414.46 175.116 1423.21 Q175.116 1431.94 172.038 1436.55 Q168.982 1441.13 163.172 1441.13 Q157.362 1441.13 154.283 1436.55 Q151.228 1431.94 151.228 1423.21 Q151.228 1414.46 154.283 1409.88 Q157.362 1405.27 163.172 1405.27 Z\" fill=\"#000000\" fill-rule=\"evenodd\" fill-opacity=\"1\" /><path clip-path=\"url(#clip430)\" d=\"M 0 0 M127.2 975.743 Q123.589 975.743 121.76 979.307 Q119.955 982.849 119.955 989.979 Q119.955 997.085 121.76 1000.65 Q123.589 1004.19 127.2 1004.19 Q130.834 1004.19 132.64 1000.65 Q134.468 997.085 134.468 989.979 Q134.468 982.849 132.64 979.307 Q130.834 975.743 127.2 975.743 M127.2 972.039 Q133.01 972.039 136.066 976.645 Q139.144 981.229 139.144 989.979 Q139.144 998.705 136.066 1003.31 Q133.01 1007.9 127.2 1007.9 Q121.39 1007.9 118.311 1003.31 Q115.256 998.705 115.256 989.979 Q115.256 981.229 118.311 976.645 Q121.39 972.039 127.2 972.039 Z\" fill=\"#000000\" fill-rule=\"evenodd\" fill-opacity=\"1\" /><path clip-path=\"url(#clip430)\" d=\"M 0 0 M144.214 1001.34 L149.098 1001.34 L149.098 1007.22 L144.214 1007.22 L144.214 1001.34 Z\" fill=\"#000000\" fill-rule=\"evenodd\" fill-opacity=\"1\" /><path clip-path=\"url(#clip430)\" d=\"M 0 0 M154.214 972.664 L172.57 972.664 L172.57 976.599 L158.496 976.599 L158.496 985.071 Q159.515 984.724 160.533 984.562 Q161.552 984.377 162.57 984.377 Q168.357 984.377 171.737 987.548 Q175.116 990.719 175.116 996.136 Q175.116 1001.71 171.644 1004.82 Q168.172 1007.9 161.852 1007.9 Q159.677 1007.9 157.408 1007.52 Q155.163 1007.15 152.755 1006.41 L152.755 1001.71 Q154.839 1002.85 157.061 1003.4 Q159.283 1003.96 161.76 1003.96 Q165.765 1003.96 168.102 1001.85 Q170.44 999.747 170.44 996.136 Q170.44 992.525 168.102 990.418 Q165.765 988.312 161.76 988.312 Q159.885 988.312 158.01 988.729 Q156.158 989.145 154.214 990.025 L154.214 972.664 Z\" fill=\"#000000\" fill-rule=\"evenodd\" fill-opacity=\"1\" /><path clip-path=\"url(#clip430)\" d=\"M 0 0 M118.242 570.053 L125.88 570.053 L125.88 543.687 L117.57 545.354 L117.57 541.095 L125.834 539.428 L130.51 539.428 L130.51 570.053 L138.149 570.053 L138.149 573.988 L118.242 573.988 L118.242 570.053 Z\" fill=\"#000000\" fill-rule=\"evenodd\" fill-opacity=\"1\" /><path clip-path=\"url(#clip430)\" d=\"M 0 0 M143.218 568.108 L148.103 568.108 L148.103 573.988 L143.218 573.988 L143.218 568.108 Z\" fill=\"#000000\" fill-rule=\"evenodd\" fill-opacity=\"1\" /><path clip-path=\"url(#clip430)\" d=\"M 0 0 M163.172 542.507 Q159.561 542.507 157.732 546.072 Q155.927 549.613 155.927 556.743 Q155.927 563.849 157.732 567.414 Q159.561 570.956 163.172 570.956 Q166.806 570.956 168.612 567.414 Q170.44 563.849 170.44 556.743 Q170.44 549.613 168.612 546.072 Q166.806 542.507 163.172 542.507 M163.172 538.803 Q168.982 538.803 172.038 543.409 Q175.116 547.993 175.116 556.743 Q175.116 565.47 172.038 570.076 Q168.982 574.659 163.172 574.659 Q157.362 574.659 154.283 570.076 Q151.228 565.47 151.228 556.743 Q151.228 547.993 154.283 543.409 Q157.362 538.803 163.172 538.803 Z\" fill=\"#000000\" fill-rule=\"evenodd\" fill-opacity=\"1\" /><path clip-path=\"url(#clip430)\" d=\"M 0 0 M119.237 136.817 L126.876 136.817 L126.876 110.451 L118.566 112.118 L118.566 107.859 L126.83 106.192 L131.505 106.192 L131.505 136.817 L139.144 136.817 L139.144 140.752 L119.237 140.752 L119.237 136.817 Z\" fill=\"#000000\" fill-rule=\"evenodd\" fill-opacity=\"1\" /><path clip-path=\"url(#clip430)\" d=\"M 0 0 M144.214 134.873 L149.098 134.873 L149.098 140.752 L144.214 140.752 L144.214 134.873 Z\" fill=\"#000000\" fill-rule=\"evenodd\" fill-opacity=\"1\" /><path clip-path=\"url(#clip430)\" d=\"M 0 0 M154.214 106.192 L172.57 106.192 L172.57 110.127 L158.496 110.127 L158.496 118.599 Q159.515 118.252 160.533 118.09 Q161.552 117.905 162.57 117.905 Q168.357 117.905 171.737 121.076 Q175.116 124.248 175.116 129.664 Q175.116 135.243 171.644 138.345 Q168.172 141.423 161.852 141.423 Q159.677 141.423 157.408 141.053 Q155.163 140.683 152.755 139.942 L152.755 135.243 Q154.839 136.377 157.061 136.933 Q159.283 137.488 161.76 137.488 Q165.765 137.488 168.102 135.382 Q170.44 133.275 170.44 129.664 Q170.44 126.053 168.102 123.947 Q165.765 121.84 161.76 121.84 Q159.885 121.84 158.01 122.257 Q156.158 122.674 154.214 123.553 L154.214 106.192 Z\" fill=\"#000000\" fill-rule=\"evenodd\" fill-opacity=\"1\" /><path clip-path=\"url(#clip430)\" d=\"M 0 0 M65.7242 927.885 Q66.4244 925.816 68.7161 923.875 Q71.0077 921.902 75.0181 919.928 L88.0042 913.403 L88.0042 920.31 L75.8138 926.389 Q71.0395 928.745 69.48 930.973 Q67.9204 933.169 67.9204 936.988 L67.9204 943.991 L88.0042 943.991 L88.0042 950.42 L40.4842 950.42 L40.4842 935.906 Q40.4842 927.758 43.8898 923.748 Q47.2955 919.737 54.1704 919.737 Q58.6582 919.737 61.6183 921.838 Q64.5784 923.907 65.7242 927.885 M45.7677 943.991 L62.6368 943.991 L62.6368 935.906 Q62.6368 931.259 60.5043 928.904 Q58.34 926.517 54.1704 926.517 Q50.0009 926.517 47.9002 928.904 Q45.7677 931.259 45.7677 935.906 L45.7677 943.991 Z\" fill=\"#000000\" fill-rule=\"evenodd\" fill-opacity=\"1\" /><path clip-path=\"url(#clip430)\" d=\"M 0 0 M73.9359 910.793 L52.3562 910.793 L52.3562 904.937 L73.7131 904.937 Q78.7739 904.937 81.3202 902.964 Q83.8346 900.99 83.8346 897.043 Q83.8346 892.301 80.8109 889.564 Q77.7872 886.795 72.5673 886.795 L52.3562 886.795 L52.3562 880.938 L88.0042 880.938 L88.0042 886.795 L82.5296 886.795 Q85.7762 888.927 87.3676 891.76 Q88.9272 894.561 88.9272 898.285 Q88.9272 904.428 85.1078 907.611 Q81.2883 910.793 73.9359 910.793 M51.4968 896.057 L51.4968 896.057 M38.6063 893.129 L38.6063 886.667 L45.0356 886.667 L45.0356 893.129 L38.6063 893.129 M38.6063 905.574 L38.6063 899.112 L45.0356 899.112 L45.0356 905.574 L38.6063 905.574 Z\" fill=\"#000000\" fill-rule=\"evenodd\" fill-opacity=\"1\" /><path clip-path=\"url(#clip430)\" d=\"M 0 0 M53.4065 852.07 L58.9447 852.07 Q57.6716 854.552 57.035 857.226 Q56.3984 859.9 56.3984 862.764 Q56.3984 867.125 57.7352 869.321 Q59.072 871.485 61.7456 871.485 Q63.7826 871.485 64.9603 869.926 Q66.1061 868.366 67.1565 863.655 L67.6021 861.65 Q68.9389 855.412 71.3897 852.802 Q73.8086 850.16 78.1691 850.16 Q83.1344 850.16 86.0308 854.107 Q88.9272 858.022 88.9272 864.897 Q88.9272 867.761 88.3543 870.88 Q87.8132 873.968 86.6992 877.405 L80.6518 877.405 Q82.3387 874.159 83.198 871.008 Q84.0256 867.857 84.0256 864.769 Q84.0256 860.632 82.6251 858.404 Q81.1929 856.176 78.6147 856.176 Q76.2276 856.176 74.9545 857.799 Q73.6813 859.39 72.5037 864.833 L72.0262 866.87 Q70.8804 872.313 68.5251 874.732 Q66.138 877.151 62.0002 877.151 Q56.9713 877.151 54.2341 873.586 Q51.4968 870.021 51.4968 863.464 Q51.4968 860.218 51.9743 857.353 Q52.4517 854.489 53.4065 852.07 Z\" fill=\"#000000\" fill-rule=\"evenodd\" fill-opacity=\"1\" /><path clip-path=\"url(#clip430)\" d=\"M 0 0 M42.2347 838.224 L52.3562 838.224 L52.3562 826.161 L56.9077 826.161 L56.9077 838.224 L76.2594 838.224 Q80.6199 838.224 81.8613 837.047 Q83.1026 835.837 83.1026 832.177 L83.1026 826.161 L88.0042 826.161 L88.0042 832.177 Q88.0042 838.956 85.4897 841.535 Q82.9434 844.113 76.2594 844.113 L56.9077 844.113 L56.9077 848.409 L52.3562 848.409 L52.3562 844.113 L42.2347 844.113 L42.2347 838.224 Z\" fill=\"#000000\" fill-rule=\"evenodd\" fill-opacity=\"1\" /><path clip-path=\"url(#clip430)\" d=\"M 0 0 M52.3562 824.22 L52.3562 818.013 L82.275 806.873 L52.3562 795.733 L52.3562 789.527 L88.0042 802.895 L88.0042 810.852 L52.3562 824.22 Z\" fill=\"#000000\" fill-rule=\"evenodd\" fill-opacity=\"1\" /><path clip-path=\"url(#clip430)\" d=\"M 0 0 M70.0847 767.183 Q70.0847 774.281 71.7079 777.018 Q73.3312 779.755 77.2461 779.755 Q80.3653 779.755 82.2114 777.718 Q84.0256 775.649 84.0256 772.116 Q84.0256 767.247 80.5881 764.319 Q77.1188 761.358 71.3897 761.358 L70.0847 761.358 L70.0847 767.183 M67.6657 755.502 L88.0042 755.502 L88.0042 761.358 L82.5933 761.358 Q85.8398 763.364 87.3994 766.356 Q88.9272 769.347 88.9272 773.676 Q88.9272 779.151 85.8716 782.397 Q82.7843 785.612 77.6281 785.612 Q71.6125 785.612 68.5569 781.601 Q65.5014 777.559 65.5014 769.57 L65.5014 761.358 L64.9285 761.358 Q60.8862 761.358 58.6901 764.032 Q56.4621 766.674 56.4621 771.48 Q56.4621 774.535 57.1941 777.432 Q57.9262 780.328 59.3903 783.002 L53.9795 783.002 Q52.7381 779.787 52.1334 776.763 Q51.4968 773.74 51.4968 770.875 Q51.4968 763.141 55.5072 759.321 Q59.5176 755.502 67.6657 755.502 Z\" fill=\"#000000\" fill-rule=\"evenodd\" fill-opacity=\"1\" /><path clip-path=\"url(#clip430)\" d=\"M 0 0 M57.8307 728.702 Q57.2578 729.689 57.0032 730.867 Q56.7167 732.013 56.7167 733.413 Q56.7167 738.378 59.9632 741.052 Q63.1779 743.694 69.2253 743.694 L88.0042 743.694 L88.0042 749.582 L52.3562 749.582 L52.3562 743.694 L57.8944 743.694 Q54.6479 741.848 53.0883 738.888 Q51.4968 735.927 51.4968 731.694 Q51.4968 731.09 51.5923 730.357 Q51.656 729.625 51.8151 728.734 L57.8307 728.702 Z\" fill=\"#000000\" fill-rule=\"evenodd\" fill-opacity=\"1\" /><path clip-path=\"url(#clip430)\" d=\"M 0 0 M52.3562 722.559 L52.3562 716.703 L88.0042 716.703 L88.0042 722.559 L52.3562 722.559 M38.479 722.559 L38.479 716.703 L45.895 716.703 L45.895 722.559 L38.479 722.559 Z\" fill=\"#000000\" fill-rule=\"evenodd\" fill-opacity=\"1\" /><path clip-path=\"url(#clip430)\" d=\"M 0 0 M70.0847 694.359 Q70.0847 701.457 71.7079 704.194 Q73.3312 706.932 77.2461 706.932 Q80.3653 706.932 82.2114 704.895 Q84.0256 702.826 84.0256 699.293 Q84.0256 694.423 80.5881 691.495 Q77.1188 688.535 71.3897 688.535 L70.0847 688.535 L70.0847 694.359 M67.6657 682.678 L88.0042 682.678 L88.0042 688.535 L82.5933 688.535 Q85.8398 690.54 87.3994 693.532 Q88.9272 696.524 88.9272 700.852 Q88.9272 706.327 85.8716 709.573 Q82.7843 712.788 77.6281 712.788 Q71.6125 712.788 68.5569 708.778 Q65.5014 704.735 65.5014 696.747 L65.5014 688.535 L64.9285 688.535 Q60.8862 688.535 58.6901 691.208 Q56.4621 693.85 56.4621 698.656 Q56.4621 701.712 57.1941 704.608 Q57.9262 707.505 59.3903 710.178 L53.9795 710.178 Q52.7381 706.963 52.1334 703.94 Q51.4968 700.916 51.4968 698.052 Q51.4968 690.317 55.5072 686.498 Q59.5176 682.678 67.6657 682.678 Z\" fill=\"#000000\" fill-rule=\"evenodd\" fill-opacity=\"1\" /><path clip-path=\"url(#clip430)\" d=\"M 0 0 M70.212 650.945 Q63.7508 650.945 60.0905 653.619 Q56.3984 656.261 56.3984 660.908 Q56.3984 665.555 60.0905 668.228 Q63.7508 670.87 70.212 670.87 Q76.6732 670.87 80.3653 668.228 Q84.0256 665.555 84.0256 660.908 Q84.0256 656.261 80.3653 653.619 Q76.6732 650.945 70.212 650.945 M57.7671 670.87 Q54.5842 669.024 53.0564 666.223 Q51.4968 663.39 51.4968 659.475 Q51.4968 652.982 56.6531 648.94 Q61.8093 644.866 70.212 644.866 Q78.6147 644.866 83.771 648.94 Q88.9272 652.982 88.9272 659.475 Q88.9272 663.39 87.3994 666.223 Q85.8398 669.024 82.657 670.87 L88.0042 670.87 L88.0042 676.758 L38.479 676.758 L38.479 670.87 L57.7671 670.87 Z\" fill=\"#000000\" fill-rule=\"evenodd\" fill-opacity=\"1\" /><path clip-path=\"url(#clip430)\" d=\"M 0 0 M38.479 638.723 L38.479 632.867 L88.0042 632.867 L88.0042 638.723 L38.479 638.723 Z\" fill=\"#000000\" fill-rule=\"evenodd\" fill-opacity=\"1\" /><path clip-path=\"url(#clip430)\" d=\"M 0 0 M68.7161 596.232 L71.5806 596.232 L71.5806 623.159 Q77.6281 622.777 80.8109 619.531 Q83.9619 616.252 83.9619 610.428 Q83.9619 607.054 83.1344 603.903 Q82.3069 600.72 80.6518 597.601 L86.1899 597.601 Q87.5267 600.752 88.227 604.062 Q88.9272 607.372 88.9272 610.778 Q88.9272 619.308 83.9619 624.305 Q78.9967 629.27 70.5303 629.27 Q61.7774 629.27 56.6531 624.559 Q51.4968 619.817 51.4968 611.796 Q51.4968 604.603 56.1438 600.433 Q60.7589 596.232 68.7161 596.232 M66.9973 602.088 Q62.1912 602.152 59.3266 604.794 Q56.4621 607.404 56.4621 611.733 Q56.4621 616.634 59.2312 619.594 Q62.0002 622.522 67.0292 622.968 L66.9973 602.088 Z\" fill=\"#000000\" fill-rule=\"evenodd\" fill-opacity=\"1\" /><path clip-path=\"url(#clip430)\" d=\"M 0 0 M803.464 44.2197 Q806.097 45.1109 808.568 48.0275 Q811.079 50.9442 813.591 56.0483 L821.895 72.576 L813.105 72.576 L805.367 57.061 Q802.37 50.9847 799.534 48.9997 Q796.739 47.0148 791.878 47.0148 L782.966 47.0148 L782.966 72.576 L774.783 72.576 L774.783 12.096 L793.255 12.096 Q803.626 12.096 808.73 16.4305 Q813.834 20.7649 813.834 29.5149 Q813.834 35.2267 811.16 38.994 Q808.527 42.7613 803.464 44.2197 M782.966 18.8205 L782.966 40.2903 L793.255 40.2903 Q799.17 40.2903 802.167 37.5762 Q805.205 34.8216 805.205 29.5149 Q805.205 24.2082 802.167 21.5346 Q799.17 18.8205 793.255 18.8205 L782.966 18.8205 Z\" fill=\"#000000\" fill-rule=\"evenodd\" fill-opacity=\"1\" /><path clip-path=\"url(#clip430)\" d=\"M 0 0 M825.217 54.671 L825.217 27.2059 L832.671 27.2059 L832.671 54.3874 Q832.671 60.8284 835.182 64.0691 Q837.694 67.2693 842.717 67.2693 Q848.753 67.2693 852.236 63.421 Q855.761 59.5726 855.761 52.9291 L855.761 27.2059 L863.214 27.2059 L863.214 72.576 L855.761 72.576 L855.761 65.6084 Q853.047 69.7404 849.441 71.7658 Q845.877 73.7508 841.137 73.7508 Q833.319 73.7508 829.268 68.8897 Q825.217 64.0286 825.217 54.671 M843.973 26.1121 L843.973 26.1121 M847.699 9.70597 L855.923 9.70597 L855.923 17.8888 L847.699 17.8888 L847.699 9.70597 M831.86 9.70597 L840.084 9.70597 L840.084 17.8888 L831.86 17.8888 L831.86 9.70597 Z\" fill=\"#000000\" fill-rule=\"evenodd\" fill-opacity=\"1\" /><path clip-path=\"url(#clip430)\" d=\"M 0 0 M899.956 28.5427 L899.956 35.5912 Q896.796 33.9709 893.394 33.1607 Q889.991 32.3505 886.345 32.3505 Q880.795 32.3505 878 34.0519 Q875.246 35.7533 875.246 39.156 Q875.246 41.7486 877.231 43.2475 Q879.215 44.7058 885.211 46.0426 L887.763 46.6097 Q895.703 48.3111 899.024 51.4303 Q902.387 54.509 902.387 60.0587 Q902.387 66.3781 897.364 70.0644 Q892.381 73.7508 883.631 73.7508 Q879.985 73.7508 876.015 73.0216 Q872.086 72.3329 867.711 70.9151 L867.711 63.2184 Q871.843 65.3654 875.853 66.4591 Q879.864 67.5124 883.793 67.5124 Q889.059 67.5124 891.895 65.73 Q894.73 63.9071 894.73 60.6258 Q894.73 57.5877 892.664 55.9673 Q890.639 54.3469 883.712 52.8481 L881.119 52.2405 Q874.192 50.7821 871.114 47.7845 Q868.035 44.7463 868.035 39.4801 Q868.035 33.0797 872.572 29.5959 Q877.109 26.1121 885.454 26.1121 Q889.586 26.1121 893.232 26.7198 Q896.877 27.3274 899.956 28.5427 Z\" fill=\"#000000\" fill-rule=\"evenodd\" fill-opacity=\"1\" /><path clip-path=\"url(#clip430)\" d=\"M 0 0 M917.578 14.324 L917.578 27.2059 L932.93 27.2059 L932.93 32.9987 L917.578 32.9987 L917.578 57.6282 Q917.578 63.1779 919.076 64.7578 Q920.616 66.3376 925.274 66.3376 L932.93 66.3376 L932.93 72.576 L925.274 72.576 Q916.646 72.576 913.365 69.3758 Q910.083 66.1351 910.083 57.6282 L910.083 32.9987 L904.615 32.9987 L904.615 27.2059 L910.083 27.2059 L910.083 14.324 L917.578 14.324 Z\" fill=\"#000000\" fill-rule=\"evenodd\" fill-opacity=\"1\" /><path clip-path=\"url(#clip430)\" d=\"M 0 0 M935.402 27.2059 L943.301 27.2059 L957.479 65.2844 L971.657 27.2059 L979.556 27.2059 L962.543 72.576 L952.415 72.576 L935.402 27.2059 Z\" fill=\"#000000\" fill-rule=\"evenodd\" fill-opacity=\"1\" /><path clip-path=\"url(#clip430)\" d=\"M 0 0 M1007.99 49.7694 Q998.96 49.7694 995.476 51.8354 Q991.993 53.9013 991.993 58.8839 Q991.993 62.8538 994.585 65.2034 Q997.218 67.5124 1001.71 67.5124 Q1007.91 67.5124 1011.64 63.1374 Q1015.41 58.7219 1015.41 51.4303 L1015.41 49.7694 L1007.99 49.7694 M1022.86 46.6907 L1022.86 72.576 L1015.41 72.576 L1015.41 65.6895 Q1012.85 69.8214 1009.05 71.8063 Q1005.24 73.7508 999.73 73.7508 Q992.762 73.7508 988.63 69.8619 Q984.539 65.9325 984.539 59.3701 Q984.539 51.7138 989.643 47.825 Q994.788 43.9361 1004.96 43.9361 L1015.41 43.9361 L1015.41 43.2069 Q1015.41 38.0623 1012 35.2672 Q1008.64 32.4315 1002.52 32.4315 Q998.636 32.4315 994.95 33.3632 Q991.263 34.295 987.861 36.1584 L987.861 29.2718 Q991.952 27.692 995.8 26.9223 Q999.649 26.1121 1003.29 26.1121 Q1013.14 26.1121 1018 31.2163 Q1022.86 36.3204 1022.86 46.6907 Z\" fill=\"#000000\" fill-rule=\"evenodd\" fill-opacity=\"1\" /><path clip-path=\"url(#clip430)\" d=\"M 0 0 M1056.97 34.1734 Q1055.71 33.4443 1054.21 33.1202 Q1052.76 32.7556 1050.97 32.7556 Q1044.65 32.7556 1041.25 36.8875 Q1037.89 40.9789 1037.89 48.6757 L1037.89 72.576 L1030.4 72.576 L1030.4 27.2059 L1037.89 27.2059 L1037.89 34.2544 Q1040.24 30.1225 1044.01 28.1376 Q1047.77 26.1121 1053.16 26.1121 Q1053.93 26.1121 1054.86 26.2337 Q1055.79 26.3147 1056.93 26.5172 L1056.97 34.1734 Z\" fill=\"#000000\" fill-rule=\"evenodd\" fill-opacity=\"1\" /><path clip-path=\"url(#clip430)\" d=\"M 0 0 M1064.79 27.2059 L1072.24 27.2059 L1072.24 72.576 L1064.79 72.576 L1064.79 27.2059 M1064.79 9.54393 L1072.24 9.54393 L1072.24 18.9825 L1064.79 18.9825 L1064.79 9.54393 Z\" fill=\"#000000\" fill-rule=\"evenodd\" fill-opacity=\"1\" /><path clip-path=\"url(#clip430)\" d=\"M 0 0 M1100.68 49.7694 Q1091.64 49.7694 1088.16 51.8354 Q1084.68 53.9013 1084.68 58.8839 Q1084.68 62.8538 1087.27 65.2034 Q1089.9 67.5124 1094.4 67.5124 Q1100.6 67.5124 1104.32 63.1374 Q1108.09 58.7219 1108.09 51.4303 L1108.09 49.7694 L1100.68 49.7694 M1115.55 46.6907 L1115.55 72.576 L1108.09 72.576 L1108.09 65.6895 Q1105.54 69.8214 1101.73 71.8063 Q1097.92 73.7508 1092.41 73.7508 Q1085.45 73.7508 1081.32 69.8619 Q1077.22 65.9325 1077.22 59.3701 Q1077.22 51.7138 1082.33 47.825 Q1087.47 43.9361 1097.64 43.9361 L1108.09 43.9361 L1108.09 43.2069 Q1108.09 38.0623 1104.69 35.2672 Q1101.33 32.4315 1095.21 32.4315 Q1091.32 32.4315 1087.63 33.3632 Q1083.95 34.295 1080.55 36.1584 L1080.55 29.2718 Q1084.64 27.692 1088.49 26.9223 Q1092.33 26.1121 1095.98 26.1121 Q1105.82 26.1121 1110.68 31.2163 Q1115.55 36.3204 1115.55 46.6907 Z\" fill=\"#000000\" fill-rule=\"evenodd\" fill-opacity=\"1\" /><path clip-path=\"url(#clip430)\" d=\"M 0 0 M1155.93 49.9314 Q1155.93 41.7081 1152.53 37.0496 Q1149.17 32.3505 1143.25 32.3505 Q1137.34 32.3505 1133.94 37.0496 Q1130.57 41.7081 1130.57 49.9314 Q1130.57 58.1548 1133.94 62.8538 Q1137.34 67.5124 1143.25 67.5124 Q1149.17 67.5124 1152.53 62.8538 Q1155.93 58.1548 1155.93 49.9314 M1130.57 34.0924 Q1132.92 30.0415 1136.49 28.0971 Q1140.09 26.1121 1145.08 26.1121 Q1153.34 26.1121 1158.48 32.6746 Q1163.67 39.2371 1163.67 49.9314 Q1163.67 60.6258 1158.48 67.1883 Q1153.34 73.7508 1145.08 73.7508 Q1140.09 73.7508 1136.49 71.8063 Q1132.92 69.8214 1130.57 65.7705 L1130.57 72.576 L1123.08 72.576 L1123.08 9.54393 L1130.57 9.54393 L1130.57 34.0924 Z\" fill=\"#000000\" fill-rule=\"evenodd\" fill-opacity=\"1\" /><path clip-path=\"url(#clip430)\" d=\"M 0 0 M1171.49 9.54393 L1178.94 9.54393 L1178.94 72.576 L1171.49 72.576 L1171.49 9.54393 Z\" fill=\"#000000\" fill-rule=\"evenodd\" fill-opacity=\"1\" /><path clip-path=\"url(#clip430)\" d=\"M 0 0 M1225.57 48.0275 L1225.57 51.6733 L1191.3 51.6733 Q1191.78 59.3701 1195.92 63.421 Q1200.09 67.4314 1207.5 67.4314 Q1211.79 67.4314 1215.81 66.3781 Q1219.86 65.3249 1223.83 63.2184 L1223.83 70.267 Q1219.82 71.9684 1215.6 72.8596 Q1211.39 73.7508 1207.06 73.7508 Q1196.2 73.7508 1189.84 67.4314 Q1183.52 61.1119 1183.52 50.3365 Q1183.52 39.1965 1189.51 32.6746 Q1195.55 26.1121 1205.76 26.1121 Q1214.91 26.1121 1220.22 32.0264 Q1225.57 37.9003 1225.57 48.0275 M1218.11 45.84 Q1218.03 39.7232 1214.67 36.0774 Q1211.35 32.4315 1205.84 32.4315 Q1199.6 32.4315 1195.83 35.9558 Q1192.11 39.4801 1191.54 45.8805 L1218.11 45.84 Z\" fill=\"#000000\" fill-rule=\"evenodd\" fill-opacity=\"1\" /><path clip-path=\"url(#clip430)\" d=\"M 0 0 M1271.1 45.1919 L1271.1 72.576 L1263.65 72.576 L1263.65 45.4349 Q1263.65 38.994 1261.13 35.7938 Q1258.62 32.5936 1253.6 32.5936 Q1247.56 32.5936 1244.08 36.4419 Q1240.6 40.2903 1240.6 46.9338 L1240.6 72.576 L1233.1 72.576 L1233.1 27.2059 L1240.6 27.2059 L1240.6 34.2544 Q1243.27 30.163 1246.88 28.1376 Q1250.52 26.1121 1255.26 26.1121 Q1263.08 26.1121 1267.09 30.9732 Q1271.1 35.7938 1271.1 45.1919 Z\" fill=\"#000000\" fill-rule=\"evenodd\" fill-opacity=\"1\" /><path clip-path=\"url(#clip430)\" d=\"M 0 0 M1335.14 34.0924 L1335.14 9.54393 L1342.6 9.54393 L1342.6 72.576 L1335.14 72.576 L1335.14 65.7705 Q1332.8 69.8214 1329.19 71.8063 Q1325.63 73.7508 1320.6 73.7508 Q1312.38 73.7508 1307.19 67.1883 Q1302.05 60.6258 1302.05 49.9314 Q1302.05 39.2371 1307.19 32.6746 Q1312.38 26.1121 1320.6 26.1121 Q1325.63 26.1121 1329.19 28.0971 Q1332.8 30.0415 1335.14 34.0924 M1309.75 49.9314 Q1309.75 58.1548 1313.11 62.8538 Q1316.51 67.5124 1322.42 67.5124 Q1328.34 67.5124 1331.74 62.8538 Q1335.14 58.1548 1335.14 49.9314 Q1335.14 41.7081 1331.74 37.0496 Q1328.34 32.3505 1322.42 32.3505 Q1316.51 32.3505 1313.11 37.0496 Q1309.75 41.7081 1309.75 49.9314 Z\" fill=\"#000000\" fill-rule=\"evenodd\" fill-opacity=\"1\" /><path clip-path=\"url(#clip430)\" d=\"M 0 0 M1389.22 48.0275 L1389.22 51.6733 L1354.95 51.6733 Q1355.44 59.3701 1359.57 63.421 Q1363.74 67.4314 1371.16 67.4314 Q1375.45 67.4314 1379.46 66.3781 Q1383.51 65.3249 1387.48 63.2184 L1387.48 70.267 Q1383.47 71.9684 1379.26 72.8596 Q1375.05 73.7508 1370.71 73.7508 Q1359.86 73.7508 1353.5 67.4314 Q1347.18 61.1119 1347.18 50.3365 Q1347.18 39.1965 1353.17 32.6746 Q1359.21 26.1121 1369.42 26.1121 Q1378.57 26.1121 1383.88 32.0264 Q1389.22 37.9003 1389.22 48.0275 M1381.77 45.84 Q1381.69 39.7232 1378.33 36.0774 Q1375.01 32.4315 1369.5 32.4315 Q1363.26 32.4315 1359.49 35.9558 Q1355.76 39.4801 1355.2 45.8805 L1381.77 45.84 Z\" fill=\"#000000\" fill-rule=\"evenodd\" fill-opacity=\"1\" /><path clip-path=\"url(#clip430)\" d=\"M 0 0 M1423.33 34.1734 Q1422.08 33.4443 1420.58 33.1202 Q1419.12 32.7556 1417.34 32.7556 Q1411.02 32.7556 1407.62 36.8875 Q1404.25 40.9789 1404.25 48.6757 L1404.25 72.576 L1396.76 72.576 L1396.76 27.2059 L1404.25 27.2059 L1404.25 34.2544 Q1406.6 30.1225 1410.37 28.1376 Q1414.14 26.1121 1419.53 26.1121 Q1420.29 26.1121 1421.23 26.2337 Q1422.16 26.3147 1423.29 26.5172 L1423.33 34.1734 Z\" fill=\"#000000\" fill-rule=\"evenodd\" fill-opacity=\"1\" /><path clip-path=\"url(#clip430)\" d=\"M 0 0 M1466.03 18.8205 L1466.03 41.5461 L1476.32 41.5461 Q1482.03 41.5461 1485.15 38.5889 Q1488.27 35.6318 1488.27 30.163 Q1488.27 24.7348 1485.15 21.7777 Q1482.03 18.8205 1476.32 18.8205 L1466.03 18.8205 M1457.85 12.096 L1476.32 12.096 Q1486.49 12.096 1491.67 16.714 Q1496.9 21.2916 1496.9 30.163 Q1496.9 39.1155 1491.67 43.6931 Q1486.49 48.2706 1476.32 48.2706 L1466.03 48.2706 L1466.03 72.576 L1457.85 72.576 L1457.85 12.096 Z\" fill=\"#000000\" fill-rule=\"evenodd\" fill-opacity=\"1\" /><path clip-path=\"url(#clip430)\" d=\"M 0 0 M1529.55 34.1734 Q1528.29 33.4443 1526.79 33.1202 Q1525.33 32.7556 1523.55 32.7556 Q1517.23 32.7556 1513.83 36.8875 Q1510.47 40.9789 1510.47 48.6757 L1510.47 72.576 L1502.97 72.576 L1502.97 27.2059 L1510.47 27.2059 L1510.47 34.2544 Q1512.82 30.1225 1516.58 28.1376 Q1520.35 26.1121 1525.74 26.1121 Q1526.51 26.1121 1527.44 26.2337 Q1528.37 26.3147 1529.51 26.5172 L1529.55 34.1734 Z\" fill=\"#000000\" fill-rule=\"evenodd\" fill-opacity=\"1\" /><path clip-path=\"url(#clip430)\" d=\"M 0 0 M1553.12 32.4315 Q1547.13 32.4315 1543.64 37.1306 Q1540.16 41.7891 1540.16 49.9314 Q1540.16 58.0738 1543.6 62.7728 Q1547.09 67.4314 1553.12 67.4314 Q1559.08 67.4314 1562.56 62.7323 Q1566.05 58.0333 1566.05 49.9314 Q1566.05 41.8701 1562.56 37.1711 Q1559.08 32.4315 1553.12 32.4315 M1553.12 26.1121 Q1562.85 26.1121 1568.4 32.4315 Q1573.95 38.7509 1573.95 49.9314 Q1573.95 61.0714 1568.4 67.4314 Q1562.85 73.7508 1553.12 73.7508 Q1543.36 73.7508 1537.81 67.4314 Q1532.3 61.0714 1532.3 49.9314 Q1532.3 38.7509 1537.81 32.4315 Q1543.36 26.1121 1553.12 26.1121 Z\" fill=\"#000000\" fill-rule=\"evenodd\" fill-opacity=\"1\" /><path clip-path=\"url(#clip430)\" d=\"M 0 0 M1611.62 34.0924 L1611.62 9.54393 L1619.07 9.54393 L1619.07 72.576 L1611.62 72.576 L1611.62 65.7705 Q1609.27 69.8214 1605.66 71.8063 Q1602.1 73.7508 1597.08 73.7508 Q1588.85 73.7508 1583.67 67.1883 Q1578.52 60.6258 1578.52 49.9314 Q1578.52 39.2371 1583.67 32.6746 Q1588.85 26.1121 1597.08 26.1121 Q1602.1 26.1121 1605.66 28.0971 Q1609.27 30.0415 1611.62 34.0924 M1586.22 49.9314 Q1586.22 58.1548 1589.58 62.8538 Q1592.98 67.5124 1598.9 67.5124 Q1604.81 67.5124 1608.22 62.8538 Q1611.62 58.1548 1611.62 49.9314 Q1611.62 41.7081 1608.22 37.0496 Q1604.81 32.3505 1598.9 32.3505 Q1592.98 32.3505 1589.58 37.0496 Q1586.22 41.7081 1586.22 49.9314 Z\" fill=\"#000000\" fill-rule=\"evenodd\" fill-opacity=\"1\" /><path clip-path=\"url(#clip430)\" d=\"M 0 0 M1626.12 54.671 L1626.12 27.2059 L1633.57 27.2059 L1633.57 54.3874 Q1633.57 60.8284 1636.09 64.0691 Q1638.6 67.2693 1643.62 67.2693 Q1649.66 67.2693 1653.14 63.421 Q1656.67 59.5726 1656.67 52.9291 L1656.67 27.2059 L1664.12 27.2059 L1664.12 72.576 L1656.67 72.576 L1656.67 65.6084 Q1653.95 69.7404 1650.35 71.7658 Q1646.78 73.7508 1642.04 73.7508 Q1634.22 73.7508 1630.17 68.8897 Q1626.12 64.0286 1626.12 54.671 M1644.88 26.1121 L1644.88 26.1121 Z\" fill=\"#000000\" fill-rule=\"evenodd\" fill-opacity=\"1\" /><path clip-path=\"url(#clip430)\" d=\"M 0 0 M1671.65 9.54393 L1679.15 9.54393 L1679.15 46.7717 L1701.39 27.2059 L1710.91 27.2059 L1686.84 48.4326 L1711.92 72.576 L1702.2 72.576 L1679.15 50.4176 L1679.15 72.576 L1671.65 72.576 L1671.65 9.54393 Z\" fill=\"#000000\" fill-rule=\"evenodd\" fill-opacity=\"1\" /><path clip-path=\"url(#clip430)\" d=\"M 0 0 M1727.11 14.324 L1727.11 27.2059 L1742.46 27.2059 L1742.46 32.9987 L1727.11 32.9987 L1727.11 57.6282 Q1727.11 63.1779 1728.61 64.7578 Q1730.15 66.3376 1734.81 66.3376 L1742.46 66.3376 L1742.46 72.576 L1734.81 72.576 Q1726.18 72.576 1722.9 69.3758 Q1719.62 66.1351 1719.62 57.6282 L1719.62 32.9987 L1714.15 32.9987 L1714.15 27.2059 L1719.62 27.2059 L1719.62 14.324 L1727.11 14.324 Z\" fill=\"#000000\" fill-rule=\"evenodd\" fill-opacity=\"1\" /><path clip-path=\"url(#clip430)\" d=\"M 0 0 M1789.09 48.0275 L1789.09 51.6733 L1754.82 51.6733 Q1755.3 59.3701 1759.44 63.421 Q1763.61 67.4314 1771.02 67.4314 Q1775.32 67.4314 1779.33 66.3781 Q1783.38 65.3249 1787.35 63.2184 L1787.35 70.267 Q1783.34 71.9684 1779.12 72.8596 Q1774.91 73.7508 1770.58 73.7508 Q1759.72 73.7508 1753.36 67.4314 Q1747.04 61.1119 1747.04 50.3365 Q1747.04 39.1965 1753.04 32.6746 Q1759.07 26.1121 1769.28 26.1121 Q1778.44 26.1121 1783.74 32.0264 Q1789.09 37.9003 1789.09 48.0275 M1781.64 45.84 Q1781.55 39.7232 1778.19 36.0774 Q1774.87 32.4315 1769.36 32.4315 Q1763.12 32.4315 1759.36 35.9558 Q1755.63 39.4801 1755.06 45.8805 L1781.64 45.84 Z\" fill=\"#000000\" fill-rule=\"evenodd\" fill-opacity=\"1\" /><path clip-path=\"url(#clip432)\" d=\"\n",
       "M321.278 556.708 L321.278 1423.18 L456.108 1423.18 L456.108 556.708 L321.278 556.708 L321.278 556.708  Z\n",
       "  \" fill=\"#00688b\" fill-rule=\"evenodd\" fill-opacity=\"1\"/>\n",
       "<polyline clip-path=\"url(#clip432)\" style=\"stroke:#000000; stroke-width:4; stroke-opacity:1; fill:none\" points=\"\n",
       "  321.278,556.708 321.278,1423.18 456.108,1423.18 456.108,556.708 321.278,556.708 \n",
       "  \"/>\n",
       "<path clip-path=\"url(#clip432)\" d=\"\n",
       "M826.888 1423.18 L826.888 1423.18 L961.717 1423.18 L961.717 1423.18 L826.888 1423.18 L826.888 1423.18  Z\n",
       "  \" fill=\"#00688b\" fill-rule=\"evenodd\" fill-opacity=\"1\"/>\n",
       "<polyline clip-path=\"url(#clip432)\" style=\"stroke:#000000; stroke-width:4; stroke-opacity:1; fill:none\" points=\"\n",
       "  826.888,1423.18 826.888,1423.18 961.717,1423.18 826.888,1423.18 \n",
       "  \"/>\n",
       "<path clip-path=\"url(#clip432)\" d=\"\n",
       "M1332.5 556.708 L1332.5 1423.18 L1467.33 1423.18 L1467.33 556.708 L1332.5 556.708 L1332.5 556.708  Z\n",
       "  \" fill=\"#00688b\" fill-rule=\"evenodd\" fill-opacity=\"1\"/>\n",
       "<polyline clip-path=\"url(#clip432)\" style=\"stroke:#000000; stroke-width:4; stroke-opacity:1; fill:none\" points=\"\n",
       "  1332.5,556.708 1332.5,1423.18 1467.33,1423.18 1467.33,556.708 1332.5,556.708 \n",
       "  \"/>\n",
       "<path clip-path=\"url(#clip432)\" d=\"\n",
       "M1838.11 556.708 L1838.11 1423.18 L1972.94 1423.18 L1972.94 556.708 L1838.11 556.708 L1838.11 556.708  Z\n",
       "  \" fill=\"#00688b\" fill-rule=\"evenodd\" fill-opacity=\"1\"/>\n",
       "<polyline clip-path=\"url(#clip432)\" style=\"stroke:#000000; stroke-width:4; stroke-opacity:1; fill:none\" points=\"\n",
       "  1838.11,556.708 1838.11,1423.18 1972.94,1423.18 1972.94,556.708 1838.11,556.708 \n",
       "  \"/>\n",
       "<path clip-path=\"url(#clip432)\" d=\"\n",
       "M456.108 1423.18 L456.108 1423.18 L590.937 1423.18 L590.937 1423.18 L456.108 1423.18 L456.108 1423.18  Z\n",
       "  \" fill=\"#d6d6d6\" fill-rule=\"evenodd\" fill-opacity=\"1\"/>\n",
       "<polyline clip-path=\"url(#clip432)\" style=\"stroke:#000000; stroke-width:4; stroke-opacity:1; fill:none\" points=\"\n",
       "  456.108,1423.18 456.108,1423.18 590.937,1423.18 456.108,1423.18 \n",
       "  \"/>\n",
       "<path clip-path=\"url(#clip432)\" d=\"\n",
       "M961.717 556.708 L961.717 1423.18 L1096.55 1423.18 L1096.55 556.708 L961.717 556.708 L961.717 556.708  Z\n",
       "  \" fill=\"#d6d6d6\" fill-rule=\"evenodd\" fill-opacity=\"1\"/>\n",
       "<polyline clip-path=\"url(#clip432)\" style=\"stroke:#000000; stroke-width:4; stroke-opacity:1; fill:none\" points=\"\n",
       "  961.717,556.708 961.717,1423.18 1096.55,1423.18 1096.55,556.708 961.717,556.708 \n",
       "  \"/>\n",
       "<path clip-path=\"url(#clip432)\" d=\"\n",
       "M1467.33 556.708 L1467.33 1423.18 L1602.16 1423.18 L1602.16 556.708 L1467.33 556.708 L1467.33 556.708  Z\n",
       "  \" fill=\"#d6d6d6\" fill-rule=\"evenodd\" fill-opacity=\"1\"/>\n",
       "<polyline clip-path=\"url(#clip432)\" style=\"stroke:#000000; stroke-width:4; stroke-opacity:1; fill:none\" points=\"\n",
       "  1467.33,556.708 1467.33,1423.18 1602.16,1423.18 1602.16,556.708 1467.33,556.708 \n",
       "  \"/>\n",
       "<path clip-path=\"url(#clip432)\" d=\"\n",
       "M1972.94 1423.18 L1972.94 1423.18 L2107.76 1423.18 L2107.76 1423.18 L1972.94 1423.18 L1972.94 1423.18  Z\n",
       "  \" fill=\"#d6d6d6\" fill-rule=\"evenodd\" fill-opacity=\"1\"/>\n",
       "<polyline clip-path=\"url(#clip432)\" style=\"stroke:#000000; stroke-width:4; stroke-opacity:1; fill:none\" points=\"\n",
       "  1972.94,1423.18 1972.94,1423.18 2107.76,1423.18 1972.94,1423.18 \n",
       "  \"/>\n",
       "<path clip-path=\"url(#clip432)\" d=\"\n",
       "M590.937 556.708 L590.937 1423.18 L725.766 1423.18 L725.766 556.708 L590.937 556.708 L590.937 556.708  Z\n",
       "  \" fill=\"#cd0000\" fill-rule=\"evenodd\" fill-opacity=\"1\"/>\n",
       "<polyline clip-path=\"url(#clip432)\" style=\"stroke:#000000; stroke-width:4; stroke-opacity:1; fill:none\" points=\"\n",
       "  590.937,556.708 590.937,1423.18 725.766,1423.18 725.766,556.708 590.937,556.708 \n",
       "  \"/>\n",
       "<path clip-path=\"url(#clip432)\" d=\"\n",
       "M1096.55 556.708 L1096.55 1423.18 L1231.38 1423.18 L1231.38 556.708 L1096.55 556.708 L1096.55 556.708  Z\n",
       "  \" fill=\"#cd0000\" fill-rule=\"evenodd\" fill-opacity=\"1\"/>\n",
       "<polyline clip-path=\"url(#clip432)\" style=\"stroke:#000000; stroke-width:4; stroke-opacity:1; fill:none\" points=\"\n",
       "  1096.55,556.708 1096.55,1423.18 1231.38,1423.18 1231.38,556.708 1096.55,556.708 \n",
       "  \"/>\n",
       "<path clip-path=\"url(#clip432)\" d=\"\n",
       "M1602.16 1423.18 L1602.16 1423.18 L1736.98 1423.18 L1736.98 1423.18 L1602.16 1423.18 L1602.16 1423.18  Z\n",
       "  \" fill=\"#cd0000\" fill-rule=\"evenodd\" fill-opacity=\"1\"/>\n",
       "<polyline clip-path=\"url(#clip432)\" style=\"stroke:#000000; stroke-width:4; stroke-opacity:1; fill:none\" points=\"\n",
       "  1602.16,1423.18 1602.16,1423.18 1736.98,1423.18 1602.16,1423.18 \n",
       "  \"/>\n",
       "<path clip-path=\"url(#clip432)\" d=\"\n",
       "M2107.76 556.708 L2107.76 1423.18 L2242.59 1423.18 L2242.59 556.708 L2107.76 556.708 L2107.76 556.708  Z\n",
       "  \" fill=\"#cd0000\" fill-rule=\"evenodd\" fill-opacity=\"1\"/>\n",
       "<polyline clip-path=\"url(#clip432)\" style=\"stroke:#000000; stroke-width:4; stroke-opacity:1; fill:none\" points=\"\n",
       "  2107.76,556.708 2107.76,1423.18 2242.59,1423.18 2242.59,556.708 2107.76,556.708 \n",
       "  \"/>\n",
       "<path clip-path=\"url(#clip430)\" d=\"\n",
       "M1839.33 408.716 L2281.37 408.716 L2281.37 166.796 L1839.33 166.796  Z\n",
       "  \" fill=\"#ffffff\" fill-rule=\"evenodd\" fill-opacity=\"1\"/>\n",
       "<polyline clip-path=\"url(#clip430)\" style=\"stroke:#000000; stroke-width:4; stroke-opacity:1; fill:none\" points=\"\n",
       "  1839.33,408.716 2281.37,408.716 2281.37,166.796 1839.33,166.796 1839.33,408.716 \n",
       "  \"/>\n",
       "<path clip-path=\"url(#clip430)\" d=\"\n",
       "M1863.13 251.468 L2005.91 251.468 L2005.91 203.084 L1863.13 203.084 L1863.13 251.468  Z\n",
       "  \" fill=\"#00688b\" fill-rule=\"evenodd\" fill-opacity=\"1\"/>\n",
       "<polyline clip-path=\"url(#clip430)\" style=\"stroke:#000000; stroke-width:4; stroke-opacity:1; fill:none\" points=\"\n",
       "  1863.13,251.468 2005.91,251.468 2005.91,203.084 1863.13,203.084 1863.13,251.468 \n",
       "  \"/>\n",
       "<path clip-path=\"url(#clip430)\" d=\"M 0 0 M2034.38 213.838 L2034.38 226.824 L2040.26 226.824 Q2043.52 226.824 2045.3 225.135 Q2047.09 223.445 2047.09 220.32 Q2047.09 217.218 2045.3 215.528 Q2043.52 213.838 2040.26 213.838 L2034.38 213.838 M2029.7 209.996 L2040.26 209.996 Q2046.07 209.996 2049.03 212.635 Q2052.02 215.25 2052.02 220.32 Q2052.02 225.435 2049.03 228.051 Q2046.07 230.667 2040.26 230.667 L2034.38 230.667 L2034.38 244.556 L2029.7 244.556 L2029.7 209.996 Z\" fill=\"#000000\" fill-rule=\"evenodd\" fill-opacity=\"1\" /><path clip-path=\"url(#clip430)\" d=\"M 0 0 M2070.67 222.611 Q2069.96 222.195 2069.1 222.01 Q2068.27 221.801 2067.25 221.801 Q2063.64 221.801 2061.69 224.162 Q2059.77 226.5 2059.77 230.898 L2059.77 244.556 L2055.49 244.556 L2055.49 218.63 L2059.77 218.63 L2059.77 222.658 Q2061.11 220.297 2063.27 219.162 Q2065.42 218.005 2068.5 218.005 Q2068.94 218.005 2069.47 218.074 Q2070 218.121 2070.65 218.236 L2070.67 222.611 Z\" fill=\"#000000\" fill-rule=\"evenodd\" fill-opacity=\"1\" /><path clip-path=\"url(#clip430)\" d=\"M 0 0 M2084.15 221.616 Q2080.72 221.616 2078.73 224.301 Q2076.74 226.963 2076.74 231.616 Q2076.74 236.269 2078.71 238.954 Q2080.7 241.616 2084.15 241.616 Q2087.55 241.616 2089.54 238.931 Q2091.53 236.246 2091.53 231.616 Q2091.53 227.01 2089.54 224.324 Q2087.55 221.616 2084.15 221.616 M2084.15 218.005 Q2089.7 218.005 2092.87 221.616 Q2096.05 225.227 2096.05 231.616 Q2096.05 237.982 2092.87 241.616 Q2089.7 245.227 2084.15 245.227 Q2078.57 245.227 2075.4 241.616 Q2072.25 237.982 2072.25 231.616 Q2072.25 225.227 2075.4 221.616 Q2078.57 218.005 2084.15 218.005 Z\" fill=\"#000000\" fill-rule=\"evenodd\" fill-opacity=\"1\" /><path clip-path=\"url(#clip430)\" d=\"M 0 0 M2117.57 222.565 L2117.57 208.537 L2121.83 208.537 L2121.83 244.556 L2117.57 244.556 L2117.57 240.667 Q2116.23 242.982 2114.17 244.116 Q2112.13 245.227 2109.26 245.227 Q2104.56 245.227 2101.6 241.477 Q2098.66 237.727 2098.66 231.616 Q2098.66 225.505 2101.6 221.755 Q2104.56 218.005 2109.26 218.005 Q2112.13 218.005 2114.17 219.139 Q2116.23 220.25 2117.57 222.565 M2103.06 231.616 Q2103.06 236.315 2104.98 239 Q2106.92 241.662 2110.3 241.662 Q2113.68 241.662 2115.63 239 Q2117.57 236.315 2117.57 231.616 Q2117.57 226.917 2115.63 224.255 Q2113.68 221.57 2110.3 221.57 Q2106.92 221.57 2104.98 224.255 Q2103.06 226.917 2103.06 231.616 Z\" fill=\"#000000\" fill-rule=\"evenodd\" fill-opacity=\"1\" /><path clip-path=\"url(#clip430)\" d=\"M 0 0 M2125.86 234.324 L2125.86 218.63 L2130.12 218.63 L2130.12 234.162 Q2130.12 237.843 2131.55 239.695 Q2132.99 241.523 2135.86 241.523 Q2139.31 241.523 2141.3 239.324 Q2143.31 237.125 2143.31 233.329 L2143.31 218.63 L2147.57 218.63 L2147.57 244.556 L2143.31 244.556 L2143.31 240.574 Q2141.76 242.935 2139.7 244.093 Q2137.67 245.227 2134.96 245.227 Q2130.49 245.227 2128.17 242.449 Q2125.86 239.671 2125.86 234.324 M2136.58 218.005 L2136.58 218.005 Z\" fill=\"#000000\" fill-rule=\"evenodd\" fill-opacity=\"1\" /><path clip-path=\"url(#clip430)\" d=\"M 0 0 M2151.88 208.537 L2156.16 208.537 L2156.16 229.81 L2168.87 218.63 L2174.31 218.63 L2160.56 230.759 L2174.89 244.556 L2169.33 244.556 L2156.16 231.894 L2156.16 244.556 L2151.88 244.556 L2151.88 208.537 Z\" fill=\"#000000\" fill-rule=\"evenodd\" fill-opacity=\"1\" /><path clip-path=\"url(#clip430)\" d=\"M 0 0 M2183.57 211.269 L2183.57 218.63 L2192.34 218.63 L2192.34 221.94 L2183.57 221.94 L2183.57 236.014 Q2183.57 239.185 2184.42 240.088 Q2185.3 240.991 2187.97 240.991 L2192.34 240.991 L2192.34 244.556 L2187.97 244.556 Q2183.04 244.556 2181.16 242.727 Q2179.29 240.875 2179.29 236.014 L2179.29 221.94 L2176.16 221.94 L2176.16 218.63 L2179.29 218.63 L2179.29 211.269 L2183.57 211.269 Z\" fill=\"#000000\" fill-rule=\"evenodd\" fill-opacity=\"1\" /><path clip-path=\"url(#clip430)\" d=\"M 0 0 M2213.29 240.621 L2220.93 240.621 L2220.93 214.255 L2212.62 215.922 L2212.62 211.662 L2220.88 209.996 L2225.56 209.996 L2225.56 240.621 L2233.2 240.621 L2233.2 244.556 L2213.29 244.556 L2213.29 240.621 Z\" fill=\"#000000\" fill-rule=\"evenodd\" fill-opacity=\"1\" /><path clip-path=\"url(#clip430)\" d=\"\n",
       "M1863.13 311.948 L2005.91 311.948 L2005.91 263.564 L1863.13 263.564 L1863.13 311.948  Z\n",
       "  \" fill=\"#d6d6d6\" fill-rule=\"evenodd\" fill-opacity=\"1\"/>\n",
       "<polyline clip-path=\"url(#clip430)\" style=\"stroke:#000000; stroke-width:4; stroke-opacity:1; fill:none\" points=\"\n",
       "  1863.13,311.948 2005.91,311.948 2005.91,263.564 1863.13,263.564 1863.13,311.948 \n",
       "  \"/>\n",
       "<path clip-path=\"url(#clip430)\" d=\"M 0 0 M2034.38 274.318 L2034.38 287.304 L2040.26 287.304 Q2043.52 287.304 2045.3 285.615 Q2047.09 283.925 2047.09 280.8 Q2047.09 277.698 2045.3 276.008 Q2043.52 274.318 2040.26 274.318 L2034.38 274.318 M2029.7 270.476 L2040.26 270.476 Q2046.07 270.476 2049.03 273.115 Q2052.02 275.73 2052.02 280.8 Q2052.02 285.915 2049.03 288.531 Q2046.07 291.147 2040.26 291.147 L2034.38 291.147 L2034.38 305.036 L2029.7 305.036 L2029.7 270.476 Z\" fill=\"#000000\" fill-rule=\"evenodd\" fill-opacity=\"1\" /><path clip-path=\"url(#clip430)\" d=\"M 0 0 M2070.67 283.091 Q2069.96 282.675 2069.1 282.49 Q2068.27 282.281 2067.25 282.281 Q2063.64 282.281 2061.69 284.642 Q2059.77 286.98 2059.77 291.378 L2059.77 305.036 L2055.49 305.036 L2055.49 279.11 L2059.77 279.11 L2059.77 283.138 Q2061.11 280.777 2063.27 279.642 Q2065.42 278.485 2068.5 278.485 Q2068.94 278.485 2069.47 278.554 Q2070 278.601 2070.65 278.716 L2070.67 283.091 Z\" fill=\"#000000\" fill-rule=\"evenodd\" fill-opacity=\"1\" /><path clip-path=\"url(#clip430)\" d=\"M 0 0 M2084.15 282.096 Q2080.72 282.096 2078.73 284.781 Q2076.74 287.443 2076.74 292.096 Q2076.74 296.749 2078.71 299.434 Q2080.7 302.096 2084.15 302.096 Q2087.55 302.096 2089.54 299.411 Q2091.53 296.726 2091.53 292.096 Q2091.53 287.49 2089.54 284.804 Q2087.55 282.096 2084.15 282.096 M2084.15 278.485 Q2089.7 278.485 2092.87 282.096 Q2096.05 285.707 2096.05 292.096 Q2096.05 298.462 2092.87 302.096 Q2089.7 305.707 2084.15 305.707 Q2078.57 305.707 2075.4 302.096 Q2072.25 298.462 2072.25 292.096 Q2072.25 285.707 2075.4 282.096 Q2078.57 278.485 2084.15 278.485 Z\" fill=\"#000000\" fill-rule=\"evenodd\" fill-opacity=\"1\" /><path clip-path=\"url(#clip430)\" d=\"M 0 0 M2117.57 283.045 L2117.57 269.017 L2121.83 269.017 L2121.83 305.036 L2117.57 305.036 L2117.57 301.147 Q2116.23 303.462 2114.17 304.596 Q2112.13 305.707 2109.26 305.707 Q2104.56 305.707 2101.6 301.957 Q2098.66 298.207 2098.66 292.096 Q2098.66 285.985 2101.6 282.235 Q2104.56 278.485 2109.26 278.485 Q2112.13 278.485 2114.17 279.619 Q2116.23 280.73 2117.57 283.045 M2103.06 292.096 Q2103.06 296.795 2104.98 299.48 Q2106.92 302.142 2110.3 302.142 Q2113.68 302.142 2115.63 299.48 Q2117.57 296.795 2117.57 292.096 Q2117.57 287.397 2115.63 284.735 Q2113.68 282.05 2110.3 282.05 Q2106.92 282.05 2104.98 284.735 Q2103.06 287.397 2103.06 292.096 Z\" fill=\"#000000\" fill-rule=\"evenodd\" fill-opacity=\"1\" /><path clip-path=\"url(#clip430)\" d=\"M 0 0 M2125.86 294.804 L2125.86 279.11 L2130.12 279.11 L2130.12 294.642 Q2130.12 298.323 2131.55 300.175 Q2132.99 302.003 2135.86 302.003 Q2139.31 302.003 2141.3 299.804 Q2143.31 297.605 2143.31 293.809 L2143.31 279.11 L2147.57 279.11 L2147.57 305.036 L2143.31 305.036 L2143.31 301.054 Q2141.76 303.415 2139.7 304.573 Q2137.67 305.707 2134.96 305.707 Q2130.49 305.707 2128.17 302.929 Q2125.86 300.151 2125.86 294.804 M2136.58 278.485 L2136.58 278.485 Z\" fill=\"#000000\" fill-rule=\"evenodd\" fill-opacity=\"1\" /><path clip-path=\"url(#clip430)\" d=\"M 0 0 M2151.88 269.017 L2156.16 269.017 L2156.16 290.29 L2168.87 279.11 L2174.31 279.11 L2160.56 291.239 L2174.89 305.036 L2169.33 305.036 L2156.16 292.374 L2156.16 305.036 L2151.88 305.036 L2151.88 269.017 Z\" fill=\"#000000\" fill-rule=\"evenodd\" fill-opacity=\"1\" /><path clip-path=\"url(#clip430)\" d=\"M 0 0 M2183.57 271.749 L2183.57 279.11 L2192.34 279.11 L2192.34 282.42 L2183.57 282.42 L2183.57 296.494 Q2183.57 299.665 2184.42 300.568 Q2185.3 301.471 2187.97 301.471 L2192.34 301.471 L2192.34 305.036 L2187.97 305.036 Q2183.04 305.036 2181.16 303.207 Q2179.29 301.355 2179.29 296.494 L2179.29 282.42 L2176.16 282.42 L2176.16 279.11 L2179.29 279.11 L2179.29 271.749 L2183.57 271.749 Z\" fill=\"#000000\" fill-rule=\"evenodd\" fill-opacity=\"1\" /><path clip-path=\"url(#clip430)\" d=\"M 0 0 M2216.51 301.101 L2232.83 301.101 L2232.83 305.036 L2210.88 305.036 L2210.88 301.101 Q2213.54 298.346 2218.13 293.716 Q2222.73 289.064 2223.91 287.721 Q2226.16 285.198 2227.04 283.462 Q2227.94 281.703 2227.94 280.013 Q2227.94 277.258 2226 275.522 Q2224.08 273.786 2220.98 273.786 Q2218.78 273.786 2216.32 274.55 Q2213.89 275.314 2211.11 276.865 L2211.11 272.142 Q2213.94 271.008 2216.39 270.429 Q2218.85 269.851 2220.88 269.851 Q2226.25 269.851 2229.45 272.536 Q2232.64 275.221 2232.64 279.712 Q2232.64 281.841 2231.83 283.763 Q2231.04 285.661 2228.94 288.253 Q2228.36 288.925 2225.26 292.142 Q2222.16 295.337 2216.51 301.101 Z\" fill=\"#000000\" fill-rule=\"evenodd\" fill-opacity=\"1\" /><path clip-path=\"url(#clip430)\" d=\"\n",
       "M1863.13 372.428 L2005.91 372.428 L2005.91 324.044 L1863.13 324.044 L1863.13 372.428  Z\n",
       "  \" fill=\"#cd0000\" fill-rule=\"evenodd\" fill-opacity=\"1\"/>\n",
       "<polyline clip-path=\"url(#clip430)\" style=\"stroke:#000000; stroke-width:4; stroke-opacity:1; fill:none\" points=\"\n",
       "  1863.13,372.428 2005.91,372.428 2005.91,324.044 1863.13,324.044 1863.13,372.428 \n",
       "  \"/>\n",
       "<path clip-path=\"url(#clip430)\" d=\"M 0 0 M2034.38 334.798 L2034.38 347.784 L2040.26 347.784 Q2043.52 347.784 2045.3 346.095 Q2047.09 344.405 2047.09 341.28 Q2047.09 338.178 2045.3 336.488 Q2043.52 334.798 2040.26 334.798 L2034.38 334.798 M2029.7 330.956 L2040.26 330.956 Q2046.07 330.956 2049.03 333.595 Q2052.02 336.21 2052.02 341.28 Q2052.02 346.395 2049.03 349.011 Q2046.07 351.627 2040.26 351.627 L2034.38 351.627 L2034.38 365.516 L2029.7 365.516 L2029.7 330.956 Z\" fill=\"#000000\" fill-rule=\"evenodd\" fill-opacity=\"1\" /><path clip-path=\"url(#clip430)\" d=\"M 0 0 M2070.67 343.571 Q2069.96 343.155 2069.1 342.97 Q2068.27 342.761 2067.25 342.761 Q2063.64 342.761 2061.69 345.122 Q2059.77 347.46 2059.77 351.858 L2059.77 365.516 L2055.49 365.516 L2055.49 339.59 L2059.77 339.59 L2059.77 343.618 Q2061.11 341.257 2063.27 340.122 Q2065.42 338.965 2068.5 338.965 Q2068.94 338.965 2069.47 339.034 Q2070 339.081 2070.65 339.196 L2070.67 343.571 Z\" fill=\"#000000\" fill-rule=\"evenodd\" fill-opacity=\"1\" /><path clip-path=\"url(#clip430)\" d=\"M 0 0 M2084.15 342.576 Q2080.72 342.576 2078.73 345.261 Q2076.74 347.923 2076.74 352.576 Q2076.74 357.229 2078.71 359.914 Q2080.7 362.576 2084.15 362.576 Q2087.55 362.576 2089.54 359.891 Q2091.53 357.206 2091.53 352.576 Q2091.53 347.97 2089.54 345.284 Q2087.55 342.576 2084.15 342.576 M2084.15 338.965 Q2089.7 338.965 2092.87 342.576 Q2096.05 346.187 2096.05 352.576 Q2096.05 358.942 2092.87 362.576 Q2089.7 366.187 2084.15 366.187 Q2078.57 366.187 2075.4 362.576 Q2072.25 358.942 2072.25 352.576 Q2072.25 346.187 2075.4 342.576 Q2078.57 338.965 2084.15 338.965 Z\" fill=\"#000000\" fill-rule=\"evenodd\" fill-opacity=\"1\" /><path clip-path=\"url(#clip430)\" d=\"M 0 0 M2117.57 343.525 L2117.57 329.497 L2121.83 329.497 L2121.83 365.516 L2117.57 365.516 L2117.57 361.627 Q2116.23 363.942 2114.17 365.076 Q2112.13 366.187 2109.26 366.187 Q2104.56 366.187 2101.6 362.437 Q2098.66 358.687 2098.66 352.576 Q2098.66 346.465 2101.6 342.715 Q2104.56 338.965 2109.26 338.965 Q2112.13 338.965 2114.17 340.099 Q2116.23 341.21 2117.57 343.525 M2103.06 352.576 Q2103.06 357.275 2104.98 359.96 Q2106.92 362.622 2110.3 362.622 Q2113.68 362.622 2115.63 359.96 Q2117.57 357.275 2117.57 352.576 Q2117.57 347.877 2115.63 345.215 Q2113.68 342.53 2110.3 342.53 Q2106.92 342.53 2104.98 345.215 Q2103.06 347.877 2103.06 352.576 Z\" fill=\"#000000\" fill-rule=\"evenodd\" fill-opacity=\"1\" /><path clip-path=\"url(#clip430)\" d=\"M 0 0 M2125.86 355.284 L2125.86 339.59 L2130.12 339.59 L2130.12 355.122 Q2130.12 358.803 2131.55 360.655 Q2132.99 362.483 2135.86 362.483 Q2139.31 362.483 2141.3 360.284 Q2143.31 358.085 2143.31 354.289 L2143.31 339.59 L2147.57 339.59 L2147.57 365.516 L2143.31 365.516 L2143.31 361.534 Q2141.76 363.895 2139.7 365.053 Q2137.67 366.187 2134.96 366.187 Q2130.49 366.187 2128.17 363.409 Q2125.86 360.631 2125.86 355.284 M2136.58 338.965 L2136.58 338.965 Z\" fill=\"#000000\" fill-rule=\"evenodd\" fill-opacity=\"1\" /><path clip-path=\"url(#clip430)\" d=\"M 0 0 M2151.88 329.497 L2156.16 329.497 L2156.16 350.77 L2168.87 339.59 L2174.31 339.59 L2160.56 351.719 L2174.89 365.516 L2169.33 365.516 L2156.16 352.854 L2156.16 365.516 L2151.88 365.516 L2151.88 329.497 Z\" fill=\"#000000\" fill-rule=\"evenodd\" fill-opacity=\"1\" /><path clip-path=\"url(#clip430)\" d=\"M 0 0 M2183.57 332.229 L2183.57 339.59 L2192.34 339.59 L2192.34 342.9 L2183.57 342.9 L2183.57 356.974 Q2183.57 360.145 2184.42 361.048 Q2185.3 361.951 2187.97 361.951 L2192.34 361.951 L2192.34 365.516 L2187.97 365.516 Q2183.04 365.516 2181.16 363.687 Q2179.29 361.835 2179.29 356.974 L2179.29 342.9 L2176.16 342.9 L2176.16 339.59 L2179.29 339.59 L2179.29 332.229 L2183.57 332.229 Z\" fill=\"#000000\" fill-rule=\"evenodd\" fill-opacity=\"1\" /><path clip-path=\"url(#clip430)\" d=\"M 0 0 M2226.65 346.882 Q2230 347.599 2231.88 349.868 Q2233.78 352.136 2233.78 355.469 Q2233.78 360.585 2230.26 363.386 Q2226.74 366.187 2220.26 366.187 Q2218.08 366.187 2215.77 365.747 Q2213.48 365.331 2211.02 364.474 L2211.02 359.96 Q2212.97 361.094 2215.28 361.673 Q2217.6 362.252 2220.12 362.252 Q2224.52 362.252 2226.81 360.516 Q2229.12 358.78 2229.12 355.469 Q2229.12 352.414 2226.97 350.701 Q2224.84 348.965 2221.02 348.965 L2216.99 348.965 L2216.99 345.122 L2221.21 345.122 Q2224.66 345.122 2226.48 343.757 Q2228.31 342.368 2228.31 339.775 Q2228.31 337.113 2226.41 335.701 Q2224.54 334.266 2221.02 334.266 Q2219.1 334.266 2216.9 334.683 Q2214.7 335.099 2212.06 335.979 L2212.06 331.812 Q2214.73 331.071 2217.04 330.701 Q2219.38 330.331 2221.44 330.331 Q2226.76 330.331 2229.86 332.761 Q2232.97 335.169 2232.97 339.289 Q2232.97 342.159 2231.32 344.15 Q2229.68 346.118 2226.65 346.882 Z\" fill=\"#000000\" fill-rule=\"evenodd\" fill-opacity=\"1\" /></svg>\n"
      ]
     },
     "execution_count": 46,
     "metadata": {},
     "output_type": "execute_result"
    }
   ],
   "source": [
    "groupedbar(bardataGamma, label=[\"Produkt 1\" \"Produkt 2\" \"Produkt 3\"], xlabel = \"Periode\",\n",
    "           ylabel = \"Rüstvariable\", title = \"Rüstvariablen der Produkte\",\n",
    "           colour = [:DeepSkyBlue4 :grey84 :Red3], ylim = (0,1.5))\n"
   ]
  }
 ],
 "metadata": {
  "@webio": {
   "lastCommId": null,
   "lastKernelId": null
  },
  "kernelspec": {
   "display_name": "JuliaPro_v1.5.3-1 1.5.3",
   "language": "julia",
   "name": "juliapro_v1.5.3-1-1.5"
  },
  "language_info": {
   "file_extension": ".jl",
   "mimetype": "application/julia",
   "name": "julia",
   "version": "1.5.3"
  }
 },
 "nbformat": 4,
 "nbformat_minor": 2
}
