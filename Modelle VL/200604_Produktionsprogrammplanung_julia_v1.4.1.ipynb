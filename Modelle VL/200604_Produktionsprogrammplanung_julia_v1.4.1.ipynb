{
 "cells": [
  {
   "cell_type": "markdown",
   "metadata": {
    "slideshow": {
     "slide_type": "slide"
    }
   },
   "source": [
    "## Einrichtung von Julia JuMP\n",
    "---"
   ]
  },
  {
   "cell_type": "markdown",
   "metadata": {
    "slideshow": {
     "slide_type": "fragment"
    }
   },
   "source": [
    "Überprüfen Sie die bereits installierten Pakete. In der JuliaBox sind möglicherweise alle notwendigen Pakete bereits vorhanden.\n"
   ]
  },
  {
   "cell_type": "code",
   "execution_count": 1,
   "metadata": {
    "scrolled": true,
    "slideshow": {
     "slide_type": "fragment"
    }
   },
   "outputs": [
    {
     "name": "stdout",
     "output_type": "stream",
     "text": [
      "\u001b[32m\u001b[1mStatus\u001b[22m\u001b[39m `C:\\Users\\Kristian\\.julia\\environments\\v1.4\\Project.toml`\n",
      " \u001b[90m [7073ff75]\u001b[39m\u001b[37m IJulia v1.21.2\u001b[39m\n"
     ]
    }
   ],
   "source": [
    "using Pkg;\n",
    "Pkg.status()"
   ]
  },
  {
   "cell_type": "markdown",
   "metadata": {
    "slideshow": {
     "slide_type": "slide"
    }
   },
   "source": [
    "Installieren Sie ``JuMP`` , mit dem Sie einfach Optimierungsprogramme formulieren können, sowie ``Clp``, einen open-source Solver zum Lösen des Problems, und ``StatsPlots`` zur Visualisierung der Lösung.\n"
   ]
  },
  {
   "cell_type": "code",
   "execution_count": 2,
   "metadata": {
    "slideshow": {
     "slide_type": "fragment"
    }
   },
   "outputs": [
    {
     "name": "stderr",
     "output_type": "stream",
     "text": [
      "\u001b[32m\u001b[1m   Updating\u001b[22m\u001b[39m registry at `C:\\Users\\Kristian\\.julia\\registries\\General`\n"
     ]
    },
    {
     "name": "stdout",
     "output_type": "stream",
     "text": [
      "\u001b[?25l"
     ]
    },
    {
     "name": "stderr",
     "output_type": "stream",
     "text": [
      "\u001b[32m\u001b[1m   Updating\u001b[22m\u001b[39m git-repo `https://github.com/JuliaRegistries/General.git`\n"
     ]
    },
    {
     "name": "stdout",
     "output_type": "stream",
     "text": [
      "\u001b[2K\u001b[?25h"
     ]
    },
    {
     "name": "stderr",
     "output_type": "stream",
     "text": [
      "\u001b[32m\u001b[1m  Resolving\u001b[22m\u001b[39m package versions...\n",
      "\u001b[32m\u001b[1m  Installed\u001b[22m\u001b[39m OpenSpecFun_jll ────────────── v0.5.3+3\n",
      "\u001b[32m\u001b[1m  Installed\u001b[22m\u001b[39m JSONSchema ─────────────────── v0.3.0\n",
      "\u001b[32m\u001b[1m  Installed\u001b[22m\u001b[39m CompilerSupportLibraries_jll ─ v0.3.3+0\n",
      "\u001b[32m\u001b[1m  Installed\u001b[22m\u001b[39m CodecBzip2 ─────────────────── v0.7.2\n",
      "\u001b[32m\u001b[1m  Installed\u001b[22m\u001b[39m OrderedCollections ─────────── v1.2.0\n",
      "\u001b[32m\u001b[1m  Installed\u001b[22m\u001b[39m MutableArithmetics ─────────── v0.2.9\n",
      "\u001b[32m\u001b[1m  Installed\u001b[22m\u001b[39m StaticArrays ───────────────── v0.12.3\n",
      "\u001b[32m\u001b[1m  Installed\u001b[22m\u001b[39m JuMP ───────────────────────── v0.21.2\n",
      "\u001b[32m\u001b[1m  Installed\u001b[22m\u001b[39m DiffRules ──────────────────── v1.0.1\n",
      "\u001b[32m\u001b[1m  Installed\u001b[22m\u001b[39m CodecZlib ──────────────────── v0.7.0\n",
      "\u001b[32m\u001b[1m  Installed\u001b[22m\u001b[39m ZipFile ────────────────────── v0.9.2\n",
      "\u001b[32m\u001b[1m  Installed\u001b[22m\u001b[39m BenchmarkTools ─────────────── v0.5.0\n",
      "\u001b[32m\u001b[1m  Installed\u001b[22m\u001b[39m ForwardDiff ────────────────── v0.10.10\n",
      "\u001b[32m\u001b[1m  Installed\u001b[22m\u001b[39m HTTP ───────────────────────── v0.8.15\n",
      "\u001b[32m\u001b[1m  Installed\u001b[22m\u001b[39m DataStructures ─────────────── v0.17.17\n",
      "\u001b[32m\u001b[1m  Installed\u001b[22m\u001b[39m Bzip2_jll ──────────────────── v1.0.6+2\n",
      "\u001b[32m\u001b[1m  Installed\u001b[22m\u001b[39m MathOptInterface ───────────── v0.9.14\n",
      "\u001b[32m\u001b[1m  Installed\u001b[22m\u001b[39m Zlib_jll ───────────────────── v1.2.11+10\n",
      "\u001b[32m\u001b[1m  Installed\u001b[22m\u001b[39m SpecialFunctions ───────────── v0.10.3\n",
      "\u001b[32m\u001b[1m   Updating\u001b[22m\u001b[39m `C:\\Users\\Kristian\\.julia\\environments\\v1.4\\Project.toml`\n",
      " \u001b[90m [4076af6c]\u001b[39m\u001b[92m + JuMP v0.21.2\u001b[39m\n",
      "\u001b[32m\u001b[1m   Updating\u001b[22m\u001b[39m `C:\\Users\\Kristian\\.julia\\environments\\v1.4\\Manifest.toml`\n",
      " \u001b[90m [6e4b80f9]\u001b[39m\u001b[92m + BenchmarkTools v0.5.0\u001b[39m\n",
      " \u001b[90m [6e34b625]\u001b[39m\u001b[92m + Bzip2_jll v1.0.6+2\u001b[39m\n",
      " \u001b[90m [49dc2e85]\u001b[39m\u001b[92m + Calculus v0.5.1\u001b[39m\n",
      " \u001b[90m [523fee87]\u001b[39m\u001b[92m + CodecBzip2 v0.7.2\u001b[39m\n",
      " \u001b[90m [944b1d66]\u001b[39m\u001b[92m + CodecZlib v0.7.0\u001b[39m\n",
      " \u001b[90m [bbf7d656]\u001b[39m\u001b[92m + CommonSubexpressions v0.2.0\u001b[39m\n",
      " \u001b[90m [e66e0078]\u001b[39m\u001b[92m + CompilerSupportLibraries_jll v0.3.3+0\u001b[39m\n",
      " \u001b[90m [864edb3b]\u001b[39m\u001b[92m + DataStructures v0.17.17\u001b[39m\n",
      " \u001b[90m [163ba53b]\u001b[39m\u001b[92m + DiffResults v1.0.2\u001b[39m\n",
      " \u001b[90m [b552c78f]\u001b[39m\u001b[92m + DiffRules v1.0.1\u001b[39m\n",
      " \u001b[90m [f6369f11]\u001b[39m\u001b[92m + ForwardDiff v0.10.10\u001b[39m\n",
      " \u001b[90m [cd3eb016]\u001b[39m\u001b[92m + HTTP v0.8.15\u001b[39m\n",
      " \u001b[90m [83e8ac13]\u001b[39m\u001b[92m + IniFile v0.5.0\u001b[39m\n",
      " \u001b[90m [7d188eb4]\u001b[39m\u001b[92m + JSONSchema v0.3.0\u001b[39m\n",
      " \u001b[90m [4076af6c]\u001b[39m\u001b[92m + JuMP v0.21.2\u001b[39m\n",
      " \u001b[90m [b8f27783]\u001b[39m\u001b[92m + MathOptInterface v0.9.14\u001b[39m\n",
      " \u001b[90m [d8a4904e]\u001b[39m\u001b[92m + MutableArithmetics v0.2.9\u001b[39m\n",
      " \u001b[90m [77ba4419]\u001b[39m\u001b[92m + NaNMath v0.3.3\u001b[39m\n",
      " \u001b[90m [efe28fd5]\u001b[39m\u001b[92m + OpenSpecFun_jll v0.5.3+3\u001b[39m\n",
      " \u001b[90m [bac558e1]\u001b[39m\u001b[92m + OrderedCollections v1.2.0\u001b[39m\n",
      " \u001b[90m [276daf66]\u001b[39m\u001b[92m + SpecialFunctions v0.10.3\u001b[39m\n",
      " \u001b[90m [90137ffa]\u001b[39m\u001b[92m + StaticArrays v0.12.3\u001b[39m\n",
      " \u001b[90m [3bb67fe8]\u001b[39m\u001b[92m + TranscodingStreams v0.9.5\u001b[39m\n",
      " \u001b[90m [a5390f91]\u001b[39m\u001b[92m + ZipFile v0.9.2\u001b[39m\n",
      " \u001b[90m [83775a58]\u001b[39m\u001b[92m + Zlib_jll v1.2.11+10\u001b[39m\n",
      " \u001b[90m [37e2e46d]\u001b[39m\u001b[92m + LinearAlgebra \u001b[39m\n",
      " \u001b[90m [2f01184e]\u001b[39m\u001b[92m + SparseArrays \u001b[39m\n",
      " \u001b[90m [10745b16]\u001b[39m\u001b[92m + Statistics \u001b[39m\n",
      "\u001b[32m\u001b[1m  Resolving\u001b[22m\u001b[39m package versions...\n",
      "\u001b[32m\u001b[1m  Installed\u001b[22m\u001b[39m CEnum ────────── v0.3.0\n",
      "\u001b[32m\u001b[1m  Installed\u001b[22m\u001b[39m CoinUtils_jll ── v2.11.3+3\n",
      "\u001b[32m\u001b[1m  Installed\u001b[22m\u001b[39m Osi_jll ──────── v0.108.5+3\n",
      "\u001b[32m\u001b[1m  Installed\u001b[22m\u001b[39m OpenBLAS32_jll ─ v0.3.9+4\n",
      "\u001b[32m\u001b[1m  Installed\u001b[22m\u001b[39m Clp ──────────── v0.8.0\n",
      "\u001b[32m\u001b[1m  Installed\u001b[22m\u001b[39m BinaryProvider ─ v0.5.10\n",
      "\u001b[32m\u001b[1m  Installed\u001b[22m\u001b[39m Clp_jll ──────── v1.17.6+5\n",
      "\u001b[32m\u001b[1m   Updating\u001b[22m\u001b[39m `C:\\Users\\Kristian\\.julia\\environments\\v1.4\\Project.toml`\n",
      " \u001b[90m [e2554f3b]\u001b[39m\u001b[92m + Clp v0.8.0\u001b[39m\n",
      "\u001b[32m\u001b[1m   Updating\u001b[22m\u001b[39m `C:\\Users\\Kristian\\.julia\\environments\\v1.4\\Manifest.toml`\n",
      " \u001b[90m [b99e7846]\u001b[39m\u001b[92m + BinaryProvider v0.5.10\u001b[39m\n",
      " \u001b[90m [fa961155]\u001b[39m\u001b[92m + CEnum v0.3.0\u001b[39m\n",
      " \u001b[90m [e2554f3b]\u001b[39m\u001b[92m + Clp v0.8.0\u001b[39m\n",
      " \u001b[90m [06985876]\u001b[39m\u001b[92m + Clp_jll v1.17.6+5\u001b[39m\n",
      " \u001b[90m [be027038]\u001b[39m\u001b[92m + CoinUtils_jll v2.11.3+3\u001b[39m\n",
      " \u001b[90m [656ef2d0]\u001b[39m\u001b[92m + OpenBLAS32_jll v0.3.9+4\u001b[39m\n",
      " \u001b[90m [7da25872]\u001b[39m\u001b[92m + Osi_jll v0.108.5+3\u001b[39m\n",
      "\u001b[32m\u001b[1m   Building\u001b[22m\u001b[39m Clp → `C:\\Users\\Kristian\\.julia\\packages\\Clp\\cX6R7\\deps\\build.log`\n",
      "\u001b[32m\u001b[1m  Resolving\u001b[22m\u001b[39m package versions...\n",
      "\u001b[32m\u001b[1m  Installed\u001b[22m\u001b[39m FFTW_jll ────────── v3.3.9+5\n",
      "\u001b[32m\u001b[1m  Installed\u001b[22m\u001b[39m FFMPEG_jll ──────── v4.1.0+3\n",
      "\u001b[32m\u001b[1m  Installed\u001b[22m\u001b[39m FFMPEG ──────────── v0.3.0\n",
      "\u001b[32m\u001b[1m  Installed\u001b[22m\u001b[39m FiniteDiff ──────── v2.3.2\n",
      "\u001b[32m\u001b[1m  Installed\u001b[22m\u001b[39m Compat ──────────── v3.11.0\n",
      "\u001b[32m\u001b[1m  Installed\u001b[22m\u001b[39m StatsPlots ──────── v0.14.6\n",
      "\u001b[32m\u001b[1m  Installed\u001b[22m\u001b[39m MultivariateStats ─ v0.7.0\n",
      "\u001b[32m\u001b[1m  Installed\u001b[22m\u001b[39m Clustering ──────── v0.13.4\n",
      "\u001b[32m\u001b[1m  Installed\u001b[22m\u001b[39m NLSolversBase ───── v7.6.1\n",
      "\u001b[32m\u001b[1m  Installed\u001b[22m\u001b[39m FixedPointNumbers ─ v0.8.0\n",
      "\u001b[32m\u001b[1m  Installed\u001b[22m\u001b[39m PlotUtils ───────── v1.0.5\n",
      "\u001b[32m\u001b[1m  Installed\u001b[22m\u001b[39m FreeType2_jll ───── v2.10.1+2\n",
      "\u001b[32m\u001b[1m  Installed\u001b[22m\u001b[39m Arpack ──────────── v0.4.0\n",
      "\u001b[32m\u001b[1m  Installed\u001b[22m\u001b[39m Observables ─────── v0.3.1\n",
      "\u001b[32m\u001b[1m  Installed\u001b[22m\u001b[39m PlotThemes ──────── v2.0.0\n",
      "\u001b[32m\u001b[1m  Installed\u001b[22m\u001b[39m StatsBase ───────── v0.33.0\n",
      "\u001b[32m\u001b[1m  Installed\u001b[22m\u001b[39m Rmath_jll ───────── v0.2.2+0\n",
      "\u001b[32m\u001b[1m  Installed\u001b[22m\u001b[39m LibVPX_jll ──────── v1.8.1+1\n",
      "\u001b[32m\u001b[1m  Installed\u001b[22m\u001b[39m Rmath ───────────── v0.6.1\n",
      "\u001b[32m\u001b[1m  Installed\u001b[22m\u001b[39m libfdk_aac_jll ──── v0.1.6+2\n",
      "\u001b[32m\u001b[1m  Installed\u001b[22m\u001b[39m x265_jll ────────── v3.0.0+1\n",
      "\u001b[32m\u001b[1m  Installed\u001b[22m\u001b[39m TableOperations ─── v0.2.1\n",
      "\u001b[32m\u001b[1m  Installed\u001b[22m\u001b[39m OffsetArrays ────── v1.0.4\n",
      "\u001b[32m\u001b[1m  Installed\u001b[22m\u001b[39m Contour ─────────── v0.5.3\n",
      "\u001b[32m\u001b[1m  Installed\u001b[22m\u001b[39m LAME_jll ────────── v3.100.0+1\n",
      "\u001b[32m\u001b[1m  Installed\u001b[22m\u001b[39m FriBidi_jll ─────── v1.0.5+3\n",
      "\u001b[32m\u001b[1m  Installed\u001b[22m\u001b[39m ArrayInterface ──── v2.8.7\n",
      "\u001b[32m\u001b[1m  Installed\u001b[22m\u001b[39m WoodburyMatrices ── v0.5.2\n",
      "\u001b[32m\u001b[1m  Installed\u001b[22m\u001b[39m Colors ──────────── v0.12.2\n",
      "\u001b[32m\u001b[1m  Installed\u001b[22m\u001b[39m GeometryTypes ───── v0.8.3\n",
      "\u001b[32m\u001b[1m  Installed\u001b[22m\u001b[39m Optim ───────────── v0.21.0\n",
      "\u001b[32m\u001b[1m  Installed\u001b[22m\u001b[39m Ratios ──────────── v0.4.0\n",
      "\u001b[32m\u001b[1m  Installed\u001b[22m\u001b[39m MKL_jll ─────────── v2020.1.216+0\n",
      "\u001b[32m\u001b[1m  Installed\u001b[22m\u001b[39m Interpolations ──── v0.12.10\n",
      "\u001b[32m\u001b[1m  Installed\u001b[22m\u001b[39m RecipesBase ─────── v1.0.1\n",
      "\u001b[32m\u001b[1m  Installed\u001b[22m\u001b[39m Requires ────────── v1.0.1\n",
      "\u001b[32m\u001b[1m  Installed\u001b[22m\u001b[39m Tables ──────────── v1.0.4\n",
      "\u001b[32m\u001b[1m  Installed\u001b[22m\u001b[39m Distances ───────── v0.9.0\n",
      "\u001b[32m\u001b[1m  Installed\u001b[22m\u001b[39m UnPack ──────────── v1.0.1\n",
      "\u001b[32m\u001b[1m  Installed\u001b[22m\u001b[39m OpenSSL_jll ─────── v1.1.1+2\n",
      "\u001b[32m\u001b[1m  Installed\u001b[22m\u001b[39m Arpack_jll ──────── v3.5.0+3\n",
      "\u001b[32m\u001b[1m  Installed\u001b[22m\u001b[39m StatsFuns ───────── v0.9.5\n",
      "\u001b[32m\u001b[1m  Installed\u001b[22m\u001b[39m RecipesPipeline ─── v0.1.10\n",
      "\u001b[32m\u001b[1m  Installed\u001b[22m\u001b[39m Distributions ───── v0.23.4\n",
      "\u001b[32m\u001b[1m  Installed\u001b[22m\u001b[39m Parameters ──────── v0.12.1\n",
      "\u001b[32m\u001b[1m  Installed\u001b[22m\u001b[39m FillArrays ──────── v0.8.10\n",
      "\u001b[32m\u001b[1m  Installed\u001b[22m\u001b[39m GR ──────────────── v0.50.1\n",
      "\u001b[32m\u001b[1m  Installed\u001b[22m\u001b[39m libass_jll ──────── v0.14.0+2\n",
      "\u001b[32m\u001b[1m  Installed\u001b[22m\u001b[39m Opus_jll ────────── v1.3.1+1\n",
      "\u001b[32m\u001b[1m  Installed\u001b[22m\u001b[39m x264_jll ────────── v2019.5.25+2\n",
      "\u001b[32m\u001b[1m  Installed\u001b[22m\u001b[39m FFTW ────────────── v1.2.2\n",
      "\u001b[32m\u001b[1m  Installed\u001b[22m\u001b[39m ColorTypes ──────── v0.10.3\n",
      "\u001b[32m\u001b[1m  Installed\u001b[22m\u001b[39m DataAPI ─────────── v1.3.0\n",
      "\u001b[32m\u001b[1m  Installed\u001b[22m\u001b[39m NearestNeighbors ── v0.4.6\n",
      "\u001b[32m\u001b[1m  Installed\u001b[22m\u001b[39m IntelOpenMP_jll ─── v2018.0.3+0\n",
      "\u001b[32m\u001b[1m  Installed\u001b[22m\u001b[39m Ogg_jll ─────────── v1.3.4+0\n",
      "\u001b[32m\u001b[1m  Installed\u001b[22m\u001b[39m OpenBLAS_jll ────── v0.3.9+4\n",
      "\u001b[32m\u001b[1m  Installed\u001b[22m\u001b[39m PDMats ──────────── v0.9.12\n",
      "\u001b[32m\u001b[1m  Installed\u001b[22m\u001b[39m libvorbis_jll ───── v1.3.6+4\n",
      "\u001b[32m\u001b[1m  Installed\u001b[22m\u001b[39m Plots ───────────── v1.4.0\n",
      "\u001b[32m\u001b[1m  Installed\u001b[22m\u001b[39m ColorSchemes ────── v3.9.0\n",
      "\u001b[32m\u001b[1m   Updating\u001b[22m\u001b[39m `C:\\Users\\Kristian\\.julia\\environments\\v1.4\\Project.toml`\n",
      " \u001b[90m [f3b207a7]\u001b[39m\u001b[92m + StatsPlots v0.14.6\u001b[39m\n",
      "\u001b[32m\u001b[1m   Updating\u001b[22m\u001b[39m `C:\\Users\\Kristian\\.julia\\environments\\v1.4\\Manifest.toml`\n",
      " \u001b[90m [621f4979]\u001b[39m\u001b[92m + AbstractFFTs v0.5.0\u001b[39m\n",
      " \u001b[90m [7d9fca2a]\u001b[39m\u001b[92m + Arpack v0.4.0\u001b[39m\n",
      " \u001b[90m [68821587]\u001b[39m\u001b[92m + Arpack_jll v3.5.0+3\u001b[39m\n",
      " \u001b[90m [4fba245c]\u001b[39m\u001b[92m + ArrayInterface v2.8.7\u001b[39m\n",
      " \u001b[90m [13072b0f]\u001b[39m\u001b[92m + AxisAlgorithms v1.0.0\u001b[39m\n",
      " \u001b[90m [aaaa29a8]\u001b[39m\u001b[92m + Clustering v0.13.4\u001b[39m\n",
      " \u001b[90m [35d6a980]\u001b[39m\u001b[92m + ColorSchemes v3.9.0\u001b[39m\n",
      " \u001b[90m [3da002f7]\u001b[39m\u001b[92m + ColorTypes v0.10.3\u001b[39m\n",
      " \u001b[90m [5ae59095]\u001b[39m\u001b[92m + Colors v0.12.2\u001b[39m\n",
      " \u001b[90m [34da2185]\u001b[39m\u001b[92m + Compat v3.11.0\u001b[39m\n",
      " \u001b[90m [d38c429a]\u001b[39m\u001b[92m + Contour v0.5.3\u001b[39m\n",
      " \u001b[90m [9a962f9c]\u001b[39m\u001b[92m + DataAPI v1.3.0\u001b[39m\n",
      " \u001b[90m [e2d170a0]\u001b[39m\u001b[92m + DataValueInterfaces v1.0.0\u001b[39m\n",
      " \u001b[90m [e7dc6d0d]\u001b[39m\u001b[92m + DataValues v0.4.13\u001b[39m\n",
      " \u001b[90m [b4f34e82]\u001b[39m\u001b[92m + Distances v0.9.0\u001b[39m\n",
      " \u001b[90m [31c24e10]\u001b[39m\u001b[92m + Distributions v0.23.4\u001b[39m\n",
      " \u001b[90m [c87230d0]\u001b[39m\u001b[92m + FFMPEG v0.3.0\u001b[39m\n",
      " \u001b[90m [b22a6f82]\u001b[39m\u001b[92m + FFMPEG_jll v4.1.0+3\u001b[39m\n",
      " \u001b[90m [7a1cc6ca]\u001b[39m\u001b[92m + FFTW v1.2.2\u001b[39m\n",
      " \u001b[90m [f5851436]\u001b[39m\u001b[92m + FFTW_jll v3.3.9+5\u001b[39m\n",
      " \u001b[90m [1a297f60]\u001b[39m\u001b[92m + FillArrays v0.8.10\u001b[39m\n",
      " \u001b[90m [6a86dc24]\u001b[39m\u001b[92m + FiniteDiff v2.3.2\u001b[39m\n",
      " \u001b[90m [53c48c17]\u001b[39m\u001b[92m + FixedPointNumbers v0.8.0\u001b[39m\n",
      " \u001b[90m [d7e528f0]\u001b[39m\u001b[92m + FreeType2_jll v2.10.1+2\u001b[39m\n",
      " \u001b[90m [559328eb]\u001b[39m\u001b[92m + FriBidi_jll v1.0.5+3\u001b[39m\n",
      " \u001b[90m [28b8d3ca]\u001b[39m\u001b[92m + GR v0.50.1\u001b[39m\n",
      " \u001b[90m [4d00f742]\u001b[39m\u001b[92m + GeometryTypes v0.8.3\u001b[39m\n",
      " \u001b[90m [1d5cc7b8]\u001b[39m\u001b[92m + IntelOpenMP_jll v2018.0.3+0\u001b[39m\n",
      " \u001b[90m [a98d9a8b]\u001b[39m\u001b[92m + Interpolations v0.12.10\u001b[39m\n",
      " \u001b[90m [82899510]\u001b[39m\u001b[92m + IteratorInterfaceExtensions v1.0.0\u001b[39m\n",
      " \u001b[90m [5ab0869b]\u001b[39m\u001b[92m + KernelDensity v0.5.1\u001b[39m\n",
      " \u001b[90m [c1c5ebd0]\u001b[39m\u001b[92m + LAME_jll v3.100.0+1\u001b[39m\n",
      " \u001b[90m [dd192d2f]\u001b[39m\u001b[92m + LibVPX_jll v1.8.1+1\u001b[39m\n",
      " \u001b[90m [d3d80556]\u001b[39m\u001b[92m + LineSearches v7.0.1\u001b[39m\n",
      " \u001b[90m [856f044c]\u001b[39m\u001b[92m + MKL_jll v2020.1.216+0\u001b[39m\n",
      " \u001b[90m [442fdcdd]\u001b[39m\u001b[92m + Measures v0.3.1\u001b[39m\n"
     ]
    },
    {
     "name": "stderr",
     "output_type": "stream",
     "text": [
      " \u001b[90m [e1d29d7a]\u001b[39m\u001b[92m + Missings v0.4.3\u001b[39m\n",
      " \u001b[90m [6f286f6a]\u001b[39m\u001b[92m + MultivariateStats v0.7.0\u001b[39m\n",
      " \u001b[90m [d41bc354]\u001b[39m\u001b[92m + NLSolversBase v7.6.1\u001b[39m\n",
      " \u001b[90m [b8a86587]\u001b[39m\u001b[92m + NearestNeighbors v0.4.6\u001b[39m\n",
      " \u001b[90m [510215fc]\u001b[39m\u001b[92m + Observables v0.3.1\u001b[39m\n",
      " \u001b[90m [6fe1bfb0]\u001b[39m\u001b[92m + OffsetArrays v1.0.4\u001b[39m\n",
      " \u001b[90m [e7412a2a]\u001b[39m\u001b[92m + Ogg_jll v1.3.4+0\u001b[39m\n",
      " \u001b[90m [4536629a]\u001b[39m\u001b[92m + OpenBLAS_jll v0.3.9+4\u001b[39m\n",
      " \u001b[90m [458c3c95]\u001b[39m\u001b[92m + OpenSSL_jll v1.1.1+2\u001b[39m\n",
      " \u001b[90m [429524aa]\u001b[39m\u001b[92m + Optim v0.21.0\u001b[39m\n",
      " \u001b[90m [91d4177d]\u001b[39m\u001b[92m + Opus_jll v1.3.1+1\u001b[39m\n",
      " \u001b[90m [90014a1f]\u001b[39m\u001b[92m + PDMats v0.9.12\u001b[39m\n",
      " \u001b[90m [d96e819e]\u001b[39m\u001b[92m + Parameters v0.12.1\u001b[39m\n",
      " \u001b[90m [ccf2f8ad]\u001b[39m\u001b[92m + PlotThemes v2.0.0\u001b[39m\n",
      " \u001b[90m [995b91a9]\u001b[39m\u001b[92m + PlotUtils v1.0.5\u001b[39m\n",
      " \u001b[90m [91a5bcdd]\u001b[39m\u001b[92m + Plots v1.4.0\u001b[39m\n",
      " \u001b[90m [85a6dd25]\u001b[39m\u001b[92m + PositiveFactorizations v0.2.3\u001b[39m\n",
      " \u001b[90m [1fd47b50]\u001b[39m\u001b[92m + QuadGK v2.3.1\u001b[39m\n",
      " \u001b[90m [c84ed2f1]\u001b[39m\u001b[92m + Ratios v0.4.0\u001b[39m\n",
      " \u001b[90m [3cdcf5f2]\u001b[39m\u001b[92m + RecipesBase v1.0.1\u001b[39m\n",
      " \u001b[90m [01d81517]\u001b[39m\u001b[92m + RecipesPipeline v0.1.10\u001b[39m\n",
      " \u001b[90m [189a3867]\u001b[39m\u001b[92m + Reexport v0.2.0\u001b[39m\n",
      " \u001b[90m [ae029012]\u001b[39m\u001b[92m + Requires v1.0.1\u001b[39m\n",
      " \u001b[90m [79098fc4]\u001b[39m\u001b[92m + Rmath v0.6.1\u001b[39m\n",
      " \u001b[90m [f50d1b31]\u001b[39m\u001b[92m + Rmath_jll v0.2.2+0\u001b[39m\n",
      " \u001b[90m [992d4aef]\u001b[39m\u001b[92m + Showoff v0.3.1\u001b[39m\n",
      " \u001b[90m [a2af1166]\u001b[39m\u001b[92m + SortingAlgorithms v0.3.1\u001b[39m\n",
      " \u001b[90m [2913bbd2]\u001b[39m\u001b[92m + StatsBase v0.33.0\u001b[39m\n",
      " \u001b[90m [4c63d2b9]\u001b[39m\u001b[92m + StatsFuns v0.9.5\u001b[39m\n",
      " \u001b[90m [f3b207a7]\u001b[39m\u001b[92m + StatsPlots v0.14.6\u001b[39m\n",
      " \u001b[90m [ab02a1b2]\u001b[39m\u001b[92m + TableOperations v0.2.1\u001b[39m\n",
      " \u001b[90m [3783bdb8]\u001b[39m\u001b[92m + TableTraits v1.0.0\u001b[39m\n",
      " \u001b[90m [bd369af6]\u001b[39m\u001b[92m + Tables v1.0.4\u001b[39m\n",
      " \u001b[90m [3a884ed6]\u001b[39m\u001b[92m + UnPack v1.0.1\u001b[39m\n",
      " \u001b[90m [cc8bc4a8]\u001b[39m\u001b[92m + Widgets v0.6.2\u001b[39m\n",
      " \u001b[90m [efce3f68]\u001b[39m\u001b[92m + WoodburyMatrices v0.5.2\u001b[39m\n",
      " \u001b[90m [0ac62f75]\u001b[39m\u001b[92m + libass_jll v0.14.0+2\u001b[39m\n",
      " \u001b[90m [f638f0a6]\u001b[39m\u001b[92m + libfdk_aac_jll v0.1.6+2\u001b[39m\n",
      " \u001b[90m [f27f6e37]\u001b[39m\u001b[92m + libvorbis_jll v1.3.6+4\u001b[39m\n",
      " \u001b[90m [1270edf5]\u001b[39m\u001b[92m + x264_jll v2019.5.25+2\u001b[39m\n",
      " \u001b[90m [dfaa095f]\u001b[39m\u001b[92m + x265_jll v3.0.0+1\u001b[39m\n",
      " \u001b[90m [8bb1440f]\u001b[39m\u001b[92m + DelimitedFiles \u001b[39m\n",
      " \u001b[90m [1a1011a3]\u001b[39m\u001b[92m + SharedArrays \u001b[39m\n",
      " \u001b[90m [4607b0f0]\u001b[39m\u001b[92m + SuiteSparse \u001b[39m\n",
      "\u001b[32m\u001b[1m   Building\u001b[22m\u001b[39m GR ───→ `C:\\Users\\Kristian\\.julia\\packages\\GR\\Atztx\\deps\\build.log`\n",
      "\u001b[32m\u001b[1m   Building\u001b[22m\u001b[39m FFTW ─→ `C:\\Users\\Kristian\\.julia\\packages\\FFTW\\kcXL6\\deps\\build.log`\n",
      "\u001b[32m\u001b[1m   Building\u001b[22m\u001b[39m Plots → `C:\\Users\\Kristian\\.julia\\packages\\Plots\\sbXPh\\deps\\build.log`\n"
     ]
    }
   ],
   "source": [
    "Pkg.add(\"JuMP\")\n",
    "Pkg.add(\"Clp\");\n",
    "Pkg.add(\"StatsPlots\");"
   ]
  },
  {
   "cell_type": "markdown",
   "metadata": {
    "slideshow": {
     "slide_type": "slide"
    }
   },
   "source": [
    "Initialisieren Sie die installierten Pakete, damit sie im folgenden Notebook verwendet werden können."
   ]
  },
  {
   "cell_type": "code",
   "execution_count": 3,
   "metadata": {
    "slideshow": {
     "slide_type": "fragment"
    }
   },
   "outputs": [
    {
     "name": "stderr",
     "output_type": "stream",
     "text": [
      "┌ Info: Precompiling JuMP [4076af6c-e467-56ae-b986-b466b2749572]\n",
      "└ @ Base loading.jl:1260\n",
      "┌ Info: Precompiling Clp [e2554f3b-3117-50c0-817c-e040a3ddf72d]\n",
      "└ @ Base loading.jl:1260\n",
      "┌ Info: Precompiling StatsPlots [f3b207a7-027a-5e70-b257-86293d7955fd]\n",
      "└ @ Base loading.jl:1260\n"
     ]
    }
   ],
   "source": [
    "using JuMP, Clp, StatsPlots;"
   ]
  },
  {
   "cell_type": "markdown",
   "metadata": {
    "slideshow": {
     "slide_type": "slide"
    }
   },
   "source": [
    "# Produktionsprogrammplanung\n",
    "### Entscheidungsvariablen:\n",
    "Bestimmung der optimalen **Produktionsmengen** der einzelnen Produkte,\n",
    "\n",
    "### Zielfunktion:\n",
    "0) **Deckungsbeitragsmaximierung**: $ \\qquad \\max db = \\displaystyle\\sum_{i=1}^I(e_i - k_i^v)\\cdot X_i $\n",
    "\n"
   ]
  },
  {
   "cell_type": "markdown",
   "metadata": {
    "slideshow": {
     "slide_type": "slide"
    }
   },
   "source": [
    "### Nebenbedingungen:\n",
    "\n",
    "\n",
    "1) **Kapazitätsrestriktion:** $\\hspace{50mm} \\sum_{i=1}^I(r_{ij}\\cdot X_i) \\leq c_j \\hspace{29mm} \\forall j \\in J $\n",
    "\n",
    "2) **Absatzobergrenze:** $ \\hspace{54mm} X_i \\leq d_i \\hspace{49mm} \\forall i \\in I $\n",
    "\n",
    "3) **Nichtnegativitätsbedingung:** $ \\hspace{38mm} X_i \\geq 0 \\hspace{50mm}    \\forall i \\in I $\n",
    "\n",
    "\n",
    "* * * \n"
   ]
  },
  {
   "cell_type": "markdown",
   "metadata": {
    "slideshow": {
     "slide_type": "slide"
    }
   },
   "source": [
    "## Verwendete Symbole"
   ]
  },
  {
   "cell_type": "markdown",
   "metadata": {
    "slideshow": {
     "slide_type": "fragment"
    }
   },
   "source": [
    "### Mengen\n",
    "\n",
    "$i \\in (1,..,I) \\hspace{20mm}$ Produkte\n",
    "\n",
    "$j \\in (1,..,J) \\hspace{20mm}$ Ressourcen\n",
    "\n",
    "\n"
   ]
  },
  {
   "cell_type": "markdown",
   "metadata": {
    "slideshow": {
     "slide_type": "fragment"
    }
   },
   "source": [
    "### Variablen\n",
    "\n",
    "$X_i$     $\\geq0 \\hspace{30mm}$ Produktionsmenge\n",
    "\n",
    "\n",
    "\n"
   ]
  },
  {
   "cell_type": "markdown",
   "metadata": {
    "slideshow": {
     "slide_type": "fragment"
    }
   },
   "source": [
    "### Parameter \n",
    "\n",
    "$e_i \\hspace{39mm}$   Erlös von Produkt i  \n",
    "\n",
    "$k_i^v \\hspace{38mm}$  Variable Kosten bei Herstellung von Produkt i \n",
    "\n",
    "$d_i \\hspace{39mm}$  Absatzobergrenze von Produkt i   \n",
    "\n",
    "$r_{ij} \\hspace{38mm}$  Produktionskoeffizient von Produkt i bezüglich Ressource j  \n",
    "\n",
    "$c_j \\hspace{39mm}$  Kapazität von Ressource j\n",
    "\n",
    "\n",
    "* * *\n"
   ]
  },
  {
   "cell_type": "markdown",
   "metadata": {
    "slideshow": {
     "slide_type": "slide"
    }
   },
   "source": [
    "## Erstellen Sie das Modell namens ``m`` und geben Sie als zu verwendenden Solver Clp an.\n",
    "---"
   ]
  },
  {
   "cell_type": "code",
   "execution_count": 4,
   "metadata": {
    "slideshow": {
     "slide_type": "fragment"
    }
   },
   "outputs": [],
   "source": [
    "m = Model(Clp.Optimizer);\n",
    "\n",
    "# Auf diese Weise wird das Modell m erstellt\n",
    "# In Klammern wird angegeben, dass der Solver Clp zur Lösung des Modells herangezogen wird"
   ]
  },
  {
   "cell_type": "markdown",
   "metadata": {},
   "source": [
    "### Mengen und Parameter"
   ]
  },
  {
   "cell_type": "markdown",
   "metadata": {
    "slideshow": {
     "slide_type": "fragment"
    }
   },
   "source": [
    "Fügen Sie die Mengen ein."
   ]
  },
  {
   "cell_type": "code",
   "execution_count": 5,
   "metadata": {
    "slideshow": {
     "slide_type": "fragment"
    }
   },
   "outputs": [],
   "source": [
    "#Mengen\n",
    "Produkte =   [\"Normal\", \"Grande\"];\n",
    "Ressourcen = [\"Holz\", \"Schrauben\", \"Scharniere\"];\n",
    "\n",
    "# Mengen werden auf diese Weise erstellt. \n",
    "# Sind die Mengenelemente Worte, werden diese in Anführungszeichen gesetzt\n",
    "\n",
    "#Längen\n",
    "I = length(Produkte);\n",
    "J = length(Ressourcen);\n",
    "\n",
    "# Mit der Funktion length bestimmen wir die Anzahl der Elemente in den jeweiligen Mengen\n",
    "# Diese Information benötigen wir später zur Erstellung von Variablen, Nebenbedingungen etc."
   ]
  },
  {
   "cell_type": "markdown",
   "metadata": {
    "slideshow": {
     "slide_type": "slide"
    }
   },
   "source": [
    "Fügen Sie die Parameter ein."
   ]
  },
  {
   "cell_type": "code",
   "execution_count": 6,
   "metadata": {
    "slideshow": {
     "slide_type": "fragment"
    }
   },
   "outputs": [],
   "source": [
    "e  = [30, 40];          # Erlös von Produkt i\n",
    "kv = [20, 25];          # variable Herstellkosten von Produkt i\n",
    "d  = [100, 100];        # Nachfrage nach Produkt i\n",
    "c =  [2400, 4000, 900]; # Kapazität von Ressource j\n",
    "\n",
    "# Eindimensionale Parameter werden wie oben dargestellt eingegeben\n",
    "\n",
    "      #Holz, Schrauben, Scharniere\n",
    "r  = [  6       20         4        #Normal\n",
    "        20      20         9     ]; #Grande\n",
    "#Produktionskoeffizient von Produkt i bezüglich Ressource j\n",
    "\n",
    "# Zweidimensionle Parameter können als Matrix Dargestellt werden."
   ]
  },
  {
   "cell_type": "markdown",
   "metadata": {
    "slideshow": {
     "slide_type": "slide"
    }
   },
   "source": [
    "### Entscheidungsvariable\n",
    "---\n",
    "Definieren Sie die Entscheidungsvariable. Achten Sie auf den Definitionsbereich (Nebenbedingung 3)."
   ]
  },
  {
   "cell_type": "markdown",
   "metadata": {
    "slideshow": {
     "slide_type": "fragment"
    }
   },
   "source": [
    "3) **Nichtnegativitätsbedingung**: Da keine negativen Mengen der Produkte produziert werden können, wird zusätzlich eine Nichtnegativitätsbedingung eingeführt.\n",
    "\n",
    " $ \\qquad X_i \\geq 0 \\qquad \\qquad \\qquad    \\forall i \\in I $"
   ]
  },
  {
   "cell_type": "code",
   "execution_count": 7,
   "metadata": {
    "slideshow": {
     "slide_type": "fragment"
    }
   },
   "outputs": [],
   "source": [
    "@variable(m, X[1:I] >= 0);\n",
    "\n",
    "# mit der Funktion @variable wird eine neue Variable erstellt\n",
    "# (m, gibt an, dass diese Variable dem oben erstellten Modell m zugeordnet ist\n",
    "# Die Variable wird mit X bezeichnet\n",
    "# und hat einen Index (i) der von 1 bis I (also 2) läuft\n",
    "# innerhalb des Definitionsbereiches kann mit >=0 direkt die Nichtnegativitätsbedingung eingegeben werden\n",
    "# [Binärvariablen könnten Alternativ mit der Information \",Bin\" angegeben werden]"
   ]
  },
  {
   "cell_type": "markdown",
   "metadata": {
    "slideshow": {
     "slide_type": "slide"
    }
   },
   "source": [
    "## Zielfunktion\n",
    "\n",
    "0) **Deckungsbeitragsmaximierung**: Der Gesamtdeckungsbeitrag db soll maximiert werden. Dieser berechnet sich aus der Summe der einzelnen Produktdeckungsbeiträge (Produkterlös abzüglich variabler Kosten), multipliziert mit den entsprechenden Produktionsmengen der verschiedenen Güter.\n",
    "\n",
    "$ \\qquad \\max db = \\displaystyle\\sum_{i=1}^I(e_i - k_i^v)\\cdot X_i $ \n",
    "\n",
    " * * *\n",
    " "
   ]
  },
  {
   "cell_type": "code",
   "execution_count": 8,
   "metadata": {
    "slideshow": {
     "slide_type": "fragment"
    }
   },
   "outputs": [],
   "source": [
    "@objective(m, Max,  sum((e[i] - kv[i]) * X[i] for i=1:I));\n",
    "\n",
    "# Die Funktion @objective(m, erstellt eine Zielfunktion für das Modell m\n",
    "# mit sum( wird eine Summe abgebildet\n",
    "# der Bereich über den summiert wird steht hinter dem for\n",
    "# hier wird über alle i (also alle Produkte) von 1 bis I summiert"
   ]
  },
  {
   "cell_type": "markdown",
   "metadata": {
    "slideshow": {
     "slide_type": "slide"
    }
   },
   "source": [
    "## Nebenbedingungen\n"
   ]
  },
  {
   "cell_type": "markdown",
   "metadata": {
    "slideshow": {
     "slide_type": "fragment"
    }
   },
   "source": [
    "1) **Kapazitätsrestriktion**: Eventuell gibt es für die Ressoucen Kapazitätsbeschränkungen für die auf ihnen mögliche Produktionszeit. Die Summe der Gesamtproduktionszeit aller Produkte i= 1,...,I auf den einzelnen Ressourcen j darf dann die jeweils verfügbare Kapazität $ c_j $  nicht überschreiten.\n",
    "\n",
    "$\\qquad \\sum_{i=1}^I(r_{ij}\\cdot X_i) \\leq c_j \\qquad \\forall j \\in J $\n",
    "\n"
   ]
  },
  {
   "cell_type": "code",
   "execution_count": 9,
   "metadata": {
    "slideshow": {
     "slide_type": "fragment"
    }
   },
   "outputs": [],
   "source": [
    "@constraint(m, KapRes[j=1:J], sum(r[i,j] * X[i] for i=1:I) <= c[j] );\n",
    "\n",
    "# Nebenbedingungen werden mit der Funktion @constraint eingegeben\n",
    "# Nebenbedingungen erhalten einen Namen, in diesem Fall KapRes\n",
    "# In eckigen Klammern nach dem Namen wird angegeben für welche Indizes diese Nebenbedingung erstellt werden soll\n",
    "# Hier wird je eine Nebenbedingung für alle j (also Ressourcen) von 1 bis J (also 1-3) erstellt\n",
    "\n",
    "# Enthält eine Nebenbedingung ein Gleichzeichen (=) muss dies in Julia doppelt (==) eingegeben werden"
   ]
  },
  {
   "cell_type": "markdown",
   "metadata": {
    "slideshow": {
     "slide_type": "fragment"
    }
   },
   "source": [
    "2) **Absatzobergrenze**: Es besteht die Möglichkeit, dass für die Produkte Absatzobergrenzen basierend auf der Nachfrage existieren. Die produzierte Menge der einzelnen Produkte i darf dann diese Absatzobergrenze nicht überschreiten.\n",
    "\n",
    " $ \\qquad X_i \\leq d_i \\qquad \\qquad \\qquad \\forall i \\in I $\n"
   ]
  },
  {
   "cell_type": "code",
   "execution_count": 10,
   "metadata": {
    "slideshow": {
     "slide_type": "fragment"
    }
   },
   "outputs": [],
   "source": [
    "@constraint(m, AbsOb[i=1:I], X[i] <= d[i]);"
   ]
  },
  {
   "cell_type": "markdown",
   "metadata": {
    "slideshow": {
     "slide_type": "slide"
    }
   },
   "source": [
    "## Lösen Sie das Modell.\n",
    "---"
   ]
  },
  {
   "cell_type": "code",
   "execution_count": 11,
   "metadata": {
    "slideshow": {
     "slide_type": "fragment"
    }
   },
   "outputs": [
    {
     "name": "stdout",
     "output_type": "stream",
     "text": [
      "Coin0506I Presolve 2 (-3) rows, 2 (0) columns and 4 (-4) elements\n",
      "Clp0006I 0  Obj -0 Dual inf 37.499998 (2)\n",
      "Clp0006I 1  Obj 1833.3333\n",
      "Clp0000I Optimal - objective value 1833.3333\n",
      "Coin0511I After Postsolve, objective 1833.3333, infeasibilities - dual 0 (0), primal 0 (0)\n",
      "Clp0032I Optimal objective 1833.333333 - 1 iterations time 0.002, Presolve 0.00\n"
     ]
    }
   ],
   "source": [
    "optimize!(m)\n",
    "\n",
    "# mit dem Befehl optimize! wird das soeben erstellte Modell gelöst"
   ]
  },
  {
   "cell_type": "markdown",
   "metadata": {},
   "source": [
    "Lassen Sie sich das Gesamtmodell anzeigen."
   ]
  },
  {
   "cell_type": "code",
   "execution_count": 12,
   "metadata": {},
   "outputs": [
    {
     "data": {
      "text/latex": [
       "$$ \\begin{alignat*}{1}\\max\\quad & 10 X_{1} + 15 X_{2}\\\\\n",
       "\\text{Subject to} \\quad & 6 X_{1} + 20 X_{2} \\leq 2400.0\\\\\n",
       " & 20 X_{1} + 20 X_{2} \\leq 4000.0\\\\\n",
       " & 4 X_{1} + 9 X_{2} \\leq 900.0\\\\\n",
       " & X_{1} \\leq 100.0\\\\\n",
       " & X_{2} \\leq 100.0\\\\\n",
       " & X_{1} \\geq 0.0\\\\\n",
       " & X_{2} \\geq 0.0\\\\\n",
       "\\end{alignat*}\n",
       " $$"
      ],
      "text/plain": [
       "A JuMP Model\n",
       "Maximization problem with:\n",
       "Variables: 2\n",
       "Objective function type: GenericAffExpr{Float64,VariableRef}\n",
       "`GenericAffExpr{Float64,VariableRef}`-in-`MathOptInterface.LessThan{Float64}`: 5 constraints\n",
       "`VariableRef`-in-`MathOptInterface.GreaterThan{Float64}`: 2 constraints\n",
       "Model mode: AUTOMATIC\n",
       "CachingOptimizer state: ATTACHED_OPTIMIZER\n",
       "Solver name: Clp\n",
       "Names registered in the model: AbsOb, KapRes, X"
      ]
     },
     "execution_count": 12,
     "metadata": {},
     "output_type": "execute_result"
    }
   ],
   "source": [
    "m\n",
    "\n",
    "# führen Sie ausschließlich m aus wird, können Sie sich das mathematische Modell komplett anzeigen lassen"
   ]
  },
  {
   "cell_type": "markdown",
   "metadata": {
    "slideshow": {
     "slide_type": "fragment"
    }
   },
   "source": [
    "Lassen Sie sich den Zielfunktionswert anzeigen.\n"
   ]
  },
  {
   "cell_type": "code",
   "execution_count": 13,
   "metadata": {
    "slideshow": {
     "slide_type": "fragment"
    }
   },
   "outputs": [
    {
     "name": "stdout",
     "output_type": "stream",
     "text": [
      "Objective value db: 1833\n"
     ]
    }
   ],
   "source": [
    "db = JuMP.objective_value(m)\n",
    "\n",
    "# mit dem Befehl JuMP.objective_value(m) lassen Sie sich den Zielfunktionswert des gelösten Modells ausgeben\n",
    "# hier wird der Zielfunktionswert zunächst dem Parameter db zugewiesen\n",
    "\n",
    "println(\"Objective value db: \", round(Int64,db))\n",
    "\n",
    "# anschließend wird der ZF-Wert ausgegeben\n",
    "# dies erfolgt mit dem Befehl println\n",
    "# \"Objective value db: \" ist der Text der vor dem ZF-Wert angezeigt werden soll\n",
    "\n",
    "# Mit dem Befehl round(Int64, können wir Werte auf ganze Zahlen runden\n",
    "# Beachten Sie, dass im Planspiel immer nur ganzzahlige Werte als Antwort erforderlich sind\n",
    "# Nutzen Sie also round(Int64, um sich Werte ausgeben zu lassen\n"
   ]
  },
  {
   "cell_type": "markdown",
   "metadata": {
    "slideshow": {
     "slide_type": "slide"
    }
   },
   "source": [
    "Lassen Sie sich die Produktionsmengen der einzelnen Schränke anzeigen."
   ]
  },
  {
   "cell_type": "code",
   "execution_count": 14,
   "metadata": {},
   "outputs": [
    {
     "data": {
      "text/plain": [
       "2-element Array{Float64,1}:\n",
       " 100.0\n",
       "  55.55555555555556"
      ]
     },
     "execution_count": 14,
     "metadata": {},
     "output_type": "execute_result"
    }
   ],
   "source": [
    "JuMP.value.(X)\n",
    "\n",
    "# Werte von Variablen lassen sich durch JuMP.value.( ) ausgeben (Beachten Sie den zweiten Punkt)"
   ]
  },
  {
   "cell_type": "markdown",
   "metadata": {},
   "source": [
    "Stellen Sie den Ressourcenverbrauch im Vergleich zur verfügbaren Kapazität graphisch dar."
   ]
  },
  {
   "cell_type": "code",
   "execution_count": 15,
   "metadata": {
    "scrolled": false
   },
   "outputs": [
    {
     "data": {
      "text/plain": [
       "3×2 LinearAlgebra.Adjoint{Float64,Array{Float64,2}}:\n",
       "  600.0  1111.11\n",
       " 2000.0  1111.11\n",
       "  400.0   500.0"
      ]
     },
     "execution_count": 15,
     "metadata": {},
     "output_type": "execute_result"
    }
   ],
   "source": [
    "bardata = (JuMP.value.(X) .* r)'\n",
    "\n",
    "# Mehrdimensionale Werte werden tabellarisch dargestellt\n",
    "# der Punkt vor dem * führt dazu, dass die beiden Vektoren X und r korrekt miteinander multipliziert werden\n",
    "# das Anführungszeichen am Ende vertauscht x- und y-Achse der entstehenden Tabelle"
   ]
  },
  {
   "cell_type": "code",
   "execution_count": 16,
   "metadata": {
    "scrolled": false
   },
   "outputs": [
    {
     "data": {
      "image/svg+xml": [
       "<?xml version=\"1.0\" encoding=\"utf-8\"?>\n",
       "<svg xmlns=\"http://www.w3.org/2000/svg\" xmlns:xlink=\"http://www.w3.org/1999/xlink\" width=\"600\" height=\"400\" viewBox=\"0 0 2400 1600\">\n",
       "<defs>\n",
       "  <clipPath id=\"clip990\">\n",
       "    <rect x=\"0\" y=\"0\" width=\"2400\" height=\"1600\"/>\n",
       "  </clipPath>\n",
       "</defs>\n",
       "<path clip-path=\"url(#clip990)\" d=\"\n",
       "M0 1600 L2400 1600 L2400 0 L0 0  Z\n",
       "  \" fill=\"#ffffff\" fill-rule=\"evenodd\" fill-opacity=\"1\"/>\n",
       "<defs>\n",
       "  <clipPath id=\"clip991\">\n",
       "    <rect x=\"480\" y=\"0\" width=\"1681\" height=\"1600\"/>\n",
       "  </clipPath>\n",
       "</defs>\n",
       "<path clip-path=\"url(#clip990)\" d=\"\n",
       "M256.486 1423.18 L2352.76 1423.18 L2352.76 47.2441 L256.486 47.2441  Z\n",
       "  \" fill=\"#ffffff\" fill-rule=\"evenodd\" fill-opacity=\"1\"/>\n",
       "<defs>\n",
       "  <clipPath id=\"clip992\">\n",
       "    <rect x=\"256\" y=\"47\" width=\"2097\" height=\"1377\"/>\n",
       "  </clipPath>\n",
       "</defs>\n",
       "<polyline clip-path=\"url(#clip992)\" style=\"stroke:#000000; stroke-width:2; stroke-opacity:0.1; fill:none\" points=\"\n",
       "  638.31,1423.18 638.31,47.2441 \n",
       "  \"/>\n",
       "<polyline clip-path=\"url(#clip992)\" style=\"stroke:#000000; stroke-width:2; stroke-opacity:0.1; fill:none\" points=\"\n",
       "  1304.62,1423.18 1304.62,47.2441 \n",
       "  \"/>\n",
       "<polyline clip-path=\"url(#clip992)\" style=\"stroke:#000000; stroke-width:2; stroke-opacity:0.1; fill:none\" points=\"\n",
       "  1970.93,1423.18 1970.93,47.2441 \n",
       "  \"/>\n",
       "<polyline clip-path=\"url(#clip992)\" style=\"stroke:#000000; stroke-width:2; stroke-opacity:0.1; fill:none\" points=\"\n",
       "  256.486,1384.24 2352.76,1384.24 \n",
       "  \"/>\n",
       "<polyline clip-path=\"url(#clip992)\" style=\"stroke:#000000; stroke-width:2; stroke-opacity:0.1; fill:none\" points=\"\n",
       "  256.486,1059.73 2352.76,1059.73 \n",
       "  \"/>\n",
       "<polyline clip-path=\"url(#clip992)\" style=\"stroke:#000000; stroke-width:2; stroke-opacity:0.1; fill:none\" points=\"\n",
       "  256.486,735.212 2352.76,735.212 \n",
       "  \"/>\n",
       "<polyline clip-path=\"url(#clip992)\" style=\"stroke:#000000; stroke-width:2; stroke-opacity:0.1; fill:none\" points=\"\n",
       "  256.486,410.699 2352.76,410.699 \n",
       "  \"/>\n",
       "<polyline clip-path=\"url(#clip992)\" style=\"stroke:#000000; stroke-width:2; stroke-opacity:0.1; fill:none\" points=\"\n",
       "  256.486,86.1857 2352.76,86.1857 \n",
       "  \"/>\n",
       "<polyline clip-path=\"url(#clip990)\" style=\"stroke:#000000; stroke-width:4; stroke-opacity:1; fill:none\" points=\"\n",
       "  256.486,1423.18 2352.76,1423.18 \n",
       "  \"/>\n",
       "<polyline clip-path=\"url(#clip990)\" style=\"stroke:#000000; stroke-width:4; stroke-opacity:1; fill:none\" points=\"\n",
       "  256.486,1423.18 256.486,47.2441 \n",
       "  \"/>\n",
       "<polyline clip-path=\"url(#clip990)\" style=\"stroke:#000000; stroke-width:4; stroke-opacity:1; fill:none\" points=\"\n",
       "  638.31,1423.18 638.31,1406.67 \n",
       "  \"/>\n",
       "<polyline clip-path=\"url(#clip990)\" style=\"stroke:#000000; stroke-width:4; stroke-opacity:1; fill:none\" points=\"\n",
       "  1304.62,1423.18 1304.62,1406.67 \n",
       "  \"/>\n",
       "<polyline clip-path=\"url(#clip990)\" style=\"stroke:#000000; stroke-width:4; stroke-opacity:1; fill:none\" points=\"\n",
       "  1970.93,1423.18 1970.93,1406.67 \n",
       "  \"/>\n",
       "<polyline clip-path=\"url(#clip990)\" style=\"stroke:#000000; stroke-width:4; stroke-opacity:1; fill:none\" points=\"\n",
       "  256.486,1384.24 281.642,1384.24 \n",
       "  \"/>\n",
       "<polyline clip-path=\"url(#clip990)\" style=\"stroke:#000000; stroke-width:4; stroke-opacity:1; fill:none\" points=\"\n",
       "  256.486,1059.73 281.642,1059.73 \n",
       "  \"/>\n",
       "<polyline clip-path=\"url(#clip990)\" style=\"stroke:#000000; stroke-width:4; stroke-opacity:1; fill:none\" points=\"\n",
       "  256.486,735.212 281.642,735.212 \n",
       "  \"/>\n",
       "<polyline clip-path=\"url(#clip990)\" style=\"stroke:#000000; stroke-width:4; stroke-opacity:1; fill:none\" points=\"\n",
       "  256.486,410.699 281.642,410.699 \n",
       "  \"/>\n",
       "<polyline clip-path=\"url(#clip990)\" style=\"stroke:#000000; stroke-width:4; stroke-opacity:1; fill:none\" points=\"\n",
       "  256.486,86.1857 281.642,86.1857 \n",
       "  \"/>\n",
       "<path clip-path=\"url(#clip990)\" d=\"M 0 0 M596.145 1442.09 L600.821 1442.09 L600.821 1456.26 L617.812 1456.26 L617.812 1442.09 L622.488 1442.09 L622.488 1476.65 L617.812 1476.65 L617.812 1460.19 L600.821 1460.19 L600.821 1476.65 L596.145 1476.65 L596.145 1442.09 Z\" fill=\"#000000\" fill-rule=\"evenodd\" fill-opacity=\"1\" /><path clip-path=\"url(#clip990)\" d=\"M 0 0 M637.002 1453.71 Q633.576 1453.71 631.585 1456.4 Q629.594 1459.06 629.594 1463.71 Q629.594 1468.36 631.562 1471.05 Q633.553 1473.71 637.002 1473.71 Q640.405 1473.71 642.395 1471.03 Q644.386 1468.34 644.386 1463.71 Q644.386 1459.11 642.395 1456.42 Q640.405 1453.71 637.002 1453.71 M637.002 1450.1 Q642.557 1450.1 645.729 1453.71 Q648.9 1457.32 648.9 1463.71 Q648.9 1470.08 645.729 1473.71 Q642.557 1477.32 637.002 1477.32 Q631.423 1477.32 628.252 1473.71 Q625.104 1470.08 625.104 1463.71 Q625.104 1457.32 628.252 1453.71 Q631.423 1450.1 637.002 1450.1 Z\" fill=\"#000000\" fill-rule=\"evenodd\" fill-opacity=\"1\" /><path clip-path=\"url(#clip990)\" d=\"M 0 0 M653.367 1440.63 L657.627 1440.63 L657.627 1476.65 L653.367 1476.65 L653.367 1440.63 Z\" fill=\"#000000\" fill-rule=\"evenodd\" fill-opacity=\"1\" /><path clip-path=\"url(#clip990)\" d=\"M 0 0 M660.242 1450.73 L680.474 1450.73 L680.474 1454.61 L664.455 1473.25 L680.474 1473.25 L680.474 1476.65 L659.664 1476.65 L659.664 1472.76 L675.682 1454.13 L660.242 1454.13 L660.242 1450.73 Z\" fill=\"#000000\" fill-rule=\"evenodd\" fill-opacity=\"1\" /><path clip-path=\"url(#clip990)\" d=\"M 0 0 M1215.06 1443.23 L1215.06 1447.79 Q1212.4 1446.51 1210.04 1445.89 Q1207.68 1445.26 1205.48 1445.26 Q1201.66 1445.26 1199.58 1446.74 Q1197.52 1448.23 1197.52 1450.96 Q1197.52 1453.25 1198.88 1454.43 Q1200.27 1455.59 1204.11 1456.3 L1206.94 1456.88 Q1212.17 1457.88 1214.64 1460.4 Q1217.14 1462.9 1217.14 1467.11 Q1217.14 1472.14 1213.77 1474.73 Q1210.41 1477.32 1203.9 1477.32 Q1201.45 1477.32 1198.67 1476.77 Q1195.92 1476.21 1192.96 1475.12 L1192.96 1470.31 Q1195.8 1471.91 1198.53 1472.72 Q1201.27 1473.53 1203.9 1473.53 Q1207.91 1473.53 1210.08 1471.95 Q1212.26 1470.38 1212.26 1467.46 Q1212.26 1464.92 1210.69 1463.48 Q1209.14 1462.05 1205.57 1461.33 L1202.72 1460.77 Q1197.49 1459.73 1195.15 1457.51 Q1192.82 1455.29 1192.82 1451.33 Q1192.82 1446.74 1196.03 1444.11 Q1199.27 1441.47 1204.95 1441.47 Q1207.38 1441.47 1209.9 1441.91 Q1212.42 1442.35 1215.06 1443.23 Z\" fill=\"#000000\" fill-rule=\"evenodd\" fill-opacity=\"1\" /><path clip-path=\"url(#clip990)\" d=\"M 0 0 M1240.27 1451.72 L1240.27 1455.7 Q1238.46 1454.71 1236.64 1454.22 Q1234.83 1453.71 1232.98 1453.71 Q1228.83 1453.71 1226.54 1456.35 Q1224.25 1458.97 1224.25 1463.71 Q1224.25 1468.46 1226.54 1471.1 Q1228.83 1473.71 1232.98 1473.71 Q1234.83 1473.71 1236.64 1473.23 Q1238.46 1472.72 1240.27 1471.72 L1240.27 1475.66 Q1238.49 1476.49 1236.57 1476.91 Q1234.67 1477.32 1232.52 1477.32 Q1226.66 1477.32 1223.21 1473.64 Q1219.76 1469.96 1219.76 1463.71 Q1219.76 1457.37 1223.23 1453.74 Q1226.73 1450.1 1232.79 1450.1 Q1234.76 1450.1 1236.64 1450.52 Q1238.51 1450.91 1240.27 1451.72 Z\" fill=\"#000000\" fill-rule=\"evenodd\" fill-opacity=\"1\" /><path clip-path=\"url(#clip990)\" d=\"M 0 0 M1266.29 1461 L1266.29 1476.65 L1262.03 1476.65 L1262.03 1461.14 Q1262.03 1457.46 1260.59 1455.63 Q1259.16 1453.8 1256.29 1453.8 Q1252.84 1453.8 1250.85 1456 Q1248.86 1458.2 1248.86 1462 L1248.86 1476.65 L1244.58 1476.65 L1244.58 1440.63 L1248.86 1440.63 L1248.86 1454.75 Q1250.39 1452.42 1252.45 1451.26 Q1254.53 1450.1 1257.24 1450.1 Q1261.7 1450.1 1264 1452.88 Q1266.29 1455.63 1266.29 1461 Z\" fill=\"#000000\" fill-rule=\"evenodd\" fill-opacity=\"1\" /><path clip-path=\"url(#clip990)\" d=\"M 0 0 M1285.78 1454.71 Q1285.06 1454.29 1284.2 1454.11 Q1283.37 1453.9 1282.35 1453.9 Q1278.74 1453.9 1276.8 1456.26 Q1274.88 1458.6 1274.88 1462.99 L1274.88 1476.65 L1270.59 1476.65 L1270.59 1450.73 L1274.88 1450.73 L1274.88 1454.75 Q1276.22 1452.39 1278.37 1451.26 Q1280.52 1450.1 1283.6 1450.1 Q1284.04 1450.1 1284.57 1450.17 Q1285.11 1450.22 1285.76 1450.33 L1285.78 1454.71 Z\" fill=\"#000000\" fill-rule=\"evenodd\" fill-opacity=\"1\" /><path clip-path=\"url(#clip990)\" d=\"M 0 0 M1302.03 1463.62 Q1296.87 1463.62 1294.88 1464.8 Q1292.89 1465.98 1292.89 1468.83 Q1292.89 1471.1 1294.37 1472.44 Q1295.87 1473.76 1298.44 1473.76 Q1301.98 1473.76 1304.11 1471.26 Q1306.26 1468.74 1306.26 1464.57 L1306.26 1463.62 L1302.03 1463.62 M1310.52 1461.86 L1310.52 1476.65 L1306.26 1476.65 L1306.26 1472.72 Q1304.81 1475.08 1302.63 1476.21 Q1300.45 1477.32 1297.31 1477.32 Q1293.32 1477.32 1290.96 1475.1 Q1288.63 1472.86 1288.63 1469.11 Q1288.63 1464.73 1291.54 1462.51 Q1294.48 1460.29 1300.29 1460.29 L1306.26 1460.29 L1306.26 1459.87 Q1306.26 1456.93 1304.32 1455.33 Q1302.4 1453.71 1298.9 1453.71 Q1296.68 1453.71 1294.57 1454.24 Q1292.47 1454.78 1290.52 1455.84 L1290.52 1451.91 Q1292.86 1451 1295.06 1450.56 Q1297.26 1450.1 1299.34 1450.1 Q1304.97 1450.1 1307.75 1453.02 Q1310.52 1455.93 1310.52 1461.86 Z\" fill=\"#000000\" fill-rule=\"evenodd\" fill-opacity=\"1\" /><path clip-path=\"url(#clip990)\" d=\"M 0 0 M1314.55 1466.42 L1314.55 1450.73 L1318.81 1450.73 L1318.81 1466.26 Q1318.81 1469.94 1320.25 1471.79 Q1321.68 1473.62 1324.55 1473.62 Q1328 1473.62 1329.99 1471.42 Q1332.01 1469.22 1332.01 1465.43 L1332.01 1450.73 L1336.26 1450.73 L1336.26 1476.65 L1332.01 1476.65 L1332.01 1472.67 Q1330.45 1475.03 1328.39 1476.19 Q1326.36 1477.32 1323.65 1477.32 Q1319.18 1477.32 1316.87 1474.55 Q1314.55 1471.77 1314.55 1466.42 M1325.27 1450.1 L1325.27 1450.1 Z\" fill=\"#000000\" fill-rule=\"evenodd\" fill-opacity=\"1\" /><path clip-path=\"url(#clip990)\" d=\"M 0 0 M1359.34 1463.71 Q1359.34 1459.01 1357.4 1456.35 Q1355.48 1453.67 1352.1 1453.67 Q1348.72 1453.67 1346.77 1456.35 Q1344.85 1459.01 1344.85 1463.71 Q1344.85 1468.41 1346.77 1471.1 Q1348.72 1473.76 1352.1 1473.76 Q1355.48 1473.76 1357.4 1471.1 Q1359.34 1468.41 1359.34 1463.71 M1344.85 1454.66 Q1346.2 1452.35 1348.23 1451.24 Q1350.29 1450.1 1353.14 1450.1 Q1357.86 1450.1 1360.8 1453.85 Q1363.76 1457.6 1363.76 1463.71 Q1363.76 1469.82 1360.8 1473.57 Q1357.86 1477.32 1353.14 1477.32 Q1350.29 1477.32 1348.23 1476.21 Q1346.2 1475.08 1344.85 1472.76 L1344.85 1476.65 L1340.57 1476.65 L1340.57 1440.63 L1344.85 1440.63 L1344.85 1454.66 Z\" fill=\"#000000\" fill-rule=\"evenodd\" fill-opacity=\"1\" /><path clip-path=\"url(#clip990)\" d=\"M 0 0 M1390.41 1462.62 L1390.41 1464.71 L1370.82 1464.71 Q1371.1 1469.11 1373.46 1471.42 Q1375.85 1473.71 1380.08 1473.71 Q1382.54 1473.71 1384.83 1473.11 Q1387.14 1472.51 1389.41 1471.3 L1389.41 1475.33 Q1387.12 1476.3 1384.71 1476.81 Q1382.31 1477.32 1379.83 1477.32 Q1373.63 1477.32 1369.99 1473.71 Q1366.38 1470.1 1366.38 1463.94 Q1366.38 1457.58 1369.81 1453.85 Q1373.26 1450.1 1379.09 1450.1 Q1384.32 1450.1 1387.35 1453.48 Q1390.41 1456.84 1390.41 1462.62 M1386.15 1461.37 Q1386.1 1457.88 1384.18 1455.8 Q1382.28 1453.71 1379.13 1453.71 Q1375.57 1453.71 1373.42 1455.73 Q1371.29 1457.74 1370.96 1461.4 L1386.15 1461.37 Z\" fill=\"#000000\" fill-rule=\"evenodd\" fill-opacity=\"1\" /><path clip-path=\"url(#clip990)\" d=\"M 0 0 M1416.43 1461 L1416.43 1476.65 L1412.17 1476.65 L1412.17 1461.14 Q1412.17 1457.46 1410.73 1455.63 Q1409.3 1453.8 1406.43 1453.8 Q1402.98 1453.8 1400.99 1456 Q1399 1458.2 1399 1462 L1399 1476.65 L1394.71 1476.65 L1394.71 1450.73 L1399 1450.73 L1399 1454.75 Q1400.52 1452.42 1402.58 1451.26 Q1404.67 1450.1 1407.38 1450.1 Q1411.84 1450.1 1414.13 1452.88 Q1416.43 1455.63 1416.43 1461 Z\" fill=\"#000000\" fill-rule=\"evenodd\" fill-opacity=\"1\" /><path clip-path=\"url(#clip990)\" d=\"M 0 0 M1881.5 1443.23 L1881.5 1447.79 Q1878.84 1446.51 1876.48 1445.89 Q1874.12 1445.26 1871.92 1445.26 Q1868.1 1445.26 1866.01 1446.74 Q1863.95 1448.23 1863.95 1450.96 Q1863.95 1453.25 1865.32 1454.43 Q1866.71 1455.59 1870.55 1456.3 L1873.38 1456.88 Q1878.61 1457.88 1881.08 1460.4 Q1883.58 1462.9 1883.58 1467.11 Q1883.58 1472.14 1880.2 1474.73 Q1876.85 1477.32 1870.34 1477.32 Q1867.89 1477.32 1865.11 1476.77 Q1862.36 1476.21 1859.39 1475.12 L1859.39 1470.31 Q1862.24 1471.91 1864.97 1472.72 Q1867.7 1473.53 1870.34 1473.53 Q1874.35 1473.53 1876.52 1471.95 Q1878.7 1470.38 1878.7 1467.46 Q1878.7 1464.92 1877.13 1463.48 Q1875.57 1462.05 1872.01 1461.33 L1869.16 1460.77 Q1863.93 1459.73 1861.59 1457.51 Q1859.26 1455.29 1859.26 1451.33 Q1859.26 1446.74 1862.47 1444.11 Q1865.71 1441.47 1871.38 1441.47 Q1873.82 1441.47 1876.34 1441.91 Q1878.86 1442.35 1881.5 1443.23 Z\" fill=\"#000000\" fill-rule=\"evenodd\" fill-opacity=\"1\" /><path clip-path=\"url(#clip990)\" d=\"M 0 0 M1906.71 1451.72 L1906.71 1455.7 Q1904.9 1454.71 1903.07 1454.22 Q1901.27 1453.71 1899.42 1453.71 Q1895.27 1453.71 1892.98 1456.35 Q1890.69 1458.97 1890.69 1463.71 Q1890.69 1468.46 1892.98 1471.1 Q1895.27 1473.71 1899.42 1473.71 Q1901.27 1473.71 1903.07 1473.23 Q1904.9 1472.72 1906.71 1471.72 L1906.71 1475.66 Q1904.93 1476.49 1903 1476.91 Q1901.11 1477.32 1898.95 1477.32 Q1893.1 1477.32 1889.65 1473.64 Q1886.2 1469.96 1886.2 1463.71 Q1886.2 1457.37 1889.67 1453.74 Q1893.17 1450.1 1899.23 1450.1 Q1901.2 1450.1 1903.07 1450.52 Q1904.95 1450.91 1906.71 1451.72 Z\" fill=\"#000000\" fill-rule=\"evenodd\" fill-opacity=\"1\" /><path clip-path=\"url(#clip990)\" d=\"M 0 0 M1932.73 1461 L1932.73 1476.65 L1928.47 1476.65 L1928.47 1461.14 Q1928.47 1457.46 1927.03 1455.63 Q1925.6 1453.8 1922.73 1453.8 Q1919.28 1453.8 1917.29 1456 Q1915.3 1458.2 1915.3 1462 L1915.3 1476.65 L1911.01 1476.65 L1911.01 1440.63 L1915.3 1440.63 L1915.3 1454.75 Q1916.82 1452.42 1918.88 1451.26 Q1920.97 1450.1 1923.68 1450.1 Q1928.14 1450.1 1930.44 1452.88 Q1932.73 1455.63 1932.73 1461 Z\" fill=\"#000000\" fill-rule=\"evenodd\" fill-opacity=\"1\" /><path clip-path=\"url(#clip990)\" d=\"M 0 0 M1948.98 1463.62 Q1943.81 1463.62 1941.82 1464.8 Q1939.83 1465.98 1939.83 1468.83 Q1939.83 1471.1 1941.31 1472.44 Q1942.82 1473.76 1945.39 1473.76 Q1948.93 1473.76 1951.06 1471.26 Q1953.21 1468.74 1953.21 1464.57 L1953.21 1463.62 L1948.98 1463.62 M1957.47 1461.86 L1957.47 1476.65 L1953.21 1476.65 L1953.21 1472.72 Q1951.75 1475.08 1949.58 1476.21 Q1947.4 1477.32 1944.25 1477.32 Q1940.27 1477.32 1937.91 1475.1 Q1935.57 1472.86 1935.57 1469.11 Q1935.57 1464.73 1938.49 1462.51 Q1941.43 1460.29 1947.24 1460.29 L1953.21 1460.29 L1953.21 1459.87 Q1953.21 1456.93 1951.27 1455.33 Q1949.35 1453.71 1945.85 1453.71 Q1943.63 1453.71 1941.52 1454.24 Q1939.42 1454.78 1937.47 1455.84 L1937.47 1451.91 Q1939.81 1451 1942.01 1450.56 Q1944.21 1450.1 1946.29 1450.1 Q1951.92 1450.1 1954.69 1453.02 Q1957.47 1455.93 1957.47 1461.86 Z\" fill=\"#000000\" fill-rule=\"evenodd\" fill-opacity=\"1\" /><path clip-path=\"url(#clip990)\" d=\"M 0 0 M1976.96 1454.71 Q1976.25 1454.29 1975.39 1454.11 Q1974.56 1453.9 1973.54 1453.9 Q1969.93 1453.9 1967.98 1456.26 Q1966.06 1458.6 1966.06 1462.99 L1966.06 1476.65 L1961.78 1476.65 L1961.78 1450.73 L1966.06 1450.73 L1966.06 1454.75 Q1967.4 1452.39 1969.56 1451.26 Q1971.71 1450.1 1974.79 1450.1 Q1975.23 1450.1 1975.76 1450.17 Q1976.29 1450.22 1976.94 1450.33 L1976.96 1454.71 Z\" fill=\"#000000\" fill-rule=\"evenodd\" fill-opacity=\"1\" /><path clip-path=\"url(#clip990)\" d=\"M 0 0 M2002.15 1461 L2002.15 1476.65 L1997.89 1476.65 L1997.89 1461.14 Q1997.89 1457.46 1996.45 1455.63 Q1995.02 1453.8 1992.15 1453.8 Q1988.7 1453.8 1986.71 1456 Q1984.72 1458.2 1984.72 1462 L1984.72 1476.65 L1980.43 1476.65 L1980.43 1450.73 L1984.72 1450.73 L1984.72 1454.75 Q1986.25 1452.42 1988.31 1451.26 Q1990.39 1450.1 1993.1 1450.1 Q1997.56 1450.1 1999.86 1452.88 Q2002.15 1455.63 2002.15 1461 Z\" fill=\"#000000\" fill-rule=\"evenodd\" fill-opacity=\"1\" /><path clip-path=\"url(#clip990)\" d=\"M 0 0 M2006.62 1450.73 L2010.87 1450.73 L2010.87 1476.65 L2006.62 1476.65 L2006.62 1450.73 M2006.62 1440.63 L2010.87 1440.63 L2010.87 1446.03 L2006.62 1446.03 L2006.62 1440.63 Z\" fill=\"#000000\" fill-rule=\"evenodd\" fill-opacity=\"1\" /><path clip-path=\"url(#clip990)\" d=\"M 0 0 M2037.52 1462.62 L2037.52 1464.71 L2017.93 1464.71 Q2018.21 1469.11 2020.57 1471.42 Q2022.96 1473.71 2027.19 1473.71 Q2029.65 1473.71 2031.94 1473.11 Q2034.25 1472.51 2036.52 1471.3 L2036.52 1475.33 Q2034.23 1476.3 2031.82 1476.81 Q2029.42 1477.32 2026.94 1477.32 Q2020.74 1477.32 2017.1 1473.71 Q2013.49 1470.1 2013.49 1463.94 Q2013.49 1457.58 2016.92 1453.85 Q2020.37 1450.1 2026.2 1450.1 Q2031.43 1450.1 2034.46 1453.48 Q2037.52 1456.84 2037.52 1462.62 M2033.26 1461.37 Q2033.21 1457.88 2031.29 1455.8 Q2029.39 1453.71 2026.24 1453.71 Q2022.68 1453.71 2020.53 1455.73 Q2018.4 1457.74 2018.07 1461.4 L2033.26 1461.37 Z\" fill=\"#000000\" fill-rule=\"evenodd\" fill-opacity=\"1\" /><path clip-path=\"url(#clip990)\" d=\"M 0 0 M2057.01 1454.71 Q2056.29 1454.29 2055.43 1454.11 Q2054.6 1453.9 2053.58 1453.9 Q2049.97 1453.9 2048.03 1456.26 Q2046.11 1458.6 2046.11 1462.99 L2046.11 1476.65 L2041.82 1476.65 L2041.82 1450.73 L2046.11 1450.73 L2046.11 1454.75 Q2047.45 1452.39 2049.6 1451.26 Q2051.75 1450.1 2054.83 1450.1 Q2055.27 1450.1 2055.8 1450.17 Q2056.34 1450.22 2056.99 1450.33 L2057.01 1454.71 Z\" fill=\"#000000\" fill-rule=\"evenodd\" fill-opacity=\"1\" /><path clip-path=\"url(#clip990)\" d=\"M 0 0 M2082.61 1462.62 L2082.61 1464.71 L2063.03 1464.71 Q2063.3 1469.11 2065.67 1471.42 Q2068.05 1473.71 2072.29 1473.71 Q2074.74 1473.71 2077.03 1473.11 Q2079.35 1472.51 2081.62 1471.3 L2081.62 1475.33 Q2079.32 1476.3 2076.92 1476.81 Q2074.51 1477.32 2072.03 1477.32 Q2065.83 1477.32 2062.19 1473.71 Q2058.58 1470.1 2058.58 1463.94 Q2058.58 1457.58 2062.01 1453.85 Q2065.46 1450.1 2071.29 1450.1 Q2076.52 1450.1 2079.55 1453.48 Q2082.61 1456.84 2082.61 1462.62 M2078.35 1461.37 Q2078.3 1457.88 2076.38 1455.8 Q2074.49 1453.71 2071.34 1453.71 Q2067.77 1453.71 2065.62 1455.73 Q2063.49 1457.74 2063.17 1461.4 L2078.35 1461.37 Z\" fill=\"#000000\" fill-rule=\"evenodd\" fill-opacity=\"1\" /><path clip-path=\"url(#clip990)\" d=\"M 0 0 M220.542 1370.04 Q216.931 1370.04 215.102 1373.6 Q213.297 1377.14 213.297 1384.27 Q213.297 1391.38 215.102 1394.94 Q216.931 1398.49 220.542 1398.49 Q224.176 1398.49 225.982 1394.94 Q227.811 1391.38 227.811 1384.27 Q227.811 1377.14 225.982 1373.6 Q224.176 1370.04 220.542 1370.04 M220.542 1366.33 Q226.352 1366.33 229.408 1370.94 Q232.486 1375.52 232.486 1384.27 Q232.486 1393 229.408 1397.61 Q226.352 1402.19 220.542 1402.19 Q214.732 1402.19 211.653 1397.61 Q208.598 1393 208.598 1384.27 Q208.598 1375.52 211.653 1370.94 Q214.732 1366.33 220.542 1366.33 Z\" fill=\"#000000\" fill-rule=\"evenodd\" fill-opacity=\"1\" /><path clip-path=\"url(#clip990)\" d=\"M 0 0 M131.538 1073.07 L139.177 1073.07 L139.177 1046.7 L130.867 1048.37 L130.867 1044.11 L139.13 1042.45 L143.806 1042.45 L143.806 1073.07 L151.445 1073.07 L151.445 1077.01 L131.538 1077.01 L131.538 1073.07 Z\" fill=\"#000000\" fill-rule=\"evenodd\" fill-opacity=\"1\" /><path clip-path=\"url(#clip990)\" d=\"M 0 0 M166.515 1045.52 Q162.903 1045.52 161.075 1049.09 Q159.269 1052.63 159.269 1059.76 Q159.269 1066.87 161.075 1070.43 Q162.903 1073.97 166.515 1073.97 Q170.149 1073.97 171.954 1070.43 Q173.783 1066.87 173.783 1059.76 Q173.783 1052.63 171.954 1049.09 Q170.149 1045.52 166.515 1045.52 M166.515 1041.82 Q172.325 1041.82 175.38 1046.43 Q178.459 1051.01 178.459 1059.76 Q178.459 1068.49 175.38 1073.09 Q172.325 1077.68 166.515 1077.68 Q160.704 1077.68 157.626 1073.09 Q154.57 1068.49 154.57 1059.76 Q154.57 1051.01 157.626 1046.43 Q160.704 1041.82 166.515 1041.82 Z\" fill=\"#000000\" fill-rule=\"evenodd\" fill-opacity=\"1\" /><path clip-path=\"url(#clip990)\" d=\"M 0 0 M193.528 1045.52 Q189.917 1045.52 188.089 1049.09 Q186.283 1052.63 186.283 1059.76 Q186.283 1066.87 188.089 1070.43 Q189.917 1073.97 193.528 1073.97 Q197.163 1073.97 198.968 1070.43 Q200.797 1066.87 200.797 1059.76 Q200.797 1052.63 198.968 1049.09 Q197.163 1045.52 193.528 1045.52 M193.528 1041.82 Q199.338 1041.82 202.394 1046.43 Q205.473 1051.01 205.473 1059.76 Q205.473 1068.49 202.394 1073.09 Q199.338 1077.68 193.528 1077.68 Q187.718 1077.68 184.639 1073.09 Q181.584 1068.49 181.584 1059.76 Q181.584 1051.01 184.639 1046.43 Q187.718 1041.82 193.528 1041.82 Z\" fill=\"#000000\" fill-rule=\"evenodd\" fill-opacity=\"1\" /><path clip-path=\"url(#clip990)\" d=\"M 0 0 M220.542 1045.52 Q216.931 1045.52 215.102 1049.09 Q213.297 1052.63 213.297 1059.76 Q213.297 1066.87 215.102 1070.43 Q216.931 1073.97 220.542 1073.97 Q224.176 1073.97 225.982 1070.43 Q227.811 1066.87 227.811 1059.76 Q227.811 1052.63 225.982 1049.09 Q224.176 1045.52 220.542 1045.52 M220.542 1041.82 Q226.352 1041.82 229.408 1046.43 Q232.486 1051.01 232.486 1059.76 Q232.486 1068.49 229.408 1073.09 Q226.352 1077.68 220.542 1077.68 Q214.732 1077.68 211.653 1073.09 Q208.598 1068.49 208.598 1059.76 Q208.598 1051.01 211.653 1046.43 Q214.732 1041.82 220.542 1041.82 Z\" fill=\"#000000\" fill-rule=\"evenodd\" fill-opacity=\"1\" /><path clip-path=\"url(#clip990)\" d=\"M 0 0 M135.126 748.557 L151.445 748.557 L151.445 752.492 L129.501 752.492 L129.501 748.557 Q132.163 745.802 136.746 741.173 Q141.353 736.52 142.533 735.177 Q144.779 732.654 145.658 730.918 Q146.561 729.159 146.561 727.469 Q146.561 724.714 144.617 722.978 Q142.695 721.242 139.593 721.242 Q137.394 721.242 134.941 722.006 Q132.51 722.77 129.732 724.321 L129.732 719.599 Q132.556 718.464 135.01 717.886 Q137.464 717.307 139.501 717.307 Q144.871 717.307 148.066 719.992 Q151.26 722.677 151.26 727.168 Q151.26 729.298 150.45 731.219 Q149.663 733.117 147.556 735.71 Q146.978 736.381 143.876 739.599 Q140.774 742.793 135.126 748.557 Z\" fill=\"#000000\" fill-rule=\"evenodd\" fill-opacity=\"1\" /><path clip-path=\"url(#clip990)\" d=\"M 0 0 M166.515 721.011 Q162.903 721.011 161.075 724.575 Q159.269 728.117 159.269 735.247 Q159.269 742.353 161.075 745.918 Q162.903 749.46 166.515 749.46 Q170.149 749.46 171.954 745.918 Q173.783 742.353 173.783 735.247 Q173.783 728.117 171.954 724.575 Q170.149 721.011 166.515 721.011 M166.515 717.307 Q172.325 717.307 175.38 721.913 Q178.459 726.497 178.459 735.247 Q178.459 743.973 175.38 748.58 Q172.325 753.163 166.515 753.163 Q160.704 753.163 157.626 748.58 Q154.57 743.973 154.57 735.247 Q154.57 726.497 157.626 721.913 Q160.704 717.307 166.515 717.307 Z\" fill=\"#000000\" fill-rule=\"evenodd\" fill-opacity=\"1\" /><path clip-path=\"url(#clip990)\" d=\"M 0 0 M193.528 721.011 Q189.917 721.011 188.089 724.575 Q186.283 728.117 186.283 735.247 Q186.283 742.353 188.089 745.918 Q189.917 749.46 193.528 749.46 Q197.163 749.46 198.968 745.918 Q200.797 742.353 200.797 735.247 Q200.797 728.117 198.968 724.575 Q197.163 721.011 193.528 721.011 M193.528 717.307 Q199.338 717.307 202.394 721.913 Q205.473 726.497 205.473 735.247 Q205.473 743.973 202.394 748.58 Q199.338 753.163 193.528 753.163 Q187.718 753.163 184.639 748.58 Q181.584 743.973 181.584 735.247 Q181.584 726.497 184.639 721.913 Q187.718 717.307 193.528 717.307 Z\" fill=\"#000000\" fill-rule=\"evenodd\" fill-opacity=\"1\" /><path clip-path=\"url(#clip990)\" d=\"M 0 0 M220.542 721.011 Q216.931 721.011 215.102 724.575 Q213.297 728.117 213.297 735.247 Q213.297 742.353 215.102 745.918 Q216.931 749.46 220.542 749.46 Q224.176 749.46 225.982 745.918 Q227.811 742.353 227.811 735.247 Q227.811 728.117 225.982 724.575 Q224.176 721.011 220.542 721.011 M220.542 717.307 Q226.352 717.307 229.408 721.913 Q232.486 726.497 232.486 735.247 Q232.486 743.973 229.408 748.58 Q226.352 753.163 220.542 753.163 Q214.732 753.163 211.653 748.58 Q208.598 743.973 208.598 735.247 Q208.598 726.497 211.653 721.913 Q214.732 717.307 220.542 717.307 Z\" fill=\"#000000\" fill-rule=\"evenodd\" fill-opacity=\"1\" /><path clip-path=\"url(#clip990)\" d=\"M 0 0 M144.316 409.345 Q147.672 410.062 149.547 412.331 Q151.445 414.599 151.445 417.933 Q151.445 423.048 147.927 425.849 Q144.408 428.65 137.927 428.65 Q135.751 428.65 133.436 428.21 Q131.144 427.794 128.691 426.937 L128.691 422.423 Q130.635 423.558 132.95 424.136 Q135.265 424.715 137.788 424.715 Q142.186 424.715 144.478 422.979 Q146.792 421.243 146.792 417.933 Q146.792 414.877 144.64 413.164 Q142.51 411.428 138.691 411.428 L134.663 411.428 L134.663 407.585 L138.876 407.585 Q142.325 407.585 144.154 406.22 Q145.982 404.831 145.982 402.238 Q145.982 399.576 144.084 398.164 Q142.209 396.729 138.691 396.729 Q136.769 396.729 134.57 397.146 Q132.371 397.562 129.732 398.442 L129.732 394.275 Q132.394 393.535 134.709 393.164 Q137.047 392.794 139.107 392.794 Q144.431 392.794 147.533 395.224 Q150.635 397.632 150.635 401.752 Q150.635 404.622 148.992 406.613 Q147.348 408.581 144.316 409.345 Z\" fill=\"#000000\" fill-rule=\"evenodd\" fill-opacity=\"1\" /><path clip-path=\"url(#clip990)\" d=\"M 0 0 M166.515 396.498 Q162.903 396.498 161.075 400.062 Q159.269 403.604 159.269 410.734 Q159.269 417.84 161.075 421.405 Q162.903 424.946 166.515 424.946 Q170.149 424.946 171.954 421.405 Q173.783 417.84 173.783 410.734 Q173.783 403.604 171.954 400.062 Q170.149 396.498 166.515 396.498 M166.515 392.794 Q172.325 392.794 175.38 397.4 Q178.459 401.984 178.459 410.734 Q178.459 419.46 175.38 424.067 Q172.325 428.65 166.515 428.65 Q160.704 428.65 157.626 424.067 Q154.57 419.46 154.57 410.734 Q154.57 401.984 157.626 397.4 Q160.704 392.794 166.515 392.794 Z\" fill=\"#000000\" fill-rule=\"evenodd\" fill-opacity=\"1\" /><path clip-path=\"url(#clip990)\" d=\"M 0 0 M193.528 396.498 Q189.917 396.498 188.089 400.062 Q186.283 403.604 186.283 410.734 Q186.283 417.84 188.089 421.405 Q189.917 424.946 193.528 424.946 Q197.163 424.946 198.968 421.405 Q200.797 417.84 200.797 410.734 Q200.797 403.604 198.968 400.062 Q197.163 396.498 193.528 396.498 M193.528 392.794 Q199.338 392.794 202.394 397.4 Q205.473 401.984 205.473 410.734 Q205.473 419.46 202.394 424.067 Q199.338 428.65 193.528 428.65 Q187.718 428.65 184.639 424.067 Q181.584 419.46 181.584 410.734 Q181.584 401.984 184.639 397.4 Q187.718 392.794 193.528 392.794 Z\" fill=\"#000000\" fill-rule=\"evenodd\" fill-opacity=\"1\" /><path clip-path=\"url(#clip990)\" d=\"M 0 0 M220.542 396.498 Q216.931 396.498 215.102 400.062 Q213.297 403.604 213.297 410.734 Q213.297 417.84 215.102 421.405 Q216.931 424.946 220.542 424.946 Q224.176 424.946 225.982 421.405 Q227.811 417.84 227.811 410.734 Q227.811 403.604 225.982 400.062 Q224.176 396.498 220.542 396.498 M220.542 392.794 Q226.352 392.794 229.408 397.4 Q232.486 401.984 232.486 410.734 Q232.486 419.46 229.408 424.067 Q226.352 428.65 220.542 428.65 Q214.732 428.65 211.653 424.067 Q208.598 419.46 208.598 410.734 Q208.598 401.984 211.653 397.4 Q214.732 392.794 220.542 392.794 Z\" fill=\"#000000\" fill-rule=\"evenodd\" fill-opacity=\"1\" /><path clip-path=\"url(#clip990)\" d=\"M 0 0 M141.862 72.9797 L130.056 91.4287 L141.862 91.4287 L141.862 72.9797 M140.635 68.9057 L146.515 68.9057 L146.515 91.4287 L151.445 91.4287 L151.445 95.3176 L146.515 95.3176 L146.515 103.466 L141.862 103.466 L141.862 95.3176 L126.26 95.3176 L126.26 90.8037 L140.635 68.9057 Z\" fill=\"#000000\" fill-rule=\"evenodd\" fill-opacity=\"1\" /><path clip-path=\"url(#clip990)\" d=\"M 0 0 M166.515 71.9844 Q162.903 71.9844 161.075 75.5492 Q159.269 79.0908 159.269 86.2204 Q159.269 93.3268 161.075 96.8916 Q162.903 100.433 166.515 100.433 Q170.149 100.433 171.954 96.8916 Q173.783 93.3268 173.783 86.2204 Q173.783 79.0908 171.954 75.5492 Q170.149 71.9844 166.515 71.9844 M166.515 68.2807 Q172.325 68.2807 175.38 72.8871 Q178.459 77.4704 178.459 86.2204 Q178.459 94.9472 175.38 99.5537 Q172.325 104.137 166.515 104.137 Q160.704 104.137 157.626 99.5537 Q154.57 94.9472 154.57 86.2204 Q154.57 77.4704 157.626 72.8871 Q160.704 68.2807 166.515 68.2807 Z\" fill=\"#000000\" fill-rule=\"evenodd\" fill-opacity=\"1\" /><path clip-path=\"url(#clip990)\" d=\"M 0 0 M193.528 71.9844 Q189.917 71.9844 188.089 75.5492 Q186.283 79.0908 186.283 86.2204 Q186.283 93.3268 188.089 96.8916 Q189.917 100.433 193.528 100.433 Q197.163 100.433 198.968 96.8916 Q200.797 93.3268 200.797 86.2204 Q200.797 79.0908 198.968 75.5492 Q197.163 71.9844 193.528 71.9844 M193.528 68.2807 Q199.338 68.2807 202.394 72.8871 Q205.473 77.4704 205.473 86.2204 Q205.473 94.9472 202.394 99.5537 Q199.338 104.137 193.528 104.137 Q187.718 104.137 184.639 99.5537 Q181.584 94.9472 181.584 86.2204 Q181.584 77.4704 184.639 72.8871 Q187.718 68.2807 193.528 68.2807 Z\" fill=\"#000000\" fill-rule=\"evenodd\" fill-opacity=\"1\" /><path clip-path=\"url(#clip990)\" d=\"M 0 0 M220.542 71.9844 Q216.931 71.9844 215.102 75.5492 Q213.297 79.0908 213.297 86.2204 Q213.297 93.3268 215.102 96.8916 Q216.931 100.433 220.542 100.433 Q224.176 100.433 225.982 96.8916 Q227.811 93.3268 227.811 86.2204 Q227.811 79.0908 225.982 75.5492 Q224.176 71.9844 220.542 71.9844 M220.542 68.2807 Q226.352 68.2807 229.408 72.8871 Q232.486 77.4704 232.486 86.2204 Q232.486 94.9472 229.408 99.5537 Q226.352 104.137 220.542 104.137 Q214.732 104.137 211.653 99.5537 Q208.598 94.9472 208.598 86.2204 Q208.598 77.4704 211.653 72.8871 Q214.732 68.2807 220.542 68.2807 Z\" fill=\"#000000\" fill-rule=\"evenodd\" fill-opacity=\"1\" /><path clip-path=\"url(#clip990)\" d=\"M 0 0 M1160.37 1533.76 Q1162.44 1534.46 1164.38 1536.76 Q1166.36 1539.05 1168.33 1543.06 L1174.86 1556.04 L1167.95 1556.04 L1161.87 1543.85 Q1159.51 1539.08 1157.29 1537.52 Q1155.09 1535.96 1151.27 1535.96 L1144.27 1535.96 L1144.27 1556.04 L1137.84 1556.04 L1137.84 1508.52 L1152.35 1508.52 Q1160.5 1508.52 1164.51 1511.93 Q1168.52 1515.34 1168.52 1522.21 Q1168.52 1526.7 1166.42 1529.66 Q1164.35 1532.62 1160.37 1533.76 M1144.27 1513.81 L1144.27 1530.68 L1152.35 1530.68 Q1157 1530.68 1159.36 1528.54 Q1161.74 1526.38 1161.74 1522.21 Q1161.74 1518.04 1159.36 1515.94 Q1157 1513.81 1152.35 1513.81 L1144.27 1513.81 Z\" fill=\"#000000\" fill-rule=\"evenodd\" fill-opacity=\"1\" /><path clip-path=\"url(#clip990)\" d=\"M 0 0 M1208.56 1536.76 L1208.56 1539.62 L1181.64 1539.62 Q1182.02 1545.67 1185.26 1548.85 Q1188.54 1552 1194.37 1552 Q1197.74 1552 1200.89 1551.17 Q1204.07 1550.35 1207.19 1548.69 L1207.19 1554.23 Q1204.04 1555.57 1200.73 1556.27 Q1197.42 1556.97 1194.02 1556.97 Q1185.49 1556.97 1180.49 1552 Q1175.52 1547.04 1175.52 1538.57 Q1175.52 1529.82 1180.24 1524.69 Q1184.98 1519.54 1193 1519.54 Q1200.19 1519.54 1204.36 1524.18 Q1208.56 1528.8 1208.56 1536.76 M1202.71 1535.04 Q1202.64 1530.23 1200 1527.37 Q1197.39 1524.5 1193.06 1524.5 Q1188.16 1524.5 1185.2 1527.27 Q1182.27 1530.04 1181.83 1535.07 L1202.71 1535.04 Z\" fill=\"#000000\" fill-rule=\"evenodd\" fill-opacity=\"1\" /><path clip-path=\"url(#clip990)\" d=\"M 0 0 M1237.43 1521.45 L1237.43 1526.98 Q1234.95 1525.71 1232.27 1525.07 Q1229.6 1524.44 1226.74 1524.44 Q1222.38 1524.44 1220.18 1525.77 Q1218.02 1527.11 1218.02 1529.79 Q1218.02 1531.82 1219.58 1533 Q1221.13 1534.15 1225.85 1535.2 L1227.85 1535.64 Q1234.09 1536.98 1236.7 1539.43 Q1239.34 1541.85 1239.34 1546.21 Q1239.34 1551.17 1235.39 1554.07 Q1231.48 1556.97 1224.6 1556.97 Q1221.74 1556.97 1218.62 1556.39 Q1215.53 1555.85 1212.1 1554.74 L1212.1 1548.69 Q1215.34 1550.38 1218.49 1551.24 Q1221.64 1552.07 1224.73 1552.07 Q1228.87 1552.07 1231.1 1550.66 Q1233.33 1549.23 1233.33 1546.65 Q1233.33 1544.27 1231.7 1542.99 Q1230.11 1541.72 1224.67 1540.54 L1222.63 1540.07 Q1217.19 1538.92 1214.77 1536.56 Q1212.35 1534.18 1212.35 1530.04 Q1212.35 1525.01 1215.92 1522.27 Q1219.48 1519.54 1226.04 1519.54 Q1229.28 1519.54 1232.15 1520.01 Q1235.01 1520.49 1237.43 1521.45 Z\" fill=\"#000000\" fill-rule=\"evenodd\" fill-opacity=\"1\" /><path clip-path=\"url(#clip990)\" d=\"M 0 0 M1268.21 1521.45 L1268.21 1526.98 Q1265.73 1525.71 1263.05 1525.07 Q1260.38 1524.44 1257.51 1524.44 Q1253.15 1524.44 1250.96 1525.77 Q1248.79 1527.11 1248.79 1529.79 Q1248.79 1531.82 1250.35 1533 Q1251.91 1534.15 1256.62 1535.2 L1258.63 1535.64 Q1264.87 1536.98 1267.48 1539.43 Q1270.12 1541.85 1270.12 1546.21 Q1270.12 1551.17 1266.17 1554.07 Q1262.26 1556.97 1255.38 1556.97 Q1252.52 1556.97 1249.4 1556.39 Q1246.31 1555.85 1242.87 1554.74 L1242.87 1548.69 Q1246.12 1550.38 1249.27 1551.24 Q1252.42 1552.07 1255.51 1552.07 Q1259.65 1552.07 1261.88 1550.66 Q1264.1 1549.23 1264.1 1546.65 Q1264.1 1544.27 1262.48 1542.99 Q1260.89 1541.72 1255.45 1540.54 L1253.41 1540.07 Q1247.97 1538.92 1245.55 1536.56 Q1243.13 1534.18 1243.13 1530.04 Q1243.13 1525.01 1246.69 1522.27 Q1250.26 1519.54 1256.81 1519.54 Q1260.06 1519.54 1262.93 1520.01 Q1265.79 1520.49 1268.21 1521.45 Z\" fill=\"#000000\" fill-rule=\"evenodd\" fill-opacity=\"1\" /><path clip-path=\"url(#clip990)\" d=\"M 0 0 M1290.08 1524.5 Q1285.36 1524.5 1282.63 1528.19 Q1279.89 1531.85 1279.89 1538.25 Q1279.89 1544.65 1282.6 1548.34 Q1285.33 1552 1290.08 1552 Q1294.75 1552 1297.49 1548.31 Q1300.23 1544.62 1300.23 1538.25 Q1300.23 1531.92 1297.49 1528.23 Q1294.75 1524.5 1290.08 1524.5 M1290.08 1519.54 Q1297.71 1519.54 1302.07 1524.5 Q1306.44 1529.47 1306.44 1538.25 Q1306.44 1547 1302.07 1552 Q1297.71 1556.97 1290.08 1556.97 Q1282.4 1556.97 1278.04 1552 Q1273.72 1547 1273.72 1538.25 Q1273.72 1529.47 1278.04 1524.5 Q1282.4 1519.54 1290.08 1519.54 Z\" fill=\"#000000\" fill-rule=\"evenodd\" fill-opacity=\"1\" /><path clip-path=\"url(#clip990)\" d=\"M 0 0 M1311.97 1541.98 L1311.97 1520.4 L1317.83 1520.4 L1317.83 1541.75 Q1317.83 1546.81 1319.8 1549.36 Q1321.78 1551.87 1325.72 1551.87 Q1330.47 1551.87 1333.2 1548.85 Q1335.97 1545.83 1335.97 1540.61 L1335.97 1520.4 L1341.83 1520.4 L1341.83 1556.04 L1335.97 1556.04 L1335.97 1550.57 Q1333.84 1553.82 1331.01 1555.41 Q1328.21 1556.97 1324.48 1556.97 Q1318.34 1556.97 1315.16 1553.15 Q1311.97 1549.33 1311.97 1541.98 M1326.71 1519.54 L1326.71 1519.54 Z\" fill=\"#000000\" fill-rule=\"evenodd\" fill-opacity=\"1\" /><path clip-path=\"url(#clip990)\" d=\"M 0 0 M1368.63 1525.87 Q1367.64 1525.3 1366.46 1525.04 Q1365.32 1524.76 1363.92 1524.76 Q1358.95 1524.76 1356.28 1528 Q1353.64 1531.22 1353.64 1537.27 L1353.64 1556.04 L1347.75 1556.04 L1347.75 1520.4 L1353.64 1520.4 L1353.64 1525.93 Q1355.48 1522.69 1358.44 1521.13 Q1361.4 1519.54 1365.64 1519.54 Q1366.24 1519.54 1366.97 1519.63 Q1367.71 1519.7 1368.6 1519.85 L1368.63 1525.87 Z\" fill=\"#000000\" fill-rule=\"evenodd\" fill-opacity=\"1\" /><path clip-path=\"url(#clip990)\" d=\"M 0 0 M1398.99 1521.76 L1398.99 1527.24 Q1396.51 1525.87 1394 1525.2 Q1391.51 1524.5 1388.97 1524.5 Q1383.27 1524.5 1380.12 1528.13 Q1376.97 1531.73 1376.97 1538.25 Q1376.97 1544.78 1380.12 1548.4 Q1383.27 1552 1388.97 1552 Q1391.51 1552 1394 1551.33 Q1396.51 1550.63 1398.99 1549.26 L1398.99 1554.68 Q1396.54 1555.82 1393.9 1556.39 Q1391.29 1556.97 1388.33 1556.97 Q1380.28 1556.97 1375.54 1551.91 Q1370.79 1546.85 1370.79 1538.25 Q1370.79 1529.53 1375.57 1524.53 Q1380.37 1519.54 1388.71 1519.54 Q1391.42 1519.54 1394 1520.11 Q1396.57 1520.65 1398.99 1521.76 Z\" fill=\"#000000\" fill-rule=\"evenodd\" fill-opacity=\"1\" /><path clip-path=\"url(#clip990)\" d=\"M 0 0 M1435.63 1536.76 L1435.63 1539.62 L1408.7 1539.62 Q1409.08 1545.67 1412.33 1548.85 Q1415.61 1552 1421.43 1552 Q1424.81 1552 1427.96 1551.17 Q1431.14 1550.35 1434.26 1548.69 L1434.26 1554.23 Q1431.11 1555.57 1427.8 1556.27 Q1424.49 1556.97 1421.08 1556.97 Q1412.55 1556.97 1407.55 1552 Q1402.59 1547.04 1402.59 1538.57 Q1402.59 1529.82 1407.3 1524.69 Q1412.04 1519.54 1420.06 1519.54 Q1427.26 1519.54 1431.43 1524.18 Q1435.63 1528.8 1435.63 1536.76 M1429.77 1535.04 Q1429.71 1530.23 1427.07 1527.37 Q1424.46 1524.5 1420.13 1524.5 Q1415.23 1524.5 1412.27 1527.27 Q1409.34 1530.04 1408.89 1535.07 L1429.77 1535.04 Z\" fill=\"#000000\" fill-rule=\"evenodd\" fill-opacity=\"1\" /><path clip-path=\"url(#clip990)\" d=\"M 0 0 M1471.4 1534.53 L1471.4 1556.04 L1465.55 1556.04 L1465.55 1534.72 Q1465.55 1529.66 1463.57 1527.14 Q1461.6 1524.63 1457.65 1524.63 Q1452.91 1524.63 1450.17 1527.65 Q1447.44 1530.68 1447.44 1535.9 L1447.44 1556.04 L1441.55 1556.04 L1441.55 1520.4 L1447.44 1520.4 L1447.44 1525.93 Q1449.54 1522.72 1452.37 1521.13 Q1455.23 1519.54 1458.96 1519.54 Q1465.1 1519.54 1468.25 1523.36 Q1471.4 1527.14 1471.4 1534.53 Z\" fill=\"#000000\" fill-rule=\"evenodd\" fill-opacity=\"1\" /><path clip-path=\"url(#clip990)\" d=\"M 0 0 M40.4842 869.146 L40.4842 862.717 L60.568 862.717 L40.4842 841.392 L40.4842 833.117 L62.6368 856.701 L88.0042 831.43 L88.0042 839.896 L65.1194 862.717 L88.0042 862.717 L88.0042 869.146 L40.4842 869.146 Z\" fill=\"#000000\" fill-rule=\"evenodd\" fill-opacity=\"1\" /><path clip-path=\"url(#clip990)\" d=\"M 0 0 M70.0847 810.232 Q70.0847 817.33 71.7079 820.067 Q73.3312 822.804 77.2461 822.804 Q80.3653 822.804 82.2114 820.767 Q84.0256 818.698 84.0256 815.165 Q84.0256 810.295 80.5881 807.367 Q77.1188 804.407 71.3897 804.407 L70.0847 804.407 L70.0847 810.232 M67.6657 798.551 L88.0042 798.551 L88.0042 804.407 L82.5933 804.407 Q85.8398 806.412 87.3994 809.404 Q88.9272 812.396 88.9272 816.725 Q88.9272 822.199 85.8716 825.446 Q82.7843 828.661 77.6281 828.661 Q71.6125 828.661 68.5569 824.65 Q65.5014 820.608 65.5014 812.619 L65.5014 804.407 L64.9285 804.407 Q60.8862 804.407 58.6901 807.081 Q56.4621 809.723 56.4621 814.529 Q56.4621 817.584 57.1941 820.481 Q57.9262 823.377 59.3903 826.051 L53.9795 826.051 Q52.7381 822.836 52.1334 819.812 Q51.4968 816.788 51.4968 813.924 Q51.4968 806.19 55.5072 802.37 Q59.5176 798.551 67.6657 798.551 Z\" fill=\"#000000\" fill-rule=\"evenodd\" fill-opacity=\"1\" /><path clip-path=\"url(#clip990)\" d=\"M 0 0 M82.657 786.742 L101.563 786.742 L101.563 792.631 L52.3562 792.631 L52.3562 786.742 L57.7671 786.742 Q54.5842 784.896 53.0564 782.095 Q51.4968 779.263 51.4968 775.348 Q51.4968 768.855 56.6531 764.813 Q61.8093 760.738 70.212 760.738 Q78.6147 760.738 83.771 764.813 Q88.9272 768.855 88.9272 775.348 Q88.9272 779.263 87.3994 782.095 Q85.8398 784.896 82.657 786.742 M70.212 766.818 Q63.7508 766.818 60.0905 769.491 Q56.3984 772.133 56.3984 776.78 Q56.3984 781.427 60.0905 784.101 Q63.7508 786.742 70.212 786.742 Q76.6732 786.742 80.3653 784.101 Q84.0256 781.427 84.0256 776.78 Q84.0256 772.133 80.3653 769.491 Q76.6732 766.818 70.212 766.818 Z\" fill=\"#000000\" fill-rule=\"evenodd\" fill-opacity=\"1\" /><path clip-path=\"url(#clip990)\" d=\"M 0 0 M70.0847 738.395 Q70.0847 745.493 71.7079 748.23 Q73.3312 750.967 77.2461 750.967 Q80.3653 750.967 82.2114 748.93 Q84.0256 746.861 84.0256 743.328 Q84.0256 738.458 80.5881 735.53 Q77.1188 732.57 71.3897 732.57 L70.0847 732.57 L70.0847 738.395 M67.6657 726.714 L88.0042 726.714 L88.0042 732.57 L82.5933 732.57 Q85.8398 734.575 87.3994 737.567 Q88.9272 740.559 88.9272 744.888 Q88.9272 750.362 85.8716 753.609 Q82.7843 756.824 77.6281 756.824 Q71.6125 756.824 68.5569 752.813 Q65.5014 748.771 65.5014 740.782 L65.5014 732.57 L64.9285 732.57 Q60.8862 732.57 58.6901 735.244 Q56.4621 737.886 56.4621 742.692 Q56.4621 745.747 57.1941 748.644 Q57.9262 751.54 59.3903 754.214 L53.9795 754.214 Q52.7381 750.999 52.1334 747.975 Q51.4968 744.951 51.4968 742.087 Q51.4968 734.353 55.5072 730.533 Q59.5176 726.714 67.6657 726.714 Z\" fill=\"#000000\" fill-rule=\"evenodd\" fill-opacity=\"1\" /><path clip-path=\"url(#clip990)\" d=\"M 0 0 M52.3562 723.117 L52.3562 695.299 L57.7034 695.299 L83.3254 717.324 L83.3254 695.299 L88.0042 695.299 L88.0042 723.913 L82.657 723.913 L57.035 701.887 L57.035 723.117 L52.3562 723.117 Z\" fill=\"#000000\" fill-rule=\"evenodd\" fill-opacity=\"1\" /><path clip-path=\"url(#clip990)\" d=\"M 0 0 M52.3562 689.156 L52.3562 683.3 L88.0042 683.3 L88.0042 689.156 L52.3562 689.156 M38.479 689.156 L38.479 683.3 L45.895 683.3 L45.895 689.156 L38.479 689.156 Z\" fill=\"#000000\" fill-rule=\"evenodd\" fill-opacity=\"1\" /><path clip-path=\"url(#clip990)\" d=\"M 0 0 M42.2347 671.364 L52.3562 671.364 L52.3562 659.301 L56.9077 659.301 L56.9077 671.364 L76.2594 671.364 Q80.6199 671.364 81.8613 670.186 Q83.1026 668.977 83.1026 665.317 L83.1026 659.301 L88.0042 659.301 L88.0042 665.317 Q88.0042 672.096 85.4897 674.674 Q82.9434 677.252 76.2594 677.252 L56.9077 677.252 L56.9077 681.549 L52.3562 681.549 L52.3562 677.252 L42.2347 677.252 L42.2347 671.364 Z\" fill=\"#000000\" fill-rule=\"evenodd\" fill-opacity=\"1\" /><path clip-path=\"url(#clip990)\" d=\"M 0 0 M70.0847 636.957 Q70.0847 644.055 71.7079 646.792 Q73.3312 649.53 77.2461 649.53 Q80.3653 649.53 82.2114 647.493 Q84.0256 645.424 84.0256 641.891 Q84.0256 637.021 80.5881 634.093 Q77.1188 631.133 71.3897 631.133 L70.0847 631.133 L70.0847 636.957 M67.6657 625.276 L88.0042 625.276 L88.0042 631.133 L82.5933 631.133 Q85.8398 633.138 87.3994 636.13 Q88.9272 639.122 88.9272 643.45 Q88.9272 648.925 85.8716 652.171 Q82.7843 655.386 77.6281 655.386 Q71.6125 655.386 68.5569 651.376 Q65.5014 647.333 65.5014 639.344 L65.5014 631.133 L64.9285 631.133 Q60.8862 631.133 58.6901 633.806 Q56.4621 636.448 56.4621 641.254 Q56.4621 644.31 57.1941 647.206 Q57.9262 650.102 59.3903 652.776 L53.9795 652.776 Q52.7381 649.561 52.1334 646.538 Q51.4968 643.514 51.4968 640.649 Q51.4968 632.915 55.5072 629.096 Q59.5176 625.276 67.6657 625.276 M38.6063 637.403 L38.6063 630.942 L45.0356 630.942 L45.0356 637.403 L38.6063 637.403 M38.6063 649.848 L38.6063 643.387 L45.0356 643.387 L45.0356 649.848 L38.6063 649.848 Z\" fill=\"#000000\" fill-rule=\"evenodd\" fill-opacity=\"1\" /><path clip-path=\"url(#clip990)\" d=\"M 0 0 M42.2347 613.341 L52.3562 613.341 L52.3562 601.278 L56.9077 601.278 L56.9077 613.341 L76.2594 613.341 Q80.6199 613.341 81.8613 612.163 Q83.1026 610.953 83.1026 607.293 L83.1026 601.278 L88.0042 601.278 L88.0042 607.293 Q88.0042 614.073 85.4897 616.651 Q82.9434 619.229 76.2594 619.229 L56.9077 619.229 L56.9077 623.526 L52.3562 623.526 L52.3562 619.229 L42.2347 619.229 L42.2347 613.341 Z\" fill=\"#000000\" fill-rule=\"evenodd\" fill-opacity=\"1\" /><path clip-path=\"url(#clip992)\" d=\"\n",
       "M371.785 1023.67 L371.785 828.96 L904.834 828.96 L904.834 1023.67 L371.785 1023.67 L371.785 1023.67  Z\n",
       "  \" fill=\"#00688b\" fill-rule=\"evenodd\" fill-opacity=\"1\"/>\n",
       "<polyline clip-path=\"url(#clip992)\" style=\"stroke:#000000; stroke-width:4; stroke-opacity:1; fill:none\" points=\"\n",
       "  371.785,1023.67 371.785,828.96 904.834,828.96 904.834,1023.67 371.785,1023.67 \n",
       "  \"/>\n",
       "<path clip-path=\"url(#clip992)\" d=\"\n",
       "M1038.1 1023.67 L1038.1 374.642 L1571.15 374.642 L1571.15 1023.67 L1038.1 1023.67 L1038.1 1023.67  Z\n",
       "  \" fill=\"#00688b\" fill-rule=\"evenodd\" fill-opacity=\"1\"/>\n",
       "<polyline clip-path=\"url(#clip992)\" style=\"stroke:#000000; stroke-width:4; stroke-opacity:1; fill:none\" points=\"\n",
       "  1038.1,1023.67 1038.1,374.642 1571.15,374.642 1571.15,1023.67 1038.1,1023.67 \n",
       "  \"/>\n",
       "<path clip-path=\"url(#clip992)\" d=\"\n",
       "M1704.41 1221.98 L1704.41 1092.18 L2237.46 1092.18 L2237.46 1221.98 L1704.41 1221.98 L1704.41 1221.98  Z\n",
       "  \" fill=\"#00688b\" fill-rule=\"evenodd\" fill-opacity=\"1\"/>\n",
       "<polyline clip-path=\"url(#clip992)\" style=\"stroke:#000000; stroke-width:4; stroke-opacity:1; fill:none\" points=\"\n",
       "  1704.41,1221.98 1704.41,1092.18 2237.46,1092.18 2237.46,1221.98 1704.41,1221.98 \n",
       "  \"/>\n",
       "<path clip-path=\"url(#clip992)\" d=\"\n",
       "M371.785 1384.24 L371.785 1023.67 L904.834 1023.67 L904.834 1384.24 L371.785 1384.24 L371.785 1384.24  Z\n",
       "  \" fill=\"#cd0000\" fill-rule=\"evenodd\" fill-opacity=\"1\"/>\n",
       "<polyline clip-path=\"url(#clip992)\" style=\"stroke:#000000; stroke-width:4; stroke-opacity:1; fill:none\" points=\"\n",
       "  371.785,1384.24 371.785,1023.67 904.834,1023.67 904.834,1384.24 371.785,1384.24 \n",
       "  \"/>\n",
       "<path clip-path=\"url(#clip992)\" d=\"\n",
       "M1038.1 1384.24 L1038.1 1023.67 L1571.15 1023.67 L1571.15 1384.24 L1038.1 1384.24 L1038.1 1384.24  Z\n",
       "  \" fill=\"#cd0000\" fill-rule=\"evenodd\" fill-opacity=\"1\"/>\n",
       "<polyline clip-path=\"url(#clip992)\" style=\"stroke:#000000; stroke-width:4; stroke-opacity:1; fill:none\" points=\"\n",
       "  1038.1,1384.24 1038.1,1023.67 1571.15,1023.67 1571.15,1384.24 1038.1,1384.24 \n",
       "  \"/>\n",
       "<path clip-path=\"url(#clip992)\" d=\"\n",
       "M1704.41 1384.24 L1704.41 1221.98 L2237.46 1221.98 L2237.46 1384.24 L1704.41 1384.24 L1704.41 1384.24  Z\n",
       "  \" fill=\"#cd0000\" fill-rule=\"evenodd\" fill-opacity=\"1\"/>\n",
       "<polyline clip-path=\"url(#clip992)\" style=\"stroke:#000000; stroke-width:4; stroke-opacity:1; fill:none\" points=\"\n",
       "  1704.41,1384.24 1704.41,1221.98 2237.46,1221.98 2237.46,1384.24 1704.41,1384.24 \n",
       "  \"/>\n",
       "<line clip-path=\"url(#clip992)\" x1=\"910.31\" y1=\"605.407\" x2=\"366.31\" y2=\"605.407\" style=\"stroke:#3da44d; stroke-width:3.2; stroke-opacity:1\"/>\n",
       "<line clip-path=\"url(#clip992)\" x1=\"1576.62\" y1=\"86.1857\" x2=\"1032.62\" y2=\"86.1857\" style=\"stroke:#3da44d; stroke-width:3.2; stroke-opacity:1\"/>\n",
       "<line clip-path=\"url(#clip992)\" x1=\"2242.93\" y1=\"1092.18\" x2=\"1698.93\" y2=\"1092.18\" style=\"stroke:#3da44d; stroke-width:3.2; stroke-opacity:1\"/>\n",
       "<path clip-path=\"url(#clip990)\" d=\"\n",
       "M1614.99 372.684 L2280.76 372.684 L2280.76 130.764 L1614.99 130.764  Z\n",
       "  \" fill=\"#ffffff\" fill-rule=\"evenodd\" fill-opacity=\"1\"/>\n",
       "<polyline clip-path=\"url(#clip990)\" style=\"stroke:#000000; stroke-width:4; stroke-opacity:1; fill:none\" points=\"\n",
       "  1614.99,372.684 2280.76,372.684 2280.76,130.764 1614.99,130.764 1614.99,372.684 \n",
       "  \"/>\n",
       "<path clip-path=\"url(#clip990)\" d=\"\n",
       "M1638.99 215.436 L1782.99 215.436 L1782.99 167.052 L1638.99 167.052 L1638.99 215.436  Z\n",
       "  \" fill=\"#00688b\" fill-rule=\"evenodd\" fill-opacity=\"1\"/>\n",
       "<polyline clip-path=\"url(#clip990)\" style=\"stroke:#000000; stroke-width:4; stroke-opacity:1; fill:none\" points=\"\n",
       "  1638.99,215.436 1782.99,215.436 1782.99,167.052 1638.99,167.052 1638.99,215.436 \n",
       "  \"/>\n",
       "<path clip-path=\"url(#clip990)\" d=\"M 0 0 M1806.99 172.506 L1816.81 172.506 L1816.81 175.816 L1811.25 175.816 L1811.25 211.464 L1816.81 211.464 L1816.81 214.774 L1806.99 214.774 L1806.99 172.506 Z\" fill=\"#000000\" fill-rule=\"evenodd\" fill-opacity=\"1\" /><path clip-path=\"url(#clip990)\" d=\"M 0 0 M1825.3 173.964 L1825.3 186.811 L1821.37 186.811 L1821.37 173.964 L1825.3 173.964 M1834.05 173.964 L1834.05 186.811 L1830.12 186.811 L1830.12 173.964 L1834.05 173.964 Z\" fill=\"#000000\" fill-rule=\"evenodd\" fill-opacity=\"1\" /><path clip-path=\"url(#clip990)\" d=\"M 0 0 M1838.71 173.964 L1845 173.964 L1860.33 202.876 L1860.33 173.964 L1864.86 173.964 L1864.86 208.524 L1858.57 208.524 L1843.24 179.612 L1843.24 208.524 L1838.71 208.524 L1838.71 173.964 Z\" fill=\"#000000\" fill-rule=\"evenodd\" fill-opacity=\"1\" /><path clip-path=\"url(#clip990)\" d=\"M 0 0 M1879.38 185.584 Q1875.95 185.584 1873.96 188.27 Q1871.97 190.932 1871.97 195.584 Q1871.97 200.237 1873.94 202.922 Q1875.93 205.584 1879.38 205.584 Q1882.78 205.584 1884.77 202.899 Q1886.76 200.214 1886.76 195.584 Q1886.76 190.978 1884.77 188.293 Q1882.78 185.584 1879.38 185.584 M1879.38 181.973 Q1884.93 181.973 1888.1 185.584 Q1891.28 189.195 1891.28 195.584 Q1891.28 201.95 1888.1 205.584 Q1884.93 209.195 1879.38 209.195 Q1873.8 209.195 1870.63 205.584 Q1867.48 201.95 1867.48 195.584 Q1867.48 189.195 1870.63 185.584 Q1873.8 181.973 1879.38 181.973 Z\" fill=\"#000000\" fill-rule=\"evenodd\" fill-opacity=\"1\" /><path clip-path=\"url(#clip990)\" d=\"M 0 0 M1910.77 186.58 Q1910.05 186.163 1909.19 185.978 Q1908.36 185.77 1907.34 185.77 Q1903.73 185.77 1901.79 188.131 Q1899.86 190.469 1899.86 194.867 L1899.86 208.524 L1895.58 208.524 L1895.58 182.598 L1899.86 182.598 L1899.86 186.626 Q1901.21 184.265 1903.36 183.131 Q1905.51 181.973 1908.59 181.973 Q1909.03 181.973 1909.56 182.043 Q1910.1 182.089 1910.74 182.205 L1910.77 186.58 Z\" fill=\"#000000\" fill-rule=\"evenodd\" fill-opacity=\"1\" /><path clip-path=\"url(#clip990)\" d=\"M 0 0 M1934.59 187.575 Q1936.18 184.705 1938.41 183.339 Q1940.63 181.973 1943.64 181.973 Q1947.69 181.973 1949.89 184.821 Q1952.09 187.645 1952.09 192.876 L1952.09 208.524 L1947.8 208.524 L1947.8 193.015 Q1947.8 189.288 1946.48 187.483 Q1945.16 185.677 1942.46 185.677 Q1939.15 185.677 1937.23 187.876 Q1935.3 190.075 1935.3 193.871 L1935.3 208.524 L1931.02 208.524 L1931.02 193.015 Q1931.02 189.265 1929.7 187.483 Q1928.38 185.677 1925.63 185.677 Q1922.36 185.677 1920.44 187.899 Q1918.52 190.098 1918.52 193.871 L1918.52 208.524 L1914.24 208.524 L1914.24 182.598 L1918.52 182.598 L1918.52 186.626 Q1919.98 184.242 1922.02 183.108 Q1924.05 181.973 1926.85 181.973 Q1929.68 181.973 1931.65 183.408 Q1933.64 184.844 1934.59 187.575 Z\" fill=\"#000000\" fill-rule=\"evenodd\" fill-opacity=\"1\" /><path clip-path=\"url(#clip990)\" d=\"M 0 0 M1968.34 195.492 Q1963.17 195.492 1961.18 196.672 Q1959.19 197.853 1959.19 200.7 Q1959.19 202.969 1960.67 204.311 Q1962.18 205.631 1964.75 205.631 Q1968.29 205.631 1970.42 203.131 Q1972.57 200.607 1972.57 196.441 L1972.57 195.492 L1968.34 195.492 M1976.83 193.733 L1976.83 208.524 L1972.57 208.524 L1972.57 204.589 Q1971.11 206.95 1968.94 208.084 Q1966.76 209.195 1963.61 209.195 Q1959.63 209.195 1957.27 206.973 Q1954.93 204.728 1954.93 200.978 Q1954.93 196.603 1957.85 194.381 Q1960.79 192.158 1966.6 192.158 L1972.57 192.158 L1972.57 191.742 Q1972.57 188.802 1970.63 187.205 Q1968.71 185.584 1965.21 185.584 Q1962.99 185.584 1960.88 186.117 Q1958.78 186.649 1956.83 187.714 L1956.83 183.779 Q1959.17 182.876 1961.37 182.436 Q1963.57 181.973 1965.65 181.973 Q1971.28 181.973 1974.05 184.89 Q1976.83 187.807 1976.83 193.733 Z\" fill=\"#000000\" fill-rule=\"evenodd\" fill-opacity=\"1\" /><path clip-path=\"url(#clip990)\" d=\"M 0 0 M1981.3 172.506 L1985.56 172.506 L1985.56 208.524 L1981.3 208.524 L1981.3 172.506 Z\" fill=\"#000000\" fill-rule=\"evenodd\" fill-opacity=\"1\" /><path clip-path=\"url(#clip990)\" d=\"M 0 0 M1994.05 173.964 L1994.05 186.811 L1990.12 186.811 L1990.12 173.964 L1994.05 173.964 M2002.8 173.964 L2002.8 186.811 L1998.87 186.811 L1998.87 173.964 L2002.8 173.964 Z\" fill=\"#000000\" fill-rule=\"evenodd\" fill-opacity=\"1\" /><path clip-path=\"url(#clip990)\" d=\"M 0 0 M2008.36 202.644 L2013.24 202.644 L2013.24 206.626 L2009.45 214.033 L2006.46 214.033 L2008.36 206.626 L2008.36 202.644 Z\" fill=\"#000000\" fill-rule=\"evenodd\" fill-opacity=\"1\" /><path clip-path=\"url(#clip990)\" d=\"M 0 0 M2036.81 173.964 L2036.81 186.811 L2032.87 186.811 L2032.87 173.964 L2036.81 173.964 M2045.56 173.964 L2045.56 186.811 L2041.62 186.811 L2041.62 173.964 L2045.56 173.964 Z\" fill=\"#000000\" fill-rule=\"evenodd\" fill-opacity=\"1\" /><path clip-path=\"url(#clip990)\" d=\"M 0 0 M2073.78 203.594 L2073.78 194.311 L2066.14 194.311 L2066.14 190.469 L2078.4 190.469 L2078.4 205.307 Q2075.7 207.228 2072.43 208.223 Q2069.17 209.195 2065.47 209.195 Q2057.36 209.195 2052.78 204.473 Q2048.22 199.728 2048.22 191.279 Q2048.22 182.807 2052.78 178.084 Q2057.36 173.339 2065.47 173.339 Q2068.84 173.339 2071.88 174.172 Q2074.93 175.006 2077.5 176.626 L2077.5 181.603 Q2074.91 179.404 2071.99 178.293 Q2069.08 177.182 2065.86 177.182 Q2059.52 177.182 2056.32 180.723 Q2053.15 184.265 2053.15 191.279 Q2053.15 198.27 2056.32 201.811 Q2059.52 205.353 2065.86 205.353 Q2068.34 205.353 2070.28 204.936 Q2072.22 204.496 2073.78 203.594 Z\" fill=\"#000000\" fill-rule=\"evenodd\" fill-opacity=\"1\" /><path clip-path=\"url(#clip990)\" d=\"M 0 0 M2097.9 186.58 Q2097.18 186.163 2096.32 185.978 Q2095.49 185.77 2094.47 185.77 Q2090.86 185.77 2088.91 188.131 Q2086.99 190.469 2086.99 194.867 L2086.99 208.524 L2082.71 208.524 L2082.71 182.598 L2086.99 182.598 L2086.99 186.626 Q2088.34 184.265 2090.49 183.131 Q2092.64 181.973 2095.72 181.973 Q2096.16 181.973 2096.69 182.043 Q2097.22 182.089 2097.87 182.205 L2097.9 186.58 Z\" fill=\"#000000\" fill-rule=\"evenodd\" fill-opacity=\"1\" /><path clip-path=\"url(#clip990)\" d=\"M 0 0 M2114.15 195.492 Q2108.98 195.492 2106.99 196.672 Q2105 197.853 2105 200.7 Q2105 202.969 2106.48 204.311 Q2107.99 205.631 2110.56 205.631 Q2114.1 205.631 2116.23 203.131 Q2118.38 200.607 2118.38 196.441 L2118.38 195.492 L2114.15 195.492 M2122.64 193.733 L2122.64 208.524 L2118.38 208.524 L2118.38 204.589 Q2116.92 206.95 2114.75 208.084 Q2112.57 209.195 2109.42 209.195 Q2105.44 209.195 2103.08 206.973 Q2100.74 204.728 2100.74 200.978 Q2100.74 196.603 2103.66 194.381 Q2106.6 192.158 2112.41 192.158 L2118.38 192.158 L2118.38 191.742 Q2118.38 188.802 2116.44 187.205 Q2114.52 185.584 2111.02 185.584 Q2108.8 185.584 2106.69 186.117 Q2104.59 186.649 2102.64 187.714 L2102.64 183.779 Q2104.98 182.876 2107.18 182.436 Q2109.38 181.973 2111.46 181.973 Q2117.09 181.973 2119.86 184.89 Q2122.64 187.807 2122.64 193.733 Z\" fill=\"#000000\" fill-rule=\"evenodd\" fill-opacity=\"1\" /><path clip-path=\"url(#clip990)\" d=\"M 0 0 M2148.66 192.876 L2148.66 208.524 L2144.4 208.524 L2144.4 193.015 Q2144.4 189.334 2142.96 187.506 Q2141.53 185.677 2138.66 185.677 Q2135.21 185.677 2133.22 187.876 Q2131.23 190.075 2131.23 193.871 L2131.23 208.524 L2126.95 208.524 L2126.95 182.598 L2131.23 182.598 L2131.23 186.626 Q2132.76 184.288 2134.82 183.131 Q2136.9 181.973 2139.61 181.973 Q2144.08 181.973 2146.37 184.751 Q2148.66 187.506 2148.66 192.876 Z\" fill=\"#000000\" fill-rule=\"evenodd\" fill-opacity=\"1\" /><path clip-path=\"url(#clip990)\" d=\"M 0 0 M2170.19 186.533 L2170.19 172.506 L2174.45 172.506 L2174.45 208.524 L2170.19 208.524 L2170.19 204.635 Q2168.84 206.95 2166.78 208.084 Q2164.75 209.195 2161.88 209.195 Q2157.18 209.195 2154.21 205.445 Q2151.27 201.695 2151.27 195.584 Q2151.27 189.473 2154.21 185.723 Q2157.18 181.973 2161.88 181.973 Q2164.75 181.973 2166.78 183.108 Q2168.84 184.219 2170.19 186.533 M2155.67 195.584 Q2155.67 200.283 2157.59 202.969 Q2159.54 205.631 2162.92 205.631 Q2166.3 205.631 2168.24 202.969 Q2170.19 200.283 2170.19 195.584 Q2170.19 190.885 2168.24 188.223 Q2166.3 185.538 2162.92 185.538 Q2159.54 185.538 2157.59 188.223 Q2155.67 190.885 2155.67 195.584 Z\" fill=\"#000000\" fill-rule=\"evenodd\" fill-opacity=\"1\" /><path clip-path=\"url(#clip990)\" d=\"M 0 0 M2201.09 194.496 L2201.09 196.58 L2181.51 196.58 Q2181.78 200.978 2184.15 203.293 Q2186.53 205.584 2190.77 205.584 Q2193.22 205.584 2195.51 204.982 Q2197.83 204.381 2200.09 203.177 L2200.09 207.205 Q2197.8 208.177 2195.39 208.686 Q2192.99 209.195 2190.51 209.195 Q2184.31 209.195 2180.67 205.584 Q2177.06 201.973 2177.06 195.816 Q2177.06 189.45 2180.49 185.723 Q2183.94 181.973 2189.77 181.973 Q2195 181.973 2198.03 185.353 Q2201.09 188.709 2201.09 194.496 M2196.83 193.246 Q2196.78 189.751 2194.86 187.668 Q2192.96 185.584 2189.82 185.584 Q2186.25 185.584 2184.1 187.598 Q2181.97 189.612 2181.65 193.27 L2196.83 193.246 Z\" fill=\"#000000\" fill-rule=\"evenodd\" fill-opacity=\"1\" /><path clip-path=\"url(#clip990)\" d=\"M 0 0 M2209.58 173.964 L2209.58 186.811 L2205.65 186.811 L2205.65 173.964 L2209.58 173.964 M2218.33 173.964 L2218.33 186.811 L2214.4 186.811 L2214.4 173.964 L2218.33 173.964 Z\" fill=\"#000000\" fill-rule=\"evenodd\" fill-opacity=\"1\" /><path clip-path=\"url(#clip990)\" d=\"M 0 0 M2232.76 172.506 L2232.76 214.774 L2222.94 214.774 L2222.94 211.464 L2228.47 211.464 L2228.47 175.816 L2222.94 175.816 L2222.94 172.506 L2232.76 172.506 Z\" fill=\"#000000\" fill-rule=\"evenodd\" fill-opacity=\"1\" /><path clip-path=\"url(#clip990)\" d=\"\n",
       "M1638.99 275.916 L1782.99 275.916 L1782.99 227.532 L1638.99 227.532 L1638.99 275.916  Z\n",
       "  \" fill=\"#cd0000\" fill-rule=\"evenodd\" fill-opacity=\"1\"/>\n",
       "<polyline clip-path=\"url(#clip990)\" style=\"stroke:#000000; stroke-width:4; stroke-opacity:1; fill:none\" points=\"\n",
       "  1638.99,275.916 1782.99,275.916 1782.99,227.532 1638.99,227.532 1638.99,275.916 \n",
       "  \"/>\n",
       "<path clip-path=\"url(#clip990)\" d=\"M 0 0 M1806.99 232.986 L1816.81 232.986 L1816.81 236.296 L1811.25 236.296 L1811.25 271.944 L1816.81 271.944 L1816.81 275.254 L1806.99 275.254 L1806.99 232.986 Z\" fill=\"#000000\" fill-rule=\"evenodd\" fill-opacity=\"1\" /><path clip-path=\"url(#clip990)\" d=\"M 0 0 M1825.3 234.444 L1825.3 247.291 L1821.37 247.291 L1821.37 234.444 L1825.3 234.444 M1834.05 234.444 L1834.05 247.291 L1830.12 247.291 L1830.12 234.444 L1834.05 234.444 Z\" fill=\"#000000\" fill-rule=\"evenodd\" fill-opacity=\"1\" /><path clip-path=\"url(#clip990)\" d=\"M 0 0 M1838.71 234.444 L1845 234.444 L1860.33 263.356 L1860.33 234.444 L1864.86 234.444 L1864.86 269.004 L1858.57 269.004 L1843.24 240.092 L1843.24 269.004 L1838.71 269.004 L1838.71 234.444 Z\" fill=\"#000000\" fill-rule=\"evenodd\" fill-opacity=\"1\" /><path clip-path=\"url(#clip990)\" d=\"M 0 0 M1879.38 246.064 Q1875.95 246.064 1873.96 248.75 Q1871.97 251.412 1871.97 256.064 Q1871.97 260.717 1873.94 263.402 Q1875.93 266.064 1879.38 266.064 Q1882.78 266.064 1884.77 263.379 Q1886.76 260.694 1886.76 256.064 Q1886.76 251.458 1884.77 248.773 Q1882.78 246.064 1879.38 246.064 M1879.38 242.453 Q1884.93 242.453 1888.1 246.064 Q1891.28 249.675 1891.28 256.064 Q1891.28 262.43 1888.1 266.064 Q1884.93 269.675 1879.38 269.675 Q1873.8 269.675 1870.63 266.064 Q1867.48 262.43 1867.48 256.064 Q1867.48 249.675 1870.63 246.064 Q1873.8 242.453 1879.38 242.453 Z\" fill=\"#000000\" fill-rule=\"evenodd\" fill-opacity=\"1\" /><path clip-path=\"url(#clip990)\" d=\"M 0 0 M1910.77 247.06 Q1910.05 246.643 1909.19 246.458 Q1908.36 246.25 1907.34 246.25 Q1903.73 246.25 1901.79 248.611 Q1899.86 250.949 1899.86 255.347 L1899.86 269.004 L1895.58 269.004 L1895.58 243.078 L1899.86 243.078 L1899.86 247.106 Q1901.21 244.745 1903.36 243.611 Q1905.51 242.453 1908.59 242.453 Q1909.03 242.453 1909.56 242.523 Q1910.1 242.569 1910.74 242.685 L1910.77 247.06 Z\" fill=\"#000000\" fill-rule=\"evenodd\" fill-opacity=\"1\" /><path clip-path=\"url(#clip990)\" d=\"M 0 0 M1934.59 248.055 Q1936.18 245.185 1938.41 243.819 Q1940.63 242.453 1943.64 242.453 Q1947.69 242.453 1949.89 245.301 Q1952.09 248.125 1952.09 253.356 L1952.09 269.004 L1947.8 269.004 L1947.8 253.495 Q1947.8 249.768 1946.48 247.963 Q1945.16 246.157 1942.46 246.157 Q1939.15 246.157 1937.23 248.356 Q1935.3 250.555 1935.3 254.351 L1935.3 269.004 L1931.02 269.004 L1931.02 253.495 Q1931.02 249.745 1929.7 247.963 Q1928.38 246.157 1925.63 246.157 Q1922.36 246.157 1920.44 248.379 Q1918.52 250.578 1918.52 254.351 L1918.52 269.004 L1914.24 269.004 L1914.24 243.078 L1918.52 243.078 L1918.52 247.106 Q1919.98 244.722 1922.02 243.588 Q1924.05 242.453 1926.85 242.453 Q1929.68 242.453 1931.65 243.888 Q1933.64 245.324 1934.59 248.055 Z\" fill=\"#000000\" fill-rule=\"evenodd\" fill-opacity=\"1\" /><path clip-path=\"url(#clip990)\" d=\"M 0 0 M1968.34 255.972 Q1963.17 255.972 1961.18 257.152 Q1959.19 258.333 1959.19 261.18 Q1959.19 263.449 1960.67 264.791 Q1962.18 266.111 1964.75 266.111 Q1968.29 266.111 1970.42 263.611 Q1972.57 261.087 1972.57 256.921 L1972.57 255.972 L1968.34 255.972 M1976.83 254.213 L1976.83 269.004 L1972.57 269.004 L1972.57 265.069 Q1971.11 267.43 1968.94 268.564 Q1966.76 269.675 1963.61 269.675 Q1959.63 269.675 1957.27 267.453 Q1954.93 265.208 1954.93 261.458 Q1954.93 257.083 1957.85 254.861 Q1960.79 252.638 1966.6 252.638 L1972.57 252.638 L1972.57 252.222 Q1972.57 249.282 1970.63 247.685 Q1968.71 246.064 1965.21 246.064 Q1962.99 246.064 1960.88 246.597 Q1958.78 247.129 1956.83 248.194 L1956.83 244.259 Q1959.17 243.356 1961.37 242.916 Q1963.57 242.453 1965.65 242.453 Q1971.28 242.453 1974.05 245.37 Q1976.83 248.287 1976.83 254.213 Z\" fill=\"#000000\" fill-rule=\"evenodd\" fill-opacity=\"1\" /><path clip-path=\"url(#clip990)\" d=\"M 0 0 M1981.3 232.986 L1985.56 232.986 L1985.56 269.004 L1981.3 269.004 L1981.3 232.986 Z\" fill=\"#000000\" fill-rule=\"evenodd\" fill-opacity=\"1\" /><path clip-path=\"url(#clip990)\" d=\"M 0 0 M1994.05 234.444 L1994.05 247.291 L1990.12 247.291 L1990.12 234.444 L1994.05 234.444 M2002.8 234.444 L2002.8 247.291 L1998.87 247.291 L1998.87 234.444 L2002.8 234.444 Z\" fill=\"#000000\" fill-rule=\"evenodd\" fill-opacity=\"1\" /><path clip-path=\"url(#clip990)\" d=\"M 0 0 M2008.36 263.124 L2013.24 263.124 L2013.24 267.106 L2009.45 274.513 L2006.46 274.513 L2008.36 267.106 L2008.36 263.124 Z\" fill=\"#000000\" fill-rule=\"evenodd\" fill-opacity=\"1\" /><path clip-path=\"url(#clip990)\" d=\"M 0 0 M2036.81 234.444 L2036.81 247.291 L2032.87 247.291 L2032.87 234.444 L2036.81 234.444 M2045.56 234.444 L2045.56 247.291 L2041.62 247.291 L2041.62 234.444 L2045.56 234.444 Z\" fill=\"#000000\" fill-rule=\"evenodd\" fill-opacity=\"1\" /><path clip-path=\"url(#clip990)\" d=\"M 0 0 M2073.78 264.074 L2073.78 254.791 L2066.14 254.791 L2066.14 250.949 L2078.4 250.949 L2078.4 265.787 Q2075.7 267.708 2072.43 268.703 Q2069.17 269.675 2065.47 269.675 Q2057.36 269.675 2052.78 264.953 Q2048.22 260.208 2048.22 251.759 Q2048.22 243.287 2052.78 238.564 Q2057.36 233.819 2065.47 233.819 Q2068.84 233.819 2071.88 234.652 Q2074.93 235.486 2077.5 237.106 L2077.5 242.083 Q2074.91 239.884 2071.99 238.773 Q2069.08 237.662 2065.86 237.662 Q2059.52 237.662 2056.32 241.203 Q2053.15 244.745 2053.15 251.759 Q2053.15 258.75 2056.32 262.291 Q2059.52 265.833 2065.86 265.833 Q2068.34 265.833 2070.28 265.416 Q2072.22 264.976 2073.78 264.074 Z\" fill=\"#000000\" fill-rule=\"evenodd\" fill-opacity=\"1\" /><path clip-path=\"url(#clip990)\" d=\"M 0 0 M2097.9 247.06 Q2097.18 246.643 2096.32 246.458 Q2095.49 246.25 2094.47 246.25 Q2090.86 246.25 2088.91 248.611 Q2086.99 250.949 2086.99 255.347 L2086.99 269.004 L2082.71 269.004 L2082.71 243.078 L2086.99 243.078 L2086.99 247.106 Q2088.34 244.745 2090.49 243.611 Q2092.64 242.453 2095.72 242.453 Q2096.16 242.453 2096.69 242.523 Q2097.22 242.569 2097.87 242.685 L2097.9 247.06 Z\" fill=\"#000000\" fill-rule=\"evenodd\" fill-opacity=\"1\" /><path clip-path=\"url(#clip990)\" d=\"M 0 0 M2114.15 255.972 Q2108.98 255.972 2106.99 257.152 Q2105 258.333 2105 261.18 Q2105 263.449 2106.48 264.791 Q2107.99 266.111 2110.56 266.111 Q2114.1 266.111 2116.23 263.611 Q2118.38 261.087 2118.38 256.921 L2118.38 255.972 L2114.15 255.972 M2122.64 254.213 L2122.64 269.004 L2118.38 269.004 L2118.38 265.069 Q2116.92 267.43 2114.75 268.564 Q2112.57 269.675 2109.42 269.675 Q2105.44 269.675 2103.08 267.453 Q2100.74 265.208 2100.74 261.458 Q2100.74 257.083 2103.66 254.861 Q2106.6 252.638 2112.41 252.638 L2118.38 252.638 L2118.38 252.222 Q2118.38 249.282 2116.44 247.685 Q2114.52 246.064 2111.02 246.064 Q2108.8 246.064 2106.69 246.597 Q2104.59 247.129 2102.64 248.194 L2102.64 244.259 Q2104.98 243.356 2107.18 242.916 Q2109.38 242.453 2111.46 242.453 Q2117.09 242.453 2119.86 245.37 Q2122.64 248.287 2122.64 254.213 Z\" fill=\"#000000\" fill-rule=\"evenodd\" fill-opacity=\"1\" /><path clip-path=\"url(#clip990)\" d=\"M 0 0 M2148.66 253.356 L2148.66 269.004 L2144.4 269.004 L2144.4 253.495 Q2144.4 249.814 2142.96 247.986 Q2141.53 246.157 2138.66 246.157 Q2135.21 246.157 2133.22 248.356 Q2131.23 250.555 2131.23 254.351 L2131.23 269.004 L2126.95 269.004 L2126.95 243.078 L2131.23 243.078 L2131.23 247.106 Q2132.76 244.768 2134.82 243.611 Q2136.9 242.453 2139.61 242.453 Q2144.08 242.453 2146.37 245.231 Q2148.66 247.986 2148.66 253.356 Z\" fill=\"#000000\" fill-rule=\"evenodd\" fill-opacity=\"1\" /><path clip-path=\"url(#clip990)\" d=\"M 0 0 M2170.19 247.013 L2170.19 232.986 L2174.45 232.986 L2174.45 269.004 L2170.19 269.004 L2170.19 265.115 Q2168.84 267.43 2166.78 268.564 Q2164.75 269.675 2161.88 269.675 Q2157.18 269.675 2154.21 265.925 Q2151.27 262.175 2151.27 256.064 Q2151.27 249.953 2154.21 246.203 Q2157.18 242.453 2161.88 242.453 Q2164.75 242.453 2166.78 243.588 Q2168.84 244.699 2170.19 247.013 M2155.67 256.064 Q2155.67 260.763 2157.59 263.449 Q2159.54 266.111 2162.92 266.111 Q2166.3 266.111 2168.24 263.449 Q2170.19 260.763 2170.19 256.064 Q2170.19 251.365 2168.24 248.703 Q2166.3 246.018 2162.92 246.018 Q2159.54 246.018 2157.59 248.703 Q2155.67 251.365 2155.67 256.064 Z\" fill=\"#000000\" fill-rule=\"evenodd\" fill-opacity=\"1\" /><path clip-path=\"url(#clip990)\" d=\"M 0 0 M2201.09 254.976 L2201.09 257.06 L2181.51 257.06 Q2181.78 261.458 2184.15 263.773 Q2186.53 266.064 2190.77 266.064 Q2193.22 266.064 2195.51 265.462 Q2197.83 264.861 2200.09 263.657 L2200.09 267.685 Q2197.8 268.657 2195.39 269.166 Q2192.99 269.675 2190.51 269.675 Q2184.31 269.675 2180.67 266.064 Q2177.06 262.453 2177.06 256.296 Q2177.06 249.93 2180.49 246.203 Q2183.94 242.453 2189.77 242.453 Q2195 242.453 2198.03 245.833 Q2201.09 249.189 2201.09 254.976 M2196.83 253.726 Q2196.78 250.231 2194.86 248.148 Q2192.96 246.064 2189.82 246.064 Q2186.25 246.064 2184.1 248.078 Q2181.97 250.092 2181.65 253.75 L2196.83 253.726 Z\" fill=\"#000000\" fill-rule=\"evenodd\" fill-opacity=\"1\" /><path clip-path=\"url(#clip990)\" d=\"M 0 0 M2209.58 234.444 L2209.58 247.291 L2205.65 247.291 L2205.65 234.444 L2209.58 234.444 M2218.33 234.444 L2218.33 247.291 L2214.4 247.291 L2214.4 234.444 L2218.33 234.444 Z\" fill=\"#000000\" fill-rule=\"evenodd\" fill-opacity=\"1\" /><path clip-path=\"url(#clip990)\" d=\"M 0 0 M2232.76 232.986 L2232.76 275.254 L2222.94 275.254 L2222.94 271.944 L2228.47 271.944 L2228.47 236.296 L2222.94 236.296 L2222.94 232.986 L2232.76 232.986 Z\" fill=\"#000000\" fill-rule=\"evenodd\" fill-opacity=\"1\" /><line clip-path=\"url(#clip990)\" x1=\"1748.59\" y1=\"312.204\" x2=\"1697.39\" y2=\"312.204\" style=\"stroke:#3da44d; stroke-width:3.2; stroke-opacity:1\"/>\n",
       "<path clip-path=\"url(#clip990)\" d=\"M 0 0 M1806.99 294.924 L1811.67 294.924 L1811.67 309.53 L1827.18 294.924 L1833.2 294.924 L1816.05 311.035 L1834.42 329.484 L1828.27 329.484 L1811.67 312.841 L1811.67 329.484 L1806.99 329.484 L1806.99 294.924 Z\" fill=\"#000000\" fill-rule=\"evenodd\" fill-opacity=\"1\" /><path clip-path=\"url(#clip990)\" d=\"M 0 0 M1849.84 316.452 Q1844.68 316.452 1842.69 317.632 Q1840.7 318.813 1840.7 321.66 Q1840.7 323.929 1842.18 325.271 Q1843.68 326.591 1846.25 326.591 Q1849.79 326.591 1851.92 324.091 Q1854.08 321.567 1854.08 317.401 L1854.08 316.452 L1849.84 316.452 M1858.34 314.693 L1858.34 329.484 L1854.08 329.484 L1854.08 325.549 Q1852.62 327.91 1850.44 329.044 Q1848.27 330.155 1845.12 330.155 Q1841.14 330.155 1838.78 327.933 Q1836.44 325.688 1836.44 321.938 Q1836.44 317.563 1839.36 315.341 Q1842.3 313.118 1848.11 313.118 L1854.08 313.118 L1854.08 312.702 Q1854.08 309.762 1852.13 308.165 Q1850.21 306.544 1846.72 306.544 Q1844.49 306.544 1842.39 307.077 Q1840.28 307.609 1838.34 308.674 L1838.34 304.739 Q1840.67 303.836 1842.87 303.396 Q1845.07 302.933 1847.16 302.933 Q1852.78 302.933 1855.56 305.85 Q1858.34 308.767 1858.34 314.693 Z\" fill=\"#000000\" fill-rule=\"evenodd\" fill-opacity=\"1\" /><path clip-path=\"url(#clip990)\" d=\"M 0 0 M1866.92 325.595 L1866.92 339.345 L1862.64 339.345 L1862.64 303.558 L1866.92 303.558 L1866.92 307.493 Q1868.27 305.179 1870.3 304.068 Q1872.36 302.933 1875.21 302.933 Q1879.93 302.933 1882.87 306.683 Q1885.84 310.433 1885.84 316.544 Q1885.84 322.655 1882.87 326.405 Q1879.93 330.155 1875.21 330.155 Q1872.36 330.155 1870.3 329.044 Q1868.27 327.91 1866.92 325.595 M1881.42 316.544 Q1881.42 311.845 1879.47 309.183 Q1877.55 306.498 1874.17 306.498 Q1870.79 306.498 1868.85 309.183 Q1866.92 311.845 1866.92 316.544 Q1866.92 321.243 1868.85 323.929 Q1870.79 326.591 1874.17 326.591 Q1877.55 326.591 1879.47 323.929 Q1881.42 321.243 1881.42 316.544 Z\" fill=\"#000000\" fill-rule=\"evenodd\" fill-opacity=\"1\" /><path clip-path=\"url(#clip990)\" d=\"M 0 0 M1902.09 316.452 Q1896.92 316.452 1894.93 317.632 Q1892.94 318.813 1892.94 321.66 Q1892.94 323.929 1894.42 325.271 Q1895.93 326.591 1898.5 326.591 Q1902.04 326.591 1904.17 324.091 Q1906.32 321.567 1906.32 317.401 L1906.32 316.452 L1902.09 316.452 M1910.58 314.693 L1910.58 329.484 L1906.32 329.484 L1906.32 325.549 Q1904.86 327.91 1902.69 329.044 Q1900.51 330.155 1897.36 330.155 Q1893.38 330.155 1891.02 327.933 Q1888.68 325.688 1888.68 321.938 Q1888.68 317.563 1891.6 315.341 Q1894.54 313.118 1900.35 313.118 L1906.32 313.118 L1906.32 312.702 Q1906.32 309.762 1904.38 308.165 Q1902.46 306.544 1898.96 306.544 Q1896.74 306.544 1894.63 307.077 Q1892.53 307.609 1890.58 308.674 L1890.58 304.739 Q1892.92 303.836 1895.12 303.396 Q1897.32 302.933 1899.4 302.933 Q1905.03 302.933 1907.8 305.85 Q1910.58 308.767 1910.58 314.693 Z\" fill=\"#000000\" fill-rule=\"evenodd\" fill-opacity=\"1\" /><path clip-path=\"url(#clip990)\" d=\"M 0 0 M1913.2 303.558 L1933.43 303.558 L1933.43 307.447 L1917.41 326.081 L1933.43 326.081 L1933.43 329.484 L1912.62 329.484 L1912.62 325.595 L1928.64 306.961 L1913.2 306.961 L1913.2 303.558 Z\" fill=\"#000000\" fill-rule=\"evenodd\" fill-opacity=\"1\" /><path clip-path=\"url(#clip990)\" d=\"M 0 0 M1937.9 303.558 L1942.16 303.558 L1942.16 329.484 L1937.9 329.484 L1937.9 303.558 M1937.9 293.466 L1942.16 293.466 L1942.16 298.859 L1937.9 298.859 L1937.9 293.466 Z\" fill=\"#000000\" fill-rule=\"evenodd\" fill-opacity=\"1\" /><path clip-path=\"url(#clip990)\" d=\"M 0 0 M1950.84 296.197 L1950.84 303.558 L1959.61 303.558 L1959.61 306.868 L1950.84 306.868 L1950.84 320.942 Q1950.84 324.114 1951.69 325.017 Q1952.57 325.919 1955.23 325.919 L1959.61 325.919 L1959.61 329.484 L1955.23 329.484 Q1950.3 329.484 1948.43 327.655 Q1946.55 325.804 1946.55 320.942 L1946.55 306.868 L1943.43 306.868 L1943.43 303.558 L1946.55 303.558 L1946.55 296.197 L1950.84 296.197 Z\" fill=\"#000000\" fill-rule=\"evenodd\" fill-opacity=\"1\" /><path clip-path=\"url(#clip990)\" d=\"M 0 0 M1975.86 316.452 Q1970.7 316.452 1968.71 317.632 Q1966.72 318.813 1966.72 321.66 Q1966.72 323.929 1968.2 325.271 Q1969.7 326.591 1972.27 326.591 Q1975.81 326.591 1977.94 324.091 Q1980.1 321.567 1980.1 317.401 L1980.1 316.452 L1975.86 316.452 M1984.35 314.693 L1984.35 329.484 L1980.1 329.484 L1980.1 325.549 Q1978.64 327.91 1976.46 329.044 Q1974.29 330.155 1971.14 330.155 Q1967.16 330.155 1964.79 327.933 Q1962.46 325.688 1962.46 321.938 Q1962.46 317.563 1965.37 315.341 Q1968.31 313.118 1974.12 313.118 L1980.1 313.118 L1980.1 312.702 Q1980.1 309.762 1978.15 308.165 Q1976.23 306.544 1972.73 306.544 Q1970.51 306.544 1968.41 307.077 Q1966.3 307.609 1964.35 308.674 L1964.35 304.739 Q1966.69 303.836 1968.89 303.396 Q1971.09 302.933 1973.17 302.933 Q1978.8 302.933 1981.58 305.85 Q1984.35 308.767 1984.35 314.693 M1975.54 293.558 L1980.23 293.558 L1980.23 298.234 L1975.54 298.234 L1975.54 293.558 M1966.48 293.558 L1971.18 293.558 L1971.18 298.234 L1966.48 298.234 L1966.48 293.558 Z\" fill=\"#000000\" fill-rule=\"evenodd\" fill-opacity=\"1\" /><path clip-path=\"url(#clip990)\" d=\"M 0 0 M1993.03 296.197 L1993.03 303.558 L2001.81 303.558 L2001.81 306.868 L1993.03 306.868 L1993.03 320.942 Q1993.03 324.114 1993.89 325.017 Q1994.77 325.919 1997.43 325.919 L2001.81 325.919 L2001.81 329.484 L1997.43 329.484 Q1992.5 329.484 1990.63 327.655 Q1988.75 325.804 1988.75 320.942 L1988.75 306.868 L1985.63 306.868 L1985.63 303.558 L1988.75 303.558 L1988.75 296.197 L1993.03 296.197 Z\" fill=\"#000000\" fill-rule=\"evenodd\" fill-opacity=\"1\" /></svg>\n"
      ]
     },
     "execution_count": 16,
     "metadata": {},
     "output_type": "execute_result"
    }
   ],
   "source": [
    "groupedbar(Ressourcen, bardata, bar_position = :stack, label =Produkte,  ylabel = \"Kapazität\", \n",
    "           xlabel =\"Ressourcen\", colour = [:DeepSkyBlue4 :Red3])\n",
    "scatter!(Ressourcen, c, label=\"Kapazität\", marker=(:hline, 68))\n",
    "\n",
    "# Mit den Funktionen von StatsPlots lassen sich anschauliche Grafiken erstellen\n",
    "# Schauen Sie sich die Dokumentation von StatsPlots im Internet an und experimentieren Sie mit Designs"
   ]
  }
 ],
 "metadata": {
  "kernelspec": {
   "display_name": "Julia 1.4.2",
   "language": "julia",
   "name": "julia-1.4"
  },
  "language_info": {
   "file_extension": ".jl",
   "mimetype": "application/julia",
   "name": "julia",
   "version": "1.4.2"
  }
 },
 "nbformat": 4,
 "nbformat_minor": 4
}
