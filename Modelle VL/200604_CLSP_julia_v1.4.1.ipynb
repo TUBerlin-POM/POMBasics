{
 "cells": [
  {
   "cell_type": "markdown",
   "metadata": {
    "slideshow": {
     "slide_type": "slide"
    }
   },
   "source": [
    "## Einrichtung von Julia JuMP\n",
    "---\n",
    "Überprüfen Sie die bereits installierten Pakete. In der JuliaBox sind möglicherweise alle notwendigen Pakete bereits vorhanden."
   ]
  },
  {
   "cell_type": "code",
   "execution_count": 1,
   "metadata": {
    "slideshow": {
     "slide_type": "fragment"
    }
   },
   "outputs": [
    {
     "name": "stdout",
     "output_type": "stream",
     "text": [
      "\u001b[32m\u001b[1mStatus\u001b[22m\u001b[39m `C:\\Users\\krueg\\.julia\\environments\\v1.4\\Project.toml`\n",
      " \u001b[90m [9961bab8]\u001b[39m\u001b[37m Cbc v0.7.0\u001b[39m\n",
      " \u001b[90m [e2554f3b]\u001b[39m\u001b[37m Clp v0.8.0\u001b[39m\n",
      " \u001b[90m [60bf3e95]\u001b[39m\u001b[37m GLPK v0.13.0\u001b[39m\n",
      " \u001b[90m [2e9cd046]\u001b[39m\u001b[37m Gurobi v0.8.0\u001b[39m\n",
      " \u001b[90m [7073ff75]\u001b[39m\u001b[37m IJulia v1.21.2\u001b[39m\n",
      " \u001b[90m [4076af6c]\u001b[39m\u001b[37m JuMP v0.21.2\u001b[39m\n",
      " \u001b[90m [f3b207a7]\u001b[39m\u001b[37m StatsPlots v0.14.6\u001b[39m\n"
     ]
    }
   ],
   "source": [
    "using Pkg;\n",
    "Pkg.status()"
   ]
  },
  {
   "cell_type": "markdown",
   "metadata": {
    "slideshow": {
     "slide_type": "slide"
    }
   },
   "source": [
    "Installieren Sie ``JuMP`` , mit dem Sie einfach Optimierungsprogramme formulieren können, sowie ``Cbc``, einen open-source Solver zum Lösen des Problems, und ``StatsPlots`` zur Visualisierung der Lösung."
   ]
  },
  {
   "cell_type": "code",
   "execution_count": 2,
   "metadata": {
    "slideshow": {
     "slide_type": "fragment"
    }
   },
   "outputs": [],
   "source": [
    "#Pkg.add(\"JuMP\");\n",
    "#Pkg.add(\"Cbc\");\n",
    "#Pkg.add(\"StatsPlots\");"
   ]
  },
  {
   "cell_type": "markdown",
   "metadata": {
    "slideshow": {
     "slide_type": "fragment"
    }
   },
   "source": [
    "Richten Sie die installierten Pakete so ein, dass sie im folgenden Code verwendet werden können."
   ]
  },
  {
   "cell_type": "code",
   "execution_count": 3,
   "metadata": {
    "slideshow": {
     "slide_type": "fragment"
    }
   },
   "outputs": [],
   "source": [
    "using JuMP, Cbc, StatsPlots;"
   ]
  },
  {
   "cell_type": "markdown",
   "metadata": {
    "slideshow": {
     "slide_type": "slide"
    }
   },
   "source": [
    "# Capacitated Lot Sizing Problem\n",
    "\n",
    "### Entscheidungsvariablen:\n",
    "Bestimmung der **Produktionsmengen** und **Lagerbestände** je Periode sowie der daraus folgenden **Rüstvorgänge**,\n",
    "\n",
    "### Zielfunktion:\n",
    "0) **Gesamtkostenminimierung:** $$ \\qquad \\min z = \\displaystyle\\sum_{i=1}^I \\displaystyle\\sum_{t=1}^T(k_i^s\\cdot \\gamma_{it}+k_i^l\\cdot L_{it})$$ "
   ]
  },
  {
   "cell_type": "markdown",
   "metadata": {
    "slideshow": {
     "slide_type": "slide"
    }
   },
   "source": [
    "### Nebenbedingungen:\n",
    "1) **Kapazitaetsrestriktion:**  $ \\hspace{40mm} \\displaystyle\\sum_{i=1}^I(t_i^p\\cdot X_{it}+t_i^s\\cdot\\gamma_{it} ) \\leq c_t \\hspace{40mm} \\forall t \\in T\\qquad $ \n",
    "\n",
    "2) **Lagerbilanzgleichung:**  $ \\hspace{41mm} L_{it} = L_{i,t-1}+X_{it}-d_{it} \\hspace{44mm} \\forall t \\in T, \\quad i \\in I$\n",
    "\n",
    "3) **Anfangslagerbestand:** $ \\hspace{41mm} L_{i,0} = l_{start} \\hspace{66mm} \\forall  i \\in I$\n",
    "\n",
    "4) **Rüstbedingung:**:  $ \\hspace{50mm} X_{it} \\leq M \\cdot \\gamma_{it} \\hspace{63mm} \\forall t \\in T, \\quad i \\in I $\n",
    "\n",
    "5) **Nichtnegativitaetsbedingungen:**  $ \\hspace{23mm} X_{it}, L_{it} \\geq 0  \\hspace{66mm} \\forall t \\in T, \\quad i \\in I $\n",
    "\n",
    "6) **Binaerbedingung:** \n",
    " $ \\hspace{48mm}  \\gamma_{it} \\in \\{0,1\\}  \\hspace{67mm} \\forall t \\in T, \\quad i \\in I $\n",
    "* * *"
   ]
  },
  {
   "cell_type": "markdown",
   "metadata": {
    "slideshow": {
     "slide_type": "slide"
    }
   },
   "source": [
    "## Verwendete Symbole"
   ]
  },
  {
   "cell_type": "markdown",
   "metadata": {
    "slideshow": {
     "slide_type": "fragment"
    }
   },
   "source": [
    "### Mengen\n",
    "\n",
    "$i \\in (1,..,I) \\hspace{20mm}$ Produkte\n",
    " \n",
    "$t \\in (1,..,T) \\hspace{20mm}$ Perioden \n"
   ]
  },
  {
   "cell_type": "markdown",
   "metadata": {
    "slideshow": {
     "slide_type": "fragment"
    }
   },
   "source": [
    "### Parameter\n",
    "\n",
    "$k_i^l \\hspace{38mm}$ Lagerkostensatz\n",
    "\n",
    "$k_i^s \\hspace{38mm}$  Ruestkostensatz  \n",
    "\n",
    "$t_i^p \\hspace{39mm}$  Produktionszeit \n",
    "\n",
    "$t_i^s \\hspace{39mm}$  Rüstzeit \n",
    "\n",
    "$M \\hspace{37mm}$  Große Zahl   \n",
    "\n",
    "$c_t \\hspace{38mm}$  Periodenkapazität \n",
    "\n",
    "$b_{it}\\hspace{37mm}$ Bedarf \n",
    "\n",
    "$l_{start} \\hspace{34mm}$  Anfangslagerbestand \n"
   ]
  },
  {
   "cell_type": "markdown",
   "metadata": {
    "slideshow": {
     "slide_type": "fragment"
    }
   },
   "source": [
    "### Variablen\n",
    "\n",
    "$X_{it}$  $\\geq0 \\hspace{28mm}$       Produktionsmenge   \n",
    "\n",
    "$L_{it}$  $\\geq0 \\hspace{28mm}$      Lagermenge         \n",
    "\n",
    "$\\gamma_{it}$  $\\in\\{0,1\\} \\hspace{21mm}$ binäre Rüstvariable        \n",
    "\n",
    "* * *"
   ]
  },
  {
   "cell_type": "markdown",
   "metadata": {
    "slideshow": {
     "slide_type": "slide"
    }
   },
   "source": [
    "## Erstellen Sie das Modell namens ``m`` und geben Sie als zu verwendenden Solver Cbc an.\n",
    "---"
   ]
  },
  {
   "cell_type": "code",
   "execution_count": 4,
   "metadata": {
    "slideshow": {
     "slide_type": "fragment"
    }
   },
   "outputs": [],
   "source": [
    "m = Model(Cbc.Optimizer);"
   ]
  },
  {
   "cell_type": "markdown",
   "metadata": {
    "slideshow": {
     "slide_type": "fragment"
    }
   },
   "source": [
    "### Mengen und Parameter"
   ]
  },
  {
   "cell_type": "markdown",
   "metadata": {
    "slideshow": {
     "slide_type": "fragment"
    }
   },
   "source": [
    "Fügen Sie die Mengen ein.\n"
   ]
  },
  {
   "cell_type": "code",
   "execution_count": 5,
   "metadata": {
    "slideshow": {
     "slide_type": "fragment"
    }
   },
   "outputs": [],
   "source": [
    "#Mengen\n",
    "Produkte = [\"i1\", \"i2\", \"i3\"];\n",
    "Perioden = [\"t1\", \"t2\", \"t3\", \"t4\"];\n",
    "#Längen\n",
    "I = length(Produkte);\n",
    "T = length(Perioden);\n"
   ]
  },
  {
   "cell_type": "markdown",
   "metadata": {
    "slideshow": {
     "slide_type": "slide"
    }
   },
   "source": [
    "Fügen Sie die Parameter ein."
   ]
  },
  {
   "cell_type": "code",
   "execution_count": 6,
   "metadata": {
    "slideshow": {
     "slide_type": "fragment"
    }
   },
   "outputs": [],
   "source": [
    "kl = [4, 6, 5];                 #Lagerkostensatz der Produkte\n",
    "\n",
    "ks = [80, 100, 90];             #Rüstkostensatz der Produkte\n",
    "\n",
    "ts = [8, 12, 16];               #Rüstzeiten der Produkte\n",
    "\n",
    "tp = [2, 2, 1];                 #Stückbearbeitungszeiten der Produkte\n",
    "\n",
    "c =  [320, 320, 320, 320]; #Periodenkapazität\n",
    "\n",
    "M = 1000;                       #Große Zahl\n",
    "\n",
    "l_start = [0, 0, 0];            #Anfangslagerbestand\n",
    "\n",
    "      #t1, t2, t3, t4\n",
    "b = [  50  10  10  140          #Produkt 1\n",
    "        0  40  80   30          #Produkt 2\n",
    "       90  80  10   50];        #Produkt 3\n",
    "\n",
    "                                #Bedarf"
   ]
  },
  {
   "cell_type": "markdown",
   "metadata": {
    "slideshow": {
     "slide_type": "slide"
    }
   },
   "source": [
    "### Entscheidungsvariablen\n",
    "---\n",
    "Definieren Sie die Entscheidungsvariablen. Achten Sie auf die Definitionsbereiche (Nebenbedingungen 5 und 6)"
   ]
  },
  {
   "cell_type": "markdown",
   "metadata": {
    "slideshow": {
     "slide_type": "fragment"
    }
   },
   "source": [
    "5) **Nichtnegativitätsbedingungen**: Produktionsmengen und Lagerbestände dürfen nicht negativ werden.\n",
    "\n",
    " $ \\qquad X_{it}, L_{it} \\geq 0  \\qquad\\qquad\\qquad\\qquad\\qquad\\qquad \\forall t \\in T, \\quad i \\in I $"
   ]
  },
  {
   "cell_type": "code",
   "execution_count": 7,
   "metadata": {
    "slideshow": {
     "slide_type": "fragment"
    }
   },
   "outputs": [],
   "source": [
    "@variable(m,X[1:I,1:T] >= 0,Int);  #Produktionsmenge von Produkt i in Periode t"
   ]
  },
  {
   "cell_type": "code",
   "execution_count": 8,
   "metadata": {
    "slideshow": {
     "slide_type": "fragment"
    }
   },
   "outputs": [],
   "source": [
    "@variable(m,L[1:I,0:T] >= 0,Int);  #Lagerbestand von Produkt i am Periodenende von t"
   ]
  },
  {
   "cell_type": "markdown",
   "metadata": {
    "slideshow": {
     "slide_type": "fragment"
    }
   },
   "source": [
    "6) **Binaerbedingung**: Rüstvorgänge werden immer ganz ($\\gamma_{it} = 1$) oder gar nicht ($\\gamma_{it} = 0$) ausgeführt. Die binäre Rüstvariable nimmt also entweder den Wert 1 oder 0 an.\n",
    "\n",
    " $ \\qquad  \\gamma_{it} \\in \\{0,1\\}  \\qquad\\qquad\\qquad\\qquad\\qquad\\qquad \\forall t \\in T, \\quad i \\in I $"
   ]
  },
  {
   "cell_type": "code",
   "execution_count": 9,
   "metadata": {
    "slideshow": {
     "slide_type": "fragment"
    }
   },
   "outputs": [],
   "source": [
    "@variable(m,gamma[1:I,1:T],Bin); #Die binäre Rüstvariable von Produkt i in Periode t"
   ]
  },
  {
   "cell_type": "markdown",
   "metadata": {
    "slideshow": {
     "slide_type": "slide"
    }
   },
   "source": [
    "## Zielfunktion\n",
    "\n",
    "0) **Gesamtkostenminimierung:** Die Gesamtkosten sollen minimiert werden. Sie bestehen aus der Summe von Rüstkosten und Lagerkosten aller Produkte über alle Perioden. Die Rüstkosten berechnen sich hierbei durch Multipizieren der Anzahl der Rüstvorgänge (Summe aler binären Rüstvariablen) mit dem Rüstkostensatz, die Lagerkosten durch Multiplizieren der eingelagerten Menge mit dem Lagerkostensatz.\n",
    "\n",
    "$ \\qquad \\min z = \\displaystyle\\sum_{i=1}^I \\displaystyle\\sum_{t=1}^T(k_i^s\\cdot \\gamma_{it}+k_i^l\\cdot L_{it})$ \n"
   ]
  },
  {
   "cell_type": "code",
   "execution_count": 10,
   "metadata": {
    "slideshow": {
     "slide_type": "fragment"
    }
   },
   "outputs": [],
   "source": [
    "@objective(m, Min,  sum( ks[i] * gamma[i,t] +  kl[i] * L[i,t]  for i=1:I for t=1:T) );"
   ]
  },
  {
   "cell_type": "markdown",
   "metadata": {
    "slideshow": {
     "slide_type": "slide"
    }
   },
   "source": [
    "## Nebenbedingungen"
   ]
  },
  {
   "cell_type": "markdown",
   "metadata": {
    "slideshow": {
     "slide_type": "fragment"
    }
   },
   "source": [
    "1) **Kapazitaetsrestriktion:** Die Summe aus Produktions- und Rüstzeit aller Produkte darf in jeder Periode die vorhandene Kapazität der Ressource j nicht überschreiten.\n",
    "\n",
    " $$ \\qquad \\displaystyle\\sum_{i=1}^I(t_i^p\\cdot X_{it}+t_i^s\\cdot\\gamma_{it} ) \\leq c_t \\hspace{40mm} \\forall t \\in T\\qquad $$ \n",
    " \n"
   ]
  },
  {
   "cell_type": "code",
   "execution_count": 11,
   "metadata": {
    "slideshow": {
     "slide_type": "fragment"
    }
   },
   "outputs": [],
   "source": [
    "@constraint(m, KapRes[t=1:T], sum((ts[i] * gamma[i,t] + tp[i] * X[i,t]) for i=1:I) <= c[t] );"
   ]
  },
  {
   "cell_type": "markdown",
   "metadata": {
    "slideshow": {
     "slide_type": "fragment"
    }
   },
   "source": [
    "2) **Lagerbilanzgleichung**: Der Lagerbestand am Ende einer Periode berechnet sich aus der Summe der Produktionsmenge und des Lagerbestandes der Vorperiode abzüglich der Absatzmenge (Nachfrage).\n",
    "\n",
    " $$ \\qquad L_{it} = L_{i,t-1}+X_{it}-b_{it} \\hspace{40mm} \\forall t \\in T, \\quad i \\in I$$"
   ]
  },
  {
   "cell_type": "code",
   "execution_count": 12,
   "metadata": {
    "slideshow": {
     "slide_type": "fragment"
    }
   },
   "outputs": [],
   "source": [
    "@constraint(m, Lager[i=1:I,t=1:T], L[i,t] == L[i,t-1] + X[i,t]  - b[i,t]);"
   ]
  },
  {
   "cell_type": "markdown",
   "metadata": {
    "slideshow": {
     "slide_type": "slide"
    }
   },
   "source": [
    " 3) **Anfangslagerbestand**: Der Anfangslagerbestand aller Produkte entspricht dem initial gesetzen $l_i$.\n",
    " \n",
    "  $$ \\qquad L_{i,0} = l_{start} \\hspace{40mm} \\forall  i \\in I$$\n"
   ]
  },
  {
   "cell_type": "code",
   "execution_count": 13,
   "metadata": {
    "slideshow": {
     "slide_type": "fragment"
    }
   },
   "outputs": [],
   "source": [
    "@constraint(m, AnfLager[i=1:I], L[i,0] == l_start[i]);"
   ]
  },
  {
   "cell_type": "markdown",
   "metadata": {
    "slideshow": {
     "slide_type": "fragment"
    }
   },
   "source": [
    "4) **Rüstbedingung**: Wenn für ein Produkt in einer Periode nicht gerüstet wird, ist die produzierte Menge dieses Produkts in dieser Periode 0. Wenn für ein Produkt in einer Periode gerüstet wird, wird die produzierte Menge durch die Rüstbedingung nicht eingeschränkt.\n",
    "\n",
    " $$ \\qquad X_{it} \\leq M \\cdot \\gamma_{it} \\hspace{40mm} \\forall t \\in T, \\quad i \\in I $$"
   ]
  },
  {
   "cell_type": "code",
   "execution_count": 14,
   "metadata": {
    "slideshow": {
     "slide_type": "fragment"
    }
   },
   "outputs": [],
   "source": [
    "@constraint(m, Ruestbed[i=1:I,t=1:T], X[i,t] <= M * gamma[i,t]);"
   ]
  },
  {
   "cell_type": "markdown",
   "metadata": {
    "slideshow": {
     "slide_type": "slide"
    }
   },
   "source": [
    "## Lösen Sie das Modell.\n",
    "---"
   ]
  },
  {
   "cell_type": "code",
   "execution_count": 15,
   "metadata": {
    "slideshow": {
     "slide_type": "fragment"
    }
   },
   "outputs": [
    {
     "name": "stdout",
     "output_type": "stream",
     "text": [
      "Welcome to the CBC MILP Solver \n",
      "Version: 2.10.3 \n",
      "Build Date: Jan  1 1970 \n",
      "\n",
      "command line - Cbc_C_Interface -solve -quit (default strategy 1)\n",
      "Continuous objective value is 196.484 - 0.00 seconds\n",
      "Cgl0003I 0 fixed, 36 tightened bounds, 10 strengthened rows, 0 substitutions\n",
      "Cgl0003I 0 fixed, 17 tightened bounds, 0 strengthened rows, 0 substitutions\n",
      "Cgl0003I 0 fixed, 2 tightened bounds, 0 strengthened rows, 0 substitutions\n",
      "Cgl0004I processed model has 23 rows, 31 columns (31 integer (10 of which binary)) and 70 elements\n",
      "Cbc0012I Integer solution of 1390 found by DiveCoefficient after 0 iterations and 0 nodes (0.03 seconds)\n",
      "Cbc0038I Full problem 23 rows 31 columns, reduced to 12 rows 15 columns\n",
      "Cbc0012I Integer solution of 1048 found by DiveCoefficient after 16 iterations and 0 nodes (0.04 seconds)\n",
      "Cbc0031I 10 added rows had average density of 4.5\n",
      "Cbc0013I At root node, 10 cuts changed objective from 553.01535 to 1048 in 4 passes\n",
      "Cbc0014I Cut generator 0 (Probing) - 18 row cuts average 2.3 elements, 5 column cuts (5 active)  in 0.000 seconds - new frequency is 1\n",
      "Cbc0014I Cut generator 1 (Gomory) - 18 row cuts average 7.2 elements, 0 column cuts (0 active)  in 0.001 seconds - new frequency is 1\n",
      "Cbc0014I Cut generator 2 (Knapsack) - 0 row cuts average 0.0 elements, 0 column cuts (0 active)  in 0.001 seconds - new frequency is -100\n",
      "Cbc0014I Cut generator 3 (Clique) - 0 row cuts average 0.0 elements, 0 column cuts (0 active)  in 0.000 seconds - new frequency is -100\n",
      "Cbc0014I Cut generator 4 (MixedIntegerRounding2) - 2 row cuts average 3.0 elements, 0 column cuts (0 active)  in 0.000 seconds - new frequency is -100\n",
      "Cbc0014I Cut generator 5 (FlowCover) - 1 row cuts average 4.0 elements, 0 column cuts (0 active)  in 0.000 seconds - new frequency is -100\n",
      "Cbc0014I Cut generator 6 (TwoMirCuts) - 26 row cuts average 6.5 elements, 0 column cuts (0 active)  in 0.000 seconds - new frequency is 1\n",
      "Cbc0001I Search completed - best objective 1048, took 16 iterations and 0 nodes (0.05 seconds)\n",
      "Cbc0035I Maximum depth 0, 0 variables fixed on reduced cost\n",
      "Cuts at root node changed objective from 553.015 to 1048\n",
      "Probing was tried 4 times and created 23 cuts of which 0 were active after adding rounds of cuts (0.000 seconds)\n",
      "Gomory was tried 4 times and created 18 cuts of which 0 were active after adding rounds of cuts (0.001 seconds)\n",
      "Knapsack was tried 4 times and created 0 cuts of which 0 were active after adding rounds of cuts (0.001 seconds)\n",
      "Clique was tried 4 times and created 0 cuts of which 0 were active after adding rounds of cuts (0.000 seconds)\n",
      "MixedIntegerRounding2 was tried 4 times and created 2 cuts of which 0 were active after adding rounds of cuts (0.000 seconds)\n",
      "FlowCover was tried 4 times and created 1 cuts of which 0 were active after adding rounds of cuts (0.000 seconds)\n",
      "TwoMirCuts was tried 4 times and created 26 cuts of which 0 were active after adding rounds of cuts (0.000 seconds)\n",
      "ZeroHalf was tried 1 times and created 0 cuts of which 0 were active after adding rounds of cuts (0.004 seconds)\n",
      "\n",
      "Result - Optimal solution found\n",
      "\n",
      "Objective value:                1048.00000000\n",
      "Enumerated nodes:               0\n",
      "Total iterations:               16\n",
      "Time (CPU seconds):             0.05\n",
      "Time (Wallclock seconds):       0.05\n",
      "\n",
      "Total time (CPU seconds):       0.05   (Wallclock seconds):       0.05\n",
      "\n"
     ]
    }
   ],
   "source": [
    "optimize!(m)"
   ]
  },
  {
   "cell_type": "markdown",
   "metadata": {
    "slideshow": {
     "slide_type": "fragment"
    }
   },
   "source": [
    "Lassen Sie sich den Zielfunktionswert Z anzeigen."
   ]
  },
  {
   "cell_type": "code",
   "execution_count": 16,
   "metadata": {
    "slideshow": {
     "slide_type": "fragment"
    }
   },
   "outputs": [
    {
     "name": "stdout",
     "output_type": "stream",
     "text": [
      "Objective value Z: 1048.0\n"
     ]
    }
   ],
   "source": [
    "println(\"Objective value Z: \", JuMP.objective_value(m))"
   ]
  },
  {
   "cell_type": "markdown",
   "metadata": {
    "slideshow": {
     "slide_type": "slide"
    }
   },
   "source": [
    "Lassen Sie sich die Produktionsmengen, die Lagermengen und die Rüstvariable anzeigen."
   ]
  },
  {
   "cell_type": "code",
   "execution_count": 17,
   "metadata": {
    "slideshow": {
     "slide_type": "fragment"
    }
   },
   "outputs": [
    {
     "data": {
      "text/plain": [
       "3×4 Array{Float64,2}:\n",
       " 60.0   0.0   27.0  123.0\n",
       "  0.0  40.0  110.0    0.0\n",
       " 90.0  90.0    0.0   50.0"
      ]
     },
     "execution_count": 17,
     "metadata": {},
     "output_type": "execute_result"
    }
   ],
   "source": [
    "JuMP.value.(X)"
   ]
  },
  {
   "cell_type": "code",
   "execution_count": 18,
   "metadata": {
    "slideshow": {
     "slide_type": "slide"
    }
   },
   "outputs": [
    {
     "data": {
      "text/plain": [
       "2-dimensional DenseAxisArray{Float64,2,...} with index sets:\n",
       "    Dimension 1, Base.OneTo(3)\n",
       "    Dimension 2, 0:4\n",
       "And data, a 3×5 Array{Float64,2}:\n",
       " 0.0  10.0   0.0  17.0  0.0\n",
       " 0.0   0.0   0.0  30.0  0.0\n",
       " 0.0   0.0  10.0   0.0  0.0"
      ]
     },
     "execution_count": 18,
     "metadata": {},
     "output_type": "execute_result"
    }
   ],
   "source": [
    "JuMP.value.(L)"
   ]
  },
  {
   "cell_type": "code",
   "execution_count": 19,
   "metadata": {
    "slideshow": {
     "slide_type": "fragment"
    }
   },
   "outputs": [
    {
     "data": {
      "text/plain": [
       "3×4 Array{Float64,2}:\n",
       " 1.0  0.0  1.0  1.0\n",
       " 0.0  1.0  1.0  0.0\n",
       " 1.0  1.0  0.0  1.0"
      ]
     },
     "execution_count": 19,
     "metadata": {},
     "output_type": "execute_result"
    }
   ],
   "source": [
    "JuMP.value.(gamma)"
   ]
  },
  {
   "cell_type": "markdown",
   "metadata": {
    "slideshow": {
     "slide_type": "slide"
    }
   },
   "source": [
    "Stellen Sie Produktionsmenge, Nachfrage und Lagerbestand grafisch dar."
   ]
  },
  {
   "cell_type": "code",
   "execution_count": 24,
   "metadata": {
    "slideshow": {
     "slide_type": "fragment"
    }
   },
   "outputs": [],
   "source": [
    "bardata = zeros((4,3,I))\n",
    "for i in 1:I\n",
    "    bardata[:,:,i] = \n",
    "    [JuMP.value(X[i,1]) b[i,1] JuMP.value(L[i,1])\n",
    "     JuMP.value(X[i,2]) b[i,2] JuMP.value(L[i,2])\n",
    "     JuMP.value(X[i,3]) b[i,3] JuMP.value(L[i,3])\n",
    "     JuMP.value(X[i,4]) b[i,4] JuMP.value(L[i,4])]\n",
    "end"
   ]
  },
  {
   "cell_type": "code",
   "execution_count": 25,
   "metadata": {
    "slideshow": {
     "slide_type": "fragment"
    }
   },
   "outputs": [
    {
     "data": {
      "image/svg+xml": [
       "<?xml version=\"1.0\" encoding=\"utf-8\"?>\n",
       "<svg xmlns=\"http://www.w3.org/2000/svg\" xmlns:xlink=\"http://www.w3.org/1999/xlink\" width=\"600\" height=\"400\" viewBox=\"0 0 2400 1600\">\n",
       "<defs>\n",
       "  <clipPath id=\"clip270\">\n",
       "    <rect x=\"0\" y=\"0\" width=\"2400\" height=\"1600\"/>\n",
       "  </clipPath>\n",
       "</defs>\n",
       "<path clip-path=\"url(#clip270)\" d=\"\n",
       "M0 1600 L2400 1600 L2400 0 L0 0  Z\n",
       "  \" fill=\"#ffffff\" fill-rule=\"evenodd\" fill-opacity=\"1\"/>\n",
       "<defs>\n",
       "  <clipPath id=\"clip271\">\n",
       "    <rect x=\"480\" y=\"0\" width=\"1681\" height=\"1600\"/>\n",
       "  </clipPath>\n",
       "</defs>\n",
       "<path clip-path=\"url(#clip270)\" d=\"\n",
       "M224.866 623.18 L1152.76 623.18 L1152.76 123.472 L224.866 123.472  Z\n",
       "  \" fill=\"#ffffff\" fill-rule=\"evenodd\" fill-opacity=\"1\"/>\n",
       "<defs>\n",
       "  <clipPath id=\"clip272\">\n",
       "    <rect x=\"224\" y=\"123\" width=\"929\" height=\"501\"/>\n",
       "  </clipPath>\n",
       "</defs>\n",
       "<polyline clip-path=\"url(#clip272)\" style=\"stroke:#000000; stroke-width:2; stroke-opacity:0.1; fill:none\" points=\"\n",
       "  360.22,623.18 360.22,123.472 \n",
       "  \"/>\n",
       "<polyline clip-path=\"url(#clip272)\" style=\"stroke:#000000; stroke-width:2; stroke-opacity:0.1; fill:none\" points=\"\n",
       "  579.281,623.18 579.281,123.472 \n",
       "  \"/>\n",
       "<polyline clip-path=\"url(#clip272)\" style=\"stroke:#000000; stroke-width:2; stroke-opacity:0.1; fill:none\" points=\"\n",
       "  798.342,623.18 798.342,123.472 \n",
       "  \"/>\n",
       "<polyline clip-path=\"url(#clip272)\" style=\"stroke:#000000; stroke-width:2; stroke-opacity:0.1; fill:none\" points=\"\n",
       "  1017.4,623.18 1017.4,123.472 \n",
       "  \"/>\n",
       "<polyline clip-path=\"url(#clip272)\" style=\"stroke:#000000; stroke-width:2; stroke-opacity:0.1; fill:none\" points=\"\n",
       "  224.866,623.18 1152.76,623.18 \n",
       "  \"/>\n",
       "<polyline clip-path=\"url(#clip272)\" style=\"stroke:#000000; stroke-width:2; stroke-opacity:0.1; fill:none\" points=\"\n",
       "  224.866,523.238 1152.76,523.238 \n",
       "  \"/>\n",
       "<polyline clip-path=\"url(#clip272)\" style=\"stroke:#000000; stroke-width:2; stroke-opacity:0.1; fill:none\" points=\"\n",
       "  224.866,423.297 1152.76,423.297 \n",
       "  \"/>\n",
       "<polyline clip-path=\"url(#clip272)\" style=\"stroke:#000000; stroke-width:2; stroke-opacity:0.1; fill:none\" points=\"\n",
       "  224.866,323.355 1152.76,323.355 \n",
       "  \"/>\n",
       "<polyline clip-path=\"url(#clip272)\" style=\"stroke:#000000; stroke-width:2; stroke-opacity:0.1; fill:none\" points=\"\n",
       "  224.866,223.414 1152.76,223.414 \n",
       "  \"/>\n",
       "<polyline clip-path=\"url(#clip272)\" style=\"stroke:#000000; stroke-width:2; stroke-opacity:0.1; fill:none\" points=\"\n",
       "  224.866,123.472 1152.76,123.472 \n",
       "  \"/>\n",
       "<polyline clip-path=\"url(#clip270)\" style=\"stroke:#000000; stroke-width:4; stroke-opacity:1; fill:none\" points=\"\n",
       "  224.866,623.18 1152.76,623.18 \n",
       "  \"/>\n",
       "<polyline clip-path=\"url(#clip270)\" style=\"stroke:#000000; stroke-width:4; stroke-opacity:1; fill:none\" points=\"\n",
       "  224.866,623.18 224.866,123.472 \n",
       "  \"/>\n",
       "<polyline clip-path=\"url(#clip270)\" style=\"stroke:#000000; stroke-width:4; stroke-opacity:1; fill:none\" points=\"\n",
       "  360.22,623.18 360.22,617.183 \n",
       "  \"/>\n",
       "<polyline clip-path=\"url(#clip270)\" style=\"stroke:#000000; stroke-width:4; stroke-opacity:1; fill:none\" points=\"\n",
       "  579.281,623.18 579.281,617.183 \n",
       "  \"/>\n",
       "<polyline clip-path=\"url(#clip270)\" style=\"stroke:#000000; stroke-width:4; stroke-opacity:1; fill:none\" points=\"\n",
       "  798.342,623.18 798.342,617.183 \n",
       "  \"/>\n",
       "<polyline clip-path=\"url(#clip270)\" style=\"stroke:#000000; stroke-width:4; stroke-opacity:1; fill:none\" points=\"\n",
       "  1017.4,623.18 1017.4,617.183 \n",
       "  \"/>\n",
       "<polyline clip-path=\"url(#clip270)\" style=\"stroke:#000000; stroke-width:4; stroke-opacity:1; fill:none\" points=\"\n",
       "  224.866,623.18 236.001,623.18 \n",
       "  \"/>\n",
       "<polyline clip-path=\"url(#clip270)\" style=\"stroke:#000000; stroke-width:4; stroke-opacity:1; fill:none\" points=\"\n",
       "  224.866,523.238 236.001,523.238 \n",
       "  \"/>\n",
       "<polyline clip-path=\"url(#clip270)\" style=\"stroke:#000000; stroke-width:4; stroke-opacity:1; fill:none\" points=\"\n",
       "  224.866,423.297 236.001,423.297 \n",
       "  \"/>\n",
       "<polyline clip-path=\"url(#clip270)\" style=\"stroke:#000000; stroke-width:4; stroke-opacity:1; fill:none\" points=\"\n",
       "  224.866,323.355 236.001,323.355 \n",
       "  \"/>\n",
       "<polyline clip-path=\"url(#clip270)\" style=\"stroke:#000000; stroke-width:4; stroke-opacity:1; fill:none\" points=\"\n",
       "  224.866,223.414 236.001,223.414 \n",
       "  \"/>\n",
       "<polyline clip-path=\"url(#clip270)\" style=\"stroke:#000000; stroke-width:4; stroke-opacity:1; fill:none\" points=\"\n",
       "  224.866,123.472 236.001,123.472 \n",
       "  \"/>\n",
       "<path clip-path=\"url(#clip270)\" d=\"M 0 0 M350.602 672.717 L358.24 672.717 L358.24 646.351 L349.93 648.018 L349.93 643.759 L358.194 642.092 L362.87 642.092 L362.87 672.717 L370.509 672.717 L370.509 676.652 L350.602 676.652 L350.602 672.717 Z\" fill=\"#000000\" fill-rule=\"evenodd\" fill-opacity=\"1\" /><path clip-path=\"url(#clip270)\" d=\"M 0 0 M573.933 672.717 L590.253 672.717 L590.253 676.652 L568.308 676.652 L568.308 672.717 Q570.97 669.962 575.554 665.332 Q580.16 660.68 581.341 659.337 Q583.586 656.814 584.466 655.078 Q585.369 653.319 585.369 651.629 Q585.369 648.874 583.424 647.138 Q581.503 645.402 578.401 645.402 Q576.202 645.402 573.748 646.166 Q571.318 646.93 568.54 648.481 L568.54 643.759 Q571.364 642.624 573.818 642.046 Q576.271 641.467 578.308 641.467 Q583.679 641.467 586.873 644.152 Q590.068 646.837 590.068 651.328 Q590.068 653.458 589.257 655.379 Q588.47 657.277 586.364 659.87 Q585.785 660.541 582.683 663.758 Q579.582 666.953 573.933 672.717 Z\" fill=\"#000000\" fill-rule=\"evenodd\" fill-opacity=\"1\" /><path clip-path=\"url(#clip270)\" d=\"M 0 0 M802.589 658.018 Q805.946 658.735 807.821 661.004 Q809.719 663.272 809.719 666.606 Q809.719 671.721 806.2 674.522 Q802.682 677.323 796.2 677.323 Q794.024 677.323 791.71 676.883 Q789.418 676.467 786.964 675.61 L786.964 671.096 Q788.909 672.231 791.224 672.809 Q793.538 673.388 796.061 673.388 Q800.46 673.388 802.751 671.652 Q805.066 669.916 805.066 666.606 Q805.066 663.55 802.913 661.837 Q800.784 660.101 796.964 660.101 L792.936 660.101 L792.936 656.258 L797.149 656.258 Q800.598 656.258 802.427 654.893 Q804.256 653.504 804.256 650.911 Q804.256 648.249 802.358 646.837 Q800.483 645.402 796.964 645.402 Q795.043 645.402 792.844 645.819 Q790.645 646.235 788.006 647.115 L788.006 642.948 Q790.668 642.208 792.983 641.837 Q795.321 641.467 797.381 641.467 Q802.705 641.467 805.807 643.897 Q808.909 646.305 808.909 650.425 Q808.909 653.295 807.265 655.286 Q805.622 657.254 802.589 658.018 Z\" fill=\"#000000\" fill-rule=\"evenodd\" fill-opacity=\"1\" /><path clip-path=\"url(#clip270)\" d=\"M 0 0 M1020.41 646.166 L1008.61 664.615 L1020.41 664.615 L1020.41 646.166 M1019.18 642.092 L1025.06 642.092 L1025.06 664.615 L1030 664.615 L1030 668.504 L1025.06 668.504 L1025.06 676.652 L1020.41 676.652 L1020.41 668.504 L1004.81 668.504 L1004.81 663.99 L1019.18 642.092 Z\" fill=\"#000000\" fill-rule=\"evenodd\" fill-opacity=\"1\" /><path clip-path=\"url(#clip270)\" d=\"M 0 0 M188.922 608.979 Q185.311 608.979 183.482 612.543 Q181.677 616.085 181.677 623.215 Q181.677 630.321 183.482 633.886 Q185.311 637.427 188.922 637.427 Q192.556 637.427 194.362 633.886 Q196.19 630.321 196.19 623.215 Q196.19 616.085 194.362 612.543 Q192.556 608.979 188.922 608.979 M188.922 605.275 Q194.732 605.275 197.788 609.881 Q200.866 614.465 200.866 623.215 Q200.866 631.941 197.788 636.548 Q194.732 641.131 188.922 641.131 Q183.112 641.131 180.033 636.548 Q176.977 631.941 176.977 623.215 Q176.977 614.465 180.033 609.881 Q183.112 605.275 188.922 605.275 Z\" fill=\"#000000\" fill-rule=\"evenodd\" fill-opacity=\"1\" /><path clip-path=\"url(#clip270)\" d=\"M 0 0 M158.529 536.583 L174.848 536.583 L174.848 540.518 L152.904 540.518 L152.904 536.583 Q155.566 533.829 160.149 529.199 Q164.755 524.546 165.936 523.204 Q168.181 520.68 169.061 518.944 Q169.964 517.185 169.964 515.495 Q169.964 512.741 168.019 511.005 Q166.098 509.268 162.996 509.268 Q160.797 509.268 158.343 510.032 Q155.913 510.796 153.135 512.347 L153.135 507.625 Q155.959 506.491 158.413 505.912 Q160.866 505.333 162.903 505.333 Q168.274 505.333 171.468 508.018 Q174.663 510.704 174.663 515.194 Q174.663 517.324 173.852 519.245 Q173.065 521.143 170.959 523.736 Q170.38 524.407 167.278 527.625 Q164.177 530.819 158.529 536.583 Z\" fill=\"#000000\" fill-rule=\"evenodd\" fill-opacity=\"1\" /><path clip-path=\"url(#clip270)\" d=\"M 0 0 M179.964 505.958 L198.32 505.958 L198.32 509.893 L184.246 509.893 L184.246 518.366 Q185.264 518.018 186.283 517.856 Q187.301 517.671 188.32 517.671 Q194.107 517.671 197.487 520.842 Q200.866 524.014 200.866 529.43 Q200.866 535.009 197.394 538.111 Q193.922 541.19 187.602 541.19 Q185.427 541.19 183.158 540.819 Q180.913 540.449 178.505 539.708 L178.505 535.009 Q180.589 536.143 182.811 536.699 Q185.033 537.254 187.51 537.254 Q191.514 537.254 193.852 535.148 Q196.19 533.041 196.19 529.43 Q196.19 525.819 193.852 523.713 Q191.514 521.606 187.51 521.606 Q185.635 521.606 183.76 522.023 Q181.908 522.44 179.964 523.319 L179.964 505.958 Z\" fill=\"#000000\" fill-rule=\"evenodd\" fill-opacity=\"1\" /><path clip-path=\"url(#clip270)\" d=\"M 0 0 M152.95 406.017 L171.306 406.017 L171.306 409.952 L157.232 409.952 L157.232 418.424 Q158.251 418.077 159.269 417.915 Q160.288 417.73 161.306 417.73 Q167.093 417.73 170.473 420.901 Q173.852 424.072 173.852 429.489 Q173.852 435.068 170.38 438.169 Q166.908 441.248 160.589 441.248 Q158.413 441.248 156.144 440.878 Q153.899 440.507 151.492 439.767 L151.492 435.068 Q153.575 436.202 155.797 436.757 Q158.019 437.313 160.496 437.313 Q164.501 437.313 166.839 435.206 Q169.177 433.1 169.177 429.489 Q169.177 425.878 166.839 423.771 Q164.501 421.665 160.496 421.665 Q158.621 421.665 156.746 422.081 Q154.894 422.498 152.95 423.378 L152.95 406.017 Z\" fill=\"#000000\" fill-rule=\"evenodd\" fill-opacity=\"1\" /><path clip-path=\"url(#clip270)\" d=\"M 0 0 M188.922 409.095 Q185.311 409.095 183.482 412.66 Q181.677 416.202 181.677 423.331 Q181.677 430.438 183.482 434.003 Q185.311 437.544 188.922 437.544 Q192.556 437.544 194.362 434.003 Q196.19 430.438 196.19 423.331 Q196.19 416.202 194.362 412.66 Q192.556 409.095 188.922 409.095 M188.922 405.392 Q194.732 405.392 197.788 409.998 Q200.866 414.582 200.866 423.331 Q200.866 432.058 197.788 436.665 Q194.732 441.248 188.922 441.248 Q183.112 441.248 180.033 436.665 Q176.977 432.058 176.977 423.331 Q176.977 414.582 180.033 409.998 Q183.112 405.392 188.922 405.392 Z\" fill=\"#000000\" fill-rule=\"evenodd\" fill-opacity=\"1\" /><path clip-path=\"url(#clip270)\" d=\"M 0 0 M152.626 306.075 L174.848 306.075 L174.848 308.066 L162.302 340.635 L157.417 340.635 L169.223 310.01 L152.626 310.01 L152.626 306.075 Z\" fill=\"#000000\" fill-rule=\"evenodd\" fill-opacity=\"1\" /><path clip-path=\"url(#clip270)\" d=\"M 0 0 M179.964 306.075 L198.32 306.075 L198.32 310.01 L184.246 310.01 L184.246 318.483 Q185.264 318.135 186.283 317.973 Q187.301 317.788 188.32 317.788 Q194.107 317.788 197.487 320.959 Q200.866 324.131 200.866 329.547 Q200.866 335.126 197.394 338.228 Q193.922 341.307 187.602 341.307 Q185.427 341.307 183.158 340.936 Q180.913 340.566 178.505 339.825 L178.505 335.126 Q180.589 336.26 182.811 336.816 Q185.033 337.371 187.51 337.371 Q191.514 337.371 193.852 335.265 Q196.19 333.158 196.19 329.547 Q196.19 325.936 193.852 323.83 Q191.514 321.723 187.51 321.723 Q185.635 321.723 183.76 322.14 Q181.908 322.557 179.964 323.436 L179.964 306.075 Z\" fill=\"#000000\" fill-rule=\"evenodd\" fill-opacity=\"1\" /><path clip-path=\"url(#clip270)\" d=\"M 0 0 M126.931 236.759 L134.57 236.759 L134.57 210.393 L126.26 212.06 L126.26 207.8 L134.524 206.134 L139.2 206.134 L139.2 236.759 L146.839 236.759 L146.839 240.694 L126.931 240.694 L126.931 236.759 Z\" fill=\"#000000\" fill-rule=\"evenodd\" fill-opacity=\"1\" /><path clip-path=\"url(#clip270)\" d=\"M 0 0 M161.908 209.212 Q158.297 209.212 156.468 212.777 Q154.663 216.319 154.663 223.448 Q154.663 230.555 156.468 234.12 Q158.297 237.661 161.908 237.661 Q165.542 237.661 167.348 234.12 Q169.177 230.555 169.177 223.448 Q169.177 216.319 167.348 212.777 Q165.542 209.212 161.908 209.212 M161.908 205.509 Q167.718 205.509 170.774 210.115 Q173.852 214.698 173.852 223.448 Q173.852 232.175 170.774 236.782 Q167.718 241.365 161.908 241.365 Q156.098 241.365 153.019 236.782 Q149.964 232.175 149.964 223.448 Q149.964 214.698 153.019 210.115 Q156.098 205.509 161.908 205.509 Z\" fill=\"#000000\" fill-rule=\"evenodd\" fill-opacity=\"1\" /><path clip-path=\"url(#clip270)\" d=\"M 0 0 M188.922 209.212 Q185.311 209.212 183.482 212.777 Q181.677 216.319 181.677 223.448 Q181.677 230.555 183.482 234.12 Q185.311 237.661 188.922 237.661 Q192.556 237.661 194.362 234.12 Q196.19 230.555 196.19 223.448 Q196.19 216.319 194.362 212.777 Q192.556 209.212 188.922 209.212 M188.922 205.509 Q194.732 205.509 197.788 210.115 Q200.866 214.698 200.866 223.448 Q200.866 232.175 197.788 236.782 Q194.732 241.365 188.922 241.365 Q183.112 241.365 180.033 236.782 Q176.977 232.175 176.977 223.448 Q176.977 214.698 180.033 210.115 Q183.112 205.509 188.922 205.509 Z\" fill=\"#000000\" fill-rule=\"evenodd\" fill-opacity=\"1\" /><path clip-path=\"url(#clip270)\" d=\"M 0 0 M129.524 136.817 L137.163 136.817 L137.163 110.451 L128.853 112.118 L128.853 107.859 L137.117 106.192 L141.792 106.192 L141.792 136.817 L149.431 136.817 L149.431 140.752 L129.524 140.752 L129.524 136.817 Z\" fill=\"#000000\" fill-rule=\"evenodd\" fill-opacity=\"1\" /><path clip-path=\"url(#clip270)\" d=\"M 0 0 M158.529 136.817 L174.848 136.817 L174.848 140.752 L152.904 140.752 L152.904 136.817 Q155.566 134.062 160.149 129.433 Q164.755 124.78 165.936 123.437 Q168.181 120.914 169.061 119.178 Q169.964 117.419 169.964 115.729 Q169.964 112.974 168.019 111.238 Q166.098 109.502 162.996 109.502 Q160.797 109.502 158.343 110.266 Q155.913 111.03 153.135 112.581 L153.135 107.859 Q155.959 106.725 158.413 106.146 Q160.866 105.567 162.903 105.567 Q168.274 105.567 171.468 108.252 Q174.663 110.937 174.663 115.428 Q174.663 117.558 173.852 119.479 Q173.065 121.377 170.959 123.97 Q170.38 124.641 167.278 127.859 Q164.177 131.053 158.529 136.817 Z\" fill=\"#000000\" fill-rule=\"evenodd\" fill-opacity=\"1\" /><path clip-path=\"url(#clip270)\" d=\"M 0 0 M179.964 106.192 L198.32 106.192 L198.32 110.127 L184.246 110.127 L184.246 118.599 Q185.264 118.252 186.283 118.09 Q187.301 117.905 188.32 117.905 Q194.107 117.905 197.487 121.076 Q200.866 124.248 200.866 129.664 Q200.866 135.243 197.394 138.345 Q193.922 141.423 187.602 141.423 Q185.427 141.423 183.158 141.053 Q180.913 140.683 178.505 139.942 L178.505 135.243 Q180.589 136.377 182.811 136.933 Q185.033 137.488 187.51 137.488 Q191.514 137.488 193.852 135.382 Q196.19 133.275 196.19 129.664 Q196.19 126.053 193.852 123.947 Q191.514 121.84 187.51 121.84 Q185.635 121.84 183.76 122.257 Q181.908 122.674 179.964 123.553 L179.964 106.192 Z\" fill=\"#000000\" fill-rule=\"evenodd\" fill-opacity=\"1\" /><path clip-path=\"url(#clip270)\" d=\"M 0 0 M518.936 18.8205 L518.936 41.5461 L529.226 41.5461 Q534.937 41.5461 538.057 38.5889 Q541.176 35.6318 541.176 30.163 Q541.176 24.7348 538.057 21.7777 Q534.937 18.8205 529.226 18.8205 L518.936 18.8205 M510.754 12.096 L529.226 12.096 Q539.393 12.096 544.579 16.714 Q549.804 21.2916 549.804 30.163 Q549.804 39.1155 544.579 43.6931 Q539.393 48.2706 529.226 48.2706 L518.936 48.2706 L518.936 72.576 L510.754 72.576 L510.754 12.096 Z\" fill=\"#000000\" fill-rule=\"evenodd\" fill-opacity=\"1\" /><path clip-path=\"url(#clip270)\" d=\"M 0 0 M582.455 34.1734 Q581.199 33.4443 579.7 33.1202 Q578.242 32.7556 576.459 32.7556 Q570.14 32.7556 566.737 36.8875 Q563.375 40.9789 563.375 48.6757 L563.375 72.576 L555.881 72.576 L555.881 27.2059 L563.375 27.2059 L563.375 34.2544 Q565.724 30.1225 569.492 28.1376 Q573.259 26.1121 578.647 26.1121 Q579.416 26.1121 580.348 26.2337 Q581.28 26.3147 582.414 26.5172 L582.455 34.1734 Z\" fill=\"#000000\" fill-rule=\"evenodd\" fill-opacity=\"1\" /><path clip-path=\"url(#clip270)\" d=\"M 0 0 M606.031 32.4315 Q600.036 32.4315 596.552 37.1306 Q593.068 41.7891 593.068 49.9314 Q593.068 58.0738 596.511 62.7728 Q599.995 67.4314 606.031 67.4314 Q611.986 67.4314 615.469 62.7323 Q618.953 58.0333 618.953 49.9314 Q618.953 41.8701 615.469 37.1711 Q611.986 32.4315 606.031 32.4315 M606.031 26.1121 Q615.753 26.1121 621.303 32.4315 Q626.852 38.7509 626.852 49.9314 Q626.852 61.0714 621.303 67.4314 Q615.753 73.7508 606.031 73.7508 Q596.268 73.7508 590.718 67.4314 Q585.209 61.0714 585.209 49.9314 Q585.209 38.7509 590.718 32.4315 Q596.268 26.1121 606.031 26.1121 Z\" fill=\"#000000\" fill-rule=\"evenodd\" fill-opacity=\"1\" /><path clip-path=\"url(#clip270)\" d=\"M 0 0 M664.526 34.0924 L664.526 9.54393 L671.98 9.54393 L671.98 72.576 L664.526 72.576 L664.526 65.7705 Q662.176 69.8214 658.571 71.8063 Q655.006 73.7508 649.983 73.7508 Q641.76 73.7508 636.575 67.1883 Q631.43 60.6258 631.43 49.9314 Q631.43 39.2371 636.575 32.6746 Q641.76 26.1121 649.983 26.1121 Q655.006 26.1121 658.571 28.0971 Q662.176 30.0415 664.526 34.0924 M639.127 49.9314 Q639.127 58.1548 642.489 62.8538 Q645.892 67.5124 651.806 67.5124 Q657.72 67.5124 661.123 62.8538 Q664.526 58.1548 664.526 49.9314 Q664.526 41.7081 661.123 37.0496 Q657.72 32.3505 651.806 32.3505 Q645.892 32.3505 642.489 37.0496 Q639.127 41.7081 639.127 49.9314 Z\" fill=\"#000000\" fill-rule=\"evenodd\" fill-opacity=\"1\" /><path clip-path=\"url(#clip270)\" d=\"M 0 0 M679.028 54.671 L679.028 27.2059 L686.482 27.2059 L686.482 54.3874 Q686.482 60.8284 688.993 64.0691 Q691.505 67.2693 696.528 67.2693 Q702.564 67.2693 706.048 63.421 Q709.572 59.5726 709.572 52.9291 L709.572 27.2059 L717.026 27.2059 L717.026 72.576 L709.572 72.576 L709.572 65.6084 Q706.858 69.7404 703.253 71.7658 Q699.688 73.7508 694.948 73.7508 Q687.13 73.7508 683.079 68.8897 Q679.028 64.0286 679.028 54.671 M697.784 26.1121 L697.784 26.1121 Z\" fill=\"#000000\" fill-rule=\"evenodd\" fill-opacity=\"1\" /><path clip-path=\"url(#clip270)\" d=\"M 0 0 M724.56 9.54393 L732.054 9.54393 L732.054 46.7717 L754.294 27.2059 L763.814 27.2059 L739.751 48.4326 L764.826 72.576 L755.104 72.576 L732.054 50.4176 L732.054 72.576 L724.56 72.576 L724.56 9.54393 Z\" fill=\"#000000\" fill-rule=\"evenodd\" fill-opacity=\"1\" /><path clip-path=\"url(#clip270)\" d=\"M 0 0 M780.017 14.324 L780.017 27.2059 L795.37 27.2059 L795.37 32.9987 L780.017 32.9987 L780.017 57.6282 Q780.017 63.1779 781.516 64.7578 Q783.055 66.3376 787.714 66.3376 L795.37 66.3376 L795.37 72.576 L787.714 72.576 Q779.085 72.576 775.804 69.3758 Q772.523 66.1351 772.523 57.6282 L772.523 32.9987 L767.054 32.9987 L767.054 27.2059 L772.523 27.2059 L772.523 14.324 L780.017 14.324 Z\" fill=\"#000000\" fill-rule=\"evenodd\" fill-opacity=\"1\" /><path clip-path=\"url(#clip270)\" d=\"M 0 0 M832.031 65.6895 L845.399 65.6895 L845.399 19.5497 L830.856 22.4663 L830.856 15.0127 L845.318 12.096 L853.501 12.096 L853.501 65.6895 L866.869 65.6895 L866.869 72.576 L832.031 72.576 L832.031 65.6895 Z\" fill=\"#000000\" fill-rule=\"evenodd\" fill-opacity=\"1\" /><path clip-path=\"url(#clip270)\" d=\"M 0 0 M589.14 713.807 L589.14 731.663 L597.224 731.663 Q601.712 731.663 604.163 729.34 Q606.614 727.016 606.614 722.719 Q606.614 718.454 604.163 716.131 Q601.712 713.807 597.224 713.807 L589.14 713.807 M582.711 708.524 L597.224 708.524 Q605.213 708.524 609.287 712.152 Q613.393 715.749 613.393 722.719 Q613.393 729.753 609.287 733.35 Q605.213 736.947 597.224 736.947 L589.14 736.947 L589.14 756.044 L582.711 756.044 L582.711 708.524 Z\" fill=\"#000000\" fill-rule=\"evenodd\" fill-opacity=\"1\" /><path clip-path=\"url(#clip270)\" d=\"M 0 0 M647.705 736.756 L647.705 739.62 L620.778 739.62 Q621.16 745.668 624.406 748.851 Q627.684 752.002 633.509 752.002 Q636.883 752.002 640.034 751.174 Q643.217 750.347 646.336 748.691 L646.336 754.23 Q643.185 755.566 639.875 756.267 Q636.565 756.967 633.159 756.967 Q624.629 756.967 619.632 752.002 Q614.667 747.036 614.667 738.57 Q614.667 729.817 619.377 724.693 Q624.12 719.537 632.14 719.537 Q639.334 719.537 643.503 724.183 Q647.705 728.799 647.705 736.756 M641.848 735.037 Q641.784 730.231 639.143 727.366 Q636.533 724.502 632.204 724.502 Q627.302 724.502 624.342 727.271 Q621.414 730.04 620.969 735.069 L641.848 735.037 Z\" fill=\"#000000\" fill-rule=\"evenodd\" fill-opacity=\"1\" /><path clip-path=\"url(#clip270)\" d=\"M 0 0 M674.504 725.87 Q673.517 725.297 672.34 725.043 Q671.194 724.756 669.794 724.756 Q664.828 724.756 662.155 728.003 Q659.513 731.218 659.513 737.265 L659.513 756.044 L653.625 756.044 L653.625 720.396 L659.513 720.396 L659.513 725.934 Q661.359 722.688 664.319 721.128 Q667.279 719.537 671.512 719.537 Q672.117 719.537 672.849 719.632 Q673.581 719.696 674.472 719.855 L674.504 725.87 Z\" fill=\"#000000\" fill-rule=\"evenodd\" fill-opacity=\"1\" /><path clip-path=\"url(#clip270)\" d=\"M 0 0 M680.647 720.396 L686.504 720.396 L686.504 756.044 L680.647 756.044 L680.647 720.396 M680.647 706.519 L686.504 706.519 L686.504 713.935 L680.647 713.935 L680.647 706.519 Z\" fill=\"#000000\" fill-rule=\"evenodd\" fill-opacity=\"1\" /><path clip-path=\"url(#clip270)\" d=\"M 0 0 M706.46 724.502 Q701.749 724.502 699.012 728.194 Q696.275 731.854 696.275 738.252 Q696.275 744.649 698.98 748.341 Q701.718 752.002 706.46 752.002 Q711.139 752.002 713.876 748.31 Q716.613 744.617 716.613 738.252 Q716.613 731.918 713.876 728.226 Q711.139 724.502 706.46 724.502 M706.46 719.537 Q714.099 719.537 718.459 724.502 Q722.82 729.467 722.82 738.252 Q722.82 747.005 718.459 752.002 Q714.099 756.967 706.46 756.967 Q698.789 756.967 694.429 752.002 Q690.1 747.005 690.1 738.252 Q690.1 729.467 694.429 724.502 Q698.789 719.537 706.46 719.537 Z\" fill=\"#000000\" fill-rule=\"evenodd\" fill-opacity=\"1\" /><path clip-path=\"url(#clip270)\" d=\"M 0 0 M752.42 725.807 L752.42 706.519 L758.277 706.519 L758.277 756.044 L752.42 756.044 L752.42 750.697 Q750.574 753.88 747.742 755.439 Q744.941 756.967 740.994 756.967 Q734.533 756.967 730.459 751.811 Q726.416 746.654 726.416 738.252 Q726.416 729.849 730.459 724.693 Q734.533 719.537 740.994 719.537 Q744.941 719.537 747.742 721.096 Q750.574 722.624 752.42 725.807 M732.464 738.252 Q732.464 744.713 735.106 748.405 Q737.779 752.065 742.426 752.065 Q747.073 752.065 749.747 748.405 Q752.42 744.713 752.42 738.252 Q752.42 731.791 749.747 728.13 Q747.073 724.438 742.426 724.438 Q737.779 724.438 735.106 728.13 Q732.464 731.791 732.464 738.252 Z\" fill=\"#000000\" fill-rule=\"evenodd\" fill-opacity=\"1\" /><path clip-path=\"url(#clip270)\" d=\"M 0 0 M794.911 736.756 L794.911 739.62 L767.985 739.62 Q768.366 745.668 771.613 748.851 Q774.891 752.002 780.716 752.002 Q784.09 752.002 787.241 751.174 Q790.424 750.347 793.543 748.691 L793.543 754.23 Q790.392 755.566 787.082 756.267 Q783.772 756.967 780.366 756.967 Q771.836 756.967 766.839 752.002 Q761.873 747.036 761.873 738.57 Q761.873 729.817 766.584 724.693 Q771.327 719.537 779.347 719.537 Q786.541 719.537 790.71 724.183 Q794.911 728.799 794.911 736.756 M789.055 735.037 Q788.991 730.231 786.35 727.366 Q783.74 724.502 779.411 724.502 Q774.509 724.502 771.549 727.271 Q768.621 730.04 768.176 735.069 L789.055 735.037 Z\" fill=\"#000000\" fill-rule=\"evenodd\" fill-opacity=\"1\" /><path clip-path=\"url(#clip270)\" d=\"M 0 0 M40.4842 467.316 L40.4842 457.735 L72.8219 445.609 L40.4842 433.418 L40.4842 423.838 L88.0042 423.838 L88.0042 430.108 L46.277 430.108 L78.8694 442.362 L78.8694 448.823 L46.277 461.077 L88.0042 461.077 L88.0042 467.316 L40.4842 467.316 Z\" fill=\"#000000\" fill-rule=\"evenodd\" fill-opacity=\"1\" /><path clip-path=\"url(#clip270)\" d=\"M 0 0 M68.7161 387.203 L71.5806 387.203 L71.5806 414.13 Q77.6281 413.748 80.8109 410.502 Q83.9619 407.223 83.9619 401.399 Q83.9619 398.025 83.1344 394.874 Q82.3069 391.691 80.6518 388.572 L86.1899 388.572 Q87.5267 391.723 88.227 395.033 Q88.9272 398.343 88.9272 401.749 Q88.9272 410.279 83.9619 415.276 Q78.9967 420.241 70.5303 420.241 Q61.7774 420.241 56.6531 415.531 Q51.4968 410.788 51.4968 402.767 Q51.4968 395.574 56.1438 391.405 Q60.7589 387.203 68.7161 387.203 M66.9973 393.06 Q62.1912 393.123 59.3266 395.765 Q56.4621 398.375 56.4621 402.704 Q56.4621 407.605 59.2312 410.565 Q62.0002 413.494 67.0292 413.939 L66.9973 393.06 Z\" fill=\"#000000\" fill-rule=\"evenodd\" fill-opacity=\"1\" /><path clip-path=\"url(#clip270)\" d=\"M 0 0 M66.4881 351.428 L88.0042 351.428 L88.0042 357.284 L66.679 357.284 Q61.6183 357.284 59.1038 359.258 Q56.5894 361.231 56.5894 365.178 Q56.5894 369.92 59.6131 372.658 Q62.6368 375.395 67.8567 375.395 L88.0042 375.395 L88.0042 381.283 L52.3562 381.283 L52.3562 375.395 L57.8944 375.395 Q54.6797 373.294 53.0883 370.461 Q51.4968 367.597 51.4968 363.873 Q51.4968 357.73 55.3163 354.579 Q59.1038 351.428 66.4881 351.428 Z\" fill=\"#000000\" fill-rule=\"evenodd\" fill-opacity=\"1\" /><path clip-path=\"url(#clip270)\" d=\"M 0 0 M69.7664 321.827 Q63.4007 321.827 59.8996 324.469 Q56.3984 327.079 56.3984 331.822 Q56.3984 336.532 59.8996 339.174 Q63.4007 341.784 69.7664 341.784 Q76.1003 341.784 79.6014 339.174 Q83.1026 336.532 83.1026 331.822 Q83.1026 327.079 79.6014 324.469 Q76.1003 321.827 69.7664 321.827 M83.58 315.971 Q92.683 315.971 97.1071 320.013 Q101.563 324.055 101.563 332.394 Q101.563 335.482 101.086 338.219 Q100.64 340.956 99.6852 343.534 L93.9879 343.534 Q95.3884 340.956 96.0568 338.442 Q96.7252 335.927 96.7252 333.318 Q96.7252 327.557 93.7015 324.692 Q90.7096 321.827 84.6303 321.827 L81.7339 321.827 Q84.885 323.642 86.4446 326.474 Q88.0042 329.307 88.0042 333.254 Q88.0042 339.811 83.0071 343.821 Q78.01 347.831 69.7664 347.831 Q61.491 347.831 56.4939 343.821 Q51.4968 339.811 51.4968 333.254 Q51.4968 329.307 53.0564 326.474 Q54.616 323.642 57.7671 321.827 L52.3562 321.827 L52.3562 315.971 L83.58 315.971 Z\" fill=\"#000000\" fill-rule=\"evenodd\" fill-opacity=\"1\" /><path clip-path=\"url(#clip270)\" d=\"M 0 0 M68.7161 279.336 L71.5806 279.336 L71.5806 306.263 Q77.6281 305.881 80.8109 302.635 Q83.9619 299.356 83.9619 293.532 Q83.9619 290.158 83.1344 287.007 Q82.3069 283.824 80.6518 280.705 L86.1899 280.705 Q87.5267 283.856 88.227 287.166 Q88.9272 290.476 88.9272 293.882 Q88.9272 302.412 83.9619 307.409 Q78.9967 312.374 70.5303 312.374 Q61.7774 312.374 56.6531 307.664 Q51.4968 302.921 51.4968 294.9 Q51.4968 287.707 56.1438 283.538 Q60.7589 279.336 68.7161 279.336 M66.9973 285.193 Q62.1912 285.256 59.3266 287.898 Q56.4621 290.508 56.4621 294.837 Q56.4621 299.738 59.2312 302.698 Q62.0002 305.627 67.0292 306.072 L66.9973 285.193 Z\" fill=\"#000000\" fill-rule=\"evenodd\" fill-opacity=\"1\" /><path clip-path=\"url(#clip272)\" d=\"\n",
       "M272.595 383.32 L272.595 623.18 L331.011 623.18 L331.011 383.32 L272.595 383.32 L272.595 383.32  Z\n",
       "  \" fill=\"#00688b\" fill-rule=\"evenodd\" fill-opacity=\"1\"/>\n",
       "<polyline clip-path=\"url(#clip272)\" style=\"stroke:#000000; stroke-width:4; stroke-opacity:1; fill:none\" points=\"\n",
       "  272.595,383.32 272.595,623.18 331.011,623.18 331.011,383.32 272.595,383.32 \n",
       "  \"/>\n",
       "<path clip-path=\"url(#clip272)\" d=\"\n",
       "M491.656 623.18 L491.656 623.18 L550.072 623.18 L550.072 623.18 L491.656 623.18 L491.656 623.18  Z\n",
       "  \" fill=\"#00688b\" fill-rule=\"evenodd\" fill-opacity=\"1\"/>\n",
       "<polyline clip-path=\"url(#clip272)\" style=\"stroke:#000000; stroke-width:4; stroke-opacity:1; fill:none\" points=\"\n",
       "  491.656,623.18 491.656,623.18 550.072,623.18 491.656,623.18 \n",
       "  \"/>\n",
       "<path clip-path=\"url(#clip272)\" d=\"\n",
       "M710.717 515.243 L710.717 623.18 L769.133 623.18 L769.133 515.243 L710.717 515.243 L710.717 515.243  Z\n",
       "  \" fill=\"#00688b\" fill-rule=\"evenodd\" fill-opacity=\"1\"/>\n",
       "<polyline clip-path=\"url(#clip272)\" style=\"stroke:#000000; stroke-width:4; stroke-opacity:1; fill:none\" points=\"\n",
       "  710.717,515.243 710.717,623.18 769.133,623.18 769.133,515.243 710.717,515.243 \n",
       "  \"/>\n",
       "<path clip-path=\"url(#clip272)\" d=\"\n",
       "M929.778 131.467 L929.778 623.18 L988.194 623.18 L988.194 131.467 L929.778 131.467 L929.778 131.467  Z\n",
       "  \" fill=\"#00688b\" fill-rule=\"evenodd\" fill-opacity=\"1\"/>\n",
       "<polyline clip-path=\"url(#clip272)\" style=\"stroke:#000000; stroke-width:4; stroke-opacity:1; fill:none\" points=\"\n",
       "  929.778,131.467 929.778,623.18 988.194,623.18 988.194,131.467 929.778,131.467 \n",
       "  \"/>\n",
       "<path clip-path=\"url(#clip272)\" d=\"\n",
       "M331.011 423.297 L331.011 623.18 L389.428 623.18 L389.428 423.297 L331.011 423.297 L331.011 423.297  Z\n",
       "  \" fill=\"#cd0000\" fill-rule=\"evenodd\" fill-opacity=\"1\"/>\n",
       "<polyline clip-path=\"url(#clip272)\" style=\"stroke:#000000; stroke-width:4; stroke-opacity:1; fill:none\" points=\"\n",
       "  331.011,423.297 331.011,623.18 389.428,623.18 389.428,423.297 331.011,423.297 \n",
       "  \"/>\n",
       "<path clip-path=\"url(#clip272)\" d=\"\n",
       "M550.072 583.203 L550.072 623.18 L608.489 623.18 L608.489 583.203 L550.072 583.203 L550.072 583.203  Z\n",
       "  \" fill=\"#cd0000\" fill-rule=\"evenodd\" fill-opacity=\"1\"/>\n",
       "<polyline clip-path=\"url(#clip272)\" style=\"stroke:#000000; stroke-width:4; stroke-opacity:1; fill:none\" points=\"\n",
       "  550.072,583.203 550.072,623.18 608.489,623.18 608.489,583.203 550.072,583.203 \n",
       "  \"/>\n",
       "<path clip-path=\"url(#clip272)\" d=\"\n",
       "M769.133 583.203 L769.133 623.18 L827.55 623.18 L827.55 583.203 L769.133 583.203 L769.133 583.203  Z\n",
       "  \" fill=\"#cd0000\" fill-rule=\"evenodd\" fill-opacity=\"1\"/>\n",
       "<polyline clip-path=\"url(#clip272)\" style=\"stroke:#000000; stroke-width:4; stroke-opacity:1; fill:none\" points=\"\n",
       "  769.133,583.203 769.133,623.18 827.55,623.18 827.55,583.203 769.133,583.203 \n",
       "  \"/>\n",
       "<path clip-path=\"url(#clip272)\" d=\"\n",
       "M988.194 63.5072 L988.194 623.18 L1046.61 623.18 L1046.61 63.5072 L988.194 63.5072 L988.194 63.5072  Z\n",
       "  \" fill=\"#cd0000\" fill-rule=\"evenodd\" fill-opacity=\"1\"/>\n",
       "<polyline clip-path=\"url(#clip272)\" style=\"stroke:#000000; stroke-width:4; stroke-opacity:1; fill:none\" points=\"\n",
       "  988.194,63.5072 988.194,623.18 1046.61,623.18 1046.61,63.5072 988.194,63.5072 \n",
       "  \"/>\n",
       "<path clip-path=\"url(#clip272)\" d=\"\n",
       "M389.428 583.203 L389.428 623.18 L447.844 623.18 L447.844 583.203 L389.428 583.203 L389.428 583.203  Z\n",
       "  \" fill=\"#ffa500\" fill-rule=\"evenodd\" fill-opacity=\"1\"/>\n",
       "<polyline clip-path=\"url(#clip272)\" style=\"stroke:#000000; stroke-width:4; stroke-opacity:1; fill:none\" points=\"\n",
       "  389.428,583.203 389.428,623.18 447.844,623.18 447.844,583.203 389.428,583.203 \n",
       "  \"/>\n",
       "<path clip-path=\"url(#clip272)\" d=\"\n",
       "M608.489 623.18 L608.489 623.18 L666.905 623.18 L666.905 623.18 L608.489 623.18 L608.489 623.18  Z\n",
       "  \" fill=\"#ffa500\" fill-rule=\"evenodd\" fill-opacity=\"1\"/>\n",
       "<polyline clip-path=\"url(#clip272)\" style=\"stroke:#000000; stroke-width:4; stroke-opacity:1; fill:none\" points=\"\n",
       "  608.489,623.18 608.489,623.18 666.905,623.18 608.489,623.18 \n",
       "  \"/>\n",
       "<path clip-path=\"url(#clip272)\" d=\"\n",
       "M827.55 555.22 L827.55 623.18 L885.966 623.18 L885.966 555.22 L827.55 555.22 L827.55 555.22  Z\n",
       "  \" fill=\"#ffa500\" fill-rule=\"evenodd\" fill-opacity=\"1\"/>\n",
       "<polyline clip-path=\"url(#clip272)\" style=\"stroke:#000000; stroke-width:4; stroke-opacity:1; fill:none\" points=\"\n",
       "  827.55,555.22 827.55,623.18 885.966,623.18 885.966,555.22 827.55,555.22 \n",
       "  \"/>\n",
       "<path clip-path=\"url(#clip272)\" d=\"\n",
       "M1046.61 623.18 L1046.61 623.18 L1105.03 623.18 L1105.03 623.18 L1046.61 623.18 L1046.61 623.18  Z\n",
       "  \" fill=\"#ffa500\" fill-rule=\"evenodd\" fill-opacity=\"1\"/>\n",
       "<polyline clip-path=\"url(#clip272)\" style=\"stroke:#000000; stroke-width:4; stroke-opacity:1; fill:none\" points=\"\n",
       "  1046.61,623.18 1046.61,623.18 1105.03,623.18 1046.61,623.18 \n",
       "  \"/>\n",
       "<path clip-path=\"url(#clip270)\" d=\"\n",
       "M1424.87 623.18 L2352.76 623.18 L2352.76 123.472 L1424.87 123.472  Z\n",
       "  \" fill=\"#ffffff\" fill-rule=\"evenodd\" fill-opacity=\"1\"/>\n",
       "<defs>\n",
       "  <clipPath id=\"clip273\">\n",
       "    <rect x=\"1424\" y=\"123\" width=\"929\" height=\"501\"/>\n",
       "  </clipPath>\n",
       "</defs>\n",
       "<polyline clip-path=\"url(#clip273)\" style=\"stroke:#000000; stroke-width:2; stroke-opacity:0.1; fill:none\" points=\"\n",
       "  1560.22,623.18 1560.22,123.472 \n",
       "  \"/>\n",
       "<polyline clip-path=\"url(#clip273)\" style=\"stroke:#000000; stroke-width:2; stroke-opacity:0.1; fill:none\" points=\"\n",
       "  1779.28,623.18 1779.28,123.472 \n",
       "  \"/>\n",
       "<polyline clip-path=\"url(#clip273)\" style=\"stroke:#000000; stroke-width:2; stroke-opacity:0.1; fill:none\" points=\"\n",
       "  1998.34,623.18 1998.34,123.472 \n",
       "  \"/>\n",
       "<polyline clip-path=\"url(#clip273)\" style=\"stroke:#000000; stroke-width:2; stroke-opacity:0.1; fill:none\" points=\"\n",
       "  2217.4,623.18 2217.4,123.472 \n",
       "  \"/>\n",
       "<polyline clip-path=\"url(#clip273)\" style=\"stroke:#000000; stroke-width:2; stroke-opacity:0.1; fill:none\" points=\"\n",
       "  1424.87,623.18 2352.76,623.18 \n",
       "  \"/>\n",
       "<polyline clip-path=\"url(#clip273)\" style=\"stroke:#000000; stroke-width:2; stroke-opacity:0.1; fill:none\" points=\"\n",
       "  1424.87,523.238 2352.76,523.238 \n",
       "  \"/>\n",
       "<polyline clip-path=\"url(#clip273)\" style=\"stroke:#000000; stroke-width:2; stroke-opacity:0.1; fill:none\" points=\"\n",
       "  1424.87,423.297 2352.76,423.297 \n",
       "  \"/>\n",
       "<polyline clip-path=\"url(#clip273)\" style=\"stroke:#000000; stroke-width:2; stroke-opacity:0.1; fill:none\" points=\"\n",
       "  1424.87,323.355 2352.76,323.355 \n",
       "  \"/>\n",
       "<polyline clip-path=\"url(#clip273)\" style=\"stroke:#000000; stroke-width:2; stroke-opacity:0.1; fill:none\" points=\"\n",
       "  1424.87,223.414 2352.76,223.414 \n",
       "  \"/>\n",
       "<polyline clip-path=\"url(#clip273)\" style=\"stroke:#000000; stroke-width:2; stroke-opacity:0.1; fill:none\" points=\"\n",
       "  1424.87,123.472 2352.76,123.472 \n",
       "  \"/>\n",
       "<polyline clip-path=\"url(#clip270)\" style=\"stroke:#000000; stroke-width:4; stroke-opacity:1; fill:none\" points=\"\n",
       "  1424.87,623.18 2352.76,623.18 \n",
       "  \"/>\n",
       "<polyline clip-path=\"url(#clip270)\" style=\"stroke:#000000; stroke-width:4; stroke-opacity:1; fill:none\" points=\"\n",
       "  1424.87,623.18 1424.87,123.472 \n",
       "  \"/>\n",
       "<polyline clip-path=\"url(#clip270)\" style=\"stroke:#000000; stroke-width:4; stroke-opacity:1; fill:none\" points=\"\n",
       "  1560.22,623.18 1560.22,617.183 \n",
       "  \"/>\n",
       "<polyline clip-path=\"url(#clip270)\" style=\"stroke:#000000; stroke-width:4; stroke-opacity:1; fill:none\" points=\"\n",
       "  1779.28,623.18 1779.28,617.183 \n",
       "  \"/>\n",
       "<polyline clip-path=\"url(#clip270)\" style=\"stroke:#000000; stroke-width:4; stroke-opacity:1; fill:none\" points=\"\n",
       "  1998.34,623.18 1998.34,617.183 \n",
       "  \"/>\n",
       "<polyline clip-path=\"url(#clip270)\" style=\"stroke:#000000; stroke-width:4; stroke-opacity:1; fill:none\" points=\"\n",
       "  2217.4,623.18 2217.4,617.183 \n",
       "  \"/>\n",
       "<polyline clip-path=\"url(#clip270)\" style=\"stroke:#000000; stroke-width:4; stroke-opacity:1; fill:none\" points=\"\n",
       "  1424.87,623.18 1436,623.18 \n",
       "  \"/>\n",
       "<polyline clip-path=\"url(#clip270)\" style=\"stroke:#000000; stroke-width:4; stroke-opacity:1; fill:none\" points=\"\n",
       "  1424.87,523.238 1436,523.238 \n",
       "  \"/>\n",
       "<polyline clip-path=\"url(#clip270)\" style=\"stroke:#000000; stroke-width:4; stroke-opacity:1; fill:none\" points=\"\n",
       "  1424.87,423.297 1436,423.297 \n",
       "  \"/>\n",
       "<polyline clip-path=\"url(#clip270)\" style=\"stroke:#000000; stroke-width:4; stroke-opacity:1; fill:none\" points=\"\n",
       "  1424.87,323.355 1436,323.355 \n",
       "  \"/>\n",
       "<polyline clip-path=\"url(#clip270)\" style=\"stroke:#000000; stroke-width:4; stroke-opacity:1; fill:none\" points=\"\n",
       "  1424.87,223.414 1436,223.414 \n",
       "  \"/>\n",
       "<polyline clip-path=\"url(#clip270)\" style=\"stroke:#000000; stroke-width:4; stroke-opacity:1; fill:none\" points=\"\n",
       "  1424.87,123.472 1436,123.472 \n",
       "  \"/>\n",
       "<path clip-path=\"url(#clip270)\" d=\"M 0 0 M1550.6 672.717 L1558.24 672.717 L1558.24 646.351 L1549.93 648.018 L1549.93 643.759 L1558.19 642.092 L1562.87 642.092 L1562.87 672.717 L1570.51 672.717 L1570.51 676.652 L1550.6 676.652 L1550.6 672.717 Z\" fill=\"#000000\" fill-rule=\"evenodd\" fill-opacity=\"1\" /><path clip-path=\"url(#clip270)\" d=\"M 0 0 M1773.93 672.717 L1790.25 672.717 L1790.25 676.652 L1768.31 676.652 L1768.31 672.717 Q1770.97 669.962 1775.55 665.332 Q1780.16 660.68 1781.34 659.337 Q1783.59 656.814 1784.47 655.078 Q1785.37 653.319 1785.37 651.629 Q1785.37 648.874 1783.42 647.138 Q1781.5 645.402 1778.4 645.402 Q1776.2 645.402 1773.75 646.166 Q1771.32 646.93 1768.54 648.481 L1768.54 643.759 Q1771.36 642.624 1773.82 642.046 Q1776.27 641.467 1778.31 641.467 Q1783.68 641.467 1786.87 644.152 Q1790.07 646.837 1790.07 651.328 Q1790.07 653.458 1789.26 655.379 Q1788.47 657.277 1786.36 659.87 Q1785.79 660.541 1782.68 663.758 Q1779.58 666.953 1773.93 672.717 Z\" fill=\"#000000\" fill-rule=\"evenodd\" fill-opacity=\"1\" /><path clip-path=\"url(#clip270)\" d=\"M 0 0 M2002.59 658.018 Q2005.95 658.735 2007.82 661.004 Q2009.72 663.272 2009.72 666.606 Q2009.72 671.721 2006.2 674.522 Q2002.68 677.323 1996.2 677.323 Q1994.02 677.323 1991.71 676.883 Q1989.42 676.467 1986.96 675.61 L1986.96 671.096 Q1988.91 672.231 1991.22 672.809 Q1993.54 673.388 1996.06 673.388 Q2000.46 673.388 2002.75 671.652 Q2005.07 669.916 2005.07 666.606 Q2005.07 663.55 2002.91 661.837 Q2000.78 660.101 1996.96 660.101 L1992.94 660.101 L1992.94 656.258 L1997.15 656.258 Q2000.6 656.258 2002.43 654.893 Q2004.26 653.504 2004.26 650.911 Q2004.26 648.249 2002.36 646.837 Q2000.48 645.402 1996.96 645.402 Q1995.04 645.402 1992.84 645.819 Q1990.64 646.235 1988.01 647.115 L1988.01 642.948 Q1990.67 642.208 1992.98 641.837 Q1995.32 641.467 1997.38 641.467 Q2002.7 641.467 2005.81 643.897 Q2008.91 646.305 2008.91 650.425 Q2008.91 653.295 2007.27 655.286 Q2005.62 657.254 2002.59 658.018 Z\" fill=\"#000000\" fill-rule=\"evenodd\" fill-opacity=\"1\" /><path clip-path=\"url(#clip270)\" d=\"M 0 0 M2220.41 646.166 L2208.61 664.615 L2220.41 664.615 L2220.41 646.166 M2219.18 642.092 L2225.06 642.092 L2225.06 664.615 L2230 664.615 L2230 668.504 L2225.06 668.504 L2225.06 676.652 L2220.41 676.652 L2220.41 668.504 L2204.81 668.504 L2204.81 663.99 L2219.18 642.092 Z\" fill=\"#000000\" fill-rule=\"evenodd\" fill-opacity=\"1\" /><path clip-path=\"url(#clip270)\" d=\"M 0 0 M1388.92 608.979 Q1385.31 608.979 1383.48 612.543 Q1381.68 616.085 1381.68 623.215 Q1381.68 630.321 1383.48 633.886 Q1385.31 637.427 1388.92 637.427 Q1392.56 637.427 1394.36 633.886 Q1396.19 630.321 1396.19 623.215 Q1396.19 616.085 1394.36 612.543 Q1392.56 608.979 1388.92 608.979 M1388.92 605.275 Q1394.73 605.275 1397.79 609.881 Q1400.87 614.465 1400.87 623.215 Q1400.87 631.941 1397.79 636.548 Q1394.73 641.131 1388.92 641.131 Q1383.11 641.131 1380.03 636.548 Q1376.98 631.941 1376.98 623.215 Q1376.98 614.465 1380.03 609.881 Q1383.11 605.275 1388.92 605.275 Z\" fill=\"#000000\" fill-rule=\"evenodd\" fill-opacity=\"1\" /><path clip-path=\"url(#clip270)\" d=\"M 0 0 M1358.53 536.583 L1374.85 536.583 L1374.85 540.518 L1352.9 540.518 L1352.9 536.583 Q1355.57 533.829 1360.15 529.199 Q1364.76 524.546 1365.94 523.204 Q1368.18 520.68 1369.06 518.944 Q1369.96 517.185 1369.96 515.495 Q1369.96 512.741 1368.02 511.005 Q1366.1 509.268 1363 509.268 Q1360.8 509.268 1358.34 510.032 Q1355.91 510.796 1353.14 512.347 L1353.14 507.625 Q1355.96 506.491 1358.41 505.912 Q1360.87 505.333 1362.9 505.333 Q1368.27 505.333 1371.47 508.018 Q1374.66 510.704 1374.66 515.194 Q1374.66 517.324 1373.85 519.245 Q1373.07 521.143 1370.96 523.736 Q1370.38 524.407 1367.28 527.625 Q1364.18 530.819 1358.53 536.583 Z\" fill=\"#000000\" fill-rule=\"evenodd\" fill-opacity=\"1\" /><path clip-path=\"url(#clip270)\" d=\"M 0 0 M1379.96 505.958 L1398.32 505.958 L1398.32 509.893 L1384.25 509.893 L1384.25 518.366 Q1385.26 518.018 1386.28 517.856 Q1387.3 517.671 1388.32 517.671 Q1394.11 517.671 1397.49 520.842 Q1400.87 524.014 1400.87 529.43 Q1400.87 535.009 1397.39 538.111 Q1393.92 541.19 1387.6 541.19 Q1385.43 541.19 1383.16 540.819 Q1380.91 540.449 1378.51 539.708 L1378.51 535.009 Q1380.59 536.143 1382.81 536.699 Q1385.03 537.254 1387.51 537.254 Q1391.51 537.254 1393.85 535.148 Q1396.19 533.041 1396.19 529.43 Q1396.19 525.819 1393.85 523.713 Q1391.51 521.606 1387.51 521.606 Q1385.63 521.606 1383.76 522.023 Q1381.91 522.44 1379.96 523.319 L1379.96 505.958 Z\" fill=\"#000000\" fill-rule=\"evenodd\" fill-opacity=\"1\" /><path clip-path=\"url(#clip270)\" d=\"M 0 0 M1352.95 406.017 L1371.31 406.017 L1371.31 409.952 L1357.23 409.952 L1357.23 418.424 Q1358.25 418.077 1359.27 417.915 Q1360.29 417.73 1361.31 417.73 Q1367.09 417.73 1370.47 420.901 Q1373.85 424.072 1373.85 429.489 Q1373.85 435.068 1370.38 438.169 Q1366.91 441.248 1360.59 441.248 Q1358.41 441.248 1356.14 440.878 Q1353.9 440.507 1351.49 439.767 L1351.49 435.068 Q1353.57 436.202 1355.8 436.757 Q1358.02 437.313 1360.5 437.313 Q1364.5 437.313 1366.84 435.206 Q1369.18 433.1 1369.18 429.489 Q1369.18 425.878 1366.84 423.771 Q1364.5 421.665 1360.5 421.665 Q1358.62 421.665 1356.75 422.081 Q1354.89 422.498 1352.95 423.378 L1352.95 406.017 Z\" fill=\"#000000\" fill-rule=\"evenodd\" fill-opacity=\"1\" /><path clip-path=\"url(#clip270)\" d=\"M 0 0 M1388.92 409.095 Q1385.31 409.095 1383.48 412.66 Q1381.68 416.202 1381.68 423.331 Q1381.68 430.438 1383.48 434.003 Q1385.31 437.544 1388.92 437.544 Q1392.56 437.544 1394.36 434.003 Q1396.19 430.438 1396.19 423.331 Q1396.19 416.202 1394.36 412.66 Q1392.56 409.095 1388.92 409.095 M1388.92 405.392 Q1394.73 405.392 1397.79 409.998 Q1400.87 414.582 1400.87 423.331 Q1400.87 432.058 1397.79 436.665 Q1394.73 441.248 1388.92 441.248 Q1383.11 441.248 1380.03 436.665 Q1376.98 432.058 1376.98 423.331 Q1376.98 414.582 1380.03 409.998 Q1383.11 405.392 1388.92 405.392 Z\" fill=\"#000000\" fill-rule=\"evenodd\" fill-opacity=\"1\" /><path clip-path=\"url(#clip270)\" d=\"M 0 0 M1352.63 306.075 L1374.85 306.075 L1374.85 308.066 L1362.3 340.635 L1357.42 340.635 L1369.22 310.01 L1352.63 310.01 L1352.63 306.075 Z\" fill=\"#000000\" fill-rule=\"evenodd\" fill-opacity=\"1\" /><path clip-path=\"url(#clip270)\" d=\"M 0 0 M1379.96 306.075 L1398.32 306.075 L1398.32 310.01 L1384.25 310.01 L1384.25 318.483 Q1385.26 318.135 1386.28 317.973 Q1387.3 317.788 1388.32 317.788 Q1394.11 317.788 1397.49 320.959 Q1400.87 324.131 1400.87 329.547 Q1400.87 335.126 1397.39 338.228 Q1393.92 341.307 1387.6 341.307 Q1385.43 341.307 1383.16 340.936 Q1380.91 340.566 1378.51 339.825 L1378.51 335.126 Q1380.59 336.26 1382.81 336.816 Q1385.03 337.371 1387.51 337.371 Q1391.51 337.371 1393.85 335.265 Q1396.19 333.158 1396.19 329.547 Q1396.19 325.936 1393.85 323.83 Q1391.51 321.723 1387.51 321.723 Q1385.63 321.723 1383.76 322.14 Q1381.91 322.557 1379.96 323.436 L1379.96 306.075 Z\" fill=\"#000000\" fill-rule=\"evenodd\" fill-opacity=\"1\" /><path clip-path=\"url(#clip270)\" d=\"M 0 0 M1326.93 236.759 L1334.57 236.759 L1334.57 210.393 L1326.26 212.06 L1326.26 207.8 L1334.52 206.134 L1339.2 206.134 L1339.2 236.759 L1346.84 236.759 L1346.84 240.694 L1326.93 240.694 L1326.93 236.759 Z\" fill=\"#000000\" fill-rule=\"evenodd\" fill-opacity=\"1\" /><path clip-path=\"url(#clip270)\" d=\"M 0 0 M1361.91 209.212 Q1358.3 209.212 1356.47 212.777 Q1354.66 216.319 1354.66 223.448 Q1354.66 230.555 1356.47 234.12 Q1358.3 237.661 1361.91 237.661 Q1365.54 237.661 1367.35 234.12 Q1369.18 230.555 1369.18 223.448 Q1369.18 216.319 1367.35 212.777 Q1365.54 209.212 1361.91 209.212 M1361.91 205.509 Q1367.72 205.509 1370.77 210.115 Q1373.85 214.698 1373.85 223.448 Q1373.85 232.175 1370.77 236.782 Q1367.72 241.365 1361.91 241.365 Q1356.1 241.365 1353.02 236.782 Q1349.96 232.175 1349.96 223.448 Q1349.96 214.698 1353.02 210.115 Q1356.1 205.509 1361.91 205.509 Z\" fill=\"#000000\" fill-rule=\"evenodd\" fill-opacity=\"1\" /><path clip-path=\"url(#clip270)\" d=\"M 0 0 M1388.92 209.212 Q1385.31 209.212 1383.48 212.777 Q1381.68 216.319 1381.68 223.448 Q1381.68 230.555 1383.48 234.12 Q1385.31 237.661 1388.92 237.661 Q1392.56 237.661 1394.36 234.12 Q1396.19 230.555 1396.19 223.448 Q1396.19 216.319 1394.36 212.777 Q1392.56 209.212 1388.92 209.212 M1388.92 205.509 Q1394.73 205.509 1397.79 210.115 Q1400.87 214.698 1400.87 223.448 Q1400.87 232.175 1397.79 236.782 Q1394.73 241.365 1388.92 241.365 Q1383.11 241.365 1380.03 236.782 Q1376.98 232.175 1376.98 223.448 Q1376.98 214.698 1380.03 210.115 Q1383.11 205.509 1388.92 205.509 Z\" fill=\"#000000\" fill-rule=\"evenodd\" fill-opacity=\"1\" /><path clip-path=\"url(#clip270)\" d=\"M 0 0 M1329.52 136.817 L1337.16 136.817 L1337.16 110.451 L1328.85 112.118 L1328.85 107.859 L1337.12 106.192 L1341.79 106.192 L1341.79 136.817 L1349.43 136.817 L1349.43 140.752 L1329.52 140.752 L1329.52 136.817 Z\" fill=\"#000000\" fill-rule=\"evenodd\" fill-opacity=\"1\" /><path clip-path=\"url(#clip270)\" d=\"M 0 0 M1358.53 136.817 L1374.85 136.817 L1374.85 140.752 L1352.9 140.752 L1352.9 136.817 Q1355.57 134.062 1360.15 129.433 Q1364.76 124.78 1365.94 123.437 Q1368.18 120.914 1369.06 119.178 Q1369.96 117.419 1369.96 115.729 Q1369.96 112.974 1368.02 111.238 Q1366.1 109.502 1363 109.502 Q1360.8 109.502 1358.34 110.266 Q1355.91 111.03 1353.14 112.581 L1353.14 107.859 Q1355.96 106.725 1358.41 106.146 Q1360.87 105.567 1362.9 105.567 Q1368.27 105.567 1371.47 108.252 Q1374.66 110.937 1374.66 115.428 Q1374.66 117.558 1373.85 119.479 Q1373.07 121.377 1370.96 123.97 Q1370.38 124.641 1367.28 127.859 Q1364.18 131.053 1358.53 136.817 Z\" fill=\"#000000\" fill-rule=\"evenodd\" fill-opacity=\"1\" /><path clip-path=\"url(#clip270)\" d=\"M 0 0 M1379.96 106.192 L1398.32 106.192 L1398.32 110.127 L1384.25 110.127 L1384.25 118.599 Q1385.26 118.252 1386.28 118.09 Q1387.3 117.905 1388.32 117.905 Q1394.11 117.905 1397.49 121.076 Q1400.87 124.248 1400.87 129.664 Q1400.87 135.243 1397.39 138.345 Q1393.92 141.423 1387.6 141.423 Q1385.43 141.423 1383.16 141.053 Q1380.91 140.683 1378.51 139.942 L1378.51 135.243 Q1380.59 136.377 1382.81 136.933 Q1385.03 137.488 1387.51 137.488 Q1391.51 137.488 1393.85 135.382 Q1396.19 133.275 1396.19 129.664 Q1396.19 126.053 1393.85 123.947 Q1391.51 121.84 1387.51 121.84 Q1385.63 121.84 1383.76 122.257 Q1381.91 122.674 1379.96 123.553 L1379.96 106.192 Z\" fill=\"#000000\" fill-rule=\"evenodd\" fill-opacity=\"1\" /><path clip-path=\"url(#clip270)\" d=\"M 0 0 M1719.26 18.8205 L1719.26 41.5461 L1729.55 41.5461 Q1735.26 41.5461 1738.38 38.5889 Q1741.5 35.6318 1741.5 30.163 Q1741.5 24.7348 1738.38 21.7777 Q1735.26 18.8205 1729.55 18.8205 L1719.26 18.8205 M1711.08 12.096 L1729.55 12.096 Q1739.72 12.096 1744.9 16.714 Q1750.13 21.2916 1750.13 30.163 Q1750.13 39.1155 1744.9 43.6931 Q1739.72 48.2706 1729.55 48.2706 L1719.26 48.2706 L1719.26 72.576 L1711.08 72.576 L1711.08 12.096 Z\" fill=\"#000000\" fill-rule=\"evenodd\" fill-opacity=\"1\" /><path clip-path=\"url(#clip270)\" d=\"M 0 0 M1782.78 34.1734 Q1781.52 33.4443 1780.02 33.1202 Q1778.57 32.7556 1776.78 32.7556 Q1770.46 32.7556 1767.06 36.8875 Q1763.7 40.9789 1763.7 48.6757 L1763.7 72.576 L1756.2 72.576 L1756.2 27.2059 L1763.7 27.2059 L1763.7 34.2544 Q1766.05 30.1225 1769.82 28.1376 Q1773.58 26.1121 1778.97 26.1121 Q1779.74 26.1121 1780.67 26.2337 Q1781.6 26.3147 1782.74 26.5172 L1782.78 34.1734 Z\" fill=\"#000000\" fill-rule=\"evenodd\" fill-opacity=\"1\" /><path clip-path=\"url(#clip270)\" d=\"M 0 0 M1806.35 32.4315 Q1800.36 32.4315 1796.88 37.1306 Q1793.39 41.7891 1793.39 49.9314 Q1793.39 58.0738 1796.84 62.7728 Q1800.32 67.4314 1806.35 67.4314 Q1812.31 67.4314 1815.79 62.7323 Q1819.28 58.0333 1819.28 49.9314 Q1819.28 41.8701 1815.79 37.1711 Q1812.31 32.4315 1806.35 32.4315 M1806.35 26.1121 Q1816.08 26.1121 1821.63 32.4315 Q1827.18 38.7509 1827.18 49.9314 Q1827.18 61.0714 1821.63 67.4314 Q1816.08 73.7508 1806.35 73.7508 Q1796.59 73.7508 1791.04 67.4314 Q1785.53 61.0714 1785.53 49.9314 Q1785.53 38.7509 1791.04 32.4315 Q1796.59 26.1121 1806.35 26.1121 Z\" fill=\"#000000\" fill-rule=\"evenodd\" fill-opacity=\"1\" /><path clip-path=\"url(#clip270)\" d=\"M 0 0 M1864.85 34.0924 L1864.85 9.54393 L1872.3 9.54393 L1872.3 72.576 L1864.85 72.576 L1864.85 65.7705 Q1862.5 69.8214 1858.9 71.8063 Q1855.33 73.7508 1850.31 73.7508 Q1842.08 73.7508 1836.9 67.1883 Q1831.75 60.6258 1831.75 49.9314 Q1831.75 39.2371 1836.9 32.6746 Q1842.08 26.1121 1850.31 26.1121 Q1855.33 26.1121 1858.9 28.0971 Q1862.5 30.0415 1864.85 34.0924 M1839.45 49.9314 Q1839.45 58.1548 1842.81 62.8538 Q1846.22 67.5124 1852.13 67.5124 Q1858.04 67.5124 1861.45 62.8538 Q1864.85 58.1548 1864.85 49.9314 Q1864.85 41.7081 1861.45 37.0496 Q1858.04 32.3505 1852.13 32.3505 Q1846.22 32.3505 1842.81 37.0496 Q1839.45 41.7081 1839.45 49.9314 Z\" fill=\"#000000\" fill-rule=\"evenodd\" fill-opacity=\"1\" /><path clip-path=\"url(#clip270)\" d=\"M 0 0 M1879.35 54.671 L1879.35 27.2059 L1886.81 27.2059 L1886.81 54.3874 Q1886.81 60.8284 1889.32 64.0691 Q1891.83 67.2693 1896.85 67.2693 Q1902.89 67.2693 1906.37 63.421 Q1909.9 59.5726 1909.9 52.9291 L1909.9 27.2059 L1917.35 27.2059 L1917.35 72.576 L1909.9 72.576 L1909.9 65.6084 Q1907.18 69.7404 1903.58 71.7658 Q1900.01 73.7508 1895.27 73.7508 Q1887.45 73.7508 1883.4 68.8897 Q1879.35 64.0286 1879.35 54.671 M1898.11 26.1121 L1898.11 26.1121 Z\" fill=\"#000000\" fill-rule=\"evenodd\" fill-opacity=\"1\" /><path clip-path=\"url(#clip270)\" d=\"M 0 0 M1924.88 9.54393 L1932.38 9.54393 L1932.38 46.7717 L1954.62 27.2059 L1964.14 27.2059 L1940.08 48.4326 L1965.15 72.576 L1955.43 72.576 L1932.38 50.4176 L1932.38 72.576 L1924.88 72.576 L1924.88 9.54393 Z\" fill=\"#000000\" fill-rule=\"evenodd\" fill-opacity=\"1\" /><path clip-path=\"url(#clip270)\" d=\"M 0 0 M1980.34 14.324 L1980.34 27.2059 L1995.69 27.2059 L1995.69 32.9987 L1980.34 32.9987 L1980.34 57.6282 Q1980.34 63.1779 1981.84 64.7578 Q1983.38 66.3376 1988.04 66.3376 L1995.69 66.3376 L1995.69 72.576 L1988.04 72.576 Q1979.41 72.576 1976.13 69.3758 Q1972.85 66.1351 1972.85 57.6282 L1972.85 32.9987 L1967.38 32.9987 L1967.38 27.2059 L1972.85 27.2059 L1972.85 14.324 L1980.34 14.324 Z\" fill=\"#000000\" fill-rule=\"evenodd\" fill-opacity=\"1\" /><path clip-path=\"url(#clip270)\" d=\"M 0 0 M2037.99 65.6895 L2066.54 65.6895 L2066.54 72.576 L2028.14 72.576 L2028.14 65.6895 Q2032.8 60.8689 2040.82 52.7671 Q2048.88 44.6248 2050.95 42.2752 Q2054.88 37.8598 2056.42 34.8216 Q2058 31.7429 2058 28.7857 Q2058 23.9651 2054.59 20.927 Q2051.23 17.8888 2045.8 17.8888 Q2041.96 17.8888 2037.66 19.2256 Q2033.41 20.5624 2028.55 23.2765 L2028.55 15.0127 Q2033.49 13.0277 2037.78 12.015 Q2042.08 11.0023 2045.64 11.0023 Q2055.04 11.0023 2060.63 15.7013 Q2066.22 20.4004 2066.22 28.2591 Q2066.22 31.9859 2064.8 35.3482 Q2063.43 38.6699 2059.74 43.2069 Q2058.73 44.3817 2053.3 50.0125 Q2047.87 55.6027 2037.99 65.6895 Z\" fill=\"#000000\" fill-rule=\"evenodd\" fill-opacity=\"1\" /><path clip-path=\"url(#clip270)\" d=\"M 0 0 M1789.14 713.807 L1789.14 731.663 L1797.22 731.663 Q1801.71 731.663 1804.16 729.34 Q1806.61 727.016 1806.61 722.719 Q1806.61 718.454 1804.16 716.131 Q1801.71 713.807 1797.22 713.807 L1789.14 713.807 M1782.71 708.524 L1797.22 708.524 Q1805.21 708.524 1809.29 712.152 Q1813.39 715.749 1813.39 722.719 Q1813.39 729.753 1809.29 733.35 Q1805.21 736.947 1797.22 736.947 L1789.14 736.947 L1789.14 756.044 L1782.71 756.044 L1782.71 708.524 Z\" fill=\"#000000\" fill-rule=\"evenodd\" fill-opacity=\"1\" /><path clip-path=\"url(#clip270)\" d=\"M 0 0 M1847.7 736.756 L1847.7 739.62 L1820.78 739.62 Q1821.16 745.668 1824.41 748.851 Q1827.68 752.002 1833.51 752.002 Q1836.88 752.002 1840.03 751.174 Q1843.22 750.347 1846.34 748.691 L1846.34 754.23 Q1843.18 755.566 1839.87 756.267 Q1836.56 756.967 1833.16 756.967 Q1824.63 756.967 1819.63 752.002 Q1814.67 747.036 1814.67 738.57 Q1814.67 729.817 1819.38 724.693 Q1824.12 719.537 1832.14 719.537 Q1839.33 719.537 1843.5 724.183 Q1847.7 728.799 1847.7 736.756 M1841.85 735.037 Q1841.78 730.231 1839.14 727.366 Q1836.53 724.502 1832.2 724.502 Q1827.3 724.502 1824.34 727.271 Q1821.41 730.04 1820.97 735.069 L1841.85 735.037 Z\" fill=\"#000000\" fill-rule=\"evenodd\" fill-opacity=\"1\" /><path clip-path=\"url(#clip270)\" d=\"M 0 0 M1874.5 725.87 Q1873.52 725.297 1872.34 725.043 Q1871.19 724.756 1869.79 724.756 Q1864.83 724.756 1862.15 728.003 Q1859.51 731.218 1859.51 737.265 L1859.51 756.044 L1853.62 756.044 L1853.62 720.396 L1859.51 720.396 L1859.51 725.934 Q1861.36 722.688 1864.32 721.128 Q1867.28 719.537 1871.51 719.537 Q1872.12 719.537 1872.85 719.632 Q1873.58 719.696 1874.47 719.855 L1874.5 725.87 Z\" fill=\"#000000\" fill-rule=\"evenodd\" fill-opacity=\"1\" /><path clip-path=\"url(#clip270)\" d=\"M 0 0 M1880.65 720.396 L1886.5 720.396 L1886.5 756.044 L1880.65 756.044 L1880.65 720.396 M1880.65 706.519 L1886.5 706.519 L1886.5 713.935 L1880.65 713.935 L1880.65 706.519 Z\" fill=\"#000000\" fill-rule=\"evenodd\" fill-opacity=\"1\" /><path clip-path=\"url(#clip270)\" d=\"M 0 0 M1906.46 724.502 Q1901.75 724.502 1899.01 728.194 Q1896.27 731.854 1896.27 738.252 Q1896.27 744.649 1898.98 748.341 Q1901.72 752.002 1906.46 752.002 Q1911.14 752.002 1913.88 748.31 Q1916.61 744.617 1916.61 738.252 Q1916.61 731.918 1913.88 728.226 Q1911.14 724.502 1906.46 724.502 M1906.46 719.537 Q1914.1 719.537 1918.46 724.502 Q1922.82 729.467 1922.82 738.252 Q1922.82 747.005 1918.46 752.002 Q1914.1 756.967 1906.46 756.967 Q1898.79 756.967 1894.43 752.002 Q1890.1 747.005 1890.1 738.252 Q1890.1 729.467 1894.43 724.502 Q1898.79 719.537 1906.46 719.537 Z\" fill=\"#000000\" fill-rule=\"evenodd\" fill-opacity=\"1\" /><path clip-path=\"url(#clip270)\" d=\"M 0 0 M1952.42 725.807 L1952.42 706.519 L1958.28 706.519 L1958.28 756.044 L1952.42 756.044 L1952.42 750.697 Q1950.57 753.88 1947.74 755.439 Q1944.94 756.967 1940.99 756.967 Q1934.53 756.967 1930.46 751.811 Q1926.42 746.654 1926.42 738.252 Q1926.42 729.849 1930.46 724.693 Q1934.53 719.537 1940.99 719.537 Q1944.94 719.537 1947.74 721.096 Q1950.57 722.624 1952.42 725.807 M1932.46 738.252 Q1932.46 744.713 1935.11 748.405 Q1937.78 752.065 1942.43 752.065 Q1947.07 752.065 1949.75 748.405 Q1952.42 744.713 1952.42 738.252 Q1952.42 731.791 1949.75 728.13 Q1947.07 724.438 1942.43 724.438 Q1937.78 724.438 1935.11 728.13 Q1932.46 731.791 1932.46 738.252 Z\" fill=\"#000000\" fill-rule=\"evenodd\" fill-opacity=\"1\" /><path clip-path=\"url(#clip270)\" d=\"M 0 0 M1994.91 736.756 L1994.91 739.62 L1967.98 739.62 Q1968.37 745.668 1971.61 748.851 Q1974.89 752.002 1980.72 752.002 Q1984.09 752.002 1987.24 751.174 Q1990.42 750.347 1993.54 748.691 L1993.54 754.23 Q1990.39 755.566 1987.08 756.267 Q1983.77 756.967 1980.37 756.967 Q1971.84 756.967 1966.84 752.002 Q1961.87 747.036 1961.87 738.57 Q1961.87 729.817 1966.58 724.693 Q1971.33 719.537 1979.35 719.537 Q1986.54 719.537 1990.71 724.183 Q1994.91 728.799 1994.91 736.756 M1989.06 735.037 Q1988.99 730.231 1986.35 727.366 Q1983.74 724.502 1979.41 724.502 Q1974.51 724.502 1971.55 727.271 Q1968.62 730.04 1968.18 735.069 L1989.06 735.037 Z\" fill=\"#000000\" fill-rule=\"evenodd\" fill-opacity=\"1\" /><path clip-path=\"url(#clip270)\" d=\"M 0 0 M1240.48 467.316 L1240.48 457.735 L1272.82 445.609 L1240.48 433.418 L1240.48 423.838 L1288 423.838 L1288 430.108 L1246.28 430.108 L1278.87 442.362 L1278.87 448.823 L1246.28 461.077 L1288 461.077 L1288 467.316 L1240.48 467.316 Z\" fill=\"#000000\" fill-rule=\"evenodd\" fill-opacity=\"1\" /><path clip-path=\"url(#clip270)\" d=\"M 0 0 M1268.72 387.203 L1271.58 387.203 L1271.58 414.13 Q1277.63 413.748 1280.81 410.502 Q1283.96 407.223 1283.96 401.399 Q1283.96 398.025 1283.13 394.874 Q1282.31 391.691 1280.65 388.572 L1286.19 388.572 Q1287.53 391.723 1288.23 395.033 Q1288.93 398.343 1288.93 401.749 Q1288.93 410.279 1283.96 415.276 Q1279 420.241 1270.53 420.241 Q1261.78 420.241 1256.65 415.531 Q1251.5 410.788 1251.5 402.767 Q1251.5 395.574 1256.14 391.405 Q1260.76 387.203 1268.72 387.203 M1267 393.06 Q1262.19 393.123 1259.33 395.765 Q1256.46 398.375 1256.46 402.704 Q1256.46 407.605 1259.23 410.565 Q1262 413.494 1267.03 413.939 L1267 393.06 Z\" fill=\"#000000\" fill-rule=\"evenodd\" fill-opacity=\"1\" /><path clip-path=\"url(#clip270)\" d=\"M 0 0 M1266.49 351.428 L1288 351.428 L1288 357.284 L1266.68 357.284 Q1261.62 357.284 1259.1 359.258 Q1256.59 361.231 1256.59 365.178 Q1256.59 369.92 1259.61 372.658 Q1262.64 375.395 1267.86 375.395 L1288 375.395 L1288 381.283 L1252.36 381.283 L1252.36 375.395 L1257.89 375.395 Q1254.68 373.294 1253.09 370.461 Q1251.5 367.597 1251.5 363.873 Q1251.5 357.73 1255.32 354.579 Q1259.1 351.428 1266.49 351.428 Z\" fill=\"#000000\" fill-rule=\"evenodd\" fill-opacity=\"1\" /><path clip-path=\"url(#clip270)\" d=\"M 0 0 M1269.77 321.827 Q1263.4 321.827 1259.9 324.469 Q1256.4 327.079 1256.4 331.822 Q1256.4 336.532 1259.9 339.174 Q1263.4 341.784 1269.77 341.784 Q1276.1 341.784 1279.6 339.174 Q1283.1 336.532 1283.1 331.822 Q1283.1 327.079 1279.6 324.469 Q1276.1 321.827 1269.77 321.827 M1283.58 315.971 Q1292.68 315.971 1297.11 320.013 Q1301.56 324.055 1301.56 332.394 Q1301.56 335.482 1301.09 338.219 Q1300.64 340.956 1299.69 343.534 L1293.99 343.534 Q1295.39 340.956 1296.06 338.442 Q1296.73 335.927 1296.73 333.318 Q1296.73 327.557 1293.7 324.692 Q1290.71 321.827 1284.63 321.827 L1281.73 321.827 Q1284.88 323.642 1286.44 326.474 Q1288 329.307 1288 333.254 Q1288 339.811 1283.01 343.821 Q1278.01 347.831 1269.77 347.831 Q1261.49 347.831 1256.49 343.821 Q1251.5 339.811 1251.5 333.254 Q1251.5 329.307 1253.06 326.474 Q1254.62 323.642 1257.77 321.827 L1252.36 321.827 L1252.36 315.971 L1283.58 315.971 Z\" fill=\"#000000\" fill-rule=\"evenodd\" fill-opacity=\"1\" /><path clip-path=\"url(#clip270)\" d=\"M 0 0 M1268.72 279.336 L1271.58 279.336 L1271.58 306.263 Q1277.63 305.881 1280.81 302.635 Q1283.96 299.356 1283.96 293.532 Q1283.96 290.158 1283.13 287.007 Q1282.31 283.824 1280.65 280.705 L1286.19 280.705 Q1287.53 283.856 1288.23 287.166 Q1288.93 290.476 1288.93 293.882 Q1288.93 302.412 1283.96 307.409 Q1279 312.374 1270.53 312.374 Q1261.78 312.374 1256.65 307.664 Q1251.5 302.921 1251.5 294.9 Q1251.5 287.707 1256.14 283.538 Q1260.76 279.336 1268.72 279.336 M1267 285.193 Q1262.19 285.256 1259.33 287.898 Q1256.46 290.508 1256.46 294.837 Q1256.46 299.738 1259.23 302.698 Q1262 305.627 1267.03 306.072 L1267 285.193 Z\" fill=\"#000000\" fill-rule=\"evenodd\" fill-opacity=\"1\" /><path clip-path=\"url(#clip273)\" d=\"\n",
       "M1472.6 623.18 L1472.6 623.18 L1531.01 623.18 L1531.01 623.18 L1472.6 623.18 L1472.6 623.18  Z\n",
       "  \" fill=\"#00688b\" fill-rule=\"evenodd\" fill-opacity=\"1\"/>\n",
       "<polyline clip-path=\"url(#clip273)\" style=\"stroke:#000000; stroke-width:4; stroke-opacity:1; fill:none\" points=\"\n",
       "  1472.6,623.18 1472.6,623.18 1531.01,623.18 1472.6,623.18 \n",
       "  \"/>\n",
       "<path clip-path=\"url(#clip273)\" d=\"\n",
       "M1691.66 463.273 L1691.66 623.18 L1750.07 623.18 L1750.07 463.273 L1691.66 463.273 L1691.66 463.273  Z\n",
       "  \" fill=\"#00688b\" fill-rule=\"evenodd\" fill-opacity=\"1\"/>\n",
       "<polyline clip-path=\"url(#clip273)\" style=\"stroke:#000000; stroke-width:4; stroke-opacity:1; fill:none\" points=\"\n",
       "  1691.66,463.273 1691.66,623.18 1750.07,623.18 1750.07,463.273 1691.66,463.273 \n",
       "  \"/>\n",
       "<path clip-path=\"url(#clip273)\" d=\"\n",
       "M1910.72 183.437 L1910.72 623.18 L1969.13 623.18 L1969.13 183.437 L1910.72 183.437 L1910.72 183.437  Z\n",
       "  \" fill=\"#00688b\" fill-rule=\"evenodd\" fill-opacity=\"1\"/>\n",
       "<polyline clip-path=\"url(#clip273)\" style=\"stroke:#000000; stroke-width:4; stroke-opacity:1; fill:none\" points=\"\n",
       "  1910.72,183.437 1910.72,623.18 1969.13,623.18 1969.13,183.437 1910.72,183.437 \n",
       "  \"/>\n",
       "<path clip-path=\"url(#clip273)\" d=\"\n",
       "M2129.78 623.18 L2129.78 623.18 L2188.19 623.18 L2188.19 623.18 L2129.78 623.18 L2129.78 623.18  Z\n",
       "  \" fill=\"#00688b\" fill-rule=\"evenodd\" fill-opacity=\"1\"/>\n",
       "<polyline clip-path=\"url(#clip273)\" style=\"stroke:#000000; stroke-width:4; stroke-opacity:1; fill:none\" points=\"\n",
       "  2129.78,623.18 2129.78,623.18 2188.19,623.18 2129.78,623.18 \n",
       "  \"/>\n",
       "<path clip-path=\"url(#clip273)\" d=\"\n",
       "M1531.01 623.18 L1531.01 623.18 L1589.43 623.18 L1589.43 623.18 L1531.01 623.18 L1531.01 623.18  Z\n",
       "  \" fill=\"#cd0000\" fill-rule=\"evenodd\" fill-opacity=\"1\"/>\n",
       "<polyline clip-path=\"url(#clip273)\" style=\"stroke:#000000; stroke-width:4; stroke-opacity:1; fill:none\" points=\"\n",
       "  1531.01,623.18 1531.01,623.18 1589.43,623.18 1531.01,623.18 \n",
       "  \"/>\n",
       "<path clip-path=\"url(#clip273)\" d=\"\n",
       "M1750.07 463.273 L1750.07 623.18 L1808.49 623.18 L1808.49 463.273 L1750.07 463.273 L1750.07 463.273  Z\n",
       "  \" fill=\"#cd0000\" fill-rule=\"evenodd\" fill-opacity=\"1\"/>\n",
       "<polyline clip-path=\"url(#clip273)\" style=\"stroke:#000000; stroke-width:4; stroke-opacity:1; fill:none\" points=\"\n",
       "  1750.07,463.273 1750.07,623.18 1808.49,623.18 1808.49,463.273 1750.07,463.273 \n",
       "  \"/>\n",
       "<path clip-path=\"url(#clip273)\" d=\"\n",
       "M1969.13 303.367 L1969.13 623.18 L2027.55 623.18 L2027.55 303.367 L1969.13 303.367 L1969.13 303.367  Z\n",
       "  \" fill=\"#cd0000\" fill-rule=\"evenodd\" fill-opacity=\"1\"/>\n",
       "<polyline clip-path=\"url(#clip273)\" style=\"stroke:#000000; stroke-width:4; stroke-opacity:1; fill:none\" points=\"\n",
       "  1969.13,303.367 1969.13,623.18 2027.55,623.18 2027.55,303.367 1969.13,303.367 \n",
       "  \"/>\n",
       "<path clip-path=\"url(#clip273)\" d=\"\n",
       "M2188.19 503.25 L2188.19 623.18 L2246.61 623.18 L2246.61 503.25 L2188.19 503.25 L2188.19 503.25  Z\n",
       "  \" fill=\"#cd0000\" fill-rule=\"evenodd\" fill-opacity=\"1\"/>\n",
       "<polyline clip-path=\"url(#clip273)\" style=\"stroke:#000000; stroke-width:4; stroke-opacity:1; fill:none\" points=\"\n",
       "  2188.19,503.25 2188.19,623.18 2246.61,623.18 2246.61,503.25 2188.19,503.25 \n",
       "  \"/>\n",
       "<path clip-path=\"url(#clip273)\" d=\"\n",
       "M1589.43 623.18 L1589.43 623.18 L1647.84 623.18 L1647.84 623.18 L1589.43 623.18 L1589.43 623.18  Z\n",
       "  \" fill=\"#ffa500\" fill-rule=\"evenodd\" fill-opacity=\"1\"/>\n",
       "<polyline clip-path=\"url(#clip273)\" style=\"stroke:#000000; stroke-width:4; stroke-opacity:1; fill:none\" points=\"\n",
       "  1589.43,623.18 1589.43,623.18 1647.84,623.18 1589.43,623.18 \n",
       "  \"/>\n",
       "<path clip-path=\"url(#clip273)\" d=\"\n",
       "M1808.49 623.18 L1808.49 623.18 L1866.9 623.18 L1866.9 623.18 L1808.49 623.18 L1808.49 623.18  Z\n",
       "  \" fill=\"#ffa500\" fill-rule=\"evenodd\" fill-opacity=\"1\"/>\n",
       "<polyline clip-path=\"url(#clip273)\" style=\"stroke:#000000; stroke-width:4; stroke-opacity:1; fill:none\" points=\"\n",
       "  1808.49,623.18 1808.49,623.18 1866.9,623.18 1808.49,623.18 \n",
       "  \"/>\n",
       "<path clip-path=\"url(#clip273)\" d=\"\n",
       "M2027.55 503.25 L2027.55 623.18 L2085.97 623.18 L2085.97 503.25 L2027.55 503.25 L2027.55 503.25  Z\n",
       "  \" fill=\"#ffa500\" fill-rule=\"evenodd\" fill-opacity=\"1\"/>\n",
       "<polyline clip-path=\"url(#clip273)\" style=\"stroke:#000000; stroke-width:4; stroke-opacity:1; fill:none\" points=\"\n",
       "  2027.55,503.25 2027.55,623.18 2085.97,623.18 2085.97,503.25 2027.55,503.25 \n",
       "  \"/>\n",
       "<path clip-path=\"url(#clip273)\" d=\"\n",
       "M2246.61 623.18 L2246.61 623.18 L2305.03 623.18 L2305.03 623.18 L2246.61 623.18 L2246.61 623.18  Z\n",
       "  \" fill=\"#ffa500\" fill-rule=\"evenodd\" fill-opacity=\"1\"/>\n",
       "<polyline clip-path=\"url(#clip273)\" style=\"stroke:#000000; stroke-width:4; stroke-opacity:1; fill:none\" points=\"\n",
       "  2246.61,623.18 2246.61,623.18 2305.03,623.18 2246.61,623.18 \n",
       "  \"/>\n",
       "<path clip-path=\"url(#clip270)\" d=\"\n",
       "M224.866 1423.18 L1152.76 1423.18 L1152.76 923.472 L224.866 923.472  Z\n",
       "  \" fill=\"#ffffff\" fill-rule=\"evenodd\" fill-opacity=\"1\"/>\n",
       "<defs>\n",
       "  <clipPath id=\"clip274\">\n",
       "    <rect x=\"224\" y=\"923\" width=\"929\" height=\"501\"/>\n",
       "  </clipPath>\n",
       "</defs>\n",
       "<polyline clip-path=\"url(#clip274)\" style=\"stroke:#000000; stroke-width:2; stroke-opacity:0.1; fill:none\" points=\"\n",
       "  360.22,1423.18 360.22,923.472 \n",
       "  \"/>\n",
       "<polyline clip-path=\"url(#clip274)\" style=\"stroke:#000000; stroke-width:2; stroke-opacity:0.1; fill:none\" points=\"\n",
       "  579.281,1423.18 579.281,923.472 \n",
       "  \"/>\n",
       "<polyline clip-path=\"url(#clip274)\" style=\"stroke:#000000; stroke-width:2; stroke-opacity:0.1; fill:none\" points=\"\n",
       "  798.342,1423.18 798.342,923.472 \n",
       "  \"/>\n",
       "<polyline clip-path=\"url(#clip274)\" style=\"stroke:#000000; stroke-width:2; stroke-opacity:0.1; fill:none\" points=\"\n",
       "  1017.4,1423.18 1017.4,923.472 \n",
       "  \"/>\n",
       "<polyline clip-path=\"url(#clip274)\" style=\"stroke:#000000; stroke-width:2; stroke-opacity:0.1; fill:none\" points=\"\n",
       "  224.866,1423.18 1152.76,1423.18 \n",
       "  \"/>\n",
       "<polyline clip-path=\"url(#clip274)\" style=\"stroke:#000000; stroke-width:2; stroke-opacity:0.1; fill:none\" points=\"\n",
       "  224.866,1323.24 1152.76,1323.24 \n",
       "  \"/>\n",
       "<polyline clip-path=\"url(#clip274)\" style=\"stroke:#000000; stroke-width:2; stroke-opacity:0.1; fill:none\" points=\"\n",
       "  224.866,1223.3 1152.76,1223.3 \n",
       "  \"/>\n",
       "<polyline clip-path=\"url(#clip274)\" style=\"stroke:#000000; stroke-width:2; stroke-opacity:0.1; fill:none\" points=\"\n",
       "  224.866,1123.36 1152.76,1123.36 \n",
       "  \"/>\n",
       "<polyline clip-path=\"url(#clip274)\" style=\"stroke:#000000; stroke-width:2; stroke-opacity:0.1; fill:none\" points=\"\n",
       "  224.866,1023.41 1152.76,1023.41 \n",
       "  \"/>\n",
       "<polyline clip-path=\"url(#clip274)\" style=\"stroke:#000000; stroke-width:2; stroke-opacity:0.1; fill:none\" points=\"\n",
       "  224.866,923.472 1152.76,923.472 \n",
       "  \"/>\n",
       "<polyline clip-path=\"url(#clip270)\" style=\"stroke:#000000; stroke-width:4; stroke-opacity:1; fill:none\" points=\"\n",
       "  224.866,1423.18 1152.76,1423.18 \n",
       "  \"/>\n",
       "<polyline clip-path=\"url(#clip270)\" style=\"stroke:#000000; stroke-width:4; stroke-opacity:1; fill:none\" points=\"\n",
       "  224.866,1423.18 224.866,923.472 \n",
       "  \"/>\n",
       "<polyline clip-path=\"url(#clip270)\" style=\"stroke:#000000; stroke-width:4; stroke-opacity:1; fill:none\" points=\"\n",
       "  360.22,1423.18 360.22,1417.18 \n",
       "  \"/>\n",
       "<polyline clip-path=\"url(#clip270)\" style=\"stroke:#000000; stroke-width:4; stroke-opacity:1; fill:none\" points=\"\n",
       "  579.281,1423.18 579.281,1417.18 \n",
       "  \"/>\n",
       "<polyline clip-path=\"url(#clip270)\" style=\"stroke:#000000; stroke-width:4; stroke-opacity:1; fill:none\" points=\"\n",
       "  798.342,1423.18 798.342,1417.18 \n",
       "  \"/>\n",
       "<polyline clip-path=\"url(#clip270)\" style=\"stroke:#000000; stroke-width:4; stroke-opacity:1; fill:none\" points=\"\n",
       "  1017.4,1423.18 1017.4,1417.18 \n",
       "  \"/>\n",
       "<polyline clip-path=\"url(#clip270)\" style=\"stroke:#000000; stroke-width:4; stroke-opacity:1; fill:none\" points=\"\n",
       "  224.866,1423.18 236.001,1423.18 \n",
       "  \"/>\n",
       "<polyline clip-path=\"url(#clip270)\" style=\"stroke:#000000; stroke-width:4; stroke-opacity:1; fill:none\" points=\"\n",
       "  224.866,1323.24 236.001,1323.24 \n",
       "  \"/>\n",
       "<polyline clip-path=\"url(#clip270)\" style=\"stroke:#000000; stroke-width:4; stroke-opacity:1; fill:none\" points=\"\n",
       "  224.866,1223.3 236.001,1223.3 \n",
       "  \"/>\n",
       "<polyline clip-path=\"url(#clip270)\" style=\"stroke:#000000; stroke-width:4; stroke-opacity:1; fill:none\" points=\"\n",
       "  224.866,1123.36 236.001,1123.36 \n",
       "  \"/>\n",
       "<polyline clip-path=\"url(#clip270)\" style=\"stroke:#000000; stroke-width:4; stroke-opacity:1; fill:none\" points=\"\n",
       "  224.866,1023.41 236.001,1023.41 \n",
       "  \"/>\n",
       "<polyline clip-path=\"url(#clip270)\" style=\"stroke:#000000; stroke-width:4; stroke-opacity:1; fill:none\" points=\"\n",
       "  224.866,923.472 236.001,923.472 \n",
       "  \"/>\n",
       "<path clip-path=\"url(#clip270)\" d=\"M 0 0 M350.602 1472.72 L358.24 1472.72 L358.24 1446.35 L349.93 1448.02 L349.93 1443.76 L358.194 1442.09 L362.87 1442.09 L362.87 1472.72 L370.509 1472.72 L370.509 1476.65 L350.602 1476.65 L350.602 1472.72 Z\" fill=\"#000000\" fill-rule=\"evenodd\" fill-opacity=\"1\" /><path clip-path=\"url(#clip270)\" d=\"M 0 0 M573.933 1472.72 L590.253 1472.72 L590.253 1476.65 L568.308 1476.65 L568.308 1472.72 Q570.97 1469.96 575.554 1465.33 Q580.16 1460.68 581.341 1459.34 Q583.586 1456.81 584.466 1455.08 Q585.369 1453.32 585.369 1451.63 Q585.369 1448.87 583.424 1447.14 Q581.503 1445.4 578.401 1445.4 Q576.202 1445.4 573.748 1446.17 Q571.318 1446.93 568.54 1448.48 L568.54 1443.76 Q571.364 1442.62 573.818 1442.05 Q576.271 1441.47 578.308 1441.47 Q583.679 1441.47 586.873 1444.15 Q590.068 1446.84 590.068 1451.33 Q590.068 1453.46 589.257 1455.38 Q588.47 1457.28 586.364 1459.87 Q585.785 1460.54 582.683 1463.76 Q579.582 1466.95 573.933 1472.72 Z\" fill=\"#000000\" fill-rule=\"evenodd\" fill-opacity=\"1\" /><path clip-path=\"url(#clip270)\" d=\"M 0 0 M802.589 1458.02 Q805.946 1458.74 807.821 1461 Q809.719 1463.27 809.719 1466.61 Q809.719 1471.72 806.2 1474.52 Q802.682 1477.32 796.2 1477.32 Q794.024 1477.32 791.71 1476.88 Q789.418 1476.47 786.964 1475.61 L786.964 1471.1 Q788.909 1472.23 791.224 1472.81 Q793.538 1473.39 796.061 1473.39 Q800.46 1473.39 802.751 1471.65 Q805.066 1469.92 805.066 1466.61 Q805.066 1463.55 802.913 1461.84 Q800.784 1460.1 796.964 1460.1 L792.936 1460.1 L792.936 1456.26 L797.149 1456.26 Q800.598 1456.26 802.427 1454.89 Q804.256 1453.5 804.256 1450.91 Q804.256 1448.25 802.358 1446.84 Q800.483 1445.4 796.964 1445.4 Q795.043 1445.4 792.844 1445.82 Q790.645 1446.24 788.006 1447.11 L788.006 1442.95 Q790.668 1442.21 792.983 1441.84 Q795.321 1441.47 797.381 1441.47 Q802.705 1441.47 805.807 1443.9 Q808.909 1446.3 808.909 1450.43 Q808.909 1453.3 807.265 1455.29 Q805.622 1457.25 802.589 1458.02 Z\" fill=\"#000000\" fill-rule=\"evenodd\" fill-opacity=\"1\" /><path clip-path=\"url(#clip270)\" d=\"M 0 0 M1020.41 1446.17 L1008.61 1464.61 L1020.41 1464.61 L1020.41 1446.17 M1019.18 1442.09 L1025.06 1442.09 L1025.06 1464.61 L1030 1464.61 L1030 1468.5 L1025.06 1468.5 L1025.06 1476.65 L1020.41 1476.65 L1020.41 1468.5 L1004.81 1468.5 L1004.81 1463.99 L1019.18 1442.09 Z\" fill=\"#000000\" fill-rule=\"evenodd\" fill-opacity=\"1\" /><path clip-path=\"url(#clip270)\" d=\"M 0 0 M188.922 1408.98 Q185.311 1408.98 183.482 1412.54 Q181.677 1416.08 181.677 1423.21 Q181.677 1430.32 183.482 1433.89 Q185.311 1437.43 188.922 1437.43 Q192.556 1437.43 194.362 1433.89 Q196.19 1430.32 196.19 1423.21 Q196.19 1416.08 194.362 1412.54 Q192.556 1408.98 188.922 1408.98 M188.922 1405.27 Q194.732 1405.27 197.788 1409.88 Q200.866 1414.46 200.866 1423.21 Q200.866 1431.94 197.788 1436.55 Q194.732 1441.13 188.922 1441.13 Q183.112 1441.13 180.033 1436.55 Q176.977 1431.94 176.977 1423.21 Q176.977 1414.46 180.033 1409.88 Q183.112 1405.27 188.922 1405.27 Z\" fill=\"#000000\" fill-rule=\"evenodd\" fill-opacity=\"1\" /><path clip-path=\"url(#clip270)\" d=\"M 0 0 M158.529 1336.58 L174.848 1336.58 L174.848 1340.52 L152.904 1340.52 L152.904 1336.58 Q155.566 1333.83 160.149 1329.2 Q164.755 1324.55 165.936 1323.2 Q168.181 1320.68 169.061 1318.94 Q169.964 1317.19 169.964 1315.5 Q169.964 1312.74 168.019 1311 Q166.098 1309.27 162.996 1309.27 Q160.797 1309.27 158.343 1310.03 Q155.913 1310.8 153.135 1312.35 L153.135 1307.62 Q155.959 1306.49 158.413 1305.91 Q160.866 1305.33 162.903 1305.33 Q168.274 1305.33 171.468 1308.02 Q174.663 1310.7 174.663 1315.19 Q174.663 1317.32 173.852 1319.25 Q173.065 1321.14 170.959 1323.74 Q170.38 1324.41 167.278 1327.62 Q164.177 1330.82 158.529 1336.58 Z\" fill=\"#000000\" fill-rule=\"evenodd\" fill-opacity=\"1\" /><path clip-path=\"url(#clip270)\" d=\"M 0 0 M179.964 1305.96 L198.32 1305.96 L198.32 1309.89 L184.246 1309.89 L184.246 1318.37 Q185.264 1318.02 186.283 1317.86 Q187.301 1317.67 188.32 1317.67 Q194.107 1317.67 197.487 1320.84 Q200.866 1324.01 200.866 1329.43 Q200.866 1335.01 197.394 1338.11 Q193.922 1341.19 187.602 1341.19 Q185.427 1341.19 183.158 1340.82 Q180.913 1340.45 178.505 1339.71 L178.505 1335.01 Q180.589 1336.14 182.811 1336.7 Q185.033 1337.25 187.51 1337.25 Q191.514 1337.25 193.852 1335.15 Q196.19 1333.04 196.19 1329.43 Q196.19 1325.82 193.852 1323.71 Q191.514 1321.61 187.51 1321.61 Q185.635 1321.61 183.76 1322.02 Q181.908 1322.44 179.964 1323.32 L179.964 1305.96 Z\" fill=\"#000000\" fill-rule=\"evenodd\" fill-opacity=\"1\" /><path clip-path=\"url(#clip270)\" d=\"M 0 0 M152.95 1206.02 L171.306 1206.02 L171.306 1209.95 L157.232 1209.95 L157.232 1218.42 Q158.251 1218.08 159.269 1217.91 Q160.288 1217.73 161.306 1217.73 Q167.093 1217.73 170.473 1220.9 Q173.852 1224.07 173.852 1229.49 Q173.852 1235.07 170.38 1238.17 Q166.908 1241.25 160.589 1241.25 Q158.413 1241.25 156.144 1240.88 Q153.899 1240.51 151.492 1239.77 L151.492 1235.07 Q153.575 1236.2 155.797 1236.76 Q158.019 1237.31 160.496 1237.31 Q164.501 1237.31 166.839 1235.21 Q169.177 1233.1 169.177 1229.49 Q169.177 1225.88 166.839 1223.77 Q164.501 1221.66 160.496 1221.66 Q158.621 1221.66 156.746 1222.08 Q154.894 1222.5 152.95 1223.38 L152.95 1206.02 Z\" fill=\"#000000\" fill-rule=\"evenodd\" fill-opacity=\"1\" /><path clip-path=\"url(#clip270)\" d=\"M 0 0 M188.922 1209.1 Q185.311 1209.1 183.482 1212.66 Q181.677 1216.2 181.677 1223.33 Q181.677 1230.44 183.482 1234 Q185.311 1237.54 188.922 1237.54 Q192.556 1237.54 194.362 1234 Q196.19 1230.44 196.19 1223.33 Q196.19 1216.2 194.362 1212.66 Q192.556 1209.1 188.922 1209.1 M188.922 1205.39 Q194.732 1205.39 197.788 1210 Q200.866 1214.58 200.866 1223.33 Q200.866 1232.06 197.788 1236.66 Q194.732 1241.25 188.922 1241.25 Q183.112 1241.25 180.033 1236.66 Q176.977 1232.06 176.977 1223.33 Q176.977 1214.58 180.033 1210 Q183.112 1205.39 188.922 1205.39 Z\" fill=\"#000000\" fill-rule=\"evenodd\" fill-opacity=\"1\" /><path clip-path=\"url(#clip270)\" d=\"M 0 0 M152.626 1106.08 L174.848 1106.08 L174.848 1108.07 L162.302 1140.64 L157.417 1140.64 L169.223 1110.01 L152.626 1110.01 L152.626 1106.08 Z\" fill=\"#000000\" fill-rule=\"evenodd\" fill-opacity=\"1\" /><path clip-path=\"url(#clip270)\" d=\"M 0 0 M179.964 1106.08 L198.32 1106.08 L198.32 1110.01 L184.246 1110.01 L184.246 1118.48 Q185.264 1118.14 186.283 1117.97 Q187.301 1117.79 188.32 1117.79 Q194.107 1117.79 197.487 1120.96 Q200.866 1124.13 200.866 1129.55 Q200.866 1135.13 197.394 1138.23 Q193.922 1141.31 187.602 1141.31 Q185.427 1141.31 183.158 1140.94 Q180.913 1140.57 178.505 1139.83 L178.505 1135.13 Q180.589 1136.26 182.811 1136.82 Q185.033 1137.37 187.51 1137.37 Q191.514 1137.37 193.852 1135.26 Q196.19 1133.16 196.19 1129.55 Q196.19 1125.94 193.852 1123.83 Q191.514 1121.72 187.51 1121.72 Q185.635 1121.72 183.76 1122.14 Q181.908 1122.56 179.964 1123.44 L179.964 1106.08 Z\" fill=\"#000000\" fill-rule=\"evenodd\" fill-opacity=\"1\" /><path clip-path=\"url(#clip270)\" d=\"M 0 0 M126.931 1036.76 L134.57 1036.76 L134.57 1010.39 L126.26 1012.06 L126.26 1007.8 L134.524 1006.13 L139.2 1006.13 L139.2 1036.76 L146.839 1036.76 L146.839 1040.69 L126.931 1040.69 L126.931 1036.76 Z\" fill=\"#000000\" fill-rule=\"evenodd\" fill-opacity=\"1\" /><path clip-path=\"url(#clip270)\" d=\"M 0 0 M161.908 1009.21 Q158.297 1009.21 156.468 1012.78 Q154.663 1016.32 154.663 1023.45 Q154.663 1030.55 156.468 1034.12 Q158.297 1037.66 161.908 1037.66 Q165.542 1037.66 167.348 1034.12 Q169.177 1030.55 169.177 1023.45 Q169.177 1016.32 167.348 1012.78 Q165.542 1009.21 161.908 1009.21 M161.908 1005.51 Q167.718 1005.51 170.774 1010.12 Q173.852 1014.7 173.852 1023.45 Q173.852 1032.18 170.774 1036.78 Q167.718 1041.36 161.908 1041.36 Q156.098 1041.36 153.019 1036.78 Q149.964 1032.18 149.964 1023.45 Q149.964 1014.7 153.019 1010.12 Q156.098 1005.51 161.908 1005.51 Z\" fill=\"#000000\" fill-rule=\"evenodd\" fill-opacity=\"1\" /><path clip-path=\"url(#clip270)\" d=\"M 0 0 M188.922 1009.21 Q185.311 1009.21 183.482 1012.78 Q181.677 1016.32 181.677 1023.45 Q181.677 1030.55 183.482 1034.12 Q185.311 1037.66 188.922 1037.66 Q192.556 1037.66 194.362 1034.12 Q196.19 1030.55 196.19 1023.45 Q196.19 1016.32 194.362 1012.78 Q192.556 1009.21 188.922 1009.21 M188.922 1005.51 Q194.732 1005.51 197.788 1010.12 Q200.866 1014.7 200.866 1023.45 Q200.866 1032.18 197.788 1036.78 Q194.732 1041.36 188.922 1041.36 Q183.112 1041.36 180.033 1036.78 Q176.977 1032.18 176.977 1023.45 Q176.977 1014.7 180.033 1010.12 Q183.112 1005.51 188.922 1005.51 Z\" fill=\"#000000\" fill-rule=\"evenodd\" fill-opacity=\"1\" /><path clip-path=\"url(#clip270)\" d=\"M 0 0 M129.524 936.817 L137.163 936.817 L137.163 910.451 L128.853 912.118 L128.853 907.859 L137.117 906.192 L141.792 906.192 L141.792 936.817 L149.431 936.817 L149.431 940.752 L129.524 940.752 L129.524 936.817 Z\" fill=\"#000000\" fill-rule=\"evenodd\" fill-opacity=\"1\" /><path clip-path=\"url(#clip270)\" d=\"M 0 0 M158.529 936.817 L174.848 936.817 L174.848 940.752 L152.904 940.752 L152.904 936.817 Q155.566 934.062 160.149 929.433 Q164.755 924.78 165.936 923.437 Q168.181 920.914 169.061 919.178 Q169.964 917.419 169.964 915.729 Q169.964 912.974 168.019 911.238 Q166.098 909.502 162.996 909.502 Q160.797 909.502 158.343 910.266 Q155.913 911.03 153.135 912.581 L153.135 907.859 Q155.959 906.725 158.413 906.146 Q160.866 905.567 162.903 905.567 Q168.274 905.567 171.468 908.252 Q174.663 910.937 174.663 915.428 Q174.663 917.558 173.852 919.479 Q173.065 921.377 170.959 923.97 Q170.38 924.641 167.278 927.859 Q164.177 931.053 158.529 936.817 Z\" fill=\"#000000\" fill-rule=\"evenodd\" fill-opacity=\"1\" /><path clip-path=\"url(#clip270)\" d=\"M 0 0 M179.964 906.192 L198.32 906.192 L198.32 910.127 L184.246 910.127 L184.246 918.599 Q185.264 918.252 186.283 918.09 Q187.301 917.905 188.32 917.905 Q194.107 917.905 197.487 921.076 Q200.866 924.248 200.866 929.664 Q200.866 935.243 197.394 938.345 Q193.922 941.423 187.602 941.423 Q185.427 941.423 183.158 941.053 Q180.913 940.683 178.505 939.942 L178.505 935.243 Q180.589 936.377 182.811 936.933 Q185.033 937.488 187.51 937.488 Q191.514 937.488 193.852 935.382 Q196.19 933.275 196.19 929.664 Q196.19 926.053 193.852 923.947 Q191.514 921.84 187.51 921.84 Q185.635 921.84 183.76 922.257 Q181.908 922.674 179.964 923.553 L179.964 906.192 Z\" fill=\"#000000\" fill-rule=\"evenodd\" fill-opacity=\"1\" /><path clip-path=\"url(#clip270)\" d=\"M 0 0 M518.43 818.821 L518.43 841.546 L528.719 841.546 Q534.431 841.546 537.55 838.589 Q540.67 835.632 540.67 830.163 Q540.67 824.735 537.55 821.778 Q534.431 818.821 528.719 818.821 L518.43 818.821 M510.247 812.096 L528.719 812.096 Q538.887 812.096 544.072 816.714 Q549.298 821.292 549.298 830.163 Q549.298 839.116 544.072 843.693 Q538.887 848.271 528.719 848.271 L518.43 848.271 L518.43 872.576 L510.247 872.576 L510.247 812.096 Z\" fill=\"#000000\" fill-rule=\"evenodd\" fill-opacity=\"1\" /><path clip-path=\"url(#clip270)\" d=\"M 0 0 M581.948 834.173 Q580.692 833.444 579.194 833.12 Q577.735 832.756 575.953 832.756 Q569.633 832.756 566.231 836.888 Q562.868 840.979 562.868 848.676 L562.868 872.576 L555.374 872.576 L555.374 827.206 L562.868 827.206 L562.868 834.254 Q565.218 830.123 568.985 828.138 Q572.753 826.112 578.14 826.112 Q578.91 826.112 579.842 826.234 Q580.773 826.315 581.908 826.517 L581.948 834.173 Z\" fill=\"#000000\" fill-rule=\"evenodd\" fill-opacity=\"1\" /><path clip-path=\"url(#clip270)\" d=\"M 0 0 M605.524 832.432 Q599.529 832.432 596.045 837.131 Q592.562 841.789 592.562 849.931 Q592.562 858.074 596.005 862.773 Q599.489 867.431 605.524 867.431 Q611.479 867.431 614.963 862.732 Q618.447 858.033 618.447 849.931 Q618.447 841.87 614.963 837.171 Q611.479 832.432 605.524 832.432 M605.524 826.112 Q615.247 826.112 620.796 832.432 Q626.346 838.751 626.346 849.931 Q626.346 861.071 620.796 867.431 Q615.247 873.751 605.524 873.751 Q595.762 873.751 590.212 867.431 Q584.703 861.071 584.703 849.931 Q584.703 838.751 590.212 832.432 Q595.762 826.112 605.524 826.112 Z\" fill=\"#000000\" fill-rule=\"evenodd\" fill-opacity=\"1\" /><path clip-path=\"url(#clip270)\" d=\"M 0 0 M664.02 834.092 L664.02 809.544 L671.473 809.544 L671.473 872.576 L664.02 872.576 L664.02 865.77 Q661.67 869.821 658.065 871.806 Q654.5 873.751 649.477 873.751 Q641.253 873.751 636.068 867.188 Q630.924 860.626 630.924 849.931 Q630.924 839.237 636.068 832.675 Q641.253 826.112 649.477 826.112 Q654.5 826.112 658.065 828.097 Q661.67 830.042 664.02 834.092 M638.62 849.931 Q638.62 858.155 641.983 862.854 Q645.385 867.512 651.3 867.512 Q657.214 867.512 660.617 862.854 Q664.02 858.155 664.02 849.931 Q664.02 841.708 660.617 837.05 Q657.214 832.351 651.3 832.351 Q645.385 832.351 641.983 837.05 Q638.62 841.708 638.62 849.931 Z\" fill=\"#000000\" fill-rule=\"evenodd\" fill-opacity=\"1\" /><path clip-path=\"url(#clip270)\" d=\"M 0 0 M678.522 854.671 L678.522 827.206 L685.975 827.206 L685.975 854.387 Q685.975 860.828 688.487 864.069 Q690.999 867.269 696.022 867.269 Q702.058 867.269 705.541 863.421 Q709.066 859.573 709.066 852.929 L709.066 827.206 L716.519 827.206 L716.519 872.576 L709.066 872.576 L709.066 865.608 Q706.351 869.74 702.746 871.766 Q699.181 873.751 694.442 873.751 Q686.624 873.751 682.573 868.89 Q678.522 864.029 678.522 854.671 M697.277 826.112 L697.277 826.112 Z\" fill=\"#000000\" fill-rule=\"evenodd\" fill-opacity=\"1\" /><path clip-path=\"url(#clip270)\" d=\"M 0 0 M724.054 809.544 L731.548 809.544 L731.548 846.772 L753.788 827.206 L763.307 827.206 L739.245 848.433 L764.32 872.576 L754.598 872.576 L731.548 850.418 L731.548 872.576 L724.054 872.576 L724.054 809.544 Z\" fill=\"#000000\" fill-rule=\"evenodd\" fill-opacity=\"1\" /><path clip-path=\"url(#clip270)\" d=\"M 0 0 M779.511 814.324 L779.511 827.206 L794.864 827.206 L794.864 832.999 L779.511 832.999 L779.511 857.628 Q779.511 863.178 781.01 864.758 Q782.549 866.338 787.208 866.338 L794.864 866.338 L794.864 872.576 L787.208 872.576 Q778.579 872.576 775.298 869.376 Q772.017 866.135 772.017 857.628 L772.017 832.999 L766.548 832.999 L766.548 827.206 L772.017 827.206 L772.017 814.324 L779.511 814.324 Z\" fill=\"#000000\" fill-rule=\"evenodd\" fill-opacity=\"1\" /><path clip-path=\"url(#clip270)\" d=\"M 0 0 M854.898 839.966 Q860.772 841.222 864.053 845.192 Q867.375 849.162 867.375 854.995 Q867.375 863.948 861.218 868.849 Q855.06 873.751 843.718 873.751 Q839.91 873.751 835.859 872.981 Q831.849 872.252 827.555 870.753 L827.555 862.854 Q830.957 864.839 835.008 865.851 Q839.059 866.864 843.475 866.864 Q851.171 866.864 855.182 863.826 Q859.233 860.788 859.233 854.995 Q859.233 849.648 855.465 846.65 Q851.738 843.612 845.054 843.612 L838.006 843.612 L838.006 836.888 L845.379 836.888 Q851.414 836.888 854.615 834.498 Q857.815 832.067 857.815 827.53 Q857.815 822.871 854.493 820.4 Q851.212 817.889 845.054 817.889 Q841.692 817.889 837.844 818.618 Q833.995 819.347 829.377 820.886 L829.377 813.595 Q834.036 812.299 838.087 811.65 Q842.178 811.002 845.784 811.002 Q855.101 811.002 860.529 815.256 Q865.957 819.469 865.957 826.679 Q865.957 831.702 863.081 835.186 Q860.205 838.629 854.898 839.966 Z\" fill=\"#000000\" fill-rule=\"evenodd\" fill-opacity=\"1\" /><path clip-path=\"url(#clip270)\" d=\"M 0 0 M589.14 1513.81 L589.14 1531.66 L597.224 1531.66 Q601.712 1531.66 604.163 1529.34 Q606.614 1527.02 606.614 1522.72 Q606.614 1518.45 604.163 1516.13 Q601.712 1513.81 597.224 1513.81 L589.14 1513.81 M582.711 1508.52 L597.224 1508.52 Q605.213 1508.52 609.287 1512.15 Q613.393 1515.75 613.393 1522.72 Q613.393 1529.75 609.287 1533.35 Q605.213 1536.95 597.224 1536.95 L589.14 1536.95 L589.14 1556.04 L582.711 1556.04 L582.711 1508.52 Z\" fill=\"#000000\" fill-rule=\"evenodd\" fill-opacity=\"1\" /><path clip-path=\"url(#clip270)\" d=\"M 0 0 M647.705 1536.76 L647.705 1539.62 L620.778 1539.62 Q621.16 1545.67 624.406 1548.85 Q627.684 1552 633.509 1552 Q636.883 1552 640.034 1551.17 Q643.217 1550.35 646.336 1548.69 L646.336 1554.23 Q643.185 1555.57 639.875 1556.27 Q636.565 1556.97 633.159 1556.97 Q624.629 1556.97 619.632 1552 Q614.667 1547.04 614.667 1538.57 Q614.667 1529.82 619.377 1524.69 Q624.12 1519.54 632.14 1519.54 Q639.334 1519.54 643.503 1524.18 Q647.705 1528.8 647.705 1536.76 M641.848 1535.04 Q641.784 1530.23 639.143 1527.37 Q636.533 1524.5 632.204 1524.5 Q627.302 1524.5 624.342 1527.27 Q621.414 1530.04 620.969 1535.07 L641.848 1535.04 Z\" fill=\"#000000\" fill-rule=\"evenodd\" fill-opacity=\"1\" /><path clip-path=\"url(#clip270)\" d=\"M 0 0 M674.504 1525.87 Q673.517 1525.3 672.34 1525.04 Q671.194 1524.76 669.794 1524.76 Q664.828 1524.76 662.155 1528 Q659.513 1531.22 659.513 1537.27 L659.513 1556.04 L653.625 1556.04 L653.625 1520.4 L659.513 1520.4 L659.513 1525.93 Q661.359 1522.69 664.319 1521.13 Q667.279 1519.54 671.512 1519.54 Q672.117 1519.54 672.849 1519.63 Q673.581 1519.7 674.472 1519.85 L674.504 1525.87 Z\" fill=\"#000000\" fill-rule=\"evenodd\" fill-opacity=\"1\" /><path clip-path=\"url(#clip270)\" d=\"M 0 0 M680.647 1520.4 L686.504 1520.4 L686.504 1556.04 L680.647 1556.04 L680.647 1520.4 M680.647 1506.52 L686.504 1506.52 L686.504 1513.93 L680.647 1513.93 L680.647 1506.52 Z\" fill=\"#000000\" fill-rule=\"evenodd\" fill-opacity=\"1\" /><path clip-path=\"url(#clip270)\" d=\"M 0 0 M706.46 1524.5 Q701.749 1524.5 699.012 1528.19 Q696.275 1531.85 696.275 1538.25 Q696.275 1544.65 698.98 1548.34 Q701.718 1552 706.46 1552 Q711.139 1552 713.876 1548.31 Q716.613 1544.62 716.613 1538.25 Q716.613 1531.92 713.876 1528.23 Q711.139 1524.5 706.46 1524.5 M706.46 1519.54 Q714.099 1519.54 718.459 1524.5 Q722.82 1529.47 722.82 1538.25 Q722.82 1547 718.459 1552 Q714.099 1556.97 706.46 1556.97 Q698.789 1556.97 694.429 1552 Q690.1 1547 690.1 1538.25 Q690.1 1529.47 694.429 1524.5 Q698.789 1519.54 706.46 1519.54 Z\" fill=\"#000000\" fill-rule=\"evenodd\" fill-opacity=\"1\" /><path clip-path=\"url(#clip270)\" d=\"M 0 0 M752.42 1525.81 L752.42 1506.52 L758.277 1506.52 L758.277 1556.04 L752.42 1556.04 L752.42 1550.7 Q750.574 1553.88 747.742 1555.44 Q744.941 1556.97 740.994 1556.97 Q734.533 1556.97 730.459 1551.81 Q726.416 1546.65 726.416 1538.25 Q726.416 1529.85 730.459 1524.69 Q734.533 1519.54 740.994 1519.54 Q744.941 1519.54 747.742 1521.1 Q750.574 1522.62 752.42 1525.81 M732.464 1538.25 Q732.464 1544.71 735.106 1548.4 Q737.779 1552.07 742.426 1552.07 Q747.073 1552.07 749.747 1548.4 Q752.42 1544.71 752.42 1538.25 Q752.42 1531.79 749.747 1528.13 Q747.073 1524.44 742.426 1524.44 Q737.779 1524.44 735.106 1528.13 Q732.464 1531.79 732.464 1538.25 Z\" fill=\"#000000\" fill-rule=\"evenodd\" fill-opacity=\"1\" /><path clip-path=\"url(#clip270)\" d=\"M 0 0 M794.911 1536.76 L794.911 1539.62 L767.985 1539.62 Q768.366 1545.67 771.613 1548.85 Q774.891 1552 780.716 1552 Q784.09 1552 787.241 1551.17 Q790.424 1550.35 793.543 1548.69 L793.543 1554.23 Q790.392 1555.57 787.082 1556.27 Q783.772 1556.97 780.366 1556.97 Q771.836 1556.97 766.839 1552 Q761.873 1547.04 761.873 1538.57 Q761.873 1529.82 766.584 1524.69 Q771.327 1519.54 779.347 1519.54 Q786.541 1519.54 790.71 1524.18 Q794.911 1528.8 794.911 1536.76 M789.055 1535.04 Q788.991 1530.23 786.35 1527.37 Q783.74 1524.5 779.411 1524.5 Q774.509 1524.5 771.549 1527.27 Q768.621 1530.04 768.176 1535.07 L789.055 1535.04 Z\" fill=\"#000000\" fill-rule=\"evenodd\" fill-opacity=\"1\" /><path clip-path=\"url(#clip270)\" d=\"M 0 0 M40.4842 1267.32 L40.4842 1257.74 L72.8219 1245.61 L40.4842 1233.42 L40.4842 1223.84 L88.0042 1223.84 L88.0042 1230.11 L46.277 1230.11 L78.8694 1242.36 L78.8694 1248.82 L46.277 1261.08 L88.0042 1261.08 L88.0042 1267.32 L40.4842 1267.32 Z\" fill=\"#000000\" fill-rule=\"evenodd\" fill-opacity=\"1\" /><path clip-path=\"url(#clip270)\" d=\"M 0 0 M68.7161 1187.2 L71.5806 1187.2 L71.5806 1214.13 Q77.6281 1213.75 80.8109 1210.5 Q83.9619 1207.22 83.9619 1201.4 Q83.9619 1198.02 83.1344 1194.87 Q82.3069 1191.69 80.6518 1188.57 L86.1899 1188.57 Q87.5267 1191.72 88.227 1195.03 Q88.9272 1198.34 88.9272 1201.75 Q88.9272 1210.28 83.9619 1215.28 Q78.9967 1220.24 70.5303 1220.24 Q61.7774 1220.24 56.6531 1215.53 Q51.4968 1210.79 51.4968 1202.77 Q51.4968 1195.57 56.1438 1191.4 Q60.7589 1187.2 68.7161 1187.2 M66.9973 1193.06 Q62.1912 1193.12 59.3266 1195.77 Q56.4621 1198.38 56.4621 1202.7 Q56.4621 1207.61 59.2312 1210.57 Q62.0002 1213.49 67.0292 1213.94 L66.9973 1193.06 Z\" fill=\"#000000\" fill-rule=\"evenodd\" fill-opacity=\"1\" /><path clip-path=\"url(#clip270)\" d=\"M 0 0 M66.4881 1151.43 L88.0042 1151.43 L88.0042 1157.28 L66.679 1157.28 Q61.6183 1157.28 59.1038 1159.26 Q56.5894 1161.23 56.5894 1165.18 Q56.5894 1169.92 59.6131 1172.66 Q62.6368 1175.39 67.8567 1175.39 L88.0042 1175.39 L88.0042 1181.28 L52.3562 1181.28 L52.3562 1175.39 L57.8944 1175.39 Q54.6797 1173.29 53.0883 1170.46 Q51.4968 1167.6 51.4968 1163.87 Q51.4968 1157.73 55.3163 1154.58 Q59.1038 1151.43 66.4881 1151.43 Z\" fill=\"#000000\" fill-rule=\"evenodd\" fill-opacity=\"1\" /><path clip-path=\"url(#clip270)\" d=\"M 0 0 M69.7664 1121.83 Q63.4007 1121.83 59.8996 1124.47 Q56.3984 1127.08 56.3984 1131.82 Q56.3984 1136.53 59.8996 1139.17 Q63.4007 1141.78 69.7664 1141.78 Q76.1003 1141.78 79.6014 1139.17 Q83.1026 1136.53 83.1026 1131.82 Q83.1026 1127.08 79.6014 1124.47 Q76.1003 1121.83 69.7664 1121.83 M83.58 1115.97 Q92.683 1115.97 97.1071 1120.01 Q101.563 1124.06 101.563 1132.39 Q101.563 1135.48 101.086 1138.22 Q100.64 1140.96 99.6852 1143.53 L93.9879 1143.53 Q95.3884 1140.96 96.0568 1138.44 Q96.7252 1135.93 96.7252 1133.32 Q96.7252 1127.56 93.7015 1124.69 Q90.7096 1121.83 84.6303 1121.83 L81.7339 1121.83 Q84.885 1123.64 86.4446 1126.47 Q88.0042 1129.31 88.0042 1133.25 Q88.0042 1139.81 83.0071 1143.82 Q78.01 1147.83 69.7664 1147.83 Q61.491 1147.83 56.4939 1143.82 Q51.4968 1139.81 51.4968 1133.25 Q51.4968 1129.31 53.0564 1126.47 Q54.616 1123.64 57.7671 1121.83 L52.3562 1121.83 L52.3562 1115.97 L83.58 1115.97 Z\" fill=\"#000000\" fill-rule=\"evenodd\" fill-opacity=\"1\" /><path clip-path=\"url(#clip270)\" d=\"M 0 0 M68.7161 1079.34 L71.5806 1079.34 L71.5806 1106.26 Q77.6281 1105.88 80.8109 1102.63 Q83.9619 1099.36 83.9619 1093.53 Q83.9619 1090.16 83.1344 1087.01 Q82.3069 1083.82 80.6518 1080.7 L86.1899 1080.7 Q87.5267 1083.86 88.227 1087.17 Q88.9272 1090.48 88.9272 1093.88 Q88.9272 1102.41 83.9619 1107.41 Q78.9967 1112.37 70.5303 1112.37 Q61.7774 1112.37 56.6531 1107.66 Q51.4968 1102.92 51.4968 1094.9 Q51.4968 1087.71 56.1438 1083.54 Q60.7589 1079.34 68.7161 1079.34 M66.9973 1085.19 Q62.1912 1085.26 59.3266 1087.9 Q56.4621 1090.51 56.4621 1094.84 Q56.4621 1099.74 59.2312 1102.7 Q62.0002 1105.63 67.0292 1106.07 L66.9973 1085.19 Z\" fill=\"#000000\" fill-rule=\"evenodd\" fill-opacity=\"1\" /><path clip-path=\"url(#clip274)\" d=\"\n",
       "M272.595 1063.39 L272.595 1423.18 L331.011 1423.18 L331.011 1063.39 L272.595 1063.39 L272.595 1063.39  Z\n",
       "  \" fill=\"#00688b\" fill-rule=\"evenodd\" fill-opacity=\"1\"/>\n",
       "<polyline clip-path=\"url(#clip274)\" style=\"stroke:#000000; stroke-width:4; stroke-opacity:1; fill:none\" points=\"\n",
       "  272.595,1063.39 272.595,1423.18 331.011,1423.18 331.011,1063.39 272.595,1063.39 \n",
       "  \"/>\n",
       "<path clip-path=\"url(#clip274)\" d=\"\n",
       "M491.656 1063.39 L491.656 1423.18 L550.072 1423.18 L550.072 1063.39 L491.656 1063.39 L491.656 1063.39  Z\n",
       "  \" fill=\"#00688b\" fill-rule=\"evenodd\" fill-opacity=\"1\"/>\n",
       "<polyline clip-path=\"url(#clip274)\" style=\"stroke:#000000; stroke-width:4; stroke-opacity:1; fill:none\" points=\"\n",
       "  491.656,1063.39 491.656,1423.18 550.072,1423.18 550.072,1063.39 491.656,1063.39 \n",
       "  \"/>\n",
       "<path clip-path=\"url(#clip274)\" d=\"\n",
       "M710.717 1423.18 L710.717 1423.18 L769.133 1423.18 L769.133 1423.18 L710.717 1423.18 L710.717 1423.18  Z\n",
       "  \" fill=\"#00688b\" fill-rule=\"evenodd\" fill-opacity=\"1\"/>\n",
       "<polyline clip-path=\"url(#clip274)\" style=\"stroke:#000000; stroke-width:4; stroke-opacity:1; fill:none\" points=\"\n",
       "  710.717,1423.18 710.717,1423.18 769.133,1423.18 710.717,1423.18 \n",
       "  \"/>\n",
       "<path clip-path=\"url(#clip274)\" d=\"\n",
       "M929.778 1223.3 L929.778 1423.18 L988.194 1423.18 L988.194 1223.3 L929.778 1223.3 L929.778 1223.3  Z\n",
       "  \" fill=\"#00688b\" fill-rule=\"evenodd\" fill-opacity=\"1\"/>\n",
       "<polyline clip-path=\"url(#clip274)\" style=\"stroke:#000000; stroke-width:4; stroke-opacity:1; fill:none\" points=\"\n",
       "  929.778,1223.3 929.778,1423.18 988.194,1423.18 988.194,1223.3 929.778,1223.3 \n",
       "  \"/>\n",
       "<path clip-path=\"url(#clip274)\" d=\"\n",
       "M331.011 1063.39 L331.011 1423.18 L389.428 1423.18 L389.428 1063.39 L331.011 1063.39 L331.011 1063.39  Z\n",
       "  \" fill=\"#cd0000\" fill-rule=\"evenodd\" fill-opacity=\"1\"/>\n",
       "<polyline clip-path=\"url(#clip274)\" style=\"stroke:#000000; stroke-width:4; stroke-opacity:1; fill:none\" points=\"\n",
       "  331.011,1063.39 331.011,1423.18 389.428,1423.18 389.428,1063.39 331.011,1063.39 \n",
       "  \"/>\n",
       "<path clip-path=\"url(#clip274)\" d=\"\n",
       "M550.072 1103.37 L550.072 1423.18 L608.489 1423.18 L608.489 1103.37 L550.072 1103.37 L550.072 1103.37  Z\n",
       "  \" fill=\"#cd0000\" fill-rule=\"evenodd\" fill-opacity=\"1\"/>\n",
       "<polyline clip-path=\"url(#clip274)\" style=\"stroke:#000000; stroke-width:4; stroke-opacity:1; fill:none\" points=\"\n",
       "  550.072,1103.37 550.072,1423.18 608.489,1423.18 608.489,1103.37 550.072,1103.37 \n",
       "  \"/>\n",
       "<path clip-path=\"url(#clip274)\" d=\"\n",
       "M769.133 1383.2 L769.133 1423.18 L827.55 1423.18 L827.55 1383.2 L769.133 1383.2 L769.133 1383.2  Z\n",
       "  \" fill=\"#cd0000\" fill-rule=\"evenodd\" fill-opacity=\"1\"/>\n",
       "<polyline clip-path=\"url(#clip274)\" style=\"stroke:#000000; stroke-width:4; stroke-opacity:1; fill:none\" points=\"\n",
       "  769.133,1383.2 769.133,1423.18 827.55,1423.18 827.55,1383.2 769.133,1383.2 \n",
       "  \"/>\n",
       "<path clip-path=\"url(#clip274)\" d=\"\n",
       "M988.194 1223.3 L988.194 1423.18 L1046.61 1423.18 L1046.61 1223.3 L988.194 1223.3 L988.194 1223.3  Z\n",
       "  \" fill=\"#cd0000\" fill-rule=\"evenodd\" fill-opacity=\"1\"/>\n",
       "<polyline clip-path=\"url(#clip274)\" style=\"stroke:#000000; stroke-width:4; stroke-opacity:1; fill:none\" points=\"\n",
       "  988.194,1223.3 988.194,1423.18 1046.61,1423.18 1046.61,1223.3 988.194,1223.3 \n",
       "  \"/>\n",
       "<path clip-path=\"url(#clip274)\" d=\"\n",
       "M389.428 1423.18 L389.428 1423.18 L447.844 1423.18 L447.844 1423.18 L389.428 1423.18 L389.428 1423.18  Z\n",
       "  \" fill=\"#ffa500\" fill-rule=\"evenodd\" fill-opacity=\"1\"/>\n",
       "<polyline clip-path=\"url(#clip274)\" style=\"stroke:#000000; stroke-width:4; stroke-opacity:1; fill:none\" points=\"\n",
       "  389.428,1423.18 389.428,1423.18 447.844,1423.18 389.428,1423.18 \n",
       "  \"/>\n",
       "<path clip-path=\"url(#clip274)\" d=\"\n",
       "M608.489 1383.2 L608.489 1423.18 L666.905 1423.18 L666.905 1383.2 L608.489 1383.2 L608.489 1383.2  Z\n",
       "  \" fill=\"#ffa500\" fill-rule=\"evenodd\" fill-opacity=\"1\"/>\n",
       "<polyline clip-path=\"url(#clip274)\" style=\"stroke:#000000; stroke-width:4; stroke-opacity:1; fill:none\" points=\"\n",
       "  608.489,1383.2 608.489,1423.18 666.905,1423.18 666.905,1383.2 608.489,1383.2 \n",
       "  \"/>\n",
       "<path clip-path=\"url(#clip274)\" d=\"\n",
       "M827.55 1423.18 L827.55 1423.18 L885.966 1423.18 L885.966 1423.18 L827.55 1423.18 L827.55 1423.18  Z\n",
       "  \" fill=\"#ffa500\" fill-rule=\"evenodd\" fill-opacity=\"1\"/>\n",
       "<polyline clip-path=\"url(#clip274)\" style=\"stroke:#000000; stroke-width:4; stroke-opacity:1; fill:none\" points=\"\n",
       "  827.55,1423.18 827.55,1423.18 885.966,1423.18 827.55,1423.18 \n",
       "  \"/>\n",
       "<path clip-path=\"url(#clip274)\" d=\"\n",
       "M1046.61 1423.18 L1046.61 1423.18 L1105.03 1423.18 L1105.03 1423.18 L1046.61 1423.18 L1046.61 1423.18  Z\n",
       "  \" fill=\"#ffa500\" fill-rule=\"evenodd\" fill-opacity=\"1\"/>\n",
       "<polyline clip-path=\"url(#clip274)\" style=\"stroke:#000000; stroke-width:4; stroke-opacity:1; fill:none\" points=\"\n",
       "  1046.61,1423.18 1046.61,1423.18 1105.03,1423.18 1046.61,1423.18 \n",
       "  \"/>\n",
       "<path clip-path=\"url(#clip270)\" d=\"\n",
       "M1361.6 1423.18 L2352.76 1423.18 L2352.76 847.244 L1361.6 847.244  Z\n",
       "  \" fill=\"#ffffff\" fill-rule=\"evenodd\" fill-opacity=\"1\"/>\n",
       "<defs>\n",
       "  <clipPath id=\"clip275\">\n",
       "    <rect x=\"1361\" y=\"847\" width=\"992\" height=\"577\"/>\n",
       "  </clipPath>\n",
       "</defs>\n",
       "<path clip-path=\"url(#clip275)\" d=\"\n",
       "M-17866.9 1174.02 L-17866.9 1406.88 L-17602.6 1406.88 L-17602.6 1174.02 L-17866.9 1174.02 L-17866.9 1174.02  Z\n",
       "  \" fill=\"#00688b\" fill-rule=\"evenodd\" fill-opacity=\"1\"/>\n",
       "<polyline clip-path=\"url(#clip275)\" style=\"stroke:#000000; stroke-width:4; stroke-opacity:1; fill:none\" points=\"\n",
       "  -17866.9,1174.02 -17866.9,1406.88 -17602.6,1406.88 -17602.6,1174.02 -17866.9,1174.02 \n",
       "  \"/>\n",
       "<path clip-path=\"url(#clip275)\" d=\"\n",
       "M-16875.7 1406.88 L-16875.7 1406.88 L-16611.4 1406.88 L-16611.4 1406.88 L-16875.7 1406.88 L-16875.7 1406.88  Z\n",
       "  \" fill=\"#00688b\" fill-rule=\"evenodd\" fill-opacity=\"1\"/>\n",
       "<polyline clip-path=\"url(#clip275)\" style=\"stroke:#000000; stroke-width:4; stroke-opacity:1; fill:none\" points=\"\n",
       "  -16875.7,1406.88 -16875.7,1406.88 -16611.4,1406.88 -16875.7,1406.88 \n",
       "  \"/>\n",
       "<path clip-path=\"url(#clip275)\" d=\"\n",
       "M-15884.5 1302.09 L-15884.5 1406.88 L-15620.2 1406.88 L-15620.2 1302.09 L-15884.5 1302.09 L-15884.5 1302.09  Z\n",
       "  \" fill=\"#00688b\" fill-rule=\"evenodd\" fill-opacity=\"1\"/>\n",
       "<polyline clip-path=\"url(#clip275)\" style=\"stroke:#000000; stroke-width:4; stroke-opacity:1; fill:none\" points=\"\n",
       "  -15884.5,1302.09 -15884.5,1406.88 -15620.2,1406.88 -15620.2,1302.09 -15884.5,1302.09 \n",
       "  \"/>\n",
       "<path clip-path=\"url(#clip275)\" d=\"\n",
       "M-14893.4 929.521 L-14893.4 1406.88 L-14629.1 1406.88 L-14629.1 929.521 L-14893.4 929.521 L-14893.4 929.521  Z\n",
       "  \" fill=\"#00688b\" fill-rule=\"evenodd\" fill-opacity=\"1\"/>\n",
       "<polyline clip-path=\"url(#clip275)\" style=\"stroke:#000000; stroke-width:4; stroke-opacity:1; fill:none\" points=\"\n",
       "  -14893.4,929.521 -14893.4,1406.88 -14629.1,1406.88 -14629.1,929.521 -14893.4,929.521 \n",
       "  \"/>\n",
       "<path clip-path=\"url(#clip275)\" d=\"\n",
       "M-17602.6 1212.83 L-17602.6 1406.88 L-17338.2 1406.88 L-17338.2 1212.83 L-17602.6 1212.83 L-17602.6 1212.83  Z\n",
       "  \" fill=\"#cd0000\" fill-rule=\"evenodd\" fill-opacity=\"1\"/>\n",
       "<polyline clip-path=\"url(#clip275)\" style=\"stroke:#000000; stroke-width:4; stroke-opacity:1; fill:none\" points=\"\n",
       "  -17602.6,1212.83 -17602.6,1406.88 -17338.2,1406.88 -17338.2,1212.83 -17602.6,1212.83 \n",
       "  \"/>\n",
       "<path clip-path=\"url(#clip275)\" d=\"\n",
       "M-16611.4 1368.07 L-16611.4 1406.88 L-16347.1 1406.88 L-16347.1 1368.07 L-16611.4 1368.07 L-16611.4 1368.07  Z\n",
       "  \" fill=\"#cd0000\" fill-rule=\"evenodd\" fill-opacity=\"1\"/>\n",
       "<polyline clip-path=\"url(#clip275)\" style=\"stroke:#000000; stroke-width:4; stroke-opacity:1; fill:none\" points=\"\n",
       "  -16611.4,1368.07 -16611.4,1406.88 -16347.1,1406.88 -16347.1,1368.07 -16611.4,1368.07 \n",
       "  \"/>\n",
       "<path clip-path=\"url(#clip275)\" d=\"\n",
       "M-15620.2 1368.07 L-15620.2 1406.88 L-15355.9 1406.88 L-15355.9 1368.07 L-15620.2 1368.07 L-15620.2 1368.07  Z\n",
       "  \" fill=\"#cd0000\" fill-rule=\"evenodd\" fill-opacity=\"1\"/>\n",
       "<polyline clip-path=\"url(#clip275)\" style=\"stroke:#000000; stroke-width:4; stroke-opacity:1; fill:none\" points=\"\n",
       "  -15620.2,1368.07 -15620.2,1406.88 -15355.9,1406.88 -15355.9,1368.07 -15620.2,1368.07 \n",
       "  \"/>\n",
       "<path clip-path=\"url(#clip275)\" d=\"\n",
       "M-14629.1 863.544 L-14629.1 1406.88 L-14364.8 1406.88 L-14364.8 863.544 L-14629.1 863.544 L-14629.1 863.544  Z\n",
       "  \" fill=\"#cd0000\" fill-rule=\"evenodd\" fill-opacity=\"1\"/>\n",
       "<polyline clip-path=\"url(#clip275)\" style=\"stroke:#000000; stroke-width:4; stroke-opacity:1; fill:none\" points=\"\n",
       "  -14629.1,863.544 -14629.1,1406.88 -14364.8,1406.88 -14364.8,863.544 -14629.1,863.544 \n",
       "  \"/>\n",
       "<path clip-path=\"url(#clip275)\" d=\"\n",
       "M-17338.2 1368.07 L-17338.2 1406.88 L-17073.9 1406.88 L-17073.9 1368.07 L-17338.2 1368.07 L-17338.2 1368.07  Z\n",
       "  \" fill=\"#ffa500\" fill-rule=\"evenodd\" fill-opacity=\"1\"/>\n",
       "<polyline clip-path=\"url(#clip275)\" style=\"stroke:#000000; stroke-width:4; stroke-opacity:1; fill:none\" points=\"\n",
       "  -17338.2,1368.07 -17338.2,1406.88 -17073.9,1406.88 -17073.9,1368.07 -17338.2,1368.07 \n",
       "  \"/>\n",
       "<path clip-path=\"url(#clip275)\" d=\"\n",
       "M-16347.1 1406.88 L-16347.1 1406.88 L-16082.8 1406.88 L-16082.8 1406.88 L-16347.1 1406.88 L-16347.1 1406.88  Z\n",
       "  \" fill=\"#ffa500\" fill-rule=\"evenodd\" fill-opacity=\"1\"/>\n",
       "<polyline clip-path=\"url(#clip275)\" style=\"stroke:#000000; stroke-width:4; stroke-opacity:1; fill:none\" points=\"\n",
       "  -16347.1,1406.88 -16347.1,1406.88 -16082.8,1406.88 -16347.1,1406.88 \n",
       "  \"/>\n",
       "<path clip-path=\"url(#clip275)\" d=\"\n",
       "M-15355.9 1340.9 L-15355.9 1406.88 L-15091.6 1406.88 L-15091.6 1340.9 L-15355.9 1340.9 L-15355.9 1340.9  Z\n",
       "  \" fill=\"#ffa500\" fill-rule=\"evenodd\" fill-opacity=\"1\"/>\n",
       "<polyline clip-path=\"url(#clip275)\" style=\"stroke:#000000; stroke-width:4; stroke-opacity:1; fill:none\" points=\"\n",
       "  -15355.9,1340.9 -15355.9,1406.88 -15091.6,1406.88 -15091.6,1340.9 -15355.9,1340.9 \n",
       "  \"/>\n",
       "<path clip-path=\"url(#clip275)\" d=\"\n",
       "M-14364.8 1406.88 L-14364.8 1406.88 L-14100.5 1406.88 L-14100.5 1406.88 L-14364.8 1406.88 L-14364.8 1406.88  Z\n",
       "  \" fill=\"#ffa500\" fill-rule=\"evenodd\" fill-opacity=\"1\"/>\n",
       "<polyline clip-path=\"url(#clip275)\" style=\"stroke:#000000; stroke-width:4; stroke-opacity:1; fill:none\" points=\"\n",
       "  -14364.8,1406.88 -14364.8,1406.88 -14100.5,1406.88 -14364.8,1406.88 \n",
       "  \"/>\n",
       "<path clip-path=\"url(#clip270)\" d=\"\n",
       "M1433.6 1172.68 L2067.02 1172.68 L2067.02 930.764 L1433.6 930.764  Z\n",
       "  \" fill=\"#ffffff\" fill-rule=\"evenodd\" fill-opacity=\"1\"/>\n",
       "<polyline clip-path=\"url(#clip270)\" style=\"stroke:#000000; stroke-width:4; stroke-opacity:1; fill:none\" points=\"\n",
       "  1433.6,1172.68 2067.02,1172.68 2067.02,930.764 1433.6,930.764 1433.6,1172.68 \n",
       "  \"/>\n",
       "<path clip-path=\"url(#clip270)\" d=\"\n",
       "M1457.6 1015.44 L1601.6 1015.44 L1601.6 967.052 L1457.6 967.052 L1457.6 1015.44  Z\n",
       "  \" fill=\"#00688b\" fill-rule=\"evenodd\" fill-opacity=\"1\"/>\n",
       "<polyline clip-path=\"url(#clip270)\" style=\"stroke:#000000; stroke-width:4; stroke-opacity:1; fill:none\" points=\"\n",
       "  1457.6,1015.44 1601.6,1015.44 1601.6,967.052 1457.6,967.052 1457.6,1015.44 \n",
       "  \"/>\n",
       "<path clip-path=\"url(#clip270)\" d=\"M 0 0 M1630.27 977.807 L1630.27 990.793 L1636.15 990.793 Q1639.42 990.793 1641.2 989.103 Q1642.98 987.413 1642.98 984.288 Q1642.98 981.186 1641.2 979.496 Q1639.42 977.807 1636.15 977.807 L1630.27 977.807 M1625.6 973.964 L1636.15 973.964 Q1641.96 973.964 1644.93 976.603 Q1647.91 979.219 1647.91 984.288 Q1647.91 989.404 1644.93 992.02 Q1641.96 994.635 1636.15 994.635 L1630.27 994.635 L1630.27 1008.52 L1625.6 1008.52 L1625.6 973.964 Z\" fill=\"#000000\" fill-rule=\"evenodd\" fill-opacity=\"1\" /><path clip-path=\"url(#clip270)\" d=\"M 0 0 M1666.57 986.58 Q1665.85 986.163 1665 985.978 Q1664.16 985.77 1663.14 985.77 Q1659.53 985.77 1657.59 988.131 Q1655.67 990.469 1655.67 994.867 L1655.67 1008.52 L1651.39 1008.52 L1651.39 982.598 L1655.67 982.598 L1655.67 986.626 Q1657.01 984.265 1659.16 983.131 Q1661.32 981.973 1664.39 981.973 Q1664.83 981.973 1665.37 982.043 Q1665.9 982.089 1666.55 982.205 L1666.57 986.58 Z\" fill=\"#000000\" fill-rule=\"evenodd\" fill-opacity=\"1\" /><path clip-path=\"url(#clip270)\" d=\"M 0 0 M1680.04 985.584 Q1676.62 985.584 1674.63 988.27 Q1672.63 990.932 1672.63 995.584 Q1672.63 1000.24 1674.6 1002.92 Q1676.59 1005.58 1680.04 1005.58 Q1683.45 1005.58 1685.44 1002.9 Q1687.43 1000.21 1687.43 995.584 Q1687.43 990.978 1685.44 988.293 Q1683.45 985.584 1680.04 985.584 M1680.04 981.973 Q1685.6 981.973 1688.77 985.584 Q1691.94 989.195 1691.94 995.584 Q1691.94 1001.95 1688.77 1005.58 Q1685.6 1009.2 1680.04 1009.2 Q1674.46 1009.2 1671.29 1005.58 Q1668.14 1001.95 1668.14 995.584 Q1668.14 989.195 1671.29 985.584 Q1674.46 981.973 1680.04 981.973 Z\" fill=\"#000000\" fill-rule=\"evenodd\" fill-opacity=\"1\" /><path clip-path=\"url(#clip270)\" d=\"M 0 0 M1713.47 986.533 L1713.47 972.506 L1717.73 972.506 L1717.73 1008.52 L1713.47 1008.52 L1713.47 1004.64 Q1712.13 1006.95 1710.07 1008.08 Q1708.03 1009.2 1705.16 1009.2 Q1700.46 1009.2 1697.5 1005.45 Q1694.56 1001.7 1694.56 995.584 Q1694.56 989.473 1697.5 985.723 Q1700.46 981.973 1705.16 981.973 Q1708.03 981.973 1710.07 983.108 Q1712.13 984.219 1713.47 986.533 M1698.95 995.584 Q1698.95 1000.28 1700.88 1002.97 Q1702.82 1005.63 1706.2 1005.63 Q1709.58 1005.63 1711.52 1002.97 Q1713.47 1000.28 1713.47 995.584 Q1713.47 990.885 1711.52 988.223 Q1709.58 985.538 1706.2 985.538 Q1702.82 985.538 1700.88 988.223 Q1698.95 990.885 1698.95 995.584 Z\" fill=\"#000000\" fill-rule=\"evenodd\" fill-opacity=\"1\" /><path clip-path=\"url(#clip270)\" d=\"M 0 0 M1721.76 998.293 L1721.76 982.598 L1726.01 982.598 L1726.01 998.131 Q1726.01 1001.81 1727.45 1003.66 Q1728.88 1005.49 1731.76 1005.49 Q1735.2 1005.49 1737.19 1003.29 Q1739.21 1001.09 1739.21 997.297 L1739.21 982.598 L1743.47 982.598 L1743.47 1008.52 L1739.21 1008.52 L1739.21 1004.54 Q1737.66 1006.9 1735.6 1008.06 Q1733.56 1009.2 1730.85 1009.2 Q1726.38 1009.2 1724.07 1006.42 Q1721.76 1003.64 1721.76 998.293 M1732.47 981.973 L1732.47 981.973 Z\" fill=\"#000000\" fill-rule=\"evenodd\" fill-opacity=\"1\" /><path clip-path=\"url(#clip270)\" d=\"M 0 0 M1747.77 972.506 L1752.06 972.506 L1752.06 993.779 L1764.76 982.598 L1770.2 982.598 L1756.45 994.728 L1770.78 1008.52 L1765.23 1008.52 L1752.06 995.862 L1752.06 1008.52 L1747.77 1008.52 L1747.77 972.506 Z\" fill=\"#000000\" fill-rule=\"evenodd\" fill-opacity=\"1\" /><path clip-path=\"url(#clip270)\" d=\"M 0 0 M1779.46 975.237 L1779.46 982.598 L1788.24 982.598 L1788.24 985.908 L1779.46 985.908 L1779.46 999.982 Q1779.46 1003.15 1780.32 1004.06 Q1781.2 1004.96 1783.86 1004.96 L1788.24 1004.96 L1788.24 1008.52 L1783.86 1008.52 Q1778.93 1008.52 1777.06 1006.7 Q1775.18 1004.84 1775.18 999.982 L1775.18 985.908 L1772.06 985.908 L1772.06 982.598 L1775.18 982.598 L1775.18 975.237 L1779.46 975.237 Z\" fill=\"#000000\" fill-rule=\"evenodd\" fill-opacity=\"1\" /><path clip-path=\"url(#clip270)\" d=\"M 0 0 M1792.7 982.598 L1796.96 982.598 L1796.96 1008.52 L1792.7 1008.52 L1792.7 982.598 M1792.7 972.506 L1796.96 972.506 L1796.96 977.899 L1792.7 977.899 L1792.7 972.506 Z\" fill=\"#000000\" fill-rule=\"evenodd\" fill-opacity=\"1\" /><path clip-path=\"url(#clip270)\" d=\"M 0 0 M1811.48 985.584 Q1808.05 985.584 1806.06 988.27 Q1804.07 990.932 1804.07 995.584 Q1804.07 1000.24 1806.04 1002.92 Q1808.03 1005.58 1811.48 1005.58 Q1814.88 1005.58 1816.87 1002.9 Q1818.86 1000.21 1818.86 995.584 Q1818.86 990.978 1816.87 988.293 Q1814.88 985.584 1811.48 985.584 M1811.48 981.973 Q1817.03 981.973 1820.2 985.584 Q1823.37 989.195 1823.37 995.584 Q1823.37 1001.95 1820.2 1005.58 Q1817.03 1009.2 1811.48 1009.2 Q1805.9 1009.2 1802.73 1005.58 Q1799.58 1001.95 1799.58 995.584 Q1799.58 989.195 1802.73 985.584 Q1805.9 981.973 1811.48 981.973 Z\" fill=\"#000000\" fill-rule=\"evenodd\" fill-opacity=\"1\" /><path clip-path=\"url(#clip270)\" d=\"M 0 0 M1849.39 992.876 L1849.39 1008.52 L1845.13 1008.52 L1845.13 993.015 Q1845.13 989.334 1843.7 987.506 Q1842.26 985.677 1839.39 985.677 Q1835.94 985.677 1833.95 987.876 Q1831.96 990.075 1831.96 993.871 L1831.96 1008.52 L1827.68 1008.52 L1827.68 982.598 L1831.96 982.598 L1831.96 986.626 Q1833.49 984.288 1835.55 983.131 Q1837.63 981.973 1840.34 981.973 Q1844.81 981.973 1847.1 984.751 Q1849.39 987.506 1849.39 992.876 Z\" fill=\"#000000\" fill-rule=\"evenodd\" fill-opacity=\"1\" /><path clip-path=\"url(#clip270)\" d=\"M 0 0 M1870.39 983.362 L1870.39 987.39 Q1868.58 986.464 1866.64 986.001 Q1864.69 985.538 1862.61 985.538 Q1859.44 985.538 1857.84 986.51 Q1856.27 987.483 1856.27 989.427 Q1856.27 990.908 1857.4 991.765 Q1858.54 992.598 1861.96 993.362 L1863.42 993.686 Q1867.96 994.658 1869.86 996.441 Q1871.78 998.2 1871.78 1001.37 Q1871.78 1004.98 1868.91 1007.09 Q1866.06 1009.2 1861.06 1009.2 Q1858.98 1009.2 1856.71 1008.78 Q1854.46 1008.39 1851.96 1007.58 L1851.96 1003.18 Q1854.32 1004.4 1856.62 1005.03 Q1858.91 1005.63 1861.15 1005.63 Q1864.16 1005.63 1865.78 1004.61 Q1867.4 1003.57 1867.4 1001.7 Q1867.4 999.959 1866.22 999.033 Q1865.06 998.107 1861.11 997.251 L1859.62 996.904 Q1855.67 996.07 1853.91 994.358 Q1852.15 992.621 1852.15 989.612 Q1852.15 985.955 1854.74 983.964 Q1857.33 981.973 1862.1 981.973 Q1864.46 981.973 1866.55 982.321 Q1868.63 982.668 1870.39 983.362 Z\" fill=\"#000000\" fill-rule=\"evenodd\" fill-opacity=\"1\" /><path clip-path=\"url(#clip270)\" d=\"M 0 0 M1896.43 987.575 Q1898.03 984.705 1900.25 983.339 Q1902.47 981.973 1905.48 981.973 Q1909.53 981.973 1911.73 984.821 Q1913.93 987.645 1913.93 992.876 L1913.93 1008.52 L1909.65 1008.52 L1909.65 993.015 Q1909.65 989.288 1908.33 987.483 Q1907.01 985.677 1904.3 985.677 Q1900.99 985.677 1899.07 987.876 Q1897.15 990.075 1897.15 993.871 L1897.15 1008.52 L1892.87 1008.52 L1892.87 993.015 Q1892.87 989.265 1891.55 987.483 Q1890.23 985.677 1887.47 985.677 Q1884.21 985.677 1882.29 987.899 Q1880.37 990.098 1880.37 993.871 L1880.37 1008.52 L1876.08 1008.52 L1876.08 982.598 L1880.37 982.598 L1880.37 986.626 Q1881.82 984.242 1883.86 983.108 Q1885.9 981.973 1888.7 981.973 Q1891.52 981.973 1893.49 983.408 Q1895.48 984.844 1896.43 987.575 Z\" fill=\"#000000\" fill-rule=\"evenodd\" fill-opacity=\"1\" /><path clip-path=\"url(#clip270)\" d=\"M 0 0 M1940.57 994.496 L1940.57 996.58 L1920.99 996.58 Q1921.27 1000.98 1923.63 1003.29 Q1926.01 1005.58 1930.25 1005.58 Q1932.7 1005.58 1934.99 1004.98 Q1937.31 1004.38 1939.58 1003.18 L1939.58 1007.2 Q1937.29 1008.18 1934.88 1008.69 Q1932.47 1009.2 1929.99 1009.2 Q1923.79 1009.2 1920.16 1005.58 Q1916.55 1001.97 1916.55 995.816 Q1916.55 989.45 1919.97 985.723 Q1923.42 981.973 1929.25 981.973 Q1934.49 981.973 1937.52 985.353 Q1940.57 988.709 1940.57 994.496 M1936.31 993.246 Q1936.27 989.751 1934.35 987.668 Q1932.45 985.584 1929.3 985.584 Q1925.74 985.584 1923.58 987.598 Q1921.45 989.612 1921.13 993.27 L1936.31 993.246 Z\" fill=\"#000000\" fill-rule=\"evenodd\" fill-opacity=\"1\" /><path clip-path=\"url(#clip270)\" d=\"M 0 0 M1966.59 992.876 L1966.59 1008.52 L1962.33 1008.52 L1962.33 993.015 Q1962.33 989.334 1960.9 987.506 Q1959.46 985.677 1956.59 985.677 Q1953.14 985.677 1951.15 987.876 Q1949.16 990.075 1949.16 993.871 L1949.16 1008.52 L1944.88 1008.52 L1944.88 982.598 L1949.16 982.598 L1949.16 986.626 Q1950.69 984.288 1952.75 983.131 Q1954.83 981.973 1957.54 981.973 Q1962.01 981.973 1964.3 984.751 Q1966.59 987.506 1966.59 992.876 Z\" fill=\"#000000\" fill-rule=\"evenodd\" fill-opacity=\"1\" /><path clip-path=\"url(#clip270)\" d=\"M 0 0 M1988.12 995.26 Q1988.12 990.631 1986.2 988.084 Q1984.3 985.538 1980.85 985.538 Q1977.43 985.538 1975.5 988.084 Q1973.61 990.631 1973.61 995.26 Q1973.61 999.867 1975.5 1002.41 Q1977.43 1004.96 1980.85 1004.96 Q1984.3 1004.96 1986.2 1002.41 Q1988.12 999.867 1988.12 995.26 M1992.38 1005.31 Q1992.38 1011.93 1989.44 1015.14 Q1986.5 1018.39 1980.43 1018.39 Q1978.19 1018.39 1976.2 1018.04 Q1974.21 1017.71 1972.33 1017.02 L1972.33 1012.88 Q1974.21 1013.89 1976.04 1014.38 Q1977.86 1014.87 1979.76 1014.87 Q1983.95 1014.87 1986.04 1012.67 Q1988.12 1010.49 1988.12 1006.07 L1988.12 1003.96 Q1986.8 1006.26 1984.74 1007.39 Q1982.68 1008.52 1979.81 1008.52 Q1975.04 1008.52 1972.12 1004.89 Q1969.21 1001.26 1969.21 995.26 Q1969.21 989.242 1972.12 985.608 Q1975.04 981.973 1979.81 981.973 Q1982.68 981.973 1984.74 983.108 Q1986.8 984.242 1988.12 986.533 L1988.12 982.598 L1992.38 982.598 L1992.38 1005.31 Z\" fill=\"#000000\" fill-rule=\"evenodd\" fill-opacity=\"1\" /><path clip-path=\"url(#clip270)\" d=\"M 0 0 M2019.02 994.496 L2019.02 996.58 L1999.44 996.58 Q1999.72 1000.98 2002.08 1003.29 Q2004.46 1005.58 2008.7 1005.58 Q2011.15 1005.58 2013.44 1004.98 Q2015.76 1004.38 2018.03 1003.18 L2018.03 1007.2 Q2015.74 1008.18 2013.33 1008.69 Q2010.92 1009.2 2008.44 1009.2 Q2002.24 1009.2 1998.61 1005.58 Q1994.99 1001.97 1994.99 995.816 Q1994.99 989.45 1998.42 985.723 Q2001.87 981.973 2007.7 981.973 Q2012.93 981.973 2015.97 985.353 Q2019.02 988.709 2019.02 994.496 M2014.76 993.246 Q2014.72 989.751 2012.8 987.668 Q2010.9 985.584 2007.75 985.584 Q2004.18 985.584 2002.03 987.598 Q1999.9 989.612 1999.58 993.27 L2014.76 993.246 Z\" fill=\"#000000\" fill-rule=\"evenodd\" fill-opacity=\"1\" /><path clip-path=\"url(#clip270)\" d=\"\n",
       "M1457.6 1075.92 L1601.6 1075.92 L1601.6 1027.53 L1457.6 1027.53 L1457.6 1075.92  Z\n",
       "  \" fill=\"#cd0000\" fill-rule=\"evenodd\" fill-opacity=\"1\"/>\n",
       "<polyline clip-path=\"url(#clip270)\" style=\"stroke:#000000; stroke-width:4; stroke-opacity:1; fill:none\" points=\"\n",
       "  1457.6,1075.92 1601.6,1075.92 1601.6,1027.53 1457.6,1027.53 1457.6,1075.92 \n",
       "  \"/>\n",
       "<path clip-path=\"url(#clip270)\" d=\"M 0 0 M1625.6 1034.44 L1631.89 1034.44 L1647.22 1063.36 L1647.22 1034.44 L1651.76 1034.44 L1651.76 1069 L1645.46 1069 L1630.14 1040.09 L1630.14 1069 L1625.6 1069 L1625.6 1034.44 Z\" fill=\"#000000\" fill-rule=\"evenodd\" fill-opacity=\"1\" /><path clip-path=\"url(#clip270)\" d=\"M 0 0 M1668.01 1055.97 Q1662.84 1055.97 1660.85 1057.15 Q1658.86 1058.33 1658.86 1061.18 Q1658.86 1063.45 1660.34 1064.79 Q1661.85 1066.11 1664.42 1066.11 Q1667.96 1066.11 1670.09 1063.61 Q1672.24 1061.09 1672.24 1056.92 L1672.24 1055.97 L1668.01 1055.97 M1676.5 1054.21 L1676.5 1069 L1672.24 1069 L1672.24 1065.07 Q1670.78 1067.43 1668.61 1068.56 Q1666.43 1069.68 1663.28 1069.68 Q1659.3 1069.68 1656.94 1067.45 Q1654.6 1065.21 1654.6 1061.46 Q1654.6 1057.08 1657.52 1054.86 Q1660.46 1052.64 1666.27 1052.64 L1672.24 1052.64 L1672.24 1052.22 Q1672.24 1049.28 1670.3 1047.68 Q1668.38 1046.06 1664.88 1046.06 Q1662.66 1046.06 1660.55 1046.6 Q1658.45 1047.13 1656.5 1048.19 L1656.5 1044.26 Q1658.84 1043.36 1661.04 1042.92 Q1663.24 1042.45 1665.32 1042.45 Q1670.95 1042.45 1673.72 1045.37 Q1676.5 1048.29 1676.5 1054.21 Z\" fill=\"#000000\" fill-rule=\"evenodd\" fill-opacity=\"1\" /><path clip-path=\"url(#clip270)\" d=\"M 0 0 M1699.63 1044.07 L1699.63 1048.06 Q1697.82 1047.06 1695.99 1046.57 Q1694.19 1046.06 1692.33 1046.06 Q1688.19 1046.06 1685.9 1048.7 Q1683.61 1051.32 1683.61 1056.06 Q1683.61 1060.81 1685.9 1063.45 Q1688.19 1066.06 1692.33 1066.06 Q1694.19 1066.06 1695.99 1065.58 Q1697.82 1065.07 1699.63 1064.07 L1699.63 1068.01 Q1697.84 1068.84 1695.92 1069.26 Q1694.02 1069.68 1691.87 1069.68 Q1686.01 1069.68 1682.57 1065.99 Q1679.12 1062.31 1679.12 1056.06 Q1679.12 1049.72 1682.59 1046.09 Q1686.08 1042.45 1692.15 1042.45 Q1694.12 1042.45 1695.99 1042.87 Q1697.87 1043.26 1699.63 1044.07 Z\" fill=\"#000000\" fill-rule=\"evenodd\" fill-opacity=\"1\" /><path clip-path=\"url(#clip270)\" d=\"M 0 0 M1725.64 1053.36 L1725.64 1069 L1721.38 1069 L1721.38 1053.49 Q1721.38 1049.81 1719.95 1047.99 Q1718.51 1046.16 1715.64 1046.16 Q1712.19 1046.16 1710.2 1048.36 Q1708.21 1050.56 1708.21 1054.35 L1708.21 1069 L1703.93 1069 L1703.93 1032.99 L1708.21 1032.99 L1708.21 1047.11 Q1709.74 1044.77 1711.8 1043.61 Q1713.88 1042.45 1716.59 1042.45 Q1721.06 1042.45 1723.35 1045.23 Q1725.64 1047.99 1725.64 1053.36 Z\" fill=\"#000000\" fill-rule=\"evenodd\" fill-opacity=\"1\" /><path clip-path=\"url(#clip270)\" d=\"M 0 0 M1743.24 1032.99 L1743.24 1036.53 L1739.16 1036.53 Q1736.87 1036.53 1735.97 1037.45 Q1735.09 1038.38 1735.09 1040.79 L1735.09 1043.08 L1742.1 1043.08 L1742.1 1046.39 L1735.09 1046.39 L1735.09 1069 L1730.81 1069 L1730.81 1046.39 L1726.73 1046.39 L1726.73 1043.08 L1730.81 1043.08 L1730.81 1041.27 Q1730.81 1036.94 1732.82 1034.98 Q1734.83 1032.99 1739.21 1032.99 L1743.24 1032.99 Z\" fill=\"#000000\" fill-rule=\"evenodd\" fill-opacity=\"1\" /><path clip-path=\"url(#clip270)\" d=\"M 0 0 M1762.73 1047.06 Q1762.01 1046.64 1761.15 1046.46 Q1760.32 1046.25 1759.3 1046.25 Q1755.69 1046.25 1753.75 1048.61 Q1751.82 1050.95 1751.82 1055.35 L1751.82 1069 L1747.54 1069 L1747.54 1043.08 L1751.82 1043.08 L1751.82 1047.11 Q1753.17 1044.74 1755.32 1043.61 Q1757.47 1042.45 1760.55 1042.45 Q1760.99 1042.45 1761.52 1042.52 Q1762.06 1042.57 1762.7 1042.68 L1762.73 1047.06 Z\" fill=\"#000000\" fill-rule=\"evenodd\" fill-opacity=\"1\" /><path clip-path=\"url(#clip270)\" d=\"M 0 0 M1778.98 1055.97 Q1773.82 1055.97 1771.82 1057.15 Q1769.83 1058.33 1769.83 1061.18 Q1769.83 1063.45 1771.32 1064.79 Q1772.82 1066.11 1775.39 1066.11 Q1778.93 1066.11 1781.06 1063.61 Q1783.21 1061.09 1783.21 1056.92 L1783.21 1055.97 L1778.98 1055.97 M1787.47 1054.21 L1787.47 1069 L1783.21 1069 L1783.21 1065.07 Q1781.75 1067.43 1779.58 1068.56 Q1777.4 1069.68 1774.25 1069.68 Q1770.27 1069.68 1767.91 1067.45 Q1765.57 1065.21 1765.57 1061.46 Q1765.57 1057.08 1768.49 1054.86 Q1771.43 1052.64 1777.24 1052.64 L1783.21 1052.64 L1783.21 1052.22 Q1783.21 1049.28 1781.27 1047.68 Q1779.35 1046.06 1775.85 1046.06 Q1773.63 1046.06 1771.52 1046.6 Q1769.42 1047.13 1767.47 1048.19 L1767.47 1044.26 Q1769.81 1043.36 1772.01 1042.92 Q1774.21 1042.45 1776.29 1042.45 Q1781.92 1042.45 1784.69 1045.37 Q1787.47 1048.29 1787.47 1054.21 Z\" fill=\"#000000\" fill-rule=\"evenodd\" fill-opacity=\"1\" /><path clip-path=\"url(#clip270)\" d=\"M 0 0 M1809 1055.74 Q1809 1051.11 1807.08 1048.56 Q1805.18 1046.02 1801.73 1046.02 Q1798.31 1046.02 1796.38 1048.56 Q1794.49 1051.11 1794.49 1055.74 Q1794.49 1060.35 1796.38 1062.89 Q1798.31 1065.44 1801.73 1065.44 Q1805.18 1065.44 1807.08 1062.89 Q1809 1060.35 1809 1055.74 M1813.26 1065.79 Q1813.26 1072.41 1810.32 1075.62 Q1807.38 1078.87 1801.31 1078.87 Q1799.07 1078.87 1797.08 1078.52 Q1795.09 1078.19 1793.21 1077.5 L1793.21 1073.36 Q1795.09 1074.37 1796.92 1074.86 Q1798.75 1075.35 1800.64 1075.35 Q1804.83 1075.35 1806.92 1073.15 Q1809 1070.97 1809 1066.55 L1809 1064.44 Q1807.68 1066.74 1805.62 1067.87 Q1803.56 1069 1800.69 1069 Q1795.92 1069 1793 1065.37 Q1790.09 1061.74 1790.09 1055.74 Q1790.09 1049.72 1793 1046.09 Q1795.92 1042.45 1800.69 1042.45 Q1803.56 1042.45 1805.62 1043.59 Q1807.68 1044.72 1809 1047.01 L1809 1043.08 L1813.26 1043.08 L1813.26 1065.79 Z\" fill=\"#000000\" fill-rule=\"evenodd\" fill-opacity=\"1\" /><path clip-path=\"url(#clip270)\" d=\"M 0 0 M1839.9 1054.98 L1839.9 1057.06 L1820.32 1057.06 Q1820.6 1061.46 1822.96 1063.77 Q1825.34 1066.06 1829.58 1066.06 Q1832.03 1066.06 1834.32 1065.46 Q1836.64 1064.86 1838.91 1063.66 L1838.91 1067.68 Q1836.62 1068.66 1834.21 1069.17 Q1831.8 1069.68 1829.32 1069.68 Q1823.12 1069.68 1819.49 1066.06 Q1815.87 1062.45 1815.87 1056.3 Q1815.87 1049.93 1819.3 1046.2 Q1822.75 1042.45 1828.58 1042.45 Q1833.81 1042.45 1836.85 1045.83 Q1839.9 1049.19 1839.9 1054.98 M1835.64 1053.73 Q1835.6 1050.23 1833.68 1048.15 Q1831.78 1046.06 1828.63 1046.06 Q1825.06 1046.06 1822.91 1048.08 Q1820.78 1050.09 1820.46 1053.75 L1835.64 1053.73 Z\" fill=\"#000000\" fill-rule=\"evenodd\" fill-opacity=\"1\" /><path clip-path=\"url(#clip270)\" d=\"\n",
       "M1457.6 1136.4 L1601.6 1136.4 L1601.6 1088.01 L1457.6 1088.01 L1457.6 1136.4  Z\n",
       "  \" fill=\"#ffa500\" fill-rule=\"evenodd\" fill-opacity=\"1\"/>\n",
       "<polyline clip-path=\"url(#clip270)\" style=\"stroke:#000000; stroke-width:4; stroke-opacity:1; fill:none\" points=\"\n",
       "  1457.6,1136.4 1601.6,1136.4 1601.6,1088.01 1457.6,1088.01 1457.6,1136.4 \n",
       "  \"/>\n",
       "<path clip-path=\"url(#clip270)\" d=\"M 0 0 M1625.6 1094.92 L1630.27 1094.92 L1630.27 1125.55 L1647.1 1125.55 L1647.1 1129.48 L1625.6 1129.48 L1625.6 1094.92 Z\" fill=\"#000000\" fill-rule=\"evenodd\" fill-opacity=\"1\" /><path clip-path=\"url(#clip270)\" d=\"M 0 0 M1663.35 1116.45 Q1658.19 1116.45 1656.2 1117.63 Q1654.21 1118.81 1654.21 1121.66 Q1654.21 1123.93 1655.69 1125.27 Q1657.2 1126.59 1659.76 1126.59 Q1663.31 1126.59 1665.44 1124.09 Q1667.59 1121.57 1667.59 1117.4 L1667.59 1116.45 L1663.35 1116.45 M1671.85 1114.69 L1671.85 1129.48 L1667.59 1129.48 L1667.59 1125.55 Q1666.13 1127.91 1663.95 1129.04 Q1661.78 1130.16 1658.63 1130.16 Q1654.65 1130.16 1652.29 1127.93 Q1649.95 1125.69 1649.95 1121.94 Q1649.95 1117.56 1652.87 1115.34 Q1655.81 1113.12 1661.62 1113.12 L1667.59 1113.12 L1667.59 1112.7 Q1667.59 1109.76 1665.64 1108.16 Q1663.72 1106.54 1660.23 1106.54 Q1658.01 1106.54 1655.9 1107.08 Q1653.79 1107.61 1651.85 1108.67 L1651.85 1104.74 Q1654.19 1103.84 1656.39 1103.4 Q1658.58 1102.93 1660.67 1102.93 Q1666.29 1102.93 1669.07 1105.85 Q1671.85 1108.77 1671.85 1114.69 Z\" fill=\"#000000\" fill-rule=\"evenodd\" fill-opacity=\"1\" /><path clip-path=\"url(#clip270)\" d=\"M 0 0 M1693.38 1116.22 Q1693.38 1111.59 1691.45 1109.04 Q1689.56 1106.5 1686.11 1106.5 Q1682.68 1106.5 1680.76 1109.04 Q1678.86 1111.59 1678.86 1116.22 Q1678.86 1120.83 1680.76 1123.37 Q1682.68 1125.92 1686.11 1125.92 Q1689.56 1125.92 1691.45 1123.37 Q1693.38 1120.83 1693.38 1116.22 M1697.63 1126.27 Q1697.63 1132.89 1694.7 1136.1 Q1691.76 1139.35 1685.69 1139.35 Q1683.45 1139.35 1681.45 1139 Q1679.46 1138.67 1677.59 1137.98 L1677.59 1133.84 Q1679.46 1134.85 1681.29 1135.34 Q1683.12 1135.83 1685.02 1135.83 Q1689.21 1135.83 1691.29 1133.63 Q1693.38 1131.45 1693.38 1127.03 L1693.38 1124.92 Q1692.06 1127.22 1690 1128.35 Q1687.94 1129.48 1685.07 1129.48 Q1680.3 1129.48 1677.38 1125.85 Q1674.46 1122.22 1674.46 1116.22 Q1674.46 1110.2 1677.38 1106.57 Q1680.3 1102.93 1685.07 1102.93 Q1687.94 1102.93 1690 1104.07 Q1692.06 1105.2 1693.38 1107.49 L1693.38 1103.56 L1697.63 1103.56 L1697.63 1126.27 Z\" fill=\"#000000\" fill-rule=\"evenodd\" fill-opacity=\"1\" /><path clip-path=\"url(#clip270)\" d=\"M 0 0 M1724.28 1115.46 L1724.28 1117.54 L1704.7 1117.54 Q1704.97 1121.94 1707.33 1124.25 Q1709.72 1126.54 1713.95 1126.54 Q1716.41 1126.54 1718.7 1125.94 Q1721.01 1125.34 1723.28 1124.14 L1723.28 1128.16 Q1720.99 1129.14 1718.58 1129.65 Q1716.18 1130.16 1713.7 1130.16 Q1707.5 1130.16 1703.86 1126.54 Q1700.25 1122.93 1700.25 1116.78 Q1700.25 1110.41 1703.68 1106.68 Q1707.13 1102.93 1712.96 1102.93 Q1718.19 1102.93 1721.22 1106.31 Q1724.28 1109.67 1724.28 1115.46 M1720.02 1114.21 Q1719.97 1110.71 1718.05 1108.63 Q1716.15 1106.54 1713.01 1106.54 Q1709.44 1106.54 1707.29 1108.56 Q1705.16 1110.57 1704.83 1114.23 L1720.02 1114.21 Z\" fill=\"#000000\" fill-rule=\"evenodd\" fill-opacity=\"1\" /><path clip-path=\"url(#clip270)\" d=\"M 0 0 M1743.77 1107.54 Q1743.05 1107.12 1742.19 1106.94 Q1741.36 1106.73 1740.34 1106.73 Q1736.73 1106.73 1734.79 1109.09 Q1732.87 1111.43 1732.87 1115.83 L1732.87 1129.48 L1728.58 1129.48 L1728.58 1103.56 L1732.87 1103.56 L1732.87 1107.59 Q1734.21 1105.22 1736.36 1104.09 Q1738.51 1102.93 1741.59 1102.93 Q1742.03 1102.93 1742.57 1103 Q1743.1 1103.05 1743.75 1103.16 L1743.77 1107.54 Z\" fill=\"#000000\" fill-rule=\"evenodd\" fill-opacity=\"1\" /><path clip-path=\"url(#clip270)\" d=\"M 0 0 M1766.85 1116.54 Q1766.85 1111.85 1764.9 1109.18 Q1762.98 1106.5 1759.6 1106.5 Q1756.22 1106.5 1754.28 1109.18 Q1752.36 1111.85 1752.36 1116.54 Q1752.36 1121.24 1754.28 1123.93 Q1756.22 1126.59 1759.6 1126.59 Q1762.98 1126.59 1764.9 1123.93 Q1766.85 1121.24 1766.85 1116.54 M1752.36 1107.49 Q1753.7 1105.18 1755.74 1104.07 Q1757.8 1102.93 1760.64 1102.93 Q1765.37 1102.93 1768.31 1106.68 Q1771.27 1110.43 1771.27 1116.54 Q1771.27 1122.66 1768.31 1126.41 Q1765.37 1130.16 1760.64 1130.16 Q1757.8 1130.16 1755.74 1129.04 Q1753.7 1127.91 1752.36 1125.6 L1752.36 1129.48 L1748.07 1129.48 L1748.07 1093.47 L1752.36 1093.47 L1752.36 1107.49 Z\" fill=\"#000000\" fill-rule=\"evenodd\" fill-opacity=\"1\" /><path clip-path=\"url(#clip270)\" d=\"M 0 0 M1797.91 1115.46 L1797.91 1117.54 L1778.33 1117.54 Q1778.61 1121.94 1780.97 1124.25 Q1783.35 1126.54 1787.59 1126.54 Q1790.04 1126.54 1792.33 1125.94 Q1794.65 1125.34 1796.92 1124.14 L1796.92 1128.16 Q1794.63 1129.14 1792.22 1129.65 Q1789.81 1130.16 1787.33 1130.16 Q1781.13 1130.16 1777.5 1126.54 Q1773.88 1122.93 1773.88 1116.78 Q1773.88 1110.41 1777.31 1106.68 Q1780.76 1102.93 1786.59 1102.93 Q1791.82 1102.93 1794.86 1106.31 Q1797.91 1109.67 1797.91 1115.46 M1793.65 1114.21 Q1793.61 1110.71 1791.69 1108.63 Q1789.79 1106.54 1786.64 1106.54 Q1783.07 1106.54 1780.92 1108.56 Q1778.79 1110.57 1778.47 1114.23 L1793.65 1114.21 Z\" fill=\"#000000\" fill-rule=\"evenodd\" fill-opacity=\"1\" /><path clip-path=\"url(#clip270)\" d=\"M 0 0 M1818.91 1104.32 L1818.91 1108.35 Q1817.1 1107.42 1815.16 1106.96 Q1813.21 1106.5 1811.13 1106.5 Q1807.96 1106.5 1806.36 1107.47 Q1804.79 1108.44 1804.79 1110.39 Q1804.79 1111.87 1805.92 1112.72 Q1807.06 1113.56 1810.48 1114.32 L1811.94 1114.65 Q1816.48 1115.62 1818.37 1117.4 Q1820.3 1119.16 1820.3 1122.33 Q1820.3 1125.94 1817.43 1128.05 Q1814.58 1130.16 1809.58 1130.16 Q1807.5 1130.16 1805.23 1129.74 Q1802.98 1129.35 1800.48 1128.54 L1800.48 1124.14 Q1802.84 1125.36 1805.13 1125.99 Q1807.43 1126.59 1809.67 1126.59 Q1812.68 1126.59 1814.3 1125.57 Q1815.92 1124.53 1815.92 1122.66 Q1815.92 1120.92 1814.74 1119.99 Q1813.58 1119.07 1809.62 1118.21 L1808.14 1117.86 Q1804.19 1117.03 1802.43 1115.32 Q1800.67 1113.58 1800.67 1110.57 Q1800.67 1106.91 1803.26 1104.92 Q1805.85 1102.93 1810.62 1102.93 Q1812.98 1102.93 1815.06 1103.28 Q1817.15 1103.63 1818.91 1104.32 Z\" fill=\"#000000\" fill-rule=\"evenodd\" fill-opacity=\"1\" /><path clip-path=\"url(#clip270)\" d=\"M 0 0 M1828.98 1096.2 L1828.98 1103.56 L1837.75 1103.56 L1837.75 1106.87 L1828.98 1106.87 L1828.98 1120.94 Q1828.98 1124.11 1829.83 1125.02 Q1830.71 1125.92 1833.37 1125.92 L1837.75 1125.92 L1837.75 1129.48 L1833.37 1129.48 Q1828.44 1129.48 1826.57 1127.66 Q1824.69 1125.8 1824.69 1120.94 L1824.69 1106.87 L1821.57 1106.87 L1821.57 1103.56 L1824.69 1103.56 L1824.69 1096.2 L1828.98 1096.2 Z\" fill=\"#000000\" fill-rule=\"evenodd\" fill-opacity=\"1\" /><path clip-path=\"url(#clip270)\" d=\"M 0 0 M1854 1116.45 Q1848.84 1116.45 1846.85 1117.63 Q1844.86 1118.81 1844.86 1121.66 Q1844.86 1123.93 1846.34 1125.27 Q1847.84 1126.59 1850.41 1126.59 Q1853.95 1126.59 1856.08 1124.09 Q1858.24 1121.57 1858.24 1117.4 L1858.24 1116.45 L1854 1116.45 M1862.5 1114.69 L1862.5 1129.48 L1858.24 1129.48 L1858.24 1125.55 Q1856.78 1127.91 1854.6 1129.04 Q1852.43 1130.16 1849.28 1130.16 Q1845.3 1130.16 1842.94 1127.93 Q1840.6 1125.69 1840.6 1121.94 Q1840.6 1117.56 1843.51 1115.34 Q1846.45 1113.12 1852.26 1113.12 L1858.24 1113.12 L1858.24 1112.7 Q1858.24 1109.76 1856.29 1108.16 Q1854.37 1106.54 1850.87 1106.54 Q1848.65 1106.54 1846.55 1107.08 Q1844.44 1107.61 1842.5 1108.67 L1842.5 1104.74 Q1844.83 1103.84 1847.03 1103.4 Q1849.23 1102.93 1851.31 1102.93 Q1856.94 1102.93 1859.72 1105.85 Q1862.5 1108.77 1862.5 1114.69 Z\" fill=\"#000000\" fill-rule=\"evenodd\" fill-opacity=\"1\" /><path clip-path=\"url(#clip270)\" d=\"M 0 0 M1888.51 1113.84 L1888.51 1129.48 L1884.25 1129.48 L1884.25 1113.97 Q1884.25 1110.29 1882.82 1108.47 Q1881.38 1106.64 1878.51 1106.64 Q1875.06 1106.64 1873.07 1108.84 Q1871.08 1111.04 1871.08 1114.83 L1871.08 1129.48 L1866.8 1129.48 L1866.8 1103.56 L1871.08 1103.56 L1871.08 1107.59 Q1872.61 1105.25 1874.67 1104.09 Q1876.75 1102.93 1879.46 1102.93 Q1883.93 1102.93 1886.22 1105.71 Q1888.51 1108.47 1888.51 1113.84 Z\" fill=\"#000000\" fill-rule=\"evenodd\" fill-opacity=\"1\" /><path clip-path=\"url(#clip270)\" d=\"M 0 0 M1910.04 1107.49 L1910.04 1093.47 L1914.3 1093.47 L1914.3 1129.48 L1910.04 1129.48 L1910.04 1125.6 Q1908.7 1127.91 1906.64 1129.04 Q1904.6 1130.16 1901.73 1130.16 Q1897.03 1130.16 1894.07 1126.41 Q1891.13 1122.66 1891.13 1116.54 Q1891.13 1110.43 1894.07 1106.68 Q1897.03 1102.93 1901.73 1102.93 Q1904.6 1102.93 1906.64 1104.07 Q1908.7 1105.18 1910.04 1107.49 M1895.53 1116.54 Q1895.53 1121.24 1897.45 1123.93 Q1899.39 1126.59 1902.77 1126.59 Q1906.15 1126.59 1908.1 1123.93 Q1910.04 1121.24 1910.04 1116.54 Q1910.04 1111.85 1908.1 1109.18 Q1906.15 1106.5 1902.77 1106.5 Q1899.39 1106.5 1897.45 1109.18 Q1895.53 1111.85 1895.53 1116.54 Z\" fill=\"#000000\" fill-rule=\"evenodd\" fill-opacity=\"1\" /></svg>\n"
      ]
     },
     "execution_count": 25,
     "metadata": {},
     "output_type": "execute_result"
    }
   ],
   "source": [
    "p1 = groupedbar(bardata[:,:,1], label=[\"Produktionsmenge\" \"Nachfrage\" \"Lagerbestand\"],legend=:none, \n",
    "                colour = [:DeepSkyBlue4 :Red3 :orange], title = \"Produkt 1\", xlabel = \"Periode\", \n",
    "                ylabel=\"Menge\", ylim=(0, 125))\n",
    "p2 = groupedbar(bardata[:,:,2], label=[\"Produktionsmenge\" \"Nachfrage\" \"Lagerbestand\"], legend=:none,\n",
    "                colour = [:DeepSkyBlue4 :Red3 :orange], title = \"Produkt 2\", xlabel = \"Periode\", \n",
    "                ylabel=\"Menge\", ylim=(0, 125))\n",
    "p3 = groupedbar(bardata[:,:,3], label=[\"Produktionsmenge\" \"Nachfrage\" \"Lagerbestand\"], legend=:none,\n",
    "                colour = [:DeepSkyBlue4 :Red3 :orange], title = \"Produkt 3\", xlabel = \"Periode\", \n",
    "                ylabel=\"Menge\", ylim=(0, 125))\n",
    "p4 = groupedbar(bardata[:,:,1,1], label=[\"Produktionsmenge\" \"Nachfrage\" \"Lagerbestand\"],legend=:topleft,\n",
    "                colour = [:DeepSkyBlue4 :Red3 :orange], grid=false, xlims=(20,3), showaxis=false)\n",
    "plot(p1, p2, p3, p4, layout = 4)\n"
   ]
  },
  {
   "cell_type": "markdown",
   "metadata": {
    "slideshow": {
     "slide_type": "slide"
    }
   },
   "source": [
    "Stellen Sie die Rüstvariable für die drei Produkte grafisch dar."
   ]
  },
  {
   "cell_type": "code",
   "execution_count": 27,
   "metadata": {},
   "outputs": [
    {
     "data": {
      "text/plain": [
       "4×3 LinearAlgebra.Adjoint{Float64,Array{Float64,2}}:\n",
       " 1.0  0.0  1.0\n",
       " 0.0  1.0  1.0\n",
       " 1.0  1.0  0.0\n",
       " 1.0  0.0  1.0"
      ]
     },
     "execution_count": 27,
     "metadata": {},
     "output_type": "execute_result"
    }
   ],
   "source": [
    "bardataGamma = [JuMP.value(gamma[i,t]) for i in 1:I, t in 1:T]'"
   ]
  },
  {
   "cell_type": "code",
   "execution_count": 28,
   "metadata": {
    "scrolled": false,
    "slideshow": {
     "slide_type": "fragment"
    }
   },
   "outputs": [
    {
     "data": {
      "image/svg+xml": [
       "<?xml version=\"1.0\" encoding=\"utf-8\"?>\n",
       "<svg xmlns=\"http://www.w3.org/2000/svg\" xmlns:xlink=\"http://www.w3.org/1999/xlink\" width=\"600\" height=\"400\" viewBox=\"0 0 2400 1600\">\n",
       "<defs>\n",
       "  <clipPath id=\"clip310\">\n",
       "    <rect x=\"0\" y=\"0\" width=\"2400\" height=\"1600\"/>\n",
       "  </clipPath>\n",
       "</defs>\n",
       "<path clip-path=\"url(#clip310)\" d=\"\n",
       "M0 1600 L2400 1600 L2400 0 L0 0  Z\n",
       "  \" fill=\"#ffffff\" fill-rule=\"evenodd\" fill-opacity=\"1\"/>\n",
       "<defs>\n",
       "  <clipPath id=\"clip311\">\n",
       "    <rect x=\"480\" y=\"0\" width=\"1681\" height=\"1600\"/>\n",
       "  </clipPath>\n",
       "</defs>\n",
       "<path clip-path=\"url(#clip310)\" d=\"\n",
       "M211.116 1423.18 L2352.76 1423.18 L2352.76 123.472 L211.116 123.472  Z\n",
       "  \" fill=\"#ffffff\" fill-rule=\"evenodd\" fill-opacity=\"1\"/>\n",
       "<defs>\n",
       "  <clipPath id=\"clip312\">\n",
       "    <rect x=\"211\" y=\"123\" width=\"2143\" height=\"1301\"/>\n",
       "  </clipPath>\n",
       "</defs>\n",
       "<polyline clip-path=\"url(#clip312)\" style=\"stroke:#000000; stroke-width:2; stroke-opacity:0.1; fill:none\" points=\"\n",
       "  523.522,1423.18 523.522,123.472 \n",
       "  \"/>\n",
       "<polyline clip-path=\"url(#clip312)\" style=\"stroke:#000000; stroke-width:2; stroke-opacity:0.1; fill:none\" points=\"\n",
       "  1029.13,1423.18 1029.13,123.472 \n",
       "  \"/>\n",
       "<polyline clip-path=\"url(#clip312)\" style=\"stroke:#000000; stroke-width:2; stroke-opacity:0.1; fill:none\" points=\"\n",
       "  1534.74,1423.18 1534.74,123.472 \n",
       "  \"/>\n",
       "<polyline clip-path=\"url(#clip312)\" style=\"stroke:#000000; stroke-width:2; stroke-opacity:0.1; fill:none\" points=\"\n",
       "  2040.35,1423.18 2040.35,123.472 \n",
       "  \"/>\n",
       "<polyline clip-path=\"url(#clip312)\" style=\"stroke:#000000; stroke-width:2; stroke-opacity:0.1; fill:none\" points=\"\n",
       "  211.116,1423.18 2352.76,1423.18 \n",
       "  \"/>\n",
       "<polyline clip-path=\"url(#clip312)\" style=\"stroke:#000000; stroke-width:2; stroke-opacity:0.1; fill:none\" points=\"\n",
       "  211.116,989.944 2352.76,989.944 \n",
       "  \"/>\n",
       "<polyline clip-path=\"url(#clip312)\" style=\"stroke:#000000; stroke-width:2; stroke-opacity:0.1; fill:none\" points=\"\n",
       "  211.116,556.708 2352.76,556.708 \n",
       "  \"/>\n",
       "<polyline clip-path=\"url(#clip312)\" style=\"stroke:#000000; stroke-width:2; stroke-opacity:0.1; fill:none\" points=\"\n",
       "  211.116,123.472 2352.76,123.472 \n",
       "  \"/>\n",
       "<polyline clip-path=\"url(#clip310)\" style=\"stroke:#000000; stroke-width:4; stroke-opacity:1; fill:none\" points=\"\n",
       "  211.116,1423.18 2352.76,1423.18 \n",
       "  \"/>\n",
       "<polyline clip-path=\"url(#clip310)\" style=\"stroke:#000000; stroke-width:4; stroke-opacity:1; fill:none\" points=\"\n",
       "  211.116,1423.18 211.116,123.472 \n",
       "  \"/>\n",
       "<polyline clip-path=\"url(#clip310)\" style=\"stroke:#000000; stroke-width:4; stroke-opacity:1; fill:none\" points=\"\n",
       "  523.522,1423.18 523.522,1407.58 \n",
       "  \"/>\n",
       "<polyline clip-path=\"url(#clip310)\" style=\"stroke:#000000; stroke-width:4; stroke-opacity:1; fill:none\" points=\"\n",
       "  1029.13,1423.18 1029.13,1407.58 \n",
       "  \"/>\n",
       "<polyline clip-path=\"url(#clip310)\" style=\"stroke:#000000; stroke-width:4; stroke-opacity:1; fill:none\" points=\"\n",
       "  1534.74,1423.18 1534.74,1407.58 \n",
       "  \"/>\n",
       "<polyline clip-path=\"url(#clip310)\" style=\"stroke:#000000; stroke-width:4; stroke-opacity:1; fill:none\" points=\"\n",
       "  2040.35,1423.18 2040.35,1407.58 \n",
       "  \"/>\n",
       "<polyline clip-path=\"url(#clip310)\" style=\"stroke:#000000; stroke-width:4; stroke-opacity:1; fill:none\" points=\"\n",
       "  211.116,1423.18 236.816,1423.18 \n",
       "  \"/>\n",
       "<polyline clip-path=\"url(#clip310)\" style=\"stroke:#000000; stroke-width:4; stroke-opacity:1; fill:none\" points=\"\n",
       "  211.116,989.944 236.816,989.944 \n",
       "  \"/>\n",
       "<polyline clip-path=\"url(#clip310)\" style=\"stroke:#000000; stroke-width:4; stroke-opacity:1; fill:none\" points=\"\n",
       "  211.116,556.708 236.816,556.708 \n",
       "  \"/>\n",
       "<polyline clip-path=\"url(#clip310)\" style=\"stroke:#000000; stroke-width:4; stroke-opacity:1; fill:none\" points=\"\n",
       "  211.116,123.472 236.816,123.472 \n",
       "  \"/>\n",
       "<path clip-path=\"url(#clip310)\" d=\"M 0 0 M513.904 1472.72 L521.543 1472.72 L521.543 1446.35 L513.233 1448.02 L513.233 1443.76 L521.497 1442.09 L526.173 1442.09 L526.173 1472.72 L533.811 1472.72 L533.811 1476.65 L513.904 1476.65 L513.904 1472.72 Z\" fill=\"#000000\" fill-rule=\"evenodd\" fill-opacity=\"1\" /><path clip-path=\"url(#clip310)\" d=\"M 0 0 M1023.78 1472.72 L1040.1 1472.72 L1040.1 1476.65 L1018.16 1476.65 L1018.16 1472.72 Q1020.82 1469.96 1025.4 1465.33 Q1030.01 1460.68 1031.19 1459.34 Q1033.44 1456.81 1034.32 1455.08 Q1035.22 1453.32 1035.22 1451.63 Q1035.22 1448.87 1033.27 1447.14 Q1031.35 1445.4 1028.25 1445.4 Q1026.05 1445.4 1023.6 1446.17 Q1021.17 1446.93 1018.39 1448.48 L1018.39 1443.76 Q1021.21 1442.62 1023.67 1442.05 Q1026.12 1441.47 1028.16 1441.47 Q1033.53 1441.47 1036.72 1444.15 Q1039.92 1446.84 1039.92 1451.33 Q1039.92 1453.46 1039.11 1455.38 Q1038.32 1457.28 1036.21 1459.87 Q1035.64 1460.54 1032.53 1463.76 Q1029.43 1466.95 1023.78 1472.72 Z\" fill=\"#000000\" fill-rule=\"evenodd\" fill-opacity=\"1\" /><path clip-path=\"url(#clip310)\" d=\"M 0 0 M1538.99 1458.02 Q1542.34 1458.74 1544.22 1461 Q1546.12 1463.27 1546.12 1466.61 Q1546.12 1471.72 1542.6 1474.52 Q1539.08 1477.32 1532.6 1477.32 Q1530.42 1477.32 1528.11 1476.88 Q1525.82 1476.47 1523.36 1475.61 L1523.36 1471.1 Q1525.31 1472.23 1527.62 1472.81 Q1529.94 1473.39 1532.46 1473.39 Q1536.86 1473.39 1539.15 1471.65 Q1541.47 1469.92 1541.47 1466.61 Q1541.47 1463.55 1539.31 1461.84 Q1537.18 1460.1 1533.36 1460.1 L1529.34 1460.1 L1529.34 1456.26 L1533.55 1456.26 Q1537 1456.26 1538.83 1454.89 Q1540.66 1453.5 1540.66 1450.91 Q1540.66 1448.25 1538.76 1446.84 Q1536.88 1445.4 1533.36 1445.4 Q1531.44 1445.4 1529.24 1445.82 Q1527.04 1446.24 1524.41 1447.11 L1524.41 1442.95 Q1527.07 1442.21 1529.38 1441.84 Q1531.72 1441.47 1533.78 1441.47 Q1539.1 1441.47 1542.21 1443.9 Q1545.31 1446.3 1545.31 1450.43 Q1545.31 1453.3 1543.66 1455.29 Q1542.02 1457.25 1538.99 1458.02 Z\" fill=\"#000000\" fill-rule=\"evenodd\" fill-opacity=\"1\" /><path clip-path=\"url(#clip310)\" d=\"M 0 0 M2043.36 1446.17 L2031.55 1464.61 L2043.36 1464.61 L2043.36 1446.17 M2042.13 1442.09 L2048.01 1442.09 L2048.01 1464.61 L2052.94 1464.61 L2052.94 1468.5 L2048.01 1468.5 L2048.01 1476.65 L2043.36 1476.65 L2043.36 1468.5 L2027.76 1468.5 L2027.76 1463.99 L2042.13 1442.09 Z\" fill=\"#000000\" fill-rule=\"evenodd\" fill-opacity=\"1\" /><path clip-path=\"url(#clip310)\" d=\"M 0 0 M138.205 1408.98 Q134.593 1408.98 132.765 1412.54 Q130.959 1416.08 130.959 1423.21 Q130.959 1430.32 132.765 1433.89 Q134.593 1437.43 138.205 1437.43 Q141.839 1437.43 143.644 1433.89 Q145.473 1430.32 145.473 1423.21 Q145.473 1416.08 143.644 1412.54 Q141.839 1408.98 138.205 1408.98 M138.205 1405.27 Q144.015 1405.27 147.07 1409.88 Q150.149 1414.46 150.149 1423.21 Q150.149 1431.94 147.07 1436.55 Q144.015 1441.13 138.205 1441.13 Q132.394 1441.13 129.316 1436.55 Q126.26 1431.94 126.26 1423.21 Q126.26 1414.46 129.316 1409.88 Q132.394 1405.27 138.205 1405.27 Z\" fill=\"#000000\" fill-rule=\"evenodd\" fill-opacity=\"1\" /><path clip-path=\"url(#clip310)\" d=\"M 0 0 M155.218 1434.58 L160.103 1434.58 L160.103 1440.46 L155.218 1440.46 L155.218 1434.58 Z\" fill=\"#000000\" fill-rule=\"evenodd\" fill-opacity=\"1\" /><path clip-path=\"url(#clip310)\" d=\"M 0 0 M175.172 1408.98 Q171.561 1408.98 169.732 1412.54 Q167.927 1416.08 167.927 1423.21 Q167.927 1430.32 169.732 1433.89 Q171.561 1437.43 175.172 1437.43 Q178.806 1437.43 180.612 1433.89 Q182.44 1430.32 182.44 1423.21 Q182.44 1416.08 180.612 1412.54 Q178.806 1408.98 175.172 1408.98 M175.172 1405.27 Q180.982 1405.27 184.038 1409.88 Q187.116 1414.46 187.116 1423.21 Q187.116 1431.94 184.038 1436.55 Q180.982 1441.13 175.172 1441.13 Q169.362 1441.13 166.283 1436.55 Q163.228 1431.94 163.228 1423.21 Q163.228 1414.46 166.283 1409.88 Q169.362 1405.27 175.172 1405.27 Z\" fill=\"#000000\" fill-rule=\"evenodd\" fill-opacity=\"1\" /><path clip-path=\"url(#clip310)\" d=\"M 0 0 M139.2 975.743 Q135.589 975.743 133.76 979.307 Q131.955 982.849 131.955 989.979 Q131.955 997.085 133.76 1000.65 Q135.589 1004.19 139.2 1004.19 Q142.834 1004.19 144.64 1000.65 Q146.468 997.085 146.468 989.979 Q146.468 982.849 144.64 979.307 Q142.834 975.743 139.2 975.743 M139.2 972.039 Q145.01 972.039 148.066 976.645 Q151.144 981.229 151.144 989.979 Q151.144 998.705 148.066 1003.31 Q145.01 1007.9 139.2 1007.9 Q133.39 1007.9 130.311 1003.31 Q127.256 998.705 127.256 989.979 Q127.256 981.229 130.311 976.645 Q133.39 972.039 139.2 972.039 Z\" fill=\"#000000\" fill-rule=\"evenodd\" fill-opacity=\"1\" /><path clip-path=\"url(#clip310)\" d=\"M 0 0 M156.214 1001.34 L161.098 1001.34 L161.098 1007.22 L156.214 1007.22 L156.214 1001.34 Z\" fill=\"#000000\" fill-rule=\"evenodd\" fill-opacity=\"1\" /><path clip-path=\"url(#clip310)\" d=\"M 0 0 M166.214 972.664 L184.57 972.664 L184.57 976.599 L170.496 976.599 L170.496 985.071 Q171.515 984.724 172.533 984.562 Q173.552 984.377 174.57 984.377 Q180.357 984.377 183.737 987.548 Q187.116 990.719 187.116 996.136 Q187.116 1001.71 183.644 1004.82 Q180.172 1007.9 173.852 1007.9 Q171.677 1007.9 169.408 1007.52 Q167.163 1007.15 164.755 1006.41 L164.755 1001.71 Q166.839 1002.85 169.061 1003.4 Q171.283 1003.96 173.76 1003.96 Q177.765 1003.96 180.102 1001.85 Q182.44 999.747 182.44 996.136 Q182.44 992.525 180.102 990.418 Q177.765 988.312 173.76 988.312 Q171.885 988.312 170.01 988.729 Q168.158 989.145 166.214 990.025 L166.214 972.664 Z\" fill=\"#000000\" fill-rule=\"evenodd\" fill-opacity=\"1\" /><path clip-path=\"url(#clip310)\" d=\"M 0 0 M130.242 570.053 L137.88 570.053 L137.88 543.687 L129.57 545.354 L129.57 541.095 L137.834 539.428 L142.51 539.428 L142.51 570.053 L150.149 570.053 L150.149 573.988 L130.242 573.988 L130.242 570.053 Z\" fill=\"#000000\" fill-rule=\"evenodd\" fill-opacity=\"1\" /><path clip-path=\"url(#clip310)\" d=\"M 0 0 M155.218 568.108 L160.103 568.108 L160.103 573.988 L155.218 573.988 L155.218 568.108 Z\" fill=\"#000000\" fill-rule=\"evenodd\" fill-opacity=\"1\" /><path clip-path=\"url(#clip310)\" d=\"M 0 0 M175.172 542.507 Q171.561 542.507 169.732 546.072 Q167.927 549.613 167.927 556.743 Q167.927 563.849 169.732 567.414 Q171.561 570.956 175.172 570.956 Q178.806 570.956 180.612 567.414 Q182.44 563.849 182.44 556.743 Q182.44 549.613 180.612 546.072 Q178.806 542.507 175.172 542.507 M175.172 538.803 Q180.982 538.803 184.038 543.409 Q187.116 547.993 187.116 556.743 Q187.116 565.47 184.038 570.076 Q180.982 574.659 175.172 574.659 Q169.362 574.659 166.283 570.076 Q163.228 565.47 163.228 556.743 Q163.228 547.993 166.283 543.409 Q169.362 538.803 175.172 538.803 Z\" fill=\"#000000\" fill-rule=\"evenodd\" fill-opacity=\"1\" /><path clip-path=\"url(#clip310)\" d=\"M 0 0 M131.237 136.817 L138.876 136.817 L138.876 110.451 L130.566 112.118 L130.566 107.859 L138.83 106.192 L143.505 106.192 L143.505 136.817 L151.144 136.817 L151.144 140.752 L131.237 140.752 L131.237 136.817 Z\" fill=\"#000000\" fill-rule=\"evenodd\" fill-opacity=\"1\" /><path clip-path=\"url(#clip310)\" d=\"M 0 0 M156.214 134.873 L161.098 134.873 L161.098 140.752 L156.214 140.752 L156.214 134.873 Z\" fill=\"#000000\" fill-rule=\"evenodd\" fill-opacity=\"1\" /><path clip-path=\"url(#clip310)\" d=\"M 0 0 M166.214 106.192 L184.57 106.192 L184.57 110.127 L170.496 110.127 L170.496 118.599 Q171.515 118.252 172.533 118.09 Q173.552 117.905 174.57 117.905 Q180.357 117.905 183.737 121.076 Q187.116 124.248 187.116 129.664 Q187.116 135.243 183.644 138.345 Q180.172 141.423 173.852 141.423 Q171.677 141.423 169.408 141.053 Q167.163 140.683 164.755 139.942 L164.755 135.243 Q166.839 136.377 169.061 136.933 Q171.283 137.488 173.76 137.488 Q177.765 137.488 180.102 135.382 Q182.44 133.275 182.44 129.664 Q182.44 126.053 180.102 123.947 Q177.765 121.84 173.76 121.84 Q171.885 121.84 170.01 122.257 Q168.158 122.674 166.214 123.553 L166.214 106.192 Z\" fill=\"#000000\" fill-rule=\"evenodd\" fill-opacity=\"1\" /><path clip-path=\"url(#clip310)\" d=\"M 0 0 M803.464 44.2197 Q806.097 45.1109 808.568 48.0275 Q811.079 50.9442 813.591 56.0483 L821.895 72.576 L813.105 72.576 L805.367 57.061 Q802.37 50.9847 799.534 48.9997 Q796.739 47.0148 791.878 47.0148 L782.966 47.0148 L782.966 72.576 L774.783 72.576 L774.783 12.096 L793.255 12.096 Q803.626 12.096 808.73 16.4305 Q813.834 20.7649 813.834 29.5149 Q813.834 35.2267 811.16 38.994 Q808.527 42.7613 803.464 44.2197 M782.966 18.8205 L782.966 40.2903 L793.255 40.2903 Q799.17 40.2903 802.167 37.5762 Q805.205 34.8216 805.205 29.5149 Q805.205 24.2082 802.167 21.5346 Q799.17 18.8205 793.255 18.8205 L782.966 18.8205 Z\" fill=\"#000000\" fill-rule=\"evenodd\" fill-opacity=\"1\" /><path clip-path=\"url(#clip310)\" d=\"M 0 0 M825.217 54.671 L825.217 27.2059 L832.671 27.2059 L832.671 54.3874 Q832.671 60.8284 835.182 64.0691 Q837.694 67.2693 842.717 67.2693 Q848.753 67.2693 852.236 63.421 Q855.761 59.5726 855.761 52.9291 L855.761 27.2059 L863.214 27.2059 L863.214 72.576 L855.761 72.576 L855.761 65.6084 Q853.047 69.7404 849.441 71.7658 Q845.877 73.7508 841.137 73.7508 Q833.319 73.7508 829.268 68.8897 Q825.217 64.0286 825.217 54.671 M843.973 26.1121 L843.973 26.1121 M847.699 9.70597 L855.923 9.70597 L855.923 17.8888 L847.699 17.8888 L847.699 9.70597 M831.86 9.70597 L840.084 9.70597 L840.084 17.8888 L831.86 17.8888 L831.86 9.70597 Z\" fill=\"#000000\" fill-rule=\"evenodd\" fill-opacity=\"1\" /><path clip-path=\"url(#clip310)\" d=\"M 0 0 M899.956 28.5427 L899.956 35.5912 Q896.796 33.9709 893.394 33.1607 Q889.991 32.3505 886.345 32.3505 Q880.795 32.3505 878 34.0519 Q875.246 35.7533 875.246 39.156 Q875.246 41.7486 877.231 43.2475 Q879.215 44.7058 885.211 46.0426 L887.763 46.6097 Q895.703 48.3111 899.024 51.4303 Q902.387 54.509 902.387 60.0587 Q902.387 66.3781 897.364 70.0644 Q892.381 73.7508 883.631 73.7508 Q879.985 73.7508 876.015 73.0216 Q872.086 72.3329 867.711 70.9151 L867.711 63.2184 Q871.843 65.3654 875.853 66.4591 Q879.864 67.5124 883.793 67.5124 Q889.059 67.5124 891.895 65.73 Q894.73 63.9071 894.73 60.6258 Q894.73 57.5877 892.664 55.9673 Q890.639 54.3469 883.712 52.8481 L881.119 52.2405 Q874.192 50.7821 871.114 47.7845 Q868.035 44.7463 868.035 39.4801 Q868.035 33.0797 872.572 29.5959 Q877.109 26.1121 885.454 26.1121 Q889.586 26.1121 893.232 26.7198 Q896.877 27.3274 899.956 28.5427 Z\" fill=\"#000000\" fill-rule=\"evenodd\" fill-opacity=\"1\" /><path clip-path=\"url(#clip310)\" d=\"M 0 0 M917.578 14.324 L917.578 27.2059 L932.93 27.2059 L932.93 32.9987 L917.578 32.9987 L917.578 57.6282 Q917.578 63.1779 919.076 64.7578 Q920.616 66.3376 925.274 66.3376 L932.93 66.3376 L932.93 72.576 L925.274 72.576 Q916.646 72.576 913.365 69.3758 Q910.083 66.1351 910.083 57.6282 L910.083 32.9987 L904.615 32.9987 L904.615 27.2059 L910.083 27.2059 L910.083 14.324 L917.578 14.324 Z\" fill=\"#000000\" fill-rule=\"evenodd\" fill-opacity=\"1\" /><path clip-path=\"url(#clip310)\" d=\"M 0 0 M935.402 27.2059 L943.301 27.2059 L957.479 65.2844 L971.657 27.2059 L979.556 27.2059 L962.543 72.576 L952.415 72.576 L935.402 27.2059 Z\" fill=\"#000000\" fill-rule=\"evenodd\" fill-opacity=\"1\" /><path clip-path=\"url(#clip310)\" d=\"M 0 0 M1007.99 49.7694 Q998.96 49.7694 995.476 51.8354 Q991.993 53.9013 991.993 58.8839 Q991.993 62.8538 994.585 65.2034 Q997.218 67.5124 1001.71 67.5124 Q1007.91 67.5124 1011.64 63.1374 Q1015.41 58.7219 1015.41 51.4303 L1015.41 49.7694 L1007.99 49.7694 M1022.86 46.6907 L1022.86 72.576 L1015.41 72.576 L1015.41 65.6895 Q1012.85 69.8214 1009.05 71.8063 Q1005.24 73.7508 999.73 73.7508 Q992.762 73.7508 988.63 69.8619 Q984.539 65.9325 984.539 59.3701 Q984.539 51.7138 989.643 47.825 Q994.788 43.9361 1004.96 43.9361 L1015.41 43.9361 L1015.41 43.2069 Q1015.41 38.0623 1012 35.2672 Q1008.64 32.4315 1002.52 32.4315 Q998.636 32.4315 994.95 33.3632 Q991.263 34.295 987.861 36.1584 L987.861 29.2718 Q991.952 27.692 995.8 26.9223 Q999.649 26.1121 1003.29 26.1121 Q1013.14 26.1121 1018 31.2163 Q1022.86 36.3204 1022.86 46.6907 Z\" fill=\"#000000\" fill-rule=\"evenodd\" fill-opacity=\"1\" /><path clip-path=\"url(#clip310)\" d=\"M 0 0 M1056.97 34.1734 Q1055.71 33.4443 1054.21 33.1202 Q1052.76 32.7556 1050.97 32.7556 Q1044.65 32.7556 1041.25 36.8875 Q1037.89 40.9789 1037.89 48.6757 L1037.89 72.576 L1030.4 72.576 L1030.4 27.2059 L1037.89 27.2059 L1037.89 34.2544 Q1040.24 30.1225 1044.01 28.1376 Q1047.77 26.1121 1053.16 26.1121 Q1053.93 26.1121 1054.86 26.2337 Q1055.79 26.3147 1056.93 26.5172 L1056.97 34.1734 Z\" fill=\"#000000\" fill-rule=\"evenodd\" fill-opacity=\"1\" /><path clip-path=\"url(#clip310)\" d=\"M 0 0 M1064.79 27.2059 L1072.24 27.2059 L1072.24 72.576 L1064.79 72.576 L1064.79 27.2059 M1064.79 9.54393 L1072.24 9.54393 L1072.24 18.9825 L1064.79 18.9825 L1064.79 9.54393 Z\" fill=\"#000000\" fill-rule=\"evenodd\" fill-opacity=\"1\" /><path clip-path=\"url(#clip310)\" d=\"M 0 0 M1100.68 49.7694 Q1091.64 49.7694 1088.16 51.8354 Q1084.68 53.9013 1084.68 58.8839 Q1084.68 62.8538 1087.27 65.2034 Q1089.9 67.5124 1094.4 67.5124 Q1100.6 67.5124 1104.32 63.1374 Q1108.09 58.7219 1108.09 51.4303 L1108.09 49.7694 L1100.68 49.7694 M1115.55 46.6907 L1115.55 72.576 L1108.09 72.576 L1108.09 65.6895 Q1105.54 69.8214 1101.73 71.8063 Q1097.92 73.7508 1092.41 73.7508 Q1085.45 73.7508 1081.32 69.8619 Q1077.22 65.9325 1077.22 59.3701 Q1077.22 51.7138 1082.33 47.825 Q1087.47 43.9361 1097.64 43.9361 L1108.09 43.9361 L1108.09 43.2069 Q1108.09 38.0623 1104.69 35.2672 Q1101.33 32.4315 1095.21 32.4315 Q1091.32 32.4315 1087.63 33.3632 Q1083.95 34.295 1080.55 36.1584 L1080.55 29.2718 Q1084.64 27.692 1088.49 26.9223 Q1092.33 26.1121 1095.98 26.1121 Q1105.82 26.1121 1110.68 31.2163 Q1115.55 36.3204 1115.55 46.6907 Z\" fill=\"#000000\" fill-rule=\"evenodd\" fill-opacity=\"1\" /><path clip-path=\"url(#clip310)\" d=\"M 0 0 M1155.93 49.9314 Q1155.93 41.7081 1152.53 37.0496 Q1149.17 32.3505 1143.25 32.3505 Q1137.34 32.3505 1133.94 37.0496 Q1130.57 41.7081 1130.57 49.9314 Q1130.57 58.1548 1133.94 62.8538 Q1137.34 67.5124 1143.25 67.5124 Q1149.17 67.5124 1152.53 62.8538 Q1155.93 58.1548 1155.93 49.9314 M1130.57 34.0924 Q1132.92 30.0415 1136.49 28.0971 Q1140.09 26.1121 1145.08 26.1121 Q1153.34 26.1121 1158.48 32.6746 Q1163.67 39.2371 1163.67 49.9314 Q1163.67 60.6258 1158.48 67.1883 Q1153.34 73.7508 1145.08 73.7508 Q1140.09 73.7508 1136.49 71.8063 Q1132.92 69.8214 1130.57 65.7705 L1130.57 72.576 L1123.08 72.576 L1123.08 9.54393 L1130.57 9.54393 L1130.57 34.0924 Z\" fill=\"#000000\" fill-rule=\"evenodd\" fill-opacity=\"1\" /><path clip-path=\"url(#clip310)\" d=\"M 0 0 M1171.49 9.54393 L1178.94 9.54393 L1178.94 72.576 L1171.49 72.576 L1171.49 9.54393 Z\" fill=\"#000000\" fill-rule=\"evenodd\" fill-opacity=\"1\" /><path clip-path=\"url(#clip310)\" d=\"M 0 0 M1225.57 48.0275 L1225.57 51.6733 L1191.3 51.6733 Q1191.78 59.3701 1195.92 63.421 Q1200.09 67.4314 1207.5 67.4314 Q1211.79 67.4314 1215.81 66.3781 Q1219.86 65.3249 1223.83 63.2184 L1223.83 70.267 Q1219.82 71.9684 1215.6 72.8596 Q1211.39 73.7508 1207.06 73.7508 Q1196.2 73.7508 1189.84 67.4314 Q1183.52 61.1119 1183.52 50.3365 Q1183.52 39.1965 1189.51 32.6746 Q1195.55 26.1121 1205.76 26.1121 Q1214.91 26.1121 1220.22 32.0264 Q1225.57 37.9003 1225.57 48.0275 M1218.11 45.84 Q1218.03 39.7232 1214.67 36.0774 Q1211.35 32.4315 1205.84 32.4315 Q1199.6 32.4315 1195.83 35.9558 Q1192.11 39.4801 1191.54 45.8805 L1218.11 45.84 Z\" fill=\"#000000\" fill-rule=\"evenodd\" fill-opacity=\"1\" /><path clip-path=\"url(#clip310)\" d=\"M 0 0 M1271.1 45.1919 L1271.1 72.576 L1263.65 72.576 L1263.65 45.4349 Q1263.65 38.994 1261.13 35.7938 Q1258.62 32.5936 1253.6 32.5936 Q1247.56 32.5936 1244.08 36.4419 Q1240.6 40.2903 1240.6 46.9338 L1240.6 72.576 L1233.1 72.576 L1233.1 27.2059 L1240.6 27.2059 L1240.6 34.2544 Q1243.27 30.163 1246.88 28.1376 Q1250.52 26.1121 1255.26 26.1121 Q1263.08 26.1121 1267.09 30.9732 Q1271.1 35.7938 1271.1 45.1919 Z\" fill=\"#000000\" fill-rule=\"evenodd\" fill-opacity=\"1\" /><path clip-path=\"url(#clip310)\" d=\"M 0 0 M1335.14 34.0924 L1335.14 9.54393 L1342.6 9.54393 L1342.6 72.576 L1335.14 72.576 L1335.14 65.7705 Q1332.8 69.8214 1329.19 71.8063 Q1325.63 73.7508 1320.6 73.7508 Q1312.38 73.7508 1307.19 67.1883 Q1302.05 60.6258 1302.05 49.9314 Q1302.05 39.2371 1307.19 32.6746 Q1312.38 26.1121 1320.6 26.1121 Q1325.63 26.1121 1329.19 28.0971 Q1332.8 30.0415 1335.14 34.0924 M1309.75 49.9314 Q1309.75 58.1548 1313.11 62.8538 Q1316.51 67.5124 1322.42 67.5124 Q1328.34 67.5124 1331.74 62.8538 Q1335.14 58.1548 1335.14 49.9314 Q1335.14 41.7081 1331.74 37.0496 Q1328.34 32.3505 1322.42 32.3505 Q1316.51 32.3505 1313.11 37.0496 Q1309.75 41.7081 1309.75 49.9314 Z\" fill=\"#000000\" fill-rule=\"evenodd\" fill-opacity=\"1\" /><path clip-path=\"url(#clip310)\" d=\"M 0 0 M1389.22 48.0275 L1389.22 51.6733 L1354.95 51.6733 Q1355.44 59.3701 1359.57 63.421 Q1363.74 67.4314 1371.16 67.4314 Q1375.45 67.4314 1379.46 66.3781 Q1383.51 65.3249 1387.48 63.2184 L1387.48 70.267 Q1383.47 71.9684 1379.26 72.8596 Q1375.05 73.7508 1370.71 73.7508 Q1359.86 73.7508 1353.5 67.4314 Q1347.18 61.1119 1347.18 50.3365 Q1347.18 39.1965 1353.17 32.6746 Q1359.21 26.1121 1369.42 26.1121 Q1378.57 26.1121 1383.88 32.0264 Q1389.22 37.9003 1389.22 48.0275 M1381.77 45.84 Q1381.69 39.7232 1378.33 36.0774 Q1375.01 32.4315 1369.5 32.4315 Q1363.26 32.4315 1359.49 35.9558 Q1355.76 39.4801 1355.2 45.8805 L1381.77 45.84 Z\" fill=\"#000000\" fill-rule=\"evenodd\" fill-opacity=\"1\" /><path clip-path=\"url(#clip310)\" d=\"M 0 0 M1423.33 34.1734 Q1422.08 33.4443 1420.58 33.1202 Q1419.12 32.7556 1417.34 32.7556 Q1411.02 32.7556 1407.62 36.8875 Q1404.25 40.9789 1404.25 48.6757 L1404.25 72.576 L1396.76 72.576 L1396.76 27.2059 L1404.25 27.2059 L1404.25 34.2544 Q1406.6 30.1225 1410.37 28.1376 Q1414.14 26.1121 1419.53 26.1121 Q1420.29 26.1121 1421.23 26.2337 Q1422.16 26.3147 1423.29 26.5172 L1423.33 34.1734 Z\" fill=\"#000000\" fill-rule=\"evenodd\" fill-opacity=\"1\" /><path clip-path=\"url(#clip310)\" d=\"M 0 0 M1466.03 18.8205 L1466.03 41.5461 L1476.32 41.5461 Q1482.03 41.5461 1485.15 38.5889 Q1488.27 35.6318 1488.27 30.163 Q1488.27 24.7348 1485.15 21.7777 Q1482.03 18.8205 1476.32 18.8205 L1466.03 18.8205 M1457.85 12.096 L1476.32 12.096 Q1486.49 12.096 1491.67 16.714 Q1496.9 21.2916 1496.9 30.163 Q1496.9 39.1155 1491.67 43.6931 Q1486.49 48.2706 1476.32 48.2706 L1466.03 48.2706 L1466.03 72.576 L1457.85 72.576 L1457.85 12.096 Z\" fill=\"#000000\" fill-rule=\"evenodd\" fill-opacity=\"1\" /><path clip-path=\"url(#clip310)\" d=\"M 0 0 M1529.55 34.1734 Q1528.29 33.4443 1526.79 33.1202 Q1525.33 32.7556 1523.55 32.7556 Q1517.23 32.7556 1513.83 36.8875 Q1510.47 40.9789 1510.47 48.6757 L1510.47 72.576 L1502.97 72.576 L1502.97 27.2059 L1510.47 27.2059 L1510.47 34.2544 Q1512.82 30.1225 1516.58 28.1376 Q1520.35 26.1121 1525.74 26.1121 Q1526.51 26.1121 1527.44 26.2337 Q1528.37 26.3147 1529.51 26.5172 L1529.55 34.1734 Z\" fill=\"#000000\" fill-rule=\"evenodd\" fill-opacity=\"1\" /><path clip-path=\"url(#clip310)\" d=\"M 0 0 M1553.12 32.4315 Q1547.13 32.4315 1543.64 37.1306 Q1540.16 41.7891 1540.16 49.9314 Q1540.16 58.0738 1543.6 62.7728 Q1547.09 67.4314 1553.12 67.4314 Q1559.08 67.4314 1562.56 62.7323 Q1566.05 58.0333 1566.05 49.9314 Q1566.05 41.8701 1562.56 37.1711 Q1559.08 32.4315 1553.12 32.4315 M1553.12 26.1121 Q1562.85 26.1121 1568.4 32.4315 Q1573.95 38.7509 1573.95 49.9314 Q1573.95 61.0714 1568.4 67.4314 Q1562.85 73.7508 1553.12 73.7508 Q1543.36 73.7508 1537.81 67.4314 Q1532.3 61.0714 1532.3 49.9314 Q1532.3 38.7509 1537.81 32.4315 Q1543.36 26.1121 1553.12 26.1121 Z\" fill=\"#000000\" fill-rule=\"evenodd\" fill-opacity=\"1\" /><path clip-path=\"url(#clip310)\" d=\"M 0 0 M1611.62 34.0924 L1611.62 9.54393 L1619.07 9.54393 L1619.07 72.576 L1611.62 72.576 L1611.62 65.7705 Q1609.27 69.8214 1605.66 71.8063 Q1602.1 73.7508 1597.08 73.7508 Q1588.85 73.7508 1583.67 67.1883 Q1578.52 60.6258 1578.52 49.9314 Q1578.52 39.2371 1583.67 32.6746 Q1588.85 26.1121 1597.08 26.1121 Q1602.1 26.1121 1605.66 28.0971 Q1609.27 30.0415 1611.62 34.0924 M1586.22 49.9314 Q1586.22 58.1548 1589.58 62.8538 Q1592.98 67.5124 1598.9 67.5124 Q1604.81 67.5124 1608.22 62.8538 Q1611.62 58.1548 1611.62 49.9314 Q1611.62 41.7081 1608.22 37.0496 Q1604.81 32.3505 1598.9 32.3505 Q1592.98 32.3505 1589.58 37.0496 Q1586.22 41.7081 1586.22 49.9314 Z\" fill=\"#000000\" fill-rule=\"evenodd\" fill-opacity=\"1\" /><path clip-path=\"url(#clip310)\" d=\"M 0 0 M1626.12 54.671 L1626.12 27.2059 L1633.57 27.2059 L1633.57 54.3874 Q1633.57 60.8284 1636.09 64.0691 Q1638.6 67.2693 1643.62 67.2693 Q1649.66 67.2693 1653.14 63.421 Q1656.67 59.5726 1656.67 52.9291 L1656.67 27.2059 L1664.12 27.2059 L1664.12 72.576 L1656.67 72.576 L1656.67 65.6084 Q1653.95 69.7404 1650.35 71.7658 Q1646.78 73.7508 1642.04 73.7508 Q1634.22 73.7508 1630.17 68.8897 Q1626.12 64.0286 1626.12 54.671 M1644.88 26.1121 L1644.88 26.1121 Z\" fill=\"#000000\" fill-rule=\"evenodd\" fill-opacity=\"1\" /><path clip-path=\"url(#clip310)\" d=\"M 0 0 M1671.65 9.54393 L1679.15 9.54393 L1679.15 46.7717 L1701.39 27.2059 L1710.91 27.2059 L1686.84 48.4326 L1711.92 72.576 L1702.2 72.576 L1679.15 50.4176 L1679.15 72.576 L1671.65 72.576 L1671.65 9.54393 Z\" fill=\"#000000\" fill-rule=\"evenodd\" fill-opacity=\"1\" /><path clip-path=\"url(#clip310)\" d=\"M 0 0 M1727.11 14.324 L1727.11 27.2059 L1742.46 27.2059 L1742.46 32.9987 L1727.11 32.9987 L1727.11 57.6282 Q1727.11 63.1779 1728.61 64.7578 Q1730.15 66.3376 1734.81 66.3376 L1742.46 66.3376 L1742.46 72.576 L1734.81 72.576 Q1726.18 72.576 1722.9 69.3758 Q1719.62 66.1351 1719.62 57.6282 L1719.62 32.9987 L1714.15 32.9987 L1714.15 27.2059 L1719.62 27.2059 L1719.62 14.324 L1727.11 14.324 Z\" fill=\"#000000\" fill-rule=\"evenodd\" fill-opacity=\"1\" /><path clip-path=\"url(#clip310)\" d=\"M 0 0 M1789.09 48.0275 L1789.09 51.6733 L1754.82 51.6733 Q1755.3 59.3701 1759.44 63.421 Q1763.61 67.4314 1771.02 67.4314 Q1775.32 67.4314 1779.33 66.3781 Q1783.38 65.3249 1787.35 63.2184 L1787.35 70.267 Q1783.34 71.9684 1779.12 72.8596 Q1774.91 73.7508 1770.58 73.7508 Q1759.72 73.7508 1753.36 67.4314 Q1747.04 61.1119 1747.04 50.3365 Q1747.04 39.1965 1753.04 32.6746 Q1759.07 26.1121 1769.28 26.1121 Q1778.44 26.1121 1783.74 32.0264 Q1789.09 37.9003 1789.09 48.0275 M1781.64 45.84 Q1781.55 39.7232 1778.19 36.0774 Q1774.87 32.4315 1769.36 32.4315 Q1763.12 32.4315 1759.36 35.9558 Q1755.63 39.4801 1755.06 45.8805 L1781.64 45.84 Z\" fill=\"#000000\" fill-rule=\"evenodd\" fill-opacity=\"1\" /><path clip-path=\"url(#clip310)\" d=\"M 0 0 M1182.27 1513.81 L1182.27 1531.66 L1190.35 1531.66 Q1194.84 1531.66 1197.29 1529.34 Q1199.74 1527.02 1199.74 1522.72 Q1199.74 1518.45 1197.29 1516.13 Q1194.84 1513.81 1190.35 1513.81 L1182.27 1513.81 M1175.84 1508.52 L1190.35 1508.52 Q1198.34 1508.52 1202.41 1512.15 Q1206.52 1515.75 1206.52 1522.72 Q1206.52 1529.75 1202.41 1533.35 Q1198.34 1536.95 1190.35 1536.95 L1182.27 1536.95 L1182.27 1556.04 L1175.84 1556.04 L1175.84 1508.52 Z\" fill=\"#000000\" fill-rule=\"evenodd\" fill-opacity=\"1\" /><path clip-path=\"url(#clip310)\" d=\"M 0 0 M1240.83 1536.76 L1240.83 1539.62 L1213.9 1539.62 Q1214.28 1545.67 1217.53 1548.85 Q1220.81 1552 1226.63 1552 Q1230.01 1552 1233.16 1551.17 Q1236.34 1550.35 1239.46 1548.69 L1239.46 1554.23 Q1236.31 1555.57 1233 1556.27 Q1229.69 1556.97 1226.28 1556.97 Q1217.75 1556.97 1212.76 1552 Q1207.79 1547.04 1207.79 1538.57 Q1207.79 1529.82 1212.5 1524.69 Q1217.24 1519.54 1225.27 1519.54 Q1232.46 1519.54 1236.63 1524.18 Q1240.83 1528.8 1240.83 1536.76 M1234.97 1535.04 Q1234.91 1530.23 1232.27 1527.37 Q1229.66 1524.5 1225.33 1524.5 Q1220.43 1524.5 1217.47 1527.27 Q1214.54 1530.04 1214.09 1535.07 L1234.97 1535.04 Z\" fill=\"#000000\" fill-rule=\"evenodd\" fill-opacity=\"1\" /><path clip-path=\"url(#clip310)\" d=\"M 0 0 M1267.63 1525.87 Q1266.64 1525.3 1265.46 1525.04 Q1264.32 1524.76 1262.92 1524.76 Q1257.95 1524.76 1255.28 1528 Q1252.64 1531.22 1252.64 1537.27 L1252.64 1556.04 L1246.75 1556.04 L1246.75 1520.4 L1252.64 1520.4 L1252.64 1525.93 Q1254.48 1522.69 1257.44 1521.13 Q1260.4 1519.54 1264.64 1519.54 Q1265.24 1519.54 1265.97 1519.63 Q1266.71 1519.7 1267.6 1519.85 L1267.63 1525.87 Z\" fill=\"#000000\" fill-rule=\"evenodd\" fill-opacity=\"1\" /><path clip-path=\"url(#clip310)\" d=\"M 0 0 M1273.77 1520.4 L1279.63 1520.4 L1279.63 1556.04 L1273.77 1556.04 L1273.77 1520.4 M1273.77 1506.52 L1279.63 1506.52 L1279.63 1513.93 L1273.77 1513.93 L1273.77 1506.52 Z\" fill=\"#000000\" fill-rule=\"evenodd\" fill-opacity=\"1\" /><path clip-path=\"url(#clip310)\" d=\"M 0 0 M1299.59 1524.5 Q1294.87 1524.5 1292.14 1528.19 Q1289.4 1531.85 1289.4 1538.25 Q1289.4 1544.65 1292.11 1548.34 Q1294.84 1552 1299.59 1552 Q1304.26 1552 1307 1548.31 Q1309.74 1544.62 1309.74 1538.25 Q1309.74 1531.92 1307 1528.23 Q1304.26 1524.5 1299.59 1524.5 M1299.59 1519.54 Q1307.22 1519.54 1311.58 1524.5 Q1315.94 1529.47 1315.94 1538.25 Q1315.94 1547 1311.58 1552 Q1307.22 1556.97 1299.59 1556.97 Q1291.91 1556.97 1287.55 1552 Q1283.23 1547 1283.23 1538.25 Q1283.23 1529.47 1287.55 1524.5 Q1291.91 1519.54 1299.59 1519.54 Z\" fill=\"#000000\" fill-rule=\"evenodd\" fill-opacity=\"1\" /><path clip-path=\"url(#clip310)\" d=\"M 0 0 M1345.55 1525.81 L1345.55 1506.52 L1351.4 1506.52 L1351.4 1556.04 L1345.55 1556.04 L1345.55 1550.7 Q1343.7 1553.88 1340.87 1555.44 Q1338.07 1556.97 1334.12 1556.97 Q1327.66 1556.97 1323.58 1551.81 Q1319.54 1546.65 1319.54 1538.25 Q1319.54 1529.85 1323.58 1524.69 Q1327.66 1519.54 1334.12 1519.54 Q1338.07 1519.54 1340.87 1521.1 Q1343.7 1522.62 1345.55 1525.81 M1325.59 1538.25 Q1325.59 1544.71 1328.23 1548.4 Q1330.9 1552.07 1335.55 1552.07 Q1340.2 1552.07 1342.87 1548.4 Q1345.55 1544.71 1345.55 1538.25 Q1345.55 1531.79 1342.87 1528.13 Q1340.2 1524.44 1335.55 1524.44 Q1330.9 1524.44 1328.23 1528.13 Q1325.59 1531.79 1325.59 1538.25 Z\" fill=\"#000000\" fill-rule=\"evenodd\" fill-opacity=\"1\" /><path clip-path=\"url(#clip310)\" d=\"M 0 0 M1388.04 1536.76 L1388.04 1539.62 L1361.11 1539.62 Q1361.49 1545.67 1364.74 1548.85 Q1368.02 1552 1373.84 1552 Q1377.21 1552 1380.37 1551.17 Q1383.55 1550.35 1386.67 1548.69 L1386.67 1554.23 Q1383.52 1555.57 1380.21 1556.27 Q1376.9 1556.97 1373.49 1556.97 Q1364.96 1556.97 1359.96 1552 Q1355 1547.04 1355 1538.57 Q1355 1529.82 1359.71 1524.69 Q1364.45 1519.54 1372.47 1519.54 Q1379.67 1519.54 1383.84 1524.18 Q1388.04 1528.8 1388.04 1536.76 M1382.18 1535.04 Q1382.12 1530.23 1379.47 1527.37 Q1376.86 1524.5 1372.54 1524.5 Q1367.63 1524.5 1364.67 1527.27 Q1361.75 1530.04 1361.3 1535.07 L1382.18 1535.04 Z\" fill=\"#000000\" fill-rule=\"evenodd\" fill-opacity=\"1\" /><path clip-path=\"url(#clip310)\" d=\"M 0 0 M65.7242 927.885 Q66.4244 925.816 68.7161 923.875 Q71.0077 921.902 75.0181 919.928 L88.0042 913.403 L88.0042 920.31 L75.8138 926.389 Q71.0395 928.745 69.48 930.973 Q67.9204 933.169 67.9204 936.988 L67.9204 943.991 L88.0042 943.991 L88.0042 950.42 L40.4842 950.42 L40.4842 935.906 Q40.4842 927.758 43.8898 923.748 Q47.2955 919.737 54.1704 919.737 Q58.6582 919.737 61.6183 921.838 Q64.5784 923.907 65.7242 927.885 M45.7677 943.991 L62.6368 943.991 L62.6368 935.906 Q62.6368 931.259 60.5043 928.904 Q58.34 926.517 54.1704 926.517 Q50.0009 926.517 47.9002 928.904 Q45.7677 931.259 45.7677 935.906 L45.7677 943.991 Z\" fill=\"#000000\" fill-rule=\"evenodd\" fill-opacity=\"1\" /><path clip-path=\"url(#clip310)\" d=\"M 0 0 M73.9359 910.793 L52.3562 910.793 L52.3562 904.937 L73.7131 904.937 Q78.7739 904.937 81.3202 902.964 Q83.8346 900.99 83.8346 897.043 Q83.8346 892.301 80.8109 889.564 Q77.7872 886.795 72.5673 886.795 L52.3562 886.795 L52.3562 880.938 L88.0042 880.938 L88.0042 886.795 L82.5296 886.795 Q85.7762 888.927 87.3676 891.76 Q88.9272 894.561 88.9272 898.285 Q88.9272 904.428 85.1078 907.611 Q81.2883 910.793 73.9359 910.793 M51.4968 896.057 L51.4968 896.057 M38.6063 893.129 L38.6063 886.667 L45.0356 886.667 L45.0356 893.129 L38.6063 893.129 M38.6063 905.574 L38.6063 899.112 L45.0356 899.112 L45.0356 905.574 L38.6063 905.574 Z\" fill=\"#000000\" fill-rule=\"evenodd\" fill-opacity=\"1\" /><path clip-path=\"url(#clip310)\" d=\"M 0 0 M53.4065 852.07 L58.9447 852.07 Q57.6716 854.552 57.035 857.226 Q56.3984 859.9 56.3984 862.764 Q56.3984 867.125 57.7352 869.321 Q59.072 871.485 61.7456 871.485 Q63.7826 871.485 64.9603 869.926 Q66.1061 868.366 67.1565 863.655 L67.6021 861.65 Q68.9389 855.412 71.3897 852.802 Q73.8086 850.16 78.1691 850.16 Q83.1344 850.16 86.0308 854.107 Q88.9272 858.022 88.9272 864.897 Q88.9272 867.761 88.3543 870.88 Q87.8132 873.968 86.6992 877.405 L80.6518 877.405 Q82.3387 874.159 83.198 871.008 Q84.0256 867.857 84.0256 864.769 Q84.0256 860.632 82.6251 858.404 Q81.1929 856.176 78.6147 856.176 Q76.2276 856.176 74.9545 857.799 Q73.6813 859.39 72.5037 864.833 L72.0262 866.87 Q70.8804 872.313 68.5251 874.732 Q66.138 877.151 62.0002 877.151 Q56.9713 877.151 54.2341 873.586 Q51.4968 870.021 51.4968 863.464 Q51.4968 860.218 51.9743 857.353 Q52.4517 854.489 53.4065 852.07 Z\" fill=\"#000000\" fill-rule=\"evenodd\" fill-opacity=\"1\" /><path clip-path=\"url(#clip310)\" d=\"M 0 0 M42.2347 838.224 L52.3562 838.224 L52.3562 826.161 L56.9077 826.161 L56.9077 838.224 L76.2594 838.224 Q80.6199 838.224 81.8613 837.047 Q83.1026 835.837 83.1026 832.177 L83.1026 826.161 L88.0042 826.161 L88.0042 832.177 Q88.0042 838.956 85.4897 841.535 Q82.9434 844.113 76.2594 844.113 L56.9077 844.113 L56.9077 848.409 L52.3562 848.409 L52.3562 844.113 L42.2347 844.113 L42.2347 838.224 Z\" fill=\"#000000\" fill-rule=\"evenodd\" fill-opacity=\"1\" /><path clip-path=\"url(#clip310)\" d=\"M 0 0 M52.3562 824.22 L52.3562 818.013 L82.275 806.873 L52.3562 795.733 L52.3562 789.527 L88.0042 802.895 L88.0042 810.852 L52.3562 824.22 Z\" fill=\"#000000\" fill-rule=\"evenodd\" fill-opacity=\"1\" /><path clip-path=\"url(#clip310)\" d=\"M 0 0 M70.0847 767.183 Q70.0847 774.281 71.7079 777.018 Q73.3312 779.755 77.2461 779.755 Q80.3653 779.755 82.2114 777.718 Q84.0256 775.649 84.0256 772.116 Q84.0256 767.247 80.5881 764.319 Q77.1188 761.358 71.3897 761.358 L70.0847 761.358 L70.0847 767.183 M67.6657 755.502 L88.0042 755.502 L88.0042 761.358 L82.5933 761.358 Q85.8398 763.364 87.3994 766.356 Q88.9272 769.347 88.9272 773.676 Q88.9272 779.151 85.8716 782.397 Q82.7843 785.612 77.6281 785.612 Q71.6125 785.612 68.5569 781.601 Q65.5014 777.559 65.5014 769.57 L65.5014 761.358 L64.9285 761.358 Q60.8862 761.358 58.6901 764.032 Q56.4621 766.674 56.4621 771.48 Q56.4621 774.535 57.1941 777.432 Q57.9262 780.328 59.3903 783.002 L53.9795 783.002 Q52.7381 779.787 52.1334 776.763 Q51.4968 773.74 51.4968 770.875 Q51.4968 763.141 55.5072 759.321 Q59.5176 755.502 67.6657 755.502 Z\" fill=\"#000000\" fill-rule=\"evenodd\" fill-opacity=\"1\" /><path clip-path=\"url(#clip310)\" d=\"M 0 0 M57.8307 728.702 Q57.2578 729.689 57.0032 730.867 Q56.7167 732.013 56.7167 733.413 Q56.7167 738.378 59.9632 741.052 Q63.1779 743.694 69.2253 743.694 L88.0042 743.694 L88.0042 749.582 L52.3562 749.582 L52.3562 743.694 L57.8944 743.694 Q54.6479 741.848 53.0883 738.888 Q51.4968 735.927 51.4968 731.694 Q51.4968 731.09 51.5923 730.357 Q51.656 729.625 51.8151 728.734 L57.8307 728.702 Z\" fill=\"#000000\" fill-rule=\"evenodd\" fill-opacity=\"1\" /><path clip-path=\"url(#clip310)\" d=\"M 0 0 M52.3562 722.559 L52.3562 716.703 L88.0042 716.703 L88.0042 722.559 L52.3562 722.559 M38.479 722.559 L38.479 716.703 L45.895 716.703 L45.895 722.559 L38.479 722.559 Z\" fill=\"#000000\" fill-rule=\"evenodd\" fill-opacity=\"1\" /><path clip-path=\"url(#clip310)\" d=\"M 0 0 M70.0847 694.359 Q70.0847 701.457 71.7079 704.194 Q73.3312 706.932 77.2461 706.932 Q80.3653 706.932 82.2114 704.895 Q84.0256 702.826 84.0256 699.293 Q84.0256 694.423 80.5881 691.495 Q77.1188 688.535 71.3897 688.535 L70.0847 688.535 L70.0847 694.359 M67.6657 682.678 L88.0042 682.678 L88.0042 688.535 L82.5933 688.535 Q85.8398 690.54 87.3994 693.532 Q88.9272 696.524 88.9272 700.852 Q88.9272 706.327 85.8716 709.573 Q82.7843 712.788 77.6281 712.788 Q71.6125 712.788 68.5569 708.778 Q65.5014 704.735 65.5014 696.747 L65.5014 688.535 L64.9285 688.535 Q60.8862 688.535 58.6901 691.208 Q56.4621 693.85 56.4621 698.656 Q56.4621 701.712 57.1941 704.608 Q57.9262 707.505 59.3903 710.178 L53.9795 710.178 Q52.7381 706.963 52.1334 703.94 Q51.4968 700.916 51.4968 698.052 Q51.4968 690.317 55.5072 686.498 Q59.5176 682.678 67.6657 682.678 Z\" fill=\"#000000\" fill-rule=\"evenodd\" fill-opacity=\"1\" /><path clip-path=\"url(#clip310)\" d=\"M 0 0 M70.212 650.945 Q63.7508 650.945 60.0905 653.619 Q56.3984 656.261 56.3984 660.908 Q56.3984 665.555 60.0905 668.228 Q63.7508 670.87 70.212 670.87 Q76.6732 670.87 80.3653 668.228 Q84.0256 665.555 84.0256 660.908 Q84.0256 656.261 80.3653 653.619 Q76.6732 650.945 70.212 650.945 M57.7671 670.87 Q54.5842 669.024 53.0564 666.223 Q51.4968 663.39 51.4968 659.475 Q51.4968 652.982 56.6531 648.94 Q61.8093 644.866 70.212 644.866 Q78.6147 644.866 83.771 648.94 Q88.9272 652.982 88.9272 659.475 Q88.9272 663.39 87.3994 666.223 Q85.8398 669.024 82.657 670.87 L88.0042 670.87 L88.0042 676.758 L38.479 676.758 L38.479 670.87 L57.7671 670.87 Z\" fill=\"#000000\" fill-rule=\"evenodd\" fill-opacity=\"1\" /><path clip-path=\"url(#clip310)\" d=\"M 0 0 M38.479 638.723 L38.479 632.867 L88.0042 632.867 L88.0042 638.723 L38.479 638.723 Z\" fill=\"#000000\" fill-rule=\"evenodd\" fill-opacity=\"1\" /><path clip-path=\"url(#clip310)\" d=\"M 0 0 M68.7161 596.232 L71.5806 596.232 L71.5806 623.159 Q77.6281 622.777 80.8109 619.531 Q83.9619 616.252 83.9619 610.428 Q83.9619 607.054 83.1344 603.903 Q82.3069 600.72 80.6518 597.601 L86.1899 597.601 Q87.5267 600.752 88.227 604.062 Q88.9272 607.372 88.9272 610.778 Q88.9272 619.308 83.9619 624.305 Q78.9967 629.27 70.5303 629.27 Q61.7774 629.27 56.6531 624.559 Q51.4968 619.817 51.4968 611.796 Q51.4968 604.603 56.1438 600.433 Q60.7589 596.232 68.7161 596.232 M66.9973 602.088 Q62.1912 602.152 59.3266 604.794 Q56.4621 607.404 56.4621 611.733 Q56.4621 616.634 59.2312 619.594 Q62.0002 622.522 67.0292 622.968 L66.9973 602.088 Z\" fill=\"#000000\" fill-rule=\"evenodd\" fill-opacity=\"1\" /><path clip-path=\"url(#clip312)\" d=\"\n",
       "M321.278 556.708 L321.278 1423.18 L456.108 1423.18 L456.108 556.708 L321.278 556.708 L321.278 556.708  Z\n",
       "  \" fill=\"#00688b\" fill-rule=\"evenodd\" fill-opacity=\"1\"/>\n",
       "<polyline clip-path=\"url(#clip312)\" style=\"stroke:#000000; stroke-width:4; stroke-opacity:1; fill:none\" points=\"\n",
       "  321.278,556.708 321.278,1423.18 456.108,1423.18 456.108,556.708 321.278,556.708 \n",
       "  \"/>\n",
       "<path clip-path=\"url(#clip312)\" d=\"\n",
       "M826.888 1423.18 L826.888 1423.18 L961.717 1423.18 L961.717 1423.18 L826.888 1423.18 L826.888 1423.18  Z\n",
       "  \" fill=\"#00688b\" fill-rule=\"evenodd\" fill-opacity=\"1\"/>\n",
       "<polyline clip-path=\"url(#clip312)\" style=\"stroke:#000000; stroke-width:4; stroke-opacity:1; fill:none\" points=\"\n",
       "  826.888,1423.18 826.888,1423.18 961.717,1423.18 826.888,1423.18 \n",
       "  \"/>\n",
       "<path clip-path=\"url(#clip312)\" d=\"\n",
       "M1332.5 556.708 L1332.5 1423.18 L1467.33 1423.18 L1467.33 556.708 L1332.5 556.708 L1332.5 556.708  Z\n",
       "  \" fill=\"#00688b\" fill-rule=\"evenodd\" fill-opacity=\"1\"/>\n",
       "<polyline clip-path=\"url(#clip312)\" style=\"stroke:#000000; stroke-width:4; stroke-opacity:1; fill:none\" points=\"\n",
       "  1332.5,556.708 1332.5,1423.18 1467.33,1423.18 1467.33,556.708 1332.5,556.708 \n",
       "  \"/>\n",
       "<path clip-path=\"url(#clip312)\" d=\"\n",
       "M1838.11 556.708 L1838.11 1423.18 L1972.94 1423.18 L1972.94 556.708 L1838.11 556.708 L1838.11 556.708  Z\n",
       "  \" fill=\"#00688b\" fill-rule=\"evenodd\" fill-opacity=\"1\"/>\n",
       "<polyline clip-path=\"url(#clip312)\" style=\"stroke:#000000; stroke-width:4; stroke-opacity:1; fill:none\" points=\"\n",
       "  1838.11,556.708 1838.11,1423.18 1972.94,1423.18 1972.94,556.708 1838.11,556.708 \n",
       "  \"/>\n",
       "<path clip-path=\"url(#clip312)\" d=\"\n",
       "M456.108 1423.18 L456.108 1423.18 L590.937 1423.18 L590.937 1423.18 L456.108 1423.18 L456.108 1423.18  Z\n",
       "  \" fill=\"#d6d6d6\" fill-rule=\"evenodd\" fill-opacity=\"1\"/>\n",
       "<polyline clip-path=\"url(#clip312)\" style=\"stroke:#000000; stroke-width:4; stroke-opacity:1; fill:none\" points=\"\n",
       "  456.108,1423.18 456.108,1423.18 590.937,1423.18 456.108,1423.18 \n",
       "  \"/>\n",
       "<path clip-path=\"url(#clip312)\" d=\"\n",
       "M961.717 556.708 L961.717 1423.18 L1096.55 1423.18 L1096.55 556.708 L961.717 556.708 L961.717 556.708  Z\n",
       "  \" fill=\"#d6d6d6\" fill-rule=\"evenodd\" fill-opacity=\"1\"/>\n",
       "<polyline clip-path=\"url(#clip312)\" style=\"stroke:#000000; stroke-width:4; stroke-opacity:1; fill:none\" points=\"\n",
       "  961.717,556.708 961.717,1423.18 1096.55,1423.18 1096.55,556.708 961.717,556.708 \n",
       "  \"/>\n",
       "<path clip-path=\"url(#clip312)\" d=\"\n",
       "M1467.33 556.708 L1467.33 1423.18 L1602.16 1423.18 L1602.16 556.708 L1467.33 556.708 L1467.33 556.708  Z\n",
       "  \" fill=\"#d6d6d6\" fill-rule=\"evenodd\" fill-opacity=\"1\"/>\n",
       "<polyline clip-path=\"url(#clip312)\" style=\"stroke:#000000; stroke-width:4; stroke-opacity:1; fill:none\" points=\"\n",
       "  1467.33,556.708 1467.33,1423.18 1602.16,1423.18 1602.16,556.708 1467.33,556.708 \n",
       "  \"/>\n",
       "<path clip-path=\"url(#clip312)\" d=\"\n",
       "M1972.94 1423.18 L1972.94 1423.18 L2107.76 1423.18 L2107.76 1423.18 L1972.94 1423.18 L1972.94 1423.18  Z\n",
       "  \" fill=\"#d6d6d6\" fill-rule=\"evenodd\" fill-opacity=\"1\"/>\n",
       "<polyline clip-path=\"url(#clip312)\" style=\"stroke:#000000; stroke-width:4; stroke-opacity:1; fill:none\" points=\"\n",
       "  1972.94,1423.18 1972.94,1423.18 2107.76,1423.18 1972.94,1423.18 \n",
       "  \"/>\n",
       "<path clip-path=\"url(#clip312)\" d=\"\n",
       "M590.937 556.708 L590.937 1423.18 L725.766 1423.18 L725.766 556.708 L590.937 556.708 L590.937 556.708  Z\n",
       "  \" fill=\"#cd0000\" fill-rule=\"evenodd\" fill-opacity=\"1\"/>\n",
       "<polyline clip-path=\"url(#clip312)\" style=\"stroke:#000000; stroke-width:4; stroke-opacity:1; fill:none\" points=\"\n",
       "  590.937,556.708 590.937,1423.18 725.766,1423.18 725.766,556.708 590.937,556.708 \n",
       "  \"/>\n",
       "<path clip-path=\"url(#clip312)\" d=\"\n",
       "M1096.55 556.708 L1096.55 1423.18 L1231.38 1423.18 L1231.38 556.708 L1096.55 556.708 L1096.55 556.708  Z\n",
       "  \" fill=\"#cd0000\" fill-rule=\"evenodd\" fill-opacity=\"1\"/>\n",
       "<polyline clip-path=\"url(#clip312)\" style=\"stroke:#000000; stroke-width:4; stroke-opacity:1; fill:none\" points=\"\n",
       "  1096.55,556.708 1096.55,1423.18 1231.38,1423.18 1231.38,556.708 1096.55,556.708 \n",
       "  \"/>\n",
       "<path clip-path=\"url(#clip312)\" d=\"\n",
       "M1602.16 1423.18 L1602.16 1423.18 L1736.98 1423.18 L1736.98 1423.18 L1602.16 1423.18 L1602.16 1423.18  Z\n",
       "  \" fill=\"#cd0000\" fill-rule=\"evenodd\" fill-opacity=\"1\"/>\n",
       "<polyline clip-path=\"url(#clip312)\" style=\"stroke:#000000; stroke-width:4; stroke-opacity:1; fill:none\" points=\"\n",
       "  1602.16,1423.18 1602.16,1423.18 1736.98,1423.18 1602.16,1423.18 \n",
       "  \"/>\n",
       "<path clip-path=\"url(#clip312)\" d=\"\n",
       "M2107.76 556.708 L2107.76 1423.18 L2242.59 1423.18 L2242.59 556.708 L2107.76 556.708 L2107.76 556.708  Z\n",
       "  \" fill=\"#cd0000\" fill-rule=\"evenodd\" fill-opacity=\"1\"/>\n",
       "<polyline clip-path=\"url(#clip312)\" style=\"stroke:#000000; stroke-width:4; stroke-opacity:1; fill:none\" points=\"\n",
       "  2107.76,556.708 2107.76,1423.18 2242.59,1423.18 2242.59,556.708 2107.76,556.708 \n",
       "  \"/>\n",
       "<path clip-path=\"url(#clip310)\" d=\"\n",
       "M1836.68 448.912 L2280.76 448.912 L2280.76 206.992 L1836.68 206.992  Z\n",
       "  \" fill=\"#ffffff\" fill-rule=\"evenodd\" fill-opacity=\"1\"/>\n",
       "<polyline clip-path=\"url(#clip310)\" style=\"stroke:#000000; stroke-width:4; stroke-opacity:1; fill:none\" points=\"\n",
       "  1836.68,448.912 2280.76,448.912 2280.76,206.992 1836.68,206.992 1836.68,448.912 \n",
       "  \"/>\n",
       "<path clip-path=\"url(#clip310)\" d=\"\n",
       "M1860.68 291.664 L2004.68 291.664 L2004.68 243.28 L1860.68 243.28 L1860.68 291.664  Z\n",
       "  \" fill=\"#00688b\" fill-rule=\"evenodd\" fill-opacity=\"1\"/>\n",
       "<polyline clip-path=\"url(#clip310)\" style=\"stroke:#000000; stroke-width:4; stroke-opacity:1; fill:none\" points=\"\n",
       "  1860.68,291.664 2004.68,291.664 2004.68,243.28 1860.68,243.28 1860.68,291.664 \n",
       "  \"/>\n",
       "<path clip-path=\"url(#clip310)\" d=\"M 0 0 M2033.36 254.035 L2033.36 267.021 L2039.24 267.021 Q2042.5 267.021 2044.28 265.331 Q2046.07 263.641 2046.07 260.516 Q2046.07 257.414 2044.28 255.725 Q2042.5 254.035 2039.24 254.035 L2033.36 254.035 M2028.68 250.192 L2039.24 250.192 Q2045.05 250.192 2048.01 252.831 Q2051 255.447 2051 260.516 Q2051 265.632 2048.01 268.248 Q2045.05 270.863 2039.24 270.863 L2033.36 270.863 L2033.36 284.752 L2028.68 284.752 L2028.68 250.192 Z\" fill=\"#000000\" fill-rule=\"evenodd\" fill-opacity=\"1\" /><path clip-path=\"url(#clip310)\" d=\"M 0 0 M2069.65 262.808 Q2068.94 262.391 2068.08 262.206 Q2067.25 261.998 2066.23 261.998 Q2062.62 261.998 2060.67 264.359 Q2058.75 266.697 2058.75 271.095 L2058.75 284.752 L2054.47 284.752 L2054.47 258.826 L2058.75 258.826 L2058.75 262.854 Q2060.09 260.493 2062.25 259.359 Q2064.4 258.201 2067.48 258.201 Q2067.92 258.201 2068.45 258.271 Q2068.98 258.317 2069.63 258.433 L2069.65 262.808 Z\" fill=\"#000000\" fill-rule=\"evenodd\" fill-opacity=\"1\" /><path clip-path=\"url(#clip310)\" d=\"M 0 0 M2083.13 261.812 Q2079.7 261.812 2077.71 264.498 Q2075.72 267.16 2075.72 271.812 Q2075.72 276.465 2077.69 279.15 Q2079.68 281.812 2083.13 281.812 Q2086.53 281.812 2088.52 279.127 Q2090.51 276.442 2090.51 271.812 Q2090.51 267.206 2088.52 264.521 Q2086.53 261.812 2083.13 261.812 M2083.13 258.201 Q2088.68 258.201 2091.85 261.812 Q2095.03 265.424 2095.03 271.812 Q2095.03 278.178 2091.85 281.812 Q2088.68 285.423 2083.13 285.423 Q2077.55 285.423 2074.38 281.812 Q2071.23 278.178 2071.23 271.812 Q2071.23 265.424 2074.38 261.812 Q2077.55 258.201 2083.13 258.201 Z\" fill=\"#000000\" fill-rule=\"evenodd\" fill-opacity=\"1\" /><path clip-path=\"url(#clip310)\" d=\"M 0 0 M2116.55 262.762 L2116.55 248.734 L2120.81 248.734 L2120.81 284.752 L2116.55 284.752 L2116.55 280.863 Q2115.21 283.178 2113.15 284.312 Q2111.11 285.423 2108.24 285.423 Q2103.54 285.423 2100.58 281.673 Q2097.64 277.923 2097.64 271.812 Q2097.64 265.701 2100.58 261.951 Q2103.54 258.201 2108.24 258.201 Q2111.11 258.201 2113.15 259.336 Q2115.21 260.447 2116.55 262.762 M2102.04 271.812 Q2102.04 276.511 2103.96 279.197 Q2105.9 281.859 2109.28 281.859 Q2112.66 281.859 2114.61 279.197 Q2116.55 276.511 2116.55 271.812 Q2116.55 267.113 2114.61 264.451 Q2112.66 261.766 2109.28 261.766 Q2105.9 261.766 2103.96 264.451 Q2102.04 267.113 2102.04 271.812 Z\" fill=\"#000000\" fill-rule=\"evenodd\" fill-opacity=\"1\" /><path clip-path=\"url(#clip310)\" d=\"M 0 0 M2124.84 274.521 L2124.84 258.826 L2129.1 258.826 L2129.1 274.359 Q2129.1 278.039 2130.53 279.891 Q2131.97 281.72 2134.84 281.72 Q2138.29 281.72 2140.28 279.521 Q2142.29 277.322 2142.29 273.525 L2142.29 258.826 L2146.55 258.826 L2146.55 284.752 L2142.29 284.752 L2142.29 280.771 Q2140.74 283.132 2138.68 284.289 Q2136.65 285.423 2133.94 285.423 Q2129.47 285.423 2127.15 282.646 Q2124.84 279.868 2124.84 274.521 M2135.56 258.201 L2135.56 258.201 Z\" fill=\"#000000\" fill-rule=\"evenodd\" fill-opacity=\"1\" /><path clip-path=\"url(#clip310)\" d=\"M 0 0 M2150.86 248.734 L2155.14 248.734 L2155.14 270.007 L2167.85 258.826 L2173.29 258.826 L2159.54 270.956 L2173.87 284.752 L2168.31 284.752 L2155.14 272.09 L2155.14 284.752 L2150.86 284.752 L2150.86 248.734 Z\" fill=\"#000000\" fill-rule=\"evenodd\" fill-opacity=\"1\" /><path clip-path=\"url(#clip310)\" d=\"M 0 0 M2182.55 251.465 L2182.55 258.826 L2191.32 258.826 L2191.32 262.137 L2182.55 262.137 L2182.55 276.211 Q2182.55 279.382 2183.4 280.285 Q2184.28 281.187 2186.95 281.187 L2191.32 281.187 L2191.32 284.752 L2186.95 284.752 Q2182.02 284.752 2180.14 282.923 Q2178.27 281.072 2178.27 276.211 L2178.27 262.137 L2175.14 262.137 L2175.14 258.826 L2178.27 258.826 L2178.27 251.465 L2182.55 251.465 Z\" fill=\"#000000\" fill-rule=\"evenodd\" fill-opacity=\"1\" /><path clip-path=\"url(#clip310)\" d=\"M 0 0 M2212.27 280.817 L2219.91 280.817 L2219.91 254.451 L2211.6 256.118 L2211.6 251.859 L2219.86 250.192 L2224.54 250.192 L2224.54 280.817 L2232.18 280.817 L2232.18 284.752 L2212.27 284.752 L2212.27 280.817 Z\" fill=\"#000000\" fill-rule=\"evenodd\" fill-opacity=\"1\" /><path clip-path=\"url(#clip310)\" d=\"\n",
       "M1860.68 352.144 L2004.68 352.144 L2004.68 303.76 L1860.68 303.76 L1860.68 352.144  Z\n",
       "  \" fill=\"#d6d6d6\" fill-rule=\"evenodd\" fill-opacity=\"1\"/>\n",
       "<polyline clip-path=\"url(#clip310)\" style=\"stroke:#000000; stroke-width:4; stroke-opacity:1; fill:none\" points=\"\n",
       "  1860.68,352.144 2004.68,352.144 2004.68,303.76 1860.68,303.76 1860.68,352.144 \n",
       "  \"/>\n",
       "<path clip-path=\"url(#clip310)\" d=\"M 0 0 M2033.36 314.515 L2033.36 327.501 L2039.24 327.501 Q2042.5 327.501 2044.28 325.811 Q2046.07 324.121 2046.07 320.996 Q2046.07 317.894 2044.28 316.205 Q2042.5 314.515 2039.24 314.515 L2033.36 314.515 M2028.68 310.672 L2039.24 310.672 Q2045.05 310.672 2048.01 313.311 Q2051 315.927 2051 320.996 Q2051 326.112 2048.01 328.728 Q2045.05 331.343 2039.24 331.343 L2033.36 331.343 L2033.36 345.232 L2028.68 345.232 L2028.68 310.672 Z\" fill=\"#000000\" fill-rule=\"evenodd\" fill-opacity=\"1\" /><path clip-path=\"url(#clip310)\" d=\"M 0 0 M2069.65 323.288 Q2068.94 322.871 2068.08 322.686 Q2067.25 322.478 2066.23 322.478 Q2062.62 322.478 2060.67 324.839 Q2058.75 327.177 2058.75 331.575 L2058.75 345.232 L2054.47 345.232 L2054.47 319.306 L2058.75 319.306 L2058.75 323.334 Q2060.09 320.973 2062.25 319.839 Q2064.4 318.681 2067.48 318.681 Q2067.92 318.681 2068.45 318.751 Q2068.98 318.797 2069.63 318.913 L2069.65 323.288 Z\" fill=\"#000000\" fill-rule=\"evenodd\" fill-opacity=\"1\" /><path clip-path=\"url(#clip310)\" d=\"M 0 0 M2083.13 322.292 Q2079.7 322.292 2077.71 324.978 Q2075.72 327.64 2075.72 332.292 Q2075.72 336.945 2077.69 339.63 Q2079.68 342.292 2083.13 342.292 Q2086.53 342.292 2088.52 339.607 Q2090.51 336.922 2090.51 332.292 Q2090.51 327.686 2088.52 325.001 Q2086.53 322.292 2083.13 322.292 M2083.13 318.681 Q2088.68 318.681 2091.85 322.292 Q2095.03 325.904 2095.03 332.292 Q2095.03 338.658 2091.85 342.292 Q2088.68 345.903 2083.13 345.903 Q2077.55 345.903 2074.38 342.292 Q2071.23 338.658 2071.23 332.292 Q2071.23 325.904 2074.38 322.292 Q2077.55 318.681 2083.13 318.681 Z\" fill=\"#000000\" fill-rule=\"evenodd\" fill-opacity=\"1\" /><path clip-path=\"url(#clip310)\" d=\"M 0 0 M2116.55 323.242 L2116.55 309.214 L2120.81 309.214 L2120.81 345.232 L2116.55 345.232 L2116.55 341.343 Q2115.21 343.658 2113.15 344.792 Q2111.11 345.903 2108.24 345.903 Q2103.54 345.903 2100.58 342.153 Q2097.64 338.403 2097.64 332.292 Q2097.64 326.181 2100.58 322.431 Q2103.54 318.681 2108.24 318.681 Q2111.11 318.681 2113.15 319.816 Q2115.21 320.927 2116.55 323.242 M2102.04 332.292 Q2102.04 336.991 2103.96 339.677 Q2105.9 342.339 2109.28 342.339 Q2112.66 342.339 2114.61 339.677 Q2116.55 336.991 2116.55 332.292 Q2116.55 327.593 2114.61 324.931 Q2112.66 322.246 2109.28 322.246 Q2105.9 322.246 2103.96 324.931 Q2102.04 327.593 2102.04 332.292 Z\" fill=\"#000000\" fill-rule=\"evenodd\" fill-opacity=\"1\" /><path clip-path=\"url(#clip310)\" d=\"M 0 0 M2124.84 335.001 L2124.84 319.306 L2129.1 319.306 L2129.1 334.839 Q2129.1 338.519 2130.53 340.371 Q2131.97 342.2 2134.84 342.2 Q2138.29 342.2 2140.28 340.001 Q2142.29 337.802 2142.29 334.005 L2142.29 319.306 L2146.55 319.306 L2146.55 345.232 L2142.29 345.232 L2142.29 341.251 Q2140.74 343.612 2138.68 344.769 Q2136.65 345.903 2133.94 345.903 Q2129.47 345.903 2127.15 343.126 Q2124.84 340.348 2124.84 335.001 M2135.56 318.681 L2135.56 318.681 Z\" fill=\"#000000\" fill-rule=\"evenodd\" fill-opacity=\"1\" /><path clip-path=\"url(#clip310)\" d=\"M 0 0 M2150.86 309.214 L2155.14 309.214 L2155.14 330.487 L2167.85 319.306 L2173.29 319.306 L2159.54 331.436 L2173.87 345.232 L2168.31 345.232 L2155.14 332.57 L2155.14 345.232 L2150.86 345.232 L2150.86 309.214 Z\" fill=\"#000000\" fill-rule=\"evenodd\" fill-opacity=\"1\" /><path clip-path=\"url(#clip310)\" d=\"M 0 0 M2182.55 311.945 L2182.55 319.306 L2191.32 319.306 L2191.32 322.617 L2182.55 322.617 L2182.55 336.691 Q2182.55 339.862 2183.4 340.765 Q2184.28 341.667 2186.95 341.667 L2191.32 341.667 L2191.32 345.232 L2186.95 345.232 Q2182.02 345.232 2180.14 343.403 Q2178.27 341.552 2178.27 336.691 L2178.27 322.617 L2175.14 322.617 L2175.14 319.306 L2178.27 319.306 L2178.27 311.945 L2182.55 311.945 Z\" fill=\"#000000\" fill-rule=\"evenodd\" fill-opacity=\"1\" /><path clip-path=\"url(#clip310)\" d=\"M 0 0 M2215.49 341.297 L2231.81 341.297 L2231.81 345.232 L2209.86 345.232 L2209.86 341.297 Q2212.52 338.542 2217.11 333.913 Q2221.71 329.26 2222.89 327.917 Q2225.14 325.394 2226.02 323.658 Q2226.92 321.899 2226.92 320.209 Q2226.92 317.454 2224.98 315.718 Q2223.06 313.982 2219.96 313.982 Q2217.76 313.982 2215.3 314.746 Q2212.87 315.51 2210.09 317.061 L2210.09 312.339 Q2212.92 311.205 2215.37 310.626 Q2217.83 310.047 2219.86 310.047 Q2225.23 310.047 2228.43 312.732 Q2231.62 315.417 2231.62 319.908 Q2231.62 322.038 2230.81 323.959 Q2230.02 325.857 2227.92 328.45 Q2227.34 329.121 2224.24 332.339 Q2221.14 335.533 2215.49 341.297 Z\" fill=\"#000000\" fill-rule=\"evenodd\" fill-opacity=\"1\" /><path clip-path=\"url(#clip310)\" d=\"\n",
       "M1860.68 412.624 L2004.68 412.624 L2004.68 364.24 L1860.68 364.24 L1860.68 412.624  Z\n",
       "  \" fill=\"#cd0000\" fill-rule=\"evenodd\" fill-opacity=\"1\"/>\n",
       "<polyline clip-path=\"url(#clip310)\" style=\"stroke:#000000; stroke-width:4; stroke-opacity:1; fill:none\" points=\"\n",
       "  1860.68,412.624 2004.68,412.624 2004.68,364.24 1860.68,364.24 1860.68,412.624 \n",
       "  \"/>\n",
       "<path clip-path=\"url(#clip310)\" d=\"M 0 0 M2033.36 374.995 L2033.36 387.981 L2039.24 387.981 Q2042.5 387.981 2044.28 386.291 Q2046.07 384.601 2046.07 381.476 Q2046.07 378.374 2044.28 376.685 Q2042.5 374.995 2039.24 374.995 L2033.36 374.995 M2028.68 371.152 L2039.24 371.152 Q2045.05 371.152 2048.01 373.791 Q2051 376.407 2051 381.476 Q2051 386.592 2048.01 389.208 Q2045.05 391.823 2039.24 391.823 L2033.36 391.823 L2033.36 405.712 L2028.68 405.712 L2028.68 371.152 Z\" fill=\"#000000\" fill-rule=\"evenodd\" fill-opacity=\"1\" /><path clip-path=\"url(#clip310)\" d=\"M 0 0 M2069.65 383.768 Q2068.94 383.351 2068.08 383.166 Q2067.25 382.958 2066.23 382.958 Q2062.62 382.958 2060.67 385.319 Q2058.75 387.657 2058.75 392.055 L2058.75 405.712 L2054.47 405.712 L2054.47 379.786 L2058.75 379.786 L2058.75 383.814 Q2060.09 381.453 2062.25 380.319 Q2064.4 379.161 2067.48 379.161 Q2067.92 379.161 2068.45 379.231 Q2068.98 379.277 2069.63 379.393 L2069.65 383.768 Z\" fill=\"#000000\" fill-rule=\"evenodd\" fill-opacity=\"1\" /><path clip-path=\"url(#clip310)\" d=\"M 0 0 M2083.13 382.772 Q2079.7 382.772 2077.71 385.458 Q2075.72 388.12 2075.72 392.772 Q2075.72 397.425 2077.69 400.11 Q2079.68 402.772 2083.13 402.772 Q2086.53 402.772 2088.52 400.087 Q2090.51 397.402 2090.51 392.772 Q2090.51 388.166 2088.52 385.481 Q2086.53 382.772 2083.13 382.772 M2083.13 379.161 Q2088.68 379.161 2091.85 382.772 Q2095.03 386.384 2095.03 392.772 Q2095.03 399.138 2091.85 402.772 Q2088.68 406.383 2083.13 406.383 Q2077.55 406.383 2074.38 402.772 Q2071.23 399.138 2071.23 392.772 Q2071.23 386.384 2074.38 382.772 Q2077.55 379.161 2083.13 379.161 Z\" fill=\"#000000\" fill-rule=\"evenodd\" fill-opacity=\"1\" /><path clip-path=\"url(#clip310)\" d=\"M 0 0 M2116.55 383.722 L2116.55 369.694 L2120.81 369.694 L2120.81 405.712 L2116.55 405.712 L2116.55 401.823 Q2115.21 404.138 2113.15 405.272 Q2111.11 406.383 2108.24 406.383 Q2103.54 406.383 2100.58 402.633 Q2097.64 398.883 2097.64 392.772 Q2097.64 386.661 2100.58 382.911 Q2103.54 379.161 2108.24 379.161 Q2111.11 379.161 2113.15 380.296 Q2115.21 381.407 2116.55 383.722 M2102.04 392.772 Q2102.04 397.471 2103.96 400.157 Q2105.9 402.819 2109.28 402.819 Q2112.66 402.819 2114.61 400.157 Q2116.55 397.471 2116.55 392.772 Q2116.55 388.073 2114.61 385.411 Q2112.66 382.726 2109.28 382.726 Q2105.9 382.726 2103.96 385.411 Q2102.04 388.073 2102.04 392.772 Z\" fill=\"#000000\" fill-rule=\"evenodd\" fill-opacity=\"1\" /><path clip-path=\"url(#clip310)\" d=\"M 0 0 M2124.84 395.481 L2124.84 379.786 L2129.1 379.786 L2129.1 395.319 Q2129.1 398.999 2130.53 400.851 Q2131.97 402.68 2134.84 402.68 Q2138.29 402.68 2140.28 400.481 Q2142.29 398.282 2142.29 394.485 L2142.29 379.786 L2146.55 379.786 L2146.55 405.712 L2142.29 405.712 L2142.29 401.731 Q2140.74 404.092 2138.68 405.249 Q2136.65 406.383 2133.94 406.383 Q2129.47 406.383 2127.15 403.606 Q2124.84 400.828 2124.84 395.481 M2135.56 379.161 L2135.56 379.161 Z\" fill=\"#000000\" fill-rule=\"evenodd\" fill-opacity=\"1\" /><path clip-path=\"url(#clip310)\" d=\"M 0 0 M2150.86 369.694 L2155.14 369.694 L2155.14 390.967 L2167.85 379.786 L2173.29 379.786 L2159.54 391.916 L2173.87 405.712 L2168.31 405.712 L2155.14 393.05 L2155.14 405.712 L2150.86 405.712 L2150.86 369.694 Z\" fill=\"#000000\" fill-rule=\"evenodd\" fill-opacity=\"1\" /><path clip-path=\"url(#clip310)\" d=\"M 0 0 M2182.55 372.425 L2182.55 379.786 L2191.32 379.786 L2191.32 383.097 L2182.55 383.097 L2182.55 397.171 Q2182.55 400.342 2183.4 401.245 Q2184.28 402.147 2186.95 402.147 L2191.32 402.147 L2191.32 405.712 L2186.95 405.712 Q2182.02 405.712 2180.14 403.883 Q2178.27 402.032 2178.27 397.171 L2178.27 383.097 L2175.14 383.097 L2175.14 379.786 L2178.27 379.786 L2178.27 372.425 L2182.55 372.425 Z\" fill=\"#000000\" fill-rule=\"evenodd\" fill-opacity=\"1\" /><path clip-path=\"url(#clip310)\" d=\"M 0 0 M2225.63 387.078 Q2228.98 387.796 2230.86 390.064 Q2232.76 392.333 2232.76 395.666 Q2232.76 400.782 2229.24 403.583 Q2225.72 406.383 2219.24 406.383 Q2217.06 406.383 2214.75 405.944 Q2212.46 405.527 2210 404.67 L2210 400.157 Q2211.95 401.291 2214.26 401.87 Q2216.58 402.448 2219.1 402.448 Q2223.5 402.448 2225.79 400.712 Q2228.1 398.976 2228.1 395.666 Q2228.1 392.61 2225.95 390.897 Q2223.82 389.161 2220 389.161 L2215.97 389.161 L2215.97 385.319 L2220.19 385.319 Q2223.64 385.319 2225.46 383.953 Q2227.29 382.564 2227.29 379.972 Q2227.29 377.31 2225.39 375.897 Q2223.52 374.462 2220 374.462 Q2218.08 374.462 2215.88 374.879 Q2213.68 375.296 2211.04 376.175 L2211.04 372.009 Q2213.71 371.268 2216.02 370.897 Q2218.36 370.527 2220.42 370.527 Q2225.74 370.527 2228.84 372.958 Q2231.95 375.365 2231.95 379.485 Q2231.95 382.356 2230.3 384.346 Q2228.66 386.314 2225.63 387.078 Z\" fill=\"#000000\" fill-rule=\"evenodd\" fill-opacity=\"1\" /></svg>\n"
      ]
     },
     "execution_count": 28,
     "metadata": {},
     "output_type": "execute_result"
    }
   ],
   "source": [
    "groupedbar(bardataGamma, label=[\"Produkt 1\" \"Produkt 2\" \"Produkt 3\"], xlabel = \"Periode\",\n",
    "           ylabel = \"Rüstvariable\", title = \"Rüstvariablen der Produkte\",\n",
    "           colour = [:DeepSkyBlue4 :grey84 :Red3], ylim = (0,1.5))\n"
   ]
  }
 ],
 "metadata": {
  "@webio": {
   "lastCommId": null,
   "lastKernelId": null
  },
  "kernelspec": {
   "display_name": "Julia 1.4.1",
   "language": "julia",
   "name": "julia-1.4"
  },
  "language_info": {
   "file_extension": ".jl",
   "mimetype": "application/julia",
   "name": "julia",
   "version": "1.4.1"
  }
 },
 "nbformat": 4,
 "nbformat_minor": 2
}
