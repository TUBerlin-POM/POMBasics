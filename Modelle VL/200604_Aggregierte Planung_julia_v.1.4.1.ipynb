{
 "cells": [
  {
   "cell_type": "markdown",
   "metadata": {
    "slideshow": {
     "slide_type": "slide"
    }
   },
   "source": [
    "## Einrichtung von Julia JuMP\n",
    "---"
   ]
  },
  {
   "cell_type": "markdown",
   "metadata": {
    "slideshow": {
     "slide_type": "fragment"
    }
   },
   "source": [
    "Überprüfen Sie die bereits installierten Pakete. In der JuliaBox sind möglicherweise alle notwendigen Pakete bereits vorhanden."
   ]
  },
  {
   "cell_type": "code",
   "execution_count": 26,
   "metadata": {
    "slideshow": {
     "slide_type": "fragment"
    }
   },
   "outputs": [
    {
     "name": "stdout",
     "output_type": "stream",
     "text": [
      "\u001b[32m\u001b[1mStatus\u001b[22m\u001b[39m `C:\\Users\\krueg\\.julia\\environments\\v1.4\\Project.toml`\n",
      " \u001b[90m [9961bab8]\u001b[39m\u001b[37m Cbc v0.7.0\u001b[39m\n",
      " \u001b[90m [e2554f3b]\u001b[39m\u001b[37m Clp v0.8.0\u001b[39m\n",
      " \u001b[90m [60bf3e95]\u001b[39m\u001b[37m GLPK v0.13.0\u001b[39m\n",
      " \u001b[90m [2e9cd046]\u001b[39m\u001b[37m Gurobi v0.8.0\u001b[39m\n",
      " \u001b[90m [7073ff75]\u001b[39m\u001b[37m IJulia v1.21.2\u001b[39m\n",
      " \u001b[90m [4076af6c]\u001b[39m\u001b[37m JuMP v0.21.2\u001b[39m\n",
      " \u001b[90m [f3b207a7]\u001b[39m\u001b[37m StatsPlots v0.14.6\u001b[39m\n"
     ]
    }
   ],
   "source": [
    "using Pkg;\n",
    "Pkg.status()"
   ]
  },
  {
   "cell_type": "markdown",
   "metadata": {
    "slideshow": {
     "slide_type": "slide"
    }
   },
   "source": [
    "Installieren Sie ``JuMP`` , mit dem Sie einfach Optimierungsprogramme formulieren können, sowie ``Cbc``, einen open-source Solver zum Lösen des Problems, und ``StatsPlots`` zur Visualisierung der Lösung.\n",
    "\n"
   ]
  },
  {
   "cell_type": "code",
   "execution_count": 27,
   "metadata": {
    "slideshow": {
     "slide_type": "fragment"
    }
   },
   "outputs": [
    {
     "name": "stderr",
     "output_type": "stream",
     "text": [
      "\u001b[32m\u001b[1m   Updating\u001b[22m\u001b[39m registry at `C:\\Users\\krueg\\.julia\\registries\\General`"
     ]
    },
    {
     "name": "stdout",
     "output_type": "stream",
     "text": [
      "\u001b[?25l"
     ]
    },
    {
     "name": "stderr",
     "output_type": "stream",
     "text": [
      "\n",
      "\u001b[32m\u001b[1m   Updating\u001b[22m\u001b[39m git-repo `https://github.com/JuliaRegistries/General.git`\n"
     ]
    },
    {
     "name": "stdout",
     "output_type": "stream",
     "text": [
      "\u001b[2K\u001b[36m\u001b[1mFetching:\u001b[22m\u001b[39m [========================================>]  100.0 %\u001b[?25h"
     ]
    },
    {
     "name": "stderr",
     "output_type": "stream",
     "text": [
      "\u001b[32m\u001b[1m  Resolving\u001b[22m\u001b[39m package versions...\n",
      "\u001b[32m\u001b[1m   Updating\u001b[22m\u001b[39m `C:\\Users\\krueg\\.julia\\environments\\v1.4\\Project.toml`\n",
      "\u001b[90m [no changes]\u001b[39m\n",
      "\u001b[32m\u001b[1m   Updating\u001b[22m\u001b[39m `C:\\Users\\krueg\\.julia\\environments\\v1.4\\Manifest.toml`\n",
      "\u001b[90m [no changes]\u001b[39m\n"
     ]
    }
   ],
   "source": [
    "#Pkg.add(\"JuMP\")\n",
    "#Pkg.add(\"Cbc\");\n",
    "#Pkg.add(\"StatsPlots\");"
   ]
  },
  {
   "cell_type": "markdown",
   "metadata": {
    "slideshow": {
     "slide_type": "fragment"
    }
   },
   "source": [
    "Initialisieren Sie die installierten Pakete, damit sie im folgenden Notebook verwendet werden können.\n"
   ]
  },
  {
   "cell_type": "code",
   "execution_count": 28,
   "metadata": {
    "slideshow": {
     "slide_type": "fragment"
    }
   },
   "outputs": [
    {
     "name": "stderr",
     "output_type": "stream",
     "text": [
      "┌ Info: Precompiling Cbc [9961bab8-2fa3-5c5a-9d89-47fab24efd76]\n",
      "└ @ Base loading.jl:1260\n"
     ]
    }
   ],
   "source": [
    "using JuMP, Cbc, StatsPlots;"
   ]
  },
  {
   "cell_type": "markdown",
   "metadata": {
    "slideshow": {
     "slide_type": "slide"
    }
   },
   "source": [
    "# Aggregierte Planung\n",
    "\n",
    "### Entscheidungsvariablen:\n",
    "\n",
    "Bestimmung der optimalen **Produktionsmengen, Absatzmengen, Fremdbezugsmengen** und **Lagerbestände** der Produkte, sowie der optimal zu nutzenden **Zusatzkapazität** der Ressourcen je Periode, \n",
    "\n",
    "### Zielfunktion:\n",
    "\n",
    "0) **Deckungsbeitragsmaximierung**: $$  \\qquad \\max db = \\displaystyle\\sum_{i=1}^I \\sum_{t=1}^T (e_iA_{it}-k_i^vX_{it}-k_i^l L_{it}-k_i^fF_{it}) - \\sum_{j=1}^J \\sum_{t=1}^T (k_j^zZ_{jt}) $$\n"
   ]
  },
  {
   "cell_type": "markdown",
   "metadata": {
    "slideshow": {
     "slide_type": "slide"
    }
   },
   "source": [
    "### Nebenbedingungen:\n",
    "\n",
    "1) **Kapazitaetsrestriktion:** $ \\hspace{41mm} \\sum_{i=1}^I(r_{ij}\\cdot X_{it}) \\leq c_j + z_{jt} \\hspace{40mm} \\forall j \\in J, t \\in T $\n",
    "\n",
    "2) **Absatzobergrenze:** $\\hspace{38mm} \\qquad A_{it} \\leq d_{it} \\hspace{69mm} \\forall i \\in I , t \\in T $\n",
    "\n",
    "\n",
    "3) **Absatzuntergrenze:** $ \\hspace{37mm}\\qquad A_{it} \\geq d_{it}^{min} \\hspace{66mm} \\forall i \\in I , t \\in T $\n",
    " \n",
    "4) **Lagerbilanz:** $ \\hspace{61mm} L_{it}=L_{i,t-1}+X_{it}-A_{it}+F_{it} \\hspace{31mm} \\forall i \\in I , t \\in T$\n",
    "\n",
    "5) **Anfangslagerbestand:**   $ \\hspace{43mm} L_{i,0} = l_{start} \\hspace{64mm} \\forall  i \\in I$\n",
    "\n",
    "\n",
    "6) **Max. Zusatzkapazität:** $ \\hspace{44mm} Z_{jt} \\leq z_j^{max}  \\hspace{65mm} \\forall j \\in J, t \\in T $\n",
    "\n",
    "7) **Max. Fremdbezug:** $ \\hspace{49mm} F_{it} \\leq f_i^{max} \\hspace{65mm} \\forall i \\in I, t \\in T $\n",
    "\n",
    "8) **Nichtnegativitätsbedingung:** $ \\hspace{31mm} X_{it}, A_{it}, L_{it}, F_{it} \\geq 0 \\hspace{49mm} \\forall i \\in I, t \\in T$\n",
    "\n",
    "und $\\hspace{81mm} Z_{jt} \\geq 0 \\hspace{71mm}  \\forall j \\in J, t \\in T $ \n",
    "\n",
    "* * *"
   ]
  },
  {
   "cell_type": "markdown",
   "metadata": {
    "slideshow": {
     "slide_type": "slide"
    }
   },
   "source": [
    "## Verwendete Symbole"
   ]
  },
  {
   "cell_type": "markdown",
   "metadata": {
    "slideshow": {
     "slide_type": "fragment"
    }
   },
   "source": [
    "### Mengen\n",
    "\n",
    "$i \\in (1,..,I)\\hspace{20mm} $ Produkte  \n",
    "\n",
    "$j \\in (1,..,J)\\hspace{20mm}$  Ressourcen \n",
    "\n",
    "$t \\in (1,..,T)\\hspace{20mm}$  Zeiten "
   ]
  },
  {
   "cell_type": "markdown",
   "metadata": {
    "slideshow": {
     "slide_type": "fragment"
    }
   },
   "source": [
    "### Variablen\n",
    "\n",
    "$X_{it}$  $\\geq0$      $\\hspace{28mm}$ Produktionsmenge      \n",
    "\n",
    "$A_{it}$  $ \\geq 0 $  $\\hspace{28mm} $ Absatzmenge \n",
    "\n",
    "$L_{it}$  $\\geq0$  $\\hspace{28mm} $ Lagerbestand  \n",
    "\n",
    "$F_{it}$       $ \\geq0$    $\\hspace{28mm} $ Fremdbezug   \n",
    "\n",
    "$Z_{jt}$      $\\geq0$      $\\hspace{27mm} $ Zusatzkapazität  \n"
   ]
  },
  {
   "cell_type": "markdown",
   "metadata": {
    "slideshow": {
     "slide_type": "slide"
    }
   },
   "source": [
    "### Parameter\n",
    "\n",
    "$e_i \\hspace{39mm}$   Erlös    \n",
    "\n",
    "$k_i^v \\hspace{38mm}$ variable Kosten\n",
    "\n",
    "$k_i^l \\hspace{38mm}$ Lagerkostensatz \n",
    "\n",
    "$k_j^z \\hspace{38mm}$ Überstundenkostensatz \n",
    "\n",
    "$k_i^f \\hspace{38mm}$ Fremdbezugskosten \n",
    "\n",
    "$d_{it} \\hspace{38mm}$  Nachfrage  \n",
    "\n",
    "$d_{it}^{min} \\hspace{36mm}$ Absatzuntergrenze  \n",
    "\n",
    "$r_{ij} \\hspace{38mm}$  Produktionskoeffizient \n",
    "\n",
    "$c_j \\hspace{39mm}$  Kapazität  \n",
    "\n",
    "$l_{start} \\hspace{34mm}$  Anfangslagerbestand  \n",
    "\n",
    "$z_j^{max} \\hspace{34mm}$ max. Zusatzkapazität \n",
    "\n",
    "$f_i^{max} \\hspace{33mm}$  max. Fremdbezug\n",
    "\n",
    " * * *\n",
    " "
   ]
  },
  {
   "cell_type": "markdown",
   "metadata": {
    "slideshow": {
     "slide_type": "slide"
    }
   },
   "source": [
    "## Erstellen Sie das Modell namens ``m`` und geben Sie als zu verwendenden Solver Cbc an.\n",
    "---"
   ]
  },
  {
   "cell_type": "code",
   "execution_count": 29,
   "metadata": {
    "slideshow": {
     "slide_type": "fragment"
    }
   },
   "outputs": [],
   "source": [
    "m = Model(Cbc.Optimizer);"
   ]
  },
  {
   "cell_type": "markdown",
   "metadata": {
    "slideshow": {
     "slide_type": "slide"
    }
   },
   "source": [
    "### Mengen und Parameter\n",
    "---"
   ]
  },
  {
   "cell_type": "markdown",
   "metadata": {
    "slideshow": {
     "slide_type": "fragment"
    }
   },
   "source": [
    "Fügen Sie die Mengen ein."
   ]
  },
  {
   "cell_type": "code",
   "execution_count": 30,
   "metadata": {
    "slideshow": {
     "slide_type": "fragment"
    }
   },
   "outputs": [],
   "source": [
    "#Mengen\n",
    "Produkte =   [\"Hell\", \"Dunkel\"];\n",
    "Ressourcen = [\"Herstellen\", \"Abfuellen\"];\n",
    "Perioden =   [\"Mo\", \"Di\", \"Mi\", \"Do\", \"Fr\"];\n",
    "\n",
    "#Längen\n",
    "I = length(Produkte);\n",
    "J = length(Ressourcen);\n",
    "T = length(Perioden);"
   ]
  },
  {
   "cell_type": "markdown",
   "metadata": {
    "slideshow": {
     "slide_type": "slide"
    }
   },
   "source": [
    "Fügen Sie die Parameter ein."
   ]
  },
  {
   "cell_type": "code",
   "execution_count": 31,
   "metadata": {
    "slideshow": {
     "slide_type": "fragment"
    }
   },
   "outputs": [],
   "source": [
    "     #Herstellen, Abfüllen\n",
    "r = [  12           4         #Hell\n",
    "       15           4   ]     #Dunkel\n",
    "\n",
    "#Ressourcenverbrauch von Ressource j durch Produkt i\n",
    "\n",
    "      #Mo, Di, Mi, Do, Fr\n",
    "d = [  70  65  75  80  110    #Hell\n",
    "       55  35  40  65  80 ]   #Dunkel\n",
    "\n",
    "#Nachfrage von Produkt i in Periode t\n",
    " \n",
    "        #Mo, Di, Mi, Do, Fr\n",
    "dmin = [ 30  30  30  30  30    #Hell\n",
    "         20  20  20  20  40 ]; #Dunkel\n",
    "\n",
    "#Absatzuntergrenze von Produkt i in Periode t"
   ]
  },
  {
   "cell_type": "code",
   "execution_count": 32,
   "metadata": {
    "slideshow": {
     "slide_type": "slide"
    }
   },
   "outputs": [],
   "source": [
    "c =  [750, 250];   #Kapazität der Ressource j\n",
    "\n",
    "e =  [3, 3.5];     #Erlös des Produktes\n",
    "\n",
    "kf = [0, 0];       #Fremdbezugskostensatz der Produkte\n",
    "\n",
    "kl = [0.5, 0.5];   #Lagerkostensatz der Produkte\n",
    "\n",
    "kz = [0.25, 0.2];  #Überstundenkostensatz von Ressource j\n",
    "\n",
    "kv = [1, 1.25];    #variable Herstellkosten der Produkte\n",
    "\n",
    "zmax = [300, 300]; #Max. Zusatzkapazität von Ressource j\n",
    "\n",
    "l_start =  [0, 0]; #Anfangslagerbestand der Produkte\n",
    "\n",
    "\n",
    "         #Mo, Di, Mi, Do, Fr\n",
    "fmax =  [  0   0   0   0   0   #Hell         \n",
    "           0   0   0   0   0]; #Dunkel\n",
    "\n",
    "                  #Maximaler Fremdbezug von Produkt i in Periode t"
   ]
  },
  {
   "cell_type": "markdown",
   "metadata": {
    "slideshow": {
     "slide_type": "slide"
    }
   },
   "source": [
    "### Entscheidungsvariablen\n",
    "---\n",
    "Definieren Sie die Entscheidungsvariablen. Achten Sie auf die Definitionsbereiche (Nebenbedingung 6):"
   ]
  },
  {
   "cell_type": "markdown",
   "metadata": {
    "slideshow": {
     "slide_type": "fragment"
    }
   },
   "source": [
    "8) **Nichtnegativitätsbedingung**: Die Entscheidungsvariablen, also die Produktions- und Absatzmengen, Lagerbestände, Fremdbezugsmengen und die in Anspruch genommenen Zusatzkapazitäten dürfen nur positive Werte annehmen, wir setzen deren Nichtnegativität voraus.\n",
    "\n",
    "$ \\qquad X_{it}, A_{it}, L_{it}, F_{it} \\geq 0 \\qquad \\qquad \\forall i \\in I, t \\in T$\n",
    "\n",
    "und $\\qquad \\qquad Z_{jt} \\geq 0 \\qquad \\qquad \\qquad  \\forall j \\in J, t \\in T $ "
   ]
  },
  {
   "cell_type": "code",
   "execution_count": 33,
   "metadata": {
    "slideshow": {
     "slide_type": "fragment"
    }
   },
   "outputs": [],
   "source": [
    "@variables  m begin\n",
    "            X[1:I,1:T]>=0,Int  #Produktionsmenge von Produkt i in Periode t\n",
    "            A[1:I,1:T]>=0,Int  #Absatzmenge von Produkt i in Periode t\n",
    "            F[1:I,1:T]>=0,Int  #Fremdbezugsmenge von Produkt i in Periode t\n",
    "            Z[1:J,1:T]>=0,Int  #Zusatzkapazität von Ressource j in Periode t\n",
    "            L[1:I,0:T]>=0,Int; #Lagerbestand von Produkt i am Periodenende von t\n",
    "            end"
   ]
  },
  {
   "cell_type": "markdown",
   "metadata": {
    "slideshow": {
     "slide_type": "slide"
    }
   },
   "source": [
    "## Zielfunktion\n",
    "\n",
    "0) **Deckungsbeitragsmaximierung:** Der Gesamtdeckungsbeitrag db soll maximiert werden. Dieser berechnet sich hier aus der Summe der einzelnen Produkterlöse abzüglich der variablen Kosten, abzüglich der Lagerkosten, abzüglich der Fremdbezugskosten und wird Zusätzlich noch verringert um die Zusatzkapazitätskosten der Ressourcen.\n",
    "\n",
    "$  \\qquad \\max db = \\displaystyle\\sum_{i=1}^I \\sum_{t=1}^T (e_iA_{it}-k_i^vX_{it}-k_i^l L_{it}-k_i^fF_{it}) - \\sum_{j=1}^J \\sum_{t=1}^T (k_j^zZ_{jt}) $"
   ]
  },
  {
   "cell_type": "code",
   "execution_count": 34,
   "metadata": {
    "scrolled": true,
    "slideshow": {
     "slide_type": "fragment"
    }
   },
   "outputs": [],
   "source": [
    "@objective(m, Max,  sum(e[i] * A[i,t] - kv[i] * X[i,t] - kl[i] * L[i,t] - kf[i] * F[i,t] \n",
    "           for i=1:I for t=1:T) - sum(kz[j] *Z[j,t] for j=1:J for t=1:T));"
   ]
  },
  {
   "cell_type": "markdown",
   "metadata": {
    "slideshow": {
     "slide_type": "slide"
    }
   },
   "source": [
    "## Nebenbedingungen"
   ]
  },
  {
   "cell_type": "markdown",
   "metadata": {
    "slideshow": {
     "slide_type": "fragment"
    }
   },
   "source": [
    "1) **Kapazitätsrestriktion**: Die zur Verfügung stehende Kapazität für die auf den einzelnen Ressourcen mögliche Produktionszeit darf nicht überschritten werden. Die Summe der Gesamtproduktionszeit aller Produkte $ i = 1,...,I $ auf den einzelnen Ressourcen j darf in jeder Periode die jeweils verfügbare Kapazität  $𝑐_j$ ergänzt um die Zusatzkapazität $o_{jt}$  nicht überschreiten.\n",
    "\n",
    "$ \\qquad \\sum_{i=1}^I(r_{ij}\\cdot X_{it}) \\leq c_j + z_{jt} \\qquad \\forall j \\in J, t \\in T $"
   ]
  },
  {
   "cell_type": "code",
   "execution_count": 35,
   "metadata": {
    "slideshow": {
     "slide_type": "fragment"
    }
   },
   "outputs": [],
   "source": [
    "@constraint(m, KapRes[t=1:T,j=1:J], sum(r[i,j] * X[i,t] for i=1:I) <= c[j] + Z[j,t]);"
   ]
  },
  {
   "cell_type": "markdown",
   "metadata": {
    "slideshow": {
     "slide_type": "slide"
    }
   },
   "source": [
    "2) **Absatzobergrenze**: Für die Produkte existieren Absatzober- und untergrenzen basierend auf der Nachfrage. Die abgesetzte Menge der einzelnen Produkte kann diese Absatzobergrenze in keiner Periode überschreiten.\n",
    "\n",
    "$ \\qquad A_{it} \\leq d_{it}^{max} \\qquad \\qquad \\qquad \\qquad \\forall i \\in I , t \\in T $"
   ]
  },
  {
   "cell_type": "code",
   "execution_count": 36,
   "metadata": {
    "slideshow": {
     "slide_type": "fragment"
    }
   },
   "outputs": [
    {
     "ename": "UndefVarError",
     "evalue": "UndefVarError: dmax not defined",
     "output_type": "error",
     "traceback": [
      "UndefVarError: dmax not defined",
      "",
      "Stacktrace:",
      " [1] macro expansion at C:\\Users\\krueg\\.julia\\packages\\MutableArithmetics\\ZGFsK\\src\\rewrite.jl:227 [inlined]",
      " [2] macro expansion at C:\\Users\\krueg\\.julia\\packages\\JuMP\\MnJQc\\src\\macros.jl:381 [inlined]",
      " [3] (::var\"#51#52\")(::Int64, ::Int64) at C:\\Users\\krueg\\.julia\\packages\\JuMP\\MnJQc\\src\\Containers\\macro.jl:183",
      " [4] #26 at C:\\Users\\krueg\\.julia\\packages\\JuMP\\MnJQc\\src\\Containers\\container.jl:70 [inlined]",
      " [5] iterate at .\\generator.jl:47 [inlined]",
      " [6] collect(::Base.Generator{JuMP.Containers.VectorizedProductIterator{Tuple{Base.OneTo{Int64},Base.OneTo{Int64}}},JuMP.Containers.var\"#26#27\"{var\"#51#52\"}}) at .\\array.jl:665",
      " [7] map(::Function, ::JuMP.Containers.VectorizedProductIterator{Tuple{Base.OneTo{Int64},Base.OneTo{Int64}}}) at .\\abstractarray.jl:2098",
      " [8] container at C:\\Users\\krueg\\.julia\\packages\\JuMP\\MnJQc\\src\\Containers\\container.jl:70 [inlined]",
      " [9] container(::Function, ::JuMP.Containers.VectorizedProductIterator{Tuple{Base.OneTo{Int64},Base.OneTo{Int64}}}) at C:\\Users\\krueg\\.julia\\packages\\JuMP\\MnJQc\\src\\Containers\\container.jl:65",
      " [10] top-level scope at C:\\Users\\krueg\\.julia\\packages\\JuMP\\MnJQc\\src\\macros.jl:79",
      " [11] top-level scope at In[36]:1"
     ]
    }
   ],
   "source": [
    "@constraint(m, AbsOb[i=1:I,t=1:T], A[i,t] <= dmax[i,t]);"
   ]
  },
  {
   "cell_type": "markdown",
   "metadata": {},
   "source": [
    "3) **Absatzuntergrenze**: Für die Produkte existieren Absatzuntergrenzen basierend auf der Nachfrage. Die abgesetzte Menge der einzelnen Produkte kann diese Absatzuntergrenze in keiner Periode unterschreiten.\n",
    "\n",
    "$ \\qquad A_{it} \\geq d_{it}^{min} \\qquad \\qquad \\qquad \\qquad \\forall i \\in I , t \\in T $"
   ]
  },
  {
   "cell_type": "code",
   "execution_count": 37,
   "metadata": {},
   "outputs": [],
   "source": [
    "@constraint(m, AbsUn[i=1:I,t=1:T], A[i,t] >= dmin[i,t]);"
   ]
  },
  {
   "cell_type": "markdown",
   "metadata": {
    "slideshow": {
     "slide_type": "fragment"
    }
   },
   "source": [
    "4) **Lagerbilanz**: Der Lagerbestand eines Produktes am Ende einer Periode berechnet sich aus der Summe der eingelagerten Menge in der Vorperiode, der Produktionsmenge und der Fremdbezugsmenge, abzüglich der abgesetzen Menge des Produktes.\n",
    "\n",
    "$ \\qquad L_{it}=L_{i,t-1}+X_{it}-A_{it}+F_{it} \\qquad \\forall i \\in I , t \\in T$"
   ]
  },
  {
   "cell_type": "code",
   "execution_count": 38,
   "metadata": {
    "slideshow": {
     "slide_type": "fragment"
    }
   },
   "outputs": [],
   "source": [
    "@constraint(m, Lager[i=1:I,t=1:T], L[i,t] == L[i,t-1] + X[i,t] + F[i,t] - A[i,t]);"
   ]
  },
  {
   "cell_type": "markdown",
   "metadata": {},
   "source": [
    "5) **Anfangslagerbestand**: Der Anfangslagerbestand aller Produkte entspricht dem initial gesetzen $l_i$.\n",
    " \n",
    "  $$ \\qquad L_{i,0} = l_{start} \\hspace{40mm} \\forall  i \\in I$$\n"
   ]
  },
  {
   "cell_type": "code",
   "execution_count": 39,
   "metadata": {},
   "outputs": [],
   "source": [
    "@constraint(m, AnfLager[i=1:I], L[i,0] == l_start[i]);"
   ]
  },
  {
   "cell_type": "markdown",
   "metadata": {
    "slideshow": {
     "slide_type": "slide"
    }
   },
   "source": [
    "6) **Max. Zusatzkapazität**: Die eingesetzten Zusatzkapazitäten (Überstunden) für jede Ressource müssen in jeder Periode unter der Obergrenze, der maximalen Zusatzkapazität, bleiben. Die maximale Zusatzkapazität ist für jede Ressource j einzeln gegeben.\n",
    "\n",
    "$ \\qquad Z_{jt} \\leq z_j^{max}  \\qquad \\qquad \\qquad \\qquad \\forall j \\in J, t \\in T $"
   ]
  },
  {
   "cell_type": "code",
   "execution_count": 40,
   "metadata": {
    "slideshow": {
     "slide_type": "fragment"
    }
   },
   "outputs": [],
   "source": [
    "@constraint(m, ZusatzKapa[j=1:J,t=1:T], Z[j,t] <= zmax[j] );"
   ]
  },
  {
   "cell_type": "markdown",
   "metadata": {
    "slideshow": {
     "slide_type": "fragment"
    }
   },
   "source": [
    "7) **Max. Fremdbezug**: Der dazugekaufte Fremdbezug jedes Produktes muss in allen Perioden unter der Obergrenze, dem maximalen Fremdbezug, bleiben. Der maximale Fremdbezug ist für jedes Produkt i einzeln gegeben. \n",
    "\n",
    "$ \\qquad F_{it} \\leq f_i^{max} \\qquad \\qquad \\qquad \\qquad \\forall i \\in I, t \\in T $"
   ]
  },
  {
   "cell_type": "code",
   "execution_count": 41,
   "metadata": {
    "slideshow": {
     "slide_type": "fragment"
    }
   },
   "outputs": [],
   "source": [
    "@constraint(m, FremdB[i=1:I,t=1:T], F[i,t] <= fmax[i,t] );"
   ]
  },
  {
   "cell_type": "markdown",
   "metadata": {
    "slideshow": {
     "slide_type": "slide"
    }
   },
   "source": [
    "## Lösen Sie das Modell.\n",
    "---"
   ]
  },
  {
   "cell_type": "code",
   "execution_count": 42,
   "metadata": {
    "slideshow": {
     "slide_type": "fragment"
    }
   },
   "outputs": [
    {
     "name": "stdout",
     "output_type": "stream",
     "text": [
      "Welcome to the CBC MILP Solver \n",
      "Version: 2.10.3 \n",
      "Build Date: Jan  1 1970 \n",
      "\n",
      "command line - Cbc_C_Interface -solve -quit (default strategy 1)\n",
      "Continuous objective value is 583.5 - 0.00 seconds\n",
      "Cgl0003I 0 fixed, 8 tightened bounds, 0 strengthened rows, 0 substitutions\n",
      "Cgl0004I processed model has 18 rows, 38 columns (38 integer (0 of which binary)) and 66 elements\n",
      "Cbc0012I Integer solution of -581.5 found by DiveCoefficient after 0 iterations and 0 nodes (0.03 seconds)\n",
      "Cbc0012I Integer solution of -582.5 found by DiveCoefficient after 2 iterations and 0 nodes (0.03 seconds)\n",
      "Cbc0031I 2 added rows had average density of 5.5\n",
      "Cbc0013I At root node, 2 cuts changed objective from -583.5 to -582.5 in 3 passes\n",
      "Cbc0014I Cut generator 0 (Probing) - 0 row cuts average 0.0 elements, 3 column cuts (3 active)  in 0.000 seconds - new frequency is 1\n",
      "Cbc0014I Cut generator 1 (Gomory) - 2 row cuts average 5.5 elements, 0 column cuts (0 active)  in 0.000 seconds - new frequency is 1\n",
      "Cbc0014I Cut generator 2 (Knapsack) - 0 row cuts average 0.0 elements, 0 column cuts (0 active)  in 0.000 seconds - new frequency is -100\n",
      "Cbc0014I Cut generator 3 (Clique) - 0 row cuts average 0.0 elements, 0 column cuts (0 active)  in 0.000 seconds - new frequency is -100\n",
      "Cbc0014I Cut generator 4 (MixedIntegerRounding2) - 0 row cuts average 0.0 elements, 0 column cuts (0 active)  in 0.000 seconds - new frequency is -100\n",
      "Cbc0014I Cut generator 5 (FlowCover) - 0 row cuts average 0.0 elements, 0 column cuts (0 active)  in 0.000 seconds - new frequency is -100\n",
      "Cbc0014I Cut generator 6 (TwoMirCuts) - 3 row cuts average 6.7 elements, 0 column cuts (0 active)  in 0.000 seconds - new frequency is -100\n",
      "Cbc0001I Search completed - best objective -582.5, took 2 iterations and 0 nodes (0.03 seconds)\n",
      "Cbc0035I Maximum depth 0, 3 variables fixed on reduced cost\n",
      "Cuts at root node changed objective from -583.5 to -582.5\n",
      "Probing was tried 3 times and created 3 cuts of which 0 were active after adding rounds of cuts (0.000 seconds)\n",
      "Gomory was tried 3 times and created 2 cuts of which 0 were active after adding rounds of cuts (0.000 seconds)\n",
      "Knapsack was tried 3 times and created 0 cuts of which 0 were active after adding rounds of cuts (0.000 seconds)\n",
      "Clique was tried 3 times and created 0 cuts of which 0 were active after adding rounds of cuts (0.000 seconds)\n",
      "MixedIntegerRounding2 was tried 3 times and created 0 cuts of which 0 were active after adding rounds of cuts (0.000 seconds)\n",
      "FlowCover was tried 3 times and created 0 cuts of which 0 were active after adding rounds of cuts (0.000 seconds)\n",
      "TwoMirCuts was tried 3 times and created 3 cuts of which 0 were active after adding rounds of cuts (0.000 seconds)\n",
      "ZeroHalf was tried 1 times and created 0 cuts of which 0 were active after adding rounds of cuts (0.000 seconds)\n",
      "\n",
      "Result - Optimal solution found\n",
      "\n",
      "Objective value:                582.50000000\n",
      "Enumerated nodes:               0\n",
      "Total iterations:               2\n",
      "Time (CPU seconds):             0.03\n",
      "Time (Wallclock seconds):       0.04\n",
      "\n",
      "Total time (CPU seconds):       0.03   (Wallclock seconds):       0.04\n",
      "\n"
     ]
    }
   ],
   "source": [
    "optimize!(m)"
   ]
  },
  {
   "cell_type": "markdown",
   "metadata": {},
   "source": [
    "Lassen Sie sich das Modell anzeigen."
   ]
  },
  {
   "cell_type": "code",
   "execution_count": 43,
   "metadata": {
    "scrolled": true
   },
   "outputs": [
    {
     "data": {
      "text/latex": [
       "$$ \\begin{alignat*}{1}\\max\\quad & 3 A_{1,1} - X_{1,1} - 0.5 L_{1,1} + 3 A_{1,2} - X_{1,2} - 0.5 L_{1,2} + 3 A_{1,3} - X_{1,3} - 0.5 L_{1,3} + 3 A_{1,4} - X_{1,4} - 0.5 L_{1,4} + 3 A_{1,5} - X_{1,5} - 0.5 L_{1,5} + 3.5 A_{2,1} - 1.25 X_{2,1} - 0.5 L_{2,1} + 3.5 A_{2,2} - 1.25 X_{2,2} - 0.5 L_{2,2} + 3.5 A_{2,3} - 1.25 X_{2,3} - 0.5 L_{2,3} + 3.5 A_{2,4} - 1.25 X_{2,4} - 0.5 L_{2,4} + 3.5 A_{2,5} - 1.25 X_{2,5} - 0.5 L_{2,5} - 0.25 Z_{1,1} - 0.25 Z_{1,2} - 0.25 Z_{1,3} - 0.25 Z_{1,4} - 0.25 Z_{1,5} - 0.2 Z_{2,1} - 0.2 Z_{2,2} - 0.2 Z_{2,3} - 0.2 Z_{2,4} - 0.2 Z_{2,5}\\\\\n",
       "\\text{Subject to} \\quad & L_{1,1} - L_{1,0} - X_{1,1} - F_{1,1} + A_{1,1} = 0.0\\\\\n",
       " & L_{2,1} - L_{2,0} - X_{2,1} - F_{2,1} + A_{2,1} = 0.0\\\\\n",
       " & L_{1,2} - L_{1,1} - X_{1,2} - F_{1,2} + A_{1,2} = 0.0\\\\\n",
       " & L_{2,2} - L_{2,1} - X_{2,2} - F_{2,2} + A_{2,2} = 0.0\\\\\n",
       " & L_{1,3} - L_{1,2} - X_{1,3} - F_{1,3} + A_{1,3} = 0.0\\\\\n",
       " & L_{2,3} - L_{2,2} - X_{2,3} - F_{2,3} + A_{2,3} = 0.0\\\\\n",
       " & L_{1,4} - L_{1,3} - X_{1,4} - F_{1,4} + A_{1,4} = 0.0\\\\\n",
       " & L_{2,4} - L_{2,3} - X_{2,4} - F_{2,4} + A_{2,4} = 0.0\\\\\n",
       " & L_{1,5} - L_{1,4} - X_{1,5} - F_{1,5} + A_{1,5} = 0.0\\\\\n",
       " & L_{2,5} - L_{2,4} - X_{2,5} - F_{2,5} + A_{2,5} = 0.0\\\\\n",
       " & L_{1,0} = 0.0\\\\\n",
       " & L_{2,0} = 0.0\\\\\n",
       " & A_{1,1} \\geq 30.0\\\\\n",
       " & A_{2,1} \\geq 20.0\\\\\n",
       " & A_{1,2} \\geq 30.0\\\\\n",
       " & A_{2,2} \\geq 20.0\\\\\n",
       " & A_{1,3} \\geq 30.0\\\\\n",
       " & A_{2,3} \\geq 20.0\\\\\n",
       " & A_{1,4} \\geq 30.0\\\\\n",
       " & A_{2,4} \\geq 20.0\\\\\n",
       " & A_{1,5} \\geq 30.0\\\\\n",
       " & A_{2,5} \\geq 40.0\\\\\n",
       " & 12 X_{1,1} + 15 X_{2,1} - Z_{1,1} \\leq 750.0\\\\\n",
       " & 12 X_{1,2} + 15 X_{2,2} - Z_{1,2} \\leq 750.0\\\\\n",
       " & 12 X_{1,3} + 15 X_{2,3} - Z_{1,3} \\leq 750.0\\\\\n",
       " & 12 X_{1,4} + 15 X_{2,4} - Z_{1,4} \\leq 750.0\\\\\n",
       " & 12 X_{1,5} + 15 X_{2,5} - Z_{1,5} \\leq 750.0\\\\\n",
       " & 4 X_{1,1} + 4 X_{2,1} - Z_{2,1} \\leq 250.0\\\\\n",
       " & 4 X_{1,2} + 4 X_{2,2} - Z_{2,2} \\leq 250.0\\\\\n",
       " & 4 X_{1,3} + 4 X_{2,3} - Z_{2,3} \\leq 250.0\\\\\n",
       " & 4 X_{1,4} + 4 X_{2,4} - Z_{2,4} \\leq 250.0\\\\\n",
       " & 4 X_{1,5} + 4 X_{2,5} - Z_{2,5} \\leq 250.0\\\\\n",
       " & Z_{1,1} \\leq 300.0\\\\\n",
       " & Z_{2,1} \\leq 300.0\\\\\n",
       " & Z_{1,2} \\leq 300.0\\\\\n",
       " & Z_{2,2} \\leq 300.0\\\\\n",
       " & Z_{1,3} \\leq 300.0\\\\\n",
       " & Z_{2,3} \\leq 300.0\\\\\n",
       " & Z_{1,4} \\leq 300.0\\\\\n",
       " & Z_{2,4} \\leq 300.0\\\\\n",
       " & Z_{1,5} \\leq 300.0\\\\\n",
       " & Z_{2,5} \\leq 300.0\\\\\n",
       " & F_{1,1} \\leq 0.0\\\\\n",
       " & F_{2,1} \\leq 0.0\\\\\n",
       " & F_{1,2} \\leq 0.0\\\\\n",
       " & F_{2,2} \\leq 0.0\\\\\n",
       " & F_{1,3} \\leq 0.0\\\\\n",
       " & F_{2,3} \\leq 0.0\\\\\n",
       " & F_{1,4} \\leq 0.0\\\\\n",
       " & F_{2,4} \\leq 0.0\\\\\n",
       " & F_{1,5} \\leq 0.0\\\\\n",
       " & F_{2,5} \\leq 0.0\\\\\n",
       " & X_{1,1} \\geq 0.0\\\\\n",
       " & X_{2,1} \\geq 0.0\\\\\n",
       " & X_{1,2} \\geq 0.0\\\\\n",
       " & X_{2,2} \\geq 0.0\\\\\n",
       " & X_{1,3} \\geq 0.0\\\\\n",
       " & X_{2,3} \\geq 0.0\\\\\n",
       " & X_{1,4} \\geq 0.0\\\\\n",
       " & X_{2,4} \\geq 0.0\\\\\n",
       " & X_{1,5} \\geq 0.0\\\\\n",
       " & X_{2,5} \\geq 0.0\\\\\n",
       " & A_{1,1} \\geq 0.0\\\\\n",
       " & A_{2,1} \\geq 0.0\\\\\n",
       " & A_{1,2} \\geq 0.0\\\\\n",
       " & A_{2,2} \\geq 0.0\\\\\n",
       " & A_{1,3} \\geq 0.0\\\\\n",
       " & A_{2,3} \\geq 0.0\\\\\n",
       " & A_{1,4} \\geq 0.0\\\\\n",
       " & A_{2,4} \\geq 0.0\\\\\n",
       " & A_{1,5} \\geq 0.0\\\\\n",
       " & A_{2,5} \\geq 0.0\\\\\n",
       " & F_{1,1} \\geq 0.0\\\\\n",
       " & F_{2,1} \\geq 0.0\\\\\n",
       " & F_{1,2} \\geq 0.0\\\\\n",
       " & F_{2,2} \\geq 0.0\\\\\n",
       " & F_{1,3} \\geq 0.0\\\\\n",
       " & F_{2,3} \\geq 0.0\\\\\n",
       " & F_{1,4} \\geq 0.0\\\\\n",
       " & F_{2,4} \\geq 0.0\\\\\n",
       " & F_{1,5} \\geq 0.0\\\\\n",
       " & F_{2,5} \\geq 0.0\\\\\n",
       " & Z_{1,1} \\geq 0.0\\\\\n",
       " & Z_{2,1} \\geq 0.0\\\\\n",
       " & Z_{1,2} \\geq 0.0\\\\\n",
       " & Z_{2,2} \\geq 0.0\\\\\n",
       " & Z_{1,3} \\geq 0.0\\\\\n",
       " & Z_{2,3} \\geq 0.0\\\\\n",
       " & Z_{1,4} \\geq 0.0\\\\\n",
       " & Z_{2,4} \\geq 0.0\\\\\n",
       " & Z_{1,5} \\geq 0.0\\\\\n",
       " & Z_{2,5} \\geq 0.0\\\\\n",
       " & L_{1,0} \\geq 0.0\\\\\n",
       " & L_{2,0} \\geq 0.0\\\\\n",
       " & L_{1,1} \\geq 0.0\\\\\n",
       " & L_{2,1} \\geq 0.0\\\\\n",
       " & L_{1,2} \\geq 0.0\\\\\n",
       " & L_{2,2} \\geq 0.0\\\\\n",
       " & L_{1,3} \\geq 0.0\\\\\n",
       " & L_{2,3} \\geq 0.0\\\\\n",
       " & L_{1,4} \\geq 0.0\\\\\n",
       " & L_{2,4} \\geq 0.0\\\\\n",
       " & L_{1,5} \\geq 0.0\\\\\n",
       " & L_{2,5} \\geq 0.0\\\\\n",
       " & X_{1,1} integer\\\\\n",
       " & X_{2,1} integer\\\\\n",
       " & X_{1,2} integer\\\\\n",
       " & X_{2,2} integer\\\\\n",
       " & X_{1,3} integer\\\\\n",
       " & X_{2,3} integer\\\\\n",
       " & X_{1,4} integer\\\\\n",
       " & X_{2,4} integer\\\\\n",
       " & X_{1,5} integer\\\\\n",
       " & X_{2,5} integer\\\\\n",
       " & A_{1,1} integer\\\\\n",
       " & A_{2,1} integer\\\\\n",
       " & A_{1,2} integer\\\\\n",
       " & A_{2,2} integer\\\\\n",
       " & A_{1,3} integer\\\\\n",
       " & A_{2,3} integer\\\\\n",
       " & A_{1,4} integer\\\\\n",
       " & A_{2,4} integer\\\\\n",
       " & A_{1,5} integer\\\\\n",
       " & A_{2,5} integer\\\\\n",
       " & F_{1,1} integer\\\\\n",
       " & F_{2,1} integer\\\\\n",
       " & F_{1,2} integer\\\\\n",
       " & F_{2,2} integer\\\\\n",
       " & F_{1,3} integer\\\\\n",
       " & F_{2,3} integer\\\\\n",
       " & F_{1,4} integer\\\\\n",
       " & F_{2,4} integer\\\\\n",
       " & F_{1,5} integer\\\\\n",
       " & F_{2,5} integer\\\\\n",
       " & Z_{1,1} integer\\\\\n",
       " & Z_{2,1} integer\\\\\n",
       " & Z_{1,2} integer\\\\\n",
       " & Z_{2,2} integer\\\\\n",
       " & Z_{1,3} integer\\\\\n",
       " & Z_{2,3} integer\\\\\n",
       " & Z_{1,4} integer\\\\\n",
       " & Z_{2,4} integer\\\\\n",
       " & Z_{1,5} integer\\\\\n",
       " & Z_{2,5} integer\\\\\n",
       " & L_{1,0} integer\\\\\n",
       " & L_{2,0} integer\\\\\n",
       " & L_{1,1} integer\\\\\n",
       " & L_{2,1} integer\\\\\n",
       " & L_{1,2} integer\\\\\n",
       " & L_{2,2} integer\\\\\n",
       " & L_{1,3} integer\\\\\n",
       " & L_{2,3} integer\\\\\n",
       " & L_{1,4} integer\\\\\n",
       " & L_{2,4} integer\\\\\n",
       " & L_{1,5} integer\\\\\n",
       " & L_{2,5} integer\\\\\n",
       "\\end{alignat*}\n",
       " $$"
      ],
      "text/plain": [
       "A JuMP Model\n",
       "Maximization problem with:\n",
       "Variables: 52\n",
       "Objective function type: GenericAffExpr{Float64,VariableRef}\n",
       "`GenericAffExpr{Float64,VariableRef}`-in-`MathOptInterface.EqualTo{Float64}`: 12 constraints\n",
       "`GenericAffExpr{Float64,VariableRef}`-in-`MathOptInterface.GreaterThan{Float64}`: 10 constraints\n",
       "`GenericAffExpr{Float64,VariableRef}`-in-`MathOptInterface.LessThan{Float64}`: 30 constraints\n",
       "`VariableRef`-in-`MathOptInterface.GreaterThan{Float64}`: 52 constraints\n",
       "`VariableRef`-in-`MathOptInterface.Integer`: 52 constraints\n",
       "Model mode: AUTOMATIC\n",
       "CachingOptimizer state: ATTACHED_OPTIMIZER\n",
       "Solver name: COIN Branch-and-Cut (Cbc)\n",
       "Names registered in the model: A, AbsUn, AnfLager, F, FremdB, KapRes, L, Lager, X, Z, ZusatzKapa"
      ]
     },
     "execution_count": 43,
     "metadata": {},
     "output_type": "execute_result"
    }
   ],
   "source": [
    "m"
   ]
  },
  {
   "cell_type": "markdown",
   "metadata": {
    "slideshow": {
     "slide_type": "fragment"
    }
   },
   "source": [
    "Lassen Sie sich den Zielfunktionswert anzeigen."
   ]
  },
  {
   "cell_type": "code",
   "execution_count": 44,
   "metadata": {
    "slideshow": {
     "slide_type": "fragment"
    }
   },
   "outputs": [
    {
     "name": "stdout",
     "output_type": "stream",
     "text": [
      "Objective value db: 582.5\n"
     ]
    }
   ],
   "source": [
    "println(\"Objective value db: \", JuMP.objective_value(m))"
   ]
  },
  {
   "cell_type": "markdown",
   "metadata": {
    "slideshow": {
     "slide_type": "slide"
    }
   },
   "source": [
    "Lassen Sie sich die Produktionsmengen, die Absatzmengen und die Lagermengen für Produkt \"Hell\" anzeigen."
   ]
  },
  {
   "cell_type": "code",
   "execution_count": 45,
   "metadata": {
    "slideshow": {
     "slide_type": "fragment"
    }
   },
   "outputs": [
    {
     "ename": "ArgumentError",
     "evalue": "ArgumentError: block row 2 has mismatched number of columns (expected 2, got 1)",
     "output_type": "error",
     "traceback": [
      "ArgumentError: block row 2 has mismatched number of columns (expected 2, got 1)",
      "",
      "Stacktrace:",
      " [1] typed_hvcat(::Type{Float64}, ::Tuple{Int64,Int64}, ::Array{Float64,1}, ::Vararg{Array{Float64,1},N} where N) at .\\abstractarray.jl:1670",
      " [2] hvcat(::Tuple{Int64,Int64}, ::Array{Float64,1}, ::Vararg{Array{Float64,1},N} where N) at D:\\buildbot\\worker\\package_win64\\build\\usr\\share\\julia\\stdlib\\v1.4\\SparseArrays\\src\\sparsevector.jl:1080",
      " [3] top-level scope at In[45]:1"
     ]
    }
   ],
   "source": [
    "bardataHell = [[JuMP.value(X[1,t]) for t in 1:T ] [JuMP.value(A[1,t]) for t in 1:T]\n",
    "              [JuMP.value(L[1,t]) for t in 1:T ]];"
   ]
  },
  {
   "cell_type": "markdown",
   "metadata": {
    "slideshow": {
     "slide_type": "slide"
    }
   },
   "source": [
    "Stellen Sie diese grafisch dar."
   ]
  },
  {
   "cell_type": "code",
   "execution_count": 46,
   "metadata": {
    "slideshow": {
     "slide_type": "fragment"
    }
   },
   "outputs": [
    {
     "ename": "UndefVarError",
     "evalue": "UndefVarError: bardataHell not defined",
     "output_type": "error",
     "traceback": [
      "UndefVarError: bardataHell not defined",
      "",
      "Stacktrace:",
      " [1] top-level scope at In[46]:1"
     ]
    }
   ],
   "source": [
    "groupedbar(bardataHell, label=[\"Produktionsmenge\" \"Absatzmenge\" \"Lagermenge\"], title = \"Produkt Hell\",\n",
    "           colour = [:DeepSkyBlue4 :Red3 :orange], xlabel = \"Periode\", ylabel = \"Menge\", ylim = (0,45))"
   ]
  },
  {
   "cell_type": "markdown",
   "metadata": {
    "slideshow": {
     "slide_type": "slide"
    }
   },
   "source": [
    "Lassen Sie sich die Produktionsmengen, die Absatzmengen und die Lagermengen für Produkt \"Dunkel\" anzeigen."
   ]
  },
  {
   "cell_type": "code",
   "execution_count": 47,
   "metadata": {
    "slideshow": {
     "slide_type": "fragment"
    }
   },
   "outputs": [
    {
     "data": {
      "text/plain": [
       "5×3 Array{Float64,2}:\n",
       " 20.0  20.0   0.0\n",
       " 20.0  20.0   0.0\n",
       " 26.0  20.0   6.0\n",
       " 26.0  20.0  12.0\n",
       " 28.0  40.0   0.0"
      ]
     },
     "execution_count": 47,
     "metadata": {},
     "output_type": "execute_result"
    }
   ],
   "source": [
    "bardataDunkel = [[JuMP.value(X[2,t]) for t in 1:T ] [JuMP.value(A[2,t]) for t in 1:T] [JuMP.value(L[2,t])\n",
    "                 for t in 1:T ]] "
   ]
  },
  {
   "cell_type": "markdown",
   "metadata": {
    "slideshow": {
     "slide_type": "slide"
    }
   },
   "source": [
    "Stellen Sie diese grafisch dar."
   ]
  },
  {
   "cell_type": "code",
   "execution_count": 48,
   "metadata": {
    "slideshow": {
     "slide_type": "fragment"
    }
   },
   "outputs": [
    {
     "data": {
      "image/svg+xml": [
       "<?xml version=\"1.0\" encoding=\"utf-8\"?>\n",
       "<svg xmlns=\"http://www.w3.org/2000/svg\" xmlns:xlink=\"http://www.w3.org/1999/xlink\" width=\"600\" height=\"400\" viewBox=\"0 0 2400 1600\">\n",
       "<defs>\n",
       "  <clipPath id=\"clip710\">\n",
       "    <rect x=\"0\" y=\"0\" width=\"2400\" height=\"1600\"/>\n",
       "  </clipPath>\n",
       "</defs>\n",
       "<path clip-path=\"url(#clip710)\" d=\"\n",
       "M0 1600 L2400 1600 L2400 0 L0 0  Z\n",
       "  \" fill=\"#ffffff\" fill-rule=\"evenodd\" fill-opacity=\"1\"/>\n",
       "<defs>\n",
       "  <clipPath id=\"clip711\">\n",
       "    <rect x=\"480\" y=\"0\" width=\"1681\" height=\"1600\"/>\n",
       "  </clipPath>\n",
       "</defs>\n",
       "<path clip-path=\"url(#clip710)\" d=\"\n",
       "M202.459 1423.18 L2352.76 1423.18 L2352.76 123.472 L202.459 123.472  Z\n",
       "  \" fill=\"#ffffff\" fill-rule=\"evenodd\" fill-opacity=\"1\"/>\n",
       "<defs>\n",
       "  <clipPath id=\"clip712\">\n",
       "    <rect x=\"202\" y=\"123\" width=\"2151\" height=\"1301\"/>\n",
       "  </clipPath>\n",
       "</defs>\n",
       "<polyline clip-path=\"url(#clip712)\" style=\"stroke:#000000; stroke-width:2; stroke-opacity:0.1; fill:none\" points=\"\n",
       "  475.162,1423.18 475.162,123.472 \n",
       "  \"/>\n",
       "<polyline clip-path=\"url(#clip712)\" style=\"stroke:#000000; stroke-width:2; stroke-opacity:0.1; fill:none\" points=\"\n",
       "  876.385,1423.18 876.385,123.472 \n",
       "  \"/>\n",
       "<polyline clip-path=\"url(#clip712)\" style=\"stroke:#000000; stroke-width:2; stroke-opacity:0.1; fill:none\" points=\"\n",
       "  1277.61,1423.18 1277.61,123.472 \n",
       "  \"/>\n",
       "<polyline clip-path=\"url(#clip712)\" style=\"stroke:#000000; stroke-width:2; stroke-opacity:0.1; fill:none\" points=\"\n",
       "  1678.83,1423.18 1678.83,123.472 \n",
       "  \"/>\n",
       "<polyline clip-path=\"url(#clip712)\" style=\"stroke:#000000; stroke-width:2; stroke-opacity:0.1; fill:none\" points=\"\n",
       "  2080.05,1423.18 2080.05,123.472 \n",
       "  \"/>\n",
       "<polyline clip-path=\"url(#clip712)\" style=\"stroke:#000000; stroke-width:2; stroke-opacity:0.1; fill:none\" points=\"\n",
       "  202.459,1386.4 2352.76,1386.4 \n",
       "  \"/>\n",
       "<polyline clip-path=\"url(#clip712)\" style=\"stroke:#000000; stroke-width:2; stroke-opacity:0.1; fill:none\" points=\"\n",
       "  202.459,1079.86 2352.76,1079.86 \n",
       "  \"/>\n",
       "<polyline clip-path=\"url(#clip712)\" style=\"stroke:#000000; stroke-width:2; stroke-opacity:0.1; fill:none\" points=\"\n",
       "  202.459,773.326 2352.76,773.326 \n",
       "  \"/>\n",
       "<polyline clip-path=\"url(#clip712)\" style=\"stroke:#000000; stroke-width:2; stroke-opacity:0.1; fill:none\" points=\"\n",
       "  202.459,466.791 2352.76,466.791 \n",
       "  \"/>\n",
       "<polyline clip-path=\"url(#clip712)\" style=\"stroke:#000000; stroke-width:2; stroke-opacity:0.1; fill:none\" points=\"\n",
       "  202.459,160.256 2352.76,160.256 \n",
       "  \"/>\n",
       "<polyline clip-path=\"url(#clip710)\" style=\"stroke:#000000; stroke-width:4; stroke-opacity:1; fill:none\" points=\"\n",
       "  202.459,1423.18 2352.76,1423.18 \n",
       "  \"/>\n",
       "<polyline clip-path=\"url(#clip710)\" style=\"stroke:#000000; stroke-width:4; stroke-opacity:1; fill:none\" points=\"\n",
       "  202.459,1423.18 202.459,123.472 \n",
       "  \"/>\n",
       "<polyline clip-path=\"url(#clip710)\" style=\"stroke:#000000; stroke-width:4; stroke-opacity:1; fill:none\" points=\"\n",
       "  475.162,1423.18 475.162,1407.58 \n",
       "  \"/>\n",
       "<polyline clip-path=\"url(#clip710)\" style=\"stroke:#000000; stroke-width:4; stroke-opacity:1; fill:none\" points=\"\n",
       "  876.385,1423.18 876.385,1407.58 \n",
       "  \"/>\n",
       "<polyline clip-path=\"url(#clip710)\" style=\"stroke:#000000; stroke-width:4; stroke-opacity:1; fill:none\" points=\"\n",
       "  1277.61,1423.18 1277.61,1407.58 \n",
       "  \"/>\n",
       "<polyline clip-path=\"url(#clip710)\" style=\"stroke:#000000; stroke-width:4; stroke-opacity:1; fill:none\" points=\"\n",
       "  1678.83,1423.18 1678.83,1407.58 \n",
       "  \"/>\n",
       "<polyline clip-path=\"url(#clip710)\" style=\"stroke:#000000; stroke-width:4; stroke-opacity:1; fill:none\" points=\"\n",
       "  2080.05,1423.18 2080.05,1407.58 \n",
       "  \"/>\n",
       "<polyline clip-path=\"url(#clip710)\" style=\"stroke:#000000; stroke-width:4; stroke-opacity:1; fill:none\" points=\"\n",
       "  202.459,1386.4 228.263,1386.4 \n",
       "  \"/>\n",
       "<polyline clip-path=\"url(#clip710)\" style=\"stroke:#000000; stroke-width:4; stroke-opacity:1; fill:none\" points=\"\n",
       "  202.459,1079.86 228.263,1079.86 \n",
       "  \"/>\n",
       "<polyline clip-path=\"url(#clip710)\" style=\"stroke:#000000; stroke-width:4; stroke-opacity:1; fill:none\" points=\"\n",
       "  202.459,773.326 228.263,773.326 \n",
       "  \"/>\n",
       "<polyline clip-path=\"url(#clip710)\" style=\"stroke:#000000; stroke-width:4; stroke-opacity:1; fill:none\" points=\"\n",
       "  202.459,466.791 228.263,466.791 \n",
       "  \"/>\n",
       "<polyline clip-path=\"url(#clip710)\" style=\"stroke:#000000; stroke-width:4; stroke-opacity:1; fill:none\" points=\"\n",
       "  202.459,160.256 228.263,160.256 \n",
       "  \"/>\n",
       "<path clip-path=\"url(#clip710)\" d=\"M 0 0 M465.544 1472.72 L473.183 1472.72 L473.183 1446.35 L464.873 1448.02 L464.873 1443.76 L473.137 1442.09 L477.812 1442.09 L477.812 1472.72 L485.451 1472.72 L485.451 1476.65 L465.544 1476.65 L465.544 1472.72 Z\" fill=\"#000000\" fill-rule=\"evenodd\" fill-opacity=\"1\" /><path clip-path=\"url(#clip710)\" d=\"M 0 0 M871.038 1472.72 L887.357 1472.72 L887.357 1476.65 L865.413 1476.65 L865.413 1472.72 Q868.075 1469.96 872.658 1465.33 Q877.264 1460.68 878.445 1459.34 Q880.69 1456.81 881.57 1455.08 Q882.473 1453.32 882.473 1451.63 Q882.473 1448.87 880.528 1447.14 Q878.607 1445.4 875.505 1445.4 Q873.306 1445.4 870.852 1446.17 Q868.422 1446.93 865.644 1448.48 L865.644 1443.76 Q868.468 1442.62 870.922 1442.05 Q873.375 1441.47 875.412 1441.47 Q880.783 1441.47 883.977 1444.15 Q887.172 1446.84 887.172 1451.33 Q887.172 1453.46 886.362 1455.38 Q885.574 1457.28 883.468 1459.87 Q882.889 1460.54 879.787 1463.76 Q876.686 1466.95 871.038 1472.72 Z\" fill=\"#000000\" fill-rule=\"evenodd\" fill-opacity=\"1\" /><path clip-path=\"url(#clip710)\" d=\"M 0 0 M1281.86 1458.02 Q1285.21 1458.74 1287.09 1461 Q1288.98 1463.27 1288.98 1466.61 Q1288.98 1471.72 1285.47 1474.52 Q1281.95 1477.32 1275.47 1477.32 Q1273.29 1477.32 1270.98 1476.88 Q1268.68 1476.47 1266.23 1475.61 L1266.23 1471.1 Q1268.17 1472.23 1270.49 1472.81 Q1272.8 1473.39 1275.33 1473.39 Q1279.73 1473.39 1282.02 1471.65 Q1284.33 1469.92 1284.33 1466.61 Q1284.33 1463.55 1282.18 1461.84 Q1280.05 1460.1 1276.23 1460.1 L1272.2 1460.1 L1272.2 1456.26 L1276.42 1456.26 Q1279.86 1456.26 1281.69 1454.89 Q1283.52 1453.5 1283.52 1450.91 Q1283.52 1448.25 1281.62 1446.84 Q1279.75 1445.4 1276.23 1445.4 Q1274.31 1445.4 1272.11 1445.82 Q1269.91 1446.24 1267.27 1447.11 L1267.27 1442.95 Q1269.93 1442.21 1272.25 1441.84 Q1274.59 1441.47 1276.65 1441.47 Q1281.97 1441.47 1285.07 1443.9 Q1288.17 1446.3 1288.17 1450.43 Q1288.17 1453.3 1286.53 1455.29 Q1284.89 1457.25 1281.86 1458.02 Z\" fill=\"#000000\" fill-rule=\"evenodd\" fill-opacity=\"1\" /><path clip-path=\"url(#clip710)\" d=\"M 0 0 M1681.84 1446.17 L1670.03 1464.61 L1681.84 1464.61 L1681.84 1446.17 M1680.61 1442.09 L1686.49 1442.09 L1686.49 1464.61 L1691.42 1464.61 L1691.42 1468.5 L1686.49 1468.5 L1686.49 1476.65 L1681.84 1476.65 L1681.84 1468.5 L1666.24 1468.5 L1666.24 1463.99 L1680.61 1442.09 Z\" fill=\"#000000\" fill-rule=\"evenodd\" fill-opacity=\"1\" /><path clip-path=\"url(#clip710)\" d=\"M 0 0 M2070.33 1442.09 L2088.69 1442.09 L2088.69 1446.03 L2074.61 1446.03 L2074.61 1454.5 Q2075.63 1454.15 2076.65 1453.99 Q2077.67 1453.8 2078.69 1453.8 Q2084.47 1453.8 2087.85 1456.98 Q2091.23 1460.15 2091.23 1465.56 Q2091.23 1471.14 2087.76 1474.24 Q2084.29 1477.32 2077.97 1477.32 Q2075.79 1477.32 2073.53 1476.95 Q2071.28 1476.58 2068.87 1475.84 L2068.87 1471.14 Q2070.96 1472.28 2073.18 1472.83 Q2075.4 1473.39 2077.88 1473.39 Q2081.88 1473.39 2084.22 1471.28 Q2086.56 1469.18 2086.56 1465.56 Q2086.56 1461.95 2084.22 1459.85 Q2081.88 1457.74 2077.88 1457.74 Q2076 1457.74 2074.13 1458.16 Q2072.28 1458.57 2070.33 1459.45 L2070.33 1442.09 Z\" fill=\"#000000\" fill-rule=\"evenodd\" fill-opacity=\"1\" /><path clip-path=\"url(#clip710)\" d=\"M 0 0 M166.515 1372.19 Q162.903 1372.19 161.075 1375.76 Q159.269 1379.3 159.269 1386.43 Q159.269 1393.54 161.075 1397.1 Q162.903 1400.64 166.515 1400.64 Q170.149 1400.64 171.954 1397.1 Q173.783 1393.54 173.783 1386.43 Q173.783 1379.3 171.954 1375.76 Q170.149 1372.19 166.515 1372.19 M166.515 1368.49 Q172.325 1368.49 175.38 1373.1 Q178.459 1377.68 178.459 1386.43 Q178.459 1395.16 175.38 1399.76 Q172.325 1404.35 166.515 1404.35 Q160.704 1404.35 157.626 1399.76 Q154.57 1395.16 154.57 1386.43 Q154.57 1377.68 157.626 1373.1 Q160.704 1368.49 166.515 1368.49 Z\" fill=\"#000000\" fill-rule=\"evenodd\" fill-opacity=\"1\" /><path clip-path=\"url(#clip710)\" d=\"M 0 0 M131.538 1093.21 L139.177 1093.21 L139.177 1066.84 L130.867 1068.51 L130.867 1064.25 L139.13 1062.58 L143.806 1062.58 L143.806 1093.21 L151.445 1093.21 L151.445 1097.14 L131.538 1097.14 L131.538 1093.21 Z\" fill=\"#000000\" fill-rule=\"evenodd\" fill-opacity=\"1\" /><path clip-path=\"url(#clip710)\" d=\"M 0 0 M166.515 1065.66 Q162.903 1065.66 161.075 1069.22 Q159.269 1072.77 159.269 1079.9 Q159.269 1087 161.075 1090.57 Q162.903 1094.11 166.515 1094.11 Q170.149 1094.11 171.954 1090.57 Q173.783 1087 173.783 1079.9 Q173.783 1072.77 171.954 1069.22 Q170.149 1065.66 166.515 1065.66 M166.515 1061.96 Q172.325 1061.96 175.38 1066.56 Q178.459 1071.15 178.459 1079.9 Q178.459 1088.62 175.38 1093.23 Q172.325 1097.81 166.515 1097.81 Q160.704 1097.81 157.626 1093.23 Q154.57 1088.62 154.57 1079.9 Q154.57 1071.15 157.626 1066.56 Q160.704 1061.96 166.515 1061.96 Z\" fill=\"#000000\" fill-rule=\"evenodd\" fill-opacity=\"1\" /><path clip-path=\"url(#clip710)\" d=\"M 0 0 M135.126 786.671 L151.445 786.671 L151.445 790.606 L129.501 790.606 L129.501 786.671 Q132.163 783.916 136.746 779.287 Q141.353 774.634 142.533 773.291 Q144.779 770.768 145.658 769.032 Q146.561 767.273 146.561 765.583 Q146.561 762.828 144.617 761.092 Q142.695 759.356 139.593 759.356 Q137.394 759.356 134.941 760.12 Q132.51 760.884 129.732 762.435 L129.732 757.713 Q132.556 756.578 135.01 756 Q137.464 755.421 139.501 755.421 Q144.871 755.421 148.066 758.106 Q151.26 760.791 151.26 765.282 Q151.26 767.412 150.45 769.333 Q149.663 771.231 147.556 773.824 Q146.978 774.495 143.876 777.713 Q140.774 780.907 135.126 786.671 Z\" fill=\"#000000\" fill-rule=\"evenodd\" fill-opacity=\"1\" /><path clip-path=\"url(#clip710)\" d=\"M 0 0 M166.515 759.125 Q162.903 759.125 161.075 762.689 Q159.269 766.231 159.269 773.361 Q159.269 780.467 161.075 784.032 Q162.903 787.574 166.515 787.574 Q170.149 787.574 171.954 784.032 Q173.783 780.467 173.783 773.361 Q173.783 766.231 171.954 762.689 Q170.149 759.125 166.515 759.125 M166.515 755.421 Q172.325 755.421 175.38 760.027 Q178.459 764.611 178.459 773.361 Q178.459 782.088 175.38 786.694 Q172.325 791.277 166.515 791.277 Q160.704 791.277 157.626 786.694 Q154.57 782.088 154.57 773.361 Q154.57 764.611 157.626 760.027 Q160.704 755.421 166.515 755.421 Z\" fill=\"#000000\" fill-rule=\"evenodd\" fill-opacity=\"1\" /><path clip-path=\"url(#clip710)\" d=\"M 0 0 M144.316 465.437 Q147.672 466.155 149.547 468.423 Q151.445 470.692 151.445 474.025 Q151.445 479.141 147.927 481.942 Q144.408 484.742 137.927 484.742 Q135.751 484.742 133.436 484.303 Q131.144 483.886 128.691 483.029 L128.691 478.516 Q130.635 479.65 132.95 480.229 Q135.265 480.807 137.788 480.807 Q142.186 480.807 144.478 479.071 Q146.792 477.335 146.792 474.025 Q146.792 470.969 144.64 469.256 Q142.51 467.52 138.691 467.52 L134.663 467.52 L134.663 463.678 L138.876 463.678 Q142.325 463.678 144.154 462.312 Q145.982 460.923 145.982 458.331 Q145.982 455.669 144.084 454.256 Q142.209 452.821 138.691 452.821 Q136.769 452.821 134.57 453.238 Q132.371 453.655 129.732 454.534 L129.732 450.368 Q132.394 449.627 134.709 449.257 Q137.047 448.886 139.107 448.886 Q144.431 448.886 147.533 451.317 Q150.635 453.724 150.635 457.844 Q150.635 460.715 148.992 462.706 Q147.348 464.673 144.316 465.437 Z\" fill=\"#000000\" fill-rule=\"evenodd\" fill-opacity=\"1\" /><path clip-path=\"url(#clip710)\" d=\"M 0 0 M166.515 452.59 Q162.903 452.59 161.075 456.155 Q159.269 459.696 159.269 466.826 Q159.269 473.932 161.075 477.497 Q162.903 481.039 166.515 481.039 Q170.149 481.039 171.954 477.497 Q173.783 473.932 173.783 466.826 Q173.783 459.696 171.954 456.155 Q170.149 452.59 166.515 452.59 M166.515 448.886 Q172.325 448.886 175.38 453.493 Q178.459 458.076 178.459 466.826 Q178.459 475.553 175.38 480.159 Q172.325 484.742 166.515 484.742 Q160.704 484.742 157.626 480.159 Q154.57 475.553 154.57 466.826 Q154.57 458.076 157.626 453.493 Q160.704 448.886 166.515 448.886 Z\" fill=\"#000000\" fill-rule=\"evenodd\" fill-opacity=\"1\" /><path clip-path=\"url(#clip710)\" d=\"M 0 0 M141.862 147.05 L130.056 165.499 L141.862 165.499 L141.862 147.05 M140.635 142.976 L146.515 142.976 L146.515 165.499 L151.445 165.499 L151.445 169.388 L146.515 169.388 L146.515 177.536 L141.862 177.536 L141.862 169.388 L126.26 169.388 L126.26 164.874 L140.635 142.976 Z\" fill=\"#000000\" fill-rule=\"evenodd\" fill-opacity=\"1\" /><path clip-path=\"url(#clip710)\" d=\"M 0 0 M166.515 146.055 Q162.903 146.055 161.075 149.62 Q159.269 153.161 159.269 160.291 Q159.269 167.397 161.075 170.962 Q162.903 174.504 166.515 174.504 Q170.149 174.504 171.954 170.962 Q173.783 167.397 173.783 160.291 Q173.783 153.161 171.954 149.62 Q170.149 146.055 166.515 146.055 M166.515 142.351 Q172.325 142.351 175.38 146.958 Q178.459 151.541 178.459 160.291 Q178.459 169.018 175.38 173.624 Q172.325 178.208 166.515 178.208 Q160.704 178.208 157.626 173.624 Q154.57 169.018 154.57 160.291 Q154.57 151.541 157.626 146.958 Q160.704 142.351 166.515 142.351 Z\" fill=\"#000000\" fill-rule=\"evenodd\" fill-opacity=\"1\" /><path clip-path=\"url(#clip710)\" d=\"M 0 0 M1002.15 18.8205 L1002.15 41.5461 L1012.44 41.5461 Q1018.15 41.5461 1021.27 38.5889 Q1024.39 35.6318 1024.39 30.163 Q1024.39 24.7348 1021.27 21.7777 Q1018.15 18.8205 1012.44 18.8205 L1002.15 18.8205 M993.963 12.096 L1012.44 12.096 Q1022.6 12.096 1027.79 16.714 Q1033.01 21.2916 1033.01 30.163 Q1033.01 39.1155 1027.79 43.6931 Q1022.6 48.2706 1012.44 48.2706 L1002.15 48.2706 L1002.15 72.576 L993.963 72.576 L993.963 12.096 Z\" fill=\"#000000\" fill-rule=\"evenodd\" fill-opacity=\"1\" /><path clip-path=\"url(#clip710)\" d=\"M 0 0 M1065.66 34.1734 Q1064.41 33.4443 1062.91 33.1202 Q1061.45 32.7556 1059.67 32.7556 Q1053.35 32.7556 1049.95 36.8875 Q1046.58 40.9789 1046.58 48.6757 L1046.58 72.576 L1039.09 72.576 L1039.09 27.2059 L1046.58 27.2059 L1046.58 34.2544 Q1048.93 30.1225 1052.7 28.1376 Q1056.47 26.1121 1061.86 26.1121 Q1062.63 26.1121 1063.56 26.2337 Q1064.49 26.3147 1065.62 26.5172 L1065.66 34.1734 Z\" fill=\"#000000\" fill-rule=\"evenodd\" fill-opacity=\"1\" /><path clip-path=\"url(#clip710)\" d=\"M 0 0 M1089.24 32.4315 Q1083.25 32.4315 1079.76 37.1306 Q1076.28 41.7891 1076.28 49.9314 Q1076.28 58.0738 1079.72 62.7728 Q1083.2 67.4314 1089.24 67.4314 Q1095.2 67.4314 1098.68 62.7323 Q1102.16 58.0333 1102.16 49.9314 Q1102.16 41.8701 1098.68 37.1711 Q1095.2 32.4315 1089.24 32.4315 M1089.24 26.1121 Q1098.96 26.1121 1104.51 32.4315 Q1110.06 38.7509 1110.06 49.9314 Q1110.06 61.0714 1104.51 67.4314 Q1098.96 73.7508 1089.24 73.7508 Q1079.48 73.7508 1073.93 67.4314 Q1068.42 61.0714 1068.42 49.9314 Q1068.42 38.7509 1073.93 32.4315 Q1079.48 26.1121 1089.24 26.1121 Z\" fill=\"#000000\" fill-rule=\"evenodd\" fill-opacity=\"1\" /><path clip-path=\"url(#clip710)\" d=\"M 0 0 M1147.74 34.0924 L1147.74 9.54393 L1155.19 9.54393 L1155.19 72.576 L1147.74 72.576 L1147.74 65.7705 Q1145.39 69.8214 1141.78 71.8063 Q1138.22 73.7508 1133.19 73.7508 Q1124.97 73.7508 1119.78 67.1883 Q1114.64 60.6258 1114.64 49.9314 Q1114.64 39.2371 1119.78 32.6746 Q1124.97 26.1121 1133.19 26.1121 Q1138.22 26.1121 1141.78 28.0971 Q1145.39 30.0415 1147.74 34.0924 M1122.34 49.9314 Q1122.34 58.1548 1125.7 62.8538 Q1129.1 67.5124 1135.02 67.5124 Q1140.93 67.5124 1144.33 62.8538 Q1147.74 58.1548 1147.74 49.9314 Q1147.74 41.7081 1144.33 37.0496 Q1140.93 32.3505 1135.02 32.3505 Q1129.1 32.3505 1125.7 37.0496 Q1122.34 41.7081 1122.34 49.9314 Z\" fill=\"#000000\" fill-rule=\"evenodd\" fill-opacity=\"1\" /><path clip-path=\"url(#clip710)\" d=\"M 0 0 M1162.24 54.671 L1162.24 27.2059 L1169.69 27.2059 L1169.69 54.3874 Q1169.69 60.8284 1172.2 64.0691 Q1174.71 67.2693 1179.74 67.2693 Q1185.77 67.2693 1189.26 63.421 Q1192.78 59.5726 1192.78 52.9291 L1192.78 27.2059 L1200.24 27.2059 L1200.24 72.576 L1192.78 72.576 L1192.78 65.6084 Q1190.07 69.7404 1186.46 71.7658 Q1182.9 73.7508 1178.16 73.7508 Q1170.34 73.7508 1166.29 68.8897 Q1162.24 64.0286 1162.24 54.671 M1180.99 26.1121 L1180.99 26.1121 Z\" fill=\"#000000\" fill-rule=\"evenodd\" fill-opacity=\"1\" /><path clip-path=\"url(#clip710)\" d=\"M 0 0 M1207.77 9.54393 L1215.26 9.54393 L1215.26 46.7717 L1237.5 27.2059 L1247.02 27.2059 L1222.96 48.4326 L1248.04 72.576 L1238.31 72.576 L1215.26 50.4176 L1215.26 72.576 L1207.77 72.576 L1207.77 9.54393 Z\" fill=\"#000000\" fill-rule=\"evenodd\" fill-opacity=\"1\" /><path clip-path=\"url(#clip710)\" d=\"M 0 0 M1263.23 14.324 L1263.23 27.2059 L1278.58 27.2059 L1278.58 32.9987 L1263.23 32.9987 L1263.23 57.6282 Q1263.23 63.1779 1264.73 64.7578 Q1266.26 66.3376 1270.92 66.3376 L1278.58 66.3376 L1278.58 72.576 L1270.92 72.576 Q1262.3 72.576 1259.01 69.3758 Q1255.73 66.1351 1255.73 57.6282 L1255.73 32.9987 L1250.26 32.9987 L1250.26 27.2059 L1255.73 27.2059 L1255.73 14.324 L1263.23 14.324 Z\" fill=\"#000000\" fill-rule=\"evenodd\" fill-opacity=\"1\" /><path clip-path=\"url(#clip710)\" d=\"M 0 0 M1321.28 18.8205 L1321.28 65.8515 L1331.16 65.8515 Q1343.68 65.8515 1349.47 60.1802 Q1355.3 54.509 1355.3 42.2752 Q1355.3 30.1225 1349.47 24.4918 Q1343.68 18.8205 1331.16 18.8205 L1321.28 18.8205 M1313.09 12.096 L1329.9 12.096 Q1347.49 12.096 1355.71 19.4281 Q1363.93 26.7198 1363.93 42.2752 Q1363.93 57.9117 1355.67 65.2439 Q1347.4 72.576 1329.9 72.576 L1313.09 72.576 L1313.09 12.096 Z\" fill=\"#000000\" fill-rule=\"evenodd\" fill-opacity=\"1\" /><path clip-path=\"url(#clip710)\" d=\"M 0 0 M1370.98 54.671 L1370.98 27.2059 L1378.43 27.2059 L1378.43 54.3874 Q1378.43 60.8284 1380.95 64.0691 Q1383.46 67.2693 1388.48 67.2693 Q1394.52 67.2693 1398 63.421 Q1401.52 59.5726 1401.52 52.9291 L1401.52 27.2059 L1408.98 27.2059 L1408.98 72.576 L1401.52 72.576 L1401.52 65.6084 Q1398.81 69.7404 1395.21 71.7658 Q1391.64 73.7508 1386.9 73.7508 Q1379.08 73.7508 1375.03 68.8897 Q1370.98 64.0286 1370.98 54.671 M1389.74 26.1121 L1389.74 26.1121 Z\" fill=\"#000000\" fill-rule=\"evenodd\" fill-opacity=\"1\" /><path clip-path=\"url(#clip710)\" d=\"M 0 0 M1454.51 45.1919 L1454.51 72.576 L1447.06 72.576 L1447.06 45.4349 Q1447.06 38.994 1444.55 35.7938 Q1442.03 32.5936 1437.01 32.5936 Q1430.97 32.5936 1427.49 36.4419 Q1424.01 40.2903 1424.01 46.9338 L1424.01 72.576 L1416.51 72.576 L1416.51 27.2059 L1424.01 27.2059 L1424.01 34.2544 Q1426.68 30.163 1430.29 28.1376 Q1433.93 26.1121 1438.67 26.1121 Q1446.49 26.1121 1450.5 30.9732 Q1454.51 35.7938 1454.51 45.1919 Z\" fill=\"#000000\" fill-rule=\"evenodd\" fill-opacity=\"1\" /><path clip-path=\"url(#clip710)\" d=\"M 0 0 M1462.05 9.54393 L1469.54 9.54393 L1469.54 46.7717 L1491.78 27.2059 L1501.3 27.2059 L1477.24 48.4326 L1502.31 72.576 L1492.59 72.576 L1469.54 50.4176 L1469.54 72.576 L1462.05 72.576 L1462.05 9.54393 Z\" fill=\"#000000\" fill-rule=\"evenodd\" fill-opacity=\"1\" /><path clip-path=\"url(#clip710)\" d=\"M 0 0 M1545.98 48.0275 L1545.98 51.6733 L1511.71 51.6733 Q1512.2 59.3701 1516.33 63.421 Q1520.5 67.4314 1527.91 67.4314 Q1532.21 67.4314 1536.22 66.3781 Q1540.27 65.3249 1544.24 63.2184 L1544.24 70.267 Q1540.23 71.9684 1536.01 72.8596 Q1531.8 73.7508 1527.47 73.7508 Q1516.61 73.7508 1510.25 67.4314 Q1503.93 61.1119 1503.93 50.3365 Q1503.93 39.1965 1509.93 32.6746 Q1515.96 26.1121 1526.17 26.1121 Q1535.33 26.1121 1540.63 32.0264 Q1545.98 37.9003 1545.98 48.0275 M1538.53 45.84 Q1538.45 39.7232 1535.08 36.0774 Q1531.76 32.4315 1526.25 32.4315 Q1520.01 32.4315 1516.25 35.9558 Q1512.52 39.4801 1511.95 45.8805 L1538.53 45.84 Z\" fill=\"#000000\" fill-rule=\"evenodd\" fill-opacity=\"1\" /><path clip-path=\"url(#clip710)\" d=\"M 0 0 M1553.8 9.54393 L1561.25 9.54393 L1561.25 72.576 L1553.8 72.576 L1553.8 9.54393 Z\" fill=\"#000000\" fill-rule=\"evenodd\" fill-opacity=\"1\" /><path clip-path=\"url(#clip710)\" d=\"M 0 0 M1177.94 1513.81 L1177.94 1531.66 L1186.02 1531.66 Q1190.51 1531.66 1192.96 1529.34 Q1195.41 1527.02 1195.41 1522.72 Q1195.41 1518.45 1192.96 1516.13 Q1190.51 1513.81 1186.02 1513.81 L1177.94 1513.81 M1171.51 1508.52 L1186.02 1508.52 Q1194.01 1508.52 1198.08 1512.15 Q1202.19 1515.75 1202.19 1522.72 Q1202.19 1529.75 1198.08 1533.35 Q1194.01 1536.95 1186.02 1536.95 L1177.94 1536.95 L1177.94 1556.04 L1171.51 1556.04 L1171.51 1508.52 Z\" fill=\"#000000\" fill-rule=\"evenodd\" fill-opacity=\"1\" /><path clip-path=\"url(#clip710)\" d=\"M 0 0 M1236.5 1536.76 L1236.5 1539.62 L1209.57 1539.62 Q1209.96 1545.67 1213.2 1548.85 Q1216.48 1552 1222.31 1552 Q1225.68 1552 1228.83 1551.17 Q1232.01 1550.35 1235.13 1548.69 L1235.13 1554.23 Q1231.98 1555.57 1228.67 1556.27 Q1225.36 1556.97 1221.96 1556.97 Q1213.43 1556.97 1208.43 1552 Q1203.46 1547.04 1203.46 1538.57 Q1203.46 1529.82 1208.17 1524.69 Q1212.92 1519.54 1220.94 1519.54 Q1228.13 1519.54 1232.3 1524.18 Q1236.5 1528.8 1236.5 1536.76 M1230.64 1535.04 Q1230.58 1530.23 1227.94 1527.37 Q1225.33 1524.5 1221 1524.5 Q1216.1 1524.5 1213.14 1527.27 Q1210.21 1530.04 1209.76 1535.07 L1230.64 1535.04 Z\" fill=\"#000000\" fill-rule=\"evenodd\" fill-opacity=\"1\" /><path clip-path=\"url(#clip710)\" d=\"M 0 0 M1263.3 1525.87 Q1262.31 1525.3 1261.14 1525.04 Q1259.99 1524.76 1258.59 1524.76 Q1253.62 1524.76 1250.95 1528 Q1248.31 1531.22 1248.31 1537.27 L1248.31 1556.04 L1242.42 1556.04 L1242.42 1520.4 L1248.31 1520.4 L1248.31 1525.93 Q1250.16 1522.69 1253.12 1521.13 Q1256.08 1519.54 1260.31 1519.54 Q1260.91 1519.54 1261.65 1519.63 Q1262.38 1519.7 1263.27 1519.85 L1263.3 1525.87 Z\" fill=\"#000000\" fill-rule=\"evenodd\" fill-opacity=\"1\" /><path clip-path=\"url(#clip710)\" d=\"M 0 0 M1269.44 1520.4 L1275.3 1520.4 L1275.3 1556.04 L1269.44 1556.04 L1269.44 1520.4 M1269.44 1506.52 L1275.3 1506.52 L1275.3 1513.93 L1269.44 1513.93 L1269.44 1506.52 Z\" fill=\"#000000\" fill-rule=\"evenodd\" fill-opacity=\"1\" /><path clip-path=\"url(#clip710)\" d=\"M 0 0 M1295.26 1524.5 Q1290.55 1524.5 1287.81 1528.19 Q1285.07 1531.85 1285.07 1538.25 Q1285.07 1544.65 1287.78 1548.34 Q1290.51 1552 1295.26 1552 Q1299.94 1552 1302.67 1548.31 Q1305.41 1544.62 1305.41 1538.25 Q1305.41 1531.92 1302.67 1528.23 Q1299.94 1524.5 1295.26 1524.5 M1295.26 1519.54 Q1302.9 1519.54 1307.26 1524.5 Q1311.62 1529.47 1311.62 1538.25 Q1311.62 1547 1307.26 1552 Q1302.9 1556.97 1295.26 1556.97 Q1287.59 1556.97 1283.23 1552 Q1278.9 1547 1278.9 1538.25 Q1278.9 1529.47 1283.23 1524.5 Q1287.59 1519.54 1295.26 1519.54 Z\" fill=\"#000000\" fill-rule=\"evenodd\" fill-opacity=\"1\" /><path clip-path=\"url(#clip710)\" d=\"M 0 0 M1341.22 1525.81 L1341.22 1506.52 L1347.07 1506.52 L1347.07 1556.04 L1341.22 1556.04 L1341.22 1550.7 Q1339.37 1553.88 1336.54 1555.44 Q1333.74 1556.97 1329.79 1556.97 Q1323.33 1556.97 1319.26 1551.81 Q1315.21 1546.65 1315.21 1538.25 Q1315.21 1529.85 1319.26 1524.69 Q1323.33 1519.54 1329.79 1519.54 Q1333.74 1519.54 1336.54 1521.1 Q1339.37 1522.62 1341.22 1525.81 M1321.26 1538.25 Q1321.26 1544.71 1323.9 1548.4 Q1326.58 1552.07 1331.22 1552.07 Q1335.87 1552.07 1338.54 1548.4 Q1341.22 1544.71 1341.22 1538.25 Q1341.22 1531.79 1338.54 1528.13 Q1335.87 1524.44 1331.22 1524.44 Q1326.58 1524.44 1323.9 1528.13 Q1321.26 1531.79 1321.26 1538.25 Z\" fill=\"#000000\" fill-rule=\"evenodd\" fill-opacity=\"1\" /><path clip-path=\"url(#clip710)\" d=\"M 0 0 M1383.71 1536.76 L1383.71 1539.62 L1356.78 1539.62 Q1357.16 1545.67 1360.41 1548.85 Q1363.69 1552 1369.51 1552 Q1372.89 1552 1376.04 1551.17 Q1379.22 1550.35 1382.34 1548.69 L1382.34 1554.23 Q1379.19 1555.57 1375.88 1556.27 Q1372.57 1556.97 1369.16 1556.97 Q1360.63 1556.97 1355.64 1552 Q1350.67 1547.04 1350.67 1538.57 Q1350.67 1529.82 1355.38 1524.69 Q1360.12 1519.54 1368.14 1519.54 Q1375.34 1519.54 1379.51 1524.18 Q1383.71 1528.8 1383.71 1536.76 M1377.85 1535.04 Q1377.79 1530.23 1375.15 1527.37 Q1372.54 1524.5 1368.21 1524.5 Q1363.31 1524.5 1360.35 1527.27 Q1357.42 1530.04 1356.97 1535.07 L1377.85 1535.04 Z\" fill=\"#000000\" fill-rule=\"evenodd\" fill-opacity=\"1\" /><path clip-path=\"url(#clip710)\" d=\"M 0 0 M40.4842 867.316 L40.4842 857.735 L72.8219 845.609 L40.4842 833.418 L40.4842 823.838 L88.0042 823.838 L88.0042 830.108 L46.277 830.108 L78.8694 842.362 L78.8694 848.823 L46.277 861.077 L88.0042 861.077 L88.0042 867.316 L40.4842 867.316 Z\" fill=\"#000000\" fill-rule=\"evenodd\" fill-opacity=\"1\" /><path clip-path=\"url(#clip710)\" d=\"M 0 0 M68.7161 787.203 L71.5806 787.203 L71.5806 814.13 Q77.6281 813.748 80.8109 810.502 Q83.9619 807.223 83.9619 801.399 Q83.9619 798.025 83.1344 794.874 Q82.3069 791.691 80.6518 788.572 L86.1899 788.572 Q87.5267 791.723 88.227 795.033 Q88.9272 798.343 88.9272 801.749 Q88.9272 810.279 83.9619 815.276 Q78.9967 820.241 70.5303 820.241 Q61.7774 820.241 56.6531 815.531 Q51.4968 810.788 51.4968 802.767 Q51.4968 795.574 56.1438 791.405 Q60.7589 787.203 68.7161 787.203 M66.9973 793.06 Q62.1912 793.123 59.3266 795.765 Q56.4621 798.375 56.4621 802.704 Q56.4621 807.605 59.2312 810.565 Q62.0002 813.494 67.0292 813.939 L66.9973 793.06 Z\" fill=\"#000000\" fill-rule=\"evenodd\" fill-opacity=\"1\" /><path clip-path=\"url(#clip710)\" d=\"M 0 0 M66.4881 751.428 L88.0042 751.428 L88.0042 757.284 L66.679 757.284 Q61.6183 757.284 59.1038 759.258 Q56.5894 761.231 56.5894 765.178 Q56.5894 769.92 59.6131 772.658 Q62.6368 775.395 67.8567 775.395 L88.0042 775.395 L88.0042 781.283 L52.3562 781.283 L52.3562 775.395 L57.8944 775.395 Q54.6797 773.294 53.0883 770.461 Q51.4968 767.597 51.4968 763.873 Q51.4968 757.73 55.3163 754.579 Q59.1038 751.428 66.4881 751.428 Z\" fill=\"#000000\" fill-rule=\"evenodd\" fill-opacity=\"1\" /><path clip-path=\"url(#clip710)\" d=\"M 0 0 M69.7664 721.827 Q63.4007 721.827 59.8996 724.469 Q56.3984 727.079 56.3984 731.822 Q56.3984 736.532 59.8996 739.174 Q63.4007 741.784 69.7664 741.784 Q76.1003 741.784 79.6014 739.174 Q83.1026 736.532 83.1026 731.822 Q83.1026 727.079 79.6014 724.469 Q76.1003 721.827 69.7664 721.827 M83.58 715.971 Q92.683 715.971 97.1071 720.013 Q101.563 724.055 101.563 732.394 Q101.563 735.482 101.086 738.219 Q100.64 740.956 99.6852 743.534 L93.9879 743.534 Q95.3884 740.956 96.0568 738.442 Q96.7252 735.927 96.7252 733.318 Q96.7252 727.557 93.7015 724.692 Q90.7096 721.827 84.6303 721.827 L81.7339 721.827 Q84.885 723.642 86.4446 726.474 Q88.0042 729.307 88.0042 733.254 Q88.0042 739.811 83.0071 743.821 Q78.01 747.831 69.7664 747.831 Q61.491 747.831 56.4939 743.821 Q51.4968 739.811 51.4968 733.254 Q51.4968 729.307 53.0564 726.474 Q54.616 723.642 57.7671 721.827 L52.3562 721.827 L52.3562 715.971 L83.58 715.971 Z\" fill=\"#000000\" fill-rule=\"evenodd\" fill-opacity=\"1\" /><path clip-path=\"url(#clip710)\" d=\"M 0 0 M68.7161 679.336 L71.5806 679.336 L71.5806 706.263 Q77.6281 705.881 80.8109 702.635 Q83.9619 699.356 83.9619 693.532 Q83.9619 690.158 83.1344 687.007 Q82.3069 683.824 80.6518 680.705 L86.1899 680.705 Q87.5267 683.856 88.227 687.166 Q88.9272 690.476 88.9272 693.882 Q88.9272 702.412 83.9619 707.409 Q78.9967 712.374 70.5303 712.374 Q61.7774 712.374 56.6531 707.664 Q51.4968 702.921 51.4968 694.9 Q51.4968 687.707 56.1438 683.538 Q60.7589 679.336 68.7161 679.336 M66.9973 685.193 Q62.1912 685.256 59.3266 687.898 Q56.4621 690.508 56.4621 694.837 Q56.4621 699.738 59.2312 702.698 Q62.0002 705.627 67.0292 706.072 L66.9973 685.193 Z\" fill=\"#000000\" fill-rule=\"evenodd\" fill-opacity=\"1\" /><path clip-path=\"url(#clip712)\" d=\"\n",
       "M314.673 773.326 L314.673 1386.4 L421.666 1386.4 L421.666 773.326 L314.673 773.326 L314.673 773.326  Z\n",
       "  \" fill=\"#00688b\" fill-rule=\"evenodd\" fill-opacity=\"1\"/>\n",
       "<polyline clip-path=\"url(#clip712)\" style=\"stroke:#000000; stroke-width:4; stroke-opacity:1; fill:none\" points=\"\n",
       "  314.673,773.326 314.673,1386.4 421.666,1386.4 421.666,773.326 314.673,773.326 \n",
       "  \"/>\n",
       "<path clip-path=\"url(#clip712)\" d=\"\n",
       "M715.896 773.326 L715.896 1386.4 L822.888 1386.4 L822.888 773.326 L715.896 773.326 L715.896 773.326  Z\n",
       "  \" fill=\"#00688b\" fill-rule=\"evenodd\" fill-opacity=\"1\"/>\n",
       "<polyline clip-path=\"url(#clip712)\" style=\"stroke:#000000; stroke-width:4; stroke-opacity:1; fill:none\" points=\"\n",
       "  715.896,773.326 715.896,1386.4 822.888,1386.4 822.888,773.326 715.896,773.326 \n",
       "  \"/>\n",
       "<path clip-path=\"url(#clip712)\" d=\"\n",
       "M1117.12 589.405 L1117.12 1386.4 L1224.11 1386.4 L1224.11 589.405 L1117.12 589.405 L1117.12 589.405  Z\n",
       "  \" fill=\"#00688b\" fill-rule=\"evenodd\" fill-opacity=\"1\"/>\n",
       "<polyline clip-path=\"url(#clip712)\" style=\"stroke:#000000; stroke-width:4; stroke-opacity:1; fill:none\" points=\"\n",
       "  1117.12,589.405 1117.12,1386.4 1224.11,1386.4 1224.11,589.405 1117.12,589.405 \n",
       "  \"/>\n",
       "<path clip-path=\"url(#clip712)\" d=\"\n",
       "M1518.34 589.405 L1518.34 1386.4 L1625.33 1386.4 L1625.33 589.405 L1518.34 589.405 L1518.34 589.405  Z\n",
       "  \" fill=\"#00688b\" fill-rule=\"evenodd\" fill-opacity=\"1\"/>\n",
       "<polyline clip-path=\"url(#clip712)\" style=\"stroke:#000000; stroke-width:4; stroke-opacity:1; fill:none\" points=\"\n",
       "  1518.34,589.405 1518.34,1386.4 1625.33,1386.4 1625.33,589.405 1518.34,589.405 \n",
       "  \"/>\n",
       "<path clip-path=\"url(#clip712)\" d=\"\n",
       "M1919.56 528.098 L1919.56 1386.4 L2026.56 1386.4 L2026.56 528.098 L1919.56 528.098 L1919.56 528.098  Z\n",
       "  \" fill=\"#00688b\" fill-rule=\"evenodd\" fill-opacity=\"1\"/>\n",
       "<polyline clip-path=\"url(#clip712)\" style=\"stroke:#000000; stroke-width:4; stroke-opacity:1; fill:none\" points=\"\n",
       "  1919.56,528.098 1919.56,1386.4 2026.56,1386.4 2026.56,528.098 1919.56,528.098 \n",
       "  \"/>\n",
       "<path clip-path=\"url(#clip712)\" d=\"\n",
       "M421.666 773.326 L421.666 1386.4 L528.658 1386.4 L528.658 773.326 L421.666 773.326 L421.666 773.326  Z\n",
       "  \" fill=\"#cd0000\" fill-rule=\"evenodd\" fill-opacity=\"1\"/>\n",
       "<polyline clip-path=\"url(#clip712)\" style=\"stroke:#000000; stroke-width:4; stroke-opacity:1; fill:none\" points=\"\n",
       "  421.666,773.326 421.666,1386.4 528.658,1386.4 528.658,773.326 421.666,773.326 \n",
       "  \"/>\n",
       "<path clip-path=\"url(#clip712)\" d=\"\n",
       "M822.888 773.326 L822.888 1386.4 L929.881 1386.4 L929.881 773.326 L822.888 773.326 L822.888 773.326  Z\n",
       "  \" fill=\"#cd0000\" fill-rule=\"evenodd\" fill-opacity=\"1\"/>\n",
       "<polyline clip-path=\"url(#clip712)\" style=\"stroke:#000000; stroke-width:4; stroke-opacity:1; fill:none\" points=\"\n",
       "  822.888,773.326 822.888,1386.4 929.881,1386.4 929.881,773.326 822.888,773.326 \n",
       "  \"/>\n",
       "<path clip-path=\"url(#clip712)\" d=\"\n",
       "M1224.11 773.326 L1224.11 1386.4 L1331.1 1386.4 L1331.1 773.326 L1224.11 773.326 L1224.11 773.326  Z\n",
       "  \" fill=\"#cd0000\" fill-rule=\"evenodd\" fill-opacity=\"1\"/>\n",
       "<polyline clip-path=\"url(#clip712)\" style=\"stroke:#000000; stroke-width:4; stroke-opacity:1; fill:none\" points=\"\n",
       "  1224.11,773.326 1224.11,1386.4 1331.1,1386.4 1331.1,773.326 1224.11,773.326 \n",
       "  \"/>\n",
       "<path clip-path=\"url(#clip712)\" d=\"\n",
       "M1625.33 773.326 L1625.33 1386.4 L1732.33 1386.4 L1732.33 773.326 L1625.33 773.326 L1625.33 773.326  Z\n",
       "  \" fill=\"#cd0000\" fill-rule=\"evenodd\" fill-opacity=\"1\"/>\n",
       "<polyline clip-path=\"url(#clip712)\" style=\"stroke:#000000; stroke-width:4; stroke-opacity:1; fill:none\" points=\"\n",
       "  1625.33,773.326 1625.33,1386.4 1732.33,1386.4 1732.33,773.326 1625.33,773.326 \n",
       "  \"/>\n",
       "<path clip-path=\"url(#clip712)\" d=\"\n",
       "M2026.56 160.256 L2026.56 1386.4 L2133.55 1386.4 L2133.55 160.256 L2026.56 160.256 L2026.56 160.256  Z\n",
       "  \" fill=\"#cd0000\" fill-rule=\"evenodd\" fill-opacity=\"1\"/>\n",
       "<polyline clip-path=\"url(#clip712)\" style=\"stroke:#000000; stroke-width:4; stroke-opacity:1; fill:none\" points=\"\n",
       "  2026.56,160.256 2026.56,1386.4 2133.55,1386.4 2133.55,160.256 2026.56,160.256 \n",
       "  \"/>\n",
       "<path clip-path=\"url(#clip712)\" d=\"\n",
       "M528.658 1386.4 L528.658 1386.4 L635.651 1386.4 L635.651 1386.4 L528.658 1386.4 L528.658 1386.4  Z\n",
       "  \" fill=\"#ffa500\" fill-rule=\"evenodd\" fill-opacity=\"1\"/>\n",
       "<polyline clip-path=\"url(#clip712)\" style=\"stroke:#000000; stroke-width:4; stroke-opacity:1; fill:none\" points=\"\n",
       "  528.658,1386.4 528.658,1386.4 635.651,1386.4 528.658,1386.4 \n",
       "  \"/>\n",
       "<path clip-path=\"url(#clip712)\" d=\"\n",
       "M929.881 1386.4 L929.881 1386.4 L1036.87 1386.4 L1036.87 1386.4 L929.881 1386.4 L929.881 1386.4  Z\n",
       "  \" fill=\"#ffa500\" fill-rule=\"evenodd\" fill-opacity=\"1\"/>\n",
       "<polyline clip-path=\"url(#clip712)\" style=\"stroke:#000000; stroke-width:4; stroke-opacity:1; fill:none\" points=\"\n",
       "  929.881,1386.4 929.881,1386.4 1036.87,1386.4 929.881,1386.4 \n",
       "  \"/>\n",
       "<path clip-path=\"url(#clip712)\" d=\"\n",
       "M1331.1 1202.47 L1331.1 1386.4 L1438.1 1386.4 L1438.1 1202.47 L1331.1 1202.47 L1331.1 1202.47  Z\n",
       "  \" fill=\"#ffa500\" fill-rule=\"evenodd\" fill-opacity=\"1\"/>\n",
       "<polyline clip-path=\"url(#clip712)\" style=\"stroke:#000000; stroke-width:4; stroke-opacity:1; fill:none\" points=\"\n",
       "  1331.1,1202.47 1331.1,1386.4 1438.1,1386.4 1438.1,1202.47 1331.1,1202.47 \n",
       "  \"/>\n",
       "<path clip-path=\"url(#clip712)\" d=\"\n",
       "M1732.33 1018.55 L1732.33 1386.4 L1839.32 1386.4 L1839.32 1018.55 L1732.33 1018.55 L1732.33 1018.55  Z\n",
       "  \" fill=\"#ffa500\" fill-rule=\"evenodd\" fill-opacity=\"1\"/>\n",
       "<polyline clip-path=\"url(#clip712)\" style=\"stroke:#000000; stroke-width:4; stroke-opacity:1; fill:none\" points=\"\n",
       "  1732.33,1018.55 1732.33,1386.4 1839.32,1386.4 1839.32,1018.55 1732.33,1018.55 \n",
       "  \"/>\n",
       "<path clip-path=\"url(#clip712)\" d=\"\n",
       "M2133.55 1386.4 L2133.55 1386.4 L2240.54 1386.4 L2240.54 1386.4 L2133.55 1386.4 L2133.55 1386.4  Z\n",
       "  \" fill=\"#ffa500\" fill-rule=\"evenodd\" fill-opacity=\"1\"/>\n",
       "<polyline clip-path=\"url(#clip712)\" style=\"stroke:#000000; stroke-width:4; stroke-opacity:1; fill:none\" points=\"\n",
       "  2133.55,1386.4 2133.55,1386.4 2240.54,1386.4 2133.55,1386.4 \n",
       "  \"/>\n",
       "<path clip-path=\"url(#clip710)\" d=\"\n",
       "M274.459 448.912 L907.883 448.912 L907.883 206.992 L274.459 206.992  Z\n",
       "  \" fill=\"#ffffff\" fill-rule=\"evenodd\" fill-opacity=\"1\"/>\n",
       "<polyline clip-path=\"url(#clip710)\" style=\"stroke:#000000; stroke-width:4; stroke-opacity:1; fill:none\" points=\"\n",
       "  274.459,448.912 907.883,448.912 907.883,206.992 274.459,206.992 274.459,448.912 \n",
       "  \"/>\n",
       "<path clip-path=\"url(#clip710)\" d=\"\n",
       "M298.459 291.664 L442.459 291.664 L442.459 243.28 L298.459 243.28 L298.459 291.664  Z\n",
       "  \" fill=\"#00688b\" fill-rule=\"evenodd\" fill-opacity=\"1\"/>\n",
       "<polyline clip-path=\"url(#clip710)\" style=\"stroke:#000000; stroke-width:4; stroke-opacity:1; fill:none\" points=\"\n",
       "  298.459,291.664 442.459,291.664 442.459,243.28 298.459,243.28 298.459,291.664 \n",
       "  \"/>\n",
       "<path clip-path=\"url(#clip710)\" d=\"M 0 0 M471.135 254.035 L471.135 267.021 L477.014 267.021 Q480.278 267.021 482.061 265.331 Q483.843 263.641 483.843 260.516 Q483.843 257.414 482.061 255.725 Q480.278 254.035 477.014 254.035 L471.135 254.035 M466.459 250.192 L477.014 250.192 Q482.825 250.192 485.788 252.831 Q488.774 255.447 488.774 260.516 Q488.774 265.632 485.788 268.248 Q482.825 270.863 477.014 270.863 L471.135 270.863 L471.135 284.752 L466.459 284.752 L466.459 250.192 Z\" fill=\"#000000\" fill-rule=\"evenodd\" fill-opacity=\"1\" /><path clip-path=\"url(#clip710)\" d=\"M 0 0 M507.431 262.808 Q506.713 262.391 505.857 262.206 Q505.024 261.998 504.005 261.998 Q500.394 261.998 498.45 264.359 Q496.528 266.697 496.528 271.095 L496.528 284.752 L492.246 284.752 L492.246 258.826 L496.528 258.826 L496.528 262.854 Q497.871 260.493 500.024 259.359 Q502.176 258.201 505.255 258.201 Q505.695 258.201 506.227 258.271 Q506.76 258.317 507.408 258.433 L507.431 262.808 Z\" fill=\"#000000\" fill-rule=\"evenodd\" fill-opacity=\"1\" /><path clip-path=\"url(#clip710)\" d=\"M 0 0 M520.903 261.812 Q517.477 261.812 515.486 264.498 Q513.496 267.16 513.496 271.812 Q513.496 276.465 515.463 279.15 Q517.454 281.812 520.903 281.812 Q524.306 281.812 526.297 279.127 Q528.287 276.442 528.287 271.812 Q528.287 267.206 526.297 264.521 Q524.306 261.812 520.903 261.812 M520.903 258.201 Q526.459 258.201 529.63 261.812 Q532.801 265.424 532.801 271.812 Q532.801 278.178 529.63 281.812 Q526.459 285.423 520.903 285.423 Q515.324 285.423 512.153 281.812 Q509.005 278.178 509.005 271.812 Q509.005 265.424 512.153 261.812 Q515.324 258.201 520.903 258.201 Z\" fill=\"#000000\" fill-rule=\"evenodd\" fill-opacity=\"1\" /><path clip-path=\"url(#clip710)\" d=\"M 0 0 M554.329 262.762 L554.329 248.734 L558.588 248.734 L558.588 284.752 L554.329 284.752 L554.329 280.863 Q552.986 283.178 550.926 284.312 Q548.889 285.423 546.019 285.423 Q541.32 285.423 538.357 281.673 Q535.417 277.923 535.417 271.812 Q535.417 265.701 538.357 261.951 Q541.32 258.201 546.019 258.201 Q548.889 258.201 550.926 259.336 Q552.986 260.447 554.329 262.762 M539.815 271.812 Q539.815 276.511 541.736 279.197 Q543.681 281.859 547.06 281.859 Q550.44 281.859 552.384 279.197 Q554.329 276.511 554.329 271.812 Q554.329 267.113 552.384 264.451 Q550.44 261.766 547.06 261.766 Q543.681 261.766 541.736 264.451 Q539.815 267.113 539.815 271.812 Z\" fill=\"#000000\" fill-rule=\"evenodd\" fill-opacity=\"1\" /><path clip-path=\"url(#clip710)\" d=\"M 0 0 M562.616 274.521 L562.616 258.826 L566.875 258.826 L566.875 274.359 Q566.875 278.039 568.31 279.891 Q569.745 281.72 572.616 281.72 Q576.065 281.72 578.056 279.521 Q580.069 277.322 580.069 273.525 L580.069 258.826 L584.329 258.826 L584.329 284.752 L580.069 284.752 L580.069 280.771 Q578.519 283.132 576.458 284.289 Q574.421 285.423 571.713 285.423 Q567.245 285.423 564.931 282.646 Q562.616 279.868 562.616 274.521 M573.333 258.201 L573.333 258.201 Z\" fill=\"#000000\" fill-rule=\"evenodd\" fill-opacity=\"1\" /><path clip-path=\"url(#clip710)\" d=\"M 0 0 M588.634 248.734 L592.917 248.734 L592.917 270.007 L605.625 258.826 L611.065 258.826 L597.315 270.956 L611.643 284.752 L606.088 284.752 L592.917 272.09 L592.917 284.752 L588.634 284.752 L588.634 248.734 Z\" fill=\"#000000\" fill-rule=\"evenodd\" fill-opacity=\"1\" /><path clip-path=\"url(#clip710)\" d=\"M 0 0 M620.324 251.465 L620.324 258.826 L629.097 258.826 L629.097 262.137 L620.324 262.137 L620.324 276.211 Q620.324 279.382 621.18 280.285 Q622.06 281.187 624.722 281.187 L629.097 281.187 L629.097 284.752 L624.722 284.752 Q619.791 284.752 617.916 282.923 Q616.041 281.072 616.041 276.211 L616.041 262.137 L612.917 262.137 L612.917 258.826 L616.041 258.826 L616.041 251.465 L620.324 251.465 Z\" fill=\"#000000\" fill-rule=\"evenodd\" fill-opacity=\"1\" /><path clip-path=\"url(#clip710)\" d=\"M 0 0 M633.565 258.826 L637.824 258.826 L637.824 284.752 L633.565 284.752 L633.565 258.826 M633.565 248.734 L637.824 248.734 L637.824 254.127 L633.565 254.127 L633.565 248.734 Z\" fill=\"#000000\" fill-rule=\"evenodd\" fill-opacity=\"1\" /><path clip-path=\"url(#clip710)\" d=\"M 0 0 M652.338 261.812 Q648.912 261.812 646.921 264.498 Q644.93 267.16 644.93 271.812 Q644.93 276.465 646.898 279.15 Q648.889 281.812 652.338 281.812 Q655.74 281.812 657.731 279.127 Q659.722 276.442 659.722 271.812 Q659.722 267.206 657.731 264.521 Q655.74 261.812 652.338 261.812 M652.338 258.201 Q657.893 258.201 661.064 261.812 Q664.236 265.424 664.236 271.812 Q664.236 278.178 661.064 281.812 Q657.893 285.423 652.338 285.423 Q646.759 285.423 643.588 281.812 Q640.44 278.178 640.44 271.812 Q640.44 265.424 643.588 261.812 Q646.759 258.201 652.338 258.201 Z\" fill=\"#000000\" fill-rule=\"evenodd\" fill-opacity=\"1\" /><path clip-path=\"url(#clip710)\" d=\"M 0 0 M690.254 269.104 L690.254 284.752 L685.995 284.752 L685.995 269.243 Q685.995 265.562 684.56 263.734 Q683.124 261.905 680.254 261.905 Q676.805 261.905 674.814 264.104 Q672.824 266.303 672.824 270.099 L672.824 284.752 L668.541 284.752 L668.541 258.826 L672.824 258.826 L672.824 262.854 Q674.351 260.516 676.412 259.359 Q678.495 258.201 681.203 258.201 Q685.671 258.201 687.962 260.979 Q690.254 263.734 690.254 269.104 Z\" fill=\"#000000\" fill-rule=\"evenodd\" fill-opacity=\"1\" /><path clip-path=\"url(#clip710)\" d=\"M 0 0 M711.249 259.59 L711.249 263.618 Q709.444 262.692 707.499 262.229 Q705.555 261.766 703.472 261.766 Q700.3 261.766 698.703 262.738 Q697.129 263.711 697.129 265.655 Q697.129 267.136 698.263 267.993 Q699.398 268.826 702.823 269.59 L704.282 269.914 Q708.819 270.886 710.717 272.669 Q712.638 274.428 712.638 277.599 Q712.638 281.21 709.768 283.317 Q706.921 285.423 701.921 285.423 Q699.837 285.423 697.569 285.007 Q695.323 284.613 692.823 283.803 L692.823 279.405 Q695.185 280.632 697.476 281.257 Q699.768 281.859 702.013 281.859 Q705.022 281.859 706.643 280.84 Q708.263 279.798 708.263 277.923 Q708.263 276.187 707.083 275.261 Q705.925 274.336 701.967 273.479 L700.485 273.132 Q696.527 272.298 694.768 270.586 Q693.009 268.849 693.009 265.84 Q693.009 262.183 695.601 260.192 Q698.194 258.201 702.962 258.201 Q705.323 258.201 707.407 258.549 Q709.49 258.896 711.249 259.59 Z\" fill=\"#000000\" fill-rule=\"evenodd\" fill-opacity=\"1\" /><path clip-path=\"url(#clip710)\" d=\"M 0 0 M737.291 263.803 Q738.888 260.933 741.11 259.567 Q743.332 258.201 746.342 258.201 Q750.393 258.201 752.592 261.049 Q754.791 263.873 754.791 269.104 L754.791 284.752 L750.508 284.752 L750.508 269.243 Q750.508 265.516 749.189 263.711 Q747.869 261.905 745.161 261.905 Q741.851 261.905 739.93 264.104 Q738.008 266.303 738.008 270.099 L738.008 284.752 L733.726 284.752 L733.726 269.243 Q733.726 265.493 732.407 263.711 Q731.087 261.905 728.333 261.905 Q725.069 261.905 723.147 264.127 Q721.226 266.326 721.226 270.099 L721.226 284.752 L716.944 284.752 L716.944 258.826 L721.226 258.826 L721.226 262.854 Q722.684 260.47 724.721 259.336 Q726.758 258.201 729.559 258.201 Q732.383 258.201 734.351 259.637 Q736.342 261.072 737.291 263.803 Z\" fill=\"#000000\" fill-rule=\"evenodd\" fill-opacity=\"1\" /><path clip-path=\"url(#clip710)\" d=\"M 0 0 M781.434 270.724 L781.434 272.808 L761.851 272.808 Q762.129 277.206 764.49 279.521 Q766.874 281.812 771.11 281.812 Q773.564 281.812 775.855 281.21 Q778.17 280.609 780.439 279.405 L780.439 283.433 Q778.147 284.405 775.74 284.914 Q773.332 285.423 770.855 285.423 Q764.652 285.423 761.018 281.812 Q757.406 278.201 757.406 272.044 Q757.406 265.678 760.832 261.951 Q764.281 258.201 770.115 258.201 Q775.346 258.201 778.379 261.581 Q781.434 264.937 781.434 270.724 M777.175 269.474 Q777.129 265.979 775.207 263.896 Q773.309 261.812 770.161 261.812 Q766.596 261.812 764.443 263.826 Q762.314 265.84 761.99 269.498 L777.175 269.474 Z\" fill=\"#000000\" fill-rule=\"evenodd\" fill-opacity=\"1\" /><path clip-path=\"url(#clip710)\" d=\"M 0 0 M807.452 269.104 L807.452 284.752 L803.193 284.752 L803.193 269.243 Q803.193 265.562 801.758 263.734 Q800.323 261.905 797.453 261.905 Q794.003 261.905 792.013 264.104 Q790.022 266.303 790.022 270.099 L790.022 284.752 L785.74 284.752 L785.74 258.826 L790.022 258.826 L790.022 262.854 Q791.55 260.516 793.61 259.359 Q795.693 258.201 798.402 258.201 Q802.869 258.201 805.161 260.979 Q807.452 263.734 807.452 269.104 Z\" fill=\"#000000\" fill-rule=\"evenodd\" fill-opacity=\"1\" /><path clip-path=\"url(#clip710)\" d=\"M 0 0 M828.98 271.488 Q828.98 266.859 827.059 264.312 Q825.161 261.766 821.712 261.766 Q818.286 261.766 816.364 264.312 Q814.466 266.859 814.466 271.488 Q814.466 276.095 816.364 278.641 Q818.286 281.187 821.712 281.187 Q825.161 281.187 827.059 278.641 Q828.98 276.095 828.98 271.488 M833.239 281.535 Q833.239 288.155 830.3 291.372 Q827.36 294.613 821.295 294.613 Q819.05 294.613 817.059 294.266 Q815.068 293.942 813.193 293.247 L813.193 289.104 Q815.068 290.122 816.897 290.609 Q818.726 291.095 820.624 291.095 Q824.814 291.095 826.897 288.896 Q828.98 286.72 828.98 282.298 L828.98 280.192 Q827.661 282.484 825.601 283.618 Q823.54 284.752 820.67 284.752 Q815.902 284.752 812.985 281.118 Q810.068 277.484 810.068 271.488 Q810.068 265.47 812.985 261.836 Q815.902 258.201 820.67 258.201 Q823.54 258.201 825.601 259.336 Q827.661 260.47 828.98 262.762 L828.98 258.826 L833.239 258.826 L833.239 281.535 Z\" fill=\"#000000\" fill-rule=\"evenodd\" fill-opacity=\"1\" /><path clip-path=\"url(#clip710)\" d=\"M 0 0 M859.883 270.724 L859.883 272.808 L840.3 272.808 Q840.577 277.206 842.938 279.521 Q845.323 281.812 849.559 281.812 Q852.012 281.812 854.304 281.21 Q856.619 280.609 858.887 279.405 L858.887 283.433 Q856.596 284.405 854.188 284.914 Q851.781 285.423 849.304 285.423 Q843.1 285.423 839.466 281.812 Q835.855 278.201 835.855 272.044 Q835.855 265.678 839.281 261.951 Q842.73 258.201 848.563 258.201 Q853.795 258.201 856.827 261.581 Q859.883 264.937 859.883 270.724 M855.624 269.474 Q855.577 265.979 853.656 263.896 Q851.758 261.812 848.61 261.812 Q845.045 261.812 842.892 263.826 Q840.763 265.84 840.438 269.498 L855.624 269.474 Z\" fill=\"#000000\" fill-rule=\"evenodd\" fill-opacity=\"1\" /><path clip-path=\"url(#clip710)\" d=\"\n",
       "M298.459 352.144 L442.459 352.144 L442.459 303.76 L298.459 303.76 L298.459 352.144  Z\n",
       "  \" fill=\"#cd0000\" fill-rule=\"evenodd\" fill-opacity=\"1\"/>\n",
       "<polyline clip-path=\"url(#clip710)\" style=\"stroke:#000000; stroke-width:4; stroke-opacity:1; fill:none\" points=\"\n",
       "  298.459,352.144 442.459,352.144 442.459,303.76 298.459,303.76 298.459,352.144 \n",
       "  \"/>\n",
       "<path clip-path=\"url(#clip710)\" d=\"M 0 0 M482.292 315.279 L475.95 332.478 L488.658 332.478 L482.292 315.279 M479.653 310.672 L484.954 310.672 L498.125 345.232 L493.264 345.232 L490.116 336.366 L474.538 336.366 L471.389 345.232 L466.459 345.232 L479.653 310.672 Z\" fill=\"#000000\" fill-rule=\"evenodd\" fill-opacity=\"1\" /><path clip-path=\"url(#clip710)\" d=\"M 0 0 M521.204 332.292 Q521.204 327.593 519.26 324.931 Q517.338 322.246 513.959 322.246 Q510.579 322.246 508.635 324.931 Q506.713 327.593 506.713 332.292 Q506.713 336.991 508.635 339.677 Q510.579 342.339 513.959 342.339 Q517.338 342.339 519.26 339.677 Q521.204 336.991 521.204 332.292 M506.713 323.242 Q508.056 320.927 510.093 319.816 Q512.153 318.681 515 318.681 Q519.723 318.681 522.662 322.431 Q525.625 326.181 525.625 332.292 Q525.625 338.403 522.662 342.153 Q519.723 345.903 515 345.903 Q512.153 345.903 510.093 344.792 Q508.056 343.658 506.713 341.343 L506.713 345.232 L502.431 345.232 L502.431 309.214 L506.713 309.214 L506.713 323.242 Z\" fill=\"#000000\" fill-rule=\"evenodd\" fill-opacity=\"1\" /><path clip-path=\"url(#clip710)\" d=\"M 0 0 M546.621 320.07 L546.621 324.098 Q544.815 323.172 542.871 322.709 Q540.926 322.246 538.843 322.246 Q535.672 322.246 534.074 323.218 Q532.5 324.191 532.5 326.135 Q532.5 327.616 533.635 328.473 Q534.769 329.306 538.195 330.07 L539.653 330.394 Q544.19 331.366 546.088 333.149 Q548.009 334.908 548.009 338.079 Q548.009 341.69 545.139 343.797 Q542.292 345.903 537.292 345.903 Q535.209 345.903 532.94 345.487 Q530.695 345.093 528.195 344.283 L528.195 339.885 Q530.556 341.112 532.847 341.737 Q535.139 342.339 537.384 342.339 Q540.394 342.339 542.014 341.32 Q543.634 340.278 543.634 338.403 Q543.634 336.667 542.454 335.741 Q541.297 334.816 537.338 333.959 L535.857 333.612 Q531.898 332.778 530.139 331.066 Q528.38 329.329 528.38 326.32 Q528.38 322.663 530.972 320.672 Q533.565 318.681 538.334 318.681 Q540.695 318.681 542.778 319.029 Q544.861 319.376 546.621 320.07 Z\" fill=\"#000000\" fill-rule=\"evenodd\" fill-opacity=\"1\" /><path clip-path=\"url(#clip710)\" d=\"M 0 0 M564.259 332.2 Q559.097 332.2 557.107 333.38 Q555.116 334.561 555.116 337.408 Q555.116 339.677 556.597 341.019 Q558.102 342.339 560.671 342.339 Q564.213 342.339 566.343 339.839 Q568.495 337.316 568.495 333.149 L568.495 332.2 L564.259 332.2 M572.755 330.441 L572.755 345.232 L568.495 345.232 L568.495 341.297 Q567.037 343.658 564.861 344.792 Q562.685 345.903 559.537 345.903 Q555.556 345.903 553.195 343.681 Q550.857 341.436 550.857 337.686 Q550.857 333.311 553.773 331.089 Q556.713 328.866 562.523 328.866 L568.495 328.866 L568.495 328.45 Q568.495 325.51 566.551 323.913 Q564.63 322.292 561.134 322.292 Q558.912 322.292 556.806 322.825 Q554.699 323.357 552.755 324.422 L552.755 320.487 Q555.093 319.584 557.292 319.144 Q559.491 318.681 561.574 318.681 Q567.199 318.681 569.977 321.598 Q572.755 324.515 572.755 330.441 Z\" fill=\"#000000\" fill-rule=\"evenodd\" fill-opacity=\"1\" /><path clip-path=\"url(#clip710)\" d=\"M 0 0 M581.435 311.945 L581.435 319.306 L590.208 319.306 L590.208 322.617 L581.435 322.617 L581.435 336.691 Q581.435 339.862 582.292 340.765 Q583.171 341.667 585.833 341.667 L590.208 341.667 L590.208 345.232 L585.833 345.232 Q580.903 345.232 579.028 343.403 Q577.153 341.552 577.153 336.691 L577.153 322.617 L574.028 322.617 L574.028 319.306 L577.153 319.306 L577.153 311.945 L581.435 311.945 Z\" fill=\"#000000\" fill-rule=\"evenodd\" fill-opacity=\"1\" /><path clip-path=\"url(#clip710)\" d=\"M 0 0 M592.824 319.306 L613.055 319.306 L613.055 323.195 L597.037 341.829 L613.055 341.829 L613.055 345.232 L592.245 345.232 L592.245 341.343 L608.264 322.709 L592.824 322.709 L592.824 319.306 Z\" fill=\"#000000\" fill-rule=\"evenodd\" fill-opacity=\"1\" /><path clip-path=\"url(#clip710)\" d=\"M 0 0 M637.708 324.283 Q639.305 321.413 641.527 320.047 Q643.75 318.681 646.759 318.681 Q650.81 318.681 653.009 321.529 Q655.208 324.353 655.208 329.584 L655.208 345.232 L650.926 345.232 L650.926 329.723 Q650.926 325.996 649.606 324.191 Q648.287 322.385 645.578 322.385 Q642.268 322.385 640.347 324.584 Q638.426 326.783 638.426 330.579 L638.426 345.232 L634.143 345.232 L634.143 329.723 Q634.143 325.973 632.824 324.191 Q631.504 322.385 628.75 322.385 Q625.486 322.385 623.565 324.607 Q621.643 326.806 621.643 330.579 L621.643 345.232 L617.361 345.232 L617.361 319.306 L621.643 319.306 L621.643 323.334 Q623.102 320.95 625.139 319.816 Q627.176 318.681 629.977 318.681 Q632.801 318.681 634.768 320.117 Q636.759 321.552 637.708 324.283 Z\" fill=\"#000000\" fill-rule=\"evenodd\" fill-opacity=\"1\" /><path clip-path=\"url(#clip710)\" d=\"M 0 0 M681.851 331.204 L681.851 333.288 L662.268 333.288 Q662.546 337.686 664.907 340.001 Q667.291 342.292 671.527 342.292 Q673.981 342.292 676.273 341.69 Q678.587 341.089 680.856 339.885 L680.856 343.913 Q678.564 344.885 676.157 345.394 Q673.75 345.903 671.273 345.903 Q665.069 345.903 661.435 342.292 Q657.824 338.681 657.824 332.524 Q657.824 326.158 661.25 322.431 Q664.699 318.681 670.532 318.681 Q675.763 318.681 678.796 322.061 Q681.851 325.417 681.851 331.204 M677.592 329.954 Q677.546 326.459 675.624 324.376 Q673.726 322.292 670.578 322.292 Q667.013 322.292 664.861 324.306 Q662.731 326.32 662.407 329.978 L677.592 329.954 Z\" fill=\"#000000\" fill-rule=\"evenodd\" fill-opacity=\"1\" /><path clip-path=\"url(#clip710)\" d=\"M 0 0 M707.87 329.584 L707.87 345.232 L703.61 345.232 L703.61 329.723 Q703.61 326.042 702.175 324.214 Q700.74 322.385 697.87 322.385 Q694.421 322.385 692.43 324.584 Q690.439 326.783 690.439 330.579 L690.439 345.232 L686.157 345.232 L686.157 319.306 L690.439 319.306 L690.439 323.334 Q691.967 320.996 694.027 319.839 Q696.11 318.681 698.819 318.681 Q703.286 318.681 705.578 321.459 Q707.87 324.214 707.87 329.584 Z\" fill=\"#000000\" fill-rule=\"evenodd\" fill-opacity=\"1\" /><path clip-path=\"url(#clip710)\" d=\"M 0 0 M729.397 331.968 Q729.397 327.339 727.476 324.792 Q725.578 322.246 722.129 322.246 Q718.703 322.246 716.782 324.792 Q714.884 327.339 714.884 331.968 Q714.884 336.575 716.782 339.121 Q718.703 341.667 722.129 341.667 Q725.578 341.667 727.476 339.121 Q729.397 336.575 729.397 331.968 M733.657 342.015 Q733.657 348.635 730.717 351.852 Q727.777 355.093 721.712 355.093 Q719.467 355.093 717.476 354.746 Q715.485 354.422 713.61 353.727 L713.61 349.584 Q715.485 350.602 717.314 351.089 Q719.143 351.575 721.041 351.575 Q725.231 351.575 727.314 349.376 Q729.397 347.2 729.397 342.778 L729.397 340.672 Q728.078 342.964 726.018 344.098 Q723.958 345.232 721.087 345.232 Q716.319 345.232 713.402 341.598 Q710.485 337.964 710.485 331.968 Q710.485 325.95 713.402 322.316 Q716.319 318.681 721.087 318.681 Q723.958 318.681 726.018 319.816 Q728.078 320.95 729.397 323.242 L729.397 319.306 L733.657 319.306 L733.657 342.015 Z\" fill=\"#000000\" fill-rule=\"evenodd\" fill-opacity=\"1\" /><path clip-path=\"url(#clip710)\" d=\"M 0 0 M760.3 331.204 L760.3 333.288 L740.717 333.288 Q740.995 337.686 743.356 340.001 Q745.74 342.292 749.976 342.292 Q752.43 342.292 754.721 341.69 Q757.036 341.089 759.305 339.885 L759.305 343.913 Q757.013 344.885 754.606 345.394 Q752.198 345.903 749.721 345.903 Q743.518 345.903 739.883 342.292 Q736.272 338.681 736.272 332.524 Q736.272 326.158 739.698 322.431 Q743.147 318.681 748.981 318.681 Q754.212 318.681 757.244 322.061 Q760.3 325.417 760.3 331.204 M756.041 329.954 Q755.994 326.459 754.073 324.376 Q752.175 322.292 749.027 322.292 Q745.462 322.292 743.309 324.306 Q741.18 326.32 740.856 329.978 L756.041 329.954 Z\" fill=\"#000000\" fill-rule=\"evenodd\" fill-opacity=\"1\" /><path clip-path=\"url(#clip710)\" d=\"\n",
       "M298.459 412.624 L442.459 412.624 L442.459 364.24 L298.459 364.24 L298.459 412.624  Z\n",
       "  \" fill=\"#ffa500\" fill-rule=\"evenodd\" fill-opacity=\"1\"/>\n",
       "<polyline clip-path=\"url(#clip710)\" style=\"stroke:#000000; stroke-width:4; stroke-opacity:1; fill:none\" points=\"\n",
       "  298.459,412.624 442.459,412.624 442.459,364.24 298.459,364.24 298.459,412.624 \n",
       "  \"/>\n",
       "<path clip-path=\"url(#clip710)\" d=\"M 0 0 M466.459 371.152 L471.135 371.152 L471.135 401.777 L487.963 401.777 L487.963 405.712 L466.459 405.712 L466.459 371.152 Z\" fill=\"#000000\" fill-rule=\"evenodd\" fill-opacity=\"1\" /><path clip-path=\"url(#clip710)\" d=\"M 0 0 M504.213 392.68 Q499.051 392.68 497.061 393.86 Q495.07 395.041 495.07 397.888 Q495.07 400.157 496.551 401.499 Q498.056 402.819 500.625 402.819 Q504.167 402.819 506.297 400.319 Q508.449 397.796 508.449 393.629 L508.449 392.68 L504.213 392.68 M512.709 390.921 L512.709 405.712 L508.449 405.712 L508.449 401.777 Q506.991 404.138 504.815 405.272 Q502.639 406.383 499.491 406.383 Q495.51 406.383 493.149 404.161 Q490.811 401.916 490.811 398.166 Q490.811 393.791 493.727 391.569 Q496.667 389.346 502.477 389.346 L508.449 389.346 L508.449 388.93 Q508.449 385.99 506.505 384.393 Q504.584 382.772 501.088 382.772 Q498.866 382.772 496.76 383.305 Q494.653 383.837 492.709 384.902 L492.709 380.967 Q495.047 380.064 497.246 379.624 Q499.445 379.161 501.528 379.161 Q507.153 379.161 509.931 382.078 Q512.709 384.995 512.709 390.921 Z\" fill=\"#000000\" fill-rule=\"evenodd\" fill-opacity=\"1\" /><path clip-path=\"url(#clip710)\" d=\"M 0 0 M534.236 392.448 Q534.236 387.819 532.315 385.272 Q530.417 382.726 526.968 382.726 Q523.542 382.726 521.621 385.272 Q519.723 387.819 519.723 392.448 Q519.723 397.055 521.621 399.601 Q523.542 402.147 526.968 402.147 Q530.417 402.147 532.315 399.601 Q534.236 397.055 534.236 392.448 M538.496 402.495 Q538.496 409.115 535.556 412.332 Q532.616 415.573 526.551 415.573 Q524.306 415.573 522.315 415.226 Q520.324 414.902 518.449 414.207 L518.449 410.064 Q520.324 411.082 522.153 411.569 Q523.982 412.055 525.88 412.055 Q530.07 412.055 532.153 409.856 Q534.236 407.68 534.236 403.258 L534.236 401.152 Q532.917 403.444 530.857 404.578 Q528.797 405.712 525.926 405.712 Q521.158 405.712 518.241 402.078 Q515.324 398.444 515.324 392.448 Q515.324 386.43 518.241 382.796 Q521.158 379.161 525.926 379.161 Q528.797 379.161 530.857 380.296 Q532.917 381.43 534.236 383.722 L534.236 379.786 L538.496 379.786 L538.496 402.495 Z\" fill=\"#000000\" fill-rule=\"evenodd\" fill-opacity=\"1\" /><path clip-path=\"url(#clip710)\" d=\"M 0 0 M565.139 391.684 L565.139 393.768 L545.556 393.768 Q545.834 398.166 548.195 400.481 Q550.579 402.772 554.815 402.772 Q557.269 402.772 559.56 402.17 Q561.875 401.569 564.144 400.365 L564.144 404.393 Q561.852 405.365 559.445 405.874 Q557.037 406.383 554.56 406.383 Q548.357 406.383 544.722 402.772 Q541.111 399.161 541.111 393.004 Q541.111 386.638 544.537 382.911 Q547.986 379.161 553.82 379.161 Q559.051 379.161 562.083 382.541 Q565.139 385.897 565.139 391.684 M560.88 390.434 Q560.833 386.939 558.912 384.856 Q557.014 382.772 553.866 382.772 Q550.301 382.772 548.148 384.786 Q546.019 386.8 545.695 390.458 L560.88 390.434 Z\" fill=\"#000000\" fill-rule=\"evenodd\" fill-opacity=\"1\" /><path clip-path=\"url(#clip710)\" d=\"M 0 0 M584.63 383.768 Q583.912 383.351 583.056 383.166 Q582.222 382.958 581.204 382.958 Q577.593 382.958 575.648 385.319 Q573.727 387.657 573.727 392.055 L573.727 405.712 L569.445 405.712 L569.445 379.786 L573.727 379.786 L573.727 383.814 Q575.069 381.453 577.222 380.319 Q579.375 379.161 582.454 379.161 Q582.894 379.161 583.426 379.231 Q583.958 379.277 584.606 379.393 L584.63 383.768 Z\" fill=\"#000000\" fill-rule=\"evenodd\" fill-opacity=\"1\" /><path clip-path=\"url(#clip710)\" d=\"M 0 0 M608.449 384.763 Q610.046 381.893 612.268 380.527 Q614.491 379.161 617.5 379.161 Q621.551 379.161 623.75 382.009 Q625.949 384.833 625.949 390.064 L625.949 405.712 L621.666 405.712 L621.666 390.203 Q621.666 386.476 620.347 384.671 Q619.028 382.865 616.319 382.865 Q613.009 382.865 611.088 385.064 Q609.167 387.263 609.167 391.059 L609.167 405.712 L604.884 405.712 L604.884 390.203 Q604.884 386.453 603.565 384.671 Q602.245 382.865 599.491 382.865 Q596.227 382.865 594.305 385.087 Q592.384 387.286 592.384 391.059 L592.384 405.712 L588.102 405.712 L588.102 379.786 L592.384 379.786 L592.384 383.814 Q593.843 381.43 595.88 380.296 Q597.917 379.161 600.717 379.161 Q603.542 379.161 605.509 380.597 Q607.5 382.032 608.449 384.763 Z\" fill=\"#000000\" fill-rule=\"evenodd\" fill-opacity=\"1\" /><path clip-path=\"url(#clip710)\" d=\"M 0 0 M652.592 391.684 L652.592 393.768 L633.009 393.768 Q633.287 398.166 635.648 400.481 Q638.032 402.772 642.268 402.772 Q644.722 402.772 647.014 402.17 Q649.328 401.569 651.597 400.365 L651.597 404.393 Q649.305 405.365 646.898 405.874 Q644.49 406.383 642.014 406.383 Q635.81 406.383 632.176 402.772 Q628.565 399.161 628.565 393.004 Q628.565 386.638 631.99 382.911 Q635.44 379.161 641.273 379.161 Q646.504 379.161 649.537 382.541 Q652.592 385.897 652.592 391.684 M648.333 390.434 Q648.287 386.939 646.365 384.856 Q644.467 382.772 641.319 382.772 Q637.754 382.772 635.602 384.786 Q633.472 386.8 633.148 390.458 L648.333 390.434 Z\" fill=\"#000000\" fill-rule=\"evenodd\" fill-opacity=\"1\" /><path clip-path=\"url(#clip710)\" d=\"M 0 0 M678.611 390.064 L678.611 405.712 L674.351 405.712 L674.351 390.203 Q674.351 386.522 672.916 384.694 Q671.481 382.865 668.611 382.865 Q665.162 382.865 663.171 385.064 Q661.18 387.263 661.18 391.059 L661.18 405.712 L656.898 405.712 L656.898 379.786 L661.18 379.786 L661.18 383.814 Q662.708 381.476 664.768 380.319 Q666.851 379.161 669.56 379.161 Q674.027 379.161 676.319 381.939 Q678.611 384.694 678.611 390.064 Z\" fill=\"#000000\" fill-rule=\"evenodd\" fill-opacity=\"1\" /><path clip-path=\"url(#clip710)\" d=\"M 0 0 M700.138 392.448 Q700.138 387.819 698.217 385.272 Q696.319 382.726 692.87 382.726 Q689.444 382.726 687.523 385.272 Q685.624 387.819 685.624 392.448 Q685.624 397.055 687.523 399.601 Q689.444 402.147 692.87 402.147 Q696.319 402.147 698.217 399.601 Q700.138 397.055 700.138 392.448 M704.397 402.495 Q704.397 409.115 701.458 412.332 Q698.518 415.573 692.453 415.573 Q690.208 415.573 688.217 415.226 Q686.226 414.902 684.351 414.207 L684.351 410.064 Q686.226 411.082 688.055 411.569 Q689.884 412.055 691.782 412.055 Q695.972 412.055 698.055 409.856 Q700.138 407.68 700.138 403.258 L700.138 401.152 Q698.819 403.444 696.759 404.578 Q694.698 405.712 691.828 405.712 Q687.06 405.712 684.143 402.078 Q681.226 398.444 681.226 392.448 Q681.226 386.43 684.143 382.796 Q687.06 379.161 691.828 379.161 Q694.698 379.161 696.759 380.296 Q698.819 381.43 700.138 383.722 L700.138 379.786 L704.397 379.786 L704.397 402.495 Z\" fill=\"#000000\" fill-rule=\"evenodd\" fill-opacity=\"1\" /><path clip-path=\"url(#clip710)\" d=\"M 0 0 M731.041 391.684 L731.041 393.768 L711.458 393.768 Q711.735 398.166 714.097 400.481 Q716.481 402.772 720.717 402.772 Q723.171 402.772 725.462 402.17 Q727.777 401.569 730.046 400.365 L730.046 404.393 Q727.754 405.365 725.346 405.874 Q722.939 406.383 720.462 406.383 Q714.259 406.383 710.624 402.772 Q707.013 399.161 707.013 393.004 Q707.013 386.638 710.439 382.911 Q713.888 379.161 719.721 379.161 Q724.953 379.161 727.985 382.541 Q731.041 385.897 731.041 391.684 M726.782 390.434 Q726.735 386.939 724.814 384.856 Q722.916 382.772 719.768 382.772 Q716.203 382.772 714.05 384.786 Q711.921 386.8 711.597 390.458 L726.782 390.434 Z\" fill=\"#000000\" fill-rule=\"evenodd\" fill-opacity=\"1\" /></svg>\n"
      ]
     },
     "execution_count": 48,
     "metadata": {},
     "output_type": "execute_result"
    }
   ],
   "source": [
    "groupedbar(bardataDunkel,label=[\"Produktionsmenge\" \"Absatzmenge\" \"Lagermenge\"], title = \"Produkt Dunkel\",\n",
    "           colour = [:DeepSkyBlue4 :Red3 :orange], xlabel = \"Periode\", ylabel = \"Menge\",legend = :topleft)"
   ]
  },
  {
   "cell_type": "markdown",
   "metadata": {},
   "source": [
    "Beide in einem:"
   ]
  },
  {
   "cell_type": "code",
   "execution_count": 49,
   "metadata": {},
   "outputs": [
    {
     "ename": "UndefVarError",
     "evalue": "UndefVarError: bardataHell not defined",
     "output_type": "error",
     "traceback": [
      "UndefVarError: bardataHell not defined",
      "",
      "Stacktrace:",
      " [1] top-level scope at In[49]:2"
     ]
    }
   ],
   "source": [
    "l = @layout [a{0.9w, 0.1h} b]\n",
    "p1 = groupedbar(bardataHell,colour = [:DeepSkyBlue4 :Red3 :orange], title = \"Produkt Hell\", \n",
    "                xlabel = \"Periode\", ylabel=\"Menge\", legend=:none, ylim=(0,40));\n",
    "\n",
    "p2 = groupedbar(bardataDunkel, label=[\"Produktionsmenge\" \"Absatzmenge\" \"Lagerbestand\"], \n",
    "                colour = [:DeepSkyBlue4 :Red3 :orange], title = \"Produkt Dunkel\", \n",
    "                xlabel = \"Periode\", ylabel=\"Menge\", legend=:topleft, ylim=(0,40));\n",
    "\n",
    "plot(p1, p2, layout = 2)"
   ]
  }
 ],
 "metadata": {
  "kernelspec": {
   "display_name": "Julia 1.4.1",
   "language": "julia",
   "name": "julia-1.4"
  },
  "language_info": {
   "file_extension": ".jl",
   "mimetype": "application/julia",
   "name": "julia",
   "version": "1.4.1"
  }
 },
 "nbformat": 4,
 "nbformat_minor": 2
}
