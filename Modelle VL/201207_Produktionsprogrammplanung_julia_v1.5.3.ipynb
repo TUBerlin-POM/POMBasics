{
 "cells": [
  {
   "cell_type": "markdown",
   "metadata": {
    "slideshow": {
     "slide_type": "slide"
    }
   },
   "source": [
    "## Einrichtung von Julia JuMP\n",
    "---"
   ]
  },
  {
   "cell_type": "markdown",
   "metadata": {
    "slideshow": {
     "slide_type": "fragment"
    }
   },
   "source": [
    "Überprüfen Sie die bereits installierten Pakete. In der JuliaBox sind möglicherweise alle notwendigen Pakete bereits vorhanden.\n"
   ]
  },
  {
   "cell_type": "code",
   "execution_count": 1,
   "metadata": {
    "scrolled": false,
    "slideshow": {
     "slide_type": "fragment"
    }
   },
   "outputs": [
    {
     "name": "stdout",
     "output_type": "stream",
     "text": [
      "\u001b[32m\u001b[1mStatus\u001b[22m\u001b[39m `C:\\Users\\krueg\\.julia\\environments\\JuliaPro_v1.5.3-1\\Project.toml`\n",
      " \u001b[90m [c52e3926] \u001b[39m\u001b[37mAtom v0.12.25 ⚲\u001b[39m\n",
      " \u001b[90m [9961bab8] \u001b[39m\u001b[37mCbc v0.7.1\u001b[39m\n",
      " \u001b[90m [e2554f3b] \u001b[39m\u001b[37mClp v0.8.3\u001b[39m\n",
      " \u001b[90m [a93c6f00] \u001b[39m\u001b[37mDataFrames v0.22.1\u001b[39m\n",
      " \u001b[90m [7073ff75] \u001b[39m\u001b[37mIJulia v1.22.0\u001b[39m\n",
      " \u001b[90m [4076af6c] \u001b[39m\u001b[37mJuMP v0.21.5\u001b[39m\n",
      " \u001b[90m [e5e0dc1b] \u001b[39m\u001b[37mJuno v0.8.4 ⚲\u001b[39m\n",
      " \u001b[90m [4722fa14] \u001b[39m\u001b[37mPkgAuthentication v0.3.0\u001b[39m\n",
      " \u001b[90m [f3b207a7] \u001b[39m\u001b[37mStatsPlots v0.14.17\u001b[39m\n",
      " \u001b[90m [44d3d7a6] \u001b[39m\u001b[37mWeave v0.10.6\u001b[39m\n"
     ]
    }
   ],
   "source": [
    "using Pkg;\n",
    "Pkg.status()"
   ]
  },
  {
   "cell_type": "markdown",
   "metadata": {
    "slideshow": {
     "slide_type": "slide"
    }
   },
   "source": [
    "Installieren Sie ``JuMP`` , mit dem Sie einfach Optimierungsprogramme formulieren können, sowie ``Clp``, einen open-source Solver zum Lösen des Problems, und ``StatsPlots`` zur Visualisierung der Lösung.\n"
   ]
  },
  {
   "cell_type": "code",
   "execution_count": 2,
   "metadata": {
    "slideshow": {
     "slide_type": "fragment"
    }
   },
   "outputs": [],
   "source": [
    "#Pkg.add(\"JuMP\")\n",
    "#Pkg.add(\"Clp\");\n",
    "#Pkg.add(\"StatsPlots\");"
   ]
  },
  {
   "cell_type": "markdown",
   "metadata": {
    "slideshow": {
     "slide_type": "slide"
    }
   },
   "source": [
    "Initialisieren Sie die installierten Pakete, damit sie im folgenden Notebook verwendet werden können."
   ]
  },
  {
   "cell_type": "code",
   "execution_count": 3,
   "metadata": {
    "slideshow": {
     "slide_type": "fragment"
    }
   },
   "outputs": [
    {
     "name": "stderr",
     "output_type": "stream",
     "text": [
      "┌ Info: Precompiling Clp [e2554f3b-3117-50c0-817c-e040a3ddf72d]\n",
      "└ @ Base loading.jl:1278\n"
     ]
    }
   ],
   "source": [
    "using JuMP, Clp, StatsPlots;"
   ]
  },
  {
   "cell_type": "markdown",
   "metadata": {
    "slideshow": {
     "slide_type": "slide"
    }
   },
   "source": [
    "# Produktionsprogrammplanung\n",
    "### Entscheidungsvariablen:\n",
    "Bestimmung der optimalen **Produktionsmengen** der einzelnen Produkte,\n",
    "\n",
    "### Zielfunktion:\n",
    "0) **Deckungsbeitragsmaximierung**: $ \\qquad \\max db = \\displaystyle\\sum_{i=1}^I(e_i - k_i^v)\\cdot X_i $\n",
    "\n"
   ]
  },
  {
   "cell_type": "markdown",
   "metadata": {
    "slideshow": {
     "slide_type": "slide"
    }
   },
   "source": [
    "### Nebenbedingungen:\n",
    "\n",
    "\n",
    "1) **Kapazitätsrestriktion:** $\\hspace{50mm} \\sum_{i=1}^I(r_{ij}\\cdot X_i) \\leq c_j \\hspace{29mm} \\forall j \\in J $\n",
    "\n",
    "2) **Absatzobergrenze:** $ \\hspace{54mm} X_i \\leq d_i \\hspace{49mm} \\forall i \\in I $\n",
    "\n",
    "3) **Nichtnegativitätsbedingung:** $ \\hspace{38mm} X_i \\geq 0 \\hspace{50mm}    \\forall i \\in I $\n",
    "\n",
    "\n",
    "* * * \n"
   ]
  },
  {
   "cell_type": "markdown",
   "metadata": {
    "slideshow": {
     "slide_type": "slide"
    }
   },
   "source": [
    "## Verwendete Symbole"
   ]
  },
  {
   "cell_type": "markdown",
   "metadata": {
    "slideshow": {
     "slide_type": "fragment"
    }
   },
   "source": [
    "### Mengen\n",
    "\n",
    "$i \\in (1,..,I) \\hspace{20mm}$ Produkte\n",
    "\n",
    "$j \\in (1,..,J) \\hspace{20mm}$ Ressourcen\n",
    "\n",
    "\n"
   ]
  },
  {
   "cell_type": "markdown",
   "metadata": {
    "slideshow": {
     "slide_type": "fragment"
    }
   },
   "source": [
    "### Variablen\n",
    "\n",
    "$X_i$     $\\geq0 \\hspace{30mm}$ Produktionsmenge\n",
    "\n",
    "\n",
    "\n"
   ]
  },
  {
   "cell_type": "markdown",
   "metadata": {
    "slideshow": {
     "slide_type": "fragment"
    }
   },
   "source": [
    "### Parameter \n",
    "\n",
    "$e_i \\hspace{39mm}$   Erlös von Produkt i  \n",
    "\n",
    "$k_i^v \\hspace{38mm}$  Variable Kosten bei Herstellung von Produkt i \n",
    "\n",
    "$d_i \\hspace{39mm}$  Absatzobergrenze von Produkt i   \n",
    "\n",
    "$r_{ij} \\hspace{38mm}$  Produktionskoeffizient von Produkt i bezüglich Ressource j  \n",
    "\n",
    "$c_j \\hspace{39mm}$  Kapazität von Ressource j\n",
    "\n",
    "\n",
    "* * *\n"
   ]
  },
  {
   "cell_type": "markdown",
   "metadata": {
    "slideshow": {
     "slide_type": "slide"
    }
   },
   "source": [
    "## Erstellen Sie das Modell namens ``m`` und geben Sie als zu verwendenden Solver Clp an.\n",
    "---"
   ]
  },
  {
   "cell_type": "code",
   "execution_count": 4,
   "metadata": {
    "slideshow": {
     "slide_type": "fragment"
    }
   },
   "outputs": [],
   "source": [
    "m = Model(Clp.Optimizer);\n",
    "\n",
    "# Auf diese Weise wird das Modell m erstellt\n",
    "# In Klammern wird angegeben, dass der Solver Clp zur Lösung des Modells herangezogen wird"
   ]
  },
  {
   "cell_type": "markdown",
   "metadata": {},
   "source": [
    "### Mengen und Parameter"
   ]
  },
  {
   "cell_type": "markdown",
   "metadata": {
    "slideshow": {
     "slide_type": "fragment"
    }
   },
   "source": [
    "Fügen Sie die Mengen ein."
   ]
  },
  {
   "cell_type": "code",
   "execution_count": 5,
   "metadata": {
    "slideshow": {
     "slide_type": "fragment"
    }
   },
   "outputs": [],
   "source": [
    "#Mengen\n",
    "Produkte =   [\"Normal\", \"Grande\"];\n",
    "Ressourcen = [\"Holz\", \"Schrauben\", \"Scharniere\"];\n",
    "\n",
    "# Mengen werden auf diese Weise erstellt. \n",
    "# Sind die Mengenelemente Worte, werden diese in Anführungszeichen gesetzt\n",
    "\n",
    "#Längen\n",
    "I = length(Produkte);\n",
    "J = length(Ressourcen);\n",
    "\n",
    "# Mit der Funktion length bestimmen wir die Anzahl der Elemente in den jeweiligen Mengen\n",
    "# Diese Information benötigen wir später zur Erstellung von Variablen, Nebenbedingungen etc."
   ]
  },
  {
   "cell_type": "markdown",
   "metadata": {
    "slideshow": {
     "slide_type": "slide"
    }
   },
   "source": [
    "Fügen Sie die Parameter ein."
   ]
  },
  {
   "cell_type": "code",
   "execution_count": 6,
   "metadata": {
    "slideshow": {
     "slide_type": "fragment"
    }
   },
   "outputs": [],
   "source": [
    "e  = [30, 40];          # Erlös von Produkt i\n",
    "kv = [20, 25];          # variable Herstellkosten von Produkt i\n",
    "d  = [100, 100];        # Nachfrage nach Produkt i\n",
    "c =  [2400, 4000, 900]; # Kapazität von Ressource j\n",
    "\n",
    "# Eindimensionale Parameter werden wie oben dargestellt eingegeben\n",
    "\n",
    "      #Holz, Schrauben, Scharniere\n",
    "r  = [  6       20         4        #Normal\n",
    "        20      20         9     ]; #Grande\n",
    "#Produktionskoeffizient von Produkt i bezüglich Ressource j\n",
    "\n",
    "# Zweidimensionle Parameter können als Matrix Dargestellt werden."
   ]
  },
  {
   "cell_type": "markdown",
   "metadata": {
    "slideshow": {
     "slide_type": "slide"
    }
   },
   "source": [
    "### Entscheidungsvariable\n",
    "---\n",
    "Definieren Sie die Entscheidungsvariable. Achten Sie auf den Definitionsbereich (Nebenbedingung 3)."
   ]
  },
  {
   "cell_type": "markdown",
   "metadata": {
    "slideshow": {
     "slide_type": "fragment"
    }
   },
   "source": [
    "3) **Nichtnegativitätsbedingung**: Da keine negativen Mengen der Produkte produziert werden können, wird zusätzlich eine Nichtnegativitätsbedingung eingeführt.\n",
    "\n",
    " $ \\qquad X_i \\geq 0 \\qquad \\qquad \\qquad    \\forall i \\in I $"
   ]
  },
  {
   "cell_type": "code",
   "execution_count": 7,
   "metadata": {
    "slideshow": {
     "slide_type": "fragment"
    }
   },
   "outputs": [],
   "source": [
    "@variable(m, X[1:I] >= 0);\n",
    "\n",
    "# mit der Funktion @variable wird eine neue Variable erstellt\n",
    "# (m, gibt an, dass diese Variable dem oben erstellten Modell m zugeordnet ist\n",
    "# Die Variable wird mit X bezeichnet\n",
    "# und hat einen Index (i) der von 1 bis I (also 2) läuft\n",
    "# innerhalb des Definitionsbereiches kann mit >=0 direkt die Nichtnegativitätsbedingung eingegeben werden\n",
    "# [Binärvariablen könnten Alternativ mit der Information \",Bin\" angegeben werden]"
   ]
  },
  {
   "cell_type": "markdown",
   "metadata": {
    "slideshow": {
     "slide_type": "slide"
    }
   },
   "source": [
    "## Zielfunktion\n",
    "\n",
    "0) **Deckungsbeitragsmaximierung**: Der Gesamtdeckungsbeitrag db soll maximiert werden. Dieser berechnet sich aus der Summe der einzelnen Produktdeckungsbeiträge (Produkterlös abzüglich variabler Kosten), multipliziert mit den entsprechenden Produktionsmengen der verschiedenen Güter.\n",
    "\n",
    "$ \\qquad \\max db = \\displaystyle\\sum_{i=1}^I(e_i - k_i^v)\\cdot X_i $ \n",
    "\n",
    " * * *\n",
    " "
   ]
  },
  {
   "cell_type": "code",
   "execution_count": 8,
   "metadata": {
    "slideshow": {
     "slide_type": "fragment"
    }
   },
   "outputs": [],
   "source": [
    "@objective(m, Max,  sum((e[i] - kv[i]) * X[i] for i=1:I));\n",
    "\n",
    "# Die Funktion @objective(m, erstellt eine Zielfunktion für das Modell m\n",
    "# mit sum( wird eine Summe abgebildet\n",
    "# der Bereich über den summiert wird steht hinter dem for\n",
    "# hier wird über alle i (also alle Produkte) von 1 bis I summiert"
   ]
  },
  {
   "cell_type": "markdown",
   "metadata": {
    "slideshow": {
     "slide_type": "slide"
    }
   },
   "source": [
    "## Nebenbedingungen\n"
   ]
  },
  {
   "cell_type": "markdown",
   "metadata": {
    "slideshow": {
     "slide_type": "fragment"
    }
   },
   "source": [
    "1) **Kapazitätsrestriktion**: Eventuell gibt es für die Ressoucen Kapazitätsbeschränkungen für die auf ihnen mögliche Produktionszeit. Die Summe der Gesamtproduktionszeit aller Produkte i= 1,...,I auf den einzelnen Ressourcen j darf dann die jeweils verfügbare Kapazität $ c_j $  nicht überschreiten.\n",
    "\n",
    "$\\qquad \\sum_{i=1}^I(r_{ij}\\cdot X_i) \\leq c_j \\qquad \\forall j \\in J $\n",
    "\n"
   ]
  },
  {
   "cell_type": "code",
   "execution_count": 9,
   "metadata": {
    "slideshow": {
     "slide_type": "fragment"
    }
   },
   "outputs": [],
   "source": [
    "@constraint(m, KapRes[j=1:J], sum(r[i,j] * X[i] for i=1:I) <= c[j] );\n",
    "\n",
    "# Nebenbedingungen werden mit der Funktion @constraint eingegeben\n",
    "# Nebenbedingungen erhalten einen Namen, in diesem Fall KapRes\n",
    "# In eckigen Klammern nach dem Namen wird angegeben für welche Indizes diese Nebenbedingung erstellt werden soll\n",
    "# Hier wird je eine Nebenbedingung für alle j (also Ressourcen) von 1 bis J (also 1-3) erstellt\n",
    "\n",
    "# Enthält eine Nebenbedingung ein Gleichzeichen (=) muss dies in Julia doppelt (==) eingegeben werden"
   ]
  },
  {
   "cell_type": "markdown",
   "metadata": {
    "slideshow": {
     "slide_type": "fragment"
    }
   },
   "source": [
    "2) **Absatzobergrenze**: Es besteht die Möglichkeit, dass für die Produkte Absatzobergrenzen basierend auf der Nachfrage existieren. Die produzierte Menge der einzelnen Produkte i darf dann diese Absatzobergrenze nicht überschreiten.\n",
    "\n",
    " $ \\qquad X_i \\leq d_i \\qquad \\qquad \\qquad \\forall i \\in I $\n"
   ]
  },
  {
   "cell_type": "code",
   "execution_count": 10,
   "metadata": {
    "slideshow": {
     "slide_type": "fragment"
    }
   },
   "outputs": [],
   "source": [
    "@constraint(m, AbsOb[i=1:I], X[i] <= d[i]);"
   ]
  },
  {
   "cell_type": "markdown",
   "metadata": {
    "slideshow": {
     "slide_type": "slide"
    }
   },
   "source": [
    "## Lösen Sie das Modell.\n",
    "---"
   ]
  },
  {
   "cell_type": "code",
   "execution_count": 11,
   "metadata": {
    "slideshow": {
     "slide_type": "fragment"
    }
   },
   "outputs": [
    {
     "name": "stdout",
     "output_type": "stream",
     "text": [
      "Coin0506I Presolve 2 (-3) rows, 2 (0) columns and 4 (-4) elements\n",
      "Clp0006I 0  Obj -0 Dual inf 37.499998 (2)\n",
      "Clp0006I 1  Obj 1833.3333\n",
      "Clp0000I Optimal - objective value 1833.3333\n",
      "Coin0511I After Postsolve, objective 1833.3333, infeasibilities - dual 0 (0), primal 0 (0)\n",
      "Clp0032I Optimal objective 1833.333333 - 1 iterations time 0.002, Presolve 0.00\n"
     ]
    }
   ],
   "source": [
    "optimize!(m)\n",
    "\n",
    "# mit dem Befehl optimize! wird das soeben erstellte Modell gelöst"
   ]
  },
  {
   "cell_type": "markdown",
   "metadata": {},
   "source": [
    "Lassen Sie sich das Gesamtmodell anzeigen."
   ]
  },
  {
   "cell_type": "code",
   "execution_count": 12,
   "metadata": {},
   "outputs": [
    {
     "data": {
      "text/latex": [
       "$$ \\begin{alignat*}{1}\\max\\quad & 10 X_{1} + 15 X_{2}\\\\\n",
       "\\text{Subject to} \\quad & 6 X_{1} + 20 X_{2} \\leq 2400.0\\\\\n",
       " & 20 X_{1} + 20 X_{2} \\leq 4000.0\\\\\n",
       " & 4 X_{1} + 9 X_{2} \\leq 900.0\\\\\n",
       " & X_{1} \\leq 100.0\\\\\n",
       " & X_{2} \\leq 100.0\\\\\n",
       " & X_{1} \\geq 0.0\\\\\n",
       " & X_{2} \\geq 0.0\\\\\n",
       "\\end{alignat*}\n",
       " $$"
      ],
      "text/plain": [
       "A JuMP Model\n",
       "Maximization problem with:\n",
       "Variables: 2\n",
       "Objective function type: GenericAffExpr{Float64,VariableRef}\n",
       "`GenericAffExpr{Float64,VariableRef}`-in-`MathOptInterface.LessThan{Float64}`: 5 constraints\n",
       "`VariableRef`-in-`MathOptInterface.GreaterThan{Float64}`: 2 constraints\n",
       "Model mode: AUTOMATIC\n",
       "CachingOptimizer state: ATTACHED_OPTIMIZER\n",
       "Solver name: Clp\n",
       "Names registered in the model: AbsOb, KapRes, X"
      ]
     },
     "execution_count": 12,
     "metadata": {},
     "output_type": "execute_result"
    }
   ],
   "source": [
    "m\n",
    "\n",
    "# führen Sie ausschließlich m aus wird, können Sie sich das mathematische Modell komplett anzeigen lassen"
   ]
  },
  {
   "cell_type": "markdown",
   "metadata": {
    "slideshow": {
     "slide_type": "fragment"
    }
   },
   "source": [
    "Lassen Sie sich den Zielfunktionswert anzeigen.\n"
   ]
  },
  {
   "cell_type": "code",
   "execution_count": 13,
   "metadata": {
    "slideshow": {
     "slide_type": "fragment"
    }
   },
   "outputs": [
    {
     "name": "stdout",
     "output_type": "stream",
     "text": [
      "Objective value db: 1833\n"
     ]
    }
   ],
   "source": [
    "db = JuMP.objective_value(m)\n",
    "\n",
    "# mit dem Befehl JuMP.objective_value(m) lassen Sie sich den Zielfunktionswert des gelösten Modells ausgeben\n",
    "# hier wird der Zielfunktionswert zunächst dem Parameter db zugewiesen\n",
    "\n",
    "println(\"Objective value db: \", round(Int64,db))\n",
    "\n",
    "# anschließend wird der ZF-Wert ausgegeben\n",
    "# dies erfolgt mit dem Befehl println\n",
    "# \"Objective value db: \" ist der Text der vor dem ZF-Wert angezeigt werden soll\n",
    "\n",
    "# Mit dem Befehl round(Int64, können wir Werte auf ganze Zahlen runden\n",
    "# Beachten Sie, dass im Planspiel immer nur ganzzahlige Werte als Antwort erforderlich sind\n",
    "# Nutzen Sie also round(Int64, um sich Werte ausgeben zu lassen\n"
   ]
  },
  {
   "cell_type": "markdown",
   "metadata": {
    "slideshow": {
     "slide_type": "slide"
    }
   },
   "source": [
    "Lassen Sie sich die Produktionsmengen der einzelnen Schränke anzeigen."
   ]
  },
  {
   "cell_type": "code",
   "execution_count": 14,
   "metadata": {},
   "outputs": [
    {
     "data": {
      "text/plain": [
       "2-element Array{Float64,1}:\n",
       " 100.0\n",
       "  55.55555555555556"
      ]
     },
     "execution_count": 14,
     "metadata": {},
     "output_type": "execute_result"
    }
   ],
   "source": [
    "JuMP.value.(X)\n",
    "\n",
    "# Werte von Variablen lassen sich durch JuMP.value.( ) ausgeben (Beachten Sie den zweiten Punkt)"
   ]
  },
  {
   "cell_type": "markdown",
   "metadata": {},
   "source": [
    "Stellen Sie den Ressourcenverbrauch im Vergleich zur verfügbaren Kapazität graphisch dar."
   ]
  },
  {
   "cell_type": "code",
   "execution_count": 15,
   "metadata": {
    "scrolled": false
   },
   "outputs": [
    {
     "data": {
      "text/plain": [
       "3×2 LinearAlgebra.Adjoint{Float64,Array{Float64,2}}:\n",
       "  600.0  1111.11\n",
       " 2000.0  1111.11\n",
       "  400.0   500.0"
      ]
     },
     "execution_count": 15,
     "metadata": {},
     "output_type": "execute_result"
    }
   ],
   "source": [
    "bardata = (JuMP.value.(X) .* r)'\n",
    "\n",
    "# Mehrdimensionale Werte werden tabellarisch dargestellt\n",
    "# der Punkt vor dem * führt dazu, dass die beiden Vektoren X und r korrekt miteinander multipliziert werden\n",
    "# das Anführungszeichen am Ende vertauscht x- und y-Achse der entstehenden Tabelle"
   ]
  },
  {
   "cell_type": "code",
   "execution_count": 18,
   "metadata": {
    "scrolled": false
   },
   "outputs": [
    {
     "data": {
      "image/svg+xml": [
       "<?xml version=\"1.0\" encoding=\"utf-8\"?>\n",
       "<svg xmlns=\"http://www.w3.org/2000/svg\" xmlns:xlink=\"http://www.w3.org/1999/xlink\" width=\"600\" height=\"400\" viewBox=\"0 0 2400 1600\">\n",
       "<defs>\n",
       "  <clipPath id=\"clip970\">\n",
       "    <rect x=\"0\" y=\"0\" width=\"2400\" height=\"1600\"/>\n",
       "  </clipPath>\n",
       "</defs>\n",
       "<path clip-path=\"url(#clip970)\" d=\"\n",
       "M0 1600 L2400 1600 L2400 0 L0 0  Z\n",
       "  \" fill=\"#ffffff\" fill-rule=\"evenodd\" fill-opacity=\"1\"/>\n",
       "<defs>\n",
       "  <clipPath id=\"clip971\">\n",
       "    <rect x=\"480\" y=\"0\" width=\"1681\" height=\"1600\"/>\n",
       "  </clipPath>\n",
       "</defs>\n",
       "<path clip-path=\"url(#clip970)\" d=\"\n",
       "M256.486 1423.18 L2352.76 1423.18 L2352.76 47.2441 L256.486 47.2441  Z\n",
       "  \" fill=\"#ffffff\" fill-rule=\"evenodd\" fill-opacity=\"1\"/>\n",
       "<defs>\n",
       "  <clipPath id=\"clip972\">\n",
       "    <rect x=\"256\" y=\"47\" width=\"2097\" height=\"1377\"/>\n",
       "  </clipPath>\n",
       "</defs>\n",
       "<polyline clip-path=\"url(#clip972)\" style=\"stroke:#000000; stroke-width:2; stroke-opacity:0.1; fill:none\" points=\"\n",
       "  638.31,1423.18 638.31,47.2441 \n",
       "  \"/>\n",
       "<polyline clip-path=\"url(#clip972)\" style=\"stroke:#000000; stroke-width:2; stroke-opacity:0.1; fill:none\" points=\"\n",
       "  1304.62,1423.18 1304.62,47.2441 \n",
       "  \"/>\n",
       "<polyline clip-path=\"url(#clip972)\" style=\"stroke:#000000; stroke-width:2; stroke-opacity:0.1; fill:none\" points=\"\n",
       "  1970.93,1423.18 1970.93,47.2441 \n",
       "  \"/>\n",
       "<polyline clip-path=\"url(#clip970)\" style=\"stroke:#000000; stroke-width:4; stroke-opacity:1; fill:none\" points=\"\n",
       "  256.486,1423.18 2352.76,1423.18 \n",
       "  \"/>\n",
       "<polyline clip-path=\"url(#clip970)\" style=\"stroke:#000000; stroke-width:4; stroke-opacity:1; fill:none\" points=\"\n",
       "  638.31,1423.18 638.31,1406.67 \n",
       "  \"/>\n",
       "<polyline clip-path=\"url(#clip970)\" style=\"stroke:#000000; stroke-width:4; stroke-opacity:1; fill:none\" points=\"\n",
       "  1304.62,1423.18 1304.62,1406.67 \n",
       "  \"/>\n",
       "<polyline clip-path=\"url(#clip970)\" style=\"stroke:#000000; stroke-width:4; stroke-opacity:1; fill:none\" points=\"\n",
       "  1970.93,1423.18 1970.93,1406.67 \n",
       "  \"/>\n",
       "<path clip-path=\"url(#clip970)\" d=\"M 0 0 M596.145 1449.29 L600.821 1449.29 L600.821 1463.46 L617.812 1463.46 L617.812 1449.29 L622.488 1449.29 L622.488 1483.85 L617.812 1483.85 L617.812 1467.39 L600.821 1467.39 L600.821 1483.85 L596.145 1483.85 L596.145 1449.29 Z\" fill=\"#000000\" fill-rule=\"evenodd\" fill-opacity=\"1\" /><path clip-path=\"url(#clip970)\" d=\"M 0 0 M637.002 1460.91 Q633.576 1460.91 631.585 1463.6 Q629.594 1466.26 629.594 1470.91 Q629.594 1475.56 631.562 1478.25 Q633.553 1480.91 637.002 1480.91 Q640.405 1480.91 642.395 1478.23 Q644.386 1475.54 644.386 1470.91 Q644.386 1466.31 642.395 1463.62 Q640.405 1460.91 637.002 1460.91 M637.002 1457.3 Q642.557 1457.3 645.729 1460.91 Q648.9 1464.52 648.9 1470.91 Q648.9 1477.28 645.729 1480.91 Q642.557 1484.52 637.002 1484.52 Q631.423 1484.52 628.252 1480.91 Q625.104 1477.28 625.104 1470.91 Q625.104 1464.52 628.252 1460.91 Q631.423 1457.3 637.002 1457.3 Z\" fill=\"#000000\" fill-rule=\"evenodd\" fill-opacity=\"1\" /><path clip-path=\"url(#clip970)\" d=\"M 0 0 M653.367 1447.83 L657.627 1447.83 L657.627 1483.85 L653.367 1483.85 L653.367 1447.83 Z\" fill=\"#000000\" fill-rule=\"evenodd\" fill-opacity=\"1\" /><path clip-path=\"url(#clip970)\" d=\"M 0 0 M660.242 1457.93 L680.474 1457.93 L680.474 1461.81 L664.455 1480.45 L680.474 1480.45 L680.474 1483.85 L659.664 1483.85 L659.664 1479.96 L675.682 1461.33 L660.242 1461.33 L660.242 1457.93 Z\" fill=\"#000000\" fill-rule=\"evenodd\" fill-opacity=\"1\" /><path clip-path=\"url(#clip970)\" d=\"M 0 0 M1215.06 1450.43 L1215.06 1454.99 Q1212.4 1453.71 1210.04 1453.09 Q1207.68 1452.46 1205.48 1452.46 Q1201.66 1452.46 1199.58 1453.94 Q1197.52 1455.43 1197.52 1458.16 Q1197.52 1460.45 1198.88 1461.63 Q1200.27 1462.79 1204.11 1463.5 L1206.94 1464.08 Q1212.17 1465.08 1214.64 1467.6 Q1217.14 1470.1 1217.14 1474.31 Q1217.14 1479.34 1213.77 1481.93 Q1210.41 1484.52 1203.9 1484.52 Q1201.45 1484.52 1198.67 1483.97 Q1195.92 1483.41 1192.96 1482.32 L1192.96 1477.51 Q1195.8 1479.11 1198.53 1479.92 Q1201.27 1480.73 1203.9 1480.73 Q1207.91 1480.73 1210.08 1479.15 Q1212.26 1477.58 1212.26 1474.66 Q1212.26 1472.12 1210.69 1470.68 Q1209.14 1469.25 1205.57 1468.53 L1202.72 1467.97 Q1197.49 1466.93 1195.15 1464.71 Q1192.82 1462.49 1192.82 1458.53 Q1192.82 1453.94 1196.03 1451.31 Q1199.27 1448.67 1204.95 1448.67 Q1207.38 1448.67 1209.9 1449.11 Q1212.42 1449.55 1215.06 1450.43 Z\" fill=\"#000000\" fill-rule=\"evenodd\" fill-opacity=\"1\" /><path clip-path=\"url(#clip970)\" d=\"M 0 0 M1240.27 1458.92 L1240.27 1462.9 Q1238.46 1461.91 1236.64 1461.42 Q1234.83 1460.91 1232.98 1460.91 Q1228.83 1460.91 1226.54 1463.55 Q1224.25 1466.17 1224.25 1470.91 Q1224.25 1475.66 1226.54 1478.3 Q1228.83 1480.91 1232.98 1480.91 Q1234.83 1480.91 1236.64 1480.43 Q1238.46 1479.92 1240.27 1478.92 L1240.27 1482.86 Q1238.49 1483.69 1236.57 1484.11 Q1234.67 1484.52 1232.52 1484.52 Q1226.66 1484.52 1223.21 1480.84 Q1219.76 1477.16 1219.76 1470.91 Q1219.76 1464.57 1223.23 1460.94 Q1226.73 1457.3 1232.79 1457.3 Q1234.76 1457.3 1236.64 1457.72 Q1238.51 1458.11 1240.27 1458.92 Z\" fill=\"#000000\" fill-rule=\"evenodd\" fill-opacity=\"1\" /><path clip-path=\"url(#clip970)\" d=\"M 0 0 M1266.29 1468.2 L1266.29 1483.85 L1262.03 1483.85 L1262.03 1468.34 Q1262.03 1464.66 1260.59 1462.83 Q1259.16 1461 1256.29 1461 Q1252.84 1461 1250.85 1463.2 Q1248.86 1465.4 1248.86 1469.2 L1248.86 1483.85 L1244.58 1483.85 L1244.58 1447.83 L1248.86 1447.83 L1248.86 1461.95 Q1250.39 1459.62 1252.45 1458.46 Q1254.53 1457.3 1257.24 1457.3 Q1261.7 1457.3 1264 1460.08 Q1266.29 1462.83 1266.29 1468.2 Z\" fill=\"#000000\" fill-rule=\"evenodd\" fill-opacity=\"1\" /><path clip-path=\"url(#clip970)\" d=\"M 0 0 M1285.78 1461.91 Q1285.06 1461.49 1284.2 1461.31 Q1283.37 1461.1 1282.35 1461.1 Q1278.74 1461.1 1276.8 1463.46 Q1274.88 1465.8 1274.88 1470.19 L1274.88 1483.85 L1270.59 1483.85 L1270.59 1457.93 L1274.88 1457.93 L1274.88 1461.95 Q1276.22 1459.59 1278.37 1458.46 Q1280.52 1457.3 1283.6 1457.3 Q1284.04 1457.3 1284.57 1457.37 Q1285.11 1457.42 1285.76 1457.53 L1285.78 1461.91 Z\" fill=\"#000000\" fill-rule=\"evenodd\" fill-opacity=\"1\" /><path clip-path=\"url(#clip970)\" d=\"M 0 0 M1302.03 1470.82 Q1296.87 1470.82 1294.88 1472 Q1292.89 1473.18 1292.89 1476.03 Q1292.89 1478.3 1294.37 1479.64 Q1295.87 1480.96 1298.44 1480.96 Q1301.98 1480.96 1304.11 1478.46 Q1306.26 1475.94 1306.26 1471.77 L1306.26 1470.82 L1302.03 1470.82 M1310.52 1469.06 L1310.52 1483.85 L1306.26 1483.85 L1306.26 1479.92 Q1304.81 1482.28 1302.63 1483.41 Q1300.45 1484.52 1297.31 1484.52 Q1293.32 1484.52 1290.96 1482.3 Q1288.63 1480.06 1288.63 1476.31 Q1288.63 1471.93 1291.54 1469.71 Q1294.48 1467.49 1300.29 1467.49 L1306.26 1467.49 L1306.26 1467.07 Q1306.26 1464.13 1304.32 1462.53 Q1302.4 1460.91 1298.9 1460.91 Q1296.68 1460.91 1294.57 1461.44 Q1292.47 1461.98 1290.52 1463.04 L1290.52 1459.11 Q1292.86 1458.2 1295.06 1457.76 Q1297.26 1457.3 1299.34 1457.3 Q1304.97 1457.3 1307.75 1460.22 Q1310.52 1463.13 1310.52 1469.06 Z\" fill=\"#000000\" fill-rule=\"evenodd\" fill-opacity=\"1\" /><path clip-path=\"url(#clip970)\" d=\"M 0 0 M1314.55 1473.62 L1314.55 1457.93 L1318.81 1457.93 L1318.81 1473.46 Q1318.81 1477.14 1320.25 1478.99 Q1321.68 1480.82 1324.55 1480.82 Q1328 1480.82 1329.99 1478.62 Q1332.01 1476.42 1332.01 1472.63 L1332.01 1457.93 L1336.26 1457.93 L1336.26 1483.85 L1332.01 1483.85 L1332.01 1479.87 Q1330.45 1482.23 1328.39 1483.39 Q1326.36 1484.52 1323.65 1484.52 Q1319.18 1484.52 1316.87 1481.75 Q1314.55 1478.97 1314.55 1473.62 M1325.27 1457.3 L1325.27 1457.3 Z\" fill=\"#000000\" fill-rule=\"evenodd\" fill-opacity=\"1\" /><path clip-path=\"url(#clip970)\" d=\"M 0 0 M1359.34 1470.91 Q1359.34 1466.21 1357.4 1463.55 Q1355.48 1460.87 1352.1 1460.87 Q1348.72 1460.87 1346.77 1463.55 Q1344.85 1466.21 1344.85 1470.91 Q1344.85 1475.61 1346.77 1478.3 Q1348.72 1480.96 1352.1 1480.96 Q1355.48 1480.96 1357.4 1478.3 Q1359.34 1475.61 1359.34 1470.91 M1344.85 1461.86 Q1346.2 1459.55 1348.23 1458.44 Q1350.29 1457.3 1353.14 1457.3 Q1357.86 1457.3 1360.8 1461.05 Q1363.76 1464.8 1363.76 1470.91 Q1363.76 1477.02 1360.8 1480.77 Q1357.86 1484.52 1353.14 1484.52 Q1350.29 1484.52 1348.23 1483.41 Q1346.2 1482.28 1344.85 1479.96 L1344.85 1483.85 L1340.57 1483.85 L1340.57 1447.83 L1344.85 1447.83 L1344.85 1461.86 Z\" fill=\"#000000\" fill-rule=\"evenodd\" fill-opacity=\"1\" /><path clip-path=\"url(#clip970)\" d=\"M 0 0 M1390.41 1469.82 L1390.41 1471.91 L1370.82 1471.91 Q1371.1 1476.31 1373.46 1478.62 Q1375.85 1480.91 1380.08 1480.91 Q1382.54 1480.91 1384.83 1480.31 Q1387.14 1479.71 1389.41 1478.5 L1389.41 1482.53 Q1387.12 1483.5 1384.71 1484.01 Q1382.31 1484.52 1379.83 1484.52 Q1373.63 1484.52 1369.99 1480.91 Q1366.38 1477.3 1366.38 1471.14 Q1366.38 1464.78 1369.81 1461.05 Q1373.26 1457.3 1379.09 1457.3 Q1384.32 1457.3 1387.35 1460.68 Q1390.41 1464.04 1390.41 1469.82 M1386.15 1468.57 Q1386.1 1465.08 1384.18 1463 Q1382.28 1460.91 1379.13 1460.91 Q1375.57 1460.91 1373.42 1462.93 Q1371.29 1464.94 1370.96 1468.6 L1386.15 1468.57 Z\" fill=\"#000000\" fill-rule=\"evenodd\" fill-opacity=\"1\" /><path clip-path=\"url(#clip970)\" d=\"M 0 0 M1416.43 1468.2 L1416.43 1483.85 L1412.17 1483.85 L1412.17 1468.34 Q1412.17 1464.66 1410.73 1462.83 Q1409.3 1461 1406.43 1461 Q1402.98 1461 1400.99 1463.2 Q1399 1465.4 1399 1469.2 L1399 1483.85 L1394.71 1483.85 L1394.71 1457.93 L1399 1457.93 L1399 1461.95 Q1400.52 1459.62 1402.58 1458.46 Q1404.67 1457.3 1407.38 1457.3 Q1411.84 1457.3 1414.13 1460.08 Q1416.43 1462.83 1416.43 1468.2 Z\" fill=\"#000000\" fill-rule=\"evenodd\" fill-opacity=\"1\" /><path clip-path=\"url(#clip970)\" d=\"M 0 0 M1881.5 1450.43 L1881.5 1454.99 Q1878.84 1453.71 1876.48 1453.09 Q1874.12 1452.46 1871.92 1452.46 Q1868.1 1452.46 1866.01 1453.94 Q1863.95 1455.43 1863.95 1458.16 Q1863.95 1460.45 1865.32 1461.63 Q1866.71 1462.79 1870.55 1463.5 L1873.38 1464.08 Q1878.61 1465.08 1881.08 1467.6 Q1883.58 1470.1 1883.58 1474.31 Q1883.58 1479.34 1880.2 1481.93 Q1876.85 1484.52 1870.34 1484.52 Q1867.89 1484.52 1865.11 1483.97 Q1862.36 1483.41 1859.39 1482.32 L1859.39 1477.51 Q1862.24 1479.11 1864.97 1479.92 Q1867.7 1480.73 1870.34 1480.73 Q1874.35 1480.73 1876.52 1479.15 Q1878.7 1477.58 1878.7 1474.66 Q1878.7 1472.12 1877.13 1470.68 Q1875.57 1469.25 1872.01 1468.53 L1869.16 1467.97 Q1863.93 1466.93 1861.59 1464.71 Q1859.26 1462.49 1859.26 1458.53 Q1859.26 1453.94 1862.47 1451.31 Q1865.71 1448.67 1871.38 1448.67 Q1873.82 1448.67 1876.34 1449.11 Q1878.86 1449.55 1881.5 1450.43 Z\" fill=\"#000000\" fill-rule=\"evenodd\" fill-opacity=\"1\" /><path clip-path=\"url(#clip970)\" d=\"M 0 0 M1906.71 1458.92 L1906.71 1462.9 Q1904.9 1461.91 1903.07 1461.42 Q1901.27 1460.91 1899.42 1460.91 Q1895.27 1460.91 1892.98 1463.55 Q1890.69 1466.17 1890.69 1470.91 Q1890.69 1475.66 1892.98 1478.3 Q1895.27 1480.91 1899.42 1480.91 Q1901.27 1480.91 1903.07 1480.43 Q1904.9 1479.92 1906.71 1478.92 L1906.71 1482.86 Q1904.93 1483.69 1903 1484.11 Q1901.11 1484.52 1898.95 1484.52 Q1893.1 1484.52 1889.65 1480.84 Q1886.2 1477.16 1886.2 1470.91 Q1886.2 1464.57 1889.67 1460.94 Q1893.17 1457.3 1899.23 1457.3 Q1901.2 1457.3 1903.07 1457.72 Q1904.95 1458.11 1906.71 1458.92 Z\" fill=\"#000000\" fill-rule=\"evenodd\" fill-opacity=\"1\" /><path clip-path=\"url(#clip970)\" d=\"M 0 0 M1932.73 1468.2 L1932.73 1483.85 L1928.47 1483.85 L1928.47 1468.34 Q1928.47 1464.66 1927.03 1462.83 Q1925.6 1461 1922.73 1461 Q1919.28 1461 1917.29 1463.2 Q1915.3 1465.4 1915.3 1469.2 L1915.3 1483.85 L1911.01 1483.85 L1911.01 1447.83 L1915.3 1447.83 L1915.3 1461.95 Q1916.82 1459.62 1918.88 1458.46 Q1920.97 1457.3 1923.68 1457.3 Q1928.14 1457.3 1930.44 1460.08 Q1932.73 1462.83 1932.73 1468.2 Z\" fill=\"#000000\" fill-rule=\"evenodd\" fill-opacity=\"1\" /><path clip-path=\"url(#clip970)\" d=\"M 0 0 M1948.98 1470.82 Q1943.81 1470.82 1941.82 1472 Q1939.83 1473.18 1939.83 1476.03 Q1939.83 1478.3 1941.31 1479.64 Q1942.82 1480.96 1945.39 1480.96 Q1948.93 1480.96 1951.06 1478.46 Q1953.21 1475.94 1953.21 1471.77 L1953.21 1470.82 L1948.98 1470.82 M1957.47 1469.06 L1957.47 1483.85 L1953.21 1483.85 L1953.21 1479.92 Q1951.75 1482.28 1949.58 1483.41 Q1947.4 1484.52 1944.25 1484.52 Q1940.27 1484.52 1937.91 1482.3 Q1935.57 1480.06 1935.57 1476.31 Q1935.57 1471.93 1938.49 1469.71 Q1941.43 1467.49 1947.24 1467.49 L1953.21 1467.49 L1953.21 1467.07 Q1953.21 1464.13 1951.27 1462.53 Q1949.35 1460.91 1945.85 1460.91 Q1943.63 1460.91 1941.52 1461.44 Q1939.42 1461.98 1937.47 1463.04 L1937.47 1459.11 Q1939.81 1458.2 1942.01 1457.76 Q1944.21 1457.3 1946.29 1457.3 Q1951.92 1457.3 1954.69 1460.22 Q1957.47 1463.13 1957.47 1469.06 Z\" fill=\"#000000\" fill-rule=\"evenodd\" fill-opacity=\"1\" /><path clip-path=\"url(#clip970)\" d=\"M 0 0 M1976.96 1461.91 Q1976.25 1461.49 1975.39 1461.31 Q1974.56 1461.1 1973.54 1461.1 Q1969.93 1461.1 1967.98 1463.46 Q1966.06 1465.8 1966.06 1470.19 L1966.06 1483.85 L1961.78 1483.85 L1961.78 1457.93 L1966.06 1457.93 L1966.06 1461.95 Q1967.4 1459.59 1969.56 1458.46 Q1971.71 1457.3 1974.79 1457.3 Q1975.23 1457.3 1975.76 1457.37 Q1976.29 1457.42 1976.94 1457.53 L1976.96 1461.91 Z\" fill=\"#000000\" fill-rule=\"evenodd\" fill-opacity=\"1\" /><path clip-path=\"url(#clip970)\" d=\"M 0 0 M2002.15 1468.2 L2002.15 1483.85 L1997.89 1483.85 L1997.89 1468.34 Q1997.89 1464.66 1996.45 1462.83 Q1995.02 1461 1992.15 1461 Q1988.7 1461 1986.71 1463.2 Q1984.72 1465.4 1984.72 1469.2 L1984.72 1483.85 L1980.43 1483.85 L1980.43 1457.93 L1984.72 1457.93 L1984.72 1461.95 Q1986.25 1459.62 1988.31 1458.46 Q1990.39 1457.3 1993.1 1457.3 Q1997.56 1457.3 1999.86 1460.08 Q2002.15 1462.83 2002.15 1468.2 Z\" fill=\"#000000\" fill-rule=\"evenodd\" fill-opacity=\"1\" /><path clip-path=\"url(#clip970)\" d=\"M 0 0 M2006.62 1457.93 L2010.87 1457.93 L2010.87 1483.85 L2006.62 1483.85 L2006.62 1457.93 M2006.62 1447.83 L2010.87 1447.83 L2010.87 1453.23 L2006.62 1453.23 L2006.62 1447.83 Z\" fill=\"#000000\" fill-rule=\"evenodd\" fill-opacity=\"1\" /><path clip-path=\"url(#clip970)\" d=\"M 0 0 M2037.52 1469.82 L2037.52 1471.91 L2017.93 1471.91 Q2018.21 1476.31 2020.57 1478.62 Q2022.96 1480.91 2027.19 1480.91 Q2029.65 1480.91 2031.94 1480.31 Q2034.25 1479.71 2036.52 1478.5 L2036.52 1482.53 Q2034.23 1483.5 2031.82 1484.01 Q2029.42 1484.52 2026.94 1484.52 Q2020.74 1484.52 2017.1 1480.91 Q2013.49 1477.3 2013.49 1471.14 Q2013.49 1464.78 2016.92 1461.05 Q2020.37 1457.3 2026.2 1457.3 Q2031.43 1457.3 2034.46 1460.68 Q2037.52 1464.04 2037.52 1469.82 M2033.26 1468.57 Q2033.21 1465.08 2031.29 1463 Q2029.39 1460.91 2026.24 1460.91 Q2022.68 1460.91 2020.53 1462.93 Q2018.4 1464.94 2018.07 1468.6 L2033.26 1468.57 Z\" fill=\"#000000\" fill-rule=\"evenodd\" fill-opacity=\"1\" /><path clip-path=\"url(#clip970)\" d=\"M 0 0 M2057.01 1461.91 Q2056.29 1461.49 2055.43 1461.31 Q2054.6 1461.1 2053.58 1461.1 Q2049.97 1461.1 2048.03 1463.46 Q2046.11 1465.8 2046.11 1470.19 L2046.11 1483.85 L2041.82 1483.85 L2041.82 1457.93 L2046.11 1457.93 L2046.11 1461.95 Q2047.45 1459.59 2049.6 1458.46 Q2051.75 1457.3 2054.83 1457.3 Q2055.27 1457.3 2055.8 1457.37 Q2056.34 1457.42 2056.99 1457.53 L2057.01 1461.91 Z\" fill=\"#000000\" fill-rule=\"evenodd\" fill-opacity=\"1\" /><path clip-path=\"url(#clip970)\" d=\"M 0 0 M2082.61 1469.82 L2082.61 1471.91 L2063.03 1471.91 Q2063.3 1476.31 2065.67 1478.62 Q2068.05 1480.91 2072.29 1480.91 Q2074.74 1480.91 2077.03 1480.31 Q2079.35 1479.71 2081.62 1478.5 L2081.62 1482.53 Q2079.32 1483.5 2076.92 1484.01 Q2074.51 1484.52 2072.03 1484.52 Q2065.83 1484.52 2062.19 1480.91 Q2058.58 1477.3 2058.58 1471.14 Q2058.58 1464.78 2062.01 1461.05 Q2065.46 1457.3 2071.29 1457.3 Q2076.52 1457.3 2079.55 1460.68 Q2082.61 1464.04 2082.61 1469.82 M2078.35 1468.57 Q2078.3 1465.08 2076.38 1463 Q2074.49 1460.91 2071.34 1460.91 Q2067.77 1460.91 2065.62 1462.93 Q2063.49 1464.94 2063.17 1468.6 L2078.35 1468.57 Z\" fill=\"#000000\" fill-rule=\"evenodd\" fill-opacity=\"1\" /><path clip-path=\"url(#clip970)\" d=\"M 0 0 M1160.37 1533.76 Q1162.44 1534.46 1164.38 1536.76 Q1166.36 1539.05 1168.33 1543.06 L1174.86 1556.04 L1167.95 1556.04 L1161.87 1543.85 Q1159.51 1539.08 1157.29 1537.52 Q1155.09 1535.96 1151.27 1535.96 L1144.27 1535.96 L1144.27 1556.04 L1137.84 1556.04 L1137.84 1508.52 L1152.35 1508.52 Q1160.5 1508.52 1164.51 1511.93 Q1168.52 1515.34 1168.52 1522.21 Q1168.52 1526.7 1166.42 1529.66 Q1164.35 1532.62 1160.37 1533.76 M1144.27 1513.81 L1144.27 1530.68 L1152.35 1530.68 Q1157 1530.68 1159.36 1528.54 Q1161.74 1526.38 1161.74 1522.21 Q1161.74 1518.04 1159.36 1515.94 Q1157 1513.81 1152.35 1513.81 L1144.27 1513.81 Z\" fill=\"#000000\" fill-rule=\"evenodd\" fill-opacity=\"1\" /><path clip-path=\"url(#clip970)\" d=\"M 0 0 M1208.56 1536.76 L1208.56 1539.62 L1181.64 1539.62 Q1182.02 1545.67 1185.26 1548.85 Q1188.54 1552 1194.37 1552 Q1197.74 1552 1200.89 1551.17 Q1204.07 1550.35 1207.19 1548.69 L1207.19 1554.23 Q1204.04 1555.57 1200.73 1556.27 Q1197.42 1556.97 1194.02 1556.97 Q1185.49 1556.97 1180.49 1552 Q1175.52 1547.04 1175.52 1538.57 Q1175.52 1529.82 1180.24 1524.69 Q1184.98 1519.54 1193 1519.54 Q1200.19 1519.54 1204.36 1524.18 Q1208.56 1528.8 1208.56 1536.76 M1202.71 1535.04 Q1202.64 1530.23 1200 1527.37 Q1197.39 1524.5 1193.06 1524.5 Q1188.16 1524.5 1185.2 1527.27 Q1182.27 1530.04 1181.83 1535.07 L1202.71 1535.04 Z\" fill=\"#000000\" fill-rule=\"evenodd\" fill-opacity=\"1\" /><path clip-path=\"url(#clip970)\" d=\"M 0 0 M1237.43 1521.45 L1237.43 1526.98 Q1234.95 1525.71 1232.27 1525.07 Q1229.6 1524.44 1226.74 1524.44 Q1222.38 1524.44 1220.18 1525.77 Q1218.02 1527.11 1218.02 1529.79 Q1218.02 1531.82 1219.58 1533 Q1221.13 1534.15 1225.85 1535.2 L1227.85 1535.64 Q1234.09 1536.98 1236.7 1539.43 Q1239.34 1541.85 1239.34 1546.21 Q1239.34 1551.17 1235.39 1554.07 Q1231.48 1556.97 1224.6 1556.97 Q1221.74 1556.97 1218.62 1556.39 Q1215.53 1555.85 1212.1 1554.74 L1212.1 1548.69 Q1215.34 1550.38 1218.49 1551.24 Q1221.64 1552.07 1224.73 1552.07 Q1228.87 1552.07 1231.1 1550.66 Q1233.33 1549.23 1233.33 1546.65 Q1233.33 1544.27 1231.7 1542.99 Q1230.11 1541.72 1224.67 1540.54 L1222.63 1540.07 Q1217.19 1538.92 1214.77 1536.56 Q1212.35 1534.18 1212.35 1530.04 Q1212.35 1525.01 1215.92 1522.27 Q1219.48 1519.54 1226.04 1519.54 Q1229.28 1519.54 1232.15 1520.01 Q1235.01 1520.49 1237.43 1521.45 Z\" fill=\"#000000\" fill-rule=\"evenodd\" fill-opacity=\"1\" /><path clip-path=\"url(#clip970)\" d=\"M 0 0 M1268.21 1521.45 L1268.21 1526.98 Q1265.73 1525.71 1263.05 1525.07 Q1260.38 1524.44 1257.51 1524.44 Q1253.15 1524.44 1250.96 1525.77 Q1248.79 1527.11 1248.79 1529.79 Q1248.79 1531.82 1250.35 1533 Q1251.91 1534.15 1256.62 1535.2 L1258.63 1535.64 Q1264.87 1536.98 1267.48 1539.43 Q1270.12 1541.85 1270.12 1546.21 Q1270.12 1551.17 1266.17 1554.07 Q1262.26 1556.97 1255.38 1556.97 Q1252.52 1556.97 1249.4 1556.39 Q1246.31 1555.85 1242.87 1554.74 L1242.87 1548.69 Q1246.12 1550.38 1249.27 1551.24 Q1252.42 1552.07 1255.51 1552.07 Q1259.65 1552.07 1261.88 1550.66 Q1264.1 1549.23 1264.1 1546.65 Q1264.1 1544.27 1262.48 1542.99 Q1260.89 1541.72 1255.45 1540.54 L1253.41 1540.07 Q1247.97 1538.92 1245.55 1536.56 Q1243.13 1534.18 1243.13 1530.04 Q1243.13 1525.01 1246.69 1522.27 Q1250.26 1519.54 1256.81 1519.54 Q1260.06 1519.54 1262.93 1520.01 Q1265.79 1520.49 1268.21 1521.45 Z\" fill=\"#000000\" fill-rule=\"evenodd\" fill-opacity=\"1\" /><path clip-path=\"url(#clip970)\" d=\"M 0 0 M1290.08 1524.5 Q1285.36 1524.5 1282.63 1528.19 Q1279.89 1531.85 1279.89 1538.25 Q1279.89 1544.65 1282.6 1548.34 Q1285.33 1552 1290.08 1552 Q1294.75 1552 1297.49 1548.31 Q1300.23 1544.62 1300.23 1538.25 Q1300.23 1531.92 1297.49 1528.23 Q1294.75 1524.5 1290.08 1524.5 M1290.08 1519.54 Q1297.71 1519.54 1302.07 1524.5 Q1306.44 1529.47 1306.44 1538.25 Q1306.44 1547 1302.07 1552 Q1297.71 1556.97 1290.08 1556.97 Q1282.4 1556.97 1278.04 1552 Q1273.72 1547 1273.72 1538.25 Q1273.72 1529.47 1278.04 1524.5 Q1282.4 1519.54 1290.08 1519.54 Z\" fill=\"#000000\" fill-rule=\"evenodd\" fill-opacity=\"1\" /><path clip-path=\"url(#clip970)\" d=\"M 0 0 M1311.97 1541.98 L1311.97 1520.4 L1317.83 1520.4 L1317.83 1541.75 Q1317.83 1546.81 1319.8 1549.36 Q1321.78 1551.87 1325.72 1551.87 Q1330.47 1551.87 1333.2 1548.85 Q1335.97 1545.83 1335.97 1540.61 L1335.97 1520.4 L1341.83 1520.4 L1341.83 1556.04 L1335.97 1556.04 L1335.97 1550.57 Q1333.84 1553.82 1331.01 1555.41 Q1328.21 1556.97 1324.48 1556.97 Q1318.34 1556.97 1315.16 1553.15 Q1311.97 1549.33 1311.97 1541.98 M1326.71 1519.54 L1326.71 1519.54 Z\" fill=\"#000000\" fill-rule=\"evenodd\" fill-opacity=\"1\" /><path clip-path=\"url(#clip970)\" d=\"M 0 0 M1368.63 1525.87 Q1367.64 1525.3 1366.46 1525.04 Q1365.32 1524.76 1363.92 1524.76 Q1358.95 1524.76 1356.28 1528 Q1353.64 1531.22 1353.64 1537.27 L1353.64 1556.04 L1347.75 1556.04 L1347.75 1520.4 L1353.64 1520.4 L1353.64 1525.93 Q1355.48 1522.69 1358.44 1521.13 Q1361.4 1519.54 1365.64 1519.54 Q1366.24 1519.54 1366.97 1519.63 Q1367.71 1519.7 1368.6 1519.85 L1368.63 1525.87 Z\" fill=\"#000000\" fill-rule=\"evenodd\" fill-opacity=\"1\" /><path clip-path=\"url(#clip970)\" d=\"M 0 0 M1398.99 1521.76 L1398.99 1527.24 Q1396.51 1525.87 1394 1525.2 Q1391.51 1524.5 1388.97 1524.5 Q1383.27 1524.5 1380.12 1528.13 Q1376.97 1531.73 1376.97 1538.25 Q1376.97 1544.78 1380.12 1548.4 Q1383.27 1552 1388.97 1552 Q1391.51 1552 1394 1551.33 Q1396.51 1550.63 1398.99 1549.26 L1398.99 1554.68 Q1396.54 1555.82 1393.9 1556.39 Q1391.29 1556.97 1388.33 1556.97 Q1380.28 1556.97 1375.54 1551.91 Q1370.79 1546.85 1370.79 1538.25 Q1370.79 1529.53 1375.57 1524.53 Q1380.37 1519.54 1388.71 1519.54 Q1391.42 1519.54 1394 1520.11 Q1396.57 1520.65 1398.99 1521.76 Z\" fill=\"#000000\" fill-rule=\"evenodd\" fill-opacity=\"1\" /><path clip-path=\"url(#clip970)\" d=\"M 0 0 M1435.63 1536.76 L1435.63 1539.62 L1408.7 1539.62 Q1409.08 1545.67 1412.33 1548.85 Q1415.61 1552 1421.43 1552 Q1424.81 1552 1427.96 1551.17 Q1431.14 1550.35 1434.26 1548.69 L1434.26 1554.23 Q1431.11 1555.57 1427.8 1556.27 Q1424.49 1556.97 1421.08 1556.97 Q1412.55 1556.97 1407.55 1552 Q1402.59 1547.04 1402.59 1538.57 Q1402.59 1529.82 1407.3 1524.69 Q1412.04 1519.54 1420.06 1519.54 Q1427.26 1519.54 1431.43 1524.18 Q1435.63 1528.8 1435.63 1536.76 M1429.77 1535.04 Q1429.71 1530.23 1427.07 1527.37 Q1424.46 1524.5 1420.13 1524.5 Q1415.23 1524.5 1412.27 1527.27 Q1409.34 1530.04 1408.89 1535.07 L1429.77 1535.04 Z\" fill=\"#000000\" fill-rule=\"evenodd\" fill-opacity=\"1\" /><path clip-path=\"url(#clip970)\" d=\"M 0 0 M1471.4 1534.53 L1471.4 1556.04 L1465.55 1556.04 L1465.55 1534.72 Q1465.55 1529.66 1463.57 1527.14 Q1461.6 1524.63 1457.65 1524.63 Q1452.91 1524.63 1450.17 1527.65 Q1447.44 1530.68 1447.44 1535.9 L1447.44 1556.04 L1441.55 1556.04 L1441.55 1520.4 L1447.44 1520.4 L1447.44 1525.93 Q1449.54 1522.72 1452.37 1521.13 Q1455.23 1519.54 1458.96 1519.54 Q1465.1 1519.54 1468.25 1523.36 Q1471.4 1527.14 1471.4 1534.53 Z\" fill=\"#000000\" fill-rule=\"evenodd\" fill-opacity=\"1\" /><polyline clip-path=\"url(#clip972)\" style=\"stroke:#000000; stroke-width:2; stroke-opacity:0.1; fill:none\" points=\"\n",
       "  256.486,1384.24 2352.76,1384.24 \n",
       "  \"/>\n",
       "<polyline clip-path=\"url(#clip972)\" style=\"stroke:#000000; stroke-width:2; stroke-opacity:0.1; fill:none\" points=\"\n",
       "  256.486,1059.73 2352.76,1059.73 \n",
       "  \"/>\n",
       "<polyline clip-path=\"url(#clip972)\" style=\"stroke:#000000; stroke-width:2; stroke-opacity:0.1; fill:none\" points=\"\n",
       "  256.486,735.212 2352.76,735.212 \n",
       "  \"/>\n",
       "<polyline clip-path=\"url(#clip972)\" style=\"stroke:#000000; stroke-width:2; stroke-opacity:0.1; fill:none\" points=\"\n",
       "  256.486,410.699 2352.76,410.699 \n",
       "  \"/>\n",
       "<polyline clip-path=\"url(#clip972)\" style=\"stroke:#000000; stroke-width:2; stroke-opacity:0.1; fill:none\" points=\"\n",
       "  256.486,86.1857 2352.76,86.1857 \n",
       "  \"/>\n",
       "<polyline clip-path=\"url(#clip970)\" style=\"stroke:#000000; stroke-width:4; stroke-opacity:1; fill:none\" points=\"\n",
       "  256.486,1423.18 256.486,47.2441 \n",
       "  \"/>\n",
       "<polyline clip-path=\"url(#clip970)\" style=\"stroke:#000000; stroke-width:4; stroke-opacity:1; fill:none\" points=\"\n",
       "  256.486,1384.24 281.642,1384.24 \n",
       "  \"/>\n",
       "<polyline clip-path=\"url(#clip970)\" style=\"stroke:#000000; stroke-width:4; stroke-opacity:1; fill:none\" points=\"\n",
       "  256.486,1059.73 281.642,1059.73 \n",
       "  \"/>\n",
       "<polyline clip-path=\"url(#clip970)\" style=\"stroke:#000000; stroke-width:4; stroke-opacity:1; fill:none\" points=\"\n",
       "  256.486,735.212 281.642,735.212 \n",
       "  \"/>\n",
       "<polyline clip-path=\"url(#clip970)\" style=\"stroke:#000000; stroke-width:4; stroke-opacity:1; fill:none\" points=\"\n",
       "  256.486,410.699 281.642,410.699 \n",
       "  \"/>\n",
       "<polyline clip-path=\"url(#clip970)\" style=\"stroke:#000000; stroke-width:4; stroke-opacity:1; fill:none\" points=\"\n",
       "  256.486,86.1857 281.642,86.1857 \n",
       "  \"/>\n",
       "<path clip-path=\"url(#clip970)\" d=\"M 0 0 M208.542 1370.04 Q204.931 1370.04 203.102 1373.6 Q201.297 1377.14 201.297 1384.27 Q201.297 1391.38 203.102 1394.94 Q204.931 1398.49 208.542 1398.49 Q212.176 1398.49 213.982 1394.94 Q215.811 1391.38 215.811 1384.27 Q215.811 1377.14 213.982 1373.6 Q212.176 1370.04 208.542 1370.04 M208.542 1366.33 Q214.352 1366.33 217.408 1370.94 Q220.486 1375.52 220.486 1384.27 Q220.486 1393 217.408 1397.61 Q214.352 1402.19 208.542 1402.19 Q202.732 1402.19 199.653 1397.61 Q196.598 1393 196.598 1384.27 Q196.598 1375.52 199.653 1370.94 Q202.732 1366.33 208.542 1366.33 Z\" fill=\"#000000\" fill-rule=\"evenodd\" fill-opacity=\"1\" /><path clip-path=\"url(#clip970)\" d=\"M 0 0 M119.538 1073.07 L127.177 1073.07 L127.177 1046.7 L118.867 1048.37 L118.867 1044.11 L127.13 1042.45 L131.806 1042.45 L131.806 1073.07 L139.445 1073.07 L139.445 1077.01 L119.538 1077.01 L119.538 1073.07 Z\" fill=\"#000000\" fill-rule=\"evenodd\" fill-opacity=\"1\" /><path clip-path=\"url(#clip970)\" d=\"M 0 0 M154.515 1045.52 Q150.903 1045.52 149.075 1049.09 Q147.269 1052.63 147.269 1059.76 Q147.269 1066.87 149.075 1070.43 Q150.903 1073.97 154.515 1073.97 Q158.149 1073.97 159.954 1070.43 Q161.783 1066.87 161.783 1059.76 Q161.783 1052.63 159.954 1049.09 Q158.149 1045.52 154.515 1045.52 M154.515 1041.82 Q160.325 1041.82 163.38 1046.43 Q166.459 1051.01 166.459 1059.76 Q166.459 1068.49 163.38 1073.09 Q160.325 1077.68 154.515 1077.68 Q148.704 1077.68 145.626 1073.09 Q142.57 1068.49 142.57 1059.76 Q142.57 1051.01 145.626 1046.43 Q148.704 1041.82 154.515 1041.82 Z\" fill=\"#000000\" fill-rule=\"evenodd\" fill-opacity=\"1\" /><path clip-path=\"url(#clip970)\" d=\"M 0 0 M181.528 1045.52 Q177.917 1045.52 176.089 1049.09 Q174.283 1052.63 174.283 1059.76 Q174.283 1066.87 176.089 1070.43 Q177.917 1073.97 181.528 1073.97 Q185.163 1073.97 186.968 1070.43 Q188.797 1066.87 188.797 1059.76 Q188.797 1052.63 186.968 1049.09 Q185.163 1045.52 181.528 1045.52 M181.528 1041.82 Q187.338 1041.82 190.394 1046.43 Q193.473 1051.01 193.473 1059.76 Q193.473 1068.49 190.394 1073.09 Q187.338 1077.68 181.528 1077.68 Q175.718 1077.68 172.639 1073.09 Q169.584 1068.49 169.584 1059.76 Q169.584 1051.01 172.639 1046.43 Q175.718 1041.82 181.528 1041.82 Z\" fill=\"#000000\" fill-rule=\"evenodd\" fill-opacity=\"1\" /><path clip-path=\"url(#clip970)\" d=\"M 0 0 M208.542 1045.52 Q204.931 1045.52 203.102 1049.09 Q201.297 1052.63 201.297 1059.76 Q201.297 1066.87 203.102 1070.43 Q204.931 1073.97 208.542 1073.97 Q212.176 1073.97 213.982 1070.43 Q215.811 1066.87 215.811 1059.76 Q215.811 1052.63 213.982 1049.09 Q212.176 1045.52 208.542 1045.52 M208.542 1041.82 Q214.352 1041.82 217.408 1046.43 Q220.486 1051.01 220.486 1059.76 Q220.486 1068.49 217.408 1073.09 Q214.352 1077.68 208.542 1077.68 Q202.732 1077.68 199.653 1073.09 Q196.598 1068.49 196.598 1059.76 Q196.598 1051.01 199.653 1046.43 Q202.732 1041.82 208.542 1041.82 Z\" fill=\"#000000\" fill-rule=\"evenodd\" fill-opacity=\"1\" /><path clip-path=\"url(#clip970)\" d=\"M 0 0 M123.126 748.557 L139.445 748.557 L139.445 752.492 L117.501 752.492 L117.501 748.557 Q120.163 745.802 124.746 741.173 Q129.353 736.52 130.533 735.177 Q132.779 732.654 133.658 730.918 Q134.561 729.159 134.561 727.469 Q134.561 724.714 132.617 722.978 Q130.695 721.242 127.593 721.242 Q125.394 721.242 122.941 722.006 Q120.51 722.77 117.732 724.321 L117.732 719.599 Q120.556 718.464 123.01 717.886 Q125.464 717.307 127.501 717.307 Q132.871 717.307 136.066 719.992 Q139.26 722.677 139.26 727.168 Q139.26 729.298 138.45 731.219 Q137.663 733.117 135.556 735.71 Q134.978 736.381 131.876 739.599 Q128.774 742.793 123.126 748.557 Z\" fill=\"#000000\" fill-rule=\"evenodd\" fill-opacity=\"1\" /><path clip-path=\"url(#clip970)\" d=\"M 0 0 M154.515 721.011 Q150.903 721.011 149.075 724.575 Q147.269 728.117 147.269 735.247 Q147.269 742.353 149.075 745.918 Q150.903 749.46 154.515 749.46 Q158.149 749.46 159.954 745.918 Q161.783 742.353 161.783 735.247 Q161.783 728.117 159.954 724.575 Q158.149 721.011 154.515 721.011 M154.515 717.307 Q160.325 717.307 163.38 721.913 Q166.459 726.497 166.459 735.247 Q166.459 743.973 163.38 748.58 Q160.325 753.163 154.515 753.163 Q148.704 753.163 145.626 748.58 Q142.57 743.973 142.57 735.247 Q142.57 726.497 145.626 721.913 Q148.704 717.307 154.515 717.307 Z\" fill=\"#000000\" fill-rule=\"evenodd\" fill-opacity=\"1\" /><path clip-path=\"url(#clip970)\" d=\"M 0 0 M181.528 721.011 Q177.917 721.011 176.089 724.575 Q174.283 728.117 174.283 735.247 Q174.283 742.353 176.089 745.918 Q177.917 749.46 181.528 749.46 Q185.163 749.46 186.968 745.918 Q188.797 742.353 188.797 735.247 Q188.797 728.117 186.968 724.575 Q185.163 721.011 181.528 721.011 M181.528 717.307 Q187.338 717.307 190.394 721.913 Q193.473 726.497 193.473 735.247 Q193.473 743.973 190.394 748.58 Q187.338 753.163 181.528 753.163 Q175.718 753.163 172.639 748.58 Q169.584 743.973 169.584 735.247 Q169.584 726.497 172.639 721.913 Q175.718 717.307 181.528 717.307 Z\" fill=\"#000000\" fill-rule=\"evenodd\" fill-opacity=\"1\" /><path clip-path=\"url(#clip970)\" d=\"M 0 0 M208.542 721.011 Q204.931 721.011 203.102 724.575 Q201.297 728.117 201.297 735.247 Q201.297 742.353 203.102 745.918 Q204.931 749.46 208.542 749.46 Q212.176 749.46 213.982 745.918 Q215.811 742.353 215.811 735.247 Q215.811 728.117 213.982 724.575 Q212.176 721.011 208.542 721.011 M208.542 717.307 Q214.352 717.307 217.408 721.913 Q220.486 726.497 220.486 735.247 Q220.486 743.973 217.408 748.58 Q214.352 753.163 208.542 753.163 Q202.732 753.163 199.653 748.58 Q196.598 743.973 196.598 735.247 Q196.598 726.497 199.653 721.913 Q202.732 717.307 208.542 717.307 Z\" fill=\"#000000\" fill-rule=\"evenodd\" fill-opacity=\"1\" /><path clip-path=\"url(#clip970)\" d=\"M 0 0 M132.316 409.345 Q135.672 410.062 137.547 412.331 Q139.445 414.599 139.445 417.933 Q139.445 423.048 135.927 425.849 Q132.408 428.65 125.927 428.65 Q123.751 428.65 121.436 428.21 Q119.144 427.794 116.691 426.937 L116.691 422.423 Q118.635 423.558 120.95 424.136 Q123.265 424.715 125.788 424.715 Q130.186 424.715 132.478 422.979 Q134.792 421.243 134.792 417.933 Q134.792 414.877 132.64 413.164 Q130.51 411.428 126.691 411.428 L122.663 411.428 L122.663 407.585 L126.876 407.585 Q130.325 407.585 132.154 406.22 Q133.982 404.831 133.982 402.238 Q133.982 399.576 132.084 398.164 Q130.209 396.729 126.691 396.729 Q124.769 396.729 122.57 397.146 Q120.371 397.562 117.732 398.442 L117.732 394.275 Q120.394 393.535 122.709 393.164 Q125.047 392.794 127.107 392.794 Q132.431 392.794 135.533 395.224 Q138.635 397.632 138.635 401.752 Q138.635 404.622 136.992 406.613 Q135.348 408.581 132.316 409.345 Z\" fill=\"#000000\" fill-rule=\"evenodd\" fill-opacity=\"1\" /><path clip-path=\"url(#clip970)\" d=\"M 0 0 M154.515 396.498 Q150.903 396.498 149.075 400.062 Q147.269 403.604 147.269 410.734 Q147.269 417.84 149.075 421.405 Q150.903 424.946 154.515 424.946 Q158.149 424.946 159.954 421.405 Q161.783 417.84 161.783 410.734 Q161.783 403.604 159.954 400.062 Q158.149 396.498 154.515 396.498 M154.515 392.794 Q160.325 392.794 163.38 397.4 Q166.459 401.984 166.459 410.734 Q166.459 419.46 163.38 424.067 Q160.325 428.65 154.515 428.65 Q148.704 428.65 145.626 424.067 Q142.57 419.46 142.57 410.734 Q142.57 401.984 145.626 397.4 Q148.704 392.794 154.515 392.794 Z\" fill=\"#000000\" fill-rule=\"evenodd\" fill-opacity=\"1\" /><path clip-path=\"url(#clip970)\" d=\"M 0 0 M181.528 396.498 Q177.917 396.498 176.089 400.062 Q174.283 403.604 174.283 410.734 Q174.283 417.84 176.089 421.405 Q177.917 424.946 181.528 424.946 Q185.163 424.946 186.968 421.405 Q188.797 417.84 188.797 410.734 Q188.797 403.604 186.968 400.062 Q185.163 396.498 181.528 396.498 M181.528 392.794 Q187.338 392.794 190.394 397.4 Q193.473 401.984 193.473 410.734 Q193.473 419.46 190.394 424.067 Q187.338 428.65 181.528 428.65 Q175.718 428.65 172.639 424.067 Q169.584 419.46 169.584 410.734 Q169.584 401.984 172.639 397.4 Q175.718 392.794 181.528 392.794 Z\" fill=\"#000000\" fill-rule=\"evenodd\" fill-opacity=\"1\" /><path clip-path=\"url(#clip970)\" d=\"M 0 0 M208.542 396.498 Q204.931 396.498 203.102 400.062 Q201.297 403.604 201.297 410.734 Q201.297 417.84 203.102 421.405 Q204.931 424.946 208.542 424.946 Q212.176 424.946 213.982 421.405 Q215.811 417.84 215.811 410.734 Q215.811 403.604 213.982 400.062 Q212.176 396.498 208.542 396.498 M208.542 392.794 Q214.352 392.794 217.408 397.4 Q220.486 401.984 220.486 410.734 Q220.486 419.46 217.408 424.067 Q214.352 428.65 208.542 428.65 Q202.732 428.65 199.653 424.067 Q196.598 419.46 196.598 410.734 Q196.598 401.984 199.653 397.4 Q202.732 392.794 208.542 392.794 Z\" fill=\"#000000\" fill-rule=\"evenodd\" fill-opacity=\"1\" /><path clip-path=\"url(#clip970)\" d=\"M 0 0 M129.862 72.9797 L118.056 91.4287 L129.862 91.4287 L129.862 72.9797 M128.635 68.9057 L134.515 68.9057 L134.515 91.4287 L139.445 91.4287 L139.445 95.3176 L134.515 95.3176 L134.515 103.466 L129.862 103.466 L129.862 95.3176 L114.26 95.3176 L114.26 90.8037 L128.635 68.9057 Z\" fill=\"#000000\" fill-rule=\"evenodd\" fill-opacity=\"1\" /><path clip-path=\"url(#clip970)\" d=\"M 0 0 M154.515 71.9844 Q150.903 71.9844 149.075 75.5492 Q147.269 79.0908 147.269 86.2204 Q147.269 93.3268 149.075 96.8916 Q150.903 100.433 154.515 100.433 Q158.149 100.433 159.954 96.8916 Q161.783 93.3268 161.783 86.2204 Q161.783 79.0908 159.954 75.5492 Q158.149 71.9844 154.515 71.9844 M154.515 68.2807 Q160.325 68.2807 163.38 72.8871 Q166.459 77.4704 166.459 86.2204 Q166.459 94.9472 163.38 99.5537 Q160.325 104.137 154.515 104.137 Q148.704 104.137 145.626 99.5537 Q142.57 94.9472 142.57 86.2204 Q142.57 77.4704 145.626 72.8871 Q148.704 68.2807 154.515 68.2807 Z\" fill=\"#000000\" fill-rule=\"evenodd\" fill-opacity=\"1\" /><path clip-path=\"url(#clip970)\" d=\"M 0 0 M181.528 71.9844 Q177.917 71.9844 176.089 75.5492 Q174.283 79.0908 174.283 86.2204 Q174.283 93.3268 176.089 96.8916 Q177.917 100.433 181.528 100.433 Q185.163 100.433 186.968 96.8916 Q188.797 93.3268 188.797 86.2204 Q188.797 79.0908 186.968 75.5492 Q185.163 71.9844 181.528 71.9844 M181.528 68.2807 Q187.338 68.2807 190.394 72.8871 Q193.473 77.4704 193.473 86.2204 Q193.473 94.9472 190.394 99.5537 Q187.338 104.137 181.528 104.137 Q175.718 104.137 172.639 99.5537 Q169.584 94.9472 169.584 86.2204 Q169.584 77.4704 172.639 72.8871 Q175.718 68.2807 181.528 68.2807 Z\" fill=\"#000000\" fill-rule=\"evenodd\" fill-opacity=\"1\" /><path clip-path=\"url(#clip970)\" d=\"M 0 0 M208.542 71.9844 Q204.931 71.9844 203.102 75.5492 Q201.297 79.0908 201.297 86.2204 Q201.297 93.3268 203.102 96.8916 Q204.931 100.433 208.542 100.433 Q212.176 100.433 213.982 96.8916 Q215.811 93.3268 215.811 86.2204 Q215.811 79.0908 213.982 75.5492 Q212.176 71.9844 208.542 71.9844 M208.542 68.2807 Q214.352 68.2807 217.408 72.8871 Q220.486 77.4704 220.486 86.2204 Q220.486 94.9472 217.408 99.5537 Q214.352 104.137 208.542 104.137 Q202.732 104.137 199.653 99.5537 Q196.598 94.9472 196.598 86.2204 Q196.598 77.4704 199.653 72.8871 Q202.732 68.2807 208.542 68.2807 Z\" fill=\"#000000\" fill-rule=\"evenodd\" fill-opacity=\"1\" /><path clip-path=\"url(#clip970)\" d=\"M 0 0 M40.4842 869.146 L40.4842 862.717 L60.568 862.717 L40.4842 841.392 L40.4842 833.117 L62.6368 856.701 L88.0042 831.43 L88.0042 839.896 L65.1194 862.717 L88.0042 862.717 L88.0042 869.146 L40.4842 869.146 Z\" fill=\"#000000\" fill-rule=\"evenodd\" fill-opacity=\"1\" /><path clip-path=\"url(#clip970)\" d=\"M 0 0 M70.0847 810.232 Q70.0847 817.33 71.7079 820.067 Q73.3312 822.804 77.2461 822.804 Q80.3653 822.804 82.2114 820.767 Q84.0256 818.698 84.0256 815.165 Q84.0256 810.295 80.5881 807.367 Q77.1188 804.407 71.3897 804.407 L70.0847 804.407 L70.0847 810.232 M67.6657 798.551 L88.0042 798.551 L88.0042 804.407 L82.5933 804.407 Q85.8398 806.412 87.3994 809.404 Q88.9272 812.396 88.9272 816.725 Q88.9272 822.199 85.8716 825.446 Q82.7843 828.661 77.6281 828.661 Q71.6125 828.661 68.5569 824.65 Q65.5014 820.608 65.5014 812.619 L65.5014 804.407 L64.9285 804.407 Q60.8862 804.407 58.6901 807.081 Q56.4621 809.723 56.4621 814.529 Q56.4621 817.584 57.1941 820.481 Q57.9262 823.377 59.3903 826.051 L53.9795 826.051 Q52.7381 822.836 52.1334 819.812 Q51.4968 816.788 51.4968 813.924 Q51.4968 806.19 55.5072 802.37 Q59.5176 798.551 67.6657 798.551 Z\" fill=\"#000000\" fill-rule=\"evenodd\" fill-opacity=\"1\" /><path clip-path=\"url(#clip970)\" d=\"M 0 0 M82.657 786.742 L101.563 786.742 L101.563 792.631 L52.3562 792.631 L52.3562 786.742 L57.7671 786.742 Q54.5842 784.896 53.0564 782.095 Q51.4968 779.263 51.4968 775.348 Q51.4968 768.855 56.6531 764.813 Q61.8093 760.738 70.212 760.738 Q78.6147 760.738 83.771 764.813 Q88.9272 768.855 88.9272 775.348 Q88.9272 779.263 87.3994 782.095 Q85.8398 784.896 82.657 786.742 M70.212 766.818 Q63.7508 766.818 60.0905 769.491 Q56.3984 772.133 56.3984 776.78 Q56.3984 781.427 60.0905 784.101 Q63.7508 786.742 70.212 786.742 Q76.6732 786.742 80.3653 784.101 Q84.0256 781.427 84.0256 776.78 Q84.0256 772.133 80.3653 769.491 Q76.6732 766.818 70.212 766.818 Z\" fill=\"#000000\" fill-rule=\"evenodd\" fill-opacity=\"1\" /><path clip-path=\"url(#clip970)\" d=\"M 0 0 M70.0847 738.395 Q70.0847 745.493 71.7079 748.23 Q73.3312 750.967 77.2461 750.967 Q80.3653 750.967 82.2114 748.93 Q84.0256 746.861 84.0256 743.328 Q84.0256 738.458 80.5881 735.53 Q77.1188 732.57 71.3897 732.57 L70.0847 732.57 L70.0847 738.395 M67.6657 726.714 L88.0042 726.714 L88.0042 732.57 L82.5933 732.57 Q85.8398 734.575 87.3994 737.567 Q88.9272 740.559 88.9272 744.888 Q88.9272 750.362 85.8716 753.609 Q82.7843 756.824 77.6281 756.824 Q71.6125 756.824 68.5569 752.813 Q65.5014 748.771 65.5014 740.782 L65.5014 732.57 L64.9285 732.57 Q60.8862 732.57 58.6901 735.244 Q56.4621 737.886 56.4621 742.692 Q56.4621 745.747 57.1941 748.644 Q57.9262 751.54 59.3903 754.214 L53.9795 754.214 Q52.7381 750.999 52.1334 747.975 Q51.4968 744.951 51.4968 742.087 Q51.4968 734.353 55.5072 730.533 Q59.5176 726.714 67.6657 726.714 Z\" fill=\"#000000\" fill-rule=\"evenodd\" fill-opacity=\"1\" /><path clip-path=\"url(#clip970)\" d=\"M 0 0 M52.3562 723.117 L52.3562 695.299 L57.7034 695.299 L83.3254 717.324 L83.3254 695.299 L88.0042 695.299 L88.0042 723.913 L82.657 723.913 L57.035 701.887 L57.035 723.117 L52.3562 723.117 Z\" fill=\"#000000\" fill-rule=\"evenodd\" fill-opacity=\"1\" /><path clip-path=\"url(#clip970)\" d=\"M 0 0 M52.3562 689.156 L52.3562 683.3 L88.0042 683.3 L88.0042 689.156 L52.3562 689.156 M38.479 689.156 L38.479 683.3 L45.895 683.3 L45.895 689.156 L38.479 689.156 Z\" fill=\"#000000\" fill-rule=\"evenodd\" fill-opacity=\"1\" /><path clip-path=\"url(#clip970)\" d=\"M 0 0 M42.2347 671.364 L52.3562 671.364 L52.3562 659.301 L56.9077 659.301 L56.9077 671.364 L76.2594 671.364 Q80.6199 671.364 81.8613 670.186 Q83.1026 668.977 83.1026 665.317 L83.1026 659.301 L88.0042 659.301 L88.0042 665.317 Q88.0042 672.096 85.4897 674.674 Q82.9434 677.252 76.2594 677.252 L56.9077 677.252 L56.9077 681.549 L52.3562 681.549 L52.3562 677.252 L42.2347 677.252 L42.2347 671.364 Z\" fill=\"#000000\" fill-rule=\"evenodd\" fill-opacity=\"1\" /><path clip-path=\"url(#clip970)\" d=\"M 0 0 M70.0847 636.957 Q70.0847 644.055 71.7079 646.792 Q73.3312 649.53 77.2461 649.53 Q80.3653 649.53 82.2114 647.493 Q84.0256 645.424 84.0256 641.891 Q84.0256 637.021 80.5881 634.093 Q77.1188 631.133 71.3897 631.133 L70.0847 631.133 L70.0847 636.957 M67.6657 625.276 L88.0042 625.276 L88.0042 631.133 L82.5933 631.133 Q85.8398 633.138 87.3994 636.13 Q88.9272 639.122 88.9272 643.45 Q88.9272 648.925 85.8716 652.171 Q82.7843 655.386 77.6281 655.386 Q71.6125 655.386 68.5569 651.376 Q65.5014 647.333 65.5014 639.344 L65.5014 631.133 L64.9285 631.133 Q60.8862 631.133 58.6901 633.806 Q56.4621 636.448 56.4621 641.254 Q56.4621 644.31 57.1941 647.206 Q57.9262 650.102 59.3903 652.776 L53.9795 652.776 Q52.7381 649.561 52.1334 646.538 Q51.4968 643.514 51.4968 640.649 Q51.4968 632.915 55.5072 629.096 Q59.5176 625.276 67.6657 625.276 M38.6063 637.403 L38.6063 630.942 L45.0356 630.942 L45.0356 637.403 L38.6063 637.403 M38.6063 649.848 L38.6063 643.387 L45.0356 643.387 L45.0356 649.848 L38.6063 649.848 Z\" fill=\"#000000\" fill-rule=\"evenodd\" fill-opacity=\"1\" /><path clip-path=\"url(#clip970)\" d=\"M 0 0 M42.2347 613.341 L52.3562 613.341 L52.3562 601.278 L56.9077 601.278 L56.9077 613.341 L76.2594 613.341 Q80.6199 613.341 81.8613 612.163 Q83.1026 610.953 83.1026 607.293 L83.1026 601.278 L88.0042 601.278 L88.0042 607.293 Q88.0042 614.073 85.4897 616.651 Q82.9434 619.229 76.2594 619.229 L56.9077 619.229 L56.9077 623.526 L52.3562 623.526 L52.3562 619.229 L42.2347 619.229 L42.2347 613.341 Z\" fill=\"#000000\" fill-rule=\"evenodd\" fill-opacity=\"1\" /><path clip-path=\"url(#clip972)\" d=\"\n",
       "M371.785 828.96 L371.785 1023.67 L904.834 1023.67 L904.834 828.96 L371.785 828.96 L371.785 828.96  Z\n",
       "  \" fill=\"#00688b\" fill-rule=\"evenodd\" fill-opacity=\"1\"/>\n",
       "<polyline clip-path=\"url(#clip972)\" style=\"stroke:#000000; stroke-width:4; stroke-opacity:1; fill:none\" points=\"\n",
       "  371.785,828.96 371.785,1023.67 904.834,1023.67 904.834,828.96 371.785,828.96 \n",
       "  \"/>\n",
       "<path clip-path=\"url(#clip972)\" d=\"\n",
       "M1038.1 374.642 L1038.1 1023.67 L1571.15 1023.67 L1571.15 374.642 L1038.1 374.642 L1038.1 374.642  Z\n",
       "  \" fill=\"#00688b\" fill-rule=\"evenodd\" fill-opacity=\"1\"/>\n",
       "<polyline clip-path=\"url(#clip972)\" style=\"stroke:#000000; stroke-width:4; stroke-opacity:1; fill:none\" points=\"\n",
       "  1038.1,374.642 1038.1,1023.67 1571.15,1023.67 1571.15,374.642 1038.1,374.642 \n",
       "  \"/>\n",
       "<path clip-path=\"url(#clip972)\" d=\"\n",
       "M1704.41 1092.18 L1704.41 1221.98 L2237.46 1221.98 L2237.46 1092.18 L1704.41 1092.18 L1704.41 1092.18  Z\n",
       "  \" fill=\"#00688b\" fill-rule=\"evenodd\" fill-opacity=\"1\"/>\n",
       "<polyline clip-path=\"url(#clip972)\" style=\"stroke:#000000; stroke-width:4; stroke-opacity:1; fill:none\" points=\"\n",
       "  1704.41,1092.18 1704.41,1221.98 2237.46,1221.98 2237.46,1092.18 1704.41,1092.18 \n",
       "  \"/>\n",
       "<path clip-path=\"url(#clip972)\" d=\"\n",
       "M371.785 1023.67 L371.785 1384.24 L904.834 1384.24 L904.834 1023.67 L371.785 1023.67 L371.785 1023.67  Z\n",
       "  \" fill=\"#cd0000\" fill-rule=\"evenodd\" fill-opacity=\"1\"/>\n",
       "<polyline clip-path=\"url(#clip972)\" style=\"stroke:#000000; stroke-width:4; stroke-opacity:1; fill:none\" points=\"\n",
       "  371.785,1023.67 371.785,1384.24 904.834,1384.24 904.834,1023.67 371.785,1023.67 \n",
       "  \"/>\n",
       "<path clip-path=\"url(#clip972)\" d=\"\n",
       "M1038.1 1023.67 L1038.1 1384.24 L1571.15 1384.24 L1571.15 1023.67 L1038.1 1023.67 L1038.1 1023.67  Z\n",
       "  \" fill=\"#cd0000\" fill-rule=\"evenodd\" fill-opacity=\"1\"/>\n",
       "<polyline clip-path=\"url(#clip972)\" style=\"stroke:#000000; stroke-width:4; stroke-opacity:1; fill:none\" points=\"\n",
       "  1038.1,1023.67 1038.1,1384.24 1571.15,1384.24 1571.15,1023.67 1038.1,1023.67 \n",
       "  \"/>\n",
       "<path clip-path=\"url(#clip972)\" d=\"\n",
       "M1704.41 1221.98 L1704.41 1384.24 L2237.46 1384.24 L2237.46 1221.98 L1704.41 1221.98 L1704.41 1221.98  Z\n",
       "  \" fill=\"#cd0000\" fill-rule=\"evenodd\" fill-opacity=\"1\"/>\n",
       "<polyline clip-path=\"url(#clip972)\" style=\"stroke:#000000; stroke-width:4; stroke-opacity:1; fill:none\" points=\"\n",
       "  1704.41,1221.98 1704.41,1384.24 2237.46,1384.24 2237.46,1221.98 1704.41,1221.98 \n",
       "  \"/>\n",
       "<line clip-path=\"url(#clip972)\" x1=\"958.31\" y1=\"605.407\" x2=\"318.31\" y2=\"605.407\" style=\"stroke:#3da44d; stroke-width:3.2; stroke-opacity:1\"/>\n",
       "<line clip-path=\"url(#clip972)\" x1=\"1624.62\" y1=\"86.1857\" x2=\"984.621\" y2=\"86.1857\" style=\"stroke:#3da44d; stroke-width:3.2; stroke-opacity:1\"/>\n",
       "<line clip-path=\"url(#clip972)\" x1=\"2290.93\" y1=\"1092.18\" x2=\"1650.93\" y2=\"1092.18\" style=\"stroke:#3da44d; stroke-width:3.2; stroke-opacity:1\"/>\n",
       "<path clip-path=\"url(#clip970)\" d=\"\n",
       "M1624.2 335.029 L2282.88 335.029 L2282.88 93.1086 L1624.2 93.1086  Z\n",
       "  \" fill=\"#ffffff\" fill-rule=\"evenodd\" fill-opacity=\"1\"/>\n",
       "<polyline clip-path=\"url(#clip970)\" style=\"stroke:#000000; stroke-width:4; stroke-opacity:1; fill:none\" points=\"\n",
       "  1624.2,335.029 2282.88,335.029 2282.88,93.1086 1624.2,93.1086 1624.2,335.029 \n",
       "  \"/>\n",
       "<path clip-path=\"url(#clip970)\" d=\"\n",
       "M1647.49 177.781 L1787.24 177.781 L1787.24 129.397 L1647.49 129.397 L1647.49 177.781  Z\n",
       "  \" fill=\"#00688b\" fill-rule=\"evenodd\" fill-opacity=\"1\"/>\n",
       "<polyline clip-path=\"url(#clip970)\" style=\"stroke:#000000; stroke-width:4; stroke-opacity:1; fill:none\" points=\"\n",
       "  1647.49,177.781 1787.24,177.781 1787.24,129.397 1647.49,129.397 1647.49,177.781 \n",
       "  \"/>\n",
       "<path clip-path=\"url(#clip970)\" d=\"M 0 0 M1810.53 134.85 L1820.35 134.85 L1820.35 138.16 L1814.79 138.16 L1814.79 173.808 L1820.35 173.808 L1820.35 177.119 L1810.53 177.119 L1810.53 134.85 Z\" fill=\"#000000\" fill-rule=\"evenodd\" fill-opacity=\"1\" /><path clip-path=\"url(#clip970)\" d=\"M 0 0 M1828.84 136.309 L1828.84 149.156 L1824.91 149.156 L1824.91 136.309 L1828.84 136.309 M1837.59 136.309 L1837.59 149.156 L1833.66 149.156 L1833.66 136.309 L1837.59 136.309 Z\" fill=\"#000000\" fill-rule=\"evenodd\" fill-opacity=\"1\" /><path clip-path=\"url(#clip970)\" d=\"M 0 0 M1842.25 136.309 L1848.54 136.309 L1863.87 165.221 L1863.87 136.309 L1868.4 136.309 L1868.4 170.869 L1862.11 170.869 L1846.78 141.957 L1846.78 170.869 L1842.25 170.869 L1842.25 136.309 Z\" fill=\"#000000\" fill-rule=\"evenodd\" fill-opacity=\"1\" /><path clip-path=\"url(#clip970)\" d=\"M 0 0 M1882.92 147.929 Q1879.49 147.929 1877.5 150.614 Q1875.51 153.276 1875.51 157.929 Q1875.51 162.582 1877.48 165.267 Q1879.47 167.929 1882.92 167.929 Q1886.32 167.929 1888.31 165.244 Q1890.3 162.558 1890.3 157.929 Q1890.3 153.322 1888.31 150.637 Q1886.32 147.929 1882.92 147.929 M1882.92 144.318 Q1888.47 144.318 1891.65 147.929 Q1894.82 151.54 1894.82 157.929 Q1894.82 164.295 1891.65 167.929 Q1888.47 171.54 1882.92 171.54 Q1877.34 171.54 1874.17 167.929 Q1871.02 164.295 1871.02 157.929 Q1871.02 151.54 1874.17 147.929 Q1877.34 144.318 1882.92 144.318 Z\" fill=\"#000000\" fill-rule=\"evenodd\" fill-opacity=\"1\" /><path clip-path=\"url(#clip970)\" d=\"M 0 0 M1914.31 148.924 Q1913.59 148.508 1912.73 148.322 Q1911.9 148.114 1910.88 148.114 Q1907.27 148.114 1905.33 150.475 Q1903.4 152.813 1903.4 157.211 L1903.4 170.869 L1899.12 170.869 L1899.12 144.943 L1903.4 144.943 L1903.4 148.971 Q1904.75 146.609 1906.9 145.475 Q1909.05 144.318 1912.13 144.318 Q1912.57 144.318 1913.1 144.387 Q1913.64 144.434 1914.28 144.549 L1914.31 148.924 Z\" fill=\"#000000\" fill-rule=\"evenodd\" fill-opacity=\"1\" /><path clip-path=\"url(#clip970)\" d=\"M 0 0 M1938.13 149.92 Q1939.72 147.049 1941.95 145.684 Q1944.17 144.318 1947.18 144.318 Q1951.23 144.318 1953.43 147.165 Q1955.63 149.989 1955.63 155.221 L1955.63 170.869 L1951.34 170.869 L1951.34 155.359 Q1951.34 151.633 1950.02 149.827 Q1948.71 148.022 1946 148.022 Q1942.69 148.022 1940.77 150.221 Q1938.84 152.42 1938.84 156.216 L1938.84 170.869 L1934.56 170.869 L1934.56 155.359 Q1934.56 151.609 1933.24 149.827 Q1931.92 148.022 1929.17 148.022 Q1925.9 148.022 1923.98 150.244 Q1922.06 152.443 1922.06 156.216 L1922.06 170.869 L1917.78 170.869 L1917.78 144.943 L1922.06 144.943 L1922.06 148.971 Q1923.52 146.586 1925.56 145.452 Q1927.59 144.318 1930.4 144.318 Q1933.22 144.318 1935.19 145.753 Q1937.18 147.188 1938.13 149.92 Z\" fill=\"#000000\" fill-rule=\"evenodd\" fill-opacity=\"1\" /><path clip-path=\"url(#clip970)\" d=\"M 0 0 M1971.88 157.836 Q1966.71 157.836 1964.72 159.017 Q1962.73 160.197 1962.73 163.045 Q1962.73 165.313 1964.21 166.656 Q1965.72 167.975 1968.29 167.975 Q1971.83 167.975 1973.96 165.475 Q1976.11 162.952 1976.11 158.785 L1976.11 157.836 L1971.88 157.836 M1980.37 156.077 L1980.37 170.869 L1976.11 170.869 L1976.11 166.933 Q1974.65 169.295 1972.48 170.429 Q1970.3 171.54 1967.15 171.54 Q1963.17 171.54 1960.81 169.318 Q1958.47 167.072 1958.47 163.322 Q1958.47 158.947 1961.39 156.725 Q1964.33 154.503 1970.14 154.503 L1976.11 154.503 L1976.11 154.086 Q1976.11 151.147 1974.17 149.549 Q1972.25 147.929 1968.75 147.929 Q1966.53 147.929 1964.42 148.461 Q1962.32 148.994 1960.37 150.059 L1960.37 146.123 Q1962.71 145.221 1964.91 144.781 Q1967.11 144.318 1969.19 144.318 Q1974.82 144.318 1977.59 147.234 Q1980.37 150.151 1980.37 156.077 Z\" fill=\"#000000\" fill-rule=\"evenodd\" fill-opacity=\"1\" /><path clip-path=\"url(#clip970)\" d=\"M 0 0 M1984.84 134.85 L1989.1 134.85 L1989.1 170.869 L1984.84 170.869 L1984.84 134.85 Z\" fill=\"#000000\" fill-rule=\"evenodd\" fill-opacity=\"1\" /><path clip-path=\"url(#clip970)\" d=\"M 0 0 M1997.59 136.309 L1997.59 149.156 L1993.66 149.156 L1993.66 136.309 L1997.59 136.309 M2006.34 136.309 L2006.34 149.156 L2002.41 149.156 L2002.41 136.309 L2006.34 136.309 Z\" fill=\"#000000\" fill-rule=\"evenodd\" fill-opacity=\"1\" /><path clip-path=\"url(#clip970)\" d=\"M 0 0 M2011.9 164.989 L2016.78 164.989 L2016.78 168.97 L2012.99 176.378 L2010 176.378 L2011.9 168.97 L2011.9 164.989 Z\" fill=\"#000000\" fill-rule=\"evenodd\" fill-opacity=\"1\" /><path clip-path=\"url(#clip970)\" d=\"M 0 0 M2040.35 136.309 L2040.35 149.156 L2036.41 149.156 L2036.41 136.309 L2040.35 136.309 M2049.1 136.309 L2049.1 149.156 L2045.16 149.156 L2045.16 136.309 L2049.1 136.309 Z\" fill=\"#000000\" fill-rule=\"evenodd\" fill-opacity=\"1\" /><path clip-path=\"url(#clip970)\" d=\"M 0 0 M2077.32 165.938 L2077.32 156.656 L2069.68 156.656 L2069.68 152.813 L2081.95 152.813 L2081.95 167.651 Q2079.24 169.572 2075.97 170.568 Q2072.71 171.54 2069.01 171.54 Q2060.9 171.54 2056.32 166.818 Q2051.76 162.072 2051.76 153.623 Q2051.76 145.151 2056.32 140.429 Q2060.9 135.684 2069.01 135.684 Q2072.39 135.684 2075.42 136.517 Q2078.47 137.35 2081.04 138.971 L2081.04 143.947 Q2078.45 141.748 2075.53 140.637 Q2072.62 139.526 2069.4 139.526 Q2063.06 139.526 2059.86 143.068 Q2056.69 146.609 2056.69 153.623 Q2056.69 160.614 2059.86 164.156 Q2063.06 167.697 2069.4 167.697 Q2071.88 167.697 2073.82 167.281 Q2075.76 166.841 2077.32 165.938 Z\" fill=\"#000000\" fill-rule=\"evenodd\" fill-opacity=\"1\" /><path clip-path=\"url(#clip970)\" d=\"M 0 0 M2101.44 148.924 Q2100.72 148.508 2099.86 148.322 Q2099.03 148.114 2098.01 148.114 Q2094.4 148.114 2092.45 150.475 Q2090.53 152.813 2090.53 157.211 L2090.53 170.869 L2086.25 170.869 L2086.25 144.943 L2090.53 144.943 L2090.53 148.971 Q2091.88 146.609 2094.03 145.475 Q2096.18 144.318 2099.26 144.318 Q2099.7 144.318 2100.23 144.387 Q2100.76 144.434 2101.41 144.549 L2101.44 148.924 Z\" fill=\"#000000\" fill-rule=\"evenodd\" fill-opacity=\"1\" /><path clip-path=\"url(#clip970)\" d=\"M 0 0 M2117.69 157.836 Q2112.52 157.836 2110.53 159.017 Q2108.54 160.197 2108.54 163.045 Q2108.54 165.313 2110.02 166.656 Q2111.53 167.975 2114.1 167.975 Q2117.64 167.975 2119.77 165.475 Q2121.92 162.952 2121.92 158.785 L2121.92 157.836 L2117.69 157.836 M2126.18 156.077 L2126.18 170.869 L2121.92 170.869 L2121.92 166.933 Q2120.46 169.295 2118.29 170.429 Q2116.11 171.54 2112.96 171.54 Q2108.98 171.54 2106.62 169.318 Q2104.28 167.072 2104.28 163.322 Q2104.28 158.947 2107.2 156.725 Q2110.14 154.503 2115.95 154.503 L2121.92 154.503 L2121.92 154.086 Q2121.92 151.147 2119.98 149.549 Q2118.06 147.929 2114.56 147.929 Q2112.34 147.929 2110.23 148.461 Q2108.13 148.994 2106.18 150.059 L2106.18 146.123 Q2108.52 145.221 2110.72 144.781 Q2112.92 144.318 2115 144.318 Q2120.63 144.318 2123.4 147.234 Q2126.18 150.151 2126.18 156.077 Z\" fill=\"#000000\" fill-rule=\"evenodd\" fill-opacity=\"1\" /><path clip-path=\"url(#clip970)\" d=\"M 0 0 M2152.2 155.221 L2152.2 170.869 L2147.94 170.869 L2147.94 155.359 Q2147.94 151.679 2146.51 149.85 Q2145.07 148.022 2142.2 148.022 Q2138.75 148.022 2136.76 150.221 Q2134.77 152.42 2134.77 156.216 L2134.77 170.869 L2130.49 170.869 L2130.49 144.943 L2134.77 144.943 L2134.77 148.971 Q2136.3 146.633 2138.36 145.475 Q2140.44 144.318 2143.15 144.318 Q2147.62 144.318 2149.91 147.096 Q2152.2 149.85 2152.2 155.221 Z\" fill=\"#000000\" fill-rule=\"evenodd\" fill-opacity=\"1\" /><path clip-path=\"url(#clip970)\" d=\"M 0 0 M2173.73 148.878 L2173.73 134.85 L2177.99 134.85 L2177.99 170.869 L2173.73 170.869 L2173.73 166.98 Q2172.38 169.295 2170.32 170.429 Q2168.29 171.54 2165.42 171.54 Q2160.72 171.54 2157.76 167.79 Q2154.82 164.04 2154.82 157.929 Q2154.82 151.818 2157.76 148.068 Q2160.72 144.318 2165.42 144.318 Q2168.29 144.318 2170.32 145.452 Q2172.38 146.563 2173.73 148.878 M2159.21 157.929 Q2159.21 162.628 2161.13 165.313 Q2163.08 167.975 2166.46 167.975 Q2169.84 167.975 2171.78 165.313 Q2173.73 162.628 2173.73 157.929 Q2173.73 153.23 2171.78 150.568 Q2169.84 147.883 2166.46 147.883 Q2163.08 147.883 2161.13 150.568 Q2159.21 153.23 2159.21 157.929 Z\" fill=\"#000000\" fill-rule=\"evenodd\" fill-opacity=\"1\" /><path clip-path=\"url(#clip970)\" d=\"M 0 0 M2204.63 156.841 L2204.63 158.924 L2185.05 158.924 Q2185.32 163.322 2187.69 165.637 Q2190.07 167.929 2194.31 167.929 Q2196.76 167.929 2199.05 167.327 Q2201.37 166.725 2203.63 165.521 L2203.63 169.549 Q2201.34 170.521 2198.94 171.031 Q2196.53 171.54 2194.05 171.54 Q2187.85 171.54 2184.21 167.929 Q2180.6 164.318 2180.6 158.16 Q2180.6 151.795 2184.03 148.068 Q2187.48 144.318 2193.31 144.318 Q2198.54 144.318 2201.57 147.697 Q2204.63 151.054 2204.63 156.841 M2200.37 155.591 Q2200.32 152.096 2198.4 150.012 Q2196.51 147.929 2193.36 147.929 Q2189.79 147.929 2187.64 149.943 Q2185.51 151.957 2185.19 155.614 L2200.37 155.591 Z\" fill=\"#000000\" fill-rule=\"evenodd\" fill-opacity=\"1\" /><path clip-path=\"url(#clip970)\" d=\"M 0 0 M2213.13 136.309 L2213.13 149.156 L2209.19 149.156 L2209.19 136.309 L2213.13 136.309 M2221.88 136.309 L2221.88 149.156 L2217.94 149.156 L2217.94 136.309 L2221.88 136.309 Z\" fill=\"#000000\" fill-rule=\"evenodd\" fill-opacity=\"1\" /><path clip-path=\"url(#clip970)\" d=\"M 0 0 M2236.3 134.85 L2236.3 177.119 L2226.48 177.119 L2226.48 173.808 L2232.01 173.808 L2232.01 138.16 L2226.48 138.16 L2226.48 134.85 L2236.3 134.85 Z\" fill=\"#000000\" fill-rule=\"evenodd\" fill-opacity=\"1\" /><path clip-path=\"url(#clip970)\" d=\"\n",
       "M1647.49 238.261 L1787.24 238.261 L1787.24 189.877 L1647.49 189.877 L1647.49 238.261  Z\n",
       "  \" fill=\"#cd0000\" fill-rule=\"evenodd\" fill-opacity=\"1\"/>\n",
       "<polyline clip-path=\"url(#clip970)\" style=\"stroke:#000000; stroke-width:4; stroke-opacity:1; fill:none\" points=\"\n",
       "  1647.49,238.261 1787.24,238.261 1787.24,189.877 1647.49,189.877 1647.49,238.261 \n",
       "  \"/>\n",
       "<path clip-path=\"url(#clip970)\" d=\"M 0 0 M1810.53 195.33 L1820.35 195.33 L1820.35 198.64 L1814.79 198.64 L1814.79 234.288 L1820.35 234.288 L1820.35 237.599 L1810.53 237.599 L1810.53 195.33 Z\" fill=\"#000000\" fill-rule=\"evenodd\" fill-opacity=\"1\" /><path clip-path=\"url(#clip970)\" d=\"M 0 0 M1828.84 196.789 L1828.84 209.636 L1824.91 209.636 L1824.91 196.789 L1828.84 196.789 M1837.59 196.789 L1837.59 209.636 L1833.66 209.636 L1833.66 196.789 L1837.59 196.789 Z\" fill=\"#000000\" fill-rule=\"evenodd\" fill-opacity=\"1\" /><path clip-path=\"url(#clip970)\" d=\"M 0 0 M1842.25 196.789 L1848.54 196.789 L1863.87 225.701 L1863.87 196.789 L1868.4 196.789 L1868.4 231.349 L1862.11 231.349 L1846.78 202.437 L1846.78 231.349 L1842.25 231.349 L1842.25 196.789 Z\" fill=\"#000000\" fill-rule=\"evenodd\" fill-opacity=\"1\" /><path clip-path=\"url(#clip970)\" d=\"M 0 0 M1882.92 208.409 Q1879.49 208.409 1877.5 211.094 Q1875.51 213.756 1875.51 218.409 Q1875.51 223.062 1877.48 225.747 Q1879.47 228.409 1882.92 228.409 Q1886.32 228.409 1888.31 225.724 Q1890.3 223.038 1890.3 218.409 Q1890.3 213.802 1888.31 211.117 Q1886.32 208.409 1882.92 208.409 M1882.92 204.798 Q1888.47 204.798 1891.65 208.409 Q1894.82 212.02 1894.82 218.409 Q1894.82 224.775 1891.65 228.409 Q1888.47 232.02 1882.92 232.02 Q1877.34 232.02 1874.17 228.409 Q1871.02 224.775 1871.02 218.409 Q1871.02 212.02 1874.17 208.409 Q1877.34 204.798 1882.92 204.798 Z\" fill=\"#000000\" fill-rule=\"evenodd\" fill-opacity=\"1\" /><path clip-path=\"url(#clip970)\" d=\"M 0 0 M1914.31 209.404 Q1913.59 208.988 1912.73 208.802 Q1911.9 208.594 1910.88 208.594 Q1907.27 208.594 1905.33 210.955 Q1903.4 213.293 1903.4 217.691 L1903.4 231.349 L1899.12 231.349 L1899.12 205.423 L1903.4 205.423 L1903.4 209.451 Q1904.75 207.089 1906.9 205.955 Q1909.05 204.798 1912.13 204.798 Q1912.57 204.798 1913.1 204.867 Q1913.64 204.914 1914.28 205.029 L1914.31 209.404 Z\" fill=\"#000000\" fill-rule=\"evenodd\" fill-opacity=\"1\" /><path clip-path=\"url(#clip970)\" d=\"M 0 0 M1938.13 210.4 Q1939.72 207.529 1941.95 206.164 Q1944.17 204.798 1947.18 204.798 Q1951.23 204.798 1953.43 207.645 Q1955.63 210.469 1955.63 215.701 L1955.63 231.349 L1951.34 231.349 L1951.34 215.839 Q1951.34 212.113 1950.02 210.307 Q1948.71 208.502 1946 208.502 Q1942.69 208.502 1940.77 210.701 Q1938.84 212.9 1938.84 216.696 L1938.84 231.349 L1934.56 231.349 L1934.56 215.839 Q1934.56 212.089 1933.24 210.307 Q1931.92 208.502 1929.17 208.502 Q1925.9 208.502 1923.98 210.724 Q1922.06 212.923 1922.06 216.696 L1922.06 231.349 L1917.78 231.349 L1917.78 205.423 L1922.06 205.423 L1922.06 209.451 Q1923.52 207.066 1925.56 205.932 Q1927.59 204.798 1930.4 204.798 Q1933.22 204.798 1935.19 206.233 Q1937.18 207.668 1938.13 210.4 Z\" fill=\"#000000\" fill-rule=\"evenodd\" fill-opacity=\"1\" /><path clip-path=\"url(#clip970)\" d=\"M 0 0 M1971.88 218.316 Q1966.71 218.316 1964.72 219.497 Q1962.73 220.677 1962.73 223.525 Q1962.73 225.793 1964.21 227.136 Q1965.72 228.455 1968.29 228.455 Q1971.83 228.455 1973.96 225.955 Q1976.11 223.432 1976.11 219.265 L1976.11 218.316 L1971.88 218.316 M1980.37 216.557 L1980.37 231.349 L1976.11 231.349 L1976.11 227.413 Q1974.65 229.775 1972.48 230.909 Q1970.3 232.02 1967.15 232.02 Q1963.17 232.02 1960.81 229.798 Q1958.47 227.552 1958.47 223.802 Q1958.47 219.427 1961.39 217.205 Q1964.33 214.983 1970.14 214.983 L1976.11 214.983 L1976.11 214.566 Q1976.11 211.627 1974.17 210.029 Q1972.25 208.409 1968.75 208.409 Q1966.53 208.409 1964.42 208.941 Q1962.32 209.474 1960.37 210.539 L1960.37 206.603 Q1962.71 205.701 1964.91 205.261 Q1967.11 204.798 1969.19 204.798 Q1974.82 204.798 1977.59 207.714 Q1980.37 210.631 1980.37 216.557 Z\" fill=\"#000000\" fill-rule=\"evenodd\" fill-opacity=\"1\" /><path clip-path=\"url(#clip970)\" d=\"M 0 0 M1984.84 195.33 L1989.1 195.33 L1989.1 231.349 L1984.84 231.349 L1984.84 195.33 Z\" fill=\"#000000\" fill-rule=\"evenodd\" fill-opacity=\"1\" /><path clip-path=\"url(#clip970)\" d=\"M 0 0 M1997.59 196.789 L1997.59 209.636 L1993.66 209.636 L1993.66 196.789 L1997.59 196.789 M2006.34 196.789 L2006.34 209.636 L2002.41 209.636 L2002.41 196.789 L2006.34 196.789 Z\" fill=\"#000000\" fill-rule=\"evenodd\" fill-opacity=\"1\" /><path clip-path=\"url(#clip970)\" d=\"M 0 0 M2011.9 225.469 L2016.78 225.469 L2016.78 229.45 L2012.99 236.858 L2010 236.858 L2011.9 229.45 L2011.9 225.469 Z\" fill=\"#000000\" fill-rule=\"evenodd\" fill-opacity=\"1\" /><path clip-path=\"url(#clip970)\" d=\"M 0 0 M2040.35 196.789 L2040.35 209.636 L2036.41 209.636 L2036.41 196.789 L2040.35 196.789 M2049.1 196.789 L2049.1 209.636 L2045.16 209.636 L2045.16 196.789 L2049.1 196.789 Z\" fill=\"#000000\" fill-rule=\"evenodd\" fill-opacity=\"1\" /><path clip-path=\"url(#clip970)\" d=\"M 0 0 M2077.32 226.418 L2077.32 217.136 L2069.68 217.136 L2069.68 213.293 L2081.95 213.293 L2081.95 228.131 Q2079.24 230.052 2075.97 231.048 Q2072.71 232.02 2069.01 232.02 Q2060.9 232.02 2056.32 227.298 Q2051.76 222.552 2051.76 214.103 Q2051.76 205.631 2056.32 200.909 Q2060.9 196.164 2069.01 196.164 Q2072.39 196.164 2075.42 196.997 Q2078.47 197.83 2081.04 199.451 L2081.04 204.427 Q2078.45 202.228 2075.53 201.117 Q2072.62 200.006 2069.4 200.006 Q2063.06 200.006 2059.86 203.548 Q2056.69 207.089 2056.69 214.103 Q2056.69 221.094 2059.86 224.636 Q2063.06 228.177 2069.4 228.177 Q2071.88 228.177 2073.82 227.761 Q2075.76 227.321 2077.32 226.418 Z\" fill=\"#000000\" fill-rule=\"evenodd\" fill-opacity=\"1\" /><path clip-path=\"url(#clip970)\" d=\"M 0 0 M2101.44 209.404 Q2100.72 208.988 2099.86 208.802 Q2099.03 208.594 2098.01 208.594 Q2094.4 208.594 2092.45 210.955 Q2090.53 213.293 2090.53 217.691 L2090.53 231.349 L2086.25 231.349 L2086.25 205.423 L2090.53 205.423 L2090.53 209.451 Q2091.88 207.089 2094.03 205.955 Q2096.18 204.798 2099.26 204.798 Q2099.7 204.798 2100.23 204.867 Q2100.76 204.914 2101.41 205.029 L2101.44 209.404 Z\" fill=\"#000000\" fill-rule=\"evenodd\" fill-opacity=\"1\" /><path clip-path=\"url(#clip970)\" d=\"M 0 0 M2117.69 218.316 Q2112.52 218.316 2110.53 219.497 Q2108.54 220.677 2108.54 223.525 Q2108.54 225.793 2110.02 227.136 Q2111.53 228.455 2114.1 228.455 Q2117.64 228.455 2119.77 225.955 Q2121.92 223.432 2121.92 219.265 L2121.92 218.316 L2117.69 218.316 M2126.18 216.557 L2126.18 231.349 L2121.92 231.349 L2121.92 227.413 Q2120.46 229.775 2118.29 230.909 Q2116.11 232.02 2112.96 232.02 Q2108.98 232.02 2106.62 229.798 Q2104.28 227.552 2104.28 223.802 Q2104.28 219.427 2107.2 217.205 Q2110.14 214.983 2115.95 214.983 L2121.92 214.983 L2121.92 214.566 Q2121.92 211.627 2119.98 210.029 Q2118.06 208.409 2114.56 208.409 Q2112.34 208.409 2110.23 208.941 Q2108.13 209.474 2106.18 210.539 L2106.18 206.603 Q2108.52 205.701 2110.72 205.261 Q2112.92 204.798 2115 204.798 Q2120.63 204.798 2123.4 207.714 Q2126.18 210.631 2126.18 216.557 Z\" fill=\"#000000\" fill-rule=\"evenodd\" fill-opacity=\"1\" /><path clip-path=\"url(#clip970)\" d=\"M 0 0 M2152.2 215.701 L2152.2 231.349 L2147.94 231.349 L2147.94 215.839 Q2147.94 212.159 2146.51 210.33 Q2145.07 208.502 2142.2 208.502 Q2138.75 208.502 2136.76 210.701 Q2134.77 212.9 2134.77 216.696 L2134.77 231.349 L2130.49 231.349 L2130.49 205.423 L2134.77 205.423 L2134.77 209.451 Q2136.3 207.113 2138.36 205.955 Q2140.44 204.798 2143.15 204.798 Q2147.62 204.798 2149.91 207.576 Q2152.2 210.33 2152.2 215.701 Z\" fill=\"#000000\" fill-rule=\"evenodd\" fill-opacity=\"1\" /><path clip-path=\"url(#clip970)\" d=\"M 0 0 M2173.73 209.358 L2173.73 195.33 L2177.99 195.33 L2177.99 231.349 L2173.73 231.349 L2173.73 227.46 Q2172.38 229.775 2170.32 230.909 Q2168.29 232.02 2165.42 232.02 Q2160.72 232.02 2157.76 228.27 Q2154.82 224.52 2154.82 218.409 Q2154.82 212.298 2157.76 208.548 Q2160.72 204.798 2165.42 204.798 Q2168.29 204.798 2170.32 205.932 Q2172.38 207.043 2173.73 209.358 M2159.21 218.409 Q2159.21 223.108 2161.13 225.793 Q2163.08 228.455 2166.46 228.455 Q2169.84 228.455 2171.78 225.793 Q2173.73 223.108 2173.73 218.409 Q2173.73 213.71 2171.78 211.048 Q2169.84 208.363 2166.46 208.363 Q2163.08 208.363 2161.13 211.048 Q2159.21 213.71 2159.21 218.409 Z\" fill=\"#000000\" fill-rule=\"evenodd\" fill-opacity=\"1\" /><path clip-path=\"url(#clip970)\" d=\"M 0 0 M2204.63 217.321 L2204.63 219.404 L2185.05 219.404 Q2185.32 223.802 2187.69 226.117 Q2190.07 228.409 2194.31 228.409 Q2196.76 228.409 2199.05 227.807 Q2201.37 227.205 2203.63 226.001 L2203.63 230.029 Q2201.34 231.001 2198.94 231.511 Q2196.53 232.02 2194.05 232.02 Q2187.85 232.02 2184.21 228.409 Q2180.6 224.798 2180.6 218.64 Q2180.6 212.275 2184.03 208.548 Q2187.48 204.798 2193.31 204.798 Q2198.54 204.798 2201.57 208.177 Q2204.63 211.534 2204.63 217.321 M2200.37 216.071 Q2200.32 212.576 2198.4 210.492 Q2196.51 208.409 2193.36 208.409 Q2189.79 208.409 2187.64 210.423 Q2185.51 212.437 2185.19 216.094 L2200.37 216.071 Z\" fill=\"#000000\" fill-rule=\"evenodd\" fill-opacity=\"1\" /><path clip-path=\"url(#clip970)\" d=\"M 0 0 M2213.13 196.789 L2213.13 209.636 L2209.19 209.636 L2209.19 196.789 L2213.13 196.789 M2221.88 196.789 L2221.88 209.636 L2217.94 209.636 L2217.94 196.789 L2221.88 196.789 Z\" fill=\"#000000\" fill-rule=\"evenodd\" fill-opacity=\"1\" /><path clip-path=\"url(#clip970)\" d=\"M 0 0 M2236.3 195.33 L2236.3 237.599 L2226.48 237.599 L2226.48 234.288 L2232.01 234.288 L2232.01 198.64 L2226.48 198.64 L2226.48 195.33 L2236.3 195.33 Z\" fill=\"#000000\" fill-rule=\"evenodd\" fill-opacity=\"1\" /><line clip-path=\"url(#clip970)\" x1=\"1742.97\" y1=\"274.549\" x2=\"1691.77\" y2=\"274.549\" style=\"stroke:#3da44d; stroke-width:3.2; stroke-opacity:1\"/>\n",
       "<path clip-path=\"url(#clip970)\" d=\"M 0 0 M1810.53 257.269 L1815.21 257.269 L1815.21 271.875 L1830.72 257.269 L1836.74 257.269 L1819.59 273.38 L1837.97 291.829 L1831.81 291.829 L1815.21 275.185 L1815.21 291.829 L1810.53 291.829 L1810.53 257.269 Z\" fill=\"#000000\" fill-rule=\"evenodd\" fill-opacity=\"1\" /><path clip-path=\"url(#clip970)\" d=\"M 0 0 M1853.38 278.796 Q1848.22 278.796 1846.23 279.977 Q1844.24 281.157 1844.24 284.005 Q1844.24 286.273 1845.72 287.616 Q1847.22 288.935 1849.79 288.935 Q1853.34 288.935 1855.47 286.435 Q1857.62 283.912 1857.62 279.745 L1857.62 278.796 L1853.38 278.796 M1861.88 277.037 L1861.88 291.829 L1857.62 291.829 L1857.62 287.893 Q1856.16 290.255 1853.98 291.389 Q1851.81 292.5 1848.66 292.5 Q1844.68 292.5 1842.32 290.278 Q1839.98 288.032 1839.98 284.282 Q1839.98 279.907 1842.9 277.685 Q1845.84 275.463 1851.65 275.463 L1857.62 275.463 L1857.62 275.046 Q1857.62 272.107 1855.67 270.509 Q1853.75 268.889 1850.26 268.889 Q1848.03 268.889 1845.93 269.421 Q1843.82 269.954 1841.88 271.019 L1841.88 267.083 Q1844.22 266.181 1846.41 265.741 Q1848.61 265.278 1850.7 265.278 Q1856.32 265.278 1859.1 268.194 Q1861.88 271.111 1861.88 277.037 Z\" fill=\"#000000\" fill-rule=\"evenodd\" fill-opacity=\"1\" /><path clip-path=\"url(#clip970)\" d=\"M 0 0 M1870.47 287.94 L1870.47 301.69 L1866.18 301.69 L1866.18 265.903 L1870.47 265.903 L1870.47 269.838 Q1871.81 267.523 1873.84 266.412 Q1875.9 265.278 1878.75 265.278 Q1883.47 265.278 1886.41 269.028 Q1889.38 272.778 1889.38 278.889 Q1889.38 285 1886.41 288.75 Q1883.47 292.5 1878.75 292.5 Q1875.9 292.5 1873.84 291.389 Q1871.81 290.255 1870.47 287.94 M1884.96 278.889 Q1884.96 274.19 1883.01 271.528 Q1881.09 268.843 1877.71 268.843 Q1874.33 268.843 1872.39 271.528 Q1870.47 274.19 1870.47 278.889 Q1870.47 283.588 1872.39 286.273 Q1874.33 288.935 1877.71 288.935 Q1881.09 288.935 1883.01 286.273 Q1884.96 283.588 1884.96 278.889 Z\" fill=\"#000000\" fill-rule=\"evenodd\" fill-opacity=\"1\" /><path clip-path=\"url(#clip970)\" d=\"M 0 0 M1905.63 278.796 Q1900.46 278.796 1898.47 279.977 Q1896.48 281.157 1896.48 284.005 Q1896.48 286.273 1897.96 287.616 Q1899.47 288.935 1902.04 288.935 Q1905.58 288.935 1907.71 286.435 Q1909.86 283.912 1909.86 279.745 L1909.86 278.796 L1905.63 278.796 M1914.12 277.037 L1914.12 291.829 L1909.86 291.829 L1909.86 287.893 Q1908.4 290.255 1906.23 291.389 Q1904.05 292.5 1900.9 292.5 Q1896.92 292.5 1894.56 290.278 Q1892.22 288.032 1892.22 284.282 Q1892.22 279.907 1895.14 277.685 Q1898.08 275.463 1903.89 275.463 L1909.86 275.463 L1909.86 275.046 Q1909.86 272.107 1907.92 270.509 Q1906 268.889 1902.5 268.889 Q1900.28 268.889 1898.17 269.421 Q1896.07 269.954 1894.12 271.019 L1894.12 267.083 Q1896.46 266.181 1898.66 265.741 Q1900.86 265.278 1902.94 265.278 Q1908.57 265.278 1911.34 268.194 Q1914.12 271.111 1914.12 277.037 Z\" fill=\"#000000\" fill-rule=\"evenodd\" fill-opacity=\"1\" /><path clip-path=\"url(#clip970)\" d=\"M 0 0 M1916.74 265.903 L1936.97 265.903 L1936.97 269.792 L1920.95 288.426 L1936.97 288.426 L1936.97 291.829 L1916.16 291.829 L1916.16 287.94 L1932.18 269.306 L1916.74 269.306 L1916.74 265.903 Z\" fill=\"#000000\" fill-rule=\"evenodd\" fill-opacity=\"1\" /><path clip-path=\"url(#clip970)\" d=\"M 0 0 M1941.44 265.903 L1945.7 265.903 L1945.7 291.829 L1941.44 291.829 L1941.44 265.903 M1941.44 255.81 L1945.7 255.81 L1945.7 261.204 L1941.44 261.204 L1941.44 255.81 Z\" fill=\"#000000\" fill-rule=\"evenodd\" fill-opacity=\"1\" /><path clip-path=\"url(#clip970)\" d=\"M 0 0 M1954.38 258.542 L1954.38 265.903 L1963.15 265.903 L1963.15 269.213 L1954.38 269.213 L1954.38 283.287 Q1954.38 286.458 1955.23 287.361 Q1956.11 288.264 1958.77 288.264 L1963.15 288.264 L1963.15 291.829 L1958.77 291.829 Q1953.84 291.829 1951.97 290 Q1950.09 288.148 1950.09 283.287 L1950.09 269.213 L1946.97 269.213 L1946.97 265.903 L1950.09 265.903 L1950.09 258.542 L1954.38 258.542 Z\" fill=\"#000000\" fill-rule=\"evenodd\" fill-opacity=\"1\" /><path clip-path=\"url(#clip970)\" d=\"M 0 0 M1979.4 278.796 Q1974.24 278.796 1972.25 279.977 Q1970.26 281.157 1970.26 284.005 Q1970.26 286.273 1971.74 287.616 Q1973.24 288.935 1975.81 288.935 Q1979.35 288.935 1981.48 286.435 Q1983.64 283.912 1983.64 279.745 L1983.64 278.796 L1979.4 278.796 M1987.9 277.037 L1987.9 291.829 L1983.64 291.829 L1983.64 287.893 Q1982.18 290.255 1980 291.389 Q1977.83 292.5 1974.68 292.5 Q1970.7 292.5 1968.33 290.278 Q1966 288.032 1966 284.282 Q1966 279.907 1968.91 277.685 Q1971.85 275.463 1977.66 275.463 L1983.64 275.463 L1983.64 275.046 Q1983.64 272.107 1981.69 270.509 Q1979.77 268.889 1976.27 268.889 Q1974.05 268.889 1971.95 269.421 Q1969.84 269.954 1967.9 271.019 L1967.9 267.083 Q1970.23 266.181 1972.43 265.741 Q1974.63 265.278 1976.71 265.278 Q1982.34 265.278 1985.12 268.194 Q1987.9 271.111 1987.9 277.037 M1979.08 255.903 L1983.77 255.903 L1983.77 260.579 L1979.08 260.579 L1979.08 255.903 M1970.02 255.903 L1974.72 255.903 L1974.72 260.579 L1970.02 260.579 L1970.02 255.903 Z\" fill=\"#000000\" fill-rule=\"evenodd\" fill-opacity=\"1\" /><path clip-path=\"url(#clip970)\" d=\"M 0 0 M1996.58 258.542 L1996.58 265.903 L2005.35 265.903 L2005.35 269.213 L1996.58 269.213 L1996.58 283.287 Q1996.58 286.458 1997.43 287.361 Q1998.31 288.264 2000.97 288.264 L2005.35 288.264 L2005.35 291.829 L2000.97 291.829 Q1996.04 291.829 1994.17 290 Q1992.29 288.148 1992.29 283.287 L1992.29 269.213 L1989.17 269.213 L1989.17 265.903 L1992.29 265.903 L1992.29 258.542 L1996.58 258.542 Z\" fill=\"#000000\" fill-rule=\"evenodd\" fill-opacity=\"1\" /></svg>\n"
      ]
     },
     "execution_count": 18,
     "metadata": {},
     "output_type": "execute_result"
    }
   ],
   "source": [
    "groupedbar(Ressourcen, bardata, bar_position = :stack, label =Produkte,  ylabel = \"Kapazität\", \n",
    "           xlabel =\"Ressourcen\", colour = [:DeepSkyBlue4 :Red3])\n",
    "scatter!(Ressourcen, c, label=\"Kapazität\", marker=(:hline, 80))\n",
    "\n",
    "# Mit den Funktionen von StatsPlots lassen sich anschauliche Grafiken erstellen\n",
    "# Schauen Sie sich die Dokumentation von StatsPlots im Internet an und experimentieren Sie mit Designs"
   ]
  }
 ],
 "metadata": {
  "kernelspec": {
   "display_name": "JuliaPro_v1.5.3-1 1.5.3",
   "language": "julia",
   "name": "juliapro_v1.5.3-1-1.5"
  },
  "language_info": {
   "file_extension": ".jl",
   "mimetype": "application/julia",
   "name": "julia",
   "version": "1.5.3"
  }
 },
 "nbformat": 4,
 "nbformat_minor": 4
}
