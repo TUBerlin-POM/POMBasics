{
 "cells": [
  {
   "cell_type": "markdown",
   "metadata": {
    "slideshow": {
     "slide_type": "slide"
    }
   },
   "source": [
    "## Einrichtung von Julia JuMP\n",
    "---"
   ]
  },
  {
   "cell_type": "markdown",
   "metadata": {
    "slideshow": {
     "slide_type": "fragment"
    }
   },
   "source": [
    "Überprüfen Sie die bereits installierten Pakete. In der JuliaBox sind möglicherweise alle notwendigen Pakete bereits vorhanden."
   ]
  },
  {
   "cell_type": "code",
   "execution_count": 1,
   "metadata": {
    "slideshow": {
     "slide_type": "fragment"
    }
   },
   "outputs": [
    {
     "name": "stdout",
     "output_type": "stream",
     "text": [
      "\u001b[32m\u001b[1mStatus\u001b[22m\u001b[39m `C:\\Users\\krueg\\.julia\\environments\\JuliaPro_v1.5.3-1\\Project.toml`\n",
      " \u001b[90m [c52e3926] \u001b[39m\u001b[37mAtom v0.12.25 ⚲\u001b[39m\n",
      " \u001b[90m [9961bab8] \u001b[39m\u001b[37mCbc v0.7.1\u001b[39m\n",
      " \u001b[90m [e2554f3b] \u001b[39m\u001b[37mClp v0.8.3\u001b[39m\n",
      " \u001b[90m [a93c6f00] \u001b[39m\u001b[37mDataFrames v0.22.1\u001b[39m\n",
      " \u001b[90m [7073ff75] \u001b[39m\u001b[37mIJulia v1.22.0\u001b[39m\n",
      " \u001b[90m [4076af6c] \u001b[39m\u001b[37mJuMP v0.21.5\u001b[39m\n",
      " \u001b[90m [e5e0dc1b] \u001b[39m\u001b[37mJuno v0.8.4 ⚲\u001b[39m\n",
      " \u001b[90m [4722fa14] \u001b[39m\u001b[37mPkgAuthentication v0.3.0\u001b[39m\n",
      " \u001b[90m [f3b207a7] \u001b[39m\u001b[37mStatsPlots v0.14.17\u001b[39m\n",
      " \u001b[90m [44d3d7a6] \u001b[39m\u001b[37mWeave v0.10.6\u001b[39m\n"
     ]
    }
   ],
   "source": [
    "using Pkg;\n",
    "Pkg.status()"
   ]
  },
  {
   "cell_type": "markdown",
   "metadata": {
    "slideshow": {
     "slide_type": "slide"
    }
   },
   "source": [
    "Installieren Sie ``JuMP`` , mit dem Sie einfach Optimierungsprogramme formulieren können, sowie ``Cbc``, einen open-source Solver zum Lösen des Problems, und ``StatsPlots`` zur Visualisierung der Lösung.\n",
    "\n"
   ]
  },
  {
   "cell_type": "code",
   "execution_count": 2,
   "metadata": {
    "slideshow": {
     "slide_type": "fragment"
    }
   },
   "outputs": [],
   "source": [
    "#Pkg.add(\"JuMP\")\n",
    "#Pkg.add(\"Cbc\");\n",
    "#Pkg.add(\"StatsPlots\");"
   ]
  },
  {
   "cell_type": "markdown",
   "metadata": {
    "slideshow": {
     "slide_type": "fragment"
    }
   },
   "source": [
    "Initialisieren Sie die installierten Pakete, damit sie im folgenden Notebook verwendet werden können.\n"
   ]
  },
  {
   "cell_type": "code",
   "execution_count": 3,
   "metadata": {
    "slideshow": {
     "slide_type": "fragment"
    }
   },
   "outputs": [
    {
     "name": "stderr",
     "output_type": "stream",
     "text": [
      "┌ Info: Precompiling StatsPlots [f3b207a7-027a-5e70-b257-86293d7955fd]\n",
      "└ @ Base loading.jl:1278\n"
     ]
    }
   ],
   "source": [
    "using JuMP, Cbc, StatsPlots;"
   ]
  },
  {
   "cell_type": "markdown",
   "metadata": {
    "slideshow": {
     "slide_type": "slide"
    }
   },
   "source": [
    "# Aggregierte Planung\n",
    "\n",
    "### Entscheidungsvariablen:\n",
    "\n",
    "Bestimmung der optimalen **Produktionsmengen, Absatzmengen, Fremdbezugsmengen** und **Lagerbestände** der Produkte, sowie der optimal zu nutzenden **Zusatzkapazität** der Ressourcen je Periode, \n",
    "\n",
    "### Zielfunktion:\n",
    "\n",
    "0) **Deckungsbeitragsmaximierung**: $$  \\qquad \\max db = \\displaystyle\\sum_{i=1}^I \\sum_{t=1}^T (e_iA_{it}-k_i^vX_{it}-k_i^l L_{it}-k_i^fF_{it}) - \\sum_{j=1}^J \\sum_{t=1}^T (k_j^zZ_{jt}) $$\n"
   ]
  },
  {
   "cell_type": "markdown",
   "metadata": {
    "slideshow": {
     "slide_type": "slide"
    }
   },
   "source": [
    "### Nebenbedingungen:\n",
    "\n",
    "1) **Kapazitaetsrestriktion:** $ \\hspace{41mm} \\sum_{i=1}^I(r_{ij}\\cdot X_{it}) \\leq c_j + z_{jt} \\hspace{40mm} \\forall j \\in J, t \\in T $\n",
    "\n",
    "2) **Absatzobergrenze:** $\\hspace{38mm} \\qquad A_{it} \\leq d_{it} \\hspace{69mm} \\forall i \\in I , t \\in T $\n",
    "\n",
    "\n",
    "3) **Absatzuntergrenze:** $ \\hspace{37mm}\\qquad A_{it} \\geq d_{it}^{min} \\hspace{66mm} \\forall i \\in I , t \\in T $\n",
    " \n",
    "4) **Lagerbilanz:** $ \\hspace{61mm} L_{it}=L_{i,t-1}+X_{it}-A_{it}+F_{it} \\hspace{31mm} \\forall i \\in I , t \\in T$\n",
    "\n",
    "5) **Anfangslagerbestand:**   $ \\hspace{43mm} L_{i,0} = l_{start} \\hspace{64mm} \\forall  i \\in I$\n",
    "\n",
    "\n",
    "6) **Max. Zusatzkapazität:** $ \\hspace{44mm} Z_{jt} \\leq z_j^{max}  \\hspace{65mm} \\forall j \\in J, t \\in T $\n",
    "\n",
    "7) **Max. Fremdbezug:** $ \\hspace{49mm} F_{it} \\leq f_i^{max} \\hspace{65mm} \\forall i \\in I, t \\in T $\n",
    "\n",
    "8) **Nichtnegativitätsbedingung:** $ \\hspace{31mm} X_{it}, A_{it}, L_{it}, F_{it} \\geq 0 \\hspace{49mm} \\forall i \\in I, t \\in T$\n",
    "\n",
    "und $\\hspace{81mm} Z_{jt} \\geq 0 \\hspace{71mm}  \\forall j \\in J, t \\in T $ \n",
    "\n",
    "* * *"
   ]
  },
  {
   "cell_type": "markdown",
   "metadata": {
    "slideshow": {
     "slide_type": "slide"
    }
   },
   "source": [
    "## Verwendete Symbole"
   ]
  },
  {
   "cell_type": "markdown",
   "metadata": {
    "slideshow": {
     "slide_type": "fragment"
    }
   },
   "source": [
    "### Mengen\n",
    "\n",
    "$i \\in (1,..,I)\\hspace{20mm} $ Produkte  \n",
    "\n",
    "$j \\in (1,..,J)\\hspace{20mm}$  Ressourcen \n",
    "\n",
    "$t \\in (1,..,T)\\hspace{20mm}$  Zeiten "
   ]
  },
  {
   "cell_type": "markdown",
   "metadata": {
    "slideshow": {
     "slide_type": "fragment"
    }
   },
   "source": [
    "### Variablen\n",
    "\n",
    "$X_{it}$  $\\geq0$      $\\hspace{28mm}$ Produktionsmenge      \n",
    "\n",
    "$A_{it}$  $ \\geq 0 $  $\\hspace{28mm} $ Absatzmenge \n",
    "\n",
    "$L_{it}$  $\\geq0$  $\\hspace{28mm} $ Lagerbestand  \n",
    "\n",
    "$F_{it}$       $ \\geq0$    $\\hspace{28mm} $ Fremdbezug   \n",
    "\n",
    "$Z_{jt}$      $\\geq0$      $\\hspace{27mm} $ Zusatzkapazität  \n"
   ]
  },
  {
   "cell_type": "markdown",
   "metadata": {
    "slideshow": {
     "slide_type": "slide"
    }
   },
   "source": [
    "### Parameter\n",
    "\n",
    "$e_i \\hspace{39mm}$   Erlös    \n",
    "\n",
    "$k_i^v \\hspace{38mm}$ variable Kosten\n",
    "\n",
    "$k_i^l \\hspace{38mm}$ Lagerkostensatz \n",
    "\n",
    "$k_j^z \\hspace{38mm}$ Überstundenkostensatz \n",
    "\n",
    "$k_i^f \\hspace{38mm}$ Fremdbezugskosten \n",
    "\n",
    "$d_{it} \\hspace{38mm}$  Nachfrage  \n",
    "\n",
    "$d_{it}^{min} \\hspace{36mm}$ Absatzuntergrenze  \n",
    "\n",
    "$r_{ij} \\hspace{38mm}$  Produktionskoeffizient \n",
    "\n",
    "$c_j \\hspace{39mm}$  Kapazität  \n",
    "\n",
    "$l_{start} \\hspace{34mm}$  Anfangslagerbestand  \n",
    "\n",
    "$z_j^{max} \\hspace{34mm}$ max. Zusatzkapazität \n",
    "\n",
    "$f_i^{max} \\hspace{33mm}$  max. Fremdbezug\n",
    "\n",
    " * * *\n",
    " "
   ]
  },
  {
   "cell_type": "markdown",
   "metadata": {
    "slideshow": {
     "slide_type": "slide"
    }
   },
   "source": [
    "## Erstellen Sie das Modell namens ``m`` und geben Sie als zu verwendenden Solver Cbc an.\n",
    "---"
   ]
  },
  {
   "cell_type": "code",
   "execution_count": 53,
   "metadata": {
    "slideshow": {
     "slide_type": "fragment"
    }
   },
   "outputs": [],
   "source": [
    "m = Model(Cbc.Optimizer);"
   ]
  },
  {
   "cell_type": "markdown",
   "metadata": {
    "slideshow": {
     "slide_type": "slide"
    }
   },
   "source": [
    "### Mengen und Parameter\n",
    "---"
   ]
  },
  {
   "cell_type": "markdown",
   "metadata": {
    "slideshow": {
     "slide_type": "fragment"
    }
   },
   "source": [
    "Fügen Sie die Mengen ein."
   ]
  },
  {
   "cell_type": "code",
   "execution_count": 54,
   "metadata": {
    "slideshow": {
     "slide_type": "fragment"
    }
   },
   "outputs": [],
   "source": [
    "#Mengen\n",
    "Produkte =   [\"Hell\", \"Dunkel\"];\n",
    "Ressourcen = [\"Herstellen\", \"Abfuellen\"];\n",
    "Perioden =   [\"Mo\", \"Di\", \"Mi\", \"Do\", \"Fr\"];\n",
    "\n",
    "#Längen\n",
    "I = length(Produkte);\n",
    "J = length(Ressourcen);\n",
    "T = length(Perioden);"
   ]
  },
  {
   "cell_type": "markdown",
   "metadata": {
    "slideshow": {
     "slide_type": "slide"
    }
   },
   "source": [
    "Fügen Sie die Parameter ein."
   ]
  },
  {
   "cell_type": "code",
   "execution_count": 55,
   "metadata": {
    "slideshow": {
     "slide_type": "fragment"
    }
   },
   "outputs": [],
   "source": [
    "     #Herstellen, Abfüllen\n",
    "r = [  12           4         #Hell\n",
    "       15           4   ]     #Dunkel\n",
    "\n",
    "#Ressourcenverbrauch von Ressource j durch Produkt i\n",
    "\n",
    "      #Mo, Di, Mi, Do, Fr\n",
    "d = [  70  65  75  80  110    #Hell\n",
    "       55  35  40  65  80 ]   #Dunkel\n",
    "\n",
    "#Nachfrage von Produkt i in Periode t\n",
    " \n",
    "        #Mo, Di, Mi, Do, Fr\n",
    "dmin = [ 30  30  30  30  30    #Hell\n",
    "         20  20  20  20  40 ]; #Dunkel\n",
    "\n",
    "#Absatzuntergrenze von Produkt i in Periode t"
   ]
  },
  {
   "cell_type": "code",
   "execution_count": 56,
   "metadata": {
    "slideshow": {
     "slide_type": "slide"
    }
   },
   "outputs": [],
   "source": [
    "c =  [750, 250];   #Kapazität der Ressource j\n",
    "\n",
    "e =  [3, 3.5];     #Erlös des Produktes\n",
    "\n",
    "kf = [0, 0];       #Fremdbezugskostensatz der Produkte\n",
    "\n",
    "kl = [0.5, 0.5];   #Lagerkostensatz der Produkte\n",
    "\n",
    "kz = [0.25, 0.2];  #Überstundenkostensatz von Ressource j\n",
    "\n",
    "kv = [1, 1.25];    #variable Herstellkosten der Produkte\n",
    "\n",
    "zmax = [300, 300]; #Max. Zusatzkapazität von Ressource j\n",
    "\n",
    "l_start =  [0, 0]; #Anfangslagerbestand der Produkte\n",
    "\n",
    "\n",
    "         #Mo, Di, Mi, Do, Fr\n",
    "fmax =  [  0   0   0   0   0   #Hell         \n",
    "           0   0   0   0   0]; #Dunkel\n",
    "\n",
    "                  #Maximaler Fremdbezug von Produkt i in Periode t"
   ]
  },
  {
   "cell_type": "markdown",
   "metadata": {
    "slideshow": {
     "slide_type": "slide"
    }
   },
   "source": [
    "### Entscheidungsvariablen\n",
    "---\n",
    "Definieren Sie die Entscheidungsvariablen. Achten Sie auf die Definitionsbereiche (Nebenbedingung 6):"
   ]
  },
  {
   "cell_type": "markdown",
   "metadata": {
    "slideshow": {
     "slide_type": "fragment"
    }
   },
   "source": [
    "8) **Nichtnegativitätsbedingung**: Die Entscheidungsvariablen, also die Produktions- und Absatzmengen, Lagerbestände, Fremdbezugsmengen und die in Anspruch genommenen Zusatzkapazitäten dürfen nur positive Werte annehmen, wir setzen deren Nichtnegativität voraus.\n",
    "\n",
    "$ \\qquad X_{it}, A_{it}, L_{it}, F_{it} \\geq 0 \\qquad \\qquad \\forall i \\in I, t \\in T$\n",
    "\n",
    "und $\\qquad \\qquad Z_{jt} \\geq 0 \\qquad \\qquad \\qquad  \\forall j \\in J, t \\in T $ "
   ]
  },
  {
   "cell_type": "code",
   "execution_count": 57,
   "metadata": {
    "slideshow": {
     "slide_type": "fragment"
    }
   },
   "outputs": [],
   "source": [
    "@variables  m begin\n",
    "            X[1:I,1:T]>=0,Int  #Produktionsmenge von Produkt i in Periode t\n",
    "            A[1:I,1:T]>=0,Int  #Absatzmenge von Produkt i in Periode t\n",
    "            F[1:I,1:T]>=0,Int  #Fremdbezugsmenge von Produkt i in Periode t\n",
    "            Z[1:J,1:T]>=0,Int  #Zusatzkapazität von Ressource j in Periode t\n",
    "            L[1:I,0:T]>=0,Int; #Lagerbestand von Produkt i am Periodenende von t\n",
    "            end"
   ]
  },
  {
   "cell_type": "markdown",
   "metadata": {
    "slideshow": {
     "slide_type": "slide"
    }
   },
   "source": [
    "## Zielfunktion\n",
    "\n",
    "0) **Deckungsbeitragsmaximierung:** Der Gesamtdeckungsbeitrag db soll maximiert werden. Dieser berechnet sich hier aus der Summe der einzelnen Produkterlöse abzüglich der variablen Kosten, abzüglich der Lagerkosten, abzüglich der Fremdbezugskosten und wird Zusätzlich noch verringert um die Zusatzkapazitätskosten der Ressourcen.\n",
    "\n",
    "$  \\qquad \\max db = \\displaystyle\\sum_{i=1}^I \\sum_{t=1}^T (e_iA_{it}-k_i^vX_{it}-k_i^l L_{it}-k_i^fF_{it}) - \\sum_{j=1}^J \\sum_{t=1}^T (k_j^zZ_{jt}) $"
   ]
  },
  {
   "cell_type": "code",
   "execution_count": 58,
   "metadata": {
    "scrolled": true,
    "slideshow": {
     "slide_type": "fragment"
    }
   },
   "outputs": [],
   "source": [
    "@objective(m, Max,  sum(e[i] * A[i,t] - kv[i] * X[i,t] - kl[i] * L[i,t] - kf[i] * F[i,t] \n",
    "           for i=1:I for t=1:T) - sum(kz[j] *Z[j,t] for j=1:J for t=1:T));"
   ]
  },
  {
   "cell_type": "markdown",
   "metadata": {
    "slideshow": {
     "slide_type": "slide"
    }
   },
   "source": [
    "## Nebenbedingungen"
   ]
  },
  {
   "cell_type": "markdown",
   "metadata": {
    "slideshow": {
     "slide_type": "fragment"
    }
   },
   "source": [
    "1) **Kapazitätsrestriktion**: Die zur Verfügung stehende Kapazität für die auf den einzelnen Ressourcen mögliche Produktionszeit darf nicht überschritten werden. Die Summe der Gesamtproduktionszeit aller Produkte $ i = 1,...,I $ auf den einzelnen Ressourcen j darf in jeder Periode die jeweils verfügbare Kapazität  $𝑐_j$ ergänzt um die Zusatzkapazität $o_{jt}$  nicht überschreiten.\n",
    "\n",
    "$ \\qquad \\sum_{i=1}^I(r_{ij}\\cdot X_{it}) \\leq c_j + z_{jt} \\qquad \\forall j \\in J, t \\in T $"
   ]
  },
  {
   "cell_type": "code",
   "execution_count": 59,
   "metadata": {
    "slideshow": {
     "slide_type": "fragment"
    }
   },
   "outputs": [],
   "source": [
    "@constraint(m, KapRes[t=1:T,j=1:J], sum(r[i,j] * X[i,t] for i=1:I) <= c[j] + Z[j,t]);"
   ]
  },
  {
   "cell_type": "markdown",
   "metadata": {
    "slideshow": {
     "slide_type": "slide"
    }
   },
   "source": [
    "2) **Absatzobergrenze**: Für die Produkte existieren Absatzober- und untergrenzen basierend auf der Nachfrage. Die abgesetzte Menge der einzelnen Produkte kann diese Absatzobergrenze in keiner Periode überschreiten.\n",
    "\n",
    "$ \\qquad A_{it} \\leq d_{it}^{max} \\qquad \\qquad \\qquad \\qquad \\forall i \\in I , t \\in T $"
   ]
  },
  {
   "cell_type": "code",
   "execution_count": 60,
   "metadata": {
    "slideshow": {
     "slide_type": "fragment"
    }
   },
   "outputs": [],
   "source": [
    "@constraint(m, AbsOb[i=1:I,t=1:T], A[i,t] <= d[i,t]);"
   ]
  },
  {
   "cell_type": "markdown",
   "metadata": {},
   "source": [
    "3) **Absatzuntergrenze**: Für die Produkte existieren Absatzuntergrenzen basierend auf der Nachfrage. Die abgesetzte Menge der einzelnen Produkte kann diese Absatzuntergrenze in keiner Periode unterschreiten.\n",
    "\n",
    "$ \\qquad A_{it} \\geq d_{it}^{min} \\qquad \\qquad \\qquad \\qquad \\forall i \\in I , t \\in T $"
   ]
  },
  {
   "cell_type": "code",
   "execution_count": 61,
   "metadata": {},
   "outputs": [],
   "source": [
    "@constraint(m, AbsUn[i=1:I,t=1:T], A[i,t] >= dmin[i,t]);"
   ]
  },
  {
   "cell_type": "markdown",
   "metadata": {
    "slideshow": {
     "slide_type": "fragment"
    }
   },
   "source": [
    "4) **Lagerbilanz**: Der Lagerbestand eines Produktes am Ende einer Periode berechnet sich aus der Summe der eingelagerten Menge in der Vorperiode, der Produktionsmenge und der Fremdbezugsmenge, abzüglich der abgesetzen Menge des Produktes.\n",
    "\n",
    "$ \\qquad L_{it}=L_{i,t-1}+X_{it}-A_{it}+F_{it} \\qquad \\forall i \\in I , t \\in T$"
   ]
  },
  {
   "cell_type": "code",
   "execution_count": 62,
   "metadata": {
    "slideshow": {
     "slide_type": "fragment"
    }
   },
   "outputs": [],
   "source": [
    "@constraint(m, Lager[i=1:I,t=1:T], L[i,t] == L[i,t-1] + X[i,t] + F[i,t] - A[i,t]);"
   ]
  },
  {
   "cell_type": "markdown",
   "metadata": {},
   "source": [
    "5) **Anfangslagerbestand**: Der Anfangslagerbestand aller Produkte entspricht dem initial gesetzen $l_i$.\n",
    " \n",
    "  $$ \\qquad L_{i,0} = l_{start} \\hspace{40mm} \\forall  i \\in I$$\n"
   ]
  },
  {
   "cell_type": "code",
   "execution_count": 63,
   "metadata": {},
   "outputs": [],
   "source": [
    "@constraint(m, AnfLager[i=1:I], L[i,0] == l_start[i]);"
   ]
  },
  {
   "cell_type": "markdown",
   "metadata": {
    "slideshow": {
     "slide_type": "slide"
    }
   },
   "source": [
    "6) **Max. Zusatzkapazität**: Die eingesetzten Zusatzkapazitäten (Überstunden) für jede Ressource müssen in jeder Periode unter der Obergrenze, der maximalen Zusatzkapazität, bleiben. Die maximale Zusatzkapazität ist für jede Ressource j einzeln gegeben.\n",
    "\n",
    "$ \\qquad Z_{jt} \\leq z_j^{max}  \\qquad \\qquad \\qquad \\qquad \\forall j \\in J, t \\in T $"
   ]
  },
  {
   "cell_type": "code",
   "execution_count": 64,
   "metadata": {
    "slideshow": {
     "slide_type": "fragment"
    }
   },
   "outputs": [],
   "source": [
    "@constraint(m, ZusatzKapa[j=1:J,t=1:T], Z[j,t] <= zmax[j] );"
   ]
  },
  {
   "cell_type": "markdown",
   "metadata": {
    "slideshow": {
     "slide_type": "fragment"
    }
   },
   "source": [
    "7) **Max. Fremdbezug**: Der dazugekaufte Fremdbezug jedes Produktes muss in allen Perioden unter der Obergrenze, dem maximalen Fremdbezug, bleiben. Der maximale Fremdbezug ist für jedes Produkt i einzeln gegeben. \n",
    "\n",
    "$ \\qquad F_{it} \\leq f_i^{max} \\qquad \\qquad \\qquad \\qquad \\forall i \\in I, t \\in T $"
   ]
  },
  {
   "cell_type": "code",
   "execution_count": 65,
   "metadata": {
    "slideshow": {
     "slide_type": "fragment"
    }
   },
   "outputs": [],
   "source": [
    "@constraint(m, FremdB[i=1:I,t=1:T], F[i,t] <= fmax[i,t] );"
   ]
  },
  {
   "cell_type": "markdown",
   "metadata": {
    "slideshow": {
     "slide_type": "slide"
    }
   },
   "source": [
    "## Lösen Sie das Modell.\n",
    "---"
   ]
  },
  {
   "cell_type": "code",
   "execution_count": 66,
   "metadata": {
    "slideshow": {
     "slide_type": "fragment"
    }
   },
   "outputs": [
    {
     "name": "stdout",
     "output_type": "stream",
     "text": [
      "Welcome to the CBC MILP Solver \n",
      "Version: 2.10.3 \n",
      "Build Date: Jan  1 1970 \n",
      "\n",
      "command line - Cbc_C_Interface -solve -quit (default strategy 1)\n",
      "Continuous objective value is 583.5 - 0.00 seconds\n",
      "Cgl0003I 0 fixed, 4 tightened bounds, 0 strengthened rows, 0 substitutions\n",
      "Cgl0004I processed model has 18 rows, 38 columns (38 integer (0 of which binary)) and 66 elements\n",
      "Cbc0012I Integer solution of -581.5 found by DiveCoefficient after 0 iterations and 0 nodes (0.01 seconds)\n",
      "Cbc0012I Integer solution of -582.5 found by DiveCoefficient after 2 iterations and 0 nodes (0.01 seconds)\n",
      "Cbc0031I 2 added rows had average density of 5.5\n",
      "Cbc0013I At root node, 2 cuts changed objective from -583.5 to -582.5 in 3 passes\n",
      "Cbc0014I Cut generator 0 (Probing) - 0 row cuts average 0.0 elements, 3 column cuts (3 active)  in 0.000 seconds - new frequency is 1\n",
      "Cbc0014I Cut generator 1 (Gomory) - 2 row cuts average 5.5 elements, 0 column cuts (0 active)  in 0.000 seconds - new frequency is 1\n",
      "Cbc0014I Cut generator 2 (Knapsack) - 0 row cuts average 0.0 elements, 0 column cuts (0 active)  in 0.000 seconds - new frequency is -100\n",
      "Cbc0014I Cut generator 3 (Clique) - 0 row cuts average 0.0 elements, 0 column cuts (0 active)  in 0.000 seconds - new frequency is -100\n",
      "Cbc0014I Cut generator 4 (MixedIntegerRounding2) - 0 row cuts average 0.0 elements, 0 column cuts (0 active)  in 0.000 seconds - new frequency is -100\n",
      "Cbc0014I Cut generator 5 (FlowCover) - 0 row cuts average 0.0 elements, 0 column cuts (0 active)  in 0.000 seconds - new frequency is -100\n",
      "Cbc0014I Cut generator 6 (TwoMirCuts) - 3 row cuts average 6.7 elements, 0 column cuts (0 active)  in 0.000 seconds - new frequency is -100\n",
      "Cbc0001I Search completed - best objective -582.5, took 2 iterations and 0 nodes (0.02 seconds)\n",
      "Cbc0035I Maximum depth 0, 3 variables fixed on reduced cost\n",
      "Cuts at root node changed objective from -583.5 to -582.5\n",
      "Probing was tried 3 times and created 3 cuts of which 0 were active after adding rounds of cuts (0.000 seconds)\n",
      "Gomory was tried 3 times and created 2 cuts of which 0 were active after adding rounds of cuts (0.000 seconds)\n",
      "Knapsack was tried 3 times and created 0 cuts of which 0 were active after adding rounds of cuts (0.000 seconds)\n",
      "Clique was tried 3 times and created 0 cuts of which 0 were active after adding rounds of cuts (0.000 seconds)\n",
      "MixedIntegerRounding2 was tried 3 times and created 0 cuts of which 0 were active after adding rounds of cuts (0.000 seconds)\n",
      "FlowCover was tried 3 times and created 0 cuts of which 0 were active after adding rounds of cuts (0.000 seconds)\n",
      "TwoMirCuts was tried 3 times and created 3 cuts of which 0 were active after adding rounds of cuts (0.000 seconds)\n",
      "ZeroHalf was tried 1 times and created 0 cuts of which 0 were active after adding rounds of cuts (0.000 seconds)\n",
      "\n",
      "Result - Optimal solution found\n",
      "\n",
      "Objective value:                582.50000000\n",
      "Enumerated nodes:               0\n",
      "Total iterations:               2\n",
      "Time (CPU seconds):             0.02\n",
      "Time (Wallclock seconds):       0.02\n",
      "\n",
      "Total time (CPU seconds):       0.02   (Wallclock seconds):       0.02\n",
      "\n"
     ]
    }
   ],
   "source": [
    "optimize!(m)"
   ]
  },
  {
   "cell_type": "markdown",
   "metadata": {},
   "source": [
    "Lassen Sie sich das Modell anzeigen."
   ]
  },
  {
   "cell_type": "code",
   "execution_count": 67,
   "metadata": {
    "scrolled": true
   },
   "outputs": [
    {
     "data": {
      "text/latex": [
       "$$ \\begin{alignat*}{1}\\max\\quad & 3 A_{1,1} - X_{1,1} - 0.5 L_{1,1} + 3 A_{1,2} - X_{1,2} - 0.5 L_{1,2} + 3 A_{1,3} - X_{1,3} - 0.5 L_{1,3} + 3 A_{1,4} - X_{1,4} - 0.5 L_{1,4} + 3 A_{1,5} - X_{1,5} - 0.5 L_{1,5} + 3.5 A_{2,1} - 1.25 X_{2,1} - 0.5 L_{2,1} + 3.5 A_{2,2} - 1.25 X_{2,2} - 0.5 L_{2,2} + 3.5 A_{2,3} - 1.25 X_{2,3} - 0.5 L_{2,3} + 3.5 A_{2,4} - 1.25 X_{2,4} - 0.5 L_{2,4} + 3.5 A_{2,5} - 1.25 X_{2,5} - 0.5 L_{2,5} - 0.25 Z_{1,1} - 0.25 Z_{1,2} - 0.25 Z_{1,3} - 0.25 Z_{1,4} - 0.25 Z_{1,5} - 0.2 Z_{2,1} - 0.2 Z_{2,2} - 0.2 Z_{2,3} - 0.2 Z_{2,4} - 0.2 Z_{2,5}\\\\\n",
       "\\text{Subject to} \\quad & -X_{1,1} + A_{1,1} - F_{1,1} - L_{1,0} + L_{1,1} = 0.0\\\\\n",
       " & -X_{2,1} + A_{2,1} - F_{2,1} - L_{2,0} + L_{2,1} = 0.0\\\\\n",
       " & -X_{1,2} + A_{1,2} - F_{1,2} - L_{1,1} + L_{1,2} = 0.0\\\\\n",
       " & -X_{2,2} + A_{2,2} - F_{2,2} - L_{2,1} + L_{2,2} = 0.0\\\\\n",
       " & -X_{1,3} + A_{1,3} - F_{1,3} - L_{1,2} + L_{1,3} = 0.0\\\\\n",
       " & -X_{2,3} + A_{2,3} - F_{2,3} - L_{2,2} + L_{2,3} = 0.0\\\\\n",
       " & -X_{1,4} + A_{1,4} - F_{1,4} - L_{1,3} + L_{1,4} = 0.0\\\\\n",
       " & -X_{2,4} + A_{2,4} - F_{2,4} - L_{2,3} + L_{2,4} = 0.0\\\\\n",
       " & -X_{1,5} + A_{1,5} - F_{1,5} - L_{1,4} + L_{1,5} = 0.0\\\\\n",
       " & -X_{2,5} + A_{2,5} - F_{2,5} - L_{2,4} + L_{2,5} = 0.0\\\\\n",
       " & L_{1,0} = 0.0\\\\\n",
       " & L_{2,0} = 0.0\\\\\n",
       " & A_{1,1} \\geq 30.0\\\\\n",
       " & A_{2,1} \\geq 20.0\\\\\n",
       " & A_{1,2} \\geq 30.0\\\\\n",
       " & A_{2,2} \\geq 20.0\\\\\n",
       " & A_{1,3} \\geq 30.0\\\\\n",
       " & A_{2,3} \\geq 20.0\\\\\n",
       " & A_{1,4} \\geq 30.0\\\\\n",
       " & A_{2,4} \\geq 20.0\\\\\n",
       " & A_{1,5} \\geq 30.0\\\\\n",
       " & A_{2,5} \\geq 40.0\\\\\n",
       " & 12 X_{1,1} + 15 X_{2,1} - Z_{1,1} \\leq 750.0\\\\\n",
       " & 12 X_{1,2} + 15 X_{2,2} - Z_{1,2} \\leq 750.0\\\\\n",
       " & 12 X_{1,3} + 15 X_{2,3} - Z_{1,3} \\leq 750.0\\\\\n",
       " & 12 X_{1,4} + 15 X_{2,4} - Z_{1,4} \\leq 750.0\\\\\n",
       " & 12 X_{1,5} + 15 X_{2,5} - Z_{1,5} \\leq 750.0\\\\\n",
       " & 4 X_{1,1} + 4 X_{2,1} - Z_{2,1} \\leq 250.0\\\\\n",
       " & 4 X_{1,2} + 4 X_{2,2} - Z_{2,2} \\leq 250.0\\\\\n",
       " & 4 X_{1,3} + 4 X_{2,3} - Z_{2,3} \\leq 250.0\\\\\n",
       " & 4 X_{1,4} + 4 X_{2,4} - Z_{2,4} \\leq 250.0\\\\\n",
       " & 4 X_{1,5} + 4 X_{2,5} - Z_{2,5} \\leq 250.0\\\\\n",
       " & A_{1,1} \\leq 70.0\\\\\n",
       " & A_{2,1} \\leq 55.0\\\\\n",
       " & A_{1,2} \\leq 65.0\\\\\n",
       " & A_{2,2} \\leq 35.0\\\\\n",
       " & A_{1,3} \\leq 75.0\\\\\n",
       " & A_{2,3} \\leq 40.0\\\\\n",
       " & A_{1,4} \\leq 80.0\\\\\n",
       " & A_{2,4} \\leq 65.0\\\\\n",
       " & A_{1,5} \\leq 110.0\\\\\n",
       " & A_{2,5} \\leq 80.0\\\\\n",
       " & Z_{1,1} \\leq 300.0\\\\\n",
       " & Z_{2,1} \\leq 300.0\\\\\n",
       " & Z_{1,2} \\leq 300.0\\\\\n",
       " & Z_{2,2} \\leq 300.0\\\\\n",
       " & Z_{1,3} \\leq 300.0\\\\\n",
       " & Z_{2,3} \\leq 300.0\\\\\n",
       " & Z_{1,4} \\leq 300.0\\\\\n",
       " & Z_{2,4} \\leq 300.0\\\\\n",
       " & Z_{1,5} \\leq 300.0\\\\\n",
       " & Z_{2,5} \\leq 300.0\\\\\n",
       " & F_{1,1} \\leq 0.0\\\\\n",
       " & F_{2,1} \\leq 0.0\\\\\n",
       " & F_{1,2} \\leq 0.0\\\\\n",
       " & F_{2,2} \\leq 0.0\\\\\n",
       " & F_{1,3} \\leq 0.0\\\\\n",
       " & F_{2,3} \\leq 0.0\\\\\n",
       " & F_{1,4} \\leq 0.0\\\\\n",
       " & F_{2,4} \\leq 0.0\\\\\n",
       " & F_{1,5} \\leq 0.0\\\\\n",
       " & F_{2,5} \\leq 0.0\\\\\n",
       " & X_{1,1} \\geq 0.0\\\\\n",
       " & X_{2,1} \\geq 0.0\\\\\n",
       " & X_{1,2} \\geq 0.0\\\\\n",
       " & X_{2,2} \\geq 0.0\\\\\n",
       " & X_{1,3} \\geq 0.0\\\\\n",
       " & X_{2,3} \\geq 0.0\\\\\n",
       " & X_{1,4} \\geq 0.0\\\\\n",
       " & X_{2,4} \\geq 0.0\\\\\n",
       " & X_{1,5} \\geq 0.0\\\\\n",
       " & X_{2,5} \\geq 0.0\\\\\n",
       " & A_{1,1} \\geq 0.0\\\\\n",
       " & A_{2,1} \\geq 0.0\\\\\n",
       " & A_{1,2} \\geq 0.0\\\\\n",
       " & A_{2,2} \\geq 0.0\\\\\n",
       " & A_{1,3} \\geq 0.0\\\\\n",
       " & A_{2,3} \\geq 0.0\\\\\n",
       " & A_{1,4} \\geq 0.0\\\\\n",
       " & A_{2,4} \\geq 0.0\\\\\n",
       " & A_{1,5} \\geq 0.0\\\\\n",
       " & A_{2,5} \\geq 0.0\\\\\n",
       " & F_{1,1} \\geq 0.0\\\\\n",
       " & F_{2,1} \\geq 0.0\\\\\n",
       " & F_{1,2} \\geq 0.0\\\\\n",
       " & F_{2,2} \\geq 0.0\\\\\n",
       " & F_{1,3} \\geq 0.0\\\\\n",
       " & F_{2,3} \\geq 0.0\\\\\n",
       " & F_{1,4} \\geq 0.0\\\\\n",
       " & F_{2,4} \\geq 0.0\\\\\n",
       " & F_{1,5} \\geq 0.0\\\\\n",
       " & F_{2,5} \\geq 0.0\\\\\n",
       " & Z_{1,1} \\geq 0.0\\\\\n",
       " & Z_{2,1} \\geq 0.0\\\\\n",
       " & Z_{1,2} \\geq 0.0\\\\\n",
       " & Z_{2,2} \\geq 0.0\\\\\n",
       " & Z_{1,3} \\geq 0.0\\\\\n",
       " & Z_{2,3} \\geq 0.0\\\\\n",
       " & Z_{1,4} \\geq 0.0\\\\\n",
       " & Z_{2,4} \\geq 0.0\\\\\n",
       " & Z_{1,5} \\geq 0.0\\\\\n",
       " & Z_{2,5} \\geq 0.0\\\\\n",
       " & L_{1,0} \\geq 0.0\\\\\n",
       " & L_{2,0} \\geq 0.0\\\\\n",
       " & L_{1,1} \\geq 0.0\\\\\n",
       " & L_{2,1} \\geq 0.0\\\\\n",
       " & L_{1,2} \\geq 0.0\\\\\n",
       " & L_{2,2} \\geq 0.0\\\\\n",
       " & L_{1,3} \\geq 0.0\\\\\n",
       " & L_{2,3} \\geq 0.0\\\\\n",
       " & L_{1,4} \\geq 0.0\\\\\n",
       " & L_{2,4} \\geq 0.0\\\\\n",
       " & L_{1,5} \\geq 0.0\\\\\n",
       " & L_{2,5} \\geq 0.0\\\\\n",
       " & X_{1,1} integer\\\\\n",
       " & X_{2,1} integer\\\\\n",
       " & X_{1,2} integer\\\\\n",
       " & X_{2,2} integer\\\\\n",
       " & X_{1,3} integer\\\\\n",
       " & X_{2,3} integer\\\\\n",
       " & X_{1,4} integer\\\\\n",
       " & X_{2,4} integer\\\\\n",
       " & X_{1,5} integer\\\\\n",
       " & X_{2,5} integer\\\\\n",
       " & A_{1,1} integer\\\\\n",
       " & A_{2,1} integer\\\\\n",
       " & A_{1,2} integer\\\\\n",
       " & A_{2,2} integer\\\\\n",
       " & A_{1,3} integer\\\\\n",
       " & A_{2,3} integer\\\\\n",
       " & A_{1,4} integer\\\\\n",
       " & A_{2,4} integer\\\\\n",
       " & A_{1,5} integer\\\\\n",
       " & A_{2,5} integer\\\\\n",
       " & F_{1,1} integer\\\\\n",
       " & F_{2,1} integer\\\\\n",
       " & F_{1,2} integer\\\\\n",
       " & F_{2,2} integer\\\\\n",
       " & F_{1,3} integer\\\\\n",
       " & F_{2,3} integer\\\\\n",
       " & F_{1,4} integer\\\\\n",
       " & F_{2,4} integer\\\\\n",
       " & F_{1,5} integer\\\\\n",
       " & F_{2,5} integer\\\\\n",
       " & Z_{1,1} integer\\\\\n",
       " & Z_{2,1} integer\\\\\n",
       " & Z_{1,2} integer\\\\\n",
       " & Z_{2,2} integer\\\\\n",
       " & Z_{1,3} integer\\\\\n",
       " & Z_{2,3} integer\\\\\n",
       " & Z_{1,4} integer\\\\\n",
       " & Z_{2,4} integer\\\\\n",
       " & Z_{1,5} integer\\\\\n",
       " & Z_{2,5} integer\\\\\n",
       " & L_{1,0} integer\\\\\n",
       " & L_{2,0} integer\\\\\n",
       " & L_{1,1} integer\\\\\n",
       " & L_{2,1} integer\\\\\n",
       " & L_{1,2} integer\\\\\n",
       " & L_{2,2} integer\\\\\n",
       " & L_{1,3} integer\\\\\n",
       " & L_{2,3} integer\\\\\n",
       " & L_{1,4} integer\\\\\n",
       " & L_{2,4} integer\\\\\n",
       " & L_{1,5} integer\\\\\n",
       " & L_{2,5} integer\\\\\n",
       "\\end{alignat*}\n",
       " $$"
      ],
      "text/plain": [
       "A JuMP Model\n",
       "Maximization problem with:\n",
       "Variables: 52\n",
       "Objective function type: GenericAffExpr{Float64,VariableRef}\n",
       "`GenericAffExpr{Float64,VariableRef}`-in-`MathOptInterface.EqualTo{Float64}`: 12 constraints\n",
       "`GenericAffExpr{Float64,VariableRef}`-in-`MathOptInterface.GreaterThan{Float64}`: 10 constraints\n",
       "`GenericAffExpr{Float64,VariableRef}`-in-`MathOptInterface.LessThan{Float64}`: 40 constraints\n",
       "`VariableRef`-in-`MathOptInterface.GreaterThan{Float64}`: 52 constraints\n",
       "`VariableRef`-in-`MathOptInterface.Integer`: 52 constraints\n",
       "Model mode: AUTOMATIC\n",
       "CachingOptimizer state: ATTACHED_OPTIMIZER\n",
       "Solver name: COIN Branch-and-Cut (Cbc)\n",
       "Names registered in the model: A, AbsOb, AbsUn, AnfLager, F, FremdB, KapRes, L, Lager, X, Z, ZusatzKapa"
      ]
     },
     "execution_count": 67,
     "metadata": {},
     "output_type": "execute_result"
    }
   ],
   "source": [
    "m"
   ]
  },
  {
   "cell_type": "markdown",
   "metadata": {
    "slideshow": {
     "slide_type": "fragment"
    }
   },
   "source": [
    "Lassen Sie sich den Zielfunktionswert anzeigen."
   ]
  },
  {
   "cell_type": "code",
   "execution_count": 68,
   "metadata": {
    "slideshow": {
     "slide_type": "fragment"
    }
   },
   "outputs": [
    {
     "name": "stdout",
     "output_type": "stream",
     "text": [
      "Objective value db: 582.5\n"
     ]
    }
   ],
   "source": [
    "println(\"Objective value db: \", JuMP.objective_value(m))"
   ]
  },
  {
   "cell_type": "markdown",
   "metadata": {
    "slideshow": {
     "slide_type": "slide"
    }
   },
   "source": [
    "Lassen Sie sich die Produktionsmengen, die Absatzmengen und die Lagermengen für Produkt \"Hell\" anzeigen."
   ]
  },
  {
   "cell_type": "code",
   "execution_count": 69,
   "metadata": {
    "slideshow": {
     "slide_type": "fragment"
    }
   },
   "outputs": [
    {
     "data": {
      "text/plain": [
       "5×3 Array{Float64,2}:\n",
       " 38.0  38.0  0.0\n",
       " 38.0  38.0  0.0\n",
       " 30.0  30.0  0.0\n",
       " 30.0  30.0  0.0\n",
       " 30.0  30.0  0.0"
      ]
     },
     "execution_count": 69,
     "metadata": {},
     "output_type": "execute_result"
    }
   ],
   "source": [
    "bardataHell = [[JuMP.value(X[1,t]) for t in 1:T ] [JuMP.value(A[1,t]) for t in 1:T] [JuMP.value(L[1,t]) for t in 1:T ]]"
   ]
  },
  {
   "cell_type": "markdown",
   "metadata": {
    "slideshow": {
     "slide_type": "slide"
    }
   },
   "source": [
    "Stellen Sie diese grafisch dar."
   ]
  },
  {
   "cell_type": "code",
   "execution_count": 70,
   "metadata": {
    "slideshow": {
     "slide_type": "fragment"
    }
   },
   "outputs": [
    {
     "data": {
      "image/svg+xml": [
       "<?xml version=\"1.0\" encoding=\"utf-8\"?>\n",
       "<svg xmlns=\"http://www.w3.org/2000/svg\" xmlns:xlink=\"http://www.w3.org/1999/xlink\" width=\"600\" height=\"400\" viewBox=\"0 0 2400 1600\">\n",
       "<defs>\n",
       "  <clipPath id=\"clip610\">\n",
       "    <rect x=\"0\" y=\"0\" width=\"2400\" height=\"1600\"/>\n",
       "  </clipPath>\n",
       "</defs>\n",
       "<path clip-path=\"url(#clip610)\" d=\"\n",
       "M0 1600 L2400 1600 L2400 0 L0 0  Z\n",
       "  \" fill=\"#ffffff\" fill-rule=\"evenodd\" fill-opacity=\"1\"/>\n",
       "<defs>\n",
       "  <clipPath id=\"clip611\">\n",
       "    <rect x=\"480\" y=\"0\" width=\"1681\" height=\"1600\"/>\n",
       "  </clipPath>\n",
       "</defs>\n",
       "<path clip-path=\"url(#clip610)\" d=\"\n",
       "M202.459 1423.18 L2352.76 1423.18 L2352.76 123.472 L202.459 123.472  Z\n",
       "  \" fill=\"#ffffff\" fill-rule=\"evenodd\" fill-opacity=\"1\"/>\n",
       "<defs>\n",
       "  <clipPath id=\"clip612\">\n",
       "    <rect x=\"202\" y=\"123\" width=\"2151\" height=\"1301\"/>\n",
       "  </clipPath>\n",
       "</defs>\n",
       "<polyline clip-path=\"url(#clip612)\" style=\"stroke:#000000; stroke-width:2; stroke-opacity:0.1; fill:none\" points=\"\n",
       "  475.162,1423.18 475.162,123.472 \n",
       "  \"/>\n",
       "<polyline clip-path=\"url(#clip612)\" style=\"stroke:#000000; stroke-width:2; stroke-opacity:0.1; fill:none\" points=\"\n",
       "  876.385,1423.18 876.385,123.472 \n",
       "  \"/>\n",
       "<polyline clip-path=\"url(#clip612)\" style=\"stroke:#000000; stroke-width:2; stroke-opacity:0.1; fill:none\" points=\"\n",
       "  1277.61,1423.18 1277.61,123.472 \n",
       "  \"/>\n",
       "<polyline clip-path=\"url(#clip612)\" style=\"stroke:#000000; stroke-width:2; stroke-opacity:0.1; fill:none\" points=\"\n",
       "  1678.83,1423.18 1678.83,123.472 \n",
       "  \"/>\n",
       "<polyline clip-path=\"url(#clip612)\" style=\"stroke:#000000; stroke-width:2; stroke-opacity:0.1; fill:none\" points=\"\n",
       "  2080.05,1423.18 2080.05,123.472 \n",
       "  \"/>\n",
       "<polyline clip-path=\"url(#clip610)\" style=\"stroke:#000000; stroke-width:4; stroke-opacity:1; fill:none\" points=\"\n",
       "  202.459,1423.18 2352.76,1423.18 \n",
       "  \"/>\n",
       "<polyline clip-path=\"url(#clip610)\" style=\"stroke:#000000; stroke-width:4; stroke-opacity:1; fill:none\" points=\"\n",
       "  475.162,1423.18 475.162,1407.58 \n",
       "  \"/>\n",
       "<polyline clip-path=\"url(#clip610)\" style=\"stroke:#000000; stroke-width:4; stroke-opacity:1; fill:none\" points=\"\n",
       "  876.385,1423.18 876.385,1407.58 \n",
       "  \"/>\n",
       "<polyline clip-path=\"url(#clip610)\" style=\"stroke:#000000; stroke-width:4; stroke-opacity:1; fill:none\" points=\"\n",
       "  1277.61,1423.18 1277.61,1407.58 \n",
       "  \"/>\n",
       "<polyline clip-path=\"url(#clip610)\" style=\"stroke:#000000; stroke-width:4; stroke-opacity:1; fill:none\" points=\"\n",
       "  1678.83,1423.18 1678.83,1407.58 \n",
       "  \"/>\n",
       "<polyline clip-path=\"url(#clip610)\" style=\"stroke:#000000; stroke-width:4; stroke-opacity:1; fill:none\" points=\"\n",
       "  2080.05,1423.18 2080.05,1407.58 \n",
       "  \"/>\n",
       "<path clip-path=\"url(#clip610)\" d=\"M 0 0 M465.544 1479.92 L473.183 1479.92 L473.183 1453.55 L464.873 1455.22 L464.873 1450.96 L473.137 1449.29 L477.812 1449.29 L477.812 1479.92 L485.451 1479.92 L485.451 1483.85 L465.544 1483.85 L465.544 1479.92 Z\" fill=\"#000000\" fill-rule=\"evenodd\" fill-opacity=\"1\" /><path clip-path=\"url(#clip610)\" d=\"M 0 0 M871.038 1479.92 L887.357 1479.92 L887.357 1483.85 L865.413 1483.85 L865.413 1479.92 Q868.075 1477.16 872.658 1472.53 Q877.264 1467.88 878.445 1466.54 Q880.69 1464.01 881.57 1462.28 Q882.473 1460.52 882.473 1458.83 Q882.473 1456.07 880.528 1454.34 Q878.607 1452.6 875.505 1452.6 Q873.306 1452.6 870.852 1453.37 Q868.422 1454.13 865.644 1455.68 L865.644 1450.96 Q868.468 1449.82 870.922 1449.25 Q873.375 1448.67 875.412 1448.67 Q880.783 1448.67 883.977 1451.35 Q887.172 1454.04 887.172 1458.53 Q887.172 1460.66 886.362 1462.58 Q885.574 1464.48 883.468 1467.07 Q882.889 1467.74 879.787 1470.96 Q876.686 1474.15 871.038 1479.92 Z\" fill=\"#000000\" fill-rule=\"evenodd\" fill-opacity=\"1\" /><path clip-path=\"url(#clip610)\" d=\"M 0 0 M1281.86 1465.22 Q1285.21 1465.94 1287.09 1468.2 Q1288.98 1470.47 1288.98 1473.81 Q1288.98 1478.92 1285.47 1481.72 Q1281.95 1484.52 1275.47 1484.52 Q1273.29 1484.52 1270.98 1484.08 Q1268.68 1483.67 1266.23 1482.81 L1266.23 1478.3 Q1268.17 1479.43 1270.49 1480.01 Q1272.8 1480.59 1275.33 1480.59 Q1279.73 1480.59 1282.02 1478.85 Q1284.33 1477.12 1284.33 1473.81 Q1284.33 1470.75 1282.18 1469.04 Q1280.05 1467.3 1276.23 1467.3 L1272.2 1467.3 L1272.2 1463.46 L1276.42 1463.46 Q1279.86 1463.46 1281.69 1462.09 Q1283.52 1460.7 1283.52 1458.11 Q1283.52 1455.45 1281.62 1454.04 Q1279.75 1452.6 1276.23 1452.6 Q1274.31 1452.6 1272.11 1453.02 Q1269.91 1453.44 1267.27 1454.31 L1267.27 1450.15 Q1269.93 1449.41 1272.25 1449.04 Q1274.59 1448.67 1276.65 1448.67 Q1281.97 1448.67 1285.07 1451.1 Q1288.17 1453.5 1288.17 1457.63 Q1288.17 1460.5 1286.53 1462.49 Q1284.89 1464.45 1281.86 1465.22 Z\" fill=\"#000000\" fill-rule=\"evenodd\" fill-opacity=\"1\" /><path clip-path=\"url(#clip610)\" d=\"M 0 0 M1681.84 1453.37 L1670.03 1471.81 L1681.84 1471.81 L1681.84 1453.37 M1680.61 1449.29 L1686.49 1449.29 L1686.49 1471.81 L1691.42 1471.81 L1691.42 1475.7 L1686.49 1475.7 L1686.49 1483.85 L1681.84 1483.85 L1681.84 1475.7 L1666.24 1475.7 L1666.24 1471.19 L1680.61 1449.29 Z\" fill=\"#000000\" fill-rule=\"evenodd\" fill-opacity=\"1\" /><path clip-path=\"url(#clip610)\" d=\"M 0 0 M2070.33 1449.29 L2088.69 1449.29 L2088.69 1453.23 L2074.61 1453.23 L2074.61 1461.7 Q2075.63 1461.35 2076.65 1461.19 Q2077.67 1461 2078.69 1461 Q2084.47 1461 2087.85 1464.18 Q2091.23 1467.35 2091.23 1472.76 Q2091.23 1478.34 2087.76 1481.44 Q2084.29 1484.52 2077.97 1484.52 Q2075.79 1484.52 2073.53 1484.15 Q2071.28 1483.78 2068.87 1483.04 L2068.87 1478.34 Q2070.96 1479.48 2073.18 1480.03 Q2075.4 1480.59 2077.88 1480.59 Q2081.88 1480.59 2084.22 1478.48 Q2086.56 1476.38 2086.56 1472.76 Q2086.56 1469.15 2084.22 1467.05 Q2081.88 1464.94 2077.88 1464.94 Q2076 1464.94 2074.13 1465.36 Q2072.28 1465.77 2070.33 1466.65 L2070.33 1449.29 Z\" fill=\"#000000\" fill-rule=\"evenodd\" fill-opacity=\"1\" /><path clip-path=\"url(#clip610)\" d=\"M 0 0 M1177.94 1513.81 L1177.94 1531.66 L1186.02 1531.66 Q1190.51 1531.66 1192.96 1529.34 Q1195.41 1527.02 1195.41 1522.72 Q1195.41 1518.45 1192.96 1516.13 Q1190.51 1513.81 1186.02 1513.81 L1177.94 1513.81 M1171.51 1508.52 L1186.02 1508.52 Q1194.01 1508.52 1198.08 1512.15 Q1202.19 1515.75 1202.19 1522.72 Q1202.19 1529.75 1198.08 1533.35 Q1194.01 1536.95 1186.02 1536.95 L1177.94 1536.95 L1177.94 1556.04 L1171.51 1556.04 L1171.51 1508.52 Z\" fill=\"#000000\" fill-rule=\"evenodd\" fill-opacity=\"1\" /><path clip-path=\"url(#clip610)\" d=\"M 0 0 M1236.5 1536.76 L1236.5 1539.62 L1209.57 1539.62 Q1209.96 1545.67 1213.2 1548.85 Q1216.48 1552 1222.31 1552 Q1225.68 1552 1228.83 1551.17 Q1232.01 1550.35 1235.13 1548.69 L1235.13 1554.23 Q1231.98 1555.57 1228.67 1556.27 Q1225.36 1556.97 1221.96 1556.97 Q1213.43 1556.97 1208.43 1552 Q1203.46 1547.04 1203.46 1538.57 Q1203.46 1529.82 1208.17 1524.69 Q1212.92 1519.54 1220.94 1519.54 Q1228.13 1519.54 1232.3 1524.18 Q1236.5 1528.8 1236.5 1536.76 M1230.64 1535.04 Q1230.58 1530.23 1227.94 1527.37 Q1225.33 1524.5 1221 1524.5 Q1216.1 1524.5 1213.14 1527.27 Q1210.21 1530.04 1209.76 1535.07 L1230.64 1535.04 Z\" fill=\"#000000\" fill-rule=\"evenodd\" fill-opacity=\"1\" /><path clip-path=\"url(#clip610)\" d=\"M 0 0 M1263.3 1525.87 Q1262.31 1525.3 1261.14 1525.04 Q1259.99 1524.76 1258.59 1524.76 Q1253.62 1524.76 1250.95 1528 Q1248.31 1531.22 1248.31 1537.27 L1248.31 1556.04 L1242.42 1556.04 L1242.42 1520.4 L1248.31 1520.4 L1248.31 1525.93 Q1250.16 1522.69 1253.12 1521.13 Q1256.08 1519.54 1260.31 1519.54 Q1260.91 1519.54 1261.65 1519.63 Q1262.38 1519.7 1263.27 1519.85 L1263.3 1525.87 Z\" fill=\"#000000\" fill-rule=\"evenodd\" fill-opacity=\"1\" /><path clip-path=\"url(#clip610)\" d=\"M 0 0 M1269.44 1520.4 L1275.3 1520.4 L1275.3 1556.04 L1269.44 1556.04 L1269.44 1520.4 M1269.44 1506.52 L1275.3 1506.52 L1275.3 1513.93 L1269.44 1513.93 L1269.44 1506.52 Z\" fill=\"#000000\" fill-rule=\"evenodd\" fill-opacity=\"1\" /><path clip-path=\"url(#clip610)\" d=\"M 0 0 M1295.26 1524.5 Q1290.55 1524.5 1287.81 1528.19 Q1285.07 1531.85 1285.07 1538.25 Q1285.07 1544.65 1287.78 1548.34 Q1290.51 1552 1295.26 1552 Q1299.94 1552 1302.67 1548.31 Q1305.41 1544.62 1305.41 1538.25 Q1305.41 1531.92 1302.67 1528.23 Q1299.94 1524.5 1295.26 1524.5 M1295.26 1519.54 Q1302.9 1519.54 1307.26 1524.5 Q1311.62 1529.47 1311.62 1538.25 Q1311.62 1547 1307.26 1552 Q1302.9 1556.97 1295.26 1556.97 Q1287.59 1556.97 1283.23 1552 Q1278.9 1547 1278.9 1538.25 Q1278.9 1529.47 1283.23 1524.5 Q1287.59 1519.54 1295.26 1519.54 Z\" fill=\"#000000\" fill-rule=\"evenodd\" fill-opacity=\"1\" /><path clip-path=\"url(#clip610)\" d=\"M 0 0 M1341.22 1525.81 L1341.22 1506.52 L1347.07 1506.52 L1347.07 1556.04 L1341.22 1556.04 L1341.22 1550.7 Q1339.37 1553.88 1336.54 1555.44 Q1333.74 1556.97 1329.79 1556.97 Q1323.33 1556.97 1319.26 1551.81 Q1315.21 1546.65 1315.21 1538.25 Q1315.21 1529.85 1319.26 1524.69 Q1323.33 1519.54 1329.79 1519.54 Q1333.74 1519.54 1336.54 1521.1 Q1339.37 1522.62 1341.22 1525.81 M1321.26 1538.25 Q1321.26 1544.71 1323.9 1548.4 Q1326.58 1552.07 1331.22 1552.07 Q1335.87 1552.07 1338.54 1548.4 Q1341.22 1544.71 1341.22 1538.25 Q1341.22 1531.79 1338.54 1528.13 Q1335.87 1524.44 1331.22 1524.44 Q1326.58 1524.44 1323.9 1528.13 Q1321.26 1531.79 1321.26 1538.25 Z\" fill=\"#000000\" fill-rule=\"evenodd\" fill-opacity=\"1\" /><path clip-path=\"url(#clip610)\" d=\"M 0 0 M1383.71 1536.76 L1383.71 1539.62 L1356.78 1539.62 Q1357.16 1545.67 1360.41 1548.85 Q1363.69 1552 1369.51 1552 Q1372.89 1552 1376.04 1551.17 Q1379.22 1550.35 1382.34 1548.69 L1382.34 1554.23 Q1379.19 1555.57 1375.88 1556.27 Q1372.57 1556.97 1369.16 1556.97 Q1360.63 1556.97 1355.64 1552 Q1350.67 1547.04 1350.67 1538.57 Q1350.67 1529.82 1355.38 1524.69 Q1360.12 1519.54 1368.14 1519.54 Q1375.34 1519.54 1379.51 1524.18 Q1383.71 1528.8 1383.71 1536.76 M1377.85 1535.04 Q1377.79 1530.23 1375.15 1527.37 Q1372.54 1524.5 1368.21 1524.5 Q1363.31 1524.5 1360.35 1527.27 Q1357.42 1530.04 1356.97 1535.07 L1377.85 1535.04 Z\" fill=\"#000000\" fill-rule=\"evenodd\" fill-opacity=\"1\" /><polyline clip-path=\"url(#clip612)\" style=\"stroke:#000000; stroke-width:2; stroke-opacity:0.1; fill:none\" points=\"\n",
       "  202.459,1423.18 2352.76,1423.18 \n",
       "  \"/>\n",
       "<polyline clip-path=\"url(#clip612)\" style=\"stroke:#000000; stroke-width:2; stroke-opacity:0.1; fill:none\" points=\"\n",
       "  202.459,1134.36 2352.76,1134.36 \n",
       "  \"/>\n",
       "<polyline clip-path=\"url(#clip612)\" style=\"stroke:#000000; stroke-width:2; stroke-opacity:0.1; fill:none\" points=\"\n",
       "  202.459,845.532 2352.76,845.532 \n",
       "  \"/>\n",
       "<polyline clip-path=\"url(#clip612)\" style=\"stroke:#000000; stroke-width:2; stroke-opacity:0.1; fill:none\" points=\"\n",
       "  202.459,556.708 2352.76,556.708 \n",
       "  \"/>\n",
       "<polyline clip-path=\"url(#clip612)\" style=\"stroke:#000000; stroke-width:2; stroke-opacity:0.1; fill:none\" points=\"\n",
       "  202.459,267.884 2352.76,267.884 \n",
       "  \"/>\n",
       "<polyline clip-path=\"url(#clip610)\" style=\"stroke:#000000; stroke-width:4; stroke-opacity:1; fill:none\" points=\"\n",
       "  202.459,1423.18 202.459,123.472 \n",
       "  \"/>\n",
       "<polyline clip-path=\"url(#clip610)\" style=\"stroke:#000000; stroke-width:4; stroke-opacity:1; fill:none\" points=\"\n",
       "  202.459,1423.18 228.263,1423.18 \n",
       "  \"/>\n",
       "<polyline clip-path=\"url(#clip610)\" style=\"stroke:#000000; stroke-width:4; stroke-opacity:1; fill:none\" points=\"\n",
       "  202.459,1134.36 228.263,1134.36 \n",
       "  \"/>\n",
       "<polyline clip-path=\"url(#clip610)\" style=\"stroke:#000000; stroke-width:4; stroke-opacity:1; fill:none\" points=\"\n",
       "  202.459,845.532 228.263,845.532 \n",
       "  \"/>\n",
       "<polyline clip-path=\"url(#clip610)\" style=\"stroke:#000000; stroke-width:4; stroke-opacity:1; fill:none\" points=\"\n",
       "  202.459,556.708 228.263,556.708 \n",
       "  \"/>\n",
       "<polyline clip-path=\"url(#clip610)\" style=\"stroke:#000000; stroke-width:4; stroke-opacity:1; fill:none\" points=\"\n",
       "  202.459,267.884 228.263,267.884 \n",
       "  \"/>\n",
       "<path clip-path=\"url(#clip610)\" d=\"M 0 0 M154.515 1408.98 Q150.903 1408.98 149.075 1412.54 Q147.269 1416.08 147.269 1423.21 Q147.269 1430.32 149.075 1433.89 Q150.903 1437.43 154.515 1437.43 Q158.149 1437.43 159.954 1433.89 Q161.783 1430.32 161.783 1423.21 Q161.783 1416.08 159.954 1412.54 Q158.149 1408.98 154.515 1408.98 M154.515 1405.27 Q160.325 1405.27 163.38 1409.88 Q166.459 1414.46 166.459 1423.21 Q166.459 1431.94 163.38 1436.55 Q160.325 1441.13 154.515 1441.13 Q148.704 1441.13 145.626 1436.55 Q142.57 1431.94 142.57 1423.21 Q142.57 1414.46 145.626 1409.88 Q148.704 1405.27 154.515 1405.27 Z\" fill=\"#000000\" fill-rule=\"evenodd\" fill-opacity=\"1\" /><path clip-path=\"url(#clip610)\" d=\"M 0 0 M119.538 1147.7 L127.177 1147.7 L127.177 1121.34 L118.867 1123 L118.867 1118.74 L127.13 1117.08 L131.806 1117.08 L131.806 1147.7 L139.445 1147.7 L139.445 1151.64 L119.538 1151.64 L119.538 1147.7 Z\" fill=\"#000000\" fill-rule=\"evenodd\" fill-opacity=\"1\" /><path clip-path=\"url(#clip610)\" d=\"M 0 0 M154.515 1120.15 Q150.903 1120.15 149.075 1123.72 Q147.269 1127.26 147.269 1134.39 Q147.269 1141.5 149.075 1145.06 Q150.903 1148.6 154.515 1148.6 Q158.149 1148.6 159.954 1145.06 Q161.783 1141.5 161.783 1134.39 Q161.783 1127.26 159.954 1123.72 Q158.149 1120.15 154.515 1120.15 M154.515 1116.45 Q160.325 1116.45 163.38 1121.06 Q166.459 1125.64 166.459 1134.39 Q166.459 1143.12 163.38 1147.72 Q160.325 1152.31 154.515 1152.31 Q148.704 1152.31 145.626 1147.72 Q142.57 1143.12 142.57 1134.39 Q142.57 1125.64 145.626 1121.06 Q148.704 1116.45 154.515 1116.45 Z\" fill=\"#000000\" fill-rule=\"evenodd\" fill-opacity=\"1\" /><path clip-path=\"url(#clip610)\" d=\"M 0 0 M123.126 858.877 L139.445 858.877 L139.445 862.812 L117.501 862.812 L117.501 858.877 Q120.163 856.122 124.746 851.493 Q129.353 846.84 130.533 845.497 Q132.779 842.974 133.658 841.238 Q134.561 839.479 134.561 837.789 Q134.561 835.034 132.617 833.298 Q130.695 831.562 127.593 831.562 Q125.394 831.562 122.941 832.326 Q120.51 833.09 117.732 834.641 L117.732 829.919 Q120.556 828.784 123.01 828.206 Q125.464 827.627 127.501 827.627 Q132.871 827.627 136.066 830.312 Q139.26 832.997 139.26 837.488 Q139.26 839.618 138.45 841.539 Q137.663 843.437 135.556 846.03 Q134.978 846.701 131.876 849.919 Q128.774 853.113 123.126 858.877 Z\" fill=\"#000000\" fill-rule=\"evenodd\" fill-opacity=\"1\" /><path clip-path=\"url(#clip610)\" d=\"M 0 0 M154.515 831.331 Q150.903 831.331 149.075 834.895 Q147.269 838.437 147.269 845.567 Q147.269 852.673 149.075 856.238 Q150.903 859.78 154.515 859.78 Q158.149 859.78 159.954 856.238 Q161.783 852.673 161.783 845.567 Q161.783 838.437 159.954 834.895 Q158.149 831.331 154.515 831.331 M154.515 827.627 Q160.325 827.627 163.38 832.233 Q166.459 836.817 166.459 845.567 Q166.459 854.293 163.38 858.9 Q160.325 863.483 154.515 863.483 Q148.704 863.483 145.626 858.9 Q142.57 854.293 142.57 845.567 Q142.57 836.817 145.626 832.233 Q148.704 827.627 154.515 827.627 Z\" fill=\"#000000\" fill-rule=\"evenodd\" fill-opacity=\"1\" /><path clip-path=\"url(#clip610)\" d=\"M 0 0 M132.316 555.354 Q135.672 556.071 137.547 558.34 Q139.445 560.608 139.445 563.942 Q139.445 569.058 135.927 571.858 Q132.408 574.659 125.927 574.659 Q123.751 574.659 121.436 574.22 Q119.144 573.803 116.691 572.946 L116.691 568.433 Q118.635 569.567 120.95 570.145 Q123.265 570.724 125.788 570.724 Q130.186 570.724 132.478 568.988 Q134.792 567.252 134.792 563.942 Q134.792 560.886 132.64 559.173 Q130.51 557.437 126.691 557.437 L122.663 557.437 L122.663 553.595 L126.876 553.595 Q130.325 553.595 132.154 552.229 Q133.982 550.84 133.982 548.247 Q133.982 545.585 132.084 544.173 Q130.209 542.738 126.691 542.738 Q124.769 542.738 122.57 543.155 Q120.371 543.572 117.732 544.451 L117.732 540.285 Q120.394 539.544 122.709 539.173 Q125.047 538.803 127.107 538.803 Q132.431 538.803 135.533 541.234 Q138.635 543.641 138.635 547.761 Q138.635 550.632 136.992 552.622 Q135.348 554.59 132.316 555.354 Z\" fill=\"#000000\" fill-rule=\"evenodd\" fill-opacity=\"1\" /><path clip-path=\"url(#clip610)\" d=\"M 0 0 M154.515 542.507 Q150.903 542.507 149.075 546.072 Q147.269 549.613 147.269 556.743 Q147.269 563.849 149.075 567.414 Q150.903 570.956 154.515 570.956 Q158.149 570.956 159.954 567.414 Q161.783 563.849 161.783 556.743 Q161.783 549.613 159.954 546.072 Q158.149 542.507 154.515 542.507 M154.515 538.803 Q160.325 538.803 163.38 543.409 Q166.459 547.993 166.459 556.743 Q166.459 565.47 163.38 570.076 Q160.325 574.659 154.515 574.659 Q148.704 574.659 145.626 570.076 Q142.57 565.47 142.57 556.743 Q142.57 547.993 145.626 543.409 Q148.704 538.803 154.515 538.803 Z\" fill=\"#000000\" fill-rule=\"evenodd\" fill-opacity=\"1\" /><path clip-path=\"url(#clip610)\" d=\"M 0 0 M129.862 254.678 L118.056 273.127 L129.862 273.127 L129.862 254.678 M128.635 250.604 L134.515 250.604 L134.515 273.127 L139.445 273.127 L139.445 277.016 L134.515 277.016 L134.515 285.164 L129.862 285.164 L129.862 277.016 L114.26 277.016 L114.26 272.502 L128.635 250.604 Z\" fill=\"#000000\" fill-rule=\"evenodd\" fill-opacity=\"1\" /><path clip-path=\"url(#clip610)\" d=\"M 0 0 M154.515 253.683 Q150.903 253.683 149.075 257.248 Q147.269 260.789 147.269 267.919 Q147.269 275.025 149.075 278.59 Q150.903 282.132 154.515 282.132 Q158.149 282.132 159.954 278.59 Q161.783 275.025 161.783 267.919 Q161.783 260.789 159.954 257.248 Q158.149 253.683 154.515 253.683 M154.515 249.979 Q160.325 249.979 163.38 254.586 Q166.459 259.169 166.459 267.919 Q166.459 276.646 163.38 281.252 Q160.325 285.835 154.515 285.835 Q148.704 285.835 145.626 281.252 Q142.57 276.646 142.57 267.919 Q142.57 259.169 145.626 254.586 Q148.704 249.979 154.515 249.979 Z\" fill=\"#000000\" fill-rule=\"evenodd\" fill-opacity=\"1\" /><path clip-path=\"url(#clip610)\" d=\"M 0 0 M40.4842 867.316 L40.4842 857.735 L72.8219 845.609 L40.4842 833.418 L40.4842 823.838 L88.0042 823.838 L88.0042 830.108 L46.277 830.108 L78.8694 842.362 L78.8694 848.823 L46.277 861.077 L88.0042 861.077 L88.0042 867.316 L40.4842 867.316 Z\" fill=\"#000000\" fill-rule=\"evenodd\" fill-opacity=\"1\" /><path clip-path=\"url(#clip610)\" d=\"M 0 0 M68.7161 787.203 L71.5806 787.203 L71.5806 814.13 Q77.6281 813.748 80.8109 810.502 Q83.9619 807.223 83.9619 801.399 Q83.9619 798.025 83.1344 794.874 Q82.3069 791.691 80.6518 788.572 L86.1899 788.572 Q87.5267 791.723 88.227 795.033 Q88.9272 798.343 88.9272 801.749 Q88.9272 810.279 83.9619 815.276 Q78.9967 820.241 70.5303 820.241 Q61.7774 820.241 56.6531 815.531 Q51.4968 810.788 51.4968 802.767 Q51.4968 795.574 56.1438 791.405 Q60.7589 787.203 68.7161 787.203 M66.9973 793.06 Q62.1912 793.123 59.3266 795.765 Q56.4621 798.375 56.4621 802.704 Q56.4621 807.605 59.2312 810.565 Q62.0002 813.494 67.0292 813.939 L66.9973 793.06 Z\" fill=\"#000000\" fill-rule=\"evenodd\" fill-opacity=\"1\" /><path clip-path=\"url(#clip610)\" d=\"M 0 0 M66.4881 751.428 L88.0042 751.428 L88.0042 757.284 L66.679 757.284 Q61.6183 757.284 59.1038 759.258 Q56.5894 761.231 56.5894 765.178 Q56.5894 769.92 59.6131 772.658 Q62.6368 775.395 67.8567 775.395 L88.0042 775.395 L88.0042 781.283 L52.3562 781.283 L52.3562 775.395 L57.8944 775.395 Q54.6797 773.294 53.0883 770.461 Q51.4968 767.597 51.4968 763.873 Q51.4968 757.73 55.3163 754.579 Q59.1038 751.428 66.4881 751.428 Z\" fill=\"#000000\" fill-rule=\"evenodd\" fill-opacity=\"1\" /><path clip-path=\"url(#clip610)\" d=\"M 0 0 M69.7664 721.827 Q63.4007 721.827 59.8996 724.469 Q56.3984 727.079 56.3984 731.822 Q56.3984 736.532 59.8996 739.174 Q63.4007 741.784 69.7664 741.784 Q76.1003 741.784 79.6014 739.174 Q83.1026 736.532 83.1026 731.822 Q83.1026 727.079 79.6014 724.469 Q76.1003 721.827 69.7664 721.827 M83.58 715.971 Q92.683 715.971 97.1071 720.013 Q101.563 724.055 101.563 732.394 Q101.563 735.482 101.086 738.219 Q100.64 740.956 99.6852 743.534 L93.9879 743.534 Q95.3884 740.956 96.0568 738.442 Q96.7252 735.927 96.7252 733.318 Q96.7252 727.557 93.7015 724.692 Q90.7096 721.827 84.6303 721.827 L81.7339 721.827 Q84.885 723.642 86.4446 726.474 Q88.0042 729.307 88.0042 733.254 Q88.0042 739.811 83.0071 743.821 Q78.01 747.831 69.7664 747.831 Q61.491 747.831 56.4939 743.821 Q51.4968 739.811 51.4968 733.254 Q51.4968 729.307 53.0564 726.474 Q54.616 723.642 57.7671 721.827 L52.3562 721.827 L52.3562 715.971 L83.58 715.971 Z\" fill=\"#000000\" fill-rule=\"evenodd\" fill-opacity=\"1\" /><path clip-path=\"url(#clip610)\" d=\"M 0 0 M68.7161 679.336 L71.5806 679.336 L71.5806 706.263 Q77.6281 705.881 80.8109 702.635 Q83.9619 699.356 83.9619 693.532 Q83.9619 690.158 83.1344 687.007 Q82.3069 683.824 80.6518 680.705 L86.1899 680.705 Q87.5267 683.856 88.227 687.166 Q88.9272 690.476 88.9272 693.882 Q88.9272 702.412 83.9619 707.409 Q78.9967 712.374 70.5303 712.374 Q61.7774 712.374 56.6531 707.664 Q51.4968 702.921 51.4968 694.9 Q51.4968 687.707 56.1438 683.538 Q60.7589 679.336 68.7161 679.336 M66.9973 685.193 Q62.1912 685.256 59.3266 687.898 Q56.4621 690.508 56.4621 694.837 Q56.4621 699.738 59.2312 702.698 Q62.0002 705.627 67.0292 706.072 L66.9973 685.193 Z\" fill=\"#000000\" fill-rule=\"evenodd\" fill-opacity=\"1\" /><path clip-path=\"url(#clip610)\" d=\"M 0 0 M1064.59 18.8205 L1064.59 41.5461 L1074.88 41.5461 Q1080.59 41.5461 1083.71 38.5889 Q1086.83 35.6318 1086.83 30.163 Q1086.83 24.7348 1083.71 21.7777 Q1080.59 18.8205 1074.88 18.8205 L1064.59 18.8205 M1056.41 12.096 L1074.88 12.096 Q1085.05 12.096 1090.23 16.714 Q1095.46 21.2916 1095.46 30.163 Q1095.46 39.1155 1090.23 43.6931 Q1085.05 48.2706 1074.88 48.2706 L1064.59 48.2706 L1064.59 72.576 L1056.41 72.576 L1056.41 12.096 Z\" fill=\"#000000\" fill-rule=\"evenodd\" fill-opacity=\"1\" /><path clip-path=\"url(#clip610)\" d=\"M 0 0 M1128.11 34.1734 Q1126.85 33.4443 1125.35 33.1202 Q1123.9 32.7556 1122.11 32.7556 Q1115.79 32.7556 1112.39 36.8875 Q1109.03 40.9789 1109.03 48.6757 L1109.03 72.576 L1101.53 72.576 L1101.53 27.2059 L1109.03 27.2059 L1109.03 34.2544 Q1111.38 30.1225 1115.15 28.1376 Q1118.91 26.1121 1124.3 26.1121 Q1125.07 26.1121 1126 26.2337 Q1126.93 26.3147 1128.07 26.5172 L1128.11 34.1734 Z\" fill=\"#000000\" fill-rule=\"evenodd\" fill-opacity=\"1\" /><path clip-path=\"url(#clip610)\" d=\"M 0 0 M1151.69 32.4315 Q1145.69 32.4315 1142.21 37.1306 Q1138.72 41.7891 1138.72 49.9314 Q1138.72 58.0738 1142.17 62.7728 Q1145.65 67.4314 1151.69 67.4314 Q1157.64 67.4314 1161.12 62.7323 Q1164.61 58.0333 1164.61 49.9314 Q1164.61 41.8701 1161.12 37.1711 Q1157.64 32.4315 1151.69 32.4315 M1151.69 26.1121 Q1161.41 26.1121 1166.96 32.4315 Q1172.51 38.7509 1172.51 49.9314 Q1172.51 61.0714 1166.96 67.4314 Q1161.41 73.7508 1151.69 73.7508 Q1141.92 73.7508 1136.37 67.4314 Q1130.86 61.0714 1130.86 49.9314 Q1130.86 38.7509 1136.37 32.4315 Q1141.92 26.1121 1151.69 26.1121 Z\" fill=\"#000000\" fill-rule=\"evenodd\" fill-opacity=\"1\" /><path clip-path=\"url(#clip610)\" d=\"M 0 0 M1210.18 34.0924 L1210.18 9.54393 L1217.63 9.54393 L1217.63 72.576 L1210.18 72.576 L1210.18 65.7705 Q1207.83 69.8214 1204.23 71.8063 Q1200.66 73.7508 1195.64 73.7508 Q1187.41 73.7508 1182.23 67.1883 Q1177.08 60.6258 1177.08 49.9314 Q1177.08 39.2371 1182.23 32.6746 Q1187.41 26.1121 1195.64 26.1121 Q1200.66 26.1121 1204.23 28.0971 Q1207.83 30.0415 1210.18 34.0924 M1184.78 49.9314 Q1184.78 58.1548 1188.14 62.8538 Q1191.55 67.5124 1197.46 67.5124 Q1203.37 67.5124 1206.78 62.8538 Q1210.18 58.1548 1210.18 49.9314 Q1210.18 41.7081 1206.78 37.0496 Q1203.37 32.3505 1197.46 32.3505 Q1191.55 32.3505 1188.14 37.0496 Q1184.78 41.7081 1184.78 49.9314 Z\" fill=\"#000000\" fill-rule=\"evenodd\" fill-opacity=\"1\" /><path clip-path=\"url(#clip610)\" d=\"M 0 0 M1224.68 54.671 L1224.68 27.2059 L1232.14 27.2059 L1232.14 54.3874 Q1232.14 60.8284 1234.65 64.0691 Q1237.16 67.2693 1242.18 67.2693 Q1248.22 67.2693 1251.7 63.421 Q1255.23 59.5726 1255.23 52.9291 L1255.23 27.2059 L1262.68 27.2059 L1262.68 72.576 L1255.23 72.576 L1255.23 65.6084 Q1252.51 69.7404 1248.91 71.7658 Q1245.34 73.7508 1240.6 73.7508 Q1232.78 73.7508 1228.73 68.8897 Q1224.68 64.0286 1224.68 54.671 M1243.44 26.1121 L1243.44 26.1121 Z\" fill=\"#000000\" fill-rule=\"evenodd\" fill-opacity=\"1\" /><path clip-path=\"url(#clip610)\" d=\"M 0 0 M1270.21 9.54393 L1277.71 9.54393 L1277.71 46.7717 L1299.95 27.2059 L1309.47 27.2059 L1285.41 48.4326 L1310.48 72.576 L1300.76 72.576 L1277.71 50.4176 L1277.71 72.576 L1270.21 72.576 L1270.21 9.54393 Z\" fill=\"#000000\" fill-rule=\"evenodd\" fill-opacity=\"1\" /><path clip-path=\"url(#clip610)\" d=\"M 0 0 M1325.67 14.324 L1325.67 27.2059 L1341.02 27.2059 L1341.02 32.9987 L1325.67 32.9987 L1325.67 57.6282 Q1325.67 63.1779 1327.17 64.7578 Q1328.71 66.3376 1333.37 66.3376 L1341.02 66.3376 L1341.02 72.576 L1333.37 72.576 Q1324.74 72.576 1321.46 69.3758 Q1318.18 66.1351 1318.18 57.6282 L1318.18 32.9987 L1312.71 32.9987 L1312.71 27.2059 L1318.18 27.2059 L1318.18 14.324 L1325.67 14.324 Z\" fill=\"#000000\" fill-rule=\"evenodd\" fill-opacity=\"1\" /><path clip-path=\"url(#clip610)\" d=\"M 0 0 M1375.54 12.096 L1383.72 12.096 L1383.72 36.8875 L1413.45 36.8875 L1413.45 12.096 L1421.64 12.096 L1421.64 72.576 L1413.45 72.576 L1413.45 43.7741 L1383.72 43.7741 L1383.72 72.576 L1375.54 72.576 L1375.54 12.096 Z\" fill=\"#000000\" fill-rule=\"evenodd\" fill-opacity=\"1\" /><path clip-path=\"url(#clip610)\" d=\"M 0 0 M1468.26 48.0275 L1468.26 51.6733 L1433.99 51.6733 Q1434.48 59.3701 1438.61 63.421 Q1442.78 67.4314 1450.2 67.4314 Q1454.49 67.4314 1458.5 66.3781 Q1462.55 65.3249 1466.52 63.2184 L1466.52 70.267 Q1462.51 71.9684 1458.3 72.8596 Q1454.09 73.7508 1449.75 73.7508 Q1438.89 73.7508 1432.53 67.4314 Q1426.21 61.1119 1426.21 50.3365 Q1426.21 39.1965 1432.21 32.6746 Q1438.25 26.1121 1448.45 26.1121 Q1457.61 26.1121 1462.92 32.0264 Q1468.26 37.9003 1468.26 48.0275 M1460.81 45.84 Q1460.73 39.7232 1457.37 36.0774 Q1454.04 32.4315 1448.54 32.4315 Q1442.3 32.4315 1438.53 35.9558 Q1434.8 39.4801 1434.24 45.8805 L1460.81 45.84 Z\" fill=\"#000000\" fill-rule=\"evenodd\" fill-opacity=\"1\" /><path clip-path=\"url(#clip610)\" d=\"M 0 0 M1476.08 9.54393 L1483.54 9.54393 L1483.54 72.576 L1476.08 72.576 L1476.08 9.54393 Z\" fill=\"#000000\" fill-rule=\"evenodd\" fill-opacity=\"1\" /><path clip-path=\"url(#clip610)\" d=\"M 0 0 M1491.35 9.54393 L1498.81 9.54393 L1498.81 72.576 L1491.35 72.576 L1491.35 9.54393 Z\" fill=\"#000000\" fill-rule=\"evenodd\" fill-opacity=\"1\" /><path clip-path=\"url(#clip612)\" d=\"\n",
       "M314.673 325.649 L314.673 1423.18 L421.666 1423.18 L421.666 325.649 L314.673 325.649 L314.673 325.649  Z\n",
       "  \" fill=\"#00688b\" fill-rule=\"evenodd\" fill-opacity=\"1\"/>\n",
       "<polyline clip-path=\"url(#clip612)\" style=\"stroke:#000000; stroke-width:4; stroke-opacity:1; fill:none\" points=\"\n",
       "  314.673,325.649 314.673,1423.18 421.666,1423.18 421.666,325.649 314.673,325.649 \n",
       "  \"/>\n",
       "<path clip-path=\"url(#clip612)\" d=\"\n",
       "M715.896 325.649 L715.896 1423.18 L822.888 1423.18 L822.888 325.649 L715.896 325.649 L715.896 325.649  Z\n",
       "  \" fill=\"#00688b\" fill-rule=\"evenodd\" fill-opacity=\"1\"/>\n",
       "<polyline clip-path=\"url(#clip612)\" style=\"stroke:#000000; stroke-width:4; stroke-opacity:1; fill:none\" points=\"\n",
       "  715.896,325.649 715.896,1423.18 822.888,1423.18 822.888,325.649 715.896,325.649 \n",
       "  \"/>\n",
       "<path clip-path=\"url(#clip612)\" d=\"\n",
       "M1117.12 556.708 L1117.12 1423.18 L1224.11 1423.18 L1224.11 556.708 L1117.12 556.708 L1117.12 556.708  Z\n",
       "  \" fill=\"#00688b\" fill-rule=\"evenodd\" fill-opacity=\"1\"/>\n",
       "<polyline clip-path=\"url(#clip612)\" style=\"stroke:#000000; stroke-width:4; stroke-opacity:1; fill:none\" points=\"\n",
       "  1117.12,556.708 1117.12,1423.18 1224.11,1423.18 1224.11,556.708 1117.12,556.708 \n",
       "  \"/>\n",
       "<path clip-path=\"url(#clip612)\" d=\"\n",
       "M1518.34 556.708 L1518.34 1423.18 L1625.33 1423.18 L1625.33 556.708 L1518.34 556.708 L1518.34 556.708  Z\n",
       "  \" fill=\"#00688b\" fill-rule=\"evenodd\" fill-opacity=\"1\"/>\n",
       "<polyline clip-path=\"url(#clip612)\" style=\"stroke:#000000; stroke-width:4; stroke-opacity:1; fill:none\" points=\"\n",
       "  1518.34,556.708 1518.34,1423.18 1625.33,1423.18 1625.33,556.708 1518.34,556.708 \n",
       "  \"/>\n",
       "<path clip-path=\"url(#clip612)\" d=\"\n",
       "M1919.56 556.708 L1919.56 1423.18 L2026.56 1423.18 L2026.56 556.708 L1919.56 556.708 L1919.56 556.708  Z\n",
       "  \" fill=\"#00688b\" fill-rule=\"evenodd\" fill-opacity=\"1\"/>\n",
       "<polyline clip-path=\"url(#clip612)\" style=\"stroke:#000000; stroke-width:4; stroke-opacity:1; fill:none\" points=\"\n",
       "  1919.56,556.708 1919.56,1423.18 2026.56,1423.18 2026.56,556.708 1919.56,556.708 \n",
       "  \"/>\n",
       "<path clip-path=\"url(#clip612)\" d=\"\n",
       "M421.666 325.649 L421.666 1423.18 L528.658 1423.18 L528.658 325.649 L421.666 325.649 L421.666 325.649  Z\n",
       "  \" fill=\"#cd0000\" fill-rule=\"evenodd\" fill-opacity=\"1\"/>\n",
       "<polyline clip-path=\"url(#clip612)\" style=\"stroke:#000000; stroke-width:4; stroke-opacity:1; fill:none\" points=\"\n",
       "  421.666,325.649 421.666,1423.18 528.658,1423.18 528.658,325.649 421.666,325.649 \n",
       "  \"/>\n",
       "<path clip-path=\"url(#clip612)\" d=\"\n",
       "M822.888 325.649 L822.888 1423.18 L929.881 1423.18 L929.881 325.649 L822.888 325.649 L822.888 325.649  Z\n",
       "  \" fill=\"#cd0000\" fill-rule=\"evenodd\" fill-opacity=\"1\"/>\n",
       "<polyline clip-path=\"url(#clip612)\" style=\"stroke:#000000; stroke-width:4; stroke-opacity:1; fill:none\" points=\"\n",
       "  822.888,325.649 822.888,1423.18 929.881,1423.18 929.881,325.649 822.888,325.649 \n",
       "  \"/>\n",
       "<path clip-path=\"url(#clip612)\" d=\"\n",
       "M1224.11 556.708 L1224.11 1423.18 L1331.1 1423.18 L1331.1 556.708 L1224.11 556.708 L1224.11 556.708  Z\n",
       "  \" fill=\"#cd0000\" fill-rule=\"evenodd\" fill-opacity=\"1\"/>\n",
       "<polyline clip-path=\"url(#clip612)\" style=\"stroke:#000000; stroke-width:4; stroke-opacity:1; fill:none\" points=\"\n",
       "  1224.11,556.708 1224.11,1423.18 1331.1,1423.18 1331.1,556.708 1224.11,556.708 \n",
       "  \"/>\n",
       "<path clip-path=\"url(#clip612)\" d=\"\n",
       "M1625.33 556.708 L1625.33 1423.18 L1732.33 1423.18 L1732.33 556.708 L1625.33 556.708 L1625.33 556.708  Z\n",
       "  \" fill=\"#cd0000\" fill-rule=\"evenodd\" fill-opacity=\"1\"/>\n",
       "<polyline clip-path=\"url(#clip612)\" style=\"stroke:#000000; stroke-width:4; stroke-opacity:1; fill:none\" points=\"\n",
       "  1625.33,556.708 1625.33,1423.18 1732.33,1423.18 1732.33,556.708 1625.33,556.708 \n",
       "  \"/>\n",
       "<path clip-path=\"url(#clip612)\" d=\"\n",
       "M2026.56 556.708 L2026.56 1423.18 L2133.55 1423.18 L2133.55 556.708 L2026.56 556.708 L2026.56 556.708  Z\n",
       "  \" fill=\"#cd0000\" fill-rule=\"evenodd\" fill-opacity=\"1\"/>\n",
       "<polyline clip-path=\"url(#clip612)\" style=\"stroke:#000000; stroke-width:4; stroke-opacity:1; fill:none\" points=\"\n",
       "  2026.56,556.708 2026.56,1423.18 2133.55,1423.18 2133.55,556.708 2026.56,556.708 \n",
       "  \"/>\n",
       "<path clip-path=\"url(#clip612)\" d=\"\n",
       "M528.658 1423.18 L528.658 1423.18 L635.651 1423.18 L635.651 1423.18 L528.658 1423.18 L528.658 1423.18  Z\n",
       "  \" fill=\"#ffa500\" fill-rule=\"evenodd\" fill-opacity=\"1\"/>\n",
       "<polyline clip-path=\"url(#clip612)\" style=\"stroke:#000000; stroke-width:4; stroke-opacity:1; fill:none\" points=\"\n",
       "  528.658,1423.18 528.658,1423.18 635.651,1423.18 528.658,1423.18 \n",
       "  \"/>\n",
       "<path clip-path=\"url(#clip612)\" d=\"\n",
       "M929.881 1423.18 L929.881 1423.18 L1036.87 1423.18 L1036.87 1423.18 L929.881 1423.18 L929.881 1423.18  Z\n",
       "  \" fill=\"#ffa500\" fill-rule=\"evenodd\" fill-opacity=\"1\"/>\n",
       "<polyline clip-path=\"url(#clip612)\" style=\"stroke:#000000; stroke-width:4; stroke-opacity:1; fill:none\" points=\"\n",
       "  929.881,1423.18 929.881,1423.18 1036.87,1423.18 929.881,1423.18 \n",
       "  \"/>\n",
       "<path clip-path=\"url(#clip612)\" d=\"\n",
       "M1331.1 1423.18 L1331.1 1423.18 L1438.1 1423.18 L1438.1 1423.18 L1331.1 1423.18 L1331.1 1423.18  Z\n",
       "  \" fill=\"#ffa500\" fill-rule=\"evenodd\" fill-opacity=\"1\"/>\n",
       "<polyline clip-path=\"url(#clip612)\" style=\"stroke:#000000; stroke-width:4; stroke-opacity:1; fill:none\" points=\"\n",
       "  1331.1,1423.18 1331.1,1423.18 1438.1,1423.18 1331.1,1423.18 \n",
       "  \"/>\n",
       "<path clip-path=\"url(#clip612)\" d=\"\n",
       "M1732.33 1423.18 L1732.33 1423.18 L1839.32 1423.18 L1839.32 1423.18 L1732.33 1423.18 L1732.33 1423.18  Z\n",
       "  \" fill=\"#ffa500\" fill-rule=\"evenodd\" fill-opacity=\"1\"/>\n",
       "<polyline clip-path=\"url(#clip612)\" style=\"stroke:#000000; stroke-width:4; stroke-opacity:1; fill:none\" points=\"\n",
       "  1732.33,1423.18 1732.33,1423.18 1839.32,1423.18 1732.33,1423.18 \n",
       "  \"/>\n",
       "<path clip-path=\"url(#clip612)\" d=\"\n",
       "M2133.55 1423.18 L2133.55 1423.18 L2240.54 1423.18 L2240.54 1423.18 L2133.55 1423.18 L2133.55 1423.18  Z\n",
       "  \" fill=\"#ffa500\" fill-rule=\"evenodd\" fill-opacity=\"1\"/>\n",
       "<polyline clip-path=\"url(#clip612)\" style=\"stroke:#000000; stroke-width:4; stroke-opacity:1; fill:none\" points=\"\n",
       "  2133.55,1423.18 2133.55,1423.18 2240.54,1423.18 2133.55,1423.18 \n",
       "  \"/>\n",
       "<path clip-path=\"url(#clip610)\" d=\"\n",
       "M1648.73 408.716 L2281.08 408.716 L2281.08 166.796 L1648.73 166.796  Z\n",
       "  \" fill=\"#ffffff\" fill-rule=\"evenodd\" fill-opacity=\"1\"/>\n",
       "<polyline clip-path=\"url(#clip610)\" style=\"stroke:#000000; stroke-width:4; stroke-opacity:1; fill:none\" points=\"\n",
       "  1648.73,408.716 2281.08,408.716 2281.08,166.796 1648.73,166.796 1648.73,408.716 \n",
       "  \"/>\n",
       "<path clip-path=\"url(#clip610)\" d=\"\n",
       "M1672.63 251.468 L1815.98 251.468 L1815.98 203.084 L1672.63 203.084 L1672.63 251.468  Z\n",
       "  \" fill=\"#00688b\" fill-rule=\"evenodd\" fill-opacity=\"1\"/>\n",
       "<polyline clip-path=\"url(#clip610)\" style=\"stroke:#000000; stroke-width:4; stroke-opacity:1; fill:none\" points=\"\n",
       "  1672.63,251.468 1815.98,251.468 1815.98,203.084 1672.63,203.084 1672.63,251.468 \n",
       "  \"/>\n",
       "<path clip-path=\"url(#clip610)\" d=\"M 0 0 M1844.55 213.838 L1844.55 226.824 L1850.43 226.824 Q1853.69 226.824 1855.47 225.135 Q1857.26 223.445 1857.26 220.32 Q1857.26 217.218 1855.47 215.528 Q1853.69 213.838 1850.43 213.838 L1844.55 213.838 M1839.87 209.996 L1850.43 209.996 Q1856.24 209.996 1859.2 212.635 Q1862.19 215.25 1862.19 220.32 Q1862.19 225.435 1859.2 228.051 Q1856.24 230.667 1850.43 230.667 L1844.55 230.667 L1844.55 244.556 L1839.87 244.556 L1839.87 209.996 Z\" fill=\"#000000\" fill-rule=\"evenodd\" fill-opacity=\"1\" /><path clip-path=\"url(#clip610)\" d=\"M 0 0 M1880.84 222.611 Q1880.13 222.195 1879.27 222.01 Q1878.44 221.801 1877.42 221.801 Q1873.81 221.801 1871.86 224.162 Q1869.94 226.5 1869.94 230.898 L1869.94 244.556 L1865.66 244.556 L1865.66 218.63 L1869.94 218.63 L1869.94 222.658 Q1871.28 220.297 1873.44 219.162 Q1875.59 218.005 1878.67 218.005 Q1879.11 218.005 1879.64 218.074 Q1880.17 218.121 1880.82 218.236 L1880.84 222.611 Z\" fill=\"#000000\" fill-rule=\"evenodd\" fill-opacity=\"1\" /><path clip-path=\"url(#clip610)\" d=\"M 0 0 M1894.32 221.616 Q1890.89 221.616 1888.9 224.301 Q1886.91 226.963 1886.91 231.616 Q1886.91 236.269 1888.88 238.954 Q1890.87 241.616 1894.32 241.616 Q1897.72 241.616 1899.71 238.931 Q1901.7 236.246 1901.7 231.616 Q1901.7 227.01 1899.71 224.324 Q1897.72 221.616 1894.32 221.616 M1894.32 218.005 Q1899.87 218.005 1903.04 221.616 Q1906.21 225.227 1906.21 231.616 Q1906.21 237.982 1903.04 241.616 Q1899.87 245.227 1894.32 245.227 Q1888.74 245.227 1885.57 241.616 Q1882.42 237.982 1882.42 231.616 Q1882.42 225.227 1885.57 221.616 Q1888.74 218.005 1894.32 218.005 Z\" fill=\"#000000\" fill-rule=\"evenodd\" fill-opacity=\"1\" /><path clip-path=\"url(#clip610)\" d=\"M 0 0 M1927.74 222.565 L1927.74 208.537 L1932 208.537 L1932 244.556 L1927.74 244.556 L1927.74 240.667 Q1926.4 242.982 1924.34 244.116 Q1922.3 245.227 1919.43 245.227 Q1914.73 245.227 1911.77 241.477 Q1908.83 237.727 1908.83 231.616 Q1908.83 225.505 1911.77 221.755 Q1914.73 218.005 1919.43 218.005 Q1922.3 218.005 1924.34 219.139 Q1926.4 220.25 1927.74 222.565 M1913.23 231.616 Q1913.23 236.315 1915.15 239 Q1917.09 241.662 1920.47 241.662 Q1923.85 241.662 1925.8 239 Q1927.74 236.315 1927.74 231.616 Q1927.74 226.917 1925.8 224.255 Q1923.85 221.57 1920.47 221.57 Q1917.09 221.57 1915.15 224.255 Q1913.23 226.917 1913.23 231.616 Z\" fill=\"#000000\" fill-rule=\"evenodd\" fill-opacity=\"1\" /><path clip-path=\"url(#clip610)\" d=\"M 0 0 M1936.03 234.324 L1936.03 218.63 L1940.29 218.63 L1940.29 234.162 Q1940.29 237.843 1941.72 239.695 Q1943.16 241.523 1946.03 241.523 Q1949.48 241.523 1951.47 239.324 Q1953.48 237.125 1953.48 233.329 L1953.48 218.63 L1957.74 218.63 L1957.74 244.556 L1953.48 244.556 L1953.48 240.574 Q1951.93 242.935 1949.87 244.093 Q1947.83 245.227 1945.13 245.227 Q1940.66 245.227 1938.34 242.449 Q1936.03 239.671 1936.03 234.324 M1946.75 218.005 L1946.75 218.005 Z\" fill=\"#000000\" fill-rule=\"evenodd\" fill-opacity=\"1\" /><path clip-path=\"url(#clip610)\" d=\"M 0 0 M1962.05 208.537 L1966.33 208.537 L1966.33 229.81 L1979.04 218.63 L1984.48 218.63 L1970.73 230.759 L1985.06 244.556 L1979.5 244.556 L1966.33 231.894 L1966.33 244.556 L1962.05 244.556 L1962.05 208.537 Z\" fill=\"#000000\" fill-rule=\"evenodd\" fill-opacity=\"1\" /><path clip-path=\"url(#clip610)\" d=\"M 0 0 M1993.74 211.269 L1993.74 218.63 L2002.51 218.63 L2002.51 221.94 L1993.74 221.94 L1993.74 236.014 Q1993.74 239.185 1994.59 240.088 Q1995.47 240.991 1998.13 240.991 L2002.51 240.991 L2002.51 244.556 L1998.13 244.556 Q1993.2 244.556 1991.33 242.727 Q1989.45 240.875 1989.45 236.014 L1989.45 221.94 L1986.33 221.94 L1986.33 218.63 L1989.45 218.63 L1989.45 211.269 L1993.74 211.269 Z\" fill=\"#000000\" fill-rule=\"evenodd\" fill-opacity=\"1\" /><path clip-path=\"url(#clip610)\" d=\"M 0 0 M2006.98 218.63 L2011.24 218.63 L2011.24 244.556 L2006.98 244.556 L2006.98 218.63 M2006.98 208.537 L2011.24 208.537 L2011.24 213.931 L2006.98 213.931 L2006.98 208.537 Z\" fill=\"#000000\" fill-rule=\"evenodd\" fill-opacity=\"1\" /><path clip-path=\"url(#clip610)\" d=\"M 0 0 M2025.75 221.616 Q2022.32 221.616 2020.33 224.301 Q2018.34 226.963 2018.34 231.616 Q2018.34 236.269 2020.31 238.954 Q2022.3 241.616 2025.75 241.616 Q2029.15 241.616 2031.14 238.931 Q2033.13 236.246 2033.13 231.616 Q2033.13 227.01 2031.14 224.324 Q2029.15 221.616 2025.75 221.616 M2025.75 218.005 Q2031.31 218.005 2034.48 221.616 Q2037.65 225.227 2037.65 231.616 Q2037.65 237.982 2034.48 241.616 Q2031.31 245.227 2025.75 245.227 Q2020.17 245.227 2017 241.616 Q2013.85 237.982 2013.85 231.616 Q2013.85 225.227 2017 221.616 Q2020.17 218.005 2025.75 218.005 Z\" fill=\"#000000\" fill-rule=\"evenodd\" fill-opacity=\"1\" /><path clip-path=\"url(#clip610)\" d=\"M 0 0 M2063.67 228.908 L2063.67 244.556 L2059.41 244.556 L2059.41 229.047 Q2059.41 225.366 2057.97 223.537 Q2056.54 221.709 2053.67 221.709 Q2050.22 221.709 2048.23 223.908 Q2046.24 226.107 2046.24 229.903 L2046.24 244.556 L2041.95 244.556 L2041.95 218.63 L2046.24 218.63 L2046.24 222.658 Q2047.76 220.32 2049.82 219.162 Q2051.91 218.005 2054.62 218.005 Q2059.08 218.005 2061.37 220.783 Q2063.67 223.537 2063.67 228.908 Z\" fill=\"#000000\" fill-rule=\"evenodd\" fill-opacity=\"1\" /><path clip-path=\"url(#clip610)\" d=\"M 0 0 M2084.66 219.394 L2084.66 223.422 Q2082.86 222.496 2080.91 222.033 Q2078.97 221.57 2076.88 221.57 Q2073.71 221.57 2072.12 222.542 Q2070.54 223.514 2070.54 225.459 Q2070.54 226.94 2071.68 227.797 Q2072.81 228.63 2076.24 229.394 L2077.69 229.718 Q2082.23 230.69 2084.13 232.472 Q2086.05 234.232 2086.05 237.403 Q2086.05 241.014 2083.18 243.121 Q2080.33 245.227 2075.33 245.227 Q2073.25 245.227 2070.98 244.81 Q2068.74 244.417 2066.24 243.607 L2066.24 239.209 Q2068.6 240.435 2070.89 241.06 Q2073.18 241.662 2075.43 241.662 Q2078.43 241.662 2080.06 240.644 Q2081.68 239.602 2081.68 237.727 Q2081.68 235.991 2080.49 235.065 Q2079.34 234.139 2075.38 233.283 L2073.9 232.935 Q2069.94 232.102 2068.18 230.389 Q2066.42 228.653 2066.42 225.644 Q2066.42 221.986 2069.01 219.996 Q2071.61 218.005 2076.37 218.005 Q2078.74 218.005 2080.82 218.352 Q2082.9 218.699 2084.66 219.394 Z\" fill=\"#000000\" fill-rule=\"evenodd\" fill-opacity=\"1\" /><path clip-path=\"url(#clip610)\" d=\"M 0 0 M2110.7 223.607 Q2112.3 220.736 2114.52 219.371 Q2116.74 218.005 2119.75 218.005 Q2123.8 218.005 2126 220.852 Q2128.2 223.676 2128.2 228.908 L2128.2 244.556 L2123.92 244.556 L2123.92 229.047 Q2123.92 225.32 2122.6 223.514 Q2121.28 221.709 2118.57 221.709 Q2115.26 221.709 2113.34 223.908 Q2111.42 226.107 2111.42 229.903 L2111.42 244.556 L2107.14 244.556 L2107.14 229.047 Q2107.14 225.297 2105.82 223.514 Q2104.5 221.709 2101.74 221.709 Q2098.48 221.709 2096.56 223.931 Q2094.64 226.13 2094.64 229.903 L2094.64 244.556 L2090.36 244.556 L2090.36 218.63 L2094.64 218.63 L2094.64 222.658 Q2096.1 220.273 2098.13 219.139 Q2100.17 218.005 2102.97 218.005 Q2105.8 218.005 2107.76 219.44 Q2109.75 220.875 2110.7 223.607 Z\" fill=\"#000000\" fill-rule=\"evenodd\" fill-opacity=\"1\" /><path clip-path=\"url(#clip610)\" d=\"M 0 0 M2154.85 230.528 L2154.85 232.611 L2135.26 232.611 Q2135.54 237.009 2137.9 239.324 Q2140.29 241.616 2144.52 241.616 Q2146.98 241.616 2149.27 241.014 Q2151.58 240.412 2153.85 239.209 L2153.85 243.236 Q2151.56 244.208 2149.15 244.718 Q2146.74 245.227 2144.27 245.227 Q2138.06 245.227 2134.43 241.616 Q2130.82 238.005 2130.82 231.847 Q2130.82 225.482 2134.24 221.755 Q2137.69 218.005 2143.53 218.005 Q2148.76 218.005 2151.79 221.385 Q2154.85 224.741 2154.85 230.528 M2150.59 229.278 Q2150.54 225.783 2148.62 223.699 Q2146.72 221.616 2143.57 221.616 Q2140.01 221.616 2137.86 223.63 Q2135.73 225.644 2135.4 229.301 L2150.59 229.278 Z\" fill=\"#000000\" fill-rule=\"evenodd\" fill-opacity=\"1\" /><path clip-path=\"url(#clip610)\" d=\"M 0 0 M2180.86 228.908 L2180.86 244.556 L2176.61 244.556 L2176.61 229.047 Q2176.61 225.366 2175.17 223.537 Q2173.74 221.709 2170.86 221.709 Q2167.42 221.709 2165.42 223.908 Q2163.43 226.107 2163.43 229.903 L2163.43 244.556 L2159.15 244.556 L2159.15 218.63 L2163.43 218.63 L2163.43 222.658 Q2164.96 220.32 2167.02 219.162 Q2169.11 218.005 2171.81 218.005 Q2176.28 218.005 2178.57 220.783 Q2180.86 223.537 2180.86 228.908 Z\" fill=\"#000000\" fill-rule=\"evenodd\" fill-opacity=\"1\" /><path clip-path=\"url(#clip610)\" d=\"M 0 0 M2202.39 231.292 Q2202.39 226.662 2200.47 224.116 Q2198.57 221.57 2195.12 221.57 Q2191.7 221.57 2189.78 224.116 Q2187.88 226.662 2187.88 231.292 Q2187.88 235.898 2189.78 238.445 Q2191.7 240.991 2195.12 240.991 Q2198.57 240.991 2200.47 238.445 Q2202.39 235.898 2202.39 231.292 M2206.65 241.338 Q2206.65 247.958 2203.71 251.176 Q2200.77 254.417 2194.71 254.417 Q2192.46 254.417 2190.47 254.07 Q2188.48 253.745 2186.61 253.051 L2186.61 248.908 Q2188.48 249.926 2190.31 250.412 Q2192.14 250.898 2194.04 250.898 Q2198.23 250.898 2200.31 248.699 Q2202.39 246.523 2202.39 242.102 L2202.39 239.996 Q2201.07 242.287 2199.01 243.421 Q2196.95 244.556 2194.08 244.556 Q2189.31 244.556 2186.4 240.921 Q2183.48 237.287 2183.48 231.292 Q2183.48 225.273 2186.4 221.639 Q2189.31 218.005 2194.08 218.005 Q2196.95 218.005 2199.01 219.139 Q2201.07 220.273 2202.39 222.565 L2202.39 218.63 L2206.65 218.63 L2206.65 241.338 Z\" fill=\"#000000\" fill-rule=\"evenodd\" fill-opacity=\"1\" /><path clip-path=\"url(#clip610)\" d=\"M 0 0 M2233.29 230.528 L2233.29 232.611 L2213.71 232.611 Q2213.99 237.009 2216.35 239.324 Q2218.73 241.616 2222.97 241.616 Q2225.42 241.616 2227.72 241.014 Q2230.03 240.412 2232.3 239.209 L2232.3 243.236 Q2230.01 244.208 2227.6 244.718 Q2225.19 245.227 2222.72 245.227 Q2216.51 245.227 2212.88 241.616 Q2209.27 238.005 2209.27 231.847 Q2209.27 225.482 2212.69 221.755 Q2216.14 218.005 2221.98 218.005 Q2227.21 218.005 2230.24 221.385 Q2233.29 224.741 2233.29 230.528 M2229.04 229.278 Q2228.99 225.783 2227.07 223.699 Q2225.17 221.616 2222.02 221.616 Q2218.46 221.616 2216.3 223.63 Q2214.17 225.644 2213.85 229.301 L2229.04 229.278 Z\" fill=\"#000000\" fill-rule=\"evenodd\" fill-opacity=\"1\" /><path clip-path=\"url(#clip610)\" d=\"\n",
       "M1672.63 311.948 L1815.98 311.948 L1815.98 263.564 L1672.63 263.564 L1672.63 311.948  Z\n",
       "  \" fill=\"#cd0000\" fill-rule=\"evenodd\" fill-opacity=\"1\"/>\n",
       "<polyline clip-path=\"url(#clip610)\" style=\"stroke:#000000; stroke-width:4; stroke-opacity:1; fill:none\" points=\"\n",
       "  1672.63,311.948 1815.98,311.948 1815.98,263.564 1672.63,263.564 1672.63,311.948 \n",
       "  \"/>\n",
       "<path clip-path=\"url(#clip610)\" d=\"M 0 0 M1855.7 275.082 L1849.36 292.281 L1862.07 292.281 L1855.7 275.082 M1853.07 270.476 L1858.37 270.476 L1871.54 305.036 L1866.68 305.036 L1863.53 296.17 L1847.95 296.17 L1844.8 305.036 L1839.87 305.036 L1853.07 270.476 Z\" fill=\"#000000\" fill-rule=\"evenodd\" fill-opacity=\"1\" /><path clip-path=\"url(#clip610)\" d=\"M 0 0 M1894.62 292.096 Q1894.62 287.397 1892.67 284.735 Q1890.75 282.05 1887.37 282.05 Q1883.99 282.05 1882.05 284.735 Q1880.13 287.397 1880.13 292.096 Q1880.13 296.795 1882.05 299.48 Q1883.99 302.142 1887.37 302.142 Q1890.75 302.142 1892.67 299.48 Q1894.62 296.795 1894.62 292.096 M1880.13 283.045 Q1881.47 280.73 1883.51 279.619 Q1885.57 278.485 1888.41 278.485 Q1893.13 278.485 1896.07 282.235 Q1899.04 285.985 1899.04 292.096 Q1899.04 298.207 1896.07 301.957 Q1893.13 305.707 1888.41 305.707 Q1885.57 305.707 1883.51 304.596 Q1881.47 303.462 1880.13 301.147 L1880.13 305.036 L1875.84 305.036 L1875.84 269.017 L1880.13 269.017 L1880.13 283.045 Z\" fill=\"#000000\" fill-rule=\"evenodd\" fill-opacity=\"1\" /><path clip-path=\"url(#clip610)\" d=\"M 0 0 M1920.03 279.874 L1920.03 283.902 Q1918.23 282.976 1916.28 282.513 Q1914.34 282.05 1912.26 282.05 Q1909.08 282.05 1907.49 283.022 Q1905.91 283.994 1905.91 285.939 Q1905.91 287.42 1907.05 288.277 Q1908.18 289.11 1911.61 289.874 L1913.07 290.198 Q1917.6 291.17 1919.5 292.952 Q1921.42 294.712 1921.42 297.883 Q1921.42 301.494 1918.55 303.601 Q1915.7 305.707 1910.7 305.707 Q1908.62 305.707 1906.35 305.29 Q1904.11 304.897 1901.61 304.087 L1901.61 299.689 Q1903.97 300.915 1906.26 301.54 Q1908.55 302.142 1910.8 302.142 Q1913.81 302.142 1915.43 301.124 Q1917.05 300.082 1917.05 298.207 Q1917.05 296.471 1915.87 295.545 Q1914.71 294.619 1910.75 293.763 L1909.27 293.415 Q1905.31 292.582 1903.55 290.869 Q1901.79 289.133 1901.79 286.124 Q1901.79 282.466 1904.38 280.476 Q1906.98 278.485 1911.75 278.485 Q1914.11 278.485 1916.19 278.832 Q1918.27 279.179 1920.03 279.874 Z\" fill=\"#000000\" fill-rule=\"evenodd\" fill-opacity=\"1\" /><path clip-path=\"url(#clip610)\" d=\"M 0 0 M1937.67 292.003 Q1932.51 292.003 1930.52 293.184 Q1928.53 294.364 1928.53 297.212 Q1928.53 299.48 1930.01 300.823 Q1931.51 302.142 1934.08 302.142 Q1937.63 302.142 1939.75 299.642 Q1941.91 297.119 1941.91 292.952 L1941.91 292.003 L1937.67 292.003 M1946.17 290.244 L1946.17 305.036 L1941.91 305.036 L1941.91 301.101 Q1940.45 303.462 1938.27 304.596 Q1936.1 305.707 1932.95 305.707 Q1928.97 305.707 1926.61 303.485 Q1924.27 301.239 1924.27 297.489 Q1924.27 293.114 1927.19 290.892 Q1930.13 288.67 1935.94 288.67 L1941.91 288.67 L1941.91 288.253 Q1941.91 285.314 1939.96 283.716 Q1938.04 282.096 1934.55 282.096 Q1932.32 282.096 1930.22 282.628 Q1928.11 283.161 1926.17 284.226 L1926.17 280.29 Q1928.5 279.388 1930.7 278.948 Q1932.9 278.485 1934.99 278.485 Q1940.61 278.485 1943.39 281.402 Q1946.17 284.318 1946.17 290.244 Z\" fill=\"#000000\" fill-rule=\"evenodd\" fill-opacity=\"1\" /><path clip-path=\"url(#clip610)\" d=\"M 0 0 M1954.85 271.749 L1954.85 279.11 L1963.62 279.11 L1963.62 282.42 L1954.85 282.42 L1954.85 296.494 Q1954.85 299.665 1955.7 300.568 Q1956.58 301.471 1959.25 301.471 L1963.62 301.471 L1963.62 305.036 L1959.25 305.036 Q1954.31 305.036 1952.44 303.207 Q1950.56 301.355 1950.56 296.494 L1950.56 282.42 L1947.44 282.42 L1947.44 279.11 L1950.56 279.11 L1950.56 271.749 L1954.85 271.749 Z\" fill=\"#000000\" fill-rule=\"evenodd\" fill-opacity=\"1\" /><path clip-path=\"url(#clip610)\" d=\"M 0 0 M1966.24 279.11 L1986.47 279.11 L1986.47 282.999 L1970.45 301.633 L1986.47 301.633 L1986.47 305.036 L1965.66 305.036 L1965.66 301.147 L1981.68 282.513 L1966.24 282.513 L1966.24 279.11 Z\" fill=\"#000000\" fill-rule=\"evenodd\" fill-opacity=\"1\" /><path clip-path=\"url(#clip610)\" d=\"M 0 0 M2011.12 284.087 Q2012.72 281.216 2014.94 279.851 Q2017.16 278.485 2020.17 278.485 Q2024.22 278.485 2026.42 281.332 Q2028.62 284.156 2028.62 289.388 L2028.62 305.036 L2024.34 305.036 L2024.34 289.527 Q2024.34 285.8 2023.02 283.994 Q2021.7 282.189 2018.99 282.189 Q2015.68 282.189 2013.76 284.388 Q2011.84 286.587 2011.84 290.383 L2011.84 305.036 L2007.56 305.036 L2007.56 289.527 Q2007.56 285.777 2006.24 283.994 Q2004.92 282.189 2002.16 282.189 Q1998.9 282.189 1996.98 284.411 Q1995.06 286.61 1995.06 290.383 L1995.06 305.036 L1990.77 305.036 L1990.77 279.11 L1995.06 279.11 L1995.06 283.138 Q1996.51 280.753 1998.55 279.619 Q2000.59 278.485 2003.39 278.485 Q2006.21 278.485 2008.18 279.92 Q2010.17 281.355 2011.12 284.087 Z\" fill=\"#000000\" fill-rule=\"evenodd\" fill-opacity=\"1\" /><path clip-path=\"url(#clip610)\" d=\"M 0 0 M2055.26 291.008 L2055.26 293.091 L2035.68 293.091 Q2035.96 297.489 2038.32 299.804 Q2040.7 302.096 2044.94 302.096 Q2047.39 302.096 2049.68 301.494 Q2052 300.892 2054.27 299.689 L2054.27 303.716 Q2051.98 304.688 2049.57 305.198 Q2047.16 305.707 2044.68 305.707 Q2038.48 305.707 2034.85 302.096 Q2031.24 298.485 2031.24 292.327 Q2031.24 285.962 2034.66 282.235 Q2038.11 278.485 2043.94 278.485 Q2049.18 278.485 2052.21 281.865 Q2055.26 285.221 2055.26 291.008 M2051 289.758 Q2050.96 286.263 2049.04 284.179 Q2047.14 282.096 2043.99 282.096 Q2040.43 282.096 2038.27 284.11 Q2036.14 286.124 2035.82 289.781 L2051 289.758 Z\" fill=\"#000000\" fill-rule=\"evenodd\" fill-opacity=\"1\" /><path clip-path=\"url(#clip610)\" d=\"M 0 0 M2081.28 289.388 L2081.28 305.036 L2077.02 305.036 L2077.02 289.527 Q2077.02 285.846 2075.59 284.017 Q2074.15 282.189 2071.28 282.189 Q2067.83 282.189 2065.84 284.388 Q2063.85 286.587 2063.85 290.383 L2063.85 305.036 L2059.57 305.036 L2059.57 279.11 L2063.85 279.11 L2063.85 283.138 Q2065.38 280.8 2067.44 279.642 Q2069.52 278.485 2072.23 278.485 Q2076.7 278.485 2078.99 281.263 Q2081.28 284.017 2081.28 289.388 Z\" fill=\"#000000\" fill-rule=\"evenodd\" fill-opacity=\"1\" /><path clip-path=\"url(#clip610)\" d=\"M 0 0 M2102.81 291.772 Q2102.81 287.142 2100.89 284.596 Q2098.99 282.05 2095.54 282.05 Q2092.12 282.05 2090.19 284.596 Q2088.3 287.142 2088.3 291.772 Q2088.3 296.378 2090.19 298.925 Q2092.12 301.471 2095.54 301.471 Q2098.99 301.471 2100.89 298.925 Q2102.81 296.378 2102.81 291.772 M2107.07 301.818 Q2107.07 308.438 2104.13 311.656 Q2101.19 314.897 2095.12 314.897 Q2092.88 314.897 2090.89 314.55 Q2088.9 314.225 2087.02 313.531 L2087.02 309.388 Q2088.9 310.406 2090.73 310.892 Q2092.55 311.378 2094.45 311.378 Q2098.64 311.378 2100.73 309.179 Q2102.81 307.003 2102.81 302.582 L2102.81 300.476 Q2101.49 302.767 2099.43 303.901 Q2097.37 305.036 2094.5 305.036 Q2089.73 305.036 2086.81 301.401 Q2083.9 297.767 2083.9 291.772 Q2083.9 285.753 2086.81 282.119 Q2089.73 278.485 2094.5 278.485 Q2097.37 278.485 2099.43 279.619 Q2101.49 280.753 2102.81 283.045 L2102.81 279.11 L2107.07 279.11 L2107.07 301.818 Z\" fill=\"#000000\" fill-rule=\"evenodd\" fill-opacity=\"1\" /><path clip-path=\"url(#clip610)\" d=\"M 0 0 M2133.71 291.008 L2133.71 293.091 L2114.13 293.091 Q2114.41 297.489 2116.77 299.804 Q2119.15 302.096 2123.39 302.096 Q2125.84 302.096 2128.13 301.494 Q2130.45 300.892 2132.72 299.689 L2132.72 303.716 Q2130.43 304.688 2128.02 305.198 Q2125.61 305.707 2123.13 305.707 Q2116.93 305.707 2113.3 302.096 Q2109.68 298.485 2109.68 292.327 Q2109.68 285.962 2113.11 282.235 Q2116.56 278.485 2122.39 278.485 Q2127.62 278.485 2130.66 281.865 Q2133.71 285.221 2133.71 291.008 M2129.45 289.758 Q2129.41 286.263 2127.49 284.179 Q2125.59 282.096 2122.44 282.096 Q2118.87 282.096 2116.72 284.11 Q2114.59 286.124 2114.27 289.781 L2129.45 289.758 Z\" fill=\"#000000\" fill-rule=\"evenodd\" fill-opacity=\"1\" /><path clip-path=\"url(#clip610)\" d=\"\n",
       "M1672.63 372.428 L1815.98 372.428 L1815.98 324.044 L1672.63 324.044 L1672.63 372.428  Z\n",
       "  \" fill=\"#ffa500\" fill-rule=\"evenodd\" fill-opacity=\"1\"/>\n",
       "<polyline clip-path=\"url(#clip610)\" style=\"stroke:#000000; stroke-width:4; stroke-opacity:1; fill:none\" points=\"\n",
       "  1672.63,372.428 1815.98,372.428 1815.98,324.044 1672.63,324.044 1672.63,372.428 \n",
       "  \"/>\n",
       "<path clip-path=\"url(#clip610)\" d=\"M 0 0 M1839.87 330.956 L1844.55 330.956 L1844.55 361.581 L1861.38 361.581 L1861.38 365.516 L1839.87 365.516 L1839.87 330.956 Z\" fill=\"#000000\" fill-rule=\"evenodd\" fill-opacity=\"1\" /><path clip-path=\"url(#clip610)\" d=\"M 0 0 M1877.63 352.483 Q1872.46 352.483 1870.47 353.664 Q1868.48 354.844 1868.48 357.692 Q1868.48 359.96 1869.96 361.303 Q1871.47 362.622 1874.04 362.622 Q1877.58 362.622 1879.71 360.122 Q1881.86 357.599 1881.86 353.432 L1881.86 352.483 L1877.63 352.483 M1886.12 350.724 L1886.12 365.516 L1881.86 365.516 L1881.86 361.581 Q1880.4 363.942 1878.23 365.076 Q1876.05 366.187 1872.9 366.187 Q1868.92 366.187 1866.56 363.965 Q1864.22 361.719 1864.22 357.969 Q1864.22 353.594 1867.14 351.372 Q1870.08 349.15 1875.89 349.15 L1881.86 349.15 L1881.86 348.733 Q1881.86 345.794 1879.92 344.196 Q1878 342.576 1874.5 342.576 Q1872.28 342.576 1870.17 343.108 Q1868.07 343.641 1866.12 344.706 L1866.12 340.77 Q1868.46 339.868 1870.66 339.428 Q1872.86 338.965 1874.94 338.965 Q1880.57 338.965 1883.34 341.882 Q1886.12 344.798 1886.12 350.724 Z\" fill=\"#000000\" fill-rule=\"evenodd\" fill-opacity=\"1\" /><path clip-path=\"url(#clip610)\" d=\"M 0 0 M1907.65 352.252 Q1907.65 347.622 1905.73 345.076 Q1903.83 342.53 1900.38 342.53 Q1896.95 342.53 1895.03 345.076 Q1893.13 347.622 1893.13 352.252 Q1893.13 356.858 1895.03 359.405 Q1896.95 361.951 1900.38 361.951 Q1903.83 361.951 1905.73 359.405 Q1907.65 356.858 1907.65 352.252 M1911.91 362.298 Q1911.91 368.918 1908.97 372.136 Q1906.03 375.377 1899.96 375.377 Q1897.72 375.377 1895.73 375.03 Q1893.74 374.705 1891.86 374.011 L1891.86 369.868 Q1893.74 370.886 1895.57 371.372 Q1897.39 371.858 1899.29 371.858 Q1903.48 371.858 1905.57 369.659 Q1907.65 367.483 1907.65 363.062 L1907.65 360.956 Q1906.33 363.247 1904.27 364.381 Q1902.21 365.516 1899.34 365.516 Q1894.57 365.516 1891.65 361.881 Q1888.74 358.247 1888.74 352.252 Q1888.74 346.233 1891.65 342.599 Q1894.57 338.965 1899.34 338.965 Q1902.21 338.965 1904.27 340.099 Q1906.33 341.233 1907.65 343.525 L1907.65 339.59 L1911.91 339.59 L1911.91 362.298 Z\" fill=\"#000000\" fill-rule=\"evenodd\" fill-opacity=\"1\" /><path clip-path=\"url(#clip610)\" d=\"M 0 0 M1938.55 351.488 L1938.55 353.571 L1918.97 353.571 Q1919.25 357.969 1921.61 360.284 Q1923.99 362.576 1928.23 362.576 Q1930.68 362.576 1932.97 361.974 Q1935.29 361.372 1937.56 360.169 L1937.56 364.196 Q1935.26 365.168 1932.86 365.678 Q1930.45 366.187 1927.97 366.187 Q1921.77 366.187 1918.13 362.576 Q1914.52 358.965 1914.52 352.807 Q1914.52 346.442 1917.95 342.715 Q1921.4 338.965 1927.23 338.965 Q1932.46 338.965 1935.5 342.345 Q1938.55 345.701 1938.55 351.488 M1934.29 350.238 Q1934.25 346.743 1932.32 344.659 Q1930.43 342.576 1927.28 342.576 Q1923.71 342.576 1921.56 344.59 Q1919.43 346.604 1919.11 350.261 L1934.29 350.238 Z\" fill=\"#000000\" fill-rule=\"evenodd\" fill-opacity=\"1\" /><path clip-path=\"url(#clip610)\" d=\"M 0 0 M1958.04 343.571 Q1957.32 343.155 1956.47 342.97 Q1955.63 342.761 1954.62 342.761 Q1951 342.761 1949.06 345.122 Q1947.14 347.46 1947.14 351.858 L1947.14 365.516 L1942.86 365.516 L1942.86 339.59 L1947.14 339.59 L1947.14 343.618 Q1948.48 341.257 1950.63 340.122 Q1952.79 338.965 1955.87 338.965 Q1956.31 338.965 1956.84 339.034 Q1957.37 339.081 1958.02 339.196 L1958.04 343.571 Z\" fill=\"#000000\" fill-rule=\"evenodd\" fill-opacity=\"1\" /><path clip-path=\"url(#clip610)\" d=\"M 0 0 M1981.86 344.567 Q1983.46 341.696 1985.68 340.331 Q1987.9 338.965 1990.91 338.965 Q1994.96 338.965 1997.16 341.812 Q1999.36 344.636 1999.36 349.868 L1999.36 365.516 L1995.08 365.516 L1995.08 350.007 Q1995.08 346.28 1993.76 344.474 Q1992.44 342.669 1989.73 342.669 Q1986.42 342.669 1984.5 344.868 Q1982.58 347.067 1982.58 350.863 L1982.58 365.516 L1978.3 365.516 L1978.3 350.007 Q1978.3 346.257 1976.98 344.474 Q1975.66 342.669 1972.9 342.669 Q1969.64 342.669 1967.72 344.891 Q1965.8 347.09 1965.8 350.863 L1965.8 365.516 L1961.51 365.516 L1961.51 339.59 L1965.8 339.59 L1965.8 343.618 Q1967.25 341.233 1969.29 340.099 Q1971.33 338.965 1974.13 338.965 Q1976.95 338.965 1978.92 340.4 Q1980.91 341.835 1981.86 344.567 Z\" fill=\"#000000\" fill-rule=\"evenodd\" fill-opacity=\"1\" /><path clip-path=\"url(#clip610)\" d=\"M 0 0 M2026 351.488 L2026 353.571 L2006.42 353.571 Q2006.7 357.969 2009.06 360.284 Q2011.44 362.576 2015.68 362.576 Q2018.13 362.576 2020.43 361.974 Q2022.74 361.372 2025.01 360.169 L2025.01 364.196 Q2022.72 365.168 2020.31 365.678 Q2017.9 366.187 2015.43 366.187 Q2009.22 366.187 2005.59 362.576 Q2001.98 358.965 2001.98 352.807 Q2001.98 346.442 2005.4 342.715 Q2008.85 338.965 2014.69 338.965 Q2019.92 338.965 2022.95 342.345 Q2026 345.701 2026 351.488 M2021.75 350.238 Q2021.7 346.743 2019.78 344.659 Q2017.88 342.576 2014.73 342.576 Q2011.17 342.576 2009.01 344.59 Q2006.88 346.604 2006.56 350.261 L2021.75 350.238 Z\" fill=\"#000000\" fill-rule=\"evenodd\" fill-opacity=\"1\" /><path clip-path=\"url(#clip610)\" d=\"M 0 0 M2052.02 349.868 L2052.02 365.516 L2047.76 365.516 L2047.76 350.007 Q2047.76 346.326 2046.33 344.497 Q2044.89 342.669 2042.02 342.669 Q2038.57 342.669 2036.58 344.868 Q2034.59 347.067 2034.59 350.863 L2034.59 365.516 L2030.31 365.516 L2030.31 339.59 L2034.59 339.59 L2034.59 343.618 Q2036.12 341.28 2038.18 340.122 Q2040.26 338.965 2042.97 338.965 Q2047.44 338.965 2049.73 341.743 Q2052.02 344.497 2052.02 349.868 Z\" fill=\"#000000\" fill-rule=\"evenodd\" fill-opacity=\"1\" /><path clip-path=\"url(#clip610)\" d=\"M 0 0 M2073.55 352.252 Q2073.55 347.622 2071.63 345.076 Q2069.73 342.53 2066.28 342.53 Q2062.86 342.53 2060.93 345.076 Q2059.04 347.622 2059.04 352.252 Q2059.04 356.858 2060.93 359.405 Q2062.86 361.951 2066.28 361.951 Q2069.73 361.951 2071.63 359.405 Q2073.55 356.858 2073.55 352.252 M2077.81 362.298 Q2077.81 368.918 2074.87 372.136 Q2071.93 375.377 2065.87 375.377 Q2063.62 375.377 2061.63 375.03 Q2059.64 374.705 2057.76 374.011 L2057.76 369.868 Q2059.64 370.886 2061.47 371.372 Q2063.3 371.858 2065.19 371.858 Q2069.38 371.858 2071.47 369.659 Q2073.55 367.483 2073.55 363.062 L2073.55 360.956 Q2072.23 363.247 2070.17 364.381 Q2068.11 365.516 2065.24 365.516 Q2060.47 365.516 2057.56 361.881 Q2054.64 358.247 2054.64 352.252 Q2054.64 346.233 2057.56 342.599 Q2060.47 338.965 2065.24 338.965 Q2068.11 338.965 2070.17 340.099 Q2072.23 341.233 2073.55 343.525 L2073.55 339.59 L2077.81 339.59 L2077.81 362.298 Z\" fill=\"#000000\" fill-rule=\"evenodd\" fill-opacity=\"1\" /><path clip-path=\"url(#clip610)\" d=\"M 0 0 M2104.45 351.488 L2104.45 353.571 L2084.87 353.571 Q2085.15 357.969 2087.51 360.284 Q2089.89 362.576 2094.13 362.576 Q2096.58 362.576 2098.87 361.974 Q2101.19 361.372 2103.46 360.169 L2103.46 364.196 Q2101.17 365.168 2098.76 365.678 Q2096.35 366.187 2093.87 366.187 Q2087.67 366.187 2084.04 362.576 Q2080.43 358.965 2080.43 352.807 Q2080.43 346.442 2083.85 342.715 Q2087.3 338.965 2093.13 338.965 Q2098.37 338.965 2101.4 342.345 Q2104.45 345.701 2104.45 351.488 M2100.19 350.238 Q2100.15 346.743 2098.23 344.659 Q2096.33 342.576 2093.18 342.576 Q2089.62 342.576 2087.46 344.59 Q2085.33 346.604 2085.01 350.261 L2100.19 350.238 Z\" fill=\"#000000\" fill-rule=\"evenodd\" fill-opacity=\"1\" /></svg>\n"
      ]
     },
     "execution_count": 70,
     "metadata": {},
     "output_type": "execute_result"
    }
   ],
   "source": [
    "groupedbar(bardataHell, label=[\"Produktionsmenge\" \"Absatzmenge\" \"Lagermenge\"], title = \"Produkt Hell\",\n",
    "           colour = [:DeepSkyBlue4 :Red3 :orange], xlabel = \"Periode\", ylabel = \"Menge\", ylim = (0,45))"
   ]
  },
  {
   "cell_type": "markdown",
   "metadata": {
    "slideshow": {
     "slide_type": "slide"
    }
   },
   "source": [
    "Lassen Sie sich die Produktionsmengen, die Absatzmengen und die Lagermengen für Produkt \"Dunkel\" anzeigen."
   ]
  },
  {
   "cell_type": "code",
   "execution_count": 71,
   "metadata": {
    "slideshow": {
     "slide_type": "fragment"
    }
   },
   "outputs": [
    {
     "data": {
      "text/plain": [
       "5×3 Array{Float64,2}:\n",
       " 20.0  20.0   0.0\n",
       " 20.0  20.0   0.0\n",
       " 26.0  20.0   6.0\n",
       " 26.0  20.0  12.0\n",
       " 28.0  40.0   0.0"
      ]
     },
     "execution_count": 71,
     "metadata": {},
     "output_type": "execute_result"
    }
   ],
   "source": [
    "bardataDunkel = [[JuMP.value(X[2,t]) for t in 1:T ] [JuMP.value(A[2,t]) for t in 1:T] [JuMP.value(L[2,t])\n",
    "                 for t in 1:T ]] "
   ]
  },
  {
   "cell_type": "markdown",
   "metadata": {
    "slideshow": {
     "slide_type": "slide"
    }
   },
   "source": [
    "Stellen Sie diese grafisch dar."
   ]
  },
  {
   "cell_type": "code",
   "execution_count": 72,
   "metadata": {
    "slideshow": {
     "slide_type": "fragment"
    }
   },
   "outputs": [
    {
     "data": {
      "image/svg+xml": [
       "<?xml version=\"1.0\" encoding=\"utf-8\"?>\n",
       "<svg xmlns=\"http://www.w3.org/2000/svg\" xmlns:xlink=\"http://www.w3.org/1999/xlink\" width=\"600\" height=\"400\" viewBox=\"0 0 2400 1600\">\n",
       "<defs>\n",
       "  <clipPath id=\"clip650\">\n",
       "    <rect x=\"0\" y=\"0\" width=\"2400\" height=\"1600\"/>\n",
       "  </clipPath>\n",
       "</defs>\n",
       "<path clip-path=\"url(#clip650)\" d=\"\n",
       "M0 1600 L2400 1600 L2400 0 L0 0  Z\n",
       "  \" fill=\"#ffffff\" fill-rule=\"evenodd\" fill-opacity=\"1\"/>\n",
       "<defs>\n",
       "  <clipPath id=\"clip651\">\n",
       "    <rect x=\"480\" y=\"0\" width=\"1681\" height=\"1600\"/>\n",
       "  </clipPath>\n",
       "</defs>\n",
       "<path clip-path=\"url(#clip650)\" d=\"\n",
       "M202.459 1423.18 L2352.76 1423.18 L2352.76 123.472 L202.459 123.472  Z\n",
       "  \" fill=\"#ffffff\" fill-rule=\"evenodd\" fill-opacity=\"1\"/>\n",
       "<defs>\n",
       "  <clipPath id=\"clip652\">\n",
       "    <rect x=\"202\" y=\"123\" width=\"2151\" height=\"1301\"/>\n",
       "  </clipPath>\n",
       "</defs>\n",
       "<polyline clip-path=\"url(#clip652)\" style=\"stroke:#000000; stroke-width:2; stroke-opacity:0.1; fill:none\" points=\"\n",
       "  475.162,1423.18 475.162,123.472 \n",
       "  \"/>\n",
       "<polyline clip-path=\"url(#clip652)\" style=\"stroke:#000000; stroke-width:2; stroke-opacity:0.1; fill:none\" points=\"\n",
       "  876.385,1423.18 876.385,123.472 \n",
       "  \"/>\n",
       "<polyline clip-path=\"url(#clip652)\" style=\"stroke:#000000; stroke-width:2; stroke-opacity:0.1; fill:none\" points=\"\n",
       "  1277.61,1423.18 1277.61,123.472 \n",
       "  \"/>\n",
       "<polyline clip-path=\"url(#clip652)\" style=\"stroke:#000000; stroke-width:2; stroke-opacity:0.1; fill:none\" points=\"\n",
       "  1678.83,1423.18 1678.83,123.472 \n",
       "  \"/>\n",
       "<polyline clip-path=\"url(#clip652)\" style=\"stroke:#000000; stroke-width:2; stroke-opacity:0.1; fill:none\" points=\"\n",
       "  2080.05,1423.18 2080.05,123.472 \n",
       "  \"/>\n",
       "<polyline clip-path=\"url(#clip650)\" style=\"stroke:#000000; stroke-width:4; stroke-opacity:1; fill:none\" points=\"\n",
       "  202.459,1423.18 2352.76,1423.18 \n",
       "  \"/>\n",
       "<polyline clip-path=\"url(#clip650)\" style=\"stroke:#000000; stroke-width:4; stroke-opacity:1; fill:none\" points=\"\n",
       "  475.162,1423.18 475.162,1407.58 \n",
       "  \"/>\n",
       "<polyline clip-path=\"url(#clip650)\" style=\"stroke:#000000; stroke-width:4; stroke-opacity:1; fill:none\" points=\"\n",
       "  876.385,1423.18 876.385,1407.58 \n",
       "  \"/>\n",
       "<polyline clip-path=\"url(#clip650)\" style=\"stroke:#000000; stroke-width:4; stroke-opacity:1; fill:none\" points=\"\n",
       "  1277.61,1423.18 1277.61,1407.58 \n",
       "  \"/>\n",
       "<polyline clip-path=\"url(#clip650)\" style=\"stroke:#000000; stroke-width:4; stroke-opacity:1; fill:none\" points=\"\n",
       "  1678.83,1423.18 1678.83,1407.58 \n",
       "  \"/>\n",
       "<polyline clip-path=\"url(#clip650)\" style=\"stroke:#000000; stroke-width:4; stroke-opacity:1; fill:none\" points=\"\n",
       "  2080.05,1423.18 2080.05,1407.58 \n",
       "  \"/>\n",
       "<path clip-path=\"url(#clip650)\" d=\"M 0 0 M465.544 1479.92 L473.183 1479.92 L473.183 1453.55 L464.873 1455.22 L464.873 1450.96 L473.137 1449.29 L477.812 1449.29 L477.812 1479.92 L485.451 1479.92 L485.451 1483.85 L465.544 1483.85 L465.544 1479.92 Z\" fill=\"#000000\" fill-rule=\"evenodd\" fill-opacity=\"1\" /><path clip-path=\"url(#clip650)\" d=\"M 0 0 M871.038 1479.92 L887.357 1479.92 L887.357 1483.85 L865.413 1483.85 L865.413 1479.92 Q868.075 1477.16 872.658 1472.53 Q877.264 1467.88 878.445 1466.54 Q880.69 1464.01 881.57 1462.28 Q882.473 1460.52 882.473 1458.83 Q882.473 1456.07 880.528 1454.34 Q878.607 1452.6 875.505 1452.6 Q873.306 1452.6 870.852 1453.37 Q868.422 1454.13 865.644 1455.68 L865.644 1450.96 Q868.468 1449.82 870.922 1449.25 Q873.375 1448.67 875.412 1448.67 Q880.783 1448.67 883.977 1451.35 Q887.172 1454.04 887.172 1458.53 Q887.172 1460.66 886.362 1462.58 Q885.574 1464.48 883.468 1467.07 Q882.889 1467.74 879.787 1470.96 Q876.686 1474.15 871.038 1479.92 Z\" fill=\"#000000\" fill-rule=\"evenodd\" fill-opacity=\"1\" /><path clip-path=\"url(#clip650)\" d=\"M 0 0 M1281.86 1465.22 Q1285.21 1465.94 1287.09 1468.2 Q1288.98 1470.47 1288.98 1473.81 Q1288.98 1478.92 1285.47 1481.72 Q1281.95 1484.52 1275.47 1484.52 Q1273.29 1484.52 1270.98 1484.08 Q1268.68 1483.67 1266.23 1482.81 L1266.23 1478.3 Q1268.17 1479.43 1270.49 1480.01 Q1272.8 1480.59 1275.33 1480.59 Q1279.73 1480.59 1282.02 1478.85 Q1284.33 1477.12 1284.33 1473.81 Q1284.33 1470.75 1282.18 1469.04 Q1280.05 1467.3 1276.23 1467.3 L1272.2 1467.3 L1272.2 1463.46 L1276.42 1463.46 Q1279.86 1463.46 1281.69 1462.09 Q1283.52 1460.7 1283.52 1458.11 Q1283.52 1455.45 1281.62 1454.04 Q1279.75 1452.6 1276.23 1452.6 Q1274.31 1452.6 1272.11 1453.02 Q1269.91 1453.44 1267.27 1454.31 L1267.27 1450.15 Q1269.93 1449.41 1272.25 1449.04 Q1274.59 1448.67 1276.65 1448.67 Q1281.97 1448.67 1285.07 1451.1 Q1288.17 1453.5 1288.17 1457.63 Q1288.17 1460.5 1286.53 1462.49 Q1284.89 1464.45 1281.86 1465.22 Z\" fill=\"#000000\" fill-rule=\"evenodd\" fill-opacity=\"1\" /><path clip-path=\"url(#clip650)\" d=\"M 0 0 M1681.84 1453.37 L1670.03 1471.81 L1681.84 1471.81 L1681.84 1453.37 M1680.61 1449.29 L1686.49 1449.29 L1686.49 1471.81 L1691.42 1471.81 L1691.42 1475.7 L1686.49 1475.7 L1686.49 1483.85 L1681.84 1483.85 L1681.84 1475.7 L1666.24 1475.7 L1666.24 1471.19 L1680.61 1449.29 Z\" fill=\"#000000\" fill-rule=\"evenodd\" fill-opacity=\"1\" /><path clip-path=\"url(#clip650)\" d=\"M 0 0 M2070.33 1449.29 L2088.69 1449.29 L2088.69 1453.23 L2074.61 1453.23 L2074.61 1461.7 Q2075.63 1461.35 2076.65 1461.19 Q2077.67 1461 2078.69 1461 Q2084.47 1461 2087.85 1464.18 Q2091.23 1467.35 2091.23 1472.76 Q2091.23 1478.34 2087.76 1481.44 Q2084.29 1484.52 2077.97 1484.52 Q2075.79 1484.52 2073.53 1484.15 Q2071.28 1483.78 2068.87 1483.04 L2068.87 1478.34 Q2070.96 1479.48 2073.18 1480.03 Q2075.4 1480.59 2077.88 1480.59 Q2081.88 1480.59 2084.22 1478.48 Q2086.56 1476.38 2086.56 1472.76 Q2086.56 1469.15 2084.22 1467.05 Q2081.88 1464.94 2077.88 1464.94 Q2076 1464.94 2074.13 1465.36 Q2072.28 1465.77 2070.33 1466.65 L2070.33 1449.29 Z\" fill=\"#000000\" fill-rule=\"evenodd\" fill-opacity=\"1\" /><path clip-path=\"url(#clip650)\" d=\"M 0 0 M1177.94 1513.81 L1177.94 1531.66 L1186.02 1531.66 Q1190.51 1531.66 1192.96 1529.34 Q1195.41 1527.02 1195.41 1522.72 Q1195.41 1518.45 1192.96 1516.13 Q1190.51 1513.81 1186.02 1513.81 L1177.94 1513.81 M1171.51 1508.52 L1186.02 1508.52 Q1194.01 1508.52 1198.08 1512.15 Q1202.19 1515.75 1202.19 1522.72 Q1202.19 1529.75 1198.08 1533.35 Q1194.01 1536.95 1186.02 1536.95 L1177.94 1536.95 L1177.94 1556.04 L1171.51 1556.04 L1171.51 1508.52 Z\" fill=\"#000000\" fill-rule=\"evenodd\" fill-opacity=\"1\" /><path clip-path=\"url(#clip650)\" d=\"M 0 0 M1236.5 1536.76 L1236.5 1539.62 L1209.57 1539.62 Q1209.96 1545.67 1213.2 1548.85 Q1216.48 1552 1222.31 1552 Q1225.68 1552 1228.83 1551.17 Q1232.01 1550.35 1235.13 1548.69 L1235.13 1554.23 Q1231.98 1555.57 1228.67 1556.27 Q1225.36 1556.97 1221.96 1556.97 Q1213.43 1556.97 1208.43 1552 Q1203.46 1547.04 1203.46 1538.57 Q1203.46 1529.82 1208.17 1524.69 Q1212.92 1519.54 1220.94 1519.54 Q1228.13 1519.54 1232.3 1524.18 Q1236.5 1528.8 1236.5 1536.76 M1230.64 1535.04 Q1230.58 1530.23 1227.94 1527.37 Q1225.33 1524.5 1221 1524.5 Q1216.1 1524.5 1213.14 1527.27 Q1210.21 1530.04 1209.76 1535.07 L1230.64 1535.04 Z\" fill=\"#000000\" fill-rule=\"evenodd\" fill-opacity=\"1\" /><path clip-path=\"url(#clip650)\" d=\"M 0 0 M1263.3 1525.87 Q1262.31 1525.3 1261.14 1525.04 Q1259.99 1524.76 1258.59 1524.76 Q1253.62 1524.76 1250.95 1528 Q1248.31 1531.22 1248.31 1537.27 L1248.31 1556.04 L1242.42 1556.04 L1242.42 1520.4 L1248.31 1520.4 L1248.31 1525.93 Q1250.16 1522.69 1253.12 1521.13 Q1256.08 1519.54 1260.31 1519.54 Q1260.91 1519.54 1261.65 1519.63 Q1262.38 1519.7 1263.27 1519.85 L1263.3 1525.87 Z\" fill=\"#000000\" fill-rule=\"evenodd\" fill-opacity=\"1\" /><path clip-path=\"url(#clip650)\" d=\"M 0 0 M1269.44 1520.4 L1275.3 1520.4 L1275.3 1556.04 L1269.44 1556.04 L1269.44 1520.4 M1269.44 1506.52 L1275.3 1506.52 L1275.3 1513.93 L1269.44 1513.93 L1269.44 1506.52 Z\" fill=\"#000000\" fill-rule=\"evenodd\" fill-opacity=\"1\" /><path clip-path=\"url(#clip650)\" d=\"M 0 0 M1295.26 1524.5 Q1290.55 1524.5 1287.81 1528.19 Q1285.07 1531.85 1285.07 1538.25 Q1285.07 1544.65 1287.78 1548.34 Q1290.51 1552 1295.26 1552 Q1299.94 1552 1302.67 1548.31 Q1305.41 1544.62 1305.41 1538.25 Q1305.41 1531.92 1302.67 1528.23 Q1299.94 1524.5 1295.26 1524.5 M1295.26 1519.54 Q1302.9 1519.54 1307.26 1524.5 Q1311.62 1529.47 1311.62 1538.25 Q1311.62 1547 1307.26 1552 Q1302.9 1556.97 1295.26 1556.97 Q1287.59 1556.97 1283.23 1552 Q1278.9 1547 1278.9 1538.25 Q1278.9 1529.47 1283.23 1524.5 Q1287.59 1519.54 1295.26 1519.54 Z\" fill=\"#000000\" fill-rule=\"evenodd\" fill-opacity=\"1\" /><path clip-path=\"url(#clip650)\" d=\"M 0 0 M1341.22 1525.81 L1341.22 1506.52 L1347.07 1506.52 L1347.07 1556.04 L1341.22 1556.04 L1341.22 1550.7 Q1339.37 1553.88 1336.54 1555.44 Q1333.74 1556.97 1329.79 1556.97 Q1323.33 1556.97 1319.26 1551.81 Q1315.21 1546.65 1315.21 1538.25 Q1315.21 1529.85 1319.26 1524.69 Q1323.33 1519.54 1329.79 1519.54 Q1333.74 1519.54 1336.54 1521.1 Q1339.37 1522.62 1341.22 1525.81 M1321.26 1538.25 Q1321.26 1544.71 1323.9 1548.4 Q1326.58 1552.07 1331.22 1552.07 Q1335.87 1552.07 1338.54 1548.4 Q1341.22 1544.71 1341.22 1538.25 Q1341.22 1531.79 1338.54 1528.13 Q1335.87 1524.44 1331.22 1524.44 Q1326.58 1524.44 1323.9 1528.13 Q1321.26 1531.79 1321.26 1538.25 Z\" fill=\"#000000\" fill-rule=\"evenodd\" fill-opacity=\"1\" /><path clip-path=\"url(#clip650)\" d=\"M 0 0 M1383.71 1536.76 L1383.71 1539.62 L1356.78 1539.62 Q1357.16 1545.67 1360.41 1548.85 Q1363.69 1552 1369.51 1552 Q1372.89 1552 1376.04 1551.17 Q1379.22 1550.35 1382.34 1548.69 L1382.34 1554.23 Q1379.19 1555.57 1375.88 1556.27 Q1372.57 1556.97 1369.16 1556.97 Q1360.63 1556.97 1355.64 1552 Q1350.67 1547.04 1350.67 1538.57 Q1350.67 1529.82 1355.38 1524.69 Q1360.12 1519.54 1368.14 1519.54 Q1375.34 1519.54 1379.51 1524.18 Q1383.71 1528.8 1383.71 1536.76 M1377.85 1535.04 Q1377.79 1530.23 1375.15 1527.37 Q1372.54 1524.5 1368.21 1524.5 Q1363.31 1524.5 1360.35 1527.27 Q1357.42 1530.04 1356.97 1535.07 L1377.85 1535.04 Z\" fill=\"#000000\" fill-rule=\"evenodd\" fill-opacity=\"1\" /><polyline clip-path=\"url(#clip652)\" style=\"stroke:#000000; stroke-width:2; stroke-opacity:0.1; fill:none\" points=\"\n",
       "  202.459,1386.4 2352.76,1386.4 \n",
       "  \"/>\n",
       "<polyline clip-path=\"url(#clip652)\" style=\"stroke:#000000; stroke-width:2; stroke-opacity:0.1; fill:none\" points=\"\n",
       "  202.459,1079.86 2352.76,1079.86 \n",
       "  \"/>\n",
       "<polyline clip-path=\"url(#clip652)\" style=\"stroke:#000000; stroke-width:2; stroke-opacity:0.1; fill:none\" points=\"\n",
       "  202.459,773.326 2352.76,773.326 \n",
       "  \"/>\n",
       "<polyline clip-path=\"url(#clip652)\" style=\"stroke:#000000; stroke-width:2; stroke-opacity:0.1; fill:none\" points=\"\n",
       "  202.459,466.791 2352.76,466.791 \n",
       "  \"/>\n",
       "<polyline clip-path=\"url(#clip652)\" style=\"stroke:#000000; stroke-width:2; stroke-opacity:0.1; fill:none\" points=\"\n",
       "  202.459,160.256 2352.76,160.256 \n",
       "  \"/>\n",
       "<polyline clip-path=\"url(#clip650)\" style=\"stroke:#000000; stroke-width:4; stroke-opacity:1; fill:none\" points=\"\n",
       "  202.459,1423.18 202.459,123.472 \n",
       "  \"/>\n",
       "<polyline clip-path=\"url(#clip650)\" style=\"stroke:#000000; stroke-width:4; stroke-opacity:1; fill:none\" points=\"\n",
       "  202.459,1386.4 228.263,1386.4 \n",
       "  \"/>\n",
       "<polyline clip-path=\"url(#clip650)\" style=\"stroke:#000000; stroke-width:4; stroke-opacity:1; fill:none\" points=\"\n",
       "  202.459,1079.86 228.263,1079.86 \n",
       "  \"/>\n",
       "<polyline clip-path=\"url(#clip650)\" style=\"stroke:#000000; stroke-width:4; stroke-opacity:1; fill:none\" points=\"\n",
       "  202.459,773.326 228.263,773.326 \n",
       "  \"/>\n",
       "<polyline clip-path=\"url(#clip650)\" style=\"stroke:#000000; stroke-width:4; stroke-opacity:1; fill:none\" points=\"\n",
       "  202.459,466.791 228.263,466.791 \n",
       "  \"/>\n",
       "<polyline clip-path=\"url(#clip650)\" style=\"stroke:#000000; stroke-width:4; stroke-opacity:1; fill:none\" points=\"\n",
       "  202.459,160.256 228.263,160.256 \n",
       "  \"/>\n",
       "<path clip-path=\"url(#clip650)\" d=\"M 0 0 M154.515 1372.19 Q150.903 1372.19 149.075 1375.76 Q147.269 1379.3 147.269 1386.43 Q147.269 1393.54 149.075 1397.1 Q150.903 1400.64 154.515 1400.64 Q158.149 1400.64 159.954 1397.1 Q161.783 1393.54 161.783 1386.43 Q161.783 1379.3 159.954 1375.76 Q158.149 1372.19 154.515 1372.19 M154.515 1368.49 Q160.325 1368.49 163.38 1373.1 Q166.459 1377.68 166.459 1386.43 Q166.459 1395.16 163.38 1399.76 Q160.325 1404.35 154.515 1404.35 Q148.704 1404.35 145.626 1399.76 Q142.57 1395.16 142.57 1386.43 Q142.57 1377.68 145.626 1373.1 Q148.704 1368.49 154.515 1368.49 Z\" fill=\"#000000\" fill-rule=\"evenodd\" fill-opacity=\"1\" /><path clip-path=\"url(#clip650)\" d=\"M 0 0 M119.538 1093.21 L127.177 1093.21 L127.177 1066.84 L118.867 1068.51 L118.867 1064.25 L127.13 1062.58 L131.806 1062.58 L131.806 1093.21 L139.445 1093.21 L139.445 1097.14 L119.538 1097.14 L119.538 1093.21 Z\" fill=\"#000000\" fill-rule=\"evenodd\" fill-opacity=\"1\" /><path clip-path=\"url(#clip650)\" d=\"M 0 0 M154.515 1065.66 Q150.903 1065.66 149.075 1069.22 Q147.269 1072.77 147.269 1079.9 Q147.269 1087 149.075 1090.57 Q150.903 1094.11 154.515 1094.11 Q158.149 1094.11 159.954 1090.57 Q161.783 1087 161.783 1079.9 Q161.783 1072.77 159.954 1069.22 Q158.149 1065.66 154.515 1065.66 M154.515 1061.96 Q160.325 1061.96 163.38 1066.56 Q166.459 1071.15 166.459 1079.9 Q166.459 1088.62 163.38 1093.23 Q160.325 1097.81 154.515 1097.81 Q148.704 1097.81 145.626 1093.23 Q142.57 1088.62 142.57 1079.9 Q142.57 1071.15 145.626 1066.56 Q148.704 1061.96 154.515 1061.96 Z\" fill=\"#000000\" fill-rule=\"evenodd\" fill-opacity=\"1\" /><path clip-path=\"url(#clip650)\" d=\"M 0 0 M123.126 786.671 L139.445 786.671 L139.445 790.606 L117.501 790.606 L117.501 786.671 Q120.163 783.916 124.746 779.287 Q129.353 774.634 130.533 773.291 Q132.779 770.768 133.658 769.032 Q134.561 767.273 134.561 765.583 Q134.561 762.828 132.617 761.092 Q130.695 759.356 127.593 759.356 Q125.394 759.356 122.941 760.12 Q120.51 760.884 117.732 762.435 L117.732 757.713 Q120.556 756.578 123.01 756 Q125.464 755.421 127.501 755.421 Q132.871 755.421 136.066 758.106 Q139.26 760.791 139.26 765.282 Q139.26 767.412 138.45 769.333 Q137.663 771.231 135.556 773.824 Q134.978 774.495 131.876 777.713 Q128.774 780.907 123.126 786.671 Z\" fill=\"#000000\" fill-rule=\"evenodd\" fill-opacity=\"1\" /><path clip-path=\"url(#clip650)\" d=\"M 0 0 M154.515 759.125 Q150.903 759.125 149.075 762.689 Q147.269 766.231 147.269 773.361 Q147.269 780.467 149.075 784.032 Q150.903 787.574 154.515 787.574 Q158.149 787.574 159.954 784.032 Q161.783 780.467 161.783 773.361 Q161.783 766.231 159.954 762.689 Q158.149 759.125 154.515 759.125 M154.515 755.421 Q160.325 755.421 163.38 760.027 Q166.459 764.611 166.459 773.361 Q166.459 782.088 163.38 786.694 Q160.325 791.277 154.515 791.277 Q148.704 791.277 145.626 786.694 Q142.57 782.088 142.57 773.361 Q142.57 764.611 145.626 760.027 Q148.704 755.421 154.515 755.421 Z\" fill=\"#000000\" fill-rule=\"evenodd\" fill-opacity=\"1\" /><path clip-path=\"url(#clip650)\" d=\"M 0 0 M132.316 465.437 Q135.672 466.155 137.547 468.423 Q139.445 470.692 139.445 474.025 Q139.445 479.141 135.927 481.942 Q132.408 484.742 125.927 484.742 Q123.751 484.742 121.436 484.303 Q119.144 483.886 116.691 483.029 L116.691 478.516 Q118.635 479.65 120.95 480.229 Q123.265 480.807 125.788 480.807 Q130.186 480.807 132.478 479.071 Q134.792 477.335 134.792 474.025 Q134.792 470.969 132.64 469.256 Q130.51 467.52 126.691 467.52 L122.663 467.52 L122.663 463.678 L126.876 463.678 Q130.325 463.678 132.154 462.312 Q133.982 460.923 133.982 458.331 Q133.982 455.669 132.084 454.256 Q130.209 452.821 126.691 452.821 Q124.769 452.821 122.57 453.238 Q120.371 453.655 117.732 454.534 L117.732 450.368 Q120.394 449.627 122.709 449.257 Q125.047 448.886 127.107 448.886 Q132.431 448.886 135.533 451.317 Q138.635 453.724 138.635 457.844 Q138.635 460.715 136.992 462.706 Q135.348 464.673 132.316 465.437 Z\" fill=\"#000000\" fill-rule=\"evenodd\" fill-opacity=\"1\" /><path clip-path=\"url(#clip650)\" d=\"M 0 0 M154.515 452.59 Q150.903 452.59 149.075 456.155 Q147.269 459.696 147.269 466.826 Q147.269 473.932 149.075 477.497 Q150.903 481.039 154.515 481.039 Q158.149 481.039 159.954 477.497 Q161.783 473.932 161.783 466.826 Q161.783 459.696 159.954 456.155 Q158.149 452.59 154.515 452.59 M154.515 448.886 Q160.325 448.886 163.38 453.493 Q166.459 458.076 166.459 466.826 Q166.459 475.553 163.38 480.159 Q160.325 484.742 154.515 484.742 Q148.704 484.742 145.626 480.159 Q142.57 475.553 142.57 466.826 Q142.57 458.076 145.626 453.493 Q148.704 448.886 154.515 448.886 Z\" fill=\"#000000\" fill-rule=\"evenodd\" fill-opacity=\"1\" /><path clip-path=\"url(#clip650)\" d=\"M 0 0 M129.862 147.05 L118.056 165.499 L129.862 165.499 L129.862 147.05 M128.635 142.976 L134.515 142.976 L134.515 165.499 L139.445 165.499 L139.445 169.388 L134.515 169.388 L134.515 177.536 L129.862 177.536 L129.862 169.388 L114.26 169.388 L114.26 164.874 L128.635 142.976 Z\" fill=\"#000000\" fill-rule=\"evenodd\" fill-opacity=\"1\" /><path clip-path=\"url(#clip650)\" d=\"M 0 0 M154.515 146.055 Q150.903 146.055 149.075 149.62 Q147.269 153.161 147.269 160.291 Q147.269 167.397 149.075 170.962 Q150.903 174.504 154.515 174.504 Q158.149 174.504 159.954 170.962 Q161.783 167.397 161.783 160.291 Q161.783 153.161 159.954 149.62 Q158.149 146.055 154.515 146.055 M154.515 142.351 Q160.325 142.351 163.38 146.958 Q166.459 151.541 166.459 160.291 Q166.459 169.018 163.38 173.624 Q160.325 178.208 154.515 178.208 Q148.704 178.208 145.626 173.624 Q142.57 169.018 142.57 160.291 Q142.57 151.541 145.626 146.958 Q148.704 142.351 154.515 142.351 Z\" fill=\"#000000\" fill-rule=\"evenodd\" fill-opacity=\"1\" /><path clip-path=\"url(#clip650)\" d=\"M 0 0 M40.4842 867.316 L40.4842 857.735 L72.8219 845.609 L40.4842 833.418 L40.4842 823.838 L88.0042 823.838 L88.0042 830.108 L46.277 830.108 L78.8694 842.362 L78.8694 848.823 L46.277 861.077 L88.0042 861.077 L88.0042 867.316 L40.4842 867.316 Z\" fill=\"#000000\" fill-rule=\"evenodd\" fill-opacity=\"1\" /><path clip-path=\"url(#clip650)\" d=\"M 0 0 M68.7161 787.203 L71.5806 787.203 L71.5806 814.13 Q77.6281 813.748 80.8109 810.502 Q83.9619 807.223 83.9619 801.399 Q83.9619 798.025 83.1344 794.874 Q82.3069 791.691 80.6518 788.572 L86.1899 788.572 Q87.5267 791.723 88.227 795.033 Q88.9272 798.343 88.9272 801.749 Q88.9272 810.279 83.9619 815.276 Q78.9967 820.241 70.5303 820.241 Q61.7774 820.241 56.6531 815.531 Q51.4968 810.788 51.4968 802.767 Q51.4968 795.574 56.1438 791.405 Q60.7589 787.203 68.7161 787.203 M66.9973 793.06 Q62.1912 793.123 59.3266 795.765 Q56.4621 798.375 56.4621 802.704 Q56.4621 807.605 59.2312 810.565 Q62.0002 813.494 67.0292 813.939 L66.9973 793.06 Z\" fill=\"#000000\" fill-rule=\"evenodd\" fill-opacity=\"1\" /><path clip-path=\"url(#clip650)\" d=\"M 0 0 M66.4881 751.428 L88.0042 751.428 L88.0042 757.284 L66.679 757.284 Q61.6183 757.284 59.1038 759.258 Q56.5894 761.231 56.5894 765.178 Q56.5894 769.92 59.6131 772.658 Q62.6368 775.395 67.8567 775.395 L88.0042 775.395 L88.0042 781.283 L52.3562 781.283 L52.3562 775.395 L57.8944 775.395 Q54.6797 773.294 53.0883 770.461 Q51.4968 767.597 51.4968 763.873 Q51.4968 757.73 55.3163 754.579 Q59.1038 751.428 66.4881 751.428 Z\" fill=\"#000000\" fill-rule=\"evenodd\" fill-opacity=\"1\" /><path clip-path=\"url(#clip650)\" d=\"M 0 0 M69.7664 721.827 Q63.4007 721.827 59.8996 724.469 Q56.3984 727.079 56.3984 731.822 Q56.3984 736.532 59.8996 739.174 Q63.4007 741.784 69.7664 741.784 Q76.1003 741.784 79.6014 739.174 Q83.1026 736.532 83.1026 731.822 Q83.1026 727.079 79.6014 724.469 Q76.1003 721.827 69.7664 721.827 M83.58 715.971 Q92.683 715.971 97.1071 720.013 Q101.563 724.055 101.563 732.394 Q101.563 735.482 101.086 738.219 Q100.64 740.956 99.6852 743.534 L93.9879 743.534 Q95.3884 740.956 96.0568 738.442 Q96.7252 735.927 96.7252 733.318 Q96.7252 727.557 93.7015 724.692 Q90.7096 721.827 84.6303 721.827 L81.7339 721.827 Q84.885 723.642 86.4446 726.474 Q88.0042 729.307 88.0042 733.254 Q88.0042 739.811 83.0071 743.821 Q78.01 747.831 69.7664 747.831 Q61.491 747.831 56.4939 743.821 Q51.4968 739.811 51.4968 733.254 Q51.4968 729.307 53.0564 726.474 Q54.616 723.642 57.7671 721.827 L52.3562 721.827 L52.3562 715.971 L83.58 715.971 Z\" fill=\"#000000\" fill-rule=\"evenodd\" fill-opacity=\"1\" /><path clip-path=\"url(#clip650)\" d=\"M 0 0 M68.7161 679.336 L71.5806 679.336 L71.5806 706.263 Q77.6281 705.881 80.8109 702.635 Q83.9619 699.356 83.9619 693.532 Q83.9619 690.158 83.1344 687.007 Q82.3069 683.824 80.6518 680.705 L86.1899 680.705 Q87.5267 683.856 88.227 687.166 Q88.9272 690.476 88.9272 693.882 Q88.9272 702.412 83.9619 707.409 Q78.9967 712.374 70.5303 712.374 Q61.7774 712.374 56.6531 707.664 Q51.4968 702.921 51.4968 694.9 Q51.4968 687.707 56.1438 683.538 Q60.7589 679.336 68.7161 679.336 M66.9973 685.193 Q62.1912 685.256 59.3266 687.898 Q56.4621 690.508 56.4621 694.837 Q56.4621 699.738 59.2312 702.698 Q62.0002 705.627 67.0292 706.072 L66.9973 685.193 Z\" fill=\"#000000\" fill-rule=\"evenodd\" fill-opacity=\"1\" /><path clip-path=\"url(#clip650)\" d=\"M 0 0 M1002.15 18.8205 L1002.15 41.5461 L1012.44 41.5461 Q1018.15 41.5461 1021.27 38.5889 Q1024.39 35.6318 1024.39 30.163 Q1024.39 24.7348 1021.27 21.7777 Q1018.15 18.8205 1012.44 18.8205 L1002.15 18.8205 M993.963 12.096 L1012.44 12.096 Q1022.6 12.096 1027.79 16.714 Q1033.01 21.2916 1033.01 30.163 Q1033.01 39.1155 1027.79 43.6931 Q1022.6 48.2706 1012.44 48.2706 L1002.15 48.2706 L1002.15 72.576 L993.963 72.576 L993.963 12.096 Z\" fill=\"#000000\" fill-rule=\"evenodd\" fill-opacity=\"1\" /><path clip-path=\"url(#clip650)\" d=\"M 0 0 M1065.66 34.1734 Q1064.41 33.4443 1062.91 33.1202 Q1061.45 32.7556 1059.67 32.7556 Q1053.35 32.7556 1049.95 36.8875 Q1046.58 40.9789 1046.58 48.6757 L1046.58 72.576 L1039.09 72.576 L1039.09 27.2059 L1046.58 27.2059 L1046.58 34.2544 Q1048.93 30.1225 1052.7 28.1376 Q1056.47 26.1121 1061.86 26.1121 Q1062.63 26.1121 1063.56 26.2337 Q1064.49 26.3147 1065.62 26.5172 L1065.66 34.1734 Z\" fill=\"#000000\" fill-rule=\"evenodd\" fill-opacity=\"1\" /><path clip-path=\"url(#clip650)\" d=\"M 0 0 M1089.24 32.4315 Q1083.25 32.4315 1079.76 37.1306 Q1076.28 41.7891 1076.28 49.9314 Q1076.28 58.0738 1079.72 62.7728 Q1083.2 67.4314 1089.24 67.4314 Q1095.2 67.4314 1098.68 62.7323 Q1102.16 58.0333 1102.16 49.9314 Q1102.16 41.8701 1098.68 37.1711 Q1095.2 32.4315 1089.24 32.4315 M1089.24 26.1121 Q1098.96 26.1121 1104.51 32.4315 Q1110.06 38.7509 1110.06 49.9314 Q1110.06 61.0714 1104.51 67.4314 Q1098.96 73.7508 1089.24 73.7508 Q1079.48 73.7508 1073.93 67.4314 Q1068.42 61.0714 1068.42 49.9314 Q1068.42 38.7509 1073.93 32.4315 Q1079.48 26.1121 1089.24 26.1121 Z\" fill=\"#000000\" fill-rule=\"evenodd\" fill-opacity=\"1\" /><path clip-path=\"url(#clip650)\" d=\"M 0 0 M1147.74 34.0924 L1147.74 9.54393 L1155.19 9.54393 L1155.19 72.576 L1147.74 72.576 L1147.74 65.7705 Q1145.39 69.8214 1141.78 71.8063 Q1138.22 73.7508 1133.19 73.7508 Q1124.97 73.7508 1119.78 67.1883 Q1114.64 60.6258 1114.64 49.9314 Q1114.64 39.2371 1119.78 32.6746 Q1124.97 26.1121 1133.19 26.1121 Q1138.22 26.1121 1141.78 28.0971 Q1145.39 30.0415 1147.74 34.0924 M1122.34 49.9314 Q1122.34 58.1548 1125.7 62.8538 Q1129.1 67.5124 1135.02 67.5124 Q1140.93 67.5124 1144.33 62.8538 Q1147.74 58.1548 1147.74 49.9314 Q1147.74 41.7081 1144.33 37.0496 Q1140.93 32.3505 1135.02 32.3505 Q1129.1 32.3505 1125.7 37.0496 Q1122.34 41.7081 1122.34 49.9314 Z\" fill=\"#000000\" fill-rule=\"evenodd\" fill-opacity=\"1\" /><path clip-path=\"url(#clip650)\" d=\"M 0 0 M1162.24 54.671 L1162.24 27.2059 L1169.69 27.2059 L1169.69 54.3874 Q1169.69 60.8284 1172.2 64.0691 Q1174.71 67.2693 1179.74 67.2693 Q1185.77 67.2693 1189.26 63.421 Q1192.78 59.5726 1192.78 52.9291 L1192.78 27.2059 L1200.24 27.2059 L1200.24 72.576 L1192.78 72.576 L1192.78 65.6084 Q1190.07 69.7404 1186.46 71.7658 Q1182.9 73.7508 1178.16 73.7508 Q1170.34 73.7508 1166.29 68.8897 Q1162.24 64.0286 1162.24 54.671 M1180.99 26.1121 L1180.99 26.1121 Z\" fill=\"#000000\" fill-rule=\"evenodd\" fill-opacity=\"1\" /><path clip-path=\"url(#clip650)\" d=\"M 0 0 M1207.77 9.54393 L1215.26 9.54393 L1215.26 46.7717 L1237.5 27.2059 L1247.02 27.2059 L1222.96 48.4326 L1248.04 72.576 L1238.31 72.576 L1215.26 50.4176 L1215.26 72.576 L1207.77 72.576 L1207.77 9.54393 Z\" fill=\"#000000\" fill-rule=\"evenodd\" fill-opacity=\"1\" /><path clip-path=\"url(#clip650)\" d=\"M 0 0 M1263.23 14.324 L1263.23 27.2059 L1278.58 27.2059 L1278.58 32.9987 L1263.23 32.9987 L1263.23 57.6282 Q1263.23 63.1779 1264.73 64.7578 Q1266.26 66.3376 1270.92 66.3376 L1278.58 66.3376 L1278.58 72.576 L1270.92 72.576 Q1262.3 72.576 1259.01 69.3758 Q1255.73 66.1351 1255.73 57.6282 L1255.73 32.9987 L1250.26 32.9987 L1250.26 27.2059 L1255.73 27.2059 L1255.73 14.324 L1263.23 14.324 Z\" fill=\"#000000\" fill-rule=\"evenodd\" fill-opacity=\"1\" /><path clip-path=\"url(#clip650)\" d=\"M 0 0 M1321.28 18.8205 L1321.28 65.8515 L1331.16 65.8515 Q1343.68 65.8515 1349.47 60.1802 Q1355.3 54.509 1355.3 42.2752 Q1355.3 30.1225 1349.47 24.4918 Q1343.68 18.8205 1331.16 18.8205 L1321.28 18.8205 M1313.09 12.096 L1329.9 12.096 Q1347.49 12.096 1355.71 19.4281 Q1363.93 26.7198 1363.93 42.2752 Q1363.93 57.9117 1355.67 65.2439 Q1347.4 72.576 1329.9 72.576 L1313.09 72.576 L1313.09 12.096 Z\" fill=\"#000000\" fill-rule=\"evenodd\" fill-opacity=\"1\" /><path clip-path=\"url(#clip650)\" d=\"M 0 0 M1370.98 54.671 L1370.98 27.2059 L1378.43 27.2059 L1378.43 54.3874 Q1378.43 60.8284 1380.95 64.0691 Q1383.46 67.2693 1388.48 67.2693 Q1394.52 67.2693 1398 63.421 Q1401.52 59.5726 1401.52 52.9291 L1401.52 27.2059 L1408.98 27.2059 L1408.98 72.576 L1401.52 72.576 L1401.52 65.6084 Q1398.81 69.7404 1395.21 71.7658 Q1391.64 73.7508 1386.9 73.7508 Q1379.08 73.7508 1375.03 68.8897 Q1370.98 64.0286 1370.98 54.671 M1389.74 26.1121 L1389.74 26.1121 Z\" fill=\"#000000\" fill-rule=\"evenodd\" fill-opacity=\"1\" /><path clip-path=\"url(#clip650)\" d=\"M 0 0 M1454.51 45.1919 L1454.51 72.576 L1447.06 72.576 L1447.06 45.4349 Q1447.06 38.994 1444.55 35.7938 Q1442.03 32.5936 1437.01 32.5936 Q1430.97 32.5936 1427.49 36.4419 Q1424.01 40.2903 1424.01 46.9338 L1424.01 72.576 L1416.51 72.576 L1416.51 27.2059 L1424.01 27.2059 L1424.01 34.2544 Q1426.68 30.163 1430.29 28.1376 Q1433.93 26.1121 1438.67 26.1121 Q1446.49 26.1121 1450.5 30.9732 Q1454.51 35.7938 1454.51 45.1919 Z\" fill=\"#000000\" fill-rule=\"evenodd\" fill-opacity=\"1\" /><path clip-path=\"url(#clip650)\" d=\"M 0 0 M1462.05 9.54393 L1469.54 9.54393 L1469.54 46.7717 L1491.78 27.2059 L1501.3 27.2059 L1477.24 48.4326 L1502.31 72.576 L1492.59 72.576 L1469.54 50.4176 L1469.54 72.576 L1462.05 72.576 L1462.05 9.54393 Z\" fill=\"#000000\" fill-rule=\"evenodd\" fill-opacity=\"1\" /><path clip-path=\"url(#clip650)\" d=\"M 0 0 M1545.98 48.0275 L1545.98 51.6733 L1511.71 51.6733 Q1512.2 59.3701 1516.33 63.421 Q1520.5 67.4314 1527.91 67.4314 Q1532.21 67.4314 1536.22 66.3781 Q1540.27 65.3249 1544.24 63.2184 L1544.24 70.267 Q1540.23 71.9684 1536.01 72.8596 Q1531.8 73.7508 1527.47 73.7508 Q1516.61 73.7508 1510.25 67.4314 Q1503.93 61.1119 1503.93 50.3365 Q1503.93 39.1965 1509.93 32.6746 Q1515.96 26.1121 1526.17 26.1121 Q1535.33 26.1121 1540.63 32.0264 Q1545.98 37.9003 1545.98 48.0275 M1538.53 45.84 Q1538.45 39.7232 1535.08 36.0774 Q1531.76 32.4315 1526.25 32.4315 Q1520.01 32.4315 1516.25 35.9558 Q1512.52 39.4801 1511.95 45.8805 L1538.53 45.84 Z\" fill=\"#000000\" fill-rule=\"evenodd\" fill-opacity=\"1\" /><path clip-path=\"url(#clip650)\" d=\"M 0 0 M1553.8 9.54393 L1561.25 9.54393 L1561.25 72.576 L1553.8 72.576 L1553.8 9.54393 Z\" fill=\"#000000\" fill-rule=\"evenodd\" fill-opacity=\"1\" /><path clip-path=\"url(#clip652)\" d=\"\n",
       "M314.673 773.326 L314.673 1386.4 L421.666 1386.4 L421.666 773.326 L314.673 773.326 L314.673 773.326  Z\n",
       "  \" fill=\"#00688b\" fill-rule=\"evenodd\" fill-opacity=\"1\"/>\n",
       "<polyline clip-path=\"url(#clip652)\" style=\"stroke:#000000; stroke-width:4; stroke-opacity:1; fill:none\" points=\"\n",
       "  314.673,773.326 314.673,1386.4 421.666,1386.4 421.666,773.326 314.673,773.326 \n",
       "  \"/>\n",
       "<path clip-path=\"url(#clip652)\" d=\"\n",
       "M715.896 773.326 L715.896 1386.4 L822.888 1386.4 L822.888 773.326 L715.896 773.326 L715.896 773.326  Z\n",
       "  \" fill=\"#00688b\" fill-rule=\"evenodd\" fill-opacity=\"1\"/>\n",
       "<polyline clip-path=\"url(#clip652)\" style=\"stroke:#000000; stroke-width:4; stroke-opacity:1; fill:none\" points=\"\n",
       "  715.896,773.326 715.896,1386.4 822.888,1386.4 822.888,773.326 715.896,773.326 \n",
       "  \"/>\n",
       "<path clip-path=\"url(#clip652)\" d=\"\n",
       "M1117.12 589.405 L1117.12 1386.4 L1224.11 1386.4 L1224.11 589.405 L1117.12 589.405 L1117.12 589.405  Z\n",
       "  \" fill=\"#00688b\" fill-rule=\"evenodd\" fill-opacity=\"1\"/>\n",
       "<polyline clip-path=\"url(#clip652)\" style=\"stroke:#000000; stroke-width:4; stroke-opacity:1; fill:none\" points=\"\n",
       "  1117.12,589.405 1117.12,1386.4 1224.11,1386.4 1224.11,589.405 1117.12,589.405 \n",
       "  \"/>\n",
       "<path clip-path=\"url(#clip652)\" d=\"\n",
       "M1518.34 589.405 L1518.34 1386.4 L1625.33 1386.4 L1625.33 589.405 L1518.34 589.405 L1518.34 589.405  Z\n",
       "  \" fill=\"#00688b\" fill-rule=\"evenodd\" fill-opacity=\"1\"/>\n",
       "<polyline clip-path=\"url(#clip652)\" style=\"stroke:#000000; stroke-width:4; stroke-opacity:1; fill:none\" points=\"\n",
       "  1518.34,589.405 1518.34,1386.4 1625.33,1386.4 1625.33,589.405 1518.34,589.405 \n",
       "  \"/>\n",
       "<path clip-path=\"url(#clip652)\" d=\"\n",
       "M1919.56 528.098 L1919.56 1386.4 L2026.56 1386.4 L2026.56 528.098 L1919.56 528.098 L1919.56 528.098  Z\n",
       "  \" fill=\"#00688b\" fill-rule=\"evenodd\" fill-opacity=\"1\"/>\n",
       "<polyline clip-path=\"url(#clip652)\" style=\"stroke:#000000; stroke-width:4; stroke-opacity:1; fill:none\" points=\"\n",
       "  1919.56,528.098 1919.56,1386.4 2026.56,1386.4 2026.56,528.098 1919.56,528.098 \n",
       "  \"/>\n",
       "<path clip-path=\"url(#clip652)\" d=\"\n",
       "M421.666 773.326 L421.666 1386.4 L528.658 1386.4 L528.658 773.326 L421.666 773.326 L421.666 773.326  Z\n",
       "  \" fill=\"#cd0000\" fill-rule=\"evenodd\" fill-opacity=\"1\"/>\n",
       "<polyline clip-path=\"url(#clip652)\" style=\"stroke:#000000; stroke-width:4; stroke-opacity:1; fill:none\" points=\"\n",
       "  421.666,773.326 421.666,1386.4 528.658,1386.4 528.658,773.326 421.666,773.326 \n",
       "  \"/>\n",
       "<path clip-path=\"url(#clip652)\" d=\"\n",
       "M822.888 773.326 L822.888 1386.4 L929.881 1386.4 L929.881 773.326 L822.888 773.326 L822.888 773.326  Z\n",
       "  \" fill=\"#cd0000\" fill-rule=\"evenodd\" fill-opacity=\"1\"/>\n",
       "<polyline clip-path=\"url(#clip652)\" style=\"stroke:#000000; stroke-width:4; stroke-opacity:1; fill:none\" points=\"\n",
       "  822.888,773.326 822.888,1386.4 929.881,1386.4 929.881,773.326 822.888,773.326 \n",
       "  \"/>\n",
       "<path clip-path=\"url(#clip652)\" d=\"\n",
       "M1224.11 773.326 L1224.11 1386.4 L1331.1 1386.4 L1331.1 773.326 L1224.11 773.326 L1224.11 773.326  Z\n",
       "  \" fill=\"#cd0000\" fill-rule=\"evenodd\" fill-opacity=\"1\"/>\n",
       "<polyline clip-path=\"url(#clip652)\" style=\"stroke:#000000; stroke-width:4; stroke-opacity:1; fill:none\" points=\"\n",
       "  1224.11,773.326 1224.11,1386.4 1331.1,1386.4 1331.1,773.326 1224.11,773.326 \n",
       "  \"/>\n",
       "<path clip-path=\"url(#clip652)\" d=\"\n",
       "M1625.33 773.326 L1625.33 1386.4 L1732.33 1386.4 L1732.33 773.326 L1625.33 773.326 L1625.33 773.326  Z\n",
       "  \" fill=\"#cd0000\" fill-rule=\"evenodd\" fill-opacity=\"1\"/>\n",
       "<polyline clip-path=\"url(#clip652)\" style=\"stroke:#000000; stroke-width:4; stroke-opacity:1; fill:none\" points=\"\n",
       "  1625.33,773.326 1625.33,1386.4 1732.33,1386.4 1732.33,773.326 1625.33,773.326 \n",
       "  \"/>\n",
       "<path clip-path=\"url(#clip652)\" d=\"\n",
       "M2026.56 160.256 L2026.56 1386.4 L2133.55 1386.4 L2133.55 160.256 L2026.56 160.256 L2026.56 160.256  Z\n",
       "  \" fill=\"#cd0000\" fill-rule=\"evenodd\" fill-opacity=\"1\"/>\n",
       "<polyline clip-path=\"url(#clip652)\" style=\"stroke:#000000; stroke-width:4; stroke-opacity:1; fill:none\" points=\"\n",
       "  2026.56,160.256 2026.56,1386.4 2133.55,1386.4 2133.55,160.256 2026.56,160.256 \n",
       "  \"/>\n",
       "<path clip-path=\"url(#clip652)\" d=\"\n",
       "M528.658 1386.4 L528.658 1386.4 L635.651 1386.4 L635.651 1386.4 L528.658 1386.4 L528.658 1386.4  Z\n",
       "  \" fill=\"#ffa500\" fill-rule=\"evenodd\" fill-opacity=\"1\"/>\n",
       "<polyline clip-path=\"url(#clip652)\" style=\"stroke:#000000; stroke-width:4; stroke-opacity:1; fill:none\" points=\"\n",
       "  528.658,1386.4 528.658,1386.4 635.651,1386.4 528.658,1386.4 \n",
       "  \"/>\n",
       "<path clip-path=\"url(#clip652)\" d=\"\n",
       "M929.881 1386.4 L929.881 1386.4 L1036.87 1386.4 L1036.87 1386.4 L929.881 1386.4 L929.881 1386.4  Z\n",
       "  \" fill=\"#ffa500\" fill-rule=\"evenodd\" fill-opacity=\"1\"/>\n",
       "<polyline clip-path=\"url(#clip652)\" style=\"stroke:#000000; stroke-width:4; stroke-opacity:1; fill:none\" points=\"\n",
       "  929.881,1386.4 929.881,1386.4 1036.87,1386.4 929.881,1386.4 \n",
       "  \"/>\n",
       "<path clip-path=\"url(#clip652)\" d=\"\n",
       "M1331.1 1202.47 L1331.1 1386.4 L1438.1 1386.4 L1438.1 1202.47 L1331.1 1202.47 L1331.1 1202.47  Z\n",
       "  \" fill=\"#ffa500\" fill-rule=\"evenodd\" fill-opacity=\"1\"/>\n",
       "<polyline clip-path=\"url(#clip652)\" style=\"stroke:#000000; stroke-width:4; stroke-opacity:1; fill:none\" points=\"\n",
       "  1331.1,1202.47 1331.1,1386.4 1438.1,1386.4 1438.1,1202.47 1331.1,1202.47 \n",
       "  \"/>\n",
       "<path clip-path=\"url(#clip652)\" d=\"\n",
       "M1732.33 1018.55 L1732.33 1386.4 L1839.32 1386.4 L1839.32 1018.55 L1732.33 1018.55 L1732.33 1018.55  Z\n",
       "  \" fill=\"#ffa500\" fill-rule=\"evenodd\" fill-opacity=\"1\"/>\n",
       "<polyline clip-path=\"url(#clip652)\" style=\"stroke:#000000; stroke-width:4; stroke-opacity:1; fill:none\" points=\"\n",
       "  1732.33,1018.55 1732.33,1386.4 1839.32,1386.4 1839.32,1018.55 1732.33,1018.55 \n",
       "  \"/>\n",
       "<path clip-path=\"url(#clip652)\" d=\"\n",
       "M2133.55 1386.4 L2133.55 1386.4 L2240.54 1386.4 L2240.54 1386.4 L2133.55 1386.4 L2133.55 1386.4  Z\n",
       "  \" fill=\"#ffa500\" fill-rule=\"evenodd\" fill-opacity=\"1\"/>\n",
       "<polyline clip-path=\"url(#clip652)\" style=\"stroke:#000000; stroke-width:4; stroke-opacity:1; fill:none\" points=\"\n",
       "  2133.55,1386.4 2133.55,1386.4 2240.54,1386.4 2133.55,1386.4 \n",
       "  \"/>\n",
       "<path clip-path=\"url(#clip650)\" d=\"\n",
       "M274.136 408.716 L906.481 408.716 L906.481 166.796 L274.136 166.796  Z\n",
       "  \" fill=\"#ffffff\" fill-rule=\"evenodd\" fill-opacity=\"1\"/>\n",
       "<polyline clip-path=\"url(#clip650)\" style=\"stroke:#000000; stroke-width:4; stroke-opacity:1; fill:none\" points=\"\n",
       "  274.136,408.716 906.481,408.716 906.481,166.796 274.136,166.796 274.136,408.716 \n",
       "  \"/>\n",
       "<path clip-path=\"url(#clip650)\" d=\"\n",
       "M298.028 251.468 L441.381 251.468 L441.381 203.084 L298.028 203.084 L298.028 251.468  Z\n",
       "  \" fill=\"#00688b\" fill-rule=\"evenodd\" fill-opacity=\"1\"/>\n",
       "<polyline clip-path=\"url(#clip650)\" style=\"stroke:#000000; stroke-width:4; stroke-opacity:1; fill:none\" points=\"\n",
       "  298.028,251.468 441.381,251.468 441.381,203.084 298.028,203.084 298.028,251.468 \n",
       "  \"/>\n",
       "<path clip-path=\"url(#clip650)\" d=\"M 0 0 M469.949 213.838 L469.949 226.824 L475.829 226.824 Q479.092 226.824 480.875 225.135 Q482.657 223.445 482.657 220.32 Q482.657 217.218 480.875 215.528 Q479.092 213.838 475.829 213.838 L469.949 213.838 M465.273 209.996 L475.829 209.996 Q481.639 209.996 484.602 212.635 Q487.588 215.25 487.588 220.32 Q487.588 225.435 484.602 228.051 Q481.639 230.667 475.829 230.667 L469.949 230.667 L469.949 244.556 L465.273 244.556 L465.273 209.996 Z\" fill=\"#000000\" fill-rule=\"evenodd\" fill-opacity=\"1\" /><path clip-path=\"url(#clip650)\" d=\"M 0 0 M506.245 222.611 Q505.527 222.195 504.671 222.01 Q503.838 221.801 502.819 221.801 Q499.208 221.801 497.264 224.162 Q495.342 226.5 495.342 230.898 L495.342 244.556 L491.06 244.556 L491.06 218.63 L495.342 218.63 L495.342 222.658 Q496.685 220.297 498.838 219.162 Q500.99 218.005 504.069 218.005 Q504.509 218.005 505.041 218.074 Q505.574 218.121 506.222 218.236 L506.245 222.611 Z\" fill=\"#000000\" fill-rule=\"evenodd\" fill-opacity=\"1\" /><path clip-path=\"url(#clip650)\" d=\"M 0 0 M519.717 221.616 Q516.291 221.616 514.301 224.301 Q512.31 226.963 512.31 231.616 Q512.31 236.269 514.277 238.954 Q516.268 241.616 519.717 241.616 Q523.12 241.616 525.111 238.931 Q527.101 236.246 527.101 231.616 Q527.101 227.01 525.111 224.324 Q523.12 221.616 519.717 221.616 M519.717 218.005 Q525.273 218.005 528.444 221.616 Q531.615 225.227 531.615 231.616 Q531.615 237.982 528.444 241.616 Q525.273 245.227 519.717 245.227 Q514.139 245.227 510.967 241.616 Q507.819 237.982 507.819 231.616 Q507.819 225.227 510.967 221.616 Q514.139 218.005 519.717 218.005 Z\" fill=\"#000000\" fill-rule=\"evenodd\" fill-opacity=\"1\" /><path clip-path=\"url(#clip650)\" d=\"M 0 0 M553.143 222.565 L553.143 208.537 L557.402 208.537 L557.402 244.556 L553.143 244.556 L553.143 240.667 Q551.8 242.982 549.74 244.116 Q547.703 245.227 544.833 245.227 Q540.134 245.227 537.171 241.477 Q534.231 237.727 534.231 231.616 Q534.231 225.505 537.171 221.755 Q540.134 218.005 544.833 218.005 Q547.703 218.005 549.74 219.139 Q551.8 220.25 553.143 222.565 M538.629 231.616 Q538.629 236.315 540.55 239 Q542.495 241.662 545.874 241.662 Q549.254 241.662 551.198 239 Q553.143 236.315 553.143 231.616 Q553.143 226.917 551.198 224.255 Q549.254 221.57 545.874 221.57 Q542.495 221.57 540.55 224.255 Q538.629 226.917 538.629 231.616 Z\" fill=\"#000000\" fill-rule=\"evenodd\" fill-opacity=\"1\" /><path clip-path=\"url(#clip650)\" d=\"M 0 0 M561.43 234.324 L561.43 218.63 L565.689 218.63 L565.689 234.162 Q565.689 237.843 567.124 239.695 Q568.56 241.523 571.43 241.523 Q574.879 241.523 576.87 239.324 Q578.884 237.125 578.884 233.329 L578.884 218.63 L583.143 218.63 L583.143 244.556 L578.884 244.556 L578.884 240.574 Q577.333 242.935 575.272 244.093 Q573.235 245.227 570.527 245.227 Q566.06 245.227 563.745 242.449 Q561.43 239.671 561.43 234.324 M572.147 218.005 L572.147 218.005 Z\" fill=\"#000000\" fill-rule=\"evenodd\" fill-opacity=\"1\" /><path clip-path=\"url(#clip650)\" d=\"M 0 0 M587.448 208.537 L591.731 208.537 L591.731 229.81 L604.439 218.63 L609.879 218.63 L596.129 230.759 L610.457 244.556 L604.902 244.556 L591.731 231.894 L591.731 244.556 L587.448 244.556 L587.448 208.537 Z\" fill=\"#000000\" fill-rule=\"evenodd\" fill-opacity=\"1\" /><path clip-path=\"url(#clip650)\" d=\"M 0 0 M619.138 211.269 L619.138 218.63 L627.911 218.63 L627.911 221.94 L619.138 221.94 L619.138 236.014 Q619.138 239.185 619.994 240.088 Q620.874 240.991 623.536 240.991 L627.911 240.991 L627.911 244.556 L623.536 244.556 Q618.606 244.556 616.731 242.727 Q614.856 240.875 614.856 236.014 L614.856 221.94 L611.731 221.94 L611.731 218.63 L614.856 218.63 L614.856 211.269 L619.138 211.269 Z\" fill=\"#000000\" fill-rule=\"evenodd\" fill-opacity=\"1\" /><path clip-path=\"url(#clip650)\" d=\"M 0 0 M632.379 218.63 L636.638 218.63 L636.638 244.556 L632.379 244.556 L632.379 218.63 M632.379 208.537 L636.638 208.537 L636.638 213.931 L632.379 213.931 L632.379 208.537 Z\" fill=\"#000000\" fill-rule=\"evenodd\" fill-opacity=\"1\" /><path clip-path=\"url(#clip650)\" d=\"M 0 0 M651.152 221.616 Q647.726 221.616 645.735 224.301 Q643.744 226.963 643.744 231.616 Q643.744 236.269 645.712 238.954 Q647.703 241.616 651.152 241.616 Q654.554 241.616 656.545 238.931 Q658.536 236.246 658.536 231.616 Q658.536 227.01 656.545 224.324 Q654.554 221.616 651.152 221.616 M651.152 218.005 Q656.707 218.005 659.878 221.616 Q663.05 225.227 663.05 231.616 Q663.05 237.982 659.878 241.616 Q656.707 245.227 651.152 245.227 Q645.573 245.227 642.402 241.616 Q639.254 237.982 639.254 231.616 Q639.254 225.227 642.402 221.616 Q645.573 218.005 651.152 218.005 Z\" fill=\"#000000\" fill-rule=\"evenodd\" fill-opacity=\"1\" /><path clip-path=\"url(#clip650)\" d=\"M 0 0 M689.068 228.908 L689.068 244.556 L684.809 244.556 L684.809 229.047 Q684.809 225.366 683.374 223.537 Q681.939 221.709 679.068 221.709 Q675.619 221.709 673.628 223.908 Q671.638 226.107 671.638 229.903 L671.638 244.556 L667.355 244.556 L667.355 218.63 L671.638 218.63 L671.638 222.658 Q673.165 220.32 675.226 219.162 Q677.309 218.005 680.017 218.005 Q684.485 218.005 686.776 220.783 Q689.068 223.537 689.068 228.908 Z\" fill=\"#000000\" fill-rule=\"evenodd\" fill-opacity=\"1\" /><path clip-path=\"url(#clip650)\" d=\"M 0 0 M710.063 219.394 L710.063 223.422 Q708.258 222.496 706.313 222.033 Q704.369 221.57 702.286 221.57 Q699.114 221.57 697.517 222.542 Q695.943 223.514 695.943 225.459 Q695.943 226.94 697.077 227.797 Q698.212 228.63 701.637 229.394 L703.096 229.718 Q707.633 230.69 709.531 232.472 Q711.452 234.232 711.452 237.403 Q711.452 241.014 708.582 243.121 Q705.735 245.227 700.735 245.227 Q698.651 245.227 696.383 244.81 Q694.138 244.417 691.638 243.607 L691.638 239.209 Q693.999 240.435 696.29 241.06 Q698.582 241.662 700.827 241.662 Q703.837 241.662 705.457 240.644 Q707.077 239.602 707.077 237.727 Q707.077 235.991 705.897 235.065 Q704.739 234.139 700.781 233.283 L699.3 232.935 Q695.341 232.102 693.582 230.389 Q691.823 228.653 691.823 225.644 Q691.823 221.986 694.415 219.996 Q697.008 218.005 701.776 218.005 Q704.137 218.005 706.221 218.352 Q708.304 218.699 710.063 219.394 Z\" fill=\"#000000\" fill-rule=\"evenodd\" fill-opacity=\"1\" /><path clip-path=\"url(#clip650)\" d=\"M 0 0 M736.105 223.607 Q737.702 220.736 739.924 219.371 Q742.147 218.005 745.156 218.005 Q749.207 218.005 751.406 220.852 Q753.605 223.676 753.605 228.908 L753.605 244.556 L749.322 244.556 L749.322 229.047 Q749.322 225.32 748.003 223.514 Q746.684 221.709 743.975 221.709 Q740.665 221.709 738.744 223.908 Q736.822 226.107 736.822 229.903 L736.822 244.556 L732.54 244.556 L732.54 229.047 Q732.54 225.297 731.221 223.514 Q729.901 221.709 727.147 221.709 Q723.883 221.709 721.961 223.931 Q720.04 226.13 720.04 229.903 L720.04 244.556 L715.758 244.556 L715.758 218.63 L720.04 218.63 L720.04 222.658 Q721.499 220.273 723.536 219.139 Q725.573 218.005 728.373 218.005 Q731.198 218.005 733.165 219.44 Q735.156 220.875 736.105 223.607 Z\" fill=\"#000000\" fill-rule=\"evenodd\" fill-opacity=\"1\" /><path clip-path=\"url(#clip650)\" d=\"M 0 0 M780.248 230.528 L780.248 232.611 L760.665 232.611 Q760.943 237.009 763.304 239.324 Q765.688 241.616 769.924 241.616 Q772.378 241.616 774.67 241.014 Q776.984 240.412 779.253 239.209 L779.253 243.236 Q776.961 244.208 774.554 244.718 Q772.146 245.227 769.67 245.227 Q763.466 245.227 759.832 241.616 Q756.221 238.005 756.221 231.847 Q756.221 225.482 759.646 221.755 Q763.096 218.005 768.929 218.005 Q774.16 218.005 777.193 221.385 Q780.248 224.741 780.248 230.528 M775.989 229.278 Q775.943 225.783 774.021 223.699 Q772.123 221.616 768.975 221.616 Q765.41 221.616 763.258 223.63 Q761.128 225.644 760.804 229.301 L775.989 229.278 Z\" fill=\"#000000\" fill-rule=\"evenodd\" fill-opacity=\"1\" /><path clip-path=\"url(#clip650)\" d=\"M 0 0 M806.267 228.908 L806.267 244.556 L802.007 244.556 L802.007 229.047 Q802.007 225.366 800.572 223.537 Q799.137 221.709 796.267 221.709 Q792.818 221.709 790.827 223.908 Q788.836 226.107 788.836 229.903 L788.836 244.556 L784.554 244.556 L784.554 218.63 L788.836 218.63 L788.836 222.658 Q790.364 220.32 792.424 219.162 Q794.507 218.005 797.216 218.005 Q801.683 218.005 803.975 220.783 Q806.267 223.537 806.267 228.908 Z\" fill=\"#000000\" fill-rule=\"evenodd\" fill-opacity=\"1\" /><path clip-path=\"url(#clip650)\" d=\"M 0 0 M827.794 231.292 Q827.794 226.662 825.873 224.116 Q823.975 221.57 820.526 221.57 Q817.1 221.57 815.179 224.116 Q813.28 226.662 813.28 231.292 Q813.28 235.898 815.179 238.445 Q817.1 240.991 820.526 240.991 Q823.975 240.991 825.873 238.445 Q827.794 235.898 827.794 231.292 M832.053 241.338 Q832.053 247.958 829.114 251.176 Q826.174 254.417 820.109 254.417 Q817.864 254.417 815.873 254.07 Q813.882 253.745 812.007 253.051 L812.007 248.908 Q813.882 249.926 815.711 250.412 Q817.54 250.898 819.438 250.898 Q823.628 250.898 825.711 248.699 Q827.794 246.523 827.794 242.102 L827.794 239.996 Q826.475 242.287 824.415 243.421 Q822.354 244.556 819.484 244.556 Q814.716 244.556 811.799 240.921 Q808.882 237.287 808.882 231.292 Q808.882 225.273 811.799 221.639 Q814.716 218.005 819.484 218.005 Q822.354 218.005 824.415 219.139 Q826.475 220.273 827.794 222.565 L827.794 218.63 L832.053 218.63 L832.053 241.338 Z\" fill=\"#000000\" fill-rule=\"evenodd\" fill-opacity=\"1\" /><path clip-path=\"url(#clip650)\" d=\"M 0 0 M858.697 230.528 L858.697 232.611 L839.114 232.611 Q839.391 237.009 841.752 239.324 Q844.137 241.616 848.373 241.616 Q850.827 241.616 853.118 241.014 Q855.433 240.412 857.701 239.209 L857.701 243.236 Q855.41 244.208 853.002 244.718 Q850.595 245.227 848.118 245.227 Q841.915 245.227 838.28 241.616 Q834.669 238.005 834.669 231.847 Q834.669 225.482 838.095 221.755 Q841.544 218.005 847.377 218.005 Q852.609 218.005 855.641 221.385 Q858.697 224.741 858.697 230.528 M854.438 229.278 Q854.391 225.783 852.47 223.699 Q850.572 221.616 847.424 221.616 Q843.859 221.616 841.706 223.63 Q839.577 225.644 839.253 229.301 L854.438 229.278 Z\" fill=\"#000000\" fill-rule=\"evenodd\" fill-opacity=\"1\" /><path clip-path=\"url(#clip650)\" d=\"\n",
       "M298.028 311.948 L441.381 311.948 L441.381 263.564 L298.028 263.564 L298.028 311.948  Z\n",
       "  \" fill=\"#cd0000\" fill-rule=\"evenodd\" fill-opacity=\"1\"/>\n",
       "<polyline clip-path=\"url(#clip650)\" style=\"stroke:#000000; stroke-width:4; stroke-opacity:1; fill:none\" points=\"\n",
       "  298.028,311.948 441.381,311.948 441.381,263.564 298.028,263.564 298.028,311.948 \n",
       "  \"/>\n",
       "<path clip-path=\"url(#clip650)\" d=\"M 0 0 M481.106 275.082 L474.764 292.281 L487.472 292.281 L481.106 275.082 M478.467 270.476 L483.768 270.476 L496.94 305.036 L492.078 305.036 L488.93 296.17 L473.352 296.17 L470.204 305.036 L465.273 305.036 L478.467 270.476 Z\" fill=\"#000000\" fill-rule=\"evenodd\" fill-opacity=\"1\" /><path clip-path=\"url(#clip650)\" d=\"M 0 0 M520.018 292.096 Q520.018 287.397 518.074 284.735 Q516.152 282.05 512.773 282.05 Q509.393 282.05 507.449 284.735 Q505.527 287.397 505.527 292.096 Q505.527 296.795 507.449 299.48 Q509.393 302.142 512.773 302.142 Q516.152 302.142 518.074 299.48 Q520.018 296.795 520.018 292.096 M505.527 283.045 Q506.87 280.73 508.907 279.619 Q510.967 278.485 513.814 278.485 Q518.537 278.485 521.476 282.235 Q524.439 285.985 524.439 292.096 Q524.439 298.207 521.476 301.957 Q518.537 305.707 513.814 305.707 Q510.967 305.707 508.907 304.596 Q506.87 303.462 505.527 301.147 L505.527 305.036 L501.245 305.036 L501.245 269.017 L505.527 269.017 L505.527 283.045 Z\" fill=\"#000000\" fill-rule=\"evenodd\" fill-opacity=\"1\" /><path clip-path=\"url(#clip650)\" d=\"M 0 0 M545.435 279.874 L545.435 283.902 Q543.629 282.976 541.685 282.513 Q539.74 282.05 537.657 282.05 Q534.486 282.05 532.888 283.022 Q531.314 283.994 531.314 285.939 Q531.314 287.42 532.449 288.277 Q533.583 289.11 537.009 289.874 L538.467 290.198 Q543.004 291.17 544.902 292.952 Q546.824 294.712 546.824 297.883 Q546.824 301.494 543.953 303.601 Q541.106 305.707 536.106 305.707 Q534.023 305.707 531.754 305.29 Q529.509 304.897 527.009 304.087 L527.009 299.689 Q529.37 300.915 531.662 301.54 Q533.953 302.142 536.199 302.142 Q539.208 302.142 540.828 301.124 Q542.449 300.082 542.449 298.207 Q542.449 296.471 541.268 295.545 Q540.111 294.619 536.152 293.763 L534.671 293.415 Q530.712 292.582 528.953 290.869 Q527.194 289.133 527.194 286.124 Q527.194 282.466 529.787 280.476 Q532.379 278.485 537.148 278.485 Q539.509 278.485 541.592 278.832 Q543.675 279.179 545.435 279.874 Z\" fill=\"#000000\" fill-rule=\"evenodd\" fill-opacity=\"1\" /><path clip-path=\"url(#clip650)\" d=\"M 0 0 M563.073 292.003 Q557.911 292.003 555.921 293.184 Q553.93 294.364 553.93 297.212 Q553.93 299.48 555.411 300.823 Q556.916 302.142 559.485 302.142 Q563.027 302.142 565.157 299.642 Q567.31 297.119 567.31 292.952 L567.31 292.003 L563.073 292.003 M571.569 290.244 L571.569 305.036 L567.31 305.036 L567.31 301.101 Q565.851 303.462 563.675 304.596 Q561.499 305.707 558.351 305.707 Q554.37 305.707 552.009 303.485 Q549.671 301.239 549.671 297.489 Q549.671 293.114 552.587 290.892 Q555.527 288.67 561.337 288.67 L567.31 288.67 L567.31 288.253 Q567.31 285.314 565.365 283.716 Q563.444 282.096 559.948 282.096 Q557.726 282.096 555.62 282.628 Q553.513 283.161 551.569 284.226 L551.569 280.29 Q553.907 279.388 556.106 278.948 Q558.305 278.485 560.388 278.485 Q566.013 278.485 568.791 281.402 Q571.569 284.318 571.569 290.244 Z\" fill=\"#000000\" fill-rule=\"evenodd\" fill-opacity=\"1\" /><path clip-path=\"url(#clip650)\" d=\"M 0 0 M580.249 271.749 L580.249 279.11 L589.022 279.11 L589.022 282.42 L580.249 282.42 L580.249 296.494 Q580.249 299.665 581.106 300.568 Q581.985 301.471 584.647 301.471 L589.022 301.471 L589.022 305.036 L584.647 305.036 Q579.717 305.036 577.842 303.207 Q575.967 301.355 575.967 296.494 L575.967 282.42 L572.842 282.42 L572.842 279.11 L575.967 279.11 L575.967 271.749 L580.249 271.749 Z\" fill=\"#000000\" fill-rule=\"evenodd\" fill-opacity=\"1\" /><path clip-path=\"url(#clip650)\" d=\"M 0 0 M591.638 279.11 L611.869 279.11 L611.869 282.999 L595.851 301.633 L611.869 301.633 L611.869 305.036 L591.059 305.036 L591.059 301.147 L607.078 282.513 L591.638 282.513 L591.638 279.11 Z\" fill=\"#000000\" fill-rule=\"evenodd\" fill-opacity=\"1\" /><path clip-path=\"url(#clip650)\" d=\"M 0 0 M636.522 284.087 Q638.119 281.216 640.342 279.851 Q642.564 278.485 645.573 278.485 Q649.624 278.485 651.823 281.332 Q654.022 284.156 654.022 289.388 L654.022 305.036 L649.74 305.036 L649.74 289.527 Q649.74 285.8 648.42 283.994 Q647.101 282.189 644.392 282.189 Q641.082 282.189 639.161 284.388 Q637.24 286.587 637.24 290.383 L637.24 305.036 L632.957 305.036 L632.957 289.527 Q632.957 285.777 631.638 283.994 Q630.318 282.189 627.564 282.189 Q624.3 282.189 622.379 284.411 Q620.457 286.61 620.457 290.383 L620.457 305.036 L616.175 305.036 L616.175 279.11 L620.457 279.11 L620.457 283.138 Q621.916 280.753 623.953 279.619 Q625.99 278.485 628.791 278.485 Q631.615 278.485 633.582 279.92 Q635.573 281.355 636.522 284.087 Z\" fill=\"#000000\" fill-rule=\"evenodd\" fill-opacity=\"1\" /><path clip-path=\"url(#clip650)\" d=\"M 0 0 M680.665 291.008 L680.665 293.091 L661.082 293.091 Q661.36 297.489 663.721 299.804 Q666.105 302.096 670.341 302.096 Q672.795 302.096 675.087 301.494 Q677.402 300.892 679.67 299.689 L679.67 303.716 Q677.378 304.688 674.971 305.198 Q672.564 305.707 670.087 305.707 Q663.883 305.707 660.249 302.096 Q656.638 298.485 656.638 292.327 Q656.638 285.962 660.064 282.235 Q663.513 278.485 669.346 278.485 Q674.577 278.485 677.61 281.865 Q680.665 285.221 680.665 291.008 M676.406 289.758 Q676.36 286.263 674.439 284.179 Q672.54 282.096 669.392 282.096 Q665.828 282.096 663.675 284.11 Q661.545 286.124 661.221 289.781 L676.406 289.758 Z\" fill=\"#000000\" fill-rule=\"evenodd\" fill-opacity=\"1\" /><path clip-path=\"url(#clip650)\" d=\"M 0 0 M706.684 289.388 L706.684 305.036 L702.425 305.036 L702.425 289.527 Q702.425 285.846 700.989 284.017 Q699.554 282.189 696.684 282.189 Q693.235 282.189 691.244 284.388 Q689.253 286.587 689.253 290.383 L689.253 305.036 L684.971 305.036 L684.971 279.11 L689.253 279.11 L689.253 283.138 Q690.781 280.8 692.841 279.642 Q694.925 278.485 697.633 278.485 Q702.1 278.485 704.392 281.263 Q706.684 284.017 706.684 289.388 Z\" fill=\"#000000\" fill-rule=\"evenodd\" fill-opacity=\"1\" /><path clip-path=\"url(#clip650)\" d=\"M 0 0 M728.211 291.772 Q728.211 287.142 726.29 284.596 Q724.392 282.05 720.943 282.05 Q717.517 282.05 715.596 284.596 Q713.698 287.142 713.698 291.772 Q713.698 296.378 715.596 298.925 Q717.517 301.471 720.943 301.471 Q724.392 301.471 726.29 298.925 Q728.211 296.378 728.211 291.772 M732.471 301.818 Q732.471 308.438 729.531 311.656 Q726.591 314.897 720.526 314.897 Q718.281 314.897 716.29 314.55 Q714.299 314.225 712.424 313.531 L712.424 309.388 Q714.299 310.406 716.128 310.892 Q717.957 311.378 719.855 311.378 Q724.045 311.378 726.128 309.179 Q728.211 307.003 728.211 302.582 L728.211 300.476 Q726.892 302.767 724.832 303.901 Q722.772 305.036 719.901 305.036 Q715.133 305.036 712.216 301.401 Q709.299 297.767 709.299 291.772 Q709.299 285.753 712.216 282.119 Q715.133 278.485 719.901 278.485 Q722.772 278.485 724.832 279.619 Q726.892 280.753 728.211 283.045 L728.211 279.11 L732.471 279.11 L732.471 301.818 Z\" fill=\"#000000\" fill-rule=\"evenodd\" fill-opacity=\"1\" /><path clip-path=\"url(#clip650)\" d=\"M 0 0 M759.114 291.008 L759.114 293.091 L739.531 293.091 Q739.809 297.489 742.17 299.804 Q744.554 302.096 748.79 302.096 Q751.244 302.096 753.535 301.494 Q755.85 300.892 758.119 299.689 L758.119 303.716 Q755.827 304.688 753.42 305.198 Q751.012 305.707 748.535 305.707 Q742.332 305.707 738.697 302.096 Q735.086 298.485 735.086 292.327 Q735.086 285.962 738.512 282.235 Q741.961 278.485 747.795 278.485 Q753.026 278.485 756.059 281.865 Q759.114 285.221 759.114 291.008 M754.855 289.758 Q754.809 286.263 752.887 284.179 Q750.989 282.096 747.841 282.096 Q744.276 282.096 742.123 284.11 Q739.994 286.124 739.67 289.781 L754.855 289.758 Z\" fill=\"#000000\" fill-rule=\"evenodd\" fill-opacity=\"1\" /><path clip-path=\"url(#clip650)\" d=\"\n",
       "M298.028 372.428 L441.381 372.428 L441.381 324.044 L298.028 324.044 L298.028 372.428  Z\n",
       "  \" fill=\"#ffa500\" fill-rule=\"evenodd\" fill-opacity=\"1\"/>\n",
       "<polyline clip-path=\"url(#clip650)\" style=\"stroke:#000000; stroke-width:4; stroke-opacity:1; fill:none\" points=\"\n",
       "  298.028,372.428 441.381,372.428 441.381,324.044 298.028,324.044 298.028,372.428 \n",
       "  \"/>\n",
       "<path clip-path=\"url(#clip650)\" d=\"M 0 0 M465.273 330.956 L469.949 330.956 L469.949 361.581 L486.778 361.581 L486.778 365.516 L465.273 365.516 L465.273 330.956 Z\" fill=\"#000000\" fill-rule=\"evenodd\" fill-opacity=\"1\" /><path clip-path=\"url(#clip650)\" d=\"M 0 0 M503.027 352.483 Q497.865 352.483 495.875 353.664 Q493.884 354.844 493.884 357.692 Q493.884 359.96 495.365 361.303 Q496.87 362.622 499.44 362.622 Q502.981 362.622 505.111 360.122 Q507.264 357.599 507.264 353.432 L507.264 352.483 L503.027 352.483 M511.523 350.724 L511.523 365.516 L507.264 365.516 L507.264 361.581 Q505.805 363.942 503.629 365.076 Q501.453 366.187 498.305 366.187 Q494.324 366.187 491.963 363.965 Q489.625 361.719 489.625 357.969 Q489.625 353.594 492.541 351.372 Q495.481 349.15 501.291 349.15 L507.264 349.15 L507.264 348.733 Q507.264 345.794 505.319 344.196 Q503.398 342.576 499.902 342.576 Q497.68 342.576 495.574 343.108 Q493.467 343.641 491.523 344.706 L491.523 340.77 Q493.861 339.868 496.06 339.428 Q498.259 338.965 500.342 338.965 Q505.967 338.965 508.745 341.882 Q511.523 344.798 511.523 350.724 Z\" fill=\"#000000\" fill-rule=\"evenodd\" fill-opacity=\"1\" /><path clip-path=\"url(#clip650)\" d=\"M 0 0 M533.05 352.252 Q533.05 347.622 531.129 345.076 Q529.231 342.53 525.782 342.53 Q522.356 342.53 520.435 345.076 Q518.537 347.622 518.537 352.252 Q518.537 356.858 520.435 359.405 Q522.356 361.951 525.782 361.951 Q529.231 361.951 531.129 359.405 Q533.05 356.858 533.05 352.252 M537.31 362.298 Q537.31 368.918 534.37 372.136 Q531.43 375.377 525.365 375.377 Q523.12 375.377 521.129 375.03 Q519.138 374.705 517.263 374.011 L517.263 369.868 Q519.138 370.886 520.967 371.372 Q522.796 371.858 524.694 371.858 Q528.884 371.858 530.967 369.659 Q533.05 367.483 533.05 363.062 L533.05 360.956 Q531.731 363.247 529.671 364.381 Q527.611 365.516 524.74 365.516 Q519.972 365.516 517.055 361.881 Q514.139 358.247 514.139 352.252 Q514.139 346.233 517.055 342.599 Q519.972 338.965 524.74 338.965 Q527.611 338.965 529.671 340.099 Q531.731 341.233 533.05 343.525 L533.05 339.59 L537.31 339.59 L537.31 362.298 Z\" fill=\"#000000\" fill-rule=\"evenodd\" fill-opacity=\"1\" /><path clip-path=\"url(#clip650)\" d=\"M 0 0 M563.953 351.488 L563.953 353.571 L544.37 353.571 Q544.648 357.969 547.009 360.284 Q549.393 362.576 553.629 362.576 Q556.083 362.576 558.374 361.974 Q560.689 361.372 562.958 360.169 L562.958 364.196 Q560.666 365.168 558.259 365.678 Q555.851 366.187 553.374 366.187 Q547.171 366.187 543.536 362.576 Q539.925 358.965 539.925 352.807 Q539.925 346.442 543.351 342.715 Q546.8 338.965 552.634 338.965 Q557.865 338.965 560.898 342.345 Q563.953 345.701 563.953 351.488 M559.694 350.238 Q559.648 346.743 557.726 344.659 Q555.828 342.576 552.68 342.576 Q549.115 342.576 546.962 344.59 Q544.833 346.604 544.509 350.261 L559.694 350.238 Z\" fill=\"#000000\" fill-rule=\"evenodd\" fill-opacity=\"1\" /><path clip-path=\"url(#clip650)\" d=\"M 0 0 M583.444 343.571 Q582.726 343.155 581.87 342.97 Q581.036 342.761 580.018 342.761 Q576.407 342.761 574.462 345.122 Q572.541 347.46 572.541 351.858 L572.541 365.516 L568.259 365.516 L568.259 339.59 L572.541 339.59 L572.541 343.618 Q573.884 341.257 576.036 340.122 Q578.189 338.965 581.268 338.965 Q581.708 338.965 582.24 339.034 Q582.772 339.081 583.421 339.196 L583.444 343.571 Z\" fill=\"#000000\" fill-rule=\"evenodd\" fill-opacity=\"1\" /><path clip-path=\"url(#clip650)\" d=\"M 0 0 M607.263 344.567 Q608.86 341.696 611.082 340.331 Q613.305 338.965 616.314 338.965 Q620.365 338.965 622.564 341.812 Q624.763 344.636 624.763 349.868 L624.763 365.516 L620.481 365.516 L620.481 350.007 Q620.481 346.28 619.161 344.474 Q617.842 342.669 615.133 342.669 Q611.823 342.669 609.902 344.868 Q607.981 347.067 607.981 350.863 L607.981 365.516 L603.698 365.516 L603.698 350.007 Q603.698 346.257 602.379 344.474 Q601.059 342.669 598.305 342.669 Q595.041 342.669 593.12 344.891 Q591.198 347.09 591.198 350.863 L591.198 365.516 L586.916 365.516 L586.916 339.59 L591.198 339.59 L591.198 343.618 Q592.657 341.233 594.694 340.099 Q596.731 338.965 599.532 338.965 Q602.356 338.965 604.323 340.4 Q606.314 341.835 607.263 344.567 Z\" fill=\"#000000\" fill-rule=\"evenodd\" fill-opacity=\"1\" /><path clip-path=\"url(#clip650)\" d=\"M 0 0 M651.406 351.488 L651.406 353.571 L631.823 353.571 Q632.101 357.969 634.462 360.284 Q636.846 362.576 641.082 362.576 Q643.536 362.576 645.828 361.974 Q648.142 361.372 650.411 360.169 L650.411 364.196 Q648.119 365.168 645.712 365.678 Q643.304 366.187 640.828 366.187 Q634.624 366.187 630.99 362.576 Q627.379 358.965 627.379 352.807 Q627.379 346.442 630.805 342.715 Q634.254 338.965 640.087 338.965 Q645.318 338.965 648.351 342.345 Q651.406 345.701 651.406 351.488 M647.147 350.238 Q647.101 346.743 645.179 344.659 Q643.281 342.576 640.133 342.576 Q636.568 342.576 634.416 344.59 Q632.286 346.604 631.962 350.261 L647.147 350.238 Z\" fill=\"#000000\" fill-rule=\"evenodd\" fill-opacity=\"1\" /><path clip-path=\"url(#clip650)\" d=\"M 0 0 M677.425 349.868 L677.425 365.516 L673.165 365.516 L673.165 350.007 Q673.165 346.326 671.73 344.497 Q670.295 342.669 667.425 342.669 Q663.976 342.669 661.985 344.868 Q659.994 347.067 659.994 350.863 L659.994 365.516 L655.712 365.516 L655.712 339.59 L659.994 339.59 L659.994 343.618 Q661.522 341.28 663.582 340.122 Q665.665 338.965 668.374 338.965 Q672.841 338.965 675.133 341.743 Q677.425 344.497 677.425 349.868 Z\" fill=\"#000000\" fill-rule=\"evenodd\" fill-opacity=\"1\" /><path clip-path=\"url(#clip650)\" d=\"M 0 0 M698.952 352.252 Q698.952 347.622 697.031 345.076 Q695.133 342.53 691.684 342.53 Q688.258 342.53 686.337 345.076 Q684.439 347.622 684.439 352.252 Q684.439 356.858 686.337 359.405 Q688.258 361.951 691.684 361.951 Q695.133 361.951 697.031 359.405 Q698.952 356.858 698.952 352.252 M703.212 362.298 Q703.212 368.918 700.272 372.136 Q697.332 375.377 691.267 375.377 Q689.022 375.377 687.031 375.03 Q685.04 374.705 683.165 374.011 L683.165 369.868 Q685.04 370.886 686.869 371.372 Q688.698 371.858 690.596 371.858 Q694.786 371.858 696.869 369.659 Q698.952 367.483 698.952 363.062 L698.952 360.956 Q697.633 363.247 695.573 364.381 Q693.513 365.516 690.642 365.516 Q685.874 365.516 682.957 361.881 Q680.04 358.247 680.04 352.252 Q680.04 346.233 682.957 342.599 Q685.874 338.965 690.642 338.965 Q693.513 338.965 695.573 340.099 Q697.633 341.233 698.952 343.525 L698.952 339.59 L703.212 339.59 L703.212 362.298 Z\" fill=\"#000000\" fill-rule=\"evenodd\" fill-opacity=\"1\" /><path clip-path=\"url(#clip650)\" d=\"M 0 0 M729.855 351.488 L729.855 353.571 L710.272 353.571 Q710.549 357.969 712.911 360.284 Q715.295 362.576 719.531 362.576 Q721.985 362.576 724.276 361.974 Q726.591 361.372 728.86 360.169 L728.86 364.196 Q726.568 365.168 724.161 365.678 Q721.753 366.187 719.276 366.187 Q713.073 366.187 709.438 362.576 Q705.827 358.965 705.827 352.807 Q705.827 346.442 709.253 342.715 Q712.702 338.965 718.536 338.965 Q723.767 338.965 726.799 342.345 Q729.855 345.701 729.855 351.488 M725.596 350.238 Q725.549 346.743 723.628 344.659 Q721.73 342.576 718.582 342.576 Q715.017 342.576 712.864 344.59 Q710.735 346.604 710.411 350.261 L725.596 350.238 Z\" fill=\"#000000\" fill-rule=\"evenodd\" fill-opacity=\"1\" /></svg>\n"
      ]
     },
     "execution_count": 72,
     "metadata": {},
     "output_type": "execute_result"
    }
   ],
   "source": [
    "groupedbar(bardataDunkel,label=[\"Produktionsmenge\" \"Absatzmenge\" \"Lagermenge\"], title = \"Produkt Dunkel\",\n",
    "           colour = [:DeepSkyBlue4 :Red3 :orange], xlabel = \"Periode\", ylabel = \"Menge\",legend = :topleft)"
   ]
  },
  {
   "cell_type": "markdown",
   "metadata": {},
   "source": [
    "Beide in einem:"
   ]
  },
  {
   "cell_type": "code",
   "execution_count": 73,
   "metadata": {},
   "outputs": [
    {
     "data": {
      "image/svg+xml": [
       "<?xml version=\"1.0\" encoding=\"utf-8\"?>\n",
       "<svg xmlns=\"http://www.w3.org/2000/svg\" xmlns:xlink=\"http://www.w3.org/1999/xlink\" width=\"600\" height=\"400\" viewBox=\"0 0 2400 1600\">\n",
       "<defs>\n",
       "  <clipPath id=\"clip690\">\n",
       "    <rect x=\"0\" y=\"0\" width=\"2400\" height=\"1600\"/>\n",
       "  </clipPath>\n",
       "</defs>\n",
       "<path clip-path=\"url(#clip690)\" d=\"\n",
       "M0 1600 L2400 1600 L2400 0 L0 0  Z\n",
       "  \" fill=\"#ffffff\" fill-rule=\"evenodd\" fill-opacity=\"1\"/>\n",
       "<defs>\n",
       "  <clipPath id=\"clip691\">\n",
       "    <rect x=\"480\" y=\"0\" width=\"1681\" height=\"1600\"/>\n",
       "  </clipPath>\n",
       "</defs>\n",
       "<path clip-path=\"url(#clip690)\" d=\"\n",
       "M202.459 1423.18 L1152.76 1423.18 L1152.76 123.472 L202.459 123.472  Z\n",
       "  \" fill=\"#ffffff\" fill-rule=\"evenodd\" fill-opacity=\"1\"/>\n",
       "<defs>\n",
       "  <clipPath id=\"clip692\">\n",
       "    <rect x=\"202\" y=\"123\" width=\"951\" height=\"1301\"/>\n",
       "  </clipPath>\n",
       "</defs>\n",
       "<polyline clip-path=\"url(#clip692)\" style=\"stroke:#000000; stroke-width:2; stroke-opacity:0.1; fill:none\" points=\"\n",
       "  322.977,1423.18 322.977,123.472 \n",
       "  \"/>\n",
       "<polyline clip-path=\"url(#clip692)\" style=\"stroke:#000000; stroke-width:2; stroke-opacity:0.1; fill:none\" points=\"\n",
       "  500.292,1423.18 500.292,123.472 \n",
       "  \"/>\n",
       "<polyline clip-path=\"url(#clip692)\" style=\"stroke:#000000; stroke-width:2; stroke-opacity:0.1; fill:none\" points=\"\n",
       "  677.607,1423.18 677.607,123.472 \n",
       "  \"/>\n",
       "<polyline clip-path=\"url(#clip692)\" style=\"stroke:#000000; stroke-width:2; stroke-opacity:0.1; fill:none\" points=\"\n",
       "  854.923,1423.18 854.923,123.472 \n",
       "  \"/>\n",
       "<polyline clip-path=\"url(#clip692)\" style=\"stroke:#000000; stroke-width:2; stroke-opacity:0.1; fill:none\" points=\"\n",
       "  1032.24,1423.18 1032.24,123.472 \n",
       "  \"/>\n",
       "<polyline clip-path=\"url(#clip690)\" style=\"stroke:#000000; stroke-width:4; stroke-opacity:1; fill:none\" points=\"\n",
       "  202.459,1423.18 1152.76,1423.18 \n",
       "  \"/>\n",
       "<polyline clip-path=\"url(#clip690)\" style=\"stroke:#000000; stroke-width:4; stroke-opacity:1; fill:none\" points=\"\n",
       "  322.977,1423.18 322.977,1407.58 \n",
       "  \"/>\n",
       "<polyline clip-path=\"url(#clip690)\" style=\"stroke:#000000; stroke-width:4; stroke-opacity:1; fill:none\" points=\"\n",
       "  500.292,1423.18 500.292,1407.58 \n",
       "  \"/>\n",
       "<polyline clip-path=\"url(#clip690)\" style=\"stroke:#000000; stroke-width:4; stroke-opacity:1; fill:none\" points=\"\n",
       "  677.607,1423.18 677.607,1407.58 \n",
       "  \"/>\n",
       "<polyline clip-path=\"url(#clip690)\" style=\"stroke:#000000; stroke-width:4; stroke-opacity:1; fill:none\" points=\"\n",
       "  854.923,1423.18 854.923,1407.58 \n",
       "  \"/>\n",
       "<polyline clip-path=\"url(#clip690)\" style=\"stroke:#000000; stroke-width:4; stroke-opacity:1; fill:none\" points=\"\n",
       "  1032.24,1423.18 1032.24,1407.58 \n",
       "  \"/>\n",
       "<path clip-path=\"url(#clip690)\" d=\"M 0 0 M313.359 1479.92 L320.998 1479.92 L320.998 1453.55 L312.687 1455.22 L312.687 1450.96 L320.951 1449.29 L325.627 1449.29 L325.627 1479.92 L333.266 1479.92 L333.266 1483.85 L313.359 1483.85 L313.359 1479.92 Z\" fill=\"#000000\" fill-rule=\"evenodd\" fill-opacity=\"1\" /><path clip-path=\"url(#clip690)\" d=\"M 0 0 M494.945 1479.92 L511.264 1479.92 L511.264 1483.85 L489.32 1483.85 L489.32 1479.92 Q491.982 1477.16 496.565 1472.53 Q501.172 1467.88 502.352 1466.54 Q504.598 1464.01 505.477 1462.28 Q506.38 1460.52 506.38 1458.83 Q506.38 1456.07 504.436 1454.34 Q502.514 1452.6 499.412 1452.6 Q497.213 1452.6 494.76 1453.37 Q492.329 1454.13 489.551 1455.68 L489.551 1450.96 Q492.375 1449.82 494.829 1449.25 Q497.283 1448.67 499.32 1448.67 Q504.69 1448.67 507.885 1451.35 Q511.079 1454.04 511.079 1458.53 Q511.079 1460.66 510.269 1462.58 Q509.482 1464.48 507.375 1467.07 Q506.797 1467.74 503.695 1470.96 Q500.593 1474.15 494.945 1479.92 Z\" fill=\"#000000\" fill-rule=\"evenodd\" fill-opacity=\"1\" /><path clip-path=\"url(#clip690)\" d=\"M 0 0 M681.855 1465.22 Q685.212 1465.94 687.087 1468.2 Q688.985 1470.47 688.985 1473.81 Q688.985 1478.92 685.466 1481.72 Q681.948 1484.52 675.466 1484.52 Q673.29 1484.52 670.976 1484.08 Q668.684 1483.67 666.23 1482.81 L666.23 1478.3 Q668.175 1479.43 670.489 1480.01 Q672.804 1480.59 675.327 1480.59 Q679.725 1480.59 682.017 1478.85 Q684.332 1477.12 684.332 1473.81 Q684.332 1470.75 682.179 1469.04 Q680.05 1467.3 676.23 1467.3 L672.202 1467.3 L672.202 1463.46 L676.415 1463.46 Q679.864 1463.46 681.693 1462.09 Q683.522 1460.7 683.522 1458.11 Q683.522 1455.45 681.624 1454.04 Q679.749 1452.6 676.23 1452.6 Q674.309 1452.6 672.11 1453.02 Q669.911 1453.44 667.272 1454.31 L667.272 1450.15 Q669.934 1449.41 672.249 1449.04 Q674.587 1448.67 676.647 1448.67 Q681.971 1448.67 685.073 1451.1 Q688.175 1453.5 688.175 1457.63 Q688.175 1460.5 686.531 1462.49 Q684.887 1464.45 681.855 1465.22 Z\" fill=\"#000000\" fill-rule=\"evenodd\" fill-opacity=\"1\" /><path clip-path=\"url(#clip690)\" d=\"M 0 0 M857.932 1453.37 L846.127 1471.81 L857.932 1471.81 L857.932 1453.37 M856.705 1449.29 L862.585 1449.29 L862.585 1471.81 L867.515 1471.81 L867.515 1475.7 L862.585 1475.7 L862.585 1483.85 L857.932 1483.85 L857.932 1475.7 L842.33 1475.7 L842.33 1471.19 L856.705 1449.29 Z\" fill=\"#000000\" fill-rule=\"evenodd\" fill-opacity=\"1\" /><path clip-path=\"url(#clip690)\" d=\"M 0 0 M1022.52 1449.29 L1040.87 1449.29 L1040.87 1453.23 L1026.8 1453.23 L1026.8 1461.7 Q1027.82 1461.35 1028.84 1461.19 Q1029.85 1461 1030.87 1461 Q1036.66 1461 1040.04 1464.18 Q1043.42 1467.35 1043.42 1472.76 Q1043.42 1478.34 1039.95 1481.44 Q1036.47 1484.52 1030.15 1484.52 Q1027.98 1484.52 1025.71 1484.15 Q1023.47 1483.78 1021.06 1483.04 L1021.06 1478.34 Q1023.14 1479.48 1025.36 1480.03 Q1027.59 1480.59 1030.06 1480.59 Q1034.07 1480.59 1036.4 1478.48 Q1038.74 1476.38 1038.74 1472.76 Q1038.74 1469.15 1036.4 1467.05 Q1034.07 1464.94 1030.06 1464.94 Q1028.19 1464.94 1026.31 1465.36 Q1024.46 1465.77 1022.52 1466.65 L1022.52 1449.29 Z\" fill=\"#000000\" fill-rule=\"evenodd\" fill-opacity=\"1\" /><path clip-path=\"url(#clip690)\" d=\"M 0 0 M577.936 1513.81 L577.936 1531.66 L586.021 1531.66 Q590.509 1531.66 592.959 1529.34 Q595.41 1527.02 595.41 1522.72 Q595.41 1518.45 592.959 1516.13 Q590.509 1513.81 586.021 1513.81 L577.936 1513.81 M571.507 1508.52 L586.021 1508.52 Q594.01 1508.52 598.084 1512.15 Q602.19 1515.75 602.19 1522.72 Q602.19 1529.75 598.084 1533.35 Q594.01 1536.95 586.021 1536.95 L577.936 1536.95 L577.936 1556.04 L571.507 1556.04 L571.507 1508.52 Z\" fill=\"#000000\" fill-rule=\"evenodd\" fill-opacity=\"1\" /><path clip-path=\"url(#clip690)\" d=\"M 0 0 M636.501 1536.76 L636.501 1539.62 L609.574 1539.62 Q609.956 1545.67 613.202 1548.85 Q616.481 1552 622.305 1552 Q625.679 1552 628.83 1551.17 Q632.013 1550.35 635.132 1548.69 L635.132 1554.23 Q631.981 1555.57 628.671 1556.27 Q625.361 1556.97 621.955 1556.97 Q613.425 1556.97 608.428 1552 Q603.463 1547.04 603.463 1538.57 Q603.463 1529.82 608.173 1524.69 Q612.916 1519.54 620.937 1519.54 Q628.13 1519.54 632.3 1524.18 Q636.501 1528.8 636.501 1536.76 M630.644 1535.04 Q630.581 1530.23 627.939 1527.37 Q625.329 1524.5 621 1524.5 Q616.099 1524.5 613.139 1527.27 Q610.211 1530.04 609.765 1535.07 L630.644 1535.04 Z\" fill=\"#000000\" fill-rule=\"evenodd\" fill-opacity=\"1\" /><path clip-path=\"url(#clip690)\" d=\"M 0 0 M663.301 1525.87 Q662.314 1525.3 661.136 1525.04 Q659.99 1524.76 658.59 1524.76 Q653.625 1524.76 650.951 1528 Q648.309 1531.22 648.309 1537.27 L648.309 1556.04 L642.421 1556.04 L642.421 1520.4 L648.309 1520.4 L648.309 1525.93 Q650.155 1522.69 653.115 1521.13 Q656.075 1519.54 660.309 1519.54 Q660.913 1519.54 661.645 1519.63 Q662.377 1519.7 663.269 1519.85 L663.301 1525.87 Z\" fill=\"#000000\" fill-rule=\"evenodd\" fill-opacity=\"1\" /><path clip-path=\"url(#clip690)\" d=\"M 0 0 M669.443 1520.4 L675.3 1520.4 L675.3 1556.04 L669.443 1556.04 L669.443 1520.4 M669.443 1506.52 L675.3 1506.52 L675.3 1513.93 L669.443 1513.93 L669.443 1506.52 Z\" fill=\"#000000\" fill-rule=\"evenodd\" fill-opacity=\"1\" /><path clip-path=\"url(#clip690)\" d=\"M 0 0 M695.256 1524.5 Q690.546 1524.5 687.808 1528.19 Q685.071 1531.85 685.071 1538.25 Q685.071 1544.65 687.777 1548.34 Q690.514 1552 695.256 1552 Q699.935 1552 702.672 1548.31 Q705.41 1544.62 705.41 1538.25 Q705.41 1531.92 702.672 1528.23 Q699.935 1524.5 695.256 1524.5 M695.256 1519.54 Q702.895 1519.54 707.256 1524.5 Q711.616 1529.47 711.616 1538.25 Q711.616 1547 707.256 1552 Q702.895 1556.97 695.256 1556.97 Q687.586 1556.97 683.225 1552 Q678.896 1547 678.896 1538.25 Q678.896 1529.47 683.225 1524.5 Q687.586 1519.54 695.256 1519.54 Z\" fill=\"#000000\" fill-rule=\"evenodd\" fill-opacity=\"1\" /><path clip-path=\"url(#clip690)\" d=\"M 0 0 M741.217 1525.81 L741.217 1506.52 L747.073 1506.52 L747.073 1556.04 L741.217 1556.04 L741.217 1550.7 Q739.371 1553.88 736.538 1555.44 Q733.737 1556.97 729.79 1556.97 Q723.329 1556.97 719.255 1551.81 Q715.213 1546.65 715.213 1538.25 Q715.213 1529.85 719.255 1524.69 Q723.329 1519.54 729.79 1519.54 Q733.737 1519.54 736.538 1521.1 Q739.371 1522.62 741.217 1525.81 M721.26 1538.25 Q721.26 1544.71 723.902 1548.4 Q726.576 1552.07 731.223 1552.07 Q735.87 1552.07 738.543 1548.4 Q741.217 1544.71 741.217 1538.25 Q741.217 1531.79 738.543 1528.13 Q735.87 1524.44 731.223 1524.44 Q726.576 1524.44 723.902 1528.13 Q721.26 1531.79 721.26 1538.25 Z\" fill=\"#000000\" fill-rule=\"evenodd\" fill-opacity=\"1\" /><path clip-path=\"url(#clip690)\" d=\"M 0 0 M783.708 1536.76 L783.708 1539.62 L756.781 1539.62 Q757.163 1545.67 760.409 1548.85 Q763.688 1552 769.512 1552 Q772.886 1552 776.037 1551.17 Q779.22 1550.35 782.339 1548.69 L782.339 1554.23 Q779.188 1555.57 775.878 1556.27 Q772.568 1556.97 769.162 1556.97 Q760.632 1556.97 755.635 1552 Q750.67 1547.04 750.67 1538.57 Q750.67 1529.82 755.38 1524.69 Q760.123 1519.54 768.144 1519.54 Q775.337 1519.54 779.506 1524.18 Q783.708 1528.8 783.708 1536.76 M777.851 1535.04 Q777.788 1530.23 775.146 1527.37 Q772.536 1524.5 768.207 1524.5 Q763.306 1524.5 760.346 1527.27 Q757.417 1530.04 756.972 1535.07 L777.851 1535.04 Z\" fill=\"#000000\" fill-rule=\"evenodd\" fill-opacity=\"1\" /><polyline clip-path=\"url(#clip692)\" style=\"stroke:#000000; stroke-width:2; stroke-opacity:0.1; fill:none\" points=\"\n",
       "  202.459,1423.18 1152.76,1423.18 \n",
       "  \"/>\n",
       "<polyline clip-path=\"url(#clip692)\" style=\"stroke:#000000; stroke-width:2; stroke-opacity:0.1; fill:none\" points=\"\n",
       "  202.459,1098.25 1152.76,1098.25 \n",
       "  \"/>\n",
       "<polyline clip-path=\"url(#clip692)\" style=\"stroke:#000000; stroke-width:2; stroke-opacity:0.1; fill:none\" points=\"\n",
       "  202.459,773.326 1152.76,773.326 \n",
       "  \"/>\n",
       "<polyline clip-path=\"url(#clip692)\" style=\"stroke:#000000; stroke-width:2; stroke-opacity:0.1; fill:none\" points=\"\n",
       "  202.459,448.399 1152.76,448.399 \n",
       "  \"/>\n",
       "<polyline clip-path=\"url(#clip692)\" style=\"stroke:#000000; stroke-width:2; stroke-opacity:0.1; fill:none\" points=\"\n",
       "  202.459,123.472 1152.76,123.472 \n",
       "  \"/>\n",
       "<polyline clip-path=\"url(#clip690)\" style=\"stroke:#000000; stroke-width:4; stroke-opacity:1; fill:none\" points=\"\n",
       "  202.459,1423.18 202.459,123.472 \n",
       "  \"/>\n",
       "<polyline clip-path=\"url(#clip690)\" style=\"stroke:#000000; stroke-width:4; stroke-opacity:1; fill:none\" points=\"\n",
       "  202.459,1423.18 213.863,1423.18 \n",
       "  \"/>\n",
       "<polyline clip-path=\"url(#clip690)\" style=\"stroke:#000000; stroke-width:4; stroke-opacity:1; fill:none\" points=\"\n",
       "  202.459,1098.25 213.863,1098.25 \n",
       "  \"/>\n",
       "<polyline clip-path=\"url(#clip690)\" style=\"stroke:#000000; stroke-width:4; stroke-opacity:1; fill:none\" points=\"\n",
       "  202.459,773.326 213.863,773.326 \n",
       "  \"/>\n",
       "<polyline clip-path=\"url(#clip690)\" style=\"stroke:#000000; stroke-width:4; stroke-opacity:1; fill:none\" points=\"\n",
       "  202.459,448.399 213.863,448.399 \n",
       "  \"/>\n",
       "<polyline clip-path=\"url(#clip690)\" style=\"stroke:#000000; stroke-width:4; stroke-opacity:1; fill:none\" points=\"\n",
       "  202.459,123.472 213.863,123.472 \n",
       "  \"/>\n",
       "<path clip-path=\"url(#clip690)\" d=\"M 0 0 M154.515 1408.98 Q150.903 1408.98 149.075 1412.54 Q147.269 1416.08 147.269 1423.21 Q147.269 1430.32 149.075 1433.89 Q150.903 1437.43 154.515 1437.43 Q158.149 1437.43 159.954 1433.89 Q161.783 1430.32 161.783 1423.21 Q161.783 1416.08 159.954 1412.54 Q158.149 1408.98 154.515 1408.98 M154.515 1405.27 Q160.325 1405.27 163.38 1409.88 Q166.459 1414.46 166.459 1423.21 Q166.459 1431.94 163.38 1436.55 Q160.325 1441.13 154.515 1441.13 Q148.704 1441.13 145.626 1436.55 Q142.57 1431.94 142.57 1423.21 Q142.57 1414.46 145.626 1409.88 Q148.704 1405.27 154.515 1405.27 Z\" fill=\"#000000\" fill-rule=\"evenodd\" fill-opacity=\"1\" /><path clip-path=\"url(#clip690)\" d=\"M 0 0 M119.538 1111.6 L127.177 1111.6 L127.177 1085.23 L118.867 1086.9 L118.867 1082.64 L127.13 1080.97 L131.806 1080.97 L131.806 1111.6 L139.445 1111.6 L139.445 1115.53 L119.538 1115.53 L119.538 1111.6 Z\" fill=\"#000000\" fill-rule=\"evenodd\" fill-opacity=\"1\" /><path clip-path=\"url(#clip690)\" d=\"M 0 0 M154.515 1084.05 Q150.903 1084.05 149.075 1087.62 Q147.269 1091.16 147.269 1098.29 Q147.269 1105.39 149.075 1108.96 Q150.903 1112.5 154.515 1112.5 Q158.149 1112.5 159.954 1108.96 Q161.783 1105.39 161.783 1098.29 Q161.783 1091.16 159.954 1087.62 Q158.149 1084.05 154.515 1084.05 M154.515 1080.35 Q160.325 1080.35 163.38 1084.95 Q166.459 1089.54 166.459 1098.29 Q166.459 1107.01 163.38 1111.62 Q160.325 1116.2 154.515 1116.2 Q148.704 1116.2 145.626 1111.62 Q142.57 1107.01 142.57 1098.29 Q142.57 1089.54 145.626 1084.95 Q148.704 1080.35 154.515 1080.35 Z\" fill=\"#000000\" fill-rule=\"evenodd\" fill-opacity=\"1\" /><path clip-path=\"url(#clip690)\" d=\"M 0 0 M123.126 786.671 L139.445 786.671 L139.445 790.606 L117.501 790.606 L117.501 786.671 Q120.163 783.916 124.746 779.287 Q129.353 774.634 130.533 773.291 Q132.779 770.768 133.658 769.032 Q134.561 767.273 134.561 765.583 Q134.561 762.828 132.617 761.092 Q130.695 759.356 127.593 759.356 Q125.394 759.356 122.941 760.12 Q120.51 760.884 117.732 762.435 L117.732 757.713 Q120.556 756.578 123.01 756 Q125.464 755.421 127.501 755.421 Q132.871 755.421 136.066 758.106 Q139.26 760.791 139.26 765.282 Q139.26 767.412 138.45 769.333 Q137.663 771.231 135.556 773.824 Q134.978 774.495 131.876 777.713 Q128.774 780.907 123.126 786.671 Z\" fill=\"#000000\" fill-rule=\"evenodd\" fill-opacity=\"1\" /><path clip-path=\"url(#clip690)\" d=\"M 0 0 M154.515 759.125 Q150.903 759.125 149.075 762.689 Q147.269 766.231 147.269 773.361 Q147.269 780.467 149.075 784.032 Q150.903 787.574 154.515 787.574 Q158.149 787.574 159.954 784.032 Q161.783 780.467 161.783 773.361 Q161.783 766.231 159.954 762.689 Q158.149 759.125 154.515 759.125 M154.515 755.421 Q160.325 755.421 163.38 760.027 Q166.459 764.611 166.459 773.361 Q166.459 782.088 163.38 786.694 Q160.325 791.277 154.515 791.277 Q148.704 791.277 145.626 786.694 Q142.57 782.088 142.57 773.361 Q142.57 764.611 145.626 760.027 Q148.704 755.421 154.515 755.421 Z\" fill=\"#000000\" fill-rule=\"evenodd\" fill-opacity=\"1\" /><path clip-path=\"url(#clip690)\" d=\"M 0 0 M132.316 447.045 Q135.672 447.762 137.547 450.031 Q139.445 452.299 139.445 455.633 Q139.445 460.749 135.927 463.549 Q132.408 466.35 125.927 466.35 Q123.751 466.35 121.436 465.911 Q119.144 465.494 116.691 464.637 L116.691 460.124 Q118.635 461.258 120.95 461.836 Q123.265 462.415 125.788 462.415 Q130.186 462.415 132.478 460.679 Q134.792 458.943 134.792 455.633 Q134.792 452.577 132.64 450.864 Q130.51 449.128 126.691 449.128 L122.663 449.128 L122.663 445.286 L126.876 445.286 Q130.325 445.286 132.154 443.92 Q133.982 442.531 133.982 439.938 Q133.982 437.276 132.084 435.864 Q130.209 434.429 126.691 434.429 Q124.769 434.429 122.57 434.846 Q120.371 435.263 117.732 436.142 L117.732 431.976 Q120.394 431.235 122.709 430.864 Q125.047 430.494 127.107 430.494 Q132.431 430.494 135.533 432.925 Q138.635 435.332 138.635 439.452 Q138.635 442.323 136.992 444.313 Q135.348 446.281 132.316 447.045 Z\" fill=\"#000000\" fill-rule=\"evenodd\" fill-opacity=\"1\" /><path clip-path=\"url(#clip690)\" d=\"M 0 0 M154.515 434.198 Q150.903 434.198 149.075 437.763 Q147.269 441.304 147.269 448.434 Q147.269 455.54 149.075 459.105 Q150.903 462.647 154.515 462.647 Q158.149 462.647 159.954 459.105 Q161.783 455.54 161.783 448.434 Q161.783 441.304 159.954 437.763 Q158.149 434.198 154.515 434.198 M154.515 430.494 Q160.325 430.494 163.38 435.101 Q166.459 439.684 166.459 448.434 Q166.459 457.161 163.38 461.767 Q160.325 466.35 154.515 466.35 Q148.704 466.35 145.626 461.767 Q142.57 457.161 142.57 448.434 Q142.57 439.684 145.626 435.101 Q148.704 430.494 154.515 430.494 Z\" fill=\"#000000\" fill-rule=\"evenodd\" fill-opacity=\"1\" /><path clip-path=\"url(#clip690)\" d=\"M 0 0 M129.862 110.266 L118.056 128.715 L129.862 128.715 L129.862 110.266 M128.635 106.192 L134.515 106.192 L134.515 128.715 L139.445 128.715 L139.445 132.604 L134.515 132.604 L134.515 140.752 L129.862 140.752 L129.862 132.604 L114.26 132.604 L114.26 128.09 L128.635 106.192 Z\" fill=\"#000000\" fill-rule=\"evenodd\" fill-opacity=\"1\" /><path clip-path=\"url(#clip690)\" d=\"M 0 0 M154.515 109.271 Q150.903 109.271 149.075 112.836 Q147.269 116.377 147.269 123.507 Q147.269 130.613 149.075 134.178 Q150.903 137.72 154.515 137.72 Q158.149 137.72 159.954 134.178 Q161.783 130.613 161.783 123.507 Q161.783 116.377 159.954 112.836 Q158.149 109.271 154.515 109.271 M154.515 105.567 Q160.325 105.567 163.38 110.174 Q166.459 114.757 166.459 123.507 Q166.459 132.234 163.38 136.84 Q160.325 141.423 154.515 141.423 Q148.704 141.423 145.626 136.84 Q142.57 132.234 142.57 123.507 Q142.57 114.757 145.626 110.174 Q148.704 105.567 154.515 105.567 Z\" fill=\"#000000\" fill-rule=\"evenodd\" fill-opacity=\"1\" /><path clip-path=\"url(#clip690)\" d=\"M 0 0 M40.4842 867.316 L40.4842 857.735 L72.8219 845.609 L40.4842 833.418 L40.4842 823.838 L88.0042 823.838 L88.0042 830.108 L46.277 830.108 L78.8694 842.362 L78.8694 848.823 L46.277 861.077 L88.0042 861.077 L88.0042 867.316 L40.4842 867.316 Z\" fill=\"#000000\" fill-rule=\"evenodd\" fill-opacity=\"1\" /><path clip-path=\"url(#clip690)\" d=\"M 0 0 M68.7161 787.203 L71.5806 787.203 L71.5806 814.13 Q77.6281 813.748 80.8109 810.502 Q83.9619 807.223 83.9619 801.399 Q83.9619 798.025 83.1344 794.874 Q82.3069 791.691 80.6518 788.572 L86.1899 788.572 Q87.5267 791.723 88.227 795.033 Q88.9272 798.343 88.9272 801.749 Q88.9272 810.279 83.9619 815.276 Q78.9967 820.241 70.5303 820.241 Q61.7774 820.241 56.6531 815.531 Q51.4968 810.788 51.4968 802.767 Q51.4968 795.574 56.1438 791.405 Q60.7589 787.203 68.7161 787.203 M66.9973 793.06 Q62.1912 793.123 59.3266 795.765 Q56.4621 798.375 56.4621 802.704 Q56.4621 807.605 59.2312 810.565 Q62.0002 813.494 67.0292 813.939 L66.9973 793.06 Z\" fill=\"#000000\" fill-rule=\"evenodd\" fill-opacity=\"1\" /><path clip-path=\"url(#clip690)\" d=\"M 0 0 M66.4881 751.428 L88.0042 751.428 L88.0042 757.284 L66.679 757.284 Q61.6183 757.284 59.1038 759.258 Q56.5894 761.231 56.5894 765.178 Q56.5894 769.92 59.6131 772.658 Q62.6368 775.395 67.8567 775.395 L88.0042 775.395 L88.0042 781.283 L52.3562 781.283 L52.3562 775.395 L57.8944 775.395 Q54.6797 773.294 53.0883 770.461 Q51.4968 767.597 51.4968 763.873 Q51.4968 757.73 55.3163 754.579 Q59.1038 751.428 66.4881 751.428 Z\" fill=\"#000000\" fill-rule=\"evenodd\" fill-opacity=\"1\" /><path clip-path=\"url(#clip690)\" d=\"M 0 0 M69.7664 721.827 Q63.4007 721.827 59.8996 724.469 Q56.3984 727.079 56.3984 731.822 Q56.3984 736.532 59.8996 739.174 Q63.4007 741.784 69.7664 741.784 Q76.1003 741.784 79.6014 739.174 Q83.1026 736.532 83.1026 731.822 Q83.1026 727.079 79.6014 724.469 Q76.1003 721.827 69.7664 721.827 M83.58 715.971 Q92.683 715.971 97.1071 720.013 Q101.563 724.055 101.563 732.394 Q101.563 735.482 101.086 738.219 Q100.64 740.956 99.6852 743.534 L93.9879 743.534 Q95.3884 740.956 96.0568 738.442 Q96.7252 735.927 96.7252 733.318 Q96.7252 727.557 93.7015 724.692 Q90.7096 721.827 84.6303 721.827 L81.7339 721.827 Q84.885 723.642 86.4446 726.474 Q88.0042 729.307 88.0042 733.254 Q88.0042 739.811 83.0071 743.821 Q78.01 747.831 69.7664 747.831 Q61.491 747.831 56.4939 743.821 Q51.4968 739.811 51.4968 733.254 Q51.4968 729.307 53.0564 726.474 Q54.616 723.642 57.7671 721.827 L52.3562 721.827 L52.3562 715.971 L83.58 715.971 Z\" fill=\"#000000\" fill-rule=\"evenodd\" fill-opacity=\"1\" /><path clip-path=\"url(#clip690)\" d=\"M 0 0 M68.7161 679.336 L71.5806 679.336 L71.5806 706.263 Q77.6281 705.881 80.8109 702.635 Q83.9619 699.356 83.9619 693.532 Q83.9619 690.158 83.1344 687.007 Q82.3069 683.824 80.6518 680.705 L86.1899 680.705 Q87.5267 683.856 88.227 687.166 Q88.9272 690.476 88.9272 693.882 Q88.9272 702.412 83.9619 707.409 Q78.9967 712.374 70.5303 712.374 Q61.7774 712.374 56.6531 707.664 Q51.4968 702.921 51.4968 694.9 Q51.4968 687.707 56.1438 683.538 Q60.7589 679.336 68.7161 679.336 M66.9973 685.193 Q62.1912 685.256 59.3266 687.898 Q56.4621 690.508 56.4621 694.837 Q56.4621 699.738 59.2312 702.698 Q62.0002 705.627 67.0292 706.072 L66.9973 685.193 Z\" fill=\"#000000\" fill-rule=\"evenodd\" fill-opacity=\"1\" /><path clip-path=\"url(#clip690)\" d=\"M 0 0 M464.591 18.8205 L464.591 41.5461 L474.88 41.5461 Q480.592 41.5461 483.711 38.5889 Q486.83 35.6318 486.83 30.163 Q486.83 24.7348 483.711 21.7777 Q480.592 18.8205 474.88 18.8205 L464.591 18.8205 M456.408 12.096 L474.88 12.096 Q485.048 12.096 490.233 16.714 Q495.459 21.2916 495.459 30.163 Q495.459 39.1155 490.233 43.6931 Q485.048 48.2706 474.88 48.2706 L464.591 48.2706 L464.591 72.576 L456.408 72.576 L456.408 12.096 Z\" fill=\"#000000\" fill-rule=\"evenodd\" fill-opacity=\"1\" /><path clip-path=\"url(#clip690)\" d=\"M 0 0 M528.109 34.1734 Q526.853 33.4443 525.354 33.1202 Q523.896 32.7556 522.113 32.7556 Q515.794 32.7556 512.391 36.8875 Q509.029 40.9789 509.029 48.6757 L509.029 72.576 L501.535 72.576 L501.535 27.2059 L509.029 27.2059 L509.029 34.2544 Q511.379 30.1225 515.146 28.1376 Q518.913 26.1121 524.301 26.1121 Q525.071 26.1121 526.002 26.2337 Q526.934 26.3147 528.068 26.5172 L528.109 34.1734 Z\" fill=\"#000000\" fill-rule=\"evenodd\" fill-opacity=\"1\" /><path clip-path=\"url(#clip690)\" d=\"M 0 0 M551.685 32.4315 Q545.69 32.4315 542.206 37.1306 Q538.722 41.7891 538.722 49.9314 Q538.722 58.0738 542.165 62.7728 Q545.649 67.4314 551.685 67.4314 Q557.64 67.4314 561.124 62.7323 Q564.607 58.0333 564.607 49.9314 Q564.607 41.8701 561.124 37.1711 Q557.64 32.4315 551.685 32.4315 M551.685 26.1121 Q561.407 26.1121 566.957 32.4315 Q572.507 38.7509 572.507 49.9314 Q572.507 61.0714 566.957 67.4314 Q561.407 73.7508 551.685 73.7508 Q541.922 73.7508 536.373 67.4314 Q530.863 61.0714 530.863 49.9314 Q530.863 38.7509 536.373 32.4315 Q541.922 26.1121 551.685 26.1121 Z\" fill=\"#000000\" fill-rule=\"evenodd\" fill-opacity=\"1\" /><path clip-path=\"url(#clip690)\" d=\"M 0 0 M610.18 34.0924 L610.18 9.54393 L617.634 9.54393 L617.634 72.576 L610.18 72.576 L610.18 65.7705 Q607.831 69.8214 604.225 71.8063 Q600.661 73.7508 595.637 73.7508 Q587.414 73.7508 582.229 67.1883 Q577.084 60.6258 577.084 49.9314 Q577.084 39.2371 582.229 32.6746 Q587.414 26.1121 595.637 26.1121 Q600.661 26.1121 604.225 28.0971 Q607.831 30.0415 610.18 34.0924 M584.781 49.9314 Q584.781 58.1548 588.143 62.8538 Q591.546 67.5124 597.46 67.5124 Q603.375 67.5124 606.777 62.8538 Q610.18 58.1548 610.18 49.9314 Q610.18 41.7081 606.777 37.0496 Q603.375 32.3505 597.46 32.3505 Q591.546 32.3505 588.143 37.0496 Q584.781 41.7081 584.781 49.9314 Z\" fill=\"#000000\" fill-rule=\"evenodd\" fill-opacity=\"1\" /><path clip-path=\"url(#clip690)\" d=\"M 0 0 M624.682 54.671 L624.682 27.2059 L632.136 27.2059 L632.136 54.3874 Q632.136 60.8284 634.648 64.0691 Q637.159 67.2693 642.182 67.2693 Q648.218 67.2693 651.702 63.421 Q655.226 59.5726 655.226 52.9291 L655.226 27.2059 L662.68 27.2059 L662.68 72.576 L655.226 72.576 L655.226 65.6084 Q652.512 69.7404 648.907 71.7658 Q645.342 73.7508 640.602 73.7508 Q632.784 73.7508 628.733 68.8897 Q624.682 64.0286 624.682 54.671 M643.438 26.1121 L643.438 26.1121 Z\" fill=\"#000000\" fill-rule=\"evenodd\" fill-opacity=\"1\" /><path clip-path=\"url(#clip690)\" d=\"M 0 0 M670.215 9.54393 L677.709 9.54393 L677.709 46.7717 L699.948 27.2059 L709.468 27.2059 L685.405 48.4326 L710.481 72.576 L700.758 72.576 L677.709 50.4176 L677.709 72.576 L670.215 72.576 L670.215 9.54393 Z\" fill=\"#000000\" fill-rule=\"evenodd\" fill-opacity=\"1\" /><path clip-path=\"url(#clip690)\" d=\"M 0 0 M725.671 14.324 L725.671 27.2059 L741.024 27.2059 L741.024 32.9987 L725.671 32.9987 L725.671 57.6282 Q725.671 63.1779 727.17 64.7578 Q728.71 66.3376 733.368 66.3376 L741.024 66.3376 L741.024 72.576 L733.368 72.576 Q724.74 72.576 721.458 69.3758 Q718.177 66.1351 718.177 57.6282 L718.177 32.9987 L712.709 32.9987 L712.709 27.2059 L718.177 27.2059 L718.177 14.324 L725.671 14.324 Z\" fill=\"#000000\" fill-rule=\"evenodd\" fill-opacity=\"1\" /><path clip-path=\"url(#clip690)\" d=\"M 0 0 M775.538 12.096 L783.721 12.096 L783.721 36.8875 L813.455 36.8875 L813.455 12.096 L821.637 12.096 L821.637 72.576 L813.455 72.576 L813.455 43.7741 L783.721 43.7741 L783.721 72.576 L775.538 72.576 L775.538 12.096 Z\" fill=\"#000000\" fill-rule=\"evenodd\" fill-opacity=\"1\" /><path clip-path=\"url(#clip690)\" d=\"M 0 0 M868.263 48.0275 L868.263 51.6733 L833.993 51.6733 Q834.479 59.3701 838.611 63.421 Q842.783 67.4314 850.196 67.4314 Q854.49 67.4314 858.501 66.3781 Q862.551 65.3249 866.521 63.2184 L866.521 70.267 Q862.511 71.9684 858.298 72.8596 Q854.085 73.7508 849.751 73.7508 Q838.894 73.7508 832.534 67.4314 Q826.215 61.1119 826.215 50.3365 Q826.215 39.1965 832.21 32.6746 Q838.246 26.1121 848.454 26.1121 Q857.609 26.1121 862.916 32.0264 Q868.263 37.9003 868.263 48.0275 M860.81 45.84 Q860.729 39.7232 857.366 36.0774 Q854.045 32.4315 848.535 32.4315 Q842.297 32.4315 838.53 35.9558 Q834.803 39.4801 834.236 45.8805 L860.81 45.84 Z\" fill=\"#000000\" fill-rule=\"evenodd\" fill-opacity=\"1\" /><path clip-path=\"url(#clip690)\" d=\"M 0 0 M876.081 9.54393 L883.535 9.54393 L883.535 72.576 L876.081 72.576 L876.081 9.54393 Z\" fill=\"#000000\" fill-rule=\"evenodd\" fill-opacity=\"1\" /><path clip-path=\"url(#clip690)\" d=\"M 0 0 M891.353 9.54393 L898.807 9.54393 L898.807 72.576 L891.353 72.576 L891.353 9.54393 Z\" fill=\"#000000\" fill-rule=\"evenodd\" fill-opacity=\"1\" /><path clip-path=\"url(#clip692)\" d=\"\n",
       "M252.051 188.458 L252.051 1423.18 L299.335 1423.18 L299.335 188.458 L252.051 188.458 L252.051 188.458  Z\n",
       "  \" fill=\"#00688b\" fill-rule=\"evenodd\" fill-opacity=\"1\"/>\n",
       "<polyline clip-path=\"url(#clip692)\" style=\"stroke:#000000; stroke-width:4; stroke-opacity:1; fill:none\" points=\"\n",
       "  252.051,188.458 252.051,1423.18 299.335,1423.18 299.335,188.458 252.051,188.458 \n",
       "  \"/>\n",
       "<path clip-path=\"url(#clip692)\" d=\"\n",
       "M429.366 188.458 L429.366 1423.18 L476.65 1423.18 L476.65 188.458 L429.366 188.458 L429.366 188.458  Z\n",
       "  \" fill=\"#00688b\" fill-rule=\"evenodd\" fill-opacity=\"1\"/>\n",
       "<polyline clip-path=\"url(#clip692)\" style=\"stroke:#000000; stroke-width:4; stroke-opacity:1; fill:none\" points=\"\n",
       "  429.366,188.458 429.366,1423.18 476.65,1423.18 476.65,188.458 429.366,188.458 \n",
       "  \"/>\n",
       "<path clip-path=\"url(#clip692)\" d=\"\n",
       "M606.681 448.399 L606.681 1423.18 L653.965 1423.18 L653.965 448.399 L606.681 448.399 L606.681 448.399  Z\n",
       "  \" fill=\"#00688b\" fill-rule=\"evenodd\" fill-opacity=\"1\"/>\n",
       "<polyline clip-path=\"url(#clip692)\" style=\"stroke:#000000; stroke-width:4; stroke-opacity:1; fill:none\" points=\"\n",
       "  606.681,448.399 606.681,1423.18 653.965,1423.18 653.965,448.399 606.681,448.399 \n",
       "  \"/>\n",
       "<path clip-path=\"url(#clip692)\" d=\"\n",
       "M783.997 448.399 L783.997 1423.18 L831.281 1423.18 L831.281 448.399 L783.997 448.399 L783.997 448.399  Z\n",
       "  \" fill=\"#00688b\" fill-rule=\"evenodd\" fill-opacity=\"1\"/>\n",
       "<polyline clip-path=\"url(#clip692)\" style=\"stroke:#000000; stroke-width:4; stroke-opacity:1; fill:none\" points=\"\n",
       "  783.997,448.399 783.997,1423.18 831.281,1423.18 831.281,448.399 783.997,448.399 \n",
       "  \"/>\n",
       "<path clip-path=\"url(#clip692)\" d=\"\n",
       "M961.312 448.399 L961.312 1423.18 L1008.6 1423.18 L1008.6 448.399 L961.312 448.399 L961.312 448.399  Z\n",
       "  \" fill=\"#00688b\" fill-rule=\"evenodd\" fill-opacity=\"1\"/>\n",
       "<polyline clip-path=\"url(#clip692)\" style=\"stroke:#000000; stroke-width:4; stroke-opacity:1; fill:none\" points=\"\n",
       "  961.312,448.399 961.312,1423.18 1008.6,1423.18 1008.6,448.399 961.312,448.399 \n",
       "  \"/>\n",
       "<path clip-path=\"url(#clip692)\" d=\"\n",
       "M299.335 188.458 L299.335 1423.18 L346.619 1423.18 L346.619 188.458 L299.335 188.458 L299.335 188.458  Z\n",
       "  \" fill=\"#cd0000\" fill-rule=\"evenodd\" fill-opacity=\"1\"/>\n",
       "<polyline clip-path=\"url(#clip692)\" style=\"stroke:#000000; stroke-width:4; stroke-opacity:1; fill:none\" points=\"\n",
       "  299.335,188.458 299.335,1423.18 346.619,1423.18 346.619,188.458 299.335,188.458 \n",
       "  \"/>\n",
       "<path clip-path=\"url(#clip692)\" d=\"\n",
       "M476.65 188.458 L476.65 1423.18 L523.934 1423.18 L523.934 188.458 L476.65 188.458 L476.65 188.458  Z\n",
       "  \" fill=\"#cd0000\" fill-rule=\"evenodd\" fill-opacity=\"1\"/>\n",
       "<polyline clip-path=\"url(#clip692)\" style=\"stroke:#000000; stroke-width:4; stroke-opacity:1; fill:none\" points=\"\n",
       "  476.65,188.458 476.65,1423.18 523.934,1423.18 523.934,188.458 476.65,188.458 \n",
       "  \"/>\n",
       "<path clip-path=\"url(#clip692)\" d=\"\n",
       "M653.965 448.399 L653.965 1423.18 L701.249 1423.18 L701.249 448.399 L653.965 448.399 L653.965 448.399  Z\n",
       "  \" fill=\"#cd0000\" fill-rule=\"evenodd\" fill-opacity=\"1\"/>\n",
       "<polyline clip-path=\"url(#clip692)\" style=\"stroke:#000000; stroke-width:4; stroke-opacity:1; fill:none\" points=\"\n",
       "  653.965,448.399 653.965,1423.18 701.249,1423.18 701.249,448.399 653.965,448.399 \n",
       "  \"/>\n",
       "<path clip-path=\"url(#clip692)\" d=\"\n",
       "M831.281 448.399 L831.281 1423.18 L878.565 1423.18 L878.565 448.399 L831.281 448.399 L831.281 448.399  Z\n",
       "  \" fill=\"#cd0000\" fill-rule=\"evenodd\" fill-opacity=\"1\"/>\n",
       "<polyline clip-path=\"url(#clip692)\" style=\"stroke:#000000; stroke-width:4; stroke-opacity:1; fill:none\" points=\"\n",
       "  831.281,448.399 831.281,1423.18 878.565,1423.18 878.565,448.399 831.281,448.399 \n",
       "  \"/>\n",
       "<path clip-path=\"url(#clip692)\" d=\"\n",
       "M1008.6 448.399 L1008.6 1423.18 L1055.88 1423.18 L1055.88 448.399 L1008.6 448.399 L1008.6 448.399  Z\n",
       "  \" fill=\"#cd0000\" fill-rule=\"evenodd\" fill-opacity=\"1\"/>\n",
       "<polyline clip-path=\"url(#clip692)\" style=\"stroke:#000000; stroke-width:4; stroke-opacity:1; fill:none\" points=\"\n",
       "  1008.6,448.399 1008.6,1423.18 1055.88,1423.18 1055.88,448.399 1008.6,448.399 \n",
       "  \"/>\n",
       "<path clip-path=\"url(#clip692)\" d=\"\n",
       "M346.619 1423.18 L346.619 1423.18 L393.903 1423.18 L393.903 1423.18 L346.619 1423.18 L346.619 1423.18  Z\n",
       "  \" fill=\"#ffa500\" fill-rule=\"evenodd\" fill-opacity=\"1\"/>\n",
       "<polyline clip-path=\"url(#clip692)\" style=\"stroke:#000000; stroke-width:4; stroke-opacity:1; fill:none\" points=\"\n",
       "  346.619,1423.18 346.619,1423.18 393.903,1423.18 346.619,1423.18 \n",
       "  \"/>\n",
       "<path clip-path=\"url(#clip692)\" d=\"\n",
       "M523.934 1423.18 L523.934 1423.18 L571.218 1423.18 L571.218 1423.18 L523.934 1423.18 L523.934 1423.18  Z\n",
       "  \" fill=\"#ffa500\" fill-rule=\"evenodd\" fill-opacity=\"1\"/>\n",
       "<polyline clip-path=\"url(#clip692)\" style=\"stroke:#000000; stroke-width:4; stroke-opacity:1; fill:none\" points=\"\n",
       "  523.934,1423.18 523.934,1423.18 571.218,1423.18 523.934,1423.18 \n",
       "  \"/>\n",
       "<path clip-path=\"url(#clip692)\" d=\"\n",
       "M701.249 1423.18 L701.249 1423.18 L748.534 1423.18 L748.534 1423.18 L701.249 1423.18 L701.249 1423.18  Z\n",
       "  \" fill=\"#ffa500\" fill-rule=\"evenodd\" fill-opacity=\"1\"/>\n",
       "<polyline clip-path=\"url(#clip692)\" style=\"stroke:#000000; stroke-width:4; stroke-opacity:1; fill:none\" points=\"\n",
       "  701.249,1423.18 701.249,1423.18 748.534,1423.18 701.249,1423.18 \n",
       "  \"/>\n",
       "<path clip-path=\"url(#clip692)\" d=\"\n",
       "M878.565 1423.18 L878.565 1423.18 L925.849 1423.18 L925.849 1423.18 L878.565 1423.18 L878.565 1423.18  Z\n",
       "  \" fill=\"#ffa500\" fill-rule=\"evenodd\" fill-opacity=\"1\"/>\n",
       "<polyline clip-path=\"url(#clip692)\" style=\"stroke:#000000; stroke-width:4; stroke-opacity:1; fill:none\" points=\"\n",
       "  878.565,1423.18 878.565,1423.18 925.849,1423.18 878.565,1423.18 \n",
       "  \"/>\n",
       "<path clip-path=\"url(#clip692)\" d=\"\n",
       "M1055.88 1423.18 L1055.88 1423.18 L1103.16 1423.18 L1103.16 1423.18 L1055.88 1423.18 L1055.88 1423.18  Z\n",
       "  \" fill=\"#ffa500\" fill-rule=\"evenodd\" fill-opacity=\"1\"/>\n",
       "<polyline clip-path=\"url(#clip692)\" style=\"stroke:#000000; stroke-width:4; stroke-opacity:1; fill:none\" points=\"\n",
       "  1055.88,1423.18 1055.88,1423.18 1103.16,1423.18 1055.88,1423.18 \n",
       "  \"/>\n",
       "<path clip-path=\"url(#clip690)\" d=\"\n",
       "M1402.46 1423.18 L2352.76 1423.18 L2352.76 123.472 L1402.46 123.472  Z\n",
       "  \" fill=\"#ffffff\" fill-rule=\"evenodd\" fill-opacity=\"1\"/>\n",
       "<defs>\n",
       "  <clipPath id=\"clip693\">\n",
       "    <rect x=\"1402\" y=\"123\" width=\"951\" height=\"1301\"/>\n",
       "  </clipPath>\n",
       "</defs>\n",
       "<polyline clip-path=\"url(#clip693)\" style=\"stroke:#000000; stroke-width:2; stroke-opacity:0.1; fill:none\" points=\"\n",
       "  1522.98,1423.18 1522.98,123.472 \n",
       "  \"/>\n",
       "<polyline clip-path=\"url(#clip693)\" style=\"stroke:#000000; stroke-width:2; stroke-opacity:0.1; fill:none\" points=\"\n",
       "  1700.29,1423.18 1700.29,123.472 \n",
       "  \"/>\n",
       "<polyline clip-path=\"url(#clip693)\" style=\"stroke:#000000; stroke-width:2; stroke-opacity:0.1; fill:none\" points=\"\n",
       "  1877.61,1423.18 1877.61,123.472 \n",
       "  \"/>\n",
       "<polyline clip-path=\"url(#clip693)\" style=\"stroke:#000000; stroke-width:2; stroke-opacity:0.1; fill:none\" points=\"\n",
       "  2054.92,1423.18 2054.92,123.472 \n",
       "  \"/>\n",
       "<polyline clip-path=\"url(#clip693)\" style=\"stroke:#000000; stroke-width:2; stroke-opacity:0.1; fill:none\" points=\"\n",
       "  2232.24,1423.18 2232.24,123.472 \n",
       "  \"/>\n",
       "<polyline clip-path=\"url(#clip690)\" style=\"stroke:#000000; stroke-width:4; stroke-opacity:1; fill:none\" points=\"\n",
       "  1402.46,1423.18 2352.76,1423.18 \n",
       "  \"/>\n",
       "<polyline clip-path=\"url(#clip690)\" style=\"stroke:#000000; stroke-width:4; stroke-opacity:1; fill:none\" points=\"\n",
       "  1522.98,1423.18 1522.98,1407.58 \n",
       "  \"/>\n",
       "<polyline clip-path=\"url(#clip690)\" style=\"stroke:#000000; stroke-width:4; stroke-opacity:1; fill:none\" points=\"\n",
       "  1700.29,1423.18 1700.29,1407.58 \n",
       "  \"/>\n",
       "<polyline clip-path=\"url(#clip690)\" style=\"stroke:#000000; stroke-width:4; stroke-opacity:1; fill:none\" points=\"\n",
       "  1877.61,1423.18 1877.61,1407.58 \n",
       "  \"/>\n",
       "<polyline clip-path=\"url(#clip690)\" style=\"stroke:#000000; stroke-width:4; stroke-opacity:1; fill:none\" points=\"\n",
       "  2054.92,1423.18 2054.92,1407.58 \n",
       "  \"/>\n",
       "<polyline clip-path=\"url(#clip690)\" style=\"stroke:#000000; stroke-width:4; stroke-opacity:1; fill:none\" points=\"\n",
       "  2232.24,1423.18 2232.24,1407.58 \n",
       "  \"/>\n",
       "<path clip-path=\"url(#clip690)\" d=\"M 0 0 M1513.36 1479.92 L1521 1479.92 L1521 1453.55 L1512.69 1455.22 L1512.69 1450.96 L1520.95 1449.29 L1525.63 1449.29 L1525.63 1479.92 L1533.27 1479.92 L1533.27 1483.85 L1513.36 1483.85 L1513.36 1479.92 Z\" fill=\"#000000\" fill-rule=\"evenodd\" fill-opacity=\"1\" /><path clip-path=\"url(#clip690)\" d=\"M 0 0 M1694.94 1479.92 L1711.26 1479.92 L1711.26 1483.85 L1689.32 1483.85 L1689.32 1479.92 Q1691.98 1477.16 1696.57 1472.53 Q1701.17 1467.88 1702.35 1466.54 Q1704.6 1464.01 1705.48 1462.28 Q1706.38 1460.52 1706.38 1458.83 Q1706.38 1456.07 1704.44 1454.34 Q1702.51 1452.6 1699.41 1452.6 Q1697.21 1452.6 1694.76 1453.37 Q1692.33 1454.13 1689.55 1455.68 L1689.55 1450.96 Q1692.38 1449.82 1694.83 1449.25 Q1697.28 1448.67 1699.32 1448.67 Q1704.69 1448.67 1707.88 1451.35 Q1711.08 1454.04 1711.08 1458.53 Q1711.08 1460.66 1710.27 1462.58 Q1709.48 1464.48 1707.38 1467.07 Q1706.8 1467.74 1703.69 1470.96 Q1700.59 1474.15 1694.94 1479.92 Z\" fill=\"#000000\" fill-rule=\"evenodd\" fill-opacity=\"1\" /><path clip-path=\"url(#clip690)\" d=\"M 0 0 M1881.86 1465.22 Q1885.21 1465.94 1887.09 1468.2 Q1888.98 1470.47 1888.98 1473.81 Q1888.98 1478.92 1885.47 1481.72 Q1881.95 1484.52 1875.47 1484.52 Q1873.29 1484.52 1870.98 1484.08 Q1868.68 1483.67 1866.23 1482.81 L1866.23 1478.3 Q1868.17 1479.43 1870.49 1480.01 Q1872.8 1480.59 1875.33 1480.59 Q1879.73 1480.59 1882.02 1478.85 Q1884.33 1477.12 1884.33 1473.81 Q1884.33 1470.75 1882.18 1469.04 Q1880.05 1467.3 1876.23 1467.3 L1872.2 1467.3 L1872.2 1463.46 L1876.42 1463.46 Q1879.86 1463.46 1881.69 1462.09 Q1883.52 1460.7 1883.52 1458.11 Q1883.52 1455.45 1881.62 1454.04 Q1879.75 1452.6 1876.23 1452.6 Q1874.31 1452.6 1872.11 1453.02 Q1869.91 1453.44 1867.27 1454.31 L1867.27 1450.15 Q1869.93 1449.41 1872.25 1449.04 Q1874.59 1448.67 1876.65 1448.67 Q1881.97 1448.67 1885.07 1451.1 Q1888.17 1453.5 1888.17 1457.63 Q1888.17 1460.5 1886.53 1462.49 Q1884.89 1464.45 1881.86 1465.22 Z\" fill=\"#000000\" fill-rule=\"evenodd\" fill-opacity=\"1\" /><path clip-path=\"url(#clip690)\" d=\"M 0 0 M2057.93 1453.37 L2046.13 1471.81 L2057.93 1471.81 L2057.93 1453.37 M2056.71 1449.29 L2062.58 1449.29 L2062.58 1471.81 L2067.52 1471.81 L2067.52 1475.7 L2062.58 1475.7 L2062.58 1483.85 L2057.93 1483.85 L2057.93 1475.7 L2042.33 1475.7 L2042.33 1471.19 L2056.71 1449.29 Z\" fill=\"#000000\" fill-rule=\"evenodd\" fill-opacity=\"1\" /><path clip-path=\"url(#clip690)\" d=\"M 0 0 M2222.52 1449.29 L2240.87 1449.29 L2240.87 1453.23 L2226.8 1453.23 L2226.8 1461.7 Q2227.82 1461.35 2228.84 1461.19 Q2229.85 1461 2230.87 1461 Q2236.66 1461 2240.04 1464.18 Q2243.42 1467.35 2243.42 1472.76 Q2243.42 1478.34 2239.95 1481.44 Q2236.47 1484.52 2230.15 1484.52 Q2227.98 1484.52 2225.71 1484.15 Q2223.47 1483.78 2221.06 1483.04 L2221.06 1478.34 Q2223.14 1479.48 2225.36 1480.03 Q2227.59 1480.59 2230.06 1480.59 Q2234.07 1480.59 2236.4 1478.48 Q2238.74 1476.38 2238.74 1472.76 Q2238.74 1469.15 2236.4 1467.05 Q2234.07 1464.94 2230.06 1464.94 Q2228.19 1464.94 2226.31 1465.36 Q2224.46 1465.77 2222.52 1466.65 L2222.52 1449.29 Z\" fill=\"#000000\" fill-rule=\"evenodd\" fill-opacity=\"1\" /><path clip-path=\"url(#clip690)\" d=\"M 0 0 M1777.94 1513.81 L1777.94 1531.66 L1786.02 1531.66 Q1790.51 1531.66 1792.96 1529.34 Q1795.41 1527.02 1795.41 1522.72 Q1795.41 1518.45 1792.96 1516.13 Q1790.51 1513.81 1786.02 1513.81 L1777.94 1513.81 M1771.51 1508.52 L1786.02 1508.52 Q1794.01 1508.52 1798.08 1512.15 Q1802.19 1515.75 1802.19 1522.72 Q1802.19 1529.75 1798.08 1533.35 Q1794.01 1536.95 1786.02 1536.95 L1777.94 1536.95 L1777.94 1556.04 L1771.51 1556.04 L1771.51 1508.52 Z\" fill=\"#000000\" fill-rule=\"evenodd\" fill-opacity=\"1\" /><path clip-path=\"url(#clip690)\" d=\"M 0 0 M1836.5 1536.76 L1836.5 1539.62 L1809.57 1539.62 Q1809.96 1545.67 1813.2 1548.85 Q1816.48 1552 1822.31 1552 Q1825.68 1552 1828.83 1551.17 Q1832.01 1550.35 1835.13 1548.69 L1835.13 1554.23 Q1831.98 1555.57 1828.67 1556.27 Q1825.36 1556.97 1821.96 1556.97 Q1813.43 1556.97 1808.43 1552 Q1803.46 1547.04 1803.46 1538.57 Q1803.46 1529.82 1808.17 1524.69 Q1812.92 1519.54 1820.94 1519.54 Q1828.13 1519.54 1832.3 1524.18 Q1836.5 1528.8 1836.5 1536.76 M1830.64 1535.04 Q1830.58 1530.23 1827.94 1527.37 Q1825.33 1524.5 1821 1524.5 Q1816.1 1524.5 1813.14 1527.27 Q1810.21 1530.04 1809.76 1535.07 L1830.64 1535.04 Z\" fill=\"#000000\" fill-rule=\"evenodd\" fill-opacity=\"1\" /><path clip-path=\"url(#clip690)\" d=\"M 0 0 M1863.3 1525.87 Q1862.31 1525.3 1861.14 1525.04 Q1859.99 1524.76 1858.59 1524.76 Q1853.62 1524.76 1850.95 1528 Q1848.31 1531.22 1848.31 1537.27 L1848.31 1556.04 L1842.42 1556.04 L1842.42 1520.4 L1848.31 1520.4 L1848.31 1525.93 Q1850.16 1522.69 1853.12 1521.13 Q1856.08 1519.54 1860.31 1519.54 Q1860.91 1519.54 1861.65 1519.63 Q1862.38 1519.7 1863.27 1519.85 L1863.3 1525.87 Z\" fill=\"#000000\" fill-rule=\"evenodd\" fill-opacity=\"1\" /><path clip-path=\"url(#clip690)\" d=\"M 0 0 M1869.44 1520.4 L1875.3 1520.4 L1875.3 1556.04 L1869.44 1556.04 L1869.44 1520.4 M1869.44 1506.52 L1875.3 1506.52 L1875.3 1513.93 L1869.44 1513.93 L1869.44 1506.52 Z\" fill=\"#000000\" fill-rule=\"evenodd\" fill-opacity=\"1\" /><path clip-path=\"url(#clip690)\" d=\"M 0 0 M1895.26 1524.5 Q1890.55 1524.5 1887.81 1528.19 Q1885.07 1531.85 1885.07 1538.25 Q1885.07 1544.65 1887.78 1548.34 Q1890.51 1552 1895.26 1552 Q1899.94 1552 1902.67 1548.31 Q1905.41 1544.62 1905.41 1538.25 Q1905.41 1531.92 1902.67 1528.23 Q1899.94 1524.5 1895.26 1524.5 M1895.26 1519.54 Q1902.9 1519.54 1907.26 1524.5 Q1911.62 1529.47 1911.62 1538.25 Q1911.62 1547 1907.26 1552 Q1902.9 1556.97 1895.26 1556.97 Q1887.59 1556.97 1883.23 1552 Q1878.9 1547 1878.9 1538.25 Q1878.9 1529.47 1883.23 1524.5 Q1887.59 1519.54 1895.26 1519.54 Z\" fill=\"#000000\" fill-rule=\"evenodd\" fill-opacity=\"1\" /><path clip-path=\"url(#clip690)\" d=\"M 0 0 M1941.22 1525.81 L1941.22 1506.52 L1947.07 1506.52 L1947.07 1556.04 L1941.22 1556.04 L1941.22 1550.7 Q1939.37 1553.88 1936.54 1555.44 Q1933.74 1556.97 1929.79 1556.97 Q1923.33 1556.97 1919.26 1551.81 Q1915.21 1546.65 1915.21 1538.25 Q1915.21 1529.85 1919.26 1524.69 Q1923.33 1519.54 1929.79 1519.54 Q1933.74 1519.54 1936.54 1521.1 Q1939.37 1522.62 1941.22 1525.81 M1921.26 1538.25 Q1921.26 1544.71 1923.9 1548.4 Q1926.58 1552.07 1931.22 1552.07 Q1935.87 1552.07 1938.54 1548.4 Q1941.22 1544.71 1941.22 1538.25 Q1941.22 1531.79 1938.54 1528.13 Q1935.87 1524.44 1931.22 1524.44 Q1926.58 1524.44 1923.9 1528.13 Q1921.26 1531.79 1921.26 1538.25 Z\" fill=\"#000000\" fill-rule=\"evenodd\" fill-opacity=\"1\" /><path clip-path=\"url(#clip690)\" d=\"M 0 0 M1983.71 1536.76 L1983.71 1539.62 L1956.78 1539.62 Q1957.16 1545.67 1960.41 1548.85 Q1963.69 1552 1969.51 1552 Q1972.89 1552 1976.04 1551.17 Q1979.22 1550.35 1982.34 1548.69 L1982.34 1554.23 Q1979.19 1555.57 1975.88 1556.27 Q1972.57 1556.97 1969.16 1556.97 Q1960.63 1556.97 1955.64 1552 Q1950.67 1547.04 1950.67 1538.57 Q1950.67 1529.82 1955.38 1524.69 Q1960.12 1519.54 1968.14 1519.54 Q1975.34 1519.54 1979.51 1524.18 Q1983.71 1528.8 1983.71 1536.76 M1977.85 1535.04 Q1977.79 1530.23 1975.15 1527.37 Q1972.54 1524.5 1968.21 1524.5 Q1963.31 1524.5 1960.35 1527.27 Q1957.42 1530.04 1956.97 1535.07 L1977.85 1535.04 Z\" fill=\"#000000\" fill-rule=\"evenodd\" fill-opacity=\"1\" /><polyline clip-path=\"url(#clip693)\" style=\"stroke:#000000; stroke-width:2; stroke-opacity:0.1; fill:none\" points=\"\n",
       "  1402.46,1423.18 2352.76,1423.18 \n",
       "  \"/>\n",
       "<polyline clip-path=\"url(#clip693)\" style=\"stroke:#000000; stroke-width:2; stroke-opacity:0.1; fill:none\" points=\"\n",
       "  1402.46,1098.25 2352.76,1098.25 \n",
       "  \"/>\n",
       "<polyline clip-path=\"url(#clip693)\" style=\"stroke:#000000; stroke-width:2; stroke-opacity:0.1; fill:none\" points=\"\n",
       "  1402.46,773.326 2352.76,773.326 \n",
       "  \"/>\n",
       "<polyline clip-path=\"url(#clip693)\" style=\"stroke:#000000; stroke-width:2; stroke-opacity:0.1; fill:none\" points=\"\n",
       "  1402.46,448.399 2352.76,448.399 \n",
       "  \"/>\n",
       "<polyline clip-path=\"url(#clip693)\" style=\"stroke:#000000; stroke-width:2; stroke-opacity:0.1; fill:none\" points=\"\n",
       "  1402.46,123.472 2352.76,123.472 \n",
       "  \"/>\n",
       "<polyline clip-path=\"url(#clip690)\" style=\"stroke:#000000; stroke-width:4; stroke-opacity:1; fill:none\" points=\"\n",
       "  1402.46,1423.18 1402.46,123.472 \n",
       "  \"/>\n",
       "<polyline clip-path=\"url(#clip690)\" style=\"stroke:#000000; stroke-width:4; stroke-opacity:1; fill:none\" points=\"\n",
       "  1402.46,1423.18 1413.86,1423.18 \n",
       "  \"/>\n",
       "<polyline clip-path=\"url(#clip690)\" style=\"stroke:#000000; stroke-width:4; stroke-opacity:1; fill:none\" points=\"\n",
       "  1402.46,1098.25 1413.86,1098.25 \n",
       "  \"/>\n",
       "<polyline clip-path=\"url(#clip690)\" style=\"stroke:#000000; stroke-width:4; stroke-opacity:1; fill:none\" points=\"\n",
       "  1402.46,773.326 1413.86,773.326 \n",
       "  \"/>\n",
       "<polyline clip-path=\"url(#clip690)\" style=\"stroke:#000000; stroke-width:4; stroke-opacity:1; fill:none\" points=\"\n",
       "  1402.46,448.399 1413.86,448.399 \n",
       "  \"/>\n",
       "<polyline clip-path=\"url(#clip690)\" style=\"stroke:#000000; stroke-width:4; stroke-opacity:1; fill:none\" points=\"\n",
       "  1402.46,123.472 1413.86,123.472 \n",
       "  \"/>\n",
       "<path clip-path=\"url(#clip690)\" d=\"M 0 0 M1354.51 1408.98 Q1350.9 1408.98 1349.07 1412.54 Q1347.27 1416.08 1347.27 1423.21 Q1347.27 1430.32 1349.07 1433.89 Q1350.9 1437.43 1354.51 1437.43 Q1358.15 1437.43 1359.95 1433.89 Q1361.78 1430.32 1361.78 1423.21 Q1361.78 1416.08 1359.95 1412.54 Q1358.15 1408.98 1354.51 1408.98 M1354.51 1405.27 Q1360.32 1405.27 1363.38 1409.88 Q1366.46 1414.46 1366.46 1423.21 Q1366.46 1431.94 1363.38 1436.55 Q1360.32 1441.13 1354.51 1441.13 Q1348.7 1441.13 1345.63 1436.55 Q1342.57 1431.94 1342.57 1423.21 Q1342.57 1414.46 1345.63 1409.88 Q1348.7 1405.27 1354.51 1405.27 Z\" fill=\"#000000\" fill-rule=\"evenodd\" fill-opacity=\"1\" /><path clip-path=\"url(#clip690)\" d=\"M 0 0 M1319.54 1111.6 L1327.18 1111.6 L1327.18 1085.23 L1318.87 1086.9 L1318.87 1082.64 L1327.13 1080.97 L1331.81 1080.97 L1331.81 1111.6 L1339.45 1111.6 L1339.45 1115.53 L1319.54 1115.53 L1319.54 1111.6 Z\" fill=\"#000000\" fill-rule=\"evenodd\" fill-opacity=\"1\" /><path clip-path=\"url(#clip690)\" d=\"M 0 0 M1354.51 1084.05 Q1350.9 1084.05 1349.07 1087.62 Q1347.27 1091.16 1347.27 1098.29 Q1347.27 1105.39 1349.07 1108.96 Q1350.9 1112.5 1354.51 1112.5 Q1358.15 1112.5 1359.95 1108.96 Q1361.78 1105.39 1361.78 1098.29 Q1361.78 1091.16 1359.95 1087.62 Q1358.15 1084.05 1354.51 1084.05 M1354.51 1080.35 Q1360.32 1080.35 1363.38 1084.95 Q1366.46 1089.54 1366.46 1098.29 Q1366.46 1107.01 1363.38 1111.62 Q1360.32 1116.2 1354.51 1116.2 Q1348.7 1116.2 1345.63 1111.62 Q1342.57 1107.01 1342.57 1098.29 Q1342.57 1089.54 1345.63 1084.95 Q1348.7 1080.35 1354.51 1080.35 Z\" fill=\"#000000\" fill-rule=\"evenodd\" fill-opacity=\"1\" /><path clip-path=\"url(#clip690)\" d=\"M 0 0 M1323.13 786.671 L1339.45 786.671 L1339.45 790.606 L1317.5 790.606 L1317.5 786.671 Q1320.16 783.916 1324.75 779.287 Q1329.35 774.634 1330.53 773.291 Q1332.78 770.768 1333.66 769.032 Q1334.56 767.273 1334.56 765.583 Q1334.56 762.828 1332.62 761.092 Q1330.7 759.356 1327.59 759.356 Q1325.39 759.356 1322.94 760.12 Q1320.51 760.884 1317.73 762.435 L1317.73 757.713 Q1320.56 756.578 1323.01 756 Q1325.46 755.421 1327.5 755.421 Q1332.87 755.421 1336.07 758.106 Q1339.26 760.791 1339.26 765.282 Q1339.26 767.412 1338.45 769.333 Q1337.66 771.231 1335.56 773.824 Q1334.98 774.495 1331.88 777.713 Q1328.77 780.907 1323.13 786.671 Z\" fill=\"#000000\" fill-rule=\"evenodd\" fill-opacity=\"1\" /><path clip-path=\"url(#clip690)\" d=\"M 0 0 M1354.51 759.125 Q1350.9 759.125 1349.07 762.689 Q1347.27 766.231 1347.27 773.361 Q1347.27 780.467 1349.07 784.032 Q1350.9 787.574 1354.51 787.574 Q1358.15 787.574 1359.95 784.032 Q1361.78 780.467 1361.78 773.361 Q1361.78 766.231 1359.95 762.689 Q1358.15 759.125 1354.51 759.125 M1354.51 755.421 Q1360.32 755.421 1363.38 760.027 Q1366.46 764.611 1366.46 773.361 Q1366.46 782.088 1363.38 786.694 Q1360.32 791.277 1354.51 791.277 Q1348.7 791.277 1345.63 786.694 Q1342.57 782.088 1342.57 773.361 Q1342.57 764.611 1345.63 760.027 Q1348.7 755.421 1354.51 755.421 Z\" fill=\"#000000\" fill-rule=\"evenodd\" fill-opacity=\"1\" /><path clip-path=\"url(#clip690)\" d=\"M 0 0 M1332.32 447.045 Q1335.67 447.762 1337.55 450.031 Q1339.45 452.299 1339.45 455.633 Q1339.45 460.749 1335.93 463.549 Q1332.41 466.35 1325.93 466.35 Q1323.75 466.35 1321.44 465.911 Q1319.14 465.494 1316.69 464.637 L1316.69 460.124 Q1318.64 461.258 1320.95 461.836 Q1323.26 462.415 1325.79 462.415 Q1330.19 462.415 1332.48 460.679 Q1334.79 458.943 1334.79 455.633 Q1334.79 452.577 1332.64 450.864 Q1330.51 449.128 1326.69 449.128 L1322.66 449.128 L1322.66 445.286 L1326.88 445.286 Q1330.32 445.286 1332.15 443.92 Q1333.98 442.531 1333.98 439.938 Q1333.98 437.276 1332.08 435.864 Q1330.21 434.429 1326.69 434.429 Q1324.77 434.429 1322.57 434.846 Q1320.37 435.263 1317.73 436.142 L1317.73 431.976 Q1320.39 431.235 1322.71 430.864 Q1325.05 430.494 1327.11 430.494 Q1332.43 430.494 1335.53 432.925 Q1338.64 435.332 1338.64 439.452 Q1338.64 442.323 1336.99 444.313 Q1335.35 446.281 1332.32 447.045 Z\" fill=\"#000000\" fill-rule=\"evenodd\" fill-opacity=\"1\" /><path clip-path=\"url(#clip690)\" d=\"M 0 0 M1354.51 434.198 Q1350.9 434.198 1349.07 437.763 Q1347.27 441.304 1347.27 448.434 Q1347.27 455.54 1349.07 459.105 Q1350.9 462.647 1354.51 462.647 Q1358.15 462.647 1359.95 459.105 Q1361.78 455.54 1361.78 448.434 Q1361.78 441.304 1359.95 437.763 Q1358.15 434.198 1354.51 434.198 M1354.51 430.494 Q1360.32 430.494 1363.38 435.101 Q1366.46 439.684 1366.46 448.434 Q1366.46 457.161 1363.38 461.767 Q1360.32 466.35 1354.51 466.35 Q1348.7 466.35 1345.63 461.767 Q1342.57 457.161 1342.57 448.434 Q1342.57 439.684 1345.63 435.101 Q1348.7 430.494 1354.51 430.494 Z\" fill=\"#000000\" fill-rule=\"evenodd\" fill-opacity=\"1\" /><path clip-path=\"url(#clip690)\" d=\"M 0 0 M1329.86 110.266 L1318.06 128.715 L1329.86 128.715 L1329.86 110.266 M1328.64 106.192 L1334.51 106.192 L1334.51 128.715 L1339.45 128.715 L1339.45 132.604 L1334.51 132.604 L1334.51 140.752 L1329.86 140.752 L1329.86 132.604 L1314.26 132.604 L1314.26 128.09 L1328.64 106.192 Z\" fill=\"#000000\" fill-rule=\"evenodd\" fill-opacity=\"1\" /><path clip-path=\"url(#clip690)\" d=\"M 0 0 M1354.51 109.271 Q1350.9 109.271 1349.07 112.836 Q1347.27 116.377 1347.27 123.507 Q1347.27 130.613 1349.07 134.178 Q1350.9 137.72 1354.51 137.72 Q1358.15 137.72 1359.95 134.178 Q1361.78 130.613 1361.78 123.507 Q1361.78 116.377 1359.95 112.836 Q1358.15 109.271 1354.51 109.271 M1354.51 105.567 Q1360.32 105.567 1363.38 110.174 Q1366.46 114.757 1366.46 123.507 Q1366.46 132.234 1363.38 136.84 Q1360.32 141.423 1354.51 141.423 Q1348.7 141.423 1345.63 136.84 Q1342.57 132.234 1342.57 123.507 Q1342.57 114.757 1345.63 110.174 Q1348.7 105.567 1354.51 105.567 Z\" fill=\"#000000\" fill-rule=\"evenodd\" fill-opacity=\"1\" /><path clip-path=\"url(#clip690)\" d=\"M 0 0 M1240.48 867.316 L1240.48 857.735 L1272.82 845.609 L1240.48 833.418 L1240.48 823.838 L1288 823.838 L1288 830.108 L1246.28 830.108 L1278.87 842.362 L1278.87 848.823 L1246.28 861.077 L1288 861.077 L1288 867.316 L1240.48 867.316 Z\" fill=\"#000000\" fill-rule=\"evenodd\" fill-opacity=\"1\" /><path clip-path=\"url(#clip690)\" d=\"M 0 0 M1268.72 787.203 L1271.58 787.203 L1271.58 814.13 Q1277.63 813.748 1280.81 810.502 Q1283.96 807.223 1283.96 801.399 Q1283.96 798.025 1283.13 794.874 Q1282.31 791.691 1280.65 788.572 L1286.19 788.572 Q1287.53 791.723 1288.23 795.033 Q1288.93 798.343 1288.93 801.749 Q1288.93 810.279 1283.96 815.276 Q1279 820.241 1270.53 820.241 Q1261.78 820.241 1256.65 815.531 Q1251.5 810.788 1251.5 802.767 Q1251.5 795.574 1256.14 791.405 Q1260.76 787.203 1268.72 787.203 M1267 793.06 Q1262.19 793.123 1259.33 795.765 Q1256.46 798.375 1256.46 802.704 Q1256.46 807.605 1259.23 810.565 Q1262 813.494 1267.03 813.939 L1267 793.06 Z\" fill=\"#000000\" fill-rule=\"evenodd\" fill-opacity=\"1\" /><path clip-path=\"url(#clip690)\" d=\"M 0 0 M1266.49 751.428 L1288 751.428 L1288 757.284 L1266.68 757.284 Q1261.62 757.284 1259.1 759.258 Q1256.59 761.231 1256.59 765.178 Q1256.59 769.92 1259.61 772.658 Q1262.64 775.395 1267.86 775.395 L1288 775.395 L1288 781.283 L1252.36 781.283 L1252.36 775.395 L1257.89 775.395 Q1254.68 773.294 1253.09 770.461 Q1251.5 767.597 1251.5 763.873 Q1251.5 757.73 1255.32 754.579 Q1259.1 751.428 1266.49 751.428 Z\" fill=\"#000000\" fill-rule=\"evenodd\" fill-opacity=\"1\" /><path clip-path=\"url(#clip690)\" d=\"M 0 0 M1269.77 721.827 Q1263.4 721.827 1259.9 724.469 Q1256.4 727.079 1256.4 731.822 Q1256.4 736.532 1259.9 739.174 Q1263.4 741.784 1269.77 741.784 Q1276.1 741.784 1279.6 739.174 Q1283.1 736.532 1283.1 731.822 Q1283.1 727.079 1279.6 724.469 Q1276.1 721.827 1269.77 721.827 M1283.58 715.971 Q1292.68 715.971 1297.11 720.013 Q1301.56 724.055 1301.56 732.394 Q1301.56 735.482 1301.09 738.219 Q1300.64 740.956 1299.69 743.534 L1293.99 743.534 Q1295.39 740.956 1296.06 738.442 Q1296.73 735.927 1296.73 733.318 Q1296.73 727.557 1293.7 724.692 Q1290.71 721.827 1284.63 721.827 L1281.73 721.827 Q1284.88 723.642 1286.44 726.474 Q1288 729.307 1288 733.254 Q1288 739.811 1283.01 743.821 Q1278.01 747.831 1269.77 747.831 Q1261.49 747.831 1256.49 743.821 Q1251.5 739.811 1251.5 733.254 Q1251.5 729.307 1253.06 726.474 Q1254.62 723.642 1257.77 721.827 L1252.36 721.827 L1252.36 715.971 L1283.58 715.971 Z\" fill=\"#000000\" fill-rule=\"evenodd\" fill-opacity=\"1\" /><path clip-path=\"url(#clip690)\" d=\"M 0 0 M1268.72 679.336 L1271.58 679.336 L1271.58 706.263 Q1277.63 705.881 1280.81 702.635 Q1283.96 699.356 1283.96 693.532 Q1283.96 690.158 1283.13 687.007 Q1282.31 683.824 1280.65 680.705 L1286.19 680.705 Q1287.53 683.856 1288.23 687.166 Q1288.93 690.476 1288.93 693.882 Q1288.93 702.412 1283.96 707.409 Q1279 712.374 1270.53 712.374 Q1261.78 712.374 1256.65 707.664 Q1251.5 702.921 1251.5 694.9 Q1251.5 687.707 1256.14 683.538 Q1260.76 679.336 1268.72 679.336 M1267 685.193 Q1262.19 685.256 1259.33 687.898 Q1256.46 690.508 1256.46 694.837 Q1256.46 699.738 1259.23 702.698 Q1262 705.627 1267.03 706.072 L1267 685.193 Z\" fill=\"#000000\" fill-rule=\"evenodd\" fill-opacity=\"1\" /><path clip-path=\"url(#clip690)\" d=\"M 0 0 M1602.15 18.8205 L1602.15 41.5461 L1612.44 41.5461 Q1618.15 41.5461 1621.27 38.5889 Q1624.39 35.6318 1624.39 30.163 Q1624.39 24.7348 1621.27 21.7777 Q1618.15 18.8205 1612.44 18.8205 L1602.15 18.8205 M1593.96 12.096 L1612.44 12.096 Q1622.6 12.096 1627.79 16.714 Q1633.01 21.2916 1633.01 30.163 Q1633.01 39.1155 1627.79 43.6931 Q1622.6 48.2706 1612.44 48.2706 L1602.15 48.2706 L1602.15 72.576 L1593.96 72.576 L1593.96 12.096 Z\" fill=\"#000000\" fill-rule=\"evenodd\" fill-opacity=\"1\" /><path clip-path=\"url(#clip690)\" d=\"M 0 0 M1665.66 34.1734 Q1664.41 33.4443 1662.91 33.1202 Q1661.45 32.7556 1659.67 32.7556 Q1653.35 32.7556 1649.95 36.8875 Q1646.58 40.9789 1646.58 48.6757 L1646.58 72.576 L1639.09 72.576 L1639.09 27.2059 L1646.58 27.2059 L1646.58 34.2544 Q1648.93 30.1225 1652.7 28.1376 Q1656.47 26.1121 1661.86 26.1121 Q1662.63 26.1121 1663.56 26.2337 Q1664.49 26.3147 1665.62 26.5172 L1665.66 34.1734 Z\" fill=\"#000000\" fill-rule=\"evenodd\" fill-opacity=\"1\" /><path clip-path=\"url(#clip690)\" d=\"M 0 0 M1689.24 32.4315 Q1683.25 32.4315 1679.76 37.1306 Q1676.28 41.7891 1676.28 49.9314 Q1676.28 58.0738 1679.72 62.7728 Q1683.2 67.4314 1689.24 67.4314 Q1695.2 67.4314 1698.68 62.7323 Q1702.16 58.0333 1702.16 49.9314 Q1702.16 41.8701 1698.68 37.1711 Q1695.2 32.4315 1689.24 32.4315 M1689.24 26.1121 Q1698.96 26.1121 1704.51 32.4315 Q1710.06 38.7509 1710.06 49.9314 Q1710.06 61.0714 1704.51 67.4314 Q1698.96 73.7508 1689.24 73.7508 Q1679.48 73.7508 1673.93 67.4314 Q1668.42 61.0714 1668.42 49.9314 Q1668.42 38.7509 1673.93 32.4315 Q1679.48 26.1121 1689.24 26.1121 Z\" fill=\"#000000\" fill-rule=\"evenodd\" fill-opacity=\"1\" /><path clip-path=\"url(#clip690)\" d=\"M 0 0 M1747.74 34.0924 L1747.74 9.54393 L1755.19 9.54393 L1755.19 72.576 L1747.74 72.576 L1747.74 65.7705 Q1745.39 69.8214 1741.78 71.8063 Q1738.22 73.7508 1733.19 73.7508 Q1724.97 73.7508 1719.78 67.1883 Q1714.64 60.6258 1714.64 49.9314 Q1714.64 39.2371 1719.78 32.6746 Q1724.97 26.1121 1733.19 26.1121 Q1738.22 26.1121 1741.78 28.0971 Q1745.39 30.0415 1747.74 34.0924 M1722.34 49.9314 Q1722.34 58.1548 1725.7 62.8538 Q1729.1 67.5124 1735.02 67.5124 Q1740.93 67.5124 1744.33 62.8538 Q1747.74 58.1548 1747.74 49.9314 Q1747.74 41.7081 1744.33 37.0496 Q1740.93 32.3505 1735.02 32.3505 Q1729.1 32.3505 1725.7 37.0496 Q1722.34 41.7081 1722.34 49.9314 Z\" fill=\"#000000\" fill-rule=\"evenodd\" fill-opacity=\"1\" /><path clip-path=\"url(#clip690)\" d=\"M 0 0 M1762.24 54.671 L1762.24 27.2059 L1769.69 27.2059 L1769.69 54.3874 Q1769.69 60.8284 1772.2 64.0691 Q1774.71 67.2693 1779.74 67.2693 Q1785.77 67.2693 1789.26 63.421 Q1792.78 59.5726 1792.78 52.9291 L1792.78 27.2059 L1800.24 27.2059 L1800.24 72.576 L1792.78 72.576 L1792.78 65.6084 Q1790.07 69.7404 1786.46 71.7658 Q1782.9 73.7508 1778.16 73.7508 Q1770.34 73.7508 1766.29 68.8897 Q1762.24 64.0286 1762.24 54.671 M1780.99 26.1121 L1780.99 26.1121 Z\" fill=\"#000000\" fill-rule=\"evenodd\" fill-opacity=\"1\" /><path clip-path=\"url(#clip690)\" d=\"M 0 0 M1807.77 9.54393 L1815.26 9.54393 L1815.26 46.7717 L1837.5 27.2059 L1847.02 27.2059 L1822.96 48.4326 L1848.04 72.576 L1838.31 72.576 L1815.26 50.4176 L1815.26 72.576 L1807.77 72.576 L1807.77 9.54393 Z\" fill=\"#000000\" fill-rule=\"evenodd\" fill-opacity=\"1\" /><path clip-path=\"url(#clip690)\" d=\"M 0 0 M1863.23 14.324 L1863.23 27.2059 L1878.58 27.2059 L1878.58 32.9987 L1863.23 32.9987 L1863.23 57.6282 Q1863.23 63.1779 1864.73 64.7578 Q1866.26 66.3376 1870.92 66.3376 L1878.58 66.3376 L1878.58 72.576 L1870.92 72.576 Q1862.3 72.576 1859.01 69.3758 Q1855.73 66.1351 1855.73 57.6282 L1855.73 32.9987 L1850.26 32.9987 L1850.26 27.2059 L1855.73 27.2059 L1855.73 14.324 L1863.23 14.324 Z\" fill=\"#000000\" fill-rule=\"evenodd\" fill-opacity=\"1\" /><path clip-path=\"url(#clip690)\" d=\"M 0 0 M1921.28 18.8205 L1921.28 65.8515 L1931.16 65.8515 Q1943.68 65.8515 1949.47 60.1802 Q1955.3 54.509 1955.3 42.2752 Q1955.3 30.1225 1949.47 24.4918 Q1943.68 18.8205 1931.16 18.8205 L1921.28 18.8205 M1913.09 12.096 L1929.9 12.096 Q1947.49 12.096 1955.71 19.4281 Q1963.93 26.7198 1963.93 42.2752 Q1963.93 57.9117 1955.67 65.2439 Q1947.4 72.576 1929.9 72.576 L1913.09 72.576 L1913.09 12.096 Z\" fill=\"#000000\" fill-rule=\"evenodd\" fill-opacity=\"1\" /><path clip-path=\"url(#clip690)\" d=\"M 0 0 M1970.98 54.671 L1970.98 27.2059 L1978.43 27.2059 L1978.43 54.3874 Q1978.43 60.8284 1980.95 64.0691 Q1983.46 67.2693 1988.48 67.2693 Q1994.52 67.2693 1998 63.421 Q2001.52 59.5726 2001.52 52.9291 L2001.52 27.2059 L2008.98 27.2059 L2008.98 72.576 L2001.52 72.576 L2001.52 65.6084 Q1998.81 69.7404 1995.21 71.7658 Q1991.64 73.7508 1986.9 73.7508 Q1979.08 73.7508 1975.03 68.8897 Q1970.98 64.0286 1970.98 54.671 M1989.74 26.1121 L1989.74 26.1121 Z\" fill=\"#000000\" fill-rule=\"evenodd\" fill-opacity=\"1\" /><path clip-path=\"url(#clip690)\" d=\"M 0 0 M2054.51 45.1919 L2054.51 72.576 L2047.06 72.576 L2047.06 45.4349 Q2047.06 38.994 2044.55 35.7938 Q2042.03 32.5936 2037.01 32.5936 Q2030.97 32.5936 2027.49 36.4419 Q2024.01 40.2903 2024.01 46.9338 L2024.01 72.576 L2016.51 72.576 L2016.51 27.2059 L2024.01 27.2059 L2024.01 34.2544 Q2026.68 30.163 2030.29 28.1376 Q2033.93 26.1121 2038.67 26.1121 Q2046.49 26.1121 2050.5 30.9732 Q2054.51 35.7938 2054.51 45.1919 Z\" fill=\"#000000\" fill-rule=\"evenodd\" fill-opacity=\"1\" /><path clip-path=\"url(#clip690)\" d=\"M 0 0 M2062.05 9.54393 L2069.54 9.54393 L2069.54 46.7717 L2091.78 27.2059 L2101.3 27.2059 L2077.24 48.4326 L2102.31 72.576 L2092.59 72.576 L2069.54 50.4176 L2069.54 72.576 L2062.05 72.576 L2062.05 9.54393 Z\" fill=\"#000000\" fill-rule=\"evenodd\" fill-opacity=\"1\" /><path clip-path=\"url(#clip690)\" d=\"M 0 0 M2145.98 48.0275 L2145.98 51.6733 L2111.71 51.6733 Q2112.2 59.3701 2116.33 63.421 Q2120.5 67.4314 2127.91 67.4314 Q2132.21 67.4314 2136.22 66.3781 Q2140.27 65.3249 2144.24 63.2184 L2144.24 70.267 Q2140.23 71.9684 2136.01 72.8596 Q2131.8 73.7508 2127.47 73.7508 Q2116.61 73.7508 2110.25 67.4314 Q2103.93 61.1119 2103.93 50.3365 Q2103.93 39.1965 2109.93 32.6746 Q2115.96 26.1121 2126.17 26.1121 Q2135.33 26.1121 2140.63 32.0264 Q2145.98 37.9003 2145.98 48.0275 M2138.53 45.84 Q2138.45 39.7232 2135.08 36.0774 Q2131.76 32.4315 2126.25 32.4315 Q2120.01 32.4315 2116.25 35.9558 Q2112.52 39.4801 2111.95 45.8805 L2138.53 45.84 Z\" fill=\"#000000\" fill-rule=\"evenodd\" fill-opacity=\"1\" /><path clip-path=\"url(#clip690)\" d=\"M 0 0 M2153.8 9.54393 L2161.25 9.54393 L2161.25 72.576 L2153.8 72.576 L2153.8 9.54393 Z\" fill=\"#000000\" fill-rule=\"evenodd\" fill-opacity=\"1\" /><path clip-path=\"url(#clip693)\" d=\"\n",
       "M1452.05 773.326 L1452.05 1423.18 L1499.33 1423.18 L1499.33 773.326 L1452.05 773.326 L1452.05 773.326  Z\n",
       "  \" fill=\"#00688b\" fill-rule=\"evenodd\" fill-opacity=\"1\"/>\n",
       "<polyline clip-path=\"url(#clip693)\" style=\"stroke:#000000; stroke-width:4; stroke-opacity:1; fill:none\" points=\"\n",
       "  1452.05,773.326 1452.05,1423.18 1499.33,1423.18 1499.33,773.326 1452.05,773.326 \n",
       "  \"/>\n",
       "<path clip-path=\"url(#clip693)\" d=\"\n",
       "M1629.37 773.326 L1629.37 1423.18 L1676.65 1423.18 L1676.65 773.326 L1629.37 773.326 L1629.37 773.326  Z\n",
       "  \" fill=\"#00688b\" fill-rule=\"evenodd\" fill-opacity=\"1\"/>\n",
       "<polyline clip-path=\"url(#clip693)\" style=\"stroke:#000000; stroke-width:4; stroke-opacity:1; fill:none\" points=\"\n",
       "  1629.37,773.326 1629.37,1423.18 1676.65,1423.18 1676.65,773.326 1629.37,773.326 \n",
       "  \"/>\n",
       "<path clip-path=\"url(#clip693)\" d=\"\n",
       "M1806.68 578.37 L1806.68 1423.18 L1853.97 1423.18 L1853.97 578.37 L1806.68 578.37 L1806.68 578.37  Z\n",
       "  \" fill=\"#00688b\" fill-rule=\"evenodd\" fill-opacity=\"1\"/>\n",
       "<polyline clip-path=\"url(#clip693)\" style=\"stroke:#000000; stroke-width:4; stroke-opacity:1; fill:none\" points=\"\n",
       "  1806.68,578.37 1806.68,1423.18 1853.97,1423.18 1853.97,578.37 1806.68,578.37 \n",
       "  \"/>\n",
       "<path clip-path=\"url(#clip693)\" d=\"\n",
       "M1984 578.37 L1984 1423.18 L2031.28 1423.18 L2031.28 578.37 L1984 578.37 L1984 578.37  Z\n",
       "  \" fill=\"#00688b\" fill-rule=\"evenodd\" fill-opacity=\"1\"/>\n",
       "<polyline clip-path=\"url(#clip693)\" style=\"stroke:#000000; stroke-width:4; stroke-opacity:1; fill:none\" points=\"\n",
       "  1984,578.37 1984,1423.18 2031.28,1423.18 2031.28,578.37 1984,578.37 \n",
       "  \"/>\n",
       "<path clip-path=\"url(#clip693)\" d=\"\n",
       "M2161.31 513.384 L2161.31 1423.18 L2208.6 1423.18 L2208.6 513.384 L2161.31 513.384 L2161.31 513.384  Z\n",
       "  \" fill=\"#00688b\" fill-rule=\"evenodd\" fill-opacity=\"1\"/>\n",
       "<polyline clip-path=\"url(#clip693)\" style=\"stroke:#000000; stroke-width:4; stroke-opacity:1; fill:none\" points=\"\n",
       "  2161.31,513.384 2161.31,1423.18 2208.6,1423.18 2208.6,513.384 2161.31,513.384 \n",
       "  \"/>\n",
       "<path clip-path=\"url(#clip693)\" d=\"\n",
       "M1499.33 773.326 L1499.33 1423.18 L1546.62 1423.18 L1546.62 773.326 L1499.33 773.326 L1499.33 773.326  Z\n",
       "  \" fill=\"#cd0000\" fill-rule=\"evenodd\" fill-opacity=\"1\"/>\n",
       "<polyline clip-path=\"url(#clip693)\" style=\"stroke:#000000; stroke-width:4; stroke-opacity:1; fill:none\" points=\"\n",
       "  1499.33,773.326 1499.33,1423.18 1546.62,1423.18 1546.62,773.326 1499.33,773.326 \n",
       "  \"/>\n",
       "<path clip-path=\"url(#clip693)\" d=\"\n",
       "M1676.65 773.326 L1676.65 1423.18 L1723.93 1423.18 L1723.93 773.326 L1676.65 773.326 L1676.65 773.326  Z\n",
       "  \" fill=\"#cd0000\" fill-rule=\"evenodd\" fill-opacity=\"1\"/>\n",
       "<polyline clip-path=\"url(#clip693)\" style=\"stroke:#000000; stroke-width:4; stroke-opacity:1; fill:none\" points=\"\n",
       "  1676.65,773.326 1676.65,1423.18 1723.93,1423.18 1723.93,773.326 1676.65,773.326 \n",
       "  \"/>\n",
       "<path clip-path=\"url(#clip693)\" d=\"\n",
       "M1853.97 773.326 L1853.97 1423.18 L1901.25 1423.18 L1901.25 773.326 L1853.97 773.326 L1853.97 773.326  Z\n",
       "  \" fill=\"#cd0000\" fill-rule=\"evenodd\" fill-opacity=\"1\"/>\n",
       "<polyline clip-path=\"url(#clip693)\" style=\"stroke:#000000; stroke-width:4; stroke-opacity:1; fill:none\" points=\"\n",
       "  1853.97,773.326 1853.97,1423.18 1901.25,1423.18 1901.25,773.326 1853.97,773.326 \n",
       "  \"/>\n",
       "<path clip-path=\"url(#clip693)\" d=\"\n",
       "M2031.28 773.326 L2031.28 1423.18 L2078.56 1423.18 L2078.56 773.326 L2031.28 773.326 L2031.28 773.326  Z\n",
       "  \" fill=\"#cd0000\" fill-rule=\"evenodd\" fill-opacity=\"1\"/>\n",
       "<polyline clip-path=\"url(#clip693)\" style=\"stroke:#000000; stroke-width:4; stroke-opacity:1; fill:none\" points=\"\n",
       "  2031.28,773.326 2031.28,1423.18 2078.56,1423.18 2078.56,773.326 2031.28,773.326 \n",
       "  \"/>\n",
       "<path clip-path=\"url(#clip693)\" d=\"\n",
       "M2208.6 123.472 L2208.6 1423.18 L2255.88 1423.18 L2255.88 123.472 L2208.6 123.472 L2208.6 123.472  Z\n",
       "  \" fill=\"#cd0000\" fill-rule=\"evenodd\" fill-opacity=\"1\"/>\n",
       "<polyline clip-path=\"url(#clip693)\" style=\"stroke:#000000; stroke-width:4; stroke-opacity:1; fill:none\" points=\"\n",
       "  2208.6,123.472 2208.6,1423.18 2255.88,1423.18 2255.88,123.472 2208.6,123.472 \n",
       "  \"/>\n",
       "<path clip-path=\"url(#clip693)\" d=\"\n",
       "M1546.62 1423.18 L1546.62 1423.18 L1593.9 1423.18 L1593.9 1423.18 L1546.62 1423.18 L1546.62 1423.18  Z\n",
       "  \" fill=\"#ffa500\" fill-rule=\"evenodd\" fill-opacity=\"1\"/>\n",
       "<polyline clip-path=\"url(#clip693)\" style=\"stroke:#000000; stroke-width:4; stroke-opacity:1; fill:none\" points=\"\n",
       "  1546.62,1423.18 1546.62,1423.18 1593.9,1423.18 1546.62,1423.18 \n",
       "  \"/>\n",
       "<path clip-path=\"url(#clip693)\" d=\"\n",
       "M1723.93 1423.18 L1723.93 1423.18 L1771.22 1423.18 L1771.22 1423.18 L1723.93 1423.18 L1723.93 1423.18  Z\n",
       "  \" fill=\"#ffa500\" fill-rule=\"evenodd\" fill-opacity=\"1\"/>\n",
       "<polyline clip-path=\"url(#clip693)\" style=\"stroke:#000000; stroke-width:4; stroke-opacity:1; fill:none\" points=\"\n",
       "  1723.93,1423.18 1723.93,1423.18 1771.22,1423.18 1723.93,1423.18 \n",
       "  \"/>\n",
       "<path clip-path=\"url(#clip693)\" d=\"\n",
       "M1901.25 1228.22 L1901.25 1423.18 L1948.53 1423.18 L1948.53 1228.22 L1901.25 1228.22 L1901.25 1228.22  Z\n",
       "  \" fill=\"#ffa500\" fill-rule=\"evenodd\" fill-opacity=\"1\"/>\n",
       "<polyline clip-path=\"url(#clip693)\" style=\"stroke:#000000; stroke-width:4; stroke-opacity:1; fill:none\" points=\"\n",
       "  1901.25,1228.22 1901.25,1423.18 1948.53,1423.18 1948.53,1228.22 1901.25,1228.22 \n",
       "  \"/>\n",
       "<path clip-path=\"url(#clip693)\" d=\"\n",
       "M2078.56 1033.27 L2078.56 1423.18 L2125.85 1423.18 L2125.85 1033.27 L2078.56 1033.27 L2078.56 1033.27  Z\n",
       "  \" fill=\"#ffa500\" fill-rule=\"evenodd\" fill-opacity=\"1\"/>\n",
       "<polyline clip-path=\"url(#clip693)\" style=\"stroke:#000000; stroke-width:4; stroke-opacity:1; fill:none\" points=\"\n",
       "  2078.56,1033.27 2078.56,1423.18 2125.85,1423.18 2125.85,1033.27 2078.56,1033.27 \n",
       "  \"/>\n",
       "<path clip-path=\"url(#clip693)\" d=\"\n",
       "M2255.88 1423.18 L2255.88 1423.18 L2303.16 1423.18 L2303.16 1423.18 L2255.88 1423.18 L2255.88 1423.18  Z\n",
       "  \" fill=\"#ffa500\" fill-rule=\"evenodd\" fill-opacity=\"1\"/>\n",
       "<polyline clip-path=\"url(#clip693)\" style=\"stroke:#000000; stroke-width:4; stroke-opacity:1; fill:none\" points=\"\n",
       "  2255.88,1423.18 2255.88,1423.18 2303.16,1423.18 2255.88,1423.18 \n",
       "  \"/>\n",
       "<path clip-path=\"url(#clip690)\" d=\"\n",
       "M1434.14 408.716 L1933.15 408.716 L1933.15 166.796 L1434.14 166.796  Z\n",
       "  \" fill=\"#ffffff\" fill-rule=\"evenodd\" fill-opacity=\"1\"/>\n",
       "<polyline clip-path=\"url(#clip690)\" style=\"stroke:#000000; stroke-width:4; stroke-opacity:1; fill:none\" points=\"\n",
       "  1434.14,408.716 1933.15,408.716 1933.15,166.796 1434.14,166.796 1434.14,408.716 \n",
       "  \"/>\n",
       "<path clip-path=\"url(#clip690)\" d=\"\n",
       "M1444.69 251.468 L1508.05 251.468 L1508.05 203.084 L1444.69 203.084 L1444.69 251.468  Z\n",
       "  \" fill=\"#00688b\" fill-rule=\"evenodd\" fill-opacity=\"1\"/>\n",
       "<polyline clip-path=\"url(#clip690)\" style=\"stroke:#000000; stroke-width:4; stroke-opacity:1; fill:none\" points=\"\n",
       "  1444.69,251.468 1508.05,251.468 1508.05,203.084 1444.69,203.084 1444.69,251.468 \n",
       "  \"/>\n",
       "<path clip-path=\"url(#clip690)\" d=\"M 0 0 M1523.28 213.838 L1523.28 226.824 L1529.16 226.824 Q1532.43 226.824 1534.21 225.135 Q1535.99 223.445 1535.99 220.32 Q1535.99 217.218 1534.21 215.528 Q1532.43 213.838 1529.16 213.838 L1523.28 213.838 M1518.61 209.996 L1529.16 209.996 Q1534.97 209.996 1537.93 212.635 Q1540.92 215.25 1540.92 220.32 Q1540.92 225.435 1537.93 228.051 Q1534.97 230.667 1529.16 230.667 L1523.28 230.667 L1523.28 244.556 L1518.61 244.556 L1518.61 209.996 Z\" fill=\"#000000\" fill-rule=\"evenodd\" fill-opacity=\"1\" /><path clip-path=\"url(#clip690)\" d=\"M 0 0 M1559.58 222.611 Q1558.86 222.195 1558 222.01 Q1557.17 221.801 1556.15 221.801 Q1552.54 221.801 1550.6 224.162 Q1548.68 226.5 1548.68 230.898 L1548.68 244.556 L1544.39 244.556 L1544.39 218.63 L1548.68 218.63 L1548.68 222.658 Q1550.02 220.297 1552.17 219.162 Q1554.32 218.005 1557.4 218.005 Q1557.84 218.005 1558.37 218.074 Q1558.91 218.121 1559.56 218.236 L1559.58 222.611 Z\" fill=\"#000000\" fill-rule=\"evenodd\" fill-opacity=\"1\" /><path clip-path=\"url(#clip690)\" d=\"M 0 0 M1573.05 221.616 Q1569.62 221.616 1567.63 224.301 Q1565.64 226.963 1565.64 231.616 Q1565.64 236.269 1567.61 238.954 Q1569.6 241.616 1573.05 241.616 Q1576.45 241.616 1578.44 238.931 Q1580.43 236.246 1580.43 231.616 Q1580.43 227.01 1578.44 224.324 Q1576.45 221.616 1573.05 221.616 M1573.05 218.005 Q1578.61 218.005 1581.78 221.616 Q1584.95 225.227 1584.95 231.616 Q1584.95 237.982 1581.78 241.616 Q1578.61 245.227 1573.05 245.227 Q1567.47 245.227 1564.3 241.616 Q1561.15 237.982 1561.15 231.616 Q1561.15 225.227 1564.3 221.616 Q1567.47 218.005 1573.05 218.005 Z\" fill=\"#000000\" fill-rule=\"evenodd\" fill-opacity=\"1\" /><path clip-path=\"url(#clip690)\" d=\"M 0 0 M1606.48 222.565 L1606.48 208.537 L1610.74 208.537 L1610.74 244.556 L1606.48 244.556 L1606.48 240.667 Q1605.13 242.982 1603.07 244.116 Q1601.04 245.227 1598.17 245.227 Q1593.47 245.227 1590.5 241.477 Q1587.56 237.727 1587.56 231.616 Q1587.56 225.505 1590.5 221.755 Q1593.47 218.005 1598.17 218.005 Q1601.04 218.005 1603.07 219.139 Q1605.13 220.25 1606.48 222.565 M1591.96 231.616 Q1591.96 236.315 1593.88 239 Q1595.83 241.662 1599.21 241.662 Q1602.59 241.662 1604.53 239 Q1606.48 236.315 1606.48 231.616 Q1606.48 226.917 1604.53 224.255 Q1602.59 221.57 1599.21 221.57 Q1595.83 221.57 1593.88 224.255 Q1591.96 226.917 1591.96 231.616 Z\" fill=\"#000000\" fill-rule=\"evenodd\" fill-opacity=\"1\" /><path clip-path=\"url(#clip690)\" d=\"M 0 0 M1614.76 234.324 L1614.76 218.63 L1619.02 218.63 L1619.02 234.162 Q1619.02 237.843 1620.46 239.695 Q1621.89 241.523 1624.76 241.523 Q1628.21 241.523 1630.2 239.324 Q1632.22 237.125 1632.22 233.329 L1632.22 218.63 L1636.48 218.63 L1636.48 244.556 L1632.22 244.556 L1632.22 240.574 Q1630.67 242.935 1628.61 244.093 Q1626.57 245.227 1623.86 245.227 Q1619.39 245.227 1617.08 242.449 Q1614.76 239.671 1614.76 234.324 M1625.48 218.005 L1625.48 218.005 Z\" fill=\"#000000\" fill-rule=\"evenodd\" fill-opacity=\"1\" /><path clip-path=\"url(#clip690)\" d=\"M 0 0 M1640.78 208.537 L1645.06 208.537 L1645.06 229.81 L1657.77 218.63 L1663.21 218.63 L1649.46 230.759 L1663.79 244.556 L1658.24 244.556 L1645.06 231.894 L1645.06 244.556 L1640.78 244.556 L1640.78 208.537 Z\" fill=\"#000000\" fill-rule=\"evenodd\" fill-opacity=\"1\" /><path clip-path=\"url(#clip690)\" d=\"M 0 0 M1672.47 211.269 L1672.47 218.63 L1681.24 218.63 L1681.24 221.94 L1672.47 221.94 L1672.47 236.014 Q1672.47 239.185 1673.33 240.088 Q1674.21 240.991 1676.87 240.991 L1681.24 240.991 L1681.24 244.556 L1676.87 244.556 Q1671.94 244.556 1670.06 242.727 Q1668.19 240.875 1668.19 236.014 L1668.19 221.94 L1665.06 221.94 L1665.06 218.63 L1668.19 218.63 L1668.19 211.269 L1672.47 211.269 Z\" fill=\"#000000\" fill-rule=\"evenodd\" fill-opacity=\"1\" /><path clip-path=\"url(#clip690)\" d=\"M 0 0 M1685.71 218.63 L1689.97 218.63 L1689.97 244.556 L1685.71 244.556 L1685.71 218.63 M1685.71 208.537 L1689.97 208.537 L1689.97 213.931 L1685.71 213.931 L1685.71 208.537 Z\" fill=\"#000000\" fill-rule=\"evenodd\" fill-opacity=\"1\" /><path clip-path=\"url(#clip690)\" d=\"M 0 0 M1704.48 221.616 Q1701.06 221.616 1699.07 224.301 Q1697.08 226.963 1697.08 231.616 Q1697.08 236.269 1699.05 238.954 Q1701.04 241.616 1704.48 241.616 Q1707.89 241.616 1709.88 238.931 Q1711.87 236.246 1711.87 231.616 Q1711.87 227.01 1709.88 224.324 Q1707.89 221.616 1704.48 221.616 M1704.48 218.005 Q1710.04 218.005 1713.21 221.616 Q1716.38 225.227 1716.38 231.616 Q1716.38 237.982 1713.21 241.616 Q1710.04 245.227 1704.48 245.227 Q1698.91 245.227 1695.74 241.616 Q1692.59 237.982 1692.59 231.616 Q1692.59 225.227 1695.74 221.616 Q1698.91 218.005 1704.48 218.005 Z\" fill=\"#000000\" fill-rule=\"evenodd\" fill-opacity=\"1\" /><path clip-path=\"url(#clip690)\" d=\"M 0 0 M1742.4 228.908 L1742.4 244.556 L1738.14 244.556 L1738.14 229.047 Q1738.14 225.366 1736.71 223.537 Q1735.27 221.709 1732.4 221.709 Q1728.95 221.709 1726.96 223.908 Q1724.97 226.107 1724.97 229.903 L1724.97 244.556 L1720.69 244.556 L1720.69 218.63 L1724.97 218.63 L1724.97 222.658 Q1726.5 220.32 1728.56 219.162 Q1730.64 218.005 1733.35 218.005 Q1737.82 218.005 1740.11 220.783 Q1742.4 223.537 1742.4 228.908 Z\" fill=\"#000000\" fill-rule=\"evenodd\" fill-opacity=\"1\" /><path clip-path=\"url(#clip690)\" d=\"M 0 0 M1763.4 219.394 L1763.4 223.422 Q1761.59 222.496 1759.65 222.033 Q1757.7 221.57 1755.62 221.57 Q1752.45 221.57 1750.85 222.542 Q1749.28 223.514 1749.28 225.459 Q1749.28 226.94 1750.41 227.797 Q1751.54 228.63 1754.97 229.394 L1756.43 229.718 Q1760.97 230.69 1762.86 232.472 Q1764.79 234.232 1764.79 237.403 Q1764.79 241.014 1761.92 243.121 Q1759.07 245.227 1754.07 245.227 Q1751.98 245.227 1749.72 244.81 Q1747.47 244.417 1744.97 243.607 L1744.97 239.209 Q1747.33 240.435 1749.62 241.06 Q1751.92 241.662 1754.16 241.662 Q1757.17 241.662 1758.79 240.644 Q1760.41 239.602 1760.41 237.727 Q1760.41 235.991 1759.23 235.065 Q1758.07 234.139 1754.11 233.283 L1752.63 232.935 Q1748.67 232.102 1746.92 230.389 Q1745.16 228.653 1745.16 225.644 Q1745.16 221.986 1747.75 219.996 Q1750.34 218.005 1755.11 218.005 Q1757.47 218.005 1759.55 218.352 Q1761.64 218.699 1763.4 219.394 Z\" fill=\"#000000\" fill-rule=\"evenodd\" fill-opacity=\"1\" /><path clip-path=\"url(#clip690)\" d=\"M 0 0 M1789.44 223.607 Q1791.04 220.736 1793.26 219.371 Q1795.48 218.005 1798.49 218.005 Q1802.54 218.005 1804.74 220.852 Q1806.94 223.676 1806.94 228.908 L1806.94 244.556 L1802.66 244.556 L1802.66 229.047 Q1802.66 225.32 1801.34 223.514 Q1800.02 221.709 1797.31 221.709 Q1794 221.709 1792.08 223.908 Q1790.16 226.107 1790.16 229.903 L1790.16 244.556 L1785.87 244.556 L1785.87 229.047 Q1785.87 225.297 1784.55 223.514 Q1783.23 221.709 1780.48 221.709 Q1777.22 221.709 1775.29 223.931 Q1773.37 226.13 1773.37 229.903 L1773.37 244.556 L1769.09 244.556 L1769.09 218.63 L1773.37 218.63 L1773.37 222.658 Q1774.83 220.273 1776.87 219.139 Q1778.91 218.005 1781.71 218.005 Q1784.53 218.005 1786.5 219.44 Q1788.49 220.875 1789.44 223.607 Z\" fill=\"#000000\" fill-rule=\"evenodd\" fill-opacity=\"1\" /><path clip-path=\"url(#clip690)\" d=\"M 0 0 M1833.58 230.528 L1833.58 232.611 L1814 232.611 Q1814.28 237.009 1816.64 239.324 Q1819.02 241.616 1823.26 241.616 Q1825.71 241.616 1828 241.014 Q1830.32 240.412 1832.59 239.209 L1832.59 243.236 Q1830.29 244.208 1827.89 244.718 Q1825.48 245.227 1823 245.227 Q1816.8 245.227 1813.16 241.616 Q1809.55 238.005 1809.55 231.847 Q1809.55 225.482 1812.98 221.755 Q1816.43 218.005 1822.26 218.005 Q1827.49 218.005 1830.53 221.385 Q1833.58 224.741 1833.58 230.528 M1829.32 229.278 Q1829.28 225.783 1827.35 223.699 Q1825.46 221.616 1822.31 221.616 Q1818.74 221.616 1816.59 223.63 Q1814.46 225.644 1814.14 229.301 L1829.32 229.278 Z\" fill=\"#000000\" fill-rule=\"evenodd\" fill-opacity=\"1\" /><path clip-path=\"url(#clip690)\" d=\"M 0 0 M1859.6 228.908 L1859.6 244.556 L1855.34 244.556 L1855.34 229.047 Q1855.34 225.366 1853.91 223.537 Q1852.47 221.709 1849.6 221.709 Q1846.15 221.709 1844.16 223.908 Q1842.17 226.107 1842.17 229.903 L1842.17 244.556 L1837.89 244.556 L1837.89 218.63 L1842.17 218.63 L1842.17 222.658 Q1843.7 220.32 1845.76 219.162 Q1847.84 218.005 1850.55 218.005 Q1855.02 218.005 1857.31 220.783 Q1859.6 223.537 1859.6 228.908 Z\" fill=\"#000000\" fill-rule=\"evenodd\" fill-opacity=\"1\" /><path clip-path=\"url(#clip690)\" d=\"M 0 0 M1881.13 231.292 Q1881.13 226.662 1879.21 224.116 Q1877.31 221.57 1873.86 221.57 Q1870.43 221.57 1868.51 224.116 Q1866.61 226.662 1866.61 231.292 Q1866.61 235.898 1868.51 238.445 Q1870.43 240.991 1873.86 240.991 Q1877.31 240.991 1879.21 238.445 Q1881.13 235.898 1881.13 231.292 M1885.39 241.338 Q1885.39 247.958 1882.45 251.176 Q1879.51 254.417 1873.44 254.417 Q1871.2 254.417 1869.21 254.07 Q1867.22 253.745 1865.34 253.051 L1865.34 248.908 Q1867.22 249.926 1869.04 250.412 Q1870.87 250.898 1872.77 250.898 Q1876.96 250.898 1879.04 248.699 Q1881.13 246.523 1881.13 242.102 L1881.13 239.996 Q1879.81 242.287 1877.75 243.421 Q1875.69 244.556 1872.82 244.556 Q1868.05 244.556 1865.13 240.921 Q1862.22 237.287 1862.22 231.292 Q1862.22 225.273 1865.13 221.639 Q1868.05 218.005 1872.82 218.005 Q1875.69 218.005 1877.75 219.139 Q1879.81 220.273 1881.13 222.565 L1881.13 218.63 L1885.39 218.63 L1885.39 241.338 Z\" fill=\"#000000\" fill-rule=\"evenodd\" fill-opacity=\"1\" /><path clip-path=\"url(#clip690)\" d=\"M 0 0 M1912.03 230.528 L1912.03 232.611 L1892.45 232.611 Q1892.72 237.009 1895.09 239.324 Q1897.47 241.616 1901.71 241.616 Q1904.16 241.616 1906.45 241.014 Q1908.77 240.412 1911.03 239.209 L1911.03 243.236 Q1908.74 244.208 1906.34 244.718 Q1903.93 245.227 1901.45 245.227 Q1895.25 245.227 1891.61 241.616 Q1888 238.005 1888 231.847 Q1888 225.482 1891.43 221.755 Q1894.88 218.005 1900.71 218.005 Q1905.94 218.005 1908.97 221.385 Q1912.03 224.741 1912.03 230.528 M1907.77 229.278 Q1907.72 225.783 1905.8 223.699 Q1903.91 221.616 1900.76 221.616 Q1897.19 221.616 1895.04 223.63 Q1892.91 225.644 1892.59 229.301 L1907.77 229.278 Z\" fill=\"#000000\" fill-rule=\"evenodd\" fill-opacity=\"1\" /><path clip-path=\"url(#clip690)\" d=\"\n",
       "M1444.69 311.948 L1508.05 311.948 L1508.05 263.564 L1444.69 263.564 L1444.69 311.948  Z\n",
       "  \" fill=\"#cd0000\" fill-rule=\"evenodd\" fill-opacity=\"1\"/>\n",
       "<polyline clip-path=\"url(#clip690)\" style=\"stroke:#000000; stroke-width:4; stroke-opacity:1; fill:none\" points=\"\n",
       "  1444.69,311.948 1508.05,311.948 1508.05,263.564 1444.69,263.564 1444.69,311.948 \n",
       "  \"/>\n",
       "<path clip-path=\"url(#clip690)\" d=\"M 0 0 M1534.44 275.082 L1528.1 292.281 L1540.81 292.281 L1534.44 275.082 M1531.8 270.476 L1537.1 270.476 L1550.27 305.036 L1545.41 305.036 L1542.26 296.17 L1526.69 296.17 L1523.54 305.036 L1518.61 305.036 L1531.8 270.476 Z\" fill=\"#000000\" fill-rule=\"evenodd\" fill-opacity=\"1\" /><path clip-path=\"url(#clip690)\" d=\"M 0 0 M1573.35 292.096 Q1573.35 287.397 1571.41 284.735 Q1569.49 282.05 1566.11 282.05 Q1562.73 282.05 1560.78 284.735 Q1558.86 287.397 1558.86 292.096 Q1558.86 296.795 1560.78 299.48 Q1562.73 302.142 1566.11 302.142 Q1569.49 302.142 1571.41 299.48 Q1573.35 296.795 1573.35 292.096 M1558.86 283.045 Q1560.2 280.73 1562.24 279.619 Q1564.3 278.485 1567.15 278.485 Q1571.87 278.485 1574.81 282.235 Q1577.77 285.985 1577.77 292.096 Q1577.77 298.207 1574.81 301.957 Q1571.87 305.707 1567.15 305.707 Q1564.3 305.707 1562.24 304.596 Q1560.2 303.462 1558.86 301.147 L1558.86 305.036 L1554.58 305.036 L1554.58 269.017 L1558.86 269.017 L1558.86 283.045 Z\" fill=\"#000000\" fill-rule=\"evenodd\" fill-opacity=\"1\" /><path clip-path=\"url(#clip690)\" d=\"M 0 0 M1598.77 279.874 L1598.77 283.902 Q1596.96 282.976 1595.02 282.513 Q1593.07 282.05 1590.99 282.05 Q1587.82 282.05 1586.22 283.022 Q1584.65 283.994 1584.65 285.939 Q1584.65 287.42 1585.78 288.277 Q1586.92 289.11 1590.34 289.874 L1591.8 290.198 Q1596.34 291.17 1598.24 292.952 Q1600.16 294.712 1600.16 297.883 Q1600.16 301.494 1597.29 303.601 Q1594.44 305.707 1589.44 305.707 Q1587.36 305.707 1585.09 305.29 Q1582.84 304.897 1580.34 304.087 L1580.34 299.689 Q1582.7 300.915 1584.99 301.54 Q1587.29 302.142 1589.53 302.142 Q1592.54 302.142 1594.16 301.124 Q1595.78 300.082 1595.78 298.207 Q1595.78 296.471 1594.6 295.545 Q1593.44 294.619 1589.49 293.763 L1588 293.415 Q1584.05 292.582 1582.29 290.869 Q1580.53 289.133 1580.53 286.124 Q1580.53 282.466 1583.12 280.476 Q1585.71 278.485 1590.48 278.485 Q1592.84 278.485 1594.93 278.832 Q1597.01 279.179 1598.77 279.874 Z\" fill=\"#000000\" fill-rule=\"evenodd\" fill-opacity=\"1\" /><path clip-path=\"url(#clip690)\" d=\"M 0 0 M1616.41 292.003 Q1611.24 292.003 1609.25 293.184 Q1607.26 294.364 1607.26 297.212 Q1607.26 299.48 1608.74 300.823 Q1610.25 302.142 1612.82 302.142 Q1616.36 302.142 1618.49 299.642 Q1620.64 297.119 1620.64 292.952 L1620.64 292.003 L1616.41 292.003 M1624.9 290.244 L1624.9 305.036 L1620.64 305.036 L1620.64 301.101 Q1619.18 303.462 1617.01 304.596 Q1614.83 305.707 1611.68 305.707 Q1607.7 305.707 1605.34 303.485 Q1603 301.239 1603 297.489 Q1603 293.114 1605.92 290.892 Q1608.86 288.67 1614.67 288.67 L1620.64 288.67 L1620.64 288.253 Q1620.64 285.314 1618.7 283.716 Q1616.78 282.096 1613.28 282.096 Q1611.06 282.096 1608.95 282.628 Q1606.85 283.161 1604.9 284.226 L1604.9 280.29 Q1607.24 279.388 1609.44 278.948 Q1611.64 278.485 1613.72 278.485 Q1619.35 278.485 1622.12 281.402 Q1624.9 284.318 1624.9 290.244 Z\" fill=\"#000000\" fill-rule=\"evenodd\" fill-opacity=\"1\" /><path clip-path=\"url(#clip690)\" d=\"M 0 0 M1633.58 271.749 L1633.58 279.11 L1642.36 279.11 L1642.36 282.42 L1633.58 282.42 L1633.58 296.494 Q1633.58 299.665 1634.44 300.568 Q1635.32 301.471 1637.98 301.471 L1642.36 301.471 L1642.36 305.036 L1637.98 305.036 Q1633.05 305.036 1631.18 303.207 Q1629.3 301.355 1629.3 296.494 L1629.3 282.42 L1626.18 282.42 L1626.18 279.11 L1629.3 279.11 L1629.3 271.749 L1633.58 271.749 Z\" fill=\"#000000\" fill-rule=\"evenodd\" fill-opacity=\"1\" /><path clip-path=\"url(#clip690)\" d=\"M 0 0 M1644.97 279.11 L1665.2 279.11 L1665.2 282.999 L1649.18 301.633 L1665.2 301.633 L1665.2 305.036 L1644.39 305.036 L1644.39 301.147 L1660.41 282.513 L1644.97 282.513 L1644.97 279.11 Z\" fill=\"#000000\" fill-rule=\"evenodd\" fill-opacity=\"1\" /><path clip-path=\"url(#clip690)\" d=\"M 0 0 M1689.86 284.087 Q1691.45 281.216 1693.67 279.851 Q1695.9 278.485 1698.91 278.485 Q1702.96 278.485 1705.16 281.332 Q1707.36 284.156 1707.36 289.388 L1707.36 305.036 L1703.07 305.036 L1703.07 289.527 Q1703.07 285.8 1701.75 283.994 Q1700.43 282.189 1697.73 282.189 Q1694.42 282.189 1692.49 284.388 Q1690.57 286.587 1690.57 290.383 L1690.57 305.036 L1686.29 305.036 L1686.29 289.527 Q1686.29 285.777 1684.97 283.994 Q1683.65 282.189 1680.9 282.189 Q1677.63 282.189 1675.71 284.411 Q1673.79 286.61 1673.79 290.383 L1673.79 305.036 L1669.51 305.036 L1669.51 279.11 L1673.79 279.11 L1673.79 283.138 Q1675.25 280.753 1677.29 279.619 Q1679.32 278.485 1682.12 278.485 Q1684.95 278.485 1686.92 279.92 Q1688.91 281.355 1689.86 284.087 Z\" fill=\"#000000\" fill-rule=\"evenodd\" fill-opacity=\"1\" /><path clip-path=\"url(#clip690)\" d=\"M 0 0 M1734 291.008 L1734 293.091 L1714.42 293.091 Q1714.69 297.489 1717.05 299.804 Q1719.44 302.096 1723.67 302.096 Q1726.13 302.096 1728.42 301.494 Q1730.73 300.892 1733 299.689 L1733 303.716 Q1730.71 304.688 1728.3 305.198 Q1725.9 305.707 1723.42 305.707 Q1717.22 305.707 1713.58 302.096 Q1709.97 298.485 1709.97 292.327 Q1709.97 285.962 1713.4 282.235 Q1716.85 278.485 1722.68 278.485 Q1727.91 278.485 1730.94 281.865 Q1734 285.221 1734 291.008 M1729.74 289.758 Q1729.69 286.263 1727.77 284.179 Q1725.87 282.096 1722.73 282.096 Q1719.16 282.096 1717.01 284.11 Q1714.88 286.124 1714.55 289.781 L1729.74 289.758 Z\" fill=\"#000000\" fill-rule=\"evenodd\" fill-opacity=\"1\" /><path clip-path=\"url(#clip690)\" d=\"M 0 0 M1760.02 289.388 L1760.02 305.036 L1755.76 305.036 L1755.76 289.527 Q1755.76 285.846 1754.32 284.017 Q1752.89 282.189 1750.02 282.189 Q1746.57 282.189 1744.58 284.388 Q1742.59 286.587 1742.59 290.383 L1742.59 305.036 L1738.3 305.036 L1738.3 279.11 L1742.59 279.11 L1742.59 283.138 Q1744.11 280.8 1746.17 279.642 Q1748.26 278.485 1750.97 278.485 Q1755.43 278.485 1757.73 281.263 Q1760.02 284.017 1760.02 289.388 Z\" fill=\"#000000\" fill-rule=\"evenodd\" fill-opacity=\"1\" /><path clip-path=\"url(#clip690)\" d=\"M 0 0 M1781.54 291.772 Q1781.54 287.142 1779.62 284.596 Q1777.73 282.05 1774.28 282.05 Q1770.85 282.05 1768.93 284.596 Q1767.03 287.142 1767.03 291.772 Q1767.03 296.378 1768.93 298.925 Q1770.85 301.471 1774.28 301.471 Q1777.73 301.471 1779.62 298.925 Q1781.54 296.378 1781.54 291.772 M1785.8 301.818 Q1785.8 308.438 1782.86 311.656 Q1779.92 314.897 1773.86 314.897 Q1771.61 314.897 1769.62 314.55 Q1767.63 314.225 1765.76 313.531 L1765.76 309.388 Q1767.63 310.406 1769.46 310.892 Q1771.29 311.378 1773.19 311.378 Q1777.38 311.378 1779.46 309.179 Q1781.54 307.003 1781.54 302.582 L1781.54 300.476 Q1780.23 302.767 1778.17 303.901 Q1776.1 305.036 1773.23 305.036 Q1768.47 305.036 1765.55 301.401 Q1762.63 297.767 1762.63 291.772 Q1762.63 285.753 1765.55 282.119 Q1768.47 278.485 1773.23 278.485 Q1776.1 278.485 1778.17 279.619 Q1780.23 280.753 1781.54 283.045 L1781.54 279.11 L1785.8 279.11 L1785.8 301.818 Z\" fill=\"#000000\" fill-rule=\"evenodd\" fill-opacity=\"1\" /><path clip-path=\"url(#clip690)\" d=\"M 0 0 M1812.45 291.008 L1812.45 293.091 L1792.86 293.091 Q1793.14 297.489 1795.5 299.804 Q1797.89 302.096 1802.12 302.096 Q1804.58 302.096 1806.87 301.494 Q1809.18 300.892 1811.45 299.689 L1811.45 303.716 Q1809.16 304.688 1806.75 305.198 Q1804.35 305.707 1801.87 305.707 Q1795.67 305.707 1792.03 302.096 Q1788.42 298.485 1788.42 292.327 Q1788.42 285.962 1791.85 282.235 Q1795.29 278.485 1801.13 278.485 Q1806.36 278.485 1809.39 281.865 Q1812.45 285.221 1812.45 291.008 M1808.19 289.758 Q1808.14 286.263 1806.22 284.179 Q1804.32 282.096 1801.17 282.096 Q1797.61 282.096 1795.46 284.11 Q1793.33 286.124 1793 289.781 L1808.19 289.758 Z\" fill=\"#000000\" fill-rule=\"evenodd\" fill-opacity=\"1\" /><path clip-path=\"url(#clip690)\" d=\"\n",
       "M1444.69 372.428 L1508.05 372.428 L1508.05 324.044 L1444.69 324.044 L1444.69 372.428  Z\n",
       "  \" fill=\"#ffa500\" fill-rule=\"evenodd\" fill-opacity=\"1\"/>\n",
       "<polyline clip-path=\"url(#clip690)\" style=\"stroke:#000000; stroke-width:4; stroke-opacity:1; fill:none\" points=\"\n",
       "  1444.69,372.428 1508.05,372.428 1508.05,324.044 1444.69,324.044 1444.69,372.428 \n",
       "  \"/>\n",
       "<path clip-path=\"url(#clip690)\" d=\"M 0 0 M1518.61 330.956 L1523.28 330.956 L1523.28 361.581 L1540.11 361.581 L1540.11 365.516 L1518.61 365.516 L1518.61 330.956 Z\" fill=\"#000000\" fill-rule=\"evenodd\" fill-opacity=\"1\" /><path clip-path=\"url(#clip690)\" d=\"M 0 0 M1556.36 352.483 Q1551.2 352.483 1549.21 353.664 Q1547.22 354.844 1547.22 357.692 Q1547.22 359.96 1548.7 361.303 Q1550.2 362.622 1552.77 362.622 Q1556.31 362.622 1558.44 360.122 Q1560.6 357.599 1560.6 353.432 L1560.6 352.483 L1556.36 352.483 M1564.86 350.724 L1564.86 365.516 L1560.6 365.516 L1560.6 361.581 Q1559.14 363.942 1556.96 365.076 Q1554.79 366.187 1551.64 366.187 Q1547.66 366.187 1545.3 363.965 Q1542.96 361.719 1542.96 357.969 Q1542.96 353.594 1545.87 351.372 Q1548.81 349.15 1554.62 349.15 L1560.6 349.15 L1560.6 348.733 Q1560.6 345.794 1558.65 344.196 Q1556.73 342.576 1553.24 342.576 Q1551.01 342.576 1548.91 343.108 Q1546.8 343.641 1544.86 344.706 L1544.86 340.77 Q1547.19 339.868 1549.39 339.428 Q1551.59 338.965 1553.68 338.965 Q1559.3 338.965 1562.08 341.882 Q1564.86 344.798 1564.86 350.724 Z\" fill=\"#000000\" fill-rule=\"evenodd\" fill-opacity=\"1\" /><path clip-path=\"url(#clip690)\" d=\"M 0 0 M1586.38 352.252 Q1586.38 347.622 1584.46 345.076 Q1582.56 342.53 1579.12 342.53 Q1575.69 342.53 1573.77 345.076 Q1571.87 347.622 1571.87 352.252 Q1571.87 356.858 1573.77 359.405 Q1575.69 361.951 1579.12 361.951 Q1582.56 361.951 1584.46 359.405 Q1586.38 356.858 1586.38 352.252 M1590.64 362.298 Q1590.64 368.918 1587.7 372.136 Q1584.76 375.377 1578.7 375.377 Q1576.45 375.377 1574.46 375.03 Q1572.47 374.705 1570.6 374.011 L1570.6 369.868 Q1572.47 370.886 1574.3 371.372 Q1576.13 371.858 1578.03 371.858 Q1582.22 371.858 1584.3 369.659 Q1586.38 367.483 1586.38 363.062 L1586.38 360.956 Q1585.06 363.247 1583 364.381 Q1580.94 365.516 1578.07 365.516 Q1573.31 365.516 1570.39 361.881 Q1567.47 358.247 1567.47 352.252 Q1567.47 346.233 1570.39 342.599 Q1573.31 338.965 1578.07 338.965 Q1580.94 338.965 1583 340.099 Q1585.06 341.233 1586.38 343.525 L1586.38 339.59 L1590.64 339.59 L1590.64 362.298 Z\" fill=\"#000000\" fill-rule=\"evenodd\" fill-opacity=\"1\" /><path clip-path=\"url(#clip690)\" d=\"M 0 0 M1617.29 351.488 L1617.29 353.571 L1597.7 353.571 Q1597.98 357.969 1600.34 360.284 Q1602.73 362.576 1606.96 362.576 Q1609.42 362.576 1611.71 361.974 Q1614.02 361.372 1616.29 360.169 L1616.29 364.196 Q1614 365.168 1611.59 365.678 Q1609.18 366.187 1606.71 366.187 Q1600.5 366.187 1596.87 362.576 Q1593.26 358.965 1593.26 352.807 Q1593.26 346.442 1596.68 342.715 Q1600.13 338.965 1605.97 338.965 Q1611.2 338.965 1614.23 342.345 Q1617.29 345.701 1617.29 351.488 M1613.03 350.238 Q1612.98 346.743 1611.06 344.659 Q1609.16 342.576 1606.01 342.576 Q1602.45 342.576 1600.3 344.59 Q1598.17 346.604 1597.84 350.261 L1613.03 350.238 Z\" fill=\"#000000\" fill-rule=\"evenodd\" fill-opacity=\"1\" /><path clip-path=\"url(#clip690)\" d=\"M 0 0 M1636.78 343.571 Q1636.06 343.155 1635.2 342.97 Q1634.37 342.761 1633.35 342.761 Q1629.74 342.761 1627.8 345.122 Q1625.87 347.46 1625.87 351.858 L1625.87 365.516 L1621.59 365.516 L1621.59 339.59 L1625.87 339.59 L1625.87 343.618 Q1627.22 341.257 1629.37 340.122 Q1631.52 338.965 1634.6 338.965 Q1635.04 338.965 1635.57 339.034 Q1636.11 339.081 1636.75 339.196 L1636.78 343.571 Z\" fill=\"#000000\" fill-rule=\"evenodd\" fill-opacity=\"1\" /><path clip-path=\"url(#clip690)\" d=\"M 0 0 M1659.86 352.576 Q1659.86 347.877 1657.91 345.215 Q1655.99 342.53 1652.61 342.53 Q1649.23 342.53 1647.29 345.215 Q1645.36 347.877 1645.36 352.576 Q1645.36 357.275 1647.29 359.96 Q1649.23 362.622 1652.61 362.622 Q1655.99 362.622 1657.91 359.96 Q1659.86 357.275 1659.86 352.576 M1645.36 343.525 Q1646.71 341.21 1648.74 340.099 Q1650.8 338.965 1653.65 338.965 Q1658.37 338.965 1661.31 342.715 Q1664.28 346.465 1664.28 352.576 Q1664.28 358.687 1661.31 362.437 Q1658.37 366.187 1653.65 366.187 Q1650.8 366.187 1648.74 365.076 Q1646.71 363.942 1645.36 361.627 L1645.36 365.516 L1641.08 365.516 L1641.08 329.497 L1645.36 329.497 L1645.36 343.525 Z\" fill=\"#000000\" fill-rule=\"evenodd\" fill-opacity=\"1\" /><path clip-path=\"url(#clip690)\" d=\"M 0 0 M1690.92 351.488 L1690.92 353.571 L1671.34 353.571 Q1671.61 357.969 1673.98 360.284 Q1676.36 362.576 1680.6 362.576 Q1683.05 362.576 1685.34 361.974 Q1687.66 361.372 1689.92 360.169 L1689.92 364.196 Q1687.63 365.168 1685.23 365.678 Q1682.82 366.187 1680.34 366.187 Q1674.14 366.187 1670.5 362.576 Q1666.89 358.965 1666.89 352.807 Q1666.89 346.442 1670.32 342.715 Q1673.77 338.965 1679.6 338.965 Q1684.83 338.965 1687.86 342.345 Q1690.92 345.701 1690.92 351.488 M1686.66 350.238 Q1686.61 346.743 1684.69 344.659 Q1682.8 342.576 1679.65 342.576 Q1676.08 342.576 1673.93 344.59 Q1671.8 346.604 1671.48 350.261 L1686.66 350.238 Z\" fill=\"#000000\" fill-rule=\"evenodd\" fill-opacity=\"1\" /><path clip-path=\"url(#clip690)\" d=\"M 0 0 M1711.92 340.354 L1711.92 344.382 Q1710.11 343.456 1708.17 342.993 Q1706.22 342.53 1704.14 342.53 Q1700.97 342.53 1699.37 343.502 Q1697.8 344.474 1697.8 346.419 Q1697.8 347.9 1698.93 348.757 Q1700.06 349.59 1703.49 350.354 L1704.95 350.678 Q1709.48 351.65 1711.38 353.432 Q1713.3 355.192 1713.3 358.363 Q1713.3 361.974 1710.43 364.081 Q1707.59 366.187 1702.59 366.187 Q1700.5 366.187 1698.24 365.77 Q1695.99 365.377 1693.49 364.567 L1693.49 360.169 Q1695.85 361.395 1698.14 362.02 Q1700.43 362.622 1702.68 362.622 Q1705.69 362.622 1707.31 361.604 Q1708.93 360.562 1708.93 358.687 Q1708.93 356.951 1707.75 356.025 Q1706.59 355.099 1702.63 354.243 L1701.15 353.895 Q1697.19 353.062 1695.43 351.349 Q1693.67 349.613 1693.67 346.604 Q1693.67 342.946 1696.27 340.956 Q1698.86 338.965 1703.63 338.965 Q1705.99 338.965 1708.07 339.312 Q1710.16 339.659 1711.92 340.354 Z\" fill=\"#000000\" fill-rule=\"evenodd\" fill-opacity=\"1\" /><path clip-path=\"url(#clip690)\" d=\"M 0 0 M1721.98 332.229 L1721.98 339.59 L1730.76 339.59 L1730.76 342.9 L1721.98 342.9 L1721.98 356.974 Q1721.98 360.145 1722.84 361.048 Q1723.72 361.951 1726.38 361.951 L1730.76 361.951 L1730.76 365.516 L1726.38 365.516 Q1721.45 365.516 1719.58 363.687 Q1717.7 361.835 1717.7 356.974 L1717.7 342.9 L1714.58 342.9 L1714.58 339.59 L1717.7 339.59 L1717.7 332.229 L1721.98 332.229 Z\" fill=\"#000000\" fill-rule=\"evenodd\" fill-opacity=\"1\" /><path clip-path=\"url(#clip690)\" d=\"M 0 0 M1747.01 352.483 Q1741.85 352.483 1739.86 353.664 Q1737.86 354.844 1737.86 357.692 Q1737.86 359.96 1739.35 361.303 Q1740.85 362.622 1743.42 362.622 Q1746.96 362.622 1749.09 360.122 Q1751.24 357.599 1751.24 353.432 L1751.24 352.483 L1747.01 352.483 M1755.5 350.724 L1755.5 365.516 L1751.24 365.516 L1751.24 361.581 Q1749.79 363.942 1747.61 365.076 Q1745.43 366.187 1742.29 366.187 Q1738.3 366.187 1735.94 363.965 Q1733.61 361.719 1733.61 357.969 Q1733.61 353.594 1736.52 351.372 Q1739.46 349.15 1745.27 349.15 L1751.24 349.15 L1751.24 348.733 Q1751.24 345.794 1749.3 344.196 Q1747.38 342.576 1743.88 342.576 Q1741.66 342.576 1739.55 343.108 Q1737.45 343.641 1735.5 344.706 L1735.5 340.77 Q1737.84 339.868 1740.04 339.428 Q1742.24 338.965 1744.32 338.965 Q1749.95 338.965 1752.73 341.882 Q1755.5 344.798 1755.5 350.724 Z\" fill=\"#000000\" fill-rule=\"evenodd\" fill-opacity=\"1\" /><path clip-path=\"url(#clip690)\" d=\"M 0 0 M1781.52 349.868 L1781.52 365.516 L1777.26 365.516 L1777.26 350.007 Q1777.26 346.326 1775.83 344.497 Q1774.39 342.669 1771.52 342.669 Q1768.07 342.669 1766.08 344.868 Q1764.09 347.067 1764.09 350.863 L1764.09 365.516 L1759.81 365.516 L1759.81 339.59 L1764.09 339.59 L1764.09 343.618 Q1765.62 341.28 1767.68 340.122 Q1769.76 338.965 1772.47 338.965 Q1776.94 338.965 1779.23 341.743 Q1781.52 344.497 1781.52 349.868 Z\" fill=\"#000000\" fill-rule=\"evenodd\" fill-opacity=\"1\" /><path clip-path=\"url(#clip690)\" d=\"M 0 0 M1803.05 343.525 L1803.05 329.497 L1807.31 329.497 L1807.31 365.516 L1803.05 365.516 L1803.05 361.627 Q1801.71 363.942 1799.65 365.076 Q1797.61 366.187 1794.74 366.187 Q1790.04 366.187 1787.08 362.437 Q1784.14 358.687 1784.14 352.576 Q1784.14 346.465 1787.08 342.715 Q1790.04 338.965 1794.74 338.965 Q1797.61 338.965 1799.65 340.099 Q1801.71 341.21 1803.05 343.525 M1788.54 352.576 Q1788.54 357.275 1790.46 359.96 Q1792.4 362.622 1795.78 362.622 Q1799.16 362.622 1801.1 359.96 Q1803.05 357.275 1803.05 352.576 Q1803.05 347.877 1801.1 345.215 Q1799.16 342.53 1795.78 342.53 Q1792.4 342.53 1790.46 345.215 Q1788.54 347.877 1788.54 352.576 Z\" fill=\"#000000\" fill-rule=\"evenodd\" fill-opacity=\"1\" /></svg>\n"
      ]
     },
     "execution_count": 73,
     "metadata": {},
     "output_type": "execute_result"
    }
   ],
   "source": [
    "l = @layout [a{0.9w, 0.1h} b]\n",
    "p1 = groupedbar(bardataHell,colour = [:DeepSkyBlue4 :Red3 :orange], title = \"Produkt Hell\", \n",
    "                xlabel = \"Periode\", ylabel=\"Menge\", legend=:none, ylim=(0,40));\n",
    "\n",
    "p2 = groupedbar(bardataDunkel, label=[\"Produktionsmenge\" \"Absatzmenge\" \"Lagerbestand\"], \n",
    "                colour = [:DeepSkyBlue4 :Red3 :orange], title = \"Produkt Dunkel\", \n",
    "                xlabel = \"Periode\", ylabel=\"Menge\", legend=:topleft, ylim=(0,40));\n",
    "\n",
    "plot(p1, p2, layout = 2)"
   ]
  }
 ],
 "metadata": {
  "kernelspec": {
   "display_name": "JuliaPro_v1.5.3-1 1.5.3",
   "language": "julia",
   "name": "juliapro_v1.5.3-1-1.5"
  },
  "language_info": {
   "file_extension": ".jl",
   "mimetype": "application/julia",
   "name": "julia",
   "version": "1.5.3"
  }
 },
 "nbformat": 4,
 "nbformat_minor": 2
}
