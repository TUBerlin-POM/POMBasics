{
 "cells": [
  {
   "cell_type": "markdown",
   "metadata": {
    "slideshow": {
     "slide_type": "slide"
    }
   },
   "source": [
    "## Einrichtung von Julia JuMP\n",
    "---\n",
    "Überprüfen Sie die bereits installierten Pakete. In der JuliaBox sind möglicherweise alle notwendigen Pakete bereits vorhanden."
   ]
  },
  {
   "cell_type": "code",
   "execution_count": 1,
   "metadata": {
    "slideshow": {
     "slide_type": "fragment"
    }
   },
   "outputs": [
    {
     "name": "stdout",
     "output_type": "stream",
     "text": [
      "\u001b[32m\u001b[1m    Status\u001b[22m\u001b[39m `C:\\Users\\Lucie\\.julia\\environments\\v1.2\\Project.toml`\n",
      " \u001b[90m [60bf3e95]\u001b[39m\u001b[37m GLPK v0.12.0\u001b[39m\n",
      " \u001b[90m [7073ff75]\u001b[39m\u001b[37m IJulia v1.20.0\u001b[39m\n",
      " \u001b[90m [4076af6c]\u001b[39m\u001b[37m JuMP v0.20.0\u001b[39m\n",
      " \u001b[90m [f3b207a7]\u001b[39m\u001b[37m StatsPlots v0.12.0\u001b[39m\n"
     ]
    }
   ],
   "source": [
    "using Pkg;\n",
    "Pkg.status()"
   ]
  },
  {
   "cell_type": "markdown",
   "metadata": {
    "slideshow": {
     "slide_type": "slide"
    }
   },
   "source": [
    "Installieren Sie ``JuMP`` , mit dem Sie einfach Optimierungsprogramme formulieren können. Sowie ``GLPK`` einen open-source Solver zum Lösen der Problem und ``StatsPlots`` zur Visualisierung der Lösung."
   ]
  },
  {
   "cell_type": "code",
   "execution_count": 2,
   "metadata": {
    "slideshow": {
     "slide_type": "fragment"
    }
   },
   "outputs": [],
   "source": [
    "#Pkg.add(\"JuMP\")\n",
    "#Pkg.add(\"GLPK\");\n",
    "#Pkg.add(\"StatsPlots\");"
   ]
  },
  {
   "cell_type": "markdown",
   "metadata": {
    "slideshow": {
     "slide_type": "fragment"
    }
   },
   "source": [
    "Richten Sie die installierten Pakete so ein, dass sie im folgenden Code verwendet werden können."
   ]
  },
  {
   "cell_type": "code",
   "execution_count": 3,
   "metadata": {
    "slideshow": {
     "slide_type": "fragment"
    }
   },
   "outputs": [],
   "source": [
    "using JuMP, GLPK, StatsPlots;"
   ]
  },
  {
   "cell_type": "markdown",
   "metadata": {
    "slideshow": {
     "slide_type": "slide"
    }
   },
   "source": [
    "# Capacitated Lot Sizing Problem\n",
    "\n",
    "### Entscheidungsvariablen:\n",
    "Bestimmung der **Produktionsmengen** und **Lagerbestände** je Periode sowie der daraus folgenden **Rüstvorgänge**,\n",
    "\n",
    "### Zielfunktion:\n",
    "0) **Gesamtkostenminimierung:** $$ \\qquad \\min z = \\displaystyle\\sum_{i=1}^I \\displaystyle\\sum_{t=1}^T(k_i^s\\cdot \\gamma_{it}+k_i^l\\cdot L_{it})$$ "
   ]
  },
  {
   "cell_type": "markdown",
   "metadata": {
    "slideshow": {
     "slide_type": "slide"
    }
   },
   "source": [
    "### Nebenbedingungen:\n",
    "1) **Kapazitaetsrestriktion:**  $ \\hspace{40mm} \\displaystyle\\sum_{i=1}^I(t_i^p\\cdot X_{it}+t_i^s\\cdot\\gamma_{it} ) \\leq c_t \\hspace{40mm} \\forall t \\in T\\qquad $ \n",
    "\n",
    "2) **Lagerbilanzgleichung:**  $ \\hspace{41mm} L_{it} = L_{i,t-1}+X_{it}-d_{it} \\hspace{44mm} \\forall t \\in T, \\quad i \\in I$\n",
    "\n",
    "3) **Anfangslagerbestand:** $ \\hspace{41mm} L_{i,0} = l_{start} \\hspace{66mm} \\forall  i \\in I$\n",
    "\n",
    "4) **Rüstbedingung:**:  $ \\hspace{50mm} X_{it} \\leq M \\cdot \\gamma_{it} \\hspace{63mm} \\forall t \\in T, \\quad i \\in I $\n",
    "\n",
    "5) **Nichtnegativitaetsbedingungen:**  $ \\hspace{23mm} X_{it}, L_{it} \\geq 0  \\hspace{66mm} \\forall t \\in T, \\quad i \\in I $\n",
    "\n",
    "6) **Binaerbedingung:** \n",
    " $ \\hspace{48mm}  \\gamma_{it} \\in \\{0,1\\}  \\hspace{67mm} \\forall t \\in T, \\quad i \\in I $\n",
    "* * *"
   ]
  },
  {
   "cell_type": "markdown",
   "metadata": {
    "slideshow": {
     "slide_type": "slide"
    }
   },
   "source": [
    "## Verwendete Symbole"
   ]
  },
  {
   "cell_type": "markdown",
   "metadata": {
    "slideshow": {
     "slide_type": "fragment"
    }
   },
   "source": [
    "### Mengen\n",
    "\n",
    "$i \\in (1,..,I) \\hspace{20mm}$ Produkte\n",
    " \n",
    "$t \\in (1,..,T) \\hspace{20mm}$ Perioden \n"
   ]
  },
  {
   "cell_type": "markdown",
   "metadata": {
    "slideshow": {
     "slide_type": "fragment"
    }
   },
   "source": [
    "### Parameter\n",
    "\n",
    "$k_i^l \\hspace{38mm}$ Lagerkostensatz\n",
    "\n",
    "$k_i^s \\hspace{38mm}$  Ruestkostensatz  \n",
    "\n",
    "$t_i^p \\hspace{39mm}$  Produktionszeit \n",
    "\n",
    "$t_i^s \\hspace{39mm}$  Rüstzeit \n",
    "\n",
    "$M \\hspace{37mm}$  Große Zahl   \n",
    "\n",
    "$c_t \\hspace{38mm}$  Periodenkapazität \n",
    "\n",
    "$b_{it}\\hspace{37mm}$ Bedarf \n",
    "\n",
    "$l_{start} \\hspace{34mm}$  Anfangslagerbestand \n"
   ]
  },
  {
   "cell_type": "markdown",
   "metadata": {
    "slideshow": {
     "slide_type": "fragment"
    }
   },
   "source": [
    "### Variablen\n",
    "\n",
    "$X_{it}$  $\\geq0 \\hspace{28mm}$       Produktionsmenge   \n",
    "\n",
    "$L_{it}$  $\\geq0 \\hspace{28mm}$      Lagermenge         \n",
    "\n",
    "$\\gamma_{it}$  $\\in\\{0,1\\} \\hspace{21mm}$ binäre Rüstvariable        \n",
    "\n",
    "* * *"
   ]
  },
  {
   "cell_type": "markdown",
   "metadata": {
    "slideshow": {
     "slide_type": "slide"
    }
   },
   "source": [
    "## Erstellen Sie das Modell namens ``m`` und geben Sie als zu verwendenden Solver GLPK an.\n",
    "---"
   ]
  },
  {
   "cell_type": "code",
   "execution_count": 4,
   "metadata": {
    "slideshow": {
     "slide_type": "fragment"
    }
   },
   "outputs": [],
   "source": [
    "m = Model(with_optimizer(GLPK.Optimizer));"
   ]
  },
  {
   "cell_type": "markdown",
   "metadata": {
    "slideshow": {
     "slide_type": "fragment"
    }
   },
   "source": [
    "### Mengen und Parameter"
   ]
  },
  {
   "cell_type": "markdown",
   "metadata": {
    "slideshow": {
     "slide_type": "fragment"
    }
   },
   "source": [
    "Fügen Sie die Mengen ein.\n"
   ]
  },
  {
   "cell_type": "code",
   "execution_count": 5,
   "metadata": {
    "slideshow": {
     "slide_type": "fragment"
    }
   },
   "outputs": [],
   "source": [
    "#Mengen\n",
    "Produkte = [\"i1\", \"i2\", \"i3\"];\n",
    "Perioden = [\"t1\", \"t2\", \"t3\", \"t4\"];\n",
    "#Längen\n",
    "I = length(Produkte);\n",
    "T = length(Perioden);\n"
   ]
  },
  {
   "cell_type": "markdown",
   "metadata": {
    "slideshow": {
     "slide_type": "slide"
    }
   },
   "source": [
    "Fügen Sie die Parameter ein."
   ]
  },
  {
   "cell_type": "code",
   "execution_count": 6,
   "metadata": {
    "slideshow": {
     "slide_type": "fragment"
    }
   },
   "outputs": [],
   "source": [
    "kl = [2, 3, 4];                 #Lagerkostensatz der Produkte\n",
    "\n",
    "ks = [60, 100, 90];             #Rüstkostensatz der Produkte\n",
    "\n",
    "ts = [5, 12, 20];               #Rüstzeiten der Produkte\n",
    "\n",
    "tp = [1, 2, 1];                 #Stückbearbeitungszeiten der Produkte\n",
    "\n",
    "c =  [350, 350, 350, 350]; #Periodenkapazität\n",
    "\n",
    "M = 1000;                       #Große Zahl\n",
    "\n",
    "l_start = [0, 0, 0];            #Anfangslagerbestand\n",
    "\n",
    "      #t1, t2, t3, t4\n",
    "b = [  50  10  10  140          #Produkt 1\n",
    "        0  40  80   30          #Produkt 2\n",
    "       90  80  10   50];        #Produkt 3\n",
    "\n",
    "                                #Bedarf"
   ]
  },
  {
   "cell_type": "markdown",
   "metadata": {
    "slideshow": {
     "slide_type": "slide"
    }
   },
   "source": [
    "### Entscheidungsvariablen\n",
    "---\n",
    "Definieren Sie die Entscheidungsvariablen. Achten Sie auf die Definitionsbereiche (Nebenbedingungen 5 und 6)"
   ]
  },
  {
   "cell_type": "markdown",
   "metadata": {
    "slideshow": {
     "slide_type": "fragment"
    }
   },
   "source": [
    "5) **Nichtnegativitätsbedingungen**: Produktionsmengen und Lagerbestände dürfen nicht negativ werden.\n",
    "\n",
    " $ \\qquad X_{it}, L_{it} \\geq 0  \\qquad\\qquad\\qquad\\qquad\\qquad\\qquad \\forall t \\in T, \\quad i \\in I $"
   ]
  },
  {
   "cell_type": "code",
   "execution_count": 7,
   "metadata": {
    "slideshow": {
     "slide_type": "fragment"
    }
   },
   "outputs": [],
   "source": [
    "@variable(m,X[1:I,1:T] >= 0,Int);  #Produktionsmenge von Produkt i in Periode t"
   ]
  },
  {
   "cell_type": "code",
   "execution_count": 8,
   "metadata": {
    "slideshow": {
     "slide_type": "fragment"
    }
   },
   "outputs": [],
   "source": [
    "@variable(m,L[1:I,0:T] >= 0,Int);  #Lagerbestand von Produkt i am Periodenende von t"
   ]
  },
  {
   "cell_type": "markdown",
   "metadata": {
    "slideshow": {
     "slide_type": "fragment"
    }
   },
   "source": [
    "6) **Binaerbedingung**: Rüstvorgänge werden immer ganz ($\\delta_{it} = 1$) oder gar nicht ($\\delta_{it} = 0$) ausgeführt. Die binäre Rüstvariable nimmt also entweder den Wert 1 oder 0 an.\n",
    "\n",
    " $ \\qquad  \\gamma_{it} \\in \\{0,1\\}  \\qquad\\qquad\\qquad\\qquad\\qquad\\qquad \\forall t \\in T, \\quad i \\in I $"
   ]
  },
  {
   "cell_type": "code",
   "execution_count": 9,
   "metadata": {
    "slideshow": {
     "slide_type": "fragment"
    }
   },
   "outputs": [],
   "source": [
    "@variable(m,gamma[1:I,1:T],Bin); #Die binäre Rüstvariable von Produkt i in Periode t"
   ]
  },
  {
   "cell_type": "markdown",
   "metadata": {
    "slideshow": {
     "slide_type": "slide"
    }
   },
   "source": [
    "## Zielfunktion\n",
    "\n",
    "0) **Gesamtkostenminimierung:** Die Gesamtkosten sollen minimiert werden. Sie bestehen aus der Summe von Rüstkosten und Lagerkosten aller Produkte über alle Perioden. Die Rüstkosten berechnen sich hierbei durch Multipizieren der Anzahl der Rüstvorgänge (Summe aler binären Rüstvariablen) mit dem Rüstkostensatz, die Lagerkosten durch Multiplizieren der eingelagerten Menge mit dem Lagerkostensatz.\n",
    "\n",
    "$ \\qquad \\min z = \\displaystyle\\sum_{i=1}^I \\displaystyle\\sum_{t=1}^T(k_i^s\\cdot \\gamma_{it}+k_i^l\\cdot L_{it})$ \n"
   ]
  },
  {
   "cell_type": "code",
   "execution_count": 10,
   "metadata": {
    "slideshow": {
     "slide_type": "fragment"
    }
   },
   "outputs": [],
   "source": [
    "@objective(m, Min,  sum( ks[i] * gamma[i,t] +  kl[i] * L[i,t]  for i=1:I for t=1:T) );"
   ]
  },
  {
   "cell_type": "markdown",
   "metadata": {
    "slideshow": {
     "slide_type": "slide"
    }
   },
   "source": [
    "## Nebenbedingungen"
   ]
  },
  {
   "cell_type": "markdown",
   "metadata": {
    "slideshow": {
     "slide_type": "fragment"
    }
   },
   "source": [
    "1) **Kapazitaetsrestriktion:** Die Summe aus Produktions- und Rüstzeit aller Produkte darf in jeder Periode die vorhandene Kapazität der Ressource j nicht überschreiten.\n",
    "\n",
    " $$ \\qquad \\displaystyle\\sum_{i=1}^I(t_i^p\\cdot X_{it}+t_i^s\\cdot\\gamma_{it} ) \\leq c_t \\hspace{40mm} \\forall t \\in T\\qquad $$ \n",
    " \n"
   ]
  },
  {
   "cell_type": "code",
   "execution_count": 11,
   "metadata": {
    "slideshow": {
     "slide_type": "fragment"
    }
   },
   "outputs": [],
   "source": [
    "@constraint(m, KapRes[t=1:T], sum((ts[i] * gamma[i,t] + tp[i] * X[i,t]) for i=1:I) <= c[t] );"
   ]
  },
  {
   "cell_type": "markdown",
   "metadata": {
    "slideshow": {
     "slide_type": "fragment"
    }
   },
   "source": [
    "2) **Lagerbilanzgleichung**: Der Lagerbestand am Ende einer Periode berechnet sich aus der Summe der Produktionsmenge und des Lagerbestandes der Vorperiode abzüglich der Absatzmenge (Nachfrage).\n",
    "\n",
    " $$ \\qquad L_{it} = L_{i,t-1}+X_{it}-b_{it} \\hspace{40mm} \\forall t \\in T, \\quad i \\in I$$"
   ]
  },
  {
   "cell_type": "code",
   "execution_count": 12,
   "metadata": {
    "slideshow": {
     "slide_type": "fragment"
    }
   },
   "outputs": [],
   "source": [
    "@constraint(m, Lager[i=1:I,t=1:T], L[i,t] == L[i,t-1] + X[i,t]  - b[i,t]);"
   ]
  },
  {
   "cell_type": "markdown",
   "metadata": {
    "slideshow": {
     "slide_type": "slide"
    }
   },
   "source": [
    " 3) **Anfangslagerbestand**: Der Anfangslagerbestand aller Produkte entspricht dem initial gesetzen $l_i$.\n",
    " \n",
    "  $$ \\qquad L_{i,0} = l_{start} \\hspace{40mm} \\forall  i \\in I$$\n"
   ]
  },
  {
   "cell_type": "code",
   "execution_count": 13,
   "metadata": {
    "slideshow": {
     "slide_type": "fragment"
    }
   },
   "outputs": [],
   "source": [
    "@constraint(m, AnfLager[i=1:I], L[i,0] == l_start[i]);"
   ]
  },
  {
   "cell_type": "markdown",
   "metadata": {
    "slideshow": {
     "slide_type": "fragment"
    }
   },
   "source": [
    "4) **Rüstbedingung**: Wenn für ein Produkt in einer Periode nicht gerüstet wird, ist die produzierte Menge dieses Produkts in dieser Periode 0. Wenn für ein Produkt in einer Periode gerüstet wird, wird die produzierte Menge durch die Rüstbedingung nicht eingeschränkt.\n",
    "\n",
    " $$ \\qquad X_{it} \\leq M \\cdot \\gamma_{it} \\hspace{40mm} \\forall t \\in T, \\quad i \\in I $$"
   ]
  },
  {
   "cell_type": "code",
   "execution_count": 14,
   "metadata": {
    "slideshow": {
     "slide_type": "fragment"
    }
   },
   "outputs": [],
   "source": [
    "@constraint(m, Ruestbed[i=1:I,t=1:T], X[i,t] <= M * gamma[i,t]);"
   ]
  },
  {
   "cell_type": "markdown",
   "metadata": {
    "slideshow": {
     "slide_type": "slide"
    }
   },
   "source": [
    "## Lösen Sie das Modell.\n",
    "---"
   ]
  },
  {
   "cell_type": "code",
   "execution_count": 15,
   "metadata": {
    "slideshow": {
     "slide_type": "fragment"
    }
   },
   "outputs": [],
   "source": [
    "optimize!(m)"
   ]
  },
  {
   "cell_type": "markdown",
   "metadata": {
    "slideshow": {
     "slide_type": "fragment"
    }
   },
   "source": [
    "Lassen Sie sich den Zielfunktionswert Z anzeigen."
   ]
  },
  {
   "cell_type": "code",
   "execution_count": 16,
   "metadata": {
    "slideshow": {
     "slide_type": "fragment"
    }
   },
   "outputs": [
    {
     "name": "stdout",
     "output_type": "stream",
     "text": [
      "Objective value Z: 780.0\n"
     ]
    }
   ],
   "source": [
    "println(\"Objective value Z: \", JuMP.objective_value(m))"
   ]
  },
  {
   "cell_type": "markdown",
   "metadata": {
    "slideshow": {
     "slide_type": "slide"
    }
   },
   "source": [
    "Lassen Sie sich die Produktionsmengen, die Lagermengen und die Rüstvariable anzeigen."
   ]
  },
  {
   "cell_type": "code",
   "execution_count": 17,
   "metadata": {
    "slideshow": {
     "slide_type": "fragment"
    }
   },
   "outputs": [
    {
     "data": {
      "text/plain": [
       "3×4 Array{Float64,2}:\n",
       " 70.0   0.0    0.0  140.0\n",
       "  0.0  40.0  110.0    0.0\n",
       " 90.0  90.0    0.0   50.0"
      ]
     },
     "execution_count": 17,
     "metadata": {},
     "output_type": "execute_result"
    }
   ],
   "source": [
    "JuMP.value.(X)"
   ]
  },
  {
   "cell_type": "code",
   "execution_count": 18,
   "metadata": {
    "slideshow": {
     "slide_type": "slide"
    }
   },
   "outputs": [
    {
     "data": {
      "text/plain": [
       "2-dimensional DenseAxisArray{Float64,2,...} with index sets:\n",
       "    Dimension 1, 1:3\n",
       "    Dimension 2, 0:4\n",
       "And data, a 3×5 Array{Float64,2}:\n",
       " 0.0  20.0  10.0   0.0  0.0\n",
       " 0.0   0.0   0.0  30.0  0.0\n",
       " 0.0   0.0  10.0   0.0  0.0"
      ]
     },
     "execution_count": 18,
     "metadata": {},
     "output_type": "execute_result"
    }
   ],
   "source": [
    "JuMP.value.(L)"
   ]
  },
  {
   "cell_type": "code",
   "execution_count": 19,
   "metadata": {
    "slideshow": {
     "slide_type": "fragment"
    }
   },
   "outputs": [
    {
     "data": {
      "text/plain": [
       "3×4 Array{Float64,2}:\n",
       " 1.0  0.0  0.0  1.0\n",
       " 0.0  1.0  1.0  0.0\n",
       " 1.0  1.0  0.0  1.0"
      ]
     },
     "execution_count": 19,
     "metadata": {},
     "output_type": "execute_result"
    }
   ],
   "source": [
    "JuMP.value.(gamma)"
   ]
  },
  {
   "cell_type": "markdown",
   "metadata": {
    "slideshow": {
     "slide_type": "slide"
    }
   },
   "source": [
    "Stellen Sie Produktionsmenge, Nachfrage und Lagerbestand grafisch dar."
   ]
  },
  {
   "cell_type": "code",
   "execution_count": 20,
   "metadata": {
    "slideshow": {
     "slide_type": "fragment"
    }
   },
   "outputs": [],
   "source": [
    "bardata = zeros((4,3,I))\n",
    "for i in 1:I\n",
    "    bardata[:,:,i] = \n",
    "    [JuMP.value(X[i,1]) b[i,1] JuMP.value(L[i,1])\n",
    "     JuMP.value(X[i,2]) b[i,2] JuMP.value(L[i,2])\n",
    "     JuMP.value(X[i,3]) b[i,3] JuMP.value(L[i,3])\n",
    "     JuMP.value(X[i,4]) b[i,4] JuMP.value(L[i,4])]\n",
    "end"
   ]
  },
  {
   "cell_type": "code",
   "execution_count": 28,
   "metadata": {
    "slideshow": {
     "slide_type": "fragment"
    }
   },
   "outputs": [
    {
     "data": {
      "image/svg+xml": [
       "<?xml version=\"1.0\" encoding=\"utf-8\"?>\n",
       "<svg xmlns=\"http://www.w3.org/2000/svg\" xmlns:xlink=\"http://www.w3.org/1999/xlink\" width=\"600\" height=\"400\" viewBox=\"0 0 2400 1600\">\n",
       "<defs>\n",
       "  <clipPath id=\"clip0800\">\n",
       "    <rect x=\"0\" y=\"0\" width=\"2400\" height=\"1600\"/>\n",
       "  </clipPath>\n",
       "</defs>\n",
       "<polygon clip-path=\"url(#clip0800)\" points=\"\n",
       "0,1600 2400,1600 2400,0 0,0 \n",
       "  \" fill=\"#ffffff\" fill-rule=\"evenodd\" fill-opacity=\"1\"/>\n",
       "<defs>\n",
       "  <clipPath id=\"clip0801\">\n",
       "    <rect x=\"480\" y=\"0\" width=\"1681\" height=\"1600\"/>\n",
       "  </clipPath>\n",
       "</defs>\n",
       "<polygon clip-path=\"url(#clip0800)\" points=\"\n",
       "229.135,625.619 1152.76,625.619 1152.76,121.675 229.135,121.675 \n",
       "  \" fill=\"#ffffff\" fill-rule=\"evenodd\" fill-opacity=\"1\"/>\n",
       "<defs>\n",
       "  <clipPath id=\"clip0802\">\n",
       "    <rect x=\"229\" y=\"121\" width=\"925\" height=\"505\"/>\n",
       "  </clipPath>\n",
       "</defs>\n",
       "<polyline clip-path=\"url(#clip0802)\" style=\"stroke:#000000; stroke-width:2; stroke-opacity:0.1; fill:none\" points=\"\n",
       "  363.866,625.619 363.866,121.675 \n",
       "  \"/>\n",
       "<polyline clip-path=\"url(#clip0802)\" style=\"stroke:#000000; stroke-width:2; stroke-opacity:0.1; fill:none\" points=\"\n",
       "  581.919,625.619 581.919,121.675 \n",
       "  \"/>\n",
       "<polyline clip-path=\"url(#clip0802)\" style=\"stroke:#000000; stroke-width:2; stroke-opacity:0.1; fill:none\" points=\"\n",
       "  799.972,625.619 799.972,121.675 \n",
       "  \"/>\n",
       "<polyline clip-path=\"url(#clip0802)\" style=\"stroke:#000000; stroke-width:2; stroke-opacity:0.1; fill:none\" points=\"\n",
       "  1018.03,625.619 1018.03,121.675 \n",
       "  \"/>\n",
       "<polyline clip-path=\"url(#clip0802)\" style=\"stroke:#000000; stroke-width:2; stroke-opacity:0.1; fill:none\" points=\"\n",
       "  229.135,625.619 1152.76,625.619 \n",
       "  \"/>\n",
       "<polyline clip-path=\"url(#clip0802)\" style=\"stroke:#000000; stroke-width:2; stroke-opacity:0.1; fill:none\" points=\"\n",
       "  229.135,524.83 1152.76,524.83 \n",
       "  \"/>\n",
       "<polyline clip-path=\"url(#clip0802)\" style=\"stroke:#000000; stroke-width:2; stroke-opacity:0.1; fill:none\" points=\"\n",
       "  229.135,424.041 1152.76,424.041 \n",
       "  \"/>\n",
       "<polyline clip-path=\"url(#clip0802)\" style=\"stroke:#000000; stroke-width:2; stroke-opacity:0.1; fill:none\" points=\"\n",
       "  229.135,323.253 1152.76,323.253 \n",
       "  \"/>\n",
       "<polyline clip-path=\"url(#clip0802)\" style=\"stroke:#000000; stroke-width:2; stroke-opacity:0.1; fill:none\" points=\"\n",
       "  229.135,222.464 1152.76,222.464 \n",
       "  \"/>\n",
       "<polyline clip-path=\"url(#clip0802)\" style=\"stroke:#000000; stroke-width:2; stroke-opacity:0.1; fill:none\" points=\"\n",
       "  229.135,121.675 1152.76,121.675 \n",
       "  \"/>\n",
       "<polyline clip-path=\"url(#clip0800)\" style=\"stroke:#000000; stroke-width:4; stroke-opacity:1; fill:none\" points=\"\n",
       "  229.135,625.619 1152.76,625.619 \n",
       "  \"/>\n",
       "<polyline clip-path=\"url(#clip0800)\" style=\"stroke:#000000; stroke-width:4; stroke-opacity:1; fill:none\" points=\"\n",
       "  229.135,625.619 229.135,121.675 \n",
       "  \"/>\n",
       "<polyline clip-path=\"url(#clip0800)\" style=\"stroke:#000000; stroke-width:4; stroke-opacity:1; fill:none\" points=\"\n",
       "  363.866,625.619 363.866,618.059 \n",
       "  \"/>\n",
       "<polyline clip-path=\"url(#clip0800)\" style=\"stroke:#000000; stroke-width:4; stroke-opacity:1; fill:none\" points=\"\n",
       "  581.919,625.619 581.919,618.059 \n",
       "  \"/>\n",
       "<polyline clip-path=\"url(#clip0800)\" style=\"stroke:#000000; stroke-width:4; stroke-opacity:1; fill:none\" points=\"\n",
       "  799.972,625.619 799.972,618.059 \n",
       "  \"/>\n",
       "<polyline clip-path=\"url(#clip0800)\" style=\"stroke:#000000; stroke-width:4; stroke-opacity:1; fill:none\" points=\"\n",
       "  1018.03,625.619 1018.03,618.059 \n",
       "  \"/>\n",
       "<polyline clip-path=\"url(#clip0800)\" style=\"stroke:#000000; stroke-width:4; stroke-opacity:1; fill:none\" points=\"\n",
       "  229.135,625.619 242.99,625.619 \n",
       "  \"/>\n",
       "<polyline clip-path=\"url(#clip0800)\" style=\"stroke:#000000; stroke-width:4; stroke-opacity:1; fill:none\" points=\"\n",
       "  229.135,524.83 242.99,524.83 \n",
       "  \"/>\n",
       "<polyline clip-path=\"url(#clip0800)\" style=\"stroke:#000000; stroke-width:4; stroke-opacity:1; fill:none\" points=\"\n",
       "  229.135,424.041 242.99,424.041 \n",
       "  \"/>\n",
       "<polyline clip-path=\"url(#clip0800)\" style=\"stroke:#000000; stroke-width:4; stroke-opacity:1; fill:none\" points=\"\n",
       "  229.135,323.253 242.99,323.253 \n",
       "  \"/>\n",
       "<polyline clip-path=\"url(#clip0800)\" style=\"stroke:#000000; stroke-width:4; stroke-opacity:1; fill:none\" points=\"\n",
       "  229.135,222.464 242.99,222.464 \n",
       "  \"/>\n",
       "<polyline clip-path=\"url(#clip0800)\" style=\"stroke:#000000; stroke-width:4; stroke-opacity:1; fill:none\" points=\"\n",
       "  229.135,121.675 242.99,121.675 \n",
       "  \"/>\n",
       "<g clip-path=\"url(#clip0800)\">\n",
       "<text style=\"fill:#000000; fill-opacity:1; font-family:Arial,Helvetica Neue,Helvetica,sans-serif; font-size:48px; text-anchor:middle;\" transform=\"rotate(0, 363.866, 679.619)\" x=\"363.866\" y=\"679.619\">1</text>\n",
       "</g>\n",
       "<g clip-path=\"url(#clip0800)\">\n",
       "<text style=\"fill:#000000; fill-opacity:1; font-family:Arial,Helvetica Neue,Helvetica,sans-serif; font-size:48px; text-anchor:middle;\" transform=\"rotate(0, 581.919, 679.619)\" x=\"581.919\" y=\"679.619\">2</text>\n",
       "</g>\n",
       "<g clip-path=\"url(#clip0800)\">\n",
       "<text style=\"fill:#000000; fill-opacity:1; font-family:Arial,Helvetica Neue,Helvetica,sans-serif; font-size:48px; text-anchor:middle;\" transform=\"rotate(0, 799.972, 679.619)\" x=\"799.972\" y=\"679.619\">3</text>\n",
       "</g>\n",
       "<g clip-path=\"url(#clip0800)\">\n",
       "<text style=\"fill:#000000; fill-opacity:1; font-family:Arial,Helvetica Neue,Helvetica,sans-serif; font-size:48px; text-anchor:middle;\" transform=\"rotate(0, 1018.03, 679.619)\" x=\"1018.03\" y=\"679.619\">4</text>\n",
       "</g>\n",
       "<g clip-path=\"url(#clip0800)\">\n",
       "<text style=\"fill:#000000; fill-opacity:1; font-family:Arial,Helvetica Neue,Helvetica,sans-serif; font-size:48px; text-anchor:end;\" transform=\"rotate(0, 205.135, 643.119)\" x=\"205.135\" y=\"643.119\">0</text>\n",
       "</g>\n",
       "<g clip-path=\"url(#clip0800)\">\n",
       "<text style=\"fill:#000000; fill-opacity:1; font-family:Arial,Helvetica Neue,Helvetica,sans-serif; font-size:48px; text-anchor:end;\" transform=\"rotate(0, 205.135, 542.33)\" x=\"205.135\" y=\"542.33\">25</text>\n",
       "</g>\n",
       "<g clip-path=\"url(#clip0800)\">\n",
       "<text style=\"fill:#000000; fill-opacity:1; font-family:Arial,Helvetica Neue,Helvetica,sans-serif; font-size:48px; text-anchor:end;\" transform=\"rotate(0, 205.135, 441.541)\" x=\"205.135\" y=\"441.541\">50</text>\n",
       "</g>\n",
       "<g clip-path=\"url(#clip0800)\">\n",
       "<text style=\"fill:#000000; fill-opacity:1; font-family:Arial,Helvetica Neue,Helvetica,sans-serif; font-size:48px; text-anchor:end;\" transform=\"rotate(0, 205.135, 340.753)\" x=\"205.135\" y=\"340.753\">75</text>\n",
       "</g>\n",
       "<g clip-path=\"url(#clip0800)\">\n",
       "<text style=\"fill:#000000; fill-opacity:1; font-family:Arial,Helvetica Neue,Helvetica,sans-serif; font-size:48px; text-anchor:end;\" transform=\"rotate(0, 205.135, 239.964)\" x=\"205.135\" y=\"239.964\">100</text>\n",
       "</g>\n",
       "<g clip-path=\"url(#clip0800)\">\n",
       "<text style=\"fill:#000000; fill-opacity:1; font-family:Arial,Helvetica Neue,Helvetica,sans-serif; font-size:48px; text-anchor:end;\" transform=\"rotate(0, 205.135, 139.175)\" x=\"205.135\" y=\"139.175\">125</text>\n",
       "</g>\n",
       "<g clip-path=\"url(#clip0800)\">\n",
       "<text style=\"fill:#000000; fill-opacity:1; font-family:Arial,Helvetica Neue,Helvetica,sans-serif; font-size:84px; text-anchor:middle;\" transform=\"rotate(0, 690.946, 73.2)\" x=\"690.946\" y=\"73.2\">Produkt 1</text>\n",
       "</g>\n",
       "<g clip-path=\"url(#clip0800)\">\n",
       "<text style=\"fill:#000000; fill-opacity:1; font-family:Arial,Helvetica Neue,Helvetica,sans-serif; font-size:66px; text-anchor:middle;\" transform=\"rotate(0, 690.946, 759.48)\" x=\"690.946\" y=\"759.48\">Periode</text>\n",
       "</g>\n",
       "<g clip-path=\"url(#clip0800)\">\n",
       "<text style=\"fill:#000000; fill-opacity:1; font-family:Arial,Helvetica Neue,Helvetica,sans-serif; font-size:66px; text-anchor:middle;\" transform=\"rotate(-90, 89.2861, 373.647)\" x=\"89.2861\" y=\"373.647\">Menge</text>\n",
       "</g>\n",
       "<polygon clip-path=\"url(#clip0802)\" points=\"\n",
       "276.645,343.41 276.645,625.619 334.792,625.619 334.792,343.41 276.645,343.41 276.645,343.41 \n",
       "  \" fill=\"#00688b\" fill-rule=\"evenodd\" fill-opacity=\"1\"/>\n",
       "<polyline clip-path=\"url(#clip0802)\" style=\"stroke:#000000; stroke-width:4; stroke-opacity:1; fill:none\" points=\"\n",
       "  276.645,343.41 276.645,625.619 334.792,625.619 334.792,343.41 276.645,343.41 \n",
       "  \"/>\n",
       "<polygon clip-path=\"url(#clip0802)\" points=\"\n",
       "494.698,625.619 494.698,625.619 552.845,625.619 552.845,625.619 494.698,625.619 494.698,625.619 \n",
       "  \" fill=\"#00688b\" fill-rule=\"evenodd\" fill-opacity=\"1\"/>\n",
       "<polyline clip-path=\"url(#clip0802)\" style=\"stroke:#000000; stroke-width:4; stroke-opacity:1; fill:none\" points=\"\n",
       "  494.698,625.619 494.698,625.619 552.845,625.619 494.698,625.619 \n",
       "  \"/>\n",
       "<polygon clip-path=\"url(#clip0802)\" points=\"\n",
       "712.751,625.619 712.751,625.619 770.898,625.619 770.898,625.619 712.751,625.619 712.751,625.619 \n",
       "  \" fill=\"#00688b\" fill-rule=\"evenodd\" fill-opacity=\"1\"/>\n",
       "<polyline clip-path=\"url(#clip0802)\" style=\"stroke:#000000; stroke-width:4; stroke-opacity:1; fill:none\" points=\"\n",
       "  712.751,625.619 712.751,625.619 770.898,625.619 712.751,625.619 \n",
       "  \"/>\n",
       "<polygon clip-path=\"url(#clip0802)\" points=\"\n",
       "930.804,61.2019 930.804,625.619 988.952,625.619 988.952,61.2019 930.804,61.2019 930.804,61.2019 \n",
       "  \" fill=\"#00688b\" fill-rule=\"evenodd\" fill-opacity=\"1\"/>\n",
       "<polyline clip-path=\"url(#clip0802)\" style=\"stroke:#000000; stroke-width:4; stroke-opacity:1; fill:none\" points=\"\n",
       "  930.804,61.2019 930.804,625.619 988.952,625.619 988.952,61.2019 930.804,61.2019 \n",
       "  \"/>\n",
       "<polygon clip-path=\"url(#clip0802)\" points=\"\n",
       "334.792,424.041 334.792,625.619 392.94,625.619 392.94,424.041 334.792,424.041 334.792,424.041 \n",
       "  \" fill=\"#cd0000\" fill-rule=\"evenodd\" fill-opacity=\"1\"/>\n",
       "<polyline clip-path=\"url(#clip0802)\" style=\"stroke:#000000; stroke-width:4; stroke-opacity:1; fill:none\" points=\"\n",
       "  334.792,424.041 334.792,625.619 392.94,625.619 392.94,424.041 334.792,424.041 \n",
       "  \"/>\n",
       "<polygon clip-path=\"url(#clip0802)\" points=\"\n",
       "552.845,585.303 552.845,625.619 610.993,625.619 610.993,585.303 552.845,585.303 552.845,585.303 \n",
       "  \" fill=\"#cd0000\" fill-rule=\"evenodd\" fill-opacity=\"1\"/>\n",
       "<polyline clip-path=\"url(#clip0802)\" style=\"stroke:#000000; stroke-width:4; stroke-opacity:1; fill:none\" points=\"\n",
       "  552.845,585.303 552.845,625.619 610.993,625.619 610.993,585.303 552.845,585.303 \n",
       "  \"/>\n",
       "<polygon clip-path=\"url(#clip0802)\" points=\"\n",
       "770.898,585.303 770.898,625.619 829.046,625.619 829.046,585.303 770.898,585.303 770.898,585.303 \n",
       "  \" fill=\"#cd0000\" fill-rule=\"evenodd\" fill-opacity=\"1\"/>\n",
       "<polyline clip-path=\"url(#clip0802)\" style=\"stroke:#000000; stroke-width:4; stroke-opacity:1; fill:none\" points=\"\n",
       "  770.898,585.303 770.898,625.619 829.046,625.619 829.046,585.303 770.898,585.303 \n",
       "  \"/>\n",
       "<polygon clip-path=\"url(#clip0802)\" points=\"\n",
       "988.952,61.2019 988.952,625.619 1047.1,625.619 1047.1,61.2019 988.952,61.2019 988.952,61.2019 \n",
       "  \" fill=\"#cd0000\" fill-rule=\"evenodd\" fill-opacity=\"1\"/>\n",
       "<polyline clip-path=\"url(#clip0802)\" style=\"stroke:#000000; stroke-width:4; stroke-opacity:1; fill:none\" points=\"\n",
       "  988.952,61.2019 988.952,625.619 1047.1,625.619 1047.1,61.2019 988.952,61.2019 \n",
       "  \"/>\n",
       "<polygon clip-path=\"url(#clip0802)\" points=\"\n",
       "392.94,544.988 392.94,625.619 451.087,625.619 451.087,544.988 392.94,544.988 392.94,544.988 \n",
       "  \" fill=\"#ffa500\" fill-rule=\"evenodd\" fill-opacity=\"1\"/>\n",
       "<polyline clip-path=\"url(#clip0802)\" style=\"stroke:#000000; stroke-width:4; stroke-opacity:1; fill:none\" points=\"\n",
       "  392.94,544.988 392.94,625.619 451.087,625.619 451.087,544.988 392.94,544.988 \n",
       "  \"/>\n",
       "<polygon clip-path=\"url(#clip0802)\" points=\"\n",
       "610.993,585.303 610.993,625.619 669.14,625.619 669.14,585.303 610.993,585.303 610.993,585.303 \n",
       "  \" fill=\"#ffa500\" fill-rule=\"evenodd\" fill-opacity=\"1\"/>\n",
       "<polyline clip-path=\"url(#clip0802)\" style=\"stroke:#000000; stroke-width:4; stroke-opacity:1; fill:none\" points=\"\n",
       "  610.993,585.303 610.993,625.619 669.14,625.619 669.14,585.303 610.993,585.303 \n",
       "  \"/>\n",
       "<polygon clip-path=\"url(#clip0802)\" points=\"\n",
       "829.046,625.619 829.046,625.619 887.193,625.619 887.193,625.619 829.046,625.619 829.046,625.619 \n",
       "  \" fill=\"#ffa500\" fill-rule=\"evenodd\" fill-opacity=\"1\"/>\n",
       "<polyline clip-path=\"url(#clip0802)\" style=\"stroke:#000000; stroke-width:4; stroke-opacity:1; fill:none\" points=\"\n",
       "  829.046,625.619 829.046,625.619 887.193,625.619 829.046,625.619 \n",
       "  \"/>\n",
       "<polygon clip-path=\"url(#clip0802)\" points=\"\n",
       "1047.1,625.619 1047.1,625.619 1105.25,625.619 1105.25,625.619 1047.1,625.619 1047.1,625.619 \n",
       "  \" fill=\"#ffa500\" fill-rule=\"evenodd\" fill-opacity=\"1\"/>\n",
       "<polyline clip-path=\"url(#clip0802)\" style=\"stroke:#000000; stroke-width:4; stroke-opacity:1; fill:none\" points=\"\n",
       "  1047.1,625.619 1047.1,625.619 1105.25,625.619 1047.1,625.619 \n",
       "  \"/>\n",
       "<polygon clip-path=\"url(#clip0800)\" points=\"\n",
       "1429.14,625.619 2352.76,625.619 2352.76,121.675 1429.14,121.675 \n",
       "  \" fill=\"#ffffff\" fill-rule=\"evenodd\" fill-opacity=\"1\"/>\n",
       "<defs>\n",
       "  <clipPath id=\"clip0803\">\n",
       "    <rect x=\"1429\" y=\"121\" width=\"925\" height=\"505\"/>\n",
       "  </clipPath>\n",
       "</defs>\n",
       "<polyline clip-path=\"url(#clip0803)\" style=\"stroke:#000000; stroke-width:2; stroke-opacity:0.1; fill:none\" points=\"\n",
       "  1563.87,625.619 1563.87,121.675 \n",
       "  \"/>\n",
       "<polyline clip-path=\"url(#clip0803)\" style=\"stroke:#000000; stroke-width:2; stroke-opacity:0.1; fill:none\" points=\"\n",
       "  1781.92,625.619 1781.92,121.675 \n",
       "  \"/>\n",
       "<polyline clip-path=\"url(#clip0803)\" style=\"stroke:#000000; stroke-width:2; stroke-opacity:0.1; fill:none\" points=\"\n",
       "  1999.97,625.619 1999.97,121.675 \n",
       "  \"/>\n",
       "<polyline clip-path=\"url(#clip0803)\" style=\"stroke:#000000; stroke-width:2; stroke-opacity:0.1; fill:none\" points=\"\n",
       "  2218.03,625.619 2218.03,121.675 \n",
       "  \"/>\n",
       "<polyline clip-path=\"url(#clip0803)\" style=\"stroke:#000000; stroke-width:2; stroke-opacity:0.1; fill:none\" points=\"\n",
       "  1429.14,625.619 2352.76,625.619 \n",
       "  \"/>\n",
       "<polyline clip-path=\"url(#clip0803)\" style=\"stroke:#000000; stroke-width:2; stroke-opacity:0.1; fill:none\" points=\"\n",
       "  1429.14,524.83 2352.76,524.83 \n",
       "  \"/>\n",
       "<polyline clip-path=\"url(#clip0803)\" style=\"stroke:#000000; stroke-width:2; stroke-opacity:0.1; fill:none\" points=\"\n",
       "  1429.14,424.041 2352.76,424.041 \n",
       "  \"/>\n",
       "<polyline clip-path=\"url(#clip0803)\" style=\"stroke:#000000; stroke-width:2; stroke-opacity:0.1; fill:none\" points=\"\n",
       "  1429.14,323.253 2352.76,323.253 \n",
       "  \"/>\n",
       "<polyline clip-path=\"url(#clip0803)\" style=\"stroke:#000000; stroke-width:2; stroke-opacity:0.1; fill:none\" points=\"\n",
       "  1429.14,222.464 2352.76,222.464 \n",
       "  \"/>\n",
       "<polyline clip-path=\"url(#clip0803)\" style=\"stroke:#000000; stroke-width:2; stroke-opacity:0.1; fill:none\" points=\"\n",
       "  1429.14,121.675 2352.76,121.675 \n",
       "  \"/>\n",
       "<polyline clip-path=\"url(#clip0800)\" style=\"stroke:#000000; stroke-width:4; stroke-opacity:1; fill:none\" points=\"\n",
       "  1429.14,625.619 2352.76,625.619 \n",
       "  \"/>\n",
       "<polyline clip-path=\"url(#clip0800)\" style=\"stroke:#000000; stroke-width:4; stroke-opacity:1; fill:none\" points=\"\n",
       "  1429.14,625.619 1429.14,121.675 \n",
       "  \"/>\n",
       "<polyline clip-path=\"url(#clip0800)\" style=\"stroke:#000000; stroke-width:4; stroke-opacity:1; fill:none\" points=\"\n",
       "  1563.87,625.619 1563.87,618.059 \n",
       "  \"/>\n",
       "<polyline clip-path=\"url(#clip0800)\" style=\"stroke:#000000; stroke-width:4; stroke-opacity:1; fill:none\" points=\"\n",
       "  1781.92,625.619 1781.92,618.059 \n",
       "  \"/>\n",
       "<polyline clip-path=\"url(#clip0800)\" style=\"stroke:#000000; stroke-width:4; stroke-opacity:1; fill:none\" points=\"\n",
       "  1999.97,625.619 1999.97,618.059 \n",
       "  \"/>\n",
       "<polyline clip-path=\"url(#clip0800)\" style=\"stroke:#000000; stroke-width:4; stroke-opacity:1; fill:none\" points=\"\n",
       "  2218.03,625.619 2218.03,618.059 \n",
       "  \"/>\n",
       "<polyline clip-path=\"url(#clip0800)\" style=\"stroke:#000000; stroke-width:4; stroke-opacity:1; fill:none\" points=\"\n",
       "  1429.14,625.619 1442.99,625.619 \n",
       "  \"/>\n",
       "<polyline clip-path=\"url(#clip0800)\" style=\"stroke:#000000; stroke-width:4; stroke-opacity:1; fill:none\" points=\"\n",
       "  1429.14,524.83 1442.99,524.83 \n",
       "  \"/>\n",
       "<polyline clip-path=\"url(#clip0800)\" style=\"stroke:#000000; stroke-width:4; stroke-opacity:1; fill:none\" points=\"\n",
       "  1429.14,424.041 1442.99,424.041 \n",
       "  \"/>\n",
       "<polyline clip-path=\"url(#clip0800)\" style=\"stroke:#000000; stroke-width:4; stroke-opacity:1; fill:none\" points=\"\n",
       "  1429.14,323.253 1442.99,323.253 \n",
       "  \"/>\n",
       "<polyline clip-path=\"url(#clip0800)\" style=\"stroke:#000000; stroke-width:4; stroke-opacity:1; fill:none\" points=\"\n",
       "  1429.14,222.464 1442.99,222.464 \n",
       "  \"/>\n",
       "<polyline clip-path=\"url(#clip0800)\" style=\"stroke:#000000; stroke-width:4; stroke-opacity:1; fill:none\" points=\"\n",
       "  1429.14,121.675 1442.99,121.675 \n",
       "  \"/>\n",
       "<g clip-path=\"url(#clip0800)\">\n",
       "<text style=\"fill:#000000; fill-opacity:1; font-family:Arial,Helvetica Neue,Helvetica,sans-serif; font-size:48px; text-anchor:middle;\" transform=\"rotate(0, 1563.87, 679.619)\" x=\"1563.87\" y=\"679.619\">1</text>\n",
       "</g>\n",
       "<g clip-path=\"url(#clip0800)\">\n",
       "<text style=\"fill:#000000; fill-opacity:1; font-family:Arial,Helvetica Neue,Helvetica,sans-serif; font-size:48px; text-anchor:middle;\" transform=\"rotate(0, 1781.92, 679.619)\" x=\"1781.92\" y=\"679.619\">2</text>\n",
       "</g>\n",
       "<g clip-path=\"url(#clip0800)\">\n",
       "<text style=\"fill:#000000; fill-opacity:1; font-family:Arial,Helvetica Neue,Helvetica,sans-serif; font-size:48px; text-anchor:middle;\" transform=\"rotate(0, 1999.97, 679.619)\" x=\"1999.97\" y=\"679.619\">3</text>\n",
       "</g>\n",
       "<g clip-path=\"url(#clip0800)\">\n",
       "<text style=\"fill:#000000; fill-opacity:1; font-family:Arial,Helvetica Neue,Helvetica,sans-serif; font-size:48px; text-anchor:middle;\" transform=\"rotate(0, 2218.03, 679.619)\" x=\"2218.03\" y=\"679.619\">4</text>\n",
       "</g>\n",
       "<g clip-path=\"url(#clip0800)\">\n",
       "<text style=\"fill:#000000; fill-opacity:1; font-family:Arial,Helvetica Neue,Helvetica,sans-serif; font-size:48px; text-anchor:end;\" transform=\"rotate(0, 1405.14, 643.119)\" x=\"1405.14\" y=\"643.119\">0</text>\n",
       "</g>\n",
       "<g clip-path=\"url(#clip0800)\">\n",
       "<text style=\"fill:#000000; fill-opacity:1; font-family:Arial,Helvetica Neue,Helvetica,sans-serif; font-size:48px; text-anchor:end;\" transform=\"rotate(0, 1405.14, 542.33)\" x=\"1405.14\" y=\"542.33\">25</text>\n",
       "</g>\n",
       "<g clip-path=\"url(#clip0800)\">\n",
       "<text style=\"fill:#000000; fill-opacity:1; font-family:Arial,Helvetica Neue,Helvetica,sans-serif; font-size:48px; text-anchor:end;\" transform=\"rotate(0, 1405.14, 441.541)\" x=\"1405.14\" y=\"441.541\">50</text>\n",
       "</g>\n",
       "<g clip-path=\"url(#clip0800)\">\n",
       "<text style=\"fill:#000000; fill-opacity:1; font-family:Arial,Helvetica Neue,Helvetica,sans-serif; font-size:48px; text-anchor:end;\" transform=\"rotate(0, 1405.14, 340.753)\" x=\"1405.14\" y=\"340.753\">75</text>\n",
       "</g>\n",
       "<g clip-path=\"url(#clip0800)\">\n",
       "<text style=\"fill:#000000; fill-opacity:1; font-family:Arial,Helvetica Neue,Helvetica,sans-serif; font-size:48px; text-anchor:end;\" transform=\"rotate(0, 1405.14, 239.964)\" x=\"1405.14\" y=\"239.964\">100</text>\n",
       "</g>\n",
       "<g clip-path=\"url(#clip0800)\">\n",
       "<text style=\"fill:#000000; fill-opacity:1; font-family:Arial,Helvetica Neue,Helvetica,sans-serif; font-size:48px; text-anchor:end;\" transform=\"rotate(0, 1405.14, 139.175)\" x=\"1405.14\" y=\"139.175\">125</text>\n",
       "</g>\n",
       "<g clip-path=\"url(#clip0800)\">\n",
       "<text style=\"fill:#000000; fill-opacity:1; font-family:Arial,Helvetica Neue,Helvetica,sans-serif; font-size:84px; text-anchor:middle;\" transform=\"rotate(0, 1890.95, 73.2)\" x=\"1890.95\" y=\"73.2\">Produkt 2</text>\n",
       "</g>\n",
       "<g clip-path=\"url(#clip0800)\">\n",
       "<text style=\"fill:#000000; fill-opacity:1; font-family:Arial,Helvetica Neue,Helvetica,sans-serif; font-size:66px; text-anchor:middle;\" transform=\"rotate(0, 1890.95, 759.48)\" x=\"1890.95\" y=\"759.48\">Periode</text>\n",
       "</g>\n",
       "<g clip-path=\"url(#clip0800)\">\n",
       "<text style=\"fill:#000000; fill-opacity:1; font-family:Arial,Helvetica Neue,Helvetica,sans-serif; font-size:66px; text-anchor:middle;\" transform=\"rotate(-90, 1289.29, 373.647)\" x=\"1289.29\" y=\"373.647\">Menge</text>\n",
       "</g>\n",
       "<polygon clip-path=\"url(#clip0803)\" points=\"\n",
       "1476.64,625.619 1476.64,625.619 1534.79,625.619 1534.79,625.619 1476.64,625.619 1476.64,625.619 \n",
       "  \" fill=\"#00688b\" fill-rule=\"evenodd\" fill-opacity=\"1\"/>\n",
       "<polyline clip-path=\"url(#clip0803)\" style=\"stroke:#000000; stroke-width:4; stroke-opacity:1; fill:none\" points=\"\n",
       "  1476.64,625.619 1476.64,625.619 1534.79,625.619 1476.64,625.619 \n",
       "  \"/>\n",
       "<polygon clip-path=\"url(#clip0803)\" points=\"\n",
       "1694.7,464.357 1694.7,625.619 1752.85,625.619 1752.85,464.357 1694.7,464.357 1694.7,464.357 \n",
       "  \" fill=\"#00688b\" fill-rule=\"evenodd\" fill-opacity=\"1\"/>\n",
       "<polyline clip-path=\"url(#clip0803)\" style=\"stroke:#000000; stroke-width:4; stroke-opacity:1; fill:none\" points=\"\n",
       "  1694.7,464.357 1694.7,625.619 1752.85,625.619 1752.85,464.357 1694.7,464.357 \n",
       "  \"/>\n",
       "<polygon clip-path=\"url(#clip0803)\" points=\"\n",
       "1912.75,182.148 1912.75,625.619 1970.9,625.619 1970.9,182.148 1912.75,182.148 1912.75,182.148 \n",
       "  \" fill=\"#00688b\" fill-rule=\"evenodd\" fill-opacity=\"1\"/>\n",
       "<polyline clip-path=\"url(#clip0803)\" style=\"stroke:#000000; stroke-width:4; stroke-opacity:1; fill:none\" points=\"\n",
       "  1912.75,182.148 1912.75,625.619 1970.9,625.619 1970.9,182.148 1912.75,182.148 \n",
       "  \"/>\n",
       "<polygon clip-path=\"url(#clip0803)\" points=\"\n",
       "2130.8,625.619 2130.8,625.619 2188.95,625.619 2188.95,625.619 2130.8,625.619 2130.8,625.619 \n",
       "  \" fill=\"#00688b\" fill-rule=\"evenodd\" fill-opacity=\"1\"/>\n",
       "<polyline clip-path=\"url(#clip0803)\" style=\"stroke:#000000; stroke-width:4; stroke-opacity:1; fill:none\" points=\"\n",
       "  2130.8,625.619 2130.8,625.619 2188.95,625.619 2130.8,625.619 \n",
       "  \"/>\n",
       "<polygon clip-path=\"url(#clip0803)\" points=\"\n",
       "1534.79,625.619 1534.79,625.619 1592.94,625.619 1592.94,625.619 1534.79,625.619 1534.79,625.619 \n",
       "  \" fill=\"#cd0000\" fill-rule=\"evenodd\" fill-opacity=\"1\"/>\n",
       "<polyline clip-path=\"url(#clip0803)\" style=\"stroke:#000000; stroke-width:4; stroke-opacity:1; fill:none\" points=\"\n",
       "  1534.79,625.619 1534.79,625.619 1592.94,625.619 1534.79,625.619 \n",
       "  \"/>\n",
       "<polygon clip-path=\"url(#clip0803)\" points=\"\n",
       "1752.85,464.357 1752.85,625.619 1810.99,625.619 1810.99,464.357 1752.85,464.357 1752.85,464.357 \n",
       "  \" fill=\"#cd0000\" fill-rule=\"evenodd\" fill-opacity=\"1\"/>\n",
       "<polyline clip-path=\"url(#clip0803)\" style=\"stroke:#000000; stroke-width:4; stroke-opacity:1; fill:none\" points=\"\n",
       "  1752.85,464.357 1752.85,625.619 1810.99,625.619 1810.99,464.357 1752.85,464.357 \n",
       "  \"/>\n",
       "<polygon clip-path=\"url(#clip0803)\" points=\"\n",
       "1970.9,303.095 1970.9,625.619 2029.05,625.619 2029.05,303.095 1970.9,303.095 1970.9,303.095 \n",
       "  \" fill=\"#cd0000\" fill-rule=\"evenodd\" fill-opacity=\"1\"/>\n",
       "<polyline clip-path=\"url(#clip0803)\" style=\"stroke:#000000; stroke-width:4; stroke-opacity:1; fill:none\" points=\"\n",
       "  1970.9,303.095 1970.9,625.619 2029.05,625.619 2029.05,303.095 1970.9,303.095 \n",
       "  \"/>\n",
       "<polygon clip-path=\"url(#clip0803)\" points=\"\n",
       "2188.95,504.672 2188.95,625.619 2247.1,625.619 2247.1,504.672 2188.95,504.672 2188.95,504.672 \n",
       "  \" fill=\"#cd0000\" fill-rule=\"evenodd\" fill-opacity=\"1\"/>\n",
       "<polyline clip-path=\"url(#clip0803)\" style=\"stroke:#000000; stroke-width:4; stroke-opacity:1; fill:none\" points=\"\n",
       "  2188.95,504.672 2188.95,625.619 2247.1,625.619 2247.1,504.672 2188.95,504.672 \n",
       "  \"/>\n",
       "<polygon clip-path=\"url(#clip0803)\" points=\"\n",
       "1592.94,625.619 1592.94,625.619 1651.09,625.619 1651.09,625.619 1592.94,625.619 1592.94,625.619 \n",
       "  \" fill=\"#ffa500\" fill-rule=\"evenodd\" fill-opacity=\"1\"/>\n",
       "<polyline clip-path=\"url(#clip0803)\" style=\"stroke:#000000; stroke-width:4; stroke-opacity:1; fill:none\" points=\"\n",
       "  1592.94,625.619 1592.94,625.619 1651.09,625.619 1592.94,625.619 \n",
       "  \"/>\n",
       "<polygon clip-path=\"url(#clip0803)\" points=\"\n",
       "1810.99,625.619 1810.99,625.619 1869.14,625.619 1869.14,625.619 1810.99,625.619 1810.99,625.619 \n",
       "  \" fill=\"#ffa500\" fill-rule=\"evenodd\" fill-opacity=\"1\"/>\n",
       "<polyline clip-path=\"url(#clip0803)\" style=\"stroke:#000000; stroke-width:4; stroke-opacity:1; fill:none\" points=\"\n",
       "  1810.99,625.619 1810.99,625.619 1869.14,625.619 1810.99,625.619 \n",
       "  \"/>\n",
       "<polygon clip-path=\"url(#clip0803)\" points=\"\n",
       "2029.05,504.672 2029.05,625.619 2087.19,625.619 2087.19,504.672 2029.05,504.672 2029.05,504.672 \n",
       "  \" fill=\"#ffa500\" fill-rule=\"evenodd\" fill-opacity=\"1\"/>\n",
       "<polyline clip-path=\"url(#clip0803)\" style=\"stroke:#000000; stroke-width:4; stroke-opacity:1; fill:none\" points=\"\n",
       "  2029.05,504.672 2029.05,625.619 2087.19,625.619 2087.19,504.672 2029.05,504.672 \n",
       "  \"/>\n",
       "<polygon clip-path=\"url(#clip0803)\" points=\"\n",
       "2247.1,625.619 2247.1,625.619 2305.25,625.619 2305.25,625.619 2247.1,625.619 2247.1,625.619 \n",
       "  \" fill=\"#ffa500\" fill-rule=\"evenodd\" fill-opacity=\"1\"/>\n",
       "<polyline clip-path=\"url(#clip0803)\" style=\"stroke:#000000; stroke-width:4; stroke-opacity:1; fill:none\" points=\"\n",
       "  2247.1,625.619 2247.1,625.619 2305.25,625.619 2247.1,625.619 \n",
       "  \"/>\n",
       "<polygon clip-path=\"url(#clip0800)\" points=\"\n",
       "229.135,1425.62 1152.76,1425.62 1152.76,921.675 229.135,921.675 \n",
       "  \" fill=\"#ffffff\" fill-rule=\"evenodd\" fill-opacity=\"1\"/>\n",
       "<defs>\n",
       "  <clipPath id=\"clip0804\">\n",
       "    <rect x=\"229\" y=\"921\" width=\"925\" height=\"505\"/>\n",
       "  </clipPath>\n",
       "</defs>\n",
       "<polyline clip-path=\"url(#clip0804)\" style=\"stroke:#000000; stroke-width:2; stroke-opacity:0.1; fill:none\" points=\"\n",
       "  363.866,1425.62 363.866,921.675 \n",
       "  \"/>\n",
       "<polyline clip-path=\"url(#clip0804)\" style=\"stroke:#000000; stroke-width:2; stroke-opacity:0.1; fill:none\" points=\"\n",
       "  581.919,1425.62 581.919,921.675 \n",
       "  \"/>\n",
       "<polyline clip-path=\"url(#clip0804)\" style=\"stroke:#000000; stroke-width:2; stroke-opacity:0.1; fill:none\" points=\"\n",
       "  799.972,1425.62 799.972,921.675 \n",
       "  \"/>\n",
       "<polyline clip-path=\"url(#clip0804)\" style=\"stroke:#000000; stroke-width:2; stroke-opacity:0.1; fill:none\" points=\"\n",
       "  1018.03,1425.62 1018.03,921.675 \n",
       "  \"/>\n",
       "<polyline clip-path=\"url(#clip0804)\" style=\"stroke:#000000; stroke-width:2; stroke-opacity:0.1; fill:none\" points=\"\n",
       "  229.135,1425.62 1152.76,1425.62 \n",
       "  \"/>\n",
       "<polyline clip-path=\"url(#clip0804)\" style=\"stroke:#000000; stroke-width:2; stroke-opacity:0.1; fill:none\" points=\"\n",
       "  229.135,1324.83 1152.76,1324.83 \n",
       "  \"/>\n",
       "<polyline clip-path=\"url(#clip0804)\" style=\"stroke:#000000; stroke-width:2; stroke-opacity:0.1; fill:none\" points=\"\n",
       "  229.135,1224.04 1152.76,1224.04 \n",
       "  \"/>\n",
       "<polyline clip-path=\"url(#clip0804)\" style=\"stroke:#000000; stroke-width:2; stroke-opacity:0.1; fill:none\" points=\"\n",
       "  229.135,1123.25 1152.76,1123.25 \n",
       "  \"/>\n",
       "<polyline clip-path=\"url(#clip0804)\" style=\"stroke:#000000; stroke-width:2; stroke-opacity:0.1; fill:none\" points=\"\n",
       "  229.135,1022.46 1152.76,1022.46 \n",
       "  \"/>\n",
       "<polyline clip-path=\"url(#clip0804)\" style=\"stroke:#000000; stroke-width:2; stroke-opacity:0.1; fill:none\" points=\"\n",
       "  229.135,921.675 1152.76,921.675 \n",
       "  \"/>\n",
       "<polyline clip-path=\"url(#clip0800)\" style=\"stroke:#000000; stroke-width:4; stroke-opacity:1; fill:none\" points=\"\n",
       "  229.135,1425.62 1152.76,1425.62 \n",
       "  \"/>\n",
       "<polyline clip-path=\"url(#clip0800)\" style=\"stroke:#000000; stroke-width:4; stroke-opacity:1; fill:none\" points=\"\n",
       "  229.135,1425.62 229.135,921.675 \n",
       "  \"/>\n",
       "<polyline clip-path=\"url(#clip0800)\" style=\"stroke:#000000; stroke-width:4; stroke-opacity:1; fill:none\" points=\"\n",
       "  363.866,1425.62 363.866,1418.06 \n",
       "  \"/>\n",
       "<polyline clip-path=\"url(#clip0800)\" style=\"stroke:#000000; stroke-width:4; stroke-opacity:1; fill:none\" points=\"\n",
       "  581.919,1425.62 581.919,1418.06 \n",
       "  \"/>\n",
       "<polyline clip-path=\"url(#clip0800)\" style=\"stroke:#000000; stroke-width:4; stroke-opacity:1; fill:none\" points=\"\n",
       "  799.972,1425.62 799.972,1418.06 \n",
       "  \"/>\n",
       "<polyline clip-path=\"url(#clip0800)\" style=\"stroke:#000000; stroke-width:4; stroke-opacity:1; fill:none\" points=\"\n",
       "  1018.03,1425.62 1018.03,1418.06 \n",
       "  \"/>\n",
       "<polyline clip-path=\"url(#clip0800)\" style=\"stroke:#000000; stroke-width:4; stroke-opacity:1; fill:none\" points=\"\n",
       "  229.135,1425.62 242.99,1425.62 \n",
       "  \"/>\n",
       "<polyline clip-path=\"url(#clip0800)\" style=\"stroke:#000000; stroke-width:4; stroke-opacity:1; fill:none\" points=\"\n",
       "  229.135,1324.83 242.99,1324.83 \n",
       "  \"/>\n",
       "<polyline clip-path=\"url(#clip0800)\" style=\"stroke:#000000; stroke-width:4; stroke-opacity:1; fill:none\" points=\"\n",
       "  229.135,1224.04 242.99,1224.04 \n",
       "  \"/>\n",
       "<polyline clip-path=\"url(#clip0800)\" style=\"stroke:#000000; stroke-width:4; stroke-opacity:1; fill:none\" points=\"\n",
       "  229.135,1123.25 242.99,1123.25 \n",
       "  \"/>\n",
       "<polyline clip-path=\"url(#clip0800)\" style=\"stroke:#000000; stroke-width:4; stroke-opacity:1; fill:none\" points=\"\n",
       "  229.135,1022.46 242.99,1022.46 \n",
       "  \"/>\n",
       "<polyline clip-path=\"url(#clip0800)\" style=\"stroke:#000000; stroke-width:4; stroke-opacity:1; fill:none\" points=\"\n",
       "  229.135,921.675 242.99,921.675 \n",
       "  \"/>\n",
       "<g clip-path=\"url(#clip0800)\">\n",
       "<text style=\"fill:#000000; fill-opacity:1; font-family:Arial,Helvetica Neue,Helvetica,sans-serif; font-size:48px; text-anchor:middle;\" transform=\"rotate(0, 363.866, 1479.62)\" x=\"363.866\" y=\"1479.62\">1</text>\n",
       "</g>\n",
       "<g clip-path=\"url(#clip0800)\">\n",
       "<text style=\"fill:#000000; fill-opacity:1; font-family:Arial,Helvetica Neue,Helvetica,sans-serif; font-size:48px; text-anchor:middle;\" transform=\"rotate(0, 581.919, 1479.62)\" x=\"581.919\" y=\"1479.62\">2</text>\n",
       "</g>\n",
       "<g clip-path=\"url(#clip0800)\">\n",
       "<text style=\"fill:#000000; fill-opacity:1; font-family:Arial,Helvetica Neue,Helvetica,sans-serif; font-size:48px; text-anchor:middle;\" transform=\"rotate(0, 799.972, 1479.62)\" x=\"799.972\" y=\"1479.62\">3</text>\n",
       "</g>\n",
       "<g clip-path=\"url(#clip0800)\">\n",
       "<text style=\"fill:#000000; fill-opacity:1; font-family:Arial,Helvetica Neue,Helvetica,sans-serif; font-size:48px; text-anchor:middle;\" transform=\"rotate(0, 1018.03, 1479.62)\" x=\"1018.03\" y=\"1479.62\">4</text>\n",
       "</g>\n",
       "<g clip-path=\"url(#clip0800)\">\n",
       "<text style=\"fill:#000000; fill-opacity:1; font-family:Arial,Helvetica Neue,Helvetica,sans-serif; font-size:48px; text-anchor:end;\" transform=\"rotate(0, 205.135, 1443.12)\" x=\"205.135\" y=\"1443.12\">0</text>\n",
       "</g>\n",
       "<g clip-path=\"url(#clip0800)\">\n",
       "<text style=\"fill:#000000; fill-opacity:1; font-family:Arial,Helvetica Neue,Helvetica,sans-serif; font-size:48px; text-anchor:end;\" transform=\"rotate(0, 205.135, 1342.33)\" x=\"205.135\" y=\"1342.33\">25</text>\n",
       "</g>\n",
       "<g clip-path=\"url(#clip0800)\">\n",
       "<text style=\"fill:#000000; fill-opacity:1; font-family:Arial,Helvetica Neue,Helvetica,sans-serif; font-size:48px; text-anchor:end;\" transform=\"rotate(0, 205.135, 1241.54)\" x=\"205.135\" y=\"1241.54\">50</text>\n",
       "</g>\n",
       "<g clip-path=\"url(#clip0800)\">\n",
       "<text style=\"fill:#000000; fill-opacity:1; font-family:Arial,Helvetica Neue,Helvetica,sans-serif; font-size:48px; text-anchor:end;\" transform=\"rotate(0, 205.135, 1140.75)\" x=\"205.135\" y=\"1140.75\">75</text>\n",
       "</g>\n",
       "<g clip-path=\"url(#clip0800)\">\n",
       "<text style=\"fill:#000000; fill-opacity:1; font-family:Arial,Helvetica Neue,Helvetica,sans-serif; font-size:48px; text-anchor:end;\" transform=\"rotate(0, 205.135, 1039.96)\" x=\"205.135\" y=\"1039.96\">100</text>\n",
       "</g>\n",
       "<g clip-path=\"url(#clip0800)\">\n",
       "<text style=\"fill:#000000; fill-opacity:1; font-family:Arial,Helvetica Neue,Helvetica,sans-serif; font-size:48px; text-anchor:end;\" transform=\"rotate(0, 205.135, 939.175)\" x=\"205.135\" y=\"939.175\">125</text>\n",
       "</g>\n",
       "<g clip-path=\"url(#clip0800)\">\n",
       "<text style=\"fill:#000000; fill-opacity:1; font-family:Arial,Helvetica Neue,Helvetica,sans-serif; font-size:84px; text-anchor:middle;\" transform=\"rotate(0, 690.946, 873.2)\" x=\"690.946\" y=\"873.2\">Produkt 3</text>\n",
       "</g>\n",
       "<g clip-path=\"url(#clip0800)\">\n",
       "<text style=\"fill:#000000; fill-opacity:1; font-family:Arial,Helvetica Neue,Helvetica,sans-serif; font-size:66px; text-anchor:middle;\" transform=\"rotate(0, 690.946, 1559.48)\" x=\"690.946\" y=\"1559.48\">Periode</text>\n",
       "</g>\n",
       "<g clip-path=\"url(#clip0800)\">\n",
       "<text style=\"fill:#000000; fill-opacity:1; font-family:Arial,Helvetica Neue,Helvetica,sans-serif; font-size:66px; text-anchor:middle;\" transform=\"rotate(-90, 89.2861, 1173.65)\" x=\"89.2861\" y=\"1173.65\">Menge</text>\n",
       "</g>\n",
       "<polygon clip-path=\"url(#clip0804)\" points=\"\n",
       "276.645,1062.78 276.645,1425.62 334.792,1425.62 334.792,1062.78 276.645,1062.78 276.645,1062.78 \n",
       "  \" fill=\"#00688b\" fill-rule=\"evenodd\" fill-opacity=\"1\"/>\n",
       "<polyline clip-path=\"url(#clip0804)\" style=\"stroke:#000000; stroke-width:4; stroke-opacity:1; fill:none\" points=\"\n",
       "  276.645,1062.78 276.645,1425.62 334.792,1425.62 334.792,1062.78 276.645,1062.78 \n",
       "  \"/>\n",
       "<polygon clip-path=\"url(#clip0804)\" points=\"\n",
       "494.698,1062.78 494.698,1425.62 552.845,1425.62 552.845,1062.78 494.698,1062.78 494.698,1062.78 \n",
       "  \" fill=\"#00688b\" fill-rule=\"evenodd\" fill-opacity=\"1\"/>\n",
       "<polyline clip-path=\"url(#clip0804)\" style=\"stroke:#000000; stroke-width:4; stroke-opacity:1; fill:none\" points=\"\n",
       "  494.698,1062.78 494.698,1425.62 552.845,1425.62 552.845,1062.78 494.698,1062.78 \n",
       "  \"/>\n",
       "<polygon clip-path=\"url(#clip0804)\" points=\"\n",
       "712.751,1425.62 712.751,1425.62 770.898,1425.62 770.898,1425.62 712.751,1425.62 712.751,1425.62 \n",
       "  \" fill=\"#00688b\" fill-rule=\"evenodd\" fill-opacity=\"1\"/>\n",
       "<polyline clip-path=\"url(#clip0804)\" style=\"stroke:#000000; stroke-width:4; stroke-opacity:1; fill:none\" points=\"\n",
       "  712.751,1425.62 712.751,1425.62 770.898,1425.62 712.751,1425.62 \n",
       "  \"/>\n",
       "<polygon clip-path=\"url(#clip0804)\" points=\"\n",
       "930.804,1224.04 930.804,1425.62 988.952,1425.62 988.952,1224.04 930.804,1224.04 930.804,1224.04 \n",
       "  \" fill=\"#00688b\" fill-rule=\"evenodd\" fill-opacity=\"1\"/>\n",
       "<polyline clip-path=\"url(#clip0804)\" style=\"stroke:#000000; stroke-width:4; stroke-opacity:1; fill:none\" points=\"\n",
       "  930.804,1224.04 930.804,1425.62 988.952,1425.62 988.952,1224.04 930.804,1224.04 \n",
       "  \"/>\n",
       "<polygon clip-path=\"url(#clip0804)\" points=\"\n",
       "334.792,1062.78 334.792,1425.62 392.94,1425.62 392.94,1062.78 334.792,1062.78 334.792,1062.78 \n",
       "  \" fill=\"#cd0000\" fill-rule=\"evenodd\" fill-opacity=\"1\"/>\n",
       "<polyline clip-path=\"url(#clip0804)\" style=\"stroke:#000000; stroke-width:4; stroke-opacity:1; fill:none\" points=\"\n",
       "  334.792,1062.78 334.792,1425.62 392.94,1425.62 392.94,1062.78 334.792,1062.78 \n",
       "  \"/>\n",
       "<polygon clip-path=\"url(#clip0804)\" points=\"\n",
       "552.845,1103.09 552.845,1425.62 610.993,1425.62 610.993,1103.09 552.845,1103.09 552.845,1103.09 \n",
       "  \" fill=\"#cd0000\" fill-rule=\"evenodd\" fill-opacity=\"1\"/>\n",
       "<polyline clip-path=\"url(#clip0804)\" style=\"stroke:#000000; stroke-width:4; stroke-opacity:1; fill:none\" points=\"\n",
       "  552.845,1103.09 552.845,1425.62 610.993,1425.62 610.993,1103.09 552.845,1103.09 \n",
       "  \"/>\n",
       "<polygon clip-path=\"url(#clip0804)\" points=\"\n",
       "770.898,1385.3 770.898,1425.62 829.046,1425.62 829.046,1385.3 770.898,1385.3 770.898,1385.3 \n",
       "  \" fill=\"#cd0000\" fill-rule=\"evenodd\" fill-opacity=\"1\"/>\n",
       "<polyline clip-path=\"url(#clip0804)\" style=\"stroke:#000000; stroke-width:4; stroke-opacity:1; fill:none\" points=\"\n",
       "  770.898,1385.3 770.898,1425.62 829.046,1425.62 829.046,1385.3 770.898,1385.3 \n",
       "  \"/>\n",
       "<polygon clip-path=\"url(#clip0804)\" points=\"\n",
       "988.952,1224.04 988.952,1425.62 1047.1,1425.62 1047.1,1224.04 988.952,1224.04 988.952,1224.04 \n",
       "  \" fill=\"#cd0000\" fill-rule=\"evenodd\" fill-opacity=\"1\"/>\n",
       "<polyline clip-path=\"url(#clip0804)\" style=\"stroke:#000000; stroke-width:4; stroke-opacity:1; fill:none\" points=\"\n",
       "  988.952,1224.04 988.952,1425.62 1047.1,1425.62 1047.1,1224.04 988.952,1224.04 \n",
       "  \"/>\n",
       "<polygon clip-path=\"url(#clip0804)\" points=\"\n",
       "392.94,1425.62 392.94,1425.62 451.087,1425.62 451.087,1425.62 392.94,1425.62 392.94,1425.62 \n",
       "  \" fill=\"#ffa500\" fill-rule=\"evenodd\" fill-opacity=\"1\"/>\n",
       "<polyline clip-path=\"url(#clip0804)\" style=\"stroke:#000000; stroke-width:4; stroke-opacity:1; fill:none\" points=\"\n",
       "  392.94,1425.62 392.94,1425.62 451.087,1425.62 392.94,1425.62 \n",
       "  \"/>\n",
       "<polygon clip-path=\"url(#clip0804)\" points=\"\n",
       "610.993,1385.3 610.993,1425.62 669.14,1425.62 669.14,1385.3 610.993,1385.3 610.993,1385.3 \n",
       "  \" fill=\"#ffa500\" fill-rule=\"evenodd\" fill-opacity=\"1\"/>\n",
       "<polyline clip-path=\"url(#clip0804)\" style=\"stroke:#000000; stroke-width:4; stroke-opacity:1; fill:none\" points=\"\n",
       "  610.993,1385.3 610.993,1425.62 669.14,1425.62 669.14,1385.3 610.993,1385.3 \n",
       "  \"/>\n",
       "<polygon clip-path=\"url(#clip0804)\" points=\"\n",
       "829.046,1425.62 829.046,1425.62 887.193,1425.62 887.193,1425.62 829.046,1425.62 829.046,1425.62 \n",
       "  \" fill=\"#ffa500\" fill-rule=\"evenodd\" fill-opacity=\"1\"/>\n",
       "<polyline clip-path=\"url(#clip0804)\" style=\"stroke:#000000; stroke-width:4; stroke-opacity:1; fill:none\" points=\"\n",
       "  829.046,1425.62 829.046,1425.62 887.193,1425.62 829.046,1425.62 \n",
       "  \"/>\n",
       "<polygon clip-path=\"url(#clip0804)\" points=\"\n",
       "1047.1,1425.62 1047.1,1425.62 1105.25,1425.62 1105.25,1425.62 1047.1,1425.62 1047.1,1425.62 \n",
       "  \" fill=\"#ffa500\" fill-rule=\"evenodd\" fill-opacity=\"1\"/>\n",
       "<polyline clip-path=\"url(#clip0804)\" style=\"stroke:#000000; stroke-width:4; stroke-opacity:1; fill:none\" points=\"\n",
       "  1047.1,1425.62 1047.1,1425.62 1105.25,1425.62 1047.1,1425.62 \n",
       "  \"/>\n",
       "<polygon clip-path=\"url(#clip0800)\" points=\"\n",
       "1367.28,1425.62 2352.76,1425.62 2352.76,847.244 1367.28,847.244 \n",
       "  \" fill=\"#ffffff\" fill-rule=\"evenodd\" fill-opacity=\"1\"/>\n",
       "<defs>\n",
       "  <clipPath id=\"clip0805\">\n",
       "    <rect x=\"1367\" y=\"847\" width=\"986\" height=\"579\"/>\n",
       "  </clipPath>\n",
       "</defs>\n",
       "<polygon clip-path=\"url(#clip0805)\" points=\"\n",
       "-17751,1136.43 -17751,1409.25 -17488.2,1409.25 -17488.2,1136.43 -17751,1136.43 -17751,1136.43 \n",
       "  \" fill=\"#00688b\" fill-rule=\"evenodd\" fill-opacity=\"1\"/>\n",
       "<polyline clip-path=\"url(#clip0805)\" style=\"stroke:#000000; stroke-width:4; stroke-opacity:1; fill:none\" points=\"\n",
       "  -17751,1136.43 -17751,1409.25 -17488.2,1409.25 -17488.2,1136.43 -17751,1136.43 \n",
       "  \"/>\n",
       "<polygon clip-path=\"url(#clip0805)\" points=\"\n",
       "-16765.5,1409.25 -16765.5,1409.25 -16502.7,1409.25 -16502.7,1409.25 -16765.5,1409.25 -16765.5,1409.25 \n",
       "  \" fill=\"#00688b\" fill-rule=\"evenodd\" fill-opacity=\"1\"/>\n",
       "<polyline clip-path=\"url(#clip0805)\" style=\"stroke:#000000; stroke-width:4; stroke-opacity:1; fill:none\" points=\"\n",
       "  -16765.5,1409.25 -16765.5,1409.25 -16502.7,1409.25 -16765.5,1409.25 \n",
       "  \"/>\n",
       "<polygon clip-path=\"url(#clip0805)\" points=\"\n",
       "-15780,1409.25 -15780,1409.25 -15517.2,1409.25 -15517.2,1409.25 -15780,1409.25 -15780,1409.25 \n",
       "  \" fill=\"#00688b\" fill-rule=\"evenodd\" fill-opacity=\"1\"/>\n",
       "<polyline clip-path=\"url(#clip0805)\" style=\"stroke:#000000; stroke-width:4; stroke-opacity:1; fill:none\" points=\"\n",
       "  -15780,1409.25 -15780,1409.25 -15517.2,1409.25 -15780,1409.25 \n",
       "  \"/>\n",
       "<polygon clip-path=\"url(#clip0805)\" points=\"\n",
       "-14794.5,863.613 -14794.5,1409.25 -14531.7,1409.25 -14531.7,863.613 -14794.5,863.613 -14794.5,863.613 \n",
       "  \" fill=\"#00688b\" fill-rule=\"evenodd\" fill-opacity=\"1\"/>\n",
       "<polyline clip-path=\"url(#clip0805)\" style=\"stroke:#000000; stroke-width:4; stroke-opacity:1; fill:none\" points=\"\n",
       "  -14794.5,863.613 -14794.5,1409.25 -14531.7,1409.25 -14531.7,863.613 -14794.5,863.613 \n",
       "  \"/>\n",
       "<polygon clip-path=\"url(#clip0805)\" points=\"\n",
       "-17488.2,1214.38 -17488.2,1409.25 -17225.4,1409.25 -17225.4,1214.38 -17488.2,1214.38 -17488.2,1214.38 \n",
       "  \" fill=\"#cd0000\" fill-rule=\"evenodd\" fill-opacity=\"1\"/>\n",
       "<polyline clip-path=\"url(#clip0805)\" style=\"stroke:#000000; stroke-width:4; stroke-opacity:1; fill:none\" points=\"\n",
       "  -17488.2,1214.38 -17488.2,1409.25 -17225.4,1409.25 -17225.4,1214.38 -17488.2,1214.38 \n",
       "  \"/>\n",
       "<polygon clip-path=\"url(#clip0805)\" points=\"\n",
       "-16502.7,1370.28 -16502.7,1409.25 -16239.9,1409.25 -16239.9,1370.28 -16502.7,1370.28 -16502.7,1370.28 \n",
       "  \" fill=\"#cd0000\" fill-rule=\"evenodd\" fill-opacity=\"1\"/>\n",
       "<polyline clip-path=\"url(#clip0805)\" style=\"stroke:#000000; stroke-width:4; stroke-opacity:1; fill:none\" points=\"\n",
       "  -16502.7,1370.28 -16502.7,1409.25 -16239.9,1409.25 -16239.9,1370.28 -16502.7,1370.28 \n",
       "  \"/>\n",
       "<polygon clip-path=\"url(#clip0805)\" points=\"\n",
       "-15517.2,1370.28 -15517.2,1409.25 -15254.4,1409.25 -15254.4,1370.28 -15517.2,1370.28 -15517.2,1370.28 \n",
       "  \" fill=\"#cd0000\" fill-rule=\"evenodd\" fill-opacity=\"1\"/>\n",
       "<polyline clip-path=\"url(#clip0805)\" style=\"stroke:#000000; stroke-width:4; stroke-opacity:1; fill:none\" points=\"\n",
       "  -15517.2,1370.28 -15517.2,1409.25 -15254.4,1409.25 -15254.4,1370.28 -15517.2,1370.28 \n",
       "  \"/>\n",
       "<polygon clip-path=\"url(#clip0805)\" points=\"\n",
       "-14531.7,863.613 -14531.7,1409.25 -14269,1409.25 -14269,863.613 -14531.7,863.613 -14531.7,863.613 \n",
       "  \" fill=\"#cd0000\" fill-rule=\"evenodd\" fill-opacity=\"1\"/>\n",
       "<polyline clip-path=\"url(#clip0805)\" style=\"stroke:#000000; stroke-width:4; stroke-opacity:1; fill:none\" points=\"\n",
       "  -14531.7,863.613 -14531.7,1409.25 -14269,1409.25 -14269,863.613 -14531.7,863.613 \n",
       "  \"/>\n",
       "<polygon clip-path=\"url(#clip0805)\" points=\"\n",
       "-17225.4,1331.3 -17225.4,1409.25 -16962.6,1409.25 -16962.6,1331.3 -17225.4,1331.3 -17225.4,1331.3 \n",
       "  \" fill=\"#ffa500\" fill-rule=\"evenodd\" fill-opacity=\"1\"/>\n",
       "<polyline clip-path=\"url(#clip0805)\" style=\"stroke:#000000; stroke-width:4; stroke-opacity:1; fill:none\" points=\"\n",
       "  -17225.4,1331.3 -17225.4,1409.25 -16962.6,1409.25 -16962.6,1331.3 -17225.4,1331.3 \n",
       "  \"/>\n",
       "<polygon clip-path=\"url(#clip0805)\" points=\"\n",
       "-16239.9,1370.28 -16239.9,1409.25 -15977.1,1409.25 -15977.1,1370.28 -16239.9,1370.28 -16239.9,1370.28 \n",
       "  \" fill=\"#ffa500\" fill-rule=\"evenodd\" fill-opacity=\"1\"/>\n",
       "<polyline clip-path=\"url(#clip0805)\" style=\"stroke:#000000; stroke-width:4; stroke-opacity:1; fill:none\" points=\"\n",
       "  -16239.9,1370.28 -16239.9,1409.25 -15977.1,1409.25 -15977.1,1370.28 -16239.9,1370.28 \n",
       "  \"/>\n",
       "<polygon clip-path=\"url(#clip0805)\" points=\"\n",
       "-15254.4,1409.25 -15254.4,1409.25 -14991.6,1409.25 -14991.6,1409.25 -15254.4,1409.25 -15254.4,1409.25 \n",
       "  \" fill=\"#ffa500\" fill-rule=\"evenodd\" fill-opacity=\"1\"/>\n",
       "<polyline clip-path=\"url(#clip0805)\" style=\"stroke:#000000; stroke-width:4; stroke-opacity:1; fill:none\" points=\"\n",
       "  -15254.4,1409.25 -15254.4,1409.25 -14991.6,1409.25 -15254.4,1409.25 \n",
       "  \"/>\n",
       "<polygon clip-path=\"url(#clip0805)\" points=\"\n",
       "-14269,1409.25 -14269,1409.25 -14006.2,1409.25 -14006.2,1409.25 -14269,1409.25 -14269,1409.25 \n",
       "  \" fill=\"#ffa500\" fill-rule=\"evenodd\" fill-opacity=\"1\"/>\n",
       "<polyline clip-path=\"url(#clip0805)\" style=\"stroke:#000000; stroke-width:4; stroke-opacity:1; fill:none\" points=\"\n",
       "  -14269,1409.25 -14269,1409.25 -14006.2,1409.25 -14269,1409.25 \n",
       "  \"/>\n",
       "<polygon clip-path=\"url(#clip0800)\" points=\"\n",
       "1439.28,1172.68 2080.57,1172.68 2080.57,930.764 1439.28,930.764 \n",
       "  \" fill=\"#ffffff\" fill-rule=\"evenodd\" fill-opacity=\"1\"/>\n",
       "<polyline clip-path=\"url(#clip0800)\" style=\"stroke:#000000; stroke-width:4; stroke-opacity:1; fill:none\" points=\"\n",
       "  1439.28,1172.68 2080.57,1172.68 2080.57,930.764 1439.28,930.764 1439.28,1172.68 \n",
       "  \"/>\n",
       "<polygon clip-path=\"url(#clip0800)\" points=\"\n",
       "1463.28,1015.44 1607.28,1015.44 1607.28,967.052 1463.28,967.052 1463.28,1015.44 \n",
       "  \" fill=\"#00688b\" fill-rule=\"evenodd\" fill-opacity=\"1\"/>\n",
       "<polyline clip-path=\"url(#clip0800)\" style=\"stroke:#000000; stroke-width:4; stroke-opacity:1; fill:none\" points=\"\n",
       "  1463.28,1015.44 1607.28,1015.44 1607.28,967.052 1463.28,967.052 1463.28,1015.44 \n",
       "  \"/>\n",
       "<g clip-path=\"url(#clip0800)\">\n",
       "<text style=\"fill:#000000; fill-opacity:1; font-family:Arial,Helvetica Neue,Helvetica,sans-serif; font-size:48px; text-anchor:start;\" transform=\"rotate(0, 1631.28, 1008.74)\" x=\"1631.28\" y=\"1008.74\">Produktionsmenge</text>\n",
       "</g>\n",
       "<polygon clip-path=\"url(#clip0800)\" points=\"\n",
       "1463.28,1075.92 1607.28,1075.92 1607.28,1027.53 1463.28,1027.53 1463.28,1075.92 \n",
       "  \" fill=\"#cd0000\" fill-rule=\"evenodd\" fill-opacity=\"1\"/>\n",
       "<polyline clip-path=\"url(#clip0800)\" style=\"stroke:#000000; stroke-width:4; stroke-opacity:1; fill:none\" points=\"\n",
       "  1463.28,1075.92 1607.28,1075.92 1607.28,1027.53 1463.28,1027.53 1463.28,1075.92 \n",
       "  \"/>\n",
       "<g clip-path=\"url(#clip0800)\">\n",
       "<text style=\"fill:#000000; fill-opacity:1; font-family:Arial,Helvetica Neue,Helvetica,sans-serif; font-size:48px; text-anchor:start;\" transform=\"rotate(0, 1631.28, 1069.22)\" x=\"1631.28\" y=\"1069.22\">Nachfrage</text>\n",
       "</g>\n",
       "<polygon clip-path=\"url(#clip0800)\" points=\"\n",
       "1463.28,1136.4 1607.28,1136.4 1607.28,1088.01 1463.28,1088.01 1463.28,1136.4 \n",
       "  \" fill=\"#ffa500\" fill-rule=\"evenodd\" fill-opacity=\"1\"/>\n",
       "<polyline clip-path=\"url(#clip0800)\" style=\"stroke:#000000; stroke-width:4; stroke-opacity:1; fill:none\" points=\"\n",
       "  1463.28,1136.4 1607.28,1136.4 1607.28,1088.01 1463.28,1088.01 1463.28,1136.4 \n",
       "  \"/>\n",
       "<g clip-path=\"url(#clip0800)\">\n",
       "<text style=\"fill:#000000; fill-opacity:1; font-family:Arial,Helvetica Neue,Helvetica,sans-serif; font-size:48px; text-anchor:start;\" transform=\"rotate(0, 1631.28, 1129.7)\" x=\"1631.28\" y=\"1129.7\">Lagerbestand</text>\n",
       "</g>\n",
       "</svg>\n"
      ]
     },
     "execution_count": 28,
     "metadata": {},
     "output_type": "execute_result"
    }
   ],
   "source": [
    "p1 = groupedbar(bardata[:,:,1,1], label=[\"Produktionsmenge\" \"Nachfrage\" \"Lagerbestand\"],legend=:none, \n",
    "                colour = [:DeepSkyBlue4 :Red3 :orange], title = \"Produkt 1\", xlabel = \"Periode\", \n",
    "                ylabel=\"Menge\", ylim=(0, 125))\n",
    "p2 = groupedbar(bardata[:,:,2], label=[\"Produktionsmenge\" \"Nachfrage\" \"Lagerbestand\"], legend=:none,\n",
    "                colour = [:DeepSkyBlue4 :Red3 :orange], title = \"Produkt 2\", xlabel = \"Periode\", \n",
    "                ylabel=\"Menge\", ylim=(0, 125))\n",
    "p3 = groupedbar(bardata[:,:,3], label=[\"Produktionsmenge\" \"Nachfrage\" \"Lagerbestand\"], legend=:none,\n",
    "                colour = [:DeepSkyBlue4 :Red3 :orange], title = \"Produkt 3\", xlabel = \"Periode\", \n",
    "                ylabel=\"Menge\", ylim=(0, 125))\n",
    "p4 = groupedbar(bardata[:,:,1,1], label=[\"Produktionsmenge\" \"Nachfrage\" \"Lagerbestand\"],legend=:topleft,\n",
    "                colour = [:DeepSkyBlue4 :Red3 :orange], grid=false, xlims=(20,3), showaxis=false)\n",
    "plot(p1, p2, p3, p4, layout = 4)\n"
   ]
  },
  {
   "cell_type": "markdown",
   "metadata": {
    "slideshow": {
     "slide_type": "slide"
    }
   },
   "source": [
    "Stellen Sie die Rüstvariable für die drei Produkte grafisch dar."
   ]
  },
  {
   "cell_type": "code",
   "execution_count": 23,
   "metadata": {},
   "outputs": [
    {
     "data": {
      "text/plain": [
       "3×4 Array{Float64,2}:\n",
       " 1.0  0.0  0.0  1.0\n",
       " 0.0  1.0  1.0  0.0\n",
       " 1.0  1.0  0.0  1.0"
      ]
     },
     "execution_count": 23,
     "metadata": {},
     "output_type": "execute_result"
    }
   ],
   "source": [
    "bardataGamma = [JuMP.value(gamma[i,t]) for i in 1:I, t in 1:T]"
   ]
  },
  {
   "cell_type": "code",
   "execution_count": 24,
   "metadata": {
    "scrolled": false,
    "slideshow": {
     "slide_type": "fragment"
    }
   },
   "outputs": [
    {
     "data": {
      "image/svg+xml": [
       "<?xml version=\"1.0\" encoding=\"utf-8\"?>\n",
       "<svg xmlns=\"http://www.w3.org/2000/svg\" xmlns:xlink=\"http://www.w3.org/1999/xlink\" width=\"600\" height=\"400\" viewBox=\"0 0 2400 1600\">\n",
       "<defs>\n",
       "  <clipPath id=\"clip9200\">\n",
       "    <rect x=\"0\" y=\"0\" width=\"2400\" height=\"1600\"/>\n",
       "  </clipPath>\n",
       "</defs>\n",
       "<polygon clip-path=\"url(#clip9200)\" points=\"\n",
       "0,1600 2400,1600 2400,0 0,0 \n",
       "  \" fill=\"#ffffff\" fill-rule=\"evenodd\" fill-opacity=\"1\"/>\n",
       "<defs>\n",
       "  <clipPath id=\"clip9201\">\n",
       "    <rect x=\"480\" y=\"0\" width=\"1681\" height=\"1600\"/>\n",
       "  </clipPath>\n",
       "</defs>\n",
       "<polygon clip-path=\"url(#clip9200)\" points=\"\n",
       "215.754,1425.62 2352.76,1425.62 2352.76,121.675 215.754,121.675 \n",
       "  \" fill=\"#ffffff\" fill-rule=\"evenodd\" fill-opacity=\"1\"/>\n",
       "<defs>\n",
       "  <clipPath id=\"clip9202\">\n",
       "    <rect x=\"215\" y=\"121\" width=\"2138\" height=\"1305\"/>\n",
       "  </clipPath>\n",
       "</defs>\n",
       "<polyline clip-path=\"url(#clip9202)\" style=\"stroke:#000000; stroke-width:2; stroke-opacity:0.1; fill:none\" points=\"\n",
       "  252.857,1425.62 252.857,121.675 \n",
       "  \"/>\n",
       "<polyline clip-path=\"url(#clip9202)\" style=\"stroke:#000000; stroke-width:2; stroke-opacity:0.1; fill:none\" points=\"\n",
       "  596.656,1425.62 596.656,121.675 \n",
       "  \"/>\n",
       "<polyline clip-path=\"url(#clip9202)\" style=\"stroke:#000000; stroke-width:2; stroke-opacity:0.1; fill:none\" points=\"\n",
       "  940.456,1425.62 940.456,121.675 \n",
       "  \"/>\n",
       "<polyline clip-path=\"url(#clip9202)\" style=\"stroke:#000000; stroke-width:2; stroke-opacity:0.1; fill:none\" points=\"\n",
       "  1284.25,1425.62 1284.25,121.675 \n",
       "  \"/>\n",
       "<polyline clip-path=\"url(#clip9202)\" style=\"stroke:#000000; stroke-width:2; stroke-opacity:0.1; fill:none\" points=\"\n",
       "  1628.05,1425.62 1628.05,121.675 \n",
       "  \"/>\n",
       "<polyline clip-path=\"url(#clip9202)\" style=\"stroke:#000000; stroke-width:2; stroke-opacity:0.1; fill:none\" points=\"\n",
       "  1971.85,1425.62 1971.85,121.675 \n",
       "  \"/>\n",
       "<polyline clip-path=\"url(#clip9202)\" style=\"stroke:#000000; stroke-width:2; stroke-opacity:0.1; fill:none\" points=\"\n",
       "  2315.65,1425.62 2315.65,121.675 \n",
       "  \"/>\n",
       "<polyline clip-path=\"url(#clip9202)\" style=\"stroke:#000000; stroke-width:2; stroke-opacity:0.1; fill:none\" points=\"\n",
       "  215.754,1425.62 2352.76,1425.62 \n",
       "  \"/>\n",
       "<polyline clip-path=\"url(#clip9202)\" style=\"stroke:#000000; stroke-width:2; stroke-opacity:0.1; fill:none\" points=\"\n",
       "  215.754,990.971 2352.76,990.971 \n",
       "  \"/>\n",
       "<polyline clip-path=\"url(#clip9202)\" style=\"stroke:#000000; stroke-width:2; stroke-opacity:0.1; fill:none\" points=\"\n",
       "  215.754,556.323 2352.76,556.323 \n",
       "  \"/>\n",
       "<polyline clip-path=\"url(#clip9202)\" style=\"stroke:#000000; stroke-width:2; stroke-opacity:0.1; fill:none\" points=\"\n",
       "  215.754,121.675 2352.76,121.675 \n",
       "  \"/>\n",
       "<polyline clip-path=\"url(#clip9200)\" style=\"stroke:#000000; stroke-width:4; stroke-opacity:1; fill:none\" points=\"\n",
       "  215.754,1425.62 2352.76,1425.62 \n",
       "  \"/>\n",
       "<polyline clip-path=\"url(#clip9200)\" style=\"stroke:#000000; stroke-width:4; stroke-opacity:1; fill:none\" points=\"\n",
       "  215.754,1425.62 215.754,121.675 \n",
       "  \"/>\n",
       "<polyline clip-path=\"url(#clip9200)\" style=\"stroke:#000000; stroke-width:4; stroke-opacity:1; fill:none\" points=\"\n",
       "  252.857,1425.62 252.857,1406.06 \n",
       "  \"/>\n",
       "<polyline clip-path=\"url(#clip9200)\" style=\"stroke:#000000; stroke-width:4; stroke-opacity:1; fill:none\" points=\"\n",
       "  596.656,1425.62 596.656,1406.06 \n",
       "  \"/>\n",
       "<polyline clip-path=\"url(#clip9200)\" style=\"stroke:#000000; stroke-width:4; stroke-opacity:1; fill:none\" points=\"\n",
       "  940.456,1425.62 940.456,1406.06 \n",
       "  \"/>\n",
       "<polyline clip-path=\"url(#clip9200)\" style=\"stroke:#000000; stroke-width:4; stroke-opacity:1; fill:none\" points=\"\n",
       "  1284.25,1425.62 1284.25,1406.06 \n",
       "  \"/>\n",
       "<polyline clip-path=\"url(#clip9200)\" style=\"stroke:#000000; stroke-width:4; stroke-opacity:1; fill:none\" points=\"\n",
       "  1628.05,1425.62 1628.05,1406.06 \n",
       "  \"/>\n",
       "<polyline clip-path=\"url(#clip9200)\" style=\"stroke:#000000; stroke-width:4; stroke-opacity:1; fill:none\" points=\"\n",
       "  1971.85,1425.62 1971.85,1406.06 \n",
       "  \"/>\n",
       "<polyline clip-path=\"url(#clip9200)\" style=\"stroke:#000000; stroke-width:4; stroke-opacity:1; fill:none\" points=\"\n",
       "  2315.65,1425.62 2315.65,1406.06 \n",
       "  \"/>\n",
       "<polyline clip-path=\"url(#clip9200)\" style=\"stroke:#000000; stroke-width:4; stroke-opacity:1; fill:none\" points=\"\n",
       "  215.754,1425.62 247.809,1425.62 \n",
       "  \"/>\n",
       "<polyline clip-path=\"url(#clip9200)\" style=\"stroke:#000000; stroke-width:4; stroke-opacity:1; fill:none\" points=\"\n",
       "  215.754,990.971 247.809,990.971 \n",
       "  \"/>\n",
       "<polyline clip-path=\"url(#clip9200)\" style=\"stroke:#000000; stroke-width:4; stroke-opacity:1; fill:none\" points=\"\n",
       "  215.754,556.323 247.809,556.323 \n",
       "  \"/>\n",
       "<polyline clip-path=\"url(#clip9200)\" style=\"stroke:#000000; stroke-width:4; stroke-opacity:1; fill:none\" points=\"\n",
       "  215.754,121.675 247.809,121.675 \n",
       "  \"/>\n",
       "<g clip-path=\"url(#clip9200)\">\n",
       "<text style=\"fill:#000000; fill-opacity:1; font-family:Arial,Helvetica Neue,Helvetica,sans-serif; font-size:48px; text-anchor:middle;\" transform=\"rotate(0, 252.857, 1479.62)\" x=\"252.857\" y=\"1479.62\">0.5</text>\n",
       "</g>\n",
       "<g clip-path=\"url(#clip9200)\">\n",
       "<text style=\"fill:#000000; fill-opacity:1; font-family:Arial,Helvetica Neue,Helvetica,sans-serif; font-size:48px; text-anchor:middle;\" transform=\"rotate(0, 596.656, 1479.62)\" x=\"596.656\" y=\"1479.62\">1.0</text>\n",
       "</g>\n",
       "<g clip-path=\"url(#clip9200)\">\n",
       "<text style=\"fill:#000000; fill-opacity:1; font-family:Arial,Helvetica Neue,Helvetica,sans-serif; font-size:48px; text-anchor:middle;\" transform=\"rotate(0, 940.456, 1479.62)\" x=\"940.456\" y=\"1479.62\">1.5</text>\n",
       "</g>\n",
       "<g clip-path=\"url(#clip9200)\">\n",
       "<text style=\"fill:#000000; fill-opacity:1; font-family:Arial,Helvetica Neue,Helvetica,sans-serif; font-size:48px; text-anchor:middle;\" transform=\"rotate(0, 1284.25, 1479.62)\" x=\"1284.25\" y=\"1479.62\">2.0</text>\n",
       "</g>\n",
       "<g clip-path=\"url(#clip9200)\">\n",
       "<text style=\"fill:#000000; fill-opacity:1; font-family:Arial,Helvetica Neue,Helvetica,sans-serif; font-size:48px; text-anchor:middle;\" transform=\"rotate(0, 1628.05, 1479.62)\" x=\"1628.05\" y=\"1479.62\">2.5</text>\n",
       "</g>\n",
       "<g clip-path=\"url(#clip9200)\">\n",
       "<text style=\"fill:#000000; fill-opacity:1; font-family:Arial,Helvetica Neue,Helvetica,sans-serif; font-size:48px; text-anchor:middle;\" transform=\"rotate(0, 1971.85, 1479.62)\" x=\"1971.85\" y=\"1479.62\">3.0</text>\n",
       "</g>\n",
       "<g clip-path=\"url(#clip9200)\">\n",
       "<text style=\"fill:#000000; fill-opacity:1; font-family:Arial,Helvetica Neue,Helvetica,sans-serif; font-size:48px; text-anchor:middle;\" transform=\"rotate(0, 2315.65, 1479.62)\" x=\"2315.65\" y=\"1479.62\">3.5</text>\n",
       "</g>\n",
       "<g clip-path=\"url(#clip9200)\">\n",
       "<text style=\"fill:#000000; fill-opacity:1; font-family:Arial,Helvetica Neue,Helvetica,sans-serif; font-size:48px; text-anchor:end;\" transform=\"rotate(0, 191.754, 1443.12)\" x=\"191.754\" y=\"1443.12\">0.0</text>\n",
       "</g>\n",
       "<g clip-path=\"url(#clip9200)\">\n",
       "<text style=\"fill:#000000; fill-opacity:1; font-family:Arial,Helvetica Neue,Helvetica,sans-serif; font-size:48px; text-anchor:end;\" transform=\"rotate(0, 191.754, 1008.47)\" x=\"191.754\" y=\"1008.47\">0.5</text>\n",
       "</g>\n",
       "<g clip-path=\"url(#clip9200)\">\n",
       "<text style=\"fill:#000000; fill-opacity:1; font-family:Arial,Helvetica Neue,Helvetica,sans-serif; font-size:48px; text-anchor:end;\" transform=\"rotate(0, 191.754, 573.823)\" x=\"191.754\" y=\"573.823\">1.0</text>\n",
       "</g>\n",
       "<g clip-path=\"url(#clip9200)\">\n",
       "<text style=\"fill:#000000; fill-opacity:1; font-family:Arial,Helvetica Neue,Helvetica,sans-serif; font-size:48px; text-anchor:end;\" transform=\"rotate(0, 191.754, 139.175)\" x=\"191.754\" y=\"139.175\">1.5</text>\n",
       "</g>\n",
       "<g clip-path=\"url(#clip9200)\">\n",
       "<text style=\"fill:#000000; fill-opacity:1; font-family:Arial,Helvetica Neue,Helvetica,sans-serif; font-size:84px; text-anchor:middle;\" transform=\"rotate(0, 1284.25, 73.2)\" x=\"1284.25\" y=\"73.2\">Rüstvariablen der Produkte</text>\n",
       "</g>\n",
       "<g clip-path=\"url(#clip9200)\">\n",
       "<text style=\"fill:#000000; fill-opacity:1; font-family:Arial,Helvetica Neue,Helvetica,sans-serif; font-size:66px; text-anchor:middle;\" transform=\"rotate(0, 1284.25, 1559.48)\" x=\"1284.25\" y=\"1559.48\">Periode</text>\n",
       "</g>\n",
       "<g clip-path=\"url(#clip9200)\">\n",
       "<text style=\"fill:#000000; fill-opacity:1; font-family:Arial,Helvetica Neue,Helvetica,sans-serif; font-size:66px; text-anchor:middle;\" transform=\"rotate(-90, 89.2861, 773.647)\" x=\"89.2861\" y=\"773.647\">Rüstvariable</text>\n",
       "</g>\n",
       "<polygon clip-path=\"url(#clip9202)\" points=\"\n",
       "321.617,556.323 321.617,1425.62 459.137,1425.62 459.137,556.323 321.617,556.323 321.617,556.323 \n",
       "  \" fill=\"#00688b\" fill-rule=\"evenodd\" fill-opacity=\"1\"/>\n",
       "<polyline clip-path=\"url(#clip9202)\" style=\"stroke:#000000; stroke-width:4; stroke-opacity:1; fill:none\" points=\"\n",
       "  321.617,556.323 321.617,1425.62 459.137,1425.62 459.137,556.323 321.617,556.323 \n",
       "  \"/>\n",
       "<polygon clip-path=\"url(#clip9202)\" points=\"\n",
       "1009.22,1425.62 1009.22,1425.62 1146.74,1425.62 1146.74,1425.62 1009.22,1425.62 1009.22,1425.62 \n",
       "  \" fill=\"#00688b\" fill-rule=\"evenodd\" fill-opacity=\"1\"/>\n",
       "<polyline clip-path=\"url(#clip9202)\" style=\"stroke:#000000; stroke-width:4; stroke-opacity:1; fill:none\" points=\"\n",
       "  1009.22,1425.62 1009.22,1425.62 1146.74,1425.62 1009.22,1425.62 \n",
       "  \"/>\n",
       "<polygon clip-path=\"url(#clip9202)\" points=\"\n",
       "1696.81,556.323 1696.81,1425.62 1834.33,1425.62 1834.33,556.323 1696.81,556.323 1696.81,556.323 \n",
       "  \" fill=\"#00688b\" fill-rule=\"evenodd\" fill-opacity=\"1\"/>\n",
       "<polyline clip-path=\"url(#clip9202)\" style=\"stroke:#000000; stroke-width:4; stroke-opacity:1; fill:none\" points=\"\n",
       "  1696.81,556.323 1696.81,1425.62 1834.33,1425.62 1834.33,556.323 1696.81,556.323 \n",
       "  \"/>\n",
       "<polygon clip-path=\"url(#clip9202)\" points=\"\n",
       "459.137,1425.62 459.137,1425.62 596.656,1425.62 596.656,1425.62 459.137,1425.62 459.137,1425.62 \n",
       "  \" fill=\"#d6d6d6\" fill-rule=\"evenodd\" fill-opacity=\"1\"/>\n",
       "<polyline clip-path=\"url(#clip9202)\" style=\"stroke:#000000; stroke-width:4; stroke-opacity:1; fill:none\" points=\"\n",
       "  459.137,1425.62 459.137,1425.62 596.656,1425.62 459.137,1425.62 \n",
       "  \"/>\n",
       "<polygon clip-path=\"url(#clip9202)\" points=\"\n",
       "1146.74,556.323 1146.74,1425.62 1284.25,1425.62 1284.25,556.323 1146.74,556.323 1146.74,556.323 \n",
       "  \" fill=\"#d6d6d6\" fill-rule=\"evenodd\" fill-opacity=\"1\"/>\n",
       "<polyline clip-path=\"url(#clip9202)\" style=\"stroke:#000000; stroke-width:4; stroke-opacity:1; fill:none\" points=\"\n",
       "  1146.74,556.323 1146.74,1425.62 1284.25,1425.62 1284.25,556.323 1146.74,556.323 \n",
       "  \"/>\n",
       "<polygon clip-path=\"url(#clip9202)\" points=\"\n",
       "1834.33,556.323 1834.33,1425.62 1971.85,1425.62 1971.85,556.323 1834.33,556.323 1834.33,556.323 \n",
       "  \" fill=\"#d6d6d6\" fill-rule=\"evenodd\" fill-opacity=\"1\"/>\n",
       "<polyline clip-path=\"url(#clip9202)\" style=\"stroke:#000000; stroke-width:4; stroke-opacity:1; fill:none\" points=\"\n",
       "  1834.33,556.323 1834.33,1425.62 1971.85,1425.62 1971.85,556.323 1834.33,556.323 \n",
       "  \"/>\n",
       "<polygon clip-path=\"url(#clip9202)\" points=\"\n",
       "596.656,1425.62 596.656,1425.62 734.176,1425.62 734.176,1425.62 596.656,1425.62 596.656,1425.62 \n",
       "  \" fill=\"#cd0000\" fill-rule=\"evenodd\" fill-opacity=\"1\"/>\n",
       "<polyline clip-path=\"url(#clip9202)\" style=\"stroke:#000000; stroke-width:4; stroke-opacity:1; fill:none\" points=\"\n",
       "  596.656,1425.62 596.656,1425.62 734.176,1425.62 596.656,1425.62 \n",
       "  \"/>\n",
       "<polygon clip-path=\"url(#clip9202)\" points=\"\n",
       "1284.25,556.323 1284.25,1425.62 1421.77,1425.62 1421.77,556.323 1284.25,556.323 1284.25,556.323 \n",
       "  \" fill=\"#cd0000\" fill-rule=\"evenodd\" fill-opacity=\"1\"/>\n",
       "<polyline clip-path=\"url(#clip9202)\" style=\"stroke:#000000; stroke-width:4; stroke-opacity:1; fill:none\" points=\"\n",
       "  1284.25,556.323 1284.25,1425.62 1421.77,1425.62 1421.77,556.323 1284.25,556.323 \n",
       "  \"/>\n",
       "<polygon clip-path=\"url(#clip9202)\" points=\"\n",
       "1971.85,1425.62 1971.85,1425.62 2109.37,1425.62 2109.37,1425.62 1971.85,1425.62 1971.85,1425.62 \n",
       "  \" fill=\"#cd0000\" fill-rule=\"evenodd\" fill-opacity=\"1\"/>\n",
       "<polyline clip-path=\"url(#clip9202)\" style=\"stroke:#000000; stroke-width:4; stroke-opacity:1; fill:none\" points=\"\n",
       "  1971.85,1425.62 1971.85,1425.62 2109.37,1425.62 1971.85,1425.62 \n",
       "  \"/>\n",
       "<polygon clip-path=\"url(#clip9202)\" points=\"\n",
       "734.176,556.323 734.176,1425.62 871.696,1425.62 871.696,556.323 734.176,556.323 734.176,556.323 \n",
       "  \" fill=\"#00688b\" fill-rule=\"evenodd\" fill-opacity=\"1\"/>\n",
       "<polyline clip-path=\"url(#clip9202)\" style=\"stroke:#000000; stroke-width:4; stroke-opacity:1; fill:none\" points=\"\n",
       "  734.176,556.323 734.176,1425.62 871.696,1425.62 871.696,556.323 734.176,556.323 \n",
       "  \"/>\n",
       "<polygon clip-path=\"url(#clip9202)\" points=\"\n",
       "1421.77,1425.62 1421.77,1425.62 1559.29,1425.62 1559.29,1425.62 1421.77,1425.62 1421.77,1425.62 \n",
       "  \" fill=\"#00688b\" fill-rule=\"evenodd\" fill-opacity=\"1\"/>\n",
       "<polyline clip-path=\"url(#clip9202)\" style=\"stroke:#000000; stroke-width:4; stroke-opacity:1; fill:none\" points=\"\n",
       "  1421.77,1425.62 1421.77,1425.62 1559.29,1425.62 1421.77,1425.62 \n",
       "  \"/>\n",
       "<polygon clip-path=\"url(#clip9202)\" points=\"\n",
       "2109.37,556.323 2109.37,1425.62 2246.89,1425.62 2246.89,556.323 2109.37,556.323 2109.37,556.323 \n",
       "  \" fill=\"#00688b\" fill-rule=\"evenodd\" fill-opacity=\"1\"/>\n",
       "<polyline clip-path=\"url(#clip9202)\" style=\"stroke:#000000; stroke-width:4; stroke-opacity:1; fill:none\" points=\"\n",
       "  2109.37,556.323 2109.37,1425.62 2246.89,1425.62 2246.89,556.323 2109.37,556.323 \n",
       "  \"/>\n",
       "<polygon clip-path=\"url(#clip9200)\" points=\"\n",
       "1834.74,507.595 2280.76,507.595 2280.76,205.195 1834.74,205.195 \n",
       "  \" fill=\"#ffffff\" fill-rule=\"evenodd\" fill-opacity=\"1\"/>\n",
       "<polyline clip-path=\"url(#clip9200)\" style=\"stroke:#000000; stroke-width:4; stroke-opacity:1; fill:none\" points=\"\n",
       "  1834.74,507.595 2280.76,507.595 2280.76,205.195 1834.74,205.195 1834.74,507.595 \n",
       "  \"/>\n",
       "<polygon clip-path=\"url(#clip9200)\" points=\"\n",
       "1858.74,289.867 2002.74,289.867 2002.74,241.483 1858.74,241.483 1858.74,289.867 \n",
       "  \" fill=\"#00688b\" fill-rule=\"evenodd\" fill-opacity=\"1\"/>\n",
       "<polyline clip-path=\"url(#clip9200)\" style=\"stroke:#000000; stroke-width:4; stroke-opacity:1; fill:none\" points=\"\n",
       "  1858.74,289.867 2002.74,289.867 2002.74,241.483 1858.74,241.483 1858.74,289.867 \n",
       "  \"/>\n",
       "<g clip-path=\"url(#clip9200)\">\n",
       "<text style=\"fill:#000000; fill-opacity:1; font-family:Arial,Helvetica Neue,Helvetica,sans-serif; font-size:48px; text-anchor:start;\" transform=\"rotate(0, 2026.74, 283.175)\" x=\"2026.74\" y=\"283.175\">Produkt 1</text>\n",
       "</g>\n",
       "<polygon clip-path=\"url(#clip9200)\" points=\"\n",
       "1858.74,350.347 2002.74,350.347 2002.74,301.963 1858.74,301.963 1858.74,350.347 \n",
       "  \" fill=\"#d6d6d6\" fill-rule=\"evenodd\" fill-opacity=\"1\"/>\n",
       "<polyline clip-path=\"url(#clip9200)\" style=\"stroke:#000000; stroke-width:4; stroke-opacity:1; fill:none\" points=\"\n",
       "  1858.74,350.347 2002.74,350.347 2002.74,301.963 1858.74,301.963 1858.74,350.347 \n",
       "  \"/>\n",
       "<g clip-path=\"url(#clip9200)\">\n",
       "<text style=\"fill:#000000; fill-opacity:1; font-family:Arial,Helvetica Neue,Helvetica,sans-serif; font-size:48px; text-anchor:start;\" transform=\"rotate(0, 2026.74, 343.655)\" x=\"2026.74\" y=\"343.655\">Produkt 2</text>\n",
       "</g>\n",
       "<polygon clip-path=\"url(#clip9200)\" points=\"\n",
       "1858.74,410.827 2002.74,410.827 2002.74,362.443 1858.74,362.443 1858.74,410.827 \n",
       "  \" fill=\"#cd0000\" fill-rule=\"evenodd\" fill-opacity=\"1\"/>\n",
       "<polyline clip-path=\"url(#clip9200)\" style=\"stroke:#000000; stroke-width:4; stroke-opacity:1; fill:none\" points=\"\n",
       "  1858.74,410.827 2002.74,410.827 2002.74,362.443 1858.74,362.443 1858.74,410.827 \n",
       "  \"/>\n",
       "<g clip-path=\"url(#clip9200)\">\n",
       "<text style=\"fill:#000000; fill-opacity:1; font-family:Arial,Helvetica Neue,Helvetica,sans-serif; font-size:48px; text-anchor:start;\" transform=\"rotate(0, 2026.74, 404.135)\" x=\"2026.74\" y=\"404.135\">Produkt 3</text>\n",
       "</g>\n",
       "<polygon clip-path=\"url(#clip9200)\" points=\"\n",
       "1858.74,471.307 2002.74,471.307 2002.74,422.923 1858.74,422.923 1858.74,471.307 \n",
       "  \" fill=\"#00688b\" fill-rule=\"evenodd\" fill-opacity=\"1\"/>\n",
       "<polyline clip-path=\"url(#clip9200)\" style=\"stroke:#000000; stroke-width:4; stroke-opacity:1; fill:none\" points=\"\n",
       "  1858.74,471.307 2002.74,471.307 2002.74,422.923 1858.74,422.923 1858.74,471.307 \n",
       "  \"/>\n",
       "<g clip-path=\"url(#clip9200)\">\n",
       "<text style=\"fill:#000000; fill-opacity:1; font-family:Arial,Helvetica Neue,Helvetica,sans-serif; font-size:48px; text-anchor:start;\" transform=\"rotate(0, 2026.74, 464.615)\" x=\"2026.74\" y=\"464.615\">Produkt 1</text>\n",
       "</g>\n",
       "</svg>\n"
      ]
     },
     "execution_count": 24,
     "metadata": {},
     "output_type": "execute_result"
    }
   ],
   "source": [
    "groupedbar(bardataGamma, label=[\"Produkt 1\" \"Produkt 2\" \"Produkt 3\"], xlabel = \"Periode\",\n",
    "           ylabel = \"Rüstvariable\", title = \"Rüstvariablen der Produkte\",\n",
    "           colour = [:DeepSkyBlue4 :grey84 :Red3], ylim = (0,1.5))\n"
   ]
  }
 ],
 "metadata": {
  "kernelspec": {
   "display_name": "Julia 1.2.0",
   "language": "julia",
   "name": "julia-1.2"
  },
  "language_info": {
   "file_extension": ".jl",
   "mimetype": "application/julia",
   "name": "julia",
   "version": "1.2.0"
  }
 },
 "nbformat": 4,
 "nbformat_minor": 2
}
