{
 "cells": [
  {
   "cell_type": "markdown",
   "metadata": {
    "slideshow": {
     "slide_type": "slide"
    }
   },
   "source": [
    "## Einrichtung von Julia JuMP\n",
    "---"
   ]
  },
  {
   "cell_type": "markdown",
   "metadata": {
    "slideshow": {
     "slide_type": "fragment"
    }
   },
   "source": [
    "Überprüfen Sie die bereits installierten Pakete. In der JuliaBox sind möglicherweise alle notwendigen Pakete bereits vorhanden.\n"
   ]
  },
  {
   "cell_type": "code",
   "execution_count": null,
   "metadata": {
    "scrolled": true,
    "slideshow": {
     "slide_type": "fragment"
    }
   },
   "outputs": [],
   "source": [
    "using Pkg;\n",
    "Pkg.status()"
   ]
  },
  {
   "cell_type": "markdown",
   "metadata": {
    "slideshow": {
     "slide_type": "slide"
    }
   },
   "source": [
    "Installieren Sie ``JuMP`` , mit dem Sie einfach Optimierungsprogramme formulieren können. Sowie ``GLPK`` einen open-source Solver zum Lösen der Problem und ``StatsPlots`` zur Visualisierung der Lösung.\n"
   ]
  },
  {
   "cell_type": "code",
   "execution_count": null,
   "metadata": {
    "slideshow": {
     "slide_type": "fragment"
    }
   },
   "outputs": [],
   "source": [
    "#Pkg.add(\"JuMP\")\n",
    "#Pkg.add(\"GLPK\");\n",
    "#Pkg.add(\"StatsPlots\");"
   ]
  },
  {
   "cell_type": "markdown",
   "metadata": {
    "slideshow": {
     "slide_type": "slide"
    }
   },
   "source": [
    "Initialisieren Sie die installierten Pakete, damit sie im folgenden Notebook verwendet werden können."
   ]
  },
  {
   "cell_type": "code",
   "execution_count": null,
   "metadata": {
    "slideshow": {
     "slide_type": "fragment"
    }
   },
   "outputs": [],
   "source": [
    "using JuMP, GLPK, StatsPlots;"
   ]
  },
  {
   "cell_type": "markdown",
   "metadata": {
    "slideshow": {
     "slide_type": "slide"
    }
   },
   "source": [
    "# Produktionsprogrammplanung\n",
    "### Entscheidungsvariablen:\n",
    "Bestimmung der optimalen **Produktionsmengen** der einzelnen Produkte,\n",
    "\n",
    "### Zielfunktion:\n",
    "0) **Deckungsbeitragsmaximierung**: $ \\qquad \\max db = \\displaystyle\\sum_{i=1}^I(e_i - k_i^v)\\cdot X_i $\n",
    "\n"
   ]
  },
  {
   "cell_type": "markdown",
   "metadata": {
    "slideshow": {
     "slide_type": "slide"
    }
   },
   "source": [
    "### Nebenbedingungen:\n",
    "\n",
    "\n",
    "1) **Kapazitätsrestriktion:** $\\hspace{50mm} \\sum_{i=1}^I(r_{ij}\\cdot X_i) \\leq c_j \\hspace{29mm} \\forall j \\in J $\n",
    "\n",
    "2) **Absatzobergrenze:** $ \\hspace{54mm} X_i \\leq d_i \\hspace{49mm} \\forall i \\in I $\n",
    "\n",
    "3) **Nichtnegativitätsbedingung:** $ \\hspace{38mm} X_i \\geq 0 \\hspace{50mm}    \\forall i \\in I $\n",
    "\n",
    "\n",
    "* * * \n"
   ]
  },
  {
   "cell_type": "markdown",
   "metadata": {
    "slideshow": {
     "slide_type": "slide"
    }
   },
   "source": [
    "## Verwendete Symbole"
   ]
  },
  {
   "cell_type": "markdown",
   "metadata": {
    "slideshow": {
     "slide_type": "fragment"
    }
   },
   "source": [
    "### Mengen\n",
    "\n",
    "$i \\in (1,..,I) \\hspace{20mm}$ Produkte\n",
    "\n",
    "$j \\in (1,..,J) \\hspace{20mm}$ Ressourcen\n",
    "\n",
    "\n"
   ]
  },
  {
   "cell_type": "markdown",
   "metadata": {
    "slideshow": {
     "slide_type": "fragment"
    }
   },
   "source": [
    "### Variablen\n",
    "\n",
    "$X_i$     $\\geq0 \\hspace{30mm}$ Produktionsmenge\n",
    "\n",
    "\n",
    "\n"
   ]
  },
  {
   "cell_type": "markdown",
   "metadata": {
    "slideshow": {
     "slide_type": "fragment"
    }
   },
   "source": [
    "### Parameter \n",
    "\n",
    "$e_i \\hspace{39mm}$   Erlös von Produkt i  \n",
    "\n",
    "$k_i^v \\hspace{38mm}$  Variable Kosten bei Herstellung von Produkt i \n",
    "\n",
    "$d_i \\hspace{39mm}$  Absatzobergrenze von Produkt i   \n",
    "\n",
    "$r_{ij} \\hspace{38mm}$  Produktionskoeffizient von Produkt i bezüglich Ressource j  \n",
    "\n",
    "$c_j \\hspace{39mm}$  Kapazität von Ressource j\n",
    "\n",
    "\n",
    "* * *\n"
   ]
  },
  {
   "cell_type": "markdown",
   "metadata": {
    "slideshow": {
     "slide_type": "slide"
    }
   },
   "source": [
    "## Erstellen Sie das Modell namens ``m`` und geben Sie als zu verwendenden Solver GLPK an.\n",
    "---"
   ]
  },
  {
   "cell_type": "code",
   "execution_count": null,
   "metadata": {
    "slideshow": {
     "slide_type": "fragment"
    }
   },
   "outputs": [],
   "source": [
    "m = Model(with_optimizer(GLPK.Optimizer));\n",
    "\n",
    "# Auf diese Weise wird das Modell m erstellt\n",
    "# In Klammern wird angegeben, dass der Solver GLPK zur Lösung des Modells herangezogen wird"
   ]
  },
  {
   "cell_type": "markdown",
   "metadata": {},
   "source": [
    "### Mengen und Parameter"
   ]
  },
  {
   "cell_type": "markdown",
   "metadata": {
    "slideshow": {
     "slide_type": "fragment"
    }
   },
   "source": [
    "Fügen Sie die Mengen ein."
   ]
  },
  {
   "cell_type": "code",
   "execution_count": null,
   "metadata": {
    "slideshow": {
     "slide_type": "fragment"
    }
   },
   "outputs": [],
   "source": [
    "#Mengen\n",
    "Produkte =   [\"Normal\", \"Grande\"];\n",
    "Ressourcen = [\"Holz\", \"Schrauben\", \"Scharniere\"];\n",
    "\n",
    "# Mengen werden auf diese Weise erstellt. \n",
    "# Sind die Mengenelemente Worte, werden diese in Anführungszeichen gesetzt\n",
    "\n",
    "#Längen\n",
    "I = length(Produkte);\n",
    "J = length(Ressourcen);\n",
    "\n",
    "# Mit der Funktion length bestimmen wir die Anzahl der Elemente in den jeweiligen Mengen\n",
    "# Diese Information benötigen wir später zur Erstellung von Variablen, Nebenbedingungen etc."
   ]
  },
  {
   "cell_type": "markdown",
   "metadata": {
    "slideshow": {
     "slide_type": "slide"
    }
   },
   "source": [
    "Fügen Sie die Parameter ein."
   ]
  },
  {
   "cell_type": "code",
   "execution_count": null,
   "metadata": {
    "slideshow": {
     "slide_type": "fragment"
    }
   },
   "outputs": [],
   "source": [
    "e  = [30, 40];          # Erlös von Produkt i\n",
    "kv = [20, 25];          # variable Herstellkosten von Produkt i\n",
    "d  = [100, 100];        # Nachfrage nach Produkt i\n",
    "c =  [2400, 4000, 900]; # Kapazität von Ressource j\n",
    "\n",
    "# Eindimensionale Parameter werden wie oben dargestellt eingegeben\n",
    "\n",
    "      #Holz, Schrauben, Scharniere\n",
    "r  = [  6       20         4        #Normal\n",
    "        20      20         9     ]; #Grande\n",
    "#Produktionskoeffizient von Produkt i bezüglich Ressource j\n",
    "\n",
    "# Zweidimensionle Parameter können als Matrix Dargestellt werden.\n",
    "# Achten Sie darauf, dass die Zahlen der jeweiligen Spalten exakt untereinander stehen."
   ]
  },
  {
   "cell_type": "markdown",
   "metadata": {
    "slideshow": {
     "slide_type": "slide"
    }
   },
   "source": [
    "### Entscheidungsvariable\n",
    "---\n",
    "Definieren Sie die Entscheidungsvariable. Achten Sie auf den Definitionsbereich (Nebenbedingung 3)."
   ]
  },
  {
   "cell_type": "markdown",
   "metadata": {
    "slideshow": {
     "slide_type": "fragment"
    }
   },
   "source": [
    "3) **Nichtnegativitätsbedingung**: Da keine negativen Mengen der Produkte produziert werden können, wird zusätzlich eine Nichtnegativitätsbedingung eingeführt.\n",
    "\n",
    " $ \\qquad X_i \\geq 0 \\qquad \\qquad \\qquad    \\forall i \\in I $"
   ]
  },
  {
   "cell_type": "code",
   "execution_count": null,
   "metadata": {
    "slideshow": {
     "slide_type": "fragment"
    }
   },
   "outputs": [],
   "source": [
    "@variable(m, X[1:I] >= 0);\n",
    "\n",
    "# mit der Funktion @variable wird eine neue Variable erstellt\n",
    "# (m, gibt an, dass diese Variable dem oben erstellten Modell m zugeordnet ist\n",
    "# Die Variable wird mit X bezeichnet\n",
    "# und hat einen Index (i) der von 1 bis I (also 2) läuft\n",
    "# innerhalb des Definitionsbereiches kann mit >=0 direkt die Nichtnegativitätsbedingung eingegeben werden\n",
    "# [Binärvariablen könnten Alternativ mit der Information \",Bin\" angegeben werden]"
   ]
  },
  {
   "cell_type": "markdown",
   "metadata": {
    "slideshow": {
     "slide_type": "slide"
    }
   },
   "source": [
    "## Zielfunktion\n",
    "\n",
    "0) **Deckungsbeitragsmaximierung**: Der Gesamtdeckungsbeitrag db soll maximiert werden. Dieser berechnet sich aus der Summe der einzelnen Produktdeckungsbeiträge (Produkterlös abzüglich variabler Kosten), multipliziert mit den entsprechenden Produktionsmengen der verschiedenen Güter.\n",
    "\n",
    "$ \\qquad \\max db = \\displaystyle\\sum_{i=1}^I(e_i - k_i^v)\\cdot X_i $ \n",
    "\n",
    " * * *\n",
    " "
   ]
  },
  {
   "cell_type": "code",
   "execution_count": null,
   "metadata": {
    "slideshow": {
     "slide_type": "fragment"
    }
   },
   "outputs": [],
   "source": [
    "@objective(m, Max,  sum((e[i] - kv[i]) * X[i] for i=1:I));\n",
    "\n",
    "# Die Funktion @objective(m, erstellt eine Zielfunktion für das Modell m\n",
    "# mit sum( wird eine Summe abgebildet\n",
    "# der Bereich über den summiert wird steht hinter dem for\n",
    "# hier wird über alle i (also alle Produkte) von 1 bis I summiert"
   ]
  },
  {
   "cell_type": "markdown",
   "metadata": {
    "slideshow": {
     "slide_type": "slide"
    }
   },
   "source": [
    "## Nebenbedingungen\n"
   ]
  },
  {
   "cell_type": "markdown",
   "metadata": {
    "slideshow": {
     "slide_type": "fragment"
    }
   },
   "source": [
    "1) **Kapazitätsrestriktion**: Eventuell gibt es für die Ressoucen Kapazitätsbeschränkungen für die auf ihnen mögliche Produktionszeit. Die Summe der Gesamtproduktionszeit aller Produkte i= 1,...,I auf den einzelnen Ressourcen j darf dann die jeweils verfügbare Kapazität $ c_j $  nicht überschreiten.\n",
    "\n",
    "$\\qquad \\sum_{i=1}^I(r_{ij}\\cdot X_i) \\leq c_j \\qquad \\forall j \\in J $\n",
    "\n"
   ]
  },
  {
   "cell_type": "code",
   "execution_count": null,
   "metadata": {
    "slideshow": {
     "slide_type": "fragment"
    }
   },
   "outputs": [],
   "source": [
    "@constraint(m, KapRes[j=1:J], sum(r[i,j] * X[i] for i=1:I) <= c[j] );\n",
    "\n",
    "# Nebenbedingungen werden mit der Funktion @constraint eingegeben\n",
    "# Nebenbedingungen erhalten einen Namen, in diesem Fall KapRes\n",
    "# In eckigen Klammern nach dem Namen wird angegeben für welche Indizes diese Nebenbedingung erstellt werden soll\n",
    "# Hier wird je eine Nebenbedingung für alle j (also Ressourcen) von 1 bis J (also 1-3) erstellt\n",
    "\n",
    "# Enthält eine Nebenbedingung ein Gleichzeichen (=) muss dies in Julia doppelt (==) eingegeben werden"
   ]
  },
  {
   "cell_type": "markdown",
   "metadata": {
    "slideshow": {
     "slide_type": "fragment"
    }
   },
   "source": [
    "2) **Absatzobergrenze**: Es besteht die Möglichkeit, dass für die Produkte Absatzobergrenzen basierend auf der Nachfrage existieren. Die produzierte Menge der einzelnen Produkte i darf dann diese Absatzobergrenze nicht überschreiten.\n",
    "\n",
    " $ \\qquad X_i \\leq d_i \\qquad \\qquad \\qquad \\forall i \\in I $\n"
   ]
  },
  {
   "cell_type": "code",
   "execution_count": null,
   "metadata": {
    "slideshow": {
     "slide_type": "fragment"
    }
   },
   "outputs": [],
   "source": [
    "@constraint(m, AbsOb[i=1:I], X[i] <= d[i]);"
   ]
  },
  {
   "cell_type": "markdown",
   "metadata": {
    "slideshow": {
     "slide_type": "slide"
    }
   },
   "source": [
    "## Lösen Sie das Modell.\n",
    "---"
   ]
  },
  {
   "cell_type": "code",
   "execution_count": null,
   "metadata": {
    "slideshow": {
     "slide_type": "fragment"
    }
   },
   "outputs": [],
   "source": [
    "optimize!(m)\n",
    "\n",
    "# mit dem Befehl optimize! wird das soeben erstellte Modell gelöst"
   ]
  },
  {
   "cell_type": "markdown",
   "metadata": {},
   "source": [
    "Lassen Sie sich das Gesamtmodell anzeigen."
   ]
  },
  {
   "cell_type": "code",
   "execution_count": null,
   "metadata": {},
   "outputs": [],
   "source": [
    "m\n",
    "\n",
    "# führen Sie ausschließlich m aus wird, können Sie sich das mathematische Modell komplett anzeigen lassen"
   ]
  },
  {
   "cell_type": "markdown",
   "metadata": {
    "slideshow": {
     "slide_type": "fragment"
    }
   },
   "source": [
    "Lassen Sie sich den Zielfunktionswert anzeigen.\n"
   ]
  },
  {
   "cell_type": "code",
   "execution_count": null,
   "metadata": {
    "slideshow": {
     "slide_type": "fragment"
    }
   },
   "outputs": [],
   "source": [
    "db = JuMP.objective_value(m)\n",
    "\n",
    "# mit dem Befehl JuMP.objective_value(m) lassen Sie sich den Zielfunktionswert des gelösten Modells ausgeben\n",
    "# hier wird der Zielfunktionswert zunächst dem Parameter db zugewiesen\n",
    "\n",
    "println(\"Objective value db: \", round(Int64,db))\n",
    "\n",
    "# anschließend wird der ZF-Wert ausgegeben\n",
    "# dies erfolgt mit dem Befehl println\n",
    "# \"Objective value db: \" ist der Text der vor dem ZF-Wert angezeigt werden soll\n",
    "\n",
    "# Mit dem Befehl round(Int64, können wir Werte auf ganze Zahlen runden\n",
    "# Beachten Sie, dass im Planspiel immer nur ganzzahlige Werte als Antwort erforderlich sind\n",
    "# Nutzen Sie also round(Int64, um sich Werte ausgeben zu lassen\n"
   ]
  },
  {
   "cell_type": "markdown",
   "metadata": {
    "slideshow": {
     "slide_type": "slide"
    }
   },
   "source": [
    "Lassen Sie sich die Produktionsmengen der einzelnen Schränke anzeigen."
   ]
  },
  {
   "cell_type": "code",
   "execution_count": null,
   "metadata": {},
   "outputs": [],
   "source": [
    "JuMP.value.(X)\n",
    "\n",
    "# Werte von Variablen lassen sich durch JuMP.value.( ) ausgeben (Beachten Sie den zweiten Punkt)"
   ]
  },
  {
   "cell_type": "markdown",
   "metadata": {},
   "source": [
    "Stellen Sie den Ressourcenverbrauch im Vergleich zur verfügbaren Kapazität graphisch dar."
   ]
  },
  {
   "cell_type": "code",
   "execution_count": null,
   "metadata": {
    "scrolled": false
   },
   "outputs": [],
   "source": [
    "bardata = (JuMP.value.(X) .* r)'\n",
    "\n",
    "# Mehrdimensionale Werte werden tabellarisch dargestellt\n",
    "# der Punkt vor dem * führt dazu, dass die beiden Vektoren X und r korrekt miteinander multipliziert werden\n",
    "# das Anführungszeichen am Ende vertauscht x- und y-Achse der entstehenden Tabelle"
   ]
  },
  {
   "cell_type": "code",
   "execution_count": null,
   "metadata": {
    "scrolled": false
   },
   "outputs": [],
   "source": [
    "groupedbar(Ressourcen, bardata, bar_position = :stack, label =Produkte,  ylabel = \"Kapazität\", \n",
    "           xlabel =\"Ressourcen\", colour = [:DeepSkyBlue4 :Red3])\n",
    "scatter!(Ressourcen, c, label=\"Kapazität\", marker=(:hline, 68))\n",
    "\n",
    "# Mit den Funktionen von StatsPlots lassen sich anschauliche Grafiken erstellen\n",
    "# Schauen Sie sich die Dokumentation von StatsPlots im Internet an und experimentieren Sie mit Designs"
   ]
  },
  {
   "cell_type": "code",
   "execution_count": null,
   "metadata": {},
   "outputs": [],
   "source": []
  }
 ],
 "metadata": {
  "kernelspec": {
   "display_name": "Julia 1.2.0",
   "language": "julia",
   "name": "julia-1.2"
  },
  "language_info": {
   "file_extension": ".jl",
   "mimetype": "application/julia",
   "name": "julia",
   "version": "1.2.0"
  }
 },
 "nbformat": 4,
 "nbformat_minor": 4
}
