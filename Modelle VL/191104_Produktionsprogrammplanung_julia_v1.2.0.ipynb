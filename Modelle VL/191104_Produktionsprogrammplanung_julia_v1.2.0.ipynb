{
 "cells": [
  {
   "cell_type": "markdown",
   "metadata": {
    "slideshow": {
     "slide_type": "slide"
    }
   },
   "source": [
    "## Einrichtung von Julia JuMP\n",
    "---"
   ]
  },
  {
   "cell_type": "markdown",
   "metadata": {
    "slideshow": {
     "slide_type": "fragment"
    }
   },
   "source": [
    "Überprüfen Sie die bereits installierten Pakete. In der JuliaBox sind möglicherweise alle notwendigen Pakete bereits vorhanden.\n"
   ]
  },
  {
   "cell_type": "code",
   "execution_count": 1,
   "metadata": {
    "scrolled": true,
    "slideshow": {
     "slide_type": "fragment"
    }
   },
   "outputs": [
    {
     "name": "stdout",
     "output_type": "stream",
     "text": [
      "\u001b[32m\u001b[1m    Status\u001b[22m\u001b[39m `~/.julia/environments/v1.2/Project.toml`\n",
      " \u001b[90m [336ed68f]\u001b[39m\u001b[37m CSV v0.5.16\u001b[39m\n",
      " \u001b[90m [a93c6f00]\u001b[39m\u001b[37m DataFrames v0.19.4\u001b[39m\n",
      " \u001b[90m [60bf3e95]\u001b[39m\u001b[37m GLPK v0.11.4\u001b[39m\n",
      " \u001b[90m [3c7084bd]\u001b[39m\u001b[37m GLPKMathProgInterface v0.4.4\u001b[39m\n",
      " \u001b[90m [7073ff75]\u001b[39m\u001b[37m IJulia v1.20.0\u001b[39m\n",
      " \u001b[90m [4076af6c]\u001b[39m\u001b[37m JuMP v0.20.0\u001b[39m\n",
      " \u001b[90m [f3b207a7]\u001b[39m\u001b[37m StatsPlots v0.12.0\u001b[39m\n"
     ]
    }
   ],
   "source": [
    "using Pkg;\n",
    "Pkg.status()"
   ]
  },
  {
   "cell_type": "markdown",
   "metadata": {
    "slideshow": {
     "slide_type": "slide"
    }
   },
   "source": [
    "Installieren Sie ``JuMP`` , mit dem Sie einfach Optimierungsprogramme formulieren können. Sowie ``GLPK`` einen open-source Solver zum Lösen der Problem und ``StatsPlots`` zur Visualisierung der Lösung.\n"
   ]
  },
  {
   "cell_type": "code",
   "execution_count": 2,
   "metadata": {
    "slideshow": {
     "slide_type": "fragment"
    }
   },
   "outputs": [],
   "source": [
    "#Pkg.add(\"JuMP\")\n",
    "#Pkg.add(\"GLPK\");\n",
    "#Pkg.add(\"StatsPlots\");"
   ]
  },
  {
   "cell_type": "markdown",
   "metadata": {
    "slideshow": {
     "slide_type": "slide"
    }
   },
   "source": [
    "Initialisieren Sie die installierten Pakete, damit sie im folgenden Notebook verwendet werden können."
   ]
  },
  {
   "cell_type": "code",
   "execution_count": 3,
   "metadata": {
    "slideshow": {
     "slide_type": "fragment"
    }
   },
   "outputs": [],
   "source": [
    "using JuMP, GLPK, StatsPlots;"
   ]
  },
  {
   "cell_type": "markdown",
   "metadata": {
    "slideshow": {
     "slide_type": "slide"
    }
   },
   "source": [
    "# Produktionsprogrammplanung\n",
    "### Entscheidungsvariablen:\n",
    "Bestimmung der optimalen **Produktionsmengen** der einzelnen Produkte,\n",
    "\n",
    "### Zielfunktion:\n",
    "0) **Deckungsbeitragsmaximierung**: $ \\qquad \\max db = \\displaystyle\\sum_{i=1}^I(e_i - k_i^v)\\cdot X_i $\n",
    "\n"
   ]
  },
  {
   "cell_type": "markdown",
   "metadata": {
    "slideshow": {
     "slide_type": "slide"
    }
   },
   "source": [
    "### Nebenbedingungen:\n",
    "\n",
    "\n",
    "1) **Kapazitätsrestriktion:** $\\hspace{50mm} \\sum_{i=1}^I(r_{ij}\\cdot X_i) \\leq c_j \\hspace{29mm} \\forall j \\in J $\n",
    "\n",
    "2) **Absatzobergrenze:** $ \\hspace{54mm} X_i \\leq d_i \\hspace{49mm} \\forall i \\in I $\n",
    "\n",
    "3) **Nichtnegativitätsbedingung:** $ \\hspace{38mm} X_i \\geq 0 \\hspace{50mm}    \\forall i \\in I $\n",
    "\n",
    "\n",
    "* * * \n"
   ]
  },
  {
   "cell_type": "markdown",
   "metadata": {
    "slideshow": {
     "slide_type": "slide"
    }
   },
   "source": [
    "## Verwendete Symbole"
   ]
  },
  {
   "cell_type": "markdown",
   "metadata": {
    "slideshow": {
     "slide_type": "fragment"
    }
   },
   "source": [
    "### Mengen\n",
    "\n",
    "$i \\in (1,..,I) \\hspace{20mm}$ Produkte\n",
    "\n",
    "$j \\in (1,..,J) \\hspace{20mm}$ Ressourcen\n",
    "\n",
    "\n"
   ]
  },
  {
   "cell_type": "markdown",
   "metadata": {
    "slideshow": {
     "slide_type": "fragment"
    }
   },
   "source": [
    "### Variablen\n",
    "\n",
    "$X_i$     $\\geq0 \\hspace{30mm}$ Produktionsmenge\n",
    "\n",
    "\n",
    "\n"
   ]
  },
  {
   "cell_type": "markdown",
   "metadata": {
    "slideshow": {
     "slide_type": "fragment"
    }
   },
   "source": [
    "### Parameter \n",
    "\n",
    "$e_i \\hspace{39mm}$   Erlös von Produkt i  \n",
    "\n",
    "$k_i^v \\hspace{38mm}$  Variable Kosten bei Herstellung von Produkt i \n",
    "\n",
    "$d_i \\hspace{39mm}$  Absatzobergrenze von Produkt i   \n",
    "\n",
    "$r_{ij} \\hspace{38mm}$  Produktionskoeffizient von Produkt i bezüglich Ressource j  \n",
    "\n",
    "$c_j \\hspace{39mm}$  Kapazität von Ressource j\n",
    "\n",
    "\n",
    "* * *\n"
   ]
  },
  {
   "cell_type": "markdown",
   "metadata": {
    "slideshow": {
     "slide_type": "slide"
    }
   },
   "source": [
    "## Erstellen Sie das Modell namens ``m`` und geben Sie als zu verwendenden Solver GLPK an.\n",
    "---"
   ]
  },
  {
   "cell_type": "code",
   "execution_count": 4,
   "metadata": {
    "slideshow": {
     "slide_type": "fragment"
    }
   },
   "outputs": [],
   "source": [
    "m = Model(with_optimizer(GLPK.Optimizer));\n",
    "\n",
    "# Auf diese Weise wird das Modell m erstellt\n",
    "# In Klammern wird angegeben, dass der Solver GLPK zur Lösung des Modells herangezogen wird"
   ]
  },
  {
   "cell_type": "markdown",
   "metadata": {},
   "source": [
    "### Mengen und Parameter"
   ]
  },
  {
   "cell_type": "markdown",
   "metadata": {
    "slideshow": {
     "slide_type": "fragment"
    }
   },
   "source": [
    "Fügen Sie die Mengen ein."
   ]
  },
  {
   "cell_type": "code",
   "execution_count": 5,
   "metadata": {
    "slideshow": {
     "slide_type": "fragment"
    }
   },
   "outputs": [],
   "source": [
    "#Mengen\n",
    "Produkte =   [\"Normal\", \"Grande\"];\n",
    "Ressourcen = [\"Plattenherstellung\", \"Lackieren\", \"Montage\"];\n",
    "\n",
    "# Mengen werden auf diese Weise erstellt. \n",
    "# Sind die Mengenelemente Worte, werden diese in Anführungszeichen gesetzt\n",
    "\n",
    "#Längen\n",
    "I = length(Produkte);\n",
    "J = length(Ressourcen);\n",
    "\n",
    "# Mit der Funktion length bestimmen wir die Anzahl der Elemente in den jeweiligen Mengen\n",
    "# Diese Information benötigen wir später zur Erstellung von Variablen, Nebenbedingungen etc."
   ]
  },
  {
   "cell_type": "markdown",
   "metadata": {
    "slideshow": {
     "slide_type": "slide"
    }
   },
   "source": [
    "Fügen Sie die Parameter ein."
   ]
  },
  {
   "cell_type": "code",
   "execution_count": 6,
   "metadata": {
    "slideshow": {
     "slide_type": "fragment"
    }
   },
   "outputs": [],
   "source": [
    "e  = [30, 40];          # Erlös von Produkt i\n",
    "kv = [20, 25];          # variable Herstellkosten von Produkt i\n",
    "d  = [100, 100];        # Nachfrage nach Produkt i\n",
    "c =  [2400, 4000, 900]; # Kapazität von Ressource j\n",
    "\n",
    "# Eindimensionale Parameter werden wie oben dargestellt eingegeben\n",
    "\n",
    "      #Plattenherstellung, Lackieren, Montage\n",
    "r  = [       6               20         4        #Normal\n",
    "            20               20         9     ]; #Grande\n",
    "#Produktionskoeffizient von Produkt i bezüglich Ressource j\n",
    "\n",
    "# Zweidimensionle Parameter können als Matrix Dargestellt werden.\n",
    "# Achten Sie darauf, dass die Zahlen der jeweiligen Spalten exakt untereinander stehen."
   ]
  },
  {
   "cell_type": "markdown",
   "metadata": {
    "slideshow": {
     "slide_type": "slide"
    }
   },
   "source": [
    "### Entscheidungsvariable\n",
    "---\n",
    "Definieren Sie die Entscheidungsvariable. Achten Sie auf den Definitionsbereich (Nebenbedingung 3)."
   ]
  },
  {
   "cell_type": "markdown",
   "metadata": {
    "slideshow": {
     "slide_type": "fragment"
    }
   },
   "source": [
    "3) **Nichtnegativitätsbedingung**: Da keine negativen Mengen der Produkte produziert werden können, wird zusätzlich eine Nichtnegativitätsbedingung eingeführt.\n",
    "\n",
    " $ \\qquad X_i \\geq 0 \\qquad \\qquad \\qquad    \\forall i \\in I $"
   ]
  },
  {
   "cell_type": "code",
   "execution_count": 7,
   "metadata": {
    "slideshow": {
     "slide_type": "fragment"
    }
   },
   "outputs": [],
   "source": [
    "@variable(m, X[1:I] >= 0);\n",
    "\n",
    "# mit der Funktion @variable wird eine neue Variable erstellt\n",
    "# (m, gibt an, dass diese Variable dem oben erstellten Modell m zugeordnet ist\n",
    "# Die Variable wird mit X bezeichnet\n",
    "# und hat einen Index (i) der von 1 bis I (also 2) läuft\n",
    "# innerhalb des Definitionsbereiches kann mit >=0 direkt die Nichtnegativitätsbedingung eingegeben werden\n",
    "# [Binärvariablen könnten Alternativ mit der Information \",Bin\" angegeben werden]"
   ]
  },
  {
   "cell_type": "markdown",
   "metadata": {
    "slideshow": {
     "slide_type": "slide"
    }
   },
   "source": [
    "## Zielfunktion\n",
    "\n",
    "0) **Deckungsbeitragsmaximierung**: Der Gesamtdeckungsbeitrag db soll maximiert werden. Dieser berechnet sich aus der Summe der einzelnen Produktdeckungsbeiträge (Produkterlös abzüglich variabler Kosten), multipliziert mit den entsprechenden Produktionsmengen der verschiedenen Güter.\n",
    "\n",
    "$ \\qquad \\max db = \\displaystyle\\sum_{i=1}^I(e_i - k_i^v)\\cdot X_i $ \n",
    "\n",
    " * * *\n",
    " "
   ]
  },
  {
   "cell_type": "code",
   "execution_count": 8,
   "metadata": {
    "slideshow": {
     "slide_type": "fragment"
    }
   },
   "outputs": [],
   "source": [
    "@objective(m, Max,  sum((e[i] - kv[i]) * X[i] for i=1:I));\n",
    "\n",
    "# Die Funktion @objective(m, erstellt eine Zielfunktion für das Modell m\n",
    "# mit sum( wird eine Summe abgebildet\n",
    "# der Bereich über den summiert wird steht hinter dem for\n",
    "# hier wird über alle i (also alle Produkte) von 1 bis I summiert"
   ]
  },
  {
   "cell_type": "markdown",
   "metadata": {
    "slideshow": {
     "slide_type": "slide"
    }
   },
   "source": [
    "## Nebenbedingungen\n"
   ]
  },
  {
   "cell_type": "markdown",
   "metadata": {
    "slideshow": {
     "slide_type": "fragment"
    }
   },
   "source": [
    "1) **Kapazitätsrestriktion**: Eventuell gibt es für die Ressoucen Kapazitätsbeschränkungen für die auf ihnen mögliche Produktionszeit. Die Summe der Gesamtproduktionszeit aller Produkte i= 1,...,I auf den einzelnen Ressourcen j darf dann die jeweils verfügbare Kapazität $ c_j $  nicht überschreiten.\n",
    "\n",
    "$\\qquad \\sum_{i=1}^I(r_{ij}\\cdot X_i) \\leq c_j \\qquad \\forall j \\in J $\n",
    "\n"
   ]
  },
  {
   "cell_type": "code",
   "execution_count": 9,
   "metadata": {
    "slideshow": {
     "slide_type": "fragment"
    }
   },
   "outputs": [],
   "source": [
    "@constraint(m, KapRes[j=1:J], sum(r[i,j] * X[i] for i=1:I) <= c[j] );\n",
    "\n",
    "# Nebenbedingungen werden mit der Funktion @constraint eingegeben\n",
    "# Nebenbedingungen erhalten einen Namen, in diesem Fall KapRes\n",
    "# In eckigen Klammern nach dem Namen wird angegeben für welche Indizes diese Nebenbedingung erstellt werden soll\n",
    "# Hier wird je eine Nebenbedingung für alle j (also Ressourcen) von 1 bis J (also 1-3) erstellt"
   ]
  },
  {
   "cell_type": "markdown",
   "metadata": {
    "slideshow": {
     "slide_type": "fragment"
    }
   },
   "source": [
    "2) **Absatzobergrenze**: Es besteht die Möglichkeit, dass für die Produkte Absatzobergrenzen basierend auf der Nachfrage existieren. Die produzierte Menge der einzelnen Produkte i darf dann diese Absatzobergrenze nicht überschreiten.\n",
    "\n",
    " $ \\qquad X_i \\leq d_i \\qquad \\qquad \\qquad \\forall i \\in I $\n"
   ]
  },
  {
   "cell_type": "code",
   "execution_count": 10,
   "metadata": {
    "slideshow": {
     "slide_type": "fragment"
    }
   },
   "outputs": [],
   "source": [
    "@constraint(m, AbsOb[i=1:I], X[i] <= d[i]);"
   ]
  },
  {
   "cell_type": "markdown",
   "metadata": {
    "slideshow": {
     "slide_type": "slide"
    }
   },
   "source": [
    "## Lösen Sie das Modell.\n",
    "---"
   ]
  },
  {
   "cell_type": "code",
   "execution_count": 11,
   "metadata": {
    "slideshow": {
     "slide_type": "fragment"
    }
   },
   "outputs": [],
   "source": [
    "optimize!(m)\n",
    "\n",
    "# mit dem Befehl optimize! wird das soeben erstellte Modell gelöst"
   ]
  },
  {
   "cell_type": "markdown",
   "metadata": {},
   "source": [
    "Lassen Sie sich das Gesamtmodell anzeigen."
   ]
  },
  {
   "cell_type": "code",
   "execution_count": 12,
   "metadata": {},
   "outputs": [
    {
     "data": {
      "text/latex": [
       "$$ \\begin{alignat*}{1}\\max\\quad & 10 X_{1} + 15 X_{2}\\\\\n",
       "\\text{Subject to} \\quad & 6 X_{1} + 20 X_{2} \\leq 2400.0\\\\\n",
       " & 20 X_{1} + 20 X_{2} \\leq 4000.0\\\\\n",
       " & 4 X_{1} + 9 X_{2} \\leq 900.0\\\\\n",
       " & X_{1} \\leq 100.0\\\\\n",
       " & X_{2} \\leq 100.0\\\\\n",
       " & X_{1} \\geq 0.0\\\\\n",
       " & X_{2} \\geq 0.0\\\\\n",
       "\\end{alignat*}\n",
       " $$"
      ],
      "text/plain": [
       "A JuMP Model\n",
       "Maximization problem with:\n",
       "Variables: 2\n",
       "Objective function type: GenericAffExpr{Float64,VariableRef}\n",
       "`GenericAffExpr{Float64,VariableRef}`-in-`MathOptInterface.LessThan{Float64}`: 5 constraints\n",
       "`VariableRef`-in-`MathOptInterface.GreaterThan{Float64}`: 2 constraints\n",
       "Model mode: AUTOMATIC\n",
       "CachingOptimizer state: ATTACHED_OPTIMIZER\n",
       "Solver name: GLPK\n",
       "Names registered in the model: AbsOb, KapRes, X"
      ]
     },
     "execution_count": 12,
     "metadata": {},
     "output_type": "execute_result"
    }
   ],
   "source": [
    "m\n",
    "\n",
    "# führen Sie ausschließlich m aus wird, können Sie sich das mathematische Modell komplett anzeigen lassen"
   ]
  },
  {
   "cell_type": "markdown",
   "metadata": {
    "slideshow": {
     "slide_type": "fragment"
    }
   },
   "source": [
    "Lassen Sie sich den Zielfunktionswert anzeigen.\n"
   ]
  },
  {
   "cell_type": "code",
   "execution_count": 13,
   "metadata": {
    "slideshow": {
     "slide_type": "fragment"
    }
   },
   "outputs": [
    {
     "name": "stdout",
     "output_type": "stream",
     "text": [
      "Objective value db: 1833\n"
     ]
    }
   ],
   "source": [
    "db = JuMP.objective_value(m)\n",
    "\n",
    "# mit dem Befehl JuMP.objective_value(m) lassen Sie sich den Zielfunktionswert des gelösten Modells ausgeben\n",
    "# hier wird der Zielfunktionswert zunächst dem Parameter db zugewiesen\n",
    "\n",
    "println(\"Objective value db: \", round(Int64,db))\n",
    "\n",
    "# anschließend wird der ZF-Wert ausgegeben\n",
    "# dies erfolgt mit dem Befehl println\n",
    "# \"Objective value db: \" ist der Text der vor dem ZF-Wert angezeigt werden soll\n",
    "\n",
    "# Mit dem Befehl round(Int64, können wir Werte auf ganze Zahlen runden\n",
    "# Beachten Sie, dass im Planspiel immer nur ganzzahlige Werte als Antwort erforderlich sind\n",
    "# Nutzen Sie also round(Int64, um sich Werte ausgeben zu lassen\n"
   ]
  },
  {
   "cell_type": "markdown",
   "metadata": {
    "slideshow": {
     "slide_type": "slide"
    }
   },
   "source": [
    "Lassen Sie sich die Produktionsmengen der einzelnen Schränke anzeigen."
   ]
  },
  {
   "cell_type": "code",
   "execution_count": 14,
   "metadata": {},
   "outputs": [
    {
     "data": {
      "text/plain": [
       "2-element Array{Float64,1}:\n",
       " 100.0             \n",
       "  55.55555555555556"
      ]
     },
     "execution_count": 14,
     "metadata": {},
     "output_type": "execute_result"
    }
   ],
   "source": [
    "JuMP.value.(X)\n",
    "\n",
    "# Werte von Variablen lassen sich durch JuMP.value.( ) ausgeben (Beachten Sie den zweiten Punkt)"
   ]
  },
  {
   "cell_type": "markdown",
   "metadata": {},
   "source": [
    "Stellen Sie den Ressourcenverbrauch im Vergleich zur verfügbaren Kapazität graphisch dar."
   ]
  },
  {
   "cell_type": "code",
   "execution_count": 15,
   "metadata": {
    "scrolled": false
   },
   "outputs": [
    {
     "data": {
      "text/plain": [
       "3×2 LinearAlgebra.Adjoint{Float64,Array{Float64,2}}:\n",
       "  600.0  1111.11\n",
       " 2000.0  1111.11\n",
       "  400.0   500.0 "
      ]
     },
     "execution_count": 15,
     "metadata": {},
     "output_type": "execute_result"
    }
   ],
   "source": [
    "bardata = (JuMP.value.(X) .* r)'\n",
    "\n",
    "# Mit Hilfe von bardata können sie werte auch tabellarisch darstellen\n",
    "# der Punkt vor dem * führt dazu, dass die beiden Vektoren X und r korrekt miteinander multipliziert werden\n",
    "# das Anführungszeichen am Ende vertauscht x- und y-Achse der entstehenden Tabelle"
   ]
  },
  {
   "cell_type": "code",
   "execution_count": 16,
   "metadata": {
    "scrolled": false
   },
   "outputs": [
    {
     "data": {
      "image/svg+xml": [
       "<?xml version=\"1.0\" encoding=\"utf-8\"?>\n",
       "<svg xmlns=\"http://www.w3.org/2000/svg\" xmlns:xlink=\"http://www.w3.org/1999/xlink\" width=\"600\" height=\"400\" viewBox=\"0 0 2400 1600\">\n",
       "<defs>\n",
       "  <clipPath id=\"clip9400\">\n",
       "    <rect x=\"0\" y=\"0\" width=\"2400\" height=\"1600\"/>\n",
       "  </clipPath>\n",
       "</defs>\n",
       "<path clip-path=\"url(#clip9400)\" d=\"\n",
       "M0 1600 L2400 1600 L2400 0 L0 0  Z\n",
       "  \" fill=\"#ffffff\" fill-rule=\"evenodd\" fill-opacity=\"1\"/>\n",
       "<defs>\n",
       "  <clipPath id=\"clip9401\">\n",
       "    <rect x=\"480\" y=\"0\" width=\"1681\" height=\"1600\"/>\n",
       "  </clipPath>\n",
       "</defs>\n",
       "<path clip-path=\"url(#clip9400)\" d=\"\n",
       "M255.898 1425.62 L2352.76 1425.62 L2352.76 47.2441 L255.898 47.2441  Z\n",
       "  \" fill=\"#ffffff\" fill-rule=\"evenodd\" fill-opacity=\"1\"/>\n",
       "<defs>\n",
       "  <clipPath id=\"clip9402\">\n",
       "    <rect x=\"255\" y=\"47\" width=\"2098\" height=\"1379\"/>\n",
       "  </clipPath>\n",
       "</defs>\n",
       "<polyline clip-path=\"url(#clip9402)\" style=\"stroke:#000000; stroke-width:2; stroke-opacity:0.1; fill:none\" points=\"\n",
       "  637.828,1425.62 637.828,47.2441 \n",
       "  \"/>\n",
       "<polyline clip-path=\"url(#clip9402)\" style=\"stroke:#000000; stroke-width:2; stroke-opacity:0.1; fill:none\" points=\"\n",
       "  1304.33,1425.62 1304.33,47.2441 \n",
       "  \"/>\n",
       "<polyline clip-path=\"url(#clip9402)\" style=\"stroke:#000000; stroke-width:2; stroke-opacity:0.1; fill:none\" points=\"\n",
       "  1970.83,1425.62 1970.83,47.2441 \n",
       "  \"/>\n",
       "<polyline clip-path=\"url(#clip9402)\" style=\"stroke:#000000; stroke-width:2; stroke-opacity:0.1; fill:none\" points=\"\n",
       "  255.898,1386.61 2352.76,1386.61 \n",
       "  \"/>\n",
       "<polyline clip-path=\"url(#clip9402)\" style=\"stroke:#000000; stroke-width:2; stroke-opacity:0.1; fill:none\" points=\"\n",
       "  255.898,1061.52 2352.76,1061.52 \n",
       "  \"/>\n",
       "<polyline clip-path=\"url(#clip9402)\" style=\"stroke:#000000; stroke-width:2; stroke-opacity:0.1; fill:none\" points=\"\n",
       "  255.898,736.431 2352.76,736.431 \n",
       "  \"/>\n",
       "<polyline clip-path=\"url(#clip9402)\" style=\"stroke:#000000; stroke-width:2; stroke-opacity:0.1; fill:none\" points=\"\n",
       "  255.898,411.343 2352.76,411.343 \n",
       "  \"/>\n",
       "<polyline clip-path=\"url(#clip9402)\" style=\"stroke:#000000; stroke-width:2; stroke-opacity:0.1; fill:none\" points=\"\n",
       "  255.898,86.2547 2352.76,86.2547 \n",
       "  \"/>\n",
       "<polyline clip-path=\"url(#clip9400)\" style=\"stroke:#000000; stroke-width:4; stroke-opacity:1; fill:none\" points=\"\n",
       "  255.898,1425.62 2352.76,1425.62 \n",
       "  \"/>\n",
       "<polyline clip-path=\"url(#clip9400)\" style=\"stroke:#000000; stroke-width:4; stroke-opacity:1; fill:none\" points=\"\n",
       "  255.898,1425.62 255.898,47.2441 \n",
       "  \"/>\n",
       "<polyline clip-path=\"url(#clip9400)\" style=\"stroke:#000000; stroke-width:4; stroke-opacity:1; fill:none\" points=\"\n",
       "  637.828,1425.62 637.828,1409.08 \n",
       "  \"/>\n",
       "<polyline clip-path=\"url(#clip9400)\" style=\"stroke:#000000; stroke-width:4; stroke-opacity:1; fill:none\" points=\"\n",
       "  1304.33,1425.62 1304.33,1409.08 \n",
       "  \"/>\n",
       "<polyline clip-path=\"url(#clip9400)\" style=\"stroke:#000000; stroke-width:4; stroke-opacity:1; fill:none\" points=\"\n",
       "  1970.83,1425.62 1970.83,1409.08 \n",
       "  \"/>\n",
       "<polyline clip-path=\"url(#clip9400)\" style=\"stroke:#000000; stroke-width:4; stroke-opacity:1; fill:none\" points=\"\n",
       "  255.898,1386.61 281.06,1386.61 \n",
       "  \"/>\n",
       "<polyline clip-path=\"url(#clip9400)\" style=\"stroke:#000000; stroke-width:4; stroke-opacity:1; fill:none\" points=\"\n",
       "  255.898,1061.52 281.06,1061.52 \n",
       "  \"/>\n",
       "<polyline clip-path=\"url(#clip9400)\" style=\"stroke:#000000; stroke-width:4; stroke-opacity:1; fill:none\" points=\"\n",
       "  255.898,736.431 281.06,736.431 \n",
       "  \"/>\n",
       "<polyline clip-path=\"url(#clip9400)\" style=\"stroke:#000000; stroke-width:4; stroke-opacity:1; fill:none\" points=\"\n",
       "  255.898,411.343 281.06,411.343 \n",
       "  \"/>\n",
       "<polyline clip-path=\"url(#clip9400)\" style=\"stroke:#000000; stroke-width:4; stroke-opacity:1; fill:none\" points=\"\n",
       "  255.898,86.2547 281.06,86.2547 \n",
       "  \"/>\n",
       "<g clip-path=\"url(#clip9400)\">\n",
       "<text style=\"fill:#000000; fill-opacity:1; font-family:Arial,Helvetica Neue,Helvetica,sans-serif; font-size:48px; text-anchor:middle;\" transform=\"rotate(0, 637.828, 1479.62)\" x=\"637.828\" y=\"1479.62\">Plattenherstellung</text>\n",
       "</g>\n",
       "<g clip-path=\"url(#clip9400)\">\n",
       "<text style=\"fill:#000000; fill-opacity:1; font-family:Arial,Helvetica Neue,Helvetica,sans-serif; font-size:48px; text-anchor:middle;\" transform=\"rotate(0, 1304.33, 1479.62)\" x=\"1304.33\" y=\"1479.62\">Lackieren</text>\n",
       "</g>\n",
       "<g clip-path=\"url(#clip9400)\">\n",
       "<text style=\"fill:#000000; fill-opacity:1; font-family:Arial,Helvetica Neue,Helvetica,sans-serif; font-size:48px; text-anchor:middle;\" transform=\"rotate(0, 1970.83, 1479.62)\" x=\"1970.83\" y=\"1479.62\">Montage</text>\n",
       "</g>\n",
       "<g clip-path=\"url(#clip9400)\">\n",
       "<text style=\"fill:#000000; fill-opacity:1; font-family:Arial,Helvetica Neue,Helvetica,sans-serif; font-size:48px; text-anchor:end;\" transform=\"rotate(0, 231.898, 1404.11)\" x=\"231.898\" y=\"1404.11\">0</text>\n",
       "</g>\n",
       "<g clip-path=\"url(#clip9400)\">\n",
       "<text style=\"fill:#000000; fill-opacity:1; font-family:Arial,Helvetica Neue,Helvetica,sans-serif; font-size:48px; text-anchor:end;\" transform=\"rotate(0, 231.898, 1079.02)\" x=\"231.898\" y=\"1079.02\">1000</text>\n",
       "</g>\n",
       "<g clip-path=\"url(#clip9400)\">\n",
       "<text style=\"fill:#000000; fill-opacity:1; font-family:Arial,Helvetica Neue,Helvetica,sans-serif; font-size:48px; text-anchor:end;\" transform=\"rotate(0, 231.898, 753.931)\" x=\"231.898\" y=\"753.931\">2000</text>\n",
       "</g>\n",
       "<g clip-path=\"url(#clip9400)\">\n",
       "<text style=\"fill:#000000; fill-opacity:1; font-family:Arial,Helvetica Neue,Helvetica,sans-serif; font-size:48px; text-anchor:end;\" transform=\"rotate(0, 231.898, 428.843)\" x=\"231.898\" y=\"428.843\">3000</text>\n",
       "</g>\n",
       "<g clip-path=\"url(#clip9400)\">\n",
       "<text style=\"fill:#000000; fill-opacity:1; font-family:Arial,Helvetica Neue,Helvetica,sans-serif; font-size:48px; text-anchor:end;\" transform=\"rotate(0, 231.898, 103.755)\" x=\"231.898\" y=\"103.755\">4000</text>\n",
       "</g>\n",
       "<g clip-path=\"url(#clip9400)\">\n",
       "<text style=\"fill:#000000; fill-opacity:1; font-family:Arial,Helvetica Neue,Helvetica,sans-serif; font-size:66px; text-anchor:middle;\" transform=\"rotate(0, 1304.33, 1559.48)\" x=\"1304.33\" y=\"1559.48\">Ressourcen</text>\n",
       "</g>\n",
       "<g clip-path=\"url(#clip9400)\">\n",
       "<text style=\"fill:#000000; fill-opacity:1; font-family:Arial,Helvetica Neue,Helvetica,sans-serif; font-size:66px; text-anchor:middle;\" transform=\"rotate(-90, 89.2861, 736.431)\" x=\"89.2861\" y=\"736.431\">Kapazität</text>\n",
       "</g>\n",
       "<path clip-path=\"url(#clip9402)\" d=\"\n",
       "M371.229 1191.56 L371.229 1386.61 L904.428 1386.61 L904.428 1191.56 L371.229 1191.56 L371.229 1191.56  Z\n",
       "  \" fill=\"#00688b\" fill-rule=\"evenodd\" fill-opacity=\"1\"/>\n",
       "<polyline clip-path=\"url(#clip9402)\" style=\"stroke:#000000; stroke-width:4; stroke-opacity:1; fill:none\" points=\"\n",
       "  371.229,1191.56 371.229,1386.61 904.428,1386.61 904.428,1191.56 371.229,1191.56 \n",
       "  \"/>\n",
       "<path clip-path=\"url(#clip9402)\" d=\"\n",
       "M1037.73 736.431 L1037.73 1386.61 L1570.93 1386.61 L1570.93 736.431 L1037.73 736.431 L1037.73 736.431  Z\n",
       "  \" fill=\"#00688b\" fill-rule=\"evenodd\" fill-opacity=\"1\"/>\n",
       "<polyline clip-path=\"url(#clip9402)\" style=\"stroke:#000000; stroke-width:4; stroke-opacity:1; fill:none\" points=\"\n",
       "  1037.73,736.431 1037.73,1386.61 1570.93,1386.61 1570.93,736.431 1037.73,736.431 \n",
       "  \"/>\n",
       "<path clip-path=\"url(#clip9402)\" d=\"\n",
       "M1704.23 1256.57 L1704.23 1386.61 L2237.42 1386.61 L2237.42 1256.57 L1704.23 1256.57 L1704.23 1256.57  Z\n",
       "  \" fill=\"#00688b\" fill-rule=\"evenodd\" fill-opacity=\"1\"/>\n",
       "<polyline clip-path=\"url(#clip9402)\" style=\"stroke:#000000; stroke-width:4; stroke-opacity:1; fill:none\" points=\"\n",
       "  1704.23,1256.57 1704.23,1386.61 2237.42,1386.61 2237.42,1256.57 1704.23,1256.57 \n",
       "  \"/>\n",
       "<path clip-path=\"url(#clip9402)\" d=\"\n",
       "M371.229 830.346 L371.229 1191.56 L904.428 1191.56 L904.428 830.346 L371.229 830.346 L371.229 830.346  Z\n",
       "  \" fill=\"#cd0000\" fill-rule=\"evenodd\" fill-opacity=\"1\"/>\n",
       "<polyline clip-path=\"url(#clip9402)\" style=\"stroke:#000000; stroke-width:4; stroke-opacity:1; fill:none\" points=\"\n",
       "  371.229,830.346 371.229,1191.56 904.428,1191.56 904.428,830.346 371.229,830.346 \n",
       "  \"/>\n",
       "<path clip-path=\"url(#clip9402)\" d=\"\n",
       "M1037.73 375.222 L1037.73 736.431 L1570.93 736.431 L1570.93 375.222 L1037.73 375.222 L1037.73 375.222  Z\n",
       "  \" fill=\"#cd0000\" fill-rule=\"evenodd\" fill-opacity=\"1\"/>\n",
       "<polyline clip-path=\"url(#clip9402)\" style=\"stroke:#000000; stroke-width:4; stroke-opacity:1; fill:none\" points=\"\n",
       "  1037.73,375.222 1037.73,736.431 1570.93,736.431 1570.93,375.222 1037.73,375.222 \n",
       "  \"/>\n",
       "<path clip-path=\"url(#clip9402)\" d=\"\n",
       "M1704.23 1094.03 L1704.23 1256.57 L2237.42 1256.57 L2237.42 1094.03 L1704.23 1094.03 L1704.23 1094.03  Z\n",
       "  \" fill=\"#cd0000\" fill-rule=\"evenodd\" fill-opacity=\"1\"/>\n",
       "<polyline clip-path=\"url(#clip9402)\" style=\"stroke:#000000; stroke-width:4; stroke-opacity:1; fill:none\" points=\"\n",
       "  1704.23,1094.03 1704.23,1256.57 2237.42,1256.57 2237.42,1094.03 1704.23,1094.03 \n",
       "  \"/>\n",
       "<line clip-path=\"url(#clip9402)\" x1=\"913.828\" y1=\"606.396\" x2=\"361.828\" y2=\"606.396\" style=\"stroke:#000000; stroke-width:4; stroke-opacity:1\"/>\n",
       "<line clip-path=\"url(#clip9402)\" x1=\"1580.33\" y1=\"86.2547\" x2=\"1028.33\" y2=\"86.2547\" style=\"stroke:#000000; stroke-width:4; stroke-opacity:1\"/>\n",
       "<line clip-path=\"url(#clip9402)\" x1=\"2246.83\" y1=\"1094.03\" x2=\"1694.83\" y2=\"1094.03\" style=\"stroke:#000000; stroke-width:4; stroke-opacity:1\"/>\n",
       "<path clip-path=\"url(#clip9400)\" d=\"\n",
       "M1603.27 372.684 L2280.76 372.684 L2280.76 130.764 L1603.27 130.764  Z\n",
       "  \" fill=\"#ffffff\" fill-rule=\"evenodd\" fill-opacity=\"1\"/>\n",
       "<polyline clip-path=\"url(#clip9400)\" style=\"stroke:#000000; stroke-width:4; stroke-opacity:1; fill:none\" points=\"\n",
       "  1603.27,372.684 2280.76,372.684 2280.76,130.764 1603.27,130.764 1603.27,372.684 \n",
       "  \"/>\n",
       "<path clip-path=\"url(#clip9400)\" d=\"\n",
       "M1627.27 215.436 L1771.27 215.436 L1771.27 167.052 L1627.27 167.052 L1627.27 215.436  Z\n",
       "  \" fill=\"#00688b\" fill-rule=\"evenodd\" fill-opacity=\"1\"/>\n",
       "<polyline clip-path=\"url(#clip9400)\" style=\"stroke:#000000; stroke-width:4; stroke-opacity:1; fill:none\" points=\"\n",
       "  1627.27,215.436 1771.27,215.436 1771.27,167.052 1627.27,167.052 1627.27,215.436 \n",
       "  \"/>\n",
       "<g clip-path=\"url(#clip9400)\">\n",
       "<text style=\"fill:#000000; fill-opacity:1; font-family:Arial,Helvetica Neue,Helvetica,sans-serif; font-size:48px; text-anchor:start;\" transform=\"rotate(0, 1795.27, 208.744)\" x=\"1795.27\" y=\"208.744\">[&quot;Normal&quot;, &quot;Grande&quot;]</text>\n",
       "</g>\n",
       "<path clip-path=\"url(#clip9400)\" d=\"\n",
       "M1627.27 275.916 L1771.27 275.916 L1771.27 227.532 L1627.27 227.532 L1627.27 275.916  Z\n",
       "  \" fill=\"#cd0000\" fill-rule=\"evenodd\" fill-opacity=\"1\"/>\n",
       "<polyline clip-path=\"url(#clip9400)\" style=\"stroke:#000000; stroke-width:4; stroke-opacity:1; fill:none\" points=\"\n",
       "  1627.27,275.916 1771.27,275.916 1771.27,227.532 1627.27,227.532 1627.27,275.916 \n",
       "  \"/>\n",
       "<g clip-path=\"url(#clip9400)\">\n",
       "<text style=\"fill:#000000; fill-opacity:1; font-family:Arial,Helvetica Neue,Helvetica,sans-serif; font-size:48px; text-anchor:start;\" transform=\"rotate(0, 1795.27, 269.224)\" x=\"1795.27\" y=\"269.224\">[&quot;Normal&quot;, &quot;Grande&quot;]</text>\n",
       "</g>\n",
       "<line clip-path=\"url(#clip9400)\" x1=\"1739.27\" y1=\"312.204\" x2=\"1683.27\" y2=\"312.204\" style=\"stroke:#000000; stroke-width:4; stroke-opacity:1\"/>\n",
       "<g clip-path=\"url(#clip9400)\">\n",
       "<text style=\"fill:#000000; fill-opacity:1; font-family:Arial,Helvetica Neue,Helvetica,sans-serif; font-size:48px; text-anchor:start;\" transform=\"rotate(0, 1795.27, 329.704)\" x=\"1795.27\" y=\"329.704\">Kapazität</text>\n",
       "</g>\n",
       "</svg>\n"
      ]
     },
     "execution_count": 16,
     "metadata": {},
     "output_type": "execute_result"
    }
   ],
   "source": [
    "groupedbar(Ressourcen, bardata, bar_position = :stack, label =Produkte,  ylabel = \"Kapazität\", \n",
    "           xlabel =\"Ressourcen\", colour = [:DeepSkyBlue4 :Red3])\n",
    "scatter!(Ressourcen, c, label=\"Kapazität\", marker=(:hline, 68))\n",
    "\n",
    "# Mit den Funktionen von StatsPlots lassen sich anschauliche Grafiken erstellen\n",
    "# Schauen Sie sich die Dokumentation von StatsPlots im Internet an und experimentieren Sie mit Designs"
   ]
  },
  {
   "cell_type": "code",
   "execution_count": null,
   "metadata": {},
   "outputs": [],
   "source": []
  }
 ],
 "metadata": {
  "kernelspec": {
   "display_name": "Julia 1.2.0",
   "language": "julia",
   "name": "julia-1.2"
  },
  "language_info": {
   "file_extension": ".jl",
   "mimetype": "application/julia",
   "name": "julia",
   "version": "1.2.0"
  }
 },
 "nbformat": 4,
 "nbformat_minor": 4
}
